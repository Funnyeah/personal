{
 "cells": [
  {
   "attachments": {},
   "cell_type": "markdown",
   "id": "61f64ff6",
   "metadata": {
    "toc": true
   },
   "source": [
    "<h1>Table of Contents<span class=\"tocSkip\"></span></h1>\n",
    "<div class=\"toc\"><ul class=\"toc-item\"><li><span><a href=\"#导入依赖\" data-toc-modified-id=\"导入依赖-1\"><span class=\"toc-item-num\">1&nbsp;&nbsp;</span>导入依赖</a></span></li><li><span><a href=\"#数据加工\" data-toc-modified-id=\"数据加工-2\"><span class=\"toc-item-num\">2&nbsp;&nbsp;</span>数据加工</a></span><ul class=\"toc-item\"><li><span><a href=\"#加载\" data-toc-modified-id=\"加载-2.1\"><span class=\"toc-item-num\">2.1&nbsp;&nbsp;</span>加载</a></span></li><li><span><a href=\"#缺失值处理\" data-toc-modified-id=\"缺失值处理-2.2\"><span class=\"toc-item-num\">2.2&nbsp;&nbsp;</span>缺失值处理</a></span></li><li><span><a href=\"#类别特征\" data-toc-modified-id=\"类别特征-2.3\"><span class=\"toc-item-num\">2.3&nbsp;&nbsp;</span>类别特征</a></span></li><li><span><a href=\"#过采样\" data-toc-modified-id=\"过采样-2.4\"><span class=\"toc-item-num\">2.4&nbsp;&nbsp;</span>过采样</a></span></li><li><span><a href=\"#采样后样本\" data-toc-modified-id=\"采样后样本-2.5\"><span class=\"toc-item-num\">2.5&nbsp;&nbsp;</span>采样后样本</a></span></li><li><span><a href=\"#需分段连续/数值特征处理\" data-toc-modified-id=\"需分段连续/数值特征处理-2.6\"><span class=\"toc-item-num\">2.6&nbsp;&nbsp;</span>需分段连续/数值特征处理</a></span></li><li><span><a href=\"#用户和商品（稀疏）类别特征编码\" data-toc-modified-id=\"用户和商品（稀疏）类别特征编码-2.7\"><span class=\"toc-item-num\">2.7&nbsp;&nbsp;</span>用户和商品（稀疏）类别特征编码</a></span></li><li><span><a href=\"#类别特征embedding准备\" data-toc-modified-id=\"类别特征embedding准备-2.8\"><span class=\"toc-item-num\">2.8&nbsp;&nbsp;</span>类别特征embedding准备</a></span></li></ul></li><li><span><a href=\"#训练和评估样本\" data-toc-modified-id=\"训练和评估样本-3\"><span class=\"toc-item-num\">3&nbsp;&nbsp;</span>训练和评估样本</a></span></li><li><span><a href=\"#模型训练\" data-toc-modified-id=\"模型训练-4\"><span class=\"toc-item-num\">4&nbsp;&nbsp;</span>模型训练</a></span></li><li><span><a href=\"#模型加载\" data-toc-modified-id=\"模型加载-5\"><span class=\"toc-item-num\">5&nbsp;&nbsp;</span>模型加载</a></span></li><li><span><a href=\"#模型预测\" data-toc-modified-id=\"模型预测-6\"><span class=\"toc-item-num\">6&nbsp;&nbsp;</span>模型预测</a></span><ul class=\"toc-item\"><li><span><a href=\"#商品库（去重）\" data-toc-modified-id=\"商品库（去重）-6.1\"><span class=\"toc-item-num\">6.1&nbsp;&nbsp;</span>商品库（去重）</a></span></li><li><span><a href=\"#商品库样本\" data-toc-modified-id=\"商品库样本-6.2\"><span class=\"toc-item-num\">6.2&nbsp;&nbsp;</span>商品库样本</a></span></li><li><span><a href=\"#用户评估样本和商品库样本-模型结果预测\" data-toc-modified-id=\"用户评估样本和商品库样本-模型结果预测-6.3\"><span class=\"toc-item-num\">6.3&nbsp;&nbsp;</span>用户评估样本和商品库样本 模型结果预测</a></span></li><li><span><a href=\"#相似向量检索\" data-toc-modified-id=\"相似向量检索-6.4\"><span class=\"toc-item-num\">6.4&nbsp;&nbsp;</span>相似向量检索</a></span><ul class=\"toc-item\"><li><span><a href=\"#L2距离（欧式）\" data-toc-modified-id=\"L2距离（欧式）-6.4.1\"><span class=\"toc-item-num\">6.4.1&nbsp;&nbsp;</span>L2距离（欧式）</a></span></li><li><span><a href=\"#cos距离\" data-toc-modified-id=\"cos距离-6.4.2\"><span class=\"toc-item-num\">6.4.2&nbsp;&nbsp;</span>cos距离</a></span></li></ul></li></ul></li><li><span><a href=\"#评估\" data-toc-modified-id=\"评估-7\"><span class=\"toc-item-num\">7&nbsp;&nbsp;</span>评估</a></span><ul class=\"toc-item\"><li><span><a href=\"#评估实际购买过商品用户\" data-toc-modified-id=\"评估实际购买过商品用户-7.1\"><span class=\"toc-item-num\">7.1&nbsp;&nbsp;</span>评估实际购买过商品用户</a></span></li><li><span><a href=\"#用户实际购买商品\" data-toc-modified-id=\"用户实际购买商品-7.2\"><span class=\"toc-item-num\">7.2&nbsp;&nbsp;</span>用户实际购买商品</a></span></li></ul></li><li><span><a href=\"#存在的问题/可改进的地方\" data-toc-modified-id=\"存在的问题/可改进的地方-8\"><span class=\"toc-item-num\">8&nbsp;&nbsp;</span>存在的问题/可改进的地方</a></span></li><li><span><a href=\"#参考\" data-toc-modified-id=\"参考-9\"><span class=\"toc-item-num\">9&nbsp;&nbsp;</span>参考</a></span></li></ul></div>"
   ]
  },
  {
   "attachments": {},
   "cell_type": "markdown",
   "id": "b65b3c7d",
   "metadata": {},
   "source": [
    "### 导入依赖"
   ]
  },
  {
   "cell_type": "code",
   "execution_count": 1,
   "id": "04e4056f",
   "metadata": {
    "ExecuteTime": {
     "end_time": "2023-07-13T06:45:16.726113Z",
     "start_time": "2023-07-13T06:45:11.323204Z"
    }
   },
   "outputs": [],
   "source": [
    "import pandas as pd\n",
    "import numpy as np\n",
    "from sklearn.model_selection import train_test_split\n",
    "from sklearn.preprocessing import LabelEncoder\n",
    "from tqdm import tqdm\n",
    "from collections import defaultdict\n",
    "from tensorflow.keras.preprocessing.sequence import pad_sequences\n",
    "\n",
    "import os\n",
    "import sys\n",
    "# sys.path.append('/Users/lxh/Desktop/recommend-tf2.0/src')\n",
    "import numpy as np\n",
    "import faiss\n",
    "import tensorflow as tf\n",
    "import tensorflow.keras as keras\n",
    "from tensorflow.keras.optimizers import Adam\n",
    "from tensorflow.keras.models import Model\n",
    "from model import Dssm, DNN"
   ]
  },
  {
   "attachments": {},
   "cell_type": "markdown",
   "id": "8e0d1f11",
   "metadata": {},
   "source": [
    "### 数据加工"
   ]
  },
  {
   "attachments": {},
   "cell_type": "markdown",
   "id": "1ec8a7be",
   "metadata": {},
   "source": [
    "#### 加载 "
   ]
  },
  {
   "cell_type": "code",
   "execution_count": 2,
   "id": "4bdf500c",
   "metadata": {
    "ExecuteTime": {
     "end_time": "2023-07-13T06:47:25.982556Z",
     "start_time": "2023-07-13T06:47:15.046770Z"
    }
   },
   "outputs": [
    {
     "data": {
      "text/plain": [
       "(2387524, 64)"
      ]
     },
     "execution_count": 2,
     "metadata": {},
     "output_type": "execute_result"
    }
   ],
   "source": [
    "df = pd.read_csv('recall_sample2.csv')\n",
    "df.shape"
   ]
  },
  {
   "attachments": {},
   "cell_type": "markdown",
   "id": "4798626c",
   "metadata": {},
   "source": [
    "#### 缺失值处理"
   ]
  },
  {
   "cell_type": "code",
   "execution_count": 3,
   "id": "a9206e26",
   "metadata": {
    "ExecuteTime": {
     "end_time": "2023-07-13T06:49:05.512507Z",
     "start_time": "2023-07-13T06:49:04.137789Z"
    }
   },
   "outputs": [],
   "source": [
    "null_feture_col = {'last_total_ride_card_times':0,'last_ride_card_vaild_days':0,'last_original_price':0,'last_pay_amt':0,\n",
    "    'last_coupon_product_id':0,'last_coupon_product_name':'0','card_7d':0,'card_30d':0,'card_60d':0,\n",
    "    'mean_total_ride_card_times_30d':0.,'mean_ride_card_vaild_days_30d':0.,'mean_original_price_60d':0.,\n",
    "    'mean_pay_amt_60d':0.,'max_original_price_60d':0,'max_pay_amt_60d':0,'product_id':0,'product_name':'0',\n",
    "    'original_price':0,'during_days':0,'discount_times_day':0,'discount_all':0,'discount_amount':0,\n",
    "    'discount_rule':0}\n",
    "df = df.fillna(null_feture_col)"
   ]
  },
  {
   "attachments": {},
   "cell_type": "markdown",
   "id": "e213a208",
   "metadata": {},
   "source": [
    "#### 类别特征"
   ]
  },
  {
   "cell_type": "code",
   "execution_count": 4,
   "id": "1eb8121d",
   "metadata": {
    "ExecuteTime": {
     "end_time": "2023-07-13T06:53:31.352787Z",
     "start_time": "2023-07-13T06:53:31.349746Z"
    }
   },
   "outputs": [],
   "source": [
    "# 无需处理的用户类别特征\n",
    "user_noneed_X_cols = ['gender','city_id','register_y','register_m','register_d','register_dw','is_idcard',\n",
    "                'client_type','sys_ver','is_open_wepay_score','last_total_ride_card_times','last_ride_card_vaild_days',\n",
    "               'card_7d','card_30d','card_60d','order_days_7d','order_days_30d']\n",
    "# 无需处理的商品类别特征\n",
    "item_noneed_X_cols = ['during_days','discount_times_day','discount_all','discount_amount','discount_rule']\n",
    "\n",
    "# 需分段的数值特征\n",
    "user_need_X_cols = ['age','register_days','active_count_7d','active_count_30d','active_count_180d',\n",
    "               'order_count_7d','order_count_30d','order_count_t']"
   ]
  },
  {
   "attachments": {},
   "cell_type": "markdown",
   "id": "ba07afc2",
   "metadata": {},
   "source": [
    "#### 过采样"
   ]
  },
  {
   "cell_type": "code",
   "execution_count": 6,
   "id": "533d1cd3",
   "metadata": {
    "ExecuteTime": {
     "end_time": "2023-07-13T06:53:45.021442Z",
     "start_time": "2023-07-13T06:53:44.802951Z"
    },
    "scrolled": true
   },
   "outputs": [
    {
     "data": {
      "text/plain": [
       "td_is_buy_ride_card  discount_all\n",
       "0                    2               70779\n",
       "                     3               72248\n",
       "                     4               70504\n",
       "                     5               71813\n",
       "                     6               76017\n",
       "                     7               72007\n",
       "                     8               73065\n",
       "                     9               72340\n",
       "                     10              71850\n",
       "                     12              78078\n",
       "                     14              74776\n",
       "                     15              70612\n",
       "                     16              78753\n",
       "                     18              58255\n",
       "                     20              71929\n",
       "                     24              82773\n",
       "                     25              39887\n",
       "                     28              67164\n",
       "                     30              71974\n",
       "                     35              48247\n",
       "                     40              86667\n",
       "                     45              71704\n",
       "                     50              66908\n",
       "                     60              71049\n",
       "                     75              14767\n",
       "                     80               6891\n",
       "                     90              33896\n",
       "                     100              1962\n",
       "                     120             75086\n",
       "1                    2               39076\n",
       "                     3               68112\n",
       "                     4               70816\n",
       "                     5               55935\n",
       "                     6               11541\n",
       "                     7               70997\n",
       "                     8                2995\n",
       "                     9                  89\n",
       "                     10              51445\n",
       "                     12                846\n",
       "                     14               5038\n",
       "                     15              53951\n",
       "                     16                289\n",
       "                     18                 41\n",
       "                     20               8388\n",
       "                     24                 80\n",
       "                     25                 19\n",
       "                     28              67023\n",
       "                     30              35919\n",
       "                     35                 28\n",
       "                     40                 84\n",
       "                     45               6619\n",
       "                     50                 36\n",
       "                     60              15906\n",
       "                     75                 12\n",
       "                     80                  3\n",
       "                     90                 19\n",
       "                     100                 1\n",
       "                     120               215\n",
       "Name: user_id, dtype: int64"
      ]
     },
     "execution_count": 6,
     "metadata": {},
     "output_type": "execute_result"
    }
   ],
   "source": [
    "#### 商品总抵扣次数正负样本量对比\n",
    "\n",
    "df.groupby(['td_is_buy_ride_card','discount_all']).user_id.count()"
   ]
  },
  {
   "cell_type": "code",
   "execution_count": 7,
   "id": "07dd182e",
   "metadata": {
    "ExecuteTime": {
     "end_time": "2023-07-13T06:59:17.212604Z",
     "start_time": "2023-07-13T06:59:09.519325Z"
    }
   },
   "outputs": [
    {
     "name": "stdout",
     "output_type": "stream",
     "text": [
      "(412, 65) (1350, 65) (2385762, 65)\n",
      "before (412, 65)\n",
      "after: (41200, 65)\n",
      "before (1350, 65)\n",
      "after: (13500, 65)\n"
     ]
    }
   ],
   "source": [
    "# 样本过采样，总次数1～100复制100次，101～1000复制10次，其余不变\n",
    "df['group_total_cnt'] = df.groupby(['td_is_buy_ride_card','discount_all'])['user_id'].transform('count')\n",
    "sample_low = df[df.group_total_cnt.between(1,100)]\n",
    "sample_med = df[df.group_total_cnt.between(101,1000)]\n",
    "sample_high = df[df.group_total_cnt.between(1001,np.inf)]\n",
    "print(sample_low.shape,sample_med.shape,sample_high.shape)\n",
    "\n",
    "print('before',sample_low.shape)\n",
    "df_low = pd.DataFrame()\n",
    "for _ in range(100):\n",
    "    df_low = pd.concat([df_low, sample_low])\n",
    "\n",
    "df_low = df_low.reset_index(drop=True)\n",
    "print('after:',df_low.shape)\n",
    "\n",
    "print('before',sample_med.shape)\n",
    "df_med = pd.DataFrame()\n",
    "for _ in range(10):\n",
    "    df_med = pd.concat([df_med, sample_med])\n",
    "\n",
    "df_med = df_med.reset_index(drop=True)\n",
    "print('after:',df_med.shape)"
   ]
  },
  {
   "attachments": {},
   "cell_type": "markdown",
   "id": "c7ffd24b",
   "metadata": {},
   "source": [
    "#### 采样后样本\n"
   ]
  },
  {
   "cell_type": "code",
   "execution_count": 8,
   "id": "066700a6",
   "metadata": {
    "ExecuteTime": {
     "end_time": "2023-07-13T07:00:55.218857Z",
     "start_time": "2023-07-13T07:00:52.846555Z"
    }
   },
   "outputs": [
    {
     "data": {
      "text/plain": [
       "(2440462, 65)"
      ]
     },
     "execution_count": 8,
     "metadata": {},
     "output_type": "execute_result"
    }
   ],
   "source": [
    "df_sampled = pd.concat([df_low, df_med,sample_high]).reset_index(drop=True)\n",
    "df_sampled.shape"
   ]
  },
  {
   "attachments": {},
   "cell_type": "markdown",
   "id": "a8fe07e0",
   "metadata": {},
   "source": [
    "#### 需分段连续/数值特征处理"
   ]
  },
  {
   "cell_type": "code",
   "execution_count": 9,
   "id": "a8b777bc",
   "metadata": {
    "ExecuteTime": {
     "end_time": "2023-07-13T07:03:58.656552Z",
     "start_time": "2023-07-13T07:03:57.604573Z"
    }
   },
   "outputs": [
    {
     "name": "stdout",
     "output_type": "stream",
     "text": [
      "age 33.0 33.0 41.0 24.0\n",
      "=================\n",
      "register_days 835.0 835.0 1179.0 405.0\n",
      "=================\n",
      "active_count_7d 106.0 106.0 351.0 0.0\n",
      "=================\n",
      "active_count_30d 388.0 388.0 1138.0 91.0\n",
      "=================\n",
      "active_count_180d 1261.0 1261.0 3634.0 368.0\n",
      "=================\n",
      "order_count_7d 1.0 1.0 4.0 0.0\n",
      "=================\n",
      "order_count_30d 5.0 5.0 14.0 1.0\n",
      "=================\n",
      "order_count_t 57.0 57.0 176.0 15.0\n",
      "=================\n"
     ]
    }
   ],
   "source": [
    "# 数值区间探索EDA\n",
    "for col in user_need_X_cols:\n",
    "#     print(col,df_sampled[col].value_counts())\n",
    "    print(col,df_sampled[col].median(),df_sampled[col].quantile(0.5),df_sampled[col].quantile(0.75),df_sampled[col].quantile(0.25))\n",
    "    print('=================')"
   ]
  },
  {
   "cell_type": "code",
   "execution_count": 10,
   "id": "514245e2",
   "metadata": {
    "ExecuteTime": {
     "end_time": "2023-07-13T07:06:35.241386Z",
     "start_time": "2023-07-13T07:06:33.930232Z"
    }
   },
   "outputs": [],
   "source": [
    "# 粗分10段\n",
    "for col in user_need_X_cols[1:]:\n",
    "    df_sampled['re_'+col]=pd.qcut(df_sampled[col],10,duplicates='drop')\n",
    "# 年龄较细致分7段\n",
    "df_sampled['re_age'] = pd.cut(df_sampled['age'], bins=[-1, 18, 25, 35, 45, 60, 100,9999 ], labels=['0-15', '15-25', '25-35','35-45', '45-60', '60-100', '100-'])\n",
    "\n"
   ]
  },
  {
   "attachments": {},
   "cell_type": "markdown",
   "id": "164ca416",
   "metadata": {},
   "source": [
    "#### 用户和商品（稀疏）类别特征编码"
   ]
  },
  {
   "cell_type": "code",
   "execution_count": 11,
   "id": "f877c861",
   "metadata": {
    "ExecuteTime": {
     "end_time": "2023-07-13T07:07:08.130267Z",
     "start_time": "2023-07-13T07:07:08.120058Z"
    }
   },
   "outputs": [],
   "source": [
    "user_sparse_features = ['re_'+col for col in user_need_X_cols] + user_noneed_X_cols\n",
    "\n",
    "item_features = item_noneed_X_cols\n",
    "    "
   ]
  },
  {
   "cell_type": "code",
   "execution_count": 12,
   "id": "098df6d6",
   "metadata": {
    "ExecuteTime": {
     "end_time": "2023-07-13T07:07:51.331832Z",
     "start_time": "2023-07-13T07:07:20.437250Z"
    },
    "scrolled": true
   },
   "outputs": [
    {
     "name": "stdout",
     "output_type": "stream",
     "text": [
      "re_age\n",
      "re_register_days\n",
      "re_active_count_7d\n",
      "re_active_count_30d\n",
      "re_active_count_180d\n",
      "re_order_count_7d\n",
      "re_order_count_30d\n",
      "re_order_count_t\n",
      "gender\n",
      "city_id\n",
      "register_y\n",
      "register_m\n",
      "register_d\n",
      "register_dw\n",
      "is_idcard\n",
      "client_type\n",
      "sys_ver\n",
      "is_open_wepay_score\n",
      "last_total_ride_card_times\n",
      "last_ride_card_vaild_days\n",
      "card_7d\n",
      "card_30d\n",
      "card_60d\n",
      "order_days_7d\n",
      "order_days_30d\n",
      "during_days\n",
      "discount_times_day\n",
      "discount_all\n",
      "discount_amount\n",
      "discount_rule\n"
     ]
    },
    {
     "data": {
      "text/plain": [
       "{'re_age': 7,\n",
       " 're_register_days': 10,\n",
       " 're_active_count_7d': 7,\n",
       " 're_active_count_30d': 9,\n",
       " 're_active_count_180d': 10,\n",
       " 're_order_count_7d': 6,\n",
       " 're_order_count_30d': 8,\n",
       " 're_order_count_t': 10,\n",
       " 'gender': 3,\n",
       " 'city_id': 825,\n",
       " 'register_y': 7,\n",
       " 'register_m': 12,\n",
       " 'register_d': 31,\n",
       " 'register_dw': 7,\n",
       " 'is_idcard': 2,\n",
       " 'client_type': 5,\n",
       " 'sys_ver': 2,\n",
       " 'is_open_wepay_score': 2,\n",
       " 'last_total_ride_card_times': 30,\n",
       " 'last_ride_card_vaild_days': 18,\n",
       " 'card_7d': 10,\n",
       " 'card_30d': 22,\n",
       " 'card_60d': 40,\n",
       " 'order_days_7d': 8,\n",
       " 'order_days_30d': 31,\n",
       " 'during_days': 9,\n",
       " 'discount_times_day': 29,\n",
       " 'discount_all': 29,\n",
       " 'discount_amount': 2,\n",
       " 'discount_rule': 2}"
      ]
     },
     "execution_count": 12,
     "metadata": {},
     "output_type": "execute_result"
    }
   ],
   "source": [
    "feature_max_idx = {}\n",
    "lbe_list = []\n",
    "# 类别特征编码\n",
    "for feature in user_sparse_features + item_features:\n",
    "    print(feature)\n",
    "    lbe = LabelEncoder()\n",
    "    df_sampled[feature] = lbe.fit_transform(df_sampled[feature])\n",
    "    lbe_list.append(lbe)\n",
    "    # 记录每个类别特征最大取值数量\n",
    "    feature_max_idx[feature] = df_sampled[feature].max() + 1\n",
    "feature_max_idx"
   ]
  },
  {
   "attachments": {},
   "cell_type": "markdown",
   "id": "661a066a",
   "metadata": {},
   "source": [
    "#### 类别特征embedding准备"
   ]
  },
  {
   "cell_type": "code",
   "execution_count": 13,
   "id": "8bc48339",
   "metadata": {
    "ExecuteTime": {
     "end_time": "2023-07-13T07:14:44.646745Z",
     "start_time": "2023-07-13T07:14:44.639221Z"
    }
   },
   "outputs": [],
   "source": [
    "def sparseFeature(feat, feat_num, feat_len=1, embed_dim=4):\n",
    "    \"\"\"\n",
    "    create dictionary for varlen sparse feature\n",
    "    :param feat: feature name\n",
    "    :param feat_num: the total number of sparse features that do not repeat\n",
    "    :param feat_len: while feature is array: feat_len > 1\n",
    "    :param embed_dim: embedding dimension\n",
    "    :return:\n",
    "    \"\"\"\n",
    "    return {'feat': feat, 'feat_num': feat_num, 'feat_len': feat_len, 'embed_dim': embed_dim}\n",
    "\n",
    "# 每个特征组装成字典格式\n",
    "# embed_dim=16\n",
    "user_sparse_feat_cols = []\n",
    "# user_sparse_feat_cols.append(sparseFeature(feat='user_id', feat_num=feature_max_idx['user_id'], embed_dim=embed_dim))\n",
    "user_sparse_feat_cols = user_sparse_feat_cols + [sparseFeature(feat=uf, feat_num=feature_max_idx[uf]) for uf in user_sparse_features]\n",
    "\n",
    "\n",
    "item_feat_cols = []\n",
    "# item_feat_cols.append(sparseFeature(feat='coupon_id', feat_num=feature_max_idx['coupon_id'], embed_dim=embed_dim))\n",
    "# item_type = ['during_days', 'discount_total', 'original_price']\n",
    "item_feat_cols = item_feat_cols + [sparseFeature(feat=mt, feat_num=feature_max_idx[mt]) for mt in item_features]\n",
    "\n"
   ]
  },
  {
   "attachments": {},
   "cell_type": "markdown",
   "id": "8a17cda7",
   "metadata": {},
   "source": [
    "### 训练和评估样本"
   ]
  },
  {
   "cell_type": "code",
   "execution_count": 14,
   "id": "ffe9e8da",
   "metadata": {
    "ExecuteTime": {
     "end_time": "2023-07-13T07:16:39.238566Z",
     "start_time": "2023-07-13T07:16:32.657414Z"
    }
   },
   "outputs": [
    {
     "name": "stdout",
     "output_type": "stream",
     "text": [
      "[{'re_age': array([4, 5, 5, ..., 4, 3, 3]), 're_register_days': array([4, 8, 9, ..., 1, 8, 1]), 're_active_count_7d': array([0, 0, 5, ..., 0, 2, 6]), 're_active_count_30d': array([0, 0, 8, ..., 3, 3, 8]), 're_active_count_180d': array([0, 0, 9, ..., 1, 5, 9]), 're_order_count_7d': array([0, 0, 5, ..., 0, 1, 5]), 're_order_count_30d': array([0, 0, 7, ..., 2, 2, 7]), 're_order_count_t': array([1, 0, 8, ..., 0, 7, 7]), 'gender': array([1, 2, 1, ..., 2, 2, 2]), 'city_id': array([640, 130,  57, ...,  11, 235, 314]), 'register_y': array([4, 2, 2, ..., 6, 2, 6]), 'register_m': array([3, 5, 1, ..., 0, 8, 1]), 'register_d': array([21, 28,  7, ..., 30,  6, 10]), 'register_dw': array([3, 2, 4, ..., 4, 5, 6]), 'is_idcard': array([1, 1, 1, ..., 1, 1, 1]), 'client_type': array([2, 2, 2, ..., 0, 2, 2]), 'sys_ver': array([0, 0, 0, ..., 1, 1, 0]), 'is_open_wepay_score': array([0, 0, 1, ..., 1, 1, 1]), 'last_total_ride_card_times': array([ 0,  0, 25, ...,  0,  0, 19]), 'last_ride_card_vaild_days': array([ 0,  0, 14, ...,  0,  0,  6]), 'card_7d': array([0, 0, 0, ..., 0, 0, 0]), 'card_30d': array([0, 0, 0, ..., 0, 0, 0]), 'card_60d': array([0, 0, 1, ..., 0, 0, 1]), 'order_days_7d': array([0, 0, 7, ..., 0, 1, 7]), 'order_days_30d': array([ 0,  0, 24, ...,  3,  3, 24])}, {'during_days': array([2, 2, 3, ..., 8, 3, 8]), 'discount_times_day': array([ 0,  1,  2, ...,  3, 10, 23]), 'discount_all': array([ 0,  1, 17, ...,  3, 10, 23]), 'discount_amount': array([1, 1, 0, ..., 1, 1, 0]), 'discount_rule': array([1, 1, 0, ..., 1, 1, 1])}] [1 1 1 ... 0 0 0]\n"
     ]
    }
   ],
   "source": [
    "train, test = train_test_split(df_sampled, test_size=0.1)\n",
    "\n",
    "train_X = [{feat: train[feat].values for feat in user_sparse_features },\n",
    "           {feat: train[feat].values for feat in item_features}]\n",
    "\n",
    "train_y = train['td_is_buy_ride_card'].values.astype('int32')\n",
    "\n",
    "print(train_X,train_y)\n",
    "\n",
    "test_X = [{feat: test[feat].values for feat in user_sparse_features  },\n",
    "          {feat: test[feat].values for feat in item_features}]\n",
    "\n",
    "test_y = test['td_is_buy_ride_card'].values.astype('int32')\n"
   ]
  },
  {
   "attachments": {},
   "cell_type": "markdown",
   "id": "c5c35c44",
   "metadata": {},
   "source": [
    "### 模型训练"
   ]
  },
  {
   "cell_type": "code",
   "execution_count": 15,
   "id": "97dc8139",
   "metadata": {
    "ExecuteTime": {
     "end_time": "2023-07-13T07:18:32.136769Z",
     "start_time": "2023-07-13T07:17:02.452101Z"
    }
   },
   "outputs": [
    {
     "name": "stdout",
     "output_type": "stream",
     "text": [
      "Epoch 1/5\n",
      "3861/3861 [==============================] - 19s 4ms/step - loss: 1.1412e-06 - val_loss: 6.4135e-08\n",
      "Epoch 2/5\n",
      "3861/3861 [==============================] - 15s 4ms/step - loss: 3.5392e-08 - val_loss: 3.0172e-08\n",
      "Epoch 3/5\n",
      "3861/3861 [==============================] - 15s 4ms/step - loss: 3.0210e-08 - val_loss: 3.0142e-08\n",
      "Epoch 4/5\n",
      "3861/3861 [==============================] - 15s 4ms/step - loss: 3.0206e-08 - val_loss: 3.0142e-08\n",
      "Epoch 5/5\n",
      "3861/3861 [==============================] - 15s 4ms/step - loss: 3.0206e-08 - val_loss: 3.0142e-08\n"
     ]
    },
    {
     "name": "stderr",
     "output_type": "stream",
     "text": [
      "WARNING:absl:Found untraced functions such as _update_step_xla, dropout_layer_call_fn, dropout_layer_call_and_return_conditional_losses, dropout_1_layer_call_fn, dropout_1_layer_call_and_return_conditional_losses while saving (showing 5 of 13). These functions will not be directly callable after loading.\n"
     ]
    },
    {
     "name": "stdout",
     "output_type": "stream",
     "text": [
      "INFO:tensorflow:Assets written to: saved_model_dssm1/assets\n"
     ]
    },
    {
     "name": "stderr",
     "output_type": "stream",
     "text": [
      "INFO:tensorflow:Assets written to: saved_model_dssm1/assets\n"
     ]
    }
   ],
   "source": [
    "os.environ['CUDA_VISIBLE_DEVICES'] = '2, 3'\n",
    "# ========================= Hyper Parameters =======================\n",
    "embed_dim = 16\n",
    "dnn_dropout = 0.3\n",
    "hidden_units = [256, 128, 64]\n",
    "\n",
    "learning_rate = 0.00005\n",
    "batch_size = 512\n",
    "epochs = 5\n",
    "\n",
    "# ========================== Create dataset =======================\n",
    "# user_feat_cols,user_dense_feat_cols, item_feat_cols, train_X, train_y, test_X, test_y = create_ml_100k_dataset_test(embed_dim=embed_dim)\n",
    "user_feat_cols, item_feat_cols = user_sparse_feat_cols,item_feat_cols\n",
    "# ============================Build Model==========================\n",
    "\n",
    "model = Dssm(user_sparse_feature_columns=user_feat_cols, \\\n",
    "                 item_sparse_feature_columns=item_feat_cols, dnn_dropout=dnn_dropout)\n",
    "    # model = dssm.summary()\n",
    "    # model.summary()\n",
    "    # ============================Compile============================\n",
    "model.compile(loss=tf.keras.losses.CategoricalCrossentropy(), optimizer=Adam(learning_rate=learning_rate))\n",
    "#         loss = sampledsoftmaxloss\n",
    "\n",
    "# ==============================Fit==============================\n",
    "\n",
    "from tensorflow.keras.callbacks import TensorBoard\n",
    "\n",
    "log_dir = 'logs'  # 指定日志文件保存的目录\n",
    "tensorboard_callback = TensorBoard(log_dir=log_dir, histogram_freq=1)\n",
    "\n",
    "model.fit(\n",
    "    train_X,\n",
    "    train_y,\n",
    "    epochs=epochs,\n",
    "    # callbacks=[EarlyStopping(monitor='val_loss', patience=1, restore_best_weights=True)],  # checkpoint\n",
    "#         callbacks=[checkpoint],\n",
    "    batch_size=batch_size,\n",
    "    validation_split=0.1,\n",
    "    callbacks=[tensorboard_callback]\n",
    ")\n",
    "\n",
    "path = 'saved_model_dssm1'\n",
    "model.save(path, save_format='tf') \n",
    "\n",
    "\n",
    "   "
   ]
  },
  {
   "attachments": {},
   "cell_type": "markdown",
   "id": "e158aae8",
   "metadata": {},
   "source": [
    "### 模型加载"
   ]
  },
  {
   "cell_type": "code",
   "execution_count": 16,
   "id": "ff9c6506",
   "metadata": {
    "ExecuteTime": {
     "end_time": "2023-07-13T07:20:52.973124Z",
     "start_time": "2023-07-13T07:20:51.402103Z"
    }
   },
   "outputs": [],
   "source": [
    "custom_objects = {\"Dssm\": Dssm}\n",
    "loaded_model = tf.keras.models.load_model(path, custom_objects=custom_objects)\n",
    "model = loaded_model.build_graph()\n",
    "\n",
    "user_embed_model = Model(inputs=model.user_input, outputs=model.user_embed)\n",
    "item_embed_model = Model(inputs=model.item_input, outputs=model.item_embed)\n",
    "\n"
   ]
  },
  {
   "attachments": {},
   "cell_type": "markdown",
   "id": "d4d5fc95",
   "metadata": {},
   "source": [
    "### 模型预测\n",
    "#### 商品库（去重）"
   ]
  },
  {
   "cell_type": "code",
   "execution_count": 18,
   "id": "901cc100",
   "metadata": {
    "ExecuteTime": {
     "end_time": "2023-07-13T07:26:41.490197Z",
     "start_time": "2023-07-13T07:26:41.395922Z"
    },
    "scrolled": true
   },
   "outputs": [
    {
     "name": "stdout",
     "output_type": "stream",
     "text": [
      "['during_days', 'discount_times_day', 'discount_all', 'discount_amount', 'discount_rule', 'product_name']\n"
     ]
    },
    {
     "data": {
      "text/html": [
       "<div>\n",
       "<style scoped>\n",
       "    .dataframe tbody tr th:only-of-type {\n",
       "        vertical-align: middle;\n",
       "    }\n",
       "\n",
       "    .dataframe tbody tr th {\n",
       "        vertical-align: top;\n",
       "    }\n",
       "\n",
       "    .dataframe thead th {\n",
       "        text-align: right;\n",
       "    }\n",
       "</style>\n",
       "<table border=\"1\" class=\"dataframe\">\n",
       "  <thead>\n",
       "    <tr style=\"text-align: right;\">\n",
       "      <th></th>\n",
       "      <th>during_days</th>\n",
       "      <th>discount_times_day</th>\n",
       "      <th>discount_all</th>\n",
       "      <th>discount_amount</th>\n",
       "      <th>discount_rule</th>\n",
       "      <th>product_name</th>\n",
       "    </tr>\n",
       "  </thead>\n",
       "  <tbody>\n",
       "    <tr>\n",
       "      <th>0</th>\n",
       "      <td>6</td>\n",
       "      <td>6</td>\n",
       "      <td>6</td>\n",
       "      <td>1</td>\n",
       "      <td>1</td>\n",
       "      <td>20天8次卡</td>\n",
       "    </tr>\n",
       "    <tr>\n",
       "      <th>1</th>\n",
       "      <td>7</td>\n",
       "      <td>6</td>\n",
       "      <td>6</td>\n",
       "      <td>1</td>\n",
       "      <td>1</td>\n",
       "      <td>25天8次卡</td>\n",
       "    </tr>\n",
       "    <tr>\n",
       "      <th>2</th>\n",
       "      <td>8</td>\n",
       "      <td>18</td>\n",
       "      <td>18</td>\n",
       "      <td>1</td>\n",
       "      <td>1</td>\n",
       "      <td>30天30次卡</td>\n",
       "    </tr>\n",
       "    <tr>\n",
       "      <th>3</th>\n",
       "      <td>3</td>\n",
       "      <td>9</td>\n",
       "      <td>9</td>\n",
       "      <td>1</td>\n",
       "      <td>1</td>\n",
       "      <td>7天12次卡</td>\n",
       "    </tr>\n",
       "    <tr>\n",
       "      <th>4</th>\n",
       "      <td>3</td>\n",
       "      <td>10</td>\n",
       "      <td>10</td>\n",
       "      <td>1</td>\n",
       "      <td>1</td>\n",
       "      <td>7天14次卡</td>\n",
       "    </tr>\n",
       "    <tr>\n",
       "      <th>...</th>\n",
       "      <td>...</td>\n",
       "      <td>...</td>\n",
       "      <td>...</td>\n",
       "      <td>...</td>\n",
       "      <td>...</td>\n",
       "      <td>...</td>\n",
       "    </tr>\n",
       "    <tr>\n",
       "      <th>131</th>\n",
       "      <td>8</td>\n",
       "      <td>28</td>\n",
       "      <td>28</td>\n",
       "      <td>1</td>\n",
       "      <td>1</td>\n",
       "      <td>30天120次卡</td>\n",
       "    </tr>\n",
       "    <tr>\n",
       "      <th>132</th>\n",
       "      <td>5</td>\n",
       "      <td>23</td>\n",
       "      <td>23</td>\n",
       "      <td>1</td>\n",
       "      <td>1</td>\n",
       "      <td>15天60次卡</td>\n",
       "    </tr>\n",
       "    <tr>\n",
       "      <th>133</th>\n",
       "      <td>2</td>\n",
       "      <td>8</td>\n",
       "      <td>8</td>\n",
       "      <td>0</td>\n",
       "      <td>1</td>\n",
       "      <td>5天10次立减卡</td>\n",
       "    </tr>\n",
       "    <tr>\n",
       "      <th>134</th>\n",
       "      <td>0</td>\n",
       "      <td>3</td>\n",
       "      <td>3</td>\n",
       "      <td>1</td>\n",
       "      <td>1</td>\n",
       "      <td>3天5次卡</td>\n",
       "    </tr>\n",
       "    <tr>\n",
       "      <th>135</th>\n",
       "      <td>4</td>\n",
       "      <td>18</td>\n",
       "      <td>18</td>\n",
       "      <td>1</td>\n",
       "      <td>1</td>\n",
       "      <td>10天30次卡</td>\n",
       "    </tr>\n",
       "  </tbody>\n",
       "</table>\n",
       "<p>136 rows × 6 columns</p>\n",
       "</div>"
      ],
      "text/plain": [
       "     during_days  discount_times_day  discount_all  discount_amount  \\\n",
       "0              6                   6             6                1   \n",
       "1              7                   6             6                1   \n",
       "2              8                  18            18                1   \n",
       "3              3                   9             9                1   \n",
       "4              3                  10            10                1   \n",
       "..           ...                 ...           ...              ...   \n",
       "131            8                  28            28                1   \n",
       "132            5                  23            23                1   \n",
       "133            2                   8             8                0   \n",
       "134            0                   3             3                1   \n",
       "135            4                  18            18                1   \n",
       "\n",
       "     discount_rule product_name  \n",
       "0                1       20天8次卡  \n",
       "1                1       25天8次卡  \n",
       "2                1      30天30次卡  \n",
       "3                1       7天12次卡  \n",
       "4                1       7天14次卡  \n",
       "..             ...          ...  \n",
       "131              1     30天120次卡  \n",
       "132              1      15天60次卡  \n",
       "133              1     5天10次立减卡  \n",
       "134              1        3天5次卡  \n",
       "135              1      10天30次卡  \n",
       "\n",
       "[136 rows x 6 columns]"
      ]
     },
     "execution_count": 18,
     "metadata": {},
     "output_type": "execute_result"
    }
   ],
   "source": [
    "item_columns = item_noneed_X_cols+['product_name']\n",
    "print(item_columns)\n",
    "items = test[item_columns].drop_duplicates(subset=item_columns).reset_index(drop=True)\n",
    "items"
   ]
  },
  {
   "attachments": {},
   "cell_type": "markdown",
   "id": "d2b6c1a8",
   "metadata": {},
   "source": [
    "#### 商品库样本"
   ]
  },
  {
   "cell_type": "code",
   "execution_count": 19,
   "id": "167bfe40",
   "metadata": {
    "ExecuteTime": {
     "end_time": "2023-07-13T07:26:43.773927Z",
     "start_time": "2023-07-13T07:26:43.770991Z"
    }
   },
   "outputs": [],
   "source": [
    "item_X = [{feat: items[feat].values for feat in item_features}]"
   ]
  },
  {
   "attachments": {},
   "cell_type": "markdown",
   "id": "a19308a2",
   "metadata": {},
   "source": [
    "#### 用户评估样本和商品库样本 模型结果预测"
   ]
  },
  {
   "cell_type": "code",
   "execution_count": 20,
   "id": "d4a7209a",
   "metadata": {
    "ExecuteTime": {
     "end_time": "2023-07-13T07:28:50.645672Z",
     "start_time": "2023-07-13T07:28:37.026732Z"
    }
   },
   "outputs": [
    {
     "name": "stdout",
     "output_type": "stream",
     "text": [
      "7627/7627 [==============================] - 11s 1ms/step\n",
      "5/5 [==============================] - 0s 1ms/step\n"
     ]
    }
   ],
   "source": [
    "user_embs = user_embed_model.predict(test_X[0])\n",
    "item_embs = item_embed_model.predict(item_X)\n",
    "user_embs = tf.squeeze(user_embs).numpy()\n",
    "item_embs = tf.squeeze(item_embs).numpy()"
   ]
  },
  {
   "attachments": {},
   "cell_type": "markdown",
   "id": "5ae5fe47",
   "metadata": {},
   "source": [
    "#### 相似向量检索\n",
    "##### L2距离（欧式）"
   ]
  },
  {
   "cell_type": "code",
   "execution_count": 21,
   "id": "fe8b85fe",
   "metadata": {
    "ExecuteTime": {
     "end_time": "2023-07-13T07:31:02.686777Z",
     "start_time": "2023-07-13T07:31:02.410007Z"
    }
   },
   "outputs": [],
   "source": [
    "###  L2距离\n",
    "# 商品建索引\n",
    "index_L2 = faiss.IndexFlatL2(item_embs.shape[1])\n",
    "# faiss.normalize_L2(item_embs)\n",
    "index_L2.add(np.array(item_embs))\n",
    "# faiss.normalize_L2(user_embs)\n",
    "# 用户向量找最近/相似的26个商品向量，对每个用户返回最近26个商品的距离列表和索引列表\n",
    "D_L2, I_L2 = index_L2.search(np.ascontiguousarray(user_embs), 26)\n"
   ]
  },
  {
   "cell_type": "code",
   "execution_count": 22,
   "id": "ff7baafb",
   "metadata": {
    "ExecuteTime": {
     "end_time": "2023-07-13T07:33:57.680535Z",
     "start_time": "2023-07-13T07:33:57.670846Z"
    },
    "collapsed": true
   },
   "outputs": [
    {
     "name": "stdout",
     "output_type": "stream",
     "text": [
      "30天45次卡\n",
      "5天2次卡\n",
      "4天3次卡\n",
      "3天2次卡\n",
      "20天45次卡\n",
      "5天3次卡\n",
      "3天3次卡\n",
      "30天40次卡\n",
      "5天6次卡\n",
      "25天45次卡\n",
      "7天3次立减卡\n",
      "3天6次卡\n",
      "30天45次立减卡\n",
      "7天3次卡\n",
      "30天15次卡\n",
      "20天30次卡\n",
      "30天18次卡\n",
      "15天30次卡\n",
      "20天15次卡\n",
      "30天35次卡\n",
      "30天6次卡\n",
      "15天40次卡\n",
      "4天2次卡\n",
      "4天4次卡\n",
      "30天立减卡\n",
      "7天10次卡\n"
     ]
    }
   ],
   "source": [
    "# user_embs中index=1的用户 L2 召回商品\n",
    "for i in I_L2[1]: \n",
    "    print(items.loc[i].product_name)"
   ]
  },
  {
   "attachments": {},
   "cell_type": "markdown",
   "id": "54855da2",
   "metadata": {},
   "source": [
    "##### cos距离\n",
    "这个是和我们训练一致的距离度量"
   ]
  },
  {
   "cell_type": "code",
   "execution_count": 23,
   "id": "d2c5e4ff",
   "metadata": {
    "ExecuteTime": {
     "end_time": "2023-07-13T07:34:33.743901Z",
     "start_time": "2023-07-13T07:34:33.466862Z"
    }
   },
   "outputs": [],
   "source": [
    "# cos距离\n",
    "index = faiss.IndexFlatIP(item_embs.shape[1])\n",
    "faiss.normalize_L2(item_embs)\n",
    "index.add(np.array(item_embs))\n",
    "faiss.normalize_L2(user_embs)\n",
    "D, I = index.search(np.ascontiguousarray(user_embs), 26)\n"
   ]
  },
  {
   "cell_type": "code",
   "execution_count": 24,
   "id": "241b59c6",
   "metadata": {
    "ExecuteTime": {
     "end_time": "2023-07-13T07:35:02.278727Z",
     "start_time": "2023-07-13T07:35:02.270520Z"
    },
    "collapsed": true
   },
   "outputs": [
    {
     "name": "stdout",
     "output_type": "stream",
     "text": [
      "30天45次卡\n",
      "5天2次卡\n",
      "4天3次卡\n",
      "3天3次卡\n",
      "3天2次卡\n",
      "5天3次卡\n",
      "25天45次卡\n",
      "20天45次卡\n",
      "20天12次卡\n",
      "30天40次卡\n",
      "30天18次卡\n",
      "5天6次卡\n",
      "30天30次卡\n",
      "30天35次卡\n",
      "25天14次卡\n",
      "30天10次卡\n",
      "20天30次卡\n",
      "3天6次卡\n",
      "30天15次卡\n",
      "7天3次立减卡\n",
      "30天45次立减卡\n",
      "7天3次卡\n",
      "15天30次卡\n",
      "15天12次卡\n",
      "30天6次卡\n",
      "7天10次卡\n"
     ]
    }
   ],
   "source": [
    "# user_embs中index=1的用户 cos 召回商品\n",
    "for i in I[1]: \n",
    "    print(items.loc[i].product_name)"
   ]
  },
  {
   "attachments": {},
   "cell_type": "markdown",
   "id": "92131578",
   "metadata": {},
   "source": [
    "### 评估\n",
    "topN召回商品与用户历史购买商品评估召回率"
   ]
  },
  {
   "attachments": {},
   "cell_type": "markdown",
   "id": "d25864e7",
   "metadata": {},
   "source": [
    "#### 评估实际购买过商品用户\n",
    "因为本地跑的模型及预测，未连接公司数据库因此需要存储数据\n"
   ]
  },
  {
   "cell_type": "code",
   "execution_count": null,
   "id": "c339f32f",
   "metadata": {},
   "outputs": [],
   "source": [
    "# 买过商品的用户\n",
    "nt = test[test.td_is_buy_ride_card==1].reset_index(drop=True)\n",
    "nt"
   ]
  },
  {
   "cell_type": "code",
   "execution_count": null,
   "id": "58d82eb9",
   "metadata": {},
   "outputs": [],
   "source": [
    "# 预测数据组装\n",
    "test_nt = [{feat: nt[feat].values for feat in user_sparse_features  },\n",
    "          {feat: nt[feat].values for feat in item_features}]"
   ]
  },
  {
   "cell_type": "code",
   "execution_count": null,
   "id": "a4d66df6",
   "metadata": {},
   "outputs": [],
   "source": [
    "# 模型预测\n",
    "user_embs = user_embed_model.predict(test_nt[0])\n",
    "item_embs = item_embed_model.predict(item_X)\n",
    "user_embs = tf.squeeze(user_embs).numpy()\n",
    "item_embs = tf.squeeze(item_embs).numpy()\n"
   ]
  },
  {
   "cell_type": "code",
   "execution_count": null,
   "id": "9463e7b1",
   "metadata": {},
   "outputs": [],
   "source": [
    "# cos距离\n",
    "index = faiss.IndexFlatIP(item_embs.shape[1])\n",
    "faiss.normalize_L2(item_embs)\n",
    "index.add(np.array(item_embs))\n",
    "faiss.normalize_L2(user_embs)\n",
    "D, I = index.search(np.ascontiguousarray(user_embs), 26)\n"
   ]
  },
  {
   "cell_type": "code",
   "execution_count": null,
   "id": "f8fecca6",
   "metadata": {},
   "outputs": [],
   "source": [
    "# j个用户i个召回商品，存储商品名\n",
    "t_res = []\n",
    "for j in range(nt.shape[0]):\n",
    "    print('========')\n",
    "    tmp_ls = []\n",
    "    for i in I[j]: \n",
    "        tmp_ls.append(items.loc[i].product_name)\n",
    "        print(items.loc[i].product_name)\n",
    "        \n",
    "    t_res.append(tmp_ls)"
   ]
  },
  {
   "cell_type": "code",
   "execution_count": null,
   "id": "ab64b946",
   "metadata": {},
   "outputs": [],
   "source": [
    "# 索引列\n",
    "nt['index_ls'] = I.tolist()"
   ]
  },
  {
   "cell_type": "code",
   "execution_count": null,
   "id": "5531ff5c",
   "metadata": {},
   "outputs": [],
   "source": [
    "# 索引对应的商品名列\n",
    "def func(x):\n",
    "    tmp_ls= []\n",
    "    for i in x: \n",
    "        tmp_ls.append(items.loc[i].product_name)\n",
    "    return tmp_ls\n",
    "nt['name_ls'] = nt.index_ls.map(func)"
   ]
  },
  {
   "cell_type": "code",
   "execution_count": null,
   "id": "7033fb31",
   "metadata": {},
   "outputs": [],
   "source": [
    "nt.to_csv('test_res_stable.csv')"
   ]
  },
  {
   "attachments": {},
   "cell_type": "markdown",
   "id": "6fb501de",
   "metadata": {},
   "source": [
    "#### 用户实际购买商品"
   ]
  },
  {
   "cell_type": "code",
   "execution_count": null,
   "id": "93e6d5d0",
   "metadata": {},
   "outputs": [],
   "source": [
    "# 加载用户召回数据\n",
    "test_res = pd.read_csv('test_res_stable.csv')\n",
    "test_res.shape"
   ]
  },
  {
   "cell_type": "code",
   "execution_count": null,
   "id": "7e0d1910",
   "metadata": {},
   "outputs": [],
   "source": [
    "# 用户实际购买数据\n",
    "uid = tuple(test_res.user_id.tolist())\n",
    "true_df = get_df_from_csv_table(query_presto(f\"\"\"\n",
    "       select user_id,array_join(array_distinct(array_agg(product_name)),'|') res from  \n",
    "           (\n",
    "           \n",
    "         select   \n",
    "                user_id,original_price,product_id,product_name,total_ride_card_times,ride_card_vaild_days,deduct_amt\n",
    "            from ads.ads_bi_atm_abtest_coupon_ride_card_analysis_da -- undefined  \n",
    "                where 1=1 \n",
    "                and event_day BETWEEN '20230501' and  '20230614'\n",
    "                and is_buy_ride_card = 1 \n",
    "                and  user_id in {uid}    \n",
    "                )\n",
    "             group by user_id\n",
    "\"\"\"))"
   ]
  },
  {
   "cell_type": "code",
   "execution_count": null,
   "id": "250d4535",
   "metadata": {},
   "outputs": [],
   "source": [
    "# 真实商品格式切分\n",
    "true_df['true_col'] = true_df.res.map(lambda x:x.split('|'))\n",
    "# 召回和实际关联\n",
    "m1 = true_df.merge(test_res,on=['user_id'],how='inner')\n",
    "# 召回商品列表\n",
    "m1['name_ls'] = m1.name_ls.map(lambda x:eval(x))\n",
    "# 真实商品数量\n",
    "m1['total_nums'] = m1.true_col.map(lambda x:len(x))\n",
    "# 召回和真实商品重合数量\n",
    "m1['recall_nums'] = m1.apply(lambda x:len(set(x['true_col']).intersection(set(x['name_ls']))),axis=1)\n",
    "# 召回率\n",
    "m1['recall'] = m1.recall_nums/m1.total_nums\n",
    "\n",
    "# 平均召回率 0.2\n",
    "m1.recall.mean()"
   ]
  },
  {
   "attachments": {},
   "cell_type": "markdown",
   "id": "ea701e09",
   "metadata": {},
   "source": [
    "### 存在的问题/可改进的地方\n",
    "- 特征处理粗糙：连续/数值分特征段过于随意\n",
    "- 过采样可考虑smote等方法\n",
    "- 实际使用时还需要考虑训练中未见过的/未知的类别特征值\n",
    "    - 因此要给每个类别特征添加一个unknow类别\n",
    "    - 一般是种类少的化为unknow\n",
    "    - 没见过类别也提前处理为unknow\n",
    "- 模型结构考虑加入连续特征\n",
    "  - 参考model2和dssm2 \n",
    "- 模型训练可能会提梯度消失，需要参考笔记修改\n",
    "- 依赖tf2.11.0以上，python3.8以上\n",
    "- 相似向量检索需使用faiss.normalize_L2处理才为cos距离\n",
    "    - 余弦距离和余弦相似度好像没搞明白，后续需要再看下最后一个参考或是其他 \n",
    "- 召回率低可能是因为样本的问题\n",
    "    - 看的文章说负样本不能仅仅是曝光的，还得是其他的未曝光的，避免选择偏差，因此之前考虑：1.购卡用户is_buy_ride_card = 1为正例；2.非购卡骑行用户is_buy_ride_card = 0 and  is_ride=1 为负例；3.需要为负例补充商品特征值，负例商品不限于曝光未购买商品，应从所有商品中随机采样，避免选择偏差\n",
    "    - 但是会存在负例用户当天没买，但其他天买了为其构造的“没买商品”，严重影响模型性能，因此做样本时应该避免用户买过的商品进行负采样\n",
    "    - 另外买过的用户也会存在当天买了某个商品，其他天没买过构造了买过商品的负例，也应该避免出现\n",
    "    - 总而言之就是用户一段周期内买过的商品可以为正样本，没买过的才给随机分为负样本，不能全盘随机\n",
    "- 召回率低可能是因为loss的问题\n",
    "    - point-wise loss只能分好坏，没有样本之间相互关系\n",
    "    - 考虑用pair-wise loss，样本之间的相对顺序或者相对差异比单独的点对点差异更重要\n",
    "- 模型参考\n",
    "  - https://github.com/Funnyeah/recommend-tf2.0.git"
   ]
  },
  {
   "cell_type": "code",
   "execution_count": 25,
   "id": "f2262a7f",
   "metadata": {
    "ExecuteTime": {
     "end_time": "2023-07-13T08:29:29.790167Z",
     "start_time": "2023-07-13T08:29:29.722041Z"
    }
   },
   "outputs": [
    {
     "data": {
      "text/plain": [
       "'2.11.0'"
      ]
     },
     "execution_count": 25,
     "metadata": {},
     "output_type": "execute_result"
    }
   ],
   "source": [
    "tf.__version__"
   ]
  },
  {
   "attachments": {},
   "cell_type": "markdown",
   "id": "7c994a5b",
   "metadata": {},
   "source": [
    "### 参考\n",
    "- https://blog.51cto.com/u_15717393/5471448#32_DSSM_188\n",
    "- https://zhuanlan.zhihu.com/p/345378441\n",
    "- https://www.zhihu.com/question/426543628/answer/1631702878\n",
    "- https://zhuanlan.zhihu.com/p/448680238\n",
    "- https://blog.csdn.net/supergxt/article/details/121137489"
   ]
  },
  {
   "cell_type": "code",
   "execution_count": null,
   "id": "ee3b73cc",
   "metadata": {},
   "outputs": [],
   "source": []
  }
 ],
 "metadata": {
  "kernelspec": {
   "display_name": "Python 3",
   "language": "python",
   "name": "python3"
  },
  "language_info": {
   "codemirror_mode": {
    "name": "ipython",
    "version": 3
   },
   "file_extension": ".py",
   "mimetype": "text/x-python",
   "name": "python",
   "nbconvert_exporter": "python",
   "pygments_lexer": "ipython3",
   "version": "3.8.3"
  },
  "toc": {
   "base_numbering": 1,
   "nav_menu": {},
   "number_sections": true,
   "sideBar": true,
   "skip_h1_title": false,
   "title_cell": "Table of Contents",
   "title_sidebar": "Contents",
   "toc_cell": true,
   "toc_position": {
    "height": "calc(100% - 180px)",
    "left": "10px",
    "top": "150px",
    "width": "325.817px"
   },
   "toc_section_display": true,
   "toc_window_display": true
  }
 },
 "nbformat": 4,
 "nbformat_minor": 5
}
