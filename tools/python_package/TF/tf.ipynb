{
 "cells": [
  {
   "cell_type": "markdown",
   "metadata": {
    "toc": true
   },
   "source": [
    "<h1>Table of Contents<span class=\"tocSkip\"></span></h1>\n",
    "<div class=\"toc\"><ul class=\"toc-item\"><li><span><a href=\"#2.预备知识\" data-toc-modified-id=\"2.预备知识-1\">2.预备知识</a></span><ul class=\"toc-item\"><li><span><a href=\"#2.1数据操作\" data-toc-modified-id=\"2.1数据操作-1.1\">2.1数据操作</a></span><ul class=\"toc-item\"><li><span><a href=\"#2.1.1入门\" data-toc-modified-id=\"2.1.1入门-1.1.1\">2.1.1入门</a></span></li><li><span><a href=\"#2.1.2运算符\" data-toc-modified-id=\"2.1.2运算符-1.1.2\">2.1.2运算符</a></span></li><li><span><a href=\"#2.1.3广播机制\" data-toc-modified-id=\"2.1.3广播机制-1.1.3\">2.1.3广播机制</a></span></li><li><span><a href=\"#2.1.4索引和切片\" data-toc-modified-id=\"2.1.4索引和切片-1.1.4\">2.1.4索引和切片</a></span></li><li><span><a href=\"#2.1.5节省内存\" data-toc-modified-id=\"2.1.5节省内存-1.1.5\">2.1.5节省内存</a></span></li><li><span><a href=\"#2.1.6转换为其他python对象\" data-toc-modified-id=\"2.1.6转换为其他python对象-1.1.6\">2.1.6转换为其他python对象</a></span></li><li><span><a href=\"#2.1.7小节\" data-toc-modified-id=\"2.1.7小节-1.1.7\">2.1.7小节</a></span></li><li><span><a href=\"#2.1.8.-练习\" data-toc-modified-id=\"2.1.8.-练习-1.1.8\">2.1.8. 练习</a></span></li></ul></li><li><span><a href=\"#2.2数据预处理\" data-toc-modified-id=\"2.2数据预处理-1.2\">2.2数据预处理</a></span><ul class=\"toc-item\"><li><span><a href=\"#2.2.1读取数据集\" data-toc-modified-id=\"2.2.1读取数据集-1.2.1\">2.2.1读取数据集</a></span></li><li><span><a href=\"#2.2.2处理缺失值\" data-toc-modified-id=\"2.2.2处理缺失值-1.2.2\">2.2.2处理缺失值</a></span></li><li><span><a href=\"#2.2.3转为张量\" data-toc-modified-id=\"2.2.3转为张量-1.2.3\">2.2.3转为张量</a></span></li></ul></li><li><span><a href=\"#2.3线性代数\" data-toc-modified-id=\"2.3线性代数-1.3\">2.3线性代数</a></span><ul class=\"toc-item\"><li><span><a href=\"#2.3.1标量\" data-toc-modified-id=\"2.3.1标量-1.3.1\">2.3.1标量</a></span></li><li><span><a href=\"#2.3.2向量\" data-toc-modified-id=\"2.3.2向量-1.3.2\">2.3.2向量</a></span></li><li><span><a href=\"#2.3.3矩阵\" data-toc-modified-id=\"2.3.3矩阵-1.3.3\">2.3.3矩阵</a></span></li><li><span><a href=\"#2.3.4张量\" data-toc-modified-id=\"2.3.4张量-1.3.4\">2.3.4张量</a></span></li><li><span><a href=\"#2.3.5张量算法本质\" data-toc-modified-id=\"2.3.5张量算法本质-1.3.5\">2.3.5张量算法本质</a></span></li><li><span><a href=\"#2.3.6-降维\" data-toc-modified-id=\"2.3.6-降维-1.3.6\">2.3.6 降维</a></span></li><li><span><a href=\"#非降维求和\" data-toc-modified-id=\"非降维求和-1.3.7\">非降维求和</a></span></li><li><span><a href=\"#2.3.7点积\" data-toc-modified-id=\"2.3.7点积-1.3.8\">2.3.7点积</a></span></li><li><span><a href=\"#2.3.8矩阵-向量积\" data-toc-modified-id=\"2.3.8矩阵-向量积-1.3.9\">2.3.8矩阵-向量积</a></span></li><li><span><a href=\"#2.3.9矩阵-矩阵乘法\" data-toc-modified-id=\"2.3.9矩阵-矩阵乘法-1.3.10\">2.3.9矩阵-矩阵乘法</a></span></li><li><span><a href=\"#2.3.10范数\" data-toc-modified-id=\"2.3.10范数-1.3.11\">2.3.10范数</a></span></li><li><span><a href=\"#范数和目标\" data-toc-modified-id=\"范数和目标-1.3.12\">范数和目标</a></span></li><li><span><a href=\"#2.3.11-小结¶\" data-toc-modified-id=\"2.3.11-小结¶-1.3.13\">2.3.11 小结¶</a></span></li><li><span><a href=\"#2.3.13.-练习\" data-toc-modified-id=\"2.3.13.-练习-1.3.14\">2.3.13. 练习</a></span></li><li><span><a href=\"#必须用keepdim-才可保证此各维度问题的结果都存在\" data-toc-modified-id=\"必须用keepdim-才可保证此各维度问题的结果都存在-1.3.15\">必须用keepdim 才可保证此各维度问题的结果都存在</a></span></li></ul></li><li><span><a href=\"#2.4-微积分\" data-toc-modified-id=\"2.4-微积分-1.4\">2.4 微积分</a></span><ul class=\"toc-item\"><li><span><a href=\"#2.4.1导数和微分\" data-toc-modified-id=\"2.4.1导数和微分-1.4.1\">2.4.1导数和微分</a></span></li><li><span><a href=\"#2.4.2-偏导数\" data-toc-modified-id=\"2.4.2-偏导数-1.4.2\">2.4.2 偏导数</a></span></li><li><span><a href=\"#2.4.3梯度\" data-toc-modified-id=\"2.4.3梯度-1.4.3\">2.4.3梯度</a></span></li><li><span><a href=\"#2.4.4链式法则\" data-toc-modified-id=\"2.4.4链式法则-1.4.4\">2.4.4链式法则</a></span></li><li><span><a href=\"#2.4.5小结\" data-toc-modified-id=\"2.4.5小结-1.4.5\">2.4.5小结</a></span></li><li><span><a href=\"#2.4.6练习\" data-toc-modified-id=\"2.4.6练习-1.4.6\">2.4.6练习</a></span></li></ul></li></ul></li><li><span><a href=\"#2.5自动微分\" data-toc-modified-id=\"2.5自动微分-2\">2.5自动微分</a></span><ul class=\"toc-item\"><li><ul class=\"toc-item\"><li><span><a href=\"#2.5.1例子\" data-toc-modified-id=\"2.5.1例子-2.0.1\">2.5.1例子</a></span></li></ul></li><li><span><a href=\"#实际上直接根据定义求梯度，很容易得到梯度为4*[x1,x2,x3,x4]\" data-toc-modified-id=\"实际上直接根据定义求梯度，很容易得到梯度为4*[x1,x2,x3,x4]-2.1\">实际上直接根据定义求梯度，很容易得到梯度为4*[x1,x2,x3,x4]</a></span><ul class=\"toc-item\"><li><span><a href=\"#2.5.2非标量变量的反向传播\" data-toc-modified-id=\"2.5.2非标量变量的反向传播-2.1.1\">2.5.2非标量变量的反向传播</a></span></li><li><span><a href=\"#2.5.3分离计算\" data-toc-modified-id=\"2.5.3分离计算-2.1.2\">2.5.3分离计算</a></span></li><li><span><a href=\"#2.5.4.-Python控制流的梯度计算\" data-toc-modified-id=\"2.5.4.-Python控制流的梯度计算-2.1.3\">2.5.4. Python控制流的梯度计算</a></span></li><li><span><a href=\"#2.5.5小结\" data-toc-modified-id=\"2.5.5小结-2.1.4\">2.5.5小结</a></span></li></ul></li><li><span><a href=\"#2.6-概率\" data-toc-modified-id=\"2.6-概率-2.2\">2.6 概率</a></span></li><li><span><a href=\"#2.7查阅文档\" data-toc-modified-id=\"2.7查阅文档-2.3\">2.7查阅文档</a></span><ul class=\"toc-item\"><li><span><a href=\"#2.7.1查找模块中所有函数和类\" data-toc-modified-id=\"2.7.1查找模块中所有函数和类-2.3.1\">2.7.1查找模块中所有函数和类</a></span></li><li><span><a href=\"#2.7.2.-查找特定函数和类的用法\" data-toc-modified-id=\"2.7.2.-查找特定函数和类的用法-2.3.2\">2.7.2. 查找特定函数和类的用法</a></span></li><li><span><a href=\"#2.7.3查看API\" data-toc-modified-id=\"2.7.3查看API-2.3.3\">2.7.3查看API</a></span></li></ul></li><li><span><a href=\"#11.1.-优化和深度学习\" data-toc-modified-id=\"11.1.-优化和深度学习-2.4\">11.1. 优化和深度学习</a></span><ul class=\"toc-item\"><li><span><a href=\"#11.1.1.-优化的目标\" data-toc-modified-id=\"11.1.1.-优化的目标-2.4.1\">11.1.1. 优化的目标</a></span></li><li><span><a href=\"#11.1.2.-深度学习中的优化挑战¶\" data-toc-modified-id=\"11.1.2.-深度学习中的优化挑战¶-2.4.2\">11.1.2. 深度学习中的优化挑战¶</a></span><ul class=\"toc-item\"><li><span><a href=\"#11.1.2.1.-局部最小值\" data-toc-modified-id=\"11.1.2.1.-局部最小值-2.4.2.1\">11.1.2.1. 局部最小值</a></span></li><li><span><a href=\"#11.1.2.2.-鞍点\" data-toc-modified-id=\"11.1.2.2.-鞍点-2.4.2.2\">11.1.2.2. 鞍点</a></span></li><li><span><a href=\"#11.1.2.3.梯度消失\" data-toc-modified-id=\"11.1.2.3.梯度消失-2.4.2.3\">11.1.2.3.梯度消失</a></span></li></ul></li><li><span><a href=\"#11.1.3.-小结¶\" data-toc-modified-id=\"11.1.3.-小结¶-2.4.3\">11.1.3. 小结¶</a></span></li></ul></li><li><span><a href=\"#11.2-凸性\" data-toc-modified-id=\"11.2-凸性-2.5\">11.2 凸性</a></span><ul class=\"toc-item\"><li><span><a href=\"#11.2.1.-定义\" data-toc-modified-id=\"11.2.1.-定义-2.5.1\">11.2.1. 定义</a></span><ul class=\"toc-item\"><li><span><a href=\"#11.2.1.1-凸集\" data-toc-modified-id=\"11.2.1.1-凸集-2.5.1.1\">11.2.1.1 凸集</a></span></li><li><span><a href=\"#11.2.1.1-凸函数\" data-toc-modified-id=\"11.2.1.1-凸函数-2.5.1.2\">11.2.1.1 凸函数</a></span></li></ul></li><li><span><a href=\"#11.2.2.-性质\" data-toc-modified-id=\"11.2.2.-性质-2.5.2\">11.2.2. 性质</a></span><ul class=\"toc-item\"><li><span><a href=\"#11.2.2.1.-局部极小值是全局极小值\" data-toc-modified-id=\"11.2.2.1.-局部极小值是全局极小值-2.5.2.1\">11.2.2.1. 局部极小值是全局极小值</a></span></li></ul></li></ul></li><li><span><a href=\"#11.3梯度下降\" data-toc-modified-id=\"11.3梯度下降-2.6\">11.3梯度下降</a></span><ul class=\"toc-item\"><li><span><a href=\"#11.3.1.-一维梯度下降\" data-toc-modified-id=\"11.3.1.-一维梯度下降-2.6.1\">11.3.1. 一维梯度下降</a></span><ul class=\"toc-item\"><li><span><a href=\"#11.3.1.1-学习率\" data-toc-modified-id=\"11.3.1.1-学习率-2.6.1.1\">11.3.1.1 学习率</a></span></li><li><span><a href=\"#11.3.1.2.-局部最小值\" data-toc-modified-id=\"11.3.1.2.-局部最小值-2.6.1.2\">11.3.1.2. 局部最小值</a></span></li></ul></li><li><span><a href=\"#11.3.2.-多元梯度下降\" data-toc-modified-id=\"11.3.2.-多元梯度下降-2.6.2\">11.3.2. 多元梯度下降</a></span></li><li><span><a href=\"#11.3.3.-自适应方法\" data-toc-modified-id=\"11.3.3.-自适应方法-2.6.3\">11.3.3. 自适应方法</a></span><ul class=\"toc-item\"><li><span><a href=\"#11.3.3.1牛顿法\" data-toc-modified-id=\"11.3.3.1牛顿法-2.6.3.1\">11.3.3.1牛顿法</a></span></li><li><span><a href=\"#11.3.3.2.-收敛性分析\" data-toc-modified-id=\"11.3.3.2.-收敛性分析-2.6.3.2\">11.3.3.2. 收敛性分析</a></span></li><li><span><a href=\"#11.3.3.3.-预处理\" data-toc-modified-id=\"11.3.3.3.-预处理-2.6.3.3\">11.3.3.3. 预处理</a></span></li><li><span><a href=\"#11.3.3.4.-梯度下降和线搜索\" data-toc-modified-id=\"11.3.3.4.-梯度下降和线搜索-2.6.3.4\">11.3.3.4. 梯度下降和线搜索</a></span></li></ul></li><li><span><a href=\"#11.3.4.-小结\" data-toc-modified-id=\"11.3.4.-小结-2.6.4\">11.3.4. 小结</a></span></li></ul></li><li><span><a href=\"#11.4随机梯度下降\" data-toc-modified-id=\"11.4随机梯度下降-2.7\">11.4随机梯度下降</a></span><ul class=\"toc-item\"><li><span><a href=\"#11.4.1-随机梯度更新\" data-toc-modified-id=\"11.4.1-随机梯度更新-2.7.1\">11.4.1 随机梯度更新</a></span></li><li><span><a href=\"#11.4.2-动态学习率\" data-toc-modified-id=\"11.4.2-动态学习率-2.7.2\">11.4.2 动态学习率</a></span></li><li><span><a href=\"#11.4.5.-小结\" data-toc-modified-id=\"11.4.5.-小结-2.7.3\">11.4.5. 小结</a></span></li></ul></li></ul></li></ul></div>"
   ]
  },
  {
   "cell_type": "code",
   "execution_count": 5,
   "metadata": {
    "ExecuteTime": {
     "end_time": "2022-01-05T06:46:38.096748Z",
     "start_time": "2022-01-05T06:46:38.092012Z"
    }
   },
   "outputs": [],
   "source": [
    "import tensorflow as tf\n",
    "import pandas as pd\n",
    "import numpy as np\n",
    "import random\n",
    "import matplotlib.pyplot as plt\n",
    "import warnings\n",
    "import os\n",
    "import time\n",
    "warnings.filterwarnings('ignore')"
   ]
  },
  {
   "cell_type": "markdown",
   "metadata": {},
   "source": [
    "## 2.预备知识"
   ]
  },
  {
   "cell_type": "markdown",
   "metadata": {},
   "source": [
    "### 2.1数据操作\n",
    "#### 2.1.1入门"
   ]
  },
  {
   "cell_type": "code",
   "execution_count": 7,
   "metadata": {
    "ExecuteTime": {
     "end_time": "2022-01-05T06:47:33.595508Z",
     "start_time": "2022-01-05T06:47:33.589876Z"
    }
   },
   "outputs": [
    {
     "data": {
      "text/plain": [
       "<tf.Tensor: shape=(12,), dtype=int32, numpy=array([ 0,  1,  2,  3,  4,  5,  6,  7,  8,  9, 10, 11], dtype=int32)>"
      ]
     },
     "execution_count": 7,
     "metadata": {},
     "output_type": "execute_result"
    }
   ],
   "source": [
    "x = tf.range(12)\n",
    "x"
   ]
  },
  {
   "cell_type": "code",
   "execution_count": 17,
   "metadata": {
    "ExecuteTime": {
     "end_time": "2022-01-05T06:49:06.657497Z",
     "start_time": "2022-01-05T06:49:06.652912Z"
    }
   },
   "outputs": [
    {
     "data": {
      "text/plain": [
       "TensorShape([12])"
      ]
     },
     "execution_count": 17,
     "metadata": {},
     "output_type": "execute_result"
    }
   ],
   "source": [
    "x.shape"
   ]
  },
  {
   "cell_type": "code",
   "execution_count": 18,
   "metadata": {
    "ExecuteTime": {
     "end_time": "2022-01-05T06:49:09.175314Z",
     "start_time": "2022-01-05T06:49:09.169769Z"
    }
   },
   "outputs": [
    {
     "data": {
      "text/plain": [
       "<tf.Tensor: shape=(), dtype=int32, numpy=12>"
      ]
     },
     "execution_count": 18,
     "metadata": {},
     "output_type": "execute_result"
    }
   ],
   "source": [
    "tf.size(x)"
   ]
  },
  {
   "cell_type": "code",
   "execution_count": 19,
   "metadata": {
    "ExecuteTime": {
     "end_time": "2022-01-05T06:49:27.980871Z",
     "start_time": "2022-01-05T06:49:27.973139Z"
    }
   },
   "outputs": [
    {
     "data": {
      "text/plain": [
       "<tf.Tensor: shape=(3, 4), dtype=int32, numpy=\n",
       "array([[ 0,  1,  2,  3],\n",
       "       [ 4,  5,  6,  7],\n",
       "       [ 8,  9, 10, 11]], dtype=int32)>"
      ]
     },
     "execution_count": 19,
     "metadata": {},
     "output_type": "execute_result"
    }
   ],
   "source": [
    "tf.reshape(x,(3,4))"
   ]
  },
  {
   "cell_type": "code",
   "execution_count": 20,
   "metadata": {
    "ExecuteTime": {
     "end_time": "2022-01-05T06:49:33.181903Z",
     "start_time": "2022-01-05T06:49:33.176350Z"
    }
   },
   "outputs": [
    {
     "data": {
      "text/plain": [
       "<tf.Tensor: shape=(3, 4), dtype=int32, numpy=\n",
       "array([[ 0,  1,  2,  3],\n",
       "       [ 4,  5,  6,  7],\n",
       "       [ 8,  9, 10, 11]], dtype=int32)>"
      ]
     },
     "execution_count": 20,
     "metadata": {},
     "output_type": "execute_result"
    }
   ],
   "source": [
    "tf.reshape(x,(-1,4))"
   ]
  },
  {
   "cell_type": "code",
   "execution_count": 21,
   "metadata": {
    "ExecuteTime": {
     "end_time": "2022-01-05T06:51:23.183891Z",
     "start_time": "2022-01-05T06:51:23.176403Z"
    }
   },
   "outputs": [
    {
     "data": {
      "text/plain": [
       "<tf.Tensor: shape=(3, 4), dtype=float32, numpy=\n",
       "array([[0., 0., 0., 0.],\n",
       "       [0., 0., 0., 0.],\n",
       "       [0., 0., 0., 0.]], dtype=float32)>"
      ]
     },
     "execution_count": 21,
     "metadata": {},
     "output_type": "execute_result"
    }
   ],
   "source": [
    "tf.zeros((3,4))"
   ]
  },
  {
   "cell_type": "code",
   "execution_count": 22,
   "metadata": {
    "ExecuteTime": {
     "end_time": "2022-01-05T06:51:28.479943Z",
     "start_time": "2022-01-05T06:51:28.473243Z"
    }
   },
   "outputs": [
    {
     "data": {
      "text/plain": [
       "<tf.Tensor: shape=(3, 4), dtype=float32, numpy=\n",
       "array([[1., 1., 1., 1.],\n",
       "       [1., 1., 1., 1.],\n",
       "       [1., 1., 1., 1.]], dtype=float32)>"
      ]
     },
     "execution_count": 22,
     "metadata": {},
     "output_type": "execute_result"
    }
   ],
   "source": [
    "tf.ones((3,4))"
   ]
  },
  {
   "cell_type": "code",
   "execution_count": 28,
   "metadata": {
    "ExecuteTime": {
     "end_time": "2022-01-05T06:53:06.448356Z",
     "start_time": "2022-01-05T06:53:06.442115Z"
    }
   },
   "outputs": [
    {
     "data": {
      "text/plain": [
       "<tf.Tensor: shape=(3, 4), dtype=float32, numpy=\n",
       "array([[ 4.2333584 ,  2.3934479 ,  1.7916293 ,  1.4773493 ],\n",
       "       [ 2.3849158 , -0.03650892, -0.52580655,  1.3075398 ],\n",
       "       [ 0.9269049 ,  1.5649221 , -4.1858587 , -2.650894  ]],\n",
       "      dtype=float32)>"
      ]
     },
     "execution_count": 28,
     "metadata": {},
     "output_type": "execute_result"
    }
   ],
   "source": [
    "tf.random.normal(shape=(3,4),mean=1,stddev=2)"
   ]
  },
  {
   "cell_type": "code",
   "execution_count": 30,
   "metadata": {
    "ExecuteTime": {
     "end_time": "2022-01-05T06:53:26.917241Z",
     "start_time": "2022-01-05T06:53:26.911911Z"
    }
   },
   "outputs": [
    {
     "data": {
      "text/plain": [
       "<tf.Tensor: shape=(1, 2), dtype=float32, numpy=array([[1., 2.]], dtype=float32)>"
      ]
     },
     "execution_count": 30,
     "metadata": {},
     "output_type": "execute_result"
    }
   ],
   "source": [
    "tf.constant([[1.,2]])"
   ]
  },
  {
   "cell_type": "markdown",
   "metadata": {},
   "source": [
    "#### 2.1.2运算符"
   ]
  },
  {
   "cell_type": "code",
   "execution_count": 42,
   "metadata": {
    "ExecuteTime": {
     "end_time": "2022-01-05T07:06:18.116467Z",
     "start_time": "2022-01-05T07:06:18.111335Z"
    }
   },
   "outputs": [
    {
     "data": {
      "text/plain": [
       "<tf.Tensor: shape=(2, 3), dtype=int32, numpy=\n",
       "array([[1, 1, 1],\n",
       "       [2, 1, 0]], dtype=int32)>"
      ]
     },
     "execution_count": 42,
     "metadata": {},
     "output_type": "execute_result"
    }
   ],
   "source": [
    "a=tf.constant([[1,1,1],[2,1,0]])\n",
    "a"
   ]
  },
  {
   "cell_type": "code",
   "execution_count": 44,
   "metadata": {
    "ExecuteTime": {
     "end_time": "2022-01-05T07:06:24.257120Z",
     "start_time": "2022-01-05T07:06:24.252213Z"
    }
   },
   "outputs": [
    {
     "data": {
      "text/plain": [
       "<tf.Tensor: shape=(2, 3), dtype=int32, numpy=\n",
       "array([[1, 2, 4],\n",
       "       [3, 4, 1]], dtype=int32)>"
      ]
     },
     "execution_count": 44,
     "metadata": {},
     "output_type": "execute_result"
    }
   ],
   "source": [
    "b=tf.constant([[1,2,4],[3,4,1]])\n",
    "b"
   ]
  },
  {
   "cell_type": "code",
   "execution_count": 47,
   "metadata": {
    "ExecuteTime": {
     "end_time": "2022-01-05T07:06:51.840872Z",
     "start_time": "2022-01-05T07:06:51.833132Z"
    }
   },
   "outputs": [
    {
     "data": {
      "text/plain": [
       "(<tf.Tensor: shape=(2, 3), dtype=int32, numpy=\n",
       " array([[2, 3, 5],\n",
       "        [5, 5, 1]], dtype=int32)>,\n",
       " <tf.Tensor: shape=(2, 3), dtype=int32, numpy=\n",
       " array([[ 0, -1, -3],\n",
       "        [-1, -3, -1]], dtype=int32)>,\n",
       " <tf.Tensor: shape=(2, 3), dtype=int32, numpy=\n",
       " array([[1, 2, 4],\n",
       "        [6, 4, 0]], dtype=int32)>,\n",
       " <tf.Tensor: shape=(2, 3), dtype=float64, numpy=\n",
       " array([[1.        , 0.5       , 0.25      ],\n",
       "        [0.66666667, 0.25      , 0.        ]])>)"
      ]
     },
     "execution_count": 47,
     "metadata": {},
     "output_type": "execute_result"
    }
   ],
   "source": [
    "# 按元素运算\n",
    "a+b,a-b,a*b,a/b"
   ]
  },
  {
   "cell_type": "code",
   "execution_count": 49,
   "metadata": {
    "ExecuteTime": {
     "end_time": "2022-01-05T07:09:32.056298Z",
     "start_time": "2022-01-05T07:09:32.022685Z"
    },
    "scrolled": true
   },
   "outputs": [
    {
     "ename": "NotFoundError",
     "evalue": "Could not find valid device for node.\nNode:{{node Exp}}\nAll kernels registered for op Exp :\n  device='XLA_GPU'; T in [DT_FLOAT, DT_DOUBLE, DT_COMPLEX64, DT_BFLOAT16, DT_COMPLEX128, DT_HALF]\n  device='XLA_CPU'; T in [DT_FLOAT, DT_DOUBLE, DT_COMPLEX64, DT_BFLOAT16, DT_COMPLEX128, DT_HALF]\n  device='XLA_GPU_JIT'; T in [DT_FLOAT, DT_DOUBLE, DT_COMPLEX64, DT_BFLOAT16, DT_COMPLEX128, DT_HALF]\n  device='GPU'; T in [DT_COMPLEX128]\n  device='GPU'; T in [DT_COMPLEX64]\n  device='GPU'; T in [DT_DOUBLE]\n  device='GPU'; T in [DT_HALF]\n  device='GPU'; T in [DT_FLOAT]\n  device='CPU'; T in [DT_COMPLEX128]\n  device='CPU'; T in [DT_COMPLEX64]\n  device='CPU'; T in [DT_DOUBLE]\n  device='CPU'; T in [DT_HALF]\n  device='CPU'; T in [DT_FLOAT]\n  device='XLA_CPU_JIT'; T in [DT_FLOAT, DT_DOUBLE, DT_COMPLEX64, DT_BFLOAT16, DT_COMPLEX128, DT_HALF]\n [Op:Exp]",
     "output_type": "error",
     "traceback": [
      "\u001b[0;31m---------------------------------------------------------------------------\u001b[0m",
      "\u001b[0;31mNotFoundError\u001b[0m                             Traceback (most recent call last)",
      "\u001b[0;32m<ipython-input-49-6894707eee4a>\u001b[0m in \u001b[0;36m<module>\u001b[0;34m\u001b[0m\n\u001b[1;32m      1\u001b[0m \u001b[0;31m# 很多tf函数要求浮点格式，此int型计算报错\u001b[0m\u001b[0;34m\u001b[0m\u001b[0;34m\u001b[0m\u001b[0;34m\u001b[0m\u001b[0m\n\u001b[0;32m----> 2\u001b[0;31m \u001b[0mtf\u001b[0m\u001b[0;34m.\u001b[0m\u001b[0mexp\u001b[0m\u001b[0;34m(\u001b[0m\u001b[0ma\u001b[0m\u001b[0;34m)\u001b[0m\u001b[0;34m\u001b[0m\u001b[0;34m\u001b[0m\u001b[0m\n\u001b[0m",
      "\u001b[0;32m~/.local/lib/python3.6/site-packages/tensorflow/python/util/dispatch.py\u001b[0m in \u001b[0;36mwrapper\u001b[0;34m(*args, **kwargs)\u001b[0m\n\u001b[1;32m    178\u001b[0m     \u001b[0;34m\"\"\"Call target, and fall back on dispatchers if there is a TypeError.\"\"\"\u001b[0m\u001b[0;34m\u001b[0m\u001b[0;34m\u001b[0m\u001b[0m\n\u001b[1;32m    179\u001b[0m     \u001b[0;32mtry\u001b[0m\u001b[0;34m:\u001b[0m\u001b[0;34m\u001b[0m\u001b[0;34m\u001b[0m\u001b[0m\n\u001b[0;32m--> 180\u001b[0;31m       \u001b[0;32mreturn\u001b[0m \u001b[0mtarget\u001b[0m\u001b[0;34m(\u001b[0m\u001b[0;34m*\u001b[0m\u001b[0margs\u001b[0m\u001b[0;34m,\u001b[0m \u001b[0;34m**\u001b[0m\u001b[0mkwargs\u001b[0m\u001b[0;34m)\u001b[0m\u001b[0;34m\u001b[0m\u001b[0;34m\u001b[0m\u001b[0m\n\u001b[0m\u001b[1;32m    181\u001b[0m     \u001b[0;32mexcept\u001b[0m \u001b[0;34m(\u001b[0m\u001b[0mTypeError\u001b[0m\u001b[0;34m,\u001b[0m \u001b[0mValueError\u001b[0m\u001b[0;34m)\u001b[0m\u001b[0;34m:\u001b[0m\u001b[0;34m\u001b[0m\u001b[0;34m\u001b[0m\u001b[0m\n\u001b[1;32m    182\u001b[0m       \u001b[0;31m# Note: convert_to_eager_tensor currently raises a ValueError, not a\u001b[0m\u001b[0;34m\u001b[0m\u001b[0;34m\u001b[0m\u001b[0;34m\u001b[0m\u001b[0m\n",
      "\u001b[0;32m~/.local/lib/python3.6/site-packages/tensorflow/python/ops/math_ops.py\u001b[0m in \u001b[0;36mexp\u001b[0;34m(x, name)\u001b[0m\n\u001b[1;32m   4641\u001b[0m   \u001b[0;34m@\u001b[0m\u001b[0mend_compatibility\u001b[0m\u001b[0;34m\u001b[0m\u001b[0;34m\u001b[0m\u001b[0m\n\u001b[1;32m   4642\u001b[0m   \"\"\"\n\u001b[0;32m-> 4643\u001b[0;31m   \u001b[0;32mreturn\u001b[0m \u001b[0mgen_math_ops\u001b[0m\u001b[0;34m.\u001b[0m\u001b[0mexp\u001b[0m\u001b[0;34m(\u001b[0m\u001b[0mx\u001b[0m\u001b[0;34m,\u001b[0m \u001b[0mname\u001b[0m\u001b[0;34m)\u001b[0m\u001b[0;34m\u001b[0m\u001b[0;34m\u001b[0m\u001b[0m\n\u001b[0m\u001b[1;32m   4644\u001b[0m \u001b[0;34m\u001b[0m\u001b[0m\n\u001b[1;32m   4645\u001b[0m \u001b[0;34m\u001b[0m\u001b[0m\n",
      "\u001b[0;32m~/.local/lib/python3.6/site-packages/tensorflow/python/ops/gen_math_ops.py\u001b[0m in \u001b[0;36mexp\u001b[0;34m(x, name)\u001b[0m\n\u001b[1;32m   3574\u001b[0m         \u001b[0;32mpass\u001b[0m  \u001b[0;31m# Add nodes to the TensorFlow graph.\u001b[0m\u001b[0;34m\u001b[0m\u001b[0;34m\u001b[0m\u001b[0m\n\u001b[1;32m   3575\u001b[0m     \u001b[0;32mexcept\u001b[0m \u001b[0m_core\u001b[0m\u001b[0;34m.\u001b[0m\u001b[0m_NotOkStatusException\u001b[0m \u001b[0;32mas\u001b[0m \u001b[0me\u001b[0m\u001b[0;34m:\u001b[0m\u001b[0;34m\u001b[0m\u001b[0;34m\u001b[0m\u001b[0m\n\u001b[0;32m-> 3576\u001b[0;31m       \u001b[0m_ops\u001b[0m\u001b[0;34m.\u001b[0m\u001b[0mraise_from_not_ok_status\u001b[0m\u001b[0;34m(\u001b[0m\u001b[0me\u001b[0m\u001b[0;34m,\u001b[0m \u001b[0mname\u001b[0m\u001b[0;34m)\u001b[0m\u001b[0;34m\u001b[0m\u001b[0;34m\u001b[0m\u001b[0m\n\u001b[0m\u001b[1;32m   3577\u001b[0m   \u001b[0;31m# Add nodes to the TensorFlow graph.\u001b[0m\u001b[0;34m\u001b[0m\u001b[0;34m\u001b[0m\u001b[0;34m\u001b[0m\u001b[0m\n\u001b[1;32m   3578\u001b[0m   _, _, _op, _outputs = _op_def_library._apply_op_helper(\n",
      "\u001b[0;32m~/.local/lib/python3.6/site-packages/tensorflow/python/framework/ops.py\u001b[0m in \u001b[0;36mraise_from_not_ok_status\u001b[0;34m(e, name)\u001b[0m\n\u001b[1;32m   6651\u001b[0m   \u001b[0mmessage\u001b[0m \u001b[0;34m=\u001b[0m \u001b[0me\u001b[0m\u001b[0;34m.\u001b[0m\u001b[0mmessage\u001b[0m \u001b[0;34m+\u001b[0m \u001b[0;34m(\u001b[0m\u001b[0;34m\" name: \"\u001b[0m \u001b[0;34m+\u001b[0m \u001b[0mname\u001b[0m \u001b[0;32mif\u001b[0m \u001b[0mname\u001b[0m \u001b[0;32mis\u001b[0m \u001b[0;32mnot\u001b[0m \u001b[0;32mNone\u001b[0m \u001b[0;32melse\u001b[0m \u001b[0;34m\"\"\u001b[0m\u001b[0;34m)\u001b[0m\u001b[0;34m\u001b[0m\u001b[0;34m\u001b[0m\u001b[0m\n\u001b[1;32m   6652\u001b[0m   \u001b[0;31m# pylint: disable=protected-access\u001b[0m\u001b[0;34m\u001b[0m\u001b[0;34m\u001b[0m\u001b[0;34m\u001b[0m\u001b[0m\n\u001b[0;32m-> 6653\u001b[0;31m   \u001b[0msix\u001b[0m\u001b[0;34m.\u001b[0m\u001b[0mraise_from\u001b[0m\u001b[0;34m(\u001b[0m\u001b[0mcore\u001b[0m\u001b[0;34m.\u001b[0m\u001b[0m_status_to_exception\u001b[0m\u001b[0;34m(\u001b[0m\u001b[0me\u001b[0m\u001b[0;34m.\u001b[0m\u001b[0mcode\u001b[0m\u001b[0;34m,\u001b[0m \u001b[0mmessage\u001b[0m\u001b[0;34m)\u001b[0m\u001b[0;34m,\u001b[0m \u001b[0;32mNone\u001b[0m\u001b[0;34m)\u001b[0m\u001b[0;34m\u001b[0m\u001b[0;34m\u001b[0m\u001b[0m\n\u001b[0m\u001b[1;32m   6654\u001b[0m   \u001b[0;31m# pylint: enable=protected-access\u001b[0m\u001b[0;34m\u001b[0m\u001b[0;34m\u001b[0m\u001b[0;34m\u001b[0m\u001b[0m\n\u001b[1;32m   6655\u001b[0m \u001b[0;34m\u001b[0m\u001b[0m\n",
      "\u001b[0;32m/usr/local/lib/python3.6/site-packages/six.py\u001b[0m in \u001b[0;36mraise_from\u001b[0;34m(value, from_value)\u001b[0m\n",
      "\u001b[0;31mNotFoundError\u001b[0m: Could not find valid device for node.\nNode:{{node Exp}}\nAll kernels registered for op Exp :\n  device='XLA_GPU'; T in [DT_FLOAT, DT_DOUBLE, DT_COMPLEX64, DT_BFLOAT16, DT_COMPLEX128, DT_HALF]\n  device='XLA_CPU'; T in [DT_FLOAT, DT_DOUBLE, DT_COMPLEX64, DT_BFLOAT16, DT_COMPLEX128, DT_HALF]\n  device='XLA_GPU_JIT'; T in [DT_FLOAT, DT_DOUBLE, DT_COMPLEX64, DT_BFLOAT16, DT_COMPLEX128, DT_HALF]\n  device='GPU'; T in [DT_COMPLEX128]\n  device='GPU'; T in [DT_COMPLEX64]\n  device='GPU'; T in [DT_DOUBLE]\n  device='GPU'; T in [DT_HALF]\n  device='GPU'; T in [DT_FLOAT]\n  device='CPU'; T in [DT_COMPLEX128]\n  device='CPU'; T in [DT_COMPLEX64]\n  device='CPU'; T in [DT_DOUBLE]\n  device='CPU'; T in [DT_HALF]\n  device='CPU'; T in [DT_FLOAT]\n  device='XLA_CPU_JIT'; T in [DT_FLOAT, DT_DOUBLE, DT_COMPLEX64, DT_BFLOAT16, DT_COMPLEX128, DT_HALF]\n [Op:Exp]"
     ]
    }
   ],
   "source": [
    "# 很多tf函数要求浮点格式，此int型计算报错\n",
    "tf.exp(a)"
   ]
  },
  {
   "cell_type": "code",
   "execution_count": 52,
   "metadata": {
    "ExecuteTime": {
     "end_time": "2022-01-05T07:10:22.635244Z",
     "start_time": "2022-01-05T07:10:22.629413Z"
    }
   },
   "outputs": [
    {
     "data": {
      "text/plain": [
       "<tf.Tensor: shape=(2, 3), dtype=float32, numpy=\n",
       "array([[1., 1., 1.],\n",
       "       [2., 1., 0.]], dtype=float32)>"
      ]
     },
     "execution_count": 52,
     "metadata": {},
     "output_type": "execute_result"
    }
   ],
   "source": [
    "tf.cast(a,'float32')"
   ]
  },
  {
   "cell_type": "code",
   "execution_count": 55,
   "metadata": {
    "ExecuteTime": {
     "end_time": "2022-01-05T07:10:56.106249Z",
     "start_time": "2022-01-05T07:10:56.100732Z"
    }
   },
   "outputs": [
    {
     "data": {
      "text/plain": [
       "<tf.Tensor: shape=(2, 3), dtype=float32, numpy=\n",
       "array([[2.7182817, 2.7182817, 2.7182817],\n",
       "       [7.389056 , 2.7182817, 1.       ]], dtype=float32)>"
      ]
     },
     "execution_count": 55,
     "metadata": {},
     "output_type": "execute_result"
    }
   ],
   "source": [
    "# 变类型后不报错了\n",
    "tf.exp(tf.cast(a,'float32'))"
   ]
  },
  {
   "cell_type": "code",
   "execution_count": 57,
   "metadata": {
    "ExecuteTime": {
     "end_time": "2022-01-05T07:13:27.907477Z",
     "start_time": "2022-01-05T07:13:27.901000Z"
    }
   },
   "outputs": [
    {
     "data": {
      "text/plain": [
       "<tf.Tensor: shape=(4, 3), dtype=int32, numpy=\n",
       "array([[1, 1, 1],\n",
       "       [2, 1, 0],\n",
       "       [1, 2, 4],\n",
       "       [3, 4, 1]], dtype=int32)>"
      ]
     },
     "execution_count": 57,
     "metadata": {},
     "output_type": "execute_result"
    }
   ],
   "source": [
    "# axis等于那个位置，那个位置就变多,0=行变多，1=列变多\n",
    "tf.concat([a,b],axis=0)"
   ]
  },
  {
   "cell_type": "code",
   "execution_count": 58,
   "metadata": {
    "ExecuteTime": {
     "end_time": "2022-01-05T07:14:26.471413Z",
     "start_time": "2022-01-05T07:14:26.465469Z"
    }
   },
   "outputs": [
    {
     "data": {
      "text/plain": [
       "<tf.Tensor: shape=(2, 6), dtype=int32, numpy=\n",
       "array([[1, 1, 1, 1, 2, 4],\n",
       "       [2, 1, 0, 3, 4, 1]], dtype=int32)>"
      ]
     },
     "execution_count": 58,
     "metadata": {},
     "output_type": "execute_result"
    }
   ],
   "source": [
    "tf.concat([a,b],axis=1)"
   ]
  },
  {
   "cell_type": "code",
   "execution_count": 59,
   "metadata": {
    "ExecuteTime": {
     "end_time": "2022-01-05T07:16:37.396340Z",
     "start_time": "2022-01-05T07:16:37.389111Z"
    }
   },
   "outputs": [
    {
     "data": {
      "text/plain": [
       "<tf.Tensor: shape=(2, 3), dtype=bool, numpy=\n",
       "array([[ True, False, False],\n",
       "       [False, False, False]])>"
      ]
     },
     "execution_count": 59,
     "metadata": {},
     "output_type": "execute_result"
    }
   ],
   "source": [
    "# bool型二元张量\n",
    "a==b"
   ]
  },
  {
   "cell_type": "code",
   "execution_count": 61,
   "metadata": {
    "ExecuteTime": {
     "end_time": "2022-01-05T07:17:10.427155Z",
     "start_time": "2022-01-05T07:17:10.422662Z"
    }
   },
   "outputs": [
    {
     "data": {
      "text/plain": [
       "<tf.Tensor: shape=(), dtype=int32, numpy=6>"
      ]
     },
     "execution_count": 61,
     "metadata": {},
     "output_type": "execute_result"
    }
   ],
   "source": [
    "# 所有元素累计求和 return 0D标量\n",
    "tf.reduce_sum(a)"
   ]
  },
  {
   "cell_type": "markdown",
   "metadata": {},
   "source": [
    "#### 2.1.3广播机制"
   ]
  },
  {
   "cell_type": "code",
   "execution_count": 63,
   "metadata": {
    "ExecuteTime": {
     "end_time": "2022-01-05T07:28:51.167506Z",
     "start_time": "2022-01-05T07:28:51.160093Z"
    }
   },
   "outputs": [
    {
     "data": {
      "text/plain": [
       "(<tf.Tensor: shape=(3, 1), dtype=int32, numpy=\n",
       " array([[0],\n",
       "        [1],\n",
       "        [2]], dtype=int32)>,\n",
       " <tf.Tensor: shape=(1, 2), dtype=int32, numpy=array([[0, 1]], dtype=int32)>)"
      ]
     },
     "execution_count": 63,
     "metadata": {},
     "output_type": "execute_result"
    }
   ],
   "source": [
    "a = tf.reshape(tf.range(3),(3,1))\n",
    "b = tf.reshape(tf.range(2),(1,2))\n",
    "a,b"
   ]
  },
  {
   "cell_type": "code",
   "execution_count": 65,
   "metadata": {
    "ExecuteTime": {
     "end_time": "2022-01-05T07:30:13.269508Z",
     "start_time": "2022-01-05T07:30:13.263724Z"
    }
   },
   "outputs": [
    {
     "data": {
      "text/plain": [
       "<tf.Tensor: shape=(3, 2), dtype=int32, numpy=\n",
       "array([[0, 1],\n",
       "       [1, 2],\n",
       "       [2, 3]], dtype=int32)>"
      ]
     },
     "execution_count": 65,
     "metadata": {},
     "output_type": "execute_result"
    }
   ],
   "source": [
    "# 大部分情况下沿着axis=1的轴广播\n",
    "a+b"
   ]
  },
  {
   "cell_type": "markdown",
   "metadata": {},
   "source": [
    "#### 2.1.4索引和切片"
   ]
  },
  {
   "cell_type": "code",
   "execution_count": 67,
   "metadata": {
    "ExecuteTime": {
     "end_time": "2022-01-05T07:31:52.543401Z",
     "start_time": "2022-01-05T07:31:52.538188Z"
    }
   },
   "outputs": [
    {
     "data": {
      "text/plain": [
       "<tf.Tensor: shape=(12,), dtype=int32, numpy=array([ 0,  1,  2,  3,  4,  5,  6,  7,  8,  9, 10, 11], dtype=int32)>"
      ]
     },
     "execution_count": 67,
     "metadata": {},
     "output_type": "execute_result"
    }
   ],
   "source": [
    "x"
   ]
  },
  {
   "cell_type": "code",
   "execution_count": 69,
   "metadata": {
    "ExecuteTime": {
     "end_time": "2022-01-05T07:32:04.457360Z",
     "start_time": "2022-01-05T07:32:04.451128Z"
    }
   },
   "outputs": [
    {
     "data": {
      "text/plain": [
       "(<tf.Tensor: shape=(), dtype=int32, numpy=0>,\n",
       " <tf.Tensor: shape=(3,), dtype=int32, numpy=array([1, 2, 3], dtype=int32)>)"
      ]
     },
     "execution_count": 69,
     "metadata": {},
     "output_type": "execute_result"
    }
   ],
   "source": [
    "x[0],x[1:4]"
   ]
  },
  {
   "cell_type": "code",
   "execution_count": 71,
   "metadata": {
    "ExecuteTime": {
     "end_time": "2022-01-05T07:33:09.547631Z",
     "start_time": "2022-01-05T07:33:09.545138Z"
    }
   },
   "outputs": [],
   "source": [
    "# TensorFlow中的Tensors是不可变的，也不能被赋值。 TensorFlow中的Variables是支持赋值的可变容器"
   ]
  },
  {
   "cell_type": "code",
   "execution_count": 80,
   "metadata": {
    "ExecuteTime": {
     "end_time": "2022-01-05T07:36:15.607757Z",
     "start_time": "2022-01-05T07:36:15.598772Z"
    }
   },
   "outputs": [
    {
     "data": {
      "text/plain": [
       "<tf.Variable 'Variable:0' shape=(12,) dtype=int32, numpy=array([ 0,  1,  2,  3,  4,  5,  6,  7,  8,  9, 10, 11], dtype=int32)>"
      ]
     },
     "execution_count": 80,
     "metadata": {},
     "output_type": "execute_result"
    }
   ],
   "source": [
    "x1 = tf.Variable(tf.range(12))\n",
    "x1"
   ]
  },
  {
   "cell_type": "code",
   "execution_count": 81,
   "metadata": {
    "ExecuteTime": {
     "end_time": "2022-01-05T07:36:16.176851Z",
     "start_time": "2022-01-05T07:36:16.169211Z"
    }
   },
   "outputs": [
    {
     "data": {
      "text/plain": [
       "<tf.Variable 'UnreadVariable' shape=(12,) dtype=int32, numpy=array([ 5,  1,  2,  3,  4,  5,  6,  7,  8,  9, 10, 11], dtype=int32)>"
      ]
     },
     "execution_count": 81,
     "metadata": {},
     "output_type": "execute_result"
    }
   ],
   "source": [
    "# variable 支持切片赋值 直接改变原变量\n",
    "x1[0].assign(x1[0]+5)"
   ]
  },
  {
   "cell_type": "code",
   "execution_count": 90,
   "metadata": {
    "ExecuteTime": {
     "end_time": "2022-01-05T07:38:50.615523Z",
     "start_time": "2022-01-05T07:38:50.609798Z"
    }
   },
   "outputs": [
    {
     "data": {
      "text/plain": [
       "<tf.Tensor: shape=(12,), dtype=int32, numpy=array([0, 0, 0, 0, 0, 0, 0, 0, 0, 0, 0, 0], dtype=int32)>"
      ]
     },
     "execution_count": 90,
     "metadata": {},
     "output_type": "execute_result"
    }
   ],
   "source": [
    "# 必须类型一致\n",
    "# tf.zeros(12,)+tf.zeros(12,dtype='int32') # 报错\n",
    "tf.zeros(12,dtype='int32')+tf.zeros(12,dtype='int32') # 正确"
   ]
  },
  {
   "cell_type": "code",
   "execution_count": 92,
   "metadata": {
    "ExecuteTime": {
     "end_time": "2022-01-05T07:39:46.476653Z",
     "start_time": "2022-01-05T07:39:46.469105Z"
    }
   },
   "outputs": [
    {
     "data": {
      "text/plain": [
       "<tf.Variable 'UnreadVariable' shape=(12,) dtype=int32, numpy=array([ 6,  2,  3,  4,  5,  6,  7,  8,  9, 10, 11, 12], dtype=int32)>"
      ]
     },
     "execution_count": 92,
     "metadata": {},
     "output_type": "execute_result"
    }
   ],
   "source": [
    "# 所有元素赋值，\n",
    "x1.assign_add(tf.cast(tf.ones(12),dtype='int32'))  # ones,zeros函数出来的都是float32型，需转int32"
   ]
  },
  {
   "cell_type": "markdown",
   "metadata": {},
   "source": [
    "#### 2.1.5节省内存"
   ]
  },
  {
   "cell_type": "code",
   "execution_count": 94,
   "metadata": {
    "ExecuteTime": {
     "end_time": "2022-01-05T07:42:43.801123Z",
     "start_time": "2022-01-05T07:42:43.796107Z"
    }
   },
   "outputs": [
    {
     "data": {
      "text/plain": [
       "False"
      ]
     },
     "execution_count": 94,
     "metadata": {},
     "output_type": "execute_result"
    }
   ],
   "source": [
    "# 运行一些操作可能会导致为新结果分配内存。 例如，如果我们用Y = X + Y，我们将取消引用Y指向的张量，而是指向新分配的内存处的张量。\n",
    "# 在下面的例子中，我们用Python的id()函数演示了这一点， 它给我们提供了内存中引用对象的确切地址。 运行Y = Y + X后，\n",
    "# 我们会发现id(Y)指向另一个位置。 这是因为Python首先计算Y + X，为结果分配新的内存，然后使Y指向内存中的这个新位置。\n",
    "before = id(a)\n",
    "a = a + b\n",
    "id(a) == before"
   ]
  },
  {
   "cell_type": "code",
   "execution_count": 95,
   "metadata": {
    "ExecuteTime": {
     "end_time": "2022-01-05T07:45:41.110134Z",
     "start_time": "2022-01-05T07:45:41.100323Z"
    }
   },
   "outputs": [
    {
     "name": "stdout",
     "output_type": "stream",
     "text": [
      "id(Z): 139900843145200\n",
      "id(Z): 139900843145200\n"
     ]
    }
   ],
   "source": [
    "# 这可能是不可取的，原因有两个：首先，我们不想总是不必要地分配内存。\n",
    "# 在机器学习中，我们可能有数百兆的参数，并且在一秒内多次更新所有参数。 \n",
    "#通常情况下，我们希望原地执行这些更新。 其次，如果我们不原地更新，其他引用仍然会指向旧的内存位置， \n",
    "# 这样我们的某些代码可能会无意中引用旧的参数。\n",
    "\n",
    "# Variables是TensorFlow中的可变容器，它们提供了一种存储模型参数的方法。 \n",
    "# 我们可以通过assign将一个操作的结果分配给一个Variable。 为了说明这一点，我们创建了一个与另一个张量Y相同的形状的Z，\n",
    "# 使用zeros_like来分配一个全 0 的块。\n",
    "c = tf.Variable(tf.zeros_like(a))\n",
    "print('id(Z):', id(c))\n",
    "c.assign(a + b)\n",
    "print('id(Z):', id(c))"
   ]
  },
  {
   "cell_type": "code",
   "execution_count": 96,
   "metadata": {
    "ExecuteTime": {
     "end_time": "2022-01-05T07:47:10.008031Z",
     "start_time": "2022-01-05T07:47:09.872383Z"
    }
   },
   "outputs": [
    {
     "data": {
      "text/plain": [
       "<tf.Tensor: shape=(3, 2), dtype=int32, numpy=\n",
       "array([[0, 5],\n",
       "       [1, 6],\n",
       "       [2, 7]], dtype=int32)>"
      ]
     },
     "execution_count": 96,
     "metadata": {},
     "output_type": "execute_result"
    }
   ],
   "source": [
    "# 即使你将状态持久存储在Variable中， 你也可能希望避免为不是模型参数的张量过度分配内存，从而进一步减少内存使用量。\n",
    "\n",
    "# 由于TensorFlow的Tensors是不可变的，而且梯度不会通过Variable流动， 因此TensorFlow没有提供一种明确的方式来原地运行单个操作。\n",
    "\n",
    "# 但是，TensorFlow提供了tf.function修饰符， 将计算封装在TensorFlow图中，该图在运行前经过编译和优化。 \n",
    "# 这允许TensorFlow删除未使用的值，并复用先前分配的且不再需要的值。 这样可以最大限度地减少TensorFlow计算的内存开销。\n",
    "@tf.function\n",
    "def computation(X, Y):\n",
    "    Z = tf.zeros_like(Y)  # 这个未使用的值将被删除\n",
    "    A = X + Y  # 当不再需要时，分配将被复用\n",
    "    B = A + Y\n",
    "    C = B + Y\n",
    "    return C + Y\n",
    "\n",
    "computation(a, b)\n"
   ]
  },
  {
   "cell_type": "markdown",
   "metadata": {},
   "source": [
    "#### 2.1.6转换为其他python对象"
   ]
  },
  {
   "cell_type": "code",
   "execution_count": 101,
   "metadata": {
    "ExecuteTime": {
     "end_time": "2022-01-05T07:50:00.644585Z",
     "start_time": "2022-01-05T07:50:00.638254Z"
    }
   },
   "outputs": [
    {
     "data": {
      "text/plain": [
       "<tf.Tensor: shape=(3, 2), dtype=int32, numpy=\n",
       "array([[0, 1],\n",
       "       [1, 2],\n",
       "       [2, 3]], dtype=int32)>"
      ]
     },
     "execution_count": 101,
     "metadata": {},
     "output_type": "execute_result"
    }
   ],
   "source": [
    "a"
   ]
  },
  {
   "cell_type": "code",
   "execution_count": 102,
   "metadata": {
    "ExecuteTime": {
     "end_time": "2022-01-05T07:50:07.143124Z",
     "start_time": "2022-01-05T07:50:07.137381Z"
    }
   },
   "outputs": [
    {
     "data": {
      "text/plain": [
       "array([[0, 1],\n",
       "       [1, 2],\n",
       "       [2, 3]], dtype=int32)"
      ]
     },
     "execution_count": 102,
     "metadata": {},
     "output_type": "execute_result"
    }
   ],
   "source": [
    "a.numpy()"
   ]
  },
  {
   "cell_type": "code",
   "execution_count": 103,
   "metadata": {
    "ExecuteTime": {
     "end_time": "2022-01-05T07:50:21.009484Z",
     "start_time": "2022-01-05T07:50:21.003137Z"
    }
   },
   "outputs": [
    {
     "data": {
      "text/plain": [
       "<tf.Tensor: shape=(3, 2), dtype=int32, numpy=\n",
       "array([[0, 1],\n",
       "       [1, 2],\n",
       "       [2, 3]], dtype=int32)>"
      ]
     },
     "execution_count": 103,
     "metadata": {},
     "output_type": "execute_result"
    }
   ],
   "source": [
    "tf.constant(a)"
   ]
  },
  {
   "cell_type": "markdown",
   "metadata": {},
   "source": [
    "#### 2.1.7小节"
   ]
  },
  {
   "cell_type": "markdown",
   "metadata": {},
   "source": [
    "* 深度学习存储和操作数据的主要接口是张量（ 𝑛 维数组）。它提供了各种功能，包括基本数学运算、广播、索引、切片、内存节省和转换其他Python对象。\n",
    "\n"
   ]
  },
  {
   "cell_type": "markdown",
   "metadata": {},
   "source": [
    "#### 2.1.8. 练习\n",
    "* 运行本节中的代码。将本节中的条件语句X == Y更改为X < Y或X > Y，然后看看你可以得到什么样的张量。\n",
    "* 用其他形状（例如三维张量）替换广播机制中按元素操作的两个张量。结果是否与预期相同？"
   ]
  },
  {
   "cell_type": "code",
   "execution_count": 111,
   "metadata": {
    "ExecuteTime": {
     "end_time": "2022-01-05T08:01:40.046371Z",
     "start_time": "2022-01-05T08:01:40.038581Z"
    }
   },
   "outputs": [
    {
     "data": {
      "text/plain": [
       "<tf.Variable 'Variable:0' shape=(3, 2) dtype=int32, numpy=\n",
       "array([[0, 2],\n",
       "       [1, 3],\n",
       "       [2, 4]], dtype=int32)>"
      ]
     },
     "execution_count": 111,
     "metadata": {},
     "output_type": "execute_result"
    }
   ],
   "source": [
    "c"
   ]
  },
  {
   "cell_type": "code",
   "execution_count": 112,
   "metadata": {
    "ExecuteTime": {
     "end_time": "2022-01-05T08:01:42.081815Z",
     "start_time": "2022-01-05T08:01:42.076050Z"
    }
   },
   "outputs": [
    {
     "data": {
      "text/plain": [
       "<tf.Tensor: shape=(3, 2), dtype=int32, numpy=\n",
       "array([[0, 1],\n",
       "       [1, 2],\n",
       "       [2, 3]], dtype=int32)>"
      ]
     },
     "execution_count": 112,
     "metadata": {},
     "output_type": "execute_result"
    }
   ],
   "source": [
    "a"
   ]
  },
  {
   "cell_type": "code",
   "execution_count": 114,
   "metadata": {
    "ExecuteTime": {
     "end_time": "2022-01-05T08:02:11.530405Z",
     "start_time": "2022-01-05T08:02:11.524121Z"
    }
   },
   "outputs": [
    {
     "data": {
      "text/plain": [
       "<tf.Tensor: shape=(3, 2), dtype=bool, numpy=\n",
       "array([[False,  True],\n",
       "       [False,  True],\n",
       "       [False,  True]])>"
      ]
     },
     "execution_count": 114,
     "metadata": {},
     "output_type": "execute_result"
    }
   ],
   "source": [
    "a<c"
   ]
  },
  {
   "cell_type": "code",
   "execution_count": 116,
   "metadata": {
    "ExecuteTime": {
     "end_time": "2022-01-05T08:05:50.599477Z",
     "start_time": "2022-01-05T08:05:50.592072Z"
    }
   },
   "outputs": [
    {
     "data": {
      "text/plain": [
       "(<tf.Tensor: shape=(1, 2, 3), dtype=int32, numpy=\n",
       " array([[[0, 1, 2],\n",
       "         [3, 4, 5]]], dtype=int32)>,\n",
       " <tf.Tensor: shape=(2, 2, 1), dtype=int32, numpy=\n",
       " array([[[0],\n",
       "         [1]],\n",
       " \n",
       "        [[2],\n",
       "         [3]]], dtype=int32)>)"
      ]
     },
     "execution_count": 116,
     "metadata": {},
     "output_type": "execute_result"
    }
   ],
   "source": [
    "d = tf.reshape(tf.range(6),(1,2,3))\n",
    "f = tf.reshape(tf.range(4),(2,2,1))\n",
    "d,f"
   ]
  },
  {
   "cell_type": "code",
   "execution_count": 117,
   "metadata": {
    "ExecuteTime": {
     "end_time": "2022-01-05T08:06:11.013059Z",
     "start_time": "2022-01-05T08:06:11.007051Z"
    }
   },
   "outputs": [
    {
     "data": {
      "text/plain": [
       "<tf.Tensor: shape=(2, 2, 3), dtype=int32, numpy=\n",
       "array([[[0, 1, 2],\n",
       "        [4, 5, 6]],\n",
       "\n",
       "       [[2, 3, 4],\n",
       "        [6, 7, 8]]], dtype=int32)>"
      ]
     },
     "execution_count": 117,
     "metadata": {},
     "output_type": "execute_result"
    }
   ],
   "source": [
    "d+f"
   ]
  },
  {
   "cell_type": "code",
   "execution_count": 119,
   "metadata": {
    "ExecuteTime": {
     "end_time": "2022-01-05T08:08:13.089525Z",
     "start_time": "2022-01-05T08:08:13.081777Z"
    }
   },
   "outputs": [
    {
     "data": {
      "text/plain": [
       "(<tf.Tensor: shape=(1, 2, 3), dtype=int32, numpy=\n",
       " array([[[0, 1, 2],\n",
       "         [3, 4, 5]]], dtype=int32)>,\n",
       " <tf.Tensor: shape=(2, 1, 2), dtype=int32, numpy=\n",
       " array([[[0, 1]],\n",
       " \n",
       "        [[2, 3]]], dtype=int32)>)"
      ]
     },
     "execution_count": 119,
     "metadata": {},
     "output_type": "execute_result"
    }
   ],
   "source": [
    "d = tf.reshape(tf.range(6),(1,2,3))\n",
    "f = tf.reshape(tf.range(4),(2,1,2))\n",
    "d,f"
   ]
  },
  {
   "cell_type": "code",
   "execution_count": 120,
   "metadata": {
    "ExecuteTime": {
     "end_time": "2022-01-05T08:08:25.480464Z",
     "start_time": "2022-01-05T08:08:25.442732Z"
    },
    "scrolled": true
   },
   "outputs": [
    {
     "ename": "InvalidArgumentError",
     "evalue": "Incompatible shapes: [1,2,3] vs. [2,1,2] [Op:AddV2]",
     "output_type": "error",
     "traceback": [
      "\u001b[0;31m---------------------------------------------------------------------------\u001b[0m",
      "\u001b[0;31mInvalidArgumentError\u001b[0m                      Traceback (most recent call last)",
      "\u001b[0;32m<ipython-input-120-3ea54fdcb5b0>\u001b[0m in \u001b[0;36m<module>\u001b[0;34m\u001b[0m\n\u001b[0;32m----> 1\u001b[0;31m \u001b[0md\u001b[0m\u001b[0;34m+\u001b[0m\u001b[0mf\u001b[0m\u001b[0;34m\u001b[0m\u001b[0;34m\u001b[0m\u001b[0m\n\u001b[0m",
      "\u001b[0;32m~/.local/lib/python3.6/site-packages/tensorflow/python/ops/math_ops.py\u001b[0m in \u001b[0;36mbinary_op_wrapper\u001b[0;34m(x, y)\u001b[0m\n\u001b[1;32m    982\u001b[0m     \u001b[0;32mwith\u001b[0m \u001b[0mops\u001b[0m\u001b[0;34m.\u001b[0m\u001b[0mname_scope\u001b[0m\u001b[0;34m(\u001b[0m\u001b[0;32mNone\u001b[0m\u001b[0;34m,\u001b[0m \u001b[0mop_name\u001b[0m\u001b[0;34m,\u001b[0m \u001b[0;34m[\u001b[0m\u001b[0mx\u001b[0m\u001b[0;34m,\u001b[0m \u001b[0my\u001b[0m\u001b[0;34m]\u001b[0m\u001b[0;34m)\u001b[0m \u001b[0;32mas\u001b[0m \u001b[0mname\u001b[0m\u001b[0;34m:\u001b[0m\u001b[0;34m\u001b[0m\u001b[0;34m\u001b[0m\u001b[0m\n\u001b[1;32m    983\u001b[0m       \u001b[0;32mif\u001b[0m \u001b[0misinstance\u001b[0m\u001b[0;34m(\u001b[0m\u001b[0mx\u001b[0m\u001b[0;34m,\u001b[0m \u001b[0mops\u001b[0m\u001b[0;34m.\u001b[0m\u001b[0mTensor\u001b[0m\u001b[0;34m)\u001b[0m \u001b[0;32mand\u001b[0m \u001b[0misinstance\u001b[0m\u001b[0;34m(\u001b[0m\u001b[0my\u001b[0m\u001b[0;34m,\u001b[0m \u001b[0mops\u001b[0m\u001b[0;34m.\u001b[0m\u001b[0mTensor\u001b[0m\u001b[0;34m)\u001b[0m\u001b[0;34m:\u001b[0m\u001b[0;34m\u001b[0m\u001b[0;34m\u001b[0m\u001b[0m\n\u001b[0;32m--> 984\u001b[0;31m         \u001b[0;32mreturn\u001b[0m \u001b[0mfunc\u001b[0m\u001b[0;34m(\u001b[0m\u001b[0mx\u001b[0m\u001b[0;34m,\u001b[0m \u001b[0my\u001b[0m\u001b[0;34m,\u001b[0m \u001b[0mname\u001b[0m\u001b[0;34m=\u001b[0m\u001b[0mname\u001b[0m\u001b[0;34m)\u001b[0m\u001b[0;34m\u001b[0m\u001b[0;34m\u001b[0m\u001b[0m\n\u001b[0m\u001b[1;32m    985\u001b[0m       \u001b[0;32melif\u001b[0m \u001b[0;32mnot\u001b[0m \u001b[0misinstance\u001b[0m\u001b[0;34m(\u001b[0m\u001b[0my\u001b[0m\u001b[0;34m,\u001b[0m \u001b[0msparse_tensor\u001b[0m\u001b[0;34m.\u001b[0m\u001b[0mSparseTensor\u001b[0m\u001b[0;34m)\u001b[0m\u001b[0;34m:\u001b[0m\u001b[0;34m\u001b[0m\u001b[0;34m\u001b[0m\u001b[0m\n\u001b[1;32m    986\u001b[0m         \u001b[0;32mtry\u001b[0m\u001b[0;34m:\u001b[0m\u001b[0;34m\u001b[0m\u001b[0;34m\u001b[0m\u001b[0m\n",
      "\u001b[0;32m~/.local/lib/python3.6/site-packages/tensorflow/python/ops/math_ops.py\u001b[0m in \u001b[0;36m_add_dispatch\u001b[0;34m(x, y, name)\u001b[0m\n\u001b[1;32m   1274\u001b[0m     \u001b[0;32mreturn\u001b[0m \u001b[0mgen_math_ops\u001b[0m\u001b[0;34m.\u001b[0m\u001b[0madd\u001b[0m\u001b[0;34m(\u001b[0m\u001b[0mx\u001b[0m\u001b[0;34m,\u001b[0m \u001b[0my\u001b[0m\u001b[0;34m,\u001b[0m \u001b[0mname\u001b[0m\u001b[0;34m=\u001b[0m\u001b[0mname\u001b[0m\u001b[0;34m)\u001b[0m\u001b[0;34m\u001b[0m\u001b[0;34m\u001b[0m\u001b[0m\n\u001b[1;32m   1275\u001b[0m   \u001b[0;32melse\u001b[0m\u001b[0;34m:\u001b[0m\u001b[0;34m\u001b[0m\u001b[0;34m\u001b[0m\u001b[0m\n\u001b[0;32m-> 1276\u001b[0;31m     \u001b[0;32mreturn\u001b[0m \u001b[0mgen_math_ops\u001b[0m\u001b[0;34m.\u001b[0m\u001b[0madd_v2\u001b[0m\u001b[0;34m(\u001b[0m\u001b[0mx\u001b[0m\u001b[0;34m,\u001b[0m \u001b[0my\u001b[0m\u001b[0;34m,\u001b[0m \u001b[0mname\u001b[0m\u001b[0;34m=\u001b[0m\u001b[0mname\u001b[0m\u001b[0;34m)\u001b[0m\u001b[0;34m\u001b[0m\u001b[0;34m\u001b[0m\u001b[0m\n\u001b[0m\u001b[1;32m   1277\u001b[0m \u001b[0;34m\u001b[0m\u001b[0m\n\u001b[1;32m   1278\u001b[0m \u001b[0;34m\u001b[0m\u001b[0m\n",
      "\u001b[0;32m~/.local/lib/python3.6/site-packages/tensorflow/python/ops/gen_math_ops.py\u001b[0m in \u001b[0;36madd_v2\u001b[0;34m(x, y, name)\u001b[0m\n\u001b[1;32m    478\u001b[0m         \u001b[0;32mpass\u001b[0m  \u001b[0;31m# Add nodes to the TensorFlow graph.\u001b[0m\u001b[0;34m\u001b[0m\u001b[0;34m\u001b[0m\u001b[0m\n\u001b[1;32m    479\u001b[0m     \u001b[0;32mexcept\u001b[0m \u001b[0m_core\u001b[0m\u001b[0;34m.\u001b[0m\u001b[0m_NotOkStatusException\u001b[0m \u001b[0;32mas\u001b[0m \u001b[0me\u001b[0m\u001b[0;34m:\u001b[0m\u001b[0;34m\u001b[0m\u001b[0;34m\u001b[0m\u001b[0m\n\u001b[0;32m--> 480\u001b[0;31m       \u001b[0m_ops\u001b[0m\u001b[0;34m.\u001b[0m\u001b[0mraise_from_not_ok_status\u001b[0m\u001b[0;34m(\u001b[0m\u001b[0me\u001b[0m\u001b[0;34m,\u001b[0m \u001b[0mname\u001b[0m\u001b[0;34m)\u001b[0m\u001b[0;34m\u001b[0m\u001b[0;34m\u001b[0m\u001b[0m\n\u001b[0m\u001b[1;32m    481\u001b[0m   \u001b[0;31m# Add nodes to the TensorFlow graph.\u001b[0m\u001b[0;34m\u001b[0m\u001b[0;34m\u001b[0m\u001b[0;34m\u001b[0m\u001b[0m\n\u001b[1;32m    482\u001b[0m   _, _, _op, _outputs = _op_def_library._apply_op_helper(\n",
      "\u001b[0;32m~/.local/lib/python3.6/site-packages/tensorflow/python/framework/ops.py\u001b[0m in \u001b[0;36mraise_from_not_ok_status\u001b[0;34m(e, name)\u001b[0m\n\u001b[1;32m   6651\u001b[0m   \u001b[0mmessage\u001b[0m \u001b[0;34m=\u001b[0m \u001b[0me\u001b[0m\u001b[0;34m.\u001b[0m\u001b[0mmessage\u001b[0m \u001b[0;34m+\u001b[0m \u001b[0;34m(\u001b[0m\u001b[0;34m\" name: \"\u001b[0m \u001b[0;34m+\u001b[0m \u001b[0mname\u001b[0m \u001b[0;32mif\u001b[0m \u001b[0mname\u001b[0m \u001b[0;32mis\u001b[0m \u001b[0;32mnot\u001b[0m \u001b[0;32mNone\u001b[0m \u001b[0;32melse\u001b[0m \u001b[0;34m\"\"\u001b[0m\u001b[0;34m)\u001b[0m\u001b[0;34m\u001b[0m\u001b[0;34m\u001b[0m\u001b[0m\n\u001b[1;32m   6652\u001b[0m   \u001b[0;31m# pylint: disable=protected-access\u001b[0m\u001b[0;34m\u001b[0m\u001b[0;34m\u001b[0m\u001b[0;34m\u001b[0m\u001b[0m\n\u001b[0;32m-> 6653\u001b[0;31m   \u001b[0msix\u001b[0m\u001b[0;34m.\u001b[0m\u001b[0mraise_from\u001b[0m\u001b[0;34m(\u001b[0m\u001b[0mcore\u001b[0m\u001b[0;34m.\u001b[0m\u001b[0m_status_to_exception\u001b[0m\u001b[0;34m(\u001b[0m\u001b[0me\u001b[0m\u001b[0;34m.\u001b[0m\u001b[0mcode\u001b[0m\u001b[0;34m,\u001b[0m \u001b[0mmessage\u001b[0m\u001b[0;34m)\u001b[0m\u001b[0;34m,\u001b[0m \u001b[0;32mNone\u001b[0m\u001b[0;34m)\u001b[0m\u001b[0;34m\u001b[0m\u001b[0;34m\u001b[0m\u001b[0m\n\u001b[0m\u001b[1;32m   6654\u001b[0m   \u001b[0;31m# pylint: enable=protected-access\u001b[0m\u001b[0;34m\u001b[0m\u001b[0;34m\u001b[0m\u001b[0;34m\u001b[0m\u001b[0m\n\u001b[1;32m   6655\u001b[0m \u001b[0;34m\u001b[0m\u001b[0m\n",
      "\u001b[0;32m/usr/local/lib/python3.6/site-packages/six.py\u001b[0m in \u001b[0;36mraise_from\u001b[0;34m(value, from_value)\u001b[0m\n",
      "\u001b[0;31mInvalidArgumentError\u001b[0m: Incompatible shapes: [1,2,3] vs. [2,1,2] [Op:AddV2]"
     ]
    }
   ],
   "source": [
    "d+f"
   ]
  },
  {
   "cell_type": "code",
   "execution_count": 121,
   "metadata": {
    "ExecuteTime": {
     "end_time": "2022-01-05T08:09:20.004410Z",
     "start_time": "2022-01-05T08:09:19.967915Z"
    },
    "scrolled": true
   },
   "outputs": [
    {
     "ename": "InvalidArgumentError",
     "evalue": "Incompatible shapes: [1,2,3] vs. [1,2,2] [Op:AddV2]",
     "output_type": "error",
     "traceback": [
      "\u001b[0;31m---------------------------------------------------------------------------\u001b[0m",
      "\u001b[0;31mInvalidArgumentError\u001b[0m                      Traceback (most recent call last)",
      "\u001b[0;32m<ipython-input-121-086c8734f01c>\u001b[0m in \u001b[0;36m<module>\u001b[0;34m\u001b[0m\n\u001b[1;32m      1\u001b[0m \u001b[0md\u001b[0m \u001b[0;34m=\u001b[0m \u001b[0mtf\u001b[0m\u001b[0;34m.\u001b[0m\u001b[0mreshape\u001b[0m\u001b[0;34m(\u001b[0m\u001b[0mtf\u001b[0m\u001b[0;34m.\u001b[0m\u001b[0mrange\u001b[0m\u001b[0;34m(\u001b[0m\u001b[0;36m6\u001b[0m\u001b[0;34m)\u001b[0m\u001b[0;34m,\u001b[0m\u001b[0;34m(\u001b[0m\u001b[0;36m1\u001b[0m\u001b[0;34m,\u001b[0m\u001b[0;36m2\u001b[0m\u001b[0;34m,\u001b[0m\u001b[0;36m3\u001b[0m\u001b[0;34m)\u001b[0m\u001b[0;34m)\u001b[0m\u001b[0;34m\u001b[0m\u001b[0;34m\u001b[0m\u001b[0m\n\u001b[1;32m      2\u001b[0m \u001b[0mf\u001b[0m \u001b[0;34m=\u001b[0m \u001b[0mtf\u001b[0m\u001b[0;34m.\u001b[0m\u001b[0mreshape\u001b[0m\u001b[0;34m(\u001b[0m\u001b[0mtf\u001b[0m\u001b[0;34m.\u001b[0m\u001b[0mrange\u001b[0m\u001b[0;34m(\u001b[0m\u001b[0;36m4\u001b[0m\u001b[0;34m)\u001b[0m\u001b[0;34m,\u001b[0m\u001b[0;34m(\u001b[0m\u001b[0;36m1\u001b[0m\u001b[0;34m,\u001b[0m\u001b[0;36m2\u001b[0m\u001b[0;34m,\u001b[0m\u001b[0;36m2\u001b[0m\u001b[0;34m)\u001b[0m\u001b[0;34m)\u001b[0m\u001b[0;34m\u001b[0m\u001b[0;34m\u001b[0m\u001b[0m\n\u001b[0;32m----> 3\u001b[0;31m \u001b[0md\u001b[0m\u001b[0;34m+\u001b[0m\u001b[0mf\u001b[0m\u001b[0;34m\u001b[0m\u001b[0;34m\u001b[0m\u001b[0m\n\u001b[0m",
      "\u001b[0;32m~/.local/lib/python3.6/site-packages/tensorflow/python/ops/math_ops.py\u001b[0m in \u001b[0;36mbinary_op_wrapper\u001b[0;34m(x, y)\u001b[0m\n\u001b[1;32m    982\u001b[0m     \u001b[0;32mwith\u001b[0m \u001b[0mops\u001b[0m\u001b[0;34m.\u001b[0m\u001b[0mname_scope\u001b[0m\u001b[0;34m(\u001b[0m\u001b[0;32mNone\u001b[0m\u001b[0;34m,\u001b[0m \u001b[0mop_name\u001b[0m\u001b[0;34m,\u001b[0m \u001b[0;34m[\u001b[0m\u001b[0mx\u001b[0m\u001b[0;34m,\u001b[0m \u001b[0my\u001b[0m\u001b[0;34m]\u001b[0m\u001b[0;34m)\u001b[0m \u001b[0;32mas\u001b[0m \u001b[0mname\u001b[0m\u001b[0;34m:\u001b[0m\u001b[0;34m\u001b[0m\u001b[0;34m\u001b[0m\u001b[0m\n\u001b[1;32m    983\u001b[0m       \u001b[0;32mif\u001b[0m \u001b[0misinstance\u001b[0m\u001b[0;34m(\u001b[0m\u001b[0mx\u001b[0m\u001b[0;34m,\u001b[0m \u001b[0mops\u001b[0m\u001b[0;34m.\u001b[0m\u001b[0mTensor\u001b[0m\u001b[0;34m)\u001b[0m \u001b[0;32mand\u001b[0m \u001b[0misinstance\u001b[0m\u001b[0;34m(\u001b[0m\u001b[0my\u001b[0m\u001b[0;34m,\u001b[0m \u001b[0mops\u001b[0m\u001b[0;34m.\u001b[0m\u001b[0mTensor\u001b[0m\u001b[0;34m)\u001b[0m\u001b[0;34m:\u001b[0m\u001b[0;34m\u001b[0m\u001b[0;34m\u001b[0m\u001b[0m\n\u001b[0;32m--> 984\u001b[0;31m         \u001b[0;32mreturn\u001b[0m \u001b[0mfunc\u001b[0m\u001b[0;34m(\u001b[0m\u001b[0mx\u001b[0m\u001b[0;34m,\u001b[0m \u001b[0my\u001b[0m\u001b[0;34m,\u001b[0m \u001b[0mname\u001b[0m\u001b[0;34m=\u001b[0m\u001b[0mname\u001b[0m\u001b[0;34m)\u001b[0m\u001b[0;34m\u001b[0m\u001b[0;34m\u001b[0m\u001b[0m\n\u001b[0m\u001b[1;32m    985\u001b[0m       \u001b[0;32melif\u001b[0m \u001b[0;32mnot\u001b[0m \u001b[0misinstance\u001b[0m\u001b[0;34m(\u001b[0m\u001b[0my\u001b[0m\u001b[0;34m,\u001b[0m \u001b[0msparse_tensor\u001b[0m\u001b[0;34m.\u001b[0m\u001b[0mSparseTensor\u001b[0m\u001b[0;34m)\u001b[0m\u001b[0;34m:\u001b[0m\u001b[0;34m\u001b[0m\u001b[0;34m\u001b[0m\u001b[0m\n\u001b[1;32m    986\u001b[0m         \u001b[0;32mtry\u001b[0m\u001b[0;34m:\u001b[0m\u001b[0;34m\u001b[0m\u001b[0;34m\u001b[0m\u001b[0m\n",
      "\u001b[0;32m~/.local/lib/python3.6/site-packages/tensorflow/python/ops/math_ops.py\u001b[0m in \u001b[0;36m_add_dispatch\u001b[0;34m(x, y, name)\u001b[0m\n\u001b[1;32m   1274\u001b[0m     \u001b[0;32mreturn\u001b[0m \u001b[0mgen_math_ops\u001b[0m\u001b[0;34m.\u001b[0m\u001b[0madd\u001b[0m\u001b[0;34m(\u001b[0m\u001b[0mx\u001b[0m\u001b[0;34m,\u001b[0m \u001b[0my\u001b[0m\u001b[0;34m,\u001b[0m \u001b[0mname\u001b[0m\u001b[0;34m=\u001b[0m\u001b[0mname\u001b[0m\u001b[0;34m)\u001b[0m\u001b[0;34m\u001b[0m\u001b[0;34m\u001b[0m\u001b[0m\n\u001b[1;32m   1275\u001b[0m   \u001b[0;32melse\u001b[0m\u001b[0;34m:\u001b[0m\u001b[0;34m\u001b[0m\u001b[0;34m\u001b[0m\u001b[0m\n\u001b[0;32m-> 1276\u001b[0;31m     \u001b[0;32mreturn\u001b[0m \u001b[0mgen_math_ops\u001b[0m\u001b[0;34m.\u001b[0m\u001b[0madd_v2\u001b[0m\u001b[0;34m(\u001b[0m\u001b[0mx\u001b[0m\u001b[0;34m,\u001b[0m \u001b[0my\u001b[0m\u001b[0;34m,\u001b[0m \u001b[0mname\u001b[0m\u001b[0;34m=\u001b[0m\u001b[0mname\u001b[0m\u001b[0;34m)\u001b[0m\u001b[0;34m\u001b[0m\u001b[0;34m\u001b[0m\u001b[0m\n\u001b[0m\u001b[1;32m   1277\u001b[0m \u001b[0;34m\u001b[0m\u001b[0m\n\u001b[1;32m   1278\u001b[0m \u001b[0;34m\u001b[0m\u001b[0m\n",
      "\u001b[0;32m~/.local/lib/python3.6/site-packages/tensorflow/python/ops/gen_math_ops.py\u001b[0m in \u001b[0;36madd_v2\u001b[0;34m(x, y, name)\u001b[0m\n\u001b[1;32m    478\u001b[0m         \u001b[0;32mpass\u001b[0m  \u001b[0;31m# Add nodes to the TensorFlow graph.\u001b[0m\u001b[0;34m\u001b[0m\u001b[0;34m\u001b[0m\u001b[0m\n\u001b[1;32m    479\u001b[0m     \u001b[0;32mexcept\u001b[0m \u001b[0m_core\u001b[0m\u001b[0;34m.\u001b[0m\u001b[0m_NotOkStatusException\u001b[0m \u001b[0;32mas\u001b[0m \u001b[0me\u001b[0m\u001b[0;34m:\u001b[0m\u001b[0;34m\u001b[0m\u001b[0;34m\u001b[0m\u001b[0m\n\u001b[0;32m--> 480\u001b[0;31m       \u001b[0m_ops\u001b[0m\u001b[0;34m.\u001b[0m\u001b[0mraise_from_not_ok_status\u001b[0m\u001b[0;34m(\u001b[0m\u001b[0me\u001b[0m\u001b[0;34m,\u001b[0m \u001b[0mname\u001b[0m\u001b[0;34m)\u001b[0m\u001b[0;34m\u001b[0m\u001b[0;34m\u001b[0m\u001b[0m\n\u001b[0m\u001b[1;32m    481\u001b[0m   \u001b[0;31m# Add nodes to the TensorFlow graph.\u001b[0m\u001b[0;34m\u001b[0m\u001b[0;34m\u001b[0m\u001b[0;34m\u001b[0m\u001b[0m\n\u001b[1;32m    482\u001b[0m   _, _, _op, _outputs = _op_def_library._apply_op_helper(\n",
      "\u001b[0;32m~/.local/lib/python3.6/site-packages/tensorflow/python/framework/ops.py\u001b[0m in \u001b[0;36mraise_from_not_ok_status\u001b[0;34m(e, name)\u001b[0m\n\u001b[1;32m   6651\u001b[0m   \u001b[0mmessage\u001b[0m \u001b[0;34m=\u001b[0m \u001b[0me\u001b[0m\u001b[0;34m.\u001b[0m\u001b[0mmessage\u001b[0m \u001b[0;34m+\u001b[0m \u001b[0;34m(\u001b[0m\u001b[0;34m\" name: \"\u001b[0m \u001b[0;34m+\u001b[0m \u001b[0mname\u001b[0m \u001b[0;32mif\u001b[0m \u001b[0mname\u001b[0m \u001b[0;32mis\u001b[0m \u001b[0;32mnot\u001b[0m \u001b[0;32mNone\u001b[0m \u001b[0;32melse\u001b[0m \u001b[0;34m\"\"\u001b[0m\u001b[0;34m)\u001b[0m\u001b[0;34m\u001b[0m\u001b[0;34m\u001b[0m\u001b[0m\n\u001b[1;32m   6652\u001b[0m   \u001b[0;31m# pylint: disable=protected-access\u001b[0m\u001b[0;34m\u001b[0m\u001b[0;34m\u001b[0m\u001b[0;34m\u001b[0m\u001b[0m\n\u001b[0;32m-> 6653\u001b[0;31m   \u001b[0msix\u001b[0m\u001b[0;34m.\u001b[0m\u001b[0mraise_from\u001b[0m\u001b[0;34m(\u001b[0m\u001b[0mcore\u001b[0m\u001b[0;34m.\u001b[0m\u001b[0m_status_to_exception\u001b[0m\u001b[0;34m(\u001b[0m\u001b[0me\u001b[0m\u001b[0;34m.\u001b[0m\u001b[0mcode\u001b[0m\u001b[0;34m,\u001b[0m \u001b[0mmessage\u001b[0m\u001b[0;34m)\u001b[0m\u001b[0;34m,\u001b[0m \u001b[0;32mNone\u001b[0m\u001b[0;34m)\u001b[0m\u001b[0;34m\u001b[0m\u001b[0;34m\u001b[0m\u001b[0m\n\u001b[0m\u001b[1;32m   6654\u001b[0m   \u001b[0;31m# pylint: enable=protected-access\u001b[0m\u001b[0;34m\u001b[0m\u001b[0;34m\u001b[0m\u001b[0;34m\u001b[0m\u001b[0m\n\u001b[1;32m   6655\u001b[0m \u001b[0;34m\u001b[0m\u001b[0m\n",
      "\u001b[0;32m/usr/local/lib/python3.6/site-packages/six.py\u001b[0m in \u001b[0;36mraise_from\u001b[0;34m(value, from_value)\u001b[0m\n",
      "\u001b[0;31mInvalidArgumentError\u001b[0m: Incompatible shapes: [1,2,3] vs. [1,2,2] [Op:AddV2]"
     ]
    }
   ],
   "source": [
    "d = tf.reshape(tf.range(6),(1,2,3))\n",
    "f = tf.reshape(tf.range(4),(1,2,2))\n",
    "d+f"
   ]
  },
  {
   "cell_type": "markdown",
   "metadata": {
    "ExecuteTime": {
     "end_time": "2022-01-05T08:10:30.485279Z",
     "start_time": "2022-01-05T08:10:30.481679Z"
    }
   },
   "source": [
    "* 可以看出第二个问题，对于3及以上的维度张量的广播机制，必须满足中间的维度是一致的"
   ]
  },
  {
   "cell_type": "code",
   "execution_count": 127,
   "metadata": {
    "ExecuteTime": {
     "end_time": "2022-01-05T08:12:33.148472Z",
     "start_time": "2022-01-05T08:12:33.140259Z"
    }
   },
   "outputs": [
    {
     "data": {
      "text/plain": [
       "<tf.Tensor: shape=(1, 2, 3, 2), dtype=int32, numpy=\n",
       "array([[[[ 0,  1],\n",
       "         [ 3,  4],\n",
       "         [ 6,  7]],\n",
       "\n",
       "        [[ 9, 10],\n",
       "         [12, 13],\n",
       "         [15, 16]]]], dtype=int32)>"
      ]
     },
     "execution_count": 127,
     "metadata": {},
     "output_type": "execute_result"
    }
   ],
   "source": [
    "d = tf.reshape(tf.range(6),(1,2,3,1))\n",
    "f = tf.reshape(tf.range(12),(1,2,3,2))\n",
    "d+f"
   ]
  },
  {
   "cell_type": "markdown",
   "metadata": {},
   "source": [
    "### 2.2数据预处理"
   ]
  },
  {
   "cell_type": "markdown",
   "metadata": {},
   "source": [
    "#### 2.2.1读取数据集"
   ]
  },
  {
   "cell_type": "code",
   "execution_count": 128,
   "metadata": {
    "ExecuteTime": {
     "end_time": "2022-01-05T08:16:08.345082Z",
     "start_time": "2022-01-05T08:16:08.338503Z"
    }
   },
   "outputs": [],
   "source": [
    "# 创建数据\n",
    "os.makedirs(os.path.join('..', 'tf_data'), exist_ok=True)\n",
    "data_file = os.path.join('..', 'tf_data', 'house_tiny.csv')\n",
    "with open(data_file, 'w') as f:\n",
    "    f.write('NumRooms,Alley,Price\\n')  # 列名：房间数量、类型、价格\n",
    "    f.write('NA,Pave,127500\\n')  # 每行表示一个数据样本\n",
    "    f.write('2,NA,106000\\n')\n",
    "    f.write('4,NA,178100\\n')\n",
    "    f.write('NA,NA,140000\\n')"
   ]
  },
  {
   "cell_type": "code",
   "execution_count": 129,
   "metadata": {
    "ExecuteTime": {
     "end_time": "2022-01-05T08:16:54.889687Z",
     "start_time": "2022-01-05T08:16:54.868576Z"
    }
   },
   "outputs": [
    {
     "name": "stdout",
     "output_type": "stream",
     "text": [
      "   NumRooms Alley   Price\n",
      "0       NaN  Pave  127500\n",
      "1       2.0   NaN  106000\n",
      "2       4.0   NaN  178100\n",
      "3       NaN   NaN  140000\n"
     ]
    }
   ],
   "source": [
    "# 读取数据\n",
    "data = pd.read_csv(data_file)\n",
    "print(data)"
   ]
  },
  {
   "cell_type": "markdown",
   "metadata": {},
   "source": [
    "#### 2.2.2处理缺失值"
   ]
  },
  {
   "cell_type": "code",
   "execution_count": 131,
   "metadata": {
    "ExecuteTime": {
     "end_time": "2022-01-05T08:25:40.385243Z",
     "start_time": "2022-01-05T08:25:40.369653Z"
    }
   },
   "outputs": [
    {
     "data": {
      "text/html": [
       "<div>\n",
       "<style scoped>\n",
       "    .dataframe tbody tr th:only-of-type {\n",
       "        vertical-align: middle;\n",
       "    }\n",
       "\n",
       "    .dataframe tbody tr th {\n",
       "        vertical-align: top;\n",
       "    }\n",
       "\n",
       "    .dataframe thead th {\n",
       "        text-align: right;\n",
       "    }\n",
       "</style>\n",
       "<table border=\"1\" class=\"dataframe\">\n",
       "  <thead>\n",
       "    <tr style=\"text-align: right;\">\n",
       "      <th></th>\n",
       "      <th>NumRooms</th>\n",
       "      <th>Alley</th>\n",
       "    </tr>\n",
       "  </thead>\n",
       "  <tbody>\n",
       "    <tr>\n",
       "      <th>0</th>\n",
       "      <td>3.0</td>\n",
       "      <td>Pave</td>\n",
       "    </tr>\n",
       "    <tr>\n",
       "      <th>1</th>\n",
       "      <td>2.0</td>\n",
       "      <td>NaN</td>\n",
       "    </tr>\n",
       "    <tr>\n",
       "      <th>2</th>\n",
       "      <td>4.0</td>\n",
       "      <td>NaN</td>\n",
       "    </tr>\n",
       "    <tr>\n",
       "      <th>3</th>\n",
       "      <td>3.0</td>\n",
       "      <td>NaN</td>\n",
       "    </tr>\n",
       "  </tbody>\n",
       "</table>\n",
       "</div>"
      ],
      "text/plain": [
       "   NumRooms Alley\n",
       "0       3.0  Pave\n",
       "1       2.0   NaN\n",
       "2       4.0   NaN\n",
       "3       3.0   NaN"
      ]
     },
     "execution_count": 131,
     "metadata": {},
     "output_type": "execute_result"
    }
   ],
   "source": [
    "# 注意，“NaN”项代表缺失值。 为了处理缺失的数据，典型的方法包括插值法和删除法，\n",
    "# 其中插值法用一个替代值弥补缺失值，而删除法则直接忽略缺失值。 在这里，我们将考虑插值法。\n",
    "\n",
    "# 通过位置索引iloc，我们将data分成inputs和outputs， 其中前者为data的前两列，而后者为data的最后一列。\n",
    "# 对于inputs中缺少的数值，我们用同一列的均值替换“NaN”项。\n",
    "inputs,outputs = data.iloc[:,0:2],data.iloc[:,2]\n",
    "inputs = inputs.fillna(inputs.mean())\n",
    "inputs"
   ]
  },
  {
   "cell_type": "code",
   "execution_count": 133,
   "metadata": {
    "ExecuteTime": {
     "end_time": "2022-01-05T08:27:00.569369Z",
     "start_time": "2022-01-05T08:27:00.528911Z"
    }
   },
   "outputs": [
    {
     "data": {
      "text/html": [
       "<div>\n",
       "<style scoped>\n",
       "    .dataframe tbody tr th:only-of-type {\n",
       "        vertical-align: middle;\n",
       "    }\n",
       "\n",
       "    .dataframe tbody tr th {\n",
       "        vertical-align: top;\n",
       "    }\n",
       "\n",
       "    .dataframe thead th {\n",
       "        text-align: right;\n",
       "    }\n",
       "</style>\n",
       "<table border=\"1\" class=\"dataframe\">\n",
       "  <thead>\n",
       "    <tr style=\"text-align: right;\">\n",
       "      <th></th>\n",
       "      <th>NumRooms</th>\n",
       "      <th>Alley_Pave</th>\n",
       "      <th>Alley_nan</th>\n",
       "    </tr>\n",
       "  </thead>\n",
       "  <tbody>\n",
       "    <tr>\n",
       "      <th>0</th>\n",
       "      <td>3.0</td>\n",
       "      <td>1</td>\n",
       "      <td>0</td>\n",
       "    </tr>\n",
       "    <tr>\n",
       "      <th>1</th>\n",
       "      <td>2.0</td>\n",
       "      <td>0</td>\n",
       "      <td>1</td>\n",
       "    </tr>\n",
       "    <tr>\n",
       "      <th>2</th>\n",
       "      <td>4.0</td>\n",
       "      <td>0</td>\n",
       "      <td>1</td>\n",
       "    </tr>\n",
       "    <tr>\n",
       "      <th>3</th>\n",
       "      <td>3.0</td>\n",
       "      <td>0</td>\n",
       "      <td>1</td>\n",
       "    </tr>\n",
       "  </tbody>\n",
       "</table>\n",
       "</div>"
      ],
      "text/plain": [
       "   NumRooms  Alley_Pave  Alley_nan\n",
       "0       3.0           1          0\n",
       "1       2.0           0          1\n",
       "2       4.0           0          1\n",
       "3       3.0           0          1"
      ]
     },
     "execution_count": 133,
     "metadata": {},
     "output_type": "execute_result"
    }
   ],
   "source": [
    "pd.get_dummies(inputs,dummy_na=True)"
   ]
  },
  {
   "cell_type": "code",
   "execution_count": 135,
   "metadata": {
    "ExecuteTime": {
     "end_time": "2022-01-05T08:29:56.430656Z",
     "start_time": "2022-01-05T08:29:56.420462Z"
    }
   },
   "outputs": [],
   "source": [
    "inputs = pd.get_dummies(inputs,dummy_na=True)"
   ]
  },
  {
   "cell_type": "markdown",
   "metadata": {},
   "source": [
    "#### 2.2.3转为张量\n",
    "现在inputs和outputs中的所有条目都是数值类型，它们可以转换为张量格式。"
   ]
  },
  {
   "cell_type": "code",
   "execution_count": 137,
   "metadata": {
    "ExecuteTime": {
     "end_time": "2022-01-05T08:30:19.714596Z",
     "start_time": "2022-01-05T08:30:19.709496Z"
    }
   },
   "outputs": [],
   "source": [
    "x,y = tf.constant(inputs.values),tf.constant(outputs.values)"
   ]
  },
  {
   "cell_type": "code",
   "execution_count": 138,
   "metadata": {
    "ExecuteTime": {
     "end_time": "2022-01-05T08:30:25.381279Z",
     "start_time": "2022-01-05T08:30:25.373389Z"
    }
   },
   "outputs": [
    {
     "data": {
      "text/plain": [
       "(<tf.Tensor: shape=(4, 3), dtype=float64, numpy=\n",
       " array([[3., 1., 0.],\n",
       "        [2., 0., 1.],\n",
       "        [4., 0., 1.],\n",
       "        [3., 0., 1.]])>,\n",
       " <tf.Tensor: shape=(4,), dtype=int64, numpy=array([127500, 106000, 178100, 140000])>)"
      ]
     },
     "execution_count": 138,
     "metadata": {},
     "output_type": "execute_result"
    }
   ],
   "source": [
    "x,y"
   ]
  },
  {
   "cell_type": "markdown",
   "metadata": {},
   "source": [
    "### 2.3线性代数"
   ]
  },
  {
   "cell_type": "markdown",
   "metadata": {},
   "source": [
    "#### 2.3.1标量"
   ]
  },
  {
   "cell_type": "markdown",
   "metadata": {},
   "source": [
    "标量由只有一个元素的张量表示。 在下面的代码中，我们实例化两个标量，并执行一些熟悉的算术运算，即加法、乘法、除法和指数。"
   ]
  },
  {
   "cell_type": "code",
   "execution_count": 140,
   "metadata": {
    "ExecuteTime": {
     "end_time": "2022-01-05T08:34:19.284552Z",
     "start_time": "2022-01-05T08:34:19.275619Z"
    }
   },
   "outputs": [
    {
     "data": {
      "text/plain": [
       "(<tf.Tensor: shape=(), dtype=float32, numpy=8.5>,\n",
       " <tf.Tensor: shape=(), dtype=float32, numpy=-1.5>,\n",
       " <tf.Tensor: shape=(), dtype=float32, numpy=17.5>,\n",
       " <tf.Tensor: shape=(), dtype=float32, numpy=0.7>)"
      ]
     },
     "execution_count": 140,
     "metadata": {},
     "output_type": "execute_result"
    }
   ],
   "source": [
    "m = tf.constant(3.5)\n",
    "n = tf.constant(5.)\n",
    "m+n,m-n,m*n,m/n"
   ]
  },
  {
   "cell_type": "markdown",
   "metadata": {},
   "source": [
    "#### 2.3.2向量\n",
    "向量视为标量值组成的列表。例如，如果我们正在训练一个模型来预测贷款违约风险，我们可能会将每个申请人与一个向量相关联， 其分量与其收入、工作年限、过往违约次数和其他因素相对应"
   ]
  },
  {
   "cell_type": "code",
   "execution_count": 141,
   "metadata": {
    "ExecuteTime": {
     "end_time": "2022-01-05T08:35:47.856548Z",
     "start_time": "2022-01-05T08:35:47.849316Z"
    }
   },
   "outputs": [
    {
     "data": {
      "text/plain": [
       "<tf.Tensor: shape=(4,), dtype=int32, numpy=array([0, 1, 2, 3], dtype=int32)>"
      ]
     },
     "execution_count": 141,
     "metadata": {},
     "output_type": "execute_result"
    }
   ],
   "source": [
    "tf.range(4)"
   ]
  },
  {
   "cell_type": "code",
   "execution_count": 142,
   "metadata": {
    "ExecuteTime": {
     "end_time": "2022-01-05T08:37:01.472225Z",
     "start_time": "2022-01-05T08:37:01.463754Z"
    }
   },
   "outputs": [
    {
     "data": {
      "text/plain": [
       "<tf.Tensor: shape=(), dtype=int32, numpy=2>"
      ]
     },
     "execution_count": 142,
     "metadata": {},
     "output_type": "execute_result"
    }
   ],
   "source": [
    "# 我们通过张量的索引来访问任一元素。\n",
    "tf.range(4)[2]"
   ]
  },
  {
   "cell_type": "code",
   "execution_count": 150,
   "metadata": {
    "ExecuteTime": {
     "end_time": "2022-01-05T08:39:27.575527Z",
     "start_time": "2022-01-05T08:39:27.570024Z"
    }
   },
   "outputs": [
    {
     "data": {
      "text/plain": [
       "(TensorShape([]), TensorShape([1]), TensorShape([1, 1]))"
      ]
     },
     "execution_count": 150,
     "metadata": {},
     "output_type": "execute_result"
    }
   ],
   "source": [
    "# 形状\n",
    "tf.constant(0).shape, tf.constant([0]).shape, tf.constant([[0]]).shape "
   ]
  },
  {
   "cell_type": "code",
   "execution_count": 151,
   "metadata": {
    "ExecuteTime": {
     "end_time": "2022-01-05T08:39:43.452913Z",
     "start_time": "2022-01-05T08:39:43.446759Z"
    }
   },
   "outputs": [
    {
     "data": {
      "text/plain": [
       "1"
      ]
     },
     "execution_count": 151,
     "metadata": {},
     "output_type": "execute_result"
    }
   ],
   "source": [
    "len(tf.constant([[0]]))"
   ]
  },
  {
   "cell_type": "code",
   "execution_count": 152,
   "metadata": {
    "ExecuteTime": {
     "end_time": "2022-01-05T08:39:51.572056Z",
     "start_time": "2022-01-05T08:39:51.551536Z"
    }
   },
   "outputs": [
    {
     "ename": "TypeError",
     "evalue": "Scalar tensor has no `len()`",
     "output_type": "error",
     "traceback": [
      "\u001b[0;31m---------------------------------------------------------------------------\u001b[0m",
      "\u001b[0;31mTypeError\u001b[0m                                 Traceback (most recent call last)",
      "\u001b[0;32m<ipython-input-152-f679f426c18b>\u001b[0m in \u001b[0;36m<module>\u001b[0;34m\u001b[0m\n\u001b[0;32m----> 1\u001b[0;31m \u001b[0mlen\u001b[0m\u001b[0;34m(\u001b[0m\u001b[0mtf\u001b[0m\u001b[0;34m.\u001b[0m\u001b[0mconstant\u001b[0m\u001b[0;34m(\u001b[0m\u001b[0;36m0\u001b[0m\u001b[0;34m)\u001b[0m\u001b[0;34m)\u001b[0m\u001b[0;34m\u001b[0m\u001b[0;34m\u001b[0m\u001b[0m\n\u001b[0m",
      "\u001b[0;32m~/.local/lib/python3.6/site-packages/tensorflow/python/framework/ops.py\u001b[0m in \u001b[0;36m__len__\u001b[0;34m(self)\u001b[0m\n\u001b[1;32m    912\u001b[0m     \u001b[0;34m\"\"\"Returns the length of the first dimension in the Tensor.\"\"\"\u001b[0m\u001b[0;34m\u001b[0m\u001b[0;34m\u001b[0m\u001b[0m\n\u001b[1;32m    913\u001b[0m     \u001b[0;32mif\u001b[0m \u001b[0;32mnot\u001b[0m \u001b[0mself\u001b[0m\u001b[0;34m.\u001b[0m\u001b[0mshape\u001b[0m\u001b[0;34m.\u001b[0m\u001b[0mndims\u001b[0m\u001b[0;34m:\u001b[0m\u001b[0;34m\u001b[0m\u001b[0;34m\u001b[0m\u001b[0m\n\u001b[0;32m--> 914\u001b[0;31m       \u001b[0;32mraise\u001b[0m \u001b[0mTypeError\u001b[0m\u001b[0;34m(\u001b[0m\u001b[0;34m\"Scalar tensor has no `len()`\"\u001b[0m\u001b[0;34m)\u001b[0m\u001b[0;34m\u001b[0m\u001b[0;34m\u001b[0m\u001b[0m\n\u001b[0m\u001b[1;32m    915\u001b[0m     \u001b[0;31m# pylint: disable=protected-access\u001b[0m\u001b[0;34m\u001b[0m\u001b[0;34m\u001b[0m\u001b[0;34m\u001b[0m\u001b[0m\n\u001b[1;32m    916\u001b[0m     \u001b[0;32mtry\u001b[0m\u001b[0;34m:\u001b[0m\u001b[0;34m\u001b[0m\u001b[0;34m\u001b[0m\u001b[0m\n",
      "\u001b[0;31mTypeError\u001b[0m: Scalar tensor has no `len()`"
     ]
    }
   ],
   "source": [
    "# 标量没len\n",
    "len(tf.constant(0))"
   ]
  },
  {
   "cell_type": "markdown",
   "metadata": {},
   "source": [
    "#### 2.3.3矩阵"
   ]
  },
  {
   "cell_type": "code",
   "execution_count": 153,
   "metadata": {
    "ExecuteTime": {
     "end_time": "2022-01-05T08:41:34.837071Z",
     "start_time": "2022-01-05T08:41:34.828089Z"
    }
   },
   "outputs": [
    {
     "data": {
      "text/plain": [
       "<tf.Tensor: shape=(5, 4), dtype=int32, numpy=\n",
       "array([[ 0,  1,  2,  3],\n",
       "       [ 4,  5,  6,  7],\n",
       "       [ 8,  9, 10, 11],\n",
       "       [12, 13, 14, 15],\n",
       "       [16, 17, 18, 19]], dtype=int32)>"
      ]
     },
     "execution_count": 153,
     "metadata": {},
     "output_type": "execute_result"
    }
   ],
   "source": [
    "A = tf.reshape(tf.range(20), (5, 4))\n",
    "A"
   ]
  },
  {
   "cell_type": "code",
   "execution_count": 154,
   "metadata": {
    "ExecuteTime": {
     "end_time": "2022-01-05T08:41:40.866254Z",
     "start_time": "2022-01-05T08:41:40.858598Z"
    }
   },
   "outputs": [
    {
     "data": {
      "text/plain": [
       "<tf.Tensor: shape=(4, 5), dtype=int32, numpy=\n",
       "array([[ 0,  4,  8, 12, 16],\n",
       "       [ 1,  5,  9, 13, 17],\n",
       "       [ 2,  6, 10, 14, 18],\n",
       "       [ 3,  7, 11, 15, 19]], dtype=int32)>"
      ]
     },
     "execution_count": 154,
     "metadata": {},
     "output_type": "execute_result"
    }
   ],
   "source": [
    "tf.transpose(A)"
   ]
  },
  {
   "cell_type": "markdown",
   "metadata": {},
   "source": [
    "#### 2.3.4张量\n",
    "0D 1D 2D ... nD"
   ]
  },
  {
   "cell_type": "markdown",
   "metadata": {},
   "source": [
    "#### 2.3.5张量算法本质\n",
    "* 对相同形状的两个张量按元素运算都不改变形状，e.g.A*B 数学中叫哈达马积\n",
    "* 将张量乘以或加上一个标量不会改变张量的形状，其中张量的每个元素都将与标量相加或相乘。"
   ]
  },
  {
   "cell_type": "markdown",
   "metadata": {},
   "source": [
    "#### 2.3.6 降维"
   ]
  },
  {
   "cell_type": "markdown",
   "metadata": {},
   "source": [
    "我们可以对任意张量进行的一个有用的操作是计算其元素的和。 在数学表示法中，我们使用 ∑ 符号表示求和。 为了表示长度为 𝑑 的向量中元素的总和，可以记为 ∑𝑑𝑖=1𝑥𝑖 。 在代码中，我们可以调用计算求和的函数："
   ]
  },
  {
   "cell_type": "code",
   "execution_count": 157,
   "metadata": {
    "ExecuteTime": {
     "end_time": "2022-01-05T08:49:56.887074Z",
     "start_time": "2022-01-05T08:49:56.880158Z"
    }
   },
   "outputs": [
    {
     "data": {
      "text/plain": [
       "(<tf.Tensor: shape=(4,), dtype=int32, numpy=array([0, 1, 2, 3], dtype=int32)>,\n",
       " <tf.Tensor: shape=(), dtype=int32, numpy=6>)"
      ]
     },
     "execution_count": 157,
     "metadata": {},
     "output_type": "execute_result"
    }
   ],
   "source": [
    "tf.range(4),tf.reduce_sum(tf.range(4))"
   ]
  },
  {
   "cell_type": "markdown",
   "metadata": {
    "ExecuteTime": {
     "end_time": "2022-01-05T08:52:21.953365Z",
     "start_time": "2022-01-05T08:52:21.947678Z"
    }
   },
   "source": [
    "默认情况下，调用求和函数会沿所有的轴降低张量的维度，使它变为一个标量。 我们还可以指定张量沿哪一个轴来通过求和降低维度。 以矩阵为例，为了通过求和所有行的元素来降维（轴0），我们可以在调用函数时指定axis=0。 由于输入矩阵沿0轴降维以生成输出向量，因此输入轴0的维数在输出形状中消失。"
   ]
  },
  {
   "cell_type": "code",
   "execution_count": 160,
   "metadata": {
    "ExecuteTime": {
     "end_time": "2022-01-05T08:53:46.293438Z",
     "start_time": "2022-01-05T08:53:46.284903Z"
    }
   },
   "outputs": [
    {
     "data": {
      "text/plain": [
       "(<tf.Tensor: shape=(2, 4), dtype=float32, numpy=\n",
       " array([[1., 1., 1., 1.],\n",
       "        [1., 1., 1., 1.]], dtype=float32)>,\n",
       " <tf.Tensor: shape=(4,), dtype=float32, numpy=array([2., 2., 2., 2.], dtype=float32)>,\n",
       " <tf.Tensor: shape=(2,), dtype=float32, numpy=array([4., 4.], dtype=float32)>)"
      ]
     },
     "execution_count": 160,
     "metadata": {},
     "output_type": "execute_result"
    }
   ],
   "source": [
    "tf.ones((2,4)),tf.reduce_sum(tf.ones((2,4)),axis=0),tf.reduce_sum(tf.ones((2,4)),axis=1)"
   ]
  },
  {
   "cell_type": "markdown",
   "metadata": {},
   "source": [
    "#### 非降维求和\n",
    "但是，有时在调用函数来计算总和或均值时保持轴数不变会很有用。"
   ]
  },
  {
   "cell_type": "code",
   "execution_count": 162,
   "metadata": {
    "ExecuteTime": {
     "end_time": "2022-01-05T08:59:52.704594Z",
     "start_time": "2022-01-05T08:59:52.696429Z"
    }
   },
   "outputs": [
    {
     "data": {
      "text/plain": [
       "<tf.Tensor: shape=(5, 1), dtype=int32, numpy=\n",
       "array([[ 6],\n",
       "       [22],\n",
       "       [38],\n",
       "       [54],\n",
       "       [70]], dtype=int32)>"
      ]
     },
     "execution_count": 162,
     "metadata": {},
     "output_type": "execute_result"
    }
   ],
   "source": [
    "sum_A = tf.reduce_sum(tf.reshape(tf.range(20),(5,4)), axis=1, keepdims=True)\n",
    "sum_A"
   ]
  },
  {
   "cell_type": "markdown",
   "metadata": {},
   "source": [
    "例如，由于sum_A在对每行进行求和后仍保持两个轴，我们可以通过广播将A除以sum_A。"
   ]
  },
  {
   "cell_type": "code",
   "execution_count": 163,
   "metadata": {
    "ExecuteTime": {
     "end_time": "2022-01-05T09:00:25.379896Z",
     "start_time": "2022-01-05T09:00:25.371614Z"
    }
   },
   "outputs": [
    {
     "data": {
      "text/plain": [
       "<tf.Tensor: shape=(5, 4), dtype=float64, numpy=\n",
       "array([[0.        , 0.16666667, 0.33333333, 0.5       ],\n",
       "       [0.18181818, 0.22727273, 0.27272727, 0.31818182],\n",
       "       [0.21052632, 0.23684211, 0.26315789, 0.28947368],\n",
       "       [0.22222222, 0.24074074, 0.25925926, 0.27777778],\n",
       "       [0.22857143, 0.24285714, 0.25714286, 0.27142857]])>"
      ]
     },
     "execution_count": 163,
     "metadata": {},
     "output_type": "execute_result"
    }
   ],
   "source": [
    "tf.reshape(tf.range(20),(5,4))/sum_A"
   ]
  },
  {
   "cell_type": "markdown",
   "metadata": {},
   "source": [
    "如果我们想沿某个轴计算A元素的累积总和， 比如axis=0（按行计算），我们可以调用cumsum函数。 此函数不会沿任何轴降低输入张量的维度。"
   ]
  },
  {
   "cell_type": "code",
   "execution_count": 164,
   "metadata": {
    "ExecuteTime": {
     "end_time": "2022-01-05T09:01:30.090608Z",
     "start_time": "2022-01-05T09:01:30.078642Z"
    }
   },
   "outputs": [
    {
     "data": {
      "text/plain": [
       "<tf.Tensor: shape=(5, 4), dtype=int32, numpy=\n",
       "array([[ 0,  1,  2,  3],\n",
       "       [ 4,  6,  8, 10],\n",
       "       [12, 15, 18, 21],\n",
       "       [24, 28, 32, 36],\n",
       "       [40, 45, 50, 55]], dtype=int32)>"
      ]
     },
     "execution_count": 164,
     "metadata": {},
     "output_type": "execute_result"
    }
   ],
   "source": [
    "tf.cumsum(tf.reshape(tf.range(20),(5,4)), axis=0)"
   ]
  },
  {
   "cell_type": "markdown",
   "metadata": {},
   "source": [
    "#### 2.3.7点积"
   ]
  },
  {
   "cell_type": "markdown",
   "metadata": {},
   "source": [
    "我们已经学习了按元素操作、求和及平均值。 另一个最基本的操作之一是点积。 给定两个向量 𝐱,𝐲∈ℝ𝑑 ， 它们的点积（dot product） 𝐱⊤𝐲  （或 ⟨𝐱,𝐲⟩ ） 是相同位置的按元素乘积的和： 𝐱⊤𝐲=∑𝑑𝑖=1𝑥𝑖𝑦𝑖 。"
   ]
  },
  {
   "cell_type": "code",
   "execution_count": 168,
   "metadata": {
    "ExecuteTime": {
     "end_time": "2022-01-05T09:04:57.260951Z",
     "start_time": "2022-01-05T09:04:57.251037Z"
    }
   },
   "outputs": [
    {
     "data": {
      "text/plain": [
       "(<tf.Tensor: shape=(4,), dtype=float32, numpy=array([0., 1., 2., 3.], dtype=float32)>,\n",
       " <tf.Tensor: shape=(4,), dtype=float32, numpy=array([1., 1., 1., 1.], dtype=float32)>,\n",
       " <tf.Tensor: shape=(), dtype=float32, numpy=6.0>)"
      ]
     },
     "execution_count": 168,
     "metadata": {},
     "output_type": "execute_result"
    }
   ],
   "source": [
    "x = tf.cast(tf.range(4),dtype='float32')\n",
    "y = tf.ones(4, dtype=tf.float32)\n",
    "x, y, tf.tensordot(x, y, axes=1)"
   ]
  },
  {
   "cell_type": "markdown",
   "metadata": {},
   "source": [
    "注意，我们可以通过执行按元素乘法，然后进行求和来表示两个向量的点积："
   ]
  },
  {
   "cell_type": "code",
   "execution_count": 169,
   "metadata": {
    "ExecuteTime": {
     "end_time": "2022-01-05T09:05:11.871426Z",
     "start_time": "2022-01-05T09:05:11.865307Z"
    }
   },
   "outputs": [
    {
     "data": {
      "text/plain": [
       "<tf.Tensor: shape=(), dtype=float32, numpy=6.0>"
      ]
     },
     "execution_count": 169,
     "metadata": {},
     "output_type": "execute_result"
    }
   ],
   "source": [
    "tf.reduce_sum(x * y)"
   ]
  },
  {
   "cell_type": "markdown",
   "metadata": {},
   "source": [
    "点积在很多场合都很有用。 例如，给定一组由向量 𝐱∈ℝ𝑑 表示的值， 和一组由 𝐰∈ℝ𝑑 表示的权重。  𝐱 中的值根据权重 𝐰 的加权和， 可以表示为点积 𝐱⊤𝐰 。 当权重为非负数且和为1（即 (∑𝑑𝑖=1𝑤𝑖=1) ）时， 点积表示加权平均（weighted average）。 将两个向量规范化得到单位长度后，点积表示它们夹角的余弦。 我们将在本节的后面正式介绍长度（length）的概念。"
   ]
  },
  {
   "cell_type": "markdown",
   "metadata": {},
   "source": [
    "#### 2.3.8矩阵-向量积"
   ]
  },
  {
   "cell_type": "markdown",
   "metadata": {},
   "source": [
    "现在我们知道如何计算点积，我们可以开始理解矩阵-向量积（matrix-vector product）。 回顾分别在 (2.3.2)和 (2.3.1)中定义的矩阵 𝐀∈ℝ𝑚×𝑛 和向量 𝐱∈ℝ𝑛 。 让我们将矩阵 𝐀 用它的行向量表示：\n",
    "\n",
    "(2.3.5)\n",
    "𝐀=⎡⎣⎢⎢⎢⎢𝐚⊤1𝐚⊤2⋮𝐚⊤𝑚⎤⎦⎥⎥⎥⎥,\n",
    " \n",
    "其中每个 𝐚⊤𝑖∈ℝ𝑛 都是行向量，表示矩阵的第 𝑖 行。 矩阵向量积 𝐀𝐱 是一个长度为 𝑚 的列向量， 其第 𝑖 个元素是点积 𝐚⊤𝑖𝐱 ：\n",
    "\n",
    "(2.3.6)\n",
    "𝐀𝐱=⎡⎣⎢⎢⎢⎢𝐚⊤1𝐚⊤2⋮𝐚⊤𝑚⎤⎦⎥⎥⎥⎥𝐱=⎡⎣⎢⎢⎢⎢𝐚⊤1𝐱𝐚⊤2𝐱⋮𝐚⊤𝑚𝐱⎤⎦⎥⎥⎥⎥.\n",
    " \n",
    "我们可以把一个矩阵 𝐀∈ℝ𝑚×𝑛 乘法看作是一个从 ℝ𝑛 到 ℝ𝑚 向量的转换。 这些转换是非常有用的。例如，我们可以用方阵的乘法来表示旋转。 我们将在后续章节中讲到，我们也可以使用矩阵-向量积来描述在给定前一层的值时， 求解神经网络每一层所需的复杂计算。"
   ]
  },
  {
   "cell_type": "markdown",
   "metadata": {},
   "source": [
    "在代码中使用张量表示矩阵-向量积，我们使用与点积相同的matvec函数。 当我们为矩阵A和向量x调用tf.linalg.matvec(A, x)时，会执行矩阵-向量积。 注意，A的列维数（沿轴1的长度）必须与x的维数（其长度）相同。"
   ]
  },
  {
   "cell_type": "code",
   "execution_count": 171,
   "metadata": {
    "ExecuteTime": {
     "end_time": "2022-01-05T09:10:17.254865Z",
     "start_time": "2022-01-05T09:10:17.247430Z"
    }
   },
   "outputs": [
    {
     "data": {
      "text/plain": [
       "(TensorShape([5, 4]),\n",
       " TensorShape([4]),\n",
       " <tf.Tensor: shape=(5,), dtype=float32, numpy=array([ 14.,  38.,  62.,  86., 110.], dtype=float32)>)"
      ]
     },
     "execution_count": 171,
     "metadata": {},
     "output_type": "execute_result"
    }
   ],
   "source": [
    "A = tf.cast(tf.reshape(tf.range(20),(5,4)),dtype='float32')\n",
    "A.shape, x.shape, tf.linalg.matvec(A, x)"
   ]
  },
  {
   "cell_type": "markdown",
   "metadata": {},
   "source": [
    "#### 2.3.9矩阵-矩阵乘法"
   ]
  },
  {
   "cell_type": "markdown",
   "metadata": {},
   "source": [
    "我们可以将矩阵-矩阵乘法 𝐀𝐁 看作是简单地执行 𝑚 次矩阵-向量积，并将结果拼接在一起，形成一个 𝑛×𝑚 矩阵。 在下面的代码中，我们在A和B上执行矩阵乘法。 这里的A是一个5行4列的矩阵，B是一个4行3列的矩阵。 两者相乘后，我们得到了一个5行3列的矩阵。"
   ]
  },
  {
   "cell_type": "code",
   "execution_count": 172,
   "metadata": {
    "ExecuteTime": {
     "end_time": "2022-01-05T09:11:10.201099Z",
     "start_time": "2022-01-05T09:11:10.175499Z"
    }
   },
   "outputs": [
    {
     "data": {
      "text/plain": [
       "<tf.Tensor: shape=(5, 3), dtype=float32, numpy=\n",
       "array([[ 6.,  6.,  6.],\n",
       "       [22., 22., 22.],\n",
       "       [38., 38., 38.],\n",
       "       [54., 54., 54.],\n",
       "       [70., 70., 70.]], dtype=float32)>"
      ]
     },
     "execution_count": 172,
     "metadata": {},
     "output_type": "execute_result"
    }
   ],
   "source": [
    "B = tf.ones((4, 3), tf.float32)\n",
    "tf.matmul(A, B)"
   ]
  },
  {
   "cell_type": "markdown",
   "metadata": {},
   "source": [
    "#### 2.3.10范数\n",
    "* 线性代数中最有用的一些运算符是范数（norm）。 非正式地说，一个向量的范数告诉我们一个向量有多大。 这里考虑的大小（size）概念不涉及维度，而是分量的大小。\n",
    "* 第三个性质简单地说范数必须是非负的: 𝑓(𝐱)≥0. 这是有道理的。因为在大多数情况下，任何东西的最小的大小是0。 最后一个性质要求范数最小为0，当且仅当向量全由0组成。\n",
    "* 范数听起来很像距离的度量。 如果你还记得欧几里得距离和毕达哥拉斯定理，那么非负性的概念和三角不等式可能会给你一些启发。 事实上，欧几里得距离是一个 𝐿2 范数： 假设 𝑛 维向量 𝐱 中的元素是 𝑥1,…,𝑥𝑛 ，其 𝐿2 范数是向量元素平方和的平方根："
   ]
  },
  {
   "cell_type": "code",
   "execution_count": 173,
   "metadata": {
    "ExecuteTime": {
     "end_time": "2022-01-05T09:21:08.571463Z",
     "start_time": "2022-01-05T09:21:08.559256Z"
    }
   },
   "outputs": [
    {
     "data": {
      "text/plain": [
       "<tf.Tensor: shape=(), dtype=float32, numpy=5.0>"
      ]
     },
     "execution_count": 173,
     "metadata": {},
     "output_type": "execute_result"
    }
   ],
   "source": [
    "u = tf.constant([3.0, -4.0])\n",
    "tf.norm(u)"
   ]
  },
  {
   "cell_type": "markdown",
   "metadata": {},
   "source": [
    "* 在深度学习中，我们更经常地使用 𝐿2 范数的平方。 你还会经常遇到 𝐿1 范数，它表示为向量元素的绝对值之和："
   ]
  },
  {
   "cell_type": "code",
   "execution_count": 174,
   "metadata": {
    "ExecuteTime": {
     "end_time": "2022-01-05T09:21:41.481513Z",
     "start_time": "2022-01-05T09:21:41.475952Z"
    }
   },
   "outputs": [
    {
     "data": {
      "text/plain": [
       "<tf.Tensor: shape=(), dtype=float32, numpy=7.0>"
      ]
     },
     "execution_count": 174,
     "metadata": {},
     "output_type": "execute_result"
    }
   ],
   "source": [
    "tf.reduce_sum(tf.abs(u))"
   ]
  },
  {
   "cell_type": "markdown",
   "metadata": {},
   "source": [
    "* Frobenius范数满足向量范数的所有性质，它就像是矩阵形向量的 𝐿2 范数。 调用以下函数将计算矩阵的Frobenius范数。"
   ]
  },
  {
   "cell_type": "code",
   "execution_count": 176,
   "metadata": {
    "ExecuteTime": {
     "end_time": "2022-01-05T09:23:09.968924Z",
     "start_time": "2022-01-05T09:23:09.962791Z"
    }
   },
   "outputs": [
    {
     "data": {
      "text/plain": [
       "<tf.Tensor: shape=(), dtype=float32, numpy=6.0>"
      ]
     },
     "execution_count": 176,
     "metadata": {},
     "output_type": "execute_result"
    }
   ],
   "source": [
    "tf.norm(tf.ones((4,9)))"
   ]
  },
  {
   "cell_type": "markdown",
   "metadata": {
    "ExecuteTime": {
     "end_time": "2022-01-05T09:24:24.888201Z",
     "start_time": "2022-01-05T09:24:24.880160Z"
    }
   },
   "source": [
    "#### 范数和目标\n",
    "在深度学习中，我们经常试图解决优化问题： 最大化分配给观测数据的概率; 最小化预测和真实观测之间的距离。 用向量表示物品（如单词、产品或新闻文章），以便最小化相似项目之间的距离，最大化不同项目之间的距离。 目标，或许是深度学习算法最重要的组成部分（除了数据），通常被表达为范数。"
   ]
  },
  {
   "cell_type": "markdown",
   "metadata": {},
   "source": [
    "#### 2.3.11 小结¶\n",
    "* 标量、向量、矩阵和张量是线性代数中的基本数学对象。\n",
    "* 向量泛化自标量，矩阵泛化自向量。\n",
    "\n",
    "* 标量、向量、矩阵和张量分别具有零、一、二和任意数量的轴。\n",
    "\n",
    "* 一个张量可以通过sum和mean沿指定的轴降低维度。\n",
    "\n",
    "* 两个矩阵的按元素乘法被称为他们的Hadamard积。它与矩阵乘法不同。\n",
    "\n",
    "* 在深度学习中，我们经常使用范数，如 𝐿1 范数、 𝐿2 范数和Frobenius范数。\n",
    "\n",
    "* 我们可以对标量、向量、矩阵和张量执行各种操作。"
   ]
  },
  {
   "cell_type": "markdown",
   "metadata": {},
   "source": [
    "#### 2.3.13. 练习\n",
    "* 1.证明一个矩阵 𝐀 的转置的转置是 𝐀 ，即 (𝐀⊤)⊤=𝐀 。\n",
    "\n",
    "* 2给出两个矩阵 𝐀 和 𝐁 ，证明“它们转置的和”等于“它们和的转置”，即 𝐀⊤+𝐁⊤=(𝐀+𝐁)⊤ 。\n",
    "\n",
    "* 3.给定任意方阵 𝐀 ， 𝐀+𝐀⊤ 总是对称的吗?为什么?\n",
    "\n",
    "* 4.我们在本节中定义了形状 (2,3,4) 的张量X。len(X)的输出结果是什么？\n",
    "\n",
    "* 5.对于任意形状的张量X,len(X)是否总是对应于X特定轴的长度?这个轴是什么?\n",
    "\n",
    "* 6.运行A/A.sum(axis=1)，看看会发生什么。你能分析原因吗？\n",
    "\n",
    "* 7.考虑一个具有形状 (2,3,4) 的张量，在轴0、1、2上的求和输出是什么形状?\n",
    "\n",
    "* 8.为linalg.norm函数提供3个或更多轴的张量，并观察其输出。对于任意形状的张量这个函数计算得到什么?"
   ]
  },
  {
   "cell_type": "code",
   "execution_count": 180,
   "metadata": {
    "ExecuteTime": {
     "end_time": "2022-01-05T09:29:42.998219Z",
     "start_time": "2022-01-05T09:29:42.990609Z"
    }
   },
   "outputs": [
    {
     "data": {
      "text/plain": [
       "<tf.Tensor: shape=(2, 3), dtype=bool, numpy=\n",
       "array([[ True,  True,  True],\n",
       "       [ True,  True,  True]])>"
      ]
     },
     "execution_count": 180,
     "metadata": {},
     "output_type": "execute_result"
    }
   ],
   "source": [
    "# 1. \n",
    "tmp = tf.reshape(tf.range(6),(2,3))\n",
    "tf.transpose(tf.transpose(tmp)) == tmp"
   ]
  },
  {
   "cell_type": "code",
   "execution_count": 181,
   "metadata": {
    "ExecuteTime": {
     "end_time": "2022-01-05T09:36:53.529044Z",
     "start_time": "2022-01-05T09:36:53.520573Z"
    }
   },
   "outputs": [
    {
     "data": {
      "text/plain": [
       "(1, 3, 1)"
      ]
     },
     "execution_count": 181,
     "metadata": {},
     "output_type": "execute_result"
    }
   ],
   "source": [
    "# 4、5.对应0轴\n",
    "len(tf.ones((1,2,3))),len(tf.ones((3,2,1))),len(tf.ones((1,4,3)))"
   ]
  },
  {
   "cell_type": "code",
   "execution_count": 185,
   "metadata": {
    "ExecuteTime": {
     "end_time": "2022-01-05T09:39:05.395214Z",
     "start_time": "2022-01-05T09:39:05.389619Z"
    }
   },
   "outputs": [
    {
     "data": {
      "text/plain": [
       "<tf.Tensor: shape=(2, 3), dtype=int32, numpy=\n",
       "array([[0, 1, 2],\n",
       "       [3, 4, 5]], dtype=int32)>"
      ]
     },
     "execution_count": 185,
     "metadata": {},
     "output_type": "execute_result"
    }
   ],
   "source": [
    "# 6.\n",
    "tmp"
   ]
  },
  {
   "cell_type": "code",
   "execution_count": 188,
   "metadata": {
    "ExecuteTime": {
     "end_time": "2022-01-05T09:39:47.012462Z",
     "start_time": "2022-01-05T09:39:47.004220Z"
    }
   },
   "outputs": [
    {
     "data": {
      "text/plain": [
       "(<tf.Tensor: shape=(3,), dtype=int32, numpy=array([3, 5, 7], dtype=int32)>,\n",
       " <tf.Tensor: shape=(2,), dtype=int32, numpy=array([ 3, 12], dtype=int32)>)"
      ]
     },
     "execution_count": 188,
     "metadata": {},
     "output_type": "execute_result"
    }
   ],
   "source": [
    "# axis = 0按照行，可以理解为把“行”给抹去只剩1行，也就是上下压扁。\n",
    "# axis = 1按照列，可以理解为把“列”给抹去只剩1列，也就是左右压扁。\n",
    "\n",
    "tf.reduce_sum(tmp,axis=0),tf.reduce_sum(tmp,axis=1)"
   ]
  },
  {
   "cell_type": "code",
   "execution_count": 190,
   "metadata": {
    "ExecuteTime": {
     "end_time": "2022-01-05T09:40:54.758325Z",
     "start_time": "2022-01-05T09:40:54.714545Z"
    },
    "scrolled": true
   },
   "outputs": [
    {
     "ename": "InvalidArgumentError",
     "evalue": "Incompatible shapes: [2,3] vs. [2] [Op:RealDiv]",
     "output_type": "error",
     "traceback": [
      "\u001b[0;31m---------------------------------------------------------------------------\u001b[0m",
      "\u001b[0;31mInvalidArgumentError\u001b[0m                      Traceback (most recent call last)",
      "\u001b[0;32m<ipython-input-190-2e71f63e4d17>\u001b[0m in \u001b[0;36m<module>\u001b[0;34m\u001b[0m\n\u001b[0;32m----> 1\u001b[0;31m \u001b[0mtmp\u001b[0m\u001b[0;34m/\u001b[0m\u001b[0mtf\u001b[0m\u001b[0;34m.\u001b[0m\u001b[0mreduce_sum\u001b[0m\u001b[0;34m(\u001b[0m\u001b[0mtmp\u001b[0m\u001b[0;34m,\u001b[0m\u001b[0maxis\u001b[0m\u001b[0;34m=\u001b[0m\u001b[0;36m1\u001b[0m\u001b[0;34m)\u001b[0m\u001b[0;34m\u001b[0m\u001b[0;34m\u001b[0m\u001b[0m\n\u001b[0m",
      "\u001b[0;32m~/.local/lib/python3.6/site-packages/tensorflow/python/ops/math_ops.py\u001b[0m in \u001b[0;36mbinary_op_wrapper\u001b[0;34m(x, y)\u001b[0m\n\u001b[1;32m    982\u001b[0m     \u001b[0;32mwith\u001b[0m \u001b[0mops\u001b[0m\u001b[0;34m.\u001b[0m\u001b[0mname_scope\u001b[0m\u001b[0;34m(\u001b[0m\u001b[0;32mNone\u001b[0m\u001b[0;34m,\u001b[0m \u001b[0mop_name\u001b[0m\u001b[0;34m,\u001b[0m \u001b[0;34m[\u001b[0m\u001b[0mx\u001b[0m\u001b[0;34m,\u001b[0m \u001b[0my\u001b[0m\u001b[0;34m]\u001b[0m\u001b[0;34m)\u001b[0m \u001b[0;32mas\u001b[0m \u001b[0mname\u001b[0m\u001b[0;34m:\u001b[0m\u001b[0;34m\u001b[0m\u001b[0;34m\u001b[0m\u001b[0m\n\u001b[1;32m    983\u001b[0m       \u001b[0;32mif\u001b[0m \u001b[0misinstance\u001b[0m\u001b[0;34m(\u001b[0m\u001b[0mx\u001b[0m\u001b[0;34m,\u001b[0m \u001b[0mops\u001b[0m\u001b[0;34m.\u001b[0m\u001b[0mTensor\u001b[0m\u001b[0;34m)\u001b[0m \u001b[0;32mand\u001b[0m \u001b[0misinstance\u001b[0m\u001b[0;34m(\u001b[0m\u001b[0my\u001b[0m\u001b[0;34m,\u001b[0m \u001b[0mops\u001b[0m\u001b[0;34m.\u001b[0m\u001b[0mTensor\u001b[0m\u001b[0;34m)\u001b[0m\u001b[0;34m:\u001b[0m\u001b[0;34m\u001b[0m\u001b[0;34m\u001b[0m\u001b[0m\n\u001b[0;32m--> 984\u001b[0;31m         \u001b[0;32mreturn\u001b[0m \u001b[0mfunc\u001b[0m\u001b[0;34m(\u001b[0m\u001b[0mx\u001b[0m\u001b[0;34m,\u001b[0m \u001b[0my\u001b[0m\u001b[0;34m,\u001b[0m \u001b[0mname\u001b[0m\u001b[0;34m=\u001b[0m\u001b[0mname\u001b[0m\u001b[0;34m)\u001b[0m\u001b[0;34m\u001b[0m\u001b[0;34m\u001b[0m\u001b[0m\n\u001b[0m\u001b[1;32m    985\u001b[0m       \u001b[0;32melif\u001b[0m \u001b[0;32mnot\u001b[0m \u001b[0misinstance\u001b[0m\u001b[0;34m(\u001b[0m\u001b[0my\u001b[0m\u001b[0;34m,\u001b[0m \u001b[0msparse_tensor\u001b[0m\u001b[0;34m.\u001b[0m\u001b[0mSparseTensor\u001b[0m\u001b[0;34m)\u001b[0m\u001b[0;34m:\u001b[0m\u001b[0;34m\u001b[0m\u001b[0;34m\u001b[0m\u001b[0m\n\u001b[1;32m    986\u001b[0m         \u001b[0;32mtry\u001b[0m\u001b[0;34m:\u001b[0m\u001b[0;34m\u001b[0m\u001b[0;34m\u001b[0m\u001b[0m\n",
      "\u001b[0;32m~/.local/lib/python3.6/site-packages/tensorflow/python/ops/math_ops.py\u001b[0m in \u001b[0;36m_truediv_python3\u001b[0;34m(x, y, name)\u001b[0m\n\u001b[1;32m   1088\u001b[0m       \u001b[0mx\u001b[0m \u001b[0;34m=\u001b[0m \u001b[0mcast\u001b[0m\u001b[0;34m(\u001b[0m\u001b[0mx\u001b[0m\u001b[0;34m,\u001b[0m \u001b[0mdtype\u001b[0m\u001b[0;34m)\u001b[0m\u001b[0;34m\u001b[0m\u001b[0;34m\u001b[0m\u001b[0m\n\u001b[1;32m   1089\u001b[0m       \u001b[0my\u001b[0m \u001b[0;34m=\u001b[0m \u001b[0mcast\u001b[0m\u001b[0;34m(\u001b[0m\u001b[0my\u001b[0m\u001b[0;34m,\u001b[0m \u001b[0mdtype\u001b[0m\u001b[0;34m)\u001b[0m\u001b[0;34m\u001b[0m\u001b[0;34m\u001b[0m\u001b[0m\n\u001b[0;32m-> 1090\u001b[0;31m     \u001b[0;32mreturn\u001b[0m \u001b[0mgen_math_ops\u001b[0m\u001b[0;34m.\u001b[0m\u001b[0mreal_div\u001b[0m\u001b[0;34m(\u001b[0m\u001b[0mx\u001b[0m\u001b[0;34m,\u001b[0m \u001b[0my\u001b[0m\u001b[0;34m,\u001b[0m \u001b[0mname\u001b[0m\u001b[0;34m=\u001b[0m\u001b[0mname\u001b[0m\u001b[0;34m)\u001b[0m\u001b[0;34m\u001b[0m\u001b[0;34m\u001b[0m\u001b[0m\n\u001b[0m\u001b[1;32m   1091\u001b[0m \u001b[0;34m\u001b[0m\u001b[0m\n\u001b[1;32m   1092\u001b[0m \u001b[0;34m\u001b[0m\u001b[0m\n",
      "\u001b[0;32m~/.local/lib/python3.6/site-packages/tensorflow/python/ops/gen_math_ops.py\u001b[0m in \u001b[0;36mreal_div\u001b[0;34m(x, y, name)\u001b[0m\n\u001b[1;32m   7262\u001b[0m         \u001b[0;32mraise\u001b[0m\u001b[0;34m\u001b[0m\u001b[0;34m\u001b[0m\u001b[0m\n\u001b[1;32m   7263\u001b[0m     \u001b[0;32mexcept\u001b[0m \u001b[0m_core\u001b[0m\u001b[0;34m.\u001b[0m\u001b[0m_NotOkStatusException\u001b[0m \u001b[0;32mas\u001b[0m \u001b[0me\u001b[0m\u001b[0;34m:\u001b[0m\u001b[0;34m\u001b[0m\u001b[0;34m\u001b[0m\u001b[0m\n\u001b[0;32m-> 7264\u001b[0;31m       \u001b[0m_ops\u001b[0m\u001b[0;34m.\u001b[0m\u001b[0mraise_from_not_ok_status\u001b[0m\u001b[0;34m(\u001b[0m\u001b[0me\u001b[0m\u001b[0;34m,\u001b[0m \u001b[0mname\u001b[0m\u001b[0;34m)\u001b[0m\u001b[0;34m\u001b[0m\u001b[0;34m\u001b[0m\u001b[0m\n\u001b[0m\u001b[1;32m   7265\u001b[0m   \u001b[0;31m# Add nodes to the TensorFlow graph.\u001b[0m\u001b[0;34m\u001b[0m\u001b[0;34m\u001b[0m\u001b[0;34m\u001b[0m\u001b[0m\n\u001b[1;32m   7266\u001b[0m   \u001b[0;32mtry\u001b[0m\u001b[0;34m:\u001b[0m\u001b[0;34m\u001b[0m\u001b[0;34m\u001b[0m\u001b[0m\n",
      "\u001b[0;32m~/.local/lib/python3.6/site-packages/tensorflow/python/framework/ops.py\u001b[0m in \u001b[0;36mraise_from_not_ok_status\u001b[0;34m(e, name)\u001b[0m\n\u001b[1;32m   6651\u001b[0m   \u001b[0mmessage\u001b[0m \u001b[0;34m=\u001b[0m \u001b[0me\u001b[0m\u001b[0;34m.\u001b[0m\u001b[0mmessage\u001b[0m \u001b[0;34m+\u001b[0m \u001b[0;34m(\u001b[0m\u001b[0;34m\" name: \"\u001b[0m \u001b[0;34m+\u001b[0m \u001b[0mname\u001b[0m \u001b[0;32mif\u001b[0m \u001b[0mname\u001b[0m \u001b[0;32mis\u001b[0m \u001b[0;32mnot\u001b[0m \u001b[0;32mNone\u001b[0m \u001b[0;32melse\u001b[0m \u001b[0;34m\"\"\u001b[0m\u001b[0;34m)\u001b[0m\u001b[0;34m\u001b[0m\u001b[0;34m\u001b[0m\u001b[0m\n\u001b[1;32m   6652\u001b[0m   \u001b[0;31m# pylint: disable=protected-access\u001b[0m\u001b[0;34m\u001b[0m\u001b[0;34m\u001b[0m\u001b[0;34m\u001b[0m\u001b[0m\n\u001b[0;32m-> 6653\u001b[0;31m   \u001b[0msix\u001b[0m\u001b[0;34m.\u001b[0m\u001b[0mraise_from\u001b[0m\u001b[0;34m(\u001b[0m\u001b[0mcore\u001b[0m\u001b[0;34m.\u001b[0m\u001b[0m_status_to_exception\u001b[0m\u001b[0;34m(\u001b[0m\u001b[0me\u001b[0m\u001b[0;34m.\u001b[0m\u001b[0mcode\u001b[0m\u001b[0;34m,\u001b[0m \u001b[0mmessage\u001b[0m\u001b[0;34m)\u001b[0m\u001b[0;34m,\u001b[0m \u001b[0;32mNone\u001b[0m\u001b[0;34m)\u001b[0m\u001b[0;34m\u001b[0m\u001b[0;34m\u001b[0m\u001b[0m\n\u001b[0m\u001b[1;32m   6654\u001b[0m   \u001b[0;31m# pylint: enable=protected-access\u001b[0m\u001b[0;34m\u001b[0m\u001b[0;34m\u001b[0m\u001b[0;34m\u001b[0m\u001b[0m\n\u001b[1;32m   6655\u001b[0m \u001b[0;34m\u001b[0m\u001b[0m\n",
      "\u001b[0;32m/usr/local/lib/python3.6/site-packages/six.py\u001b[0m in \u001b[0;36mraise_from\u001b[0;34m(value, from_value)\u001b[0m\n",
      "\u001b[0;31mInvalidArgumentError\u001b[0m: Incompatible shapes: [2,3] vs. [2] [Op:RealDiv]"
     ]
    }
   ],
   "source": [
    "tmp/tf.reduce_sum(tmp,axis=1)"
   ]
  },
  {
   "cell_type": "code",
   "execution_count": 184,
   "metadata": {
    "ExecuteTime": {
     "end_time": "2022-01-05T09:38:33.859037Z",
     "start_time": "2022-01-05T09:38:33.850432Z"
    }
   },
   "outputs": [
    {
     "data": {
      "text/plain": [
       "<tf.Tensor: shape=(2, 3), dtype=float64, numpy=\n",
       "array([[0.        , 0.2       , 0.28571429],\n",
       "       [1.        , 0.8       , 0.71428571]])>"
      ]
     },
     "execution_count": 184,
     "metadata": {},
     "output_type": "execute_result"
    }
   ],
   "source": [
    "tmp/tf.reduce_sum(tmp,axis=0)"
   ]
  },
  {
   "cell_type": "markdown",
   "metadata": {},
   "source": [
    "#### 必须用keepdim 才可保证此各维度问题的结果都存在"
   ]
  },
  {
   "cell_type": "code",
   "execution_count": 191,
   "metadata": {
    "ExecuteTime": {
     "end_time": "2022-01-05T09:44:43.119616Z",
     "start_time": "2022-01-05T09:44:43.111469Z"
    }
   },
   "outputs": [
    {
     "data": {
      "text/plain": [
       "(<tf.Tensor: shape=(1, 3), dtype=int32, numpy=array([[3, 5, 7]], dtype=int32)>,\n",
       " <tf.Tensor: shape=(2, 1), dtype=int32, numpy=\n",
       " array([[ 3],\n",
       "        [12]], dtype=int32)>)"
      ]
     },
     "execution_count": 191,
     "metadata": {},
     "output_type": "execute_result"
    }
   ],
   "source": [
    "tf.reduce_sum(tmp,axis=0,keepdims=True),tf.reduce_sum(tmp,axis=1,keepdims=True)"
   ]
  },
  {
   "cell_type": "code",
   "execution_count": 192,
   "metadata": {
    "ExecuteTime": {
     "end_time": "2022-01-05T09:45:10.163655Z",
     "start_time": "2022-01-05T09:45:10.157317Z"
    }
   },
   "outputs": [
    {
     "data": {
      "text/plain": [
       "<tf.Tensor: shape=(2, 3), dtype=float64, numpy=\n",
       "array([[0.        , 0.33333333, 0.66666667],\n",
       "       [0.25      , 0.33333333, 0.41666667]])>"
      ]
     },
     "execution_count": 192,
     "metadata": {},
     "output_type": "execute_result"
    }
   ],
   "source": [
    "tmp/tf.reduce_sum(tmp,axis=1,keepdims=True)"
   ]
  },
  {
   "cell_type": "code",
   "execution_count": 193,
   "metadata": {
    "ExecuteTime": {
     "end_time": "2022-01-05T09:46:00.649766Z",
     "start_time": "2022-01-05T09:46:00.643272Z"
    }
   },
   "outputs": [
    {
     "data": {
      "text/plain": [
       "<tf.Tensor: shape=(2, 3), dtype=float64, numpy=\n",
       "array([[0.        , 0.2       , 0.28571429],\n",
       "       [1.        , 0.8       , 0.71428571]])>"
      ]
     },
     "execution_count": 193,
     "metadata": {},
     "output_type": "execute_result"
    }
   ],
   "source": [
    "tmp/tf.reduce_sum(tmp,axis=0,keepdims=True)"
   ]
  },
  {
   "cell_type": "code",
   "execution_count": 194,
   "metadata": {
    "ExecuteTime": {
     "end_time": "2022-01-05T09:46:52.760410Z",
     "start_time": "2022-01-05T09:46:52.752542Z"
    }
   },
   "outputs": [
    {
     "data": {
      "text/plain": [
       "<tf.Tensor: shape=(2, 3, 4), dtype=int32, numpy=\n",
       "array([[[ 0,  1,  2,  3],\n",
       "        [ 4,  5,  6,  7],\n",
       "        [ 8,  9, 10, 11]],\n",
       "\n",
       "       [[12, 13, 14, 15],\n",
       "        [16, 17, 18, 19],\n",
       "        [20, 21, 22, 23]]], dtype=int32)>"
      ]
     },
     "execution_count": 194,
     "metadata": {},
     "output_type": "execute_result"
    }
   ],
   "source": [
    "# 7.\n",
    "tmp2 = tf.reshape(tf.range(24),(2,3,4))\n",
    "tmp2"
   ]
  },
  {
   "cell_type": "code",
   "execution_count": 195,
   "metadata": {
    "ExecuteTime": {
     "end_time": "2022-01-05T09:47:22.381209Z",
     "start_time": "2022-01-05T09:47:22.374044Z"
    }
   },
   "outputs": [
    {
     "data": {
      "text/plain": [
       "(<tf.Tensor: shape=(3, 4), dtype=int32, numpy=\n",
       " array([[12, 14, 16, 18],\n",
       "        [20, 22, 24, 26],\n",
       "        [28, 30, 32, 34]], dtype=int32)>,\n",
       " <tf.Tensor: shape=(2, 4), dtype=int32, numpy=\n",
       " array([[12, 15, 18, 21],\n",
       "        [48, 51, 54, 57]], dtype=int32)>,\n",
       " <tf.Tensor: shape=(2, 3), dtype=int32, numpy=\n",
       " array([[ 6, 22, 38],\n",
       "        [54, 70, 86]], dtype=int32)>)"
      ]
     },
     "execution_count": 195,
     "metadata": {},
     "output_type": "execute_result"
    }
   ],
   "source": [
    "tf.reduce_sum(tmp2,axis=0),tf.reduce_sum(tmp2,axis=1),tf.reduce_sum(tmp2,axis=2)"
   ]
  },
  {
   "cell_type": "code",
   "execution_count": 200,
   "metadata": {
    "ExecuteTime": {
     "end_time": "2022-01-05T09:52:08.067673Z",
     "start_time": "2022-01-05T09:52:08.060305Z"
    }
   },
   "outputs": [
    {
     "data": {
      "text/plain": [
       "<tf.Tensor: shape=(), dtype=float32, numpy=65.757126>"
      ]
     },
     "execution_count": 200,
     "metadata": {},
     "output_type": "execute_result"
    }
   ],
   "source": [
    "# 8.\n",
    "tf.linalg.norm(tf.cast(tmp2,dtype='float32'))"
   ]
  },
  {
   "cell_type": "markdown",
   "metadata": {},
   "source": [
    "### 2.4 微积分"
   ]
  },
  {
   "cell_type": "markdown",
   "metadata": {},
   "source": [
    "* 在2500年前，古希腊人把一个多边形分成三角形，并把它们的面积相加，才找到计算多边形面积的方法。 为了求出曲线形状（比如圆）的面积，古希腊人在这样的形状上刻内接多边形。 如 图2.4.1所示，内接多边形的等长边越多，就越接近圆。 这个过程也被称为逼近法（method of exhaustion）。\n",
    "\n",
    "* 事实上，逼近法就是积分（integral calculus）的起源， 我们将在 sec_integral_calculus中详细描述。 2000多年后，微积分的另一支，微分（differential calculus）被发明出来。 在微分学最重要的应用是优化问题，即考虑如何把事情做到最好。 \n",
    "* 在深度学习中，我们“训练”模型，不断更新它们，使它们在看到越来越多的数据时变得越来越好。 通常情况下，变得更好意味着最小化一个损失函数（loss function）， 即一个衡量“我们的模型有多糟糕”这个问题的分数。 最终，我们真正关心的是生成一个模型，它能够在从未见过的数据上表现良好。 但“训练”模型只能将模型与我们实际能看到的数据相拟合。 因此，我们可以将拟合模型的任务分解为两个关键问题：\n",
    "\n",
    "    * 优化（optimization）：用模型拟合观测数据的过程；\n",
    "\n",
    "    * 泛化（generalization）：数学原理和实践者的智慧，能够指导我们生成出有效性超出用于训练的数据集本身的模型。"
   ]
  },
  {
   "cell_type": "markdown",
   "metadata": {},
   "source": [
    "#### 2.4.1导数和微分"
   ]
  },
  {
   "cell_type": "markdown",
   "metadata": {},
   "source": [
    "我们首先讨论导数的计算，这是几乎所有深度学习优化算法的关键步骤。 在深度学习中，我们通常选择对于模型参数可微的损失函数。 简而言之，对于每个参数， 如果我们把这个参数增加或减少一个无穷小的量，我们可以知道损失会以多快的速度增加或减少，\n",
    "\n",
    "假设我们有一个函数 𝑓:ℝ𝑛→ℝ ，其输入和输出都是标量。 如果 𝑓 的导数存在，这个极限被定义为\n",
    "\n",
    "(2.4.1)\n",
    "𝑓′(𝑥)=limℎ→0𝑓(𝑥+ℎ)−𝑓(𝑥)ℎ.\n",
    " \n",
    "如果 𝑓′(𝑎) 存在，则称 𝑓 在 𝑎 处是可微（differentiable）的。 如果 𝑓 在一个区间内的每个数上都是可微的，则此函数在此区间中是可微的。 我们可以将 (2.4.1)中的导数 𝑓′(𝑥) 解释为 𝑓(𝑥) 相对于 𝑥 的瞬时（instantaneous）变化率。 所谓的瞬时变化率是基于 𝑥 中的变化 ℎ ，且 ℎ 接近 0 。\n",
    "\n",
    "为了更好地解释导数，让我们做一个实验。 定义 𝑢=𝑓(𝑥)=3𝑥2−4𝑥 如下："
   ]
  },
  {
   "cell_type": "code",
   "execution_count": 201,
   "metadata": {
    "ExecuteTime": {
     "end_time": "2022-01-05T11:08:31.608816Z",
     "start_time": "2022-01-05T11:08:31.601302Z"
    }
   },
   "outputs": [],
   "source": [
    "def f(x):\n",
    "    return 3*x**2-4*x\n"
   ]
  },
  {
   "cell_type": "markdown",
   "metadata": {},
   "source": [
    "通过令 𝑥=1 并让 ℎ 接近 0 ， (2.4.1)中 𝑓(𝑥+ℎ)−𝑓(𝑥)ℎ 的数值结果接近 2 。 虽然这个实验不是一个数学证明，但我们稍后会看到，当 𝑥=1 时，导数 𝑢′ 是 2 。"
   ]
  },
  {
   "cell_type": "code",
   "execution_count": 204,
   "metadata": {
    "ExecuteTime": {
     "end_time": "2022-01-05T11:12:37.723562Z",
     "start_time": "2022-01-05T11:12:37.717355Z"
    }
   },
   "outputs": [
    {
     "name": "stdout",
     "output_type": "stream",
     "text": [
      "h=0.10000,num limit = 2.30000\n",
      "h=0.01000,num limit = 2.03000\n",
      "h=0.00100,num limit = 2.00300\n",
      "h=0.00010,num limit = 2.00030\n",
      "h=0.00001,num limit = 2.00003\n"
     ]
    }
   ],
   "source": [
    "def num_limit(f,x,h):\n",
    "    return (f(x+h)-f(x))/h\n",
    "h=0.1\n",
    "for i in range(5):\n",
    "    print(f'h={h:.5f},num limit = {num_limit(f,1,h):.5f}')\n",
    "    h*=0.1def use_svg_display():  #@save\n",
    "    \"\"\"使用svg格式在Jupyter中显示绘图\"\"\"\n",
    "    display.set_matplotlib_formats('svg')"
   ]
  },
  {
   "cell_type": "markdown",
   "metadata": {},
   "source": [
    "现在我们可以应用上述几个法则来计算 𝑢′=𝑓′(𝑥)=3𝑑𝑑𝑥𝑥2−4𝑑𝑑𝑥𝑥=6𝑥−4 。 令 𝑥=1 ，我们有 𝑢′=2 ：在这个实验中，数值结果接近 2 ， 这一点得到了我们在本节前面的实验的支持。 当 𝑥=1 时，此导数也是曲线 𝑢=𝑓(𝑥) 切线的斜率。\n",
    "\n",
    "为了对导数的这种解释进行可视化，我们将使用matplotlib， 这是一个Python中流行的绘图库。 要配置matplotlib生成图形的属性，我们需要定义几个函数。 在下面，use_svg_display函数指定matplotlib软件包输出svg图表以获得更清晰的图像。\n",
    "\n",
    "注意，注释#@save是一个特殊的标记，会将对应的函数、类或语句保存在d2l包中。 因此，以后无须重新定义就可以直接调用它们（例如，d2l.use_svg_display()）。"
   ]
  },
  {
   "cell_type": "code",
   "execution_count": 250,
   "metadata": {
    "ExecuteTime": {
     "end_time": "2022-01-05T11:53:31.851705Z",
     "start_time": "2022-01-05T11:53:31.663215Z"
    }
   },
   "outputs": [
    {
     "name": "stdout",
     "output_type": "stream",
     "text": [
      "[0.  0.1 0.2 0.3 0.4 0.5 0.6 0.7 0.8 0.9 1.  1.1 1.2 1.3 1.4 1.5 1.6 1.7\n",
      " 1.8 1.9 2.  2.1 2.2 2.3 2.4 2.5 2.6 2.7 2.8 2.9]\n",
      "[array([ 0.  , -0.37, -0.68, -0.93, -1.12, -1.25, -1.32, -1.33, -1.28,\n",
      "       -1.17, -1.  , -0.77, -0.48, -0.13,  0.28,  0.75,  1.28,  1.87,\n",
      "        2.52,  3.23,  4.  ,  4.83,  5.72,  6.67,  7.68,  8.75,  9.88,\n",
      "       11.07, 12.32, 13.63]), array([-3. , -2.8, -2.6, -2.4, -2.2, -2. , -1.8, -1.6, -1.4, -1.2, -1. ,\n",
      "       -0.8, -0.6, -0.4, -0.2,  0. ,  0.2,  0.4,  0.6,  0.8,  1. ,  1.2,\n",
      "        1.4,  1.6,  1.8,  2. ,  2.2,  2.4,  2.6,  2.8])]\n",
      "legend: ['f(x)', 'Tangent line (x=1)']\n",
      "axes: AxesSubplot(0.125,0.125;0.775x0.755)\n",
      "X has one axis: [array([0. , 0.1, 0.2, 0.3, 0.4, 0.5, 0.6, 0.7, 0.8, 0.9, 1. , 1.1, 1.2,\n",
      "       1.3, 1.4, 1.5, 1.6, 1.7, 1.8, 1.9, 2. , 2.1, 2.2, 2.3, 2.4, 2.5,\n",
      "       2.6, 2.7, 2.8, 2.9])]\n",
      "X Y长度不一致\n",
      "X长度： 1\n",
      "Y长度： 2\n",
      "X长度扩为Y的长度： [array([0. , 0.1, 0.2, 0.3, 0.4, 0.5, 0.6, 0.7, 0.8, 0.9, 1. , 1.1, 1.2,\n",
      "       1.3, 1.4, 1.5, 1.6, 1.7, 1.8, 1.9, 2. , 2.1, 2.2, 2.3, 2.4, 2.5,\n",
      "       2.6, 2.7, 2.8, 2.9]), array([0. , 0.1, 0.2, 0.3, 0.4, 0.5, 0.6, 0.7, 0.8, 0.9, 1. , 1.1, 1.2,\n",
      "       1.3, 1.4, 1.5, 1.6, 1.7, 1.8, 1.9, 2. , 2.1, 2.2, 2.3, 2.4, 2.5,\n",
      "       2.6, 2.7, 2.8, 2.9])]\n",
      "=========\n",
      "X= [array([0. , 0.1, 0.2, 0.3, 0.4, 0.5, 0.6, 0.7, 0.8, 0.9, 1. , 1.1, 1.2,\n",
      "       1.3, 1.4, 1.5, 1.6, 1.7, 1.8, 1.9, 2. , 2.1, 2.2, 2.3, 2.4, 2.5,\n",
      "       2.6, 2.7, 2.8, 2.9]), array([0. , 0.1, 0.2, 0.3, 0.4, 0.5, 0.6, 0.7, 0.8, 0.9, 1. , 1.1, 1.2,\n",
      "       1.3, 1.4, 1.5, 1.6, 1.7, 1.8, 1.9, 2. , 2.1, 2.2, 2.3, 2.4, 2.5,\n",
      "       2.6, 2.7, 2.8, 2.9])]\n",
      "Y= [array([ 0.  , -0.37, -0.68, -0.93, -1.12, -1.25, -1.32, -1.33, -1.28,\n",
      "       -1.17, -1.  , -0.77, -0.48, -0.13,  0.28,  0.75,  1.28,  1.87,\n",
      "        2.52,  3.23,  4.  ,  4.83,  5.72,  6.67,  7.68,  8.75,  9.88,\n",
      "       11.07, 12.32, 13.63]), array([-3. , -2.8, -2.6, -2.4, -2.2, -2. , -1.8, -1.6, -1.4, -1.2, -1. ,\n",
      "       -0.8, -0.6, -0.4, -0.2,  0. ,  0.2,  0.4,  0.6,  0.8,  1. ,  1.2,\n",
      "        1.4,  1.6,  1.8,  2. ,  2.2,  2.4,  2.6,  2.8])]\n",
      "x,y,fmt: [0.  0.1 0.2 0.3 0.4 0.5 0.6 0.7 0.8 0.9 1.  1.1 1.2 1.3 1.4 1.5 1.6 1.7\n",
      " 1.8 1.9 2.  2.1 2.2 2.3 2.4 2.5 2.6 2.7 2.8 2.9] [ 0.   -0.37 -0.68 -0.93 -1.12 -1.25 -1.32 -1.33 -1.28 -1.17 -1.   -0.77\n",
      " -0.48 -0.13  0.28  0.75  1.28  1.87  2.52  3.23  4.    4.83  5.72  6.67\n",
      "  7.68  8.75  9.88 11.07 12.32 13.63] -\n",
      "x,y,fmt: [0.  0.1 0.2 0.3 0.4 0.5 0.6 0.7 0.8 0.9 1.  1.1 1.2 1.3 1.4 1.5 1.6 1.7\n",
      " 1.8 1.9 2.  2.1 2.2 2.3 2.4 2.5 2.6 2.7 2.8 2.9] [-3.  -2.8 -2.6 -2.4 -2.2 -2.  -1.8 -1.6 -1.4 -1.2 -1.  -0.8 -0.6 -0.4\n",
      " -0.2  0.   0.2  0.4  0.6  0.8  1.   1.2  1.4  1.6  1.8  2.   2.2  2.4\n",
      "  2.6  2.8] m--\n"
     ]
    },
    {
     "data": {
      "image/svg+xml": "<?xml version=\"1.0\" encoding=\"utf-8\" standalone=\"no\"?>\n<!DOCTYPE svg PUBLIC \"-//W3C//DTD SVG 1.1//EN\"\n  \"http://www.w3.org/Graphics/SVG/1.1/DTD/svg11.dtd\">\n<!-- Created with matplotlib (https://matplotlib.org/) -->\n<svg height=\"180.65625pt\" version=\"1.1\" viewBox=\"0 0 243.529359 180.65625\" width=\"243.529359pt\" xmlns=\"http://www.w3.org/2000/svg\" xmlns:xlink=\"http://www.w3.org/1999/xlink\">\n <metadata>\n  <rdf:RDF xmlns:cc=\"http://creativecommons.org/ns#\" xmlns:dc=\"http://purl.org/dc/elements/1.1/\" xmlns:rdf=\"http://www.w3.org/1999/02/22-rdf-syntax-ns#\">\n   <cc:Work>\n    <dc:type rdf:resource=\"http://purl.org/dc/dcmitype/StillImage\"/>\n    <dc:date>2022-01-05T19:53:31.813230</dc:date>\n    <dc:format>image/svg+xml</dc:format>\n    <dc:creator>\n     <cc:Agent>\n      <dc:title>Matplotlib v3.3.3, https://matplotlib.org/</dc:title>\n     </cc:Agent>\n    </dc:creator>\n   </cc:Work>\n  </rdf:RDF>\n </metadata>\n <defs>\n  <style type=\"text/css\">*{stroke-linecap:butt;stroke-linejoin:round;}</style>\n </defs>\n <g id=\"figure_1\">\n  <g id=\"patch_1\">\n   <path d=\"M 0 180.65625 \nL 243.529359 180.65625 \nL 243.529359 0 \nL 0 0 \nz\n\" style=\"fill:none;\"/>\n  </g>\n  <g id=\"axes_1\">\n   <g id=\"patch_2\">\n    <path d=\"M 40.603125 143.1 \nL 235.903125 143.1 \nL 235.903125 7.2 \nL 40.603125 7.2 \nz\n\" style=\"fill:#ffffff;\"/>\n   </g>\n   <g id=\"matplotlib.axis_1\">\n    <g id=\"xtick_1\">\n     <g id=\"line2d_1\">\n      <path clip-path=\"url(#p7bf95ac4ee)\" d=\"M 49.480398 143.1 \nL 49.480398 7.2 \n\" style=\"fill:none;stroke:#b0b0b0;stroke-linecap:square;stroke-width:0.8;\"/>\n     </g>\n     <g id=\"line2d_2\">\n      <defs>\n       <path d=\"M 0 0 \nL 0 3.5 \n\" id=\"mbbf7c265ba\" style=\"stroke:#000000;stroke-width:0.8;\"/>\n      </defs>\n      <g>\n       <use style=\"stroke:#000000;stroke-width:0.8;\" x=\"49.480398\" xlink:href=\"#mbbf7c265ba\" y=\"143.1\"/>\n      </g>\n     </g>\n     <g id=\"text_1\">\n      <!-- 0 -->\n      <g transform=\"translate(46.299148 157.698438)scale(0.1 -0.1)\">\n       <defs>\n        <path d=\"M 31.78125 66.40625 \nQ 24.171875 66.40625 20.328125 58.90625 \nQ 16.5 51.421875 16.5 36.375 \nQ 16.5 21.390625 20.328125 13.890625 \nQ 24.171875 6.390625 31.78125 6.390625 \nQ 39.453125 6.390625 43.28125 13.890625 \nQ 47.125 21.390625 47.125 36.375 \nQ 47.125 51.421875 43.28125 58.90625 \nQ 39.453125 66.40625 31.78125 66.40625 \nz\nM 31.78125 74.21875 \nQ 44.046875 74.21875 50.515625 64.515625 \nQ 56.984375 54.828125 56.984375 36.375 \nQ 56.984375 17.96875 50.515625 8.265625 \nQ 44.046875 -1.421875 31.78125 -1.421875 \nQ 19.53125 -1.421875 13.0625 8.265625 \nQ 6.59375 17.96875 6.59375 36.375 \nQ 6.59375 54.828125 13.0625 64.515625 \nQ 19.53125 74.21875 31.78125 74.21875 \nz\n\" id=\"DejaVuSans-48\"/>\n       </defs>\n       <use xlink:href=\"#DejaVuSans-48\"/>\n      </g>\n     </g>\n    </g>\n    <g id=\"xtick_2\">\n     <g id=\"line2d_3\">\n      <path clip-path=\"url(#p7bf95ac4ee)\" d=\"M 110.702968 143.1 \nL 110.702968 7.2 \n\" style=\"fill:none;stroke:#b0b0b0;stroke-linecap:square;stroke-width:0.8;\"/>\n     </g>\n     <g id=\"line2d_4\">\n      <g>\n       <use style=\"stroke:#000000;stroke-width:0.8;\" x=\"110.702968\" xlink:href=\"#mbbf7c265ba\" y=\"143.1\"/>\n      </g>\n     </g>\n     <g id=\"text_2\">\n      <!-- 1 -->\n      <g transform=\"translate(107.521718 157.698438)scale(0.1 -0.1)\">\n       <defs>\n        <path d=\"M 12.40625 8.296875 \nL 28.515625 8.296875 \nL 28.515625 63.921875 \nL 10.984375 60.40625 \nL 10.984375 69.390625 \nL 28.421875 72.90625 \nL 38.28125 72.90625 \nL 38.28125 8.296875 \nL 54.390625 8.296875 \nL 54.390625 0 \nL 12.40625 0 \nz\n\" id=\"DejaVuSans-49\"/>\n       </defs>\n       <use xlink:href=\"#DejaVuSans-49\"/>\n      </g>\n     </g>\n    </g>\n    <g id=\"xtick_3\">\n     <g id=\"line2d_5\">\n      <path clip-path=\"url(#p7bf95ac4ee)\" d=\"M 171.925539 143.1 \nL 171.925539 7.2 \n\" style=\"fill:none;stroke:#b0b0b0;stroke-linecap:square;stroke-width:0.8;\"/>\n     </g>\n     <g id=\"line2d_6\">\n      <g>\n       <use style=\"stroke:#000000;stroke-width:0.8;\" x=\"171.925539\" xlink:href=\"#mbbf7c265ba\" y=\"143.1\"/>\n      </g>\n     </g>\n     <g id=\"text_3\">\n      <!-- 2 -->\n      <g transform=\"translate(168.744289 157.698438)scale(0.1 -0.1)\">\n       <defs>\n        <path d=\"M 19.1875 8.296875 \nL 53.609375 8.296875 \nL 53.609375 0 \nL 7.328125 0 \nL 7.328125 8.296875 \nQ 12.9375 14.109375 22.625 23.890625 \nQ 32.328125 33.6875 34.8125 36.53125 \nQ 39.546875 41.84375 41.421875 45.53125 \nQ 43.3125 49.21875 43.3125 52.78125 \nQ 43.3125 58.59375 39.234375 62.25 \nQ 35.15625 65.921875 28.609375 65.921875 \nQ 23.96875 65.921875 18.8125 64.3125 \nQ 13.671875 62.703125 7.8125 59.421875 \nL 7.8125 69.390625 \nQ 13.765625 71.78125 18.9375 73 \nQ 24.125 74.21875 28.421875 74.21875 \nQ 39.75 74.21875 46.484375 68.546875 \nQ 53.21875 62.890625 53.21875 53.421875 \nQ 53.21875 48.921875 51.53125 44.890625 \nQ 49.859375 40.875 45.40625 35.40625 \nQ 44.1875 33.984375 37.640625 27.21875 \nQ 31.109375 20.453125 19.1875 8.296875 \nz\n\" id=\"DejaVuSans-50\"/>\n       </defs>\n       <use xlink:href=\"#DejaVuSans-50\"/>\n      </g>\n     </g>\n    </g>\n    <g id=\"xtick_4\">\n     <g id=\"line2d_7\">\n      <path clip-path=\"url(#p7bf95ac4ee)\" d=\"M 233.148109 143.1 \nL 233.148109 7.2 \n\" style=\"fill:none;stroke:#b0b0b0;stroke-linecap:square;stroke-width:0.8;\"/>\n     </g>\n     <g id=\"line2d_8\">\n      <g>\n       <use style=\"stroke:#000000;stroke-width:0.8;\" x=\"233.148109\" xlink:href=\"#mbbf7c265ba\" y=\"143.1\"/>\n      </g>\n     </g>\n     <g id=\"text_4\">\n      <!-- 3 -->\n      <g transform=\"translate(229.966859 157.698438)scale(0.1 -0.1)\">\n       <defs>\n        <path d=\"M 40.578125 39.3125 \nQ 47.65625 37.796875 51.625 33 \nQ 55.609375 28.21875 55.609375 21.1875 \nQ 55.609375 10.40625 48.1875 4.484375 \nQ 40.765625 -1.421875 27.09375 -1.421875 \nQ 22.515625 -1.421875 17.65625 -0.515625 \nQ 12.796875 0.390625 7.625 2.203125 \nL 7.625 11.71875 \nQ 11.71875 9.328125 16.59375 8.109375 \nQ 21.484375 6.890625 26.8125 6.890625 \nQ 36.078125 6.890625 40.9375 10.546875 \nQ 45.796875 14.203125 45.796875 21.1875 \nQ 45.796875 27.640625 41.28125 31.265625 \nQ 36.765625 34.90625 28.71875 34.90625 \nL 20.21875 34.90625 \nL 20.21875 43.015625 \nL 29.109375 43.015625 \nQ 36.375 43.015625 40.234375 45.921875 \nQ 44.09375 48.828125 44.09375 54.296875 \nQ 44.09375 59.90625 40.109375 62.90625 \nQ 36.140625 65.921875 28.71875 65.921875 \nQ 24.65625 65.921875 20.015625 65.03125 \nQ 15.375 64.15625 9.8125 62.3125 \nL 9.8125 71.09375 \nQ 15.4375 72.65625 20.34375 73.4375 \nQ 25.25 74.21875 29.59375 74.21875 \nQ 40.828125 74.21875 47.359375 69.109375 \nQ 53.90625 64.015625 53.90625 55.328125 \nQ 53.90625 49.265625 50.4375 45.09375 \nQ 46.96875 40.921875 40.578125 39.3125 \nz\n\" id=\"DejaVuSans-51\"/>\n       </defs>\n       <use xlink:href=\"#DejaVuSans-51\"/>\n      </g>\n     </g>\n    </g>\n    <g id=\"text_5\">\n     <!-- x -->\n     <g transform=\"translate(135.29375 171.376563)scale(0.1 -0.1)\">\n      <defs>\n       <path d=\"M 54.890625 54.6875 \nL 35.109375 28.078125 \nL 55.90625 0 \nL 45.3125 0 \nL 29.390625 21.484375 \nL 13.484375 0 \nL 2.875 0 \nL 24.125 28.609375 \nL 4.6875 54.6875 \nL 15.28125 54.6875 \nL 29.78125 35.203125 \nL 44.28125 54.6875 \nz\n\" id=\"DejaVuSans-120\"/>\n      </defs>\n      <use xlink:href=\"#DejaVuSans-120\"/>\n     </g>\n    </g>\n   </g>\n   <g id=\"matplotlib.axis_2\">\n    <g id=\"ytick_1\">\n     <g id=\"line2d_9\">\n      <path clip-path=\"url(#p7bf95ac4ee)\" d=\"M 40.603125 114.635514 \nL 235.903125 114.635514 \n\" style=\"fill:none;stroke:#b0b0b0;stroke-linecap:square;stroke-width:0.8;\"/>\n     </g>\n     <g id=\"line2d_10\">\n      <defs>\n       <path d=\"M 0 0 \nL -3.5 0 \n\" id=\"m6386004412\" style=\"stroke:#000000;stroke-width:0.8;\"/>\n      </defs>\n      <g>\n       <use style=\"stroke:#000000;stroke-width:0.8;\" x=\"40.603125\" xlink:href=\"#m6386004412\" y=\"114.635514\"/>\n      </g>\n     </g>\n     <g id=\"text_6\">\n      <!-- 0 -->\n      <g transform=\"translate(27.240625 118.434732)scale(0.1 -0.1)\">\n       <use xlink:href=\"#DejaVuSans-48\"/>\n      </g>\n     </g>\n    </g>\n    <g id=\"ytick_2\">\n     <g id=\"line2d_11\">\n      <path clip-path=\"url(#p7bf95ac4ee)\" d=\"M 40.603125 77.490157 \nL 235.903125 77.490157 \n\" style=\"fill:none;stroke:#b0b0b0;stroke-linecap:square;stroke-width:0.8;\"/>\n     </g>\n     <g id=\"line2d_12\">\n      <g>\n       <use style=\"stroke:#000000;stroke-width:0.8;\" x=\"40.603125\" xlink:href=\"#m6386004412\" y=\"77.490157\"/>\n      </g>\n     </g>\n     <g id=\"text_7\">\n      <!-- 5 -->\n      <g transform=\"translate(27.240625 81.289376)scale(0.1 -0.1)\">\n       <defs>\n        <path d=\"M 10.796875 72.90625 \nL 49.515625 72.90625 \nL 49.515625 64.59375 \nL 19.828125 64.59375 \nL 19.828125 46.734375 \nQ 21.96875 47.46875 24.109375 47.828125 \nQ 26.265625 48.1875 28.421875 48.1875 \nQ 40.625 48.1875 47.75 41.5 \nQ 54.890625 34.8125 54.890625 23.390625 \nQ 54.890625 11.625 47.5625 5.09375 \nQ 40.234375 -1.421875 26.90625 -1.421875 \nQ 22.3125 -1.421875 17.546875 -0.640625 \nQ 12.796875 0.140625 7.71875 1.703125 \nL 7.71875 11.625 \nQ 12.109375 9.234375 16.796875 8.0625 \nQ 21.484375 6.890625 26.703125 6.890625 \nQ 35.15625 6.890625 40.078125 11.328125 \nQ 45.015625 15.765625 45.015625 23.390625 \nQ 45.015625 31 40.078125 35.4375 \nQ 35.15625 39.890625 26.703125 39.890625 \nQ 22.75 39.890625 18.8125 39.015625 \nQ 14.890625 38.140625 10.796875 36.28125 \nz\n\" id=\"DejaVuSans-53\"/>\n       </defs>\n       <use xlink:href=\"#DejaVuSans-53\"/>\n      </g>\n     </g>\n    </g>\n    <g id=\"ytick_3\">\n     <g id=\"line2d_13\">\n      <path clip-path=\"url(#p7bf95ac4ee)\" d=\"M 40.603125 40.344801 \nL 235.903125 40.344801 \n\" style=\"fill:none;stroke:#b0b0b0;stroke-linecap:square;stroke-width:0.8;\"/>\n     </g>\n     <g id=\"line2d_14\">\n      <g>\n       <use style=\"stroke:#000000;stroke-width:0.8;\" x=\"40.603125\" xlink:href=\"#m6386004412\" y=\"40.344801\"/>\n      </g>\n     </g>\n     <g id=\"text_8\">\n      <!-- 10 -->\n      <g transform=\"translate(20.878125 44.14402)scale(0.1 -0.1)\">\n       <use xlink:href=\"#DejaVuSans-49\"/>\n       <use x=\"63.623047\" xlink:href=\"#DejaVuSans-48\"/>\n      </g>\n     </g>\n    </g>\n    <g id=\"text_9\">\n     <!-- f(x) -->\n     <g transform=\"translate(14.798437 83.771094)rotate(-90)scale(0.1 -0.1)\">\n      <defs>\n       <path d=\"M 37.109375 75.984375 \nL 37.109375 68.5 \nL 28.515625 68.5 \nQ 23.6875 68.5 21.796875 66.546875 \nQ 19.921875 64.59375 19.921875 59.515625 \nL 19.921875 54.6875 \nL 34.71875 54.6875 \nL 34.71875 47.703125 \nL 19.921875 47.703125 \nL 19.921875 0 \nL 10.890625 0 \nL 10.890625 47.703125 \nL 2.296875 47.703125 \nL 2.296875 54.6875 \nL 10.890625 54.6875 \nL 10.890625 58.5 \nQ 10.890625 67.625 15.140625 71.796875 \nQ 19.390625 75.984375 28.609375 75.984375 \nz\n\" id=\"DejaVuSans-102\"/>\n       <path d=\"M 31 75.875 \nQ 24.46875 64.65625 21.28125 53.65625 \nQ 18.109375 42.671875 18.109375 31.390625 \nQ 18.109375 20.125 21.3125 9.0625 \nQ 24.515625 -2 31 -13.1875 \nL 23.1875 -13.1875 \nQ 15.875 -1.703125 12.234375 9.375 \nQ 8.59375 20.453125 8.59375 31.390625 \nQ 8.59375 42.28125 12.203125 53.3125 \nQ 15.828125 64.359375 23.1875 75.875 \nz\n\" id=\"DejaVuSans-40\"/>\n       <path d=\"M 8.015625 75.875 \nL 15.828125 75.875 \nQ 23.140625 64.359375 26.78125 53.3125 \nQ 30.421875 42.28125 30.421875 31.390625 \nQ 30.421875 20.453125 26.78125 9.375 \nQ 23.140625 -1.703125 15.828125 -13.1875 \nL 8.015625 -13.1875 \nQ 14.5 -2 17.703125 9.0625 \nQ 20.90625 20.125 20.90625 31.390625 \nQ 20.90625 42.671875 17.703125 53.65625 \nQ 14.5 64.65625 8.015625 75.875 \nz\n\" id=\"DejaVuSans-41\"/>\n      </defs>\n      <use xlink:href=\"#DejaVuSans-102\"/>\n      <use x=\"35.205078\" xlink:href=\"#DejaVuSans-40\"/>\n      <use x=\"74.21875\" xlink:href=\"#DejaVuSans-120\"/>\n      <use x=\"133.398438\" xlink:href=\"#DejaVuSans-41\"/>\n     </g>\n    </g>\n   </g>\n   <g id=\"line2d_15\">\n    <path clip-path=\"url(#p7bf95ac4ee)\" d=\"M 49.480398 114.635514 \nL 55.602655 117.38427 \nL 61.724912 119.687282 \nL 67.847169 121.54455 \nL 73.969426 122.956073 \nL 80.091683 123.921853 \nL 86.21394 124.441888 \nL 92.336197 124.516178 \nL 98.458454 124.144725 \nL 104.580711 123.327527 \nL 110.702968 122.064585 \nL 116.825225 120.355898 \nL 122.947482 118.201468 \nL 129.069739 115.601293 \nL 135.191996 112.555374 \nL 141.314254 109.06371 \nL 147.436511 105.126302 \nL 153.558768 100.74315 \nL 159.681025 95.914254 \nL 165.803282 90.639614 \nL 171.925539 84.919229 \nL 178.047796 78.7531 \nL 184.170053 72.141226 \nL 190.29231 65.083608 \nL 196.414567 57.580247 \nL 202.536824 49.63114 \nL 208.659081 41.23629 \nL 214.781338 32.395695 \nL 220.903595 23.109356 \nL 227.025852 13.377273 \n\" style=\"fill:none;stroke:#1f77b4;stroke-linecap:square;stroke-width:1.5;\"/>\n   </g>\n   <g id=\"line2d_16\">\n    <path clip-path=\"url(#p7bf95ac4ee)\" d=\"M 49.480398 136.922727 \nL 55.602655 135.436913 \nL 61.724912 133.951099 \nL 67.847169 132.465285 \nL 73.969426 130.97947 \nL 80.091683 129.493656 \nL 86.21394 128.007842 \nL 92.336197 126.522028 \nL 98.458454 125.036213 \nL 104.580711 123.550399 \nL 110.702968 122.064585 \nL 116.825225 120.578771 \nL 122.947482 119.092956 \nL 129.069739 117.607142 \nL 135.191996 116.121328 \nL 141.314254 114.635514 \nL 147.436511 113.149699 \nL 153.558768 111.663885 \nL 159.681025 110.178071 \nL 165.803282 108.692257 \nL 171.925539 107.206442 \nL 178.047796 105.720628 \nL 184.170053 104.234814 \nL 190.29231 102.749 \nL 196.414567 101.263185 \nL 202.536824 99.777371 \nL 208.659081 98.291557 \nL 214.781338 96.805743 \nL 220.903595 95.319928 \nL 227.025852 93.834114 \n\" style=\"fill:none;stroke:#bf00bf;stroke-dasharray:5.55,2.4;stroke-dashoffset:0;stroke-width:1.5;\"/>\n   </g>\n   <g id=\"patch_3\">\n    <path d=\"M 40.603125 143.1 \nL 40.603125 7.2 \n\" style=\"fill:none;stroke:#000000;stroke-linecap:square;stroke-linejoin:miter;stroke-width:0.8;\"/>\n   </g>\n   <g id=\"patch_4\">\n    <path d=\"M 235.903125 143.1 \nL 235.903125 7.2 \n\" style=\"fill:none;stroke:#000000;stroke-linecap:square;stroke-linejoin:miter;stroke-width:0.8;\"/>\n   </g>\n   <g id=\"patch_5\">\n    <path d=\"M 40.603125 143.1 \nL 235.903125 143.1 \n\" style=\"fill:none;stroke:#000000;stroke-linecap:square;stroke-linejoin:miter;stroke-width:0.8;\"/>\n   </g>\n   <g id=\"patch_6\">\n    <path d=\"M 40.603125 7.2 \nL 235.903125 7.2 \n\" style=\"fill:none;stroke:#000000;stroke-linecap:square;stroke-linejoin:miter;stroke-width:0.8;\"/>\n   </g>\n   <g id=\"legend_1\">\n    <g id=\"patch_7\">\n     <path d=\"M 47.603125 44.55625 \nL 172.153125 44.55625 \nQ 174.153125 44.55625 174.153125 42.55625 \nL 174.153125 14.2 \nQ 174.153125 12.2 172.153125 12.2 \nL 47.603125 12.2 \nQ 45.603125 12.2 45.603125 14.2 \nL 45.603125 42.55625 \nQ 45.603125 44.55625 47.603125 44.55625 \nz\n\" style=\"fill:#ffffff;opacity:0.8;stroke:#cccccc;stroke-linejoin:miter;\"/>\n    </g>\n    <g id=\"line2d_17\">\n     <path d=\"M 49.603125 20.298437 \nL 69.603125 20.298437 \n\" style=\"fill:none;stroke:#1f77b4;stroke-linecap:square;stroke-width:1.5;\"/>\n    </g>\n    <g id=\"line2d_18\"/>\n    <g id=\"text_10\">\n     <!-- f(x) -->\n     <g transform=\"translate(77.603125 23.798437)scale(0.1 -0.1)\">\n      <use xlink:href=\"#DejaVuSans-102\"/>\n      <use x=\"35.205078\" xlink:href=\"#DejaVuSans-40\"/>\n      <use x=\"74.21875\" xlink:href=\"#DejaVuSans-120\"/>\n      <use x=\"133.398438\" xlink:href=\"#DejaVuSans-41\"/>\n     </g>\n    </g>\n    <g id=\"line2d_19\">\n     <path d=\"M 49.603125 34.976562 \nL 69.603125 34.976562 \n\" style=\"fill:none;stroke:#bf00bf;stroke-dasharray:5.55,2.4;stroke-dashoffset:0;stroke-width:1.5;\"/>\n    </g>\n    <g id=\"line2d_20\"/>\n    <g id=\"text_11\">\n     <!-- Tangent line (x=1) -->\n     <g transform=\"translate(77.603125 38.476562)scale(0.1 -0.1)\">\n      <defs>\n       <path d=\"M -0.296875 72.90625 \nL 61.375 72.90625 \nL 61.375 64.59375 \nL 35.5 64.59375 \nL 35.5 0 \nL 25.59375 0 \nL 25.59375 64.59375 \nL -0.296875 64.59375 \nz\n\" id=\"DejaVuSans-84\"/>\n       <path d=\"M 34.28125 27.484375 \nQ 23.390625 27.484375 19.1875 25 \nQ 14.984375 22.515625 14.984375 16.5 \nQ 14.984375 11.71875 18.140625 8.90625 \nQ 21.296875 6.109375 26.703125 6.109375 \nQ 34.1875 6.109375 38.703125 11.40625 \nQ 43.21875 16.703125 43.21875 25.484375 \nL 43.21875 27.484375 \nz\nM 52.203125 31.203125 \nL 52.203125 0 \nL 43.21875 0 \nL 43.21875 8.296875 \nQ 40.140625 3.328125 35.546875 0.953125 \nQ 30.953125 -1.421875 24.3125 -1.421875 \nQ 15.921875 -1.421875 10.953125 3.296875 \nQ 6 8.015625 6 15.921875 \nQ 6 25.140625 12.171875 29.828125 \nQ 18.359375 34.515625 30.609375 34.515625 \nL 43.21875 34.515625 \nL 43.21875 35.40625 \nQ 43.21875 41.609375 39.140625 45 \nQ 35.0625 48.390625 27.6875 48.390625 \nQ 23 48.390625 18.546875 47.265625 \nQ 14.109375 46.140625 10.015625 43.890625 \nL 10.015625 52.203125 \nQ 14.9375 54.109375 19.578125 55.046875 \nQ 24.21875 56 28.609375 56 \nQ 40.484375 56 46.34375 49.84375 \nQ 52.203125 43.703125 52.203125 31.203125 \nz\n\" id=\"DejaVuSans-97\"/>\n       <path d=\"M 54.890625 33.015625 \nL 54.890625 0 \nL 45.90625 0 \nL 45.90625 32.71875 \nQ 45.90625 40.484375 42.875 44.328125 \nQ 39.84375 48.1875 33.796875 48.1875 \nQ 26.515625 48.1875 22.3125 43.546875 \nQ 18.109375 38.921875 18.109375 30.90625 \nL 18.109375 0 \nL 9.078125 0 \nL 9.078125 54.6875 \nL 18.109375 54.6875 \nL 18.109375 46.1875 \nQ 21.34375 51.125 25.703125 53.5625 \nQ 30.078125 56 35.796875 56 \nQ 45.21875 56 50.046875 50.171875 \nQ 54.890625 44.34375 54.890625 33.015625 \nz\n\" id=\"DejaVuSans-110\"/>\n       <path d=\"M 45.40625 27.984375 \nQ 45.40625 37.75 41.375 43.109375 \nQ 37.359375 48.484375 30.078125 48.484375 \nQ 22.859375 48.484375 18.828125 43.109375 \nQ 14.796875 37.75 14.796875 27.984375 \nQ 14.796875 18.265625 18.828125 12.890625 \nQ 22.859375 7.515625 30.078125 7.515625 \nQ 37.359375 7.515625 41.375 12.890625 \nQ 45.40625 18.265625 45.40625 27.984375 \nz\nM 54.390625 6.78125 \nQ 54.390625 -7.171875 48.1875 -13.984375 \nQ 42 -20.796875 29.203125 -20.796875 \nQ 24.46875 -20.796875 20.265625 -20.09375 \nQ 16.0625 -19.390625 12.109375 -17.921875 \nL 12.109375 -9.1875 \nQ 16.0625 -11.328125 19.921875 -12.34375 \nQ 23.78125 -13.375 27.78125 -13.375 \nQ 36.625 -13.375 41.015625 -8.765625 \nQ 45.40625 -4.15625 45.40625 5.171875 \nL 45.40625 9.625 \nQ 42.625 4.78125 38.28125 2.390625 \nQ 33.9375 0 27.875 0 \nQ 17.828125 0 11.671875 7.65625 \nQ 5.515625 15.328125 5.515625 27.984375 \nQ 5.515625 40.671875 11.671875 48.328125 \nQ 17.828125 56 27.875 56 \nQ 33.9375 56 38.28125 53.609375 \nQ 42.625 51.21875 45.40625 46.390625 \nL 45.40625 54.6875 \nL 54.390625 54.6875 \nz\n\" id=\"DejaVuSans-103\"/>\n       <path d=\"M 56.203125 29.59375 \nL 56.203125 25.203125 \nL 14.890625 25.203125 \nQ 15.484375 15.921875 20.484375 11.0625 \nQ 25.484375 6.203125 34.421875 6.203125 \nQ 39.59375 6.203125 44.453125 7.46875 \nQ 49.3125 8.734375 54.109375 11.28125 \nL 54.109375 2.78125 \nQ 49.265625 0.734375 44.1875 -0.34375 \nQ 39.109375 -1.421875 33.890625 -1.421875 \nQ 20.796875 -1.421875 13.15625 6.1875 \nQ 5.515625 13.8125 5.515625 26.8125 \nQ 5.515625 40.234375 12.765625 48.109375 \nQ 20.015625 56 32.328125 56 \nQ 43.359375 56 49.78125 48.890625 \nQ 56.203125 41.796875 56.203125 29.59375 \nz\nM 47.21875 32.234375 \nQ 47.125 39.59375 43.09375 43.984375 \nQ 39.0625 48.390625 32.421875 48.390625 \nQ 24.90625 48.390625 20.390625 44.140625 \nQ 15.875 39.890625 15.1875 32.171875 \nz\n\" id=\"DejaVuSans-101\"/>\n       <path d=\"M 18.3125 70.21875 \nL 18.3125 54.6875 \nL 36.8125 54.6875 \nL 36.8125 47.703125 \nL 18.3125 47.703125 \nL 18.3125 18.015625 \nQ 18.3125 11.328125 20.140625 9.421875 \nQ 21.96875 7.515625 27.59375 7.515625 \nL 36.8125 7.515625 \nL 36.8125 0 \nL 27.59375 0 \nQ 17.1875 0 13.234375 3.875 \nQ 9.28125 7.765625 9.28125 18.015625 \nL 9.28125 47.703125 \nL 2.6875 47.703125 \nL 2.6875 54.6875 \nL 9.28125 54.6875 \nL 9.28125 70.21875 \nz\n\" id=\"DejaVuSans-116\"/>\n       <path id=\"DejaVuSans-32\"/>\n       <path d=\"M 9.421875 75.984375 \nL 18.40625 75.984375 \nL 18.40625 0 \nL 9.421875 0 \nz\n\" id=\"DejaVuSans-108\"/>\n       <path d=\"M 9.421875 54.6875 \nL 18.40625 54.6875 \nL 18.40625 0 \nL 9.421875 0 \nz\nM 9.421875 75.984375 \nL 18.40625 75.984375 \nL 18.40625 64.59375 \nL 9.421875 64.59375 \nz\n\" id=\"DejaVuSans-105\"/>\n       <path d=\"M 10.59375 45.40625 \nL 73.1875 45.40625 \nL 73.1875 37.203125 \nL 10.59375 37.203125 \nz\nM 10.59375 25.484375 \nL 73.1875 25.484375 \nL 73.1875 17.1875 \nL 10.59375 17.1875 \nz\n\" id=\"DejaVuSans-61\"/>\n      </defs>\n      <use xlink:href=\"#DejaVuSans-84\"/>\n      <use x=\"44.583984\" xlink:href=\"#DejaVuSans-97\"/>\n      <use x=\"105.863281\" xlink:href=\"#DejaVuSans-110\"/>\n      <use x=\"169.242188\" xlink:href=\"#DejaVuSans-103\"/>\n      <use x=\"232.71875\" xlink:href=\"#DejaVuSans-101\"/>\n      <use x=\"294.242188\" xlink:href=\"#DejaVuSans-110\"/>\n      <use x=\"357.621094\" xlink:href=\"#DejaVuSans-116\"/>\n      <use x=\"396.830078\" xlink:href=\"#DejaVuSans-32\"/>\n      <use x=\"428.617188\" xlink:href=\"#DejaVuSans-108\"/>\n      <use x=\"456.400391\" xlink:href=\"#DejaVuSans-105\"/>\n      <use x=\"484.183594\" xlink:href=\"#DejaVuSans-110\"/>\n      <use x=\"547.5625\" xlink:href=\"#DejaVuSans-101\"/>\n      <use x=\"609.085938\" xlink:href=\"#DejaVuSans-32\"/>\n      <use x=\"640.873047\" xlink:href=\"#DejaVuSans-40\"/>\n      <use x=\"679.886719\" xlink:href=\"#DejaVuSans-120\"/>\n      <use x=\"739.066406\" xlink:href=\"#DejaVuSans-61\"/>\n      <use x=\"822.855469\" xlink:href=\"#DejaVuSans-49\"/>\n      <use x=\"886.478516\" xlink:href=\"#DejaVuSans-41\"/>\n     </g>\n    </g>\n   </g>\n  </g>\n </g>\n <defs>\n  <clipPath id=\"p7bf95ac4ee\">\n   <rect height=\"135.9\" width=\"195.3\" x=\"40.603125\" y=\"7.2\"/>\n  </clipPath>\n </defs>\n</svg>\n",
      "text/plain": [
       "<Figure size 252x180 with 1 Axes>"
      ]
     },
     "metadata": {
      "needs_background": "light"
     },
     "output_type": "display_data"
    }
   ],
   "source": [
    "%matplotlib inline\n",
    "from IPython import display\n",
    "from d2l import tensorflow as d2l\n",
    "\n",
    "def use_svg_display():  #@save\n",
    "    \"\"\"使用svg格式在Jupyter中显示绘图\"\"\"\n",
    "    display.set_matplotlib_formats('svg')\n",
    "    \n",
    "# 我们定义set_figsize函数来设置图表大小。 注意，这里我们直接使用d2l.plt，因为导入语句 from matplotlib import pyplot as plt已标记为保存到d2l包中。\n",
    "def set_figsize(figsize=(3.5, 2.5)):  #@save\n",
    "    \"\"\"设置matplotlib的图表大小\"\"\"\n",
    "    use_svg_display()\n",
    "    d2l.plt.rcParams['figure.figsize'] = figsize\n",
    "\n",
    "#@save\n",
    "def set_axes(axes, xlabel, ylabel, xlim, ylim, xscale, yscale, legend):\n",
    "    \"\"\"设置matplotlib的轴\"\"\"\n",
    "    axes.set_xlabel(xlabel)\n",
    "    axes.set_ylabel(ylabel)\n",
    "    axes.set_xscale(xscale)\n",
    "    axes.set_yscale(yscale)\n",
    "    axes.set_xlim(xlim)\n",
    "    axes.set_ylim(ylim)\n",
    "    if legend:\n",
    "        axes.legend(legend)\n",
    "    axes.grid()\n",
    "\n",
    "#@save\n",
    "def plot(X, Y=None, xlabel=None, ylabel=None, legend=None, xlim=None,\n",
    "         ylim=None, xscale='linear', yscale='linear',\n",
    "         fmts=('-', 'm--', 'g-.', 'r:'), figsize=(3.5, 2.5), axes=None):\n",
    "    \"\"\"绘制数据点\"\"\"\n",
    "    print(X)\n",
    "    print(Y)\n",
    "    if legend is None:\n",
    "        legend = []\n",
    "    print('legend:',legend)\n",
    "    set_figsize(figsize)\n",
    "    axes = axes if axes else d2l.plt.gca()\n",
    "    print('axes:',axes)\n",
    "    \n",
    "\n",
    "    # 如果X有一个轴，输出True\n",
    "    def has_one_axis(X):\n",
    "        return (hasattr(X, \"ndim\") and X.ndim == 1 or isinstance(X, list)\n",
    "                and not hasattr(X[0], \"__len__\"))\n",
    "\n",
    "    if has_one_axis(X):\n",
    "        X = [X]\n",
    "        print('X has one axis:',X)\n",
    "    if Y is None:\n",
    "        X, Y = [[]] * len(X), X\n",
    "        print('Y is none')\n",
    "        print('X:',X)\n",
    "        print('Y:',Y)\n",
    "    elif has_one_axis(Y):\n",
    "        Y = [Y]\n",
    "        print('Y has one axis:',Y)\n",
    "    if len(X) != len(Y):\n",
    "        print('X Y长度不一致')\n",
    "        print('X长度：',len(X))\n",
    "        print('Y长度：',len(Y))\n",
    "        X = X * len(Y)\n",
    "        print('X长度扩为Y的长度：',X)\n",
    "        \n",
    "    axes.cla()\n",
    "    print('=========')\n",
    "    print('X=',X)\n",
    "    print('Y=',Y)\n",
    "    for x, y, fmt in zip(X, Y, fmts):\n",
    "        print('x,y,fmt:',x,y,fmt)\n",
    "        if len(x):\n",
    "            axes.plot(x, y, fmt)\n",
    "        else:\n",
    "            axes.plot(y, fmt)\n",
    "    set_axes(axes, xlabel, ylabel, xlim, ylim, xscale, yscale, legend)\n",
    "    \n",
    "    \n",
    "    \n",
    "# 现在我们可以绘制函数 𝑢=𝑓(𝑥) 及其在 𝑥=1 处的切线 𝑦=2𝑥−3 ， 其中系数 2 是切线的斜率。\n",
    "x = np.arange(0, 3, 0.1)\n",
    "plot(x, [f(x), 2 * x - 3], 'x', 'f(x)', legend=['f(x)', 'Tangent line (x=1)'])"
   ]
  },
  {
   "cell_type": "code",
   "execution_count": 251,
   "metadata": {
    "ExecuteTime": {
     "end_time": "2022-01-05T11:54:05.038682Z",
     "start_time": "2022-01-05T11:54:05.032699Z"
    }
   },
   "outputs": [
    {
     "data": {
      "text/plain": [
       "-0.37"
      ]
     },
     "execution_count": 251,
     "metadata": {},
     "output_type": "execute_result"
    }
   ],
   "source": [
    "f(0.1)"
   ]
  },
  {
   "cell_type": "code",
   "execution_count": 210,
   "metadata": {
    "ExecuteTime": {
     "end_time": "2022-01-05T11:33:38.827922Z",
     "start_time": "2022-01-05T11:33:38.823039Z"
    }
   },
   "outputs": [
    {
     "data": {
      "text/plain": [
       "True"
      ]
     },
     "execution_count": 210,
     "metadata": {},
     "output_type": "execute_result"
    }
   ],
   "source": [
    "hasattr(x, \"ndim\")"
   ]
  },
  {
   "cell_type": "code",
   "execution_count": 211,
   "metadata": {
    "ExecuteTime": {
     "end_time": "2022-01-05T11:33:43.885134Z",
     "start_time": "2022-01-05T11:33:43.880653Z"
    }
   },
   "outputs": [
    {
     "data": {
      "text/plain": [
       "(30,)"
      ]
     },
     "execution_count": 211,
     "metadata": {},
     "output_type": "execute_result"
    }
   ],
   "source": [
    "x.shape"
   ]
  },
  {
   "cell_type": "code",
   "execution_count": 213,
   "metadata": {
    "ExecuteTime": {
     "end_time": "2022-01-05T11:34:19.568584Z",
     "start_time": "2022-01-05T11:34:19.563181Z"
    }
   },
   "outputs": [
    {
     "data": {
      "text/plain": [
       "True"
      ]
     },
     "execution_count": 213,
     "metadata": {},
     "output_type": "execute_result"
    }
   ],
   "source": [
    "hasattr(np.array(1), \"ndim\")"
   ]
  },
  {
   "cell_type": "code",
   "execution_count": 216,
   "metadata": {
    "ExecuteTime": {
     "end_time": "2022-01-05T11:34:45.111709Z",
     "start_time": "2022-01-05T11:34:45.106447Z"
    }
   },
   "outputs": [
    {
     "data": {
      "text/plain": [
       "1"
      ]
     },
     "execution_count": 216,
     "metadata": {},
     "output_type": "execute_result"
    }
   ],
   "source": [
    "x.ndim"
   ]
  },
  {
   "cell_type": "code",
   "execution_count": 217,
   "metadata": {
    "ExecuteTime": {
     "end_time": "2022-01-05T11:35:17.970411Z",
     "start_time": "2022-01-05T11:35:17.965505Z"
    }
   },
   "outputs": [
    {
     "data": {
      "text/plain": [
       "False"
      ]
     },
     "execution_count": 217,
     "metadata": {},
     "output_type": "execute_result"
    }
   ],
   "source": [
    "isinstance(x, list)"
   ]
  },
  {
   "cell_type": "code",
   "execution_count": 218,
   "metadata": {
    "ExecuteTime": {
     "end_time": "2022-01-05T11:35:30.463867Z",
     "start_time": "2022-01-05T11:35:30.458985Z"
    }
   },
   "outputs": [
    {
     "data": {
      "text/plain": [
       "False"
      ]
     },
     "execution_count": 218,
     "metadata": {},
     "output_type": "execute_result"
    }
   ],
   "source": [
    "hasattr(x[0], \"__len__\")"
   ]
  },
  {
   "cell_type": "code",
   "execution_count": 220,
   "metadata": {
    "ExecuteTime": {
     "end_time": "2022-01-05T11:36:04.428510Z",
     "start_time": "2022-01-05T11:36:04.422641Z"
    }
   },
   "outputs": [
    {
     "data": {
      "text/plain": [
       "array([[ 0,  1,  2,  3],\n",
       "       [ 4,  5,  6,  7],\n",
       "       [ 8,  9, 10, 11]])"
      ]
     },
     "execution_count": 220,
     "metadata": {},
     "output_type": "execute_result"
    }
   ],
   "source": [
    "np.reshape(np.arange(12),(3,4))"
   ]
  },
  {
   "cell_type": "code",
   "execution_count": 221,
   "metadata": {
    "ExecuteTime": {
     "end_time": "2022-01-05T11:36:17.460064Z",
     "start_time": "2022-01-05T11:36:17.448447Z"
    }
   },
   "outputs": [
    {
     "data": {
      "text/plain": [
       "array([0, 1, 2, 3])"
      ]
     },
     "execution_count": 221,
     "metadata": {},
     "output_type": "execute_result"
    }
   ],
   "source": [
    "np.reshape(np.arange(12),(3,4))[0]"
   ]
  },
  {
   "cell_type": "code",
   "execution_count": 222,
   "metadata": {
    "ExecuteTime": {
     "end_time": "2022-01-05T11:36:28.437949Z",
     "start_time": "2022-01-05T11:36:28.430874Z"
    }
   },
   "outputs": [
    {
     "data": {
      "text/plain": [
       "True"
      ]
     },
     "execution_count": 222,
     "metadata": {},
     "output_type": "execute_result"
    }
   ],
   "source": [
    "hasattr(np.reshape(np.arange(12),(3,4))[0], \"__len__\")"
   ]
  },
  {
   "cell_type": "code",
   "execution_count": 227,
   "metadata": {
    "ExecuteTime": {
     "end_time": "2022-01-05T11:37:34.173874Z",
     "start_time": "2022-01-05T11:37:34.169672Z"
    }
   },
   "outputs": [
    {
     "data": {
      "text/plain": [
       "0"
      ]
     },
     "execution_count": 227,
     "metadata": {},
     "output_type": "execute_result"
    }
   ],
   "source": [
    "0 and 1 or 0 and 1"
   ]
  },
  {
   "cell_type": "code",
   "execution_count": 228,
   "metadata": {
    "ExecuteTime": {
     "end_time": "2022-01-05T11:38:16.326718Z",
     "start_time": "2022-01-05T11:38:16.321919Z"
    }
   },
   "outputs": [
    {
     "data": {
      "text/plain": [
       "array([0. , 0.1, 0.2, 0.3, 0.4, 0.5, 0.6, 0.7, 0.8, 0.9, 1. , 1.1, 1.2,\n",
       "       1.3, 1.4, 1.5, 1.6, 1.7, 1.8, 1.9, 2. , 2.1, 2.2, 2.3, 2.4, 2.5,\n",
       "       2.6, 2.7, 2.8, 2.9])"
      ]
     },
     "execution_count": 228,
     "metadata": {},
     "output_type": "execute_result"
    }
   ],
   "source": [
    "x\n"
   ]
  },
  {
   "cell_type": "code",
   "execution_count": 229,
   "metadata": {
    "ExecuteTime": {
     "end_time": "2022-01-05T11:38:26.182855Z",
     "start_time": "2022-01-05T11:38:26.177877Z"
    }
   },
   "outputs": [
    {
     "data": {
      "text/plain": [
       "[array([0. , 0.1, 0.2, 0.3, 0.4, 0.5, 0.6, 0.7, 0.8, 0.9, 1. , 1.1, 1.2,\n",
       "        1.3, 1.4, 1.5, 1.6, 1.7, 1.8, 1.9, 2. , 2.1, 2.2, 2.3, 2.4, 2.5,\n",
       "        2.6, 2.7, 2.8, 2.9])]"
      ]
     },
     "execution_count": 229,
     "metadata": {},
     "output_type": "execute_result"
    }
   ],
   "source": [
    "[x]"
   ]
  },
  {
   "cell_type": "code",
   "execution_count": 230,
   "metadata": {
    "ExecuteTime": {
     "end_time": "2022-01-05T11:38:46.699506Z",
     "start_time": "2022-01-05T11:38:46.695261Z"
    }
   },
   "outputs": [
    {
     "data": {
      "text/plain": [
       "30"
      ]
     },
     "execution_count": 230,
     "metadata": {},
     "output_type": "execute_result"
    }
   ],
   "source": [
    "len(x)"
   ]
  },
  {
   "cell_type": "code",
   "execution_count": 231,
   "metadata": {
    "ExecuteTime": {
     "end_time": "2022-01-05T11:38:54.128148Z",
     "start_time": "2022-01-05T11:38:54.123167Z"
    },
    "scrolled": true
   },
   "outputs": [
    {
     "data": {
      "text/plain": [
       "[[],\n",
       " [],\n",
       " [],\n",
       " [],\n",
       " [],\n",
       " [],\n",
       " [],\n",
       " [],\n",
       " [],\n",
       " [],\n",
       " [],\n",
       " [],\n",
       " [],\n",
       " [],\n",
       " [],\n",
       " [],\n",
       " [],\n",
       " [],\n",
       " [],\n",
       " [],\n",
       " [],\n",
       " [],\n",
       " [],\n",
       " [],\n",
       " [],\n",
       " [],\n",
       " [],\n",
       " [],\n",
       " [],\n",
       " []]"
      ]
     },
     "execution_count": 231,
     "metadata": {},
     "output_type": "execute_result"
    }
   ],
   "source": [
    "[[]]*30"
   ]
  },
  {
   "cell_type": "markdown",
   "metadata": {},
   "source": [
    "#### 2.4.2 偏导数\n",
    "到目前为止，我们只讨论了仅含一个变量的函数的微分。 在深度学习中，函数通常依赖于许多变量。 因此，我们需要将微分的思想推广到多元函数（multivariate function）上。\n",
    "\n",
    "设 𝑦=𝑓(𝑥1,𝑥2,…,𝑥𝑛) 是一个具有 𝑛 个变量的函数。  𝑦 关于第 𝑖 个参数 𝑥𝑖 的偏导数（partial derivative）为：\n",
    "\n",
    "(2.4.7)\n",
    "∂𝑦∂𝑥𝑖=limℎ→0𝑓(𝑥1,…,𝑥𝑖−1,𝑥𝑖+ℎ,𝑥𝑖+1,…,𝑥𝑛)−𝑓(𝑥1,…,𝑥𝑖,…,𝑥𝑛)ℎ.\n",
    " \n",
    "为了计算 ∂𝑦∂𝑥𝑖 ， 我们可以简单地将 𝑥1,…,𝑥𝑖−1,𝑥𝑖+1,…,𝑥𝑛 看作常数， 并计算 𝑦 关于 𝑥𝑖 的导数。 对于偏导数的表示，以下是等价的：\n",
    "\n",
    "(2.4.8)\n",
    "∂𝑦∂𝑥𝑖=∂𝑓∂𝑥𝑖=𝑓𝑥𝑖=𝑓𝑖=𝐷𝑖𝑓=𝐷𝑥𝑖𝑓."
   ]
  },
  {
   "cell_type": "markdown",
   "metadata": {},
   "source": [
    "#### 2.4.3梯度\n",
    "我们可以连结一个多元函数对其所有变量的偏导数，以得到该函数的梯度（gradient）向量。 具体而言，设函数 𝑓:ℝ𝑛→ℝ 的输入是 一个 𝑛 维向量 𝐱=[𝑥1,𝑥2,…,𝑥𝑛]⊤ ，并且输出是一个标量。 函数 𝑓(𝐱) 相对于 𝐱 的梯度是一个包含 𝑛 个偏导数的向量:\n",
    "\n",
    "(2.4.9)\n",
    "∇𝐱𝑓(𝐱)=[∂𝑓(𝐱)∂𝑥1,∂𝑓(𝐱)∂𝑥2,…,∂𝑓(𝐱)∂𝑥𝑛]⊤,\n",
    " \n",
    "其中 ∇𝐱𝑓(𝐱) 通常在没有歧义时被 ∇𝑓(𝐱) 取代。\n",
    "\n",
    "假设 𝐱 为 𝑛 维向量，在微分多元函数时经常使用以下规则:\n",
    "\n",
    "对于所有 𝐀∈ℝ𝑚×𝑛 ，都有 ∇𝐱𝐀𝐱=𝐀⊤ \n",
    "\n",
    "对于所有 𝐀∈ℝ𝑛×𝑚 ，都有 ∇𝐱𝐱⊤𝐀=𝐀 \n",
    "\n",
    "对于所有 𝐀∈ℝ𝑛×𝑛 ，都有 ∇𝐱𝐱⊤𝐀𝐱=(𝐀+𝐀⊤)𝐱 \n",
    "\n",
    "∇𝐱‖𝐱‖2=∇𝐱𝐱⊤𝐱=2𝐱 \n",
    "\n",
    "同样，对于任何矩阵 𝐗 ，都有 ∇𝐗‖𝐗‖2𝐹=2𝐗 。 正如我们之后将看到的，梯度对于设计深度学习中的优化算法有很大用处。"
   ]
  },
  {
   "cell_type": "markdown",
   "metadata": {},
   "source": [
    "#### 2.4.4链式法则\n",
    "然而，上面方法可能很难找到梯度。 这是因为在深度学习中，多元函数通常是复合（composite）的， 所以我们可能没法应用上述任何规则来微分这些函数。 幸运的是，链式法则使我们能够微分复合函数。\n",
    "\n",
    "让我们先考虑单变量函数。假设函数 𝑦=𝑓(𝑢) 和 𝑢=𝑔(𝑥) 都是可微的，根据链式法则：\n",
    "\n",
    "(2.4.10)\n",
    "𝑑𝑦𝑑𝑥=𝑑𝑦𝑑𝑢𝑑𝑢𝑑𝑥.\n",
    " \n",
    "现在让我们把注意力转向一个更一般的场景，即函数具有任意数量的变量的情况。 假设可微分函数 𝑦 有变量 𝑢1,𝑢2,…,𝑢𝑚 ，其中每个可微分函数 𝑢𝑖 都有变量 𝑥1,𝑥2,…,𝑥𝑛 。 注意， 𝑦 是 𝑥1,𝑥2，…,𝑥𝑛 的函数。 对于任意 𝑖=1,2,…,𝑛 ，链式法则给出：\n",
    "\n",
    "(2.4.11)¶\n",
    "𝑑𝑦𝑑𝑥𝑖=𝑑𝑦𝑑𝑢1𝑑𝑢1𝑑𝑥𝑖+𝑑𝑦𝑑𝑢2𝑑𝑢2𝑑𝑥𝑖+⋯+𝑑𝑦𝑑𝑢𝑚𝑑𝑢𝑚𝑑𝑥𝑖"
   ]
  },
  {
   "cell_type": "markdown",
   "metadata": {},
   "source": [
    "#### 2.4.5小结\n",
    "* 微分和积分是微积分的两个分支，前者可以应用于深度学习中的优化问题。\n",
    "\n",
    "* 导数可以被解释为函数相对于其变量的瞬时变化率，它也是函数曲线的切线的斜率。\n",
    "\n",
    "* 梯度是一个向量，其分量是多变量函数相对于其所有变量的偏导数。\n",
    "\n",
    "* 链式法则使我们能够微分复合函数。"
   ]
  },
  {
   "cell_type": "markdown",
   "metadata": {},
   "source": [
    "#### 2.4.6练习\n",
    "\n",
    "* 绘制函数 𝑦=𝑓(𝑥)=𝑥^3−1/𝑥 和其在 𝑥=1 处切线的图像。\n",
    "\n",
    "* 求函数 𝑓(𝐱)=3𝑥1^2+5𝑒^𝑥2 的梯度。\n",
    "\n",
    "* 函数 𝑓(𝐱)=‖𝐱‖2 的梯度是什么？\n",
    "\n",
    "* 你可以写出函数 𝑢=𝑓(𝑥,𝑦,𝑧) ，其中 𝑥=𝑥(𝑎,𝑏) ， 𝑦=𝑦(𝑎,𝑏) ， 𝑧=𝑧(𝑎,𝑏) 的链式法则吗?"
   ]
  },
  {
   "cell_type": "code",
   "execution_count": 254,
   "metadata": {
    "ExecuteTime": {
     "end_time": "2022-01-05T12:11:14.500457Z",
     "start_time": "2022-01-05T12:11:14.310036Z"
    }
   },
   "outputs": [
    {
     "name": "stdout",
     "output_type": "stream",
     "text": [
      "[0.  0.1 0.2 0.3 0.4 0.5 0.6 0.7 0.8 0.9 1.  1.1 1.2 1.3 1.4 1.5 1.6 1.7\n",
      " 1.8 1.9 2.  2.1 2.2 2.3 2.4 2.5 2.6 2.7 2.8 2.9]\n",
      "[array([       -inf, -9.999     , -4.992     , -3.30633333, -2.436     ,\n",
      "       -1.875     , -1.45066667, -1.08557143, -0.738     , -0.38211111,\n",
      "        0.        ,  0.42190909,  0.89466667,  1.42776923,  2.02971429,\n",
      "        2.70833333,  3.471     ,  4.32476471,  5.27644444,  6.33268421,\n",
      "        7.5       ,  8.78480952, 10.19345455, 11.73221739, 13.40733333,\n",
      "       15.225     , 17.19138462, 19.31262963, 21.59485714, 24.04417241]), array([-4. , -3.6, -3.2, -2.8, -2.4, -2. , -1.6, -1.2, -0.8, -0.4,  0. ,\n",
      "        0.4,  0.8,  1.2,  1.6,  2. ,  2.4,  2.8,  3.2,  3.6,  4. ,  4.4,\n",
      "        4.8,  5.2,  5.6,  6. ,  6.4,  6.8,  7.2,  7.6])]\n",
      "legend: ['f(x)', 'Tangent line (x=1)']\n",
      "axes: AxesSubplot(0.125,0.125;0.775x0.755)\n",
      "X has one axis: [array([0. , 0.1, 0.2, 0.3, 0.4, 0.5, 0.6, 0.7, 0.8, 0.9, 1. , 1.1, 1.2,\n",
      "       1.3, 1.4, 1.5, 1.6, 1.7, 1.8, 1.9, 2. , 2.1, 2.2, 2.3, 2.4, 2.5,\n",
      "       2.6, 2.7, 2.8, 2.9])]\n",
      "X Y长度不一致\n",
      "X长度： 1\n",
      "Y长度： 2\n",
      "X长度扩为Y的长度： [array([0. , 0.1, 0.2, 0.3, 0.4, 0.5, 0.6, 0.7, 0.8, 0.9, 1. , 1.1, 1.2,\n",
      "       1.3, 1.4, 1.5, 1.6, 1.7, 1.8, 1.9, 2. , 2.1, 2.2, 2.3, 2.4, 2.5,\n",
      "       2.6, 2.7, 2.8, 2.9]), array([0. , 0.1, 0.2, 0.3, 0.4, 0.5, 0.6, 0.7, 0.8, 0.9, 1. , 1.1, 1.2,\n",
      "       1.3, 1.4, 1.5, 1.6, 1.7, 1.8, 1.9, 2. , 2.1, 2.2, 2.3, 2.4, 2.5,\n",
      "       2.6, 2.7, 2.8, 2.9])]\n",
      "=========\n",
      "X= [array([0. , 0.1, 0.2, 0.3, 0.4, 0.5, 0.6, 0.7, 0.8, 0.9, 1. , 1.1, 1.2,\n",
      "       1.3, 1.4, 1.5, 1.6, 1.7, 1.8, 1.9, 2. , 2.1, 2.2, 2.3, 2.4, 2.5,\n",
      "       2.6, 2.7, 2.8, 2.9]), array([0. , 0.1, 0.2, 0.3, 0.4, 0.5, 0.6, 0.7, 0.8, 0.9, 1. , 1.1, 1.2,\n",
      "       1.3, 1.4, 1.5, 1.6, 1.7, 1.8, 1.9, 2. , 2.1, 2.2, 2.3, 2.4, 2.5,\n",
      "       2.6, 2.7, 2.8, 2.9])]\n",
      "Y= [array([       -inf, -9.999     , -4.992     , -3.30633333, -2.436     ,\n",
      "       -1.875     , -1.45066667, -1.08557143, -0.738     , -0.38211111,\n",
      "        0.        ,  0.42190909,  0.89466667,  1.42776923,  2.02971429,\n",
      "        2.70833333,  3.471     ,  4.32476471,  5.27644444,  6.33268421,\n",
      "        7.5       ,  8.78480952, 10.19345455, 11.73221739, 13.40733333,\n",
      "       15.225     , 17.19138462, 19.31262963, 21.59485714, 24.04417241]), array([-4. , -3.6, -3.2, -2.8, -2.4, -2. , -1.6, -1.2, -0.8, -0.4,  0. ,\n",
      "        0.4,  0.8,  1.2,  1.6,  2. ,  2.4,  2.8,  3.2,  3.6,  4. ,  4.4,\n",
      "        4.8,  5.2,  5.6,  6. ,  6.4,  6.8,  7.2,  7.6])]\n",
      "x,y,fmt: [0.  0.1 0.2 0.3 0.4 0.5 0.6 0.7 0.8 0.9 1.  1.1 1.2 1.3 1.4 1.5 1.6 1.7\n",
      " 1.8 1.9 2.  2.1 2.2 2.3 2.4 2.5 2.6 2.7 2.8 2.9] [       -inf -9.999      -4.992      -3.30633333 -2.436      -1.875\n",
      " -1.45066667 -1.08557143 -0.738      -0.38211111  0.          0.42190909\n",
      "  0.89466667  1.42776923  2.02971429  2.70833333  3.471       4.32476471\n",
      "  5.27644444  6.33268421  7.5         8.78480952 10.19345455 11.73221739\n",
      " 13.40733333 15.225      17.19138462 19.31262963 21.59485714 24.04417241] -\n",
      "x,y,fmt: [0.  0.1 0.2 0.3 0.4 0.5 0.6 0.7 0.8 0.9 1.  1.1 1.2 1.3 1.4 1.5 1.6 1.7\n",
      " 1.8 1.9 2.  2.1 2.2 2.3 2.4 2.5 2.6 2.7 2.8 2.9] [-4.  -3.6 -3.2 -2.8 -2.4 -2.  -1.6 -1.2 -0.8 -0.4  0.   0.4  0.8  1.2\n",
      "  1.6  2.   2.4  2.8  3.2  3.6  4.   4.4  4.8  5.2  5.6  6.   6.4  6.8\n",
      "  7.2  7.6] m--\n"
     ]
    },
    {
     "data": {
      "image/svg+xml": "<?xml version=\"1.0\" encoding=\"utf-8\" standalone=\"no\"?>\n<!DOCTYPE svg PUBLIC \"-//W3C//DTD SVG 1.1//EN\"\n  \"http://www.w3.org/Graphics/SVG/1.1/DTD/svg11.dtd\">\n<!-- Created with matplotlib (https://matplotlib.org/) -->\n<svg height=\"180.65625pt\" version=\"1.1\" viewBox=\"0 0 251.909047 180.65625\" width=\"251.909047pt\" xmlns=\"http://www.w3.org/2000/svg\" xmlns:xlink=\"http://www.w3.org/1999/xlink\">\n <metadata>\n  <rdf:RDF xmlns:cc=\"http://creativecommons.org/ns#\" xmlns:dc=\"http://purl.org/dc/elements/1.1/\" xmlns:rdf=\"http://www.w3.org/1999/02/22-rdf-syntax-ns#\">\n   <cc:Work>\n    <dc:type rdf:resource=\"http://purl.org/dc/dcmitype/StillImage\"/>\n    <dc:date>2022-01-05T20:11:14.461159</dc:date>\n    <dc:format>image/svg+xml</dc:format>\n    <dc:creator>\n     <cc:Agent>\n      <dc:title>Matplotlib v3.3.3, https://matplotlib.org/</dc:title>\n     </cc:Agent>\n    </dc:creator>\n   </cc:Work>\n  </rdf:RDF>\n </metadata>\n <defs>\n  <style type=\"text/css\">*{stroke-linecap:butt;stroke-linejoin:round;}</style>\n </defs>\n <g id=\"figure_1\">\n  <g id=\"patch_1\">\n   <path d=\"M -0 180.65625 \nL 251.909047 180.65625 \nL 251.909047 0 \nL -0 0 \nz\n\" style=\"fill:none;\"/>\n  </g>\n  <g id=\"axes_1\">\n   <g id=\"patch_2\">\n    <path d=\"M 48.982813 143.1 \nL 244.282813 143.1 \nL 244.282813 7.2 \nL 48.982813 7.2 \nz\n\" style=\"fill:#ffffff;\"/>\n   </g>\n   <g id=\"matplotlib.axis_1\">\n    <g id=\"xtick_1\">\n     <g id=\"line2d_1\">\n      <path clip-path=\"url(#p536873f093)\" d=\"M 57.860085 143.1 \nL 57.860085 7.2 \n\" style=\"fill:none;stroke:#b0b0b0;stroke-linecap:square;stroke-width:0.8;\"/>\n     </g>\n     <g id=\"line2d_2\">\n      <defs>\n       <path d=\"M 0 0 \nL 0 3.5 \n\" id=\"m01ac9c223a\" style=\"stroke:#000000;stroke-width:0.8;\"/>\n      </defs>\n      <g>\n       <use style=\"stroke:#000000;stroke-width:0.8;\" x=\"57.860085\" xlink:href=\"#m01ac9c223a\" y=\"143.1\"/>\n      </g>\n     </g>\n     <g id=\"text_1\">\n      <!-- 0 -->\n      <g transform=\"translate(54.678835 157.698438)scale(0.1 -0.1)\">\n       <defs>\n        <path d=\"M 31.78125 66.40625 \nQ 24.171875 66.40625 20.328125 58.90625 \nQ 16.5 51.421875 16.5 36.375 \nQ 16.5 21.390625 20.328125 13.890625 \nQ 24.171875 6.390625 31.78125 6.390625 \nQ 39.453125 6.390625 43.28125 13.890625 \nQ 47.125 21.390625 47.125 36.375 \nQ 47.125 51.421875 43.28125 58.90625 \nQ 39.453125 66.40625 31.78125 66.40625 \nz\nM 31.78125 74.21875 \nQ 44.046875 74.21875 50.515625 64.515625 \nQ 56.984375 54.828125 56.984375 36.375 \nQ 56.984375 17.96875 50.515625 8.265625 \nQ 44.046875 -1.421875 31.78125 -1.421875 \nQ 19.53125 -1.421875 13.0625 8.265625 \nQ 6.59375 17.96875 6.59375 36.375 \nQ 6.59375 54.828125 13.0625 64.515625 \nQ 19.53125 74.21875 31.78125 74.21875 \nz\n\" id=\"DejaVuSans-48\"/>\n       </defs>\n       <use xlink:href=\"#DejaVuSans-48\"/>\n      </g>\n     </g>\n    </g>\n    <g id=\"xtick_2\">\n     <g id=\"line2d_3\">\n      <path clip-path=\"url(#p536873f093)\" d=\"M 119.082656 143.1 \nL 119.082656 7.2 \n\" style=\"fill:none;stroke:#b0b0b0;stroke-linecap:square;stroke-width:0.8;\"/>\n     </g>\n     <g id=\"line2d_4\">\n      <g>\n       <use style=\"stroke:#000000;stroke-width:0.8;\" x=\"119.082656\" xlink:href=\"#m01ac9c223a\" y=\"143.1\"/>\n      </g>\n     </g>\n     <g id=\"text_2\">\n      <!-- 1 -->\n      <g transform=\"translate(115.901406 157.698438)scale(0.1 -0.1)\">\n       <defs>\n        <path d=\"M 12.40625 8.296875 \nL 28.515625 8.296875 \nL 28.515625 63.921875 \nL 10.984375 60.40625 \nL 10.984375 69.390625 \nL 28.421875 72.90625 \nL 38.28125 72.90625 \nL 38.28125 8.296875 \nL 54.390625 8.296875 \nL 54.390625 0 \nL 12.40625 0 \nz\n\" id=\"DejaVuSans-49\"/>\n       </defs>\n       <use xlink:href=\"#DejaVuSans-49\"/>\n      </g>\n     </g>\n    </g>\n    <g id=\"xtick_3\">\n     <g id=\"line2d_5\">\n      <path clip-path=\"url(#p536873f093)\" d=\"M 180.305226 143.1 \nL 180.305226 7.2 \n\" style=\"fill:none;stroke:#b0b0b0;stroke-linecap:square;stroke-width:0.8;\"/>\n     </g>\n     <g id=\"line2d_6\">\n      <g>\n       <use style=\"stroke:#000000;stroke-width:0.8;\" x=\"180.305226\" xlink:href=\"#m01ac9c223a\" y=\"143.1\"/>\n      </g>\n     </g>\n     <g id=\"text_3\">\n      <!-- 2 -->\n      <g transform=\"translate(177.123976 157.698438)scale(0.1 -0.1)\">\n       <defs>\n        <path d=\"M 19.1875 8.296875 \nL 53.609375 8.296875 \nL 53.609375 0 \nL 7.328125 0 \nL 7.328125 8.296875 \nQ 12.9375 14.109375 22.625 23.890625 \nQ 32.328125 33.6875 34.8125 36.53125 \nQ 39.546875 41.84375 41.421875 45.53125 \nQ 43.3125 49.21875 43.3125 52.78125 \nQ 43.3125 58.59375 39.234375 62.25 \nQ 35.15625 65.921875 28.609375 65.921875 \nQ 23.96875 65.921875 18.8125 64.3125 \nQ 13.671875 62.703125 7.8125 59.421875 \nL 7.8125 69.390625 \nQ 13.765625 71.78125 18.9375 73 \nQ 24.125 74.21875 28.421875 74.21875 \nQ 39.75 74.21875 46.484375 68.546875 \nQ 53.21875 62.890625 53.21875 53.421875 \nQ 53.21875 48.921875 51.53125 44.890625 \nQ 49.859375 40.875 45.40625 35.40625 \nQ 44.1875 33.984375 37.640625 27.21875 \nQ 31.109375 20.453125 19.1875 8.296875 \nz\n\" id=\"DejaVuSans-50\"/>\n       </defs>\n       <use xlink:href=\"#DejaVuSans-50\"/>\n      </g>\n     </g>\n    </g>\n    <g id=\"xtick_4\">\n     <g id=\"line2d_7\">\n      <path clip-path=\"url(#p536873f093)\" d=\"M 241.527797 143.1 \nL 241.527797 7.2 \n\" style=\"fill:none;stroke:#b0b0b0;stroke-linecap:square;stroke-width:0.8;\"/>\n     </g>\n     <g id=\"line2d_8\">\n      <g>\n       <use style=\"stroke:#000000;stroke-width:0.8;\" x=\"241.527797\" xlink:href=\"#m01ac9c223a\" y=\"143.1\"/>\n      </g>\n     </g>\n     <g id=\"text_4\">\n      <!-- 3 -->\n      <g transform=\"translate(238.346547 157.698438)scale(0.1 -0.1)\">\n       <defs>\n        <path d=\"M 40.578125 39.3125 \nQ 47.65625 37.796875 51.625 33 \nQ 55.609375 28.21875 55.609375 21.1875 \nQ 55.609375 10.40625 48.1875 4.484375 \nQ 40.765625 -1.421875 27.09375 -1.421875 \nQ 22.515625 -1.421875 17.65625 -0.515625 \nQ 12.796875 0.390625 7.625 2.203125 \nL 7.625 11.71875 \nQ 11.71875 9.328125 16.59375 8.109375 \nQ 21.484375 6.890625 26.8125 6.890625 \nQ 36.078125 6.890625 40.9375 10.546875 \nQ 45.796875 14.203125 45.796875 21.1875 \nQ 45.796875 27.640625 41.28125 31.265625 \nQ 36.765625 34.90625 28.71875 34.90625 \nL 20.21875 34.90625 \nL 20.21875 43.015625 \nL 29.109375 43.015625 \nQ 36.375 43.015625 40.234375 45.921875 \nQ 44.09375 48.828125 44.09375 54.296875 \nQ 44.09375 59.90625 40.109375 62.90625 \nQ 36.140625 65.921875 28.71875 65.921875 \nQ 24.65625 65.921875 20.015625 65.03125 \nQ 15.375 64.15625 9.8125 62.3125 \nL 9.8125 71.09375 \nQ 15.4375 72.65625 20.34375 73.4375 \nQ 25.25 74.21875 29.59375 74.21875 \nQ 40.828125 74.21875 47.359375 69.109375 \nQ 53.90625 64.015625 53.90625 55.328125 \nQ 53.90625 49.265625 50.4375 45.09375 \nQ 46.96875 40.921875 40.578125 39.3125 \nz\n\" id=\"DejaVuSans-51\"/>\n       </defs>\n       <use xlink:href=\"#DejaVuSans-51\"/>\n      </g>\n     </g>\n    </g>\n    <g id=\"text_5\">\n     <!-- x -->\n     <g transform=\"translate(143.673438 171.376563)scale(0.1 -0.1)\">\n      <defs>\n       <path d=\"M 54.890625 54.6875 \nL 35.109375 28.078125 \nL 55.90625 0 \nL 45.3125 0 \nL 29.390625 21.484375 \nL 13.484375 0 \nL 2.875 0 \nL 24.125 28.609375 \nL 4.6875 54.6875 \nL 15.28125 54.6875 \nL 29.78125 35.203125 \nL 44.28125 54.6875 \nz\n\" id=\"DejaVuSans-120\"/>\n      </defs>\n      <use xlink:href=\"#DejaVuSans-120\"/>\n     </g>\n    </g>\n   </g>\n   <g id=\"matplotlib.axis_2\">\n    <g id=\"ytick_1\">\n     <g id=\"line2d_9\">\n      <path clip-path=\"url(#p536873f093)\" d=\"M 48.982813 136.926356 \nL 244.282813 136.926356 \n\" style=\"fill:none;stroke:#b0b0b0;stroke-linecap:square;stroke-width:0.8;\"/>\n     </g>\n     <g id=\"line2d_10\">\n      <defs>\n       <path d=\"M 0 0 \nL -3.5 0 \n\" id=\"m7447e69701\" style=\"stroke:#000000;stroke-width:0.8;\"/>\n      </defs>\n      <g>\n       <use style=\"stroke:#000000;stroke-width:0.8;\" x=\"48.982813\" xlink:href=\"#m7447e69701\" y=\"136.926356\"/>\n      </g>\n     </g>\n     <g id=\"text_6\">\n      <!-- −10 -->\n      <g transform=\"translate(20.878125 140.725575)scale(0.1 -0.1)\">\n       <defs>\n        <path d=\"M 10.59375 35.5 \nL 73.1875 35.5 \nL 73.1875 27.203125 \nL 10.59375 27.203125 \nz\n\" id=\"DejaVuSans-8722\"/>\n       </defs>\n       <use xlink:href=\"#DejaVuSans-8722\"/>\n       <use x=\"83.789062\" xlink:href=\"#DejaVuSans-49\"/>\n       <use x=\"147.412109\" xlink:href=\"#DejaVuSans-48\"/>\n      </g>\n     </g>\n    </g>\n    <g id=\"ytick_2\">\n     <g id=\"line2d_11\">\n      <path clip-path=\"url(#p536873f093)\" d=\"M 48.982813 100.635539 \nL 244.282813 100.635539 \n\" style=\"fill:none;stroke:#b0b0b0;stroke-linecap:square;stroke-width:0.8;\"/>\n     </g>\n     <g id=\"line2d_12\">\n      <g>\n       <use style=\"stroke:#000000;stroke-width:0.8;\" x=\"48.982813\" xlink:href=\"#m7447e69701\" y=\"100.635539\"/>\n      </g>\n     </g>\n     <g id=\"text_7\">\n      <!-- 0 -->\n      <g transform=\"translate(35.620313 104.434758)scale(0.1 -0.1)\">\n       <use xlink:href=\"#DejaVuSans-48\"/>\n      </g>\n     </g>\n    </g>\n    <g id=\"ytick_3\">\n     <g id=\"line2d_13\">\n      <path clip-path=\"url(#p536873f093)\" d=\"M 48.982813 64.344722 \nL 244.282813 64.344722 \n\" style=\"fill:none;stroke:#b0b0b0;stroke-linecap:square;stroke-width:0.8;\"/>\n     </g>\n     <g id=\"line2d_14\">\n      <g>\n       <use style=\"stroke:#000000;stroke-width:0.8;\" x=\"48.982813\" xlink:href=\"#m7447e69701\" y=\"64.344722\"/>\n      </g>\n     </g>\n     <g id=\"text_8\">\n      <!-- 10 -->\n      <g transform=\"translate(29.257813 68.143941)scale(0.1 -0.1)\">\n       <use xlink:href=\"#DejaVuSans-49\"/>\n       <use x=\"63.623047\" xlink:href=\"#DejaVuSans-48\"/>\n      </g>\n     </g>\n    </g>\n    <g id=\"ytick_4\">\n     <g id=\"line2d_15\">\n      <path clip-path=\"url(#p536873f093)\" d=\"M 48.982813 28.053905 \nL 244.282813 28.053905 \n\" style=\"fill:none;stroke:#b0b0b0;stroke-linecap:square;stroke-width:0.8;\"/>\n     </g>\n     <g id=\"line2d_16\">\n      <g>\n       <use style=\"stroke:#000000;stroke-width:0.8;\" x=\"48.982813\" xlink:href=\"#m7447e69701\" y=\"28.053905\"/>\n      </g>\n     </g>\n     <g id=\"text_9\">\n      <!-- 20 -->\n      <g transform=\"translate(29.257813 31.853124)scale(0.1 -0.1)\">\n       <use xlink:href=\"#DejaVuSans-50\"/>\n       <use x=\"63.623047\" xlink:href=\"#DejaVuSans-48\"/>\n      </g>\n     </g>\n    </g>\n    <g id=\"text_10\">\n     <!-- f(x) -->\n     <g transform=\"translate(14.798438 83.771094)rotate(-90)scale(0.1 -0.1)\">\n      <defs>\n       <path d=\"M 37.109375 75.984375 \nL 37.109375 68.5 \nL 28.515625 68.5 \nQ 23.6875 68.5 21.796875 66.546875 \nQ 19.921875 64.59375 19.921875 59.515625 \nL 19.921875 54.6875 \nL 34.71875 54.6875 \nL 34.71875 47.703125 \nL 19.921875 47.703125 \nL 19.921875 0 \nL 10.890625 0 \nL 10.890625 47.703125 \nL 2.296875 47.703125 \nL 2.296875 54.6875 \nL 10.890625 54.6875 \nL 10.890625 58.5 \nQ 10.890625 67.625 15.140625 71.796875 \nQ 19.390625 75.984375 28.609375 75.984375 \nz\n\" id=\"DejaVuSans-102\"/>\n       <path d=\"M 31 75.875 \nQ 24.46875 64.65625 21.28125 53.65625 \nQ 18.109375 42.671875 18.109375 31.390625 \nQ 18.109375 20.125 21.3125 9.0625 \nQ 24.515625 -2 31 -13.1875 \nL 23.1875 -13.1875 \nQ 15.875 -1.703125 12.234375 9.375 \nQ 8.59375 20.453125 8.59375 31.390625 \nQ 8.59375 42.28125 12.203125 53.3125 \nQ 15.828125 64.359375 23.1875 75.875 \nz\n\" id=\"DejaVuSans-40\"/>\n       <path d=\"M 8.015625 75.875 \nL 15.828125 75.875 \nQ 23.140625 64.359375 26.78125 53.3125 \nQ 30.421875 42.28125 30.421875 31.390625 \nQ 30.421875 20.453125 26.78125 9.375 \nQ 23.140625 -1.703125 15.828125 -13.1875 \nL 8.015625 -13.1875 \nQ 14.5 -2 17.703125 9.0625 \nQ 20.90625 20.125 20.90625 31.390625 \nQ 20.90625 42.671875 17.703125 53.65625 \nQ 14.5 64.65625 8.015625 75.875 \nz\n\" id=\"DejaVuSans-41\"/>\n      </defs>\n      <use xlink:href=\"#DejaVuSans-102\"/>\n      <use x=\"35.205078\" xlink:href=\"#DejaVuSans-40\"/>\n      <use x=\"74.21875\" xlink:href=\"#DejaVuSans-120\"/>\n      <use x=\"133.398438\" xlink:href=\"#DejaVuSans-41\"/>\n     </g>\n    </g>\n   </g>\n   <g id=\"line2d_17\">\n    <path clip-path=\"url(#p536873f093)\" d=\"M 63.982342 136.922727 \nL 70.104599 118.751915 \nL 76.226856 112.634493 \nL 82.349113 109.475982 \nL 88.47137 107.440067 \nL 94.593628 105.900127 \nL 100.715885 104.575167 \nL 106.838142 103.313802 \nL 112.960399 102.022252 \nL 119.082656 100.635539 \nL 125.204913 99.104397 \nL 131.32717 97.388721 \nL 137.449427 95.454048 \nL 143.571684 93.26954 \nL 149.693941 90.806776 \nL 155.816198 88.038997 \nL 161.938455 84.940615 \nL 168.060712 81.486891 \nL 174.182969 77.653711 \nL 180.305226 73.417426 \nL 186.427483 68.754748 \nL 192.54974 63.64266 \nL 198.671997 58.058364 \nL 204.794255 51.979231 \nL 210.916512 45.38277 \nL 217.038769 38.2466 \nL 223.161026 30.548428 \nL 229.283283 22.266038 \nL 235.40554 13.377273 \n\" style=\"fill:none;stroke:#1f77b4;stroke-linecap:square;stroke-width:1.5;\"/>\n   </g>\n   <g id=\"line2d_18\">\n    <path clip-path=\"url(#p536873f093)\" d=\"M 57.860085 115.151866 \nL 63.982342 113.700233 \nL 70.104599 112.248601 \nL 76.226856 110.796968 \nL 82.349113 109.345335 \nL 88.47137 107.893703 \nL 94.593628 106.44207 \nL 100.715885 104.990437 \nL 106.838142 103.538805 \nL 112.960399 102.087172 \nL 119.082656 100.635539 \nL 125.204913 99.183907 \nL 131.32717 97.732274 \nL 137.449427 96.280641 \nL 143.571684 94.829008 \nL 149.693941 93.377376 \nL 155.816198 91.925743 \nL 161.938455 90.47411 \nL 168.060712 89.022478 \nL 174.182969 87.570845 \nL 180.305226 86.119212 \nL 186.427483 84.66758 \nL 192.54974 83.215947 \nL 198.671997 81.764314 \nL 204.794255 80.312682 \nL 210.916512 78.861049 \nL 217.038769 77.409416 \nL 223.161026 75.957784 \nL 229.283283 74.506151 \nL 235.40554 73.054518 \n\" style=\"fill:none;stroke:#bf00bf;stroke-dasharray:5.55,2.4;stroke-dashoffset:0;stroke-width:1.5;\"/>\n   </g>\n   <g id=\"patch_3\">\n    <path d=\"M 48.982813 143.1 \nL 48.982813 7.2 \n\" style=\"fill:none;stroke:#000000;stroke-linecap:square;stroke-linejoin:miter;stroke-width:0.8;\"/>\n   </g>\n   <g id=\"patch_4\">\n    <path d=\"M 244.282813 143.1 \nL 244.282813 7.2 \n\" style=\"fill:none;stroke:#000000;stroke-linecap:square;stroke-linejoin:miter;stroke-width:0.8;\"/>\n   </g>\n   <g id=\"patch_5\">\n    <path d=\"M 48.982813 143.1 \nL 244.282813 143.1 \n\" style=\"fill:none;stroke:#000000;stroke-linecap:square;stroke-linejoin:miter;stroke-width:0.8;\"/>\n   </g>\n   <g id=\"patch_6\">\n    <path d=\"M 48.982813 7.2 \nL 244.282813 7.2 \n\" style=\"fill:none;stroke:#000000;stroke-linecap:square;stroke-linejoin:miter;stroke-width:0.8;\"/>\n   </g>\n   <g id=\"legend_1\">\n    <g id=\"patch_7\">\n     <path d=\"M 55.982813 44.55625 \nL 180.532813 44.55625 \nQ 182.532813 44.55625 182.532813 42.55625 \nL 182.532813 14.2 \nQ 182.532813 12.2 180.532813 12.2 \nL 55.982813 12.2 \nQ 53.982813 12.2 53.982813 14.2 \nL 53.982813 42.55625 \nQ 53.982813 44.55625 55.982813 44.55625 \nz\n\" style=\"fill:#ffffff;opacity:0.8;stroke:#cccccc;stroke-linejoin:miter;\"/>\n    </g>\n    <g id=\"line2d_19\">\n     <path d=\"M 57.982813 20.298437 \nL 77.982813 20.298437 \n\" style=\"fill:none;stroke:#1f77b4;stroke-linecap:square;stroke-width:1.5;\"/>\n    </g>\n    <g id=\"line2d_20\"/>\n    <g id=\"text_11\">\n     <!-- f(x) -->\n     <g transform=\"translate(85.982813 23.798437)scale(0.1 -0.1)\">\n      <use xlink:href=\"#DejaVuSans-102\"/>\n      <use x=\"35.205078\" xlink:href=\"#DejaVuSans-40\"/>\n      <use x=\"74.21875\" xlink:href=\"#DejaVuSans-120\"/>\n      <use x=\"133.398438\" xlink:href=\"#DejaVuSans-41\"/>\n     </g>\n    </g>\n    <g id=\"line2d_21\">\n     <path d=\"M 57.982813 34.976562 \nL 77.982813 34.976562 \n\" style=\"fill:none;stroke:#bf00bf;stroke-dasharray:5.55,2.4;stroke-dashoffset:0;stroke-width:1.5;\"/>\n    </g>\n    <g id=\"line2d_22\"/>\n    <g id=\"text_12\">\n     <!-- Tangent line (x=1) -->\n     <g transform=\"translate(85.982813 38.476562)scale(0.1 -0.1)\">\n      <defs>\n       <path d=\"M -0.296875 72.90625 \nL 61.375 72.90625 \nL 61.375 64.59375 \nL 35.5 64.59375 \nL 35.5 0 \nL 25.59375 0 \nL 25.59375 64.59375 \nL -0.296875 64.59375 \nz\n\" id=\"DejaVuSans-84\"/>\n       <path d=\"M 34.28125 27.484375 \nQ 23.390625 27.484375 19.1875 25 \nQ 14.984375 22.515625 14.984375 16.5 \nQ 14.984375 11.71875 18.140625 8.90625 \nQ 21.296875 6.109375 26.703125 6.109375 \nQ 34.1875 6.109375 38.703125 11.40625 \nQ 43.21875 16.703125 43.21875 25.484375 \nL 43.21875 27.484375 \nz\nM 52.203125 31.203125 \nL 52.203125 0 \nL 43.21875 0 \nL 43.21875 8.296875 \nQ 40.140625 3.328125 35.546875 0.953125 \nQ 30.953125 -1.421875 24.3125 -1.421875 \nQ 15.921875 -1.421875 10.953125 3.296875 \nQ 6 8.015625 6 15.921875 \nQ 6 25.140625 12.171875 29.828125 \nQ 18.359375 34.515625 30.609375 34.515625 \nL 43.21875 34.515625 \nL 43.21875 35.40625 \nQ 43.21875 41.609375 39.140625 45 \nQ 35.0625 48.390625 27.6875 48.390625 \nQ 23 48.390625 18.546875 47.265625 \nQ 14.109375 46.140625 10.015625 43.890625 \nL 10.015625 52.203125 \nQ 14.9375 54.109375 19.578125 55.046875 \nQ 24.21875 56 28.609375 56 \nQ 40.484375 56 46.34375 49.84375 \nQ 52.203125 43.703125 52.203125 31.203125 \nz\n\" id=\"DejaVuSans-97\"/>\n       <path d=\"M 54.890625 33.015625 \nL 54.890625 0 \nL 45.90625 0 \nL 45.90625 32.71875 \nQ 45.90625 40.484375 42.875 44.328125 \nQ 39.84375 48.1875 33.796875 48.1875 \nQ 26.515625 48.1875 22.3125 43.546875 \nQ 18.109375 38.921875 18.109375 30.90625 \nL 18.109375 0 \nL 9.078125 0 \nL 9.078125 54.6875 \nL 18.109375 54.6875 \nL 18.109375 46.1875 \nQ 21.34375 51.125 25.703125 53.5625 \nQ 30.078125 56 35.796875 56 \nQ 45.21875 56 50.046875 50.171875 \nQ 54.890625 44.34375 54.890625 33.015625 \nz\n\" id=\"DejaVuSans-110\"/>\n       <path d=\"M 45.40625 27.984375 \nQ 45.40625 37.75 41.375 43.109375 \nQ 37.359375 48.484375 30.078125 48.484375 \nQ 22.859375 48.484375 18.828125 43.109375 \nQ 14.796875 37.75 14.796875 27.984375 \nQ 14.796875 18.265625 18.828125 12.890625 \nQ 22.859375 7.515625 30.078125 7.515625 \nQ 37.359375 7.515625 41.375 12.890625 \nQ 45.40625 18.265625 45.40625 27.984375 \nz\nM 54.390625 6.78125 \nQ 54.390625 -7.171875 48.1875 -13.984375 \nQ 42 -20.796875 29.203125 -20.796875 \nQ 24.46875 -20.796875 20.265625 -20.09375 \nQ 16.0625 -19.390625 12.109375 -17.921875 \nL 12.109375 -9.1875 \nQ 16.0625 -11.328125 19.921875 -12.34375 \nQ 23.78125 -13.375 27.78125 -13.375 \nQ 36.625 -13.375 41.015625 -8.765625 \nQ 45.40625 -4.15625 45.40625 5.171875 \nL 45.40625 9.625 \nQ 42.625 4.78125 38.28125 2.390625 \nQ 33.9375 0 27.875 0 \nQ 17.828125 0 11.671875 7.65625 \nQ 5.515625 15.328125 5.515625 27.984375 \nQ 5.515625 40.671875 11.671875 48.328125 \nQ 17.828125 56 27.875 56 \nQ 33.9375 56 38.28125 53.609375 \nQ 42.625 51.21875 45.40625 46.390625 \nL 45.40625 54.6875 \nL 54.390625 54.6875 \nz\n\" id=\"DejaVuSans-103\"/>\n       <path d=\"M 56.203125 29.59375 \nL 56.203125 25.203125 \nL 14.890625 25.203125 \nQ 15.484375 15.921875 20.484375 11.0625 \nQ 25.484375 6.203125 34.421875 6.203125 \nQ 39.59375 6.203125 44.453125 7.46875 \nQ 49.3125 8.734375 54.109375 11.28125 \nL 54.109375 2.78125 \nQ 49.265625 0.734375 44.1875 -0.34375 \nQ 39.109375 -1.421875 33.890625 -1.421875 \nQ 20.796875 -1.421875 13.15625 6.1875 \nQ 5.515625 13.8125 5.515625 26.8125 \nQ 5.515625 40.234375 12.765625 48.109375 \nQ 20.015625 56 32.328125 56 \nQ 43.359375 56 49.78125 48.890625 \nQ 56.203125 41.796875 56.203125 29.59375 \nz\nM 47.21875 32.234375 \nQ 47.125 39.59375 43.09375 43.984375 \nQ 39.0625 48.390625 32.421875 48.390625 \nQ 24.90625 48.390625 20.390625 44.140625 \nQ 15.875 39.890625 15.1875 32.171875 \nz\n\" id=\"DejaVuSans-101\"/>\n       <path d=\"M 18.3125 70.21875 \nL 18.3125 54.6875 \nL 36.8125 54.6875 \nL 36.8125 47.703125 \nL 18.3125 47.703125 \nL 18.3125 18.015625 \nQ 18.3125 11.328125 20.140625 9.421875 \nQ 21.96875 7.515625 27.59375 7.515625 \nL 36.8125 7.515625 \nL 36.8125 0 \nL 27.59375 0 \nQ 17.1875 0 13.234375 3.875 \nQ 9.28125 7.765625 9.28125 18.015625 \nL 9.28125 47.703125 \nL 2.6875 47.703125 \nL 2.6875 54.6875 \nL 9.28125 54.6875 \nL 9.28125 70.21875 \nz\n\" id=\"DejaVuSans-116\"/>\n       <path id=\"DejaVuSans-32\"/>\n       <path d=\"M 9.421875 75.984375 \nL 18.40625 75.984375 \nL 18.40625 0 \nL 9.421875 0 \nz\n\" id=\"DejaVuSans-108\"/>\n       <path d=\"M 9.421875 54.6875 \nL 18.40625 54.6875 \nL 18.40625 0 \nL 9.421875 0 \nz\nM 9.421875 75.984375 \nL 18.40625 75.984375 \nL 18.40625 64.59375 \nL 9.421875 64.59375 \nz\n\" id=\"DejaVuSans-105\"/>\n       <path d=\"M 10.59375 45.40625 \nL 73.1875 45.40625 \nL 73.1875 37.203125 \nL 10.59375 37.203125 \nz\nM 10.59375 25.484375 \nL 73.1875 25.484375 \nL 73.1875 17.1875 \nL 10.59375 17.1875 \nz\n\" id=\"DejaVuSans-61\"/>\n      </defs>\n      <use xlink:href=\"#DejaVuSans-84\"/>\n      <use x=\"44.583984\" xlink:href=\"#DejaVuSans-97\"/>\n      <use x=\"105.863281\" xlink:href=\"#DejaVuSans-110\"/>\n      <use x=\"169.242188\" xlink:href=\"#DejaVuSans-103\"/>\n      <use x=\"232.71875\" xlink:href=\"#DejaVuSans-101\"/>\n      <use x=\"294.242188\" xlink:href=\"#DejaVuSans-110\"/>\n      <use x=\"357.621094\" xlink:href=\"#DejaVuSans-116\"/>\n      <use x=\"396.830078\" xlink:href=\"#DejaVuSans-32\"/>\n      <use x=\"428.617188\" xlink:href=\"#DejaVuSans-108\"/>\n      <use x=\"456.400391\" xlink:href=\"#DejaVuSans-105\"/>\n      <use x=\"484.183594\" xlink:href=\"#DejaVuSans-110\"/>\n      <use x=\"547.5625\" xlink:href=\"#DejaVuSans-101\"/>\n      <use x=\"609.085938\" xlink:href=\"#DejaVuSans-32\"/>\n      <use x=\"640.873047\" xlink:href=\"#DejaVuSans-40\"/>\n      <use x=\"679.886719\" xlink:href=\"#DejaVuSans-120\"/>\n      <use x=\"739.066406\" xlink:href=\"#DejaVuSans-61\"/>\n      <use x=\"822.855469\" xlink:href=\"#DejaVuSans-49\"/>\n      <use x=\"886.478516\" xlink:href=\"#DejaVuSans-41\"/>\n     </g>\n    </g>\n   </g>\n  </g>\n </g>\n <defs>\n  <clipPath id=\"p536873f093\">\n   <rect height=\"135.9\" width=\"195.3\" x=\"48.982813\" y=\"7.2\"/>\n  </clipPath>\n </defs>\n</svg>\n",
      "text/plain": [
       "<Figure size 252x180 with 1 Axes>"
      ]
     },
     "metadata": {
      "needs_background": "light"
     },
     "output_type": "display_data"
    }
   ],
   "source": [
    "\"\"\"\n",
    "练习一：\n",
    " 求y对x求导得3x^2+1/(x^2),带入1得到切线斜率k=4\n",
    " 设y=k*x+b,带入（1，0），k=4,得b=-4\n",
    " 所以x=1点的切线函数为：4*x-4\n",
    "\"\"\"\n",
    "x = np.arange(0, 3, 0.1)\n",
    "plot(x, [x**3-1/(x), 4*x-4], 'x', 'f(x)', legend=['f(x)', 'Tangent line (x=1)'])"
   ]
  },
  {
   "cell_type": "code",
   "execution_count": 255,
   "metadata": {
    "ExecuteTime": {
     "end_time": "2022-01-05T12:13:57.751899Z",
     "start_time": "2022-01-05T12:13:57.746811Z"
    }
   },
   "outputs": [
    {
     "data": {
      "text/plain": [
       "'\\n练习二:\\n    由定义得，各分量的偏导组成的向量 [6*x1,5e^x2]\\n\\n'"
      ]
     },
     "execution_count": 255,
     "metadata": {},
     "output_type": "execute_result"
    }
   ],
   "source": [
    "\"\"\"\n",
    "练习二:\n",
    "    由定义得，各分量的偏导组成的向量 [6*x1,5e^x2]\n",
    "\n",
    "\"\"\""
   ]
  },
  {
   "cell_type": "markdown",
   "metadata": {},
   "source": [
    "## 2.5自动微分"
   ]
  },
  {
   "cell_type": "markdown",
   "metadata": {},
   "source": [
    "正如我们在 2.4节中所说的那样，求导是几乎所有深度学习优化算法的关键步骤。 虽然求导的计算很简单，只需要一些基本的微积分。 但对于复杂的模型，手工进行更新是一件很痛苦的事情（而且经常容易出错）。\n",
    "\n",
    "<font color='red'>深度学习框架通过自动计算导数，即自动微分（automatic differentiation）来加快求导。 实际中，根据我们设计的模型，系统会构建一个计算图（computational graph）， 来跟踪计算是哪些数据通过哪些操作组合起来产生输出。 自动微分使系统能够随后反向传播梯度。 这里，反向传播（backpropagate）意味着跟踪整个计算图，填充关于每个参数的偏导数。</font>"
   ]
  },
  {
   "cell_type": "markdown",
   "metadata": {},
   "source": [
    "#### 2.5.1例子\n",
    "作为一个演示例子，假设我们想对函数 𝑦=2𝐱⊤𝐱 关于列向量 𝐱 求导。 首先，我们创建变量x并为其分配一个初始值。"
   ]
  },
  {
   "cell_type": "code",
   "execution_count": 269,
   "metadata": {
    "ExecuteTime": {
     "end_time": "2022-01-05T12:38:10.034338Z",
     "start_time": "2022-01-05T12:38:10.027964Z"
    }
   },
   "outputs": [
    {
     "data": {
      "text/plain": [
       "<tf.Tensor: shape=(4,), dtype=float32, numpy=array([0., 1., 2., 3.], dtype=float32)>"
      ]
     },
     "execution_count": 269,
     "metadata": {},
     "output_type": "execute_result"
    }
   ],
   "source": [
    "x = tf.range(4, dtype=tf.float32)\n",
    "x"
   ]
  },
  {
   "cell_type": "markdown",
   "metadata": {},
   "source": [
    "在我们计算 𝑦 关于 𝐱 的梯度之前，我们需要一个地方来存储梯度。 重要的是，我们不会在每次对一个参数求导时都分配新的内存。 因为我们经常会成千上万次地更新相同的参数，每次都分配新的内存可能很快就会将内存耗尽。 注意，一个标量函数关于向量 𝐱 的梯度是向量，并且与 𝐱 具有相同的形状。"
   ]
  },
  {
   "cell_type": "code",
   "execution_count": 270,
   "metadata": {
    "ExecuteTime": {
     "end_time": "2022-01-05T12:38:10.891348Z",
     "start_time": "2022-01-05T12:38:10.884154Z"
    }
   },
   "outputs": [
    {
     "data": {
      "text/plain": [
       "<tf.Variable 'Variable:0' shape=(4,) dtype=float32, numpy=array([0., 1., 2., 3.], dtype=float32)>"
      ]
     },
     "execution_count": 270,
     "metadata": {},
     "output_type": "execute_result"
    }
   ],
   "source": [
    "x =tf.Variable(x)\n",
    "x"
   ]
  },
  {
   "cell_type": "markdown",
   "metadata": {},
   "source": [
    "现在让我们计算 𝑦 。"
   ]
  },
  {
   "cell_type": "code",
   "execution_count": 277,
   "metadata": {
    "ExecuteTime": {
     "end_time": "2022-01-05T12:47:05.442585Z",
     "start_time": "2022-01-05T12:47:05.433776Z"
    }
   },
   "outputs": [
    {
     "name": "stdout",
     "output_type": "stream",
     "text": [
      "tf.Tensor(28.0, shape=(), dtype=float32)\n"
     ]
    },
    {
     "data": {
      "text/plain": [
       "<tf.Tensor: shape=(), dtype=float32, numpy=28.0>"
      ]
     },
     "execution_count": 277,
     "metadata": {},
     "output_type": "execute_result"
    }
   ],
   "source": [
    "with tf.GradientTape() as t:\n",
    "    y = 2*tf.tensordot(x,x,axes=1)\n",
    "    print(y)\n",
    "y"
   ]
  },
  {
   "cell_type": "markdown",
   "metadata": {},
   "source": [
    "x是一个长度为4的向量，计算x和x的点积，得到了我们赋值给y的标量输出。 接下来，我们通过调用反向传播函数来自动计算y关于x每个分量的梯度，并打印这些梯度。"
   ]
  },
  {
   "cell_type": "code",
   "execution_count": 272,
   "metadata": {
    "ExecuteTime": {
     "end_time": "2022-01-05T12:38:12.865558Z",
     "start_time": "2022-01-05T12:38:12.859044Z"
    }
   },
   "outputs": [
    {
     "data": {
      "text/plain": [
       "<tf.Tensor: shape=(4,), dtype=float32, numpy=array([ 0.,  4.,  8., 12.], dtype=float32)>"
      ]
     },
     "execution_count": 272,
     "metadata": {},
     "output_type": "execute_result"
    }
   ],
   "source": [
    "x_grad = t.gradient(y,x)\n",
    "x_grad"
   ]
  },
  {
   "cell_type": "markdown",
   "metadata": {},
   "source": [
    "函数 𝑦=2𝐱⊤𝐱 关于 𝐱 的梯度应为 4𝐱 。 让我们快速验证这个梯度是否计算正确。"
   ]
  },
  {
   "cell_type": "code",
   "execution_count": 274,
   "metadata": {
    "ExecuteTime": {
     "end_time": "2022-01-05T12:39:24.292822Z",
     "start_time": "2022-01-05T12:39:24.285827Z"
    }
   },
   "outputs": [
    {
     "data": {
      "text/plain": [
       "<tf.Tensor: shape=(4,), dtype=bool, numpy=array([ True,  True,  True,  True])>"
      ]
     },
     "execution_count": 274,
     "metadata": {},
     "output_type": "execute_result"
    }
   ],
   "source": [
    "x_grad == 4 * x"
   ]
  },
  {
   "cell_type": "markdown",
   "metadata": {},
   "source": [
    "### 实际上直接根据定义求梯度，很容易得到梯度为4*[x1,x2,x3,x4]"
   ]
  },
  {
   "cell_type": "markdown",
   "metadata": {},
   "source": [
    "#### 2.5.2非标量变量的反向传播\n",
    "<font color='red'>刚才的函数求出来是个标量，梯度好计算 <font/>\n",
    "\n",
    "当y不是标量时，向量y关于向量x的导数的最自然解释是一个矩阵。 对于高阶和高维的y和x，求导的结果可以是一个高阶张量。\n",
    "\n",
    "然而，虽然这些更奇特的对象确实出现在高级机器学习中（包括深度学习中）， 但当我们调用向量的反向计算时，我们通常会试图计算一批训练样本中每个组成部分的损失函数的导数。 这里，我们的目的不是计算微分矩阵，而是单独计算批量中每个样本的偏导数之和。"
   ]
  },
  {
   "cell_type": "code",
   "execution_count": 276,
   "metadata": {
    "ExecuteTime": {
     "end_time": "2022-01-05T12:46:52.003673Z",
     "start_time": "2022-01-05T12:46:51.991506Z"
    }
   },
   "outputs": [
    {
     "name": "stdout",
     "output_type": "stream",
     "text": [
      "tf.Tensor([0. 1. 4. 9.], shape=(4,), dtype=float32)\n"
     ]
    },
    {
     "data": {
      "text/plain": [
       "<tf.Tensor: shape=(4,), dtype=float32, numpy=array([0., 2., 4., 6.], dtype=float32)>"
      ]
     },
     "execution_count": 276,
     "metadata": {},
     "output_type": "execute_result"
    }
   ],
   "source": [
    "with tf.GradientTape() as t:\n",
    "    y = x * x\n",
    "    print(y)\n",
    "t.gradient(y, x)  # 等价于y=tf.reduce_sum(x*x)\n"
   ]
  },
  {
   "cell_type": "markdown",
   "metadata": {},
   "source": [
    "#### 2.5.3分离计算\n",
    "有时，我们希望将某些计算移动到记录的计算图之外。 例如，假设y是作为x的函数计算的，而z则是作为y和x的函数计算的。 想象一下，我们想计算z关于x的梯度，但由于某种原因，我们希望将y视为一个常数， 并且只考虑到x在y被计算后发挥的作用。\n",
    "\n",
    "在这里，我们可以分离y来返回一个新变量u，该变量与y具有相同的值， 但丢弃计算图中如何计算y的任何信息。 换句话说，梯度不会向后流经u到x。 因此，下面的反向传播函数计算z=u*x关于x的偏导数，同时将u作为常数处理， 而不是z=x*x*x关于x的偏导数。"
   ]
  },
  {
   "cell_type": "code",
   "execution_count": 278,
   "metadata": {
    "ExecuteTime": {
     "end_time": "2022-01-05T12:51:17.716965Z",
     "start_time": "2022-01-05T12:51:17.706566Z"
    }
   },
   "outputs": [
    {
     "data": {
      "text/plain": [
       "<tf.Tensor: shape=(4,), dtype=bool, numpy=array([ True,  True,  True,  True])>"
      ]
     },
     "execution_count": 278,
     "metadata": {},
     "output_type": "execute_result"
    }
   ],
   "source": [
    "# 设置persistent=True来运行t.gradient多次\n",
    "with tf.GradientTape(persistent=True) as t:\n",
    "    y = x * x\n",
    "    u = tf.stop_gradient(y)\n",
    "    z = u * x\n",
    "\n",
    "x_grad = t.gradient(z, x)\n",
    "x_grad == u"
   ]
  },
  {
   "cell_type": "code",
   "execution_count": 279,
   "metadata": {
    "ExecuteTime": {
     "end_time": "2022-01-05T12:52:16.998700Z",
     "start_time": "2022-01-05T12:52:16.991747Z"
    }
   },
   "outputs": [
    {
     "data": {
      "text/plain": [
       "<tf.Tensor: shape=(4,), dtype=float32, numpy=array([0., 1., 4., 9.], dtype=float32)>"
      ]
     },
     "execution_count": 279,
     "metadata": {},
     "output_type": "execute_result"
    }
   ],
   "source": [
    "x_grad"
   ]
  },
  {
   "cell_type": "markdown",
   "metadata": {},
   "source": [
    "由于记录了y的计算结果，我们可以随后在y上调用反向传播， 得到y=x*x关于的x的导数，即2*x。"
   ]
  },
  {
   "cell_type": "code",
   "execution_count": 280,
   "metadata": {
    "ExecuteTime": {
     "end_time": "2022-01-05T12:52:48.639140Z",
     "start_time": "2022-01-05T12:52:48.632283Z"
    }
   },
   "outputs": [
    {
     "data": {
      "text/plain": [
       "<tf.Tensor: shape=(4,), dtype=bool, numpy=array([ True,  True,  True,  True])>"
      ]
     },
     "execution_count": 280,
     "metadata": {},
     "output_type": "execute_result"
    }
   ],
   "source": [
    "t.gradient(y, x) == 2 * x"
   ]
  },
  {
   "cell_type": "markdown",
   "metadata": {},
   "source": [
    "#### 2.5.4. Python控制流的梯度计算\n",
    "使用自动微分的一个好处是： 即使构建函数的计算图需要通过Python控制流（例如，条件、循环或任意函数调用），我们仍然可以计算得到的变量的梯度。 在下面的代码中，while循环的迭代次数和if语句的结果都取决于输入a的值。"
   ]
  },
  {
   "cell_type": "code",
   "execution_count": 281,
   "metadata": {
    "ExecuteTime": {
     "end_time": "2022-01-05T12:55:10.149216Z",
     "start_time": "2022-01-05T12:55:10.144577Z"
    }
   },
   "outputs": [],
   "source": [
    "def f(a):\n",
    "    b = a * 2\n",
    "    while tf.norm(b) < 1000:\n",
    "        b = b * 2\n",
    "    if tf.reduce_sum(b) > 0:\n",
    "        c = b\n",
    "    else:\n",
    "        c = 100 * b\n",
    "    return c"
   ]
  },
  {
   "cell_type": "markdown",
   "metadata": {},
   "source": [
    "让我们计算梯度。"
   ]
  },
  {
   "cell_type": "code",
   "execution_count": 282,
   "metadata": {
    "ExecuteTime": {
     "end_time": "2022-01-05T12:55:27.715405Z",
     "start_time": "2022-01-05T12:55:27.706453Z"
    }
   },
   "outputs": [
    {
     "data": {
      "text/plain": [
       "<tf.Variable 'Variable:0' shape=() dtype=float32, numpy=-1.0336889>"
      ]
     },
     "execution_count": 282,
     "metadata": {},
     "output_type": "execute_result"
    }
   ],
   "source": [
    "a = tf.Variable(tf.random.normal(shape=()))\n",
    "a"
   ]
  },
  {
   "cell_type": "code",
   "execution_count": 283,
   "metadata": {
    "ExecuteTime": {
     "end_time": "2022-01-05T12:55:38.201331Z",
     "start_time": "2022-01-05T12:55:38.185382Z"
    }
   },
   "outputs": [
    {
     "data": {
      "text/plain": [
       "<tf.Tensor: shape=(), dtype=float32, numpy=102400.0>"
      ]
     },
     "execution_count": 283,
     "metadata": {},
     "output_type": "execute_result"
    }
   ],
   "source": [
    "with tf.GradientTape() as t:\n",
    "    d = f(a)\n",
    "d_grad = t.gradient(d, a)\n",
    "d_grad"
   ]
  },
  {
   "cell_type": "markdown",
   "metadata": {},
   "source": [
    "我们现在可以分析上面定义的f函数。 请注意，它在其输入a中是分段线性的。 换言之，对于任何a，存在某个常量标量k，使得f(a)=k*a，其中k的值取决于输入a。 因此，我们可以用d/a验证梯度是否正确。"
   ]
  },
  {
   "cell_type": "code",
   "execution_count": 284,
   "metadata": {
    "ExecuteTime": {
     "end_time": "2022-01-05T12:56:10.790461Z",
     "start_time": "2022-01-05T12:56:10.783391Z"
    }
   },
   "outputs": [
    {
     "data": {
      "text/plain": [
       "<tf.Tensor: shape=(), dtype=bool, numpy=True>"
      ]
     },
     "execution_count": 284,
     "metadata": {},
     "output_type": "execute_result"
    }
   ],
   "source": [
    "d_grad == d / a\n"
   ]
  },
  {
   "cell_type": "markdown",
   "metadata": {},
   "source": [
    "#### 2.5.5小结\n",
    "深度学习框架可以自动计算导数：我们首先将梯度附加到想要对其计算偏导数的变量上。然后我们记录目标值的计算，执行它的反向传播函数，并访问得到的梯度。"
   ]
  },
  {
   "cell_type": "markdown",
   "metadata": {
    "ExecuteTime": {
     "end_time": "2022-01-05T13:08:05.278750Z",
     "start_time": "2022-01-05T13:08:05.259024Z"
    }
   },
   "source": [
    "### 2.6 概率"
   ]
  },
  {
   "cell_type": "markdown",
   "metadata": {},
   "source": [
    "### 2.7查阅文档"
   ]
  },
  {
   "cell_type": "markdown",
   "metadata": {},
   "source": [
    "#### 2.7.1查找模块中所有函数和类"
   ]
  },
  {
   "cell_type": "code",
   "execution_count": 286,
   "metadata": {
    "ExecuteTime": {
     "end_time": "2022-01-05T13:09:20.198942Z",
     "start_time": "2022-01-05T13:09:20.192500Z"
    }
   },
   "outputs": [
    {
     "name": "stdout",
     "output_type": "stream",
     "text": [
      "['Algorithm', 'Generator', '__builtins__', '__cached__', '__doc__', '__file__', '__loader__', '__name__', '__package__', '__path__', '__spec__', '_sys', 'all_candidate_sampler', 'categorical', 'create_rng_state', 'experimental', 'fixed_unigram_candidate_sampler', 'gamma', 'get_global_generator', 'learned_unigram_candidate_sampler', 'log_uniform_candidate_sampler', 'normal', 'poisson', 'set_global_generator', 'set_seed', 'shuffle', 'stateless_binomial', 'stateless_categorical', 'stateless_gamma', 'stateless_normal', 'stateless_poisson', 'stateless_truncated_normal', 'stateless_uniform', 'truncated_normal', 'uniform', 'uniform_candidate_sampler']\n"
     ]
    }
   ],
   "source": [
    "print(dir(tf.random))"
   ]
  },
  {
   "cell_type": "markdown",
   "metadata": {},
   "source": [
    "通常，我们可以忽略以“__”（双下划线）开始和结束的函数（它们是Python中的特殊对象）， 或以单个“_”（单下划线）开始的函数（它们通常是内部函数）。 根据剩余的函数名或属性名，我们可能会猜测这个模块提供了各种生成随机数的方法， 包括从均匀分布（uniform）、正态分布（normal）和多项分布（multinomial）中采样。\n",
    "\n"
   ]
  },
  {
   "cell_type": "markdown",
   "metadata": {},
   "source": [
    "#### 2.7.2. 查找特定函数和类的用法"
   ]
  },
  {
   "cell_type": "code",
   "execution_count": 287,
   "metadata": {
    "ExecuteTime": {
     "end_time": "2022-01-05T13:10:34.056374Z",
     "start_time": "2022-01-05T13:10:34.050231Z"
    }
   },
   "outputs": [
    {
     "name": "stdout",
     "output_type": "stream",
     "text": [
      "Help on function ones in module tensorflow.python.ops.array_ops:\n",
      "\n",
      "ones(shape, dtype=tf.float32, name=None)\n",
      "    Creates a tensor with all elements set to one (1).\n",
      "    \n",
      "    See also `tf.ones_like`.\n",
      "    \n",
      "    This operation returns a tensor of type `dtype` with shape `shape` and\n",
      "    all elements set to one.\n",
      "    \n",
      "    >>> tf.ones([3, 4], tf.int32)\n",
      "    <tf.Tensor: shape=(3, 4), dtype=int32, numpy=\n",
      "    array([[1, 1, 1, 1],\n",
      "           [1, 1, 1, 1],\n",
      "           [1, 1, 1, 1]], dtype=int32)>\n",
      "    \n",
      "    Args:\n",
      "      shape: A `list` of integers, a `tuple` of integers, or\n",
      "        a 1-D `Tensor` of type `int32`.\n",
      "      dtype: Optional DType of an element in the resulting `Tensor`. Default is\n",
      "        `tf.float32`.\n",
      "      name: Optional string. A name for the operation.\n",
      "    \n",
      "    Returns:\n",
      "      A `Tensor` with all elements set to one (1).\n",
      "\n"
     ]
    }
   ],
   "source": [
    "help(tf.ones)"
   ]
  },
  {
   "cell_type": "markdown",
   "metadata": {},
   "source": [
    "#### 2.7.3查看API"
   ]
  },
  {
   "cell_type": "code",
   "execution_count": 288,
   "metadata": {
    "ExecuteTime": {
     "end_time": "2022-01-05T13:11:52.176599Z",
     "start_time": "2022-01-05T13:11:52.166723Z"
    }
   },
   "outputs": [],
   "source": [
    "list?"
   ]
  },
  {
   "cell_type": "code",
   "execution_count": 290,
   "metadata": {
    "ExecuteTime": {
     "end_time": "2022-01-05T13:12:04.760034Z",
     "start_time": "2022-01-05T13:12:04.752945Z"
    }
   },
   "outputs": [],
   "source": [
    "list??"
   ]
  },
  {
   "cell_type": "code",
   "execution_count": null,
   "metadata": {},
   "outputs": [],
   "source": []
  },
  {
   "cell_type": "code",
   "execution_count": null,
   "metadata": {},
   "outputs": [],
   "source": []
  },
  {
   "cell_type": "markdown",
   "metadata": {
    "ExecuteTime": {
     "end_time": "2022-09-03T10:21:59.107572Z",
     "start_time": "2022-09-03T10:21:59.104045Z"
    }
   },
   "source": [
    "### 11.1. 优化和深度学习\n",
    "\n",
    "在本节中，我们将讨论优化与深度学习之间的关系以及在深度学习中使用优化的挑战。对于深度学习问题，我们通常会先定义损失函数。一旦我们有了损失函数，我们就可以使用优化算法来尝试最小化损失。在优化中，损失函数通常被称为优化问题的目标函数。按照传统和惯则，大多数优化算法都关注的是最小化。如果我们需要最大化目标，那么有一个简单的解决方案：在目标函数前加负号即可。"
   ]
  },
  {
   "cell_type": "markdown",
   "metadata": {},
   "source": [
    "#### 11.1.1. 优化的目标\n",
    "尽管优化提供了一种最大限度地减少深度学习损失函数的方法，但实质上，优化和深度学习的目标是根本不同的。前者主要关注的是最小化目标，后者则关注在给定有限数据量的情况下寻找合适的模型。在 4.4节中，我们详细讨论了这两个目标之间的区别。例如，训练误差和泛化误差通常不同：由于优化算法的目标函数通常是基于训练数据集的损失函数，因此优化的目标是减少训练误差。但是，深度学习（或更广义地说，统计推断）的目标是减少泛化误差。为了实现后者，除了使用优化算法来减少训练误差之外，我们还需要注意过拟合。"
   ]
  },
  {
   "cell_type": "code",
   "execution_count": 14,
   "metadata": {
    "ExecuteTime": {
     "end_time": "2022-10-18T14:25:45.496452Z",
     "start_time": "2022-10-18T14:25:45.490181Z"
    }
   },
   "outputs": [],
   "source": [
    "%matplotlib inline\n",
    "import numpy as np\n",
    "import tensorflow as tf\n",
    "from mpl_toolkits import mplot3d\n",
    "from d2l import tensorflow as d2l"
   ]
  },
  {
   "cell_type": "code",
   "execution_count": 15,
   "metadata": {
    "ExecuteTime": {
     "end_time": "2022-10-18T14:25:45.906192Z",
     "start_time": "2022-10-18T14:25:45.901967Z"
    }
   },
   "outputs": [],
   "source": [
    "import matplotlib.pyplot as plt"
   ]
  },
  {
   "cell_type": "markdown",
   "metadata": {},
   "source": [
    "为了说明上述不同的目标，让我们考虑经验风险和风险。如 4.9.3.1节所述，经验风险是训练数据集的平均损失，而风险则是整个数据群的预期损失。下面我们定义了两个函数：风险函数f和经验风险函数g。假设我们只有有限量的训练数据。因此，这里的g不如f平滑。"
   ]
  },
  {
   "cell_type": "code",
   "execution_count": 16,
   "metadata": {
    "ExecuteTime": {
     "end_time": "2022-10-18T14:25:46.682905Z",
     "start_time": "2022-10-18T14:25:46.679096Z"
    }
   },
   "outputs": [],
   "source": [
    "def f(x):\n",
    "    return x * tf.cos(np.pi * x)\n",
    "\n",
    "def g(x):\n",
    "    return f(x) + 0.2 * tf.cos(5 * np.pi * x)"
   ]
  },
  {
   "cell_type": "markdown",
   "metadata": {},
   "source": [
    "下图说明，训练数据集的最低经验风险可能与最低风险（泛化误差）不同"
   ]
  },
  {
   "cell_type": "code",
   "execution_count": 17,
   "metadata": {
    "ExecuteTime": {
     "end_time": "2022-10-18T14:25:48.893400Z",
     "start_time": "2022-10-18T14:25:48.690251Z"
    }
   },
   "outputs": [
    {
     "data": {
      "image/svg+xml": "<?xml version=\"1.0\" encoding=\"utf-8\" standalone=\"no\"?>\n<!DOCTYPE svg PUBLIC \"-//W3C//DTD SVG 1.1//EN\"\n  \"http://www.w3.org/Graphics/SVG/1.1/DTD/svg11.dtd\">\n<!-- Created with matplotlib (https://matplotlib.org/) -->\n<svg height=\"180.65625pt\" version=\"1.1\" viewBox=\"0 0 261.023438 180.65625\" width=\"261.023438pt\" xmlns=\"http://www.w3.org/2000/svg\" xmlns:xlink=\"http://www.w3.org/1999/xlink\">\n <metadata>\n  <rdf:RDF xmlns:cc=\"http://creativecommons.org/ns#\" xmlns:dc=\"http://purl.org/dc/elements/1.1/\" xmlns:rdf=\"http://www.w3.org/1999/02/22-rdf-syntax-ns#\">\n   <cc:Work>\n    <dc:type rdf:resource=\"http://purl.org/dc/dcmitype/StillImage\"/>\n    <dc:date>2022-10-18T22:25:48.842907</dc:date>\n    <dc:format>image/svg+xml</dc:format>\n    <dc:creator>\n     <cc:Agent>\n      <dc:title>Matplotlib v3.3.3, https://matplotlib.org/</dc:title>\n     </cc:Agent>\n    </dc:creator>\n   </cc:Work>\n  </rdf:RDF>\n </metadata>\n <defs>\n  <style type=\"text/css\">*{stroke-linecap:butt;stroke-linejoin:round;}</style>\n </defs>\n <g id=\"figure_1\">\n  <g id=\"patch_1\">\n   <path d=\"M 0 180.65625 \nL 261.023438 180.65625 \nL 261.023438 0 \nL 0 0 \nz\n\" style=\"fill:none;\"/>\n  </g>\n  <g id=\"axes_1\">\n   <g id=\"patch_2\">\n    <path d=\"M 58.523438 143.1 \nL 253.823438 143.1 \nL 253.823438 7.2 \nL 58.523438 7.2 \nz\n\" style=\"fill:#ffffff;\"/>\n   </g>\n   <g id=\"matplotlib.axis_1\">\n    <g id=\"xtick_1\">\n     <g id=\"line2d_1\">\n      <path clip-path=\"url(#paa2c636ff6)\" d=\"M 85.334612 143.1 \nL 85.334612 7.2 \n\" style=\"fill:none;stroke:#b0b0b0;stroke-linecap:square;stroke-width:0.8;\"/>\n     </g>\n     <g id=\"line2d_2\">\n      <defs>\n       <path d=\"M 0 0 \nL 0 3.5 \n\" id=\"ma149c56568\" style=\"stroke:#000000;stroke-width:0.8;\"/>\n      </defs>\n      <g>\n       <use style=\"stroke:#000000;stroke-width:0.8;\" x=\"85.334612\" xlink:href=\"#ma149c56568\" y=\"143.1\"/>\n      </g>\n     </g>\n     <g id=\"text_1\">\n      <!-- 0.6 -->\n      <g transform=\"translate(77.383049 157.698438)scale(0.1 -0.1)\">\n       <defs>\n        <path d=\"M 31.78125 66.40625 \nQ 24.171875 66.40625 20.328125 58.90625 \nQ 16.5 51.421875 16.5 36.375 \nQ 16.5 21.390625 20.328125 13.890625 \nQ 24.171875 6.390625 31.78125 6.390625 \nQ 39.453125 6.390625 43.28125 13.890625 \nQ 47.125 21.390625 47.125 36.375 \nQ 47.125 51.421875 43.28125 58.90625 \nQ 39.453125 66.40625 31.78125 66.40625 \nz\nM 31.78125 74.21875 \nQ 44.046875 74.21875 50.515625 64.515625 \nQ 56.984375 54.828125 56.984375 36.375 \nQ 56.984375 17.96875 50.515625 8.265625 \nQ 44.046875 -1.421875 31.78125 -1.421875 \nQ 19.53125 -1.421875 13.0625 8.265625 \nQ 6.59375 17.96875 6.59375 36.375 \nQ 6.59375 54.828125 13.0625 64.515625 \nQ 19.53125 74.21875 31.78125 74.21875 \nz\n\" id=\"DejaVuSans-48\"/>\n        <path d=\"M 10.6875 12.40625 \nL 21 12.40625 \nL 21 0 \nL 10.6875 0 \nz\n\" id=\"DejaVuSans-46\"/>\n        <path d=\"M 33.015625 40.375 \nQ 26.375 40.375 22.484375 35.828125 \nQ 18.609375 31.296875 18.609375 23.390625 \nQ 18.609375 15.53125 22.484375 10.953125 \nQ 26.375 6.390625 33.015625 6.390625 \nQ 39.65625 6.390625 43.53125 10.953125 \nQ 47.40625 15.53125 47.40625 23.390625 \nQ 47.40625 31.296875 43.53125 35.828125 \nQ 39.65625 40.375 33.015625 40.375 \nz\nM 52.59375 71.296875 \nL 52.59375 62.3125 \nQ 48.875 64.0625 45.09375 64.984375 \nQ 41.3125 65.921875 37.59375 65.921875 \nQ 27.828125 65.921875 22.671875 59.328125 \nQ 17.53125 52.734375 16.796875 39.40625 \nQ 19.671875 43.65625 24.015625 45.921875 \nQ 28.375 48.1875 33.59375 48.1875 \nQ 44.578125 48.1875 50.953125 41.515625 \nQ 57.328125 34.859375 57.328125 23.390625 \nQ 57.328125 12.15625 50.6875 5.359375 \nQ 44.046875 -1.421875 33.015625 -1.421875 \nQ 20.359375 -1.421875 13.671875 8.265625 \nQ 6.984375 17.96875 6.984375 36.375 \nQ 6.984375 53.65625 15.1875 63.9375 \nQ 23.390625 74.21875 37.203125 74.21875 \nQ 40.921875 74.21875 44.703125 73.484375 \nQ 48.484375 72.75 52.59375 71.296875 \nz\n\" id=\"DejaVuSans-54\"/>\n       </defs>\n       <use xlink:href=\"#DejaVuSans-48\"/>\n       <use x=\"63.623047\" xlink:href=\"#DejaVuSans-46\"/>\n       <use x=\"95.410156\" xlink:href=\"#DejaVuSans-54\"/>\n      </g>\n     </g>\n    </g>\n    <g id=\"xtick_2\">\n     <g id=\"line2d_3\">\n      <path clip-path=\"url(#paa2c636ff6)\" d=\"M 121.202414 143.1 \nL 121.202414 7.2 \n\" style=\"fill:none;stroke:#b0b0b0;stroke-linecap:square;stroke-width:0.8;\"/>\n     </g>\n     <g id=\"line2d_4\">\n      <g>\n       <use style=\"stroke:#000000;stroke-width:0.8;\" x=\"121.202414\" xlink:href=\"#ma149c56568\" y=\"143.1\"/>\n      </g>\n     </g>\n     <g id=\"text_2\">\n      <!-- 0.8 -->\n      <g transform=\"translate(113.250852 157.698438)scale(0.1 -0.1)\">\n       <defs>\n        <path d=\"M 31.78125 34.625 \nQ 24.75 34.625 20.71875 30.859375 \nQ 16.703125 27.09375 16.703125 20.515625 \nQ 16.703125 13.921875 20.71875 10.15625 \nQ 24.75 6.390625 31.78125 6.390625 \nQ 38.8125 6.390625 42.859375 10.171875 \nQ 46.921875 13.96875 46.921875 20.515625 \nQ 46.921875 27.09375 42.890625 30.859375 \nQ 38.875 34.625 31.78125 34.625 \nz\nM 21.921875 38.8125 \nQ 15.578125 40.375 12.03125 44.71875 \nQ 8.5 49.078125 8.5 55.328125 \nQ 8.5 64.0625 14.71875 69.140625 \nQ 20.953125 74.21875 31.78125 74.21875 \nQ 42.671875 74.21875 48.875 69.140625 \nQ 55.078125 64.0625 55.078125 55.328125 \nQ 55.078125 49.078125 51.53125 44.71875 \nQ 48 40.375 41.703125 38.8125 \nQ 48.828125 37.15625 52.796875 32.3125 \nQ 56.78125 27.484375 56.78125 20.515625 \nQ 56.78125 9.90625 50.3125 4.234375 \nQ 43.84375 -1.421875 31.78125 -1.421875 \nQ 19.734375 -1.421875 13.25 4.234375 \nQ 6.78125 9.90625 6.78125 20.515625 \nQ 6.78125 27.484375 10.78125 32.3125 \nQ 14.796875 37.15625 21.921875 38.8125 \nz\nM 18.3125 54.390625 \nQ 18.3125 48.734375 21.84375 45.5625 \nQ 25.390625 42.390625 31.78125 42.390625 \nQ 38.140625 42.390625 41.71875 45.5625 \nQ 45.3125 48.734375 45.3125 54.390625 \nQ 45.3125 60.0625 41.71875 63.234375 \nQ 38.140625 66.40625 31.78125 66.40625 \nQ 25.390625 66.40625 21.84375 63.234375 \nQ 18.3125 60.0625 18.3125 54.390625 \nz\n\" id=\"DejaVuSans-56\"/>\n       </defs>\n       <use xlink:href=\"#DejaVuSans-48\"/>\n       <use x=\"63.623047\" xlink:href=\"#DejaVuSans-46\"/>\n       <use x=\"95.410156\" xlink:href=\"#DejaVuSans-56\"/>\n      </g>\n     </g>\n    </g>\n    <g id=\"xtick_3\">\n     <g id=\"line2d_5\">\n      <path clip-path=\"url(#paa2c636ff6)\" d=\"M 157.070217 143.1 \nL 157.070217 7.2 \n\" style=\"fill:none;stroke:#b0b0b0;stroke-linecap:square;stroke-width:0.8;\"/>\n     </g>\n     <g id=\"line2d_6\">\n      <g>\n       <use style=\"stroke:#000000;stroke-width:0.8;\" x=\"157.070217\" xlink:href=\"#ma149c56568\" y=\"143.1\"/>\n      </g>\n     </g>\n     <g id=\"text_3\">\n      <!-- 1.0 -->\n      <g transform=\"translate(149.118655 157.698438)scale(0.1 -0.1)\">\n       <defs>\n        <path d=\"M 12.40625 8.296875 \nL 28.515625 8.296875 \nL 28.515625 63.921875 \nL 10.984375 60.40625 \nL 10.984375 69.390625 \nL 28.421875 72.90625 \nL 38.28125 72.90625 \nL 38.28125 8.296875 \nL 54.390625 8.296875 \nL 54.390625 0 \nL 12.40625 0 \nz\n\" id=\"DejaVuSans-49\"/>\n       </defs>\n       <use xlink:href=\"#DejaVuSans-49\"/>\n       <use x=\"63.623047\" xlink:href=\"#DejaVuSans-46\"/>\n       <use x=\"95.410156\" xlink:href=\"#DejaVuSans-48\"/>\n      </g>\n     </g>\n    </g>\n    <g id=\"xtick_4\">\n     <g id=\"line2d_7\">\n      <path clip-path=\"url(#paa2c636ff6)\" d=\"M 192.93802 143.1 \nL 192.93802 7.2 \n\" style=\"fill:none;stroke:#b0b0b0;stroke-linecap:square;stroke-width:0.8;\"/>\n     </g>\n     <g id=\"line2d_8\">\n      <g>\n       <use style=\"stroke:#000000;stroke-width:0.8;\" x=\"192.93802\" xlink:href=\"#ma149c56568\" y=\"143.1\"/>\n      </g>\n     </g>\n     <g id=\"text_4\">\n      <!-- 1.2 -->\n      <g transform=\"translate(184.986458 157.698438)scale(0.1 -0.1)\">\n       <defs>\n        <path d=\"M 19.1875 8.296875 \nL 53.609375 8.296875 \nL 53.609375 0 \nL 7.328125 0 \nL 7.328125 8.296875 \nQ 12.9375 14.109375 22.625 23.890625 \nQ 32.328125 33.6875 34.8125 36.53125 \nQ 39.546875 41.84375 41.421875 45.53125 \nQ 43.3125 49.21875 43.3125 52.78125 \nQ 43.3125 58.59375 39.234375 62.25 \nQ 35.15625 65.921875 28.609375 65.921875 \nQ 23.96875 65.921875 18.8125 64.3125 \nQ 13.671875 62.703125 7.8125 59.421875 \nL 7.8125 69.390625 \nQ 13.765625 71.78125 18.9375 73 \nQ 24.125 74.21875 28.421875 74.21875 \nQ 39.75 74.21875 46.484375 68.546875 \nQ 53.21875 62.890625 53.21875 53.421875 \nQ 53.21875 48.921875 51.53125 44.890625 \nQ 49.859375 40.875 45.40625 35.40625 \nQ 44.1875 33.984375 37.640625 27.21875 \nQ 31.109375 20.453125 19.1875 8.296875 \nz\n\" id=\"DejaVuSans-50\"/>\n       </defs>\n       <use xlink:href=\"#DejaVuSans-49\"/>\n       <use x=\"63.623047\" xlink:href=\"#DejaVuSans-46\"/>\n       <use x=\"95.410156\" xlink:href=\"#DejaVuSans-50\"/>\n      </g>\n     </g>\n    </g>\n    <g id=\"xtick_5\">\n     <g id=\"line2d_9\">\n      <path clip-path=\"url(#paa2c636ff6)\" d=\"M 228.805823 143.1 \nL 228.805823 7.2 \n\" style=\"fill:none;stroke:#b0b0b0;stroke-linecap:square;stroke-width:0.8;\"/>\n     </g>\n     <g id=\"line2d_10\">\n      <g>\n       <use style=\"stroke:#000000;stroke-width:0.8;\" x=\"228.805823\" xlink:href=\"#ma149c56568\" y=\"143.1\"/>\n      </g>\n     </g>\n     <g id=\"text_5\">\n      <!-- 1.4 -->\n      <g transform=\"translate(220.85426 157.698438)scale(0.1 -0.1)\">\n       <defs>\n        <path d=\"M 37.796875 64.3125 \nL 12.890625 25.390625 \nL 37.796875 25.390625 \nz\nM 35.203125 72.90625 \nL 47.609375 72.90625 \nL 47.609375 25.390625 \nL 58.015625 25.390625 \nL 58.015625 17.1875 \nL 47.609375 17.1875 \nL 47.609375 0 \nL 37.796875 0 \nL 37.796875 17.1875 \nL 4.890625 17.1875 \nL 4.890625 26.703125 \nz\n\" id=\"DejaVuSans-52\"/>\n       </defs>\n       <use xlink:href=\"#DejaVuSans-49\"/>\n       <use x=\"63.623047\" xlink:href=\"#DejaVuSans-46\"/>\n       <use x=\"95.410156\" xlink:href=\"#DejaVuSans-52\"/>\n      </g>\n     </g>\n    </g>\n    <g id=\"text_6\">\n     <!-- x -->\n     <g transform=\"translate(153.214063 171.376563)scale(0.1 -0.1)\">\n      <defs>\n       <path d=\"M 54.890625 54.6875 \nL 35.109375 28.078125 \nL 55.90625 0 \nL 45.3125 0 \nL 29.390625 21.484375 \nL 13.484375 0 \nL 2.875 0 \nL 24.125 28.609375 \nL 4.6875 54.6875 \nL 15.28125 54.6875 \nL 29.78125 35.203125 \nL 44.28125 54.6875 \nz\n\" id=\"DejaVuSans-120\"/>\n      </defs>\n      <use xlink:href=\"#DejaVuSans-120\"/>\n     </g>\n    </g>\n   </g>\n   <g id=\"matplotlib.axis_2\">\n    <g id=\"ytick_1\">\n     <g id=\"line2d_11\">\n      <path clip-path=\"url(#paa2c636ff6)\" d=\"M 58.523438 141.197148 \nL 253.823438 141.197148 \n\" style=\"fill:none;stroke:#b0b0b0;stroke-linecap:square;stroke-width:0.8;\"/>\n     </g>\n     <g id=\"line2d_12\">\n      <defs>\n       <path d=\"M 0 0 \nL -3.5 0 \n\" id=\"m93df7acbb7\" style=\"stroke:#000000;stroke-width:0.8;\"/>\n      </defs>\n      <g>\n       <use style=\"stroke:#000000;stroke-width:0.8;\" x=\"58.523438\" xlink:href=\"#m93df7acbb7\" y=\"141.197148\"/>\n      </g>\n     </g>\n     <g id=\"text_7\">\n      <!-- −1.25 -->\n      <g transform=\"translate(20.878125 144.996367)scale(0.1 -0.1)\">\n       <defs>\n        <path d=\"M 10.59375 35.5 \nL 73.1875 35.5 \nL 73.1875 27.203125 \nL 10.59375 27.203125 \nz\n\" id=\"DejaVuSans-8722\"/>\n        <path d=\"M 10.796875 72.90625 \nL 49.515625 72.90625 \nL 49.515625 64.59375 \nL 19.828125 64.59375 \nL 19.828125 46.734375 \nQ 21.96875 47.46875 24.109375 47.828125 \nQ 26.265625 48.1875 28.421875 48.1875 \nQ 40.625 48.1875 47.75 41.5 \nQ 54.890625 34.8125 54.890625 23.390625 \nQ 54.890625 11.625 47.5625 5.09375 \nQ 40.234375 -1.421875 26.90625 -1.421875 \nQ 22.3125 -1.421875 17.546875 -0.640625 \nQ 12.796875 0.140625 7.71875 1.703125 \nL 7.71875 11.625 \nQ 12.109375 9.234375 16.796875 8.0625 \nQ 21.484375 6.890625 26.703125 6.890625 \nQ 35.15625 6.890625 40.078125 11.328125 \nQ 45.015625 15.765625 45.015625 23.390625 \nQ 45.015625 31 40.078125 35.4375 \nQ 35.15625 39.890625 26.703125 39.890625 \nQ 22.75 39.890625 18.8125 39.015625 \nQ 14.890625 38.140625 10.796875 36.28125 \nz\n\" id=\"DejaVuSans-53\"/>\n       </defs>\n       <use xlink:href=\"#DejaVuSans-8722\"/>\n       <use x=\"83.789062\" xlink:href=\"#DejaVuSans-49\"/>\n       <use x=\"147.412109\" xlink:href=\"#DejaVuSans-46\"/>\n       <use x=\"179.199219\" xlink:href=\"#DejaVuSans-50\"/>\n       <use x=\"242.822266\" xlink:href=\"#DejaVuSans-53\"/>\n      </g>\n     </g>\n    </g>\n    <g id=\"ytick_2\">\n     <g id=\"line2d_13\">\n      <path clip-path=\"url(#paa2c636ff6)\" d=\"M 58.523438 115.633173 \nL 253.823438 115.633173 \n\" style=\"fill:none;stroke:#b0b0b0;stroke-linecap:square;stroke-width:0.8;\"/>\n     </g>\n     <g id=\"line2d_14\">\n      <g>\n       <use style=\"stroke:#000000;stroke-width:0.8;\" x=\"58.523438\" xlink:href=\"#m93df7acbb7\" y=\"115.633173\"/>\n      </g>\n     </g>\n     <g id=\"text_8\">\n      <!-- −1.00 -->\n      <g transform=\"translate(20.878125 119.432392)scale(0.1 -0.1)\">\n       <use xlink:href=\"#DejaVuSans-8722\"/>\n       <use x=\"83.789062\" xlink:href=\"#DejaVuSans-49\"/>\n       <use x=\"147.412109\" xlink:href=\"#DejaVuSans-46\"/>\n       <use x=\"179.199219\" xlink:href=\"#DejaVuSans-48\"/>\n       <use x=\"242.822266\" xlink:href=\"#DejaVuSans-48\"/>\n      </g>\n     </g>\n    </g>\n    <g id=\"ytick_3\">\n     <g id=\"line2d_15\">\n      <path clip-path=\"url(#paa2c636ff6)\" d=\"M 58.523438 90.069198 \nL 253.823438 90.069198 \n\" style=\"fill:none;stroke:#b0b0b0;stroke-linecap:square;stroke-width:0.8;\"/>\n     </g>\n     <g id=\"line2d_16\">\n      <g>\n       <use style=\"stroke:#000000;stroke-width:0.8;\" x=\"58.523438\" xlink:href=\"#m93df7acbb7\" y=\"90.069198\"/>\n      </g>\n     </g>\n     <g id=\"text_9\">\n      <!-- −0.75 -->\n      <g transform=\"translate(20.878125 93.868417)scale(0.1 -0.1)\">\n       <defs>\n        <path d=\"M 8.203125 72.90625 \nL 55.078125 72.90625 \nL 55.078125 68.703125 \nL 28.609375 0 \nL 18.3125 0 \nL 43.21875 64.59375 \nL 8.203125 64.59375 \nz\n\" id=\"DejaVuSans-55\"/>\n       </defs>\n       <use xlink:href=\"#DejaVuSans-8722\"/>\n       <use x=\"83.789062\" xlink:href=\"#DejaVuSans-48\"/>\n       <use x=\"147.412109\" xlink:href=\"#DejaVuSans-46\"/>\n       <use x=\"179.199219\" xlink:href=\"#DejaVuSans-55\"/>\n       <use x=\"242.822266\" xlink:href=\"#DejaVuSans-53\"/>\n      </g>\n     </g>\n    </g>\n    <g id=\"ytick_4\">\n     <g id=\"line2d_17\">\n      <path clip-path=\"url(#paa2c636ff6)\" d=\"M 58.523438 64.505223 \nL 253.823438 64.505223 \n\" style=\"fill:none;stroke:#b0b0b0;stroke-linecap:square;stroke-width:0.8;\"/>\n     </g>\n     <g id=\"line2d_18\">\n      <g>\n       <use style=\"stroke:#000000;stroke-width:0.8;\" x=\"58.523438\" xlink:href=\"#m93df7acbb7\" y=\"64.505223\"/>\n      </g>\n     </g>\n     <g id=\"text_10\">\n      <!-- −0.50 -->\n      <g transform=\"translate(20.878125 68.304442)scale(0.1 -0.1)\">\n       <use xlink:href=\"#DejaVuSans-8722\"/>\n       <use x=\"83.789062\" xlink:href=\"#DejaVuSans-48\"/>\n       <use x=\"147.412109\" xlink:href=\"#DejaVuSans-46\"/>\n       <use x=\"179.199219\" xlink:href=\"#DejaVuSans-53\"/>\n       <use x=\"242.822266\" xlink:href=\"#DejaVuSans-48\"/>\n      </g>\n     </g>\n    </g>\n    <g id=\"ytick_5\">\n     <g id=\"line2d_19\">\n      <path clip-path=\"url(#paa2c636ff6)\" d=\"M 58.523438 38.941248 \nL 253.823438 38.941248 \n\" style=\"fill:none;stroke:#b0b0b0;stroke-linecap:square;stroke-width:0.8;\"/>\n     </g>\n     <g id=\"line2d_20\">\n      <g>\n       <use style=\"stroke:#000000;stroke-width:0.8;\" x=\"58.523438\" xlink:href=\"#m93df7acbb7\" y=\"38.941248\"/>\n      </g>\n     </g>\n     <g id=\"text_11\">\n      <!-- −0.25 -->\n      <g transform=\"translate(20.878125 42.740467)scale(0.1 -0.1)\">\n       <use xlink:href=\"#DejaVuSans-8722\"/>\n       <use x=\"83.789062\" xlink:href=\"#DejaVuSans-48\"/>\n       <use x=\"147.412109\" xlink:href=\"#DejaVuSans-46\"/>\n       <use x=\"179.199219\" xlink:href=\"#DejaVuSans-50\"/>\n       <use x=\"242.822266\" xlink:href=\"#DejaVuSans-53\"/>\n      </g>\n     </g>\n    </g>\n    <g id=\"ytick_6\">\n     <g id=\"line2d_21\">\n      <path clip-path=\"url(#paa2c636ff6)\" d=\"M 58.523438 13.377273 \nL 253.823438 13.377273 \n\" style=\"fill:none;stroke:#b0b0b0;stroke-linecap:square;stroke-width:0.8;\"/>\n     </g>\n     <g id=\"line2d_22\">\n      <g>\n       <use style=\"stroke:#000000;stroke-width:0.8;\" x=\"58.523438\" xlink:href=\"#m93df7acbb7\" y=\"13.377273\"/>\n      </g>\n     </g>\n     <g id=\"text_12\">\n      <!-- 0.00 -->\n      <g transform=\"translate(29.257812 17.176492)scale(0.1 -0.1)\">\n       <use xlink:href=\"#DejaVuSans-48\"/>\n       <use x=\"63.623047\" xlink:href=\"#DejaVuSans-46\"/>\n       <use x=\"95.410156\" xlink:href=\"#DejaVuSans-48\"/>\n       <use x=\"159.033203\" xlink:href=\"#DejaVuSans-48\"/>\n      </g>\n     </g>\n    </g>\n    <g id=\"text_13\">\n     <!-- risk -->\n     <g transform=\"translate(14.798437 84.094531)rotate(-90)scale(0.1 -0.1)\">\n      <defs>\n       <path d=\"M 41.109375 46.296875 \nQ 39.59375 47.171875 37.8125 47.578125 \nQ 36.03125 48 33.890625 48 \nQ 26.265625 48 22.1875 43.046875 \nQ 18.109375 38.09375 18.109375 28.8125 \nL 18.109375 0 \nL 9.078125 0 \nL 9.078125 54.6875 \nL 18.109375 54.6875 \nL 18.109375 46.1875 \nQ 20.953125 51.171875 25.484375 53.578125 \nQ 30.03125 56 36.53125 56 \nQ 37.453125 56 38.578125 55.875 \nQ 39.703125 55.765625 41.0625 55.515625 \nz\n\" id=\"DejaVuSans-114\"/>\n       <path d=\"M 9.421875 54.6875 \nL 18.40625 54.6875 \nL 18.40625 0 \nL 9.421875 0 \nz\nM 9.421875 75.984375 \nL 18.40625 75.984375 \nL 18.40625 64.59375 \nL 9.421875 64.59375 \nz\n\" id=\"DejaVuSans-105\"/>\n       <path d=\"M 44.28125 53.078125 \nL 44.28125 44.578125 \nQ 40.484375 46.53125 36.375 47.5 \nQ 32.28125 48.484375 27.875 48.484375 \nQ 21.1875 48.484375 17.84375 46.4375 \nQ 14.5 44.390625 14.5 40.28125 \nQ 14.5 37.15625 16.890625 35.375 \nQ 19.28125 33.59375 26.515625 31.984375 \nL 29.59375 31.296875 \nQ 39.15625 29.25 43.1875 25.515625 \nQ 47.21875 21.78125 47.21875 15.09375 \nQ 47.21875 7.46875 41.1875 3.015625 \nQ 35.15625 -1.421875 24.609375 -1.421875 \nQ 20.21875 -1.421875 15.453125 -0.5625 \nQ 10.6875 0.296875 5.421875 2 \nL 5.421875 11.28125 \nQ 10.40625 8.6875 15.234375 7.390625 \nQ 20.0625 6.109375 24.8125 6.109375 \nQ 31.15625 6.109375 34.5625 8.28125 \nQ 37.984375 10.453125 37.984375 14.40625 \nQ 37.984375 18.0625 35.515625 20.015625 \nQ 33.0625 21.96875 24.703125 23.78125 \nL 21.578125 24.515625 \nQ 13.234375 26.265625 9.515625 29.90625 \nQ 5.8125 33.546875 5.8125 39.890625 \nQ 5.8125 47.609375 11.28125 51.796875 \nQ 16.75 56 26.8125 56 \nQ 31.78125 56 36.171875 55.265625 \nQ 40.578125 54.546875 44.28125 53.078125 \nz\n\" id=\"DejaVuSans-115\"/>\n       <path d=\"M 9.078125 75.984375 \nL 18.109375 75.984375 \nL 18.109375 31.109375 \nL 44.921875 54.6875 \nL 56.390625 54.6875 \nL 27.390625 29.109375 \nL 57.625 0 \nL 45.90625 0 \nL 18.109375 26.703125 \nL 18.109375 0 \nL 9.078125 0 \nz\n\" id=\"DejaVuSans-107\"/>\n      </defs>\n      <use xlink:href=\"#DejaVuSans-114\"/>\n      <use x=\"41.113281\" xlink:href=\"#DejaVuSans-105\"/>\n      <use x=\"68.896484\" xlink:href=\"#DejaVuSans-115\"/>\n      <use x=\"120.996094\" xlink:href=\"#DejaVuSans-107\"/>\n     </g>\n    </g>\n   </g>\n   <g id=\"line2d_23\">\n    <path clip-path=\"url(#paa2c636ff6)\" d=\"M 67.40071 13.377276 \nL 69.194099 15.015363 \nL 70.987487 16.716035 \nL 72.780876 18.47753 \nL 74.574264 20.297945 \nL 76.367652 22.175256 \nL 78.161041 24.107338 \nL 79.954429 26.091932 \nL 81.747818 28.126663 \nL 83.541206 30.209065 \nL 85.334595 32.336539 \nL 87.127983 34.506401 \nL 88.921371 36.715853 \nL 90.71476 38.961995 \nL 92.508148 41.241848 \nL 94.301537 43.552328 \nL 96.094925 45.890269 \nL 97.888314 48.252413 \nL 99.681702 50.635419 \nL 101.47509 53.035909 \nL 103.268479 55.450387 \nL 105.061867 57.875318 \nL 106.855256 60.307096 \nL 108.648644 62.742037 \nL 110.442033 65.176464 \nL 112.235421 67.606596 \nL 114.028809 70.028641 \nL 115.822198 72.438739 \nL 117.615586 74.833046 \nL 119.408975 77.207635 \nL 121.202363 79.558613 \nL 122.995752 81.882042 \nL 124.78914 84.173966 \nL 126.582528 86.430448 \nL 128.375917 88.647532 \nL 130.169305 90.821276 \nL 131.962694 92.947765 \nL 133.756082 95.023075 \nL 135.549471 97.043324 \nL 137.342859 99.004647 \nL 139.136247 100.903229 \nL 140.929636 102.735285 \nL 142.723024 104.497084 \nL 144.516413 106.184928 \nL 146.309801 107.795201 \nL 148.10319 109.324327 \nL 149.896578 110.768812 \nL 151.689966 112.125238 \nL 153.483355 113.390258 \nL 155.276743 114.560612 \nL 157.070132 115.633124 \nL 158.86352 116.604729 \nL 160.656909 117.472439 \nL 162.450297 118.233391 \nL 164.243685 118.884804 \nL 166.037074 119.424059 \nL 167.830462 119.848595 \nL 169.623851 120.156035 \nL 171.417239 120.344076 \nL 173.210628 120.410584 \nL 175.004016 120.353523 \nL 176.797404 120.171053 \nL 178.590793 119.861431 \nL 180.384181 119.423084 \nL 182.17757 118.854561 \nL 183.970958 118.154595 \nL 185.764347 117.322065 \nL 187.557735 116.355995 \nL 189.351123 115.255605 \nL 191.144512 114.02026 \nL 192.9379 112.649481 \nL 194.731289 111.142968 \nL 196.524677 109.500604 \nL 198.318066 107.722428 \nL 200.111454 105.808663 \nL 201.904842 103.759726 \nL 203.698231 101.576145 \nL 205.491619 99.258702 \nL 207.285008 96.80831 \nL 209.078396 94.22609 \nL 210.871785 91.513324 \nL 212.665173 88.671473 \nL 214.458561 85.702189 \nL 216.25195 82.607344 \nL 218.045338 79.388833 \nL 219.838727 76.04888 \nL 221.632115 72.589845 \nL 223.425504 69.014244 \nL 225.218892 65.324784 \nL 227.01228 61.524332 \nL 228.805669 57.615924 \nL 230.599057 53.602762 \nL 232.392446 49.488211 \nL 234.185834 45.275803 \nL 235.979223 40.969295 \nL 237.772611 36.572388 \nL 239.565999 32.089143 \nL 241.359388 27.523698 \nL 243.152776 22.880339 \nL 244.946165 18.16349 \n\" style=\"fill:none;stroke:#1f77b4;stroke-linecap:square;stroke-width:1.5;\"/>\n   </g>\n   <g id=\"line2d_24\">\n    <path clip-path=\"url(#paa2c636ff6)\" d=\"M 67.40071 13.377273 \nL 69.194099 18.214622 \nL 70.987487 23.035788 \nL 72.780876 27.762163 \nL 74.574264 32.318842 \nL 76.367652 36.636406 \nL 78.161041 40.652676 \nL 79.954429 44.314057 \nL 81.747818 47.576885 \nL 83.541206 50.40845 \nL 85.334595 52.787721 \nL 87.127983 54.7058 \nL 88.921371 56.166093 \nL 90.71476 57.184147 \nL 92.508148 57.787231 \nL 94.301537 58.013535 \nL 96.094925 57.911214 \nL 97.888314 57.537098 \nL 99.681702 56.955246 \nL 101.47509 56.235243 \nL 103.268479 55.450451 \nL 105.061867 54.676112 \nL 106.855256 53.987391 \nL 108.648644 53.457468 \nL 110.442033 53.155626 \nL 112.235421 53.145481 \nL 114.028809 53.483335 \nL 115.822198 54.216646 \nL 117.615586 55.382846 \nL 119.408975 57.008256 \nL 121.202363 59.107434 \nL 122.995752 61.682632 \nL 124.78914 64.723702 \nL 126.582528 68.208263 \nL 128.375917 72.102116 \nL 130.169305 76.360032 \nL 131.962694 80.926766 \nL 133.756082 85.738326 \nL 135.549471 90.723452 \nL 137.342859 95.805262 \nL 139.136247 100.903095 \nL 140.929636 105.93442 \nL 142.723024 110.816718 \nL 144.516413 115.469451 \nL 146.309801 119.815999 \nL 148.10319 123.785393 \nL 149.896578 127.314076 \nL 151.689966 130.347301 \nL 153.483355 132.840443 \nL 155.276743 134.759979 \nL 157.070132 136.084309 \nL 158.86352 136.804144 \nL 160.656909 136.922727 \nL 162.450297 136.455612 \nL 164.243685 135.430263 \nL 166.037074 133.885345 \nL 167.830462 131.869643 \nL 169.623851 129.440827 \nL 171.417239 126.664003 \nL 173.210628 123.610018 \nL 175.004016 120.35373 \nL 176.797404 116.971985 \nL 178.590793 113.541864 \nL 180.384181 110.138621 \nL 182.17757 106.833824 \nL 183.970958 103.693572 \nL 185.764347 100.776826 \nL 187.557735 98.13395 \nL 189.351123 95.805438 \nL 191.144512 93.820906 \nL 192.9379 92.198302 \nL 194.731289 90.94354 \nL 196.524677 90.050304 \nL 198.318066 89.500188 \nL 200.111454 89.263181 \nL 201.904842 89.298397 \nL 203.698231 89.555061 \nL 205.491619 89.973861 \nL 207.285008 90.488298 \nL 209.078396 91.026565 \nL 210.871785 91.513068 \nL 212.665173 91.870487 \nL 214.458561 92.021708 \nL 216.25195 91.891758 \nL 218.045338 91.409527 \nL 219.838727 90.509874 \nL 221.632115 89.135029 \nL 223.425504 87.236246 \nL 225.218892 84.774926 \nL 227.01228 81.723677 \nL 228.805669 78.067105 \nL 230.599057 73.802199 \nL 232.392446 68.938527 \nL 234.185834 63.498067 \nL 235.979223 57.514812 \nL 237.772611 51.033784 \nL 239.565999 44.110301 \nL 241.359388 36.808621 \nL 243.152776 29.200399 \nL 244.946165 21.363067 \n\" style=\"fill:none;stroke:#bf00bf;stroke-dasharray:5.55,2.4;stroke-dashoffset:0;stroke-width:1.5;\"/>\n   </g>\n   <g id=\"patch_3\">\n    <path d=\"M 58.523438 143.1 \nL 58.523438 7.2 \n\" style=\"fill:none;stroke:#000000;stroke-linecap:square;stroke-linejoin:miter;stroke-width:0.8;\"/>\n   </g>\n   <g id=\"patch_4\">\n    <path d=\"M 253.823438 143.1 \nL 253.823438 7.2 \n\" style=\"fill:none;stroke:#000000;stroke-linecap:square;stroke-linejoin:miter;stroke-width:0.8;\"/>\n   </g>\n   <g id=\"patch_5\">\n    <path d=\"M 58.523437 143.1 \nL 253.823438 143.1 \n\" style=\"fill:none;stroke:#000000;stroke-linecap:square;stroke-linejoin:miter;stroke-width:0.8;\"/>\n   </g>\n   <g id=\"patch_6\">\n    <path d=\"M 58.523437 7.2 \nL 253.823438 7.2 \n\" style=\"fill:none;stroke:#000000;stroke-linecap:square;stroke-linejoin:miter;stroke-width:0.8;\"/>\n   </g>\n   <g id=\"patch_7\">\n    <path d=\"M 138.678422 129.978644 \nQ 146.924646 132.716226 154.109779 135.101547 \n\" style=\"fill:none;stroke:#000000;stroke-linecap:round;\"/>\n    <path d=\"M 150.943651 131.943124 \nL 154.109779 135.101547 \nL 149.683364 135.739396 \n\" style=\"fill:none;stroke:#000000;stroke-linecap:round;\"/>\n   </g>\n   <g id=\"text_14\">\n    <!-- min of -->\n    <g transform=\"translate(67.40071 114.660951)scale(0.1 -0.1)\">\n     <defs>\n      <path d=\"M 52 44.1875 \nQ 55.375 50.25 60.0625 53.125 \nQ 64.75 56 71.09375 56 \nQ 79.640625 56 84.28125 50.015625 \nQ 88.921875 44.046875 88.921875 33.015625 \nL 88.921875 0 \nL 79.890625 0 \nL 79.890625 32.71875 \nQ 79.890625 40.578125 77.09375 44.375 \nQ 74.3125 48.1875 68.609375 48.1875 \nQ 61.625 48.1875 57.5625 43.546875 \nQ 53.515625 38.921875 53.515625 30.90625 \nL 53.515625 0 \nL 44.484375 0 \nL 44.484375 32.71875 \nQ 44.484375 40.625 41.703125 44.40625 \nQ 38.921875 48.1875 33.109375 48.1875 \nQ 26.21875 48.1875 22.15625 43.53125 \nQ 18.109375 38.875 18.109375 30.90625 \nL 18.109375 0 \nL 9.078125 0 \nL 9.078125 54.6875 \nL 18.109375 54.6875 \nL 18.109375 46.1875 \nQ 21.1875 51.21875 25.484375 53.609375 \nQ 29.78125 56 35.6875 56 \nQ 41.65625 56 45.828125 52.96875 \nQ 50 49.953125 52 44.1875 \nz\n\" id=\"DejaVuSans-109\"/>\n      <path d=\"M 54.890625 33.015625 \nL 54.890625 0 \nL 45.90625 0 \nL 45.90625 32.71875 \nQ 45.90625 40.484375 42.875 44.328125 \nQ 39.84375 48.1875 33.796875 48.1875 \nQ 26.515625 48.1875 22.3125 43.546875 \nQ 18.109375 38.921875 18.109375 30.90625 \nL 18.109375 0 \nL 9.078125 0 \nL 9.078125 54.6875 \nL 18.109375 54.6875 \nL 18.109375 46.1875 \nQ 21.34375 51.125 25.703125 53.5625 \nQ 30.078125 56 35.796875 56 \nQ 45.21875 56 50.046875 50.171875 \nQ 54.890625 44.34375 54.890625 33.015625 \nz\n\" id=\"DejaVuSans-110\"/>\n      <path id=\"DejaVuSans-32\"/>\n      <path d=\"M 30.609375 48.390625 \nQ 23.390625 48.390625 19.1875 42.75 \nQ 14.984375 37.109375 14.984375 27.296875 \nQ 14.984375 17.484375 19.15625 11.84375 \nQ 23.34375 6.203125 30.609375 6.203125 \nQ 37.796875 6.203125 41.984375 11.859375 \nQ 46.1875 17.53125 46.1875 27.296875 \nQ 46.1875 37.015625 41.984375 42.703125 \nQ 37.796875 48.390625 30.609375 48.390625 \nz\nM 30.609375 56 \nQ 42.328125 56 49.015625 48.375 \nQ 55.71875 40.765625 55.71875 27.296875 \nQ 55.71875 13.875 49.015625 6.21875 \nQ 42.328125 -1.421875 30.609375 -1.421875 \nQ 18.84375 -1.421875 12.171875 6.21875 \nQ 5.515625 13.875 5.515625 27.296875 \nQ 5.515625 40.765625 12.171875 48.375 \nQ 18.84375 56 30.609375 56 \nz\n\" id=\"DejaVuSans-111\"/>\n      <path d=\"M 37.109375 75.984375 \nL 37.109375 68.5 \nL 28.515625 68.5 \nQ 23.6875 68.5 21.796875 66.546875 \nQ 19.921875 64.59375 19.921875 59.515625 \nL 19.921875 54.6875 \nL 34.71875 54.6875 \nL 34.71875 47.703125 \nL 19.921875 47.703125 \nL 19.921875 0 \nL 10.890625 0 \nL 10.890625 47.703125 \nL 2.296875 47.703125 \nL 2.296875 54.6875 \nL 10.890625 54.6875 \nL 10.890625 58.5 \nQ 10.890625 67.625 15.140625 71.796875 \nQ 19.390625 75.984375 28.609375 75.984375 \nz\n\" id=\"DejaVuSans-102\"/>\n     </defs>\n     <use xlink:href=\"#DejaVuSans-109\"/>\n     <use x=\"97.412109\" xlink:href=\"#DejaVuSans-105\"/>\n     <use x=\"125.195312\" xlink:href=\"#DejaVuSans-110\"/>\n     <use x=\"188.574219\" xlink:href=\"#DejaVuSans-32\"/>\n     <use x=\"220.361328\" xlink:href=\"#DejaVuSans-111\"/>\n     <use x=\"281.542969\" xlink:href=\"#DejaVuSans-102\"/>\n    </g>\n    <!-- empirical risk -->\n    <g transform=\"translate(67.40071 125.858763)scale(0.1 -0.1)\">\n     <defs>\n      <path d=\"M 56.203125 29.59375 \nL 56.203125 25.203125 \nL 14.890625 25.203125 \nQ 15.484375 15.921875 20.484375 11.0625 \nQ 25.484375 6.203125 34.421875 6.203125 \nQ 39.59375 6.203125 44.453125 7.46875 \nQ 49.3125 8.734375 54.109375 11.28125 \nL 54.109375 2.78125 \nQ 49.265625 0.734375 44.1875 -0.34375 \nQ 39.109375 -1.421875 33.890625 -1.421875 \nQ 20.796875 -1.421875 13.15625 6.1875 \nQ 5.515625 13.8125 5.515625 26.8125 \nQ 5.515625 40.234375 12.765625 48.109375 \nQ 20.015625 56 32.328125 56 \nQ 43.359375 56 49.78125 48.890625 \nQ 56.203125 41.796875 56.203125 29.59375 \nz\nM 47.21875 32.234375 \nQ 47.125 39.59375 43.09375 43.984375 \nQ 39.0625 48.390625 32.421875 48.390625 \nQ 24.90625 48.390625 20.390625 44.140625 \nQ 15.875 39.890625 15.1875 32.171875 \nz\n\" id=\"DejaVuSans-101\"/>\n      <path d=\"M 18.109375 8.203125 \nL 18.109375 -20.796875 \nL 9.078125 -20.796875 \nL 9.078125 54.6875 \nL 18.109375 54.6875 \nL 18.109375 46.390625 \nQ 20.953125 51.265625 25.265625 53.625 \nQ 29.59375 56 35.59375 56 \nQ 45.5625 56 51.78125 48.09375 \nQ 58.015625 40.1875 58.015625 27.296875 \nQ 58.015625 14.40625 51.78125 6.484375 \nQ 45.5625 -1.421875 35.59375 -1.421875 \nQ 29.59375 -1.421875 25.265625 0.953125 \nQ 20.953125 3.328125 18.109375 8.203125 \nz\nM 48.6875 27.296875 \nQ 48.6875 37.203125 44.609375 42.84375 \nQ 40.53125 48.484375 33.40625 48.484375 \nQ 26.265625 48.484375 22.1875 42.84375 \nQ 18.109375 37.203125 18.109375 27.296875 \nQ 18.109375 17.390625 22.1875 11.75 \nQ 26.265625 6.109375 33.40625 6.109375 \nQ 40.53125 6.109375 44.609375 11.75 \nQ 48.6875 17.390625 48.6875 27.296875 \nz\n\" id=\"DejaVuSans-112\"/>\n      <path d=\"M 48.78125 52.59375 \nL 48.78125 44.1875 \nQ 44.96875 46.296875 41.140625 47.34375 \nQ 37.3125 48.390625 33.40625 48.390625 \nQ 24.65625 48.390625 19.8125 42.84375 \nQ 14.984375 37.3125 14.984375 27.296875 \nQ 14.984375 17.28125 19.8125 11.734375 \nQ 24.65625 6.203125 33.40625 6.203125 \nQ 37.3125 6.203125 41.140625 7.25 \nQ 44.96875 8.296875 48.78125 10.40625 \nL 48.78125 2.09375 \nQ 45.015625 0.34375 40.984375 -0.53125 \nQ 36.96875 -1.421875 32.421875 -1.421875 \nQ 20.0625 -1.421875 12.78125 6.34375 \nQ 5.515625 14.109375 5.515625 27.296875 \nQ 5.515625 40.671875 12.859375 48.328125 \nQ 20.21875 56 33.015625 56 \nQ 37.15625 56 41.109375 55.140625 \nQ 45.0625 54.296875 48.78125 52.59375 \nz\n\" id=\"DejaVuSans-99\"/>\n      <path d=\"M 34.28125 27.484375 \nQ 23.390625 27.484375 19.1875 25 \nQ 14.984375 22.515625 14.984375 16.5 \nQ 14.984375 11.71875 18.140625 8.90625 \nQ 21.296875 6.109375 26.703125 6.109375 \nQ 34.1875 6.109375 38.703125 11.40625 \nQ 43.21875 16.703125 43.21875 25.484375 \nL 43.21875 27.484375 \nz\nM 52.203125 31.203125 \nL 52.203125 0 \nL 43.21875 0 \nL 43.21875 8.296875 \nQ 40.140625 3.328125 35.546875 0.953125 \nQ 30.953125 -1.421875 24.3125 -1.421875 \nQ 15.921875 -1.421875 10.953125 3.296875 \nQ 6 8.015625 6 15.921875 \nQ 6 25.140625 12.171875 29.828125 \nQ 18.359375 34.515625 30.609375 34.515625 \nL 43.21875 34.515625 \nL 43.21875 35.40625 \nQ 43.21875 41.609375 39.140625 45 \nQ 35.0625 48.390625 27.6875 48.390625 \nQ 23 48.390625 18.546875 47.265625 \nQ 14.109375 46.140625 10.015625 43.890625 \nL 10.015625 52.203125 \nQ 14.9375 54.109375 19.578125 55.046875 \nQ 24.21875 56 28.609375 56 \nQ 40.484375 56 46.34375 49.84375 \nQ 52.203125 43.703125 52.203125 31.203125 \nz\n\" id=\"DejaVuSans-97\"/>\n      <path d=\"M 9.421875 75.984375 \nL 18.40625 75.984375 \nL 18.40625 0 \nL 9.421875 0 \nz\n\" id=\"DejaVuSans-108\"/>\n     </defs>\n     <use xlink:href=\"#DejaVuSans-101\"/>\n     <use x=\"61.523438\" xlink:href=\"#DejaVuSans-109\"/>\n     <use x=\"158.935547\" xlink:href=\"#DejaVuSans-112\"/>\n     <use x=\"222.412109\" xlink:href=\"#DejaVuSans-105\"/>\n     <use x=\"250.195312\" xlink:href=\"#DejaVuSans-114\"/>\n     <use x=\"291.308594\" xlink:href=\"#DejaVuSans-105\"/>\n     <use x=\"319.091797\" xlink:href=\"#DejaVuSans-99\"/>\n     <use x=\"374.072266\" xlink:href=\"#DejaVuSans-97\"/>\n     <use x=\"435.351562\" xlink:href=\"#DejaVuSans-108\"/>\n     <use x=\"463.134766\" xlink:href=\"#DejaVuSans-32\"/>\n     <use x=\"494.921875\" xlink:href=\"#DejaVuSans-114\"/>\n     <use x=\"536.035156\" xlink:href=\"#DejaVuSans-105\"/>\n     <use x=\"563.818359\" xlink:href=\"#DejaVuSans-115\"/>\n     <use x=\"615.917969\" xlink:href=\"#DejaVuSans-107\"/>\n    </g>\n   </g>\n   <g id=\"patch_8\">\n    <path d=\"M 174.553079 70.586846 \nQ 174.76961 94.666837 174.976089 117.62884 \n\" style=\"fill:none;stroke:#000000;stroke-linecap:round;\"/>\n    <path d=\"M 176.940041 113.611018 \nL 174.976089 117.62884 \nL 172.940202 113.646985 \n\" style=\"fill:none;stroke:#000000;stroke-linecap:round;\"/>\n   </g>\n   <g id=\"text_15\">\n    <!-- min of risk -->\n    <g transform=\"translate(148.103267 64.505223)scale(0.1 -0.1)\">\n     <use xlink:href=\"#DejaVuSans-109\"/>\n     <use x=\"97.412109\" xlink:href=\"#DejaVuSans-105\"/>\n     <use x=\"125.195312\" xlink:href=\"#DejaVuSans-110\"/>\n     <use x=\"188.574219\" xlink:href=\"#DejaVuSans-32\"/>\n     <use x=\"220.361328\" xlink:href=\"#DejaVuSans-111\"/>\n     <use x=\"281.542969\" xlink:href=\"#DejaVuSans-102\"/>\n     <use x=\"316.748047\" xlink:href=\"#DejaVuSans-32\"/>\n     <use x=\"348.535156\" xlink:href=\"#DejaVuSans-114\"/>\n     <use x=\"389.648438\" xlink:href=\"#DejaVuSans-105\"/>\n     <use x=\"417.431641\" xlink:href=\"#DejaVuSans-115\"/>\n     <use x=\"469.53125\" xlink:href=\"#DejaVuSans-107\"/>\n    </g>\n   </g>\n  </g>\n </g>\n <defs>\n  <clipPath id=\"paa2c636ff6\">\n   <rect height=\"135.9\" width=\"195.3\" x=\"58.523438\" y=\"7.2\"/>\n  </clipPath>\n </defs>\n</svg>\n",
      "text/plain": [
       "<Figure size 252x180 with 1 Axes>"
      ]
     },
     "metadata": {
      "needs_background": "light"
     },
     "output_type": "display_data"
    }
   ],
   "source": [
    "def annotate(text, xy, xytext):  #@save\n",
    "    d2l.plt.gca().annotate(text, xy=xy, xytext=xytext,\n",
    "                           arrowprops=dict(arrowstyle='->'))\n",
    "\n",
    "x = tf.range(0.5, 1.5, 0.01)\n",
    "d2l.set_figsize((4.5, 2.5))\n",
    "d2l.plot(x, [f(x), g(x)], 'x', 'risk')\n",
    "annotate('min of\\nempirical risk', (1.0, -1.2), (0.5, -1.1))\n",
    "annotate('min of risk', (1.1, -1.05), (0.95, -0.5))"
   ]
  },
  {
   "cell_type": "markdown",
   "metadata": {},
   "source": [
    "#### 11.1.2. 深度学习中的优化挑战¶\n",
    "在本章中，我们将特别关注优化算法在最小化目标函数方面的性能，而不是模型的泛化误差。在 3.1节中，我们区分了优化问题中的解析解和数值解。在深度学习中，大多数目标函数都很复杂，没有解析解。相反，我们必须使用数值优化算法。本章中的优化算法都属于此类别。\n",
    "\n",
    "深度学习优化存在许多挑战。其中一些最令人烦恼的是局部最小值、鞍点和梯度消失。让我们来看看它们。"
   ]
  },
  {
   "cell_type": "markdown",
   "metadata": {},
   "source": [
    "##### 11.1.2.1. 局部最小值\n",
    "对于任何目标函数f(x)，如果在x处对应的值f(x)小于在附近任何其他点的f(x)值，那么f(x)可能是局部最小值。如果f(x)在x处的值是整个域上目标函数的最小值，那么f(x)是全局最小值。\n",
    "\n",
    "例如给定函数："
   ]
  },
  {
   "cell_type": "markdown",
   "metadata": {},
   "source": [
    "$$f(x)=x*cos(\\pi*x)  \\quad for -1.0<=x<=2.0$$"
   ]
  },
  {
   "cell_type": "markdown",
   "metadata": {},
   "source": [
    "我们可以近似该函数的局部最小值和全局最小值。"
   ]
  },
  {
   "cell_type": "code",
   "execution_count": 18,
   "metadata": {
    "ExecuteTime": {
     "end_time": "2022-10-18T14:26:32.112678Z",
     "start_time": "2022-10-18T14:26:31.921316Z"
    }
   },
   "outputs": [
    {
     "data": {
      "image/svg+xml": "<?xml version=\"1.0\" encoding=\"utf-8\" standalone=\"no\"?>\n<!DOCTYPE svg PUBLIC \"-//W3C//DTD SVG 1.1//EN\"\n  \"http://www.w3.org/Graphics/SVG/1.1/DTD/svg11.dtd\">\n<!-- Created with matplotlib (https://matplotlib.org/) -->\n<svg height=\"180.65625pt\" version=\"1.1\" viewBox=\"0 0 245.120313 180.65625\" width=\"245.120313pt\" xmlns=\"http://www.w3.org/2000/svg\" xmlns:xlink=\"http://www.w3.org/1999/xlink\">\n <metadata>\n  <rdf:RDF xmlns:cc=\"http://creativecommons.org/ns#\" xmlns:dc=\"http://purl.org/dc/elements/1.1/\" xmlns:rdf=\"http://www.w3.org/1999/02/22-rdf-syntax-ns#\">\n   <cc:Work>\n    <dc:type rdf:resource=\"http://purl.org/dc/dcmitype/StillImage\"/>\n    <dc:date>2022-10-18T22:26:32.069403</dc:date>\n    <dc:format>image/svg+xml</dc:format>\n    <dc:creator>\n     <cc:Agent>\n      <dc:title>Matplotlib v3.3.3, https://matplotlib.org/</dc:title>\n     </cc:Agent>\n    </dc:creator>\n   </cc:Work>\n  </rdf:RDF>\n </metadata>\n <defs>\n  <style type=\"text/css\">*{stroke-linecap:butt;stroke-linejoin:round;}</style>\n </defs>\n <g id=\"figure_1\">\n  <g id=\"patch_1\">\n   <path d=\"M 0 180.65625 \nL 245.120313 180.65625 \nL 245.120313 0 \nL 0 0 \nz\n\" style=\"fill:none;\"/>\n  </g>\n  <g id=\"axes_1\">\n   <g id=\"patch_2\">\n    <path d=\"M 42.620312 143.1 \nL 237.920313 143.1 \nL 237.920313 7.2 \nL 42.620312 7.2 \nz\n\" style=\"fill:#ffffff;\"/>\n   </g>\n   <g id=\"matplotlib.axis_1\">\n    <g id=\"xtick_1\">\n     <g id=\"line2d_1\">\n      <path clip-path=\"url(#pa9a43f25d1)\" d=\"M 51.497585 143.1 \nL 51.497585 7.2 \n\" style=\"fill:none;stroke:#b0b0b0;stroke-linecap:square;stroke-width:0.8;\"/>\n     </g>\n     <g id=\"line2d_2\">\n      <defs>\n       <path d=\"M 0 0 \nL 0 3.5 \n\" id=\"me0108265e3\" style=\"stroke:#000000;stroke-width:0.8;\"/>\n      </defs>\n      <g>\n       <use style=\"stroke:#000000;stroke-width:0.8;\" x=\"51.497585\" xlink:href=\"#me0108265e3\" y=\"143.1\"/>\n      </g>\n     </g>\n     <g id=\"text_1\">\n      <!-- −1 -->\n      <g transform=\"translate(44.126491 157.698438)scale(0.1 -0.1)\">\n       <defs>\n        <path d=\"M 10.59375 35.5 \nL 73.1875 35.5 \nL 73.1875 27.203125 \nL 10.59375 27.203125 \nz\n\" id=\"DejaVuSans-8722\"/>\n        <path d=\"M 12.40625 8.296875 \nL 28.515625 8.296875 \nL 28.515625 63.921875 \nL 10.984375 60.40625 \nL 10.984375 69.390625 \nL 28.421875 72.90625 \nL 38.28125 72.90625 \nL 38.28125 8.296875 \nL 54.390625 8.296875 \nL 54.390625 0 \nL 12.40625 0 \nz\n\" id=\"DejaVuSans-49\"/>\n       </defs>\n       <use xlink:href=\"#DejaVuSans-8722\"/>\n       <use x=\"83.789062\" xlink:href=\"#DejaVuSans-49\"/>\n      </g>\n     </g>\n    </g>\n    <g id=\"xtick_2\">\n     <g id=\"line2d_3\">\n      <path clip-path=\"url(#pa9a43f25d1)\" d=\"M 110.877381 143.1 \nL 110.877381 7.2 \n\" style=\"fill:none;stroke:#b0b0b0;stroke-linecap:square;stroke-width:0.8;\"/>\n     </g>\n     <g id=\"line2d_4\">\n      <g>\n       <use style=\"stroke:#000000;stroke-width:0.8;\" x=\"110.877381\" xlink:href=\"#me0108265e3\" y=\"143.1\"/>\n      </g>\n     </g>\n     <g id=\"text_2\">\n      <!-- 0 -->\n      <g transform=\"translate(107.696131 157.698438)scale(0.1 -0.1)\">\n       <defs>\n        <path d=\"M 31.78125 66.40625 \nQ 24.171875 66.40625 20.328125 58.90625 \nQ 16.5 51.421875 16.5 36.375 \nQ 16.5 21.390625 20.328125 13.890625 \nQ 24.171875 6.390625 31.78125 6.390625 \nQ 39.453125 6.390625 43.28125 13.890625 \nQ 47.125 21.390625 47.125 36.375 \nQ 47.125 51.421875 43.28125 58.90625 \nQ 39.453125 66.40625 31.78125 66.40625 \nz\nM 31.78125 74.21875 \nQ 44.046875 74.21875 50.515625 64.515625 \nQ 56.984375 54.828125 56.984375 36.375 \nQ 56.984375 17.96875 50.515625 8.265625 \nQ 44.046875 -1.421875 31.78125 -1.421875 \nQ 19.53125 -1.421875 13.0625 8.265625 \nQ 6.59375 17.96875 6.59375 36.375 \nQ 6.59375 54.828125 13.0625 64.515625 \nQ 19.53125 74.21875 31.78125 74.21875 \nz\n\" id=\"DejaVuSans-48\"/>\n       </defs>\n       <use xlink:href=\"#DejaVuSans-48\"/>\n      </g>\n     </g>\n    </g>\n    <g id=\"xtick_3\">\n     <g id=\"line2d_5\">\n      <path clip-path=\"url(#pa9a43f25d1)\" d=\"M 170.257176 143.1 \nL 170.257176 7.2 \n\" style=\"fill:none;stroke:#b0b0b0;stroke-linecap:square;stroke-width:0.8;\"/>\n     </g>\n     <g id=\"line2d_6\">\n      <g>\n       <use style=\"stroke:#000000;stroke-width:0.8;\" x=\"170.257176\" xlink:href=\"#me0108265e3\" y=\"143.1\"/>\n      </g>\n     </g>\n     <g id=\"text_3\">\n      <!-- 1 -->\n      <g transform=\"translate(167.075926 157.698438)scale(0.1 -0.1)\">\n       <use xlink:href=\"#DejaVuSans-49\"/>\n      </g>\n     </g>\n    </g>\n    <g id=\"xtick_4\">\n     <g id=\"line2d_7\">\n      <path clip-path=\"url(#pa9a43f25d1)\" d=\"M 229.636972 143.1 \nL 229.636972 7.2 \n\" style=\"fill:none;stroke:#b0b0b0;stroke-linecap:square;stroke-width:0.8;\"/>\n     </g>\n     <g id=\"line2d_8\">\n      <g>\n       <use style=\"stroke:#000000;stroke-width:0.8;\" x=\"229.636972\" xlink:href=\"#me0108265e3\" y=\"143.1\"/>\n      </g>\n     </g>\n     <g id=\"text_4\">\n      <!-- 2 -->\n      <g transform=\"translate(226.455722 157.698438)scale(0.1 -0.1)\">\n       <defs>\n        <path d=\"M 19.1875 8.296875 \nL 53.609375 8.296875 \nL 53.609375 0 \nL 7.328125 0 \nL 7.328125 8.296875 \nQ 12.9375 14.109375 22.625 23.890625 \nQ 32.328125 33.6875 34.8125 36.53125 \nQ 39.546875 41.84375 41.421875 45.53125 \nQ 43.3125 49.21875 43.3125 52.78125 \nQ 43.3125 58.59375 39.234375 62.25 \nQ 35.15625 65.921875 28.609375 65.921875 \nQ 23.96875 65.921875 18.8125 64.3125 \nQ 13.671875 62.703125 7.8125 59.421875 \nL 7.8125 69.390625 \nQ 13.765625 71.78125 18.9375 73 \nQ 24.125 74.21875 28.421875 74.21875 \nQ 39.75 74.21875 46.484375 68.546875 \nQ 53.21875 62.890625 53.21875 53.421875 \nQ 53.21875 48.921875 51.53125 44.890625 \nQ 49.859375 40.875 45.40625 35.40625 \nQ 44.1875 33.984375 37.640625 27.21875 \nQ 31.109375 20.453125 19.1875 8.296875 \nz\n\" id=\"DejaVuSans-50\"/>\n       </defs>\n       <use xlink:href=\"#DejaVuSans-50\"/>\n      </g>\n     </g>\n    </g>\n    <g id=\"text_5\">\n     <!-- x -->\n     <g transform=\"translate(137.310937 171.376563)scale(0.1 -0.1)\">\n      <defs>\n       <path d=\"M 54.890625 54.6875 \nL 35.109375 28.078125 \nL 55.90625 0 \nL 45.3125 0 \nL 29.390625 21.484375 \nL 13.484375 0 \nL 2.875 0 \nL 24.125 28.609375 \nL 4.6875 54.6875 \nL 15.28125 54.6875 \nL 29.78125 35.203125 \nL 44.28125 54.6875 \nz\n\" id=\"DejaVuSans-120\"/>\n      </defs>\n      <use xlink:href=\"#DejaVuSans-120\"/>\n     </g>\n    </g>\n   </g>\n   <g id=\"matplotlib.axis_2\">\n    <g id=\"ytick_1\">\n     <g id=\"line2d_9\">\n      <path clip-path=\"url(#pa9a43f25d1)\" d=\"M 42.620312 135.021355 \nL 237.920313 135.021355 \n\" style=\"fill:none;stroke:#b0b0b0;stroke-linecap:square;stroke-width:0.8;\"/>\n     </g>\n     <g id=\"line2d_10\">\n      <defs>\n       <path d=\"M 0 0 \nL -3.5 0 \n\" id=\"m44e3524da2\" style=\"stroke:#000000;stroke-width:0.8;\"/>\n      </defs>\n      <g>\n       <use style=\"stroke:#000000;stroke-width:0.8;\" x=\"42.620312\" xlink:href=\"#m44e3524da2\" y=\"135.021355\"/>\n      </g>\n     </g>\n     <g id=\"text_6\">\n      <!-- −1 -->\n      <g transform=\"translate(20.878125 138.820574)scale(0.1 -0.1)\">\n       <use xlink:href=\"#DejaVuSans-8722\"/>\n       <use x=\"83.789062\" xlink:href=\"#DejaVuSans-49\"/>\n      </g>\n     </g>\n    </g>\n    <g id=\"ytick_2\">\n     <g id=\"line2d_11\">\n      <path clip-path=\"url(#pa9a43f25d1)\" d=\"M 42.620312 94.324314 \nL 237.920313 94.324314 \n\" style=\"fill:none;stroke:#b0b0b0;stroke-linecap:square;stroke-width:0.8;\"/>\n     </g>\n     <g id=\"line2d_12\">\n      <g>\n       <use style=\"stroke:#000000;stroke-width:0.8;\" x=\"42.620312\" xlink:href=\"#m44e3524da2\" y=\"94.324314\"/>\n      </g>\n     </g>\n     <g id=\"text_7\">\n      <!-- 0 -->\n      <g transform=\"translate(29.257812 98.123532)scale(0.1 -0.1)\">\n       <use xlink:href=\"#DejaVuSans-48\"/>\n      </g>\n     </g>\n    </g>\n    <g id=\"ytick_3\">\n     <g id=\"line2d_13\">\n      <path clip-path=\"url(#pa9a43f25d1)\" d=\"M 42.620312 53.627272 \nL 237.920313 53.627272 \n\" style=\"fill:none;stroke:#b0b0b0;stroke-linecap:square;stroke-width:0.8;\"/>\n     </g>\n     <g id=\"line2d_14\">\n      <g>\n       <use style=\"stroke:#000000;stroke-width:0.8;\" x=\"42.620312\" xlink:href=\"#m44e3524da2\" y=\"53.627272\"/>\n      </g>\n     </g>\n     <g id=\"text_8\">\n      <!-- 1 -->\n      <g transform=\"translate(29.257812 57.42649)scale(0.1 -0.1)\">\n       <use xlink:href=\"#DejaVuSans-49\"/>\n      </g>\n     </g>\n    </g>\n    <g id=\"ytick_4\">\n     <g id=\"line2d_15\">\n      <path clip-path=\"url(#pa9a43f25d1)\" d=\"M 42.620312 12.93023 \nL 237.920313 12.93023 \n\" style=\"fill:none;stroke:#b0b0b0;stroke-linecap:square;stroke-width:0.8;\"/>\n     </g>\n     <g id=\"line2d_16\">\n      <g>\n       <use style=\"stroke:#000000;stroke-width:0.8;\" x=\"42.620312\" xlink:href=\"#m44e3524da2\" y=\"12.93023\"/>\n      </g>\n     </g>\n     <g id=\"text_9\">\n      <!-- 2 -->\n      <g transform=\"translate(29.257812 16.729448)scale(0.1 -0.1)\">\n       <use xlink:href=\"#DejaVuSans-50\"/>\n      </g>\n     </g>\n    </g>\n    <g id=\"text_10\">\n     <!-- f(x) -->\n     <g transform=\"translate(14.798437 83.771094)rotate(-90)scale(0.1 -0.1)\">\n      <defs>\n       <path d=\"M 37.109375 75.984375 \nL 37.109375 68.5 \nL 28.515625 68.5 \nQ 23.6875 68.5 21.796875 66.546875 \nQ 19.921875 64.59375 19.921875 59.515625 \nL 19.921875 54.6875 \nL 34.71875 54.6875 \nL 34.71875 47.703125 \nL 19.921875 47.703125 \nL 19.921875 0 \nL 10.890625 0 \nL 10.890625 47.703125 \nL 2.296875 47.703125 \nL 2.296875 54.6875 \nL 10.890625 54.6875 \nL 10.890625 58.5 \nQ 10.890625 67.625 15.140625 71.796875 \nQ 19.390625 75.984375 28.609375 75.984375 \nz\n\" id=\"DejaVuSans-102\"/>\n       <path d=\"M 31 75.875 \nQ 24.46875 64.65625 21.28125 53.65625 \nQ 18.109375 42.671875 18.109375 31.390625 \nQ 18.109375 20.125 21.3125 9.0625 \nQ 24.515625 -2 31 -13.1875 \nL 23.1875 -13.1875 \nQ 15.875 -1.703125 12.234375 9.375 \nQ 8.59375 20.453125 8.59375 31.390625 \nQ 8.59375 42.28125 12.203125 53.3125 \nQ 15.828125 64.359375 23.1875 75.875 \nz\n\" id=\"DejaVuSans-40\"/>\n       <path d=\"M 8.015625 75.875 \nL 15.828125 75.875 \nQ 23.140625 64.359375 26.78125 53.3125 \nQ 30.421875 42.28125 30.421875 31.390625 \nQ 30.421875 20.453125 26.78125 9.375 \nQ 23.140625 -1.703125 15.828125 -13.1875 \nL 8.015625 -13.1875 \nQ 14.5 -2 17.703125 9.0625 \nQ 20.90625 20.125 20.90625 31.390625 \nQ 20.90625 42.671875 17.703125 53.65625 \nQ 14.5 64.65625 8.015625 75.875 \nz\n\" id=\"DejaVuSans-41\"/>\n      </defs>\n      <use xlink:href=\"#DejaVuSans-102\"/>\n      <use x=\"35.205078\" xlink:href=\"#DejaVuSans-40\"/>\n      <use x=\"74.21875\" xlink:href=\"#DejaVuSans-120\"/>\n      <use x=\"133.398438\" xlink:href=\"#DejaVuSans-41\"/>\n     </g>\n    </g>\n   </g>\n   <g id=\"line2d_17\">\n    <path clip-path=\"url(#pa9a43f25d1)\" d=\"M 51.497585 53.627272 \nL 53.278977 55.023375 \nL 55.06037 56.746696 \nL 56.841762 58.760493 \nL 59.216951 61.829892 \nL 62.185938 66.147744 \nL 65.748723 71.777472 \nL 73.468089 84.141752 \nL 76.437076 88.454132 \nL 78.812265 91.569907 \nL 81.187455 94.324281 \nL 83.562644 96.670604 \nL 85.344036 98.141736 \nL 87.125429 99.354724 \nL 88.906821 100.304512 \nL 90.688213 100.990325 \nL 92.469605 101.415597 \nL 94.250997 101.587868 \nL 96.032389 101.518606 \nL 97.813784 101.222997 \nL 99.595179 100.719677 \nL 101.970372 99.763531 \nL 104.345564 98.536352 \nL 107.314553 96.72291 \nL 118.596713 89.468848 \nL 120.971906 88.369288 \nL 122.753301 87.739406 \nL 124.534696 87.303041 \nL 126.31609 87.080965 \nL 128.097482 87.090695 \nL 129.878874 87.346205 \nL 131.660266 87.857673 \nL 133.441658 88.63129 \nL 135.223051 89.669097 \nL 137.004443 90.968894 \nL 138.785835 92.5242 \nL 140.567227 94.324259 \nL 142.942418 97.078625 \nL 145.317608 100.194386 \nL 148.286595 104.506756 \nL 151.849379 110.108057 \nL 160.162543 123.398826 \nL 163.13153 127.622674 \nL 165.506719 130.589222 \nL 167.288111 132.510436 \nL 169.069504 134.128652 \nL 170.850896 135.407998 \nL 172.03849 136.056197 \nL 173.226085 136.530084 \nL 174.41368 136.821409 \nL 175.601275 136.922727 \nL 176.78887 136.827406 \nL 177.976464 136.529729 \nL 179.164059 136.024886 \nL 180.351654 135.309067 \nL 181.539249 134.379475 \nL 182.726843 133.234342 \nL 184.508236 131.111344 \nL 186.289628 128.504525 \nL 188.07102 125.421948 \nL 189.852412 121.877431 \nL 191.633804 117.890554 \nL 194.008994 111.931092 \nL 196.384183 105.305852 \nL 199.35317 96.229333 \nL 202.915955 84.456726 \nL 210.041523 59.728183 \nL 214.198105 45.849965 \nL 217.167092 36.763679 \nL 219.542282 30.220353 \nL 221.323674 25.832367 \nL 223.105066 21.95446 \nL 224.886458 18.641069 \nL 226.66785 15.942296 \nL 227.855445 14.507097 \nL 229.04304 13.377273 \nL 229.04304 13.377273 \n\" style=\"fill:none;stroke:#1f77b4;stroke-linecap:square;stroke-width:1.5;\"/>\n   </g>\n   <g id=\"patch_3\">\n    <path d=\"M 42.620312 143.1 \nL 42.620312 7.2 \n\" style=\"fill:none;stroke:#000000;stroke-linecap:square;stroke-linejoin:miter;stroke-width:0.8;\"/>\n   </g>\n   <g id=\"patch_4\">\n    <path d=\"M 237.920313 143.1 \nL 237.920313 7.2 \n\" style=\"fill:none;stroke:#000000;stroke-linecap:square;stroke-linejoin:miter;stroke-width:0.8;\"/>\n   </g>\n   <g id=\"patch_5\">\n    <path d=\"M 42.620312 143.1 \nL 237.920313 143.1 \n\" style=\"fill:none;stroke:#000000;stroke-linecap:square;stroke-linejoin:miter;stroke-width:0.8;\"/>\n   </g>\n   <g id=\"patch_6\">\n    <path d=\"M 42.620312 7.2 \nL 237.920313 7.2 \n\" style=\"fill:none;stroke:#000000;stroke-linecap:square;stroke-linejoin:miter;stroke-width:0.8;\"/>\n   </g>\n   <g id=\"patch_7\">\n    <path d=\"M 99.270218 123.522983 \nQ 96.476714 114.960606 94.029984 107.461124 \n\" style=\"fill:none;stroke:#000000;stroke-linecap:round;\"/>\n    <path d=\"M 93.369271 111.884184 \nL 94.029984 107.461124 \nL 97.172004 110.64353 \n\" style=\"fill:none;stroke:#000000;stroke-linecap:round;\"/>\n   </g>\n   <g id=\"text_11\">\n    <!-- local minimum -->\n    <g transform=\"translate(65.154938 135.021355)scale(0.1 -0.1)\">\n     <defs>\n      <path d=\"M 9.421875 75.984375 \nL 18.40625 75.984375 \nL 18.40625 0 \nL 9.421875 0 \nz\n\" id=\"DejaVuSans-108\"/>\n      <path d=\"M 30.609375 48.390625 \nQ 23.390625 48.390625 19.1875 42.75 \nQ 14.984375 37.109375 14.984375 27.296875 \nQ 14.984375 17.484375 19.15625 11.84375 \nQ 23.34375 6.203125 30.609375 6.203125 \nQ 37.796875 6.203125 41.984375 11.859375 \nQ 46.1875 17.53125 46.1875 27.296875 \nQ 46.1875 37.015625 41.984375 42.703125 \nQ 37.796875 48.390625 30.609375 48.390625 \nz\nM 30.609375 56 \nQ 42.328125 56 49.015625 48.375 \nQ 55.71875 40.765625 55.71875 27.296875 \nQ 55.71875 13.875 49.015625 6.21875 \nQ 42.328125 -1.421875 30.609375 -1.421875 \nQ 18.84375 -1.421875 12.171875 6.21875 \nQ 5.515625 13.875 5.515625 27.296875 \nQ 5.515625 40.765625 12.171875 48.375 \nQ 18.84375 56 30.609375 56 \nz\n\" id=\"DejaVuSans-111\"/>\n      <path d=\"M 48.78125 52.59375 \nL 48.78125 44.1875 \nQ 44.96875 46.296875 41.140625 47.34375 \nQ 37.3125 48.390625 33.40625 48.390625 \nQ 24.65625 48.390625 19.8125 42.84375 \nQ 14.984375 37.3125 14.984375 27.296875 \nQ 14.984375 17.28125 19.8125 11.734375 \nQ 24.65625 6.203125 33.40625 6.203125 \nQ 37.3125 6.203125 41.140625 7.25 \nQ 44.96875 8.296875 48.78125 10.40625 \nL 48.78125 2.09375 \nQ 45.015625 0.34375 40.984375 -0.53125 \nQ 36.96875 -1.421875 32.421875 -1.421875 \nQ 20.0625 -1.421875 12.78125 6.34375 \nQ 5.515625 14.109375 5.515625 27.296875 \nQ 5.515625 40.671875 12.859375 48.328125 \nQ 20.21875 56 33.015625 56 \nQ 37.15625 56 41.109375 55.140625 \nQ 45.0625 54.296875 48.78125 52.59375 \nz\n\" id=\"DejaVuSans-99\"/>\n      <path d=\"M 34.28125 27.484375 \nQ 23.390625 27.484375 19.1875 25 \nQ 14.984375 22.515625 14.984375 16.5 \nQ 14.984375 11.71875 18.140625 8.90625 \nQ 21.296875 6.109375 26.703125 6.109375 \nQ 34.1875 6.109375 38.703125 11.40625 \nQ 43.21875 16.703125 43.21875 25.484375 \nL 43.21875 27.484375 \nz\nM 52.203125 31.203125 \nL 52.203125 0 \nL 43.21875 0 \nL 43.21875 8.296875 \nQ 40.140625 3.328125 35.546875 0.953125 \nQ 30.953125 -1.421875 24.3125 -1.421875 \nQ 15.921875 -1.421875 10.953125 3.296875 \nQ 6 8.015625 6 15.921875 \nQ 6 25.140625 12.171875 29.828125 \nQ 18.359375 34.515625 30.609375 34.515625 \nL 43.21875 34.515625 \nL 43.21875 35.40625 \nQ 43.21875 41.609375 39.140625 45 \nQ 35.0625 48.390625 27.6875 48.390625 \nQ 23 48.390625 18.546875 47.265625 \nQ 14.109375 46.140625 10.015625 43.890625 \nL 10.015625 52.203125 \nQ 14.9375 54.109375 19.578125 55.046875 \nQ 24.21875 56 28.609375 56 \nQ 40.484375 56 46.34375 49.84375 \nQ 52.203125 43.703125 52.203125 31.203125 \nz\n\" id=\"DejaVuSans-97\"/>\n      <path id=\"DejaVuSans-32\"/>\n      <path d=\"M 52 44.1875 \nQ 55.375 50.25 60.0625 53.125 \nQ 64.75 56 71.09375 56 \nQ 79.640625 56 84.28125 50.015625 \nQ 88.921875 44.046875 88.921875 33.015625 \nL 88.921875 0 \nL 79.890625 0 \nL 79.890625 32.71875 \nQ 79.890625 40.578125 77.09375 44.375 \nQ 74.3125 48.1875 68.609375 48.1875 \nQ 61.625 48.1875 57.5625 43.546875 \nQ 53.515625 38.921875 53.515625 30.90625 \nL 53.515625 0 \nL 44.484375 0 \nL 44.484375 32.71875 \nQ 44.484375 40.625 41.703125 44.40625 \nQ 38.921875 48.1875 33.109375 48.1875 \nQ 26.21875 48.1875 22.15625 43.53125 \nQ 18.109375 38.875 18.109375 30.90625 \nL 18.109375 0 \nL 9.078125 0 \nL 9.078125 54.6875 \nL 18.109375 54.6875 \nL 18.109375 46.1875 \nQ 21.1875 51.21875 25.484375 53.609375 \nQ 29.78125 56 35.6875 56 \nQ 41.65625 56 45.828125 52.96875 \nQ 50 49.953125 52 44.1875 \nz\n\" id=\"DejaVuSans-109\"/>\n      <path d=\"M 9.421875 54.6875 \nL 18.40625 54.6875 \nL 18.40625 0 \nL 9.421875 0 \nz\nM 9.421875 75.984375 \nL 18.40625 75.984375 \nL 18.40625 64.59375 \nL 9.421875 64.59375 \nz\n\" id=\"DejaVuSans-105\"/>\n      <path d=\"M 54.890625 33.015625 \nL 54.890625 0 \nL 45.90625 0 \nL 45.90625 32.71875 \nQ 45.90625 40.484375 42.875 44.328125 \nQ 39.84375 48.1875 33.796875 48.1875 \nQ 26.515625 48.1875 22.3125 43.546875 \nQ 18.109375 38.921875 18.109375 30.90625 \nL 18.109375 0 \nL 9.078125 0 \nL 9.078125 54.6875 \nL 18.109375 54.6875 \nL 18.109375 46.1875 \nQ 21.34375 51.125 25.703125 53.5625 \nQ 30.078125 56 35.796875 56 \nQ 45.21875 56 50.046875 50.171875 \nQ 54.890625 44.34375 54.890625 33.015625 \nz\n\" id=\"DejaVuSans-110\"/>\n      <path d=\"M 8.5 21.578125 \nL 8.5 54.6875 \nL 17.484375 54.6875 \nL 17.484375 21.921875 \nQ 17.484375 14.15625 20.5 10.265625 \nQ 23.53125 6.390625 29.59375 6.390625 \nQ 36.859375 6.390625 41.078125 11.03125 \nQ 45.3125 15.671875 45.3125 23.6875 \nL 45.3125 54.6875 \nL 54.296875 54.6875 \nL 54.296875 0 \nL 45.3125 0 \nL 45.3125 8.40625 \nQ 42.046875 3.421875 37.71875 1 \nQ 33.40625 -1.421875 27.6875 -1.421875 \nQ 18.265625 -1.421875 13.375 4.4375 \nQ 8.5 10.296875 8.5 21.578125 \nz\nM 31.109375 56 \nz\n\" id=\"DejaVuSans-117\"/>\n     </defs>\n     <use xlink:href=\"#DejaVuSans-108\"/>\n     <use x=\"27.783203\" xlink:href=\"#DejaVuSans-111\"/>\n     <use x=\"88.964844\" xlink:href=\"#DejaVuSans-99\"/>\n     <use x=\"143.945312\" xlink:href=\"#DejaVuSans-97\"/>\n     <use x=\"205.224609\" xlink:href=\"#DejaVuSans-108\"/>\n     <use x=\"233.007812\" xlink:href=\"#DejaVuSans-32\"/>\n     <use x=\"264.794922\" xlink:href=\"#DejaVuSans-109\"/>\n     <use x=\"362.207031\" xlink:href=\"#DejaVuSans-105\"/>\n     <use x=\"389.990234\" xlink:href=\"#DejaVuSans-110\"/>\n     <use x=\"453.369141\" xlink:href=\"#DejaVuSans-105\"/>\n     <use x=\"481.152344\" xlink:href=\"#DejaVuSans-109\"/>\n     <use x=\"578.564453\" xlink:href=\"#DejaVuSans-117\"/>\n     <use x=\"641.943359\" xlink:href=\"#DejaVuSans-109\"/>\n    </g>\n   </g>\n   <g id=\"patch_8\">\n    <path d=\"M 185.774254 67.827274 \nQ 181.129993 99.418603 176.648348 129.903788 \n\" style=\"fill:none;stroke:#000000;stroke-linecap:round;\"/>\n    <path d=\"M 179.208869 126.237218 \nL 176.648348 129.903788 \nL 175.251405 125.655429 \n\" style=\"fill:none;stroke:#000000;stroke-linecap:round;\"/>\n   </g>\n   <g id=\"text_12\">\n    <!-- global minimum -->\n    <g transform=\"translate(146.505258 61.76668)scale(0.1 -0.1)\">\n     <defs>\n      <path d=\"M 45.40625 27.984375 \nQ 45.40625 37.75 41.375 43.109375 \nQ 37.359375 48.484375 30.078125 48.484375 \nQ 22.859375 48.484375 18.828125 43.109375 \nQ 14.796875 37.75 14.796875 27.984375 \nQ 14.796875 18.265625 18.828125 12.890625 \nQ 22.859375 7.515625 30.078125 7.515625 \nQ 37.359375 7.515625 41.375 12.890625 \nQ 45.40625 18.265625 45.40625 27.984375 \nz\nM 54.390625 6.78125 \nQ 54.390625 -7.171875 48.1875 -13.984375 \nQ 42 -20.796875 29.203125 -20.796875 \nQ 24.46875 -20.796875 20.265625 -20.09375 \nQ 16.0625 -19.390625 12.109375 -17.921875 \nL 12.109375 -9.1875 \nQ 16.0625 -11.328125 19.921875 -12.34375 \nQ 23.78125 -13.375 27.78125 -13.375 \nQ 36.625 -13.375 41.015625 -8.765625 \nQ 45.40625 -4.15625 45.40625 5.171875 \nL 45.40625 9.625 \nQ 42.625 4.78125 38.28125 2.390625 \nQ 33.9375 0 27.875 0 \nQ 17.828125 0 11.671875 7.65625 \nQ 5.515625 15.328125 5.515625 27.984375 \nQ 5.515625 40.671875 11.671875 48.328125 \nQ 17.828125 56 27.875 56 \nQ 33.9375 56 38.28125 53.609375 \nQ 42.625 51.21875 45.40625 46.390625 \nL 45.40625 54.6875 \nL 54.390625 54.6875 \nz\n\" id=\"DejaVuSans-103\"/>\n      <path d=\"M 48.6875 27.296875 \nQ 48.6875 37.203125 44.609375 42.84375 \nQ 40.53125 48.484375 33.40625 48.484375 \nQ 26.265625 48.484375 22.1875 42.84375 \nQ 18.109375 37.203125 18.109375 27.296875 \nQ 18.109375 17.390625 22.1875 11.75 \nQ 26.265625 6.109375 33.40625 6.109375 \nQ 40.53125 6.109375 44.609375 11.75 \nQ 48.6875 17.390625 48.6875 27.296875 \nz\nM 18.109375 46.390625 \nQ 20.953125 51.265625 25.265625 53.625 \nQ 29.59375 56 35.59375 56 \nQ 45.5625 56 51.78125 48.09375 \nQ 58.015625 40.1875 58.015625 27.296875 \nQ 58.015625 14.40625 51.78125 6.484375 \nQ 45.5625 -1.421875 35.59375 -1.421875 \nQ 29.59375 -1.421875 25.265625 0.953125 \nQ 20.953125 3.328125 18.109375 8.203125 \nL 18.109375 0 \nL 9.078125 0 \nL 9.078125 75.984375 \nL 18.109375 75.984375 \nz\n\" id=\"DejaVuSans-98\"/>\n     </defs>\n     <use xlink:href=\"#DejaVuSans-103\"/>\n     <use x=\"63.476562\" xlink:href=\"#DejaVuSans-108\"/>\n     <use x=\"91.259766\" xlink:href=\"#DejaVuSans-111\"/>\n     <use x=\"152.441406\" xlink:href=\"#DejaVuSans-98\"/>\n     <use x=\"215.917969\" xlink:href=\"#DejaVuSans-97\"/>\n     <use x=\"277.197266\" xlink:href=\"#DejaVuSans-108\"/>\n     <use x=\"304.980469\" xlink:href=\"#DejaVuSans-32\"/>\n     <use x=\"336.767578\" xlink:href=\"#DejaVuSans-109\"/>\n     <use x=\"434.179688\" xlink:href=\"#DejaVuSans-105\"/>\n     <use x=\"461.962891\" xlink:href=\"#DejaVuSans-110\"/>\n     <use x=\"525.341797\" xlink:href=\"#DejaVuSans-105\"/>\n     <use x=\"553.125\" xlink:href=\"#DejaVuSans-109\"/>\n     <use x=\"650.537109\" xlink:href=\"#DejaVuSans-117\"/>\n     <use x=\"713.916016\" xlink:href=\"#DejaVuSans-109\"/>\n    </g>\n   </g>\n  </g>\n </g>\n <defs>\n  <clipPath id=\"pa9a43f25d1\">\n   <rect height=\"135.9\" width=\"195.3\" x=\"42.620312\" y=\"7.2\"/>\n  </clipPath>\n </defs>\n</svg>\n",
      "text/plain": [
       "<Figure size 252x180 with 1 Axes>"
      ]
     },
     "metadata": {
      "needs_background": "light"
     },
     "output_type": "display_data"
    }
   ],
   "source": [
    "x = tf.range(-1.0, 2.0, 0.01)\n",
    "d2l.plot(x, [f(x), ], 'x', 'f(x)')\n",
    "annotate('local minimum', (-0.3, -0.25), (-0.77, -1.0))\n",
    "annotate('global minimum', (1.1, -0.95), (0.6, 0.8))"
   ]
  },
  {
   "cell_type": "markdown",
   "metadata": {},
   "source": [
    "深度学习模型的目标函数通常有许多局部最优解。当优化问题的数值解接近局部最优值时，随着目标函数解的梯度接近或变为零，通过最终迭代获得的数值解可能仅使目标函数局部最优，而不是全局最优。只有一定程度的噪声可能会使参数超出局部最小值。事实上，这是小批量随机梯度下降的有利特性之一，在这种情况下，小批量上梯度的自然变化能够将参数从局部极小值中移出。"
   ]
  },
  {
   "cell_type": "markdown",
   "metadata": {},
   "source": [
    "##### 11.1.2.2. 鞍点"
   ]
  },
  {
   "cell_type": "markdown",
   "metadata": {},
   "source": [
    "除了局部最小值之外，鞍点也是梯度消失的另一个原因。鞍点（saddle point）是指函数的所有梯度都消失但既不是全局最小值也不是局部最小值的任何位置。考虑这个函数$f(x)=x^3$。它的一阶和二阶导数在$x=0$时消失。这时优化可能会停止，尽管它不是最小值。"
   ]
  },
  {
   "cell_type": "code",
   "execution_count": 19,
   "metadata": {
    "ExecuteTime": {
     "end_time": "2022-10-18T14:28:02.318496Z",
     "start_time": "2022-10-18T14:28:02.165441Z"
    }
   },
   "outputs": [
    {
     "data": {
      "image/svg+xml": "<?xml version=\"1.0\" encoding=\"utf-8\" standalone=\"no\"?>\n<!DOCTYPE svg PUBLIC \"-//W3C//DTD SVG 1.1//EN\"\n  \"http://www.w3.org/Graphics/SVG/1.1/DTD/svg11.dtd\">\n<!-- Created with matplotlib (https://matplotlib.org/) -->\n<svg height=\"180.65625pt\" version=\"1.1\" viewBox=\"0 0 245.120313 180.65625\" width=\"245.120313pt\" xmlns=\"http://www.w3.org/2000/svg\" xmlns:xlink=\"http://www.w3.org/1999/xlink\">\n <metadata>\n  <rdf:RDF xmlns:cc=\"http://creativecommons.org/ns#\" xmlns:dc=\"http://purl.org/dc/elements/1.1/\" xmlns:rdf=\"http://www.w3.org/1999/02/22-rdf-syntax-ns#\">\n   <cc:Work>\n    <dc:type rdf:resource=\"http://purl.org/dc/dcmitype/StillImage\"/>\n    <dc:date>2022-10-18T22:28:02.284965</dc:date>\n    <dc:format>image/svg+xml</dc:format>\n    <dc:creator>\n     <cc:Agent>\n      <dc:title>Matplotlib v3.3.3, https://matplotlib.org/</dc:title>\n     </cc:Agent>\n    </dc:creator>\n   </cc:Work>\n  </rdf:RDF>\n </metadata>\n <defs>\n  <style type=\"text/css\">*{stroke-linecap:butt;stroke-linejoin:round;}</style>\n </defs>\n <g id=\"figure_1\">\n  <g id=\"patch_1\">\n   <path d=\"M 0 180.65625 \nL 245.120313 180.65625 \nL 245.120313 0 \nL 0 0 \nz\n\" style=\"fill:none;\"/>\n  </g>\n  <g id=\"axes_1\">\n   <g id=\"patch_2\">\n    <path d=\"M 42.620312 143.1 \nL 237.920313 143.1 \nL 237.920313 7.2 \nL 42.620312 7.2 \nz\n\" style=\"fill:#ffffff;\"/>\n   </g>\n   <g id=\"matplotlib.axis_1\">\n    <g id=\"xtick_1\">\n     <g id=\"line2d_1\">\n      <path clip-path=\"url(#pc94722cfec)\" d=\"M 51.497585 143.1 \nL 51.497585 7.2 \n\" style=\"fill:none;stroke:#b0b0b0;stroke-linecap:square;stroke-width:0.8;\"/>\n     </g>\n     <g id=\"line2d_2\">\n      <defs>\n       <path d=\"M 0 0 \nL 0 3.5 \n\" id=\"m44ffdaff6f\" style=\"stroke:#000000;stroke-width:0.8;\"/>\n      </defs>\n      <g>\n       <use style=\"stroke:#000000;stroke-width:0.8;\" x=\"51.497585\" xlink:href=\"#m44ffdaff6f\" y=\"143.1\"/>\n      </g>\n     </g>\n     <g id=\"text_1\">\n      <!-- −2 -->\n      <g transform=\"translate(44.126491 157.698438)scale(0.1 -0.1)\">\n       <defs>\n        <path d=\"M 10.59375 35.5 \nL 73.1875 35.5 \nL 73.1875 27.203125 \nL 10.59375 27.203125 \nz\n\" id=\"DejaVuSans-8722\"/>\n        <path d=\"M 19.1875 8.296875 \nL 53.609375 8.296875 \nL 53.609375 0 \nL 7.328125 0 \nL 7.328125 8.296875 \nQ 12.9375 14.109375 22.625 23.890625 \nQ 32.328125 33.6875 34.8125 36.53125 \nQ 39.546875 41.84375 41.421875 45.53125 \nQ 43.3125 49.21875 43.3125 52.78125 \nQ 43.3125 58.59375 39.234375 62.25 \nQ 35.15625 65.921875 28.609375 65.921875 \nQ 23.96875 65.921875 18.8125 64.3125 \nQ 13.671875 62.703125 7.8125 59.421875 \nL 7.8125 69.390625 \nQ 13.765625 71.78125 18.9375 73 \nQ 24.125 74.21875 28.421875 74.21875 \nQ 39.75 74.21875 46.484375 68.546875 \nQ 53.21875 62.890625 53.21875 53.421875 \nQ 53.21875 48.921875 51.53125 44.890625 \nQ 49.859375 40.875 45.40625 35.40625 \nQ 44.1875 33.984375 37.640625 27.21875 \nQ 31.109375 20.453125 19.1875 8.296875 \nz\n\" id=\"DejaVuSans-50\"/>\n       </defs>\n       <use xlink:href=\"#DejaVuSans-8722\"/>\n       <use x=\"83.789062\" xlink:href=\"#DejaVuSans-50\"/>\n      </g>\n     </g>\n    </g>\n    <g id=\"xtick_2\">\n     <g id=\"line2d_3\">\n      <path clip-path=\"url(#pc94722cfec)\" d=\"M 95.995229 143.1 \nL 95.995229 7.2 \n\" style=\"fill:none;stroke:#b0b0b0;stroke-linecap:square;stroke-width:0.8;\"/>\n     </g>\n     <g id=\"line2d_4\">\n      <g>\n       <use style=\"stroke:#000000;stroke-width:0.8;\" x=\"95.995229\" xlink:href=\"#m44ffdaff6f\" y=\"143.1\"/>\n      </g>\n     </g>\n     <g id=\"text_2\">\n      <!-- −1 -->\n      <g transform=\"translate(88.624135 157.698438)scale(0.1 -0.1)\">\n       <defs>\n        <path d=\"M 12.40625 8.296875 \nL 28.515625 8.296875 \nL 28.515625 63.921875 \nL 10.984375 60.40625 \nL 10.984375 69.390625 \nL 28.421875 72.90625 \nL 38.28125 72.90625 \nL 38.28125 8.296875 \nL 54.390625 8.296875 \nL 54.390625 0 \nL 12.40625 0 \nz\n\" id=\"DejaVuSans-49\"/>\n       </defs>\n       <use xlink:href=\"#DejaVuSans-8722\"/>\n       <use x=\"83.789062\" xlink:href=\"#DejaVuSans-49\"/>\n      </g>\n     </g>\n    </g>\n    <g id=\"xtick_3\">\n     <g id=\"line2d_5\">\n      <path clip-path=\"url(#pc94722cfec)\" d=\"M 140.492872 143.1 \nL 140.492872 7.2 \n\" style=\"fill:none;stroke:#b0b0b0;stroke-linecap:square;stroke-width:0.8;\"/>\n     </g>\n     <g id=\"line2d_6\">\n      <g>\n       <use style=\"stroke:#000000;stroke-width:0.8;\" x=\"140.492872\" xlink:href=\"#m44ffdaff6f\" y=\"143.1\"/>\n      </g>\n     </g>\n     <g id=\"text_3\">\n      <!-- 0 -->\n      <g transform=\"translate(137.311622 157.698438)scale(0.1 -0.1)\">\n       <defs>\n        <path d=\"M 31.78125 66.40625 \nQ 24.171875 66.40625 20.328125 58.90625 \nQ 16.5 51.421875 16.5 36.375 \nQ 16.5 21.390625 20.328125 13.890625 \nQ 24.171875 6.390625 31.78125 6.390625 \nQ 39.453125 6.390625 43.28125 13.890625 \nQ 47.125 21.390625 47.125 36.375 \nQ 47.125 51.421875 43.28125 58.90625 \nQ 39.453125 66.40625 31.78125 66.40625 \nz\nM 31.78125 74.21875 \nQ 44.046875 74.21875 50.515625 64.515625 \nQ 56.984375 54.828125 56.984375 36.375 \nQ 56.984375 17.96875 50.515625 8.265625 \nQ 44.046875 -1.421875 31.78125 -1.421875 \nQ 19.53125 -1.421875 13.0625 8.265625 \nQ 6.59375 17.96875 6.59375 36.375 \nQ 6.59375 54.828125 13.0625 64.515625 \nQ 19.53125 74.21875 31.78125 74.21875 \nz\n\" id=\"DejaVuSans-48\"/>\n       </defs>\n       <use xlink:href=\"#DejaVuSans-48\"/>\n      </g>\n     </g>\n    </g>\n    <g id=\"xtick_4\">\n     <g id=\"line2d_7\">\n      <path clip-path=\"url(#pc94722cfec)\" d=\"M 184.990516 143.1 \nL 184.990516 7.2 \n\" style=\"fill:none;stroke:#b0b0b0;stroke-linecap:square;stroke-width:0.8;\"/>\n     </g>\n     <g id=\"line2d_8\">\n      <g>\n       <use style=\"stroke:#000000;stroke-width:0.8;\" x=\"184.990516\" xlink:href=\"#m44ffdaff6f\" y=\"143.1\"/>\n      </g>\n     </g>\n     <g id=\"text_4\">\n      <!-- 1 -->\n      <g transform=\"translate(181.809266 157.698438)scale(0.1 -0.1)\">\n       <use xlink:href=\"#DejaVuSans-49\"/>\n      </g>\n     </g>\n    </g>\n    <g id=\"xtick_5\">\n     <g id=\"line2d_9\">\n      <path clip-path=\"url(#pc94722cfec)\" d=\"M 229.488159 143.1 \nL 229.488159 7.2 \n\" style=\"fill:none;stroke:#b0b0b0;stroke-linecap:square;stroke-width:0.8;\"/>\n     </g>\n     <g id=\"line2d_10\">\n      <g>\n       <use style=\"stroke:#000000;stroke-width:0.8;\" x=\"229.488159\" xlink:href=\"#m44ffdaff6f\" y=\"143.1\"/>\n      </g>\n     </g>\n     <g id=\"text_5\">\n      <!-- 2 -->\n      <g transform=\"translate(226.306909 157.698438)scale(0.1 -0.1)\">\n       <use xlink:href=\"#DejaVuSans-50\"/>\n      </g>\n     </g>\n    </g>\n    <g id=\"text_6\">\n     <!-- x -->\n     <g transform=\"translate(137.310937 171.376563)scale(0.1 -0.1)\">\n      <defs>\n       <path d=\"M 54.890625 54.6875 \nL 35.109375 28.078125 \nL 55.90625 0 \nL 45.3125 0 \nL 29.390625 21.484375 \nL 13.484375 0 \nL 2.875 0 \nL 24.125 28.609375 \nL 4.6875 54.6875 \nL 15.28125 54.6875 \nL 29.78125 35.203125 \nL 44.28125 54.6875 \nz\n\" id=\"DejaVuSans-120\"/>\n      </defs>\n      <use xlink:href=\"#DejaVuSans-120\"/>\n     </g>\n    </g>\n   </g>\n   <g id=\"matplotlib.axis_2\">\n    <g id=\"ytick_1\">\n     <g id=\"line2d_11\">\n      <path clip-path=\"url(#pc94722cfec)\" d=\"M 42.620312 113.58373 \nL 237.920313 113.58373 \n\" style=\"fill:none;stroke:#b0b0b0;stroke-linecap:square;stroke-width:0.8;\"/>\n     </g>\n     <g id=\"line2d_12\">\n      <defs>\n       <path d=\"M 0 0 \nL -3.5 0 \n\" id=\"m83269c0c71\" style=\"stroke:#000000;stroke-width:0.8;\"/>\n      </defs>\n      <g>\n       <use style=\"stroke:#000000;stroke-width:0.8;\" x=\"42.620312\" xlink:href=\"#m83269c0c71\" y=\"113.58373\"/>\n      </g>\n     </g>\n     <g id=\"text_7\">\n      <!-- −5 -->\n      <g transform=\"translate(20.878125 117.382949)scale(0.1 -0.1)\">\n       <defs>\n        <path d=\"M 10.796875 72.90625 \nL 49.515625 72.90625 \nL 49.515625 64.59375 \nL 19.828125 64.59375 \nL 19.828125 46.734375 \nQ 21.96875 47.46875 24.109375 47.828125 \nQ 26.265625 48.1875 28.421875 48.1875 \nQ 40.625 48.1875 47.75 41.5 \nQ 54.890625 34.8125 54.890625 23.390625 \nQ 54.890625 11.625 47.5625 5.09375 \nQ 40.234375 -1.421875 26.90625 -1.421875 \nQ 22.3125 -1.421875 17.546875 -0.640625 \nQ 12.796875 0.140625 7.71875 1.703125 \nL 7.71875 11.625 \nQ 12.109375 9.234375 16.796875 8.0625 \nQ 21.484375 6.890625 26.703125 6.890625 \nQ 35.15625 6.890625 40.078125 11.328125 \nQ 45.015625 15.765625 45.015625 23.390625 \nQ 45.015625 31 40.078125 35.4375 \nQ 35.15625 39.890625 26.703125 39.890625 \nQ 22.75 39.890625 18.8125 39.015625 \nQ 14.890625 38.140625 10.796875 36.28125 \nz\n\" id=\"DejaVuSans-53\"/>\n       </defs>\n       <use xlink:href=\"#DejaVuSans-8722\"/>\n       <use x=\"83.789062\" xlink:href=\"#DejaVuSans-53\"/>\n      </g>\n     </g>\n    </g>\n    <g id=\"ytick_2\">\n     <g id=\"line2d_13\">\n      <path clip-path=\"url(#pc94722cfec)\" d=\"M 42.620312 74.685402 \nL 237.920313 74.685402 \n\" style=\"fill:none;stroke:#b0b0b0;stroke-linecap:square;stroke-width:0.8;\"/>\n     </g>\n     <g id=\"line2d_14\">\n      <g>\n       <use style=\"stroke:#000000;stroke-width:0.8;\" x=\"42.620312\" xlink:href=\"#m83269c0c71\" y=\"74.685402\"/>\n      </g>\n     </g>\n     <g id=\"text_8\">\n      <!-- 0 -->\n      <g transform=\"translate(29.257812 78.484621)scale(0.1 -0.1)\">\n       <use xlink:href=\"#DejaVuSans-48\"/>\n      </g>\n     </g>\n    </g>\n    <g id=\"ytick_3\">\n     <g id=\"line2d_15\">\n      <path clip-path=\"url(#pc94722cfec)\" d=\"M 42.620312 35.787073 \nL 237.920313 35.787073 \n\" style=\"fill:none;stroke:#b0b0b0;stroke-linecap:square;stroke-width:0.8;\"/>\n     </g>\n     <g id=\"line2d_16\">\n      <g>\n       <use style=\"stroke:#000000;stroke-width:0.8;\" x=\"42.620312\" xlink:href=\"#m83269c0c71\" y=\"35.787073\"/>\n      </g>\n     </g>\n     <g id=\"text_9\">\n      <!-- 5 -->\n      <g transform=\"translate(29.257812 39.586292)scale(0.1 -0.1)\">\n       <use xlink:href=\"#DejaVuSans-53\"/>\n      </g>\n     </g>\n    </g>\n    <g id=\"text_10\">\n     <!-- f(x) -->\n     <g transform=\"translate(14.798437 83.771094)rotate(-90)scale(0.1 -0.1)\">\n      <defs>\n       <path d=\"M 37.109375 75.984375 \nL 37.109375 68.5 \nL 28.515625 68.5 \nQ 23.6875 68.5 21.796875 66.546875 \nQ 19.921875 64.59375 19.921875 59.515625 \nL 19.921875 54.6875 \nL 34.71875 54.6875 \nL 34.71875 47.703125 \nL 19.921875 47.703125 \nL 19.921875 0 \nL 10.890625 0 \nL 10.890625 47.703125 \nL 2.296875 47.703125 \nL 2.296875 54.6875 \nL 10.890625 54.6875 \nL 10.890625 58.5 \nQ 10.890625 67.625 15.140625 71.796875 \nQ 19.390625 75.984375 28.609375 75.984375 \nz\n\" id=\"DejaVuSans-102\"/>\n       <path d=\"M 31 75.875 \nQ 24.46875 64.65625 21.28125 53.65625 \nQ 18.109375 42.671875 18.109375 31.390625 \nQ 18.109375 20.125 21.3125 9.0625 \nQ 24.515625 -2 31 -13.1875 \nL 23.1875 -13.1875 \nQ 15.875 -1.703125 12.234375 9.375 \nQ 8.59375 20.453125 8.59375 31.390625 \nQ 8.59375 42.28125 12.203125 53.3125 \nQ 15.828125 64.359375 23.1875 75.875 \nz\n\" id=\"DejaVuSans-40\"/>\n       <path d=\"M 8.015625 75.875 \nL 15.828125 75.875 \nQ 23.140625 64.359375 26.78125 53.3125 \nQ 30.421875 42.28125 30.421875 31.390625 \nQ 30.421875 20.453125 26.78125 9.375 \nQ 23.140625 -1.703125 15.828125 -13.1875 \nL 8.015625 -13.1875 \nQ 14.5 -2 17.703125 9.0625 \nQ 20.90625 20.125 20.90625 31.390625 \nQ 20.90625 42.671875 17.703125 53.65625 \nQ 14.5 64.65625 8.015625 75.875 \nz\n\" id=\"DejaVuSans-41\"/>\n      </defs>\n      <use xlink:href=\"#DejaVuSans-102\"/>\n      <use x=\"35.205078\" xlink:href=\"#DejaVuSans-40\"/>\n      <use x=\"74.21875\" xlink:href=\"#DejaVuSans-120\"/>\n      <use x=\"133.398438\" xlink:href=\"#DejaVuSans-41\"/>\n     </g>\n    </g>\n   </g>\n   <g id=\"line2d_17\">\n    <path clip-path=\"url(#pc94722cfec)\" d=\"M 51.497585 136.922727 \nL 54.612417 130.613868 \nL 57.727249 124.746441 \nL 60.842081 119.304438 \nL 63.956914 114.271845 \nL 67.071746 109.632655 \nL 70.186578 105.370853 \nL 73.30141 101.470433 \nL 76.416242 97.915384 \nL 79.531074 94.689694 \nL 82.645906 91.777353 \nL 85.760738 89.162351 \nL 88.87557 86.828676 \nL 91.990402 84.760318 \nL 95.105234 82.941268 \nL 98.220066 81.355514 \nL 101.779874 79.808354 \nL 105.339682 78.521097 \nL 108.899491 77.469844 \nL 112.904275 76.539526 \nL 116.909059 75.843624 \nL 121.358819 75.303946 \nL 126.253555 74.94033 \nL 132.038247 74.738764 \nL 140.937776 74.685394 \nL 151.172236 74.577858 \nL 156.956925 74.291344 \nL 161.851661 73.825043 \nL 166.301422 73.16751 \nL 170.306206 72.345586 \nL 173.866015 71.403382 \nL 177.425823 70.237124 \nL 180.985631 68.822914 \nL 184.100463 67.363293 \nL 187.215295 65.679526 \nL 190.330127 63.7556 \nL 193.444959 61.575508 \nL 196.559791 59.123238 \nL 199.674623 56.38278 \nL 202.789455 53.33812 \nL 205.904287 49.97325 \nL 209.019119 46.272164 \nL 212.133951 42.218844 \nL 215.248783 37.797279 \nL 218.363616 32.991471 \nL 221.478448 27.785393 \nL 224.59328 22.163043 \nL 227.708112 16.108413 \nL 229.04304 13.377273 \nL 229.04304 13.377273 \n\" style=\"fill:none;stroke:#1f77b4;stroke-linecap:square;stroke-width:1.5;\"/>\n   </g>\n   <g id=\"patch_3\">\n    <path d=\"M 42.620312 143.1 \nL 42.620312 7.2 \n\" style=\"fill:none;stroke:#000000;stroke-linecap:square;stroke-linejoin:miter;stroke-width:0.8;\"/>\n   </g>\n   <g id=\"patch_4\">\n    <path d=\"M 237.920313 143.1 \nL 237.920313 7.2 \n\" style=\"fill:none;stroke:#000000;stroke-linecap:square;stroke-linejoin:miter;stroke-width:0.8;\"/>\n   </g>\n   <g id=\"patch_5\">\n    <path d=\"M 42.620312 143.1 \nL 237.920313 143.1 \n\" style=\"fill:none;stroke:#000000;stroke-linecap:square;stroke-linejoin:miter;stroke-width:0.8;\"/>\n   </g>\n   <g id=\"patch_6\">\n    <path d=\"M 42.620312 7.2 \nL 237.920313 7.2 \n\" style=\"fill:none;stroke:#000000;stroke-linecap:square;stroke-linejoin:miter;stroke-width:0.8;\"/>\n   </g>\n   <g id=\"patch_7\">\n    <path d=\"M 146.222762 102.02736 \nQ 143.574996 90.111711 141.169752 79.287475 \n\" style=\"fill:none;stroke:#000000;stroke-linecap:round;\"/>\n    <path d=\"M 140.085046 83.626071 \nL 141.169752 79.287475 \nL 143.989805 82.758398 \n\" style=\"fill:none;stroke:#000000;stroke-linecap:round;\"/>\n   </g>\n   <g id=\"text_11\">\n    <!-- saddle point -->\n    <g transform=\"translate(117.354098 113.58373)scale(0.1 -0.1)\">\n     <defs>\n      <path d=\"M 44.28125 53.078125 \nL 44.28125 44.578125 \nQ 40.484375 46.53125 36.375 47.5 \nQ 32.28125 48.484375 27.875 48.484375 \nQ 21.1875 48.484375 17.84375 46.4375 \nQ 14.5 44.390625 14.5 40.28125 \nQ 14.5 37.15625 16.890625 35.375 \nQ 19.28125 33.59375 26.515625 31.984375 \nL 29.59375 31.296875 \nQ 39.15625 29.25 43.1875 25.515625 \nQ 47.21875 21.78125 47.21875 15.09375 \nQ 47.21875 7.46875 41.1875 3.015625 \nQ 35.15625 -1.421875 24.609375 -1.421875 \nQ 20.21875 -1.421875 15.453125 -0.5625 \nQ 10.6875 0.296875 5.421875 2 \nL 5.421875 11.28125 \nQ 10.40625 8.6875 15.234375 7.390625 \nQ 20.0625 6.109375 24.8125 6.109375 \nQ 31.15625 6.109375 34.5625 8.28125 \nQ 37.984375 10.453125 37.984375 14.40625 \nQ 37.984375 18.0625 35.515625 20.015625 \nQ 33.0625 21.96875 24.703125 23.78125 \nL 21.578125 24.515625 \nQ 13.234375 26.265625 9.515625 29.90625 \nQ 5.8125 33.546875 5.8125 39.890625 \nQ 5.8125 47.609375 11.28125 51.796875 \nQ 16.75 56 26.8125 56 \nQ 31.78125 56 36.171875 55.265625 \nQ 40.578125 54.546875 44.28125 53.078125 \nz\n\" id=\"DejaVuSans-115\"/>\n      <path d=\"M 34.28125 27.484375 \nQ 23.390625 27.484375 19.1875 25 \nQ 14.984375 22.515625 14.984375 16.5 \nQ 14.984375 11.71875 18.140625 8.90625 \nQ 21.296875 6.109375 26.703125 6.109375 \nQ 34.1875 6.109375 38.703125 11.40625 \nQ 43.21875 16.703125 43.21875 25.484375 \nL 43.21875 27.484375 \nz\nM 52.203125 31.203125 \nL 52.203125 0 \nL 43.21875 0 \nL 43.21875 8.296875 \nQ 40.140625 3.328125 35.546875 0.953125 \nQ 30.953125 -1.421875 24.3125 -1.421875 \nQ 15.921875 -1.421875 10.953125 3.296875 \nQ 6 8.015625 6 15.921875 \nQ 6 25.140625 12.171875 29.828125 \nQ 18.359375 34.515625 30.609375 34.515625 \nL 43.21875 34.515625 \nL 43.21875 35.40625 \nQ 43.21875 41.609375 39.140625 45 \nQ 35.0625 48.390625 27.6875 48.390625 \nQ 23 48.390625 18.546875 47.265625 \nQ 14.109375 46.140625 10.015625 43.890625 \nL 10.015625 52.203125 \nQ 14.9375 54.109375 19.578125 55.046875 \nQ 24.21875 56 28.609375 56 \nQ 40.484375 56 46.34375 49.84375 \nQ 52.203125 43.703125 52.203125 31.203125 \nz\n\" id=\"DejaVuSans-97\"/>\n      <path d=\"M 45.40625 46.390625 \nL 45.40625 75.984375 \nL 54.390625 75.984375 \nL 54.390625 0 \nL 45.40625 0 \nL 45.40625 8.203125 \nQ 42.578125 3.328125 38.25 0.953125 \nQ 33.9375 -1.421875 27.875 -1.421875 \nQ 17.96875 -1.421875 11.734375 6.484375 \nQ 5.515625 14.40625 5.515625 27.296875 \nQ 5.515625 40.1875 11.734375 48.09375 \nQ 17.96875 56 27.875 56 \nQ 33.9375 56 38.25 53.625 \nQ 42.578125 51.265625 45.40625 46.390625 \nz\nM 14.796875 27.296875 \nQ 14.796875 17.390625 18.875 11.75 \nQ 22.953125 6.109375 30.078125 6.109375 \nQ 37.203125 6.109375 41.296875 11.75 \nQ 45.40625 17.390625 45.40625 27.296875 \nQ 45.40625 37.203125 41.296875 42.84375 \nQ 37.203125 48.484375 30.078125 48.484375 \nQ 22.953125 48.484375 18.875 42.84375 \nQ 14.796875 37.203125 14.796875 27.296875 \nz\n\" id=\"DejaVuSans-100\"/>\n      <path d=\"M 9.421875 75.984375 \nL 18.40625 75.984375 \nL 18.40625 0 \nL 9.421875 0 \nz\n\" id=\"DejaVuSans-108\"/>\n      <path d=\"M 56.203125 29.59375 \nL 56.203125 25.203125 \nL 14.890625 25.203125 \nQ 15.484375 15.921875 20.484375 11.0625 \nQ 25.484375 6.203125 34.421875 6.203125 \nQ 39.59375 6.203125 44.453125 7.46875 \nQ 49.3125 8.734375 54.109375 11.28125 \nL 54.109375 2.78125 \nQ 49.265625 0.734375 44.1875 -0.34375 \nQ 39.109375 -1.421875 33.890625 -1.421875 \nQ 20.796875 -1.421875 13.15625 6.1875 \nQ 5.515625 13.8125 5.515625 26.8125 \nQ 5.515625 40.234375 12.765625 48.109375 \nQ 20.015625 56 32.328125 56 \nQ 43.359375 56 49.78125 48.890625 \nQ 56.203125 41.796875 56.203125 29.59375 \nz\nM 47.21875 32.234375 \nQ 47.125 39.59375 43.09375 43.984375 \nQ 39.0625 48.390625 32.421875 48.390625 \nQ 24.90625 48.390625 20.390625 44.140625 \nQ 15.875 39.890625 15.1875 32.171875 \nz\n\" id=\"DejaVuSans-101\"/>\n      <path id=\"DejaVuSans-32\"/>\n      <path d=\"M 18.109375 8.203125 \nL 18.109375 -20.796875 \nL 9.078125 -20.796875 \nL 9.078125 54.6875 \nL 18.109375 54.6875 \nL 18.109375 46.390625 \nQ 20.953125 51.265625 25.265625 53.625 \nQ 29.59375 56 35.59375 56 \nQ 45.5625 56 51.78125 48.09375 \nQ 58.015625 40.1875 58.015625 27.296875 \nQ 58.015625 14.40625 51.78125 6.484375 \nQ 45.5625 -1.421875 35.59375 -1.421875 \nQ 29.59375 -1.421875 25.265625 0.953125 \nQ 20.953125 3.328125 18.109375 8.203125 \nz\nM 48.6875 27.296875 \nQ 48.6875 37.203125 44.609375 42.84375 \nQ 40.53125 48.484375 33.40625 48.484375 \nQ 26.265625 48.484375 22.1875 42.84375 \nQ 18.109375 37.203125 18.109375 27.296875 \nQ 18.109375 17.390625 22.1875 11.75 \nQ 26.265625 6.109375 33.40625 6.109375 \nQ 40.53125 6.109375 44.609375 11.75 \nQ 48.6875 17.390625 48.6875 27.296875 \nz\n\" id=\"DejaVuSans-112\"/>\n      <path d=\"M 30.609375 48.390625 \nQ 23.390625 48.390625 19.1875 42.75 \nQ 14.984375 37.109375 14.984375 27.296875 \nQ 14.984375 17.484375 19.15625 11.84375 \nQ 23.34375 6.203125 30.609375 6.203125 \nQ 37.796875 6.203125 41.984375 11.859375 \nQ 46.1875 17.53125 46.1875 27.296875 \nQ 46.1875 37.015625 41.984375 42.703125 \nQ 37.796875 48.390625 30.609375 48.390625 \nz\nM 30.609375 56 \nQ 42.328125 56 49.015625 48.375 \nQ 55.71875 40.765625 55.71875 27.296875 \nQ 55.71875 13.875 49.015625 6.21875 \nQ 42.328125 -1.421875 30.609375 -1.421875 \nQ 18.84375 -1.421875 12.171875 6.21875 \nQ 5.515625 13.875 5.515625 27.296875 \nQ 5.515625 40.765625 12.171875 48.375 \nQ 18.84375 56 30.609375 56 \nz\n\" id=\"DejaVuSans-111\"/>\n      <path d=\"M 9.421875 54.6875 \nL 18.40625 54.6875 \nL 18.40625 0 \nL 9.421875 0 \nz\nM 9.421875 75.984375 \nL 18.40625 75.984375 \nL 18.40625 64.59375 \nL 9.421875 64.59375 \nz\n\" id=\"DejaVuSans-105\"/>\n      <path d=\"M 54.890625 33.015625 \nL 54.890625 0 \nL 45.90625 0 \nL 45.90625 32.71875 \nQ 45.90625 40.484375 42.875 44.328125 \nQ 39.84375 48.1875 33.796875 48.1875 \nQ 26.515625 48.1875 22.3125 43.546875 \nQ 18.109375 38.921875 18.109375 30.90625 \nL 18.109375 0 \nL 9.078125 0 \nL 9.078125 54.6875 \nL 18.109375 54.6875 \nL 18.109375 46.1875 \nQ 21.34375 51.125 25.703125 53.5625 \nQ 30.078125 56 35.796875 56 \nQ 45.21875 56 50.046875 50.171875 \nQ 54.890625 44.34375 54.890625 33.015625 \nz\n\" id=\"DejaVuSans-110\"/>\n      <path d=\"M 18.3125 70.21875 \nL 18.3125 54.6875 \nL 36.8125 54.6875 \nL 36.8125 47.703125 \nL 18.3125 47.703125 \nL 18.3125 18.015625 \nQ 18.3125 11.328125 20.140625 9.421875 \nQ 21.96875 7.515625 27.59375 7.515625 \nL 36.8125 7.515625 \nL 36.8125 0 \nL 27.59375 0 \nQ 17.1875 0 13.234375 3.875 \nQ 9.28125 7.765625 9.28125 18.015625 \nL 9.28125 47.703125 \nL 2.6875 47.703125 \nL 2.6875 54.6875 \nL 9.28125 54.6875 \nL 9.28125 70.21875 \nz\n\" id=\"DejaVuSans-116\"/>\n     </defs>\n     <use xlink:href=\"#DejaVuSans-115\"/>\n     <use x=\"52.099609\" xlink:href=\"#DejaVuSans-97\"/>\n     <use x=\"113.378906\" xlink:href=\"#DejaVuSans-100\"/>\n     <use x=\"176.855469\" xlink:href=\"#DejaVuSans-100\"/>\n     <use x=\"240.332031\" xlink:href=\"#DejaVuSans-108\"/>\n     <use x=\"268.115234\" xlink:href=\"#DejaVuSans-101\"/>\n     <use x=\"329.638672\" xlink:href=\"#DejaVuSans-32\"/>\n     <use x=\"361.425781\" xlink:href=\"#DejaVuSans-112\"/>\n     <use x=\"424.902344\" xlink:href=\"#DejaVuSans-111\"/>\n     <use x=\"486.083984\" xlink:href=\"#DejaVuSans-105\"/>\n     <use x=\"513.867188\" xlink:href=\"#DejaVuSans-110\"/>\n     <use x=\"577.246094\" xlink:href=\"#DejaVuSans-116\"/>\n    </g>\n   </g>\n  </g>\n </g>\n <defs>\n  <clipPath id=\"pc94722cfec\">\n   <rect height=\"135.9\" width=\"195.3\" x=\"42.620312\" y=\"7.2\"/>\n  </clipPath>\n </defs>\n</svg>\n",
      "text/plain": [
       "<Figure size 252x180 with 1 Axes>"
      ]
     },
     "metadata": {
      "needs_background": "light"
     },
     "output_type": "display_data"
    }
   ],
   "source": [
    "x = tf.range(-2.0, 2.0, 0.01)\n",
    "d2l.plot(x, [x**3], 'x', 'f(x)')\n",
    "annotate('saddle point', (0, -0.2), (-0.52, -5.0))"
   ]
  },
  {
   "cell_type": "markdown",
   "metadata": {},
   "source": [
    "如下例所示，较高维度的鞍点甚至更加隐蔽。考虑这个函数$f(x)=x^2-y^2$。它的鞍点为(0,0)。这是关于y的最大值，也是关于x的最小值。此外，它看起来像马鞍，这就是这个数学属性的名字由来。"
   ]
  },
  {
   "cell_type": "code",
   "execution_count": 20,
   "metadata": {
    "ExecuteTime": {
     "end_time": "2022-10-18T14:32:27.012620Z",
     "start_time": "2022-10-18T14:32:26.879125Z"
    }
   },
   "outputs": [
    {
     "data": {
      "image/svg+xml": "<?xml version=\"1.0\" encoding=\"utf-8\" standalone=\"no\"?>\n<!DOCTYPE svg PUBLIC \"-//W3C//DTD SVG 1.1//EN\"\n  \"http://www.w3.org/Graphics/SVG/1.1/DTD/svg11.dtd\">\n<!-- Created with matplotlib (https://matplotlib.org/) -->\n<svg height=\"169.322863pt\" version=\"1.1\" viewBox=\"0 0 167.228315 169.322863\" width=\"167.228315pt\" xmlns=\"http://www.w3.org/2000/svg\" xmlns:xlink=\"http://www.w3.org/1999/xlink\">\n <metadata>\n  <rdf:RDF xmlns:cc=\"http://creativecommons.org/ns#\" xmlns:dc=\"http://purl.org/dc/elements/1.1/\" xmlns:rdf=\"http://www.w3.org/1999/02/22-rdf-syntax-ns#\">\n   <cc:Work>\n    <dc:type rdf:resource=\"http://purl.org/dc/dcmitype/StillImage\"/>\n    <dc:date>2022-10-18T22:32:26.963902</dc:date>\n    <dc:format>image/svg+xml</dc:format>\n    <dc:creator>\n     <cc:Agent>\n      <dc:title>Matplotlib v3.3.3, https://matplotlib.org/</dc:title>\n     </cc:Agent>\n    </dc:creator>\n   </cc:Work>\n  </rdf:RDF>\n </metadata>\n <defs>\n  <style type=\"text/css\">*{stroke-linecap:butt;stroke-linejoin:round;}</style>\n </defs>\n <g id=\"figure_1\">\n  <g id=\"patch_1\">\n   <path d=\"M 0 169.322863 \nL 167.228315 169.322863 \nL 167.228315 0 \nL 0 0 \nz\n\" style=\"fill:none;\"/>\n  </g>\n  <g id=\"patch_2\">\n   <path d=\"M 7.242206 143.1 \nL 143.142206 143.1 \nL 143.142206 7.2 \nL 7.242206 7.2 \nz\n\" style=\"fill:#ffffff;\"/>\n  </g>\n  <g id=\"pane3d_1\">\n   <g id=\"patch_3\">\n    <path d=\"M 17.503593 109.591415 \nL 62.382211 71.973267 \nL 61.758355 17.721174 \nL 14.732064 52.038819 \n\" style=\"fill:#f2f2f2;opacity:0.5;stroke:#f2f2f2;stroke-linejoin:miter;\"/>\n   </g>\n  </g>\n  <g id=\"pane3d_2\">\n   <g id=\"patch_4\">\n    <path d=\"M 62.382211 71.973267 \nL 134.396381 92.904944 \nL 136.966312 36.784198 \nL 61.758355 17.721174 \n\" style=\"fill:#e6e6e6;opacity:0.5;stroke:#e6e6e6;stroke-linejoin:miter;\"/>\n   </g>\n  </g>\n  <g id=\"pane3d_3\">\n   <g id=\"patch_5\">\n    <path d=\"M 17.503593 109.591415 \nL 93.84213 134.523581 \nL 134.396381 92.904944 \nL 62.382211 71.973267 \n\" style=\"fill:#ececec;opacity:0.5;stroke:#ececec;stroke-linejoin:miter;\"/>\n   </g>\n  </g>\n  <g id=\"axis3d_1\">\n   <g id=\"line2d_1\">\n    <path d=\"M 17.503593 109.591415 \nL 93.84213 134.523581 \n\" style=\"fill:none;stroke:#000000;stroke-linecap:square;stroke-width:0.8;\"/>\n   </g>\n   <g id=\"text_1\">\n    <!-- x -->\n    <g transform=\"translate(35.285103 160.043176)scale(0.1 -0.1)\">\n     <defs>\n      <path d=\"M 54.890625 54.6875 \nL 35.109375 28.078125 \nL 55.90625 0 \nL 45.3125 0 \nL 29.390625 21.484375 \nL 13.484375 0 \nL 2.875 0 \nL 24.125 28.609375 \nL 4.6875 54.6875 \nL 15.28125 54.6875 \nL 29.78125 35.203125 \nL 44.28125 54.6875 \nz\n\" id=\"DejaVuSans-120\"/>\n     </defs>\n     <use xlink:href=\"#DejaVuSans-120\"/>\n    </g>\n   </g>\n   <g id=\"Line3DCollection_1\">\n    <path d=\"M 22.127055 111.101438 \nL 66.761892 73.246268 \nL 66.323213 18.878232 \n\" style=\"fill:none;stroke:#b0b0b0;stroke-width:0.8;\"/>\n    <path d=\"M 54.666604 121.728855 \nL 97.519476 82.186283 \nL 98.41427 27.012379 \n\" style=\"fill:none;stroke:#b0b0b0;stroke-width:0.8;\"/>\n    <path d=\"M 88.738736 132.856813 \nL 129.601877 91.511371 \nL 131.949299 35.512532 \n\" style=\"fill:none;stroke:#b0b0b0;stroke-width:0.8;\"/>\n   </g>\n   <g id=\"xtick_1\">\n    <g id=\"line2d_2\">\n     <path d=\"M 22.515733 110.771797 \nL 21.348032 111.762134 \n\" style=\"fill:none;stroke:#000000;stroke-linecap:square;stroke-width:0.8;\"/>\n    </g>\n    <g id=\"text_2\">\n     <!-- −1 -->\n     <g transform=\"translate(7.2 134.466744)scale(0.1 -0.1)\">\n      <defs>\n       <path d=\"M 10.59375 35.5 \nL 73.1875 35.5 \nL 73.1875 27.203125 \nL 10.59375 27.203125 \nz\n\" id=\"DejaVuSans-8722\"/>\n       <path d=\"M 12.40625 8.296875 \nL 28.515625 8.296875 \nL 28.515625 63.921875 \nL 10.984375 60.40625 \nL 10.984375 69.390625 \nL 28.421875 72.90625 \nL 38.28125 72.90625 \nL 38.28125 8.296875 \nL 54.390625 8.296875 \nL 54.390625 0 \nL 12.40625 0 \nz\n\" id=\"DejaVuSans-49\"/>\n      </defs>\n      <use xlink:href=\"#DejaVuSans-8722\"/>\n      <use x=\"83.789062\" xlink:href=\"#DejaVuSans-49\"/>\n     </g>\n    </g>\n   </g>\n   <g id=\"xtick_2\">\n    <g id=\"line2d_3\">\n     <path d=\"M 55.040462 121.383877 \nL 53.917247 122.420325 \n\" style=\"fill:none;stroke:#000000;stroke-linecap:square;stroke-width:0.8;\"/>\n    </g>\n    <g id=\"text_3\">\n     <!-- 0 -->\n     <g transform=\"translate(43.997457 145.539064)scale(0.1 -0.1)\">\n      <defs>\n       <path d=\"M 31.78125 66.40625 \nQ 24.171875 66.40625 20.328125 58.90625 \nQ 16.5 51.421875 16.5 36.375 \nQ 16.5 21.390625 20.328125 13.890625 \nQ 24.171875 6.390625 31.78125 6.390625 \nQ 39.453125 6.390625 43.28125 13.890625 \nQ 47.125 21.390625 47.125 36.375 \nQ 47.125 51.421875 43.28125 58.90625 \nQ 39.453125 66.40625 31.78125 66.40625 \nz\nM 31.78125 74.21875 \nQ 44.046875 74.21875 50.515625 64.515625 \nQ 56.984375 54.828125 56.984375 36.375 \nQ 56.984375 17.96875 50.515625 8.265625 \nQ 44.046875 -1.421875 31.78125 -1.421875 \nQ 19.53125 -1.421875 13.0625 8.265625 \nQ 6.59375 17.96875 6.59375 36.375 \nQ 6.59375 54.828125 13.0625 64.515625 \nQ 19.53125 74.21875 31.78125 74.21875 \nz\n\" id=\"DejaVuSans-48\"/>\n      </defs>\n      <use xlink:href=\"#DejaVuSans-48\"/>\n     </g>\n    </g>\n   </g>\n   <g id=\"xtick_3\">\n    <g id=\"line2d_4\">\n     <path d=\"M 89.095932 132.495402 \nL 88.02274 133.58126 \n\" style=\"fill:none;stroke:#000000;stroke-linecap:square;stroke-width:0.8;\"/>\n    </g>\n    <g id=\"text_4\">\n     <!-- 1 -->\n     <g transform=\"translate(78.152612 157.13687)scale(0.1 -0.1)\">\n      <use xlink:href=\"#DejaVuSans-49\"/>\n     </g>\n    </g>\n   </g>\n  </g>\n  <g id=\"axis3d_2\">\n   <g id=\"line2d_5\">\n    <path d=\"M 134.396381 92.904944 \nL 93.84213 134.523581 \n\" style=\"fill:none;stroke:#000000;stroke-linecap:square;stroke-width:0.8;\"/>\n   </g>\n   <g id=\"text_5\">\n    <!-- y -->\n    <g transform=\"translate(139.069861 143.587338)scale(0.1 -0.1)\">\n     <defs>\n      <path d=\"M 32.171875 -5.078125 \nQ 28.375 -14.84375 24.75 -17.8125 \nQ 21.140625 -20.796875 15.09375 -20.796875 \nL 7.90625 -20.796875 \nL 7.90625 -13.28125 \nL 13.1875 -13.28125 \nQ 16.890625 -13.28125 18.9375 -11.515625 \nQ 21 -9.765625 23.484375 -3.21875 \nL 25.09375 0.875 \nL 2.984375 54.6875 \nL 12.5 54.6875 \nL 29.59375 11.921875 \nL 46.6875 54.6875 \nL 56.203125 54.6875 \nz\n\" id=\"DejaVuSans-121\"/>\n     </defs>\n     <use xlink:href=\"#DejaVuSans-121\"/>\n    </g>\n   </g>\n   <g id=\"Line3DCollection_2\">\n    <path d=\"M 17.984048 49.665669 \nL 20.596109 106.999207 \nL 96.64817 131.643894 \n\" style=\"fill:none;stroke:#b0b0b0;stroke-width:0.8;\"/>\n    <path d=\"M 39.291291 34.116614 \nL 40.898687 89.981183 \nL 115.027621 112.782056 \n\" style=\"fill:none;stroke:#b0b0b0;stroke-width:0.8;\"/>\n    <path d=\"M 59.005785 19.729874 \nL 59.745943 74.18304 \nL 132.024016 95.339573 \n\" style=\"fill:none;stroke:#b0b0b0;stroke-width:0.8;\"/>\n   </g>\n   <g id=\"xtick_4\">\n    <g id=\"line2d_6\">\n     <path d=\"M 96.007277 131.436212 \nL 97.931614 132.059794 \n\" style=\"fill:none;stroke:#000000;stroke-linecap:square;stroke-width:0.8;\"/>\n    </g>\n    <g id=\"text_6\">\n     <!-- −1 -->\n     <g transform=\"translate(102.165104 152.673329)scale(0.1 -0.1)\">\n      <use xlink:href=\"#DejaVuSans-8722\"/>\n      <use x=\"83.789062\" xlink:href=\"#DejaVuSans-49\"/>\n     </g>\n    </g>\n   </g>\n   <g id=\"xtick_5\">\n    <g id=\"line2d_7\">\n     <path d=\"M 114.404171 112.590293 \nL 116.276069 113.166059 \n\" style=\"fill:none;stroke:#000000;stroke-linecap:square;stroke-width:0.8;\"/>\n    </g>\n    <g id=\"text_7\">\n     <!-- 0 -->\n     <g transform=\"translate(124.250678 133.264539)scale(0.1 -0.1)\">\n      <use xlink:href=\"#DejaVuSans-48\"/>\n     </g>\n    </g>\n   </g>\n   <g id=\"xtick_6\">\n    <g id=\"line2d_8\">\n     <path d=\"M 131.417248 95.161966 \nL 133.239002 95.695212 \n\" style=\"fill:none;stroke:#000000;stroke-linecap:square;stroke-width:0.8;\"/>\n    </g>\n    <g id=\"text_8\">\n     <!-- 1 -->\n     <g transform=\"translate(140.798291 115.317846)scale(0.1 -0.1)\">\n      <use xlink:href=\"#DejaVuSans-49\"/>\n     </g>\n    </g>\n   </g>\n  </g>\n  <g id=\"axis3d_3\">\n   <g id=\"line2d_9\">\n    <path d=\"M 134.396381 92.904944 \nL 136.966312 36.784198 \n\" style=\"fill:none;stroke:#000000;stroke-linecap:square;stroke-width:0.8;\"/>\n   </g>\n   <g id=\"Line3DCollection_3\">\n    <path d=\"M 134.445618 91.829732 \nL 62.370234 70.931703 \nL 17.450581 108.490593 \n\" style=\"fill:none;stroke:#b0b0b0;stroke-width:0.8;\"/>\n    <path d=\"M 135.653195 65.459319 \nL 62.076788 45.41288 \nL 16.149355 81.469798 \n\" style=\"fill:none;stroke:#b0b0b0;stroke-width:0.8;\"/>\n    <path d=\"M 136.912659 37.955845 \nL 61.771353 18.851469 \nL 14.790021 53.242344 \n\" style=\"fill:none;stroke:#b0b0b0;stroke-width:0.8;\"/>\n   </g>\n   <g id=\"xtick_7\">\n    <g id=\"line2d_10\">\n     <path d=\"M 133.840682 91.654333 \nL 135.656928 92.180948 \n\" style=\"fill:none;stroke:#000000;stroke-linecap:square;stroke-width:0.8;\"/>\n    </g>\n    <g id=\"text_9\">\n     <!-- −1 -->\n     <g transform=\"translate(145.286127 96.834718)scale(0.1 -0.1)\">\n      <use xlink:href=\"#DejaVuSans-8722\"/>\n      <use x=\"83.789062\" xlink:href=\"#DejaVuSans-49\"/>\n     </g>\n    </g>\n   </g>\n   <g id=\"xtick_8\">\n    <g id=\"line2d_11\">\n     <path d=\"M 135.035054 65.290902 \nL 136.890981 65.796563 \n\" style=\"fill:none;stroke:#000000;stroke-linecap:square;stroke-width:0.8;\"/>\n    </g>\n    <g id=\"text_10\">\n     <!-- 0 -->\n     <g transform=\"translate(151.057056 70.567824)scale(0.1 -0.1)\">\n      <use xlink:href=\"#DejaVuSans-48\"/>\n     </g>\n    </g>\n   </g>\n   <g id=\"xtick_9\">\n    <g id=\"line2d_12\">\n     <path d=\"M 136.280723 37.795178 \nL 138.178101 38.277579 \n\" style=\"fill:none;stroke:#000000;stroke-linecap:square;stroke-width:0.8;\"/>\n    </g>\n    <g id=\"text_11\">\n     <!-- 1 -->\n     <g transform=\"translate(152.705661 43.179212)scale(0.1 -0.1)\">\n      <use xlink:href=\"#DejaVuSans-49\"/>\n     </g>\n    </g>\n   </g>\n  </g>\n  <g id=\"axes_1\">\n   <g id=\"line2d_13\">\n    <defs>\n     <path d=\"M -3 3 \nL 3 -3 \nM -3 -3 \nL 3 3 \n\" id=\"m6e408b7e07\" style=\"stroke:#ff0000;\"/>\n    </defs>\n    <g clip-path=\"url(#p0181c47d1b)\">\n     <use style=\"fill:#ff0000;stroke:#ff0000;\" x=\"77.028692\" xlink:href=\"#m6e408b7e07\" y=\"73.313514\"/>\n    </g>\n   </g>\n   <g id=\"Line3DCollection_4\">\n    <path clip-path=\"url(#p0181c47d1b)\" d=\"M 24.027361 80.414345 \nL 24.720594 81.702703 \nL 25.412368 82.968029 \nL 26.102718 84.210411 \nL 26.791683 85.429941 \nL 27.479302 86.626711 \nL 28.165609 87.800798 \nL 28.850643 88.952292 \nL 29.53444 90.081268 \nL 30.217039 91.187813 \nL 30.898473 92.271992 \nL 31.578782 93.333887 \nL 32.257998 94.373559 \nL 32.93616 95.391082 \nL 33.613303 96.386524 \nL 34.289463 97.359944 \nL 34.964678 98.311408 \nL 35.638982 99.240974 \nL 36.312407 100.148692 \nL 36.984992 101.034624 \nL 37.65677 101.898819 \nL 38.327779 102.741327 \nL 38.998054 103.562198 \nL 39.667626 104.361473 \nL 40.336535 105.139199 \nL 41.004811 105.895413 \nL 41.672491 106.630154 \nL 42.33961 107.343461 \nL 43.006204 108.035369 \nL 43.672303 108.705905 \nL 44.337946 109.355102 \nL 45.003167 109.982987 \nL 45.667998 110.589585 \nL 46.332474 111.174917 \nL 46.996633 111.739007 \nL 47.660505 112.281871 \nL 48.324126 112.803528 \nL 48.987533 113.30399 \nL 49.650755 113.78327 \nL 50.313831 114.241378 \nL 50.976793 114.67832 \nL 51.639679 115.094105 \nL 52.302519 115.488732 \nL 52.965349 115.862203 \nL 53.628206 116.214521 \nL 54.291122 116.545677 \nL 54.954132 116.855668 \nL 55.617273 117.144485 \nL 56.280576 117.412119 \nL 56.944079 117.658558 \nL 57.607817 117.883787 \nL 58.271823 118.087788 \nL 58.936133 118.270544 \nL 59.600782 118.432031 \nL 60.265806 118.572229 \nL 60.931245 118.69111 \nL 61.597126 118.788645 \nL 62.263488 118.864805 \nL 62.930368 118.919556 \nL 63.597802 118.952864 \nL 64.265826 118.964693 \nL 64.934479 118.955 \nL 65.603791 118.923743 \nL 66.273802 118.870879 \nL 66.944549 118.796361 \nL 67.616069 118.700141 \nL 68.288399 118.582164 \nL 68.961576 118.442377 \nL 69.635642 118.280723 \nL 70.310627 118.097143 \nL 70.986572 117.891577 \nL 71.663517 117.663959 \nL 72.341498 117.414221 \nL 73.020556 117.142295 \nL 73.700732 116.848108 \nL 74.382059 116.531589 \nL 75.064578 116.192656 \nL 75.748331 115.831232 \nL 76.433358 115.447234 \nL 77.119697 115.040576 \nL 77.807391 114.61117 \nL 78.496483 114.158922 \nL 79.187008 113.683743 \nL 79.87901 113.185538 \nL 80.572531 112.664201 \nL 81.267614 112.119635 \nL 81.964301 111.551731 \nL 82.662639 110.96038 \nL 83.362663 110.345476 \nL 84.064422 109.706904 \nL 84.767958 109.044541 \nL 85.473316 108.358272 \nL 86.180542 107.64797 \nL 86.889684 106.913505 \nL 87.600781 106.154755 \nL 88.313881 105.371583 \nL 89.029033 104.563851 \nL 89.746282 103.731419 \nL 90.465677 102.874143 \nL 91.187266 101.991878 \nL 91.9111 101.084466 \n\" style=\"fill:none;stroke:#1f77b4;stroke-width:1.5;\"/>\n    <path clip-path=\"url(#p0181c47d1b)\" d=\"M 27.911219 67.075047 \nL 28.602823 68.368706 \nL 29.293038 69.639101 \nL 29.981898 70.886316 \nL 30.66944 72.110447 \nL 31.355706 73.311584 \nL 32.040728 74.489807 \nL 32.724545 75.645203 \nL 33.407193 76.77785 \nL 34.088712 77.887834 \nL 34.769133 78.975221 \nL 35.448497 80.040094 \nL 36.126836 81.082513 \nL 36.804189 82.102554 \nL 37.48059 83.100282 \nL 38.156075 84.07576 \nL 38.830683 85.029052 \nL 39.504447 85.960217 \nL 40.177399 86.869306 \nL 40.849578 87.756378 \nL 41.521019 88.621486 \nL 42.191756 89.464676 \nL 42.861827 90.286003 \nL 43.531262 91.085504 \nL 44.200101 91.863228 \nL 44.868374 92.619211 \nL 45.536118 93.353494 \nL 46.203368 94.066113 \nL 46.870161 94.757104 \nL 47.536526 95.426495 \nL 48.202501 96.074317 \nL 48.868122 96.700599 \nL 49.533419 97.305364 \nL 50.19843 97.888633 \nL 50.86319 98.450432 \nL 51.527731 98.990776 \nL 52.192088 99.50968 \nL 52.856299 100.007161 \nL 53.520393 100.483227 \nL 54.184407 100.937892 \nL 54.848376 101.371159 \nL 55.512337 101.783036 \nL 56.176319 102.173524 \nL 56.84036 102.542624 \nL 57.504497 102.890336 \nL 58.16876 103.216654 \nL 58.833186 103.521572 \nL 59.497812 103.805083 \nL 60.162669 104.067174 \nL 60.827794 104.307835 \nL 61.493224 104.52705 \nL 62.158991 104.724799 \nL 62.825131 104.901067 \nL 63.491681 105.055827 \nL 64.158676 105.189058 \nL 64.826155 105.300733 \nL 65.494146 105.390821 \nL 66.16269 105.459294 \nL 66.831823 105.506114 \nL 67.50158 105.531251 \nL 68.171998 105.534661 \nL 68.843117 105.516306 \nL 69.514967 105.476142 \nL 70.187588 105.414125 \nL 70.861018 105.330207 \nL 71.535293 105.224334 \nL 72.210451 105.096458 \nL 72.886529 104.946521 \nL 73.563571 104.774464 \nL 74.241604 104.580229 \nL 74.920673 104.363753 \nL 75.600815 104.12497 \nL 76.282069 103.863811 \nL 76.964475 103.580206 \nL 77.648075 103.274081 \nL 78.332901 102.945362 \nL 79.018997 102.59397 \nL 79.706404 102.219823 \nL 80.39516 101.822836 \nL 81.085308 101.402924 \nL 81.776888 100.959996 \nL 82.469945 100.493958 \nL 83.164513 100.004719 \nL 83.860638 99.492179 \nL 84.558363 98.956237 \nL 85.257729 98.396788 \nL 85.958781 97.813725 \nL 86.661565 97.206936 \nL 87.366117 96.576313 \nL 88.072485 95.92174 \nL 88.780714 95.243092 \nL 89.490849 94.540251 \nL 90.202936 93.81309 \nL 90.917023 93.061476 \nL 91.63315 92.285284 \nL 92.351367 91.484376 \nL 93.071721 90.658613 \nL 93.794261 89.807851 \nL 94.519033 88.931945 \nL 95.246087 88.030746 \nL 95.975477 87.104096 \n\" style=\"fill:none;stroke:#1f77b4;stroke-width:1.5;\"/>\n    <path clip-path=\"url(#p0181c47d1b)\" d=\"M 31.873154 55.985404 \nL 32.561899 57.281197 \nL 33.249328 58.553572 \nL 33.935475 59.802617 \nL 34.620378 61.028425 \nL 35.304077 62.231087 \nL 35.986604 63.410683 \nL 36.667998 64.567301 \nL 37.348296 65.701018 \nL 38.027536 66.81192 \nL 38.70575 67.900074 \nL 39.382978 68.965563 \nL 40.059253 70.008445 \nL 40.734611 71.028798 \nL 41.409088 72.026688 \nL 42.08272 73.002174 \nL 42.755545 73.955324 \nL 43.427595 74.886195 \nL 44.098905 75.794838 \nL 44.76951 76.681312 \nL 45.439446 77.54567 \nL 46.108748 78.387959 \nL 46.777453 79.208232 \nL 47.445592 80.006527 \nL 48.113203 80.782893 \nL 48.780317 81.537365 \nL 49.44697 82.269985 \nL 50.113198 82.980787 \nL 50.779037 83.669809 \nL 51.444517 84.337077 \nL 52.109675 84.982623 \nL 52.774547 85.606476 \nL 53.439164 86.208657 \nL 54.103562 86.78919 \nL 54.767777 87.348097 \nL 55.431841 87.885394 \nL 56.095789 88.401098 \nL 56.759658 88.895222 \nL 57.423478 89.367779 \nL 58.087286 89.818774 \nL 58.751117 90.248218 \nL 59.415007 90.656116 \nL 60.078986 91.042467 \nL 60.743092 91.407275 \nL 61.407361 91.750535 \nL 62.071824 92.072244 \nL 62.736518 92.372394 \nL 63.40148 92.65098 \nL 64.06674 92.907987 \nL 64.732336 93.143402 \nL 65.398305 93.357213 \nL 66.064679 93.549397 \nL 66.731494 93.719938 \nL 67.398787 93.868811 \nL 68.066592 93.995993 \nL 68.734951 94.101456 \nL 69.40389 94.18517 \nL 70.07345 94.247103 \nL 70.743667 94.287223 \nL 71.414577 94.305491 \nL 72.086216 94.301869 \nL 72.758627 94.276316 \nL 73.431836 94.228788 \nL 74.105886 94.159238 \nL 74.780814 94.06762 \nL 75.456656 93.95388 \nL 76.133451 93.817966 \nL 76.811237 93.659821 \nL 77.490055 93.479387 \nL 78.169936 93.276603 \nL 78.850922 93.051406 \nL 79.533052 92.803729 \nL 80.216364 92.533504 \nL 80.900899 92.240657 \nL 81.5867 91.925116 \nL 82.273799 91.586804 \nL 82.962239 91.225642 \nL 83.65206 90.841548 \nL 84.343305 90.434436 \nL 85.036013 90.004219 \nL 85.730225 89.550805 \nL 86.425988 89.0741 \nL 87.123336 88.574013 \nL 87.822314 88.050441 \nL 88.522965 87.503282 \nL 89.225332 86.932432 \nL 89.929459 86.337782 \nL 90.635393 85.719218 \nL 91.34317 85.076633 \nL 92.052839 84.409907 \nL 92.764445 83.718917 \nL 93.478033 83.003542 \nL 94.193649 82.263654 \nL 94.911343 81.499119 \nL 95.631154 80.709811 \nL 96.353132 79.895592 \nL 97.077326 79.05632 \nL 97.803784 78.19185 \nL 98.532554 77.302036 \nL 99.263686 76.38673 \nL 99.997232 75.445768 \n\" style=\"fill:none;stroke:#1f77b4;stroke-width:1.5;\"/>\n    <path clip-path=\"url(#p0181c47d1b)\" d=\"M 35.892139 47.190863 \nL 36.576823 48.485607 \nL 37.260269 49.756865 \nL 37.942509 51.004724 \nL 38.623582 52.229276 \nL 39.303527 53.430614 \nL 39.982377 54.608815 \nL 40.660168 55.763969 \nL 41.336939 56.896151 \nL 42.012726 58.005448 \nL 42.687561 59.091925 \nL 43.361484 60.155666 \nL 44.034527 61.196729 \nL 44.706727 62.215191 \nL 45.378119 63.211117 \nL 46.048739 64.184568 \nL 46.718623 65.13561 \nL 47.387805 66.064299 \nL 48.056317 66.970687 \nL 48.724196 67.854834 \nL 49.391478 68.716789 \nL 50.058196 69.556602 \nL 50.724388 70.374324 \nL 51.390083 71.169994 \nL 52.055321 71.943659 \nL 52.720132 72.695356 \nL 53.384551 73.425125 \nL 54.048615 74.133 \nL 54.712358 74.819019 \nL 55.375811 75.483207 \nL 56.03901 76.125598 \nL 56.701993 76.746217 \nL 57.364788 77.345088 \nL 58.027432 77.922234 \nL 58.689962 78.477675 \nL 59.352407 79.011429 \nL 60.014805 79.52351 \nL 60.67719 80.013934 \nL 61.339595 80.48271 \nL 62.002054 80.929847 \nL 62.664603 81.355353 \nL 63.327277 81.759233 \nL 63.990108 82.141486 \nL 64.653132 82.502114 \nL 65.316385 82.841115 \nL 65.979899 83.158484 \nL 66.643709 83.454213 \nL 67.307853 83.728296 \nL 67.972362 83.980718 \nL 68.637273 84.211467 \nL 69.302623 84.420528 \nL 69.968443 84.607881 \nL 70.63477 84.773506 \nL 71.301641 84.917382 \nL 71.96909 85.039481 \nL 72.637157 85.139779 \nL 73.30587 85.218243 \nL 73.97527 85.274842 \nL 74.645392 85.309542 \nL 75.316273 85.322306 \nL 75.987949 85.313095 \nL 76.660461 85.281866 \nL 77.333838 85.228577 \nL 78.008121 85.15318 \nL 78.683346 85.055627 \nL 79.359552 84.935866 \nL 80.036776 84.793844 \nL 80.715056 84.629504 \nL 81.394434 84.442786 \nL 82.07494 84.23363 \nL 82.756618 84.001973 \nL 83.439505 83.747747 \nL 84.12364 83.470883 \nL 84.809064 83.171309 \nL 85.495819 82.848949 \nL 86.183938 82.50373 \nL 86.873465 82.13557 \nL 87.564439 81.744387 \nL 88.256903 81.330096 \nL 88.950896 80.892607 \nL 89.646461 80.431831 \nL 90.343642 79.947671 \nL 91.042475 79.440037 \nL 91.743005 78.908825 \nL 92.445275 78.353933 \nL 93.149328 77.775257 \nL 93.855209 77.172687 \nL 94.562964 76.546109 \nL 95.27263 75.895416 \nL 95.984255 75.220487 \nL 96.697885 74.521199 \nL 97.413566 73.797431 \nL 98.131342 73.049055 \nL 98.851266 72.275935 \nL 99.573375 71.477947 \nL 100.297721 70.65495 \nL 101.024351 69.806803 \nL 101.753314 68.933362 \nL 102.48466 68.034479 \nL 103.218436 67.110004 \nL 103.954698 66.159777 \n\" style=\"fill:none;stroke:#1f77b4;stroke-width:1.5;\"/>\n    <path clip-path=\"url(#p0181c47d1b)\" d=\"M 39.946778 40.712631 \nL 40.626242 42.003175 \nL 41.304549 43.270248 \nL 41.981729 44.513936 \nL 42.657822 45.734331 \nL 43.332866 46.931524 \nL 44.006892 48.105593 \nL 44.679939 49.256625 \nL 45.352041 50.384697 \nL 46.023236 51.489894 \nL 46.693556 52.572281 \nL 47.36304 53.63194 \nL 48.031718 54.66893 \nL 48.699629 55.683326 \nL 49.366806 56.675193 \nL 50.033284 57.644592 \nL 50.699101 58.591588 \nL 51.364288 59.516237 \nL 52.028878 60.418591 \nL 52.692908 61.298706 \nL 53.356412 62.156636 \nL 54.019424 62.992426 \nL 54.681981 63.806129 \nL 55.344112 64.597782 \nL 56.005856 65.367433 \nL 56.667242 66.115117 \nL 57.328307 66.840875 \nL 57.989085 67.54474 \nL 58.649612 68.22675 \nL 59.309918 68.88693 \nL 59.970038 69.525312 \nL 60.630009 70.141922 \nL 61.289861 70.736783 \nL 61.949629 71.309918 \nL 62.609349 71.861348 \nL 63.269052 72.391087 \nL 63.928774 72.899153 \nL 64.58855 73.38556 \nL 65.24841 73.850315 \nL 65.908391 74.29343 \nL 66.568527 74.71491 \nL 67.228854 75.11476 \nL 67.889402 75.492981 \nL 68.550208 75.849573 \nL 69.211308 76.184535 \nL 69.872732 76.49786 \nL 70.534517 76.789541 \nL 71.1967 77.059571 \nL 71.859311 77.307937 \nL 72.522387 77.534624 \nL 73.185966 77.739619 \nL 73.850077 77.922901 \nL 74.514759 78.08445 \nL 75.180046 78.224244 \nL 75.845975 78.342258 \nL 76.512584 78.438463 \nL 77.179901 78.51283 \nL 77.847967 78.565327 \nL 78.516816 78.595919 \nL 79.186486 78.60457 \nL 79.857013 78.59124 \nL 80.528437 78.555887 \nL 81.200787 78.498468 \nL 81.874104 78.418936 \nL 82.548425 78.317243 \nL 83.223787 78.193336 \nL 83.900228 78.047162 \nL 84.577785 77.878666 \nL 85.256501 77.687786 \nL 85.936406 77.474464 \nL 86.617542 77.238635 \nL 87.299947 76.980232 \nL 87.983662 76.699187 \nL 88.668725 76.395427 \nL 89.355179 76.068878 \nL 90.043057 75.719464 \nL 90.732403 75.347106 \nL 91.423256 74.951721 \nL 92.115658 74.533224 \nL 92.809649 74.091527 \nL 93.505271 73.626538 \nL 94.20257 73.138164 \nL 94.901579 72.626311 \nL 95.602346 72.09088 \nL 96.304911 71.531767 \nL 97.00932 70.948868 \nL 97.715615 70.342073 \nL 98.423844 69.711271 \nL 99.134043 69.056352 \nL 99.846261 68.377198 \nL 100.560544 67.673685 \nL 101.276935 66.945693 \nL 101.995483 66.193094 \nL 102.716237 65.415753 \nL 103.439235 64.613546 \nL 104.16453 63.786334 \nL 104.892168 62.933974 \nL 105.622199 62.056324 \nL 106.354672 61.153237 \nL 107.089635 60.224565 \nL 107.827143 59.270145 \n\" style=\"fill:none;stroke:#1f77b4;stroke-width:1.5;\"/>\n    <path clip-path=\"url(#p0181c47d1b)\" d=\"M 44.015684 36.547748 \nL 44.688824 37.831013 \nL 45.360887 39.090904 \nL 46.031907 40.327506 \nL 46.701921 41.540909 \nL 47.370965 42.731204 \nL 48.039072 43.898467 \nL 48.706278 45.042785 \nL 49.372619 46.164233 \nL 50.038131 47.262895 \nL 50.702845 48.338836 \nL 51.3668 49.392137 \nL 52.030025 50.422856 \nL 52.692558 51.431067 \nL 53.354434 52.416834 \nL 54.015685 53.380218 \nL 54.676348 54.321282 \nL 55.336455 55.240082 \nL 55.996039 56.136668 \nL 56.655134 57.011099 \nL 57.313775 57.863424 \nL 57.971997 58.69369 \nL 58.629833 59.501947 \nL 59.287314 60.288235 \nL 59.944479 61.052598 \nL 60.601355 61.795073 \nL 61.257979 62.515699 \nL 61.914385 63.214509 \nL 62.570608 63.89154 \nL 63.226677 64.546816 \nL 63.882628 65.18037 \nL 64.538497 65.792228 \nL 65.194312 66.382412 \nL 65.850111 66.950943 \nL 66.505927 67.497843 \nL 67.161791 68.023127 \nL 67.817738 68.52681 \nL 68.473805 69.008907 \nL 69.13002 69.469426 \nL 69.786419 69.908377 \nL 70.443036 70.325765 \nL 71.099907 70.721596 \nL 71.757062 71.09587 \nL 72.414537 71.448587 \nL 73.072368 71.779745 \nL 73.730585 72.089338 \nL 74.389224 72.37736 \nL 75.048321 72.643801 \nL 75.707907 72.88865 \nL 76.368019 73.111892 \nL 77.028692 73.313514 \nL 77.689958 73.493494 \nL 78.351854 73.651813 \nL 79.014415 73.788449 \nL 79.677675 73.903376 \nL 80.341674 73.996568 \nL 81.006439 74.067993 \nL 81.67201 74.117621 \nL 82.338424 74.145417 \nL 83.005714 74.151344 \nL 83.673919 74.135363 \nL 84.343077 74.097434 \nL 85.013217 74.037511 \nL 85.684381 73.95555 \nL 86.356605 73.851502 \nL 87.029925 73.725316 \nL 87.70438 73.576938 \nL 88.380006 73.406313 \nL 89.056846 73.213381 \nL 89.734929 72.998083 \nL 90.414298 72.760355 \nL 91.094991 72.500132 \nL 91.777047 72.217345 \nL 92.460505 71.911922 \nL 93.145408 71.583789 \nL 93.831787 71.232872 \nL 94.519688 70.859092 \nL 95.209148 70.462366 \nL 95.90021 70.042611 \nL 96.592914 69.599739 \nL 97.287301 69.13366 \nL 97.983417 68.644279 \nL 98.681295 68.131507 \nL 99.380982 67.595243 \nL 100.082519 67.035384 \nL 100.785951 66.451828 \nL 101.49132 65.844466 \nL 102.198673 65.213187 \nL 102.908048 64.557884 \nL 103.619492 63.878438 \nL 104.33305 63.174727 \nL 105.048768 62.446633 \nL 105.766691 61.694028 \nL 106.486871 60.91678 \nL 107.209344 60.114764 \nL 107.934163 59.287843 \nL 108.661375 58.435878 \nL 109.391028 57.558725 \nL 110.123172 56.65624 \nL 110.857855 55.728276 \nL 111.595131 54.774673 \n\" style=\"fill:none;stroke:#1f77b4;stroke-width:1.5;\"/>\n    <path clip-path=\"url(#p0181c47d1b)\" d=\"M 48.077836 34.669764 \nL 48.743608 35.942782 \nL 49.408389 37.192602 \nL 50.072208 38.419307 \nL 50.735103 39.622987 \nL 51.39711 40.80373 \nL 52.058261 41.961611 \nL 52.718591 43.096716 \nL 53.378134 44.209119 \nL 54.036928 45.298903 \nL 54.695001 46.36613 \nL 55.352392 47.410881 \nL 56.00913 48.433214 \nL 56.665252 49.4332 \nL 57.320791 50.410903 \nL 57.97578 51.366382 \nL 58.630255 52.299701 \nL 59.284248 53.210912 \nL 59.937789 54.100068 \nL 60.590914 54.967223 \nL 61.243657 55.812428 \nL 61.89605 56.635728 \nL 62.548128 57.437173 \nL 63.199921 58.216801 \nL 63.851466 58.974658 \nL 64.502791 59.710777 \nL 65.153932 60.425197 \nL 65.804922 61.117952 \nL 66.455795 61.789077 \nL 67.106582 62.438598 \nL 67.757315 63.066544 \nL 68.408032 63.672943 \nL 69.05876 64.257814 \nL 69.709535 64.821181 \nL 70.360391 65.363063 \nL 71.011358 65.883476 \nL 71.662471 66.382435 \nL 72.313765 66.859953 \nL 72.965269 67.31604 \nL 73.617018 67.750703 \nL 74.269047 68.16395 \nL 74.921389 68.555785 \nL 75.574075 68.926208 \nL 76.227139 69.275219 \nL 76.880619 69.602817 \nL 77.534542 69.908994 \nL 78.188946 70.193746 \nL 78.843865 70.457062 \nL 79.499331 70.698931 \nL 80.155378 70.91934 \nL 80.812043 71.118273 \nL 81.469357 71.295711 \nL 82.127355 71.451634 \nL 82.786073 71.58602 \nL 83.445545 71.698845 \nL 84.105809 71.79008 \nL 84.766894 71.859697 \nL 85.428838 71.907665 \nL 86.091676 71.933948 \nL 86.755444 71.938512 \nL 87.420178 71.921318 \nL 88.085918 71.882325 \nL 88.75269 71.82149 \nL 89.420537 71.738767 \nL 90.089494 71.634109 \nL 90.759598 71.507465 \nL 91.430886 71.358783 \nL 92.103394 71.188008 \nL 92.777165 70.995082 \nL 93.452228 70.779945 \nL 94.128625 70.542535 \nL 94.806393 70.282788 \nL 95.485572 70.000635 \nL 96.166199 69.696007 \nL 96.848318 69.368829 \nL 97.531961 69.01903 \nL 98.217169 68.64653 \nL 98.903984 68.251249 \nL 99.592445 67.833104 \nL 100.282593 67.39201 \nL 100.974468 66.927877 \nL 101.668116 66.440612 \nL 102.36357 65.930127 \nL 103.060876 65.396322 \nL 103.760076 64.839097 \nL 104.461213 64.258351 \nL 105.164328 63.653977 \nL 105.869471 63.025864 \nL 106.576676 62.373908 \nL 107.285991 61.697993 \nL 107.997462 60.997997 \nL 108.711133 60.273804 \nL 109.427049 59.525289 \nL 110.14526 58.752321 \nL 110.865805 57.954779 \nL 111.588734 57.132526 \nL 112.314095 56.285425 \nL 113.041936 55.413337 \nL 113.772304 54.516118 \nL 114.505249 53.593624 \nL 115.240824 52.645697 \n\" style=\"fill:none;stroke:#1f77b4;stroke-width:1.5;\"/>\n    <path clip-path=\"url(#p0181c47d1b)\" d=\"M 52.11293 35.029972 \nL 52.770365 36.289922 \nL 53.426891 37.526924 \nL 54.08254 38.741061 \nL 54.737346 39.93242 \nL 55.391347 41.101088 \nL 56.044572 42.24714 \nL 56.697056 43.370657 \nL 57.348832 44.471714 \nL 57.999937 45.55039 \nL 58.650399 46.606749 \nL 59.300255 47.640869 \nL 59.949535 48.652804 \nL 60.598273 49.642627 \nL 61.246502 50.610401 \nL 61.894256 51.556181 \nL 62.541569 52.480031 \nL 63.188471 53.382004 \nL 63.834993 54.262148 \nL 64.48117 55.120519 \nL 65.127035 55.957165 \nL 65.772619 56.772132 \nL 66.417957 57.565468 \nL 67.063078 58.33721 \nL 67.708018 59.087402 \nL 68.352805 59.816079 \nL 68.997474 60.523278 \nL 69.642057 61.209032 \nL 70.286588 61.873376 \nL 70.931096 62.516334 \nL 71.575616 63.137936 \nL 72.22018 63.738208 \nL 72.864818 64.317171 \nL 73.509565 64.874846 \nL 74.154454 65.411253 \nL 74.799514 65.926406 \nL 75.44478 66.420322 \nL 76.090286 66.893013 \nL 76.736061 67.344487 \nL 77.382139 67.774754 \nL 78.028553 68.183819 \nL 78.675338 68.571688 \nL 79.322523 68.93836 \nL 79.970142 69.283834 \nL 80.618231 69.608111 \nL 81.266819 69.911183 \nL 81.915941 70.193044 \nL 82.565632 70.453685 \nL 83.215922 70.693095 \nL 83.866847 70.911261 \nL 84.518441 71.108167 \nL 85.170735 71.283795 \nL 85.823764 71.438125 \nL 86.477563 71.571137 \nL 87.132166 71.682804 \nL 87.78761 71.773101 \nL 88.443924 71.841999 \nL 89.101144 71.889467 \nL 89.759307 71.915472 \nL 90.418447 71.919978 \nL 91.078598 71.902949 \nL 91.739802 71.864343 \nL 92.402084 71.804119 \nL 93.065485 71.722232 \nL 93.730041 71.618636 \nL 94.395788 71.49328 \nL 95.062763 71.346115 \nL 95.731001 71.177085 \nL 96.400544 70.986133 \nL 97.071421 70.773203 \nL 97.743673 70.538232 \nL 98.417337 70.281158 \nL 99.092453 70.001914 \nL 99.769057 69.70043 \nL 100.447192 69.376636 \nL 101.12689 69.03046 \nL 101.808192 68.661825 \nL 102.491138 68.270652 \nL 103.175768 67.85686 \nL 103.862121 67.420365 \nL 104.550238 66.96108 \nL 105.240164 66.478913 \nL 105.931932 65.973779 \nL 106.625585 65.445579 \nL 107.321167 64.894216 \nL 108.01872 64.31959 \nL 108.718285 63.721596 \nL 109.419909 63.100128 \nL 110.123628 62.455082 \nL 110.829489 61.786345 \nL 111.537537 61.093798 \nL 112.247814 60.377327 \nL 112.960368 59.63681 \nL 113.675246 58.872118 \nL 114.392486 58.083132 \nL 115.11214 57.269721 \nL 115.834252 56.43175 \nL 116.558871 55.56908 \nL 117.286045 54.681574 \nL 118.015821 53.769088 \nL 118.748253 52.83147 \n\" style=\"fill:none;stroke:#1f77b4;stroke-width:1.5;\"/>\n    <path clip-path=\"url(#p0181c47d1b)\" d=\"M 56.101671 37.559159 \nL 56.749875 38.803395 \nL 57.397255 40.025004 \nL 58.04384 41.224068 \nL 58.689665 42.400673 \nL 59.334764 43.554902 \nL 59.979168 44.686827 \nL 60.622909 45.796531 \nL 61.266022 46.884084 \nL 61.908539 47.949565 \nL 62.550491 48.993035 \nL 63.191912 50.01457 \nL 63.832831 51.014225 \nL 64.473283 51.992069 \nL 65.113299 52.948163 \nL 65.752912 53.882562 \nL 66.392154 54.795329 \nL 67.031057 55.686514 \nL 67.66965 56.556166 \nL 68.307966 57.404338 \nL 68.946038 58.231078 \nL 69.583897 59.03643 \nL 70.221576 59.820442 \nL 70.859105 60.583148 \nL 71.496517 61.324593 \nL 72.13384 62.044811 \nL 72.77111 62.743837 \nL 73.408356 63.421704 \nL 74.045612 64.078446 \nL 74.682906 64.714086 \nL 75.320273 65.328655 \nL 75.957744 65.922177 \nL 76.595349 66.494672 \nL 77.23312 67.046162 \nL 77.871092 67.576666 \nL 78.509292 68.086199 \nL 79.147754 68.574774 \nL 79.786512 69.042406 \nL 80.425594 69.489103 \nL 81.065034 69.914872 \nL 81.704863 70.319721 \nL 82.345117 70.703653 \nL 82.985822 71.066669 \nL 83.627014 71.40877 \nL 84.268727 71.729952 \nL 84.910989 72.030212 \nL 85.553835 72.309541 \nL 86.197299 72.567933 \nL 86.841411 72.805375 \nL 87.486204 73.021854 \nL 88.131715 73.217357 \nL 88.777972 73.391865 \nL 89.42501 73.54536 \nL 90.072863 73.677819 \nL 90.721565 73.789219 \nL 91.371153 73.879536 \nL 92.021652 73.948739 \nL 92.673102 73.9968 \nL 93.325536 74.023686 \nL 93.978989 74.029363 \nL 94.633494 74.013794 \nL 95.289091 73.97694 \nL 95.945808 73.918761 \nL 96.603681 73.839211 \nL 97.262748 73.738248 \nL 97.923044 73.615821 \nL 98.584604 73.471882 \nL 99.247465 73.306377 \nL 99.911666 73.119251 \nL 100.577237 72.910448 \nL 101.244217 72.679909 \nL 101.912644 72.427571 \nL 102.582554 72.15337 \nL 103.253987 71.857239 \nL 103.926982 71.539108 \nL 104.601571 71.198908 \nL 105.277796 70.836563 \nL 105.955695 70.451997 \nL 106.635307 70.045131 \nL 107.316671 69.615883 \nL 107.999828 69.164168 \nL 108.68482 68.689898 \nL 109.371681 68.192988 \nL 110.060454 67.673343 \nL 110.751182 67.130869 \nL 111.443904 66.565468 \nL 112.138664 65.977038 \nL 112.835506 65.365475 \nL 113.534465 64.730679 \nL 114.235589 64.072539 \nL 114.938921 63.390939 \nL 115.644503 62.68577 \nL 116.352381 61.956911 \nL 117.062603 61.204239 \nL 117.775206 60.427637 \nL 118.49024 59.626976 \nL 119.20775 58.802126 \nL 119.927783 57.952953 \nL 120.650386 57.079322 \nL 121.375606 56.181094 \nL 122.103496 55.25812 \n\" style=\"fill:none;stroke:#1f77b4;stroke-width:1.5;\"/>\n    <path clip-path=\"url(#p0181c47d1b)\" d=\"M 60.026057 42.169753 \nL 60.664222 43.39583 \nL 61.301645 44.599669 \nL 61.938354 45.781348 \nL 62.574384 46.940948 \nL 63.209768 48.078553 \nL 63.844534 49.194232 \nL 64.478716 50.288065 \nL 65.112345 51.360121 \nL 65.745455 52.410476 \nL 66.378074 53.439189 \nL 67.010236 54.446335 \nL 67.641969 55.431967 \nL 68.273307 56.396152 \nL 68.904279 57.338949 \nL 69.534918 58.260413 \nL 70.165257 59.160604 \nL 70.795323 60.03957 \nL 71.425147 60.89736 \nL 72.054762 61.734025 \nL 72.684197 62.549611 \nL 73.313485 63.344162 \nL 73.942657 64.117724 \nL 74.571741 64.870331 \nL 75.200771 65.602027 \nL 75.829774 66.312842 \nL 76.458783 67.002814 \nL 77.08783 67.671974 \nL 77.716945 68.320354 \nL 78.346157 68.947978 \nL 78.975498 69.554874 \nL 79.605001 70.141068 \nL 80.234693 70.706578 \nL 80.864607 71.251424 \nL 81.494776 71.775629 \nL 82.125226 72.279204 \nL 82.755992 72.762162 \nL 83.387105 73.224519 \nL 84.018593 73.666282 \nL 84.650489 74.08746 \nL 85.282825 74.488057 \nL 85.915634 74.868079 \nL 86.548944 75.227526 \nL 87.182787 75.566398 \nL 87.817198 75.884695 \nL 88.452204 76.18241 \nL 89.087839 76.459537 \nL 89.724137 76.716069 \nL 90.361126 76.951993 \nL 90.99884 77.167299 \nL 91.637314 77.361973 \nL 92.276576 77.535995 \nL 92.916659 77.689351 \nL 93.557598 77.822015 \nL 94.199425 77.933968 \nL 94.842176 78.025186 \nL 95.485878 78.095638 \nL 96.130566 78.145298 \nL 96.776276 78.174132 \nL 97.42304 78.182112 \nL 98.070891 78.169197 \nL 98.719869 78.135352 \nL 99.369999 78.080536 \nL 100.02132 78.004708 \nL 100.673866 77.907825 \nL 101.327673 77.789838 \nL 101.982774 77.650701 \nL 102.639206 77.490361 \nL 103.297007 77.308766 \nL 103.956206 77.10586 \nL 104.616843 76.881588 \nL 105.278953 76.635887 \nL 105.942574 76.368695 \nL 106.607741 76.079949 \nL 107.274496 75.76958 \nL 107.942869 75.437522 \nL 108.6129 75.083701 \nL 109.284628 74.708043 \nL 109.958091 74.310472 \nL 110.633327 73.890909 \nL 111.310376 73.449271 \nL 111.989279 72.985473 \nL 112.670069 72.499432 \nL 113.35279 71.991058 \nL 114.037481 71.460258 \nL 114.724184 70.906938 \nL 115.412938 70.330999 \nL 116.10379 69.732341 \nL 116.796773 69.110867 \nL 117.491933 68.466469 \nL 118.189312 67.799036 \nL 118.888954 67.108461 \nL 119.590901 66.394627 \nL 120.295202 65.657416 \nL 121.001891 64.896714 \nL 121.711019 64.112397 \nL 122.42263 63.304338 \nL 123.13677 62.472409 \nL 123.853484 61.616477 \nL 124.572819 60.736411 \nL 125.294827 59.832063 \n\" style=\"fill:none;stroke:#1f77b4;stroke-width:1.5;\"/>\n    <path clip-path=\"url(#p0181c47d1b)\" d=\"M 63.869581 48.758278 \nL 64.496983 49.963977 \nL 65.123724 51.147884 \nL 65.749831 52.310072 \nL 66.375337 53.450623 \nL 67.000275 54.569616 \nL 67.624671 55.66712 \nL 68.248558 56.74321 \nL 68.871968 57.797953 \nL 69.494931 58.831425 \nL 70.117475 59.843682 \nL 70.739634 60.834795 \nL 71.361434 61.804817 \nL 71.982908 62.753813 \nL 72.604086 63.68184 \nL 73.224997 64.588951 \nL 73.845674 65.475204 \nL 74.466145 66.340647 \nL 75.086438 67.185323 \nL 75.706585 68.009288 \nL 76.326616 68.812583 \nL 76.946561 69.595251 \nL 77.566452 70.357336 \nL 78.186314 71.098873 \nL 78.806181 71.819902 \nL 79.42608 72.520454 \nL 80.046043 73.200566 \nL 80.666098 73.860266 \nL 81.286279 74.499589 \nL 81.906611 75.118556 \nL 82.527126 75.717193 \nL 83.147856 76.295527 \nL 83.768827 76.853575 \nL 84.390071 77.391358 \nL 85.011621 77.908895 \nL 85.633501 78.406198 \nL 86.255746 78.883284 \nL 86.878386 79.340163 \nL 87.501449 79.776845 \nL 88.124966 80.193338 \nL 88.748968 80.589645 \nL 89.373487 80.965774 \nL 89.998551 81.321724 \nL 90.624192 81.657495 \nL 91.250442 81.973088 \nL 91.877329 82.268495 \nL 92.504886 82.543712 \nL 93.133145 82.798731 \nL 93.762134 83.033541 \nL 94.391887 83.248132 \nL 95.022436 83.442489 \nL 95.653809 83.616596 \nL 96.286041 83.770436 \nL 96.919162 83.903987 \nL 97.553205 84.017231 \nL 98.188206 84.110141 \nL 98.82419 84.182692 \nL 99.461192 84.234857 \nL 100.099246 84.266603 \nL 100.738384 84.277901 \nL 101.37864 84.268717 \nL 102.020049 84.239014 \nL 102.662639 84.188752 \nL 103.306446 84.117893 \nL 103.951504 84.026394 \nL 104.597847 83.914212 \nL 105.24551 83.781297 \nL 105.894526 83.627602 \nL 106.544935 83.453075 \nL 107.196762 83.257663 \nL 107.850049 83.041312 \nL 108.504828 82.803963 \nL 109.161138 82.545556 \nL 109.819012 82.266029 \nL 110.478491 81.965317 \nL 111.139605 81.643355 \nL 111.802393 81.300073 \nL 112.466892 80.935399 \nL 113.13314 80.549261 \nL 113.801174 80.141582 \nL 114.471033 79.712282 \nL 115.142758 79.261279 \nL 115.816379 78.788494 \nL 116.491941 78.293841 \nL 117.169482 77.777226 \nL 117.849041 77.238564 \nL 118.530659 76.677757 \nL 119.21438 76.094709 \nL 119.900237 75.489327 \nL 120.588274 74.861506 \nL 121.278533 74.211141 \nL 121.971056 73.538127 \nL 122.665886 72.842353 \nL 123.363068 72.123704 \nL 124.062638 71.382071 \nL 124.764644 70.617335 \nL 125.46913 69.829374 \nL 126.176139 69.018063 \nL 126.885718 68.183276 \nL 127.597911 67.324885 \nL 128.312769 66.44275 \n\" style=\"fill:none;stroke:#1f77b4;stroke-width:1.5;\"/>\n    <path clip-path=\"url(#p0181c47d1b)\" d=\"M 24.027361 80.414345 \nL 24.411647 78.980971 \nL 24.796899 77.569496 \nL 25.183095 76.180005 \nL 25.570215 74.812571 \nL 25.958241 73.467261 \nL 26.34715 72.144156 \nL 26.736922 70.843316 \nL 27.127538 69.564812 \nL 27.518978 68.308698 \nL 27.911219 67.075047 \nL 28.304242 65.863906 \nL 28.698025 64.675344 \nL 29.092547 63.509407 \nL 29.487788 62.366147 \nL 29.883727 61.245615 \nL 30.280345 60.147854 \nL 30.677617 59.072909 \nL 31.075523 58.020831 \nL 31.474043 56.991649 \nL 31.873154 55.985404 \nL 32.272837 55.002131 \nL 32.673069 54.041858 \nL 33.073829 53.10462 \nL 33.475097 52.190441 \nL 33.876849 51.299349 \nL 34.279065 50.431365 \nL 34.681723 49.586509 \nL 35.084804 48.764793 \nL 35.488282 47.966242 \nL 35.892139 47.190863 \nL 36.296353 46.438665 \nL 36.700902 45.709659 \nL 37.105764 45.00385 \nL 37.510919 44.32124 \nL 37.916344 43.661831 \nL 38.322017 43.025619 \nL 38.72792 42.4126 \nL 39.134028 41.822769 \nL 39.540321 41.256116 \nL 39.946778 40.712631 \nL 40.353378 40.192296 \nL 40.760098 39.6951 \nL 41.166918 39.221023 \nL 41.573818 38.770041 \nL 41.980774 38.342134 \nL 42.387767 37.937277 \nL 42.794776 37.555441 \nL 43.201779 37.196597 \nL 43.608755 36.860711 \nL 44.015684 36.547748 \nL 44.422545 36.257674 \nL 44.829317 35.990447 \nL 45.235979 35.746029 \nL 45.642511 35.524373 \nL 46.048895 35.325434 \nL 46.455106 35.149167 \nL 46.861126 34.995518 \nL 47.266934 34.86444 \nL 47.672511 34.755874 \nL 48.077836 34.669764 \nL 48.482893 34.606053 \nL 48.887655 34.564683 \nL 49.292107 34.545587 \nL 49.696228 34.548703 \nL 50.099999 34.573963 \nL 50.5034 34.621299 \nL 50.906413 34.690642 \nL 51.30902 34.781918 \nL 51.711198 34.895055 \nL 52.11293 35.029972 \nL 52.514198 35.186596 \nL 52.914982 35.364844 \nL 53.315265 35.564637 \nL 53.71503 35.785889 \nL 54.114254 36.028515 \nL 54.512922 36.292429 \nL 54.911015 36.577542 \nL 55.308516 36.883763 \nL 55.705408 37.211 \nL 56.101671 37.559159 \nL 56.497293 37.928148 \nL 56.89225 38.317866 \nL 57.286527 38.728213 \nL 57.680109 39.159095 \nL 58.072978 39.610405 \nL 58.465118 40.082043 \nL 58.856514 40.573906 \nL 59.247145 41.085882 \nL 59.636998 41.617866 \nL 60.026057 42.169753 \nL 60.414307 42.741428 \nL 60.80173 43.332783 \nL 61.188315 43.943707 \nL 61.574041 44.574081 \nL 61.958895 45.22379 \nL 62.342863 45.89272 \nL 62.72593 46.580753 \nL 63.108081 47.28777 \nL 63.489302 48.01365 \nL 63.869581 48.758278 \n\" style=\"fill:none;stroke:#1f77b4;stroke-width:1.5;\"/>\n    <path clip-path=\"url(#p0181c47d1b)\" d=\"M 30.898473 92.271992 \nL 31.28199 90.844121 \nL 31.66635 89.437874 \nL 32.051531 88.053334 \nL 32.437514 86.690572 \nL 32.824281 85.349657 \nL 33.211808 84.030666 \nL 33.600077 82.733662 \nL 33.989068 81.458714 \nL 34.378761 80.205877 \nL 34.769133 78.975221 \nL 35.160166 77.766795 \nL 35.551838 76.580667 \nL 35.944129 75.416884 \nL 36.337018 74.275495 \nL 36.730484 73.156555 \nL 37.124508 72.060102 \nL 37.519068 70.986186 \nL 37.914142 69.934852 \nL 38.30971 68.906136 \nL 38.70575 67.900074 \nL 39.102243 66.916703 \nL 39.499169 65.956051 \nL 39.896503 65.018153 \nL 40.294227 64.103032 \nL 40.692319 63.210718 \nL 41.090757 62.341232 \nL 41.489521 61.494593 \nL 41.888592 60.670817 \nL 42.287945 59.869924 \nL 42.687561 59.091925 \nL 43.08742 58.336829 \nL 43.487498 57.604648 \nL 43.887776 56.895387 \nL 44.288234 56.209045 \nL 44.688849 55.545629 \nL 45.0896 54.905136 \nL 45.490468 54.287561 \nL 45.89143 53.6929 \nL 46.292467 53.121142 \nL 46.693556 52.572281 \nL 47.094679 52.046298 \nL 47.495813 51.543183 \nL 47.896938 51.062916 \nL 48.298035 50.605476 \nL 48.69908 50.170843 \nL 49.100055 49.758992 \nL 49.500941 49.369896 \nL 49.901713 49.003527 \nL 50.302354 48.659851 \nL 50.702845 48.338836 \nL 51.103162 48.040448 \nL 51.503288 47.764646 \nL 51.903201 47.511394 \nL 52.302882 47.280646 \nL 52.702314 47.072357 \nL 53.101473 46.886485 \nL 53.50034 46.722977 \nL 53.898897 46.581785 \nL 54.297123 46.462853 \nL 54.695001 46.36613 \nL 55.092512 46.291556 \nL 55.489633 46.239074 \nL 55.886348 46.208622 \nL 56.282637 46.200135 \nL 56.678482 46.213551 \nL 57.073864 46.248802 \nL 57.468765 46.305819 \nL 57.863169 46.384531 \nL 58.257052 46.484867 \nL 58.650399 46.606749 \nL 59.043191 46.750104 \nL 59.435412 46.914852 \nL 59.827043 47.100914 \nL 60.218069 47.308208 \nL 60.608468 47.536649 \nL 60.998225 47.786154 \nL 61.387323 48.056633 \nL 61.775744 48.348001 \nL 62.163472 48.660165 \nL 62.550491 48.993035 \nL 62.936785 49.346518 \nL 63.322334 49.720516 \nL 63.707125 50.114934 \nL 64.09114 50.529674 \nL 64.474364 50.964635 \nL 64.856781 51.419719 \nL 65.238378 51.894823 \nL 65.619135 52.389838 \nL 65.999038 52.904662 \nL 66.378074 53.439189 \nL 66.756226 53.99331 \nL 67.13348 54.566916 \nL 67.509824 55.159899 \nL 67.885239 55.772142 \nL 68.259712 56.403532 \nL 68.63323 57.053958 \nL 69.005779 57.723303 \nL 69.377344 58.41145 \nL 69.747914 59.118281 \nL 70.117475 59.843682 \n\" style=\"fill:none;stroke:#1f77b4;stroke-width:1.5;\"/>\n    <path clip-path=\"url(#p0181c47d1b)\" d=\"M 37.65677 101.898819 \nL 38.040179 100.473794 \nL 38.424312 99.070192 \nL 38.809148 97.688097 \nL 39.194667 96.32758 \nL 39.580852 94.988709 \nL 39.967679 93.671563 \nL 40.355129 92.376203 \nL 40.743182 91.102697 \nL 41.13182 89.851101 \nL 41.521019 88.621486 \nL 41.910761 87.413899 \nL 42.301024 86.228409 \nL 42.691788 85.065062 \nL 43.083033 83.923908 \nL 43.474738 82.805001 \nL 43.866884 81.708381 \nL 44.259449 80.634096 \nL 44.65241 79.582192 \nL 45.04575 78.552704 \nL 45.439446 77.54567 \nL 45.833478 76.561126 \nL 46.227827 75.599099 \nL 46.62247 74.659627 \nL 47.017387 73.742732 \nL 47.412557 72.848444 \nL 47.807959 71.976783 \nL 48.203573 71.12777 \nL 48.599379 70.301422 \nL 48.995353 69.497758 \nL 49.391478 68.716789 \nL 49.787732 67.958526 \nL 50.184094 67.222979 \nL 50.580543 66.510155 \nL 50.97706 65.820055 \nL 51.373622 65.152684 \nL 51.77021 64.50804 \nL 52.166805 63.886119 \nL 52.563383 63.286916 \nL 52.959925 62.710426 \nL 53.356412 62.156636 \nL 53.752824 61.625533 \nL 54.149138 61.117105 \nL 54.545336 60.631333 \nL 54.941398 60.168198 \nL 55.337302 59.72768 \nL 55.733029 59.309756 \nL 56.128561 58.914396 \nL 56.523875 58.541575 \nL 56.918953 58.191263 \nL 57.313775 57.863424 \nL 57.708322 57.558026 \nL 58.102573 57.275031 \nL 58.49651 57.014401 \nL 58.890113 56.776092 \nL 59.283365 56.560061 \nL 59.676244 56.366265 \nL 60.068731 56.194655 \nL 60.460808 56.04518 \nL 60.852456 55.917789 \nL 61.243657 55.812428 \nL 61.634394 55.72904 \nL 62.024644 55.667569 \nL 62.414392 55.627954 \nL 62.803618 55.610133 \nL 63.192306 55.614042 \nL 63.580436 55.639614 \nL 63.967992 55.686784 \nL 64.354957 55.75548 \nL 64.74131 55.845632 \nL 65.127035 55.957165 \nL 65.512115 56.090005 \nL 65.896533 56.244074 \nL 66.280273 56.419295 \nL 66.663318 56.615586 \nL 67.045649 56.832865 \nL 67.42725 57.071048 \nL 67.808106 57.330048 \nL 68.1882 57.60978 \nL 68.567516 57.910154 \nL 68.946038 58.231078 \nL 69.323752 58.572464 \nL 69.700639 58.934213 \nL 70.076685 59.316232 \nL 70.451875 59.718425 \nL 70.826193 60.140692 \nL 71.199625 60.582935 \nL 71.572158 61.045053 \nL 71.943773 61.526941 \nL 72.314457 62.028494 \nL 72.684197 62.549611 \nL 73.052978 63.090182 \nL 73.420787 63.650101 \nL 73.78761 64.22926 \nL 74.153432 64.827545 \nL 74.518239 65.444844 \nL 74.88202 66.081045 \nL 75.244761 66.736036 \nL 75.606449 67.4097 \nL 75.967071 68.10192 \nL 76.326616 68.812583 \n\" style=\"fill:none;stroke:#1f77b4;stroke-width:1.5;\"/>\n    <path clip-path=\"url(#p0181c47d1b)\" d=\"M 44.337946 109.355102 \nL 44.721906 107.930292 \nL 45.106475 106.526781 \nL 45.491631 105.144653 \nL 45.877355 103.783978 \nL 46.263628 102.444824 \nL 46.650427 101.12727 \nL 47.037735 99.831378 \nL 47.425529 98.557215 \nL 47.813792 97.304838 \nL 48.202501 96.074317 \nL 48.591637 94.8657 \nL 48.981178 93.679055 \nL 49.371105 92.514429 \nL 49.761397 91.371873 \nL 50.152034 90.251439 \nL 50.542996 89.153169 \nL 50.934262 88.07711 \nL 51.325811 87.023309 \nL 51.717622 85.991801 \nL 52.109675 84.982623 \nL 52.50195 83.995813 \nL 52.894427 83.031398 \nL 53.287083 82.089414 \nL 53.6799 81.169886 \nL 54.072856 80.272843 \nL 54.465931 79.398306 \nL 54.859104 78.546296 \nL 55.252356 77.716829 \nL 55.645665 76.909926 \nL 56.03901 76.125598 \nL 56.432374 75.363855 \nL 56.825732 74.624709 \nL 57.219067 73.908167 \nL 57.612358 73.214229 \nL 58.005583 72.542903 \nL 58.398724 71.894185 \nL 58.791761 71.268072 \nL 59.184672 70.664561 \nL 59.577437 70.083644 \nL 59.970038 69.525312 \nL 60.362455 68.98955 \nL 60.754666 68.476348 \nL 61.146652 67.985688 \nL 61.538395 67.517549 \nL 61.929874 67.071913 \nL 62.321069 66.648756 \nL 62.711962 66.248051 \nL 63.102531 65.869773 \nL 63.49276 65.513891 \nL 63.882628 65.18037 \nL 64.272116 64.86918 \nL 64.661205 64.580282 \nL 65.049876 64.313638 \nL 65.43811 64.069208 \nL 65.825892 63.846946 \nL 66.213198 63.64681 \nL 66.600011 63.468752 \nL 66.986314 63.312723 \nL 67.372088 63.178672 \nL 67.757315 63.066544 \nL 68.14198 62.976285 \nL 68.526059 62.907837 \nL 68.909538 62.861142 \nL 69.292399 62.836137 \nL 69.674624 62.83276 \nL 70.056196 62.850944 \nL 70.437098 62.890624 \nL 70.817315 62.951731 \nL 71.196826 63.034192 \nL 71.575616 63.137936 \nL 71.953668 63.262888 \nL 72.330965 63.408972 \nL 72.707493 63.57611 \nL 73.083236 63.764222 \nL 73.458174 63.973226 \nL 73.832293 64.203039 \nL 74.205578 64.453575 \nL 74.578014 64.724749 \nL 74.949583 65.016472 \nL 75.320273 65.328655 \nL 75.690069 65.661207 \nL 76.058951 66.014033 \nL 76.426909 66.387038 \nL 76.793927 66.780128 \nL 77.15999 67.193204 \nL 77.525084 67.626169 \nL 77.889198 68.078922 \nL 78.252313 68.551359 \nL 78.614418 69.043377 \nL 78.975498 69.554874 \nL 79.335541 70.085742 \nL 79.694534 70.635875 \nL 80.052465 71.205167 \nL 80.409317 71.793503 \nL 80.76508 72.400772 \nL 81.119741 73.026866 \nL 81.473288 73.67167 \nL 81.825709 74.335069 \nL 82.176991 75.016947 \nL 82.527126 75.717193 \n\" style=\"fill:none;stroke:#1f77b4;stroke-width:1.5;\"/>\n    <path clip-path=\"url(#p0181c47d1b)\" d=\"M 50.976793 114.67832 \nL 51.361971 113.2511 \nL 51.747643 111.845128 \nL 52.133788 110.460486 \nL 52.520387 109.097248 \nL 52.90742 107.755481 \nL 53.294866 106.435263 \nL 53.682704 105.136657 \nL 54.070915 103.859731 \nL 54.45948 102.604541 \nL 54.848376 101.371159 \nL 55.237585 100.159632 \nL 55.627084 98.970029 \nL 56.016854 97.802396 \nL 56.406875 96.656785 \nL 56.797126 95.53325 \nL 57.187587 94.43183 \nL 57.578238 93.352574 \nL 57.969056 92.29553 \nL 58.360023 91.260732 \nL 58.751117 90.248218 \nL 59.142319 89.258026 \nL 59.533609 88.290183 \nL 59.924964 87.344727 \nL 60.316366 86.421681 \nL 60.707793 85.521075 \nL 61.099225 84.642931 \nL 61.490643 83.787269 \nL 61.882026 82.954106 \nL 62.273352 82.143464 \nL 62.664603 81.355353 \nL 63.055759 80.589784 \nL 63.446797 79.84677 \nL 63.837699 79.126316 \nL 64.228447 78.428425 \nL 64.619016 77.753102 \nL 65.00939 77.100347 \nL 65.399549 76.470154 \nL 65.78947 75.862523 \nL 66.179136 75.277445 \nL 66.568527 74.71491 \nL 66.957625 74.174905 \nL 67.346406 73.657421 \nL 67.734854 73.162437 \nL 68.12295 72.689936 \nL 68.510673 72.239899 \nL 68.898004 71.812301 \nL 69.284926 71.407116 \nL 69.671417 71.02432 \nL 70.05746 70.66388 \nL 70.443036 70.325765 \nL 70.828126 70.009942 \nL 71.212711 69.716374 \nL 71.596773 69.445022 \nL 71.980294 69.195847 \nL 72.363258 68.968803 \nL 72.745643 68.763849 \nL 73.127431 68.580937 \nL 73.508607 68.420018 \nL 73.889151 68.28104 \nL 74.269047 68.16395 \nL 74.648278 68.068693 \nL 75.026824 67.995213 \nL 75.404669 67.943451 \nL 75.781797 67.913344 \nL 76.15819 67.904831 \nL 76.533831 67.917845 \nL 76.908704 67.952321 \nL 77.282795 68.008189 \nL 77.656083 68.08538 \nL 78.028553 68.183819 \nL 78.40019 68.303434 \nL 78.770978 68.444148 \nL 79.140902 68.605883 \nL 79.509947 68.78856 \nL 79.878094 68.992097 \nL 80.24533 69.216412 \nL 80.611639 69.461418 \nL 80.977008 69.727031 \nL 81.341421 70.013161 \nL 81.704863 70.319721 \nL 82.067323 70.646619 \nL 82.428781 70.99376 \nL 82.789226 71.36105 \nL 83.148644 71.748395 \nL 83.507021 72.155697 \nL 83.864344 72.582858 \nL 84.2206 73.029778 \nL 84.575774 73.496353 \nL 84.929853 73.982479 \nL 85.282825 74.488057 \nL 85.634678 75.012976 \nL 85.985399 75.557132 \nL 86.334977 76.120419 \nL 86.683396 76.702722 \nL 87.030647 77.303932 \nL 87.376717 77.923938 \nL 87.721596 78.562627 \nL 88.065271 79.219884 \nL 88.407731 79.895594 \nL 88.748968 80.589645 \n\" style=\"fill:none;stroke:#1f77b4;stroke-width:1.5;\"/>\n    <path clip-path=\"url(#p0181c47d1b)\" d=\"M 57.607817 117.883787 \nL 57.994891 116.451503 \nL 58.382345 115.040488 \nL 58.770159 113.650827 \nL 59.158312 112.282593 \nL 59.546785 110.935854 \nL 59.935557 109.610689 \nL 60.324606 108.307161 \nL 60.713914 107.025338 \nL 61.103461 105.765277 \nL 61.493224 104.52705 \nL 61.883185 103.310705 \nL 62.273321 102.116311 \nL 62.663613 100.943916 \nL 63.054041 99.793571 \nL 63.444583 98.66533 \nL 63.835221 97.559233 \nL 64.225933 96.47533 \nL 64.616698 95.413668 \nL 65.007495 94.374283 \nL 65.398305 93.357213 \nL 65.789107 92.362495 \nL 66.179882 91.390157 \nL 66.570608 90.440238 \nL 66.961265 89.51276 \nL 67.351833 88.607755 \nL 67.74229 87.725243 \nL 68.132618 86.865248 \nL 68.522797 86.027784 \nL 68.912805 85.212873 \nL 69.302623 84.420528 \nL 69.692231 83.650758 \nL 70.081609 82.903576 \nL 70.470736 82.178989 \nL 70.859594 81.476999 \nL 71.248162 80.797612 \nL 71.63642 80.140827 \nL 72.024349 79.506639 \nL 72.41193 78.895048 \nL 72.799141 78.306044 \nL 73.185966 77.739619 \nL 73.572384 77.195759 \nL 73.958376 76.674454 \nL 74.343922 76.175687 \nL 74.729004 75.699436 \nL 75.113603 75.245685 \nL 75.497699 74.814409 \nL 75.881276 74.405581 \nL 76.264311 74.019177 \nL 76.646789 73.655165 \nL 77.028692 73.313514 \nL 77.409999 72.994189 \nL 77.790693 72.697156 \nL 78.170756 72.422374 \nL 78.55017 72.169803 \nL 78.92892 71.9394 \nL 79.306983 71.731121 \nL 79.684344 71.544919 \nL 80.060986 71.380745 \nL 80.436891 71.238547 \nL 80.812043 71.118273 \nL 81.186426 71.019866 \nL 81.560019 70.94327 \nL 81.932808 70.888425 \nL 82.304777 70.855271 \nL 82.675907 70.843744 \nL 83.046185 70.853779 \nL 83.415592 70.885308 \nL 83.784117 70.938264 \nL 84.151737 71.012574 \nL 84.518441 71.108167 \nL 84.884212 71.224968 \nL 85.249035 71.3629 \nL 85.612895 71.521885 \nL 85.975779 71.701845 \nL 86.337668 71.902697 \nL 86.69855 72.124357 \nL 87.05841 72.36674 \nL 87.417233 72.629761 \nL 87.775006 72.913329 \nL 88.131715 73.217357 \nL 88.487347 73.541754 \nL 88.841886 73.886423 \nL 89.195319 74.251271 \nL 89.547633 74.636203 \nL 89.898816 75.041119 \nL 90.248855 75.465924 \nL 90.597738 75.910516 \nL 90.94545 76.374789 \nL 91.291979 76.858642 \nL 91.637314 77.361973 \nL 91.981443 77.884672 \nL 92.324353 78.426634 \nL 92.666036 78.987753 \nL 93.006476 79.567913 \nL 93.345663 80.167005 \nL 93.683587 80.784917 \nL 94.020237 81.421537 \nL 94.355601 82.07675 \nL 94.689671 82.750437 \nL 95.022436 83.442489 \n\" style=\"fill:none;stroke:#1f77b4;stroke-width:1.5;\"/>\n    <path clip-path=\"url(#p0181c47d1b)\" d=\"M 64.265826 118.964693 \nL 64.655494 117.524633 \nL 65.045428 116.105941 \nL 65.435607 114.7087 \nL 65.82601 113.332984 \nL 66.216619 111.978862 \nL 66.60741 110.646415 \nL 66.998364 109.335705 \nL 67.38946 108.046802 \nL 67.780679 106.779763 \nL 68.171998 105.534661 \nL 68.563398 104.311545 \nL 68.954857 103.110484 \nL 69.346356 101.931527 \nL 69.737873 100.774725 \nL 70.129388 99.640133 \nL 70.520882 98.527792 \nL 70.912332 97.437752 \nL 71.303718 96.37006 \nL 71.69502 95.324753 \nL 72.086216 94.301869 \nL 72.477288 93.301447 \nL 72.868216 92.323514 \nL 73.258976 91.368109 \nL 73.649551 90.435256 \nL 74.039918 89.524985 \nL 74.430058 88.637319 \nL 74.819952 87.772279 \nL 75.209579 86.929882 \nL 75.598918 86.11015 \nL 75.987949 85.313095 \nL 76.376655 84.538726 \nL 76.765012 83.787058 \nL 77.153002 83.058097 \nL 77.540607 82.351844 \nL 77.927804 81.668306 \nL 78.314575 81.007482 \nL 78.700902 80.369368 \nL 79.086763 79.753962 \nL 79.47214 79.161256 \nL 79.857013 78.59124 \nL 80.241365 78.043902 \nL 80.625175 77.519231 \nL 81.008424 77.017208 \nL 81.391096 76.537814 \nL 81.773168 76.081031 \nL 82.154624 75.646834 \nL 82.535446 75.235197 \nL 82.915614 74.846093 \nL 83.295111 74.479493 \nL 83.673919 74.135363 \nL 84.052018 73.81367 \nL 84.429392 73.514378 \nL 84.806023 73.237446 \nL 85.181893 72.982834 \nL 85.556988 72.750498 \nL 85.931285 72.540395 \nL 86.304769 72.352476 \nL 86.677424 72.186692 \nL 87.049233 72.04299 \nL 87.420178 71.921318 \nL 87.790246 71.821619 \nL 88.159416 71.743837 \nL 88.527673 71.68791 \nL 88.895002 71.653777 \nL 89.261387 71.641375 \nL 89.626811 71.650637 \nL 89.991259 71.681496 \nL 90.354719 71.733882 \nL 90.717169 71.807724 \nL 91.078598 71.902949 \nL 91.438991 72.01948 \nL 91.798332 72.157242 \nL 92.156607 72.316155 \nL 92.513803 72.496139 \nL 92.869903 72.697112 \nL 93.224894 72.918988 \nL 93.578762 73.161683 \nL 93.931494 73.425109 \nL 94.283076 73.709176 \nL 94.633494 74.013794 \nL 94.982738 74.338873 \nL 95.330791 74.684314 \nL 95.677641 75.050025 \nL 96.023276 75.435907 \nL 96.367684 75.841863 \nL 96.710852 76.267793 \nL 97.05277 76.713597 \nL 97.393423 77.179168 \nL 97.732801 77.664402 \nL 98.070891 78.169197 \nL 98.407684 78.693443 \nL 98.743168 79.237033 \nL 99.077333 79.79986 \nL 99.410166 80.381808 \nL 99.741657 80.982765 \nL 100.071797 81.602621 \nL 100.400574 82.24126 \nL 100.72798 82.898567 \nL 101.054005 83.574424 \nL 101.37864 84.268717 \n\" style=\"fill:none;stroke:#1f77b4;stroke-width:1.5;\"/>\n    <path clip-path=\"url(#p0181c47d1b)\" d=\"M 70.986572 117.891577 \nL 71.379561 116.440944 \nL 71.772701 115.011852 \nL 72.165967 113.604386 \nL 72.55934 112.218621 \nL 72.952802 110.854627 \nL 73.346328 109.512485 \nL 73.739899 108.192259 \nL 74.133494 106.894021 \nL 74.527093 105.617828 \nL 74.920673 104.363753 \nL 75.314216 103.131847 \nL 75.707698 101.92218 \nL 76.1011 100.7348 \nL 76.4944 99.569761 \nL 76.887579 98.427118 \nL 77.280616 97.306912 \nL 77.67349 96.209193 \nL 78.066179 95.134012 \nL 78.458663 94.081403 \nL 78.850922 93.051406 \nL 79.242934 92.04406 \nL 79.634682 91.059393 \nL 80.026141 90.097444 \nL 80.417294 89.158238 \nL 80.808118 88.241804 \nL 81.198595 87.348167 \nL 81.588703 86.477347 \nL 81.978424 85.629361 \nL 82.367735 84.804233 \nL 82.756618 84.001973 \nL 83.145053 83.222592 \nL 83.533019 82.466103 \nL 83.920497 81.732513 \nL 84.307469 81.021824 \nL 84.693912 80.334042 \nL 85.079809 79.669166 \nL 85.46514 79.027192 \nL 85.849885 78.408118 \nL 86.234025 77.811935 \nL 86.617542 77.238635 \nL 87.000417 76.688202 \nL 87.382629 76.160627 \nL 87.764161 75.655892 \nL 88.144996 75.173976 \nL 88.525112 74.714859 \nL 88.904493 74.278519 \nL 89.283121 73.864926 \nL 89.660975 73.474056 \nL 90.03804 73.105878 \nL 90.414298 72.760355 \nL 90.78973 72.437457 \nL 91.164319 72.137145 \nL 91.538047 71.859379 \nL 91.910897 71.604118 \nL 92.282855 71.371316 \nL 92.653899 71.16093 \nL 93.024015 70.97291 \nL 93.393185 70.807207 \nL 93.761394 70.663767 \nL 94.128625 70.542535 \nL 94.494863 70.443456 \nL 94.86009 70.36647 \nL 95.22429 70.311517 \nL 95.587449 70.278534 \nL 95.949551 70.267456 \nL 96.31058 70.278216 \nL 96.670521 70.310745 \nL 97.029362 70.364973 \nL 97.387083 70.440827 \nL 97.743673 70.538232 \nL 98.099115 70.657113 \nL 98.453397 70.79739 \nL 98.806504 70.958984 \nL 99.158425 71.141813 \nL 99.509141 71.345793 \nL 99.858641 71.570839 \nL 100.206911 71.816863 \nL 100.55394 72.083777 \nL 100.899712 72.371489 \nL 101.244217 72.679909 \nL 101.587442 73.008944 \nL 101.929373 73.358495 \nL 102.269998 73.728466 \nL 102.609306 74.11876 \nL 102.947284 74.529276 \nL 103.283922 74.959914 \nL 103.61921 75.410571 \nL 103.953132 75.881138 \nL 104.28568 76.371512 \nL 104.616843 76.881588 \nL 104.94661 77.411253 \nL 105.27497 77.960401 \nL 105.601916 78.528922 \nL 105.927434 79.116698 \nL 106.251515 79.723617 \nL 106.57415 80.349566 \nL 106.89533 80.994427 \nL 107.215046 81.658084 \nL 107.533287 82.340417 \nL 107.850049 83.041312 \n\" style=\"fill:none;stroke:#1f77b4;stroke-width:1.5;\"/>\n    <path clip-path=\"url(#p0181c47d1b)\" d=\"M 77.807391 114.61117 \nL 78.204463 113.147043 \nL 78.601566 111.70471 \nL 78.998676 110.284259 \nL 79.395773 108.885765 \nL 79.792836 107.509301 \nL 80.189843 106.154949 \nL 80.586772 104.822774 \nL 80.983603 103.512848 \nL 81.380316 102.225231 \nL 81.776888 100.959996 \nL 82.173298 99.717196 \nL 82.569525 98.496901 \nL 82.965547 97.299161 \nL 83.361344 96.12403 \nL 83.756895 94.971564 \nL 84.15218 93.841805 \nL 84.547177 92.734806 \nL 84.941863 91.650614 \nL 85.33622 90.589267 \nL 85.730225 89.550805 \nL 86.123859 88.535268 \nL 86.517103 87.542683 \nL 86.909932 86.573092 \nL 87.302328 85.626517 \nL 87.69427 84.70299 \nL 88.085738 83.802535 \nL 88.476711 82.925174 \nL 88.86717 82.070923 \nL 89.257093 81.239805 \nL 89.646461 80.431831 \nL 90.035255 79.647013 \nL 90.423453 78.885364 \nL 90.811036 78.146889 \nL 91.197986 77.431592 \nL 91.584281 76.739478 \nL 91.969902 76.070545 \nL 92.354832 75.42479 \nL 92.739049 74.802209 \nL 93.122535 74.202796 \nL 93.505271 73.626538 \nL 93.887239 73.073424 \nL 94.268419 72.543439 \nL 94.648792 72.036567 \nL 95.028342 71.552787 \nL 95.407047 71.092078 \nL 95.784892 70.654416 \nL 96.161858 70.239772 \nL 96.537926 69.84812 \nL 96.913079 69.479428 \nL 97.287301 69.13366 \nL 97.660572 68.810783 \nL 98.032876 68.510758 \nL 98.404196 68.233543 \nL 98.774514 67.979097 \nL 99.143816 67.747372 \nL 99.512081 67.538326 \nL 99.879296 67.351906 \nL 100.245442 67.18806 \nL 100.610505 67.046736 \nL 100.974468 66.927877 \nL 101.337318 66.831425 \nL 101.699035 66.75732 \nL 102.059605 66.705501 \nL 102.419014 66.675901 \nL 102.777245 66.668456 \nL 103.134285 66.683096 \nL 103.490119 66.719752 \nL 103.844733 66.778352 \nL 104.198111 66.85882 \nL 104.550238 66.96108 \nL 104.901103 67.085054 \nL 105.25069 67.230663 \nL 105.598987 67.397825 \nL 105.945981 67.586456 \nL 106.291657 67.796469 \nL 106.636002 68.027779 \nL 106.979004 68.280295 \nL 107.320651 68.553927 \nL 107.660929 68.848583 \nL 107.999828 69.164168 \nL 108.337336 69.500589 \nL 108.673438 69.857743 \nL 109.008126 70.235535 \nL 109.341386 70.633863 \nL 109.673208 71.052625 \nL 110.003581 71.491719 \nL 110.332497 71.951039 \nL 110.65994 72.430476 \nL 110.985903 72.929922 \nL 111.310376 73.449271 \nL 111.633347 73.988409 \nL 111.954808 74.547225 \nL 112.274752 75.125609 \nL 112.593164 75.72344 \nL 112.910038 76.340604 \nL 113.225365 76.976984 \nL 113.539136 77.632462 \nL 113.851343 78.306918 \nL 114.161977 79.00023 \nL 114.471033 79.712282 \n\" style=\"fill:none;stroke:#1f77b4;stroke-width:1.5;\"/>\n    <path clip-path=\"url(#p0181c47d1b)\" d=\"M 84.767958 109.044541 \nL 85.169923 107.563839 \nL 85.571794 106.10527 \nL 85.973547 104.668925 \nL 86.375161 103.25488 \nL 86.776616 101.863209 \nL 87.177887 100.493995 \nL 87.578953 99.147307 \nL 87.979795 97.823218 \nL 88.380389 96.521787 \nL 88.780714 95.243092 \nL 89.180749 93.987184 \nL 89.580471 92.754136 \nL 89.97986 91.544 \nL 90.378893 90.356829 \nL 90.77755 89.192681 \nL 91.17581 88.0516 \nL 91.573651 86.933637 \nL 91.971051 85.838843 \nL 92.367989 84.767256 \nL 92.764445 83.718917 \nL 93.160397 82.693864 \nL 93.555826 81.692128 \nL 93.950708 80.713749 \nL 94.345025 79.758751 \nL 94.738755 78.827167 \nL 95.131877 77.919019 \nL 95.524371 77.03433 \nL 95.916219 76.173117 \nL 96.307396 75.335403 \nL 96.697885 74.521199 \nL 97.087667 73.730517 \nL 97.476718 72.963368 \nL 97.865021 72.219762 \nL 98.252557 71.499696 \nL 98.639304 70.803178 \nL 99.025243 70.130208 \nL 99.410357 69.480778 \nL 99.794624 68.854888 \nL 100.178026 68.252526 \nL 100.560544 67.673685 \nL 100.94216 67.118348 \nL 101.322854 66.586503 \nL 101.702608 66.07813 \nL 102.081405 65.593208 \nL 102.459224 65.131716 \nL 102.836049 64.693628 \nL 103.211862 64.278917 \nL 103.586645 63.887553 \nL 103.960379 63.519501 \nL 104.33305 63.174727 \nL 104.704637 62.853197 \nL 105.075125 62.554867 \nL 105.444497 62.279699 \nL 105.812735 62.027646 \nL 106.179826 61.798661 \nL 106.54575 61.592699 \nL 106.910491 61.409704 \nL 107.274033 61.249628 \nL 107.636362 61.11241 \nL 107.997462 60.997997 \nL 108.357319 60.906325 \nL 108.715913 60.837337 \nL 109.073232 60.790964 \nL 109.429261 60.767141 \nL 109.783985 60.765802 \nL 110.13739 60.786873 \nL 110.489461 60.830284 \nL 110.840187 60.89596 \nL 111.189549 60.983825 \nL 111.537537 61.093798 \nL 111.884135 61.225801 \nL 112.229332 61.379751 \nL 112.573114 61.555564 \nL 112.91547 61.753154 \nL 113.256384 61.972431 \nL 113.595845 62.213307 \nL 113.933841 62.47569 \nL 114.27036 62.759487 \nL 114.605391 63.064602 \nL 114.938921 63.390939 \nL 115.270941 63.738402 \nL 115.601436 64.106885 \nL 115.930398 64.496289 \nL 116.257815 64.906512 \nL 116.583677 65.337447 \nL 116.907974 65.788989 \nL 117.230698 66.261031 \nL 117.551834 66.753459 \nL 117.871375 67.266164 \nL 118.189312 67.799036 \nL 118.505636 68.351958 \nL 118.820337 68.924817 \nL 119.133409 69.517498 \nL 119.444839 70.129879 \nL 119.754621 70.761841 \nL 120.062747 71.413266 \nL 120.369208 72.084032 \nL 120.673998 72.774015 \nL 120.977108 73.483091 \nL 121.278533 74.211141 \n\" style=\"fill:none;stroke:#1f77b4;stroke-width:1.5;\"/>\n    <path clip-path=\"url(#p0181c47d1b)\" d=\"M 91.9111 101.084466 \nL 92.318825 99.583906 \nL 92.726324 98.10591 \nL 93.133573 96.650572 \nL 93.540551 95.21797 \nL 93.947236 93.808179 \nL 94.353605 92.421286 \nL 94.759635 91.057359 \nL 95.165305 89.716475 \nL 95.570594 88.398695 \nL 95.975477 87.104096 \nL 96.379934 85.832734 \nL 96.783942 84.584681 \nL 97.187479 83.359991 \nL 97.590523 82.158719 \nL 97.993054 80.980924 \nL 98.395049 79.82665 \nL 98.796486 78.695951 \nL 99.197343 77.588879 \nL 99.597599 76.50547 \nL 99.997232 75.445768 \nL 100.396222 74.409811 \nL 100.794548 73.397633 \nL 101.192187 72.409271 \nL 101.58912 71.444753 \nL 101.985324 70.504109 \nL 102.380779 69.587364 \nL 102.775464 68.694541 \nL 103.16936 67.825654 \nL 103.562445 66.980729 \nL 103.954698 66.159777 \nL 104.346101 65.362809 \nL 104.736632 64.589836 \nL 105.126271 63.840866 \nL 105.515 63.1159 \nL 105.902798 62.414944 \nL 106.289645 61.737993 \nL 106.675523 61.085044 \nL 107.060411 60.456094 \nL 107.44429 59.85113 \nL 107.827143 59.270145 \nL 108.208951 58.71312 \nL 108.589693 58.180043 \nL 108.969352 57.670893 \nL 109.347911 57.185647 \nL 109.72535 56.724284 \nL 110.101651 56.286776 \nL 110.476798 55.873093 \nL 110.850771 55.483206 \nL 111.223554 55.117078 \nL 111.595131 54.774673 \nL 111.965482 54.455954 \nL 112.334592 54.160878 \nL 112.702444 53.889403 \nL 113.069021 53.641481 \nL 113.43431 53.417063 \nL 113.798289 53.216101 \nL 114.160946 53.038539 \nL 114.522264 52.884325 \nL 114.882229 52.753398 \nL 115.240824 52.645697 \nL 115.598037 52.561163 \nL 115.953848 52.499732 \nL 116.308246 52.461334 \nL 116.661215 52.445903 \nL 117.012742 52.453365 \nL 117.362812 52.483649 \nL 117.711411 52.53668 \nL 118.058528 52.612381 \nL 118.404146 52.710672 \nL 118.748253 52.83147 \nL 119.090837 52.974693 \nL 119.431884 53.140257 \nL 119.771382 53.328073 \nL 120.109321 53.538053 \nL 120.445684 53.770104 \nL 120.780463 54.024134 \nL 121.113644 54.300049 \nL 121.445218 54.59775 \nL 121.775172 54.91714 \nL 122.103496 55.25812 \nL 122.430181 55.620588 \nL 122.755213 56.004439 \nL 123.078582 56.409565 \nL 123.40028 56.835865 \nL 123.720296 57.283225 \nL 124.038621 57.75154 \nL 124.355247 58.240697 \nL 124.670162 58.750578 \nL 124.983358 59.281072 \nL 125.294827 59.832063 \nL 125.60456 60.403433 \nL 125.912549 60.995063 \nL 126.218788 61.606836 \nL 126.523265 62.238624 \nL 126.825975 62.890305 \nL 127.12691 63.561758 \nL 127.426064 64.252856 \nL 127.723429 64.963473 \nL 128.018999 65.693478 \nL 128.312769 66.44275 \n\" style=\"fill:none;stroke:#1f77b4;stroke-width:1.5;\"/>\n   </g>\n  </g>\n </g>\n <defs>\n  <clipPath id=\"p0181c47d1b\">\n   <rect height=\"135.9\" width=\"135.9\" x=\"7.242206\" y=\"7.2\"/>\n  </clipPath>\n </defs>\n</svg>\n",
      "text/plain": [
       "<Figure size 252x180 with 1 Axes>"
      ]
     },
     "metadata": {
      "needs_background": "light"
     },
     "output_type": "display_data"
    }
   ],
   "source": [
    "x, y = tf.meshgrid(\n",
    "    tf.linspace(-1.0, 1.0, 101), tf.linspace(-1.0, 1.0, 101))\n",
    "z = x**2 - y**2\n",
    "\n",
    "ax = d2l.plt.figure().add_subplot(111, projection='3d')\n",
    "ax.plot_wireframe(x, y, z, **{'rstride': 10, 'cstride': 10})\n",
    "ax.plot([0], [0], [0], 'rx')\n",
    "ticks = [-1, 0, 1]\n",
    "d2l.plt.xticks(ticks)\n",
    "d2l.plt.yticks(ticks)\n",
    "ax.set_zticks(ticks)\n",
    "d2l.plt.xlabel('x')\n",
    "d2l.plt.ylabel('y');"
   ]
  },
  {
   "cell_type": "markdown",
   "metadata": {},
   "source": [
    "我们假设函数的输入是维向量，其输出是标量，因此其Hessian矩阵（也称黑塞矩阵）将有特征值（参考\n",
    "https://d2l.ai/chapter_appendix-mathematics-for-deep-learning/eigendecomposition.html\n",
    ")。函数的解决方案可以是局部最小值、局部最大值或函数梯度为零的位置处的鞍点：\n",
    "\n",
    "当函数在零梯度位置处的Hessian矩阵的特征值全部为正值时，我们有该函数的局部最小值。\n",
    "\n",
    "当函数在零梯度位置处的Hessian矩阵的特征值全部为负值时，我们有该函数的局部最大值。\n",
    "\n",
    "当函数在零梯度位置处的Hessian矩阵的特征值为负值和正值时，我们对函数有一个鞍点。\n",
    "\n",
    "对于高维度问题，至少部分特征值为负的可能性相当高。这使得鞍点比局部最小值更有可能。我们将在下一节介绍凸性时讨论这种情况的一些例外情况。简而言之，凸函数是Hessian函数的特征值永远不是负值的函数。不幸的是，大多数深度学习问题并不属于这个类别。尽管如此，它还是研究优化算法的一个很好的工具。"
   ]
  },
  {
   "cell_type": "markdown",
   "metadata": {},
   "source": [
    "##### 11.1.2.3.梯度消失"
   ]
  },
  {
   "cell_type": "markdown",
   "metadata": {},
   "source": [
    "可能遇到的最隐蔽的问题是梯度消失。回想一下我们在 4.1.2节中常用的激活函数及其衍生函数。例如，假设我们想最小化函数$f(x)=tanh(x)$，然后我们恰好从x=4开始。正如我们所看到的那样，f的梯度接近零。更具体地说$\n",
    "f^{\\prime}(x)=1-\\tanh ^2(x)\n",
    "$，，因此是$f^{\\prime}(4)=0.0013$。因此，在我们取得进展之前，优化将会停滞很长一段时间。事实证明，这是在引入ReLU激活函数之前训练深度学习模型相当棘手的原因之一。"
   ]
  },
  {
   "cell_type": "code",
   "execution_count": 21,
   "metadata": {
    "ExecuteTime": {
     "end_time": "2022-10-18T14:35:06.264430Z",
     "start_time": "2022-10-18T14:35:06.103113Z"
    }
   },
   "outputs": [
    {
     "data": {
      "image/svg+xml": "<?xml version=\"1.0\" encoding=\"utf-8\" standalone=\"no\"?>\n<!DOCTYPE svg PUBLIC \"-//W3C//DTD SVG 1.1//EN\"\n  \"http://www.w3.org/Graphics/SVG/1.1/DTD/svg11.dtd\">\n<!-- Created with matplotlib (https://matplotlib.org/) -->\n<svg height=\"180.65625pt\" version=\"1.1\" viewBox=\"0 0 263.314207 180.65625\" width=\"263.314207pt\" xmlns=\"http://www.w3.org/2000/svg\" xmlns:xlink=\"http://www.w3.org/1999/xlink\">\n <metadata>\n  <rdf:RDF xmlns:cc=\"http://creativecommons.org/ns#\" xmlns:dc=\"http://purl.org/dc/elements/1.1/\" xmlns:rdf=\"http://www.w3.org/1999/02/22-rdf-syntax-ns#\">\n   <cc:Work>\n    <dc:type rdf:resource=\"http://purl.org/dc/dcmitype/StillImage\"/>\n    <dc:date>2022-10-18T22:35:06.227678</dc:date>\n    <dc:format>image/svg+xml</dc:format>\n    <dc:creator>\n     <cc:Agent>\n      <dc:title>Matplotlib v3.3.3, https://matplotlib.org/</dc:title>\n     </cc:Agent>\n    </dc:creator>\n   </cc:Work>\n  </rdf:RDF>\n </metadata>\n <defs>\n  <style type=\"text/css\">*{stroke-linecap:butt;stroke-linejoin:round;}</style>\n </defs>\n <g id=\"figure_1\">\n  <g id=\"patch_1\">\n   <path d=\"M 0 180.65625 \nL 263.314207 180.65625 \nL 263.314207 0 \nL 0 0 \nz\n\" style=\"fill:none;\"/>\n  </g>\n  <g id=\"axes_1\">\n   <g id=\"patch_2\">\n    <path d=\"M 52.160938 143.1 \nL 247.460938 143.1 \nL 247.460938 7.2 \nL 52.160938 7.2 \nz\n\" style=\"fill:#ffffff;\"/>\n   </g>\n   <g id=\"matplotlib.axis_1\">\n    <g id=\"xtick_1\">\n     <g id=\"line2d_1\">\n      <path clip-path=\"url(#pdd4db0c5cb)\" d=\"M 61.03821 143.1 \nL 61.03821 7.2 \n\" style=\"fill:none;stroke:#b0b0b0;stroke-linecap:square;stroke-width:0.8;\"/>\n     </g>\n     <g id=\"line2d_2\">\n      <defs>\n       <path d=\"M 0 0 \nL 0 3.5 \n\" id=\"ma1766860cb\" style=\"stroke:#000000;stroke-width:0.8;\"/>\n      </defs>\n      <g>\n       <use style=\"stroke:#000000;stroke-width:0.8;\" x=\"61.03821\" xlink:href=\"#ma1766860cb\" y=\"143.1\"/>\n      </g>\n     </g>\n     <g id=\"text_1\">\n      <!-- −2 -->\n      <g transform=\"translate(53.667116 157.698438)scale(0.1 -0.1)\">\n       <defs>\n        <path d=\"M 10.59375 35.5 \nL 73.1875 35.5 \nL 73.1875 27.203125 \nL 10.59375 27.203125 \nz\n\" id=\"DejaVuSans-8722\"/>\n        <path d=\"M 19.1875 8.296875 \nL 53.609375 8.296875 \nL 53.609375 0 \nL 7.328125 0 \nL 7.328125 8.296875 \nQ 12.9375 14.109375 22.625 23.890625 \nQ 32.328125 33.6875 34.8125 36.53125 \nQ 39.546875 41.84375 41.421875 45.53125 \nQ 43.3125 49.21875 43.3125 52.78125 \nQ 43.3125 58.59375 39.234375 62.25 \nQ 35.15625 65.921875 28.609375 65.921875 \nQ 23.96875 65.921875 18.8125 64.3125 \nQ 13.671875 62.703125 7.8125 59.421875 \nL 7.8125 69.390625 \nQ 13.765625 71.78125 18.9375 73 \nQ 24.125 74.21875 28.421875 74.21875 \nQ 39.75 74.21875 46.484375 68.546875 \nQ 53.21875 62.890625 53.21875 53.421875 \nQ 53.21875 48.921875 51.53125 44.890625 \nQ 49.859375 40.875 45.40625 35.40625 \nQ 44.1875 33.984375 37.640625 27.21875 \nQ 31.109375 20.453125 19.1875 8.296875 \nz\n\" id=\"DejaVuSans-50\"/>\n       </defs>\n       <use xlink:href=\"#DejaVuSans-8722\"/>\n       <use x=\"83.789062\" xlink:href=\"#DejaVuSans-50\"/>\n      </g>\n     </g>\n    </g>\n    <g id=\"xtick_2\">\n     <g id=\"line2d_3\">\n      <path clip-path=\"url(#pdd4db0c5cb)\" d=\"M 111.837928 143.1 \nL 111.837928 7.2 \n\" style=\"fill:none;stroke:#b0b0b0;stroke-linecap:square;stroke-width:0.8;\"/>\n     </g>\n     <g id=\"line2d_4\">\n      <g>\n       <use style=\"stroke:#000000;stroke-width:0.8;\" x=\"111.837928\" xlink:href=\"#ma1766860cb\" y=\"143.1\"/>\n      </g>\n     </g>\n     <g id=\"text_2\">\n      <!-- 0 -->\n      <g transform=\"translate(108.656678 157.698438)scale(0.1 -0.1)\">\n       <defs>\n        <path d=\"M 31.78125 66.40625 \nQ 24.171875 66.40625 20.328125 58.90625 \nQ 16.5 51.421875 16.5 36.375 \nQ 16.5 21.390625 20.328125 13.890625 \nQ 24.171875 6.390625 31.78125 6.390625 \nQ 39.453125 6.390625 43.28125 13.890625 \nQ 47.125 21.390625 47.125 36.375 \nQ 47.125 51.421875 43.28125 58.90625 \nQ 39.453125 66.40625 31.78125 66.40625 \nz\nM 31.78125 74.21875 \nQ 44.046875 74.21875 50.515625 64.515625 \nQ 56.984375 54.828125 56.984375 36.375 \nQ 56.984375 17.96875 50.515625 8.265625 \nQ 44.046875 -1.421875 31.78125 -1.421875 \nQ 19.53125 -1.421875 13.0625 8.265625 \nQ 6.59375 17.96875 6.59375 36.375 \nQ 6.59375 54.828125 13.0625 64.515625 \nQ 19.53125 74.21875 31.78125 74.21875 \nz\n\" id=\"DejaVuSans-48\"/>\n       </defs>\n       <use xlink:href=\"#DejaVuSans-48\"/>\n      </g>\n     </g>\n    </g>\n    <g id=\"xtick_3\">\n     <g id=\"line2d_5\">\n      <path clip-path=\"url(#pdd4db0c5cb)\" d=\"M 162.637645 143.1 \nL 162.637645 7.2 \n\" style=\"fill:none;stroke:#b0b0b0;stroke-linecap:square;stroke-width:0.8;\"/>\n     </g>\n     <g id=\"line2d_6\">\n      <g>\n       <use style=\"stroke:#000000;stroke-width:0.8;\" x=\"162.637645\" xlink:href=\"#ma1766860cb\" y=\"143.1\"/>\n      </g>\n     </g>\n     <g id=\"text_3\">\n      <!-- 2 -->\n      <g transform=\"translate(159.456395 157.698438)scale(0.1 -0.1)\">\n       <use xlink:href=\"#DejaVuSans-50\"/>\n      </g>\n     </g>\n    </g>\n    <g id=\"xtick_4\">\n     <g id=\"line2d_7\">\n      <path clip-path=\"url(#pdd4db0c5cb)\" d=\"M 213.437362 143.1 \nL 213.437362 7.2 \n\" style=\"fill:none;stroke:#b0b0b0;stroke-linecap:square;stroke-width:0.8;\"/>\n     </g>\n     <g id=\"line2d_8\">\n      <g>\n       <use style=\"stroke:#000000;stroke-width:0.8;\" x=\"213.437362\" xlink:href=\"#ma1766860cb\" y=\"143.1\"/>\n      </g>\n     </g>\n     <g id=\"text_4\">\n      <!-- 4 -->\n      <g transform=\"translate(210.256112 157.698438)scale(0.1 -0.1)\">\n       <defs>\n        <path d=\"M 37.796875 64.3125 \nL 12.890625 25.390625 \nL 37.796875 25.390625 \nz\nM 35.203125 72.90625 \nL 47.609375 72.90625 \nL 47.609375 25.390625 \nL 58.015625 25.390625 \nL 58.015625 17.1875 \nL 47.609375 17.1875 \nL 47.609375 0 \nL 37.796875 0 \nL 37.796875 17.1875 \nL 4.890625 17.1875 \nL 4.890625 26.703125 \nz\n\" id=\"DejaVuSans-52\"/>\n       </defs>\n       <use xlink:href=\"#DejaVuSans-52\"/>\n      </g>\n     </g>\n    </g>\n    <g id=\"text_5\">\n     <!-- x -->\n     <g transform=\"translate(146.851563 171.376563)scale(0.1 -0.1)\">\n      <defs>\n       <path d=\"M 54.890625 54.6875 \nL 35.109375 28.078125 \nL 55.90625 0 \nL 45.3125 0 \nL 29.390625 21.484375 \nL 13.484375 0 \nL 2.875 0 \nL 24.125 28.609375 \nL 4.6875 54.6875 \nL 15.28125 54.6875 \nL 29.78125 35.203125 \nL 44.28125 54.6875 \nz\n\" id=\"DejaVuSans-120\"/>\n      </defs>\n      <use xlink:href=\"#DejaVuSans-120\"/>\n     </g>\n    </g>\n   </g>\n   <g id=\"matplotlib.axis_2\">\n    <g id=\"ytick_1\">\n     <g id=\"line2d_9\">\n      <path clip-path=\"url(#pdd4db0c5cb)\" d=\"M 52.160938 139.185648 \nL 247.460938 139.185648 \n\" style=\"fill:none;stroke:#b0b0b0;stroke-linecap:square;stroke-width:0.8;\"/>\n     </g>\n     <g id=\"line2d_10\">\n      <defs>\n       <path d=\"M 0 0 \nL -3.5 0 \n\" id=\"m9b207fafbd\" style=\"stroke:#000000;stroke-width:0.8;\"/>\n      </defs>\n      <g>\n       <use style=\"stroke:#000000;stroke-width:0.8;\" x=\"52.160938\" xlink:href=\"#m9b207fafbd\" y=\"139.185648\"/>\n      </g>\n     </g>\n     <g id=\"text_6\">\n      <!-- −1.0 -->\n      <g transform=\"translate(20.878125 142.984866)scale(0.1 -0.1)\">\n       <defs>\n        <path d=\"M 12.40625 8.296875 \nL 28.515625 8.296875 \nL 28.515625 63.921875 \nL 10.984375 60.40625 \nL 10.984375 69.390625 \nL 28.421875 72.90625 \nL 38.28125 72.90625 \nL 38.28125 8.296875 \nL 54.390625 8.296875 \nL 54.390625 0 \nL 12.40625 0 \nz\n\" id=\"DejaVuSans-49\"/>\n        <path d=\"M 10.6875 12.40625 \nL 21 12.40625 \nL 21 0 \nL 10.6875 0 \nz\n\" id=\"DejaVuSans-46\"/>\n       </defs>\n       <use xlink:href=\"#DejaVuSans-8722\"/>\n       <use x=\"83.789062\" xlink:href=\"#DejaVuSans-49\"/>\n       <use x=\"147.412109\" xlink:href=\"#DejaVuSans-46\"/>\n       <use x=\"179.199219\" xlink:href=\"#DejaVuSans-48\"/>\n      </g>\n     </g>\n    </g>\n    <g id=\"ytick_2\">\n     <g id=\"line2d_11\">\n      <path clip-path=\"url(#pdd4db0c5cb)\" d=\"M 52.160938 107.732098 \nL 247.460938 107.732098 \n\" style=\"fill:none;stroke:#b0b0b0;stroke-linecap:square;stroke-width:0.8;\"/>\n     </g>\n     <g id=\"line2d_12\">\n      <g>\n       <use style=\"stroke:#000000;stroke-width:0.8;\" x=\"52.160938\" xlink:href=\"#m9b207fafbd\" y=\"107.732098\"/>\n      </g>\n     </g>\n     <g id=\"text_7\">\n      <!-- −0.5 -->\n      <g transform=\"translate(20.878125 111.531317)scale(0.1 -0.1)\">\n       <defs>\n        <path d=\"M 10.796875 72.90625 \nL 49.515625 72.90625 \nL 49.515625 64.59375 \nL 19.828125 64.59375 \nL 19.828125 46.734375 \nQ 21.96875 47.46875 24.109375 47.828125 \nQ 26.265625 48.1875 28.421875 48.1875 \nQ 40.625 48.1875 47.75 41.5 \nQ 54.890625 34.8125 54.890625 23.390625 \nQ 54.890625 11.625 47.5625 5.09375 \nQ 40.234375 -1.421875 26.90625 -1.421875 \nQ 22.3125 -1.421875 17.546875 -0.640625 \nQ 12.796875 0.140625 7.71875 1.703125 \nL 7.71875 11.625 \nQ 12.109375 9.234375 16.796875 8.0625 \nQ 21.484375 6.890625 26.703125 6.890625 \nQ 35.15625 6.890625 40.078125 11.328125 \nQ 45.015625 15.765625 45.015625 23.390625 \nQ 45.015625 31 40.078125 35.4375 \nQ 35.15625 39.890625 26.703125 39.890625 \nQ 22.75 39.890625 18.8125 39.015625 \nQ 14.890625 38.140625 10.796875 36.28125 \nz\n\" id=\"DejaVuSans-53\"/>\n       </defs>\n       <use xlink:href=\"#DejaVuSans-8722\"/>\n       <use x=\"83.789062\" xlink:href=\"#DejaVuSans-48\"/>\n       <use x=\"147.412109\" xlink:href=\"#DejaVuSans-46\"/>\n       <use x=\"179.199219\" xlink:href=\"#DejaVuSans-53\"/>\n      </g>\n     </g>\n    </g>\n    <g id=\"ytick_3\">\n     <g id=\"line2d_13\">\n      <path clip-path=\"url(#pdd4db0c5cb)\" d=\"M 52.160938 76.278549 \nL 247.460938 76.278549 \n\" style=\"fill:none;stroke:#b0b0b0;stroke-linecap:square;stroke-width:0.8;\"/>\n     </g>\n     <g id=\"line2d_14\">\n      <g>\n       <use style=\"stroke:#000000;stroke-width:0.8;\" x=\"52.160938\" xlink:href=\"#m9b207fafbd\" y=\"76.278549\"/>\n      </g>\n     </g>\n     <g id=\"text_8\">\n      <!-- 0.0 -->\n      <g transform=\"translate(29.257812 80.077767)scale(0.1 -0.1)\">\n       <use xlink:href=\"#DejaVuSans-48\"/>\n       <use x=\"63.623047\" xlink:href=\"#DejaVuSans-46\"/>\n       <use x=\"95.410156\" xlink:href=\"#DejaVuSans-48\"/>\n      </g>\n     </g>\n    </g>\n    <g id=\"ytick_4\">\n     <g id=\"line2d_15\">\n      <path clip-path=\"url(#pdd4db0c5cb)\" d=\"M 52.160938 44.824999 \nL 247.460938 44.824999 \n\" style=\"fill:none;stroke:#b0b0b0;stroke-linecap:square;stroke-width:0.8;\"/>\n     </g>\n     <g id=\"line2d_16\">\n      <g>\n       <use style=\"stroke:#000000;stroke-width:0.8;\" x=\"52.160938\" xlink:href=\"#m9b207fafbd\" y=\"44.824999\"/>\n      </g>\n     </g>\n     <g id=\"text_9\">\n      <!-- 0.5 -->\n      <g transform=\"translate(29.257812 48.624218)scale(0.1 -0.1)\">\n       <use xlink:href=\"#DejaVuSans-48\"/>\n       <use x=\"63.623047\" xlink:href=\"#DejaVuSans-46\"/>\n       <use x=\"95.410156\" xlink:href=\"#DejaVuSans-53\"/>\n      </g>\n     </g>\n    </g>\n    <g id=\"ytick_5\">\n     <g id=\"line2d_17\">\n      <path clip-path=\"url(#pdd4db0c5cb)\" d=\"M 52.160938 13.37145 \nL 247.460938 13.37145 \n\" style=\"fill:none;stroke:#b0b0b0;stroke-linecap:square;stroke-width:0.8;\"/>\n     </g>\n     <g id=\"line2d_18\">\n      <g>\n       <use style=\"stroke:#000000;stroke-width:0.8;\" x=\"52.160938\" xlink:href=\"#m9b207fafbd\" y=\"13.37145\"/>\n      </g>\n     </g>\n     <g id=\"text_10\">\n      <!-- 1.0 -->\n      <g transform=\"translate(29.257812 17.170668)scale(0.1 -0.1)\">\n       <use xlink:href=\"#DejaVuSans-49\"/>\n       <use x=\"63.623047\" xlink:href=\"#DejaVuSans-46\"/>\n       <use x=\"95.410156\" xlink:href=\"#DejaVuSans-48\"/>\n      </g>\n     </g>\n    </g>\n    <g id=\"text_11\">\n     <!-- f(x) -->\n     <g transform=\"translate(14.798438 83.771094)rotate(-90)scale(0.1 -0.1)\">\n      <defs>\n       <path d=\"M 37.109375 75.984375 \nL 37.109375 68.5 \nL 28.515625 68.5 \nQ 23.6875 68.5 21.796875 66.546875 \nQ 19.921875 64.59375 19.921875 59.515625 \nL 19.921875 54.6875 \nL 34.71875 54.6875 \nL 34.71875 47.703125 \nL 19.921875 47.703125 \nL 19.921875 0 \nL 10.890625 0 \nL 10.890625 47.703125 \nL 2.296875 47.703125 \nL 2.296875 54.6875 \nL 10.890625 54.6875 \nL 10.890625 58.5 \nQ 10.890625 67.625 15.140625 71.796875 \nQ 19.390625 75.984375 28.609375 75.984375 \nz\n\" id=\"DejaVuSans-102\"/>\n       <path d=\"M 31 75.875 \nQ 24.46875 64.65625 21.28125 53.65625 \nQ 18.109375 42.671875 18.109375 31.390625 \nQ 18.109375 20.125 21.3125 9.0625 \nQ 24.515625 -2 31 -13.1875 \nL 23.1875 -13.1875 \nQ 15.875 -1.703125 12.234375 9.375 \nQ 8.59375 20.453125 8.59375 31.390625 \nQ 8.59375 42.28125 12.203125 53.3125 \nQ 15.828125 64.359375 23.1875 75.875 \nz\n\" id=\"DejaVuSans-40\"/>\n       <path d=\"M 8.015625 75.875 \nL 15.828125 75.875 \nQ 23.140625 64.359375 26.78125 53.3125 \nQ 30.421875 42.28125 30.421875 31.390625 \nQ 30.421875 20.453125 26.78125 9.375 \nQ 23.140625 -1.703125 15.828125 -13.1875 \nL 8.015625 -13.1875 \nQ 14.5 -2 17.703125 9.0625 \nQ 20.90625 20.125 20.90625 31.390625 \nQ 20.90625 42.671875 17.703125 53.65625 \nQ 14.5 64.65625 8.015625 75.875 \nz\n\" id=\"DejaVuSans-41\"/>\n      </defs>\n      <use xlink:href=\"#DejaVuSans-102\"/>\n      <use x=\"35.205078\" xlink:href=\"#DejaVuSans-40\"/>\n      <use x=\"74.21875\" xlink:href=\"#DejaVuSans-120\"/>\n      <use x=\"133.398438\" xlink:href=\"#DejaVuSans-41\"/>\n     </g>\n    </g>\n   </g>\n   <g id=\"line2d_19\">\n    <path clip-path=\"url(#pdd4db0c5cb)\" d=\"M 61.03821 136.922727 \nL 64.848185 136.150131 \nL 68.404162 135.200328 \nL 71.452142 134.162473 \nL 74.246124 132.987295 \nL 76.786108 131.696646 \nL 79.326091 130.15754 \nL 81.612076 128.52787 \nL 83.898061 126.635646 \nL 86.184046 124.450443 \nL 88.470031 121.942684 \nL 90.756017 119.085362 \nL 93.042002 115.856293 \nL 95.327987 112.240702 \nL 97.86797 107.764892 \nL 100.407954 102.819067 \nL 103.201935 96.87929 \nL 106.503915 89.298308 \nL 111.075891 78.165298 \nL 117.933853 61.464289 \nL 121.235832 54.01005 \nL 124.029814 48.206747 \nL 126.569798 43.399268 \nL 129.109782 39.067861 \nL 131.395767 35.582162 \nL 133.681752 32.479063 \nL 135.967737 29.741003 \nL 138.253722 27.343924 \nL 140.539707 25.25973 \nL 142.825692 23.458383 \nL 145.365676 21.751721 \nL 147.905659 20.3165 \nL 150.699641 19.006416 \nL 153.493623 17.933972 \nL 156.541603 16.988443 \nL 160.09758 16.124441 \nL 164.161556 15.382584 \nL 168.733527 14.781387 \nL 174.32149 14.283139 \nL 181.179445 13.904348 \nL 190.577384 13.626266 \nL 204.801291 13.454709 \nL 233.503577 13.380149 \nL 238.583665 13.377273 \nL 238.583665 13.377273 \n\" style=\"fill:none;stroke:#1f77b4;stroke-linecap:square;stroke-width:1.5;\"/>\n   </g>\n   <g id=\"patch_3\">\n    <path d=\"M 52.160938 143.1 \nL 52.160938 7.2 \n\" style=\"fill:none;stroke:#000000;stroke-linecap:square;stroke-linejoin:miter;stroke-width:0.8;\"/>\n   </g>\n   <g id=\"patch_4\">\n    <path d=\"M 247.460938 143.1 \nL 247.460938 7.2 \n\" style=\"fill:none;stroke:#000000;stroke-linecap:square;stroke-linejoin:miter;stroke-width:0.8;\"/>\n   </g>\n   <g id=\"patch_5\">\n    <path d=\"M 52.160938 143.1 \nL 247.460938 143.1 \n\" style=\"fill:none;stroke:#000000;stroke-linecap:square;stroke-linejoin:miter;stroke-width:0.8;\"/>\n   </g>\n   <g id=\"patch_6\">\n    <path d=\"M 52.160938 7.2 \nL 247.460938 7.2 \n\" style=\"fill:none;stroke:#000000;stroke-linecap:square;stroke-linejoin:miter;stroke-width:0.8;\"/>\n   </g>\n   <g id=\"patch_7\">\n    <path d=\"M 209.972424 64.685356 \nQ 211.637536 40.02593 213.227325 16.481997 \n\" style=\"fill:none;stroke:#000000;stroke-linecap:round;\"/>\n    <path d=\"M 210.962385 20.338167 \nL 213.227325 16.481997 \nL 214.953297 20.607651 \n\" style=\"fill:none;stroke:#000000;stroke-linecap:round;\"/>\n   </g>\n   <g id=\"text_12\">\n    <!-- vanishing gradient -->\n    <g transform=\"translate(162.637645 76.278549)scale(0.1 -0.1)\">\n     <defs>\n      <path d=\"M 2.984375 54.6875 \nL 12.5 54.6875 \nL 29.59375 8.796875 \nL 46.6875 54.6875 \nL 56.203125 54.6875 \nL 35.6875 0 \nL 23.484375 0 \nz\n\" id=\"DejaVuSans-118\"/>\n      <path d=\"M 34.28125 27.484375 \nQ 23.390625 27.484375 19.1875 25 \nQ 14.984375 22.515625 14.984375 16.5 \nQ 14.984375 11.71875 18.140625 8.90625 \nQ 21.296875 6.109375 26.703125 6.109375 \nQ 34.1875 6.109375 38.703125 11.40625 \nQ 43.21875 16.703125 43.21875 25.484375 \nL 43.21875 27.484375 \nz\nM 52.203125 31.203125 \nL 52.203125 0 \nL 43.21875 0 \nL 43.21875 8.296875 \nQ 40.140625 3.328125 35.546875 0.953125 \nQ 30.953125 -1.421875 24.3125 -1.421875 \nQ 15.921875 -1.421875 10.953125 3.296875 \nQ 6 8.015625 6 15.921875 \nQ 6 25.140625 12.171875 29.828125 \nQ 18.359375 34.515625 30.609375 34.515625 \nL 43.21875 34.515625 \nL 43.21875 35.40625 \nQ 43.21875 41.609375 39.140625 45 \nQ 35.0625 48.390625 27.6875 48.390625 \nQ 23 48.390625 18.546875 47.265625 \nQ 14.109375 46.140625 10.015625 43.890625 \nL 10.015625 52.203125 \nQ 14.9375 54.109375 19.578125 55.046875 \nQ 24.21875 56 28.609375 56 \nQ 40.484375 56 46.34375 49.84375 \nQ 52.203125 43.703125 52.203125 31.203125 \nz\n\" id=\"DejaVuSans-97\"/>\n      <path d=\"M 54.890625 33.015625 \nL 54.890625 0 \nL 45.90625 0 \nL 45.90625 32.71875 \nQ 45.90625 40.484375 42.875 44.328125 \nQ 39.84375 48.1875 33.796875 48.1875 \nQ 26.515625 48.1875 22.3125 43.546875 \nQ 18.109375 38.921875 18.109375 30.90625 \nL 18.109375 0 \nL 9.078125 0 \nL 9.078125 54.6875 \nL 18.109375 54.6875 \nL 18.109375 46.1875 \nQ 21.34375 51.125 25.703125 53.5625 \nQ 30.078125 56 35.796875 56 \nQ 45.21875 56 50.046875 50.171875 \nQ 54.890625 44.34375 54.890625 33.015625 \nz\n\" id=\"DejaVuSans-110\"/>\n      <path d=\"M 9.421875 54.6875 \nL 18.40625 54.6875 \nL 18.40625 0 \nL 9.421875 0 \nz\nM 9.421875 75.984375 \nL 18.40625 75.984375 \nL 18.40625 64.59375 \nL 9.421875 64.59375 \nz\n\" id=\"DejaVuSans-105\"/>\n      <path d=\"M 44.28125 53.078125 \nL 44.28125 44.578125 \nQ 40.484375 46.53125 36.375 47.5 \nQ 32.28125 48.484375 27.875 48.484375 \nQ 21.1875 48.484375 17.84375 46.4375 \nQ 14.5 44.390625 14.5 40.28125 \nQ 14.5 37.15625 16.890625 35.375 \nQ 19.28125 33.59375 26.515625 31.984375 \nL 29.59375 31.296875 \nQ 39.15625 29.25 43.1875 25.515625 \nQ 47.21875 21.78125 47.21875 15.09375 \nQ 47.21875 7.46875 41.1875 3.015625 \nQ 35.15625 -1.421875 24.609375 -1.421875 \nQ 20.21875 -1.421875 15.453125 -0.5625 \nQ 10.6875 0.296875 5.421875 2 \nL 5.421875 11.28125 \nQ 10.40625 8.6875 15.234375 7.390625 \nQ 20.0625 6.109375 24.8125 6.109375 \nQ 31.15625 6.109375 34.5625 8.28125 \nQ 37.984375 10.453125 37.984375 14.40625 \nQ 37.984375 18.0625 35.515625 20.015625 \nQ 33.0625 21.96875 24.703125 23.78125 \nL 21.578125 24.515625 \nQ 13.234375 26.265625 9.515625 29.90625 \nQ 5.8125 33.546875 5.8125 39.890625 \nQ 5.8125 47.609375 11.28125 51.796875 \nQ 16.75 56 26.8125 56 \nQ 31.78125 56 36.171875 55.265625 \nQ 40.578125 54.546875 44.28125 53.078125 \nz\n\" id=\"DejaVuSans-115\"/>\n      <path d=\"M 54.890625 33.015625 \nL 54.890625 0 \nL 45.90625 0 \nL 45.90625 32.71875 \nQ 45.90625 40.484375 42.875 44.328125 \nQ 39.84375 48.1875 33.796875 48.1875 \nQ 26.515625 48.1875 22.3125 43.546875 \nQ 18.109375 38.921875 18.109375 30.90625 \nL 18.109375 0 \nL 9.078125 0 \nL 9.078125 75.984375 \nL 18.109375 75.984375 \nL 18.109375 46.1875 \nQ 21.34375 51.125 25.703125 53.5625 \nQ 30.078125 56 35.796875 56 \nQ 45.21875 56 50.046875 50.171875 \nQ 54.890625 44.34375 54.890625 33.015625 \nz\n\" id=\"DejaVuSans-104\"/>\n      <path d=\"M 45.40625 27.984375 \nQ 45.40625 37.75 41.375 43.109375 \nQ 37.359375 48.484375 30.078125 48.484375 \nQ 22.859375 48.484375 18.828125 43.109375 \nQ 14.796875 37.75 14.796875 27.984375 \nQ 14.796875 18.265625 18.828125 12.890625 \nQ 22.859375 7.515625 30.078125 7.515625 \nQ 37.359375 7.515625 41.375 12.890625 \nQ 45.40625 18.265625 45.40625 27.984375 \nz\nM 54.390625 6.78125 \nQ 54.390625 -7.171875 48.1875 -13.984375 \nQ 42 -20.796875 29.203125 -20.796875 \nQ 24.46875 -20.796875 20.265625 -20.09375 \nQ 16.0625 -19.390625 12.109375 -17.921875 \nL 12.109375 -9.1875 \nQ 16.0625 -11.328125 19.921875 -12.34375 \nQ 23.78125 -13.375 27.78125 -13.375 \nQ 36.625 -13.375 41.015625 -8.765625 \nQ 45.40625 -4.15625 45.40625 5.171875 \nL 45.40625 9.625 \nQ 42.625 4.78125 38.28125 2.390625 \nQ 33.9375 0 27.875 0 \nQ 17.828125 0 11.671875 7.65625 \nQ 5.515625 15.328125 5.515625 27.984375 \nQ 5.515625 40.671875 11.671875 48.328125 \nQ 17.828125 56 27.875 56 \nQ 33.9375 56 38.28125 53.609375 \nQ 42.625 51.21875 45.40625 46.390625 \nL 45.40625 54.6875 \nL 54.390625 54.6875 \nz\n\" id=\"DejaVuSans-103\"/>\n      <path id=\"DejaVuSans-32\"/>\n      <path d=\"M 41.109375 46.296875 \nQ 39.59375 47.171875 37.8125 47.578125 \nQ 36.03125 48 33.890625 48 \nQ 26.265625 48 22.1875 43.046875 \nQ 18.109375 38.09375 18.109375 28.8125 \nL 18.109375 0 \nL 9.078125 0 \nL 9.078125 54.6875 \nL 18.109375 54.6875 \nL 18.109375 46.1875 \nQ 20.953125 51.171875 25.484375 53.578125 \nQ 30.03125 56 36.53125 56 \nQ 37.453125 56 38.578125 55.875 \nQ 39.703125 55.765625 41.0625 55.515625 \nz\n\" id=\"DejaVuSans-114\"/>\n      <path d=\"M 45.40625 46.390625 \nL 45.40625 75.984375 \nL 54.390625 75.984375 \nL 54.390625 0 \nL 45.40625 0 \nL 45.40625 8.203125 \nQ 42.578125 3.328125 38.25 0.953125 \nQ 33.9375 -1.421875 27.875 -1.421875 \nQ 17.96875 -1.421875 11.734375 6.484375 \nQ 5.515625 14.40625 5.515625 27.296875 \nQ 5.515625 40.1875 11.734375 48.09375 \nQ 17.96875 56 27.875 56 \nQ 33.9375 56 38.25 53.625 \nQ 42.578125 51.265625 45.40625 46.390625 \nz\nM 14.796875 27.296875 \nQ 14.796875 17.390625 18.875 11.75 \nQ 22.953125 6.109375 30.078125 6.109375 \nQ 37.203125 6.109375 41.296875 11.75 \nQ 45.40625 17.390625 45.40625 27.296875 \nQ 45.40625 37.203125 41.296875 42.84375 \nQ 37.203125 48.484375 30.078125 48.484375 \nQ 22.953125 48.484375 18.875 42.84375 \nQ 14.796875 37.203125 14.796875 27.296875 \nz\n\" id=\"DejaVuSans-100\"/>\n      <path d=\"M 56.203125 29.59375 \nL 56.203125 25.203125 \nL 14.890625 25.203125 \nQ 15.484375 15.921875 20.484375 11.0625 \nQ 25.484375 6.203125 34.421875 6.203125 \nQ 39.59375 6.203125 44.453125 7.46875 \nQ 49.3125 8.734375 54.109375 11.28125 \nL 54.109375 2.78125 \nQ 49.265625 0.734375 44.1875 -0.34375 \nQ 39.109375 -1.421875 33.890625 -1.421875 \nQ 20.796875 -1.421875 13.15625 6.1875 \nQ 5.515625 13.8125 5.515625 26.8125 \nQ 5.515625 40.234375 12.765625 48.109375 \nQ 20.015625 56 32.328125 56 \nQ 43.359375 56 49.78125 48.890625 \nQ 56.203125 41.796875 56.203125 29.59375 \nz\nM 47.21875 32.234375 \nQ 47.125 39.59375 43.09375 43.984375 \nQ 39.0625 48.390625 32.421875 48.390625 \nQ 24.90625 48.390625 20.390625 44.140625 \nQ 15.875 39.890625 15.1875 32.171875 \nz\n\" id=\"DejaVuSans-101\"/>\n      <path d=\"M 18.3125 70.21875 \nL 18.3125 54.6875 \nL 36.8125 54.6875 \nL 36.8125 47.703125 \nL 18.3125 47.703125 \nL 18.3125 18.015625 \nQ 18.3125 11.328125 20.140625 9.421875 \nQ 21.96875 7.515625 27.59375 7.515625 \nL 36.8125 7.515625 \nL 36.8125 0 \nL 27.59375 0 \nQ 17.1875 0 13.234375 3.875 \nQ 9.28125 7.765625 9.28125 18.015625 \nL 9.28125 47.703125 \nL 2.6875 47.703125 \nL 2.6875 54.6875 \nL 9.28125 54.6875 \nL 9.28125 70.21875 \nz\n\" id=\"DejaVuSans-116\"/>\n     </defs>\n     <use xlink:href=\"#DejaVuSans-118\"/>\n     <use x=\"59.179688\" xlink:href=\"#DejaVuSans-97\"/>\n     <use x=\"120.458984\" xlink:href=\"#DejaVuSans-110\"/>\n     <use x=\"183.837891\" xlink:href=\"#DejaVuSans-105\"/>\n     <use x=\"211.621094\" xlink:href=\"#DejaVuSans-115\"/>\n     <use x=\"263.720703\" xlink:href=\"#DejaVuSans-104\"/>\n     <use x=\"327.099609\" xlink:href=\"#DejaVuSans-105\"/>\n     <use x=\"354.882812\" xlink:href=\"#DejaVuSans-110\"/>\n     <use x=\"418.261719\" xlink:href=\"#DejaVuSans-103\"/>\n     <use x=\"481.738281\" xlink:href=\"#DejaVuSans-32\"/>\n     <use x=\"513.525391\" xlink:href=\"#DejaVuSans-103\"/>\n     <use x=\"577.001953\" xlink:href=\"#DejaVuSans-114\"/>\n     <use x=\"618.115234\" xlink:href=\"#DejaVuSans-97\"/>\n     <use x=\"679.394531\" xlink:href=\"#DejaVuSans-100\"/>\n     <use x=\"742.871094\" xlink:href=\"#DejaVuSans-105\"/>\n     <use x=\"770.654297\" xlink:href=\"#DejaVuSans-101\"/>\n     <use x=\"832.177734\" xlink:href=\"#DejaVuSans-110\"/>\n     <use x=\"895.556641\" xlink:href=\"#DejaVuSans-116\"/>\n    </g>\n   </g>\n  </g>\n </g>\n <defs>\n  <clipPath id=\"pdd4db0c5cb\">\n   <rect height=\"135.9\" width=\"195.3\" x=\"52.160938\" y=\"7.2\"/>\n  </clipPath>\n </defs>\n</svg>\n",
      "text/plain": [
       "<Figure size 252x180 with 1 Axes>"
      ]
     },
     "metadata": {
      "needs_background": "light"
     },
     "output_type": "display_data"
    }
   ],
   "source": [
    "x = tf.range(-2.0, 5.0, 0.01)\n",
    "d2l.plot(x, [tf.tanh(x)], 'x', 'f(x)')\n",
    "annotate('vanishing gradient', (4, 1), (2, 0.0))"
   ]
  },
  {
   "cell_type": "markdown",
   "metadata": {},
   "source": [
    "正如我们所看到的那样，深度学习的优化充满挑战。幸运的是，有一系列强大的算法表现良好，即使对于初学者也很容易使用。此外，没有必要找到最佳解决方案。局部最优解或其近似解仍然非常有用。"
   ]
  },
  {
   "cell_type": "markdown",
   "metadata": {},
   "source": [
    "#### 11.1.3. 小结¶\n",
    "最小化训练误差并不能保证我们找到最佳的参数集来最小化泛化误差。\n",
    "\n",
    "优化问题可能有许多局部最小值。\n",
    "\n",
    "问题可能有更多的鞍点，因为通常问题不是凸的。\n",
    "\n",
    "梯度消失可能会导致优化停滞，重参数化通常会有所帮助。对参数进行良好的初始化也可能是有益的。"
   ]
  },
  {
   "cell_type": "markdown",
   "metadata": {},
   "source": [
    "### 11.2 凸性\n",
    "凸性（convexity）在优化算法的设计中起到至关重要的作用， 这主要是由于在这种情况下对算法进行分析和测试要容易得多。 换言之，如果该算法甚至在凸性条件设定下的效果很差， 通常我们很难在其他条件下看到好的结果。 此外，即使深度学习中的优化问题通常是非凸的， 它们也经常在局部极小值附近表现出一些凸性。 这可能会产生一些像 [Izmailov et al., 2018]这样比较有意思的新的优化变体。"
   ]
  },
  {
   "cell_type": "markdown",
   "metadata": {},
   "source": [
    "#### 11.2.1. 定义\n",
    "在进行凸分析之前，我们需要定义凸集（convex sets）和凸函数（convex functions）。\n",
    "\n",
    "##### 11.2.1.1 凸集\n",
    "凸集（convex set）是凸性的基础。 简单地说，如果对于任何$a, b \\in \\mathcal{X}$，连接和的线段也位于x中，则向量空间中的一个集合x是凸（convex）的。\n",
    "##### 11.2.1.1 凸函数\n",
    "现在我们有了凸集，我们可以引入凸函数（convex function）f。 给定一个凸集x，如果对于所有$x, x^{\\prime} \\in \\mathcal{x}$和所有$\\lambda \\in [0,1]$，一个函数$f: \\mathcal{X} \\rightarrow \\mathbb{R}$是凸的，我们可以得到\n",
    "$$\\lambda f(x)+(1-\\lambda)f(x^{\\prime}) \\geq\\ f(\\lambda x+(1-\\lambda)x^{\\prime} )$$\n",
    "为了说明这一点，让我们绘制一些函数并检查哪些函数满足要求。 下面我们定义一些函数，包括凸函数和非凸函数。"
   ]
  },
  {
   "cell_type": "code",
   "execution_count": 4,
   "metadata": {
    "ExecuteTime": {
     "end_time": "2022-10-18T14:22:44.970168Z",
     "start_time": "2022-10-18T14:22:44.525609Z"
    }
   },
   "outputs": [
    {
     "data": {
      "image/svg+xml": "<?xml version=\"1.0\" encoding=\"utf-8\" standalone=\"no\"?>\n<!DOCTYPE svg PUBLIC \"-//W3C//DTD SVG 1.1//EN\"\n  \"http://www.w3.org/Graphics/SVG/1.1/DTD/svg11.dtd\">\n<!-- Created with matplotlib (https://matplotlib.org/) -->\n<svg height=\"194.158125pt\" version=\"1.1\" viewBox=\"0 0 539.503125 194.158125\" width=\"539.503125pt\" xmlns=\"http://www.w3.org/2000/svg\" xmlns:xlink=\"http://www.w3.org/1999/xlink\">\n <metadata>\n  <rdf:RDF xmlns:cc=\"http://creativecommons.org/ns#\" xmlns:dc=\"http://purl.org/dc/elements/1.1/\" xmlns:rdf=\"http://www.w3.org/1999/02/22-rdf-syntax-ns#\">\n   <cc:Work>\n    <dc:type rdf:resource=\"http://purl.org/dc/dcmitype/StillImage\"/>\n    <dc:date>2022-10-18T22:22:44.908129</dc:date>\n    <dc:format>image/svg+xml</dc:format>\n    <dc:creator>\n     <cc:Agent>\n      <dc:title>Matplotlib v3.3.3, https://matplotlib.org/</dc:title>\n     </cc:Agent>\n    </dc:creator>\n   </cc:Work>\n  </rdf:RDF>\n </metadata>\n <defs>\n  <style type=\"text/css\">*{stroke-linecap:butt;stroke-linejoin:round;}</style>\n </defs>\n <g id=\"figure_1\">\n  <g id=\"patch_1\">\n   <path d=\"M 0 194.158125 \nL 539.503125 194.158125 \nL 539.503125 0 \nL 0 0 \nz\n\" style=\"fill:none;\"/>\n  </g>\n  <g id=\"axes_1\">\n   <g id=\"patch_2\">\n    <path d=\"M 30.103125 170.28 \nL 177.809007 170.28 \nL 177.809007 7.2 \nL 30.103125 7.2 \nz\n\" style=\"fill:#ffffff;\"/>\n   </g>\n   <g id=\"matplotlib.axis_1\">\n    <g id=\"xtick_1\">\n     <g id=\"line2d_1\">\n      <path clip-path=\"url(#p18f714d4fb)\" d=\"M 36.817029 170.28 \nL 36.817029 7.2 \n\" style=\"fill:none;stroke:#b0b0b0;stroke-linecap:square;stroke-width:0.8;\"/>\n     </g>\n     <g id=\"line2d_2\">\n      <defs>\n       <path d=\"M 0 0 \nL 0 3.5 \n\" id=\"m4e8707c839\" style=\"stroke:#000000;stroke-width:0.8;\"/>\n      </defs>\n      <g>\n       <use style=\"stroke:#000000;stroke-width:0.8;\" x=\"36.817029\" xlink:href=\"#m4e8707c839\" y=\"170.28\"/>\n      </g>\n     </g>\n     <g id=\"text_1\">\n      <!-- −2 -->\n      <g transform=\"translate(29.445935 184.878438)scale(0.1 -0.1)\">\n       <defs>\n        <path d=\"M 10.59375 35.5 \nL 73.1875 35.5 \nL 73.1875 27.203125 \nL 10.59375 27.203125 \nz\n\" id=\"DejaVuSans-8722\"/>\n        <path d=\"M 19.1875 8.296875 \nL 53.609375 8.296875 \nL 53.609375 0 \nL 7.328125 0 \nL 7.328125 8.296875 \nQ 12.9375 14.109375 22.625 23.890625 \nQ 32.328125 33.6875 34.8125 36.53125 \nQ 39.546875 41.84375 41.421875 45.53125 \nQ 43.3125 49.21875 43.3125 52.78125 \nQ 43.3125 58.59375 39.234375 62.25 \nQ 35.15625 65.921875 28.609375 65.921875 \nQ 23.96875 65.921875 18.8125 64.3125 \nQ 13.671875 62.703125 7.8125 59.421875 \nL 7.8125 69.390625 \nQ 13.765625 71.78125 18.9375 73 \nQ 24.125 74.21875 28.421875 74.21875 \nQ 39.75 74.21875 46.484375 68.546875 \nQ 53.21875 62.890625 53.21875 53.421875 \nQ 53.21875 48.921875 51.53125 44.890625 \nQ 49.859375 40.875 45.40625 35.40625 \nQ 44.1875 33.984375 37.640625 27.21875 \nQ 31.109375 20.453125 19.1875 8.296875 \nz\n\" id=\"DejaVuSans-50\"/>\n       </defs>\n       <use xlink:href=\"#DejaVuSans-8722\"/>\n       <use x=\"83.789062\" xlink:href=\"#DejaVuSans-50\"/>\n      </g>\n     </g>\n    </g>\n    <g id=\"xtick_2\">\n     <g id=\"line2d_3\">\n      <path clip-path=\"url(#p18f714d4fb)\" d=\"M 104.124389 170.28 \nL 104.124389 7.2 \n\" style=\"fill:none;stroke:#b0b0b0;stroke-linecap:square;stroke-width:0.8;\"/>\n     </g>\n     <g id=\"line2d_4\">\n      <g>\n       <use style=\"stroke:#000000;stroke-width:0.8;\" x=\"104.124389\" xlink:href=\"#m4e8707c839\" y=\"170.28\"/>\n      </g>\n     </g>\n     <g id=\"text_2\">\n      <!-- 0 -->\n      <g transform=\"translate(100.943139 184.878438)scale(0.1 -0.1)\">\n       <defs>\n        <path d=\"M 31.78125 66.40625 \nQ 24.171875 66.40625 20.328125 58.90625 \nQ 16.5 51.421875 16.5 36.375 \nQ 16.5 21.390625 20.328125 13.890625 \nQ 24.171875 6.390625 31.78125 6.390625 \nQ 39.453125 6.390625 43.28125 13.890625 \nQ 47.125 21.390625 47.125 36.375 \nQ 47.125 51.421875 43.28125 58.90625 \nQ 39.453125 66.40625 31.78125 66.40625 \nz\nM 31.78125 74.21875 \nQ 44.046875 74.21875 50.515625 64.515625 \nQ 56.984375 54.828125 56.984375 36.375 \nQ 56.984375 17.96875 50.515625 8.265625 \nQ 44.046875 -1.421875 31.78125 -1.421875 \nQ 19.53125 -1.421875 13.0625 8.265625 \nQ 6.59375 17.96875 6.59375 36.375 \nQ 6.59375 54.828125 13.0625 64.515625 \nQ 19.53125 74.21875 31.78125 74.21875 \nz\n\" id=\"DejaVuSans-48\"/>\n       </defs>\n       <use xlink:href=\"#DejaVuSans-48\"/>\n      </g>\n     </g>\n    </g>\n    <g id=\"xtick_3\">\n     <g id=\"line2d_5\">\n      <path clip-path=\"url(#p18f714d4fb)\" d=\"M 171.431748 170.28 \nL 171.431748 7.2 \n\" style=\"fill:none;stroke:#b0b0b0;stroke-linecap:square;stroke-width:0.8;\"/>\n     </g>\n     <g id=\"line2d_6\">\n      <g>\n       <use style=\"stroke:#000000;stroke-width:0.8;\" x=\"171.431748\" xlink:href=\"#m4e8707c839\" y=\"170.28\"/>\n      </g>\n     </g>\n     <g id=\"text_3\">\n      <!-- 2 -->\n      <g transform=\"translate(168.250498 184.878438)scale(0.1 -0.1)\">\n       <use xlink:href=\"#DejaVuSans-50\"/>\n      </g>\n     </g>\n    </g>\n   </g>\n   <g id=\"matplotlib.axis_2\">\n    <g id=\"ytick_1\">\n     <g id=\"line2d_7\">\n      <path clip-path=\"url(#p18f714d4fb)\" d=\"M 30.103125 162.867273 \nL 177.809007 162.867273 \n\" style=\"fill:none;stroke:#b0b0b0;stroke-linecap:square;stroke-width:0.8;\"/>\n     </g>\n     <g id=\"line2d_8\">\n      <defs>\n       <path d=\"M 0 0 \nL -3.5 0 \n\" id=\"mdea3f1b5d7\" style=\"stroke:#000000;stroke-width:0.8;\"/>\n      </defs>\n      <g>\n       <use style=\"stroke:#000000;stroke-width:0.8;\" x=\"30.103125\" xlink:href=\"#mdea3f1b5d7\" y=\"162.867273\"/>\n      </g>\n     </g>\n     <g id=\"text_4\">\n      <!-- 0.0 -->\n      <g transform=\"translate(7.2 166.666491)scale(0.1 -0.1)\">\n       <defs>\n        <path d=\"M 10.6875 12.40625 \nL 21 12.40625 \nL 21 0 \nL 10.6875 0 \nz\n\" id=\"DejaVuSans-46\"/>\n       </defs>\n       <use xlink:href=\"#DejaVuSans-48\"/>\n       <use x=\"63.623047\" xlink:href=\"#DejaVuSans-46\"/>\n       <use x=\"95.410156\" xlink:href=\"#DejaVuSans-48\"/>\n      </g>\n     </g>\n    </g>\n    <g id=\"ytick_2\">\n     <g id=\"line2d_9\">\n      <path clip-path=\"url(#p18f714d4fb)\" d=\"M 30.103125 125.803636 \nL 177.809007 125.803636 \n\" style=\"fill:none;stroke:#b0b0b0;stroke-linecap:square;stroke-width:0.8;\"/>\n     </g>\n     <g id=\"line2d_10\">\n      <g>\n       <use style=\"stroke:#000000;stroke-width:0.8;\" x=\"30.103125\" xlink:href=\"#mdea3f1b5d7\" y=\"125.803636\"/>\n      </g>\n     </g>\n     <g id=\"text_5\">\n      <!-- 0.5 -->\n      <g transform=\"translate(7.2 129.602855)scale(0.1 -0.1)\">\n       <defs>\n        <path d=\"M 10.796875 72.90625 \nL 49.515625 72.90625 \nL 49.515625 64.59375 \nL 19.828125 64.59375 \nL 19.828125 46.734375 \nQ 21.96875 47.46875 24.109375 47.828125 \nQ 26.265625 48.1875 28.421875 48.1875 \nQ 40.625 48.1875 47.75 41.5 \nQ 54.890625 34.8125 54.890625 23.390625 \nQ 54.890625 11.625 47.5625 5.09375 \nQ 40.234375 -1.421875 26.90625 -1.421875 \nQ 22.3125 -1.421875 17.546875 -0.640625 \nQ 12.796875 0.140625 7.71875 1.703125 \nL 7.71875 11.625 \nQ 12.109375 9.234375 16.796875 8.0625 \nQ 21.484375 6.890625 26.703125 6.890625 \nQ 35.15625 6.890625 40.078125 11.328125 \nQ 45.015625 15.765625 45.015625 23.390625 \nQ 45.015625 31 40.078125 35.4375 \nQ 35.15625 39.890625 26.703125 39.890625 \nQ 22.75 39.890625 18.8125 39.015625 \nQ 14.890625 38.140625 10.796875 36.28125 \nz\n\" id=\"DejaVuSans-53\"/>\n       </defs>\n       <use xlink:href=\"#DejaVuSans-48\"/>\n       <use x=\"63.623047\" xlink:href=\"#DejaVuSans-46\"/>\n       <use x=\"95.410156\" xlink:href=\"#DejaVuSans-53\"/>\n      </g>\n     </g>\n    </g>\n    <g id=\"ytick_3\">\n     <g id=\"line2d_11\">\n      <path clip-path=\"url(#p18f714d4fb)\" d=\"M 30.103125 88.74 \nL 177.809007 88.74 \n\" style=\"fill:none;stroke:#b0b0b0;stroke-linecap:square;stroke-width:0.8;\"/>\n     </g>\n     <g id=\"line2d_12\">\n      <g>\n       <use style=\"stroke:#000000;stroke-width:0.8;\" x=\"30.103125\" xlink:href=\"#mdea3f1b5d7\" y=\"88.74\"/>\n      </g>\n     </g>\n     <g id=\"text_6\">\n      <!-- 1.0 -->\n      <g transform=\"translate(7.2 92.539219)scale(0.1 -0.1)\">\n       <defs>\n        <path d=\"M 12.40625 8.296875 \nL 28.515625 8.296875 \nL 28.515625 63.921875 \nL 10.984375 60.40625 \nL 10.984375 69.390625 \nL 28.421875 72.90625 \nL 38.28125 72.90625 \nL 38.28125 8.296875 \nL 54.390625 8.296875 \nL 54.390625 0 \nL 12.40625 0 \nz\n\" id=\"DejaVuSans-49\"/>\n       </defs>\n       <use xlink:href=\"#DejaVuSans-49\"/>\n       <use x=\"63.623047\" xlink:href=\"#DejaVuSans-46\"/>\n       <use x=\"95.410156\" xlink:href=\"#DejaVuSans-48\"/>\n      </g>\n     </g>\n    </g>\n    <g id=\"ytick_4\">\n     <g id=\"line2d_13\">\n      <path clip-path=\"url(#p18f714d4fb)\" d=\"M 30.103125 51.676364 \nL 177.809007 51.676364 \n\" style=\"fill:none;stroke:#b0b0b0;stroke-linecap:square;stroke-width:0.8;\"/>\n     </g>\n     <g id=\"line2d_14\">\n      <g>\n       <use style=\"stroke:#000000;stroke-width:0.8;\" x=\"30.103125\" xlink:href=\"#mdea3f1b5d7\" y=\"51.676364\"/>\n      </g>\n     </g>\n     <g id=\"text_7\">\n      <!-- 1.5 -->\n      <g transform=\"translate(7.2 55.475582)scale(0.1 -0.1)\">\n       <use xlink:href=\"#DejaVuSans-49\"/>\n       <use x=\"63.623047\" xlink:href=\"#DejaVuSans-46\"/>\n       <use x=\"95.410156\" xlink:href=\"#DejaVuSans-53\"/>\n      </g>\n     </g>\n    </g>\n    <g id=\"ytick_5\">\n     <g id=\"line2d_15\">\n      <path clip-path=\"url(#p18f714d4fb)\" d=\"M 30.103125 14.612727 \nL 177.809007 14.612727 \n\" style=\"fill:none;stroke:#b0b0b0;stroke-linecap:square;stroke-width:0.8;\"/>\n     </g>\n     <g id=\"line2d_16\">\n      <g>\n       <use style=\"stroke:#000000;stroke-width:0.8;\" x=\"30.103125\" xlink:href=\"#mdea3f1b5d7\" y=\"14.612727\"/>\n      </g>\n     </g>\n     <g id=\"text_8\">\n      <!-- 2.0 -->\n      <g transform=\"translate(7.2 18.411946)scale(0.1 -0.1)\">\n       <use xlink:href=\"#DejaVuSans-50\"/>\n       <use x=\"63.623047\" xlink:href=\"#DejaVuSans-46\"/>\n       <use x=\"95.410156\" xlink:href=\"#DejaVuSans-48\"/>\n      </g>\n     </g>\n    </g>\n   </g>\n   <g id=\"line2d_17\">\n    <path clip-path=\"url(#p18f714d4fb)\" d=\"M 36.817029 14.612727 \nL 40.855466 31.869539 \nL 44.557368 46.75058 \nL 48.259269 60.734673 \nL 51.96117 73.821837 \nL 55.326535 84.940917 \nL 58.6919 95.318734 \nL 62.057265 104.955275 \nL 65.086093 112.994373 \nL 68.114921 120.433046 \nL 71.14375 127.271286 \nL 73.836041 132.845656 \nL 76.528333 137.945615 \nL 79.220625 142.57116 \nL 81.912917 146.72229 \nL 84.268672 149.965362 \nL 86.624428 152.845211 \nL 88.980183 155.361837 \nL 90.999402 157.229849 \nL 93.018621 158.831004 \nL 95.037839 160.165301 \nL 97.05706 161.232741 \nL 99.076282 162.033323 \nL 101.095503 162.567046 \nL 103.114724 162.833912 \nL 105.133944 162.833919 \nL 107.153165 162.567068 \nL 109.172386 162.033359 \nL 111.191607 161.232791 \nL 113.210828 160.165365 \nL 115.230047 158.831083 \nL 117.249266 157.229943 \nL 119.268485 155.361945 \nL 121.624241 152.845335 \nL 123.979997 149.965502 \nL 126.335752 146.722447 \nL 128.691507 143.11617 \nL 131.383799 138.549946 \nL 134.076091 133.50931 \nL 136.768383 127.994258 \nL 139.460675 122.004792 \nL 142.489503 114.699574 \nL 145.518331 106.793923 \nL 148.54716 98.287843 \nL 151.912524 88.132435 \nL 155.277889 77.235756 \nL 158.643254 65.597805 \nL 162.345155 51.939899 \nL 166.047056 37.385046 \nL 169.748958 21.933255 \nL 171.095104 16.092037 \nL 171.095104 16.092037 \n\" style=\"fill:none;stroke:#1f77b4;stroke-linecap:square;stroke-width:1.5;\"/>\n   </g>\n   <g id=\"line2d_18\">\n    <path clip-path=\"url(#p18f714d4fb)\" d=\"M 53.643869 79.474091 \nL 137.778068 125.803636 \n\" style=\"fill:none;stroke:#bf00bf;stroke-dasharray:5.55,2.4;stroke-dashoffset:0;stroke-width:1.5;\"/>\n   </g>\n   <g id=\"patch_3\">\n    <path d=\"M 30.103125 170.28 \nL 30.103125 7.2 \n\" style=\"fill:none;stroke:#000000;stroke-linecap:square;stroke-linejoin:miter;stroke-width:0.8;\"/>\n   </g>\n   <g id=\"patch_4\">\n    <path d=\"M 177.809007 170.28 \nL 177.809007 7.2 \n\" style=\"fill:none;stroke:#000000;stroke-linecap:square;stroke-linejoin:miter;stroke-width:0.8;\"/>\n   </g>\n   <g id=\"patch_5\">\n    <path d=\"M 30.103125 170.28 \nL 177.809007 170.28 \n\" style=\"fill:none;stroke:#000000;stroke-linecap:square;stroke-linejoin:miter;stroke-width:0.8;\"/>\n   </g>\n   <g id=\"patch_6\">\n    <path d=\"M 30.103125 7.2 \nL 177.809007 7.2 \n\" style=\"fill:none;stroke:#000000;stroke-linecap:square;stroke-linejoin:miter;stroke-width:0.8;\"/>\n   </g>\n  </g>\n  <g id=\"axes_2\">\n   <g id=\"patch_7\">\n    <path d=\"M 207.350184 170.28 \nL 355.056066 170.28 \nL 355.056066 7.2 \nL 207.350184 7.2 \nz\n\" style=\"fill:#ffffff;\"/>\n   </g>\n   <g id=\"matplotlib.axis_3\">\n    <g id=\"xtick_4\">\n     <g id=\"line2d_19\">\n      <path clip-path=\"url(#p6440d938b9)\" d=\"M 214.064088 170.28 \nL 214.064088 7.2 \n\" style=\"fill:none;stroke:#b0b0b0;stroke-linecap:square;stroke-width:0.8;\"/>\n     </g>\n     <g id=\"line2d_20\">\n      <g>\n       <use style=\"stroke:#000000;stroke-width:0.8;\" x=\"214.064088\" xlink:href=\"#m4e8707c839\" y=\"170.28\"/>\n      </g>\n     </g>\n     <g id=\"text_9\">\n      <!-- −2 -->\n      <g transform=\"translate(206.692994 184.878438)scale(0.1 -0.1)\">\n       <use xlink:href=\"#DejaVuSans-8722\"/>\n       <use x=\"83.789062\" xlink:href=\"#DejaVuSans-50\"/>\n      </g>\n     </g>\n    </g>\n    <g id=\"xtick_5\">\n     <g id=\"line2d_21\">\n      <path clip-path=\"url(#p6440d938b9)\" d=\"M 281.371447 170.28 \nL 281.371447 7.2 \n\" style=\"fill:none;stroke:#b0b0b0;stroke-linecap:square;stroke-width:0.8;\"/>\n     </g>\n     <g id=\"line2d_22\">\n      <g>\n       <use style=\"stroke:#000000;stroke-width:0.8;\" x=\"281.371447\" xlink:href=\"#m4e8707c839\" y=\"170.28\"/>\n      </g>\n     </g>\n     <g id=\"text_10\">\n      <!-- 0 -->\n      <g transform=\"translate(278.190197 184.878438)scale(0.1 -0.1)\">\n       <use xlink:href=\"#DejaVuSans-48\"/>\n      </g>\n     </g>\n    </g>\n    <g id=\"xtick_6\">\n     <g id=\"line2d_23\">\n      <path clip-path=\"url(#p6440d938b9)\" d=\"M 348.678807 170.28 \nL 348.678807 7.2 \n\" style=\"fill:none;stroke:#b0b0b0;stroke-linecap:square;stroke-width:0.8;\"/>\n     </g>\n     <g id=\"line2d_24\">\n      <g>\n       <use style=\"stroke:#000000;stroke-width:0.8;\" x=\"348.678807\" xlink:href=\"#m4e8707c839\" y=\"170.28\"/>\n      </g>\n     </g>\n     <g id=\"text_11\">\n      <!-- 2 -->\n      <g transform=\"translate(345.497557 184.878438)scale(0.1 -0.1)\">\n       <use xlink:href=\"#DejaVuSans-50\"/>\n      </g>\n     </g>\n    </g>\n   </g>\n   <g id=\"matplotlib.axis_4\">\n    <g id=\"ytick_6\">\n     <g id=\"line2d_25\">\n      <path clip-path=\"url(#p6440d938b9)\" d=\"M 207.350184 162.867273 \nL 355.056066 162.867273 \n\" style=\"fill:none;stroke:#b0b0b0;stroke-linecap:square;stroke-width:0.8;\"/>\n     </g>\n     <g id=\"line2d_26\">\n      <g>\n       <use style=\"stroke:#000000;stroke-width:0.8;\" x=\"207.350184\" xlink:href=\"#mdea3f1b5d7\" y=\"162.867273\"/>\n      </g>\n     </g>\n     <g id=\"text_12\">\n      <!-- −1.0 -->\n      <g transform=\"translate(176.067371 166.666491)scale(0.1 -0.1)\">\n       <use xlink:href=\"#DejaVuSans-8722\"/>\n       <use x=\"83.789062\" xlink:href=\"#DejaVuSans-49\"/>\n       <use x=\"147.412109\" xlink:href=\"#DejaVuSans-46\"/>\n       <use x=\"179.199219\" xlink:href=\"#DejaVuSans-48\"/>\n      </g>\n     </g>\n    </g>\n    <g id=\"ytick_7\">\n     <g id=\"line2d_27\">\n      <path clip-path=\"url(#p6440d938b9)\" d=\"M 207.350184 125.803636 \nL 355.056066 125.803636 \n\" style=\"fill:none;stroke:#b0b0b0;stroke-linecap:square;stroke-width:0.8;\"/>\n     </g>\n     <g id=\"line2d_28\">\n      <g>\n       <use style=\"stroke:#000000;stroke-width:0.8;\" x=\"207.350184\" xlink:href=\"#mdea3f1b5d7\" y=\"125.803636\"/>\n      </g>\n     </g>\n     <g id=\"text_13\">\n      <!-- −0.5 -->\n      <g transform=\"translate(176.067371 129.602855)scale(0.1 -0.1)\">\n       <use xlink:href=\"#DejaVuSans-8722\"/>\n       <use x=\"83.789062\" xlink:href=\"#DejaVuSans-48\"/>\n       <use x=\"147.412109\" xlink:href=\"#DejaVuSans-46\"/>\n       <use x=\"179.199219\" xlink:href=\"#DejaVuSans-53\"/>\n      </g>\n     </g>\n    </g>\n    <g id=\"ytick_8\">\n     <g id=\"line2d_29\">\n      <path clip-path=\"url(#p6440d938b9)\" d=\"M 207.350184 88.74 \nL 355.056066 88.74 \n\" style=\"fill:none;stroke:#b0b0b0;stroke-linecap:square;stroke-width:0.8;\"/>\n     </g>\n     <g id=\"line2d_30\">\n      <g>\n       <use style=\"stroke:#000000;stroke-width:0.8;\" x=\"207.350184\" xlink:href=\"#mdea3f1b5d7\" y=\"88.74\"/>\n      </g>\n     </g>\n     <g id=\"text_14\">\n      <!-- 0.0 -->\n      <g transform=\"translate(184.447059 92.539219)scale(0.1 -0.1)\">\n       <use xlink:href=\"#DejaVuSans-48\"/>\n       <use x=\"63.623047\" xlink:href=\"#DejaVuSans-46\"/>\n       <use x=\"95.410156\" xlink:href=\"#DejaVuSans-48\"/>\n      </g>\n     </g>\n    </g>\n    <g id=\"ytick_9\">\n     <g id=\"line2d_31\">\n      <path clip-path=\"url(#p6440d938b9)\" d=\"M 207.350184 51.676364 \nL 355.056066 51.676364 \n\" style=\"fill:none;stroke:#b0b0b0;stroke-linecap:square;stroke-width:0.8;\"/>\n     </g>\n     <g id=\"line2d_32\">\n      <g>\n       <use style=\"stroke:#000000;stroke-width:0.8;\" x=\"207.350184\" xlink:href=\"#mdea3f1b5d7\" y=\"51.676364\"/>\n      </g>\n     </g>\n     <g id=\"text_15\">\n      <!-- 0.5 -->\n      <g transform=\"translate(184.447059 55.475582)scale(0.1 -0.1)\">\n       <use xlink:href=\"#DejaVuSans-48\"/>\n       <use x=\"63.623047\" xlink:href=\"#DejaVuSans-46\"/>\n       <use x=\"95.410156\" xlink:href=\"#DejaVuSans-53\"/>\n      </g>\n     </g>\n    </g>\n    <g id=\"ytick_10\">\n     <g id=\"line2d_33\">\n      <path clip-path=\"url(#p6440d938b9)\" d=\"M 207.350184 14.612727 \nL 355.056066 14.612727 \n\" style=\"fill:none;stroke:#b0b0b0;stroke-linecap:square;stroke-width:0.8;\"/>\n     </g>\n     <g id=\"line2d_34\">\n      <g>\n       <use style=\"stroke:#000000;stroke-width:0.8;\" x=\"207.350184\" xlink:href=\"#mdea3f1b5d7\" y=\"14.612727\"/>\n      </g>\n     </g>\n     <g id=\"text_16\">\n      <!-- 1.0 -->\n      <g transform=\"translate(184.447059 18.411946)scale(0.1 -0.1)\">\n       <use xlink:href=\"#DejaVuSans-49\"/>\n       <use x=\"63.623047\" xlink:href=\"#DejaVuSans-46\"/>\n       <use x=\"95.410156\" xlink:href=\"#DejaVuSans-48\"/>\n      </g>\n     </g>\n    </g>\n   </g>\n   <g id=\"line2d_35\">\n    <path clip-path=\"url(#p6440d938b9)\" d=\"M 214.064088 14.612727 \nL 214.737161 14.759 \nL 215.410233 15.197241 \nL 216.083306 15.925718 \nL 216.756379 16.941563 \nL 217.765989 18.995061 \nL 218.775598 21.667625 \nL 219.785208 24.935527 \nL 221.131354 30.167926 \nL 222.4775 36.324059 \nL 224.160182 45.169008 \nL 226.179401 57.178066 \nL 228.871693 74.849823 \nL 235.938959 122.392933 \nL 237.958178 134.173004 \nL 239.64086 142.776341 \nL 240.987006 148.710114 \nL 242.333152 153.698129 \nL 243.342761 156.77057 \nL 244.352371 159.239161 \nL 245.36198 161.082002 \nL 246.035053 161.954609 \nL 246.708126 162.538271 \nL 247.381199 162.830689 \nL 248.054272 162.830702 \nL 248.727345 162.538315 \nL 249.400418 161.95468 \nL 250.073491 161.082104 \nL 250.746564 159.92402 \nL 251.756173 157.661893 \nL 252.765783 154.787999 \nL 253.775392 151.327872 \nL 255.121538 145.856217 \nL 256.467684 139.483815 \nL 258.150366 130.405954 \nL 260.169585 118.179771 \nL 262.861877 100.336383 \nL 269.25607 57.178477 \nL 271.275289 45.169388 \nL 272.957971 36.324382 \nL 274.304119 30.168199 \nL 275.650267 24.935731 \nL 276.996415 20.709501 \nL 278.006025 18.240892 \nL 279.015635 16.398033 \nL 279.688709 15.525417 \nL 280.361782 14.941743 \nL 281.034856 14.649315 \nL 281.70793 14.649293 \nL 282.381003 14.941672 \nL 283.054077 15.525298 \nL 283.72715 16.397869 \nL 284.400224 17.55594 \nL 285.409834 19.818063 \nL 286.419444 22.691944 \nL 287.429055 26.15207 \nL 288.775203 31.623717 \nL 290.121351 37.996123 \nL 291.804033 47.07398 \nL 293.823252 59.300152 \nL 296.515544 77.143537 \nL 302.909738 120.301448 \nL 304.928957 132.310542 \nL 306.611639 141.155574 \nL 307.957785 147.311748 \nL 309.303931 152.544208 \nL 310.650077 156.77045 \nL 311.659686 159.239073 \nL 312.669296 161.081936 \nL 313.342369 161.954565 \nL 314.015442 162.538244 \nL 314.688515 162.83068 \nL 315.361588 162.830711 \nL 316.034661 162.538341 \nL 316.707733 161.954729 \nL 317.380806 161.082166 \nL 318.053879 159.9241 \nL 319.063489 157.661994 \nL 320.073098 154.788131 \nL 321.082708 151.328027 \nL 322.428854 145.856412 \nL 323.775 139.484027 \nL 325.457682 130.406193 \nL 327.476901 118.180054 \nL 330.169193 100.336658 \nL 336.563386 57.178737 \nL 338.582605 45.16964 \nL 340.265287 36.324585 \nL 341.611433 30.168381 \nL 342.957579 24.935903 \nL 344.303725 20.709634 \nL 345.313334 18.240993 \nL 346.322944 16.398112 \nL 346.996017 15.52547 \nL 347.669089 14.941774 \nL 348.342162 14.649329 \nL 348.342162 14.649329 \n\" style=\"fill:none;stroke:#1f77b4;stroke-linecap:square;stroke-width:1.5;\"/>\n   </g>\n   <g id=\"line2d_36\">\n    <path clip-path=\"url(#p6440d938b9)\" d=\"M 230.890928 88.739999 \nL 315.025127 162.867273 \n\" style=\"fill:none;stroke:#bf00bf;stroke-dasharray:5.55,2.4;stroke-dashoffset:0;stroke-width:1.5;\"/>\n   </g>\n   <g id=\"patch_8\">\n    <path d=\"M 207.350184 170.28 \nL 207.350184 7.2 \n\" style=\"fill:none;stroke:#000000;stroke-linecap:square;stroke-linejoin:miter;stroke-width:0.8;\"/>\n   </g>\n   <g id=\"patch_9\">\n    <path d=\"M 355.056066 170.28 \nL 355.056066 7.2 \n\" style=\"fill:none;stroke:#000000;stroke-linecap:square;stroke-linejoin:miter;stroke-width:0.8;\"/>\n   </g>\n   <g id=\"patch_10\">\n    <path d=\"M 207.350184 170.28 \nL 355.056066 170.28 \n\" style=\"fill:none;stroke:#000000;stroke-linecap:square;stroke-linejoin:miter;stroke-width:0.8;\"/>\n   </g>\n   <g id=\"patch_11\">\n    <path d=\"M 207.350184 7.2 \nL 355.056066 7.2 \n\" style=\"fill:none;stroke:#000000;stroke-linecap:square;stroke-linejoin:miter;stroke-width:0.8;\"/>\n   </g>\n  </g>\n  <g id=\"axes_3\">\n   <g id=\"patch_12\">\n    <path d=\"M 384.597243 170.28 \nL 532.303125 170.28 \nL 532.303125 7.2 \nL 384.597243 7.2 \nz\n\" style=\"fill:#ffffff;\"/>\n   </g>\n   <g id=\"matplotlib.axis_5\">\n    <g id=\"xtick_7\">\n     <g id=\"line2d_37\">\n      <path clip-path=\"url(#p558ecad8b6)\" d=\"M 391.311146 170.28 \nL 391.311146 7.2 \n\" style=\"fill:none;stroke:#b0b0b0;stroke-linecap:square;stroke-width:0.8;\"/>\n     </g>\n     <g id=\"line2d_38\">\n      <g>\n       <use style=\"stroke:#000000;stroke-width:0.8;\" x=\"391.311146\" xlink:href=\"#m4e8707c839\" y=\"170.28\"/>\n      </g>\n     </g>\n     <g id=\"text_17\">\n      <!-- −2 -->\n      <g transform=\"translate(383.940053 184.878438)scale(0.1 -0.1)\">\n       <use xlink:href=\"#DejaVuSans-8722\"/>\n       <use x=\"83.789062\" xlink:href=\"#DejaVuSans-50\"/>\n      </g>\n     </g>\n    </g>\n    <g id=\"xtick_8\">\n     <g id=\"line2d_39\">\n      <path clip-path=\"url(#p558ecad8b6)\" d=\"M 458.618506 170.28 \nL 458.618506 7.2 \n\" style=\"fill:none;stroke:#b0b0b0;stroke-linecap:square;stroke-width:0.8;\"/>\n     </g>\n     <g id=\"line2d_40\">\n      <g>\n       <use style=\"stroke:#000000;stroke-width:0.8;\" x=\"458.618506\" xlink:href=\"#m4e8707c839\" y=\"170.28\"/>\n      </g>\n     </g>\n     <g id=\"text_18\">\n      <!-- 0 -->\n      <g transform=\"translate(455.437256 184.878438)scale(0.1 -0.1)\">\n       <use xlink:href=\"#DejaVuSans-48\"/>\n      </g>\n     </g>\n    </g>\n    <g id=\"xtick_9\">\n     <g id=\"line2d_41\">\n      <path clip-path=\"url(#p558ecad8b6)\" d=\"M 525.925866 170.28 \nL 525.925866 7.2 \n\" style=\"fill:none;stroke:#b0b0b0;stroke-linecap:square;stroke-width:0.8;\"/>\n     </g>\n     <g id=\"line2d_42\">\n      <g>\n       <use style=\"stroke:#000000;stroke-width:0.8;\" x=\"525.925866\" xlink:href=\"#m4e8707c839\" y=\"170.28\"/>\n      </g>\n     </g>\n     <g id=\"text_19\">\n      <!-- 2 -->\n      <g transform=\"translate(522.744616 184.878438)scale(0.1 -0.1)\">\n       <use xlink:href=\"#DejaVuSans-50\"/>\n      </g>\n     </g>\n    </g>\n   </g>\n   <g id=\"matplotlib.axis_6\">\n    <g id=\"ytick_11\">\n     <g id=\"line2d_43\">\n      <path clip-path=\"url(#p558ecad8b6)\" d=\"M 384.597243 154.485241 \nL 532.303125 154.485241 \n\" style=\"fill:none;stroke:#b0b0b0;stroke-linecap:square;stroke-width:0.8;\"/>\n     </g>\n     <g id=\"line2d_44\">\n      <g>\n       <use style=\"stroke:#000000;stroke-width:0.8;\" x=\"384.597243\" xlink:href=\"#mdea3f1b5d7\" y=\"154.485241\"/>\n      </g>\n     </g>\n     <g id=\"text_20\">\n      <!-- 0.5 -->\n      <g transform=\"translate(361.694118 158.28446)scale(0.1 -0.1)\">\n       <use xlink:href=\"#DejaVuSans-48\"/>\n       <use x=\"63.623047\" xlink:href=\"#DejaVuSans-46\"/>\n       <use x=\"95.410156\" xlink:href=\"#DejaVuSans-53\"/>\n      </g>\n     </g>\n    </g>\n    <g id=\"ytick_12\">\n     <g id=\"line2d_45\">\n      <path clip-path=\"url(#p558ecad8b6)\" d=\"M 384.597243 122.76409 \nL 532.303125 122.76409 \n\" style=\"fill:none;stroke:#b0b0b0;stroke-linecap:square;stroke-width:0.8;\"/>\n     </g>\n     <g id=\"line2d_46\">\n      <g>\n       <use style=\"stroke:#000000;stroke-width:0.8;\" x=\"384.597243\" xlink:href=\"#mdea3f1b5d7\" y=\"122.76409\"/>\n      </g>\n     </g>\n     <g id=\"text_21\">\n      <!-- 1.0 -->\n      <g transform=\"translate(361.694118 126.563309)scale(0.1 -0.1)\">\n       <use xlink:href=\"#DejaVuSans-49\"/>\n       <use x=\"63.623047\" xlink:href=\"#DejaVuSans-46\"/>\n       <use x=\"95.410156\" xlink:href=\"#DejaVuSans-48\"/>\n      </g>\n     </g>\n    </g>\n    <g id=\"ytick_13\">\n     <g id=\"line2d_47\">\n      <path clip-path=\"url(#p558ecad8b6)\" d=\"M 384.597243 91.042939 \nL 532.303125 91.042939 \n\" style=\"fill:none;stroke:#b0b0b0;stroke-linecap:square;stroke-width:0.8;\"/>\n     </g>\n     <g id=\"line2d_48\">\n      <g>\n       <use style=\"stroke:#000000;stroke-width:0.8;\" x=\"384.597243\" xlink:href=\"#mdea3f1b5d7\" y=\"91.042939\"/>\n      </g>\n     </g>\n     <g id=\"text_22\">\n      <!-- 1.5 -->\n      <g transform=\"translate(361.694118 94.842158)scale(0.1 -0.1)\">\n       <use xlink:href=\"#DejaVuSans-49\"/>\n       <use x=\"63.623047\" xlink:href=\"#DejaVuSans-46\"/>\n       <use x=\"95.410156\" xlink:href=\"#DejaVuSans-53\"/>\n      </g>\n     </g>\n    </g>\n    <g id=\"ytick_14\">\n     <g id=\"line2d_49\">\n      <path clip-path=\"url(#p558ecad8b6)\" d=\"M 384.597243 59.321788 \nL 532.303125 59.321788 \n\" style=\"fill:none;stroke:#b0b0b0;stroke-linecap:square;stroke-width:0.8;\"/>\n     </g>\n     <g id=\"line2d_50\">\n      <g>\n       <use style=\"stroke:#000000;stroke-width:0.8;\" x=\"384.597243\" xlink:href=\"#mdea3f1b5d7\" y=\"59.321788\"/>\n      </g>\n     </g>\n     <g id=\"text_23\">\n      <!-- 2.0 -->\n      <g transform=\"translate(361.694118 63.121006)scale(0.1 -0.1)\">\n       <use xlink:href=\"#DejaVuSans-50\"/>\n       <use x=\"63.623047\" xlink:href=\"#DejaVuSans-46\"/>\n       <use x=\"95.410156\" xlink:href=\"#DejaVuSans-48\"/>\n      </g>\n     </g>\n    </g>\n    <g id=\"ytick_15\">\n     <g id=\"line2d_51\">\n      <path clip-path=\"url(#p558ecad8b6)\" d=\"M 384.597243 27.600637 \nL 532.303125 27.600637 \n\" style=\"fill:none;stroke:#b0b0b0;stroke-linecap:square;stroke-width:0.8;\"/>\n     </g>\n     <g id=\"line2d_52\">\n      <g>\n       <use style=\"stroke:#000000;stroke-width:0.8;\" x=\"384.597243\" xlink:href=\"#mdea3f1b5d7\" y=\"27.600637\"/>\n      </g>\n     </g>\n     <g id=\"text_24\">\n      <!-- 2.5 -->\n      <g transform=\"translate(361.694118 31.399855)scale(0.1 -0.1)\">\n       <use xlink:href=\"#DejaVuSans-50\"/>\n       <use x=\"63.623047\" xlink:href=\"#DejaVuSans-46\"/>\n       <use x=\"95.410156\" xlink:href=\"#DejaVuSans-53\"/>\n      </g>\n     </g>\n    </g>\n   </g>\n   <g id=\"line2d_53\">\n    <path clip-path=\"url(#p558ecad8b6)\" d=\"M 391.311146 162.867273 \nL 398.041876 160.412679 \nL 404.436069 157.842109 \nL 410.493726 155.170927 \nL 416.214846 152.417552 \nL 421.935966 149.419909 \nL 427.32055 146.356075 \nL 432.705133 143.037065 \nL 437.75318 139.674859 \nL 442.801228 136.050795 \nL 447.849275 132.144471 \nL 452.560789 128.224542 \nL 457.272304 124.02038 \nL 461.983819 119.511387 \nL 466.695336 114.67545 \nL 471.070311 109.871511 \nL 475.445285 104.744938 \nL 479.82026 99.274072 \nL 484.195234 93.435784 \nL 488.570209 87.205411 \nL 492.945183 80.556606 \nL 496.983621 74.023597 \nL 501.022058 67.086607 \nL 505.060496 59.720656 \nL 509.098934 51.899228 \nL 513.137372 43.594138 \nL 517.175809 34.775495 \nL 521.214247 25.411537 \nL 525.252685 15.468546 \nL 525.589221 14.612727 \nL 525.589221 14.612727 \n\" style=\"fill:none;stroke:#1f77b4;stroke-linecap:square;stroke-width:1.5;\"/>\n   </g>\n   <g id=\"line2d_54\">\n    <path clip-path=\"url(#p558ecad8b6)\" d=\"M 408.137986 156.238371 \nL 492.272186 81.607722 \n\" style=\"fill:none;stroke:#bf00bf;stroke-dasharray:5.55,2.4;stroke-dashoffset:0;stroke-width:1.5;\"/>\n   </g>\n   <g id=\"patch_13\">\n    <path d=\"M 384.597243 170.28 \nL 384.597243 7.2 \n\" style=\"fill:none;stroke:#000000;stroke-linecap:square;stroke-linejoin:miter;stroke-width:0.8;\"/>\n   </g>\n   <g id=\"patch_14\">\n    <path d=\"M 532.303125 170.28 \nL 532.303125 7.2 \n\" style=\"fill:none;stroke:#000000;stroke-linecap:square;stroke-linejoin:miter;stroke-width:0.8;\"/>\n   </g>\n   <g id=\"patch_15\">\n    <path d=\"M 384.597243 170.28 \nL 532.303125 170.28 \n\" style=\"fill:none;stroke:#000000;stroke-linecap:square;stroke-linejoin:miter;stroke-width:0.8;\"/>\n   </g>\n   <g id=\"patch_16\">\n    <path d=\"M 384.597243 7.2 \nL 532.303125 7.2 \n\" style=\"fill:none;stroke:#000000;stroke-linecap:square;stroke-linejoin:miter;stroke-width:0.8;\"/>\n   </g>\n  </g>\n </g>\n <defs>\n  <clipPath id=\"p18f714d4fb\">\n   <rect height=\"163.08\" width=\"147.705882\" x=\"30.103125\" y=\"7.2\"/>\n  </clipPath>\n  <clipPath id=\"p6440d938b9\">\n   <rect height=\"163.08\" width=\"147.705882\" x=\"207.350184\" y=\"7.2\"/>\n  </clipPath>\n  <clipPath id=\"p558ecad8b6\">\n   <rect height=\"163.08\" width=\"147.705882\" x=\"384.597243\" y=\"7.2\"/>\n  </clipPath>\n </defs>\n</svg>\n",
      "text/plain": [
       "<Figure size 648x216 with 3 Axes>"
      ]
     },
     "metadata": {
      "needs_background": "light"
     },
     "output_type": "display_data"
    }
   ],
   "source": [
    "f = lambda x: 0.5 * x**2  # 凸函数\n",
    "g = lambda x: tf.cos(np.pi * x)  # 非凸函数\n",
    "h = lambda x: tf.exp(0.5 * x)  # 凸函数\n",
    "\n",
    "x, segment = tf.range(-2, 2, 0.01), tf.constant([-1.5, 1])\n",
    "# plt.use_svg_display()\n",
    "_, axes = plt.subplots(1, 3, figsize=(9, 3))\n",
    "for ax, func in zip(axes, [f, g, h]):\n",
    "    d2l.plot([x, segment], [func(x), func(segment)], axes=ax)"
   ]
  },
  {
   "cell_type": "markdown",
   "metadata": {},
   "source": [
    "不出所料，余弦函数为非凸的，而抛物线函数和指数函数为凸的。 请注意，为使该条件有意义，x是凸集的要求是必要的。 否则可能无法很好地界定\n",
    "$f(\\lambda x+(1-\\lambda)x^{\\prime} )$结果"
   ]
  },
  {
   "cell_type": "markdown",
   "metadata": {},
   "source": [
    "#### 11.2.2. 性质\n",
    "下面我们来看一下凸函数一些有趣的性质。\n",
    "\n",
    "##### 11.2.2.1. 局部极小值是全局极小值\n",
    "首先凸函数的局部极小值也是全局极小值。\n",
    "\n",
    "例如，对于凸函数$f(x)=(x-1)^2$，有一个局部最小值x=1，它也是全局最小值。"
   ]
  },
  {
   "cell_type": "code",
   "execution_count": 22,
   "metadata": {
    "ExecuteTime": {
     "end_time": "2022-10-18T15:28:25.930357Z",
     "start_time": "2022-10-18T15:28:25.791882Z"
    }
   },
   "outputs": [
    {
     "data": {
      "image/svg+xml": "<?xml version=\"1.0\" encoding=\"utf-8\" standalone=\"no\"?>\n<!DOCTYPE svg PUBLIC \"-//W3C//DTD SVG 1.1//EN\"\n  \"http://www.w3.org/Graphics/SVG/1.1/DTD/svg11.dtd\">\n<!-- Created with matplotlib (https://matplotlib.org/) -->\n<svg height=\"180.65625pt\" version=\"1.1\" viewBox=\"0 0 243.103125 180.65625\" width=\"243.103125pt\" xmlns=\"http://www.w3.org/2000/svg\" xmlns:xlink=\"http://www.w3.org/1999/xlink\">\n <metadata>\n  <rdf:RDF xmlns:cc=\"http://creativecommons.org/ns#\" xmlns:dc=\"http://purl.org/dc/elements/1.1/\" xmlns:rdf=\"http://www.w3.org/1999/02/22-rdf-syntax-ns#\">\n   <cc:Work>\n    <dc:type rdf:resource=\"http://purl.org/dc/dcmitype/StillImage\"/>\n    <dc:date>2022-10-18T23:28:25.901438</dc:date>\n    <dc:format>image/svg+xml</dc:format>\n    <dc:creator>\n     <cc:Agent>\n      <dc:title>Matplotlib v3.3.3, https://matplotlib.org/</dc:title>\n     </cc:Agent>\n    </dc:creator>\n   </cc:Work>\n  </rdf:RDF>\n </metadata>\n <defs>\n  <style type=\"text/css\">*{stroke-linecap:butt;stroke-linejoin:round;}</style>\n </defs>\n <g id=\"figure_1\">\n  <g id=\"patch_1\">\n   <path d=\"M 0 180.65625 \nL 243.103125 180.65625 \nL 243.103125 0 \nL 0 0 \nz\n\" style=\"fill:none;\"/>\n  </g>\n  <g id=\"axes_1\">\n   <g id=\"patch_2\">\n    <path d=\"M 40.603125 143.1 \nL 235.903125 143.1 \nL 235.903125 7.2 \nL 40.603125 7.2 \nz\n\" style=\"fill:#ffffff;\"/>\n   </g>\n   <g id=\"matplotlib.axis_1\">\n    <g id=\"xtick_1\">\n     <g id=\"line2d_1\">\n      <path clip-path=\"url(#p220cd53536)\" d=\"M 49.480398 143.1 \nL 49.480398 7.2 \n\" style=\"fill:none;stroke:#b0b0b0;stroke-linecap:square;stroke-width:0.8;\"/>\n     </g>\n     <g id=\"line2d_2\">\n      <defs>\n       <path d=\"M 0 0 \nL 0 3.5 \n\" id=\"m9b1f5ac556\" style=\"stroke:#000000;stroke-width:0.8;\"/>\n      </defs>\n      <g>\n       <use style=\"stroke:#000000;stroke-width:0.8;\" x=\"49.480398\" xlink:href=\"#m9b1f5ac556\" y=\"143.1\"/>\n      </g>\n     </g>\n     <g id=\"text_1\">\n      <!-- −2 -->\n      <g transform=\"translate(42.109304 157.698438)scale(0.1 -0.1)\">\n       <defs>\n        <path d=\"M 10.59375 35.5 \nL 73.1875 35.5 \nL 73.1875 27.203125 \nL 10.59375 27.203125 \nz\n\" id=\"DejaVuSans-8722\"/>\n        <path d=\"M 19.1875 8.296875 \nL 53.609375 8.296875 \nL 53.609375 0 \nL 7.328125 0 \nL 7.328125 8.296875 \nQ 12.9375 14.109375 22.625 23.890625 \nQ 32.328125 33.6875 34.8125 36.53125 \nQ 39.546875 41.84375 41.421875 45.53125 \nQ 43.3125 49.21875 43.3125 52.78125 \nQ 43.3125 58.59375 39.234375 62.25 \nQ 35.15625 65.921875 28.609375 65.921875 \nQ 23.96875 65.921875 18.8125 64.3125 \nQ 13.671875 62.703125 7.8125 59.421875 \nL 7.8125 69.390625 \nQ 13.765625 71.78125 18.9375 73 \nQ 24.125 74.21875 28.421875 74.21875 \nQ 39.75 74.21875 46.484375 68.546875 \nQ 53.21875 62.890625 53.21875 53.421875 \nQ 53.21875 48.921875 51.53125 44.890625 \nQ 49.859375 40.875 45.40625 35.40625 \nQ 44.1875 33.984375 37.640625 27.21875 \nQ 31.109375 20.453125 19.1875 8.296875 \nz\n\" id=\"DejaVuSans-50\"/>\n       </defs>\n       <use xlink:href=\"#DejaVuSans-8722\"/>\n       <use x=\"83.789062\" xlink:href=\"#DejaVuSans-50\"/>\n      </g>\n     </g>\n    </g>\n    <g id=\"xtick_2\">\n     <g id=\"line2d_3\">\n      <path clip-path=\"url(#p220cd53536)\" d=\"M 100.280115 143.1 \nL 100.280115 7.2 \n\" style=\"fill:none;stroke:#b0b0b0;stroke-linecap:square;stroke-width:0.8;\"/>\n     </g>\n     <g id=\"line2d_4\">\n      <g>\n       <use style=\"stroke:#000000;stroke-width:0.8;\" x=\"100.280115\" xlink:href=\"#m9b1f5ac556\" y=\"143.1\"/>\n      </g>\n     </g>\n     <g id=\"text_2\">\n      <!-- 0 -->\n      <g transform=\"translate(97.098865 157.698438)scale(0.1 -0.1)\">\n       <defs>\n        <path d=\"M 31.78125 66.40625 \nQ 24.171875 66.40625 20.328125 58.90625 \nQ 16.5 51.421875 16.5 36.375 \nQ 16.5 21.390625 20.328125 13.890625 \nQ 24.171875 6.390625 31.78125 6.390625 \nQ 39.453125 6.390625 43.28125 13.890625 \nQ 47.125 21.390625 47.125 36.375 \nQ 47.125 51.421875 43.28125 58.90625 \nQ 39.453125 66.40625 31.78125 66.40625 \nz\nM 31.78125 74.21875 \nQ 44.046875 74.21875 50.515625 64.515625 \nQ 56.984375 54.828125 56.984375 36.375 \nQ 56.984375 17.96875 50.515625 8.265625 \nQ 44.046875 -1.421875 31.78125 -1.421875 \nQ 19.53125 -1.421875 13.0625 8.265625 \nQ 6.59375 17.96875 6.59375 36.375 \nQ 6.59375 54.828125 13.0625 64.515625 \nQ 19.53125 74.21875 31.78125 74.21875 \nz\n\" id=\"DejaVuSans-48\"/>\n       </defs>\n       <use xlink:href=\"#DejaVuSans-48\"/>\n      </g>\n     </g>\n    </g>\n    <g id=\"xtick_3\">\n     <g id=\"line2d_5\">\n      <path clip-path=\"url(#p220cd53536)\" d=\"M 151.079832 143.1 \nL 151.079832 7.2 \n\" style=\"fill:none;stroke:#b0b0b0;stroke-linecap:square;stroke-width:0.8;\"/>\n     </g>\n     <g id=\"line2d_6\">\n      <g>\n       <use style=\"stroke:#000000;stroke-width:0.8;\" x=\"151.079832\" xlink:href=\"#m9b1f5ac556\" y=\"143.1\"/>\n      </g>\n     </g>\n     <g id=\"text_3\">\n      <!-- 2 -->\n      <g transform=\"translate(147.898582 157.698438)scale(0.1 -0.1)\">\n       <use xlink:href=\"#DejaVuSans-50\"/>\n      </g>\n     </g>\n    </g>\n    <g id=\"xtick_4\">\n     <g id=\"line2d_7\">\n      <path clip-path=\"url(#p220cd53536)\" d=\"M 201.87955 143.1 \nL 201.87955 7.2 \n\" style=\"fill:none;stroke:#b0b0b0;stroke-linecap:square;stroke-width:0.8;\"/>\n     </g>\n     <g id=\"line2d_8\">\n      <g>\n       <use style=\"stroke:#000000;stroke-width:0.8;\" x=\"201.87955\" xlink:href=\"#m9b1f5ac556\" y=\"143.1\"/>\n      </g>\n     </g>\n     <g id=\"text_4\">\n      <!-- 4 -->\n      <g transform=\"translate(198.6983 157.698438)scale(0.1 -0.1)\">\n       <defs>\n        <path d=\"M 37.796875 64.3125 \nL 12.890625 25.390625 \nL 37.796875 25.390625 \nz\nM 35.203125 72.90625 \nL 47.609375 72.90625 \nL 47.609375 25.390625 \nL 58.015625 25.390625 \nL 58.015625 17.1875 \nL 47.609375 17.1875 \nL 47.609375 0 \nL 37.796875 0 \nL 37.796875 17.1875 \nL 4.890625 17.1875 \nL 4.890625 26.703125 \nz\n\" id=\"DejaVuSans-52\"/>\n       </defs>\n       <use xlink:href=\"#DejaVuSans-52\"/>\n      </g>\n     </g>\n    </g>\n    <g id=\"text_5\">\n     <!-- x -->\n     <g transform=\"translate(135.29375 171.376563)scale(0.1 -0.1)\">\n      <defs>\n       <path d=\"M 54.890625 54.6875 \nL 35.109375 28.078125 \nL 55.90625 0 \nL 45.3125 0 \nL 29.390625 21.484375 \nL 13.484375 0 \nL 2.875 0 \nL 24.125 28.609375 \nL 4.6875 54.6875 \nL 15.28125 54.6875 \nL 29.78125 35.203125 \nL 44.28125 54.6875 \nz\n\" id=\"DejaVuSans-120\"/>\n      </defs>\n      <use xlink:href=\"#DejaVuSans-120\"/>\n     </g>\n    </g>\n   </g>\n   <g id=\"matplotlib.axis_2\">\n    <g id=\"ytick_1\">\n     <g id=\"line2d_9\">\n      <path clip-path=\"url(#p220cd53536)\" d=\"M 40.603125 136.922727 \nL 235.903125 136.922727 \n\" style=\"fill:none;stroke:#b0b0b0;stroke-linecap:square;stroke-width:0.8;\"/>\n     </g>\n     <g id=\"line2d_10\">\n      <defs>\n       <path d=\"M 0 0 \nL -3.5 0 \n\" id=\"mc2a512af26\" style=\"stroke:#000000;stroke-width:0.8;\"/>\n      </defs>\n      <g>\n       <use style=\"stroke:#000000;stroke-width:0.8;\" x=\"40.603125\" xlink:href=\"#mc2a512af26\" y=\"136.922727\"/>\n      </g>\n     </g>\n     <g id=\"text_6\">\n      <!-- 0 -->\n      <g transform=\"translate(27.240625 140.721946)scale(0.1 -0.1)\">\n       <use xlink:href=\"#DejaVuSans-48\"/>\n      </g>\n     </g>\n    </g>\n    <g id=\"ytick_2\">\n     <g id=\"line2d_11\">\n      <path clip-path=\"url(#p220cd53536)\" d=\"M 40.603125 98.121344 \nL 235.903125 98.121344 \n\" style=\"fill:none;stroke:#b0b0b0;stroke-linecap:square;stroke-width:0.8;\"/>\n     </g>\n     <g id=\"line2d_12\">\n      <g>\n       <use style=\"stroke:#000000;stroke-width:0.8;\" x=\"40.603125\" xlink:href=\"#mc2a512af26\" y=\"98.121344\"/>\n      </g>\n     </g>\n     <g id=\"text_7\">\n      <!-- 5 -->\n      <g transform=\"translate(27.240625 101.920563)scale(0.1 -0.1)\">\n       <defs>\n        <path d=\"M 10.796875 72.90625 \nL 49.515625 72.90625 \nL 49.515625 64.59375 \nL 19.828125 64.59375 \nL 19.828125 46.734375 \nQ 21.96875 47.46875 24.109375 47.828125 \nQ 26.265625 48.1875 28.421875 48.1875 \nQ 40.625 48.1875 47.75 41.5 \nQ 54.890625 34.8125 54.890625 23.390625 \nQ 54.890625 11.625 47.5625 5.09375 \nQ 40.234375 -1.421875 26.90625 -1.421875 \nQ 22.3125 -1.421875 17.546875 -0.640625 \nQ 12.796875 0.140625 7.71875 1.703125 \nL 7.71875 11.625 \nQ 12.109375 9.234375 16.796875 8.0625 \nQ 21.484375 6.890625 26.703125 6.890625 \nQ 35.15625 6.890625 40.078125 11.328125 \nQ 45.015625 15.765625 45.015625 23.390625 \nQ 45.015625 31 40.078125 35.4375 \nQ 35.15625 39.890625 26.703125 39.890625 \nQ 22.75 39.890625 18.8125 39.015625 \nQ 14.890625 38.140625 10.796875 36.28125 \nz\n\" id=\"DejaVuSans-53\"/>\n       </defs>\n       <use xlink:href=\"#DejaVuSans-53\"/>\n      </g>\n     </g>\n    </g>\n    <g id=\"ytick_3\">\n     <g id=\"line2d_13\">\n      <path clip-path=\"url(#p220cd53536)\" d=\"M 40.603125 59.319961 \nL 235.903125 59.319961 \n\" style=\"fill:none;stroke:#b0b0b0;stroke-linecap:square;stroke-width:0.8;\"/>\n     </g>\n     <g id=\"line2d_14\">\n      <g>\n       <use style=\"stroke:#000000;stroke-width:0.8;\" x=\"40.603125\" xlink:href=\"#mc2a512af26\" y=\"59.319961\"/>\n      </g>\n     </g>\n     <g id=\"text_8\">\n      <!-- 10 -->\n      <g transform=\"translate(20.878125 63.11918)scale(0.1 -0.1)\">\n       <defs>\n        <path d=\"M 12.40625 8.296875 \nL 28.515625 8.296875 \nL 28.515625 63.921875 \nL 10.984375 60.40625 \nL 10.984375 69.390625 \nL 28.421875 72.90625 \nL 38.28125 72.90625 \nL 38.28125 8.296875 \nL 54.390625 8.296875 \nL 54.390625 0 \nL 12.40625 0 \nz\n\" id=\"DejaVuSans-49\"/>\n       </defs>\n       <use xlink:href=\"#DejaVuSans-49\"/>\n       <use x=\"63.623047\" xlink:href=\"#DejaVuSans-48\"/>\n      </g>\n     </g>\n    </g>\n    <g id=\"ytick_4\">\n     <g id=\"line2d_15\">\n      <path clip-path=\"url(#p220cd53536)\" d=\"M 40.603125 20.518578 \nL 235.903125 20.518578 \n\" style=\"fill:none;stroke:#b0b0b0;stroke-linecap:square;stroke-width:0.8;\"/>\n     </g>\n     <g id=\"line2d_16\">\n      <g>\n       <use style=\"stroke:#000000;stroke-width:0.8;\" x=\"40.603125\" xlink:href=\"#mc2a512af26\" y=\"20.518578\"/>\n      </g>\n     </g>\n     <g id=\"text_9\">\n      <!-- 15 -->\n      <g transform=\"translate(20.878125 24.317797)scale(0.1 -0.1)\">\n       <use xlink:href=\"#DejaVuSans-49\"/>\n       <use x=\"63.623047\" xlink:href=\"#DejaVuSans-53\"/>\n      </g>\n     </g>\n    </g>\n    <g id=\"text_10\">\n     <!-- f(x) -->\n     <g transform=\"translate(14.798437 83.771094)rotate(-90)scale(0.1 -0.1)\">\n      <defs>\n       <path d=\"M 37.109375 75.984375 \nL 37.109375 68.5 \nL 28.515625 68.5 \nQ 23.6875 68.5 21.796875 66.546875 \nQ 19.921875 64.59375 19.921875 59.515625 \nL 19.921875 54.6875 \nL 34.71875 54.6875 \nL 34.71875 47.703125 \nL 19.921875 47.703125 \nL 19.921875 0 \nL 10.890625 0 \nL 10.890625 47.703125 \nL 2.296875 47.703125 \nL 2.296875 54.6875 \nL 10.890625 54.6875 \nL 10.890625 58.5 \nQ 10.890625 67.625 15.140625 71.796875 \nQ 19.390625 75.984375 28.609375 75.984375 \nz\n\" id=\"DejaVuSans-102\"/>\n       <path d=\"M 31 75.875 \nQ 24.46875 64.65625 21.28125 53.65625 \nQ 18.109375 42.671875 18.109375 31.390625 \nQ 18.109375 20.125 21.3125 9.0625 \nQ 24.515625 -2 31 -13.1875 \nL 23.1875 -13.1875 \nQ 15.875 -1.703125 12.234375 9.375 \nQ 8.59375 20.453125 8.59375 31.390625 \nQ 8.59375 42.28125 12.203125 53.3125 \nQ 15.828125 64.359375 23.1875 75.875 \nz\n\" id=\"DejaVuSans-40\"/>\n       <path d=\"M 8.015625 75.875 \nL 15.828125 75.875 \nQ 23.140625 64.359375 26.78125 53.3125 \nQ 30.421875 42.28125 30.421875 31.390625 \nQ 30.421875 20.453125 26.78125 9.375 \nQ 23.140625 -1.703125 15.828125 -13.1875 \nL 8.015625 -13.1875 \nQ 14.5 -2 17.703125 9.0625 \nQ 20.90625 20.125 20.90625 31.390625 \nQ 20.90625 42.671875 17.703125 53.65625 \nQ 14.5 64.65625 8.015625 75.875 \nz\n\" id=\"DejaVuSans-41\"/>\n      </defs>\n      <use xlink:href=\"#DejaVuSans-102\"/>\n      <use x=\"35.205078\" xlink:href=\"#DejaVuSans-40\"/>\n      <use x=\"74.21875\" xlink:href=\"#DejaVuSans-120\"/>\n      <use x=\"133.398438\" xlink:href=\"#DejaVuSans-41\"/>\n     </g>\n    </g>\n   </g>\n   <g id=\"line2d_17\">\n    <path clip-path=\"url(#p220cd53536)\" d=\"M 49.480398 67.080238 \nL 53.79837 74.771443 \nL 58.116341 82.014102 \nL 62.434313 88.808218 \nL 66.498287 94.792937 \nL 70.56226 100.380335 \nL 74.372236 105.257665 \nL 78.182211 109.785784 \nL 81.992186 113.964692 \nL 85.548163 117.54994 \nL 89.104139 120.830984 \nL 92.660116 123.807827 \nL 96.216097 126.480469 \nL 99.518078 128.689823 \nL 102.820059 130.63688 \nL 106.122042 132.32164 \nL 109.424021 133.744102 \nL 112.472002 134.824334 \nL 115.519982 135.681071 \nL 118.567963 136.314313 \nL 121.615943 136.724059 \nL 124.663923 136.910309 \nL 127.711903 136.873064 \nL 130.759883 136.612324 \nL 133.807863 136.128088 \nL 136.855843 135.420356 \nL 139.903824 134.489129 \nL 142.951804 133.334406 \nL 145.999784 131.956188 \nL 149.301762 130.210909 \nL 152.603744 128.203332 \nL 155.905722 125.93346 \nL 159.207701 123.401291 \nL 162.763678 120.381002 \nL 166.319654 117.05651 \nL 169.875631 113.427817 \nL 173.431608 109.49492 \nL 177.241583 104.943532 \nL 181.051558 100.04293 \nL 184.861534 94.793119 \nL 188.925507 88.808411 \nL 192.989481 82.426377 \nL 197.307452 75.210117 \nL 201.625424 67.54531 \nL 205.943487 59.431787 \nL 210.515566 50.352055 \nL 215.087645 40.769434 \nL 219.659725 30.683922 \nL 224.485808 19.492534 \nL 227.025852 13.377273 \nL 227.025852 13.377273 \n\" style=\"fill:none;stroke:#1f77b4;stroke-linecap:square;stroke-width:1.5;\"/>\n   </g>\n   <g id=\"line2d_18\">\n    <path clip-path=\"url(#p220cd53536)\" d=\"M 62.180327 88.420998 \nL 125.679974 136.922727 \n\" style=\"fill:none;stroke:#bf00bf;stroke-dasharray:5.55,2.4;stroke-dashoffset:0;stroke-width:1.5;\"/>\n   </g>\n   <g id=\"patch_3\">\n    <path d=\"M 40.603125 143.1 \nL 40.603125 7.2 \n\" style=\"fill:none;stroke:#000000;stroke-linecap:square;stroke-linejoin:miter;stroke-width:0.8;\"/>\n   </g>\n   <g id=\"patch_4\">\n    <path d=\"M 235.903125 143.1 \nL 235.903125 7.2 \n\" style=\"fill:none;stroke:#000000;stroke-linecap:square;stroke-linejoin:miter;stroke-width:0.8;\"/>\n   </g>\n   <g id=\"patch_5\">\n    <path d=\"M 40.603125 143.1 \nL 235.903125 143.1 \n\" style=\"fill:none;stroke:#000000;stroke-linecap:square;stroke-linejoin:miter;stroke-width:0.8;\"/>\n   </g>\n   <g id=\"patch_6\">\n    <path d=\"M 40.603125 7.2 \nL 235.903125 7.2 \n\" style=\"fill:none;stroke:#000000;stroke-linecap:square;stroke-linejoin:miter;stroke-width:0.8;\"/>\n   </g>\n  </g>\n </g>\n <defs>\n  <clipPath id=\"p220cd53536\">\n   <rect height=\"135.9\" width=\"195.3\" x=\"40.603125\" y=\"7.2\"/>\n  </clipPath>\n </defs>\n</svg>\n",
      "text/plain": [
       "<Figure size 252x180 with 1 Axes>"
      ]
     },
     "metadata": {
      "needs_background": "light"
     },
     "output_type": "display_data"
    }
   ],
   "source": [
    "f = lambda x: (x - 1) ** 2\n",
    "d2l.set_figsize()\n",
    "d2l.plot([x, segment], [f(x), f(segment)], 'x', 'f(x)')"
   ]
  },
  {
   "cell_type": "markdown",
   "metadata": {},
   "source": [
    "凸函数的局部极小值同时也是全局极小值这一性质是很方便的。 这意味着如果我们最小化函数，我们就不会“卡住”。 但是，请注意，这并不意味着不能有多个全局最小值，或者可能不存在一个全局最小值。\n",
    "例如：$f(x)=\\max (|x|-1,0)$在区间[-1,1]都是最小值。函数$f(x)=exp(x)$在实数集上没有取得最小值，x->-∞，它趋近于0，但是没有f(x)=0的x"
   ]
  },
  {
   "cell_type": "markdown",
   "metadata": {},
   "source": [
    "### 11.3梯度下降\n",
    "尽管梯度下降（gradient descent）很少直接用于深度学习， 但了解它是理解下一节随机梯度下降算法的关键。 例如，由于学习率过大，优化问题可能会发散，这种现象早已在梯度下降中出现。 同样地，预处理（preconditioning）是梯度下降中的一种常用技术， 还被沿用到更高级的算法中。 让我们从简单的一维梯度下降开始。\n",
    "\n",
    "#### 11.3.1. 一维梯度下降\n",
    "\n",
    "因为梯度的方向就是函数之变化最快的方向，沿着梯度负方向走就是局部最小值的地方\n",
    "在梯度下降中，我们首先选择初始值x和常数步长/学习率rate>0， 然后使用它们连续迭代x，直到停止条件达成。 例如，当梯度$|f^{\\prime}(x)|$的幅度足够小或迭代次数达到某个值时。\n",
    "\n",
    "下面我们来展示如何实现梯度下降。为了简单起见，我们选用目标函数$f(x)=x^2$。 尽管我们知道x=0时能取得最小值， 但我们仍然使用这个简单的函数来观察的变化。\n",
    "\n",
    "接下来，我们使用x=10作为初始值，并假设rate=0.2。 使用梯度下降法迭代x共10次，我们可以看到，x的值最终将接近最优解。"
   ]
  },
  {
   "cell_type": "code",
   "execution_count": 25,
   "metadata": {
    "ExecuteTime": {
     "end_time": "2022-10-18T15:54:25.192824Z",
     "start_time": "2022-10-18T15:54:25.185688Z"
    }
   },
   "outputs": [
    {
     "name": "stdout",
     "output_type": "stream",
     "text": [
      "epoch 1, x: 6.000000\n",
      "epoch 2, x: 3.600000\n",
      "epoch 3, x: 2.160000\n",
      "epoch 4, x: 1.296000\n",
      "epoch 5, x: 0.777600\n",
      "epoch 6, x: 0.466560\n",
      "epoch 7, x: 0.279936\n",
      "epoch 8, x: 0.167962\n",
      "epoch 9, x: 0.100777\n",
      "epoch 10, x: 0.060466\n"
     ]
    }
   ],
   "source": [
    "def f(x):  # 目标函数\n",
    "    return x**2\n",
    "def f_grad(x): # 目标函数的梯度(导数)\n",
    "    return 2*x\n",
    "\n",
    "def gd(eta, f_grad):\n",
    "    x = 10.0\n",
    "    results = [x]\n",
    "    for i in range(10):\n",
    "        x -= eta * f_grad(x)\n",
    "        results.append(float(x))\n",
    "        print(f'epoch {i+1}, x: {x:f}')\n",
    "    return results\n",
    "\n",
    "results = gd(0.2, f_grad)"
   ]
  },
  {
   "cell_type": "markdown",
   "metadata": {},
   "source": [
    "对x进行优化的过程可以绘制如下。"
   ]
  },
  {
   "cell_type": "code",
   "execution_count": 26,
   "metadata": {
    "ExecuteTime": {
     "end_time": "2022-10-18T15:55:45.461222Z",
     "start_time": "2022-10-18T15:55:45.083329Z"
    }
   },
   "outputs": [
    {
     "data": {
      "image/svg+xml": "<?xml version=\"1.0\" encoding=\"utf-8\" standalone=\"no\"?>\n<!DOCTYPE svg PUBLIC \"-//W3C//DTD SVG 1.1//EN\"\n  \"http://www.w3.org/Graphics/SVG/1.1/DTD/svg11.dtd\">\n<!-- Created with matplotlib (https://matplotlib.org/) -->\n<svg height=\"180.65625pt\" version=\"1.1\" viewBox=\"0 0 249.465625 180.65625\" width=\"249.465625pt\" xmlns=\"http://www.w3.org/2000/svg\" xmlns:xlink=\"http://www.w3.org/1999/xlink\">\n <metadata>\n  <rdf:RDF xmlns:cc=\"http://creativecommons.org/ns#\" xmlns:dc=\"http://purl.org/dc/elements/1.1/\" xmlns:rdf=\"http://www.w3.org/1999/02/22-rdf-syntax-ns#\">\n   <cc:Work>\n    <dc:type rdf:resource=\"http://purl.org/dc/dcmitype/StillImage\"/>\n    <dc:date>2022-10-18T23:55:45.424259</dc:date>\n    <dc:format>image/svg+xml</dc:format>\n    <dc:creator>\n     <cc:Agent>\n      <dc:title>Matplotlib v3.3.3, https://matplotlib.org/</dc:title>\n     </cc:Agent>\n    </dc:creator>\n   </cc:Work>\n  </rdf:RDF>\n </metadata>\n <defs>\n  <style type=\"text/css\">*{stroke-linecap:butt;stroke-linejoin:round;}</style>\n </defs>\n <g id=\"figure_1\">\n  <g id=\"patch_1\">\n   <path d=\"M 0 180.65625 \nL 249.465625 180.65625 \nL 249.465625 0 \nL 0 0 \nz\n\" style=\"fill:none;\"/>\n  </g>\n  <g id=\"axes_1\">\n   <g id=\"patch_2\">\n    <path d=\"M 46.965625 143.1 \nL 242.265625 143.1 \nL 242.265625 7.2 \nL 46.965625 7.2 \nz\n\" style=\"fill:#ffffff;\"/>\n   </g>\n   <g id=\"matplotlib.axis_1\">\n    <g id=\"xtick_1\">\n     <g id=\"line2d_1\">\n      <path clip-path=\"url(#p962e6c7f77)\" d=\"M 55.842898 143.1 \nL 55.842898 7.2 \n\" style=\"fill:none;stroke:#b0b0b0;stroke-linecap:square;stroke-width:0.8;\"/>\n     </g>\n     <g id=\"line2d_2\">\n      <defs>\n       <path d=\"M 0 0 \nL 0 3.5 \n\" id=\"m554e77a1d7\" style=\"stroke:#000000;stroke-width:0.8;\"/>\n      </defs>\n      <g>\n       <use style=\"stroke:#000000;stroke-width:0.8;\" x=\"55.842898\" xlink:href=\"#m554e77a1d7\" y=\"143.1\"/>\n      </g>\n     </g>\n     <g id=\"text_1\">\n      <!-- −10 -->\n      <g transform=\"translate(45.290554 157.698438)scale(0.1 -0.1)\">\n       <defs>\n        <path d=\"M 10.59375 35.5 \nL 73.1875 35.5 \nL 73.1875 27.203125 \nL 10.59375 27.203125 \nz\n\" id=\"DejaVuSans-8722\"/>\n        <path d=\"M 12.40625 8.296875 \nL 28.515625 8.296875 \nL 28.515625 63.921875 \nL 10.984375 60.40625 \nL 10.984375 69.390625 \nL 28.421875 72.90625 \nL 38.28125 72.90625 \nL 38.28125 8.296875 \nL 54.390625 8.296875 \nL 54.390625 0 \nL 12.40625 0 \nz\n\" id=\"DejaVuSans-49\"/>\n        <path d=\"M 31.78125 66.40625 \nQ 24.171875 66.40625 20.328125 58.90625 \nQ 16.5 51.421875 16.5 36.375 \nQ 16.5 21.390625 20.328125 13.890625 \nQ 24.171875 6.390625 31.78125 6.390625 \nQ 39.453125 6.390625 43.28125 13.890625 \nQ 47.125 21.390625 47.125 36.375 \nQ 47.125 51.421875 43.28125 58.90625 \nQ 39.453125 66.40625 31.78125 66.40625 \nz\nM 31.78125 74.21875 \nQ 44.046875 74.21875 50.515625 64.515625 \nQ 56.984375 54.828125 56.984375 36.375 \nQ 56.984375 17.96875 50.515625 8.265625 \nQ 44.046875 -1.421875 31.78125 -1.421875 \nQ 19.53125 -1.421875 13.0625 8.265625 \nQ 6.59375 17.96875 6.59375 36.375 \nQ 6.59375 54.828125 13.0625 64.515625 \nQ 19.53125 74.21875 31.78125 74.21875 \nz\n\" id=\"DejaVuSans-48\"/>\n       </defs>\n       <use xlink:href=\"#DejaVuSans-8722\"/>\n       <use x=\"83.789062\" xlink:href=\"#DejaVuSans-49\"/>\n       <use x=\"147.412109\" xlink:href=\"#DejaVuSans-48\"/>\n      </g>\n     </g>\n    </g>\n    <g id=\"xtick_2\">\n     <g id=\"line2d_3\">\n      <path clip-path=\"url(#p962e6c7f77)\" d=\"M 100.229261 143.1 \nL 100.229261 7.2 \n\" style=\"fill:none;stroke:#b0b0b0;stroke-linecap:square;stroke-width:0.8;\"/>\n     </g>\n     <g id=\"line2d_4\">\n      <g>\n       <use style=\"stroke:#000000;stroke-width:0.8;\" x=\"100.229261\" xlink:href=\"#m554e77a1d7\" y=\"143.1\"/>\n      </g>\n     </g>\n     <g id=\"text_2\">\n      <!-- −5 -->\n      <g transform=\"translate(92.858168 157.698438)scale(0.1 -0.1)\">\n       <defs>\n        <path d=\"M 10.796875 72.90625 \nL 49.515625 72.90625 \nL 49.515625 64.59375 \nL 19.828125 64.59375 \nL 19.828125 46.734375 \nQ 21.96875 47.46875 24.109375 47.828125 \nQ 26.265625 48.1875 28.421875 48.1875 \nQ 40.625 48.1875 47.75 41.5 \nQ 54.890625 34.8125 54.890625 23.390625 \nQ 54.890625 11.625 47.5625 5.09375 \nQ 40.234375 -1.421875 26.90625 -1.421875 \nQ 22.3125 -1.421875 17.546875 -0.640625 \nQ 12.796875 0.140625 7.71875 1.703125 \nL 7.71875 11.625 \nQ 12.109375 9.234375 16.796875 8.0625 \nQ 21.484375 6.890625 26.703125 6.890625 \nQ 35.15625 6.890625 40.078125 11.328125 \nQ 45.015625 15.765625 45.015625 23.390625 \nQ 45.015625 31 40.078125 35.4375 \nQ 35.15625 39.890625 26.703125 39.890625 \nQ 22.75 39.890625 18.8125 39.015625 \nQ 14.890625 38.140625 10.796875 36.28125 \nz\n\" id=\"DejaVuSans-53\"/>\n       </defs>\n       <use xlink:href=\"#DejaVuSans-8722\"/>\n       <use x=\"83.789062\" xlink:href=\"#DejaVuSans-53\"/>\n      </g>\n     </g>\n    </g>\n    <g id=\"xtick_3\">\n     <g id=\"line2d_5\">\n      <path clip-path=\"url(#p962e6c7f77)\" d=\"M 144.615625 143.1 \nL 144.615625 7.2 \n\" style=\"fill:none;stroke:#b0b0b0;stroke-linecap:square;stroke-width:0.8;\"/>\n     </g>\n     <g id=\"line2d_6\">\n      <g>\n       <use style=\"stroke:#000000;stroke-width:0.8;\" x=\"144.615625\" xlink:href=\"#m554e77a1d7\" y=\"143.1\"/>\n      </g>\n     </g>\n     <g id=\"text_3\">\n      <!-- 0 -->\n      <g transform=\"translate(141.434375 157.698438)scale(0.1 -0.1)\">\n       <use xlink:href=\"#DejaVuSans-48\"/>\n      </g>\n     </g>\n    </g>\n    <g id=\"xtick_4\">\n     <g id=\"line2d_7\">\n      <path clip-path=\"url(#p962e6c7f77)\" d=\"M 189.001989 143.1 \nL 189.001989 7.2 \n\" style=\"fill:none;stroke:#b0b0b0;stroke-linecap:square;stroke-width:0.8;\"/>\n     </g>\n     <g id=\"line2d_8\">\n      <g>\n       <use style=\"stroke:#000000;stroke-width:0.8;\" x=\"189.001989\" xlink:href=\"#m554e77a1d7\" y=\"143.1\"/>\n      </g>\n     </g>\n     <g id=\"text_4\">\n      <!-- 5 -->\n      <g transform=\"translate(185.820739 157.698438)scale(0.1 -0.1)\">\n       <use xlink:href=\"#DejaVuSans-53\"/>\n      </g>\n     </g>\n    </g>\n    <g id=\"xtick_5\">\n     <g id=\"line2d_9\">\n      <path clip-path=\"url(#p962e6c7f77)\" d=\"M 233.388352 143.1 \nL 233.388352 7.2 \n\" style=\"fill:none;stroke:#b0b0b0;stroke-linecap:square;stroke-width:0.8;\"/>\n     </g>\n     <g id=\"line2d_10\">\n      <g>\n       <use style=\"stroke:#000000;stroke-width:0.8;\" x=\"233.388352\" xlink:href=\"#m554e77a1d7\" y=\"143.1\"/>\n      </g>\n     </g>\n     <g id=\"text_5\">\n      <!-- 10 -->\n      <g transform=\"translate(227.025852 157.698438)scale(0.1 -0.1)\">\n       <use xlink:href=\"#DejaVuSans-49\"/>\n       <use x=\"63.623047\" xlink:href=\"#DejaVuSans-48\"/>\n      </g>\n     </g>\n    </g>\n    <g id=\"text_6\">\n     <!-- x -->\n     <g transform=\"translate(141.65625 171.376563)scale(0.1 -0.1)\">\n      <defs>\n       <path d=\"M 54.890625 54.6875 \nL 35.109375 28.078125 \nL 55.90625 0 \nL 45.3125 0 \nL 29.390625 21.484375 \nL 13.484375 0 \nL 2.875 0 \nL 24.125 28.609375 \nL 4.6875 54.6875 \nL 15.28125 54.6875 \nL 29.78125 35.203125 \nL 44.28125 54.6875 \nz\n\" id=\"DejaVuSans-120\"/>\n      </defs>\n      <use xlink:href=\"#DejaVuSans-120\"/>\n     </g>\n    </g>\n   </g>\n   <g id=\"matplotlib.axis_2\">\n    <g id=\"ytick_1\">\n     <g id=\"line2d_11\">\n      <path clip-path=\"url(#p962e6c7f77)\" d=\"M 46.965625 136.922727 \nL 242.265625 136.922727 \n\" style=\"fill:none;stroke:#b0b0b0;stroke-linecap:square;stroke-width:0.8;\"/>\n     </g>\n     <g id=\"line2d_12\">\n      <defs>\n       <path d=\"M 0 0 \nL -3.5 0 \n\" id=\"mfe7cacb102\" style=\"stroke:#000000;stroke-width:0.8;\"/>\n      </defs>\n      <g>\n       <use style=\"stroke:#000000;stroke-width:0.8;\" x=\"46.965625\" xlink:href=\"#mfe7cacb102\" y=\"136.922727\"/>\n      </g>\n     </g>\n     <g id=\"text_7\">\n      <!-- 0 -->\n      <g transform=\"translate(33.603125 140.721946)scale(0.1 -0.1)\">\n       <use xlink:href=\"#DejaVuSans-48\"/>\n      </g>\n     </g>\n    </g>\n    <g id=\"ytick_2\">\n     <g id=\"line2d_13\">\n      <path clip-path=\"url(#p962e6c7f77)\" d=\"M 46.965625 112.213636 \nL 242.265625 112.213636 \n\" style=\"fill:none;stroke:#b0b0b0;stroke-linecap:square;stroke-width:0.8;\"/>\n     </g>\n     <g id=\"line2d_14\">\n      <g>\n       <use style=\"stroke:#000000;stroke-width:0.8;\" x=\"46.965625\" xlink:href=\"#mfe7cacb102\" y=\"112.213636\"/>\n      </g>\n     </g>\n     <g id=\"text_8\">\n      <!-- 20 -->\n      <g transform=\"translate(27.240625 116.012855)scale(0.1 -0.1)\">\n       <defs>\n        <path d=\"M 19.1875 8.296875 \nL 53.609375 8.296875 \nL 53.609375 0 \nL 7.328125 0 \nL 7.328125 8.296875 \nQ 12.9375 14.109375 22.625 23.890625 \nQ 32.328125 33.6875 34.8125 36.53125 \nQ 39.546875 41.84375 41.421875 45.53125 \nQ 43.3125 49.21875 43.3125 52.78125 \nQ 43.3125 58.59375 39.234375 62.25 \nQ 35.15625 65.921875 28.609375 65.921875 \nQ 23.96875 65.921875 18.8125 64.3125 \nQ 13.671875 62.703125 7.8125 59.421875 \nL 7.8125 69.390625 \nQ 13.765625 71.78125 18.9375 73 \nQ 24.125 74.21875 28.421875 74.21875 \nQ 39.75 74.21875 46.484375 68.546875 \nQ 53.21875 62.890625 53.21875 53.421875 \nQ 53.21875 48.921875 51.53125 44.890625 \nQ 49.859375 40.875 45.40625 35.40625 \nQ 44.1875 33.984375 37.640625 27.21875 \nQ 31.109375 20.453125 19.1875 8.296875 \nz\n\" id=\"DejaVuSans-50\"/>\n       </defs>\n       <use xlink:href=\"#DejaVuSans-50\"/>\n       <use x=\"63.623047\" xlink:href=\"#DejaVuSans-48\"/>\n      </g>\n     </g>\n    </g>\n    <g id=\"ytick_3\">\n     <g id=\"line2d_15\">\n      <path clip-path=\"url(#p962e6c7f77)\" d=\"M 46.965625 87.504545 \nL 242.265625 87.504545 \n\" style=\"fill:none;stroke:#b0b0b0;stroke-linecap:square;stroke-width:0.8;\"/>\n     </g>\n     <g id=\"line2d_16\">\n      <g>\n       <use style=\"stroke:#000000;stroke-width:0.8;\" x=\"46.965625\" xlink:href=\"#mfe7cacb102\" y=\"87.504545\"/>\n      </g>\n     </g>\n     <g id=\"text_9\">\n      <!-- 40 -->\n      <g transform=\"translate(27.240625 91.303764)scale(0.1 -0.1)\">\n       <defs>\n        <path d=\"M 37.796875 64.3125 \nL 12.890625 25.390625 \nL 37.796875 25.390625 \nz\nM 35.203125 72.90625 \nL 47.609375 72.90625 \nL 47.609375 25.390625 \nL 58.015625 25.390625 \nL 58.015625 17.1875 \nL 47.609375 17.1875 \nL 47.609375 0 \nL 37.796875 0 \nL 37.796875 17.1875 \nL 4.890625 17.1875 \nL 4.890625 26.703125 \nz\n\" id=\"DejaVuSans-52\"/>\n       </defs>\n       <use xlink:href=\"#DejaVuSans-52\"/>\n       <use x=\"63.623047\" xlink:href=\"#DejaVuSans-48\"/>\n      </g>\n     </g>\n    </g>\n    <g id=\"ytick_4\">\n     <g id=\"line2d_17\">\n      <path clip-path=\"url(#p962e6c7f77)\" d=\"M 46.965625 62.795455 \nL 242.265625 62.795455 \n\" style=\"fill:none;stroke:#b0b0b0;stroke-linecap:square;stroke-width:0.8;\"/>\n     </g>\n     <g id=\"line2d_18\">\n      <g>\n       <use style=\"stroke:#000000;stroke-width:0.8;\" x=\"46.965625\" xlink:href=\"#mfe7cacb102\" y=\"62.795455\"/>\n      </g>\n     </g>\n     <g id=\"text_10\">\n      <!-- 60 -->\n      <g transform=\"translate(27.240625 66.594673)scale(0.1 -0.1)\">\n       <defs>\n        <path d=\"M 33.015625 40.375 \nQ 26.375 40.375 22.484375 35.828125 \nQ 18.609375 31.296875 18.609375 23.390625 \nQ 18.609375 15.53125 22.484375 10.953125 \nQ 26.375 6.390625 33.015625 6.390625 \nQ 39.65625 6.390625 43.53125 10.953125 \nQ 47.40625 15.53125 47.40625 23.390625 \nQ 47.40625 31.296875 43.53125 35.828125 \nQ 39.65625 40.375 33.015625 40.375 \nz\nM 52.59375 71.296875 \nL 52.59375 62.3125 \nQ 48.875 64.0625 45.09375 64.984375 \nQ 41.3125 65.921875 37.59375 65.921875 \nQ 27.828125 65.921875 22.671875 59.328125 \nQ 17.53125 52.734375 16.796875 39.40625 \nQ 19.671875 43.65625 24.015625 45.921875 \nQ 28.375 48.1875 33.59375 48.1875 \nQ 44.578125 48.1875 50.953125 41.515625 \nQ 57.328125 34.859375 57.328125 23.390625 \nQ 57.328125 12.15625 50.6875 5.359375 \nQ 44.046875 -1.421875 33.015625 -1.421875 \nQ 20.359375 -1.421875 13.671875 8.265625 \nQ 6.984375 17.96875 6.984375 36.375 \nQ 6.984375 53.65625 15.1875 63.9375 \nQ 23.390625 74.21875 37.203125 74.21875 \nQ 40.921875 74.21875 44.703125 73.484375 \nQ 48.484375 72.75 52.59375 71.296875 \nz\n\" id=\"DejaVuSans-54\"/>\n       </defs>\n       <use xlink:href=\"#DejaVuSans-54\"/>\n       <use x=\"63.623047\" xlink:href=\"#DejaVuSans-48\"/>\n      </g>\n     </g>\n    </g>\n    <g id=\"ytick_5\">\n     <g id=\"line2d_19\">\n      <path clip-path=\"url(#p962e6c7f77)\" d=\"M 46.965625 38.086364 \nL 242.265625 38.086364 \n\" style=\"fill:none;stroke:#b0b0b0;stroke-linecap:square;stroke-width:0.8;\"/>\n     </g>\n     <g id=\"line2d_20\">\n      <g>\n       <use style=\"stroke:#000000;stroke-width:0.8;\" x=\"46.965625\" xlink:href=\"#mfe7cacb102\" y=\"38.086364\"/>\n      </g>\n     </g>\n     <g id=\"text_11\">\n      <!-- 80 -->\n      <g transform=\"translate(27.240625 41.885582)scale(0.1 -0.1)\">\n       <defs>\n        <path d=\"M 31.78125 34.625 \nQ 24.75 34.625 20.71875 30.859375 \nQ 16.703125 27.09375 16.703125 20.515625 \nQ 16.703125 13.921875 20.71875 10.15625 \nQ 24.75 6.390625 31.78125 6.390625 \nQ 38.8125 6.390625 42.859375 10.171875 \nQ 46.921875 13.96875 46.921875 20.515625 \nQ 46.921875 27.09375 42.890625 30.859375 \nQ 38.875 34.625 31.78125 34.625 \nz\nM 21.921875 38.8125 \nQ 15.578125 40.375 12.03125 44.71875 \nQ 8.5 49.078125 8.5 55.328125 \nQ 8.5 64.0625 14.71875 69.140625 \nQ 20.953125 74.21875 31.78125 74.21875 \nQ 42.671875 74.21875 48.875 69.140625 \nQ 55.078125 64.0625 55.078125 55.328125 \nQ 55.078125 49.078125 51.53125 44.71875 \nQ 48 40.375 41.703125 38.8125 \nQ 48.828125 37.15625 52.796875 32.3125 \nQ 56.78125 27.484375 56.78125 20.515625 \nQ 56.78125 9.90625 50.3125 4.234375 \nQ 43.84375 -1.421875 31.78125 -1.421875 \nQ 19.734375 -1.421875 13.25 4.234375 \nQ 6.78125 9.90625 6.78125 20.515625 \nQ 6.78125 27.484375 10.78125 32.3125 \nQ 14.796875 37.15625 21.921875 38.8125 \nz\nM 18.3125 54.390625 \nQ 18.3125 48.734375 21.84375 45.5625 \nQ 25.390625 42.390625 31.78125 42.390625 \nQ 38.140625 42.390625 41.71875 45.5625 \nQ 45.3125 48.734375 45.3125 54.390625 \nQ 45.3125 60.0625 41.71875 63.234375 \nQ 38.140625 66.40625 31.78125 66.40625 \nQ 25.390625 66.40625 21.84375 63.234375 \nQ 18.3125 60.0625 18.3125 54.390625 \nz\n\" id=\"DejaVuSans-56\"/>\n       </defs>\n       <use xlink:href=\"#DejaVuSans-56\"/>\n       <use x=\"63.623047\" xlink:href=\"#DejaVuSans-48\"/>\n      </g>\n     </g>\n    </g>\n    <g id=\"ytick_6\">\n     <g id=\"line2d_21\">\n      <path clip-path=\"url(#p962e6c7f77)\" d=\"M 46.965625 13.377273 \nL 242.265625 13.377273 \n\" style=\"fill:none;stroke:#b0b0b0;stroke-linecap:square;stroke-width:0.8;\"/>\n     </g>\n     <g id=\"line2d_22\">\n      <g>\n       <use style=\"stroke:#000000;stroke-width:0.8;\" x=\"46.965625\" xlink:href=\"#mfe7cacb102\" y=\"13.377273\"/>\n      </g>\n     </g>\n     <g id=\"text_12\">\n      <!-- 100 -->\n      <g transform=\"translate(20.878125 17.176491)scale(0.1 -0.1)\">\n       <use xlink:href=\"#DejaVuSans-49\"/>\n       <use x=\"63.623047\" xlink:href=\"#DejaVuSans-48\"/>\n       <use x=\"127.246094\" xlink:href=\"#DejaVuSans-48\"/>\n      </g>\n     </g>\n    </g>\n    <g id=\"text_13\">\n     <!-- f(x) -->\n     <g transform=\"translate(14.798438 83.771094)rotate(-90)scale(0.1 -0.1)\">\n      <defs>\n       <path d=\"M 37.109375 75.984375 \nL 37.109375 68.5 \nL 28.515625 68.5 \nQ 23.6875 68.5 21.796875 66.546875 \nQ 19.921875 64.59375 19.921875 59.515625 \nL 19.921875 54.6875 \nL 34.71875 54.6875 \nL 34.71875 47.703125 \nL 19.921875 47.703125 \nL 19.921875 0 \nL 10.890625 0 \nL 10.890625 47.703125 \nL 2.296875 47.703125 \nL 2.296875 54.6875 \nL 10.890625 54.6875 \nL 10.890625 58.5 \nQ 10.890625 67.625 15.140625 71.796875 \nQ 19.390625 75.984375 28.609375 75.984375 \nz\n\" id=\"DejaVuSans-102\"/>\n       <path d=\"M 31 75.875 \nQ 24.46875 64.65625 21.28125 53.65625 \nQ 18.109375 42.671875 18.109375 31.390625 \nQ 18.109375 20.125 21.3125 9.0625 \nQ 24.515625 -2 31 -13.1875 \nL 23.1875 -13.1875 \nQ 15.875 -1.703125 12.234375 9.375 \nQ 8.59375 20.453125 8.59375 31.390625 \nQ 8.59375 42.28125 12.203125 53.3125 \nQ 15.828125 64.359375 23.1875 75.875 \nz\n\" id=\"DejaVuSans-40\"/>\n       <path d=\"M 8.015625 75.875 \nL 15.828125 75.875 \nQ 23.140625 64.359375 26.78125 53.3125 \nQ 30.421875 42.28125 30.421875 31.390625 \nQ 30.421875 20.453125 26.78125 9.375 \nQ 23.140625 -1.703125 15.828125 -13.1875 \nL 8.015625 -13.1875 \nQ 14.5 -2 17.703125 9.0625 \nQ 20.90625 20.125 20.90625 31.390625 \nQ 20.90625 42.671875 17.703125 53.65625 \nQ 14.5 64.65625 8.015625 75.875 \nz\n\" id=\"DejaVuSans-41\"/>\n      </defs>\n      <use xlink:href=\"#DejaVuSans-102\"/>\n      <use x=\"35.205078\" xlink:href=\"#DejaVuSans-40\"/>\n      <use x=\"74.21875\" xlink:href=\"#DejaVuSans-120\"/>\n      <use x=\"133.398438\" xlink:href=\"#DejaVuSans-41\"/>\n     </g>\n    </g>\n   </g>\n   <g id=\"line2d_23\">\n    <path clip-path=\"url(#p962e6c7f77)\" d=\"M 55.842898 13.377273 \nL 60.459185 25.892217 \nL 64.897923 37.295692 \nL 69.247886 47.871765 \nL 73.509075 57.656741 \nL 77.681488 66.68621 \nL 81.765127 74.995007 \nL 85.759992 82.617241 \nL 89.577306 89.433185 \nL 93.305846 95.649547 \nL 96.945611 101.297454 \nL 100.496602 106.407303 \nL 103.958817 111.008743 \nL 107.332258 115.130686 \nL 110.616886 118.801264 \nL 113.812701 122.047914 \nL 116.919744 124.897369 \nL 120.026786 127.444139 \nL 123.045056 129.628306 \nL 125.974553 131.475075 \nL 128.815278 133.008907 \nL 131.656002 134.289718 \nL 134.407954 135.28922 \nL 137.159906 136.051269 \nL 139.823085 136.562647 \nL 142.486265 136.851644 \nL 145.149447 136.91826 \nL 147.812628 136.762494 \nL 150.475808 136.384346 \nL 153.138987 135.783817 \nL 155.890939 134.929646 \nL 158.642891 133.838022 \nL 161.394843 132.508943 \nL 164.235568 130.887923 \nL 167.165066 128.951243 \nL 170.094563 126.745481 \nL 173.112833 124.191442 \nL 176.219875 121.263922 \nL 179.41569 117.936977 \nL 182.70034 114.183849 \nL 185.985006 110.092419 \nL 189.358446 105.538287 \nL 192.820662 100.493287 \nL 196.371652 94.928508 \nL 200.011418 88.814294 \nL 203.739957 82.120253 \nL 207.646047 74.639934 \nL 211.640911 66.494787 \nL 215.724546 57.651454 \nL 219.896959 48.075833 \nL 224.158148 37.733076 \nL 228.508111 26.587603 \nL 232.946849 14.603104 \nL 233.301948 13.617658 \nL 233.301948 13.617658 \n\" style=\"fill:none;stroke:#1f77b4;stroke-linecap:square;stroke-width:1.5;\"/>\n   </g>\n   <g id=\"line2d_24\">\n    <path clip-path=\"url(#p962e6c7f77)\" d=\"M 233.388352 13.377273 \nL 197.879261 92.446364 \nL 176.573807 120.911236 \nL 163.790534 131.158591 \nL 156.12057 134.847638 \nL 151.518592 136.175695 \nL 148.757405 136.653796 \nL 147.100693 136.825912 \nL 146.106666 136.887874 \nL 145.51025 136.91018 \nL 145.1524 136.91821 \n\" style=\"fill:none;stroke:#ff7f0e;stroke-linecap:square;stroke-width:1.5;\"/>\n    <defs>\n     <path d=\"M 0 3 \nC 0.795609 3 1.55874 2.683901 2.12132 2.12132 \nC 2.683901 1.55874 3 0.795609 3 0 \nC 3 -0.795609 2.683901 -1.55874 2.12132 -2.12132 \nC 1.55874 -2.683901 0.795609 -3 0 -3 \nC -0.795609 -3 -1.55874 -2.683901 -2.12132 -2.12132 \nC -2.683901 -1.55874 -3 -0.795609 -3 0 \nC -3 0.795609 -2.683901 1.55874 -2.12132 2.12132 \nC -1.55874 2.683901 -0.795609 3 0 3 \nz\n\" id=\"m2b09c276ea\" style=\"stroke:#ff7f0e;\"/>\n    </defs>\n    <g clip-path=\"url(#p962e6c7f77)\">\n     <use style=\"fill:#ff7f0e;stroke:#ff7f0e;\" x=\"233.388352\" xlink:href=\"#m2b09c276ea\" y=\"13.377273\"/>\n     <use style=\"fill:#ff7f0e;stroke:#ff7f0e;\" x=\"197.879261\" xlink:href=\"#m2b09c276ea\" y=\"92.446364\"/>\n     <use style=\"fill:#ff7f0e;stroke:#ff7f0e;\" x=\"176.573807\" xlink:href=\"#m2b09c276ea\" y=\"120.911236\"/>\n     <use style=\"fill:#ff7f0e;stroke:#ff7f0e;\" x=\"163.790534\" xlink:href=\"#m2b09c276ea\" y=\"131.158591\"/>\n     <use style=\"fill:#ff7f0e;stroke:#ff7f0e;\" x=\"156.12057\" xlink:href=\"#m2b09c276ea\" y=\"134.847638\"/>\n     <use style=\"fill:#ff7f0e;stroke:#ff7f0e;\" x=\"151.518592\" xlink:href=\"#m2b09c276ea\" y=\"136.175695\"/>\n     <use style=\"fill:#ff7f0e;stroke:#ff7f0e;\" x=\"148.757405\" xlink:href=\"#m2b09c276ea\" y=\"136.653796\"/>\n     <use style=\"fill:#ff7f0e;stroke:#ff7f0e;\" x=\"147.100693\" xlink:href=\"#m2b09c276ea\" y=\"136.825912\"/>\n     <use style=\"fill:#ff7f0e;stroke:#ff7f0e;\" x=\"146.106666\" xlink:href=\"#m2b09c276ea\" y=\"136.887874\"/>\n     <use style=\"fill:#ff7f0e;stroke:#ff7f0e;\" x=\"145.51025\" xlink:href=\"#m2b09c276ea\" y=\"136.91018\"/>\n     <use style=\"fill:#ff7f0e;stroke:#ff7f0e;\" x=\"145.1524\" xlink:href=\"#m2b09c276ea\" y=\"136.91821\"/>\n    </g>\n   </g>\n   <g id=\"patch_3\">\n    <path d=\"M 46.965625 143.1 \nL 46.965625 7.2 \n\" style=\"fill:none;stroke:#000000;stroke-linecap:square;stroke-linejoin:miter;stroke-width:0.8;\"/>\n   </g>\n   <g id=\"patch_4\">\n    <path d=\"M 242.265625 143.1 \nL 242.265625 7.2 \n\" style=\"fill:none;stroke:#000000;stroke-linecap:square;stroke-linejoin:miter;stroke-width:0.8;\"/>\n   </g>\n   <g id=\"patch_5\">\n    <path d=\"M 46.965625 143.1 \nL 242.265625 143.1 \n\" style=\"fill:none;stroke:#000000;stroke-linecap:square;stroke-linejoin:miter;stroke-width:0.8;\"/>\n   </g>\n   <g id=\"patch_6\">\n    <path d=\"M 46.965625 7.2 \nL 242.265625 7.2 \n\" style=\"fill:none;stroke:#000000;stroke-linecap:square;stroke-linejoin:miter;stroke-width:0.8;\"/>\n   </g>\n  </g>\n </g>\n <defs>\n  <clipPath id=\"p962e6c7f77\">\n   <rect height=\"135.9\" width=\"195.3\" x=\"46.965625\" y=\"7.2\"/>\n  </clipPath>\n </defs>\n</svg>\n",
      "text/plain": [
       "<Figure size 252x180 with 1 Axes>"
      ]
     },
     "metadata": {
      "needs_background": "light"
     },
     "output_type": "display_data"
    }
   ],
   "source": [
    "def show_trace(results, f):\n",
    "    n = max(abs(min(results)), abs(max(results)))\n",
    "    f_line = tf.range(-n, n, 0.01)\n",
    "    d2l.set_figsize()\n",
    "    d2l.plot([f_line, results], [[f(x) for x in f_line], [\n",
    "        f(x) for x in results]], 'x', 'f(x)', fmts=['-', '-o'])\n",
    "\n",
    "show_trace(results, f)"
   ]
  },
  {
   "cell_type": "markdown",
   "metadata": {},
   "source": [
    "##### 11.3.1.1 学习率\n",
    "\n",
    "学习率（learning rate）决定目标函数能否收敛到局部最小值，以及何时收敛到最小值。 学习率可由算法设计者设置。 请注意，如果我们使用的学习率太小，将导致的更新非常缓慢，需要更多的迭代。 例如，考虑同一优化问题中rate=0.05的进度。 如下所示，尽管经过了10个步骤，我们仍然离最优解很远。"
   ]
  },
  {
   "cell_type": "code",
   "execution_count": 27,
   "metadata": {
    "ExecuteTime": {
     "end_time": "2022-10-18T15:57:07.340114Z",
     "start_time": "2022-10-18T15:57:06.837647Z"
    }
   },
   "outputs": [
    {
     "name": "stdout",
     "output_type": "stream",
     "text": [
      "epoch 1, x: 9.000000\n",
      "epoch 2, x: 8.100000\n",
      "epoch 3, x: 7.290000\n",
      "epoch 4, x: 6.561000\n",
      "epoch 5, x: 5.904900\n",
      "epoch 6, x: 5.314410\n",
      "epoch 7, x: 4.782969\n",
      "epoch 8, x: 4.304672\n",
      "epoch 9, x: 3.874205\n",
      "epoch 10, x: 3.486784\n"
     ]
    },
    {
     "data": {
      "image/svg+xml": "<?xml version=\"1.0\" encoding=\"utf-8\" standalone=\"no\"?>\n<!DOCTYPE svg PUBLIC \"-//W3C//DTD SVG 1.1//EN\"\n  \"http://www.w3.org/Graphics/SVG/1.1/DTD/svg11.dtd\">\n<!-- Created with matplotlib (https://matplotlib.org/) -->\n<svg height=\"180.65625pt\" version=\"1.1\" viewBox=\"0 0 249.465625 180.65625\" width=\"249.465625pt\" xmlns=\"http://www.w3.org/2000/svg\" xmlns:xlink=\"http://www.w3.org/1999/xlink\">\n <metadata>\n  <rdf:RDF xmlns:cc=\"http://creativecommons.org/ns#\" xmlns:dc=\"http://purl.org/dc/elements/1.1/\" xmlns:rdf=\"http://www.w3.org/1999/02/22-rdf-syntax-ns#\">\n   <cc:Work>\n    <dc:type rdf:resource=\"http://purl.org/dc/dcmitype/StillImage\"/>\n    <dc:date>2022-10-18T23:57:07.302297</dc:date>\n    <dc:format>image/svg+xml</dc:format>\n    <dc:creator>\n     <cc:Agent>\n      <dc:title>Matplotlib v3.3.3, https://matplotlib.org/</dc:title>\n     </cc:Agent>\n    </dc:creator>\n   </cc:Work>\n  </rdf:RDF>\n </metadata>\n <defs>\n  <style type=\"text/css\">*{stroke-linecap:butt;stroke-linejoin:round;}</style>\n </defs>\n <g id=\"figure_1\">\n  <g id=\"patch_1\">\n   <path d=\"M 0 180.65625 \nL 249.465625 180.65625 \nL 249.465625 0 \nL 0 0 \nz\n\" style=\"fill:none;\"/>\n  </g>\n  <g id=\"axes_1\">\n   <g id=\"patch_2\">\n    <path d=\"M 46.965625 143.1 \nL 242.265625 143.1 \nL 242.265625 7.2 \nL 46.965625 7.2 \nz\n\" style=\"fill:#ffffff;\"/>\n   </g>\n   <g id=\"matplotlib.axis_1\">\n    <g id=\"xtick_1\">\n     <g id=\"line2d_1\">\n      <path clip-path=\"url(#pc5722e0278)\" d=\"M 55.842898 143.1 \nL 55.842898 7.2 \n\" style=\"fill:none;stroke:#b0b0b0;stroke-linecap:square;stroke-width:0.8;\"/>\n     </g>\n     <g id=\"line2d_2\">\n      <defs>\n       <path d=\"M 0 0 \nL 0 3.5 \n\" id=\"m37c49ea4aa\" style=\"stroke:#000000;stroke-width:0.8;\"/>\n      </defs>\n      <g>\n       <use style=\"stroke:#000000;stroke-width:0.8;\" x=\"55.842898\" xlink:href=\"#m37c49ea4aa\" y=\"143.1\"/>\n      </g>\n     </g>\n     <g id=\"text_1\">\n      <!-- −10 -->\n      <g transform=\"translate(45.290554 157.698438)scale(0.1 -0.1)\">\n       <defs>\n        <path d=\"M 10.59375 35.5 \nL 73.1875 35.5 \nL 73.1875 27.203125 \nL 10.59375 27.203125 \nz\n\" id=\"DejaVuSans-8722\"/>\n        <path d=\"M 12.40625 8.296875 \nL 28.515625 8.296875 \nL 28.515625 63.921875 \nL 10.984375 60.40625 \nL 10.984375 69.390625 \nL 28.421875 72.90625 \nL 38.28125 72.90625 \nL 38.28125 8.296875 \nL 54.390625 8.296875 \nL 54.390625 0 \nL 12.40625 0 \nz\n\" id=\"DejaVuSans-49\"/>\n        <path d=\"M 31.78125 66.40625 \nQ 24.171875 66.40625 20.328125 58.90625 \nQ 16.5 51.421875 16.5 36.375 \nQ 16.5 21.390625 20.328125 13.890625 \nQ 24.171875 6.390625 31.78125 6.390625 \nQ 39.453125 6.390625 43.28125 13.890625 \nQ 47.125 21.390625 47.125 36.375 \nQ 47.125 51.421875 43.28125 58.90625 \nQ 39.453125 66.40625 31.78125 66.40625 \nz\nM 31.78125 74.21875 \nQ 44.046875 74.21875 50.515625 64.515625 \nQ 56.984375 54.828125 56.984375 36.375 \nQ 56.984375 17.96875 50.515625 8.265625 \nQ 44.046875 -1.421875 31.78125 -1.421875 \nQ 19.53125 -1.421875 13.0625 8.265625 \nQ 6.59375 17.96875 6.59375 36.375 \nQ 6.59375 54.828125 13.0625 64.515625 \nQ 19.53125 74.21875 31.78125 74.21875 \nz\n\" id=\"DejaVuSans-48\"/>\n       </defs>\n       <use xlink:href=\"#DejaVuSans-8722\"/>\n       <use x=\"83.789062\" xlink:href=\"#DejaVuSans-49\"/>\n       <use x=\"147.412109\" xlink:href=\"#DejaVuSans-48\"/>\n      </g>\n     </g>\n    </g>\n    <g id=\"xtick_2\">\n     <g id=\"line2d_3\">\n      <path clip-path=\"url(#pc5722e0278)\" d=\"M 100.229261 143.1 \nL 100.229261 7.2 \n\" style=\"fill:none;stroke:#b0b0b0;stroke-linecap:square;stroke-width:0.8;\"/>\n     </g>\n     <g id=\"line2d_4\">\n      <g>\n       <use style=\"stroke:#000000;stroke-width:0.8;\" x=\"100.229261\" xlink:href=\"#m37c49ea4aa\" y=\"143.1\"/>\n      </g>\n     </g>\n     <g id=\"text_2\">\n      <!-- −5 -->\n      <g transform=\"translate(92.858168 157.698438)scale(0.1 -0.1)\">\n       <defs>\n        <path d=\"M 10.796875 72.90625 \nL 49.515625 72.90625 \nL 49.515625 64.59375 \nL 19.828125 64.59375 \nL 19.828125 46.734375 \nQ 21.96875 47.46875 24.109375 47.828125 \nQ 26.265625 48.1875 28.421875 48.1875 \nQ 40.625 48.1875 47.75 41.5 \nQ 54.890625 34.8125 54.890625 23.390625 \nQ 54.890625 11.625 47.5625 5.09375 \nQ 40.234375 -1.421875 26.90625 -1.421875 \nQ 22.3125 -1.421875 17.546875 -0.640625 \nQ 12.796875 0.140625 7.71875 1.703125 \nL 7.71875 11.625 \nQ 12.109375 9.234375 16.796875 8.0625 \nQ 21.484375 6.890625 26.703125 6.890625 \nQ 35.15625 6.890625 40.078125 11.328125 \nQ 45.015625 15.765625 45.015625 23.390625 \nQ 45.015625 31 40.078125 35.4375 \nQ 35.15625 39.890625 26.703125 39.890625 \nQ 22.75 39.890625 18.8125 39.015625 \nQ 14.890625 38.140625 10.796875 36.28125 \nz\n\" id=\"DejaVuSans-53\"/>\n       </defs>\n       <use xlink:href=\"#DejaVuSans-8722\"/>\n       <use x=\"83.789062\" xlink:href=\"#DejaVuSans-53\"/>\n      </g>\n     </g>\n    </g>\n    <g id=\"xtick_3\">\n     <g id=\"line2d_5\">\n      <path clip-path=\"url(#pc5722e0278)\" d=\"M 144.615625 143.1 \nL 144.615625 7.2 \n\" style=\"fill:none;stroke:#b0b0b0;stroke-linecap:square;stroke-width:0.8;\"/>\n     </g>\n     <g id=\"line2d_6\">\n      <g>\n       <use style=\"stroke:#000000;stroke-width:0.8;\" x=\"144.615625\" xlink:href=\"#m37c49ea4aa\" y=\"143.1\"/>\n      </g>\n     </g>\n     <g id=\"text_3\">\n      <!-- 0 -->\n      <g transform=\"translate(141.434375 157.698438)scale(0.1 -0.1)\">\n       <use xlink:href=\"#DejaVuSans-48\"/>\n      </g>\n     </g>\n    </g>\n    <g id=\"xtick_4\">\n     <g id=\"line2d_7\">\n      <path clip-path=\"url(#pc5722e0278)\" d=\"M 189.001989 143.1 \nL 189.001989 7.2 \n\" style=\"fill:none;stroke:#b0b0b0;stroke-linecap:square;stroke-width:0.8;\"/>\n     </g>\n     <g id=\"line2d_8\">\n      <g>\n       <use style=\"stroke:#000000;stroke-width:0.8;\" x=\"189.001989\" xlink:href=\"#m37c49ea4aa\" y=\"143.1\"/>\n      </g>\n     </g>\n     <g id=\"text_4\">\n      <!-- 5 -->\n      <g transform=\"translate(185.820739 157.698438)scale(0.1 -0.1)\">\n       <use xlink:href=\"#DejaVuSans-53\"/>\n      </g>\n     </g>\n    </g>\n    <g id=\"xtick_5\">\n     <g id=\"line2d_9\">\n      <path clip-path=\"url(#pc5722e0278)\" d=\"M 233.388352 143.1 \nL 233.388352 7.2 \n\" style=\"fill:none;stroke:#b0b0b0;stroke-linecap:square;stroke-width:0.8;\"/>\n     </g>\n     <g id=\"line2d_10\">\n      <g>\n       <use style=\"stroke:#000000;stroke-width:0.8;\" x=\"233.388352\" xlink:href=\"#m37c49ea4aa\" y=\"143.1\"/>\n      </g>\n     </g>\n     <g id=\"text_5\">\n      <!-- 10 -->\n      <g transform=\"translate(227.025852 157.698438)scale(0.1 -0.1)\">\n       <use xlink:href=\"#DejaVuSans-49\"/>\n       <use x=\"63.623047\" xlink:href=\"#DejaVuSans-48\"/>\n      </g>\n     </g>\n    </g>\n    <g id=\"text_6\">\n     <!-- x -->\n     <g transform=\"translate(141.65625 171.376563)scale(0.1 -0.1)\">\n      <defs>\n       <path d=\"M 54.890625 54.6875 \nL 35.109375 28.078125 \nL 55.90625 0 \nL 45.3125 0 \nL 29.390625 21.484375 \nL 13.484375 0 \nL 2.875 0 \nL 24.125 28.609375 \nL 4.6875 54.6875 \nL 15.28125 54.6875 \nL 29.78125 35.203125 \nL 44.28125 54.6875 \nz\n\" id=\"DejaVuSans-120\"/>\n      </defs>\n      <use xlink:href=\"#DejaVuSans-120\"/>\n     </g>\n    </g>\n   </g>\n   <g id=\"matplotlib.axis_2\">\n    <g id=\"ytick_1\">\n     <g id=\"line2d_11\">\n      <path clip-path=\"url(#pc5722e0278)\" d=\"M 46.965625 136.922727 \nL 242.265625 136.922727 \n\" style=\"fill:none;stroke:#b0b0b0;stroke-linecap:square;stroke-width:0.8;\"/>\n     </g>\n     <g id=\"line2d_12\">\n      <defs>\n       <path d=\"M 0 0 \nL -3.5 0 \n\" id=\"m47d3f5eddf\" style=\"stroke:#000000;stroke-width:0.8;\"/>\n      </defs>\n      <g>\n       <use style=\"stroke:#000000;stroke-width:0.8;\" x=\"46.965625\" xlink:href=\"#m47d3f5eddf\" y=\"136.922727\"/>\n      </g>\n     </g>\n     <g id=\"text_7\">\n      <!-- 0 -->\n      <g transform=\"translate(33.603125 140.721946)scale(0.1 -0.1)\">\n       <use xlink:href=\"#DejaVuSans-48\"/>\n      </g>\n     </g>\n    </g>\n    <g id=\"ytick_2\">\n     <g id=\"line2d_13\">\n      <path clip-path=\"url(#pc5722e0278)\" d=\"M 46.965625 112.213636 \nL 242.265625 112.213636 \n\" style=\"fill:none;stroke:#b0b0b0;stroke-linecap:square;stroke-width:0.8;\"/>\n     </g>\n     <g id=\"line2d_14\">\n      <g>\n       <use style=\"stroke:#000000;stroke-width:0.8;\" x=\"46.965625\" xlink:href=\"#m47d3f5eddf\" y=\"112.213636\"/>\n      </g>\n     </g>\n     <g id=\"text_8\">\n      <!-- 20 -->\n      <g transform=\"translate(27.240625 116.012855)scale(0.1 -0.1)\">\n       <defs>\n        <path d=\"M 19.1875 8.296875 \nL 53.609375 8.296875 \nL 53.609375 0 \nL 7.328125 0 \nL 7.328125 8.296875 \nQ 12.9375 14.109375 22.625 23.890625 \nQ 32.328125 33.6875 34.8125 36.53125 \nQ 39.546875 41.84375 41.421875 45.53125 \nQ 43.3125 49.21875 43.3125 52.78125 \nQ 43.3125 58.59375 39.234375 62.25 \nQ 35.15625 65.921875 28.609375 65.921875 \nQ 23.96875 65.921875 18.8125 64.3125 \nQ 13.671875 62.703125 7.8125 59.421875 \nL 7.8125 69.390625 \nQ 13.765625 71.78125 18.9375 73 \nQ 24.125 74.21875 28.421875 74.21875 \nQ 39.75 74.21875 46.484375 68.546875 \nQ 53.21875 62.890625 53.21875 53.421875 \nQ 53.21875 48.921875 51.53125 44.890625 \nQ 49.859375 40.875 45.40625 35.40625 \nQ 44.1875 33.984375 37.640625 27.21875 \nQ 31.109375 20.453125 19.1875 8.296875 \nz\n\" id=\"DejaVuSans-50\"/>\n       </defs>\n       <use xlink:href=\"#DejaVuSans-50\"/>\n       <use x=\"63.623047\" xlink:href=\"#DejaVuSans-48\"/>\n      </g>\n     </g>\n    </g>\n    <g id=\"ytick_3\">\n     <g id=\"line2d_15\">\n      <path clip-path=\"url(#pc5722e0278)\" d=\"M 46.965625 87.504545 \nL 242.265625 87.504545 \n\" style=\"fill:none;stroke:#b0b0b0;stroke-linecap:square;stroke-width:0.8;\"/>\n     </g>\n     <g id=\"line2d_16\">\n      <g>\n       <use style=\"stroke:#000000;stroke-width:0.8;\" x=\"46.965625\" xlink:href=\"#m47d3f5eddf\" y=\"87.504545\"/>\n      </g>\n     </g>\n     <g id=\"text_9\">\n      <!-- 40 -->\n      <g transform=\"translate(27.240625 91.303764)scale(0.1 -0.1)\">\n       <defs>\n        <path d=\"M 37.796875 64.3125 \nL 12.890625 25.390625 \nL 37.796875 25.390625 \nz\nM 35.203125 72.90625 \nL 47.609375 72.90625 \nL 47.609375 25.390625 \nL 58.015625 25.390625 \nL 58.015625 17.1875 \nL 47.609375 17.1875 \nL 47.609375 0 \nL 37.796875 0 \nL 37.796875 17.1875 \nL 4.890625 17.1875 \nL 4.890625 26.703125 \nz\n\" id=\"DejaVuSans-52\"/>\n       </defs>\n       <use xlink:href=\"#DejaVuSans-52\"/>\n       <use x=\"63.623047\" xlink:href=\"#DejaVuSans-48\"/>\n      </g>\n     </g>\n    </g>\n    <g id=\"ytick_4\">\n     <g id=\"line2d_17\">\n      <path clip-path=\"url(#pc5722e0278)\" d=\"M 46.965625 62.795455 \nL 242.265625 62.795455 \n\" style=\"fill:none;stroke:#b0b0b0;stroke-linecap:square;stroke-width:0.8;\"/>\n     </g>\n     <g id=\"line2d_18\">\n      <g>\n       <use style=\"stroke:#000000;stroke-width:0.8;\" x=\"46.965625\" xlink:href=\"#m47d3f5eddf\" y=\"62.795455\"/>\n      </g>\n     </g>\n     <g id=\"text_10\">\n      <!-- 60 -->\n      <g transform=\"translate(27.240625 66.594673)scale(0.1 -0.1)\">\n       <defs>\n        <path d=\"M 33.015625 40.375 \nQ 26.375 40.375 22.484375 35.828125 \nQ 18.609375 31.296875 18.609375 23.390625 \nQ 18.609375 15.53125 22.484375 10.953125 \nQ 26.375 6.390625 33.015625 6.390625 \nQ 39.65625 6.390625 43.53125 10.953125 \nQ 47.40625 15.53125 47.40625 23.390625 \nQ 47.40625 31.296875 43.53125 35.828125 \nQ 39.65625 40.375 33.015625 40.375 \nz\nM 52.59375 71.296875 \nL 52.59375 62.3125 \nQ 48.875 64.0625 45.09375 64.984375 \nQ 41.3125 65.921875 37.59375 65.921875 \nQ 27.828125 65.921875 22.671875 59.328125 \nQ 17.53125 52.734375 16.796875 39.40625 \nQ 19.671875 43.65625 24.015625 45.921875 \nQ 28.375 48.1875 33.59375 48.1875 \nQ 44.578125 48.1875 50.953125 41.515625 \nQ 57.328125 34.859375 57.328125 23.390625 \nQ 57.328125 12.15625 50.6875 5.359375 \nQ 44.046875 -1.421875 33.015625 -1.421875 \nQ 20.359375 -1.421875 13.671875 8.265625 \nQ 6.984375 17.96875 6.984375 36.375 \nQ 6.984375 53.65625 15.1875 63.9375 \nQ 23.390625 74.21875 37.203125 74.21875 \nQ 40.921875 74.21875 44.703125 73.484375 \nQ 48.484375 72.75 52.59375 71.296875 \nz\n\" id=\"DejaVuSans-54\"/>\n       </defs>\n       <use xlink:href=\"#DejaVuSans-54\"/>\n       <use x=\"63.623047\" xlink:href=\"#DejaVuSans-48\"/>\n      </g>\n     </g>\n    </g>\n    <g id=\"ytick_5\">\n     <g id=\"line2d_19\">\n      <path clip-path=\"url(#pc5722e0278)\" d=\"M 46.965625 38.086364 \nL 242.265625 38.086364 \n\" style=\"fill:none;stroke:#b0b0b0;stroke-linecap:square;stroke-width:0.8;\"/>\n     </g>\n     <g id=\"line2d_20\">\n      <g>\n       <use style=\"stroke:#000000;stroke-width:0.8;\" x=\"46.965625\" xlink:href=\"#m47d3f5eddf\" y=\"38.086364\"/>\n      </g>\n     </g>\n     <g id=\"text_11\">\n      <!-- 80 -->\n      <g transform=\"translate(27.240625 41.885582)scale(0.1 -0.1)\">\n       <defs>\n        <path d=\"M 31.78125 34.625 \nQ 24.75 34.625 20.71875 30.859375 \nQ 16.703125 27.09375 16.703125 20.515625 \nQ 16.703125 13.921875 20.71875 10.15625 \nQ 24.75 6.390625 31.78125 6.390625 \nQ 38.8125 6.390625 42.859375 10.171875 \nQ 46.921875 13.96875 46.921875 20.515625 \nQ 46.921875 27.09375 42.890625 30.859375 \nQ 38.875 34.625 31.78125 34.625 \nz\nM 21.921875 38.8125 \nQ 15.578125 40.375 12.03125 44.71875 \nQ 8.5 49.078125 8.5 55.328125 \nQ 8.5 64.0625 14.71875 69.140625 \nQ 20.953125 74.21875 31.78125 74.21875 \nQ 42.671875 74.21875 48.875 69.140625 \nQ 55.078125 64.0625 55.078125 55.328125 \nQ 55.078125 49.078125 51.53125 44.71875 \nQ 48 40.375 41.703125 38.8125 \nQ 48.828125 37.15625 52.796875 32.3125 \nQ 56.78125 27.484375 56.78125 20.515625 \nQ 56.78125 9.90625 50.3125 4.234375 \nQ 43.84375 -1.421875 31.78125 -1.421875 \nQ 19.734375 -1.421875 13.25 4.234375 \nQ 6.78125 9.90625 6.78125 20.515625 \nQ 6.78125 27.484375 10.78125 32.3125 \nQ 14.796875 37.15625 21.921875 38.8125 \nz\nM 18.3125 54.390625 \nQ 18.3125 48.734375 21.84375 45.5625 \nQ 25.390625 42.390625 31.78125 42.390625 \nQ 38.140625 42.390625 41.71875 45.5625 \nQ 45.3125 48.734375 45.3125 54.390625 \nQ 45.3125 60.0625 41.71875 63.234375 \nQ 38.140625 66.40625 31.78125 66.40625 \nQ 25.390625 66.40625 21.84375 63.234375 \nQ 18.3125 60.0625 18.3125 54.390625 \nz\n\" id=\"DejaVuSans-56\"/>\n       </defs>\n       <use xlink:href=\"#DejaVuSans-56\"/>\n       <use x=\"63.623047\" xlink:href=\"#DejaVuSans-48\"/>\n      </g>\n     </g>\n    </g>\n    <g id=\"ytick_6\">\n     <g id=\"line2d_21\">\n      <path clip-path=\"url(#pc5722e0278)\" d=\"M 46.965625 13.377273 \nL 242.265625 13.377273 \n\" style=\"fill:none;stroke:#b0b0b0;stroke-linecap:square;stroke-width:0.8;\"/>\n     </g>\n     <g id=\"line2d_22\">\n      <g>\n       <use style=\"stroke:#000000;stroke-width:0.8;\" x=\"46.965625\" xlink:href=\"#m47d3f5eddf\" y=\"13.377273\"/>\n      </g>\n     </g>\n     <g id=\"text_12\">\n      <!-- 100 -->\n      <g transform=\"translate(20.878125 17.176491)scale(0.1 -0.1)\">\n       <use xlink:href=\"#DejaVuSans-49\"/>\n       <use x=\"63.623047\" xlink:href=\"#DejaVuSans-48\"/>\n       <use x=\"127.246094\" xlink:href=\"#DejaVuSans-48\"/>\n      </g>\n     </g>\n    </g>\n    <g id=\"text_13\">\n     <!-- f(x) -->\n     <g transform=\"translate(14.798438 83.771094)rotate(-90)scale(0.1 -0.1)\">\n      <defs>\n       <path d=\"M 37.109375 75.984375 \nL 37.109375 68.5 \nL 28.515625 68.5 \nQ 23.6875 68.5 21.796875 66.546875 \nQ 19.921875 64.59375 19.921875 59.515625 \nL 19.921875 54.6875 \nL 34.71875 54.6875 \nL 34.71875 47.703125 \nL 19.921875 47.703125 \nL 19.921875 0 \nL 10.890625 0 \nL 10.890625 47.703125 \nL 2.296875 47.703125 \nL 2.296875 54.6875 \nL 10.890625 54.6875 \nL 10.890625 58.5 \nQ 10.890625 67.625 15.140625 71.796875 \nQ 19.390625 75.984375 28.609375 75.984375 \nz\n\" id=\"DejaVuSans-102\"/>\n       <path d=\"M 31 75.875 \nQ 24.46875 64.65625 21.28125 53.65625 \nQ 18.109375 42.671875 18.109375 31.390625 \nQ 18.109375 20.125 21.3125 9.0625 \nQ 24.515625 -2 31 -13.1875 \nL 23.1875 -13.1875 \nQ 15.875 -1.703125 12.234375 9.375 \nQ 8.59375 20.453125 8.59375 31.390625 \nQ 8.59375 42.28125 12.203125 53.3125 \nQ 15.828125 64.359375 23.1875 75.875 \nz\n\" id=\"DejaVuSans-40\"/>\n       <path d=\"M 8.015625 75.875 \nL 15.828125 75.875 \nQ 23.140625 64.359375 26.78125 53.3125 \nQ 30.421875 42.28125 30.421875 31.390625 \nQ 30.421875 20.453125 26.78125 9.375 \nQ 23.140625 -1.703125 15.828125 -13.1875 \nL 8.015625 -13.1875 \nQ 14.5 -2 17.703125 9.0625 \nQ 20.90625 20.125 20.90625 31.390625 \nQ 20.90625 42.671875 17.703125 53.65625 \nQ 14.5 64.65625 8.015625 75.875 \nz\n\" id=\"DejaVuSans-41\"/>\n      </defs>\n      <use xlink:href=\"#DejaVuSans-102\"/>\n      <use x=\"35.205078\" xlink:href=\"#DejaVuSans-40\"/>\n      <use x=\"74.21875\" xlink:href=\"#DejaVuSans-120\"/>\n      <use x=\"133.398438\" xlink:href=\"#DejaVuSans-41\"/>\n     </g>\n    </g>\n   </g>\n   <g id=\"line2d_23\">\n    <path clip-path=\"url(#pc5722e0278)\" d=\"M 55.842898 13.377273 \nL 60.459185 25.892217 \nL 64.897923 37.295692 \nL 69.247886 47.871765 \nL 73.509075 57.656741 \nL 77.681488 66.68621 \nL 81.765127 74.995007 \nL 85.759992 82.617241 \nL 89.577306 89.433185 \nL 93.305846 95.649547 \nL 96.945611 101.297454 \nL 100.496602 106.407303 \nL 103.958817 111.008743 \nL 107.332258 115.130686 \nL 110.616886 118.801264 \nL 113.812701 122.047914 \nL 116.919744 124.897369 \nL 120.026786 127.444139 \nL 123.045056 129.628306 \nL 125.974553 131.475075 \nL 128.815278 133.008907 \nL 131.656002 134.289718 \nL 134.407954 135.28922 \nL 137.159906 136.051269 \nL 139.823085 136.562647 \nL 142.486265 136.851644 \nL 145.149447 136.91826 \nL 147.812628 136.762494 \nL 150.475808 136.384346 \nL 153.138987 135.783817 \nL 155.890939 134.929646 \nL 158.642891 133.838022 \nL 161.394843 132.508943 \nL 164.235568 130.887923 \nL 167.165066 128.951243 \nL 170.094563 126.745481 \nL 173.112833 124.191442 \nL 176.219875 121.263922 \nL 179.41569 117.936977 \nL 182.70034 114.183849 \nL 185.985006 110.092419 \nL 189.358446 105.538287 \nL 192.820662 100.493287 \nL 196.371652 94.928508 \nL 200.011418 88.814294 \nL 203.739957 82.120253 \nL 207.646047 74.639934 \nL 211.640911 66.494787 \nL 215.724546 57.651454 \nL 219.896959 48.075833 \nL 224.158148 37.733076 \nL 228.508111 26.587603 \nL 232.946849 14.603104 \nL 233.301948 13.617658 \nL 233.301948 13.617658 \n\" style=\"fill:none;stroke:#1f77b4;stroke-linecap:square;stroke-width:1.5;\"/>\n   </g>\n   <g id=\"line2d_24\">\n    <path clip-path=\"url(#pc5722e0278)\" d=\"M 233.388352 13.377273 \nL 224.51108 36.850909 \nL 216.521534 55.864555 \nL 209.330943 71.265607 \nL 202.859411 83.74046 \nL 197.035033 93.845091 \nL 191.793092 102.029842 \nL 187.075345 108.65949 \nL 182.829373 114.029505 \nL 179.007998 118.379217 \nL 175.568761 121.902484 \n\" style=\"fill:none;stroke:#ff7f0e;stroke-linecap:square;stroke-width:1.5;\"/>\n    <defs>\n     <path d=\"M 0 3 \nC 0.795609 3 1.55874 2.683901 2.12132 2.12132 \nC 2.683901 1.55874 3 0.795609 3 0 \nC 3 -0.795609 2.683901 -1.55874 2.12132 -2.12132 \nC 1.55874 -2.683901 0.795609 -3 0 -3 \nC -0.795609 -3 -1.55874 -2.683901 -2.12132 -2.12132 \nC -2.683901 -1.55874 -3 -0.795609 -3 0 \nC -3 0.795609 -2.683901 1.55874 -2.12132 2.12132 \nC -1.55874 2.683901 -0.795609 3 0 3 \nz\n\" id=\"m39a81b7b5a\" style=\"stroke:#ff7f0e;\"/>\n    </defs>\n    <g clip-path=\"url(#pc5722e0278)\">\n     <use style=\"fill:#ff7f0e;stroke:#ff7f0e;\" x=\"233.388352\" xlink:href=\"#m39a81b7b5a\" y=\"13.377273\"/>\n     <use style=\"fill:#ff7f0e;stroke:#ff7f0e;\" x=\"224.51108\" xlink:href=\"#m39a81b7b5a\" y=\"36.850909\"/>\n     <use style=\"fill:#ff7f0e;stroke:#ff7f0e;\" x=\"216.521534\" xlink:href=\"#m39a81b7b5a\" y=\"55.864555\"/>\n     <use style=\"fill:#ff7f0e;stroke:#ff7f0e;\" x=\"209.330943\" xlink:href=\"#m39a81b7b5a\" y=\"71.265607\"/>\n     <use style=\"fill:#ff7f0e;stroke:#ff7f0e;\" x=\"202.859411\" xlink:href=\"#m39a81b7b5a\" y=\"83.74046\"/>\n     <use style=\"fill:#ff7f0e;stroke:#ff7f0e;\" x=\"197.035033\" xlink:href=\"#m39a81b7b5a\" y=\"93.845091\"/>\n     <use style=\"fill:#ff7f0e;stroke:#ff7f0e;\" x=\"191.793092\" xlink:href=\"#m39a81b7b5a\" y=\"102.029842\"/>\n     <use style=\"fill:#ff7f0e;stroke:#ff7f0e;\" x=\"187.075345\" xlink:href=\"#m39a81b7b5a\" y=\"108.65949\"/>\n     <use style=\"fill:#ff7f0e;stroke:#ff7f0e;\" x=\"182.829373\" xlink:href=\"#m39a81b7b5a\" y=\"114.029505\"/>\n     <use style=\"fill:#ff7f0e;stroke:#ff7f0e;\" x=\"179.007998\" xlink:href=\"#m39a81b7b5a\" y=\"118.379217\"/>\n     <use style=\"fill:#ff7f0e;stroke:#ff7f0e;\" x=\"175.568761\" xlink:href=\"#m39a81b7b5a\" y=\"121.902484\"/>\n    </g>\n   </g>\n   <g id=\"patch_3\">\n    <path d=\"M 46.965625 143.1 \nL 46.965625 7.2 \n\" style=\"fill:none;stroke:#000000;stroke-linecap:square;stroke-linejoin:miter;stroke-width:0.8;\"/>\n   </g>\n   <g id=\"patch_4\">\n    <path d=\"M 242.265625 143.1 \nL 242.265625 7.2 \n\" style=\"fill:none;stroke:#000000;stroke-linecap:square;stroke-linejoin:miter;stroke-width:0.8;\"/>\n   </g>\n   <g id=\"patch_5\">\n    <path d=\"M 46.965625 143.1 \nL 242.265625 143.1 \n\" style=\"fill:none;stroke:#000000;stroke-linecap:square;stroke-linejoin:miter;stroke-width:0.8;\"/>\n   </g>\n   <g id=\"patch_6\">\n    <path d=\"M 46.965625 7.2 \nL 242.265625 7.2 \n\" style=\"fill:none;stroke:#000000;stroke-linecap:square;stroke-linejoin:miter;stroke-width:0.8;\"/>\n   </g>\n  </g>\n </g>\n <defs>\n  <clipPath id=\"pc5722e0278\">\n   <rect height=\"135.9\" width=\"195.3\" x=\"46.965625\" y=\"7.2\"/>\n  </clipPath>\n </defs>\n</svg>\n",
      "text/plain": [
       "<Figure size 252x180 with 1 Axes>"
      ]
     },
     "metadata": {
      "needs_background": "light"
     },
     "output_type": "display_data"
    }
   ],
   "source": [
    "show_trace(gd(0.05, f_grad), f)"
   ]
  },
  {
   "cell_type": "markdown",
   "metadata": {},
   "source": [
    "相反，如果我们使用过高的学习率，$|\\alpha f^{\\prime}(x)|$对于一阶泰勒展开式可能太大。 也就是说， (11.3.1)中的余项可能变得显著了。 在这种情况下，x的迭代不能保证降低f(x)的值。 例如，当学习率为1.1时，超出了最优解x=0并逐渐发散"
   ]
  },
  {
   "cell_type": "code",
   "execution_count": 28,
   "metadata": {
    "ExecuteTime": {
     "end_time": "2022-10-18T15:59:31.953175Z",
     "start_time": "2022-10-18T15:59:30.533004Z"
    }
   },
   "outputs": [
    {
     "name": "stdout",
     "output_type": "stream",
     "text": [
      "epoch 1, x: -12.000000\n",
      "epoch 2, x: 14.400000\n",
      "epoch 3, x: -17.280000\n",
      "epoch 4, x: 20.736000\n",
      "epoch 5, x: -24.883200\n",
      "epoch 6, x: 29.859840\n",
      "epoch 7, x: -35.831808\n",
      "epoch 8, x: 42.998170\n",
      "epoch 9, x: -51.597804\n",
      "epoch 10, x: 61.917364\n"
     ]
    },
    {
     "data": {
      "image/svg+xml": "<?xml version=\"1.0\" encoding=\"utf-8\" standalone=\"no\"?>\n<!DOCTYPE svg PUBLIC \"-//W3C//DTD SVG 1.1//EN\"\n  \"http://www.w3.org/Graphics/SVG/1.1/DTD/svg11.dtd\">\n<!-- Created with matplotlib (https://matplotlib.org/) -->\n<svg height=\"183.635382pt\" version=\"1.1\" viewBox=\"0 0 255.828125 183.635382\" width=\"255.828125pt\" xmlns=\"http://www.w3.org/2000/svg\" xmlns:xlink=\"http://www.w3.org/1999/xlink\">\n <metadata>\n  <rdf:RDF xmlns:cc=\"http://creativecommons.org/ns#\" xmlns:dc=\"http://purl.org/dc/elements/1.1/\" xmlns:rdf=\"http://www.w3.org/1999/02/22-rdf-syntax-ns#\">\n   <cc:Work>\n    <dc:type rdf:resource=\"http://purl.org/dc/dcmitype/StillImage\"/>\n    <dc:date>2022-10-18T23:59:31.918608</dc:date>\n    <dc:format>image/svg+xml</dc:format>\n    <dc:creator>\n     <cc:Agent>\n      <dc:title>Matplotlib v3.3.3, https://matplotlib.org/</dc:title>\n     </cc:Agent>\n    </dc:creator>\n   </cc:Work>\n  </rdf:RDF>\n </metadata>\n <defs>\n  <style type=\"text/css\">*{stroke-linecap:butt;stroke-linejoin:round;}</style>\n </defs>\n <g id=\"figure_1\">\n  <g id=\"patch_1\">\n   <path d=\"M 0 183.635382 \nL 255.828125 183.635382 \nL 255.828125 0 \nL 0 0 \nz\n\" style=\"fill:none;\"/>\n  </g>\n  <g id=\"axes_1\">\n   <g id=\"patch_2\">\n    <path d=\"M 53.328125 146.079132 \nL 248.628125 146.079132 \nL 248.628125 10.179132 \nL 53.328125 10.179132 \nz\n\" style=\"fill:#ffffff;\"/>\n   </g>\n   <g id=\"matplotlib.axis_1\">\n    <g id=\"xtick_1\">\n     <g id=\"line2d_1\">\n      <path clip-path=\"url(#p5659209071)\" d=\"M 79.291672 146.079132 \nL 79.291672 10.179132 \n\" style=\"fill:none;stroke:#b0b0b0;stroke-linecap:square;stroke-width:0.8;\"/>\n     </g>\n     <g id=\"line2d_2\">\n      <defs>\n       <path d=\"M 0 0 \nL 0 3.5 \n\" id=\"m8a600dcc14\" style=\"stroke:#000000;stroke-width:0.8;\"/>\n      </defs>\n      <g>\n       <use style=\"stroke:#000000;stroke-width:0.8;\" x=\"79.291672\" xlink:href=\"#m8a600dcc14\" y=\"146.079132\"/>\n      </g>\n     </g>\n     <g id=\"text_1\">\n      <!-- −50 -->\n      <g transform=\"translate(68.739328 160.677569)scale(0.1 -0.1)\">\n       <defs>\n        <path d=\"M 10.59375 35.5 \nL 73.1875 35.5 \nL 73.1875 27.203125 \nL 10.59375 27.203125 \nz\n\" id=\"DejaVuSans-8722\"/>\n        <path d=\"M 10.796875 72.90625 \nL 49.515625 72.90625 \nL 49.515625 64.59375 \nL 19.828125 64.59375 \nL 19.828125 46.734375 \nQ 21.96875 47.46875 24.109375 47.828125 \nQ 26.265625 48.1875 28.421875 48.1875 \nQ 40.625 48.1875 47.75 41.5 \nQ 54.890625 34.8125 54.890625 23.390625 \nQ 54.890625 11.625 47.5625 5.09375 \nQ 40.234375 -1.421875 26.90625 -1.421875 \nQ 22.3125 -1.421875 17.546875 -0.640625 \nQ 12.796875 0.140625 7.71875 1.703125 \nL 7.71875 11.625 \nQ 12.109375 9.234375 16.796875 8.0625 \nQ 21.484375 6.890625 26.703125 6.890625 \nQ 35.15625 6.890625 40.078125 11.328125 \nQ 45.015625 15.765625 45.015625 23.390625 \nQ 45.015625 31 40.078125 35.4375 \nQ 35.15625 39.890625 26.703125 39.890625 \nQ 22.75 39.890625 18.8125 39.015625 \nQ 14.890625 38.140625 10.796875 36.28125 \nz\n\" id=\"DejaVuSans-53\"/>\n        <path d=\"M 31.78125 66.40625 \nQ 24.171875 66.40625 20.328125 58.90625 \nQ 16.5 51.421875 16.5 36.375 \nQ 16.5 21.390625 20.328125 13.890625 \nQ 24.171875 6.390625 31.78125 6.390625 \nQ 39.453125 6.390625 43.28125 13.890625 \nQ 47.125 21.390625 47.125 36.375 \nQ 47.125 51.421875 43.28125 58.90625 \nQ 39.453125 66.40625 31.78125 66.40625 \nz\nM 31.78125 74.21875 \nQ 44.046875 74.21875 50.515625 64.515625 \nQ 56.984375 54.828125 56.984375 36.375 \nQ 56.984375 17.96875 50.515625 8.265625 \nQ 44.046875 -1.421875 31.78125 -1.421875 \nQ 19.53125 -1.421875 13.0625 8.265625 \nQ 6.59375 17.96875 6.59375 36.375 \nQ 6.59375 54.828125 13.0625 64.515625 \nQ 19.53125 74.21875 31.78125 74.21875 \nz\n\" id=\"DejaVuSans-48\"/>\n       </defs>\n       <use xlink:href=\"#DejaVuSans-8722\"/>\n       <use x=\"83.789062\" xlink:href=\"#DejaVuSans-53\"/>\n       <use x=\"147.412109\" xlink:href=\"#DejaVuSans-48\"/>\n      </g>\n     </g>\n    </g>\n    <g id=\"xtick_2\">\n     <g id=\"line2d_3\">\n      <path clip-path=\"url(#p5659209071)\" d=\"M 115.134899 146.079132 \nL 115.134899 10.179132 \n\" style=\"fill:none;stroke:#b0b0b0;stroke-linecap:square;stroke-width:0.8;\"/>\n     </g>\n     <g id=\"line2d_4\">\n      <g>\n       <use style=\"stroke:#000000;stroke-width:0.8;\" x=\"115.134899\" xlink:href=\"#m8a600dcc14\" y=\"146.079132\"/>\n      </g>\n     </g>\n     <g id=\"text_2\">\n      <!-- −25 -->\n      <g transform=\"translate(104.582555 160.677569)scale(0.1 -0.1)\">\n       <defs>\n        <path d=\"M 19.1875 8.296875 \nL 53.609375 8.296875 \nL 53.609375 0 \nL 7.328125 0 \nL 7.328125 8.296875 \nQ 12.9375 14.109375 22.625 23.890625 \nQ 32.328125 33.6875 34.8125 36.53125 \nQ 39.546875 41.84375 41.421875 45.53125 \nQ 43.3125 49.21875 43.3125 52.78125 \nQ 43.3125 58.59375 39.234375 62.25 \nQ 35.15625 65.921875 28.609375 65.921875 \nQ 23.96875 65.921875 18.8125 64.3125 \nQ 13.671875 62.703125 7.8125 59.421875 \nL 7.8125 69.390625 \nQ 13.765625 71.78125 18.9375 73 \nQ 24.125 74.21875 28.421875 74.21875 \nQ 39.75 74.21875 46.484375 68.546875 \nQ 53.21875 62.890625 53.21875 53.421875 \nQ 53.21875 48.921875 51.53125 44.890625 \nQ 49.859375 40.875 45.40625 35.40625 \nQ 44.1875 33.984375 37.640625 27.21875 \nQ 31.109375 20.453125 19.1875 8.296875 \nz\n\" id=\"DejaVuSans-50\"/>\n       </defs>\n       <use xlink:href=\"#DejaVuSans-8722\"/>\n       <use x=\"83.789062\" xlink:href=\"#DejaVuSans-50\"/>\n       <use x=\"147.412109\" xlink:href=\"#DejaVuSans-53\"/>\n      </g>\n     </g>\n    </g>\n    <g id=\"xtick_3\">\n     <g id=\"line2d_5\">\n      <path clip-path=\"url(#p5659209071)\" d=\"M 150.978126 146.079132 \nL 150.978126 10.179132 \n\" style=\"fill:none;stroke:#b0b0b0;stroke-linecap:square;stroke-width:0.8;\"/>\n     </g>\n     <g id=\"line2d_6\">\n      <g>\n       <use style=\"stroke:#000000;stroke-width:0.8;\" x=\"150.978126\" xlink:href=\"#m8a600dcc14\" y=\"146.079132\"/>\n      </g>\n     </g>\n     <g id=\"text_3\">\n      <!-- 0 -->\n      <g transform=\"translate(147.796876 160.677569)scale(0.1 -0.1)\">\n       <use xlink:href=\"#DejaVuSans-48\"/>\n      </g>\n     </g>\n    </g>\n    <g id=\"xtick_4\">\n     <g id=\"line2d_7\">\n      <path clip-path=\"url(#p5659209071)\" d=\"M 186.821353 146.079132 \nL 186.821353 10.179132 \n\" style=\"fill:none;stroke:#b0b0b0;stroke-linecap:square;stroke-width:0.8;\"/>\n     </g>\n     <g id=\"line2d_8\">\n      <g>\n       <use style=\"stroke:#000000;stroke-width:0.8;\" x=\"186.821353\" xlink:href=\"#m8a600dcc14\" y=\"146.079132\"/>\n      </g>\n     </g>\n     <g id=\"text_4\">\n      <!-- 25 -->\n      <g transform=\"translate(180.458853 160.677569)scale(0.1 -0.1)\">\n       <use xlink:href=\"#DejaVuSans-50\"/>\n       <use x=\"63.623047\" xlink:href=\"#DejaVuSans-53\"/>\n      </g>\n     </g>\n    </g>\n    <g id=\"xtick_5\">\n     <g id=\"line2d_9\">\n      <path clip-path=\"url(#p5659209071)\" d=\"M 222.664581 146.079132 \nL 222.664581 10.179132 \n\" style=\"fill:none;stroke:#b0b0b0;stroke-linecap:square;stroke-width:0.8;\"/>\n     </g>\n     <g id=\"line2d_10\">\n      <g>\n       <use style=\"stroke:#000000;stroke-width:0.8;\" x=\"222.664581\" xlink:href=\"#m8a600dcc14\" y=\"146.079132\"/>\n      </g>\n     </g>\n     <g id=\"text_5\">\n      <!-- 50 -->\n      <g transform=\"translate(216.302081 160.677569)scale(0.1 -0.1)\">\n       <use xlink:href=\"#DejaVuSans-53\"/>\n       <use x=\"63.623047\" xlink:href=\"#DejaVuSans-48\"/>\n      </g>\n     </g>\n    </g>\n    <g id=\"text_6\">\n     <!-- x -->\n     <g transform=\"translate(148.01875 174.355694)scale(0.1 -0.1)\">\n      <defs>\n       <path d=\"M 54.890625 54.6875 \nL 35.109375 28.078125 \nL 55.90625 0 \nL 45.3125 0 \nL 29.390625 21.484375 \nL 13.484375 0 \nL 2.875 0 \nL 24.125 28.609375 \nL 4.6875 54.6875 \nL 15.28125 54.6875 \nL 29.78125 35.203125 \nL 44.28125 54.6875 \nz\n\" id=\"DejaVuSans-120\"/>\n      </defs>\n      <use xlink:href=\"#DejaVuSans-120\"/>\n     </g>\n    </g>\n   </g>\n   <g id=\"matplotlib.axis_2\">\n    <g id=\"ytick_1\">\n     <g id=\"line2d_11\">\n      <path clip-path=\"url(#p5659209071)\" d=\"M 53.328125 139.901859 \nL 248.628125 139.901859 \n\" style=\"fill:none;stroke:#b0b0b0;stroke-linecap:square;stroke-width:0.8;\"/>\n     </g>\n     <g id=\"line2d_12\">\n      <defs>\n       <path d=\"M 0 0 \nL -3.5 0 \n\" id=\"mc60e14538a\" style=\"stroke:#000000;stroke-width:0.8;\"/>\n      </defs>\n      <g>\n       <use style=\"stroke:#000000;stroke-width:0.8;\" x=\"53.328125\" xlink:href=\"#mc60e14538a\" y=\"139.901859\"/>\n      </g>\n     </g>\n     <g id=\"text_7\">\n      <!-- 0 -->\n      <g transform=\"translate(39.965625 143.701078)scale(0.1 -0.1)\">\n       <use xlink:href=\"#DejaVuSans-48\"/>\n      </g>\n     </g>\n    </g>\n    <g id=\"ytick_2\">\n     <g id=\"line2d_13\">\n      <path clip-path=\"url(#p5659209071)\" d=\"M 53.328125 107.676199 \nL 248.628125 107.676199 \n\" style=\"fill:none;stroke:#b0b0b0;stroke-linecap:square;stroke-width:0.8;\"/>\n     </g>\n     <g id=\"line2d_14\">\n      <g>\n       <use style=\"stroke:#000000;stroke-width:0.8;\" x=\"53.328125\" xlink:href=\"#mc60e14538a\" y=\"107.676199\"/>\n      </g>\n     </g>\n     <g id=\"text_8\">\n      <!-- 1000 -->\n      <g transform=\"translate(20.878125 111.475418)scale(0.1 -0.1)\">\n       <defs>\n        <path d=\"M 12.40625 8.296875 \nL 28.515625 8.296875 \nL 28.515625 63.921875 \nL 10.984375 60.40625 \nL 10.984375 69.390625 \nL 28.421875 72.90625 \nL 38.28125 72.90625 \nL 38.28125 8.296875 \nL 54.390625 8.296875 \nL 54.390625 0 \nL 12.40625 0 \nz\n\" id=\"DejaVuSans-49\"/>\n       </defs>\n       <use xlink:href=\"#DejaVuSans-49\"/>\n       <use x=\"63.623047\" xlink:href=\"#DejaVuSans-48\"/>\n       <use x=\"127.246094\" xlink:href=\"#DejaVuSans-48\"/>\n       <use x=\"190.869141\" xlink:href=\"#DejaVuSans-48\"/>\n      </g>\n     </g>\n    </g>\n    <g id=\"ytick_3\">\n     <g id=\"line2d_15\">\n      <path clip-path=\"url(#p5659209071)\" d=\"M 53.328125 75.450539 \nL 248.628125 75.450539 \n\" style=\"fill:none;stroke:#b0b0b0;stroke-linecap:square;stroke-width:0.8;\"/>\n     </g>\n     <g id=\"line2d_16\">\n      <g>\n       <use style=\"stroke:#000000;stroke-width:0.8;\" x=\"53.328125\" xlink:href=\"#mc60e14538a\" y=\"75.450539\"/>\n      </g>\n     </g>\n     <g id=\"text_9\">\n      <!-- 2000 -->\n      <g transform=\"translate(20.878125 79.249758)scale(0.1 -0.1)\">\n       <use xlink:href=\"#DejaVuSans-50\"/>\n       <use x=\"63.623047\" xlink:href=\"#DejaVuSans-48\"/>\n       <use x=\"127.246094\" xlink:href=\"#DejaVuSans-48\"/>\n       <use x=\"190.869141\" xlink:href=\"#DejaVuSans-48\"/>\n      </g>\n     </g>\n    </g>\n    <g id=\"ytick_4\">\n     <g id=\"line2d_17\">\n      <path clip-path=\"url(#p5659209071)\" d=\"M 53.328125 43.224879 \nL 248.628125 43.224879 \n\" style=\"fill:none;stroke:#b0b0b0;stroke-linecap:square;stroke-width:0.8;\"/>\n     </g>\n     <g id=\"line2d_18\">\n      <g>\n       <use style=\"stroke:#000000;stroke-width:0.8;\" x=\"53.328125\" xlink:href=\"#mc60e14538a\" y=\"43.224879\"/>\n      </g>\n     </g>\n     <g id=\"text_10\">\n      <!-- 3000 -->\n      <g transform=\"translate(20.878125 47.024098)scale(0.1 -0.1)\">\n       <defs>\n        <path d=\"M 40.578125 39.3125 \nQ 47.65625 37.796875 51.625 33 \nQ 55.609375 28.21875 55.609375 21.1875 \nQ 55.609375 10.40625 48.1875 4.484375 \nQ 40.765625 -1.421875 27.09375 -1.421875 \nQ 22.515625 -1.421875 17.65625 -0.515625 \nQ 12.796875 0.390625 7.625 2.203125 \nL 7.625 11.71875 \nQ 11.71875 9.328125 16.59375 8.109375 \nQ 21.484375 6.890625 26.8125 6.890625 \nQ 36.078125 6.890625 40.9375 10.546875 \nQ 45.796875 14.203125 45.796875 21.1875 \nQ 45.796875 27.640625 41.28125 31.265625 \nQ 36.765625 34.90625 28.71875 34.90625 \nL 20.21875 34.90625 \nL 20.21875 43.015625 \nL 29.109375 43.015625 \nQ 36.375 43.015625 40.234375 45.921875 \nQ 44.09375 48.828125 44.09375 54.296875 \nQ 44.09375 59.90625 40.109375 62.90625 \nQ 36.140625 65.921875 28.71875 65.921875 \nQ 24.65625 65.921875 20.015625 65.03125 \nQ 15.375 64.15625 9.8125 62.3125 \nL 9.8125 71.09375 \nQ 15.4375 72.65625 20.34375 73.4375 \nQ 25.25 74.21875 29.59375 74.21875 \nQ 40.828125 74.21875 47.359375 69.109375 \nQ 53.90625 64.015625 53.90625 55.328125 \nQ 53.90625 49.265625 50.4375 45.09375 \nQ 46.96875 40.921875 40.578125 39.3125 \nz\n\" id=\"DejaVuSans-51\"/>\n       </defs>\n       <use xlink:href=\"#DejaVuSans-51\"/>\n       <use x=\"63.623047\" xlink:href=\"#DejaVuSans-48\"/>\n       <use x=\"127.246094\" xlink:href=\"#DejaVuSans-48\"/>\n       <use x=\"190.869141\" xlink:href=\"#DejaVuSans-48\"/>\n      </g>\n     </g>\n    </g>\n    <g id=\"ytick_5\">\n     <g id=\"line2d_19\">\n      <path clip-path=\"url(#p5659209071)\" d=\"M 53.328125 10.999219 \nL 248.628125 10.999219 \n\" style=\"fill:none;stroke:#b0b0b0;stroke-linecap:square;stroke-width:0.8;\"/>\n     </g>\n     <g id=\"line2d_20\">\n      <g>\n       <use style=\"stroke:#000000;stroke-width:0.8;\" x=\"53.328125\" xlink:href=\"#mc60e14538a\" y=\"10.999219\"/>\n      </g>\n     </g>\n     <g id=\"text_11\">\n      <!-- 4000 -->\n      <g transform=\"translate(20.878125 14.798437)scale(0.1 -0.1)\">\n       <defs>\n        <path d=\"M 37.796875 64.3125 \nL 12.890625 25.390625 \nL 37.796875 25.390625 \nz\nM 35.203125 72.90625 \nL 47.609375 72.90625 \nL 47.609375 25.390625 \nL 58.015625 25.390625 \nL 58.015625 17.1875 \nL 47.609375 17.1875 \nL 47.609375 0 \nL 37.796875 0 \nL 37.796875 17.1875 \nL 4.890625 17.1875 \nL 4.890625 26.703125 \nz\n\" id=\"DejaVuSans-52\"/>\n       </defs>\n       <use xlink:href=\"#DejaVuSans-52\"/>\n       <use x=\"63.623047\" xlink:href=\"#DejaVuSans-48\"/>\n       <use x=\"127.246094\" xlink:href=\"#DejaVuSans-48\"/>\n       <use x=\"190.869141\" xlink:href=\"#DejaVuSans-48\"/>\n      </g>\n     </g>\n    </g>\n    <g id=\"text_12\">\n     <!-- f(x) -->\n     <g transform=\"translate(14.798437 86.750225)rotate(-90)scale(0.1 -0.1)\">\n      <defs>\n       <path d=\"M 37.109375 75.984375 \nL 37.109375 68.5 \nL 28.515625 68.5 \nQ 23.6875 68.5 21.796875 66.546875 \nQ 19.921875 64.59375 19.921875 59.515625 \nL 19.921875 54.6875 \nL 34.71875 54.6875 \nL 34.71875 47.703125 \nL 19.921875 47.703125 \nL 19.921875 0 \nL 10.890625 0 \nL 10.890625 47.703125 \nL 2.296875 47.703125 \nL 2.296875 54.6875 \nL 10.890625 54.6875 \nL 10.890625 58.5 \nQ 10.890625 67.625 15.140625 71.796875 \nQ 19.390625 75.984375 28.609375 75.984375 \nz\n\" id=\"DejaVuSans-102\"/>\n       <path d=\"M 31 75.875 \nQ 24.46875 64.65625 21.28125 53.65625 \nQ 18.109375 42.671875 18.109375 31.390625 \nQ 18.109375 20.125 21.3125 9.0625 \nQ 24.515625 -2 31 -13.1875 \nL 23.1875 -13.1875 \nQ 15.875 -1.703125 12.234375 9.375 \nQ 8.59375 20.453125 8.59375 31.390625 \nQ 8.59375 42.28125 12.203125 53.3125 \nQ 15.828125 64.359375 23.1875 75.875 \nz\n\" id=\"DejaVuSans-40\"/>\n       <path d=\"M 8.015625 75.875 \nL 15.828125 75.875 \nQ 23.140625 64.359375 26.78125 53.3125 \nQ 30.421875 42.28125 30.421875 31.390625 \nQ 30.421875 20.453125 26.78125 9.375 \nQ 23.140625 -1.703125 15.828125 -13.1875 \nL 8.015625 -13.1875 \nQ 14.5 -2 17.703125 9.0625 \nQ 20.90625 20.125 20.90625 31.390625 \nQ 20.90625 42.671875 17.703125 53.65625 \nQ 14.5 64.65625 8.015625 75.875 \nz\n\" id=\"DejaVuSans-41\"/>\n      </defs>\n      <use xlink:href=\"#DejaVuSans-102\"/>\n      <use x=\"35.205078\" xlink:href=\"#DejaVuSans-40\"/>\n      <use x=\"74.21875\" xlink:href=\"#DejaVuSans-120\"/>\n      <use x=\"133.398438\" xlink:href=\"#DejaVuSans-41\"/>\n     </g>\n    </g>\n   </g>\n   <g id=\"line2d_21\">\n    <path clip-path=\"url(#p5659209071)\" d=\"M 62.205398 16.356404 \nL 66.778226 28.756643 \nL 71.265045 40.28638 \nL 75.637184 50.914216 \nL 79.90898 60.719242 \nL 84.066096 69.711728 \nL 88.122869 77.964762 \nL 92.079297 85.516632 \nL 95.949716 92.429418 \nL 99.71979 98.711399 \nL 103.375186 104.376767 \nL 106.930587 109.48524 \nL 110.400291 114.088448 \nL 113.783969 118.21398 \nL 117.081621 121.889214 \nL 120.293248 125.140837 \nL 123.433187 128.007219 \nL 126.487099 130.49853 \nL 129.469324 132.649153 \nL 132.394198 134.487555 \nL 135.261722 136.029514 \nL 138.071896 137.290501 \nL 140.839056 138.290234 \nL 143.563204 139.039911 \nL 146.258652 139.552674 \nL 148.939723 139.836719 \nL 151.606457 139.89567 \nL 154.273191 139.731645 \nL 156.939929 139.344644 \nL 159.621064 138.730769 \nL 162.330874 137.881309 \nL 165.069359 136.788956 \nL 167.850857 135.438741 \nL 170.689705 133.810552 \nL 173.571567 131.899236 \nL 176.525116 129.670175 \nL 179.536016 127.116296 \nL 182.618604 124.207134 \nL 185.772881 120.921903 \nL 189.013182 117.22224 \nL 192.33951 113.081922 \nL 195.751863 108.474034 \nL 199.249786 103.371654 \nL 202.833507 97.746258 \nL 206.517572 91.543594 \nL 210.287647 84.755549 \nL 214.158065 77.32323 \nL 218.114494 69.240286 \nL 222.185601 60.410707 \nL 226.342717 50.85834 \nL 230.614513 40.47798 \nL 234.986652 29.261302 \nL 239.459136 17.167042 \nL 239.731499 16.410274 \nL 239.731499 16.410274 \n\" style=\"fill:none;stroke:#1f77b4;stroke-linecap:square;stroke-width:1.5;\"/>\n   </g>\n   <g id=\"line2d_22\">\n    <path clip-path=\"url(#p5659209071)\" d=\"M 165.315417 136.679293 \nL 133.773377 135.261364 \nL 171.623825 133.219546 \nL 126.203288 130.279328 \nL 180.707933 126.045415 \nL 115.302359 119.94858 \nL 193.789047 111.169137 \nL 99.605021 98.526739 \nL 212.625853 80.321686 \nL 77.000855 54.10641 \nL 239.750852 16.356413 \n\" style=\"fill:none;stroke:#ff7f0e;stroke-linecap:square;stroke-width:1.5;\"/>\n    <defs>\n     <path d=\"M 0 3 \nC 0.795609 3 1.55874 2.683901 2.12132 2.12132 \nC 2.683901 1.55874 3 0.795609 3 0 \nC 3 -0.795609 2.683901 -1.55874 2.12132 -2.12132 \nC 1.55874 -2.683901 0.795609 -3 0 -3 \nC -0.795609 -3 -1.55874 -2.683901 -2.12132 -2.12132 \nC -2.683901 -1.55874 -3 -0.795609 -3 0 \nC -3 0.795609 -2.683901 1.55874 -2.12132 2.12132 \nC -1.55874 2.683901 -0.795609 3 0 3 \nz\n\" id=\"m2c4fb0f189\" style=\"stroke:#ff7f0e;\"/>\n    </defs>\n    <g clip-path=\"url(#p5659209071)\">\n     <use style=\"fill:#ff7f0e;stroke:#ff7f0e;\" x=\"165.315417\" xlink:href=\"#m2c4fb0f189\" y=\"136.679293\"/>\n     <use style=\"fill:#ff7f0e;stroke:#ff7f0e;\" x=\"133.773377\" xlink:href=\"#m2c4fb0f189\" y=\"135.261364\"/>\n     <use style=\"fill:#ff7f0e;stroke:#ff7f0e;\" x=\"171.623825\" xlink:href=\"#m2c4fb0f189\" y=\"133.219546\"/>\n     <use style=\"fill:#ff7f0e;stroke:#ff7f0e;\" x=\"126.203288\" xlink:href=\"#m2c4fb0f189\" y=\"130.279328\"/>\n     <use style=\"fill:#ff7f0e;stroke:#ff7f0e;\" x=\"180.707933\" xlink:href=\"#m2c4fb0f189\" y=\"126.045415\"/>\n     <use style=\"fill:#ff7f0e;stroke:#ff7f0e;\" x=\"115.302359\" xlink:href=\"#m2c4fb0f189\" y=\"119.94858\"/>\n     <use style=\"fill:#ff7f0e;stroke:#ff7f0e;\" x=\"193.789047\" xlink:href=\"#m2c4fb0f189\" y=\"111.169137\"/>\n     <use style=\"fill:#ff7f0e;stroke:#ff7f0e;\" x=\"99.605021\" xlink:href=\"#m2c4fb0f189\" y=\"98.526739\"/>\n     <use style=\"fill:#ff7f0e;stroke:#ff7f0e;\" x=\"212.625853\" xlink:href=\"#m2c4fb0f189\" y=\"80.321686\"/>\n     <use style=\"fill:#ff7f0e;stroke:#ff7f0e;\" x=\"77.000855\" xlink:href=\"#m2c4fb0f189\" y=\"54.10641\"/>\n     <use style=\"fill:#ff7f0e;stroke:#ff7f0e;\" x=\"239.750852\" xlink:href=\"#m2c4fb0f189\" y=\"16.356413\"/>\n    </g>\n   </g>\n   <g id=\"patch_3\">\n    <path d=\"M 53.328125 146.079132 \nL 53.328125 10.179132 \n\" style=\"fill:none;stroke:#000000;stroke-linecap:square;stroke-linejoin:miter;stroke-width:0.8;\"/>\n   </g>\n   <g id=\"patch_4\">\n    <path d=\"M 248.628125 146.079132 \nL 248.628125 10.179132 \n\" style=\"fill:none;stroke:#000000;stroke-linecap:square;stroke-linejoin:miter;stroke-width:0.8;\"/>\n   </g>\n   <g id=\"patch_5\">\n    <path d=\"M 53.328125 146.079132 \nL 248.628125 146.079132 \n\" style=\"fill:none;stroke:#000000;stroke-linecap:square;stroke-linejoin:miter;stroke-width:0.8;\"/>\n   </g>\n   <g id=\"patch_6\">\n    <path d=\"M 53.328125 10.179132 \nL 248.628125 10.179132 \n\" style=\"fill:none;stroke:#000000;stroke-linecap:square;stroke-linejoin:miter;stroke-width:0.8;\"/>\n   </g>\n  </g>\n </g>\n <defs>\n  <clipPath id=\"p5659209071\">\n   <rect height=\"135.9\" width=\"195.3\" x=\"53.328125\" y=\"10.179132\"/>\n  </clipPath>\n </defs>\n</svg>\n",
      "text/plain": [
       "<Figure size 252x180 with 1 Axes>"
      ]
     },
     "metadata": {
      "needs_background": "light"
     },
     "output_type": "display_data"
    }
   ],
   "source": [
    "show_trace(gd(1.1, f_grad), f)"
   ]
  },
  {
   "cell_type": "code",
   "execution_count": 6,
   "metadata": {
    "ExecuteTime": {
     "end_time": "2022-10-18T14:22:50.036483Z",
     "start_time": "2022-10-18T14:22:48.430788Z"
    }
   },
   "outputs": [
    {
     "data": {
      "image/svg+xml": "<?xml version=\"1.0\" encoding=\"utf-8\" standalone=\"no\"?>\n<!DOCTYPE svg PUBLIC \"-//W3C//DTD SVG 1.1//EN\"\n  \"http://www.w3.org/Graphics/SVG/1.1/DTD/svg11.dtd\">\n<!-- Created with matplotlib (https://matplotlib.org/) -->\n<svg height=\"195.774375pt\" version=\"1.1\" viewBox=\"0 0 265.371875 195.774375\" width=\"265.371875pt\" xmlns=\"http://www.w3.org/2000/svg\" xmlns:xlink=\"http://www.w3.org/1999/xlink\">\n <metadata>\n  <rdf:RDF xmlns:cc=\"http://creativecommons.org/ns#\" xmlns:dc=\"http://purl.org/dc/elements/1.1/\" xmlns:rdf=\"http://www.w3.org/1999/02/22-rdf-syntax-ns#\">\n   <cc:Work>\n    <dc:type rdf:resource=\"http://purl.org/dc/dcmitype/StillImage\"/>\n    <dc:date>2022-10-18T22:22:49.979616</dc:date>\n    <dc:format>image/svg+xml</dc:format>\n    <dc:creator>\n     <cc:Agent>\n      <dc:title>Matplotlib v3.3.3, https://matplotlib.org/</dc:title>\n     </cc:Agent>\n    </dc:creator>\n   </cc:Work>\n  </rdf:RDF>\n </metadata>\n <defs>\n  <style type=\"text/css\">*{stroke-linecap:butt;stroke-linejoin:round;}</style>\n </defs>\n <g id=\"figure_1\">\n  <g id=\"patch_1\">\n   <path d=\"M 0 195.774375 \nL 265.371875 195.774375 \nL 265.371875 0 \nL 0 0 \nz\n\" style=\"fill:none;\"/>\n  </g>\n  <g id=\"axes_1\">\n   <g id=\"patch_2\">\n    <path d=\"M 53.328125 158.218125 \nL 248.628125 158.218125 \nL 248.628125 22.318125 \nL 53.328125 22.318125 \nz\n\" style=\"fill:#ffffff;\"/>\n   </g>\n   <g id=\"matplotlib.axis_1\">\n    <g id=\"xtick_1\">\n     <g id=\"line2d_1\">\n      <path clip-path=\"url(#p13076b13ec)\" d=\"M 85.878125 158.218125 \nL 85.878125 22.318125 \n\" style=\"fill:none;stroke:#b0b0b0;stroke-linecap:square;stroke-width:0.8;\"/>\n     </g>\n     <g id=\"line2d_2\">\n      <defs>\n       <path d=\"M 0 0 \nL 0 3.5 \n\" id=\"m2bf1079afb\" style=\"stroke:#000000;stroke-width:0.8;\"/>\n      </defs>\n      <g>\n       <use style=\"stroke:#000000;stroke-width:0.8;\" x=\"85.878125\" xlink:href=\"#m2bf1079afb\" y=\"158.218125\"/>\n      </g>\n     </g>\n     <g id=\"text_1\">\n      <!-- −50 -->\n      <g transform=\"translate(75.325781 172.816562)scale(0.1 -0.1)\">\n       <defs>\n        <path d=\"M 10.59375 35.5 \nL 73.1875 35.5 \nL 73.1875 27.203125 \nL 10.59375 27.203125 \nz\n\" id=\"DejaVuSans-8722\"/>\n        <path d=\"M 10.796875 72.90625 \nL 49.515625 72.90625 \nL 49.515625 64.59375 \nL 19.828125 64.59375 \nL 19.828125 46.734375 \nQ 21.96875 47.46875 24.109375 47.828125 \nQ 26.265625 48.1875 28.421875 48.1875 \nQ 40.625 48.1875 47.75 41.5 \nQ 54.890625 34.8125 54.890625 23.390625 \nQ 54.890625 11.625 47.5625 5.09375 \nQ 40.234375 -1.421875 26.90625 -1.421875 \nQ 22.3125 -1.421875 17.546875 -0.640625 \nQ 12.796875 0.140625 7.71875 1.703125 \nL 7.71875 11.625 \nQ 12.109375 9.234375 16.796875 8.0625 \nQ 21.484375 6.890625 26.703125 6.890625 \nQ 35.15625 6.890625 40.078125 11.328125 \nQ 45.015625 15.765625 45.015625 23.390625 \nQ 45.015625 31 40.078125 35.4375 \nQ 35.15625 39.890625 26.703125 39.890625 \nQ 22.75 39.890625 18.8125 39.015625 \nQ 14.890625 38.140625 10.796875 36.28125 \nz\n\" id=\"DejaVuSans-53\"/>\n        <path d=\"M 31.78125 66.40625 \nQ 24.171875 66.40625 20.328125 58.90625 \nQ 16.5 51.421875 16.5 36.375 \nQ 16.5 21.390625 20.328125 13.890625 \nQ 24.171875 6.390625 31.78125 6.390625 \nQ 39.453125 6.390625 43.28125 13.890625 \nQ 47.125 21.390625 47.125 36.375 \nQ 47.125 51.421875 43.28125 58.90625 \nQ 39.453125 66.40625 31.78125 66.40625 \nz\nM 31.78125 74.21875 \nQ 44.046875 74.21875 50.515625 64.515625 \nQ 56.984375 54.828125 56.984375 36.375 \nQ 56.984375 17.96875 50.515625 8.265625 \nQ 44.046875 -1.421875 31.78125 -1.421875 \nQ 19.53125 -1.421875 13.0625 8.265625 \nQ 6.59375 17.96875 6.59375 36.375 \nQ 6.59375 54.828125 13.0625 64.515625 \nQ 19.53125 74.21875 31.78125 74.21875 \nz\n\" id=\"DejaVuSans-48\"/>\n       </defs>\n       <use xlink:href=\"#DejaVuSans-8722\"/>\n       <use x=\"83.789062\" xlink:href=\"#DejaVuSans-53\"/>\n       <use x=\"147.412109\" xlink:href=\"#DejaVuSans-48\"/>\n      </g>\n     </g>\n    </g>\n    <g id=\"xtick_2\">\n     <g id=\"line2d_3\">\n      <path clip-path=\"url(#p13076b13ec)\" d=\"M 140.128125 158.218125 \nL 140.128125 22.318125 \n\" style=\"fill:none;stroke:#b0b0b0;stroke-linecap:square;stroke-width:0.8;\"/>\n     </g>\n     <g id=\"line2d_4\">\n      <g>\n       <use style=\"stroke:#000000;stroke-width:0.8;\" x=\"140.128125\" xlink:href=\"#m2bf1079afb\" y=\"158.218125\"/>\n      </g>\n     </g>\n     <g id=\"text_2\">\n      <!-- 0 -->\n      <g transform=\"translate(136.946875 172.816562)scale(0.1 -0.1)\">\n       <use xlink:href=\"#DejaVuSans-48\"/>\n      </g>\n     </g>\n    </g>\n    <g id=\"xtick_3\">\n     <g id=\"line2d_5\">\n      <path clip-path=\"url(#p13076b13ec)\" d=\"M 194.378125 158.218125 \nL 194.378125 22.318125 \n\" style=\"fill:none;stroke:#b0b0b0;stroke-linecap:square;stroke-width:0.8;\"/>\n     </g>\n     <g id=\"line2d_6\">\n      <g>\n       <use style=\"stroke:#000000;stroke-width:0.8;\" x=\"194.378125\" xlink:href=\"#m2bf1079afb\" y=\"158.218125\"/>\n      </g>\n     </g>\n     <g id=\"text_3\">\n      <!-- 50 -->\n      <g transform=\"translate(188.015625 172.816562)scale(0.1 -0.1)\">\n       <use xlink:href=\"#DejaVuSans-53\"/>\n       <use x=\"63.623047\" xlink:href=\"#DejaVuSans-48\"/>\n      </g>\n     </g>\n    </g>\n    <g id=\"xtick_4\">\n     <g id=\"line2d_7\">\n      <path clip-path=\"url(#p13076b13ec)\" d=\"M 248.628125 158.218125 \nL 248.628125 22.318125 \n\" style=\"fill:none;stroke:#b0b0b0;stroke-linecap:square;stroke-width:0.8;\"/>\n     </g>\n     <g id=\"line2d_8\">\n      <g>\n       <use style=\"stroke:#000000;stroke-width:0.8;\" x=\"248.628125\" xlink:href=\"#m2bf1079afb\" y=\"158.218125\"/>\n      </g>\n     </g>\n     <g id=\"text_4\">\n      <!-- 100 -->\n      <g transform=\"translate(239.084375 172.816562)scale(0.1 -0.1)\">\n       <defs>\n        <path d=\"M 12.40625 8.296875 \nL 28.515625 8.296875 \nL 28.515625 63.921875 \nL 10.984375 60.40625 \nL 10.984375 69.390625 \nL 28.421875 72.90625 \nL 38.28125 72.90625 \nL 38.28125 8.296875 \nL 54.390625 8.296875 \nL 54.390625 0 \nL 12.40625 0 \nz\n\" id=\"DejaVuSans-49\"/>\n       </defs>\n       <use xlink:href=\"#DejaVuSans-49\"/>\n       <use x=\"63.623047\" xlink:href=\"#DejaVuSans-48\"/>\n       <use x=\"127.246094\" xlink:href=\"#DejaVuSans-48\"/>\n      </g>\n     </g>\n    </g>\n    <g id=\"text_5\">\n     <!-- x -->\n     <g transform=\"translate(148.01875 186.494687)scale(0.1 -0.1)\">\n      <defs>\n       <path d=\"M 54.890625 54.6875 \nL 35.109375 28.078125 \nL 55.90625 0 \nL 45.3125 0 \nL 29.390625 21.484375 \nL 13.484375 0 \nL 2.875 0 \nL 24.125 28.609375 \nL 4.6875 54.6875 \nL 15.28125 54.6875 \nL 29.78125 35.203125 \nL 44.28125 54.6875 \nz\n\" id=\"DejaVuSans-120\"/>\n      </defs>\n      <use xlink:href=\"#DejaVuSans-120\"/>\n     </g>\n    </g>\n   </g>\n   <g id=\"matplotlib.axis_2\">\n    <g id=\"ytick_1\">\n     <g id=\"line2d_9\">\n      <path clip-path=\"url(#p13076b13ec)\" d=\"M 53.328125 158.218125 \nL 248.628125 158.218125 \n\" style=\"fill:none;stroke:#b0b0b0;stroke-linecap:square;stroke-width:0.8;\"/>\n     </g>\n     <g id=\"line2d_10\">\n      <defs>\n       <path d=\"M 0 0 \nL -3.5 0 \n\" id=\"m3c8def441c\" style=\"stroke:#000000;stroke-width:0.8;\"/>\n      </defs>\n      <g>\n       <use style=\"stroke:#000000;stroke-width:0.8;\" x=\"53.328125\" xlink:href=\"#m3c8def441c\" y=\"158.218125\"/>\n      </g>\n     </g>\n     <g id=\"text_6\">\n      <!-- 0 -->\n      <g transform=\"translate(39.965625 162.017344)scale(0.1 -0.1)\">\n       <use xlink:href=\"#DejaVuSans-48\"/>\n      </g>\n     </g>\n    </g>\n    <g id=\"ytick_2\">\n     <g id=\"line2d_11\">\n      <path clip-path=\"url(#p13076b13ec)\" d=\"M 53.328125 143.118125 \nL 248.628125 143.118125 \n\" style=\"fill:none;stroke:#b0b0b0;stroke-linecap:square;stroke-width:0.8;\"/>\n     </g>\n     <g id=\"line2d_12\">\n      <g>\n       <use style=\"stroke:#000000;stroke-width:0.8;\" x=\"53.328125\" xlink:href=\"#m3c8def441c\" y=\"143.118125\"/>\n      </g>\n     </g>\n     <g id=\"text_7\">\n      <!-- 556 -->\n      <g transform=\"translate(27.240625 146.917344)scale(0.1 -0.1)\">\n       <defs>\n        <path d=\"M 33.015625 40.375 \nQ 26.375 40.375 22.484375 35.828125 \nQ 18.609375 31.296875 18.609375 23.390625 \nQ 18.609375 15.53125 22.484375 10.953125 \nQ 26.375 6.390625 33.015625 6.390625 \nQ 39.65625 6.390625 43.53125 10.953125 \nQ 47.40625 15.53125 47.40625 23.390625 \nQ 47.40625 31.296875 43.53125 35.828125 \nQ 39.65625 40.375 33.015625 40.375 \nz\nM 52.59375 71.296875 \nL 52.59375 62.3125 \nQ 48.875 64.0625 45.09375 64.984375 \nQ 41.3125 65.921875 37.59375 65.921875 \nQ 27.828125 65.921875 22.671875 59.328125 \nQ 17.53125 52.734375 16.796875 39.40625 \nQ 19.671875 43.65625 24.015625 45.921875 \nQ 28.375 48.1875 33.59375 48.1875 \nQ 44.578125 48.1875 50.953125 41.515625 \nQ 57.328125 34.859375 57.328125 23.390625 \nQ 57.328125 12.15625 50.6875 5.359375 \nQ 44.046875 -1.421875 33.015625 -1.421875 \nQ 20.359375 -1.421875 13.671875 8.265625 \nQ 6.984375 17.96875 6.984375 36.375 \nQ 6.984375 53.65625 15.1875 63.9375 \nQ 23.390625 74.21875 37.203125 74.21875 \nQ 40.921875 74.21875 44.703125 73.484375 \nQ 48.484375 72.75 52.59375 71.296875 \nz\n\" id=\"DejaVuSans-54\"/>\n       </defs>\n       <use xlink:href=\"#DejaVuSans-53\"/>\n       <use x=\"63.623047\" xlink:href=\"#DejaVuSans-53\"/>\n       <use x=\"127.246094\" xlink:href=\"#DejaVuSans-54\"/>\n      </g>\n     </g>\n    </g>\n    <g id=\"ytick_3\">\n     <g id=\"line2d_13\">\n      <path clip-path=\"url(#p13076b13ec)\" d=\"M 53.328125 128.018125 \nL 248.628125 128.018125 \n\" style=\"fill:none;stroke:#b0b0b0;stroke-linecap:square;stroke-width:0.8;\"/>\n     </g>\n     <g id=\"line2d_14\">\n      <g>\n       <use style=\"stroke:#000000;stroke-width:0.8;\" x=\"53.328125\" xlink:href=\"#m3c8def441c\" y=\"128.018125\"/>\n      </g>\n     </g>\n     <g id=\"text_8\">\n      <!-- 1111 -->\n      <g transform=\"translate(20.878125 131.817344)scale(0.1 -0.1)\">\n       <use xlink:href=\"#DejaVuSans-49\"/>\n       <use x=\"63.623047\" xlink:href=\"#DejaVuSans-49\"/>\n       <use x=\"127.246094\" xlink:href=\"#DejaVuSans-49\"/>\n       <use x=\"190.869141\" xlink:href=\"#DejaVuSans-49\"/>\n      </g>\n     </g>\n    </g>\n    <g id=\"ytick_4\">\n     <g id=\"line2d_15\">\n      <path clip-path=\"url(#p13076b13ec)\" d=\"M 53.328125 112.918125 \nL 248.628125 112.918125 \n\" style=\"fill:none;stroke:#b0b0b0;stroke-linecap:square;stroke-width:0.8;\"/>\n     </g>\n     <g id=\"line2d_16\">\n      <g>\n       <use style=\"stroke:#000000;stroke-width:0.8;\" x=\"53.328125\" xlink:href=\"#m3c8def441c\" y=\"112.918125\"/>\n      </g>\n     </g>\n     <g id=\"text_9\">\n      <!-- 1667 -->\n      <g transform=\"translate(20.878125 116.717344)scale(0.1 -0.1)\">\n       <defs>\n        <path d=\"M 8.203125 72.90625 \nL 55.078125 72.90625 \nL 55.078125 68.703125 \nL 28.609375 0 \nL 18.3125 0 \nL 43.21875 64.59375 \nL 8.203125 64.59375 \nz\n\" id=\"DejaVuSans-55\"/>\n       </defs>\n       <use xlink:href=\"#DejaVuSans-49\"/>\n       <use x=\"63.623047\" xlink:href=\"#DejaVuSans-54\"/>\n       <use x=\"127.246094\" xlink:href=\"#DejaVuSans-54\"/>\n       <use x=\"190.869141\" xlink:href=\"#DejaVuSans-55\"/>\n      </g>\n     </g>\n    </g>\n    <g id=\"ytick_5\">\n     <g id=\"line2d_17\">\n      <path clip-path=\"url(#p13076b13ec)\" d=\"M 53.328125 97.818125 \nL 248.628125 97.818125 \n\" style=\"fill:none;stroke:#b0b0b0;stroke-linecap:square;stroke-width:0.8;\"/>\n     </g>\n     <g id=\"line2d_18\">\n      <g>\n       <use style=\"stroke:#000000;stroke-width:0.8;\" x=\"53.328125\" xlink:href=\"#m3c8def441c\" y=\"97.818125\"/>\n      </g>\n     </g>\n     <g id=\"text_10\">\n      <!-- 2222 -->\n      <g transform=\"translate(20.878125 101.617344)scale(0.1 -0.1)\">\n       <defs>\n        <path d=\"M 19.1875 8.296875 \nL 53.609375 8.296875 \nL 53.609375 0 \nL 7.328125 0 \nL 7.328125 8.296875 \nQ 12.9375 14.109375 22.625 23.890625 \nQ 32.328125 33.6875 34.8125 36.53125 \nQ 39.546875 41.84375 41.421875 45.53125 \nQ 43.3125 49.21875 43.3125 52.78125 \nQ 43.3125 58.59375 39.234375 62.25 \nQ 35.15625 65.921875 28.609375 65.921875 \nQ 23.96875 65.921875 18.8125 64.3125 \nQ 13.671875 62.703125 7.8125 59.421875 \nL 7.8125 69.390625 \nQ 13.765625 71.78125 18.9375 73 \nQ 24.125 74.21875 28.421875 74.21875 \nQ 39.75 74.21875 46.484375 68.546875 \nQ 53.21875 62.890625 53.21875 53.421875 \nQ 53.21875 48.921875 51.53125 44.890625 \nQ 49.859375 40.875 45.40625 35.40625 \nQ 44.1875 33.984375 37.640625 27.21875 \nQ 31.109375 20.453125 19.1875 8.296875 \nz\n\" id=\"DejaVuSans-50\"/>\n       </defs>\n       <use xlink:href=\"#DejaVuSans-50\"/>\n       <use x=\"63.623047\" xlink:href=\"#DejaVuSans-50\"/>\n       <use x=\"127.246094\" xlink:href=\"#DejaVuSans-50\"/>\n       <use x=\"190.869141\" xlink:href=\"#DejaVuSans-50\"/>\n      </g>\n     </g>\n    </g>\n    <g id=\"ytick_6\">\n     <g id=\"line2d_19\">\n      <path clip-path=\"url(#p13076b13ec)\" d=\"M 53.328125 82.718125 \nL 248.628125 82.718125 \n\" style=\"fill:none;stroke:#b0b0b0;stroke-linecap:square;stroke-width:0.8;\"/>\n     </g>\n     <g id=\"line2d_20\">\n      <g>\n       <use style=\"stroke:#000000;stroke-width:0.8;\" x=\"53.328125\" xlink:href=\"#m3c8def441c\" y=\"82.718125\"/>\n      </g>\n     </g>\n     <g id=\"text_11\">\n      <!-- 2778 -->\n      <g transform=\"translate(20.878125 86.517344)scale(0.1 -0.1)\">\n       <defs>\n        <path d=\"M 31.78125 34.625 \nQ 24.75 34.625 20.71875 30.859375 \nQ 16.703125 27.09375 16.703125 20.515625 \nQ 16.703125 13.921875 20.71875 10.15625 \nQ 24.75 6.390625 31.78125 6.390625 \nQ 38.8125 6.390625 42.859375 10.171875 \nQ 46.921875 13.96875 46.921875 20.515625 \nQ 46.921875 27.09375 42.890625 30.859375 \nQ 38.875 34.625 31.78125 34.625 \nz\nM 21.921875 38.8125 \nQ 15.578125 40.375 12.03125 44.71875 \nQ 8.5 49.078125 8.5 55.328125 \nQ 8.5 64.0625 14.71875 69.140625 \nQ 20.953125 74.21875 31.78125 74.21875 \nQ 42.671875 74.21875 48.875 69.140625 \nQ 55.078125 64.0625 55.078125 55.328125 \nQ 55.078125 49.078125 51.53125 44.71875 \nQ 48 40.375 41.703125 38.8125 \nQ 48.828125 37.15625 52.796875 32.3125 \nQ 56.78125 27.484375 56.78125 20.515625 \nQ 56.78125 9.90625 50.3125 4.234375 \nQ 43.84375 -1.421875 31.78125 -1.421875 \nQ 19.734375 -1.421875 13.25 4.234375 \nQ 6.78125 9.90625 6.78125 20.515625 \nQ 6.78125 27.484375 10.78125 32.3125 \nQ 14.796875 37.15625 21.921875 38.8125 \nz\nM 18.3125 54.390625 \nQ 18.3125 48.734375 21.84375 45.5625 \nQ 25.390625 42.390625 31.78125 42.390625 \nQ 38.140625 42.390625 41.71875 45.5625 \nQ 45.3125 48.734375 45.3125 54.390625 \nQ 45.3125 60.0625 41.71875 63.234375 \nQ 38.140625 66.40625 31.78125 66.40625 \nQ 25.390625 66.40625 21.84375 63.234375 \nQ 18.3125 60.0625 18.3125 54.390625 \nz\n\" id=\"DejaVuSans-56\"/>\n       </defs>\n       <use xlink:href=\"#DejaVuSans-50\"/>\n       <use x=\"63.623047\" xlink:href=\"#DejaVuSans-55\"/>\n       <use x=\"127.246094\" xlink:href=\"#DejaVuSans-55\"/>\n       <use x=\"190.869141\" xlink:href=\"#DejaVuSans-56\"/>\n      </g>\n     </g>\n    </g>\n    <g id=\"ytick_7\">\n     <g id=\"line2d_21\">\n      <path clip-path=\"url(#p13076b13ec)\" d=\"M 53.328125 67.618125 \nL 248.628125 67.618125 \n\" style=\"fill:none;stroke:#b0b0b0;stroke-linecap:square;stroke-width:0.8;\"/>\n     </g>\n     <g id=\"line2d_22\">\n      <g>\n       <use style=\"stroke:#000000;stroke-width:0.8;\" x=\"53.328125\" xlink:href=\"#m3c8def441c\" y=\"67.618125\"/>\n      </g>\n     </g>\n     <g id=\"text_12\">\n      <!-- 3333 -->\n      <g transform=\"translate(20.878125 71.417344)scale(0.1 -0.1)\">\n       <defs>\n        <path d=\"M 40.578125 39.3125 \nQ 47.65625 37.796875 51.625 33 \nQ 55.609375 28.21875 55.609375 21.1875 \nQ 55.609375 10.40625 48.1875 4.484375 \nQ 40.765625 -1.421875 27.09375 -1.421875 \nQ 22.515625 -1.421875 17.65625 -0.515625 \nQ 12.796875 0.390625 7.625 2.203125 \nL 7.625 11.71875 \nQ 11.71875 9.328125 16.59375 8.109375 \nQ 21.484375 6.890625 26.8125 6.890625 \nQ 36.078125 6.890625 40.9375 10.546875 \nQ 45.796875 14.203125 45.796875 21.1875 \nQ 45.796875 27.640625 41.28125 31.265625 \nQ 36.765625 34.90625 28.71875 34.90625 \nL 20.21875 34.90625 \nL 20.21875 43.015625 \nL 29.109375 43.015625 \nQ 36.375 43.015625 40.234375 45.921875 \nQ 44.09375 48.828125 44.09375 54.296875 \nQ 44.09375 59.90625 40.109375 62.90625 \nQ 36.140625 65.921875 28.71875 65.921875 \nQ 24.65625 65.921875 20.015625 65.03125 \nQ 15.375 64.15625 9.8125 62.3125 \nL 9.8125 71.09375 \nQ 15.4375 72.65625 20.34375 73.4375 \nQ 25.25 74.21875 29.59375 74.21875 \nQ 40.828125 74.21875 47.359375 69.109375 \nQ 53.90625 64.015625 53.90625 55.328125 \nQ 53.90625 49.265625 50.4375 45.09375 \nQ 46.96875 40.921875 40.578125 39.3125 \nz\n\" id=\"DejaVuSans-51\"/>\n       </defs>\n       <use xlink:href=\"#DejaVuSans-51\"/>\n       <use x=\"63.623047\" xlink:href=\"#DejaVuSans-51\"/>\n       <use x=\"127.246094\" xlink:href=\"#DejaVuSans-51\"/>\n       <use x=\"190.869141\" xlink:href=\"#DejaVuSans-51\"/>\n      </g>\n     </g>\n    </g>\n    <g id=\"ytick_8\">\n     <g id=\"line2d_23\">\n      <path clip-path=\"url(#p13076b13ec)\" d=\"M 53.328125 52.518125 \nL 248.628125 52.518125 \n\" style=\"fill:none;stroke:#b0b0b0;stroke-linecap:square;stroke-width:0.8;\"/>\n     </g>\n     <g id=\"line2d_24\">\n      <g>\n       <use style=\"stroke:#000000;stroke-width:0.8;\" x=\"53.328125\" xlink:href=\"#m3c8def441c\" y=\"52.518125\"/>\n      </g>\n     </g>\n     <g id=\"text_13\">\n      <!-- 3889 -->\n      <g transform=\"translate(20.878125 56.317344)scale(0.1 -0.1)\">\n       <defs>\n        <path d=\"M 10.984375 1.515625 \nL 10.984375 10.5 \nQ 14.703125 8.734375 18.5 7.8125 \nQ 22.3125 6.890625 25.984375 6.890625 \nQ 35.75 6.890625 40.890625 13.453125 \nQ 46.046875 20.015625 46.78125 33.40625 \nQ 43.953125 29.203125 39.59375 26.953125 \nQ 35.25 24.703125 29.984375 24.703125 \nQ 19.046875 24.703125 12.671875 31.3125 \nQ 6.296875 37.9375 6.296875 49.421875 \nQ 6.296875 60.640625 12.9375 67.421875 \nQ 19.578125 74.21875 30.609375 74.21875 \nQ 43.265625 74.21875 49.921875 64.515625 \nQ 56.59375 54.828125 56.59375 36.375 \nQ 56.59375 19.140625 48.40625 8.859375 \nQ 40.234375 -1.421875 26.421875 -1.421875 \nQ 22.703125 -1.421875 18.890625 -0.6875 \nQ 15.09375 0.046875 10.984375 1.515625 \nz\nM 30.609375 32.421875 \nQ 37.25 32.421875 41.125 36.953125 \nQ 45.015625 41.5 45.015625 49.421875 \nQ 45.015625 57.28125 41.125 61.84375 \nQ 37.25 66.40625 30.609375 66.40625 \nQ 23.96875 66.40625 20.09375 61.84375 \nQ 16.21875 57.28125 16.21875 49.421875 \nQ 16.21875 41.5 20.09375 36.953125 \nQ 23.96875 32.421875 30.609375 32.421875 \nz\n\" id=\"DejaVuSans-57\"/>\n       </defs>\n       <use xlink:href=\"#DejaVuSans-51\"/>\n       <use x=\"63.623047\" xlink:href=\"#DejaVuSans-56\"/>\n       <use x=\"127.246094\" xlink:href=\"#DejaVuSans-56\"/>\n       <use x=\"190.869141\" xlink:href=\"#DejaVuSans-57\"/>\n      </g>\n     </g>\n    </g>\n    <g id=\"ytick_9\">\n     <g id=\"line2d_25\">\n      <path clip-path=\"url(#p13076b13ec)\" d=\"M 53.328125 37.418125 \nL 248.628125 37.418125 \n\" style=\"fill:none;stroke:#b0b0b0;stroke-linecap:square;stroke-width:0.8;\"/>\n     </g>\n     <g id=\"line2d_26\">\n      <g>\n       <use style=\"stroke:#000000;stroke-width:0.8;\" x=\"53.328125\" xlink:href=\"#m3c8def441c\" y=\"37.418125\"/>\n      </g>\n     </g>\n     <g id=\"text_14\">\n      <!-- 4444 -->\n      <g transform=\"translate(20.878125 41.217344)scale(0.1 -0.1)\">\n       <defs>\n        <path d=\"M 37.796875 64.3125 \nL 12.890625 25.390625 \nL 37.796875 25.390625 \nz\nM 35.203125 72.90625 \nL 47.609375 72.90625 \nL 47.609375 25.390625 \nL 58.015625 25.390625 \nL 58.015625 17.1875 \nL 47.609375 17.1875 \nL 47.609375 0 \nL 37.796875 0 \nL 37.796875 17.1875 \nL 4.890625 17.1875 \nL 4.890625 26.703125 \nz\n\" id=\"DejaVuSans-52\"/>\n       </defs>\n       <use xlink:href=\"#DejaVuSans-52\"/>\n       <use x=\"63.623047\" xlink:href=\"#DejaVuSans-52\"/>\n       <use x=\"127.246094\" xlink:href=\"#DejaVuSans-52\"/>\n       <use x=\"190.869141\" xlink:href=\"#DejaVuSans-52\"/>\n      </g>\n     </g>\n    </g>\n    <g id=\"ytick_10\">\n     <g id=\"line2d_27\">\n      <path clip-path=\"url(#p13076b13ec)\" d=\"M 53.328125 22.318125 \nL 248.628125 22.318125 \n\" style=\"fill:none;stroke:#b0b0b0;stroke-linecap:square;stroke-width:0.8;\"/>\n     </g>\n     <g id=\"line2d_28\">\n      <g>\n       <use style=\"stroke:#000000;stroke-width:0.8;\" x=\"53.328125\" xlink:href=\"#m3c8def441c\" y=\"22.318125\"/>\n      </g>\n     </g>\n     <g id=\"text_15\">\n      <!-- 5000 -->\n      <g transform=\"translate(20.878125 26.117344)scale(0.1 -0.1)\">\n       <use xlink:href=\"#DejaVuSans-53\"/>\n       <use x=\"63.623047\" xlink:href=\"#DejaVuSans-48\"/>\n       <use x=\"127.246094\" xlink:href=\"#DejaVuSans-48\"/>\n       <use x=\"190.869141\" xlink:href=\"#DejaVuSans-48\"/>\n      </g>\n     </g>\n    </g>\n    <g id=\"text_16\">\n     <!-- f(x) -->\n     <g transform=\"translate(14.798437 98.889219)rotate(-90)scale(0.1 -0.1)\">\n      <defs>\n       <path d=\"M 37.109375 75.984375 \nL 37.109375 68.5 \nL 28.515625 68.5 \nQ 23.6875 68.5 21.796875 66.546875 \nQ 19.921875 64.59375 19.921875 59.515625 \nL 19.921875 54.6875 \nL 34.71875 54.6875 \nL 34.71875 47.703125 \nL 19.921875 47.703125 \nL 19.921875 0 \nL 10.890625 0 \nL 10.890625 47.703125 \nL 2.296875 47.703125 \nL 2.296875 54.6875 \nL 10.890625 54.6875 \nL 10.890625 58.5 \nQ 10.890625 67.625 15.140625 71.796875 \nQ 19.390625 75.984375 28.609375 75.984375 \nz\n\" id=\"DejaVuSans-102\"/>\n       <path d=\"M 31 75.875 \nQ 24.46875 64.65625 21.28125 53.65625 \nQ 18.109375 42.671875 18.109375 31.390625 \nQ 18.109375 20.125 21.3125 9.0625 \nQ 24.515625 -2 31 -13.1875 \nL 23.1875 -13.1875 \nQ 15.875 -1.703125 12.234375 9.375 \nQ 8.59375 20.453125 8.59375 31.390625 \nQ 8.59375 42.28125 12.203125 53.3125 \nQ 15.828125 64.359375 23.1875 75.875 \nz\n\" id=\"DejaVuSans-40\"/>\n       <path d=\"M 8.015625 75.875 \nL 15.828125 75.875 \nQ 23.140625 64.359375 26.78125 53.3125 \nQ 30.421875 42.28125 30.421875 31.390625 \nQ 30.421875 20.453125 26.78125 9.375 \nQ 23.140625 -1.703125 15.828125 -13.1875 \nL 8.015625 -13.1875 \nQ 14.5 -2 17.703125 9.0625 \nQ 20.90625 20.125 20.90625 31.390625 \nQ 20.90625 42.671875 17.703125 53.65625 \nQ 14.5 64.65625 8.015625 75.875 \nz\n\" id=\"DejaVuSans-41\"/>\n      </defs>\n      <use xlink:href=\"#DejaVuSans-102\"/>\n      <use x=\"35.205078\" xlink:href=\"#DejaVuSans-40\"/>\n      <use x=\"74.21875\" xlink:href=\"#DejaVuSans-120\"/>\n      <use x=\"133.398438\" xlink:href=\"#DejaVuSans-41\"/>\n     </g>\n    </g>\n   </g>\n   <g id=\"line2d_29\">\n    <path clip-path=\"url(#p13076b13ec)\" d=\"M 72.947783 54.016521 \nL 76.907368 65.937752 \nL 80.758472 76.83788 \nL 84.511942 86.802648 \nL 88.15693 95.856794 \nL 91.693436 104.055087 \nL 95.12146 111.450681 \nL 98.451851 118.115966 \nL 101.67376 124.07673 \nL 104.808884 129.416784 \nL 107.83599 134.142171 \nL 110.776407 138.327106 \nL 113.619172 141.993483 \nL 116.375135 145.191661 \nL 119.044296 147.954779 \nL 121.637506 150.324202 \nL 124.154763 152.327212 \nL 126.596069 153.990295 \nL 128.983124 155.350316 \nL 131.305077 156.420797 \nL 133.583629 157.229248 \nL 135.829629 157.791523 \nL 138.043027 158.117746 \nL 140.245576 158.217807 \nL 142.437274 158.095015 \nL 144.639826 157.748155 \nL 146.853276 157.1739 \nL 149.099277 156.359951 \nL 151.377829 155.296179 \nL 153.710633 153.958711 \nL 156.097687 152.330014 \nL 158.538993 150.392149 \nL 161.056251 148.105809 \nL 163.64946 145.444507 \nL 166.318621 142.380961 \nL 169.063734 138.887085 \nL 171.895649 134.918083 \nL 174.814366 130.439903 \nL 177.830166 125.399552 \nL 180.943593 119.755446 \nL 184.143806 113.487516 \nL 187.4525 106.509884 \nL 190.84798 98.82366 \nL 194.36279 90.306533 \nL 197.953537 81.016321 \nL 201.663615 70.791989 \nL 205.471325 59.637678 \nL 207.293819 54.061956 \nL 207.293819 54.061956 \n\" style=\"fill:none;stroke:#1f77b4;stroke-linecap:square;stroke-width:1.5;\"/>\n   </g>\n   <g id=\"line2d_30\">\n    <path clip-path=\"url(#p13076b13ec)\" d=\"M 150.978125 155.500125 \nL 127.108125 154.304205 \nL 155.752125 152.58208 \nL 121.379325 150.10222 \nL 162.626685 146.531223 \nL 113.129853 141.388985 \nL 172.526051 133.984164 \nL 101.250613 123.321221 \nL 186.781139 107.966583 \nL 84.144508 85.855905 \nL 207.308465 54.016528 \n\" style=\"fill:none;stroke:#ff0000;stroke-linecap:square;stroke-width:1.5;\"/>\n    <defs>\n     <path d=\"M 0 3 \nC 0.795609 3 1.55874 2.683901 2.12132 2.12132 \nC 2.683901 1.55874 3 0.795609 3 0 \nC 3 -0.795609 2.683901 -1.55874 2.12132 -2.12132 \nC 1.55874 -2.683901 0.795609 -3 0 -3 \nC -0.795609 -3 -1.55874 -2.683901 -2.12132 -2.12132 \nC -2.683901 -1.55874 -3 -0.795609 -3 0 \nC -3 0.795609 -2.683901 1.55874 -2.12132 2.12132 \nC -1.55874 2.683901 -0.795609 3 0 3 \nz\n\" id=\"m7c8a0a014d\" style=\"stroke:#ff0000;\"/>\n    </defs>\n    <g clip-path=\"url(#p13076b13ec)\">\n     <use style=\"fill:#ff0000;stroke:#ff0000;\" x=\"150.978125\" xlink:href=\"#m7c8a0a014d\" y=\"155.500125\"/>\n     <use style=\"fill:#ff0000;stroke:#ff0000;\" x=\"127.108125\" xlink:href=\"#m7c8a0a014d\" y=\"154.304205\"/>\n     <use style=\"fill:#ff0000;stroke:#ff0000;\" x=\"155.752125\" xlink:href=\"#m7c8a0a014d\" y=\"152.58208\"/>\n     <use style=\"fill:#ff0000;stroke:#ff0000;\" x=\"121.379325\" xlink:href=\"#m7c8a0a014d\" y=\"150.10222\"/>\n     <use style=\"fill:#ff0000;stroke:#ff0000;\" x=\"162.626685\" xlink:href=\"#m7c8a0a014d\" y=\"146.531223\"/>\n     <use style=\"fill:#ff0000;stroke:#ff0000;\" x=\"113.129853\" xlink:href=\"#m7c8a0a014d\" y=\"141.388985\"/>\n     <use style=\"fill:#ff0000;stroke:#ff0000;\" x=\"172.526051\" xlink:href=\"#m7c8a0a014d\" y=\"133.984164\"/>\n     <use style=\"fill:#ff0000;stroke:#ff0000;\" x=\"101.250613\" xlink:href=\"#m7c8a0a014d\" y=\"123.321221\"/>\n     <use style=\"fill:#ff0000;stroke:#ff0000;\" x=\"186.781139\" xlink:href=\"#m7c8a0a014d\" y=\"107.966583\"/>\n     <use style=\"fill:#ff0000;stroke:#ff0000;\" x=\"84.144508\" xlink:href=\"#m7c8a0a014d\" y=\"85.855905\"/>\n     <use style=\"fill:#ff0000;stroke:#ff0000;\" x=\"207.308465\" xlink:href=\"#m7c8a0a014d\" y=\"54.016528\"/>\n    </g>\n   </g>\n   <g id=\"patch_3\">\n    <path d=\"M 53.328125 158.218125 \nL 53.328125 22.318125 \n\" style=\"fill:none;stroke:#000000;stroke-linecap:square;stroke-linejoin:miter;stroke-width:0.8;\"/>\n   </g>\n   <g id=\"patch_4\">\n    <path d=\"M 248.628125 158.218125 \nL 248.628125 22.318125 \n\" style=\"fill:none;stroke:#000000;stroke-linecap:square;stroke-linejoin:miter;stroke-width:0.8;\"/>\n   </g>\n   <g id=\"patch_5\">\n    <path d=\"M 53.328125 158.218125 \nL 248.628125 158.218125 \n\" style=\"fill:none;stroke:#000000;stroke-linecap:square;stroke-linejoin:miter;stroke-width:0.8;\"/>\n   </g>\n   <g id=\"patch_6\">\n    <path d=\"M 53.328125 22.318125 \nL 248.628125 22.318125 \n\" style=\"fill:none;stroke:#000000;stroke-linecap:square;stroke-linejoin:miter;stroke-width:0.8;\"/>\n   </g>\n   <g id=\"text_17\">\n    <!-- mark -->\n    <g transform=\"translate(140.128125 155.500125)scale(0.1 -0.1)\">\n     <defs>\n      <path d=\"M 52 44.1875 \nQ 55.375 50.25 60.0625 53.125 \nQ 64.75 56 71.09375 56 \nQ 79.640625 56 84.28125 50.015625 \nQ 88.921875 44.046875 88.921875 33.015625 \nL 88.921875 0 \nL 79.890625 0 \nL 79.890625 32.71875 \nQ 79.890625 40.578125 77.09375 44.375 \nQ 74.3125 48.1875 68.609375 48.1875 \nQ 61.625 48.1875 57.5625 43.546875 \nQ 53.515625 38.921875 53.515625 30.90625 \nL 53.515625 0 \nL 44.484375 0 \nL 44.484375 32.71875 \nQ 44.484375 40.625 41.703125 44.40625 \nQ 38.921875 48.1875 33.109375 48.1875 \nQ 26.21875 48.1875 22.15625 43.53125 \nQ 18.109375 38.875 18.109375 30.90625 \nL 18.109375 0 \nL 9.078125 0 \nL 9.078125 54.6875 \nL 18.109375 54.6875 \nL 18.109375 46.1875 \nQ 21.1875 51.21875 25.484375 53.609375 \nQ 29.78125 56 35.6875 56 \nQ 41.65625 56 45.828125 52.96875 \nQ 50 49.953125 52 44.1875 \nz\n\" id=\"DejaVuSans-109\"/>\n      <path d=\"M 34.28125 27.484375 \nQ 23.390625 27.484375 19.1875 25 \nQ 14.984375 22.515625 14.984375 16.5 \nQ 14.984375 11.71875 18.140625 8.90625 \nQ 21.296875 6.109375 26.703125 6.109375 \nQ 34.1875 6.109375 38.703125 11.40625 \nQ 43.21875 16.703125 43.21875 25.484375 \nL 43.21875 27.484375 \nz\nM 52.203125 31.203125 \nL 52.203125 0 \nL 43.21875 0 \nL 43.21875 8.296875 \nQ 40.140625 3.328125 35.546875 0.953125 \nQ 30.953125 -1.421875 24.3125 -1.421875 \nQ 15.921875 -1.421875 10.953125 3.296875 \nQ 6 8.015625 6 15.921875 \nQ 6 25.140625 12.171875 29.828125 \nQ 18.359375 34.515625 30.609375 34.515625 \nL 43.21875 34.515625 \nL 43.21875 35.40625 \nQ 43.21875 41.609375 39.140625 45 \nQ 35.0625 48.390625 27.6875 48.390625 \nQ 23 48.390625 18.546875 47.265625 \nQ 14.109375 46.140625 10.015625 43.890625 \nL 10.015625 52.203125 \nQ 14.9375 54.109375 19.578125 55.046875 \nQ 24.21875 56 28.609375 56 \nQ 40.484375 56 46.34375 49.84375 \nQ 52.203125 43.703125 52.203125 31.203125 \nz\n\" id=\"DejaVuSans-97\"/>\n      <path d=\"M 41.109375 46.296875 \nQ 39.59375 47.171875 37.8125 47.578125 \nQ 36.03125 48 33.890625 48 \nQ 26.265625 48 22.1875 43.046875 \nQ 18.109375 38.09375 18.109375 28.8125 \nL 18.109375 0 \nL 9.078125 0 \nL 9.078125 54.6875 \nL 18.109375 54.6875 \nL 18.109375 46.1875 \nQ 20.953125 51.171875 25.484375 53.578125 \nQ 30.03125 56 36.53125 56 \nQ 37.453125 56 38.578125 55.875 \nQ 39.703125 55.765625 41.0625 55.515625 \nz\n\" id=\"DejaVuSans-114\"/>\n      <path d=\"M 9.078125 75.984375 \nL 18.109375 75.984375 \nL 18.109375 31.109375 \nL 44.921875 54.6875 \nL 56.390625 54.6875 \nL 27.390625 29.109375 \nL 57.625 0 \nL 45.90625 0 \nL 18.109375 26.703125 \nL 18.109375 0 \nL 9.078125 0 \nz\n\" id=\"DejaVuSans-107\"/>\n     </defs>\n     <use xlink:href=\"#DejaVuSans-109\"/>\n     <use x=\"97.412109\" xlink:href=\"#DejaVuSans-97\"/>\n     <use x=\"158.691406\" xlink:href=\"#DejaVuSans-114\"/>\n     <use x=\"199.804688\" xlink:href=\"#DejaVuSans-107\"/>\n    </g>\n   </g>\n   <g id=\"text_18\">\n    <!-- wan -->\n    <g transform=\"translate(138.591875 16.318125)scale(0.12 -0.12)\">\n     <defs>\n      <path d=\"M 4.203125 54.6875 \nL 13.1875 54.6875 \nL 24.421875 12.015625 \nL 35.59375 54.6875 \nL 46.1875 54.6875 \nL 57.421875 12.015625 \nL 68.609375 54.6875 \nL 77.59375 54.6875 \nL 63.28125 0 \nL 52.6875 0 \nL 40.921875 44.828125 \nL 29.109375 0 \nL 18.5 0 \nz\n\" id=\"DejaVuSans-119\"/>\n      <path d=\"M 54.890625 33.015625 \nL 54.890625 0 \nL 45.90625 0 \nL 45.90625 32.71875 \nQ 45.90625 40.484375 42.875 44.328125 \nQ 39.84375 48.1875 33.796875 48.1875 \nQ 26.515625 48.1875 22.3125 43.546875 \nQ 18.109375 38.921875 18.109375 30.90625 \nL 18.109375 0 \nL 9.078125 0 \nL 9.078125 54.6875 \nL 18.109375 54.6875 \nL 18.109375 46.1875 \nQ 21.34375 51.125 25.703125 53.5625 \nQ 30.078125 56 35.796875 56 \nQ 45.21875 56 50.046875 50.171875 \nQ 54.890625 44.34375 54.890625 33.015625 \nz\n\" id=\"DejaVuSans-110\"/>\n     </defs>\n     <use xlink:href=\"#DejaVuSans-119\"/>\n     <use x=\"81.787109\" xlink:href=\"#DejaVuSans-97\"/>\n     <use x=\"143.066406\" xlink:href=\"#DejaVuSans-110\"/>\n    </g>\n   </g>\n   <g id=\"legend_1\">\n    <g id=\"patch_7\">\n     <path d=\"M 203.265625 153.218125 \nL 241.628125 153.218125 \nQ 243.628125 153.218125 243.628125 151.218125 \nL 243.628125 122.861875 \nQ 243.628125 120.861875 241.628125 120.861875 \nL 203.265625 120.861875 \nQ 201.265625 120.861875 201.265625 122.861875 \nL 201.265625 151.218125 \nQ 201.265625 153.218125 203.265625 153.218125 \nz\n\" style=\"fill:#ffffff;opacity:0.8;stroke:#cccccc;stroke-linejoin:miter;\"/>\n    </g>\n    <g id=\"line2d_31\">\n     <path d=\"M 205.265625 128.960312 \nL 225.265625 128.960312 \n\" style=\"fill:none;stroke:#1f77b4;stroke-linecap:square;stroke-width:1.5;\"/>\n    </g>\n    <g id=\"line2d_32\"/>\n    <g id=\"text_19\">\n     <!-- 1 -->\n     <g transform=\"translate(233.265625 132.460312)scale(0.1 -0.1)\">\n      <use xlink:href=\"#DejaVuSans-49\"/>\n     </g>\n    </g>\n    <g id=\"line2d_33\">\n     <path d=\"M 205.265625 143.638437 \nL 225.265625 143.638437 \n\" style=\"fill:none;stroke:#ff0000;stroke-linecap:square;stroke-width:1.5;\"/>\n    </g>\n    <g id=\"line2d_34\">\n     <g>\n      <use style=\"fill:#ff0000;stroke:#ff0000;\" x=\"215.265625\" xlink:href=\"#m7c8a0a014d\" y=\"143.638437\"/>\n     </g>\n    </g>\n    <g id=\"text_20\">\n     <!-- 2 -->\n     <g transform=\"translate(233.265625 147.138437)scale(0.1 -0.1)\">\n      <use xlink:href=\"#DejaVuSans-50\"/>\n     </g>\n    </g>\n   </g>\n  </g>\n </g>\n <defs>\n  <clipPath id=\"p13076b13ec\">\n   <rect height=\"135.9\" width=\"195.3\" x=\"53.328125\" y=\"22.318125\"/>\n  </clipPath>\n </defs>\n</svg>\n",
      "text/plain": [
       "<Figure size 252x180 with 1 Axes>"
      ]
     },
     "metadata": {
      "needs_background": "light"
     },
     "output_type": "display_data"
    }
   ],
   "source": [
    "# matplotlib 画着玩\n",
    "def trace(res):\n",
    "    n = max(abs(min(res)), abs(max(res)))\n",
    "    f_line = tf.range(-n, n, 0.01)\n",
    "    plt.plot(f_line, [f(x) for x in f_line])\n",
    "    plt.plot(res,[f(x) for x in res],'r-o')\n",
    "    plt.grid()\n",
    "    plt.xlabel('x')\n",
    "    plt.ylabel('f(x)')\n",
    "    plt.legend([1,2])\n",
    "    plt.xlim([-80,100])\n",
    "    plt.ylim([0,100])\n",
    "    plt.yticks(np.linspace(0,5000,10))\n",
    "    plt.text(0,100,'mark')\n",
    "    plt.title('wan')\n",
    "trace(res)"
   ]
  },
  {
   "cell_type": "markdown",
   "metadata": {},
   "source": [
    "##### 11.3.1.2. 局部最小值\n",
    "为了演示非凸函数的梯度下降，考虑函$f(x)=x*cos(cx)$，其中c为某常数。 这个函数有无穷多个局部最小值。 根据我们选择的学习率，我们最终可能只会得到许多解的一个。 下面的例子说明了（不切实际的）高学习率如何导致较差的局部最小值。"
   ]
  },
  {
   "cell_type": "code",
   "execution_count": 29,
   "metadata": {
    "ExecuteTime": {
     "end_time": "2022-10-18T16:02:30.966245Z",
     "start_time": "2022-10-18T16:02:30.642681Z"
    }
   },
   "outputs": [
    {
     "name": "stdout",
     "output_type": "stream",
     "text": [
      "epoch 1, x: 0.575222\n",
      "epoch 2, x: -1.206588\n",
      "epoch 3, x: -2.279598\n",
      "epoch 4, x: -1.343416\n",
      "epoch 5, x: -2.206770\n",
      "epoch 6, x: -1.425789\n",
      "epoch 7, x: -2.154634\n",
      "epoch 8, x: -1.483875\n",
      "epoch 9, x: -2.114354\n",
      "epoch 10, x: -1.528165\n"
     ]
    },
    {
     "data": {
      "image/svg+xml": "<?xml version=\"1.0\" encoding=\"utf-8\" standalone=\"no\"?>\n<!DOCTYPE svg PUBLIC \"-//W3C//DTD SVG 1.1//EN\"\n  \"http://www.w3.org/Graphics/SVG/1.1/DTD/svg11.dtd\">\n<!-- Created with matplotlib (https://matplotlib.org/) -->\n<svg height=\"180.65625pt\" version=\"1.1\" viewBox=\"0 0 245.120313 180.65625\" width=\"245.120313pt\" xmlns=\"http://www.w3.org/2000/svg\" xmlns:xlink=\"http://www.w3.org/1999/xlink\">\n <metadata>\n  <rdf:RDF xmlns:cc=\"http://creativecommons.org/ns#\" xmlns:dc=\"http://purl.org/dc/elements/1.1/\" xmlns:rdf=\"http://www.w3.org/1999/02/22-rdf-syntax-ns#\">\n   <cc:Work>\n    <dc:type rdf:resource=\"http://purl.org/dc/dcmitype/StillImage\"/>\n    <dc:date>2022-10-19T00:02:30.935308</dc:date>\n    <dc:format>image/svg+xml</dc:format>\n    <dc:creator>\n     <cc:Agent>\n      <dc:title>Matplotlib v3.3.3, https://matplotlib.org/</dc:title>\n     </cc:Agent>\n    </dc:creator>\n   </cc:Work>\n  </rdf:RDF>\n </metadata>\n <defs>\n  <style type=\"text/css\">*{stroke-linecap:butt;stroke-linejoin:round;}</style>\n </defs>\n <g id=\"figure_1\">\n  <g id=\"patch_1\">\n   <path d=\"M 0 180.65625 \nL 245.120313 180.65625 \nL 245.120313 0 \nL 0 0 \nz\n\" style=\"fill:none;\"/>\n  </g>\n  <g id=\"axes_1\">\n   <g id=\"patch_2\">\n    <path d=\"M 42.620312 143.1 \nL 237.920313 143.1 \nL 237.920313 7.2 \nL 42.620312 7.2 \nz\n\" style=\"fill:#ffffff;\"/>\n   </g>\n   <g id=\"matplotlib.axis_1\">\n    <g id=\"xtick_1\">\n     <g id=\"line2d_1\">\n      <path clip-path=\"url(#p4f4b289615)\" d=\"M 51.497585 143.1 \nL 51.497585 7.2 \n\" style=\"fill:none;stroke:#b0b0b0;stroke-linecap:square;stroke-width:0.8;\"/>\n     </g>\n     <g id=\"line2d_2\">\n      <defs>\n       <path d=\"M 0 0 \nL 0 3.5 \n\" id=\"m36be4322b9\" style=\"stroke:#000000;stroke-width:0.8;\"/>\n      </defs>\n      <g>\n       <use style=\"stroke:#000000;stroke-width:0.8;\" x=\"51.497585\" xlink:href=\"#m36be4322b9\" y=\"143.1\"/>\n      </g>\n     </g>\n     <g id=\"text_1\">\n      <!-- −10 -->\n      <g transform=\"translate(40.945241 157.698438)scale(0.1 -0.1)\">\n       <defs>\n        <path d=\"M 10.59375 35.5 \nL 73.1875 35.5 \nL 73.1875 27.203125 \nL 10.59375 27.203125 \nz\n\" id=\"DejaVuSans-8722\"/>\n        <path d=\"M 12.40625 8.296875 \nL 28.515625 8.296875 \nL 28.515625 63.921875 \nL 10.984375 60.40625 \nL 10.984375 69.390625 \nL 28.421875 72.90625 \nL 38.28125 72.90625 \nL 38.28125 8.296875 \nL 54.390625 8.296875 \nL 54.390625 0 \nL 12.40625 0 \nz\n\" id=\"DejaVuSans-49\"/>\n        <path d=\"M 31.78125 66.40625 \nQ 24.171875 66.40625 20.328125 58.90625 \nQ 16.5 51.421875 16.5 36.375 \nQ 16.5 21.390625 20.328125 13.890625 \nQ 24.171875 6.390625 31.78125 6.390625 \nQ 39.453125 6.390625 43.28125 13.890625 \nQ 47.125 21.390625 47.125 36.375 \nQ 47.125 51.421875 43.28125 58.90625 \nQ 39.453125 66.40625 31.78125 66.40625 \nz\nM 31.78125 74.21875 \nQ 44.046875 74.21875 50.515625 64.515625 \nQ 56.984375 54.828125 56.984375 36.375 \nQ 56.984375 17.96875 50.515625 8.265625 \nQ 44.046875 -1.421875 31.78125 -1.421875 \nQ 19.53125 -1.421875 13.0625 8.265625 \nQ 6.59375 17.96875 6.59375 36.375 \nQ 6.59375 54.828125 13.0625 64.515625 \nQ 19.53125 74.21875 31.78125 74.21875 \nz\n\" id=\"DejaVuSans-48\"/>\n       </defs>\n       <use xlink:href=\"#DejaVuSans-8722\"/>\n       <use x=\"83.789062\" xlink:href=\"#DejaVuSans-49\"/>\n       <use x=\"147.412109\" xlink:href=\"#DejaVuSans-48\"/>\n      </g>\n     </g>\n    </g>\n    <g id=\"xtick_2\">\n     <g id=\"line2d_3\">\n      <path clip-path=\"url(#p4f4b289615)\" d=\"M 95.883949 143.1 \nL 95.883949 7.2 \n\" style=\"fill:none;stroke:#b0b0b0;stroke-linecap:square;stroke-width:0.8;\"/>\n     </g>\n     <g id=\"line2d_4\">\n      <g>\n       <use style=\"stroke:#000000;stroke-width:0.8;\" x=\"95.883949\" xlink:href=\"#m36be4322b9\" y=\"143.1\"/>\n      </g>\n     </g>\n     <g id=\"text_2\">\n      <!-- −5 -->\n      <g transform=\"translate(88.512855 157.698438)scale(0.1 -0.1)\">\n       <defs>\n        <path d=\"M 10.796875 72.90625 \nL 49.515625 72.90625 \nL 49.515625 64.59375 \nL 19.828125 64.59375 \nL 19.828125 46.734375 \nQ 21.96875 47.46875 24.109375 47.828125 \nQ 26.265625 48.1875 28.421875 48.1875 \nQ 40.625 48.1875 47.75 41.5 \nQ 54.890625 34.8125 54.890625 23.390625 \nQ 54.890625 11.625 47.5625 5.09375 \nQ 40.234375 -1.421875 26.90625 -1.421875 \nQ 22.3125 -1.421875 17.546875 -0.640625 \nQ 12.796875 0.140625 7.71875 1.703125 \nL 7.71875 11.625 \nQ 12.109375 9.234375 16.796875 8.0625 \nQ 21.484375 6.890625 26.703125 6.890625 \nQ 35.15625 6.890625 40.078125 11.328125 \nQ 45.015625 15.765625 45.015625 23.390625 \nQ 45.015625 31 40.078125 35.4375 \nQ 35.15625 39.890625 26.703125 39.890625 \nQ 22.75 39.890625 18.8125 39.015625 \nQ 14.890625 38.140625 10.796875 36.28125 \nz\n\" id=\"DejaVuSans-53\"/>\n       </defs>\n       <use xlink:href=\"#DejaVuSans-8722\"/>\n       <use x=\"83.789062\" xlink:href=\"#DejaVuSans-53\"/>\n      </g>\n     </g>\n    </g>\n    <g id=\"xtick_3\">\n     <g id=\"line2d_5\">\n      <path clip-path=\"url(#p4f4b289615)\" d=\"M 140.270312 143.1 \nL 140.270312 7.2 \n\" style=\"fill:none;stroke:#b0b0b0;stroke-linecap:square;stroke-width:0.8;\"/>\n     </g>\n     <g id=\"line2d_6\">\n      <g>\n       <use style=\"stroke:#000000;stroke-width:0.8;\" x=\"140.270312\" xlink:href=\"#m36be4322b9\" y=\"143.1\"/>\n      </g>\n     </g>\n     <g id=\"text_3\">\n      <!-- 0 -->\n      <g transform=\"translate(137.089062 157.698438)scale(0.1 -0.1)\">\n       <use xlink:href=\"#DejaVuSans-48\"/>\n      </g>\n     </g>\n    </g>\n    <g id=\"xtick_4\">\n     <g id=\"line2d_7\">\n      <path clip-path=\"url(#p4f4b289615)\" d=\"M 184.656676 143.1 \nL 184.656676 7.2 \n\" style=\"fill:none;stroke:#b0b0b0;stroke-linecap:square;stroke-width:0.8;\"/>\n     </g>\n     <g id=\"line2d_8\">\n      <g>\n       <use style=\"stroke:#000000;stroke-width:0.8;\" x=\"184.656676\" xlink:href=\"#m36be4322b9\" y=\"143.1\"/>\n      </g>\n     </g>\n     <g id=\"text_4\">\n      <!-- 5 -->\n      <g transform=\"translate(181.475426 157.698438)scale(0.1 -0.1)\">\n       <use xlink:href=\"#DejaVuSans-53\"/>\n      </g>\n     </g>\n    </g>\n    <g id=\"xtick_5\">\n     <g id=\"line2d_9\">\n      <path clip-path=\"url(#p4f4b289615)\" d=\"M 229.04304 143.1 \nL 229.04304 7.2 \n\" style=\"fill:none;stroke:#b0b0b0;stroke-linecap:square;stroke-width:0.8;\"/>\n     </g>\n     <g id=\"line2d_10\">\n      <g>\n       <use style=\"stroke:#000000;stroke-width:0.8;\" x=\"229.04304\" xlink:href=\"#m36be4322b9\" y=\"143.1\"/>\n      </g>\n     </g>\n     <g id=\"text_5\">\n      <!-- 10 -->\n      <g transform=\"translate(222.68054 157.698438)scale(0.1 -0.1)\">\n       <use xlink:href=\"#DejaVuSans-49\"/>\n       <use x=\"63.623047\" xlink:href=\"#DejaVuSans-48\"/>\n      </g>\n     </g>\n    </g>\n    <g id=\"text_6\">\n     <!-- x -->\n     <g transform=\"translate(137.310937 171.376563)scale(0.1 -0.1)\">\n      <defs>\n       <path d=\"M 54.890625 54.6875 \nL 35.109375 28.078125 \nL 55.90625 0 \nL 45.3125 0 \nL 29.390625 21.484375 \nL 13.484375 0 \nL 2.875 0 \nL 24.125 28.609375 \nL 4.6875 54.6875 \nL 15.28125 54.6875 \nL 29.78125 35.203125 \nL 44.28125 54.6875 \nz\n\" id=\"DejaVuSans-120\"/>\n      </defs>\n      <use xlink:href=\"#DejaVuSans-120\"/>\n     </g>\n    </g>\n   </g>\n   <g id=\"matplotlib.axis_2\">\n    <g id=\"ytick_1\">\n     <g id=\"line2d_11\">\n      <path clip-path=\"url(#p4f4b289615)\" d=\"M 42.620312 119.411601 \nL 237.920313 119.411601 \n\" style=\"fill:none;stroke:#b0b0b0;stroke-linecap:square;stroke-width:0.8;\"/>\n     </g>\n     <g id=\"line2d_12\">\n      <defs>\n       <path d=\"M 0 0 \nL -3.5 0 \n\" id=\"m87b1f1ff72\" style=\"stroke:#000000;stroke-width:0.8;\"/>\n      </defs>\n      <g>\n       <use style=\"stroke:#000000;stroke-width:0.8;\" x=\"42.620312\" xlink:href=\"#m87b1f1ff72\" y=\"119.411601\"/>\n      </g>\n     </g>\n     <g id=\"text_7\">\n      <!-- −5 -->\n      <g transform=\"translate(20.878125 123.21082)scale(0.1 -0.1)\">\n       <use xlink:href=\"#DejaVuSans-8722\"/>\n       <use x=\"83.789062\" xlink:href=\"#DejaVuSans-53\"/>\n      </g>\n     </g>\n    </g>\n    <g id=\"ytick_2\">\n     <g id=\"line2d_13\">\n      <path clip-path=\"url(#p4f4b289615)\" d=\"M 42.620312 75.150004 \nL 237.920313 75.150004 \n\" style=\"fill:none;stroke:#b0b0b0;stroke-linecap:square;stroke-width:0.8;\"/>\n     </g>\n     <g id=\"line2d_14\">\n      <g>\n       <use style=\"stroke:#000000;stroke-width:0.8;\" x=\"42.620312\" xlink:href=\"#m87b1f1ff72\" y=\"75.150004\"/>\n      </g>\n     </g>\n     <g id=\"text_8\">\n      <!-- 0 -->\n      <g transform=\"translate(29.257812 78.949223)scale(0.1 -0.1)\">\n       <use xlink:href=\"#DejaVuSans-48\"/>\n      </g>\n     </g>\n    </g>\n    <g id=\"ytick_3\">\n     <g id=\"line2d_15\">\n      <path clip-path=\"url(#p4f4b289615)\" d=\"M 42.620312 30.888407 \nL 237.920313 30.888407 \n\" style=\"fill:none;stroke:#b0b0b0;stroke-linecap:square;stroke-width:0.8;\"/>\n     </g>\n     <g id=\"line2d_16\">\n      <g>\n       <use style=\"stroke:#000000;stroke-width:0.8;\" x=\"42.620312\" xlink:href=\"#m87b1f1ff72\" y=\"30.888407\"/>\n      </g>\n     </g>\n     <g id=\"text_9\">\n      <!-- 5 -->\n      <g transform=\"translate(29.257812 34.687626)scale(0.1 -0.1)\">\n       <use xlink:href=\"#DejaVuSans-53\"/>\n      </g>\n     </g>\n    </g>\n    <g id=\"text_10\">\n     <!-- f(x) -->\n     <g transform=\"translate(14.798437 83.771094)rotate(-90)scale(0.1 -0.1)\">\n      <defs>\n       <path d=\"M 37.109375 75.984375 \nL 37.109375 68.5 \nL 28.515625 68.5 \nQ 23.6875 68.5 21.796875 66.546875 \nQ 19.921875 64.59375 19.921875 59.515625 \nL 19.921875 54.6875 \nL 34.71875 54.6875 \nL 34.71875 47.703125 \nL 19.921875 47.703125 \nL 19.921875 0 \nL 10.890625 0 \nL 10.890625 47.703125 \nL 2.296875 47.703125 \nL 2.296875 54.6875 \nL 10.890625 54.6875 \nL 10.890625 58.5 \nQ 10.890625 67.625 15.140625 71.796875 \nQ 19.390625 75.984375 28.609375 75.984375 \nz\n\" id=\"DejaVuSans-102\"/>\n       <path d=\"M 31 75.875 \nQ 24.46875 64.65625 21.28125 53.65625 \nQ 18.109375 42.671875 18.109375 31.390625 \nQ 18.109375 20.125 21.3125 9.0625 \nQ 24.515625 -2 31 -13.1875 \nL 23.1875 -13.1875 \nQ 15.875 -1.703125 12.234375 9.375 \nQ 8.59375 20.453125 8.59375 31.390625 \nQ 8.59375 42.28125 12.203125 53.3125 \nQ 15.828125 64.359375 23.1875 75.875 \nz\n\" id=\"DejaVuSans-40\"/>\n       <path d=\"M 8.015625 75.875 \nL 15.828125 75.875 \nQ 23.140625 64.359375 26.78125 53.3125 \nQ 30.421875 42.28125 30.421875 31.390625 \nQ 30.421875 20.453125 26.78125 9.375 \nQ 23.140625 -1.703125 15.828125 -13.1875 \nL 8.015625 -13.1875 \nQ 14.5 -2 17.703125 9.0625 \nQ 20.90625 20.125 20.90625 31.390625 \nQ 20.90625 42.671875 17.703125 53.65625 \nQ 14.5 64.65625 8.015625 75.875 \nz\n\" id=\"DejaVuSans-41\"/>\n      </defs>\n      <use xlink:href=\"#DejaVuSans-102\"/>\n      <use x=\"35.205078\" xlink:href=\"#DejaVuSans-40\"/>\n      <use x=\"74.21875\" xlink:href=\"#DejaVuSans-120\"/>\n      <use x=\"133.398438\" xlink:href=\"#DejaVuSans-41\"/>\n     </g>\n    </g>\n   </g>\n   <g id=\"line2d_17\">\n    <path clip-path=\"url(#p4f4b289615)\" d=\"M 51.497585 75.150005 \nL 54.515927 61.507186 \nL 57.090395 50.884518 \nL 59.309764 42.621479 \nL 61.351583 35.83644 \nL 63.215853 30.376437 \nL 64.991349 25.860916 \nL 66.589294 22.385533 \nL 68.098465 19.624046 \nL 69.518861 17.490348 \nL 70.850483 15.899317 \nL 72.093329 14.768966 \nL 73.247401 14.021968 \nL 74.312698 13.586699 \nL 75.377995 13.390514 \nL 76.443293 13.427626 \nL 77.50859 13.691383 \nL 78.662662 14.224185 \nL 79.816733 15.003677 \nL 81.05958 16.10578 \nL 82.479976 17.679251 \nL 83.989147 19.691039 \nL 85.675867 22.315222 \nL 87.628912 25.788722 \nL 89.848281 30.208436 \nL 92.600299 36.216898 \nL 96.595163 45.538162 \nL 102.720621 59.79695 \nL 105.650165 66.042506 \nL 108.135799 70.836402 \nL 110.355115 74.636503 \nL 112.308113 77.55776 \nL 114.172339 79.947836 \nL 115.859019 81.75909 \nL 117.456926 83.15922 \nL 118.966061 84.196642 \nL 120.386424 84.9209 \nL 121.806786 85.403964 \nL 123.227148 85.651537 \nL 124.647511 85.671668 \nL 126.067873 85.474652 \nL 127.577008 85.04132 \nL 129.174915 84.349947 \nL 130.950368 83.329369 \nL 132.903366 81.941628 \nL 135.211455 80.013834 \nL 138.229725 77.172929 \nL 146.041723 69.662806 \nL 148.349811 67.822937 \nL 150.30281 66.531215 \nL 152.078262 65.613596 \nL 153.67617 65.026335 \nL 155.185305 64.700104 \nL 156.605667 64.6106 \nL 158.02603 64.743684 \nL 159.446393 65.108533 \nL 160.866755 65.712034 \nL 162.287117 66.558682 \nL 163.796252 67.726895 \nL 165.39416 69.264693 \nL 167.08084 71.218392 \nL 168.856293 73.630085 \nL 170.809291 76.681976 \nL 172.939834 80.450324 \nL 175.336696 85.1712 \nL 178.088703 91.101943 \nL 181.817243 99.71444 \nL 189.274322 117.056084 \nL 191.937565 122.626947 \nL 194.156934 126.776265 \nL 196.021204 129.824699 \nL 197.707925 132.180832 \nL 199.217095 133.926517 \nL 200.637492 135.228363 \nL 201.880338 136.077175 \nL 203.03441 136.609461 \nL 204.099707 136.872716 \nL 205.165004 136.909317 \nL 206.230301 136.712613 \nL 207.295599 136.276804 \nL 208.360896 135.597002 \nL 209.514967 134.580654 \nL 210.669039 133.269576 \nL 211.911882 131.525365 \nL 213.243503 129.272991 \nL 214.663899 126.434363 \nL 216.261845 122.708634 \nL 217.948565 118.177187 \nL 219.724061 112.765068 \nL 221.677105 106.088836 \nL 223.807699 98.003863 \nL 226.204618 88.012862 \nL 228.956636 75.555636 \nL 228.956636 75.555636 \n\" style=\"fill:none;stroke:#1f77b4;stroke-linecap:square;stroke-width:1.5;\"/>\n   </g>\n   <g id=\"line2d_18\">\n    <path clip-path=\"url(#p4f4b289615)\" d=\"M 229.04304 75.150003 \nL 145.376715 70.243888 \nL 129.559104 84.150545 \nL 120.033697 84.763721 \nL 128.344446 84.737793 \nL 120.680216 85.040451 \nL 127.613199 85.02823 \nL 121.143035 85.207937 \nL 127.097547 85.203032 \nL 121.500614 85.319977 \nL 126.704374 85.319118 \n\" style=\"fill:none;stroke:#ff7f0e;stroke-linecap:square;stroke-width:1.5;\"/>\n    <defs>\n     <path d=\"M 0 3 \nC 0.795609 3 1.55874 2.683901 2.12132 2.12132 \nC 2.683901 1.55874 3 0.795609 3 0 \nC 3 -0.795609 2.683901 -1.55874 2.12132 -2.12132 \nC 1.55874 -2.683901 0.795609 -3 0 -3 \nC -0.795609 -3 -1.55874 -2.683901 -2.12132 -2.12132 \nC -2.683901 -1.55874 -3 -0.795609 -3 0 \nC -3 0.795609 -2.683901 1.55874 -2.12132 2.12132 \nC -1.55874 2.683901 -0.795609 3 0 3 \nz\n\" id=\"m785fc2311f\" style=\"stroke:#ff7f0e;\"/>\n    </defs>\n    <g clip-path=\"url(#p4f4b289615)\">\n     <use style=\"fill:#ff7f0e;stroke:#ff7f0e;\" x=\"229.04304\" xlink:href=\"#m785fc2311f\" y=\"75.150003\"/>\n     <use style=\"fill:#ff7f0e;stroke:#ff7f0e;\" x=\"145.376715\" xlink:href=\"#m785fc2311f\" y=\"70.243888\"/>\n     <use style=\"fill:#ff7f0e;stroke:#ff7f0e;\" x=\"129.559104\" xlink:href=\"#m785fc2311f\" y=\"84.150545\"/>\n     <use style=\"fill:#ff7f0e;stroke:#ff7f0e;\" x=\"120.033697\" xlink:href=\"#m785fc2311f\" y=\"84.763721\"/>\n     <use style=\"fill:#ff7f0e;stroke:#ff7f0e;\" x=\"128.344446\" xlink:href=\"#m785fc2311f\" y=\"84.737793\"/>\n     <use style=\"fill:#ff7f0e;stroke:#ff7f0e;\" x=\"120.680216\" xlink:href=\"#m785fc2311f\" y=\"85.040451\"/>\n     <use style=\"fill:#ff7f0e;stroke:#ff7f0e;\" x=\"127.613199\" xlink:href=\"#m785fc2311f\" y=\"85.02823\"/>\n     <use style=\"fill:#ff7f0e;stroke:#ff7f0e;\" x=\"121.143035\" xlink:href=\"#m785fc2311f\" y=\"85.207937\"/>\n     <use style=\"fill:#ff7f0e;stroke:#ff7f0e;\" x=\"127.097547\" xlink:href=\"#m785fc2311f\" y=\"85.203032\"/>\n     <use style=\"fill:#ff7f0e;stroke:#ff7f0e;\" x=\"121.500614\" xlink:href=\"#m785fc2311f\" y=\"85.319977\"/>\n     <use style=\"fill:#ff7f0e;stroke:#ff7f0e;\" x=\"126.704374\" xlink:href=\"#m785fc2311f\" y=\"85.319118\"/>\n    </g>\n   </g>\n   <g id=\"patch_3\">\n    <path d=\"M 42.620312 143.1 \nL 42.620312 7.2 \n\" style=\"fill:none;stroke:#000000;stroke-linecap:square;stroke-linejoin:miter;stroke-width:0.8;\"/>\n   </g>\n   <g id=\"patch_4\">\n    <path d=\"M 237.920313 143.1 \nL 237.920313 7.2 \n\" style=\"fill:none;stroke:#000000;stroke-linecap:square;stroke-linejoin:miter;stroke-width:0.8;\"/>\n   </g>\n   <g id=\"patch_5\">\n    <path d=\"M 42.620312 143.1 \nL 237.920313 143.1 \n\" style=\"fill:none;stroke:#000000;stroke-linecap:square;stroke-linejoin:miter;stroke-width:0.8;\"/>\n   </g>\n   <g id=\"patch_6\">\n    <path d=\"M 42.620312 7.2 \nL 237.920313 7.2 \n\" style=\"fill:none;stroke:#000000;stroke-linecap:square;stroke-linejoin:miter;stroke-width:0.8;\"/>\n   </g>\n  </g>\n </g>\n <defs>\n  <clipPath id=\"p4f4b289615\">\n   <rect height=\"135.9\" width=\"195.3\" x=\"42.620312\" y=\"7.2\"/>\n  </clipPath>\n </defs>\n</svg>\n",
      "text/plain": [
       "<Figure size 252x180 with 1 Axes>"
      ]
     },
     "metadata": {
      "needs_background": "light"
     },
     "output_type": "display_data"
    }
   ],
   "source": [
    "c = tf.constant(0.15 * np.pi)\n",
    "\n",
    "def f(x):  # 目标函数\n",
    "    return x * tf.cos(c * x)\n",
    "\n",
    "def f_grad(x):  # 目标函数的梯度\n",
    "    return tf.cos(c * x) - c * x * tf.sin(c * x)\n",
    "\n",
    "show_trace(gd(2, f_grad), f)"
   ]
  },
  {
   "cell_type": "code",
   "execution_count": 36,
   "metadata": {
    "ExecuteTime": {
     "end_time": "2022-10-18T16:11:26.225132Z",
     "start_time": "2022-10-18T16:11:25.331636Z"
    }
   },
   "outputs": [
    {
     "name": "stdout",
     "output_type": "stream",
     "text": [
      "epoch 1, x: 0.575222\n",
      "epoch 2, x: -1.206588\n",
      "epoch 3, x: -2.279598\n",
      "epoch 4, x: -1.343416\n",
      "epoch 5, x: -2.206770\n",
      "epoch 6, x: -1.425789\n",
      "epoch 7, x: -2.154634\n",
      "epoch 8, x: -1.483875\n",
      "epoch 9, x: -2.114354\n",
      "epoch 10, x: -1.528165\n"
     ]
    },
    {
     "data": {
      "image/svg+xml": "<?xml version=\"1.0\" encoding=\"utf-8\" standalone=\"no\"?>\n<!DOCTYPE svg PUBLIC \"-//W3C//DTD SVG 1.1//EN\"\n  \"http://www.w3.org/Graphics/SVG/1.1/DTD/svg11.dtd\">\n<!-- Created with matplotlib (https://matplotlib.org/) -->\n<svg height=\"195.774375pt\" version=\"1.1\" viewBox=\"0 0 261.023438 195.774375\" width=\"261.023438pt\" xmlns=\"http://www.w3.org/2000/svg\" xmlns:xlink=\"http://www.w3.org/1999/xlink\">\n <metadata>\n  <rdf:RDF xmlns:cc=\"http://creativecommons.org/ns#\" xmlns:dc=\"http://purl.org/dc/elements/1.1/\" xmlns:rdf=\"http://www.w3.org/1999/02/22-rdf-syntax-ns#\">\n   <cc:Work>\n    <dc:type rdf:resource=\"http://purl.org/dc/dcmitype/StillImage\"/>\n    <dc:date>2022-10-19T00:11:26.169363</dc:date>\n    <dc:format>image/svg+xml</dc:format>\n    <dc:creator>\n     <cc:Agent>\n      <dc:title>Matplotlib v3.3.3, https://matplotlib.org/</dc:title>\n     </cc:Agent>\n    </dc:creator>\n   </cc:Work>\n  </rdf:RDF>\n </metadata>\n <defs>\n  <style type=\"text/css\">*{stroke-linecap:butt;stroke-linejoin:round;}</style>\n </defs>\n <g id=\"figure_1\">\n  <g id=\"patch_1\">\n   <path d=\"M 0 195.774375 \nL 261.023438 195.774375 \nL 261.023438 0 \nL 0 0 \nz\n\" style=\"fill:none;\"/>\n  </g>\n  <g id=\"axes_1\">\n   <g id=\"patch_2\">\n    <path d=\"M 58.523438 158.218125 \nL 253.823438 158.218125 \nL 253.823438 22.318125 \nL 58.523438 22.318125 \nz\n\" style=\"fill:#ffffff;\"/>\n   </g>\n   <g id=\"matplotlib.axis_1\">\n    <g id=\"xtick_1\">\n     <g id=\"line2d_1\">\n      <path clip-path=\"url(#pc8caaaab37)\" d=\"M 74.798438 158.218125 \nL 74.798438 22.318125 \n\" style=\"fill:none;stroke:#b0b0b0;stroke-linecap:square;stroke-width:0.8;\"/>\n     </g>\n     <g id=\"line2d_2\">\n      <defs>\n       <path d=\"M 0 0 \nL 0 3.5 \n\" id=\"m11e04ce12b\" style=\"stroke:#000000;stroke-width:0.8;\"/>\n      </defs>\n      <g>\n       <use style=\"stroke:#000000;stroke-width:0.8;\" x=\"74.798438\" xlink:href=\"#m11e04ce12b\" y=\"158.218125\"/>\n      </g>\n     </g>\n     <g id=\"text_1\">\n      <!-- −10 -->\n      <g transform=\"translate(64.246094 172.816562)scale(0.1 -0.1)\">\n       <defs>\n        <path d=\"M 10.59375 35.5 \nL 73.1875 35.5 \nL 73.1875 27.203125 \nL 10.59375 27.203125 \nz\n\" id=\"DejaVuSans-8722\"/>\n        <path d=\"M 12.40625 8.296875 \nL 28.515625 8.296875 \nL 28.515625 63.921875 \nL 10.984375 60.40625 \nL 10.984375 69.390625 \nL 28.421875 72.90625 \nL 38.28125 72.90625 \nL 38.28125 8.296875 \nL 54.390625 8.296875 \nL 54.390625 0 \nL 12.40625 0 \nz\n\" id=\"DejaVuSans-49\"/>\n        <path d=\"M 31.78125 66.40625 \nQ 24.171875 66.40625 20.328125 58.90625 \nQ 16.5 51.421875 16.5 36.375 \nQ 16.5 21.390625 20.328125 13.890625 \nQ 24.171875 6.390625 31.78125 6.390625 \nQ 39.453125 6.390625 43.28125 13.890625 \nQ 47.125 21.390625 47.125 36.375 \nQ 47.125 51.421875 43.28125 58.90625 \nQ 39.453125 66.40625 31.78125 66.40625 \nz\nM 31.78125 74.21875 \nQ 44.046875 74.21875 50.515625 64.515625 \nQ 56.984375 54.828125 56.984375 36.375 \nQ 56.984375 17.96875 50.515625 8.265625 \nQ 44.046875 -1.421875 31.78125 -1.421875 \nQ 19.53125 -1.421875 13.0625 8.265625 \nQ 6.59375 17.96875 6.59375 36.375 \nQ 6.59375 54.828125 13.0625 64.515625 \nQ 19.53125 74.21875 31.78125 74.21875 \nz\n\" id=\"DejaVuSans-48\"/>\n       </defs>\n       <use xlink:href=\"#DejaVuSans-8722\"/>\n       <use x=\"83.789062\" xlink:href=\"#DejaVuSans-49\"/>\n       <use x=\"147.412109\" xlink:href=\"#DejaVuSans-48\"/>\n      </g>\n     </g>\n    </g>\n    <g id=\"xtick_2\">\n     <g id=\"line2d_3\">\n      <path clip-path=\"url(#pc8caaaab37)\" d=\"M 115.485938 158.218125 \nL 115.485938 22.318125 \n\" style=\"fill:none;stroke:#b0b0b0;stroke-linecap:square;stroke-width:0.8;\"/>\n     </g>\n     <g id=\"line2d_4\">\n      <g>\n       <use style=\"stroke:#000000;stroke-width:0.8;\" x=\"115.485938\" xlink:href=\"#m11e04ce12b\" y=\"158.218125\"/>\n      </g>\n     </g>\n     <g id=\"text_2\">\n      <!-- −5 -->\n      <g transform=\"translate(108.114844 172.816562)scale(0.1 -0.1)\">\n       <defs>\n        <path d=\"M 10.796875 72.90625 \nL 49.515625 72.90625 \nL 49.515625 64.59375 \nL 19.828125 64.59375 \nL 19.828125 46.734375 \nQ 21.96875 47.46875 24.109375 47.828125 \nQ 26.265625 48.1875 28.421875 48.1875 \nQ 40.625 48.1875 47.75 41.5 \nQ 54.890625 34.8125 54.890625 23.390625 \nQ 54.890625 11.625 47.5625 5.09375 \nQ 40.234375 -1.421875 26.90625 -1.421875 \nQ 22.3125 -1.421875 17.546875 -0.640625 \nQ 12.796875 0.140625 7.71875 1.703125 \nL 7.71875 11.625 \nQ 12.109375 9.234375 16.796875 8.0625 \nQ 21.484375 6.890625 26.703125 6.890625 \nQ 35.15625 6.890625 40.078125 11.328125 \nQ 45.015625 15.765625 45.015625 23.390625 \nQ 45.015625 31 40.078125 35.4375 \nQ 35.15625 39.890625 26.703125 39.890625 \nQ 22.75 39.890625 18.8125 39.015625 \nQ 14.890625 38.140625 10.796875 36.28125 \nz\n\" id=\"DejaVuSans-53\"/>\n       </defs>\n       <use xlink:href=\"#DejaVuSans-8722\"/>\n       <use x=\"83.789062\" xlink:href=\"#DejaVuSans-53\"/>\n      </g>\n     </g>\n    </g>\n    <g id=\"xtick_3\">\n     <g id=\"line2d_5\">\n      <path clip-path=\"url(#pc8caaaab37)\" d=\"M 156.173438 158.218125 \nL 156.173438 22.318125 \n\" style=\"fill:none;stroke:#b0b0b0;stroke-linecap:square;stroke-width:0.8;\"/>\n     </g>\n     <g id=\"line2d_6\">\n      <g>\n       <use style=\"stroke:#000000;stroke-width:0.8;\" x=\"156.173438\" xlink:href=\"#m11e04ce12b\" y=\"158.218125\"/>\n      </g>\n     </g>\n     <g id=\"text_3\">\n      <!-- 0 -->\n      <g transform=\"translate(152.992188 172.816562)scale(0.1 -0.1)\">\n       <use xlink:href=\"#DejaVuSans-48\"/>\n      </g>\n     </g>\n    </g>\n    <g id=\"xtick_4\">\n     <g id=\"line2d_7\">\n      <path clip-path=\"url(#pc8caaaab37)\" d=\"M 196.860938 158.218125 \nL 196.860938 22.318125 \n\" style=\"fill:none;stroke:#b0b0b0;stroke-linecap:square;stroke-width:0.8;\"/>\n     </g>\n     <g id=\"line2d_8\">\n      <g>\n       <use style=\"stroke:#000000;stroke-width:0.8;\" x=\"196.860938\" xlink:href=\"#m11e04ce12b\" y=\"158.218125\"/>\n      </g>\n     </g>\n     <g id=\"text_4\">\n      <!-- 5 -->\n      <g transform=\"translate(193.679688 172.816562)scale(0.1 -0.1)\">\n       <use xlink:href=\"#DejaVuSans-53\"/>\n      </g>\n     </g>\n    </g>\n    <g id=\"xtick_5\">\n     <g id=\"line2d_9\">\n      <path clip-path=\"url(#pc8caaaab37)\" d=\"M 237.548438 158.218125 \nL 237.548438 22.318125 \n\" style=\"fill:none;stroke:#b0b0b0;stroke-linecap:square;stroke-width:0.8;\"/>\n     </g>\n     <g id=\"line2d_10\">\n      <g>\n       <use style=\"stroke:#000000;stroke-width:0.8;\" x=\"237.548438\" xlink:href=\"#m11e04ce12b\" y=\"158.218125\"/>\n      </g>\n     </g>\n     <g id=\"text_5\">\n      <!-- 10 -->\n      <g transform=\"translate(231.185937 172.816562)scale(0.1 -0.1)\">\n       <use xlink:href=\"#DejaVuSans-49\"/>\n       <use x=\"63.623047\" xlink:href=\"#DejaVuSans-48\"/>\n      </g>\n     </g>\n    </g>\n    <g id=\"text_6\">\n     <!-- x -->\n     <g transform=\"translate(153.214063 186.494687)scale(0.1 -0.1)\">\n      <defs>\n       <path d=\"M 54.890625 54.6875 \nL 35.109375 28.078125 \nL 55.90625 0 \nL 45.3125 0 \nL 29.390625 21.484375 \nL 13.484375 0 \nL 2.875 0 \nL 24.125 28.609375 \nL 4.6875 54.6875 \nL 15.28125 54.6875 \nL 29.78125 35.203125 \nL 44.28125 54.6875 \nz\n\" id=\"DejaVuSans-120\"/>\n      </defs>\n      <use xlink:href=\"#DejaVuSans-120\"/>\n     </g>\n    </g>\n   </g>\n   <g id=\"matplotlib.axis_2\">\n    <g id=\"ytick_1\">\n     <g id=\"line2d_11\">\n      <path clip-path=\"url(#pc8caaaab37)\" d=\"M 58.523438 124.243125 \nL 253.823438 124.243125 \n\" style=\"fill:none;stroke:#b0b0b0;stroke-linecap:square;stroke-width:0.8;\"/>\n     </g>\n     <g id=\"line2d_12\">\n      <defs>\n       <path d=\"M 0 0 \nL -3.5 0 \n\" id=\"mff3a717bf4\" style=\"stroke:#000000;stroke-width:0.8;\"/>\n      </defs>\n      <g>\n       <use style=\"stroke:#000000;stroke-width:0.8;\" x=\"58.523438\" xlink:href=\"#mff3a717bf4\" y=\"124.243125\"/>\n      </g>\n     </g>\n     <g id=\"text_7\">\n      <!-- −5.00 -->\n      <g transform=\"translate(20.878125 128.042344)scale(0.1 -0.1)\">\n       <defs>\n        <path d=\"M 10.6875 12.40625 \nL 21 12.40625 \nL 21 0 \nL 10.6875 0 \nz\n\" id=\"DejaVuSans-46\"/>\n       </defs>\n       <use xlink:href=\"#DejaVuSans-8722\"/>\n       <use x=\"83.789062\" xlink:href=\"#DejaVuSans-53\"/>\n       <use x=\"147.412109\" xlink:href=\"#DejaVuSans-46\"/>\n       <use x=\"179.199219\" xlink:href=\"#DejaVuSans-48\"/>\n       <use x=\"242.822266\" xlink:href=\"#DejaVuSans-48\"/>\n      </g>\n     </g>\n    </g>\n    <g id=\"ytick_2\">\n     <g id=\"line2d_13\">\n      <path clip-path=\"url(#pc8caaaab37)\" d=\"M 58.523438 116.693125 \nL 253.823438 116.693125 \n\" style=\"fill:none;stroke:#b0b0b0;stroke-linecap:square;stroke-width:0.8;\"/>\n     </g>\n     <g id=\"line2d_14\">\n      <g>\n       <use style=\"stroke:#000000;stroke-width:0.8;\" x=\"58.523438\" xlink:href=\"#mff3a717bf4\" y=\"116.693125\"/>\n      </g>\n     </g>\n     <g id=\"text_8\">\n      <!-- −3.89 -->\n      <g transform=\"translate(20.878125 120.492344)scale(0.1 -0.1)\">\n       <defs>\n        <path d=\"M 40.578125 39.3125 \nQ 47.65625 37.796875 51.625 33 \nQ 55.609375 28.21875 55.609375 21.1875 \nQ 55.609375 10.40625 48.1875 4.484375 \nQ 40.765625 -1.421875 27.09375 -1.421875 \nQ 22.515625 -1.421875 17.65625 -0.515625 \nQ 12.796875 0.390625 7.625 2.203125 \nL 7.625 11.71875 \nQ 11.71875 9.328125 16.59375 8.109375 \nQ 21.484375 6.890625 26.8125 6.890625 \nQ 36.078125 6.890625 40.9375 10.546875 \nQ 45.796875 14.203125 45.796875 21.1875 \nQ 45.796875 27.640625 41.28125 31.265625 \nQ 36.765625 34.90625 28.71875 34.90625 \nL 20.21875 34.90625 \nL 20.21875 43.015625 \nL 29.109375 43.015625 \nQ 36.375 43.015625 40.234375 45.921875 \nQ 44.09375 48.828125 44.09375 54.296875 \nQ 44.09375 59.90625 40.109375 62.90625 \nQ 36.140625 65.921875 28.71875 65.921875 \nQ 24.65625 65.921875 20.015625 65.03125 \nQ 15.375 64.15625 9.8125 62.3125 \nL 9.8125 71.09375 \nQ 15.4375 72.65625 20.34375 73.4375 \nQ 25.25 74.21875 29.59375 74.21875 \nQ 40.828125 74.21875 47.359375 69.109375 \nQ 53.90625 64.015625 53.90625 55.328125 \nQ 53.90625 49.265625 50.4375 45.09375 \nQ 46.96875 40.921875 40.578125 39.3125 \nz\n\" id=\"DejaVuSans-51\"/>\n        <path d=\"M 31.78125 34.625 \nQ 24.75 34.625 20.71875 30.859375 \nQ 16.703125 27.09375 16.703125 20.515625 \nQ 16.703125 13.921875 20.71875 10.15625 \nQ 24.75 6.390625 31.78125 6.390625 \nQ 38.8125 6.390625 42.859375 10.171875 \nQ 46.921875 13.96875 46.921875 20.515625 \nQ 46.921875 27.09375 42.890625 30.859375 \nQ 38.875 34.625 31.78125 34.625 \nz\nM 21.921875 38.8125 \nQ 15.578125 40.375 12.03125 44.71875 \nQ 8.5 49.078125 8.5 55.328125 \nQ 8.5 64.0625 14.71875 69.140625 \nQ 20.953125 74.21875 31.78125 74.21875 \nQ 42.671875 74.21875 48.875 69.140625 \nQ 55.078125 64.0625 55.078125 55.328125 \nQ 55.078125 49.078125 51.53125 44.71875 \nQ 48 40.375 41.703125 38.8125 \nQ 48.828125 37.15625 52.796875 32.3125 \nQ 56.78125 27.484375 56.78125 20.515625 \nQ 56.78125 9.90625 50.3125 4.234375 \nQ 43.84375 -1.421875 31.78125 -1.421875 \nQ 19.734375 -1.421875 13.25 4.234375 \nQ 6.78125 9.90625 6.78125 20.515625 \nQ 6.78125 27.484375 10.78125 32.3125 \nQ 14.796875 37.15625 21.921875 38.8125 \nz\nM 18.3125 54.390625 \nQ 18.3125 48.734375 21.84375 45.5625 \nQ 25.390625 42.390625 31.78125 42.390625 \nQ 38.140625 42.390625 41.71875 45.5625 \nQ 45.3125 48.734375 45.3125 54.390625 \nQ 45.3125 60.0625 41.71875 63.234375 \nQ 38.140625 66.40625 31.78125 66.40625 \nQ 25.390625 66.40625 21.84375 63.234375 \nQ 18.3125 60.0625 18.3125 54.390625 \nz\n\" id=\"DejaVuSans-56\"/>\n        <path d=\"M 10.984375 1.515625 \nL 10.984375 10.5 \nQ 14.703125 8.734375 18.5 7.8125 \nQ 22.3125 6.890625 25.984375 6.890625 \nQ 35.75 6.890625 40.890625 13.453125 \nQ 46.046875 20.015625 46.78125 33.40625 \nQ 43.953125 29.203125 39.59375 26.953125 \nQ 35.25 24.703125 29.984375 24.703125 \nQ 19.046875 24.703125 12.671875 31.3125 \nQ 6.296875 37.9375 6.296875 49.421875 \nQ 6.296875 60.640625 12.9375 67.421875 \nQ 19.578125 74.21875 30.609375 74.21875 \nQ 43.265625 74.21875 49.921875 64.515625 \nQ 56.59375 54.828125 56.59375 36.375 \nQ 56.59375 19.140625 48.40625 8.859375 \nQ 40.234375 -1.421875 26.421875 -1.421875 \nQ 22.703125 -1.421875 18.890625 -0.6875 \nQ 15.09375 0.046875 10.984375 1.515625 \nz\nM 30.609375 32.421875 \nQ 37.25 32.421875 41.125 36.953125 \nQ 45.015625 41.5 45.015625 49.421875 \nQ 45.015625 57.28125 41.125 61.84375 \nQ 37.25 66.40625 30.609375 66.40625 \nQ 23.96875 66.40625 20.09375 61.84375 \nQ 16.21875 57.28125 16.21875 49.421875 \nQ 16.21875 41.5 20.09375 36.953125 \nQ 23.96875 32.421875 30.609375 32.421875 \nz\n\" id=\"DejaVuSans-57\"/>\n       </defs>\n       <use xlink:href=\"#DejaVuSans-8722\"/>\n       <use x=\"83.789062\" xlink:href=\"#DejaVuSans-51\"/>\n       <use x=\"147.412109\" xlink:href=\"#DejaVuSans-46\"/>\n       <use x=\"179.199219\" xlink:href=\"#DejaVuSans-56\"/>\n       <use x=\"242.822266\" xlink:href=\"#DejaVuSans-57\"/>\n      </g>\n     </g>\n    </g>\n    <g id=\"ytick_3\">\n     <g id=\"line2d_15\">\n      <path clip-path=\"url(#pc8caaaab37)\" d=\"M 58.523438 109.143125 \nL 253.823438 109.143125 \n\" style=\"fill:none;stroke:#b0b0b0;stroke-linecap:square;stroke-width:0.8;\"/>\n     </g>\n     <g id=\"line2d_16\">\n      <g>\n       <use style=\"stroke:#000000;stroke-width:0.8;\" x=\"58.523438\" xlink:href=\"#mff3a717bf4\" y=\"109.143125\"/>\n      </g>\n     </g>\n     <g id=\"text_9\">\n      <!-- −2.78 -->\n      <g transform=\"translate(20.878125 112.942344)scale(0.1 -0.1)\">\n       <defs>\n        <path d=\"M 19.1875 8.296875 \nL 53.609375 8.296875 \nL 53.609375 0 \nL 7.328125 0 \nL 7.328125 8.296875 \nQ 12.9375 14.109375 22.625 23.890625 \nQ 32.328125 33.6875 34.8125 36.53125 \nQ 39.546875 41.84375 41.421875 45.53125 \nQ 43.3125 49.21875 43.3125 52.78125 \nQ 43.3125 58.59375 39.234375 62.25 \nQ 35.15625 65.921875 28.609375 65.921875 \nQ 23.96875 65.921875 18.8125 64.3125 \nQ 13.671875 62.703125 7.8125 59.421875 \nL 7.8125 69.390625 \nQ 13.765625 71.78125 18.9375 73 \nQ 24.125 74.21875 28.421875 74.21875 \nQ 39.75 74.21875 46.484375 68.546875 \nQ 53.21875 62.890625 53.21875 53.421875 \nQ 53.21875 48.921875 51.53125 44.890625 \nQ 49.859375 40.875 45.40625 35.40625 \nQ 44.1875 33.984375 37.640625 27.21875 \nQ 31.109375 20.453125 19.1875 8.296875 \nz\n\" id=\"DejaVuSans-50\"/>\n        <path d=\"M 8.203125 72.90625 \nL 55.078125 72.90625 \nL 55.078125 68.703125 \nL 28.609375 0 \nL 18.3125 0 \nL 43.21875 64.59375 \nL 8.203125 64.59375 \nz\n\" id=\"DejaVuSans-55\"/>\n       </defs>\n       <use xlink:href=\"#DejaVuSans-8722\"/>\n       <use x=\"83.789062\" xlink:href=\"#DejaVuSans-50\"/>\n       <use x=\"147.412109\" xlink:href=\"#DejaVuSans-46\"/>\n       <use x=\"179.199219\" xlink:href=\"#DejaVuSans-55\"/>\n       <use x=\"242.822266\" xlink:href=\"#DejaVuSans-56\"/>\n      </g>\n     </g>\n    </g>\n    <g id=\"ytick_4\">\n     <g id=\"line2d_17\">\n      <path clip-path=\"url(#pc8caaaab37)\" d=\"M 58.523438 101.593125 \nL 253.823438 101.593125 \n\" style=\"fill:none;stroke:#b0b0b0;stroke-linecap:square;stroke-width:0.8;\"/>\n     </g>\n     <g id=\"line2d_18\">\n      <g>\n       <use style=\"stroke:#000000;stroke-width:0.8;\" x=\"58.523438\" xlink:href=\"#mff3a717bf4\" y=\"101.593125\"/>\n      </g>\n     </g>\n     <g id=\"text_10\">\n      <!-- −1.67 -->\n      <g transform=\"translate(20.878125 105.392344)scale(0.1 -0.1)\">\n       <defs>\n        <path d=\"M 33.015625 40.375 \nQ 26.375 40.375 22.484375 35.828125 \nQ 18.609375 31.296875 18.609375 23.390625 \nQ 18.609375 15.53125 22.484375 10.953125 \nQ 26.375 6.390625 33.015625 6.390625 \nQ 39.65625 6.390625 43.53125 10.953125 \nQ 47.40625 15.53125 47.40625 23.390625 \nQ 47.40625 31.296875 43.53125 35.828125 \nQ 39.65625 40.375 33.015625 40.375 \nz\nM 52.59375 71.296875 \nL 52.59375 62.3125 \nQ 48.875 64.0625 45.09375 64.984375 \nQ 41.3125 65.921875 37.59375 65.921875 \nQ 27.828125 65.921875 22.671875 59.328125 \nQ 17.53125 52.734375 16.796875 39.40625 \nQ 19.671875 43.65625 24.015625 45.921875 \nQ 28.375 48.1875 33.59375 48.1875 \nQ 44.578125 48.1875 50.953125 41.515625 \nQ 57.328125 34.859375 57.328125 23.390625 \nQ 57.328125 12.15625 50.6875 5.359375 \nQ 44.046875 -1.421875 33.015625 -1.421875 \nQ 20.359375 -1.421875 13.671875 8.265625 \nQ 6.984375 17.96875 6.984375 36.375 \nQ 6.984375 53.65625 15.1875 63.9375 \nQ 23.390625 74.21875 37.203125 74.21875 \nQ 40.921875 74.21875 44.703125 73.484375 \nQ 48.484375 72.75 52.59375 71.296875 \nz\n\" id=\"DejaVuSans-54\"/>\n       </defs>\n       <use xlink:href=\"#DejaVuSans-8722\"/>\n       <use x=\"83.789062\" xlink:href=\"#DejaVuSans-49\"/>\n       <use x=\"147.412109\" xlink:href=\"#DejaVuSans-46\"/>\n       <use x=\"179.199219\" xlink:href=\"#DejaVuSans-54\"/>\n       <use x=\"242.822266\" xlink:href=\"#DejaVuSans-55\"/>\n      </g>\n     </g>\n    </g>\n    <g id=\"ytick_5\">\n     <g id=\"line2d_19\">\n      <path clip-path=\"url(#pc8caaaab37)\" d=\"M 58.523438 94.043125 \nL 253.823438 94.043125 \n\" style=\"fill:none;stroke:#b0b0b0;stroke-linecap:square;stroke-width:0.8;\"/>\n     </g>\n     <g id=\"line2d_20\">\n      <g>\n       <use style=\"stroke:#000000;stroke-width:0.8;\" x=\"58.523438\" xlink:href=\"#mff3a717bf4\" y=\"94.043125\"/>\n      </g>\n     </g>\n     <g id=\"text_11\">\n      <!-- −0.56 -->\n      <g transform=\"translate(20.878125 97.842344)scale(0.1 -0.1)\">\n       <use xlink:href=\"#DejaVuSans-8722\"/>\n       <use x=\"83.789062\" xlink:href=\"#DejaVuSans-48\"/>\n       <use x=\"147.412109\" xlink:href=\"#DejaVuSans-46\"/>\n       <use x=\"179.199219\" xlink:href=\"#DejaVuSans-53\"/>\n       <use x=\"242.822266\" xlink:href=\"#DejaVuSans-54\"/>\n      </g>\n     </g>\n    </g>\n    <g id=\"ytick_6\">\n     <g id=\"line2d_21\">\n      <path clip-path=\"url(#pc8caaaab37)\" d=\"M 58.523438 86.493125 \nL 253.823438 86.493125 \n\" style=\"fill:none;stroke:#b0b0b0;stroke-linecap:square;stroke-width:0.8;\"/>\n     </g>\n     <g id=\"line2d_22\">\n      <g>\n       <use style=\"stroke:#000000;stroke-width:0.8;\" x=\"58.523438\" xlink:href=\"#mff3a717bf4\" y=\"86.493125\"/>\n      </g>\n     </g>\n     <g id=\"text_12\">\n      <!-- 0.56 -->\n      <g transform=\"translate(29.257812 90.292344)scale(0.1 -0.1)\">\n       <use xlink:href=\"#DejaVuSans-48\"/>\n       <use x=\"63.623047\" xlink:href=\"#DejaVuSans-46\"/>\n       <use x=\"95.410156\" xlink:href=\"#DejaVuSans-53\"/>\n       <use x=\"159.033203\" xlink:href=\"#DejaVuSans-54\"/>\n      </g>\n     </g>\n    </g>\n    <g id=\"ytick_7\">\n     <g id=\"line2d_23\">\n      <path clip-path=\"url(#pc8caaaab37)\" d=\"M 58.523438 78.943125 \nL 253.823438 78.943125 \n\" style=\"fill:none;stroke:#b0b0b0;stroke-linecap:square;stroke-width:0.8;\"/>\n     </g>\n     <g id=\"line2d_24\">\n      <g>\n       <use style=\"stroke:#000000;stroke-width:0.8;\" x=\"58.523438\" xlink:href=\"#mff3a717bf4\" y=\"78.943125\"/>\n      </g>\n     </g>\n     <g id=\"text_13\">\n      <!-- 1.67 -->\n      <g transform=\"translate(29.257812 82.742344)scale(0.1 -0.1)\">\n       <use xlink:href=\"#DejaVuSans-49\"/>\n       <use x=\"63.623047\" xlink:href=\"#DejaVuSans-46\"/>\n       <use x=\"95.410156\" xlink:href=\"#DejaVuSans-54\"/>\n       <use x=\"159.033203\" xlink:href=\"#DejaVuSans-55\"/>\n      </g>\n     </g>\n    </g>\n    <g id=\"ytick_8\">\n     <g id=\"line2d_25\">\n      <path clip-path=\"url(#pc8caaaab37)\" d=\"M 58.523438 71.393125 \nL 253.823438 71.393125 \n\" style=\"fill:none;stroke:#b0b0b0;stroke-linecap:square;stroke-width:0.8;\"/>\n     </g>\n     <g id=\"line2d_26\">\n      <g>\n       <use style=\"stroke:#000000;stroke-width:0.8;\" x=\"58.523438\" xlink:href=\"#mff3a717bf4\" y=\"71.393125\"/>\n      </g>\n     </g>\n     <g id=\"text_14\">\n      <!-- 2.78 -->\n      <g transform=\"translate(29.257812 75.192344)scale(0.1 -0.1)\">\n       <use xlink:href=\"#DejaVuSans-50\"/>\n       <use x=\"63.623047\" xlink:href=\"#DejaVuSans-46\"/>\n       <use x=\"95.410156\" xlink:href=\"#DejaVuSans-55\"/>\n       <use x=\"159.033203\" xlink:href=\"#DejaVuSans-56\"/>\n      </g>\n     </g>\n    </g>\n    <g id=\"ytick_9\">\n     <g id=\"line2d_27\">\n      <path clip-path=\"url(#pc8caaaab37)\" d=\"M 58.523438 63.843125 \nL 253.823438 63.843125 \n\" style=\"fill:none;stroke:#b0b0b0;stroke-linecap:square;stroke-width:0.8;\"/>\n     </g>\n     <g id=\"line2d_28\">\n      <g>\n       <use style=\"stroke:#000000;stroke-width:0.8;\" x=\"58.523438\" xlink:href=\"#mff3a717bf4\" y=\"63.843125\"/>\n      </g>\n     </g>\n     <g id=\"text_15\">\n      <!-- 3.89 -->\n      <g transform=\"translate(29.257812 67.642344)scale(0.1 -0.1)\">\n       <use xlink:href=\"#DejaVuSans-51\"/>\n       <use x=\"63.623047\" xlink:href=\"#DejaVuSans-46\"/>\n       <use x=\"95.410156\" xlink:href=\"#DejaVuSans-56\"/>\n       <use x=\"159.033203\" xlink:href=\"#DejaVuSans-57\"/>\n      </g>\n     </g>\n    </g>\n    <g id=\"ytick_10\">\n     <g id=\"line2d_29\">\n      <path clip-path=\"url(#pc8caaaab37)\" d=\"M 58.523438 56.293125 \nL 253.823438 56.293125 \n\" style=\"fill:none;stroke:#b0b0b0;stroke-linecap:square;stroke-width:0.8;\"/>\n     </g>\n     <g id=\"line2d_30\">\n      <g>\n       <use style=\"stroke:#000000;stroke-width:0.8;\" x=\"58.523438\" xlink:href=\"#mff3a717bf4\" y=\"56.293125\"/>\n      </g>\n     </g>\n     <g id=\"text_16\">\n      <!-- 5.00 -->\n      <g transform=\"translate(29.257812 60.092344)scale(0.1 -0.1)\">\n       <use xlink:href=\"#DejaVuSans-53\"/>\n       <use x=\"63.623047\" xlink:href=\"#DejaVuSans-46\"/>\n       <use x=\"95.410156\" xlink:href=\"#DejaVuSans-48\"/>\n       <use x=\"159.033203\" xlink:href=\"#DejaVuSans-48\"/>\n      </g>\n     </g>\n    </g>\n    <g id=\"text_17\">\n     <!-- f(x) -->\n     <g transform=\"translate(14.798437 98.889219)rotate(-90)scale(0.1 -0.1)\">\n      <defs>\n       <path d=\"M 37.109375 75.984375 \nL 37.109375 68.5 \nL 28.515625 68.5 \nQ 23.6875 68.5 21.796875 66.546875 \nQ 19.921875 64.59375 19.921875 59.515625 \nL 19.921875 54.6875 \nL 34.71875 54.6875 \nL 34.71875 47.703125 \nL 19.921875 47.703125 \nL 19.921875 0 \nL 10.890625 0 \nL 10.890625 47.703125 \nL 2.296875 47.703125 \nL 2.296875 54.6875 \nL 10.890625 54.6875 \nL 10.890625 58.5 \nQ 10.890625 67.625 15.140625 71.796875 \nQ 19.390625 75.984375 28.609375 75.984375 \nz\n\" id=\"DejaVuSans-102\"/>\n       <path d=\"M 31 75.875 \nQ 24.46875 64.65625 21.28125 53.65625 \nQ 18.109375 42.671875 18.109375 31.390625 \nQ 18.109375 20.125 21.3125 9.0625 \nQ 24.515625 -2 31 -13.1875 \nL 23.1875 -13.1875 \nQ 15.875 -1.703125 12.234375 9.375 \nQ 8.59375 20.453125 8.59375 31.390625 \nQ 8.59375 42.28125 12.203125 53.3125 \nQ 15.828125 64.359375 23.1875 75.875 \nz\n\" id=\"DejaVuSans-40\"/>\n       <path d=\"M 8.015625 75.875 \nL 15.828125 75.875 \nQ 23.140625 64.359375 26.78125 53.3125 \nQ 30.421875 42.28125 30.421875 31.390625 \nQ 30.421875 20.453125 26.78125 9.375 \nQ 23.140625 -1.703125 15.828125 -13.1875 \nL 8.015625 -13.1875 \nQ 14.5 -2 17.703125 9.0625 \nQ 20.90625 20.125 20.90625 31.390625 \nQ 20.90625 42.671875 17.703125 53.65625 \nQ 14.5 64.65625 8.015625 75.875 \nz\n\" id=\"DejaVuSans-41\"/>\n      </defs>\n      <use xlink:href=\"#DejaVuSans-102\"/>\n      <use x=\"35.205078\" xlink:href=\"#DejaVuSans-40\"/>\n      <use x=\"74.21875\" xlink:href=\"#DejaVuSans-120\"/>\n      <use x=\"133.398438\" xlink:href=\"#DejaVuSans-41\"/>\n     </g>\n    </g>\n   </g>\n   <g id=\"line2d_31\">\n    <path clip-path=\"url(#pc8caaaab37)\" d=\"M 74.798438 90.268126 \nL 77.646628 79.501865 \nL 80.087934 71.110059 \nL 82.203732 64.584809 \nL 84.156777 59.250421 \nL 85.947068 54.984805 \nL 87.574605 51.649667 \nL 89.120765 48.973662 \nL 90.504172 46.991846 \nL 91.806202 45.483938 \nL 93.026855 44.383708 \nL 94.247508 43.583599 \nL 95.386784 43.103191 \nL 96.52606 42.874358 \nL 97.583959 42.881221 \nL 98.723235 43.117315 \nL 99.862511 43.581687 \nL 101.083164 44.320927 \nL 102.385194 45.36976 \nL 103.849977 46.848455 \nL 105.477515 48.829292 \nL 107.267806 51.371015 \nL 109.383604 54.787187 \nL 111.906287 59.310654 \nL 115.405492 66.084793 \nL 122.241148 79.385617 \nL 125.007927 84.23435 \nL 127.3678 87.930824 \nL 129.402173 90.726019 \nL 131.273796 92.94014 \nL 133.064044 94.715123 \nL 134.691543 96.026258 \nL 136.237666 97.000136 \nL 137.78379 97.708922 \nL 139.248538 98.139018 \nL 140.713287 98.340387 \nL 142.178035 98.32198 \nL 143.724159 98.077081 \nL 145.351657 97.587426 \nL 147.060531 96.842382 \nL 149.013529 95.740219 \nL 151.292027 94.182441 \nL 154.221524 91.887616 \nL 161.789397 85.824485 \nL 164.067894 84.353024 \nL 166.020892 83.346459 \nL 167.811141 82.674941 \nL 169.438639 82.302002 \nL 170.984763 82.177534 \nL 172.449512 82.280281 \nL 173.914261 82.608136 \nL 175.37901 83.168462 \nL 176.843758 83.965668 \nL 178.389882 85.065619 \nL 180.01738 86.50781 \nL 181.726253 88.328176 \nL 183.597877 90.665202 \nL 185.63225 93.58254 \nL 187.910748 97.262696 \nL 190.514788 101.905863 \nL 194.013993 108.641223 \nL 201.419287 123.02868 \nL 203.94197 127.3791 \nL 206.057769 130.598595 \nL 207.84806 132.93864 \nL 209.475597 134.709625 \nL 210.94038 135.979294 \nL 212.24241 136.827505 \nL 213.463063 137.367081 \nL 214.602339 137.635929 \nL 215.741615 137.668615 \nL 216.799514 137.4804 \nL 217.857414 137.076012 \nL 218.99669 136.393522 \nL 220.135966 135.450586 \nL 221.356615 134.147861 \nL 222.658645 132.422818 \nL 224.042051 130.210747 \nL 225.506835 127.446461 \nL 227.134372 123.875612 \nL 228.843286 119.578833 \nL 230.714954 114.26166 \nL 232.830752 107.539039 \nL 235.190681 99.24901 \nL 237.469234 90.579486 \nL 237.469234 90.579486 \n\" style=\"fill:none;stroke:#1f77b4;stroke-linecap:square;stroke-width:1.5;\"/>\n   </g>\n   <g id=\"line2d_32\">\n    <path clip-path=\"url(#pc8caaaab37)\" d=\"M 237.548438 90.268124 \nL 160.854307 86.502213 \nL 146.354829 97.176899 \nL 137.623207 97.64757 \nL 145.241393 97.627668 \nL 138.215849 97.859987 \nL 144.571083 97.850606 \nL 138.640099 97.988549 \nL 144.098402 97.984784 \nL 138.967881 98.07455 \nL 143.737994 98.073891 \n\" style=\"fill:none;stroke:#ff0000;stroke-linecap:square;stroke-width:1.5;\"/>\n    <defs>\n     <path d=\"M 0 3 \nC 0.795609 3 1.55874 2.683901 2.12132 2.12132 \nC 2.683901 1.55874 3 0.795609 3 0 \nC 3 -0.795609 2.683901 -1.55874 2.12132 -2.12132 \nC 1.55874 -2.683901 0.795609 -3 0 -3 \nC -0.795609 -3 -1.55874 -2.683901 -2.12132 -2.12132 \nC -2.683901 -1.55874 -3 -0.795609 -3 0 \nC -3 0.795609 -2.683901 1.55874 -2.12132 2.12132 \nC -1.55874 2.683901 -0.795609 3 0 3 \nz\n\" id=\"m786d3f3217\" style=\"stroke:#ff0000;\"/>\n    </defs>\n    <g clip-path=\"url(#pc8caaaab37)\">\n     <use style=\"fill:#ff0000;stroke:#ff0000;\" x=\"237.548438\" xlink:href=\"#m786d3f3217\" y=\"90.268124\"/>\n     <use style=\"fill:#ff0000;stroke:#ff0000;\" x=\"160.854307\" xlink:href=\"#m786d3f3217\" y=\"86.502213\"/>\n     <use style=\"fill:#ff0000;stroke:#ff0000;\" x=\"146.354829\" xlink:href=\"#m786d3f3217\" y=\"97.176899\"/>\n     <use style=\"fill:#ff0000;stroke:#ff0000;\" x=\"137.623207\" xlink:href=\"#m786d3f3217\" y=\"97.64757\"/>\n     <use style=\"fill:#ff0000;stroke:#ff0000;\" x=\"145.241393\" xlink:href=\"#m786d3f3217\" y=\"97.627668\"/>\n     <use style=\"fill:#ff0000;stroke:#ff0000;\" x=\"138.215849\" xlink:href=\"#m786d3f3217\" y=\"97.859987\"/>\n     <use style=\"fill:#ff0000;stroke:#ff0000;\" x=\"144.571083\" xlink:href=\"#m786d3f3217\" y=\"97.850606\"/>\n     <use style=\"fill:#ff0000;stroke:#ff0000;\" x=\"138.640099\" xlink:href=\"#m786d3f3217\" y=\"97.988549\"/>\n     <use style=\"fill:#ff0000;stroke:#ff0000;\" x=\"144.098402\" xlink:href=\"#m786d3f3217\" y=\"97.984784\"/>\n     <use style=\"fill:#ff0000;stroke:#ff0000;\" x=\"138.967881\" xlink:href=\"#m786d3f3217\" y=\"98.07455\"/>\n     <use style=\"fill:#ff0000;stroke:#ff0000;\" x=\"143.737994\" xlink:href=\"#m786d3f3217\" y=\"98.073891\"/>\n    </g>\n   </g>\n   <g id=\"patch_3\">\n    <path d=\"M 58.523438 158.218125 \nL 58.523438 22.318125 \n\" style=\"fill:none;stroke:#000000;stroke-linecap:square;stroke-linejoin:miter;stroke-width:0.8;\"/>\n   </g>\n   <g id=\"patch_4\">\n    <path d=\"M 253.823438 158.218125 \nL 253.823438 22.318125 \n\" style=\"fill:none;stroke:#000000;stroke-linecap:square;stroke-linejoin:miter;stroke-width:0.8;\"/>\n   </g>\n   <g id=\"patch_5\">\n    <path d=\"M 58.523438 158.218125 \nL 253.823438 158.218125 \n\" style=\"fill:none;stroke:#000000;stroke-linecap:square;stroke-linejoin:miter;stroke-width:0.8;\"/>\n   </g>\n   <g id=\"patch_6\">\n    <path d=\"M 58.523438 22.318125 \nL 253.823438 22.318125 \n\" style=\"fill:none;stroke:#000000;stroke-linecap:square;stroke-linejoin:miter;stroke-width:0.8;\"/>\n   </g>\n   <g id=\"text_18\">\n    <!-- mark -->\n    <g transform=\"translate(156.173438 76.678125)scale(0.1 -0.1)\">\n     <defs>\n      <path d=\"M 52 44.1875 \nQ 55.375 50.25 60.0625 53.125 \nQ 64.75 56 71.09375 56 \nQ 79.640625 56 84.28125 50.015625 \nQ 88.921875 44.046875 88.921875 33.015625 \nL 88.921875 0 \nL 79.890625 0 \nL 79.890625 32.71875 \nQ 79.890625 40.578125 77.09375 44.375 \nQ 74.3125 48.1875 68.609375 48.1875 \nQ 61.625 48.1875 57.5625 43.546875 \nQ 53.515625 38.921875 53.515625 30.90625 \nL 53.515625 0 \nL 44.484375 0 \nL 44.484375 32.71875 \nQ 44.484375 40.625 41.703125 44.40625 \nQ 38.921875 48.1875 33.109375 48.1875 \nQ 26.21875 48.1875 22.15625 43.53125 \nQ 18.109375 38.875 18.109375 30.90625 \nL 18.109375 0 \nL 9.078125 0 \nL 9.078125 54.6875 \nL 18.109375 54.6875 \nL 18.109375 46.1875 \nQ 21.1875 51.21875 25.484375 53.609375 \nQ 29.78125 56 35.6875 56 \nQ 41.65625 56 45.828125 52.96875 \nQ 50 49.953125 52 44.1875 \nz\n\" id=\"DejaVuSans-109\"/>\n      <path d=\"M 34.28125 27.484375 \nQ 23.390625 27.484375 19.1875 25 \nQ 14.984375 22.515625 14.984375 16.5 \nQ 14.984375 11.71875 18.140625 8.90625 \nQ 21.296875 6.109375 26.703125 6.109375 \nQ 34.1875 6.109375 38.703125 11.40625 \nQ 43.21875 16.703125 43.21875 25.484375 \nL 43.21875 27.484375 \nz\nM 52.203125 31.203125 \nL 52.203125 0 \nL 43.21875 0 \nL 43.21875 8.296875 \nQ 40.140625 3.328125 35.546875 0.953125 \nQ 30.953125 -1.421875 24.3125 -1.421875 \nQ 15.921875 -1.421875 10.953125 3.296875 \nQ 6 8.015625 6 15.921875 \nQ 6 25.140625 12.171875 29.828125 \nQ 18.359375 34.515625 30.609375 34.515625 \nL 43.21875 34.515625 \nL 43.21875 35.40625 \nQ 43.21875 41.609375 39.140625 45 \nQ 35.0625 48.390625 27.6875 48.390625 \nQ 23 48.390625 18.546875 47.265625 \nQ 14.109375 46.140625 10.015625 43.890625 \nL 10.015625 52.203125 \nQ 14.9375 54.109375 19.578125 55.046875 \nQ 24.21875 56 28.609375 56 \nQ 40.484375 56 46.34375 49.84375 \nQ 52.203125 43.703125 52.203125 31.203125 \nz\n\" id=\"DejaVuSans-97\"/>\n      <path d=\"M 41.109375 46.296875 \nQ 39.59375 47.171875 37.8125 47.578125 \nQ 36.03125 48 33.890625 48 \nQ 26.265625 48 22.1875 43.046875 \nQ 18.109375 38.09375 18.109375 28.8125 \nL 18.109375 0 \nL 9.078125 0 \nL 9.078125 54.6875 \nL 18.109375 54.6875 \nL 18.109375 46.1875 \nQ 20.953125 51.171875 25.484375 53.578125 \nQ 30.03125 56 36.53125 56 \nQ 37.453125 56 38.578125 55.875 \nQ 39.703125 55.765625 41.0625 55.515625 \nz\n\" id=\"DejaVuSans-114\"/>\n      <path d=\"M 9.078125 75.984375 \nL 18.109375 75.984375 \nL 18.109375 31.109375 \nL 44.921875 54.6875 \nL 56.390625 54.6875 \nL 27.390625 29.109375 \nL 57.625 0 \nL 45.90625 0 \nL 18.109375 26.703125 \nL 18.109375 0 \nL 9.078125 0 \nz\n\" id=\"DejaVuSans-107\"/>\n     </defs>\n     <use xlink:href=\"#DejaVuSans-109\"/>\n     <use x=\"97.412109\" xlink:href=\"#DejaVuSans-97\"/>\n     <use x=\"158.691406\" xlink:href=\"#DejaVuSans-114\"/>\n     <use x=\"199.804688\" xlink:href=\"#DejaVuSans-107\"/>\n    </g>\n   </g>\n   <g id=\"text_19\">\n    <!-- wan -->\n    <g transform=\"translate(143.787188 16.318125)scale(0.12 -0.12)\">\n     <defs>\n      <path d=\"M 4.203125 54.6875 \nL 13.1875 54.6875 \nL 24.421875 12.015625 \nL 35.59375 54.6875 \nL 46.1875 54.6875 \nL 57.421875 12.015625 \nL 68.609375 54.6875 \nL 77.59375 54.6875 \nL 63.28125 0 \nL 52.6875 0 \nL 40.921875 44.828125 \nL 29.109375 0 \nL 18.5 0 \nz\n\" id=\"DejaVuSans-119\"/>\n      <path d=\"M 54.890625 33.015625 \nL 54.890625 0 \nL 45.90625 0 \nL 45.90625 32.71875 \nQ 45.90625 40.484375 42.875 44.328125 \nQ 39.84375 48.1875 33.796875 48.1875 \nQ 26.515625 48.1875 22.3125 43.546875 \nQ 18.109375 38.921875 18.109375 30.90625 \nL 18.109375 0 \nL 9.078125 0 \nL 9.078125 54.6875 \nL 18.109375 54.6875 \nL 18.109375 46.1875 \nQ 21.34375 51.125 25.703125 53.5625 \nQ 30.078125 56 35.796875 56 \nQ 45.21875 56 50.046875 50.171875 \nQ 54.890625 44.34375 54.890625 33.015625 \nz\n\" id=\"DejaVuSans-110\"/>\n     </defs>\n     <use xlink:href=\"#DejaVuSans-119\"/>\n     <use x=\"81.787109\" xlink:href=\"#DejaVuSans-97\"/>\n     <use x=\"143.066406\" xlink:href=\"#DejaVuSans-110\"/>\n    </g>\n   </g>\n   <g id=\"legend_1\">\n    <g id=\"patch_7\">\n     <path d=\"M 208.460938 59.674375 \nL 246.823438 59.674375 \nQ 248.823438 59.674375 248.823438 57.674375 \nL 248.823438 29.318125 \nQ 248.823438 27.318125 246.823438 27.318125 \nL 208.460938 27.318125 \nQ 206.460938 27.318125 206.460938 29.318125 \nL 206.460938 57.674375 \nQ 206.460938 59.674375 208.460938 59.674375 \nz\n\" style=\"fill:#ffffff;opacity:0.8;stroke:#cccccc;stroke-linejoin:miter;\"/>\n    </g>\n    <g id=\"line2d_33\">\n     <path d=\"M 210.460938 35.416562 \nL 230.460938 35.416562 \n\" style=\"fill:none;stroke:#1f77b4;stroke-linecap:square;stroke-width:1.5;\"/>\n    </g>\n    <g id=\"line2d_34\"/>\n    <g id=\"text_20\">\n     <!-- 1 -->\n     <g transform=\"translate(238.460938 38.916562)scale(0.1 -0.1)\">\n      <use xlink:href=\"#DejaVuSans-49\"/>\n     </g>\n    </g>\n    <g id=\"line2d_35\">\n     <path d=\"M 210.460938 50.094687 \nL 230.460938 50.094687 \n\" style=\"fill:none;stroke:#ff0000;stroke-linecap:square;stroke-width:1.5;\"/>\n    </g>\n    <g id=\"line2d_36\">\n     <g>\n      <use style=\"fill:#ff0000;stroke:#ff0000;\" x=\"220.460938\" xlink:href=\"#m786d3f3217\" y=\"50.094687\"/>\n     </g>\n    </g>\n    <g id=\"text_21\">\n     <!-- 2 -->\n     <g transform=\"translate(238.460938 53.594687)scale(0.1 -0.1)\">\n      <use xlink:href=\"#DejaVuSans-50\"/>\n     </g>\n    </g>\n   </g>\n  </g>\n </g>\n <defs>\n  <clipPath id=\"pc8caaaab37\">\n   <rect height=\"135.9\" width=\"195.3\" x=\"58.523438\" y=\"22.318125\"/>\n  </clipPath>\n </defs>\n</svg>\n",
      "text/plain": [
       "<Figure size 252x180 with 1 Axes>"
      ]
     },
     "metadata": {
      "needs_background": "light"
     },
     "output_type": "display_data"
    }
   ],
   "source": [
    "# 画着玩\n",
    "c = tf.constant(0.15 * np.pi)\n",
    "\n",
    "def f(x):  # 目标函数\n",
    "    return x * tf.cos(c * x)\n",
    "\n",
    "def f_grad(x):  # 目标函数的梯度\n",
    "    return tf.cos(c * x) - c * x * tf.sin(c * x)\n",
    "\n",
    "def my_gd(x,eta):\n",
    "    x = x\n",
    "    results = [x]\n",
    "    for i in range(10):\n",
    "        x -= eta * f_grad(x)\n",
    "        results.append(float(x))\n",
    "        print(f'epoch {i+1}, x: {x:f}')\n",
    "    return results\n",
    "\n",
    "def trace(res):\n",
    "    n = max(abs(min(res)), abs(max(res)))\n",
    "    f_line = tf.range(-n, n, 0.01)\n",
    "    plt.plot(f_line, [f(x) for x in f_line])\n",
    "    plt.plot(res,[f(x) for x in res],'r-o')\n",
    "    plt.grid()\n",
    "    plt.xlabel('x')\n",
    "    plt.ylabel('f(x)')\n",
    "    plt.legend([1,2])\n",
    "    plt.xlim([-12,12])\n",
    "    plt.ylim([-10,10])\n",
    "    plt.yticks(np.linspace(-5,5,10))\n",
    "    plt.text(0,2,'mark')\n",
    "    plt.title('wan')\n",
    "\n",
    "trace(my_gd(10,2))"
   ]
  },
  {
   "cell_type": "markdown",
   "metadata": {
    "ExecuteTime": {
     "end_time": "2022-10-18T16:10:20.976283Z",
     "start_time": "2022-10-18T16:10:20.969994Z"
    }
   },
   "source": [
    "#### 11.3.2. 多元梯度下降"
   ]
  },
  {
   "cell_type": "markdown",
   "metadata": {
    "ExecuteTime": {
     "end_time": "2022-09-04T11:01:55.053812Z",
     "start_time": "2022-09-04T11:01:55.049586Z"
    }
   },
   "source": [
    "现在我们对单变量的情况有了更好的理解，让我们考虑一下\n",
    "$\\mathbf{x}=\\left[x_1, x_2, \\ldots, x_d\\right]^{\\top}$的情况\n",
    "即目标函数$f:R^d -> R$将向量映射成标量。 相应地，它的梯度也是多元的：它是一个由d个偏导数组成的向量：\n",
    "$\\nabla f(\\mathbf{x})=\\left[\\frac{\\partial f(\\mathbf{x})}{\\partial x_1}, \\frac{\\partial f(\\mathbf{x})}{\\partial x_2}, \\ldots, \\frac{\\partial f(\\mathbf{x})}{\\partial x_d}\\right]^{\\top}$\n",
    "\n",
    "我们构造一个$f(x)=x_1^2+2x_2^2$,并有二维向量$[x_1,x_2]^T$作为输入,标量作为输出，梯度为$\\nabla f(x)=[2x_1,4x_2]^{\\top}$，\n",
    "我们将从初始位置[-5,-2]通过梯度下降观察x的轨迹。\n",
    "我们还需要两个辅助函数： 第一个是update函数，并将其应用于初始值20次； 第二个函数会显示x的轨迹。"
   ]
  },
  {
   "cell_type": "code",
   "execution_count": 40,
   "metadata": {
    "ExecuteTime": {
     "end_time": "2022-10-24T15:17:07.589858Z",
     "start_time": "2022-10-24T15:17:07.576387Z"
    }
   },
   "outputs": [],
   "source": [
    "def train_2d(trainer, steps=20, f_grad=None):  #@save\n",
    "    \"\"\"用定制的训练机优化2D目标函数\"\"\"\n",
    "    # s1和s2是稍后将使用的内部状态变量\n",
    "    x1, x2, s1, s2 = -5, -2, 0, 0\n",
    "    results = [(x1, x2)]\n",
    "    for i in range(steps):\n",
    "        if f_grad:\n",
    "            x1, x2, s1, s2 = trainer(x1, x2, s1, s2, f_grad)\n",
    "        else:\n",
    "            x1, x2, s1, s2 = trainer(x1, x2, s1, s2)\n",
    "        results.append((x1, x2))\n",
    "    print(f'epoch {i + 1}, x1: {float(x1):f}, x2: {float(x2):f}')\n",
    "    return results\n",
    "\n",
    "def show_trace_2d(f, results):  #@save\n",
    "    \"\"\"显示优化过程中2D变量的轨迹\"\"\"\n",
    "    d2l.set_figsize()\n",
    "    d2l.plt.plot(*zip(*results), '-o', color='#ff7f0e')\n",
    "    x1, x2 = tf.meshgrid(tf.range(-5.5, 1.0, 0.1),\n",
    "                          tf.range(-3.0, 1.0, 0.1))\n",
    "    d2l.plt.contour(x1, x2, f(x1, x2), colors='#1f77b4')\n",
    "    d2l.plt.xlabel('x1')\n",
    "    d2l.plt.ylabel('x2')"
   ]
  },
  {
   "cell_type": "markdown",
   "metadata": {},
   "source": [
    "接下来，我们观察学习率=0.1时优化变量x的轨迹。 可以看到，经过20步之后，x的值接近其位于[0,0]的最小值。 虽然进展相当顺利，但相当缓慢。"
   ]
  },
  {
   "cell_type": "code",
   "execution_count": 41,
   "metadata": {
    "ExecuteTime": {
     "end_time": "2022-10-24T15:17:11.085924Z",
     "start_time": "2022-10-24T15:17:10.242810Z"
    }
   },
   "outputs": [
    {
     "name": "stdout",
     "output_type": "stream",
     "text": [
      "epoch 20, x1: -0.057646, x2: -0.000073\n"
     ]
    },
    {
     "data": {
      "image/svg+xml": "<?xml version=\"1.0\" encoding=\"utf-8\" standalone=\"no\"?>\n<!DOCTYPE svg PUBLIC \"-//W3C//DTD SVG 1.1//EN\"\n  \"http://www.w3.org/Graphics/SVG/1.1/DTD/svg11.dtd\">\n<!-- Created with matplotlib (https://matplotlib.org/) -->\n<svg height=\"180.65625pt\" version=\"1.1\" viewBox=\"0 0 245.120313 180.65625\" width=\"245.120313pt\" xmlns=\"http://www.w3.org/2000/svg\" xmlns:xlink=\"http://www.w3.org/1999/xlink\">\n <metadata>\n  <rdf:RDF xmlns:cc=\"http://creativecommons.org/ns#\" xmlns:dc=\"http://purl.org/dc/elements/1.1/\" xmlns:rdf=\"http://www.w3.org/1999/02/22-rdf-syntax-ns#\">\n   <cc:Work>\n    <dc:type rdf:resource=\"http://purl.org/dc/dcmitype/StillImage\"/>\n    <dc:date>2022-10-24T23:17:11.053995</dc:date>\n    <dc:format>image/svg+xml</dc:format>\n    <dc:creator>\n     <cc:Agent>\n      <dc:title>Matplotlib v3.3.3, https://matplotlib.org/</dc:title>\n     </cc:Agent>\n    </dc:creator>\n   </cc:Work>\n  </rdf:RDF>\n </metadata>\n <defs>\n  <style type=\"text/css\">*{stroke-linecap:butt;stroke-linejoin:round;}</style>\n </defs>\n <g id=\"figure_1\">\n  <g id=\"patch_1\">\n   <path d=\"M 0 180.65625 \nL 245.120313 180.65625 \nL 245.120313 0 \nL 0 0 \nz\n\" style=\"fill:none;\"/>\n  </g>\n  <g id=\"axes_1\">\n   <g id=\"patch_2\">\n    <path d=\"M 42.620312 143.1 \nL 237.920313 143.1 \nL 237.920313 7.2 \nL 42.620312 7.2 \nz\n\" style=\"fill:#ffffff;\"/>\n   </g>\n   <g id=\"matplotlib.axis_1\">\n    <g id=\"xtick_1\">\n     <g id=\"line2d_1\">\n      <defs>\n       <path d=\"M 0 0 \nL 0 3.5 \n\" id=\"m190e3692cf\" style=\"stroke:#000000;stroke-width:0.8;\"/>\n      </defs>\n      <g>\n       <use style=\"stroke:#000000;stroke-width:0.8;\" x=\"88.393771\" xlink:href=\"#m190e3692cf\" y=\"143.1\"/>\n      </g>\n     </g>\n     <g id=\"text_1\">\n      <!-- −4 -->\n      <g transform=\"translate(81.022677 157.698438)scale(0.1 -0.1)\">\n       <defs>\n        <path d=\"M 10.59375 35.5 \nL 73.1875 35.5 \nL 73.1875 27.203125 \nL 10.59375 27.203125 \nz\n\" id=\"DejaVuSans-8722\"/>\n        <path d=\"M 37.796875 64.3125 \nL 12.890625 25.390625 \nL 37.796875 25.390625 \nz\nM 35.203125 72.90625 \nL 47.609375 72.90625 \nL 47.609375 25.390625 \nL 58.015625 25.390625 \nL 58.015625 17.1875 \nL 47.609375 17.1875 \nL 47.609375 0 \nL 37.796875 0 \nL 37.796875 17.1875 \nL 4.890625 17.1875 \nL 4.890625 26.703125 \nz\n\" id=\"DejaVuSans-52\"/>\n       </defs>\n       <use xlink:href=\"#DejaVuSans-8722\"/>\n       <use x=\"83.789062\" xlink:href=\"#DejaVuSans-52\"/>\n      </g>\n     </g>\n    </g>\n    <g id=\"xtick_2\">\n     <g id=\"line2d_2\">\n      <g>\n       <use style=\"stroke:#000000;stroke-width:0.8;\" x=\"149.425049\" xlink:href=\"#m190e3692cf\" y=\"143.1\"/>\n      </g>\n     </g>\n     <g id=\"text_2\">\n      <!-- −2 -->\n      <g transform=\"translate(142.053955 157.698438)scale(0.1 -0.1)\">\n       <defs>\n        <path d=\"M 19.1875 8.296875 \nL 53.609375 8.296875 \nL 53.609375 0 \nL 7.328125 0 \nL 7.328125 8.296875 \nQ 12.9375 14.109375 22.625 23.890625 \nQ 32.328125 33.6875 34.8125 36.53125 \nQ 39.546875 41.84375 41.421875 45.53125 \nQ 43.3125 49.21875 43.3125 52.78125 \nQ 43.3125 58.59375 39.234375 62.25 \nQ 35.15625 65.921875 28.609375 65.921875 \nQ 23.96875 65.921875 18.8125 64.3125 \nQ 13.671875 62.703125 7.8125 59.421875 \nL 7.8125 69.390625 \nQ 13.765625 71.78125 18.9375 73 \nQ 24.125 74.21875 28.421875 74.21875 \nQ 39.75 74.21875 46.484375 68.546875 \nQ 53.21875 62.890625 53.21875 53.421875 \nQ 53.21875 48.921875 51.53125 44.890625 \nQ 49.859375 40.875 45.40625 35.40625 \nQ 44.1875 33.984375 37.640625 27.21875 \nQ 31.109375 20.453125 19.1875 8.296875 \nz\n\" id=\"DejaVuSans-50\"/>\n       </defs>\n       <use xlink:href=\"#DejaVuSans-8722\"/>\n       <use x=\"83.789062\" xlink:href=\"#DejaVuSans-50\"/>\n      </g>\n     </g>\n    </g>\n    <g id=\"xtick_3\">\n     <g id=\"line2d_3\">\n      <g>\n       <use style=\"stroke:#000000;stroke-width:0.8;\" x=\"210.456327\" xlink:href=\"#m190e3692cf\" y=\"143.1\"/>\n      </g>\n     </g>\n     <g id=\"text_3\">\n      <!-- 0 -->\n      <g transform=\"translate(207.275077 157.698438)scale(0.1 -0.1)\">\n       <defs>\n        <path d=\"M 31.78125 66.40625 \nQ 24.171875 66.40625 20.328125 58.90625 \nQ 16.5 51.421875 16.5 36.375 \nQ 16.5 21.390625 20.328125 13.890625 \nQ 24.171875 6.390625 31.78125 6.390625 \nQ 39.453125 6.390625 43.28125 13.890625 \nQ 47.125 21.390625 47.125 36.375 \nQ 47.125 51.421875 43.28125 58.90625 \nQ 39.453125 66.40625 31.78125 66.40625 \nz\nM 31.78125 74.21875 \nQ 44.046875 74.21875 50.515625 64.515625 \nQ 56.984375 54.828125 56.984375 36.375 \nQ 56.984375 17.96875 50.515625 8.265625 \nQ 44.046875 -1.421875 31.78125 -1.421875 \nQ 19.53125 -1.421875 13.0625 8.265625 \nQ 6.59375 17.96875 6.59375 36.375 \nQ 6.59375 54.828125 13.0625 64.515625 \nQ 19.53125 74.21875 31.78125 74.21875 \nz\n\" id=\"DejaVuSans-48\"/>\n       </defs>\n       <use xlink:href=\"#DejaVuSans-48\"/>\n      </g>\n     </g>\n    </g>\n    <g id=\"text_4\">\n     <!-- x1 -->\n     <g transform=\"translate(134.129687 171.376563)scale(0.1 -0.1)\">\n      <defs>\n       <path d=\"M 54.890625 54.6875 \nL 35.109375 28.078125 \nL 55.90625 0 \nL 45.3125 0 \nL 29.390625 21.484375 \nL 13.484375 0 \nL 2.875 0 \nL 24.125 28.609375 \nL 4.6875 54.6875 \nL 15.28125 54.6875 \nL 29.78125 35.203125 \nL 44.28125 54.6875 \nz\n\" id=\"DejaVuSans-120\"/>\n       <path d=\"M 12.40625 8.296875 \nL 28.515625 8.296875 \nL 28.515625 63.921875 \nL 10.984375 60.40625 \nL 10.984375 69.390625 \nL 28.421875 72.90625 \nL 38.28125 72.90625 \nL 38.28125 8.296875 \nL 54.390625 8.296875 \nL 54.390625 0 \nL 12.40625 0 \nz\n\" id=\"DejaVuSans-49\"/>\n      </defs>\n      <use xlink:href=\"#DejaVuSans-120\"/>\n      <use x=\"59.179688\" xlink:href=\"#DejaVuSans-49\"/>\n     </g>\n    </g>\n   </g>\n   <g id=\"matplotlib.axis_2\">\n    <g id=\"ytick_1\">\n     <g id=\"line2d_4\">\n      <defs>\n       <path d=\"M 0 0 \nL -3.5 0 \n\" id=\"m5d2dd104c3\" style=\"stroke:#000000;stroke-width:0.8;\"/>\n      </defs>\n      <g>\n       <use style=\"stroke:#000000;stroke-width:0.8;\" x=\"42.620312\" xlink:href=\"#m5d2dd104c3\" y=\"143.1\"/>\n      </g>\n     </g>\n     <g id=\"text_5\">\n      <!-- −3 -->\n      <g transform=\"translate(20.878125 146.899219)scale(0.1 -0.1)\">\n       <defs>\n        <path d=\"M 40.578125 39.3125 \nQ 47.65625 37.796875 51.625 33 \nQ 55.609375 28.21875 55.609375 21.1875 \nQ 55.609375 10.40625 48.1875 4.484375 \nQ 40.765625 -1.421875 27.09375 -1.421875 \nQ 22.515625 -1.421875 17.65625 -0.515625 \nQ 12.796875 0.390625 7.625 2.203125 \nL 7.625 11.71875 \nQ 11.71875 9.328125 16.59375 8.109375 \nQ 21.484375 6.890625 26.8125 6.890625 \nQ 36.078125 6.890625 40.9375 10.546875 \nQ 45.796875 14.203125 45.796875 21.1875 \nQ 45.796875 27.640625 41.28125 31.265625 \nQ 36.765625 34.90625 28.71875 34.90625 \nL 20.21875 34.90625 \nL 20.21875 43.015625 \nL 29.109375 43.015625 \nQ 36.375 43.015625 40.234375 45.921875 \nQ 44.09375 48.828125 44.09375 54.296875 \nQ 44.09375 59.90625 40.109375 62.90625 \nQ 36.140625 65.921875 28.71875 65.921875 \nQ 24.65625 65.921875 20.015625 65.03125 \nQ 15.375 64.15625 9.8125 62.3125 \nL 9.8125 71.09375 \nQ 15.4375 72.65625 20.34375 73.4375 \nQ 25.25 74.21875 29.59375 74.21875 \nQ 40.828125 74.21875 47.359375 69.109375 \nQ 53.90625 64.015625 53.90625 55.328125 \nQ 53.90625 49.265625 50.4375 45.09375 \nQ 46.96875 40.921875 40.578125 39.3125 \nz\n\" id=\"DejaVuSans-51\"/>\n       </defs>\n       <use xlink:href=\"#DejaVuSans-8722\"/>\n       <use x=\"83.789062\" xlink:href=\"#DejaVuSans-51\"/>\n      </g>\n     </g>\n    </g>\n    <g id=\"ytick_2\">\n     <g id=\"line2d_5\">\n      <g>\n       <use style=\"stroke:#000000;stroke-width:0.8;\" x=\"42.620312\" xlink:href=\"#m5d2dd104c3\" y=\"108.253841\"/>\n      </g>\n     </g>\n     <g id=\"text_6\">\n      <!-- −2 -->\n      <g transform=\"translate(20.878125 112.05306)scale(0.1 -0.1)\">\n       <use xlink:href=\"#DejaVuSans-8722\"/>\n       <use x=\"83.789062\" xlink:href=\"#DejaVuSans-50\"/>\n      </g>\n     </g>\n    </g>\n    <g id=\"ytick_3\">\n     <g id=\"line2d_6\">\n      <g>\n       <use style=\"stroke:#000000;stroke-width:0.8;\" x=\"42.620312\" xlink:href=\"#m5d2dd104c3\" y=\"73.407682\"/>\n      </g>\n     </g>\n     <g id=\"text_7\">\n      <!-- −1 -->\n      <g transform=\"translate(20.878125 77.206901)scale(0.1 -0.1)\">\n       <use xlink:href=\"#DejaVuSans-8722\"/>\n       <use x=\"83.789062\" xlink:href=\"#DejaVuSans-49\"/>\n      </g>\n     </g>\n    </g>\n    <g id=\"ytick_4\">\n     <g id=\"line2d_7\">\n      <g>\n       <use style=\"stroke:#000000;stroke-width:0.8;\" x=\"42.620312\" xlink:href=\"#m5d2dd104c3\" y=\"38.561523\"/>\n      </g>\n     </g>\n     <g id=\"text_8\">\n      <!-- 0 -->\n      <g transform=\"translate(29.257812 42.360742)scale(0.1 -0.1)\">\n       <use xlink:href=\"#DejaVuSans-48\"/>\n      </g>\n     </g>\n    </g>\n    <g id=\"text_9\">\n     <!-- x2 -->\n     <g transform=\"translate(14.798437 81.290625)rotate(-90)scale(0.1 -0.1)\">\n      <use xlink:href=\"#DejaVuSans-120\"/>\n      <use x=\"59.179688\" xlink:href=\"#DejaVuSans-50\"/>\n     </g>\n    </g>\n   </g>\n   <g id=\"LineCollection_1\"/>\n   <g id=\"LineCollection_2\">\n    <path clip-path=\"url(#pd5c5338778)\" d=\"M 237.920313 104.627982 \nL 237.38177 104.769258 \nL 234.868748 105.394692 \nL 231.817183 106.064806 \nL 228.765619 106.645572 \nL 225.714055 107.13699 \nL 222.662491 107.539057 \nL 219.610927 107.851777 \nL 216.559364 108.075147 \nL 213.5078 108.209169 \nL 210.456236 108.25384 \nL 207.404672 108.209165 \nL 204.353108 108.075138 \nL 201.301544 107.851761 \nL 198.24998 107.539036 \nL 195.198417 107.136964 \nL 192.146852 106.645542 \nL 189.095287 106.064769 \nL 186.043723 105.394647 \nL 183.530887 104.769258 \nL 182.992158 104.627932 \nL 179.940594 103.733231 \nL 176.889029 102.744349 \nL 173.837464 101.661289 \nL 172.861143 101.284641 \nL 170.7859 100.438302 \nL 167.734335 99.094234 \nL 164.998616 97.800024 \nL 164.68277 97.641549 \nL 161.631206 96.004833 \nL 158.672265 94.315408 \nL 158.579641 94.259112 \nL 155.528077 92.291985 \nL 153.383878 90.830791 \nL 152.476512 90.169809 \nL 149.424947 87.826701 \nL 148.829656 87.346174 \nL 146.373386 85.21657 \nL 144.883218 83.861557 \nL 143.321825 82.328201 \nL 141.423198 80.376941 \nL 140.270264 79.089012 \nL 138.387499 76.892324 \nL 137.218703 75.398774 \nL 135.724167 73.407707 \nL 134.167142 71.115039 \nL 133.389396 69.923091 \nL 131.355016 66.438474 \nL 131.115581 65.97367 \nL 129.618682 62.953857 \nL 128.121686 59.46924 \nL 128.06402 59.310604 \nL 126.898964 55.984624 \nL 125.90027 52.500008 \nL 125.123507 49.015392 \nL 125.012459 48.317954 \nL 124.58425 45.530777 \nL 124.263033 42.046161 \nL 124.155958 38.561545 \nL 124.263029 35.076929 \nL 124.584245 31.592313 \nL 125.012459 28.805102 \nL 125.123502 28.107697 \nL 125.90026 24.623082 \nL 126.898951 21.138466 \nL 128.06402 17.812442 \nL 128.12167 17.65385 \nL 129.618663 14.169233 \nL 131.115581 11.149376 \nL 131.354994 10.684617 \nL 133.389367 7.2 \n\" style=\"fill:none;stroke:#1f77b4;stroke-width:1.5;\"/>\n   </g>\n   <g id=\"LineCollection_3\">\n    <path clip-path=\"url(#pd5c5338778)\" d=\"M 237.920313 134.578546 \nL 234.868748 135.117076 \nL 231.817183 135.592249 \nL 228.765619 136.004065 \nL 227.655983 136.130775 \nL 225.714055 136.344745 \nL 222.662491 136.619843 \nL 219.610927 136.83381 \nL 216.559364 136.986641 \nL 213.5078 137.07834 \nL 210.456236 137.108905 \nL 207.404672 137.078338 \nL 204.353108 136.986636 \nL 201.301544 136.833798 \nL 198.24998 136.619829 \nL 195.198417 136.344727 \nL 193.25668 136.130775 \nL 192.146852 136.004041 \nL 189.095287 135.592225 \nL 186.043723 135.117046 \nL 182.992158 134.578514 \nL 179.940594 133.976623 \nL 176.889029 133.311377 \nL 174.10295 132.646162 \nL 173.837464 132.580382 \nL 170.7859 131.758533 \nL 167.734335 130.870941 \nL 164.68277 129.9176 \nL 162.418852 129.16155 \nL 161.631206 128.888195 \nL 158.579641 127.76082 \nL 155.528077 126.565115 \nL 153.383878 125.676937 \nL 152.476512 125.285744 \nL 149.424947 123.899007 \nL 146.373386 122.441157 \nL 145.876758 122.192325 \nL 143.321825 120.857717 \nL 140.270264 119.189549 \nL 139.426351 118.707712 \nL 137.218703 117.39122 \nL 134.167142 115.494043 \nL 133.748428 115.2231 \nL 131.115581 113.440187 \nL 128.697488 111.738487 \nL 128.06402 111.270947 \nL 125.012459 108.933704 \nL 124.156 108.253874 \nL 121.960898 106.422119 \nL 120.047314 104.769258 \nL 118.909337 103.733195 \nL 116.308112 101.284641 \nL 115.857776 100.836514 \nL 112.903185 97.800024 \nL 112.806215 97.694327 \nL 109.801692 94.315408 \nL 109.754654 94.259096 \nL 106.976452 90.830791 \nL 106.703093 90.470202 \nL 104.403444 87.346174 \nL 103.651532 86.249054 \nL 102.061357 83.861557 \nL 100.599971 81.491897 \nL 99.931208 80.376941 \nL 98.008301 76.892324 \nL 97.54841 75.979555 \nL 96.28716 73.407707 \nL 94.741034 69.923091 \nL 94.496849 69.308008 \nL 93.387247 66.438474 \nL 92.198326 62.953857 \nL 91.445288 60.407232 \nL 91.174946 59.46924 \nL 90.325144 55.984624 \nL 89.629852 52.500008 \nL 89.089065 49.015392 \nL 88.702791 45.530777 \nL 88.471028 42.046161 \nL 88.393772 38.561545 \nL 88.471028 35.076929 \nL 88.70279 31.592313 \nL 89.089059 28.107697 \nL 89.629844 24.623082 \nL 90.325134 21.138466 \nL 91.174935 17.65385 \nL 91.445288 16.715817 \nL 92.198311 14.169233 \nL 93.387229 10.684617 \nL 94.496849 7.815026 \nL 94.741012 7.2 \n\" style=\"fill:none;stroke:#1f77b4;stroke-width:1.5;\"/>\n   </g>\n   <g id=\"LineCollection_4\">\n    <path clip-path=\"url(#pd5c5338778)\" d=\"M 135.724151 143.1 \nL 134.167142 142.36169 \nL 131.115581 140.855626 \nL 128.697456 139.615387 \nL 128.06402 139.279104 \nL 125.012459 137.597933 \nL 122.442807 136.130775 \nL 121.960898 135.845621 \nL 118.909337 133.976598 \nL 116.80835 132.646162 \nL 115.857776 132.021503 \nL 112.806215 129.950462 \nL 111.679569 129.16155 \nL 109.754654 127.760808 \nL 106.976452 125.676937 \nL 106.703093 125.463528 \nL 103.651532 123.010073 \nL 102.663081 122.192325 \nL 100.599971 120.412876 \nL 98.677152 118.707712 \nL 97.54841 117.662252 \nL 94.985174 115.2231 \nL 94.496849 114.736801 \nL 91.564251 111.738487 \nL 91.445288 111.610925 \nL 88.393801 108.253874 \nL 88.393727 108.253789 \nL 85.455255 104.769258 \nL 85.342166 104.627905 \nL 82.731861 101.284641 \nL 82.290605 100.687189 \nL 80.208422 97.800024 \nL 79.239044 96.374416 \nL 77.871157 94.315408 \nL 76.187483 91.617552 \nL 75.707517 90.830791 \nL 73.718851 87.346174 \nL 73.135922 86.249076 \nL 71.895223 83.861557 \nL 70.218531 80.376941 \nL 70.084361 80.073851 \nL 68.706275 76.892324 \nL 67.328151 73.407707 \nL 67.0328 72.582299 \nL 66.101304 69.923091 \nL 65.009165 66.438474 \nL 64.045509 62.953857 \nL 63.981239 62.685701 \nL 63.226238 59.46924 \nL 62.534133 55.984624 \nL 61.967863 52.500008 \nL 61.527427 49.015392 \nL 61.212832 45.530777 \nL 61.024077 42.046161 \nL 60.961157 38.561545 \nL 61.024077 35.076929 \nL 61.212832 31.592313 \nL 61.527421 28.107697 \nL 61.967857 24.623082 \nL 62.534121 21.138466 \nL 63.226232 17.65385 \nL 63.981239 14.43734 \nL 64.045497 14.169233 \nL 65.009152 10.684617 \nL 66.10129 7.2 \n\" style=\"fill:none;stroke:#1f77b4;stroke-width:1.5;\"/>\n   </g>\n   <g id=\"LineCollection_5\">\n    <path clip-path=\"url(#pd5c5338778)\" d=\"M 96.287149 143.1 \nL 94.496849 141.800619 \nL 91.564236 139.615387 \nL 91.445288 139.523644 \nL 88.393727 137.108869 \nL 87.188223 136.130775 \nL 85.342166 134.578495 \nL 83.099501 132.646162 \nL 82.290605 131.922898 \nL 79.274994 129.16155 \nL 79.239044 129.127341 \nL 76.187483 126.155165 \nL 75.707517 125.676937 \nL 73.135922 123.010086 \nL 72.364698 122.192325 \nL 70.084361 119.671494 \nL 69.23128 118.707712 \nL 67.0328 116.113553 \nL 66.29405 115.2231 \nL 63.981239 112.305694 \nL 63.540852 111.738487 \nL 60.961181 108.253874 \nL 60.929678 108.209139 \nL 58.556281 104.769258 \nL 57.878117 103.733231 \nL 56.30705 101.284641 \nL 54.826556 98.845359 \nL 54.204423 97.800024 \nL 52.249047 94.315408 \nL 51.774995 93.416108 \nL 50.438145 90.830791 \nL 48.752514 87.346174 \nL 48.723434 87.281606 \nL 47.21193 83.861557 \nL 45.785964 80.376941 \nL 45.671873 80.073894 \nL 44.496055 76.892324 \nL 43.320222 73.407707 \nL 42.620312 71.115168 \n\" style=\"fill:none;stroke:#1f77b4;stroke-width:1.5;\"/>\n   </g>\n   <g id=\"LineCollection_6\">\n    <path clip-path=\"url(#pd5c5338778)\" d=\"M 67.328138 143.1 \nL 67.0328 142.834201 \nL 63.981239 140.028792 \nL 63.540834 139.615387 \nL 60.929678 137.078315 \nL 59.974168 136.130775 \nL 57.878117 133.976623 \nL 56.609178 132.646162 \nL 54.826556 130.706591 \nL 53.434114 129.16155 \nL 51.774995 127.248405 \nL 50.438145 125.676937 \nL 48.723434 123.57903 \nL 47.611206 122.192325 \nL 45.671873 119.671508 \nL 44.944002 118.707712 \nL 42.620312 115.494095 \n\" style=\"fill:none;stroke:#1f77b4;stroke-width:1.5;\"/>\n   </g>\n   <g id=\"LineCollection_7\">\n    <path clip-path=\"url(#pd5c5338778)\" d=\"M 43.320214 143.1 \nL 42.620312 142.361735 \n\" style=\"fill:none;stroke:#1f77b4;stroke-width:1.5;\"/>\n   </g>\n   <g id=\"LineCollection_8\"/>\n   <g id=\"line2d_8\">\n    <path clip-path=\"url(#pd5c5338778)\" d=\"M 57.878132 108.253841 \nL 88.393771 80.376914 \nL 112.806282 63.650758 \nL 132.336291 53.615064 \nL 147.960298 47.593648 \nL 160.459504 43.980798 \nL 170.458869 41.813088 \nL 178.45836 40.512462 \nL 184.857954 39.732087 \nL 189.977629 39.263861 \nL 194.073368 38.982926 \nL 197.34996 38.814365 \nL 199.971233 38.713228 \nL 202.068252 38.652546 \nL 203.745867 38.616137 \nL 205.087959 38.594292 \nL 206.161633 38.581184 \nL 207.020572 38.57332 \nL 207.707723 38.568601 \nL 208.257444 38.56577 \nL 208.69722 38.564072 \n\" style=\"fill:none;stroke:#ff7f0e;stroke-linecap:square;stroke-width:1.5;\"/>\n    <defs>\n     <path d=\"M 0 3 \nC 0.795609 3 1.55874 2.683901 2.12132 2.12132 \nC 2.683901 1.55874 3 0.795609 3 0 \nC 3 -0.795609 2.683901 -1.55874 2.12132 -2.12132 \nC 1.55874 -2.683901 0.795609 -3 0 -3 \nC -0.795609 -3 -1.55874 -2.683901 -2.12132 -2.12132 \nC -2.683901 -1.55874 -3 -0.795609 -3 0 \nC -3 0.795609 -2.683901 1.55874 -2.12132 2.12132 \nC -1.55874 2.683901 -0.795609 3 0 3 \nz\n\" id=\"mfa8b87a4a0\" style=\"stroke:#ff7f0e;\"/>\n    </defs>\n    <g clip-path=\"url(#pd5c5338778)\">\n     <use style=\"fill:#ff7f0e;stroke:#ff7f0e;\" x=\"57.878132\" xlink:href=\"#mfa8b87a4a0\" y=\"108.253841\"/>\n     <use style=\"fill:#ff7f0e;stroke:#ff7f0e;\" x=\"88.393771\" xlink:href=\"#mfa8b87a4a0\" y=\"80.376914\"/>\n     <use style=\"fill:#ff7f0e;stroke:#ff7f0e;\" x=\"112.806282\" xlink:href=\"#mfa8b87a4a0\" y=\"63.650758\"/>\n     <use style=\"fill:#ff7f0e;stroke:#ff7f0e;\" x=\"132.336291\" xlink:href=\"#mfa8b87a4a0\" y=\"53.615064\"/>\n     <use style=\"fill:#ff7f0e;stroke:#ff7f0e;\" x=\"147.960298\" xlink:href=\"#mfa8b87a4a0\" y=\"47.593648\"/>\n     <use style=\"fill:#ff7f0e;stroke:#ff7f0e;\" x=\"160.459504\" xlink:href=\"#mfa8b87a4a0\" y=\"43.980798\"/>\n     <use style=\"fill:#ff7f0e;stroke:#ff7f0e;\" x=\"170.458869\" xlink:href=\"#mfa8b87a4a0\" y=\"41.813088\"/>\n     <use style=\"fill:#ff7f0e;stroke:#ff7f0e;\" x=\"178.45836\" xlink:href=\"#mfa8b87a4a0\" y=\"40.512462\"/>\n     <use style=\"fill:#ff7f0e;stroke:#ff7f0e;\" x=\"184.857954\" xlink:href=\"#mfa8b87a4a0\" y=\"39.732087\"/>\n     <use style=\"fill:#ff7f0e;stroke:#ff7f0e;\" x=\"189.977629\" xlink:href=\"#mfa8b87a4a0\" y=\"39.263861\"/>\n     <use style=\"fill:#ff7f0e;stroke:#ff7f0e;\" x=\"194.073368\" xlink:href=\"#mfa8b87a4a0\" y=\"38.982926\"/>\n     <use style=\"fill:#ff7f0e;stroke:#ff7f0e;\" x=\"197.34996\" xlink:href=\"#mfa8b87a4a0\" y=\"38.814365\"/>\n     <use style=\"fill:#ff7f0e;stroke:#ff7f0e;\" x=\"199.971233\" xlink:href=\"#mfa8b87a4a0\" y=\"38.713228\"/>\n     <use style=\"fill:#ff7f0e;stroke:#ff7f0e;\" x=\"202.068252\" xlink:href=\"#mfa8b87a4a0\" y=\"38.652546\"/>\n     <use style=\"fill:#ff7f0e;stroke:#ff7f0e;\" x=\"203.745867\" xlink:href=\"#mfa8b87a4a0\" y=\"38.616137\"/>\n     <use style=\"fill:#ff7f0e;stroke:#ff7f0e;\" x=\"205.087959\" xlink:href=\"#mfa8b87a4a0\" y=\"38.594292\"/>\n     <use style=\"fill:#ff7f0e;stroke:#ff7f0e;\" x=\"206.161633\" xlink:href=\"#mfa8b87a4a0\" y=\"38.581184\"/>\n     <use style=\"fill:#ff7f0e;stroke:#ff7f0e;\" x=\"207.020572\" xlink:href=\"#mfa8b87a4a0\" y=\"38.57332\"/>\n     <use style=\"fill:#ff7f0e;stroke:#ff7f0e;\" x=\"207.707723\" xlink:href=\"#mfa8b87a4a0\" y=\"38.568601\"/>\n     <use style=\"fill:#ff7f0e;stroke:#ff7f0e;\" x=\"208.257444\" xlink:href=\"#mfa8b87a4a0\" y=\"38.56577\"/>\n     <use style=\"fill:#ff7f0e;stroke:#ff7f0e;\" x=\"208.69722\" xlink:href=\"#mfa8b87a4a0\" y=\"38.564072\"/>\n    </g>\n   </g>\n   <g id=\"patch_3\">\n    <path d=\"M 42.620312 143.1 \nL 42.620312 7.2 \n\" style=\"fill:none;stroke:#000000;stroke-linecap:square;stroke-linejoin:miter;stroke-width:0.8;\"/>\n   </g>\n   <g id=\"patch_4\">\n    <path d=\"M 237.920313 143.1 \nL 237.920313 7.2 \n\" style=\"fill:none;stroke:#000000;stroke-linecap:square;stroke-linejoin:miter;stroke-width:0.8;\"/>\n   </g>\n   <g id=\"patch_5\">\n    <path d=\"M 42.620312 143.1 \nL 237.920313 143.1 \n\" style=\"fill:none;stroke:#000000;stroke-linecap:square;stroke-linejoin:miter;stroke-width:0.8;\"/>\n   </g>\n   <g id=\"patch_6\">\n    <path d=\"M 42.620312 7.2 \nL 237.920313 7.2 \n\" style=\"fill:none;stroke:#000000;stroke-linecap:square;stroke-linejoin:miter;stroke-width:0.8;\"/>\n   </g>\n  </g>\n </g>\n <defs>\n  <clipPath id=\"pd5c5338778\">\n   <rect height=\"135.9\" width=\"195.3\" x=\"42.620312\" y=\"7.2\"/>\n  </clipPath>\n </defs>\n</svg>\n",
      "text/plain": [
       "<Figure size 252x180 with 1 Axes>"
      ]
     },
     "metadata": {
      "needs_background": "light"
     },
     "output_type": "display_data"
    }
   ],
   "source": [
    "def f_2d(x1, x2):  # 目标函数\n",
    "    return x1 ** 2 + 2 * x2 ** 2\n",
    "\n",
    "def f_2d_grad(x1, x2):  # 目标函数的梯度\n",
    "    return (2 * x1, 4 * x2)\n",
    "\n",
    "def gd_2d(x1, x2, s1, s2, f_grad):\n",
    "    g1, g2 = f_grad(x1, x2)\n",
    "    return (x1 - eta * g1, x2 - eta * g2, 0, 0)\n",
    "\n",
    "eta = 0.1\n",
    "show_trace_2d(f_2d, train_2d(gd_2d, f_grad=f_2d_grad))"
   ]
  },
  {
   "cell_type": "code",
   "execution_count": 42,
   "metadata": {
    "ExecuteTime": {
     "end_time": "2022-10-24T15:24:52.052386Z",
     "start_time": "2022-10-24T15:24:52.043857Z"
    }
   },
   "outputs": [
    {
     "name": "stdout",
     "output_type": "stream",
     "text": [
      "epoch 20, x1: -0.057646, x2: -0.000073\n"
     ]
    },
    {
     "data": {
      "text/plain": [
       "[(-5, -2),\n",
       " (-4.0, -1.2),\n",
       " (-3.2, -0.72),\n",
       " (-2.56, -0.432),\n",
       " (-2.048, -0.2592),\n",
       " (-1.6384, -0.15552),\n",
       " (-1.31072, -0.09331199999999999),\n",
       " (-1.0485760000000002, -0.055987199999999994),\n",
       " (-0.8388608000000002, -0.033592319999999995),\n",
       " (-0.6710886400000001, -0.020155391999999994),\n",
       " (-0.5368709120000001, -0.012093235199999997),\n",
       " (-0.4294967296000001, -0.007255941119999998),\n",
       " (-0.3435973836800001, -0.004353564671999998),\n",
       " (-0.27487790694400005, -0.0026121388031999987),\n",
       " (-0.21990232555520003, -0.0015672832819199991),\n",
       " (-0.17592186044416003, -0.0009403699691519995),\n",
       " (-0.140737488355328, -0.0005642219814911997),\n",
       " (-0.11258999068426241, -0.00033853318889471976),\n",
       " (-0.09007199254740993, -0.00020311991333683184),\n",
       " (-0.07205759403792794, -0.0001218719480020991),\n",
       " (-0.057646075230342354, -7.312316880125945e-05)]"
      ]
     },
     "execution_count": 42,
     "metadata": {},
     "output_type": "execute_result"
    }
   ],
   "source": [
    "train_2d(gd_2d, f_grad=f_2d_grad)"
   ]
  },
  {
   "cell_type": "markdown",
   "metadata": {},
   "source": [
    "#### 11.3.3. 自适应方法\n",
    "正如我们在 11.3.1.1节中所看到的，选择“恰到好处”的学习率是很棘手的。 如果我们把它选得太小，就没有什么进展；如果太大，得到的解就会振荡，甚至可能发散。 如果我们可以自动确定，或者完全不必选择学习率，会怎么样？ 除了考虑目标函数的值和梯度、还考虑它的曲率的二阶方法可以帮我们解决这个问题。 虽然由于计算代价的原因，这些方法不能直接应用于深度学习，但它们为如何设计高级优化算法提供了有用的思维直觉，这些算法可以模拟下面概述的算法的许多理想特性。\n",
    "\n"
   ]
  },
  {
   "cell_type": "markdown",
   "metadata": {},
   "source": [
    "##### 11.3.3.1牛顿法\n",
    "- 1.回顾一些函数的泰勒展开式，事实上我们可以把它写成:$f(x+\\epsilon)=f(x)+\\epsilon^{T}\\nabla f(x)+1/2\\epsilon^{T}\\nabla^2f(x)\\epsilon+O(||\\epsilon||^{3})$ \n",
    "\n",
    "- 2.为了避免繁琐的符号，我们将$H=\\nabla^2f(x)$定义为f的Hessian，是d*d矩阵。\n",
    "- 3.当d的值很小且问题很简单时，H很容易计算。 但是对于深度神经网络而言，考虑到H可能非常大， o(d*d)个条目的存储代价会很高， 此外通过反向传播进行计算可能雪上加霜。 然而，我们姑且先忽略这些考量，看看会得到什么算法\n",
    "\n",
    "- 4.毕竟，f的最小值满足$\\nabla f=0$。 遵循 2.4节中的微积分规则， 通过$\\epsilon$取对$f(x+\\epsilon)$的导数， 再忽略不重要的高阶项，我们便得到\n",
    "- 5.$\\nabla f(x) +H\\epsilon = 0 \\quad hence \\quad \\epsilon = -H^{-1}\\nabla f(x)$\n",
    "- 6.也就是说，作为优化问题的一部分，我们需要将Hessian矩阵求逆\n"
   ]
  },
  {
   "cell_type": "markdown",
   "metadata": {},
   "source": [
    "- 举一个简单的例子，对于 $f(x)=1/2x^{2}$\n",
    " \n",
    "，我们有$\\nabla f(x)=x$和$H=1$。 因此，对于任何x，我们可以获得$\\epsilon =-x$。 换言之，单单一步就足以完美地收敛，而无须任何调整。 我们在这里比较幸运：泰勒展开式是确切的，因为$f(x+\\epsilon)=1/2x^2+\\epsilon x +1/2\\epsilon ^{2}$\n",
    " \n",
    " \n",
    "让我们看看其他问题。 给定一个凸双曲余弦函数f，其中c为某些常数， 我们可以看到经过几次迭代后，得到了x=0处的全局最小值。"
   ]
  },
  {
   "cell_type": "code",
   "execution_count": 43,
   "metadata": {
    "ExecuteTime": {
     "end_time": "2022-10-24T15:57:15.979498Z",
     "start_time": "2022-10-24T15:57:15.627070Z"
    }
   },
   "outputs": [
    {
     "name": "stdout",
     "output_type": "stream",
     "text": [
      "epoch 10, x: tf.Tensor(0.0, shape=(), dtype=float32)\n"
     ]
    },
    {
     "data": {
      "image/svg+xml": "<?xml version=\"1.0\" encoding=\"utf-8\" standalone=\"no\"?>\n<!DOCTYPE svg PUBLIC \"-//W3C//DTD SVG 1.1//EN\"\n  \"http://www.w3.org/Graphics/SVG/1.1/DTD/svg11.dtd\">\n<!-- Created with matplotlib (https://matplotlib.org/) -->\n<svg height=\"180.65625pt\" version=\"1.1\" viewBox=\"0 0 243.103125 180.65625\" width=\"243.103125pt\" xmlns=\"http://www.w3.org/2000/svg\" xmlns:xlink=\"http://www.w3.org/1999/xlink\">\n <metadata>\n  <rdf:RDF xmlns:cc=\"http://creativecommons.org/ns#\" xmlns:dc=\"http://purl.org/dc/elements/1.1/\" xmlns:rdf=\"http://www.w3.org/1999/02/22-rdf-syntax-ns#\">\n   <cc:Work>\n    <dc:type rdf:resource=\"http://purl.org/dc/dcmitype/StillImage\"/>\n    <dc:date>2022-10-24T23:57:15.946503</dc:date>\n    <dc:format>image/svg+xml</dc:format>\n    <dc:creator>\n     <cc:Agent>\n      <dc:title>Matplotlib v3.3.3, https://matplotlib.org/</dc:title>\n     </cc:Agent>\n    </dc:creator>\n   </cc:Work>\n  </rdf:RDF>\n </metadata>\n <defs>\n  <style type=\"text/css\">*{stroke-linecap:butt;stroke-linejoin:round;}</style>\n </defs>\n <g id=\"figure_1\">\n  <g id=\"patch_1\">\n   <path d=\"M 0 180.65625 \nL 243.103125 180.65625 \nL 243.103125 0 \nL 0 0 \nz\n\" style=\"fill:none;\"/>\n  </g>\n  <g id=\"axes_1\">\n   <g id=\"patch_2\">\n    <path d=\"M 40.603125 143.1 \nL 235.903125 143.1 \nL 235.903125 7.2 \nL 40.603125 7.2 \nz\n\" style=\"fill:#ffffff;\"/>\n   </g>\n   <g id=\"matplotlib.axis_1\">\n    <g id=\"xtick_1\">\n     <g id=\"line2d_1\">\n      <path clip-path=\"url(#pd2d1b7282e)\" d=\"M 49.480398 143.1 \nL 49.480398 7.2 \n\" style=\"fill:none;stroke:#b0b0b0;stroke-linecap:square;stroke-width:0.8;\"/>\n     </g>\n     <g id=\"line2d_2\">\n      <defs>\n       <path d=\"M 0 0 \nL 0 3.5 \n\" id=\"m5b11fd9ee6\" style=\"stroke:#000000;stroke-width:0.8;\"/>\n      </defs>\n      <g>\n       <use style=\"stroke:#000000;stroke-width:0.8;\" x=\"49.480398\" xlink:href=\"#m5b11fd9ee6\" y=\"143.1\"/>\n      </g>\n     </g>\n     <g id=\"text_1\">\n      <!-- −10 -->\n      <g transform=\"translate(38.928054 157.698438)scale(0.1 -0.1)\">\n       <defs>\n        <path d=\"M 10.59375 35.5 \nL 73.1875 35.5 \nL 73.1875 27.203125 \nL 10.59375 27.203125 \nz\n\" id=\"DejaVuSans-8722\"/>\n        <path d=\"M 12.40625 8.296875 \nL 28.515625 8.296875 \nL 28.515625 63.921875 \nL 10.984375 60.40625 \nL 10.984375 69.390625 \nL 28.421875 72.90625 \nL 38.28125 72.90625 \nL 38.28125 8.296875 \nL 54.390625 8.296875 \nL 54.390625 0 \nL 12.40625 0 \nz\n\" id=\"DejaVuSans-49\"/>\n        <path d=\"M 31.78125 66.40625 \nQ 24.171875 66.40625 20.328125 58.90625 \nQ 16.5 51.421875 16.5 36.375 \nQ 16.5 21.390625 20.328125 13.890625 \nQ 24.171875 6.390625 31.78125 6.390625 \nQ 39.453125 6.390625 43.28125 13.890625 \nQ 47.125 21.390625 47.125 36.375 \nQ 47.125 51.421875 43.28125 58.90625 \nQ 39.453125 66.40625 31.78125 66.40625 \nz\nM 31.78125 74.21875 \nQ 44.046875 74.21875 50.515625 64.515625 \nQ 56.984375 54.828125 56.984375 36.375 \nQ 56.984375 17.96875 50.515625 8.265625 \nQ 44.046875 -1.421875 31.78125 -1.421875 \nQ 19.53125 -1.421875 13.0625 8.265625 \nQ 6.59375 17.96875 6.59375 36.375 \nQ 6.59375 54.828125 13.0625 64.515625 \nQ 19.53125 74.21875 31.78125 74.21875 \nz\n\" id=\"DejaVuSans-48\"/>\n       </defs>\n       <use xlink:href=\"#DejaVuSans-8722\"/>\n       <use x=\"83.789062\" xlink:href=\"#DejaVuSans-49\"/>\n       <use x=\"147.412109\" xlink:href=\"#DejaVuSans-48\"/>\n      </g>\n     </g>\n    </g>\n    <g id=\"xtick_2\">\n     <g id=\"line2d_3\">\n      <path clip-path=\"url(#pd2d1b7282e)\" d=\"M 93.866761 143.1 \nL 93.866761 7.2 \n\" style=\"fill:none;stroke:#b0b0b0;stroke-linecap:square;stroke-width:0.8;\"/>\n     </g>\n     <g id=\"line2d_4\">\n      <g>\n       <use style=\"stroke:#000000;stroke-width:0.8;\" x=\"93.866761\" xlink:href=\"#m5b11fd9ee6\" y=\"143.1\"/>\n      </g>\n     </g>\n     <g id=\"text_2\">\n      <!-- −5 -->\n      <g transform=\"translate(86.495668 157.698438)scale(0.1 -0.1)\">\n       <defs>\n        <path d=\"M 10.796875 72.90625 \nL 49.515625 72.90625 \nL 49.515625 64.59375 \nL 19.828125 64.59375 \nL 19.828125 46.734375 \nQ 21.96875 47.46875 24.109375 47.828125 \nQ 26.265625 48.1875 28.421875 48.1875 \nQ 40.625 48.1875 47.75 41.5 \nQ 54.890625 34.8125 54.890625 23.390625 \nQ 54.890625 11.625 47.5625 5.09375 \nQ 40.234375 -1.421875 26.90625 -1.421875 \nQ 22.3125 -1.421875 17.546875 -0.640625 \nQ 12.796875 0.140625 7.71875 1.703125 \nL 7.71875 11.625 \nQ 12.109375 9.234375 16.796875 8.0625 \nQ 21.484375 6.890625 26.703125 6.890625 \nQ 35.15625 6.890625 40.078125 11.328125 \nQ 45.015625 15.765625 45.015625 23.390625 \nQ 45.015625 31 40.078125 35.4375 \nQ 35.15625 39.890625 26.703125 39.890625 \nQ 22.75 39.890625 18.8125 39.015625 \nQ 14.890625 38.140625 10.796875 36.28125 \nz\n\" id=\"DejaVuSans-53\"/>\n       </defs>\n       <use xlink:href=\"#DejaVuSans-8722\"/>\n       <use x=\"83.789062\" xlink:href=\"#DejaVuSans-53\"/>\n      </g>\n     </g>\n    </g>\n    <g id=\"xtick_3\">\n     <g id=\"line2d_5\">\n      <path clip-path=\"url(#pd2d1b7282e)\" d=\"M 138.253125 143.1 \nL 138.253125 7.2 \n\" style=\"fill:none;stroke:#b0b0b0;stroke-linecap:square;stroke-width:0.8;\"/>\n     </g>\n     <g id=\"line2d_6\">\n      <g>\n       <use style=\"stroke:#000000;stroke-width:0.8;\" x=\"138.253125\" xlink:href=\"#m5b11fd9ee6\" y=\"143.1\"/>\n      </g>\n     </g>\n     <g id=\"text_3\">\n      <!-- 0 -->\n      <g transform=\"translate(135.071875 157.698438)scale(0.1 -0.1)\">\n       <use xlink:href=\"#DejaVuSans-48\"/>\n      </g>\n     </g>\n    </g>\n    <g id=\"xtick_4\">\n     <g id=\"line2d_7\">\n      <path clip-path=\"url(#pd2d1b7282e)\" d=\"M 182.639489 143.1 \nL 182.639489 7.2 \n\" style=\"fill:none;stroke:#b0b0b0;stroke-linecap:square;stroke-width:0.8;\"/>\n     </g>\n     <g id=\"line2d_8\">\n      <g>\n       <use style=\"stroke:#000000;stroke-width:0.8;\" x=\"182.639489\" xlink:href=\"#m5b11fd9ee6\" y=\"143.1\"/>\n      </g>\n     </g>\n     <g id=\"text_4\">\n      <!-- 5 -->\n      <g transform=\"translate(179.458239 157.698438)scale(0.1 -0.1)\">\n       <use xlink:href=\"#DejaVuSans-53\"/>\n      </g>\n     </g>\n    </g>\n    <g id=\"xtick_5\">\n     <g id=\"line2d_9\">\n      <path clip-path=\"url(#pd2d1b7282e)\" d=\"M 227.025852 143.1 \nL 227.025852 7.2 \n\" style=\"fill:none;stroke:#b0b0b0;stroke-linecap:square;stroke-width:0.8;\"/>\n     </g>\n     <g id=\"line2d_10\">\n      <g>\n       <use style=\"stroke:#000000;stroke-width:0.8;\" x=\"227.025852\" xlink:href=\"#m5b11fd9ee6\" y=\"143.1\"/>\n      </g>\n     </g>\n     <g id=\"text_5\">\n      <!-- 10 -->\n      <g transform=\"translate(220.663352 157.698438)scale(0.1 -0.1)\">\n       <use xlink:href=\"#DejaVuSans-49\"/>\n       <use x=\"63.623047\" xlink:href=\"#DejaVuSans-48\"/>\n      </g>\n     </g>\n    </g>\n    <g id=\"text_6\">\n     <!-- x -->\n     <g transform=\"translate(135.29375 171.376563)scale(0.1 -0.1)\">\n      <defs>\n       <path d=\"M 54.890625 54.6875 \nL 35.109375 28.078125 \nL 55.90625 0 \nL 45.3125 0 \nL 29.390625 21.484375 \nL 13.484375 0 \nL 2.875 0 \nL 24.125 28.609375 \nL 4.6875 54.6875 \nL 15.28125 54.6875 \nL 29.78125 35.203125 \nL 44.28125 54.6875 \nz\n\" id=\"DejaVuSans-120\"/>\n      </defs>\n      <use xlink:href=\"#DejaVuSans-120\"/>\n     </g>\n    </g>\n   </g>\n   <g id=\"matplotlib.axis_2\">\n    <g id=\"ytick_1\">\n     <g id=\"line2d_11\">\n      <path clip-path=\"url(#pd2d1b7282e)\" d=\"M 40.603125 138.610277 \nL 235.903125 138.610277 \n\" style=\"fill:none;stroke:#b0b0b0;stroke-linecap:square;stroke-width:0.8;\"/>\n     </g>\n     <g id=\"line2d_12\">\n      <defs>\n       <path d=\"M 0 0 \nL -3.5 0 \n\" id=\"m502c41a5eb\" style=\"stroke:#000000;stroke-width:0.8;\"/>\n      </defs>\n      <g>\n       <use style=\"stroke:#000000;stroke-width:0.8;\" x=\"40.603125\" xlink:href=\"#m502c41a5eb\" y=\"138.610277\"/>\n      </g>\n     </g>\n     <g id=\"text_7\">\n      <!-- 0 -->\n      <g transform=\"translate(27.240625 142.409496)scale(0.1 -0.1)\">\n       <use xlink:href=\"#DejaVuSans-48\"/>\n      </g>\n     </g>\n    </g>\n    <g id=\"ytick_2\">\n     <g id=\"line2d_13\">\n      <path clip-path=\"url(#pd2d1b7282e)\" d=\"M 40.603125 104.859278 \nL 235.903125 104.859278 \n\" style=\"fill:none;stroke:#b0b0b0;stroke-linecap:square;stroke-width:0.8;\"/>\n     </g>\n     <g id=\"line2d_14\">\n      <g>\n       <use style=\"stroke:#000000;stroke-width:0.8;\" x=\"40.603125\" xlink:href=\"#m502c41a5eb\" y=\"104.859278\"/>\n      </g>\n     </g>\n     <g id=\"text_8\">\n      <!-- 20 -->\n      <g transform=\"translate(20.878125 108.658497)scale(0.1 -0.1)\">\n       <defs>\n        <path d=\"M 19.1875 8.296875 \nL 53.609375 8.296875 \nL 53.609375 0 \nL 7.328125 0 \nL 7.328125 8.296875 \nQ 12.9375 14.109375 22.625 23.890625 \nQ 32.328125 33.6875 34.8125 36.53125 \nQ 39.546875 41.84375 41.421875 45.53125 \nQ 43.3125 49.21875 43.3125 52.78125 \nQ 43.3125 58.59375 39.234375 62.25 \nQ 35.15625 65.921875 28.609375 65.921875 \nQ 23.96875 65.921875 18.8125 64.3125 \nQ 13.671875 62.703125 7.8125 59.421875 \nL 7.8125 69.390625 \nQ 13.765625 71.78125 18.9375 73 \nQ 24.125 74.21875 28.421875 74.21875 \nQ 39.75 74.21875 46.484375 68.546875 \nQ 53.21875 62.890625 53.21875 53.421875 \nQ 53.21875 48.921875 51.53125 44.890625 \nQ 49.859375 40.875 45.40625 35.40625 \nQ 44.1875 33.984375 37.640625 27.21875 \nQ 31.109375 20.453125 19.1875 8.296875 \nz\n\" id=\"DejaVuSans-50\"/>\n       </defs>\n       <use xlink:href=\"#DejaVuSans-50\"/>\n       <use x=\"63.623047\" xlink:href=\"#DejaVuSans-48\"/>\n      </g>\n     </g>\n    </g>\n    <g id=\"ytick_3\">\n     <g id=\"line2d_15\">\n      <path clip-path=\"url(#pd2d1b7282e)\" d=\"M 40.603125 71.108278 \nL 235.903125 71.108278 \n\" style=\"fill:none;stroke:#b0b0b0;stroke-linecap:square;stroke-width:0.8;\"/>\n     </g>\n     <g id=\"line2d_16\">\n      <g>\n       <use style=\"stroke:#000000;stroke-width:0.8;\" x=\"40.603125\" xlink:href=\"#m502c41a5eb\" y=\"71.108278\"/>\n      </g>\n     </g>\n     <g id=\"text_9\">\n      <!-- 40 -->\n      <g transform=\"translate(20.878125 74.907497)scale(0.1 -0.1)\">\n       <defs>\n        <path d=\"M 37.796875 64.3125 \nL 12.890625 25.390625 \nL 37.796875 25.390625 \nz\nM 35.203125 72.90625 \nL 47.609375 72.90625 \nL 47.609375 25.390625 \nL 58.015625 25.390625 \nL 58.015625 17.1875 \nL 47.609375 17.1875 \nL 47.609375 0 \nL 37.796875 0 \nL 37.796875 17.1875 \nL 4.890625 17.1875 \nL 4.890625 26.703125 \nz\n\" id=\"DejaVuSans-52\"/>\n       </defs>\n       <use xlink:href=\"#DejaVuSans-52\"/>\n       <use x=\"63.623047\" xlink:href=\"#DejaVuSans-48\"/>\n      </g>\n     </g>\n    </g>\n    <g id=\"ytick_4\">\n     <g id=\"line2d_17\">\n      <path clip-path=\"url(#pd2d1b7282e)\" d=\"M 40.603125 37.357279 \nL 235.903125 37.357279 \n\" style=\"fill:none;stroke:#b0b0b0;stroke-linecap:square;stroke-width:0.8;\"/>\n     </g>\n     <g id=\"line2d_18\">\n      <g>\n       <use style=\"stroke:#000000;stroke-width:0.8;\" x=\"40.603125\" xlink:href=\"#m502c41a5eb\" y=\"37.357279\"/>\n      </g>\n     </g>\n     <g id=\"text_10\">\n      <!-- 60 -->\n      <g transform=\"translate(20.878125 41.156498)scale(0.1 -0.1)\">\n       <defs>\n        <path d=\"M 33.015625 40.375 \nQ 26.375 40.375 22.484375 35.828125 \nQ 18.609375 31.296875 18.609375 23.390625 \nQ 18.609375 15.53125 22.484375 10.953125 \nQ 26.375 6.390625 33.015625 6.390625 \nQ 39.65625 6.390625 43.53125 10.953125 \nQ 47.40625 15.53125 47.40625 23.390625 \nQ 47.40625 31.296875 43.53125 35.828125 \nQ 39.65625 40.375 33.015625 40.375 \nz\nM 52.59375 71.296875 \nL 52.59375 62.3125 \nQ 48.875 64.0625 45.09375 64.984375 \nQ 41.3125 65.921875 37.59375 65.921875 \nQ 27.828125 65.921875 22.671875 59.328125 \nQ 17.53125 52.734375 16.796875 39.40625 \nQ 19.671875 43.65625 24.015625 45.921875 \nQ 28.375 48.1875 33.59375 48.1875 \nQ 44.578125 48.1875 50.953125 41.515625 \nQ 57.328125 34.859375 57.328125 23.390625 \nQ 57.328125 12.15625 50.6875 5.359375 \nQ 44.046875 -1.421875 33.015625 -1.421875 \nQ 20.359375 -1.421875 13.671875 8.265625 \nQ 6.984375 17.96875 6.984375 36.375 \nQ 6.984375 53.65625 15.1875 63.9375 \nQ 23.390625 74.21875 37.203125 74.21875 \nQ 40.921875 74.21875 44.703125 73.484375 \nQ 48.484375 72.75 52.59375 71.296875 \nz\n\" id=\"DejaVuSans-54\"/>\n       </defs>\n       <use xlink:href=\"#DejaVuSans-54\"/>\n       <use x=\"63.623047\" xlink:href=\"#DejaVuSans-48\"/>\n      </g>\n     </g>\n    </g>\n    <g id=\"text_11\">\n     <!-- f(x) -->\n     <g transform=\"translate(14.798437 83.771094)rotate(-90)scale(0.1 -0.1)\">\n      <defs>\n       <path d=\"M 37.109375 75.984375 \nL 37.109375 68.5 \nL 28.515625 68.5 \nQ 23.6875 68.5 21.796875 66.546875 \nQ 19.921875 64.59375 19.921875 59.515625 \nL 19.921875 54.6875 \nL 34.71875 54.6875 \nL 34.71875 47.703125 \nL 19.921875 47.703125 \nL 19.921875 0 \nL 10.890625 0 \nL 10.890625 47.703125 \nL 2.296875 47.703125 \nL 2.296875 54.6875 \nL 10.890625 54.6875 \nL 10.890625 58.5 \nQ 10.890625 67.625 15.140625 71.796875 \nQ 19.390625 75.984375 28.609375 75.984375 \nz\n\" id=\"DejaVuSans-102\"/>\n       <path d=\"M 31 75.875 \nQ 24.46875 64.65625 21.28125 53.65625 \nQ 18.109375 42.671875 18.109375 31.390625 \nQ 18.109375 20.125 21.3125 9.0625 \nQ 24.515625 -2 31 -13.1875 \nL 23.1875 -13.1875 \nQ 15.875 -1.703125 12.234375 9.375 \nQ 8.59375 20.453125 8.59375 31.390625 \nQ 8.59375 42.28125 12.203125 53.3125 \nQ 15.828125 64.359375 23.1875 75.875 \nz\n\" id=\"DejaVuSans-40\"/>\n       <path d=\"M 8.015625 75.875 \nL 15.828125 75.875 \nQ 23.140625 64.359375 26.78125 53.3125 \nQ 30.421875 42.28125 30.421875 31.390625 \nQ 30.421875 20.453125 26.78125 9.375 \nQ 23.140625 -1.703125 15.828125 -13.1875 \nL 8.015625 -13.1875 \nQ 14.5 -2 17.703125 9.0625 \nQ 20.90625 20.125 20.90625 31.390625 \nQ 20.90625 42.671875 17.703125 53.65625 \nQ 14.5 64.65625 8.015625 75.875 \nz\n\" id=\"DejaVuSans-41\"/>\n      </defs>\n      <use xlink:href=\"#DejaVuSans-102\"/>\n      <use x=\"35.205078\" xlink:href=\"#DejaVuSans-40\"/>\n      <use x=\"74.21875\" xlink:href=\"#DejaVuSans-120\"/>\n      <use x=\"133.398438\" xlink:href=\"#DejaVuSans-41\"/>\n     </g>\n    </g>\n   </g>\n   <g id=\"line2d_19\">\n    <path clip-path=\"url(#pd2d1b7282e)\" d=\"M 49.480398 13.377273 \nL 51.522217 26.980814 \nL 53.564037 39.106333 \nL 55.605856 49.914419 \nL 57.647676 59.548152 \nL 59.689495 68.135078 \nL 61.731314 75.788908 \nL 63.773134 82.610976 \nL 65.814953 88.691593 \nL 67.945548 94.333067 \nL 70.076142 99.336151 \nL 72.206736 103.772986 \nL 74.33733 107.707537 \nL 76.556699 111.333004 \nL 78.776068 114.531687 \nL 80.995437 117.353638 \nL 83.303581 119.936227 \nL 85.700499 122.284166 \nL 88.186193 124.4048 \nL 90.760661 126.307626 \nL 93.423903 128.003814 \nL 96.264696 129.550368 \nL 99.283038 130.939696 \nL 102.567704 132.200284 \nL 106.118612 133.31669 \nL 109.935835 134.280939 \nL 114.196922 135.121721 \nL 118.901872 135.817119 \nL 124.139458 136.360854 \nL 129.90968 136.732936 \nL 136.123765 136.910576 \nL 142.5154 136.873865 \nL 148.729485 136.620319 \nL 154.499707 136.165498 \nL 159.648521 135.541762 \nL 164.264699 134.7636 \nL 168.437013 133.837062 \nL 172.165464 132.78688 \nL 175.627641 131.582058 \nL 178.823533 130.233147 \nL 181.7531 128.758776 \nL 184.505117 127.129714 \nL 187.16836 125.290497 \nL 189.654053 123.30391 \nL 192.050972 121.104158 \nL 194.359116 118.684381 \nL 196.578485 116.040186 \nL 198.797854 113.042859 \nL 200.928448 109.789721 \nL 203.059042 106.121049 \nL 205.100861 102.166433 \nL 207.142681 97.729295 \nL 209.1845 92.750886 \nL 211.226316 87.165299 \nL 213.268135 80.898558 \nL 215.22118 74.190511 \nL 217.174224 66.702163 \nL 219.127269 58.342809 \nL 221.080314 49.011194 \nL 223.033359 38.594282 \nL 224.986403 26.965905 \nL 226.939448 13.985204 \nL 226.939448 13.985204 \n\" style=\"fill:none;stroke:#1f77b4;stroke-linecap:square;stroke-width:1.5;\"/>\n   </g>\n   <g id=\"line2d_20\">\n    <path clip-path=\"url(#pd2d1b7282e)\" d=\"M 227.025852 13.377273 \nL 209.272924 92.522075 \nL 191.530286 121.607711 \nL 173.86341 132.226396 \nL 156.74043 135.92216 \nL 142.920474 136.86408 \nL 138.357749 136.922698 \nL 138.253126 136.922727 \nL 138.253125 136.922727 \nL 138.253125 136.922727 \nL 138.253125 136.922727 \n\" style=\"fill:none;stroke:#ff7f0e;stroke-linecap:square;stroke-width:1.5;\"/>\n    <defs>\n     <path d=\"M 0 3 \nC 0.795609 3 1.55874 2.683901 2.12132 2.12132 \nC 2.683901 1.55874 3 0.795609 3 0 \nC 3 -0.795609 2.683901 -1.55874 2.12132 -2.12132 \nC 1.55874 -2.683901 0.795609 -3 0 -3 \nC -0.795609 -3 -1.55874 -2.683901 -2.12132 -2.12132 \nC -2.683901 -1.55874 -3 -0.795609 -3 0 \nC -3 0.795609 -2.683901 1.55874 -2.12132 2.12132 \nC -1.55874 2.683901 -0.795609 3 0 3 \nz\n\" id=\"mfa733e974a\" style=\"stroke:#ff7f0e;\"/>\n    </defs>\n    <g clip-path=\"url(#pd2d1b7282e)\">\n     <use style=\"fill:#ff7f0e;stroke:#ff7f0e;\" x=\"227.025852\" xlink:href=\"#mfa733e974a\" y=\"13.377273\"/>\n     <use style=\"fill:#ff7f0e;stroke:#ff7f0e;\" x=\"209.272924\" xlink:href=\"#mfa733e974a\" y=\"92.522075\"/>\n     <use style=\"fill:#ff7f0e;stroke:#ff7f0e;\" x=\"191.530286\" xlink:href=\"#mfa733e974a\" y=\"121.607711\"/>\n     <use style=\"fill:#ff7f0e;stroke:#ff7f0e;\" x=\"173.86341\" xlink:href=\"#mfa733e974a\" y=\"132.226396\"/>\n     <use style=\"fill:#ff7f0e;stroke:#ff7f0e;\" x=\"156.74043\" xlink:href=\"#mfa733e974a\" y=\"135.92216\"/>\n     <use style=\"fill:#ff7f0e;stroke:#ff7f0e;\" x=\"142.920474\" xlink:href=\"#mfa733e974a\" y=\"136.86408\"/>\n     <use style=\"fill:#ff7f0e;stroke:#ff7f0e;\" x=\"138.357749\" xlink:href=\"#mfa733e974a\" y=\"136.922698\"/>\n     <use style=\"fill:#ff7f0e;stroke:#ff7f0e;\" x=\"138.253126\" xlink:href=\"#mfa733e974a\" y=\"136.922727\"/>\n     <use style=\"fill:#ff7f0e;stroke:#ff7f0e;\" x=\"138.253125\" xlink:href=\"#mfa733e974a\" y=\"136.922727\"/>\n     <use style=\"fill:#ff7f0e;stroke:#ff7f0e;\" x=\"138.253125\" xlink:href=\"#mfa733e974a\" y=\"136.922727\"/>\n     <use style=\"fill:#ff7f0e;stroke:#ff7f0e;\" x=\"138.253125\" xlink:href=\"#mfa733e974a\" y=\"136.922727\"/>\n    </g>\n   </g>\n   <g id=\"patch_3\">\n    <path d=\"M 40.603125 143.1 \nL 40.603125 7.2 \n\" style=\"fill:none;stroke:#000000;stroke-linecap:square;stroke-linejoin:miter;stroke-width:0.8;\"/>\n   </g>\n   <g id=\"patch_4\">\n    <path d=\"M 235.903125 143.1 \nL 235.903125 7.2 \n\" style=\"fill:none;stroke:#000000;stroke-linecap:square;stroke-linejoin:miter;stroke-width:0.8;\"/>\n   </g>\n   <g id=\"patch_5\">\n    <path d=\"M 40.603125 143.1 \nL 235.903125 143.1 \n\" style=\"fill:none;stroke:#000000;stroke-linecap:square;stroke-linejoin:miter;stroke-width:0.8;\"/>\n   </g>\n   <g id=\"patch_6\">\n    <path d=\"M 40.603125 7.2 \nL 235.903125 7.2 \n\" style=\"fill:none;stroke:#000000;stroke-linecap:square;stroke-linejoin:miter;stroke-width:0.8;\"/>\n   </g>\n  </g>\n </g>\n <defs>\n  <clipPath id=\"pd2d1b7282e\">\n   <rect height=\"135.9\" width=\"195.3\" x=\"40.603125\" y=\"7.2\"/>\n  </clipPath>\n </defs>\n</svg>\n",
      "text/plain": [
       "<Figure size 252x180 with 1 Axes>"
      ]
     },
     "metadata": {
      "needs_background": "light"
     },
     "output_type": "display_data"
    }
   ],
   "source": [
    "c = tf.constant(0.5)\n",
    "\n",
    "def f(x):  # O目标函数\n",
    "    return tf.cosh(c * x)\n",
    "\n",
    "def f_grad(x):  # 目标函数的梯度\n",
    "    return c * tf.sinh(c * x)\n",
    "\n",
    "def f_hess(x):  # 目标函数的Hessian\n",
    "    return c**2 * tf.cosh(c * x)\n",
    "\n",
    "def newton(eta=1):\n",
    "    x = 10.0\n",
    "    results = [x]\n",
    "    for i in range(10):\n",
    "        x -= eta * f_grad(x) / f_hess(x)\n",
    "        results.append(float(x))\n",
    "    print('epoch 10, x:', x)\n",
    "    return results\n",
    "\n",
    "show_trace(newton(), f)"
   ]
  },
  {
   "cell_type": "markdown",
   "metadata": {},
   "source": [
    "现在让我们考虑一个非凸函数，比如$f(x)=xcos(cx)$，为某些常数。 请注意在牛顿法中，我们最终将除以Hessian。 这意味着如果二阶导数是负的，f的值可能会趋于增加。 这是这个算法的致命缺陷！ 让我们看看实践中会发生什么。"
   ]
  },
  {
   "cell_type": "code",
   "execution_count": 44,
   "metadata": {
    "ExecuteTime": {
     "end_time": "2022-10-24T16:05:04.897514Z",
     "start_time": "2022-10-24T16:05:04.066121Z"
    }
   },
   "outputs": [
    {
     "name": "stdout",
     "output_type": "stream",
     "text": [
      "epoch 10, x: tf.Tensor(26.834133, shape=(), dtype=float32)\n"
     ]
    },
    {
     "data": {
      "image/svg+xml": "<?xml version=\"1.0\" encoding=\"utf-8\" standalone=\"no\"?>\n<!DOCTYPE svg PUBLIC \"-//W3C//DTD SVG 1.1//EN\"\n  \"http://www.w3.org/Graphics/SVG/1.1/DTD/svg11.dtd\">\n<!-- Created with matplotlib (https://matplotlib.org/) -->\n<svg height=\"180.65625pt\" version=\"1.1\" viewBox=\"0 0 251.482813 180.65625\" width=\"251.482813pt\" xmlns=\"http://www.w3.org/2000/svg\" xmlns:xlink=\"http://www.w3.org/1999/xlink\">\n <metadata>\n  <rdf:RDF xmlns:cc=\"http://creativecommons.org/ns#\" xmlns:dc=\"http://purl.org/dc/elements/1.1/\" xmlns:rdf=\"http://www.w3.org/1999/02/22-rdf-syntax-ns#\">\n   <cc:Work>\n    <dc:type rdf:resource=\"http://purl.org/dc/dcmitype/StillImage\"/>\n    <dc:date>2022-10-25T00:05:04.864708</dc:date>\n    <dc:format>image/svg+xml</dc:format>\n    <dc:creator>\n     <cc:Agent>\n      <dc:title>Matplotlib v3.3.3, https://matplotlib.org/</dc:title>\n     </cc:Agent>\n    </dc:creator>\n   </cc:Work>\n  </rdf:RDF>\n </metadata>\n <defs>\n  <style type=\"text/css\">*{stroke-linecap:butt;stroke-linejoin:round;}</style>\n </defs>\n <g id=\"figure_1\">\n  <g id=\"patch_1\">\n   <path d=\"M -0 180.65625 \nL 251.482813 180.65625 \nL 251.482813 0 \nL -0 0 \nz\n\" style=\"fill:none;\"/>\n  </g>\n  <g id=\"axes_1\">\n   <g id=\"patch_2\">\n    <path d=\"M 48.982813 143.1 \nL 244.282813 143.1 \nL 244.282813 7.2 \nL 48.982813 7.2 \nz\n\" style=\"fill:#ffffff;\"/>\n   </g>\n   <g id=\"matplotlib.axis_1\">\n    <g id=\"xtick_1\">\n     <g id=\"line2d_1\">\n      <path clip-path=\"url(#p38505894aa)\" d=\"M 82.72875 143.1 \nL 82.72875 7.2 \n\" style=\"fill:none;stroke:#b0b0b0;stroke-linecap:square;stroke-width:0.8;\"/>\n     </g>\n     <g id=\"line2d_2\">\n      <defs>\n       <path d=\"M 0 0 \nL 0 3.5 \n\" id=\"m18453308f4\" style=\"stroke:#000000;stroke-width:0.8;\"/>\n      </defs>\n      <g>\n       <use style=\"stroke:#000000;stroke-width:0.8;\" x=\"82.72875\" xlink:href=\"#m18453308f4\" y=\"143.1\"/>\n      </g>\n     </g>\n     <g id=\"text_1\">\n      <!-- −20 -->\n      <g transform=\"translate(72.176406 157.698438)scale(0.1 -0.1)\">\n       <defs>\n        <path d=\"M 10.59375 35.5 \nL 73.1875 35.5 \nL 73.1875 27.203125 \nL 10.59375 27.203125 \nz\n\" id=\"DejaVuSans-8722\"/>\n        <path d=\"M 19.1875 8.296875 \nL 53.609375 8.296875 \nL 53.609375 0 \nL 7.328125 0 \nL 7.328125 8.296875 \nQ 12.9375 14.109375 22.625 23.890625 \nQ 32.328125 33.6875 34.8125 36.53125 \nQ 39.546875 41.84375 41.421875 45.53125 \nQ 43.3125 49.21875 43.3125 52.78125 \nQ 43.3125 58.59375 39.234375 62.25 \nQ 35.15625 65.921875 28.609375 65.921875 \nQ 23.96875 65.921875 18.8125 64.3125 \nQ 13.671875 62.703125 7.8125 59.421875 \nL 7.8125 69.390625 \nQ 13.765625 71.78125 18.9375 73 \nQ 24.125 74.21875 28.421875 74.21875 \nQ 39.75 74.21875 46.484375 68.546875 \nQ 53.21875 62.890625 53.21875 53.421875 \nQ 53.21875 48.921875 51.53125 44.890625 \nQ 49.859375 40.875 45.40625 35.40625 \nQ 44.1875 33.984375 37.640625 27.21875 \nQ 31.109375 20.453125 19.1875 8.296875 \nz\n\" id=\"DejaVuSans-50\"/>\n        <path d=\"M 31.78125 66.40625 \nQ 24.171875 66.40625 20.328125 58.90625 \nQ 16.5 51.421875 16.5 36.375 \nQ 16.5 21.390625 20.328125 13.890625 \nQ 24.171875 6.390625 31.78125 6.390625 \nQ 39.453125 6.390625 43.28125 13.890625 \nQ 47.125 21.390625 47.125 36.375 \nQ 47.125 51.421875 43.28125 58.90625 \nQ 39.453125 66.40625 31.78125 66.40625 \nz\nM 31.78125 74.21875 \nQ 44.046875 74.21875 50.515625 64.515625 \nQ 56.984375 54.828125 56.984375 36.375 \nQ 56.984375 17.96875 50.515625 8.265625 \nQ 44.046875 -1.421875 31.78125 -1.421875 \nQ 19.53125 -1.421875 13.0625 8.265625 \nQ 6.59375 17.96875 6.59375 36.375 \nQ 6.59375 54.828125 13.0625 64.515625 \nQ 19.53125 74.21875 31.78125 74.21875 \nz\n\" id=\"DejaVuSans-48\"/>\n       </defs>\n       <use xlink:href=\"#DejaVuSans-8722\"/>\n       <use x=\"83.789062\" xlink:href=\"#DejaVuSans-50\"/>\n       <use x=\"147.412109\" xlink:href=\"#DejaVuSans-48\"/>\n      </g>\n     </g>\n    </g>\n    <g id=\"xtick_2\">\n     <g id=\"line2d_3\">\n      <path clip-path=\"url(#p38505894aa)\" d=\"M 146.632812 143.1 \nL 146.632812 7.2 \n\" style=\"fill:none;stroke:#b0b0b0;stroke-linecap:square;stroke-width:0.8;\"/>\n     </g>\n     <g id=\"line2d_4\">\n      <g>\n       <use style=\"stroke:#000000;stroke-width:0.8;\" x=\"146.632812\" xlink:href=\"#m18453308f4\" y=\"143.1\"/>\n      </g>\n     </g>\n     <g id=\"text_2\">\n      <!-- 0 -->\n      <g transform=\"translate(143.451562 157.698438)scale(0.1 -0.1)\">\n       <use xlink:href=\"#DejaVuSans-48\"/>\n      </g>\n     </g>\n    </g>\n    <g id=\"xtick_3\">\n     <g id=\"line2d_5\">\n      <path clip-path=\"url(#p38505894aa)\" d=\"M 210.536875 143.1 \nL 210.536875 7.2 \n\" style=\"fill:none;stroke:#b0b0b0;stroke-linecap:square;stroke-width:0.8;\"/>\n     </g>\n     <g id=\"line2d_6\">\n      <g>\n       <use style=\"stroke:#000000;stroke-width:0.8;\" x=\"210.536875\" xlink:href=\"#m18453308f4\" y=\"143.1\"/>\n      </g>\n     </g>\n     <g id=\"text_3\">\n      <!-- 20 -->\n      <g transform=\"translate(204.174375 157.698438)scale(0.1 -0.1)\">\n       <use xlink:href=\"#DejaVuSans-50\"/>\n       <use x=\"63.623047\" xlink:href=\"#DejaVuSans-48\"/>\n      </g>\n     </g>\n    </g>\n    <g id=\"text_4\">\n     <!-- x -->\n     <g transform=\"translate(143.673438 171.376563)scale(0.1 -0.1)\">\n      <defs>\n       <path d=\"M 54.890625 54.6875 \nL 35.109375 28.078125 \nL 55.90625 0 \nL 45.3125 0 \nL 29.390625 21.484375 \nL 13.484375 0 \nL 2.875 0 \nL 24.125 28.609375 \nL 4.6875 54.6875 \nL 15.28125 54.6875 \nL 29.78125 35.203125 \nL 44.28125 54.6875 \nz\n\" id=\"DejaVuSans-120\"/>\n      </defs>\n      <use xlink:href=\"#DejaVuSans-120\"/>\n     </g>\n    </g>\n   </g>\n   <g id=\"matplotlib.axis_2\">\n    <g id=\"ytick_1\">\n     <g id=\"line2d_7\">\n      <path clip-path=\"url(#p38505894aa)\" d=\"M 48.982813 121.334157 \nL 244.282813 121.334157 \n\" style=\"fill:none;stroke:#b0b0b0;stroke-linecap:square;stroke-width:0.8;\"/>\n     </g>\n     <g id=\"line2d_8\">\n      <defs>\n       <path d=\"M 0 0 \nL -3.5 0 \n\" id=\"mbd615abb73\" style=\"stroke:#000000;stroke-width:0.8;\"/>\n      </defs>\n      <g>\n       <use style=\"stroke:#000000;stroke-width:0.8;\" x=\"48.982813\" xlink:href=\"#mbd615abb73\" y=\"121.334157\"/>\n      </g>\n     </g>\n     <g id=\"text_5\">\n      <!-- −20 -->\n      <g transform=\"translate(20.878125 125.133376)scale(0.1 -0.1)\">\n       <use xlink:href=\"#DejaVuSans-8722\"/>\n       <use x=\"83.789062\" xlink:href=\"#DejaVuSans-50\"/>\n       <use x=\"147.412109\" xlink:href=\"#DejaVuSans-48\"/>\n      </g>\n     </g>\n    </g>\n    <g id=\"ytick_2\">\n     <g id=\"line2d_9\">\n      <path clip-path=\"url(#p38505894aa)\" d=\"M 48.982813 98.24208 \nL 244.282813 98.24208 \n\" style=\"fill:none;stroke:#b0b0b0;stroke-linecap:square;stroke-width:0.8;\"/>\n     </g>\n     <g id=\"line2d_10\">\n      <g>\n       <use style=\"stroke:#000000;stroke-width:0.8;\" x=\"48.982813\" xlink:href=\"#mbd615abb73\" y=\"98.24208\"/>\n      </g>\n     </g>\n     <g id=\"text_6\">\n      <!-- −10 -->\n      <g transform=\"translate(20.878125 102.041298)scale(0.1 -0.1)\">\n       <defs>\n        <path d=\"M 12.40625 8.296875 \nL 28.515625 8.296875 \nL 28.515625 63.921875 \nL 10.984375 60.40625 \nL 10.984375 69.390625 \nL 28.421875 72.90625 \nL 38.28125 72.90625 \nL 38.28125 8.296875 \nL 54.390625 8.296875 \nL 54.390625 0 \nL 12.40625 0 \nz\n\" id=\"DejaVuSans-49\"/>\n       </defs>\n       <use xlink:href=\"#DejaVuSans-8722\"/>\n       <use x=\"83.789062\" xlink:href=\"#DejaVuSans-49\"/>\n       <use x=\"147.412109\" xlink:href=\"#DejaVuSans-48\"/>\n      </g>\n     </g>\n    </g>\n    <g id=\"ytick_3\">\n     <g id=\"line2d_11\">\n      <path clip-path=\"url(#p38505894aa)\" d=\"M 48.982813 75.150002 \nL 244.282813 75.150002 \n\" style=\"fill:none;stroke:#b0b0b0;stroke-linecap:square;stroke-width:0.8;\"/>\n     </g>\n     <g id=\"line2d_12\">\n      <g>\n       <use style=\"stroke:#000000;stroke-width:0.8;\" x=\"48.982813\" xlink:href=\"#mbd615abb73\" y=\"75.150002\"/>\n      </g>\n     </g>\n     <g id=\"text_7\">\n      <!-- 0 -->\n      <g transform=\"translate(35.620313 78.949221)scale(0.1 -0.1)\">\n       <use xlink:href=\"#DejaVuSans-48\"/>\n      </g>\n     </g>\n    </g>\n    <g id=\"ytick_4\">\n     <g id=\"line2d_13\">\n      <path clip-path=\"url(#p38505894aa)\" d=\"M 48.982813 52.057925 \nL 244.282813 52.057925 \n\" style=\"fill:none;stroke:#b0b0b0;stroke-linecap:square;stroke-width:0.8;\"/>\n     </g>\n     <g id=\"line2d_14\">\n      <g>\n       <use style=\"stroke:#000000;stroke-width:0.8;\" x=\"48.982813\" xlink:href=\"#mbd615abb73\" y=\"52.057925\"/>\n      </g>\n     </g>\n     <g id=\"text_8\">\n      <!-- 10 -->\n      <g transform=\"translate(29.257813 55.857144)scale(0.1 -0.1)\">\n       <use xlink:href=\"#DejaVuSans-49\"/>\n       <use x=\"63.623047\" xlink:href=\"#DejaVuSans-48\"/>\n      </g>\n     </g>\n    </g>\n    <g id=\"ytick_5\">\n     <g id=\"line2d_15\">\n      <path clip-path=\"url(#p38505894aa)\" d=\"M 48.982813 28.965848 \nL 244.282813 28.965848 \n\" style=\"fill:none;stroke:#b0b0b0;stroke-linecap:square;stroke-width:0.8;\"/>\n     </g>\n     <g id=\"line2d_16\">\n      <g>\n       <use style=\"stroke:#000000;stroke-width:0.8;\" x=\"48.982813\" xlink:href=\"#mbd615abb73\" y=\"28.965848\"/>\n      </g>\n     </g>\n     <g id=\"text_9\">\n      <!-- 20 -->\n      <g transform=\"translate(29.257813 32.765066)scale(0.1 -0.1)\">\n       <use xlink:href=\"#DejaVuSans-50\"/>\n       <use x=\"63.623047\" xlink:href=\"#DejaVuSans-48\"/>\n      </g>\n     </g>\n    </g>\n    <g id=\"text_10\">\n     <!-- f(x) -->\n     <g transform=\"translate(14.798438 83.771094)rotate(-90)scale(0.1 -0.1)\">\n      <defs>\n       <path d=\"M 37.109375 75.984375 \nL 37.109375 68.5 \nL 28.515625 68.5 \nQ 23.6875 68.5 21.796875 66.546875 \nQ 19.921875 64.59375 19.921875 59.515625 \nL 19.921875 54.6875 \nL 34.71875 54.6875 \nL 34.71875 47.703125 \nL 19.921875 47.703125 \nL 19.921875 0 \nL 10.890625 0 \nL 10.890625 47.703125 \nL 2.296875 47.703125 \nL 2.296875 54.6875 \nL 10.890625 54.6875 \nL 10.890625 58.5 \nQ 10.890625 67.625 15.140625 71.796875 \nQ 19.390625 75.984375 28.609375 75.984375 \nz\n\" id=\"DejaVuSans-102\"/>\n       <path d=\"M 31 75.875 \nQ 24.46875 64.65625 21.28125 53.65625 \nQ 18.109375 42.671875 18.109375 31.390625 \nQ 18.109375 20.125 21.3125 9.0625 \nQ 24.515625 -2 31 -13.1875 \nL 23.1875 -13.1875 \nQ 15.875 -1.703125 12.234375 9.375 \nQ 8.59375 20.453125 8.59375 31.390625 \nQ 8.59375 42.28125 12.203125 53.3125 \nQ 15.828125 64.359375 23.1875 75.875 \nz\n\" id=\"DejaVuSans-40\"/>\n       <path d=\"M 8.015625 75.875 \nL 15.828125 75.875 \nQ 23.140625 64.359375 26.78125 53.3125 \nQ 30.421875 42.28125 30.421875 31.390625 \nQ 30.421875 20.453125 26.78125 9.375 \nQ 23.140625 -1.703125 15.828125 -13.1875 \nL 8.015625 -13.1875 \nQ 14.5 -2 17.703125 9.0625 \nQ 20.90625 20.125 20.90625 31.390625 \nQ 20.90625 42.671875 17.703125 53.65625 \nQ 14.5 64.65625 8.015625 75.875 \nz\n\" id=\"DejaVuSans-41\"/>\n      </defs>\n      <use xlink:href=\"#DejaVuSans-102\"/>\n      <use x=\"35.205078\" xlink:href=\"#DejaVuSans-40\"/>\n      <use x=\"74.21875\" xlink:href=\"#DejaVuSans-120\"/>\n      <use x=\"133.398438\" xlink:href=\"#DejaVuSans-41\"/>\n     </g>\n    </g>\n   </g>\n   <g id=\"line2d_17\">\n    <path clip-path=\"url(#p38505894aa)\" d=\"M 57.860085 130.630589 \nL 58.690857 133.600167 \nL 59.393818 135.384094 \nL 60.00092 136.379335 \nL 60.512165 136.824173 \nL 60.92755 136.921886 \nL 61.342936 136.785132 \nL 61.790275 136.378829 \nL 62.301519 135.591368 \nL 62.908622 134.220289 \nL 63.643535 131.952091 \nL 64.50626 128.489125 \nL 65.496795 123.540366 \nL 66.679048 116.450707 \nL 68.148875 106.210431 \nL 70.28971 89.534201 \nL 74.124041 59.576525 \nL 75.721679 48.91709 \nL 77.031743 41.583666 \nL 78.150089 36.518847 \nL 79.108672 33.141218 \nL 79.939444 30.971244 \nL 80.642405 29.698006 \nL 81.249507 29.016842 \nL 81.760752 28.743237 \nL 82.240043 28.733486 \nL 82.719334 28.959087 \nL 83.230579 29.453963 \nL 83.837681 30.372884 \nL 84.540642 31.86802 \nL 85.371414 34.196096 \nL 86.361949 37.696658 \nL 87.544202 42.770458 \nL 88.982076 49.983609 \nL 91.059005 61.671737 \nL 95.021148 84.093395 \nL 96.618786 91.769172 \nL 97.928849 97.034585 \nL 99.047196 100.664447 \nL 100.005779 103.084742 \nL 100.868504 104.693518 \nL 101.603417 105.631161 \nL 102.242472 106.122849 \nL 102.817622 106.310776 \nL 103.392772 106.262096 \nL 103.967921 105.983082 \nL 104.606977 105.412668 \nL 105.34189 104.434666 \nL 106.172662 102.943233 \nL 107.163198 100.683628 \nL 108.34545 97.403216 \nL 109.84723 92.536978 \nL 112.243687 83.891971 \nL 115.215294 73.361921 \nL 116.844885 68.394979 \nL 118.186901 64.986952 \nL 119.3372 62.642748 \nL 120.359689 61.041991 \nL 121.254366 60.0258 \nL 122.085138 59.403941 \nL 122.852004 59.099712 \nL 123.586918 59.042737 \nL 124.321831 59.204041 \nL 125.12065 59.610445 \nL 126.015328 60.325247 \nL 127.069769 61.473674 \nL 128.347879 63.221525 \nL 130.105281 66.045556 \nL 134.41889 73.132866 \nL 135.888682 75.042984 \nL 137.13481 76.311323 \nL 138.25313 77.140678 \nL 139.275594 77.632331 \nL 140.266107 77.867566 \nL 141.256619 77.876735 \nL 142.311035 77.660125 \nL 143.493259 77.180073 \nL 144.931099 76.341319 \nL 147.615068 74.447551 \nL 149.500237 73.260247 \nL 150.810269 72.686014 \nL 151.928589 72.431909 \nL 152.951053 72.426856 \nL 153.941565 72.650701 \nL 154.932077 73.111387 \nL 155.954541 73.838021 \nL 157.072861 74.915657 \nL 158.318989 76.434816 \nL 159.820742 78.633892 \nL 162.025483 82.311162 \nL 164.965137 87.148954 \nL 166.371059 89.037663 \nL 167.489405 90.19087 \nL 168.447988 90.870817 \nL 169.27876 91.195722 \nL 170.045626 91.256878 \nL 170.78054 91.086545 \nL 171.515453 90.682341 \nL 172.282318 90.004415 \nL 173.145043 88.925419 \nL 174.071673 87.396133 \nL 175.126114 85.204632 \nL 176.340319 82.12809 \nL 177.746241 77.923979 \nL 179.567548 71.712335 \nL 185.03147 52.564392 \nL 186.341534 49.026596 \nL 187.395975 46.767589 \nL 188.290652 45.335279 \nL 189.057518 44.499774 \nL 189.728526 44.086558 \nL 190.303676 43.979424 \nL 190.846873 44.094107 \nL 191.422023 44.448861 \nL 192.061078 45.12821 \nL 192.764039 46.223899 \nL 193.562858 47.909228 \nL 194.457535 50.340384 \nL 195.480024 53.790055 \nL 196.662276 58.598853 \nL 198.068197 65.302039 \nL 199.889505 75.16879 \nL 205.577097 106.852008 \nL 206.919113 112.663502 \nL 208.005507 116.449408 \nL 208.932137 118.919286 \nL 209.699003 120.38107 \nL 210.338058 121.170681 \nL 210.881255 121.523166 \nL 211.360547 121.584696 \nL 211.839838 121.408376 \nL 212.351082 120.955294 \nL 212.926232 120.11686 \nL 213.59724 118.699437 \nL 214.364106 116.507058 \nL 215.226831 113.330074 \nL 216.217367 108.799536 \nL 217.367666 102.450457 \nL 218.741635 93.544028 \nL 220.499037 80.561493 \nL 226.793731 32.523924 \nL 228.071841 25.142376 \nL 229.126283 20.236547 \nL 230.02096 17.036083 \nL 230.787826 15.05862 \nL 231.426881 13.981151 \nL 231.938126 13.505623 \nL 232.385464 13.377374 \nL 232.80085 13.501976 \nL 233.248189 13.900682 \nL 233.759433 14.693446 \nL 234.366536 16.101108 \nL 235.069496 18.357233 \nL 235.389024 19.601441 \nL 235.389024 19.601441 \n\" style=\"fill:none;stroke:#1f77b4;stroke-linecap:square;stroke-width:1.5;\"/>\n   </g>\n   <g id=\"line2d_18\">\n    <path clip-path=\"url(#p38505894aa)\" d=\"M 178.584844 75.150002 \nL 162.608828 83.314284 \nL 226.496497 34.435752 \nL 235.40554 19.669415 \nL 232.264564 13.385311 \nL 232.373458 13.377273 \nL 232.373312 13.377273 \nL 232.373318 13.377273 \nL 232.373318 13.377273 \nL 232.373318 13.377273 \nL 232.373318 13.377273 \n\" style=\"fill:none;stroke:#ff7f0e;stroke-linecap:square;stroke-width:1.5;\"/>\n    <defs>\n     <path d=\"M 0 3 \nC 0.795609 3 1.55874 2.683901 2.12132 2.12132 \nC 2.683901 1.55874 3 0.795609 3 0 \nC 3 -0.795609 2.683901 -1.55874 2.12132 -2.12132 \nC 1.55874 -2.683901 0.795609 -3 0 -3 \nC -0.795609 -3 -1.55874 -2.683901 -2.12132 -2.12132 \nC -2.683901 -1.55874 -3 -0.795609 -3 0 \nC -3 0.795609 -2.683901 1.55874 -2.12132 2.12132 \nC -1.55874 2.683901 -0.795609 3 0 3 \nz\n\" id=\"m9be190be3e\" style=\"stroke:#ff7f0e;\"/>\n    </defs>\n    <g clip-path=\"url(#p38505894aa)\">\n     <use style=\"fill:#ff7f0e;stroke:#ff7f0e;\" x=\"178.584844\" xlink:href=\"#m9be190be3e\" y=\"75.150002\"/>\n     <use style=\"fill:#ff7f0e;stroke:#ff7f0e;\" x=\"162.608828\" xlink:href=\"#m9be190be3e\" y=\"83.314284\"/>\n     <use style=\"fill:#ff7f0e;stroke:#ff7f0e;\" x=\"226.496497\" xlink:href=\"#m9be190be3e\" y=\"34.435752\"/>\n     <use style=\"fill:#ff7f0e;stroke:#ff7f0e;\" x=\"235.40554\" xlink:href=\"#m9be190be3e\" y=\"19.669415\"/>\n     <use style=\"fill:#ff7f0e;stroke:#ff7f0e;\" x=\"232.264564\" xlink:href=\"#m9be190be3e\" y=\"13.385311\"/>\n     <use style=\"fill:#ff7f0e;stroke:#ff7f0e;\" x=\"232.373458\" xlink:href=\"#m9be190be3e\" y=\"13.377273\"/>\n     <use style=\"fill:#ff7f0e;stroke:#ff7f0e;\" x=\"232.373312\" xlink:href=\"#m9be190be3e\" y=\"13.377273\"/>\n     <use style=\"fill:#ff7f0e;stroke:#ff7f0e;\" x=\"232.373318\" xlink:href=\"#m9be190be3e\" y=\"13.377273\"/>\n     <use style=\"fill:#ff7f0e;stroke:#ff7f0e;\" x=\"232.373318\" xlink:href=\"#m9be190be3e\" y=\"13.377273\"/>\n     <use style=\"fill:#ff7f0e;stroke:#ff7f0e;\" x=\"232.373318\" xlink:href=\"#m9be190be3e\" y=\"13.377273\"/>\n     <use style=\"fill:#ff7f0e;stroke:#ff7f0e;\" x=\"232.373318\" xlink:href=\"#m9be190be3e\" y=\"13.377273\"/>\n    </g>\n   </g>\n   <g id=\"patch_3\">\n    <path d=\"M 48.982813 143.1 \nL 48.982813 7.2 \n\" style=\"fill:none;stroke:#000000;stroke-linecap:square;stroke-linejoin:miter;stroke-width:0.8;\"/>\n   </g>\n   <g id=\"patch_4\">\n    <path d=\"M 244.282813 143.1 \nL 244.282813 7.2 \n\" style=\"fill:none;stroke:#000000;stroke-linecap:square;stroke-linejoin:miter;stroke-width:0.8;\"/>\n   </g>\n   <g id=\"patch_5\">\n    <path d=\"M 48.982813 143.1 \nL 244.282812 143.1 \n\" style=\"fill:none;stroke:#000000;stroke-linecap:square;stroke-linejoin:miter;stroke-width:0.8;\"/>\n   </g>\n   <g id=\"patch_6\">\n    <path d=\"M 48.982813 7.2 \nL 244.282812 7.2 \n\" style=\"fill:none;stroke:#000000;stroke-linecap:square;stroke-linejoin:miter;stroke-width:0.8;\"/>\n   </g>\n  </g>\n </g>\n <defs>\n  <clipPath id=\"p38505894aa\">\n   <rect height=\"135.9\" width=\"195.3\" x=\"48.982813\" y=\"7.2\"/>\n  </clipPath>\n </defs>\n</svg>\n",
      "text/plain": [
       "<Figure size 252x180 with 1 Axes>"
      ]
     },
     "metadata": {
      "needs_background": "light"
     },
     "output_type": "display_data"
    }
   ],
   "source": [
    "c = tf.constant(0.15 * np.pi)\n",
    "\n",
    "def f(x):  # 目标函数\n",
    "    return x * tf.cos(c * x)\n",
    "\n",
    "def f_grad(x):  # 目标函数的梯度\n",
    "    return tf.cos(c * x) - c * x * tf.sin(c * x)\n",
    "\n",
    "def f_hess(x):  # 目标函数的Hessian\n",
    "    return - 2 * c * tf.sin(c * x) - x * c**2 * tf.cos(c * x)\n",
    "\n",
    "show_trace(newton(), f)"
   ]
  },
  {
   "cell_type": "markdown",
   "metadata": {},
   "source": [
    "这发生了惊人的错误。我们怎样才能修正它？ 一种方法是用取Hessian的绝对值来修正，另一个策略是重新引入学习率。 这似乎违背了初衷，但不完全是——拥有二阶信息可以使我们在曲率较大时保持谨慎，而在目标函数较平坦时则采用较大的学习率。 让我们看看在学习率稍小的情况下它是如何生效的，比如eta=0.5。 如我们所见，我们有了一个相当高效的算法。"
   ]
  },
  {
   "cell_type": "code",
   "execution_count": 45,
   "metadata": {
    "ExecuteTime": {
     "end_time": "2022-10-24T16:05:51.611241Z",
     "start_time": "2022-10-24T16:05:51.195148Z"
    }
   },
   "outputs": [
    {
     "name": "stdout",
     "output_type": "stream",
     "text": [
      "epoch 10, x: tf.Tensor(7.26986, shape=(), dtype=float32)\n"
     ]
    },
    {
     "data": {
      "image/svg+xml": "<?xml version=\"1.0\" encoding=\"utf-8\" standalone=\"no\"?>\n<!DOCTYPE svg PUBLIC \"-//W3C//DTD SVG 1.1//EN\"\n  \"http://www.w3.org/Graphics/SVG/1.1/DTD/svg11.dtd\">\n<!-- Created with matplotlib (https://matplotlib.org/) -->\n<svg height=\"180.65625pt\" version=\"1.1\" viewBox=\"0 0 245.120313 180.65625\" width=\"245.120313pt\" xmlns=\"http://www.w3.org/2000/svg\" xmlns:xlink=\"http://www.w3.org/1999/xlink\">\n <metadata>\n  <rdf:RDF xmlns:cc=\"http://creativecommons.org/ns#\" xmlns:dc=\"http://purl.org/dc/elements/1.1/\" xmlns:rdf=\"http://www.w3.org/1999/02/22-rdf-syntax-ns#\">\n   <cc:Work>\n    <dc:type rdf:resource=\"http://purl.org/dc/dcmitype/StillImage\"/>\n    <dc:date>2022-10-25T00:05:51.579474</dc:date>\n    <dc:format>image/svg+xml</dc:format>\n    <dc:creator>\n     <cc:Agent>\n      <dc:title>Matplotlib v3.3.3, https://matplotlib.org/</dc:title>\n     </cc:Agent>\n    </dc:creator>\n   </cc:Work>\n  </rdf:RDF>\n </metadata>\n <defs>\n  <style type=\"text/css\">*{stroke-linecap:butt;stroke-linejoin:round;}</style>\n </defs>\n <g id=\"figure_1\">\n  <g id=\"patch_1\">\n   <path d=\"M 0 180.65625 \nL 245.120313 180.65625 \nL 245.120313 0 \nL 0 0 \nz\n\" style=\"fill:none;\"/>\n  </g>\n  <g id=\"axes_1\">\n   <g id=\"patch_2\">\n    <path d=\"M 42.620312 143.1 \nL 237.920313 143.1 \nL 237.920313 7.2 \nL 42.620312 7.2 \nz\n\" style=\"fill:#ffffff;\"/>\n   </g>\n   <g id=\"matplotlib.axis_1\">\n    <g id=\"xtick_1\">\n     <g id=\"line2d_1\">\n      <path clip-path=\"url(#p14a48d7031)\" d=\"M 51.497585 143.1 \nL 51.497585 7.2 \n\" style=\"fill:none;stroke:#b0b0b0;stroke-linecap:square;stroke-width:0.8;\"/>\n     </g>\n     <g id=\"line2d_2\">\n      <defs>\n       <path d=\"M 0 0 \nL 0 3.5 \n\" id=\"m15615545f0\" style=\"stroke:#000000;stroke-width:0.8;\"/>\n      </defs>\n      <g>\n       <use style=\"stroke:#000000;stroke-width:0.8;\" x=\"51.497585\" xlink:href=\"#m15615545f0\" y=\"143.1\"/>\n      </g>\n     </g>\n     <g id=\"text_1\">\n      <!-- −10 -->\n      <g transform=\"translate(40.945241 157.698438)scale(0.1 -0.1)\">\n       <defs>\n        <path d=\"M 10.59375 35.5 \nL 73.1875 35.5 \nL 73.1875 27.203125 \nL 10.59375 27.203125 \nz\n\" id=\"DejaVuSans-8722\"/>\n        <path d=\"M 12.40625 8.296875 \nL 28.515625 8.296875 \nL 28.515625 63.921875 \nL 10.984375 60.40625 \nL 10.984375 69.390625 \nL 28.421875 72.90625 \nL 38.28125 72.90625 \nL 38.28125 8.296875 \nL 54.390625 8.296875 \nL 54.390625 0 \nL 12.40625 0 \nz\n\" id=\"DejaVuSans-49\"/>\n        <path d=\"M 31.78125 66.40625 \nQ 24.171875 66.40625 20.328125 58.90625 \nQ 16.5 51.421875 16.5 36.375 \nQ 16.5 21.390625 20.328125 13.890625 \nQ 24.171875 6.390625 31.78125 6.390625 \nQ 39.453125 6.390625 43.28125 13.890625 \nQ 47.125 21.390625 47.125 36.375 \nQ 47.125 51.421875 43.28125 58.90625 \nQ 39.453125 66.40625 31.78125 66.40625 \nz\nM 31.78125 74.21875 \nQ 44.046875 74.21875 50.515625 64.515625 \nQ 56.984375 54.828125 56.984375 36.375 \nQ 56.984375 17.96875 50.515625 8.265625 \nQ 44.046875 -1.421875 31.78125 -1.421875 \nQ 19.53125 -1.421875 13.0625 8.265625 \nQ 6.59375 17.96875 6.59375 36.375 \nQ 6.59375 54.828125 13.0625 64.515625 \nQ 19.53125 74.21875 31.78125 74.21875 \nz\n\" id=\"DejaVuSans-48\"/>\n       </defs>\n       <use xlink:href=\"#DejaVuSans-8722\"/>\n       <use x=\"83.789062\" xlink:href=\"#DejaVuSans-49\"/>\n       <use x=\"147.412109\" xlink:href=\"#DejaVuSans-48\"/>\n      </g>\n     </g>\n    </g>\n    <g id=\"xtick_2\">\n     <g id=\"line2d_3\">\n      <path clip-path=\"url(#p14a48d7031)\" d=\"M 95.883949 143.1 \nL 95.883949 7.2 \n\" style=\"fill:none;stroke:#b0b0b0;stroke-linecap:square;stroke-width:0.8;\"/>\n     </g>\n     <g id=\"line2d_4\">\n      <g>\n       <use style=\"stroke:#000000;stroke-width:0.8;\" x=\"95.883949\" xlink:href=\"#m15615545f0\" y=\"143.1\"/>\n      </g>\n     </g>\n     <g id=\"text_2\">\n      <!-- −5 -->\n      <g transform=\"translate(88.512855 157.698438)scale(0.1 -0.1)\">\n       <defs>\n        <path d=\"M 10.796875 72.90625 \nL 49.515625 72.90625 \nL 49.515625 64.59375 \nL 19.828125 64.59375 \nL 19.828125 46.734375 \nQ 21.96875 47.46875 24.109375 47.828125 \nQ 26.265625 48.1875 28.421875 48.1875 \nQ 40.625 48.1875 47.75 41.5 \nQ 54.890625 34.8125 54.890625 23.390625 \nQ 54.890625 11.625 47.5625 5.09375 \nQ 40.234375 -1.421875 26.90625 -1.421875 \nQ 22.3125 -1.421875 17.546875 -0.640625 \nQ 12.796875 0.140625 7.71875 1.703125 \nL 7.71875 11.625 \nQ 12.109375 9.234375 16.796875 8.0625 \nQ 21.484375 6.890625 26.703125 6.890625 \nQ 35.15625 6.890625 40.078125 11.328125 \nQ 45.015625 15.765625 45.015625 23.390625 \nQ 45.015625 31 40.078125 35.4375 \nQ 35.15625 39.890625 26.703125 39.890625 \nQ 22.75 39.890625 18.8125 39.015625 \nQ 14.890625 38.140625 10.796875 36.28125 \nz\n\" id=\"DejaVuSans-53\"/>\n       </defs>\n       <use xlink:href=\"#DejaVuSans-8722\"/>\n       <use x=\"83.789062\" xlink:href=\"#DejaVuSans-53\"/>\n      </g>\n     </g>\n    </g>\n    <g id=\"xtick_3\">\n     <g id=\"line2d_5\">\n      <path clip-path=\"url(#p14a48d7031)\" d=\"M 140.270312 143.1 \nL 140.270312 7.2 \n\" style=\"fill:none;stroke:#b0b0b0;stroke-linecap:square;stroke-width:0.8;\"/>\n     </g>\n     <g id=\"line2d_6\">\n      <g>\n       <use style=\"stroke:#000000;stroke-width:0.8;\" x=\"140.270312\" xlink:href=\"#m15615545f0\" y=\"143.1\"/>\n      </g>\n     </g>\n     <g id=\"text_3\">\n      <!-- 0 -->\n      <g transform=\"translate(137.089062 157.698438)scale(0.1 -0.1)\">\n       <use xlink:href=\"#DejaVuSans-48\"/>\n      </g>\n     </g>\n    </g>\n    <g id=\"xtick_4\">\n     <g id=\"line2d_7\">\n      <path clip-path=\"url(#p14a48d7031)\" d=\"M 184.656676 143.1 \nL 184.656676 7.2 \n\" style=\"fill:none;stroke:#b0b0b0;stroke-linecap:square;stroke-width:0.8;\"/>\n     </g>\n     <g id=\"line2d_8\">\n      <g>\n       <use style=\"stroke:#000000;stroke-width:0.8;\" x=\"184.656676\" xlink:href=\"#m15615545f0\" y=\"143.1\"/>\n      </g>\n     </g>\n     <g id=\"text_4\">\n      <!-- 5 -->\n      <g transform=\"translate(181.475426 157.698438)scale(0.1 -0.1)\">\n       <use xlink:href=\"#DejaVuSans-53\"/>\n      </g>\n     </g>\n    </g>\n    <g id=\"xtick_5\">\n     <g id=\"line2d_9\">\n      <path clip-path=\"url(#p14a48d7031)\" d=\"M 229.04304 143.1 \nL 229.04304 7.2 \n\" style=\"fill:none;stroke:#b0b0b0;stroke-linecap:square;stroke-width:0.8;\"/>\n     </g>\n     <g id=\"line2d_10\">\n      <g>\n       <use style=\"stroke:#000000;stroke-width:0.8;\" x=\"229.04304\" xlink:href=\"#m15615545f0\" y=\"143.1\"/>\n      </g>\n     </g>\n     <g id=\"text_5\">\n      <!-- 10 -->\n      <g transform=\"translate(222.68054 157.698438)scale(0.1 -0.1)\">\n       <use xlink:href=\"#DejaVuSans-49\"/>\n       <use x=\"63.623047\" xlink:href=\"#DejaVuSans-48\"/>\n      </g>\n     </g>\n    </g>\n    <g id=\"text_6\">\n     <!-- x -->\n     <g transform=\"translate(137.310937 171.376563)scale(0.1 -0.1)\">\n      <defs>\n       <path d=\"M 54.890625 54.6875 \nL 35.109375 28.078125 \nL 55.90625 0 \nL 45.3125 0 \nL 29.390625 21.484375 \nL 13.484375 0 \nL 2.875 0 \nL 24.125 28.609375 \nL 4.6875 54.6875 \nL 15.28125 54.6875 \nL 29.78125 35.203125 \nL 44.28125 54.6875 \nz\n\" id=\"DejaVuSans-120\"/>\n      </defs>\n      <use xlink:href=\"#DejaVuSans-120\"/>\n     </g>\n    </g>\n   </g>\n   <g id=\"matplotlib.axis_2\">\n    <g id=\"ytick_1\">\n     <g id=\"line2d_11\">\n      <path clip-path=\"url(#p14a48d7031)\" d=\"M 42.620312 119.411598 \nL 237.920313 119.411598 \n\" style=\"fill:none;stroke:#b0b0b0;stroke-linecap:square;stroke-width:0.8;\"/>\n     </g>\n     <g id=\"line2d_12\">\n      <defs>\n       <path d=\"M 0 0 \nL -3.5 0 \n\" id=\"m106750bffd\" style=\"stroke:#000000;stroke-width:0.8;\"/>\n      </defs>\n      <g>\n       <use style=\"stroke:#000000;stroke-width:0.8;\" x=\"42.620312\" xlink:href=\"#m106750bffd\" y=\"119.411598\"/>\n      </g>\n     </g>\n     <g id=\"text_7\">\n      <!-- −5 -->\n      <g transform=\"translate(20.878125 123.210816)scale(0.1 -0.1)\">\n       <use xlink:href=\"#DejaVuSans-8722\"/>\n       <use x=\"83.789062\" xlink:href=\"#DejaVuSans-53\"/>\n      </g>\n     </g>\n    </g>\n    <g id=\"ytick_2\">\n     <g id=\"line2d_13\">\n      <path clip-path=\"url(#p14a48d7031)\" d=\"M 42.620312 75.150002 \nL 237.920313 75.150002 \n\" style=\"fill:none;stroke:#b0b0b0;stroke-linecap:square;stroke-width:0.8;\"/>\n     </g>\n     <g id=\"line2d_14\">\n      <g>\n       <use style=\"stroke:#000000;stroke-width:0.8;\" x=\"42.620312\" xlink:href=\"#m106750bffd\" y=\"75.150002\"/>\n      </g>\n     </g>\n     <g id=\"text_8\">\n      <!-- 0 -->\n      <g transform=\"translate(29.257812 78.949221)scale(0.1 -0.1)\">\n       <use xlink:href=\"#DejaVuSans-48\"/>\n      </g>\n     </g>\n    </g>\n    <g id=\"ytick_3\">\n     <g id=\"line2d_15\">\n      <path clip-path=\"url(#p14a48d7031)\" d=\"M 42.620312 30.888407 \nL 237.920313 30.888407 \n\" style=\"fill:none;stroke:#b0b0b0;stroke-linecap:square;stroke-width:0.8;\"/>\n     </g>\n     <g id=\"line2d_16\">\n      <g>\n       <use style=\"stroke:#000000;stroke-width:0.8;\" x=\"42.620312\" xlink:href=\"#m106750bffd\" y=\"30.888407\"/>\n      </g>\n     </g>\n     <g id=\"text_9\">\n      <!-- 5 -->\n      <g transform=\"translate(29.257812 34.687625)scale(0.1 -0.1)\">\n       <use xlink:href=\"#DejaVuSans-53\"/>\n      </g>\n     </g>\n    </g>\n    <g id=\"text_10\">\n     <!-- f(x) -->\n     <g transform=\"translate(14.798437 83.771094)rotate(-90)scale(0.1 -0.1)\">\n      <defs>\n       <path d=\"M 37.109375 75.984375 \nL 37.109375 68.5 \nL 28.515625 68.5 \nQ 23.6875 68.5 21.796875 66.546875 \nQ 19.921875 64.59375 19.921875 59.515625 \nL 19.921875 54.6875 \nL 34.71875 54.6875 \nL 34.71875 47.703125 \nL 19.921875 47.703125 \nL 19.921875 0 \nL 10.890625 0 \nL 10.890625 47.703125 \nL 2.296875 47.703125 \nL 2.296875 54.6875 \nL 10.890625 54.6875 \nL 10.890625 58.5 \nQ 10.890625 67.625 15.140625 71.796875 \nQ 19.390625 75.984375 28.609375 75.984375 \nz\n\" id=\"DejaVuSans-102\"/>\n       <path d=\"M 31 75.875 \nQ 24.46875 64.65625 21.28125 53.65625 \nQ 18.109375 42.671875 18.109375 31.390625 \nQ 18.109375 20.125 21.3125 9.0625 \nQ 24.515625 -2 31 -13.1875 \nL 23.1875 -13.1875 \nQ 15.875 -1.703125 12.234375 9.375 \nQ 8.59375 20.453125 8.59375 31.390625 \nQ 8.59375 42.28125 12.203125 53.3125 \nQ 15.828125 64.359375 23.1875 75.875 \nz\n\" id=\"DejaVuSans-40\"/>\n       <path d=\"M 8.015625 75.875 \nL 15.828125 75.875 \nQ 23.140625 64.359375 26.78125 53.3125 \nQ 30.421875 42.28125 30.421875 31.390625 \nQ 30.421875 20.453125 26.78125 9.375 \nQ 23.140625 -1.703125 15.828125 -13.1875 \nL 8.015625 -13.1875 \nQ 14.5 -2 17.703125 9.0625 \nQ 20.90625 20.125 20.90625 31.390625 \nQ 20.90625 42.671875 17.703125 53.65625 \nQ 14.5 64.65625 8.015625 75.875 \nz\n\" id=\"DejaVuSans-41\"/>\n      </defs>\n      <use xlink:href=\"#DejaVuSans-102\"/>\n      <use x=\"35.205078\" xlink:href=\"#DejaVuSans-40\"/>\n      <use x=\"74.21875\" xlink:href=\"#DejaVuSans-120\"/>\n      <use x=\"133.398438\" xlink:href=\"#DejaVuSans-41\"/>\n     </g>\n    </g>\n   </g>\n   <g id=\"line2d_17\">\n    <path clip-path=\"url(#p14a48d7031)\" d=\"M 51.497585 75.150003 \nL 54.515927 61.507184 \nL 57.090395 50.884517 \nL 59.309764 42.621478 \nL 61.351583 35.836439 \nL 63.215853 30.376436 \nL 64.991349 25.860915 \nL 66.589294 22.385532 \nL 68.098465 19.624045 \nL 69.518861 17.490348 \nL 70.850483 15.899317 \nL 72.093329 14.768966 \nL 73.247401 14.021968 \nL 74.312698 13.586699 \nL 75.377995 13.390514 \nL 76.443293 13.427626 \nL 77.50859 13.691383 \nL 78.662662 14.224185 \nL 79.816733 15.003677 \nL 81.05958 16.10578 \nL 82.479976 17.679251 \nL 83.989147 19.691039 \nL 85.675867 22.315221 \nL 87.628912 25.788722 \nL 89.848281 30.208436 \nL 92.600299 36.216897 \nL 96.595163 45.538161 \nL 102.720621 59.796948 \nL 105.650165 66.042504 \nL 108.135799 70.8364 \nL 110.355115 74.636501 \nL 112.308113 77.557758 \nL 114.172339 79.947834 \nL 115.859019 81.759087 \nL 117.456926 83.159218 \nL 118.966061 84.196639 \nL 120.386424 84.920898 \nL 121.806786 85.403961 \nL 123.227148 85.651535 \nL 124.647511 85.671665 \nL 126.067873 85.474649 \nL 127.577008 85.041318 \nL 129.174915 84.349945 \nL 130.950368 83.329366 \nL 132.903366 81.941625 \nL 135.211455 80.013832 \nL 138.229725 77.172927 \nL 146.041723 69.662804 \nL 148.349811 67.822935 \nL 150.30281 66.531213 \nL 152.078262 65.613594 \nL 153.67617 65.026333 \nL 155.185305 64.700102 \nL 156.605667 64.610598 \nL 158.02603 64.743682 \nL 159.446393 65.108532 \nL 160.866755 65.712032 \nL 162.287117 66.55868 \nL 163.796252 67.726893 \nL 165.39416 69.264691 \nL 167.08084 71.21839 \nL 168.856293 73.630083 \nL 170.809291 76.681973 \nL 172.939834 80.450321 \nL 175.336696 85.171197 \nL 178.088703 91.101941 \nL 181.817243 99.714437 \nL 189.274322 117.056081 \nL 191.937565 122.626943 \nL 194.156934 126.776261 \nL 196.021204 129.824695 \nL 197.707925 132.180828 \nL 199.217095 133.926513 \nL 200.637492 135.228359 \nL 201.880338 136.07717 \nL 203.03441 136.609457 \nL 204.099707 136.872711 \nL 205.165004 136.909313 \nL 206.230301 136.712609 \nL 207.295599 136.2768 \nL 208.360896 135.596998 \nL 209.514967 134.58065 \nL 210.669039 133.269572 \nL 211.911882 131.525361 \nL 213.243503 129.272987 \nL 214.663899 126.434359 \nL 216.261845 122.70863 \nL 217.948565 118.177183 \nL 219.724061 112.765064 \nL 221.677105 106.088833 \nL 223.807699 98.00386 \nL 226.204618 88.012859 \nL 228.956636 75.555633 \nL 228.956636 75.555633 \n\" style=\"fill:none;stroke:#1f77b4;stroke-linecap:square;stroke-width:1.5;\"/>\n   </g>\n   <g id=\"line2d_18\">\n    <path clip-path=\"url(#p14a48d7031)\" d=\"M 229.04304 75.150001 \nL 206.849858 136.488573 \nL 205.848192 136.810378 \nL 205.331865 136.89407 \nL 205.069008 136.915488 \nL 204.936286 136.920908 \nL 204.869587 136.922271 \nL 204.83615 136.922613 \nL 204.819408 136.922702 \nL 204.811031 136.922723 \nL 204.806841 136.922727 \n\" style=\"fill:none;stroke:#ff7f0e;stroke-linecap:square;stroke-width:1.5;\"/>\n    <defs>\n     <path d=\"M 0 3 \nC 0.795609 3 1.55874 2.683901 2.12132 2.12132 \nC 2.683901 1.55874 3 0.795609 3 0 \nC 3 -0.795609 2.683901 -1.55874 2.12132 -2.12132 \nC 1.55874 -2.683901 0.795609 -3 0 -3 \nC -0.795609 -3 -1.55874 -2.683901 -2.12132 -2.12132 \nC -2.683901 -1.55874 -3 -0.795609 -3 0 \nC -3 0.795609 -2.683901 1.55874 -2.12132 2.12132 \nC -1.55874 2.683901 -0.795609 3 0 3 \nz\n\" id=\"mec572b3548\" style=\"stroke:#ff7f0e;\"/>\n    </defs>\n    <g clip-path=\"url(#p14a48d7031)\">\n     <use style=\"fill:#ff7f0e;stroke:#ff7f0e;\" x=\"229.04304\" xlink:href=\"#mec572b3548\" y=\"75.150001\"/>\n     <use style=\"fill:#ff7f0e;stroke:#ff7f0e;\" x=\"206.849858\" xlink:href=\"#mec572b3548\" y=\"136.488573\"/>\n     <use style=\"fill:#ff7f0e;stroke:#ff7f0e;\" x=\"205.848192\" xlink:href=\"#mec572b3548\" y=\"136.810378\"/>\n     <use style=\"fill:#ff7f0e;stroke:#ff7f0e;\" x=\"205.331865\" xlink:href=\"#mec572b3548\" y=\"136.89407\"/>\n     <use style=\"fill:#ff7f0e;stroke:#ff7f0e;\" x=\"205.069008\" xlink:href=\"#mec572b3548\" y=\"136.915488\"/>\n     <use style=\"fill:#ff7f0e;stroke:#ff7f0e;\" x=\"204.936286\" xlink:href=\"#mec572b3548\" y=\"136.920908\"/>\n     <use style=\"fill:#ff7f0e;stroke:#ff7f0e;\" x=\"204.869587\" xlink:href=\"#mec572b3548\" y=\"136.922271\"/>\n     <use style=\"fill:#ff7f0e;stroke:#ff7f0e;\" x=\"204.83615\" xlink:href=\"#mec572b3548\" y=\"136.922613\"/>\n     <use style=\"fill:#ff7f0e;stroke:#ff7f0e;\" x=\"204.819408\" xlink:href=\"#mec572b3548\" y=\"136.922702\"/>\n     <use style=\"fill:#ff7f0e;stroke:#ff7f0e;\" x=\"204.811031\" xlink:href=\"#mec572b3548\" y=\"136.922723\"/>\n     <use style=\"fill:#ff7f0e;stroke:#ff7f0e;\" x=\"204.806841\" xlink:href=\"#mec572b3548\" y=\"136.922727\"/>\n    </g>\n   </g>\n   <g id=\"patch_3\">\n    <path d=\"M 42.620312 143.1 \nL 42.620312 7.2 \n\" style=\"fill:none;stroke:#000000;stroke-linecap:square;stroke-linejoin:miter;stroke-width:0.8;\"/>\n   </g>\n   <g id=\"patch_4\">\n    <path d=\"M 237.920313 143.1 \nL 237.920313 7.2 \n\" style=\"fill:none;stroke:#000000;stroke-linecap:square;stroke-linejoin:miter;stroke-width:0.8;\"/>\n   </g>\n   <g id=\"patch_5\">\n    <path d=\"M 42.620312 143.1 \nL 237.920313 143.1 \n\" style=\"fill:none;stroke:#000000;stroke-linecap:square;stroke-linejoin:miter;stroke-width:0.8;\"/>\n   </g>\n   <g id=\"patch_6\">\n    <path d=\"M 42.620312 7.2 \nL 237.920313 7.2 \n\" style=\"fill:none;stroke:#000000;stroke-linecap:square;stroke-linejoin:miter;stroke-width:0.8;\"/>\n   </g>\n  </g>\n </g>\n <defs>\n  <clipPath id=\"p14a48d7031\">\n   <rect height=\"135.9\" width=\"195.3\" x=\"42.620312\" y=\"7.2\"/>\n  </clipPath>\n </defs>\n</svg>\n",
      "text/plain": [
       "<Figure size 252x180 with 1 Axes>"
      ]
     },
     "metadata": {
      "needs_background": "light"
     },
     "output_type": "display_data"
    }
   ],
   "source": [
    "show_trace(newton(0.5), f)"
   ]
  },
  {
   "cell_type": "markdown",
   "metadata": {},
   "source": [
    "##### 11.3.3.2. 收敛性分析\n",
    "##### 11.3.3.3. 预处理\n",
    "计算和存储完整的Hessian非常昂贵，而改善这个问题的一种方法是“预处理”。 它回避了计算整个Hessian，而只计算“对角线”项，即如下的算法更新：\n",
    "\n",
    "- $x <-- x-\\eta diag(H)^{-1}\\nabla f(x)$\n",
    "\n",
    "虽然这不如完整的牛顿法精确，但它仍然比不使用要好得多。 为什么预处理有效呢？ 假设一个变量以毫米表示高度，另一个变量以公里表示高度的情况。 假设这两种自然尺度都以米为单位，那么我们的参数化就出现了严重的不匹配。 幸运的是，使用预处理可以消除这种情况。 梯度下降的有效预处理相当于为每个变量选择不同的学习率（矢量x的坐标）。 我们将在后面一节看到，预处理推动了随机梯度下降优化算法的一些创新。"
   ]
  },
  {
   "cell_type": "markdown",
   "metadata": {},
   "source": [
    "##### 11.3.3.4. 梯度下降和线搜索\n",
    "\n",
    "梯度下降的一个关键问题是我们可能会超过目标或进展不足， 解决这一问题的简单方法是结合使用线搜索和梯度下降。 也就是说，我们使用给出的方向， 然后进行二分搜索,以确定哪个学习率$\\eta$使$f(x-\\eta \\nabla f(x))$取最小值。\n",
    "有关分析和证明，此算法收敛迅速（请参见 [Boyd & Vandenberghe, 2004]）。 然而，对深度学习而言，这不太可行。 因为线搜索的每一步都需要评估整个数据集上的目标函数，实现它的方式太昂贵了。"
   ]
  },
  {
   "cell_type": "markdown",
   "metadata": {},
   "source": [
    "#### 11.3.4. 小结\n",
    "\n",
    "- 学习率的大小很重要：学习率太大会使模型发散，学习率太小会没有进展。\n",
    "\n",
    "- 梯度下降会可能陷入局部极小值，而得不到全局最小值。\n",
    "\n",
    "- 在高维模型中，调整学习率是很复杂的。\n",
    "\n",
    "- 预处理有助于调节比例。\n",
    "\n",
    "- 牛顿法在凸问题中一旦开始正常工作，速度就会快得多。\n",
    "\n",
    "- 对于非凸问题，不要不作任何调整就使用牛顿法。"
   ]
  },
  {
   "cell_type": "markdown",
   "metadata": {},
   "source": [
    "### 11.4随机梯度下降\n",
    "但是，在前面的章节中，我们一直在训练过程中使用随机梯度下降，但没有解释它为什么起作用。为了澄清这一点，我们刚在 11.3节中描述了梯度下降的基本原则。在本节中，我们继续更详细地说明随机梯度下降（stochastic gradient descent）\n",
    "#### 11.4.1 随机梯度更新\n",
    "在深度学习中，目标函数通常是训练数据集中每个样本的损失函数的平均值。给定n个样本的训练数据集，我们假设$f_i(x)$是关于索引i的训练样本的损失函数，其中x是参数向量。然后我们得到目标函数 $f(x)=\\frac{1}{n}\\sum_{i=1}^n f_i(x)$,其梯度为$\\nabla f(x)=\\frac{1}{n}\\sum_{i=1}^n \\nabla f_i(x)$\n",
    "\n",
    "- 如果使用梯度下降法，则每个自变量迭代的计算代价为O(n)，它随n线性增长。因此，当训练数据集较大时，每次迭代的梯度下降计算代价将较高。\n",
    "- 随机梯度下降（SGD）可降低每次迭代时的计算代价。在随机梯度下降的每次迭代中，我们对数据样本随机均匀采样一个索引i，其中$i\\in\\{1,...,n\\}$，并计算梯度以更新x：\n",
    "- 其中是学习率。我们可以看到，每次迭代的计算代价从梯度下降的O(n)降至常数O(1)。此外，我们要强调，随机梯度是对完整梯度的无偏估计\n",
    "\n",
    "现在，我们将把它与梯度下降进行比较，方法是向梯度添加均值为0、方差为1的随机噪声，以模拟随机梯度下降。"
   ]
  },
  {
   "cell_type": "code",
   "execution_count": 50,
   "metadata": {
    "ExecuteTime": {
     "end_time": "2022-10-26T16:19:52.043392Z",
     "start_time": "2022-10-26T16:19:51.888895Z"
    }
   },
   "outputs": [
    {
     "name": "stdout",
     "output_type": "stream",
     "text": [
      "epoch 50, x1: -0.030616, x2: 0.262973\n"
     ]
    },
    {
     "data": {
      "image/svg+xml": "<?xml version=\"1.0\" encoding=\"utf-8\" standalone=\"no\"?>\n<!DOCTYPE svg PUBLIC \"-//W3C//DTD SVG 1.1//EN\"\n  \"http://www.w3.org/Graphics/SVG/1.1/DTD/svg11.dtd\">\n<!-- Created with matplotlib (https://matplotlib.org/) -->\n<svg height=\"180.65625pt\" version=\"1.1\" viewBox=\"0 0 245.120313 180.65625\" width=\"245.120313pt\" xmlns=\"http://www.w3.org/2000/svg\" xmlns:xlink=\"http://www.w3.org/1999/xlink\">\n <metadata>\n  <rdf:RDF xmlns:cc=\"http://creativecommons.org/ns#\" xmlns:dc=\"http://purl.org/dc/elements/1.1/\" xmlns:rdf=\"http://www.w3.org/1999/02/22-rdf-syntax-ns#\">\n   <cc:Work>\n    <dc:type rdf:resource=\"http://purl.org/dc/dcmitype/StillImage\"/>\n    <dc:date>2022-10-27T00:19:52.002303</dc:date>\n    <dc:format>image/svg+xml</dc:format>\n    <dc:creator>\n     <cc:Agent>\n      <dc:title>Matplotlib v3.3.3, https://matplotlib.org/</dc:title>\n     </cc:Agent>\n    </dc:creator>\n   </cc:Work>\n  </rdf:RDF>\n </metadata>\n <defs>\n  <style type=\"text/css\">*{stroke-linecap:butt;stroke-linejoin:round;}</style>\n </defs>\n <g id=\"figure_1\">\n  <g id=\"patch_1\">\n   <path d=\"M 0 180.65625 \nL 245.120313 180.65625 \nL 245.120313 0 \nL 0 0 \nz\n\" style=\"fill:none;\"/>\n  </g>\n  <g id=\"axes_1\">\n   <g id=\"patch_2\">\n    <path d=\"M 42.620312 143.1 \nL 237.920313 143.1 \nL 237.920313 7.2 \nL 42.620312 7.2 \nz\n\" style=\"fill:#ffffff;\"/>\n   </g>\n   <g id=\"matplotlib.axis_1\">\n    <g id=\"xtick_1\">\n     <g id=\"line2d_1\">\n      <defs>\n       <path d=\"M 0 0 \nL 0 3.5 \n\" id=\"mdee5c18fea\" style=\"stroke:#000000;stroke-width:0.8;\"/>\n      </defs>\n      <g>\n       <use style=\"stroke:#000000;stroke-width:0.8;\" x=\"88.393771\" xlink:href=\"#mdee5c18fea\" y=\"143.1\"/>\n      </g>\n     </g>\n     <g id=\"text_1\">\n      <!-- −4 -->\n      <g transform=\"translate(81.022677 157.698438)scale(0.1 -0.1)\">\n       <defs>\n        <path d=\"M 10.59375 35.5 \nL 73.1875 35.5 \nL 73.1875 27.203125 \nL 10.59375 27.203125 \nz\n\" id=\"DejaVuSans-8722\"/>\n        <path d=\"M 37.796875 64.3125 \nL 12.890625 25.390625 \nL 37.796875 25.390625 \nz\nM 35.203125 72.90625 \nL 47.609375 72.90625 \nL 47.609375 25.390625 \nL 58.015625 25.390625 \nL 58.015625 17.1875 \nL 47.609375 17.1875 \nL 47.609375 0 \nL 37.796875 0 \nL 37.796875 17.1875 \nL 4.890625 17.1875 \nL 4.890625 26.703125 \nz\n\" id=\"DejaVuSans-52\"/>\n       </defs>\n       <use xlink:href=\"#DejaVuSans-8722\"/>\n       <use x=\"83.789062\" xlink:href=\"#DejaVuSans-52\"/>\n      </g>\n     </g>\n    </g>\n    <g id=\"xtick_2\">\n     <g id=\"line2d_2\">\n      <g>\n       <use style=\"stroke:#000000;stroke-width:0.8;\" x=\"149.425049\" xlink:href=\"#mdee5c18fea\" y=\"143.1\"/>\n      </g>\n     </g>\n     <g id=\"text_2\">\n      <!-- −2 -->\n      <g transform=\"translate(142.053955 157.698438)scale(0.1 -0.1)\">\n       <defs>\n        <path d=\"M 19.1875 8.296875 \nL 53.609375 8.296875 \nL 53.609375 0 \nL 7.328125 0 \nL 7.328125 8.296875 \nQ 12.9375 14.109375 22.625 23.890625 \nQ 32.328125 33.6875 34.8125 36.53125 \nQ 39.546875 41.84375 41.421875 45.53125 \nQ 43.3125 49.21875 43.3125 52.78125 \nQ 43.3125 58.59375 39.234375 62.25 \nQ 35.15625 65.921875 28.609375 65.921875 \nQ 23.96875 65.921875 18.8125 64.3125 \nQ 13.671875 62.703125 7.8125 59.421875 \nL 7.8125 69.390625 \nQ 13.765625 71.78125 18.9375 73 \nQ 24.125 74.21875 28.421875 74.21875 \nQ 39.75 74.21875 46.484375 68.546875 \nQ 53.21875 62.890625 53.21875 53.421875 \nQ 53.21875 48.921875 51.53125 44.890625 \nQ 49.859375 40.875 45.40625 35.40625 \nQ 44.1875 33.984375 37.640625 27.21875 \nQ 31.109375 20.453125 19.1875 8.296875 \nz\n\" id=\"DejaVuSans-50\"/>\n       </defs>\n       <use xlink:href=\"#DejaVuSans-8722\"/>\n       <use x=\"83.789062\" xlink:href=\"#DejaVuSans-50\"/>\n      </g>\n     </g>\n    </g>\n    <g id=\"xtick_3\">\n     <g id=\"line2d_3\">\n      <g>\n       <use style=\"stroke:#000000;stroke-width:0.8;\" x=\"210.456327\" xlink:href=\"#mdee5c18fea\" y=\"143.1\"/>\n      </g>\n     </g>\n     <g id=\"text_3\">\n      <!-- 0 -->\n      <g transform=\"translate(207.275077 157.698438)scale(0.1 -0.1)\">\n       <defs>\n        <path d=\"M 31.78125 66.40625 \nQ 24.171875 66.40625 20.328125 58.90625 \nQ 16.5 51.421875 16.5 36.375 \nQ 16.5 21.390625 20.328125 13.890625 \nQ 24.171875 6.390625 31.78125 6.390625 \nQ 39.453125 6.390625 43.28125 13.890625 \nQ 47.125 21.390625 47.125 36.375 \nQ 47.125 51.421875 43.28125 58.90625 \nQ 39.453125 66.40625 31.78125 66.40625 \nz\nM 31.78125 74.21875 \nQ 44.046875 74.21875 50.515625 64.515625 \nQ 56.984375 54.828125 56.984375 36.375 \nQ 56.984375 17.96875 50.515625 8.265625 \nQ 44.046875 -1.421875 31.78125 -1.421875 \nQ 19.53125 -1.421875 13.0625 8.265625 \nQ 6.59375 17.96875 6.59375 36.375 \nQ 6.59375 54.828125 13.0625 64.515625 \nQ 19.53125 74.21875 31.78125 74.21875 \nz\n\" id=\"DejaVuSans-48\"/>\n       </defs>\n       <use xlink:href=\"#DejaVuSans-48\"/>\n      </g>\n     </g>\n    </g>\n    <g id=\"text_4\">\n     <!-- x1 -->\n     <g transform=\"translate(134.129687 171.376563)scale(0.1 -0.1)\">\n      <defs>\n       <path d=\"M 54.890625 54.6875 \nL 35.109375 28.078125 \nL 55.90625 0 \nL 45.3125 0 \nL 29.390625 21.484375 \nL 13.484375 0 \nL 2.875 0 \nL 24.125 28.609375 \nL 4.6875 54.6875 \nL 15.28125 54.6875 \nL 29.78125 35.203125 \nL 44.28125 54.6875 \nz\n\" id=\"DejaVuSans-120\"/>\n       <path d=\"M 12.40625 8.296875 \nL 28.515625 8.296875 \nL 28.515625 63.921875 \nL 10.984375 60.40625 \nL 10.984375 69.390625 \nL 28.421875 72.90625 \nL 38.28125 72.90625 \nL 38.28125 8.296875 \nL 54.390625 8.296875 \nL 54.390625 0 \nL 12.40625 0 \nz\n\" id=\"DejaVuSans-49\"/>\n      </defs>\n      <use xlink:href=\"#DejaVuSans-120\"/>\n      <use x=\"59.179688\" xlink:href=\"#DejaVuSans-49\"/>\n     </g>\n    </g>\n   </g>\n   <g id=\"matplotlib.axis_2\">\n    <g id=\"ytick_1\">\n     <g id=\"line2d_4\">\n      <defs>\n       <path d=\"M 0 0 \nL -3.5 0 \n\" id=\"mc4fd7c5a76\" style=\"stroke:#000000;stroke-width:0.8;\"/>\n      </defs>\n      <g>\n       <use style=\"stroke:#000000;stroke-width:0.8;\" x=\"42.620312\" xlink:href=\"#mc4fd7c5a76\" y=\"143.1\"/>\n      </g>\n     </g>\n     <g id=\"text_5\">\n      <!-- −3 -->\n      <g transform=\"translate(20.878125 146.899219)scale(0.1 -0.1)\">\n       <defs>\n        <path d=\"M 40.578125 39.3125 \nQ 47.65625 37.796875 51.625 33 \nQ 55.609375 28.21875 55.609375 21.1875 \nQ 55.609375 10.40625 48.1875 4.484375 \nQ 40.765625 -1.421875 27.09375 -1.421875 \nQ 22.515625 -1.421875 17.65625 -0.515625 \nQ 12.796875 0.390625 7.625 2.203125 \nL 7.625 11.71875 \nQ 11.71875 9.328125 16.59375 8.109375 \nQ 21.484375 6.890625 26.8125 6.890625 \nQ 36.078125 6.890625 40.9375 10.546875 \nQ 45.796875 14.203125 45.796875 21.1875 \nQ 45.796875 27.640625 41.28125 31.265625 \nQ 36.765625 34.90625 28.71875 34.90625 \nL 20.21875 34.90625 \nL 20.21875 43.015625 \nL 29.109375 43.015625 \nQ 36.375 43.015625 40.234375 45.921875 \nQ 44.09375 48.828125 44.09375 54.296875 \nQ 44.09375 59.90625 40.109375 62.90625 \nQ 36.140625 65.921875 28.71875 65.921875 \nQ 24.65625 65.921875 20.015625 65.03125 \nQ 15.375 64.15625 9.8125 62.3125 \nL 9.8125 71.09375 \nQ 15.4375 72.65625 20.34375 73.4375 \nQ 25.25 74.21875 29.59375 74.21875 \nQ 40.828125 74.21875 47.359375 69.109375 \nQ 53.90625 64.015625 53.90625 55.328125 \nQ 53.90625 49.265625 50.4375 45.09375 \nQ 46.96875 40.921875 40.578125 39.3125 \nz\n\" id=\"DejaVuSans-51\"/>\n       </defs>\n       <use xlink:href=\"#DejaVuSans-8722\"/>\n       <use x=\"83.789062\" xlink:href=\"#DejaVuSans-51\"/>\n      </g>\n     </g>\n    </g>\n    <g id=\"ytick_2\">\n     <g id=\"line2d_5\">\n      <g>\n       <use style=\"stroke:#000000;stroke-width:0.8;\" x=\"42.620312\" xlink:href=\"#mc4fd7c5a76\" y=\"108.253841\"/>\n      </g>\n     </g>\n     <g id=\"text_6\">\n      <!-- −2 -->\n      <g transform=\"translate(20.878125 112.05306)scale(0.1 -0.1)\">\n       <use xlink:href=\"#DejaVuSans-8722\"/>\n       <use x=\"83.789062\" xlink:href=\"#DejaVuSans-50\"/>\n      </g>\n     </g>\n    </g>\n    <g id=\"ytick_3\">\n     <g id=\"line2d_6\">\n      <g>\n       <use style=\"stroke:#000000;stroke-width:0.8;\" x=\"42.620312\" xlink:href=\"#mc4fd7c5a76\" y=\"73.407682\"/>\n      </g>\n     </g>\n     <g id=\"text_7\">\n      <!-- −1 -->\n      <g transform=\"translate(20.878125 77.206901)scale(0.1 -0.1)\">\n       <use xlink:href=\"#DejaVuSans-8722\"/>\n       <use x=\"83.789062\" xlink:href=\"#DejaVuSans-49\"/>\n      </g>\n     </g>\n    </g>\n    <g id=\"ytick_4\">\n     <g id=\"line2d_7\">\n      <g>\n       <use style=\"stroke:#000000;stroke-width:0.8;\" x=\"42.620312\" xlink:href=\"#mc4fd7c5a76\" y=\"38.561523\"/>\n      </g>\n     </g>\n     <g id=\"text_8\">\n      <!-- 0 -->\n      <g transform=\"translate(29.257812 42.360742)scale(0.1 -0.1)\">\n       <use xlink:href=\"#DejaVuSans-48\"/>\n      </g>\n     </g>\n    </g>\n    <g id=\"text_9\">\n     <!-- x2 -->\n     <g transform=\"translate(14.798437 81.290625)rotate(-90)scale(0.1 -0.1)\">\n      <use xlink:href=\"#DejaVuSans-120\"/>\n      <use x=\"59.179688\" xlink:href=\"#DejaVuSans-50\"/>\n     </g>\n    </g>\n   </g>\n   <g id=\"LineCollection_1\"/>\n   <g id=\"LineCollection_2\">\n    <path clip-path=\"url(#paf4b8efd1b)\" d=\"M 237.920313 104.627982 \nL 237.38177 104.769258 \nL 234.868748 105.394692 \nL 231.817183 106.064806 \nL 228.765619 106.645572 \nL 225.714055 107.13699 \nL 222.662491 107.539057 \nL 219.610927 107.851777 \nL 216.559364 108.075147 \nL 213.5078 108.209169 \nL 210.456236 108.25384 \nL 207.404672 108.209165 \nL 204.353108 108.075138 \nL 201.301544 107.851761 \nL 198.24998 107.539036 \nL 195.198417 107.136964 \nL 192.146852 106.645542 \nL 189.095287 106.064769 \nL 186.043723 105.394647 \nL 183.530887 104.769258 \nL 182.992158 104.627932 \nL 179.940594 103.733231 \nL 176.889029 102.744349 \nL 173.837464 101.661289 \nL 172.861143 101.284641 \nL 170.7859 100.438302 \nL 167.734335 99.094234 \nL 164.998616 97.800024 \nL 164.68277 97.641549 \nL 161.631206 96.004833 \nL 158.672265 94.315408 \nL 158.579641 94.259112 \nL 155.528077 92.291985 \nL 153.383878 90.830791 \nL 152.476512 90.169809 \nL 149.424947 87.826701 \nL 148.829656 87.346174 \nL 146.373386 85.21657 \nL 144.883218 83.861557 \nL 143.321825 82.328201 \nL 141.423198 80.376941 \nL 140.270264 79.089012 \nL 138.387499 76.892324 \nL 137.218703 75.398774 \nL 135.724167 73.407707 \nL 134.167142 71.115039 \nL 133.389396 69.923091 \nL 131.355016 66.438474 \nL 131.115581 65.97367 \nL 129.618682 62.953857 \nL 128.121686 59.46924 \nL 128.06402 59.310604 \nL 126.898964 55.984624 \nL 125.90027 52.500008 \nL 125.123507 49.015392 \nL 125.012459 48.317954 \nL 124.58425 45.530777 \nL 124.263033 42.046161 \nL 124.155958 38.561545 \nL 124.263029 35.076929 \nL 124.584245 31.592313 \nL 125.012459 28.805102 \nL 125.123502 28.107697 \nL 125.90026 24.623082 \nL 126.898951 21.138466 \nL 128.06402 17.812442 \nL 128.12167 17.65385 \nL 129.618663 14.169233 \nL 131.115581 11.149376 \nL 131.354994 10.684617 \nL 133.389367 7.2 \n\" style=\"fill:none;stroke:#1f77b4;stroke-width:1.5;\"/>\n   </g>\n   <g id=\"LineCollection_3\">\n    <path clip-path=\"url(#paf4b8efd1b)\" d=\"M 237.920313 134.578546 \nL 234.868748 135.117076 \nL 231.817183 135.592249 \nL 228.765619 136.004065 \nL 227.655983 136.130775 \nL 225.714055 136.344745 \nL 222.662491 136.619843 \nL 219.610927 136.83381 \nL 216.559364 136.986641 \nL 213.5078 137.07834 \nL 210.456236 137.108905 \nL 207.404672 137.078338 \nL 204.353108 136.986636 \nL 201.301544 136.833798 \nL 198.24998 136.619829 \nL 195.198417 136.344727 \nL 193.25668 136.130775 \nL 192.146852 136.004041 \nL 189.095287 135.592225 \nL 186.043723 135.117046 \nL 182.992158 134.578514 \nL 179.940594 133.976623 \nL 176.889029 133.311377 \nL 174.10295 132.646162 \nL 173.837464 132.580382 \nL 170.7859 131.758533 \nL 167.734335 130.870941 \nL 164.68277 129.9176 \nL 162.418852 129.16155 \nL 161.631206 128.888195 \nL 158.579641 127.76082 \nL 155.528077 126.565115 \nL 153.383878 125.676937 \nL 152.476512 125.285744 \nL 149.424947 123.899007 \nL 146.373386 122.441157 \nL 145.876758 122.192325 \nL 143.321825 120.857717 \nL 140.270264 119.189549 \nL 139.426351 118.707712 \nL 137.218703 117.39122 \nL 134.167142 115.494043 \nL 133.748428 115.2231 \nL 131.115581 113.440187 \nL 128.697488 111.738487 \nL 128.06402 111.270947 \nL 125.012459 108.933704 \nL 124.156 108.253874 \nL 121.960898 106.422119 \nL 120.047314 104.769258 \nL 118.909337 103.733195 \nL 116.308112 101.284641 \nL 115.857776 100.836514 \nL 112.903185 97.800024 \nL 112.806215 97.694327 \nL 109.801692 94.315408 \nL 109.754654 94.259096 \nL 106.976452 90.830791 \nL 106.703093 90.470202 \nL 104.403444 87.346174 \nL 103.651532 86.249054 \nL 102.061357 83.861557 \nL 100.599971 81.491897 \nL 99.931208 80.376941 \nL 98.008301 76.892324 \nL 97.54841 75.979555 \nL 96.28716 73.407707 \nL 94.741034 69.923091 \nL 94.496849 69.308008 \nL 93.387247 66.438474 \nL 92.198326 62.953857 \nL 91.445288 60.407232 \nL 91.174946 59.46924 \nL 90.325144 55.984624 \nL 89.629852 52.500008 \nL 89.089065 49.015392 \nL 88.702791 45.530777 \nL 88.471028 42.046161 \nL 88.393772 38.561545 \nL 88.471028 35.076929 \nL 88.70279 31.592313 \nL 89.089059 28.107697 \nL 89.629844 24.623082 \nL 90.325134 21.138466 \nL 91.174935 17.65385 \nL 91.445288 16.715817 \nL 92.198311 14.169233 \nL 93.387229 10.684617 \nL 94.496849 7.815026 \nL 94.741012 7.2 \n\" style=\"fill:none;stroke:#1f77b4;stroke-width:1.5;\"/>\n   </g>\n   <g id=\"LineCollection_4\">\n    <path clip-path=\"url(#paf4b8efd1b)\" d=\"M 135.724151 143.1 \nL 134.167142 142.36169 \nL 131.115581 140.855626 \nL 128.697456 139.615387 \nL 128.06402 139.279104 \nL 125.012459 137.597933 \nL 122.442807 136.130775 \nL 121.960898 135.845621 \nL 118.909337 133.976598 \nL 116.80835 132.646162 \nL 115.857776 132.021503 \nL 112.806215 129.950462 \nL 111.679569 129.16155 \nL 109.754654 127.760808 \nL 106.976452 125.676937 \nL 106.703093 125.463528 \nL 103.651532 123.010073 \nL 102.663081 122.192325 \nL 100.599971 120.412876 \nL 98.677152 118.707712 \nL 97.54841 117.662252 \nL 94.985174 115.2231 \nL 94.496849 114.736801 \nL 91.564251 111.738487 \nL 91.445288 111.610925 \nL 88.393801 108.253874 \nL 88.393727 108.253789 \nL 85.455255 104.769258 \nL 85.342166 104.627905 \nL 82.731861 101.284641 \nL 82.290605 100.687189 \nL 80.208422 97.800024 \nL 79.239044 96.374416 \nL 77.871157 94.315408 \nL 76.187483 91.617552 \nL 75.707517 90.830791 \nL 73.718851 87.346174 \nL 73.135922 86.249076 \nL 71.895223 83.861557 \nL 70.218531 80.376941 \nL 70.084361 80.073851 \nL 68.706275 76.892324 \nL 67.328151 73.407707 \nL 67.0328 72.582299 \nL 66.101304 69.923091 \nL 65.009165 66.438474 \nL 64.045509 62.953857 \nL 63.981239 62.685701 \nL 63.226238 59.46924 \nL 62.534133 55.984624 \nL 61.967863 52.500008 \nL 61.527427 49.015392 \nL 61.212832 45.530777 \nL 61.024077 42.046161 \nL 60.961157 38.561545 \nL 61.024077 35.076929 \nL 61.212832 31.592313 \nL 61.527421 28.107697 \nL 61.967857 24.623082 \nL 62.534121 21.138466 \nL 63.226232 17.65385 \nL 63.981239 14.43734 \nL 64.045497 14.169233 \nL 65.009152 10.684617 \nL 66.10129 7.2 \n\" style=\"fill:none;stroke:#1f77b4;stroke-width:1.5;\"/>\n   </g>\n   <g id=\"LineCollection_5\">\n    <path clip-path=\"url(#paf4b8efd1b)\" d=\"M 96.287149 143.1 \nL 94.496849 141.800619 \nL 91.564236 139.615387 \nL 91.445288 139.523644 \nL 88.393727 137.108869 \nL 87.188223 136.130775 \nL 85.342166 134.578495 \nL 83.099501 132.646162 \nL 82.290605 131.922898 \nL 79.274994 129.16155 \nL 79.239044 129.127341 \nL 76.187483 126.155165 \nL 75.707517 125.676937 \nL 73.135922 123.010086 \nL 72.364698 122.192325 \nL 70.084361 119.671494 \nL 69.23128 118.707712 \nL 67.0328 116.113553 \nL 66.29405 115.2231 \nL 63.981239 112.305694 \nL 63.540852 111.738487 \nL 60.961181 108.253874 \nL 60.929678 108.209139 \nL 58.556281 104.769258 \nL 57.878117 103.733231 \nL 56.30705 101.284641 \nL 54.826556 98.845359 \nL 54.204423 97.800024 \nL 52.249047 94.315408 \nL 51.774995 93.416108 \nL 50.438145 90.830791 \nL 48.752514 87.346174 \nL 48.723434 87.281606 \nL 47.21193 83.861557 \nL 45.785964 80.376941 \nL 45.671873 80.073894 \nL 44.496055 76.892324 \nL 43.320222 73.407707 \nL 42.620312 71.115168 \n\" style=\"fill:none;stroke:#1f77b4;stroke-width:1.5;\"/>\n   </g>\n   <g id=\"LineCollection_6\">\n    <path clip-path=\"url(#paf4b8efd1b)\" d=\"M 67.328138 143.1 \nL 67.0328 142.834201 \nL 63.981239 140.028792 \nL 63.540834 139.615387 \nL 60.929678 137.078315 \nL 59.974168 136.130775 \nL 57.878117 133.976623 \nL 56.609178 132.646162 \nL 54.826556 130.706591 \nL 53.434114 129.16155 \nL 51.774995 127.248405 \nL 50.438145 125.676937 \nL 48.723434 123.57903 \nL 47.611206 122.192325 \nL 45.671873 119.671508 \nL 44.944002 118.707712 \nL 42.620312 115.494095 \n\" style=\"fill:none;stroke:#1f77b4;stroke-width:1.5;\"/>\n   </g>\n   <g id=\"LineCollection_7\">\n    <path clip-path=\"url(#paf4b8efd1b)\" d=\"M 43.320214 143.1 \nL 42.620312 142.361735 \n\" style=\"fill:none;stroke:#1f77b4;stroke-width:1.5;\"/>\n   </g>\n   <g id=\"LineCollection_8\"/>\n   <g id=\"line2d_8\">\n    <path clip-path=\"url(#paf4b8efd1b)\" d=\"M 57.878132 108.253841 \nL 89.787363 83.335684 \nL 110.584526 65.13994 \nL 130.013373 54.269848 \nL 145.220511 45.166637 \nL 157.644584 39.349934 \nL 170.759846 34.591083 \nL 175.855432 35.795703 \nL 185.437263 39.051647 \nL 188.306455 35.810863 \nL 193.850633 29.777826 \nL 196.589153 27.694315 \nL 199.19838 32.885398 \nL 203.359167 33.124154 \nL 204.438126 35.002987 \nL 203.691745 38.824367 \nL 207.336535 41.557411 \nL 207.093405 38.837138 \nL 206.588553 36.813471 \nL 208.177721 34.983623 \nL 207.182388 33.051281 \nL 211.094146 34.394303 \nL 207.007135 38.66517 \nL 205.518532 39.765293 \nL 209.436051 40.535347 \nL 210.765093 39.928694 \nL 206.672323 43.582237 \nL 207.490684 45.326564 \nL 200.40606 42.492153 \nL 202.404251 38.676423 \nL 209.845055 45.025191 \nL 207.915471 47.263695 \nL 207.141771 43.538327 \nL 213.070421 35.409369 \nL 213.873808 41.311083 \nL 215.198056 38.453929 \nL 214.404473 31.9109 \nL 208.532378 33.665013 \nL 210.453949 34.906822 \nL 208.325166 37.486571 \nL 209.654331 37.628436 \nL 212.073243 36.379383 \nL 214.146196 38.692614 \nL 210.976119 44.696488 \nL 215.482951 45.281786 \nL 218.66421 37.963463 \nL 221.760232 38.549634 \nL 217.693951 38.640813 \nL 210.845035 37.031181 \nL 211.898014 30.350642 \nL 209.522051 29.397915 \n\" style=\"fill:none;stroke:#ff7f0e;stroke-linecap:square;stroke-width:1.5;\"/>\n    <defs>\n     <path d=\"M 0 3 \nC 0.795609 3 1.55874 2.683901 2.12132 2.12132 \nC 2.683901 1.55874 3 0.795609 3 0 \nC 3 -0.795609 2.683901 -1.55874 2.12132 -2.12132 \nC 1.55874 -2.683901 0.795609 -3 0 -3 \nC -0.795609 -3 -1.55874 -2.683901 -2.12132 -2.12132 \nC -2.683901 -1.55874 -3 -0.795609 -3 0 \nC -3 0.795609 -2.683901 1.55874 -2.12132 2.12132 \nC -1.55874 2.683901 -0.795609 3 0 3 \nz\n\" id=\"mb858208f50\" style=\"stroke:#ff7f0e;\"/>\n    </defs>\n    <g clip-path=\"url(#paf4b8efd1b)\">\n     <use style=\"fill:#ff7f0e;stroke:#ff7f0e;\" x=\"57.878132\" xlink:href=\"#mb858208f50\" y=\"108.253841\"/>\n     <use style=\"fill:#ff7f0e;stroke:#ff7f0e;\" x=\"89.787363\" xlink:href=\"#mb858208f50\" y=\"83.335684\"/>\n     <use style=\"fill:#ff7f0e;stroke:#ff7f0e;\" x=\"110.584526\" xlink:href=\"#mb858208f50\" y=\"65.13994\"/>\n     <use style=\"fill:#ff7f0e;stroke:#ff7f0e;\" x=\"130.013373\" xlink:href=\"#mb858208f50\" y=\"54.269848\"/>\n     <use style=\"fill:#ff7f0e;stroke:#ff7f0e;\" x=\"145.220511\" xlink:href=\"#mb858208f50\" y=\"45.166637\"/>\n     <use style=\"fill:#ff7f0e;stroke:#ff7f0e;\" x=\"157.644584\" xlink:href=\"#mb858208f50\" y=\"39.349934\"/>\n     <use style=\"fill:#ff7f0e;stroke:#ff7f0e;\" x=\"170.759846\" xlink:href=\"#mb858208f50\" y=\"34.591083\"/>\n     <use style=\"fill:#ff7f0e;stroke:#ff7f0e;\" x=\"175.855432\" xlink:href=\"#mb858208f50\" y=\"35.795703\"/>\n     <use style=\"fill:#ff7f0e;stroke:#ff7f0e;\" x=\"185.437263\" xlink:href=\"#mb858208f50\" y=\"39.051647\"/>\n     <use style=\"fill:#ff7f0e;stroke:#ff7f0e;\" x=\"188.306455\" xlink:href=\"#mb858208f50\" y=\"35.810863\"/>\n     <use style=\"fill:#ff7f0e;stroke:#ff7f0e;\" x=\"193.850633\" xlink:href=\"#mb858208f50\" y=\"29.777826\"/>\n     <use style=\"fill:#ff7f0e;stroke:#ff7f0e;\" x=\"196.589153\" xlink:href=\"#mb858208f50\" y=\"27.694315\"/>\n     <use style=\"fill:#ff7f0e;stroke:#ff7f0e;\" x=\"199.19838\" xlink:href=\"#mb858208f50\" y=\"32.885398\"/>\n     <use style=\"fill:#ff7f0e;stroke:#ff7f0e;\" x=\"203.359167\" xlink:href=\"#mb858208f50\" y=\"33.124154\"/>\n     <use style=\"fill:#ff7f0e;stroke:#ff7f0e;\" x=\"204.438126\" xlink:href=\"#mb858208f50\" y=\"35.002987\"/>\n     <use style=\"fill:#ff7f0e;stroke:#ff7f0e;\" x=\"203.691745\" xlink:href=\"#mb858208f50\" y=\"38.824367\"/>\n     <use style=\"fill:#ff7f0e;stroke:#ff7f0e;\" x=\"207.336535\" xlink:href=\"#mb858208f50\" y=\"41.557411\"/>\n     <use style=\"fill:#ff7f0e;stroke:#ff7f0e;\" x=\"207.093405\" xlink:href=\"#mb858208f50\" y=\"38.837138\"/>\n     <use style=\"fill:#ff7f0e;stroke:#ff7f0e;\" x=\"206.588553\" xlink:href=\"#mb858208f50\" y=\"36.813471\"/>\n     <use style=\"fill:#ff7f0e;stroke:#ff7f0e;\" x=\"208.177721\" xlink:href=\"#mb858208f50\" y=\"34.983623\"/>\n     <use style=\"fill:#ff7f0e;stroke:#ff7f0e;\" x=\"207.182388\" xlink:href=\"#mb858208f50\" y=\"33.051281\"/>\n     <use style=\"fill:#ff7f0e;stroke:#ff7f0e;\" x=\"211.094146\" xlink:href=\"#mb858208f50\" y=\"34.394303\"/>\n     <use style=\"fill:#ff7f0e;stroke:#ff7f0e;\" x=\"207.007135\" xlink:href=\"#mb858208f50\" y=\"38.66517\"/>\n     <use style=\"fill:#ff7f0e;stroke:#ff7f0e;\" x=\"205.518532\" xlink:href=\"#mb858208f50\" y=\"39.765293\"/>\n     <use style=\"fill:#ff7f0e;stroke:#ff7f0e;\" x=\"209.436051\" xlink:href=\"#mb858208f50\" y=\"40.535347\"/>\n     <use style=\"fill:#ff7f0e;stroke:#ff7f0e;\" x=\"210.765093\" xlink:href=\"#mb858208f50\" y=\"39.928694\"/>\n     <use style=\"fill:#ff7f0e;stroke:#ff7f0e;\" x=\"206.672323\" xlink:href=\"#mb858208f50\" y=\"43.582237\"/>\n     <use style=\"fill:#ff7f0e;stroke:#ff7f0e;\" x=\"207.490684\" xlink:href=\"#mb858208f50\" y=\"45.326564\"/>\n     <use style=\"fill:#ff7f0e;stroke:#ff7f0e;\" x=\"200.40606\" xlink:href=\"#mb858208f50\" y=\"42.492153\"/>\n     <use style=\"fill:#ff7f0e;stroke:#ff7f0e;\" x=\"202.404251\" xlink:href=\"#mb858208f50\" y=\"38.676423\"/>\n     <use style=\"fill:#ff7f0e;stroke:#ff7f0e;\" x=\"209.845055\" xlink:href=\"#mb858208f50\" y=\"45.025191\"/>\n     <use style=\"fill:#ff7f0e;stroke:#ff7f0e;\" x=\"207.915471\" xlink:href=\"#mb858208f50\" y=\"47.263695\"/>\n     <use style=\"fill:#ff7f0e;stroke:#ff7f0e;\" x=\"207.141771\" xlink:href=\"#mb858208f50\" y=\"43.538327\"/>\n     <use style=\"fill:#ff7f0e;stroke:#ff7f0e;\" x=\"213.070421\" xlink:href=\"#mb858208f50\" y=\"35.409369\"/>\n     <use style=\"fill:#ff7f0e;stroke:#ff7f0e;\" x=\"213.873808\" xlink:href=\"#mb858208f50\" y=\"41.311083\"/>\n     <use style=\"fill:#ff7f0e;stroke:#ff7f0e;\" x=\"215.198056\" xlink:href=\"#mb858208f50\" y=\"38.453929\"/>\n     <use style=\"fill:#ff7f0e;stroke:#ff7f0e;\" x=\"214.404473\" xlink:href=\"#mb858208f50\" y=\"31.9109\"/>\n     <use style=\"fill:#ff7f0e;stroke:#ff7f0e;\" x=\"208.532378\" xlink:href=\"#mb858208f50\" y=\"33.665013\"/>\n     <use style=\"fill:#ff7f0e;stroke:#ff7f0e;\" x=\"210.453949\" xlink:href=\"#mb858208f50\" y=\"34.906822\"/>\n     <use style=\"fill:#ff7f0e;stroke:#ff7f0e;\" x=\"208.325166\" xlink:href=\"#mb858208f50\" y=\"37.486571\"/>\n     <use style=\"fill:#ff7f0e;stroke:#ff7f0e;\" x=\"209.654331\" xlink:href=\"#mb858208f50\" y=\"37.628436\"/>\n     <use style=\"fill:#ff7f0e;stroke:#ff7f0e;\" x=\"212.073243\" xlink:href=\"#mb858208f50\" y=\"36.379383\"/>\n     <use style=\"fill:#ff7f0e;stroke:#ff7f0e;\" x=\"214.146196\" xlink:href=\"#mb858208f50\" y=\"38.692614\"/>\n     <use style=\"fill:#ff7f0e;stroke:#ff7f0e;\" x=\"210.976119\" xlink:href=\"#mb858208f50\" y=\"44.696488\"/>\n     <use style=\"fill:#ff7f0e;stroke:#ff7f0e;\" x=\"215.482951\" xlink:href=\"#mb858208f50\" y=\"45.281786\"/>\n     <use style=\"fill:#ff7f0e;stroke:#ff7f0e;\" x=\"218.66421\" xlink:href=\"#mb858208f50\" y=\"37.963463\"/>\n     <use style=\"fill:#ff7f0e;stroke:#ff7f0e;\" x=\"221.760232\" xlink:href=\"#mb858208f50\" y=\"38.549634\"/>\n     <use style=\"fill:#ff7f0e;stroke:#ff7f0e;\" x=\"217.693951\" xlink:href=\"#mb858208f50\" y=\"38.640813\"/>\n     <use style=\"fill:#ff7f0e;stroke:#ff7f0e;\" x=\"210.845035\" xlink:href=\"#mb858208f50\" y=\"37.031181\"/>\n     <use style=\"fill:#ff7f0e;stroke:#ff7f0e;\" x=\"211.898014\" xlink:href=\"#mb858208f50\" y=\"30.350642\"/>\n     <use style=\"fill:#ff7f0e;stroke:#ff7f0e;\" x=\"209.522051\" xlink:href=\"#mb858208f50\" y=\"29.397915\"/>\n    </g>\n   </g>\n   <g id=\"patch_3\">\n    <path d=\"M 42.620312 143.1 \nL 42.620312 7.2 \n\" style=\"fill:none;stroke:#000000;stroke-linecap:square;stroke-linejoin:miter;stroke-width:0.8;\"/>\n   </g>\n   <g id=\"patch_4\">\n    <path d=\"M 237.920313 143.1 \nL 237.920313 7.2 \n\" style=\"fill:none;stroke:#000000;stroke-linecap:square;stroke-linejoin:miter;stroke-width:0.8;\"/>\n   </g>\n   <g id=\"patch_5\">\n    <path d=\"M 42.620312 143.1 \nL 237.920313 143.1 \n\" style=\"fill:none;stroke:#000000;stroke-linecap:square;stroke-linejoin:miter;stroke-width:0.8;\"/>\n   </g>\n   <g id=\"patch_6\">\n    <path d=\"M 42.620312 7.2 \nL 237.920313 7.2 \n\" style=\"fill:none;stroke:#000000;stroke-linecap:square;stroke-linejoin:miter;stroke-width:0.8;\"/>\n   </g>\n  </g>\n </g>\n <defs>\n  <clipPath id=\"paf4b8efd1b\">\n   <rect height=\"135.9\" width=\"195.3\" x=\"42.620312\" y=\"7.2\"/>\n  </clipPath>\n </defs>\n</svg>\n",
      "text/plain": [
       "<Figure size 252x180 with 1 Axes>"
      ]
     },
     "metadata": {
      "needs_background": "light"
     },
     "output_type": "display_data"
    }
   ],
   "source": [
    "def f(x1, x2):  # 目标函数\n",
    "    return x1 ** 2 + 2 * x2 ** 2\n",
    "\n",
    "def f_grad(x1, x2):  # 目标函数的梯度\n",
    "    return 2 * x1, 4 * x2\n",
    "\n",
    "def sgd(x1, x2, s1, s2, f_grad):\n",
    "    g1, g2 = f_grad(x1, x2)\n",
    "    # 模拟有噪声的梯度\n",
    "    g1 += tf.random.normal([1], 0.0, 1)\n",
    "    g2 += tf.random.normal([1], 0.0, 1)\n",
    "    eta_t = eta * lr()\n",
    "    return (x1 - eta_t * g1, x2 - eta_t * g2, 0, 0)\n",
    "\n",
    "def constant_lr():\n",
    "    return 1\n",
    "\n",
    "eta = 0.1\n",
    "lr = constant_lr  # 常数学习速度\n",
    "d2l.show_trace_2d(f, d2l.train_2d(sgd, steps=50, f_grad=f_grad))"
   ]
  },
  {
   "cell_type": "markdown",
   "metadata": {},
   "source": [
    "正如我们所看到的，随机梯度下降中变量的轨迹比我们在 11.3节中观察到的梯度下降中观察到的轨迹嘈杂得多。这是由于梯度的随机性质。也就是说，即使我们接近最小值，我们仍然受到$\\eta \\nabla f_i(x)$通过的瞬间梯度所注入的不确定性的影响。即使经过50次迭代，质量仍然不那么好。更糟糕的是，经过额外的步骤，它不会得到改善（我们鼓励你尝试更多的步骤来确认这一点）。这给我们留下了唯一的选择：改变学习率$\\eta$。但是，如果我们选择的学习率太小，我们一开始就不会取得任何有意义的进展。另一方面，如果我们选择的学习率太大，我们将无法获得一个好的解决方案，如上所示。解决这些相互冲突的目标的唯一方法是在优化过程中动态降低学习率。\n",
    "\n",
    "这也是在sgd步长函数中添加学习率函数lr的原因。在上面的示例中，学习率调度的任何功能都处于休眠状态，因为我们将相关的lr函数设置为常量"
   ]
  },
  {
   "cell_type": "markdown",
   "metadata": {},
   "source": [
    "#### 11.4.2 动态学习率\n",
    "用与时间相关的学习率$\\eta(t)$取代$\\eta$增加了控制优化算法收敛的复杂性。特别是，我们需要$\\eta$弄清的衰减速度。如果太快，我们将过早停止优化。如果减少的太慢，我们会在优化上浪费太多时间。以下是随着时间推移调整$\\eta$时使用的一些基本策略（稍后我们将讨论更高级的策略）：\n",
    "- $\\eta(t)=\\eta_i \\quad if \\quad t_i<= t<=t_{i+1} \\quad$  分段常数\n",
    "- $\\eta(t)=\\eta_0*e^{-\\lambda t} \\quad$ 指数衰减\n",
    "- $\\eta(t)=\\eta_0*（\\beta_t+1)^{-\\alpha} \\quad$多项式衰减\n",
    "\n",
    "在第一个分段常数（piecewise constant）场景中，我们会降低学习率，例如，每当优化进度停顿时。这是训练深度网络的常见策略。或者，我们可以通过指数衰减（exponential decay）来更积极地减低它。不幸的是，这往往会导致算法收敛之前过早停止。一个受欢迎的选择是的$\\alpha=0.5$多项式衰减（polynomial decay）。在凸优化的情况下，有许多证据表明这种速率表现良好\n",
    "\n",
    "让我们看看指数衰减在实践中是什么样子。"
   ]
  },
  {
   "cell_type": "code",
   "execution_count": 53,
   "metadata": {
    "ExecuteTime": {
     "end_time": "2022-10-26T16:33:22.380357Z",
     "start_time": "2022-10-26T16:33:21.561227Z"
    }
   },
   "outputs": [
    {
     "name": "stdout",
     "output_type": "stream",
     "text": [
      "2 0.8187307530779818\n",
      "3 0.7408182206817179\n",
      "4 0.6703200460356393\n",
      "5 0.6065306597126334\n",
      "6 0.5488116360940264\n",
      "7 0.49658530379140947\n",
      "8 0.44932896411722156\n",
      "9 0.4065696597405991\n",
      "10 0.36787944117144233\n",
      "11 0.33287108369807955\n",
      "12 0.301194211912202\n",
      "13 0.2725317930340126\n",
      "14 0.24659696394160643\n",
      "15 0.22313016014842982\n",
      "16 0.20189651799465538\n",
      "17 0.1826835240527346\n",
      "18 0.16529888822158653\n",
      "19 0.14956861922263504\n",
      "20 0.1353352832366127\n",
      "21 0.1224564282529819\n",
      "22 0.11080315836233387\n",
      "23 0.1002588437228037\n",
      "24 0.09071795328941247\n",
      "25 0.0820849986238988\n",
      "26 0.07427357821433388\n",
      "27 0.06720551273974976\n",
      "28 0.06081006262521795\n",
      "29 0.05502322005640721\n",
      "30 0.049787068367863944\n",
      "31 0.0450492023935578\n",
      "32 0.04076220397836621\n",
      "33 0.036883167401239994\n",
      "34 0.033373269960326066\n",
      "35 0.0301973834223185\n",
      "36 0.02732372244729256\n",
      "37 0.024723526470339388\n",
      "38 0.02237077185616559\n",
      "39 0.02024191144580438\n",
      "40 0.01831563888873418\n",
      "41 0.016572675401761237\n",
      "42 0.014995576820477703\n",
      "43 0.013568559012200934\n",
      "44 0.012277339903068436\n",
      "45 0.011108996538242306\n",
      "46 0.010051835744633576\n",
      "47 0.009095277101695816\n",
      "48 0.008229747049020023\n",
      "49 0.007446583070924338\n",
      "50 0.006737946999085467\n",
      "51 0.006096746565515633\n",
      "52 0.0055165644207607716\n",
      "53 0.004991593906910213\n",
      "54 0.004516580942612666\n",
      "55 0.004086771438464067\n",
      "56 0.003697863716482929\n",
      "57 0.003345965457471272\n",
      "58 0.0030275547453758127\n",
      "59 0.0027394448187683684\n",
      "60 0.0024787521766663585\n",
      "61 0.002242867719485801\n",
      "62 0.002029430636295734\n",
      "63 0.0018363047770289056\n",
      "64 0.001661557273173934\n",
      "65 0.0015034391929775724\n",
      "66 0.0013603680375478928\n",
      "67 0.001230911902673481\n",
      "68 0.0011137751478448024\n",
      "69 0.0010077854290485105\n",
      "70 0.0009118819655545162\n",
      "71 0.0008251049232659038\n",
      "72 0.0007465858083766792\n",
      "73 0.0006755387751938437\n",
      "74 0.0006112527611295723\n",
      "75 0.0005530843701478336\n",
      "76 0.0005004514334406104\n",
      "77 0.00045282718288679695\n",
      "78 0.00040973497897978643\n",
      "79 0.0003707435404590882\n",
      "80 0.00033546262790251185\n",
      "81 0.0003035391380788668\n",
      "82 0.00027465356997214205\n",
      "83 0.00024851682710795185\n",
      "84 0.0002248673241788482\n",
      "85 0.00020346836901064417\n",
      "86 0.0001841057936675792\n",
      "87 0.00016658581098763324\n",
      "88 0.0001507330750954765\n",
      "89 0.0001363889264820114\n",
      "90 0.00012340980408667956\n",
      "91 0.00011166580849011478\n",
      "92 0.00010103940183709324\n",
      "93 9.142423147817327e-05\n",
      "94 8.272406555663223e-05\n",
      "95 7.48518298877006e-05\n",
      "96 6.772873649085378e-05\n",
      "97 6.128349505322202e-05\n",
      "98 5.5451599432176945e-05\n",
      "99 5.017468205617528e-05\n",
      "100 4.5399929762484854e-05\n",
      "101 4.107955522530065e-05\n",
      "102 3.7170318684126666e-05\n",
      "103 3.363309518571897e-05\n",
      "104 3.0432483008403625e-05\n",
      "105 2.7536449349747158e-05\n",
      "106 2.491600973150316e-05\n",
      "107 2.254493791321217e-05\n",
      "108 2.0399503411171922e-05\n",
      "109 1.8458233995780558e-05\n",
      "110 1.670170079024566e-05\n",
      "111 1.5112323819855006e-05\n",
      "112 1.3674196065680938e-05\n",
      "113 1.2372924261788221e-05\n",
      "114 1.119548484259094e-05\n",
      "115 1.013009359863071e-05\n",
      "116 9.166087736247602e-06\n",
      "117 8.293819160757357e-06\n",
      "118 7.504557915076858e-06\n",
      "119 6.79040480737947e-06\n",
      "120 6.14421235332821e-06\n",
      "121 5.559513241650137e-06\n",
      "122 5.030455607111439e-06\n",
      "123 4.551744463083231e-06\n",
      "124 4.118588707535708e-06\n",
      "125 3.726653172078671e-06\n",
      "126 3.3720152341391786e-06\n",
      "127 3.051125558036417e-06\n",
      "128 2.7607725720371986e-06\n",
      "129 2.498050325866635e-06\n",
      "130 2.2603294069810542e-06\n",
      "131 2.045230624523486e-06\n",
      "132 1.8506011975819048e-06\n",
      "133 1.674493209434266e-06\n",
      "134 1.515144112143249e-06\n",
      "135 1.3709590863840845e-06\n",
      "136 1.2404950799567113e-06\n",
      "137 1.1224463652343422e-06\n",
      "138 1.0156314710024903e-06\n",
      "139 9.189813578979571e-07\n",
      "140 8.315287191035679e-07\n",
      "141 7.523982992164199e-07\n",
      "142 6.807981343976331e-07\n",
      "143 6.160116261320527e-07\n",
      "144 5.573903692694596e-07\n",
      "145 5.04347662567888e-07\n",
      "146 4.563526367903986e-07\n",
      "147 4.1292494158732645e-07\n",
      "148 3.73629937988526e-07\n",
      "149 3.3807434839047367e-07\n",
      "150 3.059023205018258e-07\n",
      "151 2.7679186585408023e-07\n",
      "152 2.504516372327617e-07\n",
      "153 2.26618012776571e-07\n",
      "154 2.0505245756119267e-07\n",
      "155 1.8553913626159784e-07\n",
      "156 1.6788275299956603e-07\n",
      "157 1.5190659675689612e-07\n",
      "158 1.374507727921396e-07\n",
      "159 1.2437060236028695e-07\n",
      "160 1.1253517471925912e-07\n",
      "161 1.0182603693119986e-07\n",
      "162 9.213600834566135e-08\n",
      "163 8.336810789962771e-08\n",
      "164 7.543458349844232e-08\n",
      "165 6.82560337633487e-08\n",
      "166 6.176061335580363e-08\n",
      "167 5.588331392518268e-08\n",
      "168 5.05653134833552e-08\n",
      "169 4.5753387694457955e-08\n",
      "170 4.139937718785167e-08\n",
      "171 3.745970556295245e-08\n",
      "172 3.389494326196924e-08\n",
      "173 3.066941294563555e-08\n",
      "174 2.7750832422407467e-08\n",
      "175 2.510999155743982e-08\n",
      "176 2.2720459927738556e-08\n",
      "177 2.0558322297604485e-08\n",
      "178 1.860193926691551e-08\n",
      "179 1.6831730696737537e-08\n",
      "180 1.522997974471263e-08\n",
      "181 1.3780655548945718e-08\n",
      "182 1.2469252785750989e-08\n",
      "183 1.1282646495496604e-08\n",
      "184 1.0208960723597601e-08\n",
      "185 9.237449661970594e-09\n",
      "186 8.358390101374608e-09\n",
      "187 7.56298411826514e-09\n",
      "188 6.843271022217988e-09\n",
      "189 6.192047682664017e-09\n",
      "190 5.602796437537268e-09\n",
      "191 5.069619862322287e-09\n",
      "192 4.587181746647508e-09\n",
      "193 4.1506536876982236e-09\n",
      "194 3.755666765938289e-09\n",
      "195 3.398267819495071e-09\n",
      "196 3.074879879586606e-09\n",
      "197 2.782266371015863e-09\n",
      "198 2.517498719438278e-09\n",
      "199 2.277927041205363e-09\n",
      "200 2.061153622438558e-09\n",
      "201 1.865008921902767e-09\n",
      "202 1.6875298575085259e-09\n",
      "203 1.5269401591266087e-09\n",
      "204 1.381632591079536e-09\n",
      "205 1.2501528663867426e-09\n",
      "206 1.1311850917716326e-09\n",
      "207 1.0235385977594125e-09\n",
      "208 9.261360220567754e-10\n",
      "209 8.38002526947946e-10\n",
      "210 7.582560427911907e-10\n",
      "211 6.860984399693441e-10\n",
      "212 6.208075409403602e-10\n",
      "213 5.6172989244173e-10\n",
      "214 5.082742255105915e-10\n",
      "215 4.5990553786523166e-10\n",
      "216 4.161397394224149e-10\n",
      "217 3.7653880736113435e-10\n",
      "218 3.407064022429891e-10\n",
      "219 3.082839013138669e-10\n",
      "220 2.7894680928689246e-10\n",
      "221 2.524015106845207e-10\n",
      "222 2.2838233123615701e-10\n",
      "223 2.0664887892075802e-10\n",
      "224 1.8698363804268407e-10\n",
      "225 1.6918979226151304e-10\n",
      "226 1.5308925478794762e-10\n",
      "227 1.385208860313755e-10\n",
      "228 1.2533888086068347e-10\n",
      "229 1.1341130933749743e-10\n",
      "230 1.026187963170189e-10\n",
      "231 9.285332670144929e-11\n",
      "232 8.401716438858868e-11\n",
      "233 7.602187409607351e-11\n",
      "234 6.878743627134586e-11\n",
      "235 6.224144622907783e-11\n",
      "236 5.631838950074272e-11\n",
      "237 5.095898614379546e-11\n",
      "238 4.610959744808222e-11\n",
      "239 4.172168910160013e-11\n",
      "240 3.775134544279098e-11\n",
      "241 3.4158829937838525e-11\n",
      "242 3.090818748408321e-11\n",
      "243 2.796688455926927e-11\n",
      "244 2.5305483615118915e-11\n",
      "245 2.289734845645553e-11\n",
      "246 2.0718377657208856e-11\n",
      "247 1.8746763345242746e-11\n",
      "248 1.6962772941840653e-11\n",
      "249 1.5348551671425312e-11\n",
      "250 1.3887943864964021e-11\n",
      "251 1.2566331268602371e-11\n",
      "252 1.1370486739266698e-11\n",
      "253 1.0288441862970217e-11\n",
      "254 9.309367170903036e-12\n",
      "255 8.423463754468647e-12\n",
      "256 7.62186519451289e-12\n",
      "257 6.89654882322118e-12\n",
      "258 6.2402554305624016e-12\n",
      "259 5.6464166116749505e-12\n",
      "260 5.109089028063325e-12\n",
      "261 4.622894924668662e-12\n",
      "262 4.182968307488728e-12\n",
      "263 3.7849062430743565e-12\n",
      "264 3.42472479249158e-12\n",
      "265 3.0988191387218256e-12\n",
      "266 2.8039275084414685e-12\n",
      "267 2.537098527098176e-12\n",
      "268 2.2956616805623547e-12\n",
      "269 2.0772005877241296e-12\n",
      "270 1.8795288165390832e-12\n",
      "271 1.7006680014814045e-12\n",
      "272 1.5388280433968073e-12\n",
      "273 1.3923891935884977e-12\n",
      "274 1.2598858428277863e-12\n",
      "275 1.1399918530443554e-12\n",
      "276 1.0315072848906821e-12\n",
      "277 9.333463883457665e-13\n",
      "278 8.445267361639731e-13\n",
      "279 7.641593914129444e-13\n",
      "280 6.914400106940203e-13\n",
      "281 6.256407940031327e-13\n",
      "282 5.661032006637615e-13\n",
      "283 5.122313584304917e-13\n",
      "284 4.634860997992977e-13\n",
      "285 4.1937956583795446e-13\n",
      "286 3.794703235298559e-13\n",
      "287 3.4335894776402454e-13\n",
      "288 3.1068402375434455e-13\n",
      "289 2.8111852987890343e-13\n",
      "290 2.543665647376923e-13\n",
      "291 2.301603856719299e-13\n",
      "292 2.0825772910554945e-13\n",
      "293 1.8843938588989806e-13\n",
      "294 1.7050700738489696e-13\n",
      "295 1.5428112031918877e-13\n",
      "296 1.3959933056130979e-13\n",
      "297 1.2631469782464381e-13\n",
      "298 1.1429426503964337e-13\n",
      "299 1.0341772767478841e-13\n",
      "300 9.357622968840175e-14\n",
      "301 8.467127406079322e-14\n",
      "302 7.661373700298315e-14\n",
      "303 6.932297597586547e-14\n",
      "304 6.272602259257088e-14\n",
      "305 5.675685232632723e-14\n",
      "306 5.1355723714802096e-14\n",
      "307 4.6468580447469566e-14\n",
      "308 4.204651035188472e-14\n",
      "309 3.8045255864221565e-14\n",
      "310 3.442477108469977e-14\n",
      "311 3.114882098475865e-14\n",
      "312 2.8184618754713292e-14\n",
      "313 2.5502497662342712e-14\n",
      "314 2.3075614138262242e-14\n",
      "315 2.0879679116459336e-14\n",
      "316 1.8892714941156384e-14\n",
      "317 1.7094835407045314e-14\n",
      "318 1.5468046731460616e-14\n",
      "319 1.3996067466554369e-14\n",
      "320 1.2664165549094176e-14\n",
      "321 1.1459010857022308e-14\n",
      "322 1.0368541797114079e-14\n",
      "323 9.381844588498617e-15\n",
      "324 8.489044033871777e-15\n",
      "325 7.681204685202095e-15\n",
      "326 6.950241414763969e-15\n",
      "327 6.288838496461616e-15\n",
      "328 5.6903763875834665e-15\n",
      "329 5.148865478193844e-15\n",
      "330 4.658886145103398e-15\n",
      "331 4.215534510458857e-15\n",
      "332 3.81437336208507e-15\n",
      "333 3.4513877443741918e-15\n",
      "334 3.122944775260516e-15\n",
      "335 2.825757287115611e-15\n",
      "336 2.5568509276699837e-15\n",
      "337 2.3135343916957527e-15\n",
      "338 2.0933724855193764e-15\n",
      "339 1.8941617547848824e-15\n",
      "340 1.713908431542013e-15\n",
      "341 1.5508084799465339e-15\n",
      "342 1.403229540863091e-15\n",
      "343 1.2696945946663425e-15\n",
      "344 1.1488671787321141e-15\n",
      "345 1.039538011670222e-15\n",
      "346 9.406128904299175e-16\n",
      "347 8.511017391479463e-16\n",
      "348 7.701087001365414e-16\n",
      "349 6.968231678385811e-16\n",
      "350 6.305116760146989e-16\n",
      "351 5.705105569666648e-16\n",
      "352 5.162192993279735e-16\n",
      "353 4.67094537944255e-16\n",
      "354 4.2264461569218167e-16\n",
      "355 3.8242466280971355e-16\n",
      "356 3.4603214449001314e-16\n",
      "357 3.1310283217778915e-16\n",
      "358 2.833071582474967e-16\n",
      "359 2.5634691757977137e-16\n",
      "360 2.3195228302435696e-16\n",
      "361 2.0987910487930498e-16\n",
      "362 1.899064673586884e-16\n",
      "363 1.7183447759316561e-16\n",
      "364 1.554822650349588e-16\n",
      "365 1.4068617124461467e-16\n",
      "366 1.2729811194234181e-16\n",
      "367 1.1518409493076097e-16\n",
      "368 1.0422287905595846e-16\n",
      "369 9.430476078526808e-17\n",
      "370 8.533047625744066e-17\n",
      "371 7.721020781656124e-17\n",
      "372 6.986268508675704e-17\n",
      "373 6.32143715909605e-17\n",
      "374 5.719872877313073e-17\n",
      "375 5.175555005801869e-17\n",
      "376 4.683035828352842e-17\n",
      "377 4.2373860474966705e-17\n",
      "378 3.834145450438482e-17\n",
      "379 3.469278269749097e-17\n",
      "380 3.1391327920480296e-17\n",
      "381 2.840404810428748e-17\n",
      "382 2.570104554845264e-17\n",
      "383 2.3255267694886444e-17\n",
      "384 2.1042236376776083e-17\n",
      "385 1.9039802832864523e-17\n",
      "386 1.722792603520286e-17\n",
      "387 1.558847211180742e-17\n",
      "388 1.4105032856773367e-17\n",
      "389 1.276276151143517e-17\n",
      "390 1.1548224173015786e-17\n",
      "391 1.0449265343612043e-17\n",
      "392 9.454886273886542e-18\n",
      "393 8.555134883887121e-18\n",
      "394 7.741006159285781e-18\n",
      "395 7.004352026168645e-18\n",
      "396 6.33779980237337e-18\n",
      "397 5.7346784092083264e-18\n",
      "398 5.188951605054619e-18\n",
      "399 4.695157572631163e-18\n",
      "400 4.248354255291589e-18\n",
      "401 3.8440698952601175e-18\n",
      "402 3.478258278776922e-18\n",
      "403 3.1472582402307063e-18\n",
      "404 2.847757019982746e-18\n",
      "405 2.576757109154981e-18\n",
      "406 2.331546249553593e-18\n",
      "407 2.1096702884774952e-18\n",
      "408 1.908908616733152e-18\n",
      "409 1.7272519440314179e-18\n",
      "410 1.5628821893349888e-18\n",
      "411 1.4141542848922569e-18\n",
      "412 1.2795797118463968e-18\n",
      "413 1.1578116026382892e-18\n",
      "414 1.0476312611033044e-18\n",
      "415 9.479359653504757e-19\n",
      "416 8.57727931351148e-19\n",
      "417 7.761043267810964e-19\n",
      "418 7.022482351711429e-19\n",
      "419 6.354204799325653e-19\n",
      "420 5.74952226429356e-19\n",
      "421 5.202382880563641e-19\n",
      "422 4.7073106932836765e-19\n",
      "423 4.2593508536038583e-19\n",
      "424 3.85402002888417e-19\n",
      "425 3.4872615319944465e-19\n",
      "426 3.1554047206259754e-19\n",
      "427 2.855128260269682e-19\n",
      "428 2.5834268831839164e-19\n",
      "429 2.337581310664818e-19\n",
      "430 2.1151310375910805e-19\n",
      "431 1.9138497068616308e-19\n",
      "432 1.7317228272655536e-19\n",
      "433 1.5669276117768932e-19\n",
      "434 1.4178147344894544e-19\n",
      "435 1.282891823608785e-19\n",
      "436 1.1608085252936149e-19\n",
      "437 1.050342988860803e-19\n",
      "438 9.503896380929803e-20\n",
      "439 8.599481062601811e-20\n",
      "440 7.781132241133797e-20\n",
      "441 7.040659606463854e-20\n",
      "442 6.37065225958282e-20\n",
      "443 5.764404541765863e-20\n",
      "444 5.215848922086174e-20\n",
      "445 4.719495271526123e-20\n",
      "446 4.2703759159206115e-20\n",
      "447 3.863995917804546e-20\n",
      "448 3.496288089567749e-20\n",
      "449 3.163572287674355e-20\n",
      "450 2.8625185805493937e-20\n",
      "451 2.5901139215042696e-20\n",
      "452 2.343631993152914e-20\n",
      "453 2.1206059215109495e-20\n",
      "454 1.9188035866917315e-20\n",
      "455 1.7362052831002947e-20\n",
      "456 1.5709835055408607e-20\n",
      "457 1.421484658930671e-20\n",
      "458 1.286212508564553e-20\n",
      "459 1.1638132052951031e-20\n",
      "460 1.0530617357553812e-20\n",
      "461 9.528496620133638e-21\n",
      "462 8.621740279526076e-21\n",
      "463 7.801273213502995e-21\n",
      "464 7.058883911899134e-21\n",
      "465 6.387142293058423e-21\n",
      "466 5.779325341079253e-21\n",
      "467 5.229349819611935e-21\n",
      "468 4.731711388784468e-21\n",
      "469 4.281429515919076e-21\n",
      "470 3.873997628687187e-21\n",
      "471 3.5053380118187396e-21\n",
      "472 3.1717609959573677e-21\n",
      "473 2.869928030209224e-21\n",
      "474 2.596818268803538e-21\n",
      "475 2.349698337452817e-21\n",
      "476 2.126094976824191e-21\n",
      "477 1.9237702893288214e-21\n",
      "478 1.7406993414905792e-21\n",
      "479 1.5750498977312284e-21\n",
      "480 1.4251640827409352e-21\n",
      "481 1.2895417889048926e-21\n",
      "482 1.1668256627221738e-21\n",
      "483 1.0557875199556276e-21\n",
      "484 9.553160535512378e-22\n",
      "485 8.644057113036095e-22\n",
      "486 7.821466319514939e-22\n",
      "487 7.077155389805107e-22\n",
      "488 6.403675009950519e-22\n",
      "489 5.794284761945017e-22\n",
      "490 5.242885663363464e-22\n",
      "491 4.743959126695539e-22\n",
      "492 4.292511727467311e-22\n",
      "493 3.8840252283705927e-22\n",
      "494 3.5144113592253705e-22\n",
      "495 3.1799709001977496e-22\n",
      "496 2.8773566587644137e-22\n",
      "497 2.603539969884964e-22\n",
      "498 2.3557803841041275e-22\n",
      "499 2.1315982402125366e-22\n",
      "500 1.9287498479639178e-22\n",
      "501 1.7452050324689184e-22\n",
      "502 1.579126815522537e-22\n",
      "503 1.4288530305087573e-22\n",
      "504 1.2928796868783984e-22\n",
      "505 1.1698459177061964e-22\n",
      "506 1.0585203596771809e-22\n",
      "507 9.577888291887943e-23\n",
      "508 8.666431712268721e-23\n",
      "509 7.841711694114178e-23\n",
      "510 7.095474162284704e-23\n",
      "511 6.420250520742546e-23\n",
      "512 5.809282904332702e-23\n",
      "513 5.256456543796835e-23\n",
      "514 4.756238567107345e-23\n",
      "515 4.3036226246244867e-23\n",
      "516 3.8940787838663543e-23\n",
      "517 3.523508192422237e-23\n",
      "518 3.188202055259883e-23\n",
      "519 2.884804515858288e-23\n",
      "520 2.6102790696677047e-23\n",
      "521 2.3618781737514293e-23\n",
      "522 2.1371157484527277e-23\n",
      "523 1.9337422958739506e-23\n",
      "524 1.7497223861455117e-23\n",
      "525 1.583214286159632e-23\n",
      "526 1.4325515268863242e-23\n",
      "527 1.2962262247912913e-23\n",
      "528 1.1728739904306497e-23\n",
      "529 1.0612602731828003e-23\n",
      "530 9.602680054508676e-24\n",
      "531 8.688864226747025e-24\n",
      "532 7.862009472594782e-24\n",
      "533 7.113840351756909e-24\n",
      "534 6.4368689362037344e-24\n",
      "535 5.824319868470494e-24\n",
      "536 5.270062551602374e-24\n",
      "537 4.7685497920798865e-24\n",
      "538 4.31476228164147e-24\n",
      "539 3.904158362359408e-24\n",
      "540 3.532628572200807e-24\n",
      "541 3.196454516150232e-24\n",
      "542 2.8922716512627543e-24\n",
      "543 2.6170356131871883e-24\n",
      "544 2.3679917471444463e-24\n",
      "545 2.1426475384166538e-24\n",
      "546 1.9387476664220266e-24\n",
      "547 1.754251432708546e-24\n",
      "548 1.5873123369578814e-24\n",
      "549 1.4362595965895924e-24\n",
      "550 1.2995814250075031e-24\n",
      "551 1.1759099011312804e-24\n",
      "552 1.0640072787825469e-24\n",
      "553 9.627535989050656e-25\n",
      "554 8.711354806380863e-25\n",
      "555 7.882359790600851e-25\n",
      "556 7.132254080957731e-25\n",
      "557 6.45353036739022e-25\n",
      "558 5.839395754846015e-25\n",
      "559 5.283703777705005e-25\n",
      "560 4.780892883885469e-25\n",
      "561 4.3259307729614145e-25\n",
      "562 3.9142640312087034e-25\n",
      "563 3.541772559509905e-25\n",
      "564 3.20472833801755e-25\n",
      "565 2.899758114878488e-25\n",
      "566 2.623809645595469e-25\n",
      "567 2.3741211451384467e-25\n",
      "568 2.148193647071645e-25\n",
      "569 1.9437659930575558e-25\n",
      "570 1.7587922024243116e-25\n",
      "571 1.5914209953033906e-25\n",
      "572 1.439977264398535e-25\n",
      "573 1.3029453099488528e-25\n",
      "574 1.1789536700961812e-25\n",
      "575 1.0667613948338533e-25\n",
      "576 9.652456261619012e-26\n",
      "577 8.733903601468365e-26\n",
      "578 7.902762784127593e-26\n",
      "579 7.150715472940673e-26\n",
      "580 6.47023492564546e-26\n",
      "581 5.854510664207118e-26\n",
      "582 5.297380313265152e-26\n",
      "583 4.7932679250093566e-26\n",
      "584 4.3371281732200416e-26\n",
      "585 3.924395857947463e-26\n",
      "586 3.5509402154561916e-26\n",
      "587 3.2130235761534296e-26\n",
      "588 2.9072639567353304e-26\n",
      "589 2.6306012121614e-26\n",
      "590 2.3802664086944007e-26\n",
      "591 2.1537541114807646e-26\n",
      "592 1.9487973093165845e-26\n",
      "593 1.763344725637441e-26\n",
      "594 1.5955402886531074e-26\n",
      "595 1.4437045551572354e-26\n",
      "596 1.3063179020952247e-26\n",
      "597 1.1820053176659929e-26\n",
      "598 1.0695226397416697e-26\n",
      "599 9.677441038748548e-27\n",
      "600 8.75651076269652e-27\n",
      "601 7.9232185895224e-27\n",
      "602 7.169224651077955e-27\n",
      "603 6.48698272260112e-27\n",
      "604 5.869664697562269e-27\n",
      "605 5.311092249679095e-27\n",
      "606 4.805674998150422e-27\n",
      "607 4.348354557246386e-27\n",
      "608 3.9345539102837126e-27\n",
      "609 3.560131601304398e-27\n",
      "610 3.221340285992516e-27\n",
      "611 2.9147892269926838e-27\n",
      "612 2.6374103582710866e-27\n",
      "613 2.3864275788793017e-27\n",
      "614 2.1593289688029505e-27\n",
      "615 1.953841648821924e-27\n",
      "616 1.7679090327711494e-27\n",
      "617 1.599670244535095e-27\n",
      "618 1.4474414937740854e-27\n",
      "619 1.309699223984654e-27\n",
      "620 1.185064864233981e-27\n",
      "621 1.0722910319586088e-27\n",
      "622 9.702490487405408e-28\n",
      "623 8.779176441142356e-28\n",
      "624 7.9437273434853625e-28\n",
      "625 7.187781739060989e-28\n",
      "626 6.503773870177955e-28\n",
      "627 5.884857956181553e-28\n",
      "628 5.3248396785796824e-28\n"
     ]
    },
    {
     "name": "stdout",
     "output_type": "stream",
     "text": [
      "629 4.818114186221462e-28\n",
      "630 4.359610000063081e-28\n",
      "631 3.944738256100822e-28\n",
      "632 3.5693467784779365e-28\n",
      "633 3.2296785231129418e-28\n",
      "634 2.9223339759397013e-28\n",
      "635 2.6442371294280543e-28\n",
      "636 2.3926046968664948e-28\n",
      "637 2.1649182562933857e-28\n",
      "638 1.9588990452834162e-28\n",
      "639 1.77248515432735e-28\n",
      "640 1.603810890548638e-28\n",
      "641 1.45118810522197e-28\n",
      "642 1.3130892982135513e-28\n",
      "643 1.1881323302462067e-28\n",
      "644 1.0750665899850164e-28\n",
      "645 9.727604774987714e-29\n",
      "646 8.80190078827408e-29\n",
      "647 7.964289183070641e-29\n",
      "648 7.206386860901402e-29\n",
      "649 6.520608480586232e-29\n",
      "650 5.900090541597061e-29\n",
      "651 5.338622691837025e-29\n",
      "652 4.830585572350026e-29\n",
      "653 4.370894576886981e-29\n",
      "654 3.95494896345776e-29\n",
      "655 3.578585808559134e-29\n",
      "656 3.2380383432367463e-29\n",
      "657 2.92989825399579e-29\n",
      "658 2.651081571253632e-29\n",
      "659 2.3987978039358308e-29\n",
      "660 2.1705220113036395e-29\n",
      "661 1.963969532498186e-29\n",
      "662 1.7770731208869596e-29\n",
      "663 1.6079622543644703e-29\n",
      "664 1.4549444145384158e-29\n",
      "665 1.3164881474367883e-29\n",
      "666 1.1912077362016372e-29\n",
      "667 1.0778493323691559e-29\n",
      "668 9.752784069326954e-30\n",
      "669 8.824683955951965e-30\n",
      "670 7.984904245686979e-30\n",
      "671 7.225040140931715e-30\n",
      "672 6.537486666326857e-30\n",
      "673 5.915362555603739e-30\n",
      "674 5.352441381559037e-30\n",
      "675 4.843089239878731e-30\n",
      "676 4.3822083631295714e-30\n",
      "677 3.9651861005897725e-30\n",
      "678 3.587848753289745e-30\n",
      "679 3.246419802230202e-30\n",
      "680 2.9374821117108028e-30\n",
      "681 2.6579437294871985e-30\n",
      "682 2.4050069414740792e-30\n",
      "683 2.1761402712819786e-30\n",
      "684 1.9690531443508412e-30\n",
      "685 1.7816729631100128e-30\n",
      "686 1.612124363724928e-30\n",
      "687 1.458710446825736e-30\n",
      "688 1.3198957943678875e-30\n",
      "689 1.1942911026523509e-30\n",
      "690 1.0806392777072785e-30\n",
      "691 9.778028538688897e-31\n",
      "692 8.84752609642924e-31\n",
      "693 8.00557266909885e-31\n",
      "694 7.243741703806588e-31\n",
      "695 6.554408540191793e-31\n",
      "696 5.930674100259935e-31\n",
      "697 5.3662958400919675e-31\n",
      "698 4.855625272365953e-31\n",
      "699 4.393551434397725e-31\n",
      "700 3.975449735908647e-31\n",
      "701 3.597135674571287e-31\n",
      "702 3.2548229561041414e-31\n",
      "703 2.9450855997654572e-31\n",
      "704 2.664823649986639e-31\n",
      "705 2.411232150975086e-31\n",
      "706 2.181773073773571e-31\n",
      "707 1.9741499148136685e-31\n",
      "708 1.7862847117359196e-31\n",
      "709 1.6162972464442238e-31\n",
      "710 1.462486227251231e-31\n",
      "711 1.3233122617791442e-31\n",
      "712 1.1973824502035734e-31\n",
      "713 1.0834364446437785e-31\n",
      "714 9.80333835177528e-32\n",
      "715 8.870427362353295e-32\n",
      "716 8.026294591427214e-32\n",
      "717 7.262491674503029e-32\n",
      "718 6.57137421526501e-32\n",
      "719 5.946025277888421e-32\n",
      "720 5.380186160021138e-32\n",
      "721 4.8681937535862893e-32\n",
      "722 4.4049238664938293e-32\n",
      "723 3.9857399380032753e-32\n",
      "724 3.6064466344656583e-32\n",
      "725 3.263247861014401e-32\n",
      "726 2.952708768971613e-32\n",
      "727 2.6717213787284266e-32\n",
      "728 2.417473474040117e-32\n",
      "729 2.1874204564208623e-32\n",
      "730 1.9792598779469045e-32\n",
      "731 1.7909083975836302e-32\n",
      "732 1.620480930408499e-32\n",
      "733 1.466271781047344e-32\n",
      "734 1.3267375725018554e-32\n",
      "735 1.2004817995138824e-32\n",
      "736 1.0862408518712944e-32\n",
      "737 9.828713677724089e-33\n",
      "738 8.893387906766636e-33\n",
      "739 8.047070151150882e-33\n",
      "740 7.281290178321643e-33\n",
      "741 6.588383804923091e-33\n",
      "742 5.9614161910765756e-33\n",
      "743 5.3941124341715236e-33\n",
      "744 4.880794767531385e-33\n",
      "745 4.416325735416545e-33\n",
      "746 3.9960567756400325e-33\n",
      "747 3.6157816951952496e-33\n",
      "748 3.271694573262173e-33\n",
      "749 2.9603516702727802e-33\n",
      "750 2.6786369618080778e-33\n",
      "751 2.4237309523780878e-33\n",
      "752 2.1930824569636388e-33\n",
      "753 1.9843830678989485e-33\n",
      "754 1.7955440515519455e-33\n",
      "755 1.6246754435760975e-33\n",
      "756 1.470067133511811e-33\n",
      "757 1.3301717494263589e-33\n",
      "758 1.2035891712953287e-33\n",
      "759 1.0890525181308963e-33\n",
      "760 9.854154686111257e-34\n",
      "761 8.916407883107786e-34\n",
      "762 8.067899487106771e-34\n",
      "763 7.300137340887375e-34\n",
      "764 6.605437422836372e-34\n",
      "765 5.976846942677399e-34\n",
      "766 5.408074755608291e-34\n",
      "767 4.893428398410087e-34\n",
      "768 4.427757117361186e-34\n",
      "769 4.0064003177634615e-34\n",
      "770 3.6251409191435593e-34\n",
      "771 3.2801631492943356e-34\n",
      "772 2.9680143547442053e-34\n",
      "773 2.6855704454403884e-34\n",
      "774 2.4300046278059767e-34\n",
      "775 2.1987591132394053e-34\n",
      "776 1.9895195189065624e-34\n",
      "777 1.8001917046195687e-34\n",
      "778 1.6288808139777094e-34\n",
      "779 1.4738723100079113e-34\n",
      "780 1.3336148155022614e-34\n",
      "781 1.2067045863135585e-34\n",
      "782 1.0918714622121171e-34\n",
      "783 9.879661546951515e-35\n",
      "784 8.939487445212813e-35\n",
      "785 8.088782738491285e-35\n",
      "786 7.31903328815023e-35\n",
      "787 6.622535182969131e-35\n",
      "788 5.992317635810039e-35\n",
      "789 5.422073217637732e-35\n",
      "790 4.906094730649281e-35\n",
      "791 4.439218088720484e-35\n",
      "792 4.0167706334963924e-35\n",
      "793 3.6345243688555106e-35\n",
      "794 3.2886536457040144e-35\n",
      "795 2.9756968735933825e-35\n",
      "796 2.692521875959891e-35\n",
      "797 2.4362945422488996e-35\n",
      "798 2.2044504631835755e-35\n",
      "799 1.994669265295213e-35\n",
      "800 1.8048513878454153e-35\n",
      "801 1.63309706971665e-35\n",
      "802 1.4776873359645133e-35\n",
      "803 1.3370667937385543e-35\n",
      "804 1.2098280653880192e-35\n",
      "805 1.0946977029531417e-35\n",
      "806 9.90523443070008e-36\n",
      "807 8.9626267473156e-36\n",
      "808 8.10972004486101e-36\n",
      "809 7.337978146386544e-36\n",
      "810 6.639677199580735e-36\n",
      "811 6.0078283738608114e-36\n",
      "812 5.436107913807425e-36\n",
      "813 4.9187938488943154e-36\n",
      "814 4.450708726084717e-36\n",
      "815 4.027167792140633e-36\n",
      "816 3.643932107038075e-36\n",
      "817 3.297166119230685e-36\n",
      "818 2.9833992781603123e-36\n",
      "819 2.699491299820938e-36\n",
      "820 2.4426007377405277e-36\n",
      "821 2.2101565448298504e-36\n",
      "822 1.9998323414791308e-36\n",
      "823 1.8095231323687687e-36\n",
      "824 1.6373242389689078e-36\n",
      "825 1.4815122368763274e-36\n",
      "826 1.3405277072038436e-36\n",
      "827 1.2129596293919974e-36\n",
      "828 1.0975312592409e-36\n",
      "829 9.930873508252971e-37\n",
      "830 8.985825944049381e-37\n",
      "831 8.130711546134111e-37\n",
      "832 7.356972042199196e-37\n",
      "833 6.656863587226204e-37\n",
      "834 6.023379260483389e-37\n",
      "835 5.450178937907168e-37\n",
      "836 4.931525838009848e-37\n",
      "837 4.462229106242478e-37\n",
      "838 4.037591863177317e-37\n",
      "839 3.653364196560384e-37\n",
      "840 3.3057006267607343e-37\n",
      "841 2.9911216199180106e-37\n",
      "842 2.706478763598165e-37\n",
      "843 2.448923256423299e-37\n",
      "844 2.2158773963102846e-37\n",
      "845 2.005008781961654e-37\n",
      "846 1.8142069694095917e-37\n",
      "847 1.6415623499834274e-37\n",
      "848 1.485347038304034e-37\n",
      "849 1.3439975790263894e-37\n",
      "850 1.2160992992528256e-37\n",
      "851 1.100372150011257e-37\n",
      "852 9.95657895094869e-38\n",
      "853 9.00908519044752e-38\n",
      "854 8.151757382590581e-38\n",
      "855 7.376015102518876e-38\n",
      "856 6.674094460757366e-38\n",
      "857 6.038970399599829e-38\n",
      "858 5.46428638396945e-38\n",
      "859 4.944290783079995e-38\n",
      "860 4.4737793061811207e-38\n",
      "861 4.0480429162675973e-38\n",
      "862 3.6628207004543496e-38\n",
      "863 3.3142572253277506e-38\n",
      "864 2.998863950472602e-38\n",
      "865 2.7134843139867624e-38\n",
      "866 2.4552621405488383e-38\n",
      "867 2.221613055855667e-38\n",
      "868 2.0101986213354024e-38\n",
      "869 1.8189029302685815e-38\n",
      "870 1.6458114310822737e-38\n",
      "871 1.4891917658745394e-38\n",
      "872 1.347476432394337e-38\n",
      "873 1.219247095951988e-38\n",
      "874 1.1032203942490448e-38\n",
      "875 9.982350930569248e-39\n",
      "876 9.032404641945059e-39\n",
      "877 8.172857694873629e-39\n",
      "878 7.395107454604717e-39\n",
      "879 6.691369935323047e-39\n",
      "880 6.054601895401186e-39\n",
      "881 5.478430346270389e-39\n",
      "882 4.957088769409175e-39\n",
      "883 4.485359403087212e-39\n",
      "884 4.058521021252769e-39\n",
      "885 3.672301681915042e-39\n",
      "886 3.32283597211309e-39\n",
      "887 3.006626321563833e-39\n",
      "888 2.7205079978027505e-39\n",
      "889 2.4616174324780325e-39\n",
      "890 2.2273635617957438e-39\n",
      "891 2.015401894282622e-39\n",
      "892 1.82361104632748e-39\n",
      "893 1.6500715106607977e-39\n",
      "894 1.49304644528102e-39\n",
      "895 1.3509642905558533e-39\n",
      "896 1.2224030405253299e-39\n",
      "897 1.1060760109882523e-39\n",
      "898 1.0008189619341152e-39\n",
      "899 9.055784454378993e-40\n",
      "900 8.194012623990515e-40\n",
      "901 7.414249226045573e-40\n",
      "902 6.708690126370226e-40\n",
      "903 6.0702738523481184e-40\n",
      "904 5.492610919329901e-40\n",
      "905 4.9699198825226136e-40\n",
      "906 4.496969474347303e-40\n",
      "907 4.069026248154963e-40\n",
      "908 3.681807204301053e-40\n",
      "909 3.3314369244459785e-40\n",
      "910 3.0144087850653746e-40\n",
      "911 2.727549861983444e-40\n",
      "912 2.4679891746814513e-40\n",
      "913 2.233128952559444e-40\n",
      "914 2.0206186355752458e-40\n",
      "915 1.8283313490492594e-40\n",
      "916 1.6543426171879206e-40\n",
      "917 1.4969111022831785e-40\n",
      "918 1.3544611768192617e-40\n",
      "919 1.2255671540630952e-40\n",
      "920 1.1089390193121365e-40\n",
      "921 1.003409518993714e-40\n",
      "922 9.079224783989815e-41\n",
      "923 8.215222311313367e-41\n",
      "924 7.433440544760237e-41\n",
      "925 6.726055149644708e-41\n",
      "926 6.085986375171935e-41\n",
      "927 5.506828197912634e-41\n",
      "928 4.982784208166841e-41\n",
      "929 4.508609597548064e-41\n",
      "930 4.0795586671775603e-41\n",
      "931 3.691337331135133e-41\n",
      "932 3.340060139804082e-41\n",
      "933 3.022211392985126e-41\n",
      "934 2.734609953587538e-41\n",
      "935 2.474377409739597e-41\n",
      "936 2.2389092666752635e-41\n",
      "937 2.0258488800752408e-41\n",
      "938 1.8330638699783055e-41\n",
      "939 1.6586247792061833e-41\n",
      "940 1.5007857627073948e-41\n",
      "941 1.3579671145532758e-41\n",
      "942 1.2287394577101353e-41\n",
      "943 1.1118094383533344e-41\n",
      "944 1.0060067815476473e-41\n",
      "945 9.10272578742244e-42\n",
      "946 8.236486898580597e-42\n",
      "947 7.452681538998717e-42\n",
      "948 6.743465121191804e-42\n"
     ]
    },
    {
     "name": "stdout",
     "output_type": "stream",
     "text": [
      "949 6.101739568874776e-42\n",
      "950 5.5210822770285325e-42\n",
      "951 4.9956818323105515e-42\n",
      "952 4.520279850477056e-42\n",
      "953 4.090118348705598e-42\n",
      "954 3.7008921261042974e-42\n",
      "955 3.348705675813844e-42\n",
      "956 3.030034197465736e-42\n",
      "957 2.7416883197955733e-42\n",
      "958 2.4807821803431534e-42\n",
      "959 2.24470454277133e-42\n",
      "960 2.031092662734811e-42\n",
      "961 1.8378086407407327e-42\n",
      "962 1.6629180253320303e-42\n",
      "963 1.504670452446878e-42\n",
      "964 1.36148212718704e-42\n",
      "965 1.2319199726660341e-42\n",
      "966 1.1146872872940546e-42\n",
      "967 1.008610766952666e-42\n",
      "968 9.126287621727115e-43\n",
      "969 8.257806527897148e-43\n",
      "970 7.47197233734299e-43\n",
      "971 6.7609201573574874e-43\n",
      "972 6.117533538730657e-43\n",
      "973 5.535373251933387e-43\n",
      "974 5.008612841144748e-43\n",
      "975 4.5319803111231915e-43\n",
      "976 4.1007053633064784e-43\n",
      "977 3.7104716530604664e-43\n",
      "978 3.3573735902508227e-43\n",
      "979 3.0378772507846914e-43\n",
      "980 2.7487850079102147e-43\n",
      "981 2.4872035292934122e-43\n",
      "982 2.25051481957579e-43\n",
      "983 2.036350018596604e-43\n",
      "984 1.8425656930444398e-43\n",
      "985 1.667222384255979e-43\n",
      "986 1.5085651974619236e-43\n",
      "987 1.3650062382103623e-43\n",
      "988 1.2351087201852317e-43\n",
      "989 1.1175725853661098e-43\n",
      "990 1.0112214926104486e-43\n",
      "991 9.149910444360996e-44\n",
      "992 8.279181341735911e-44\n",
      "993 7.491313068707749e-44\n",
      "994 6.778420374788599e-44\n",
      "995 6.133368390286092e-44\n",
      "996 5.54970121812979e-44\n",
      "997 5.021577321083608e-44\n",
      "998 4.543711057677184e-44\n",
      "999 4.111319781730085e-44\n",
      "1000 3.720075976020836e-44\n",
      "1001 3.3660639410402666e-44\n",
      "epoch 1000, x1: -0.910510, x2: -0.062795\n"
     ]
    },
    {
     "data": {
      "image/svg+xml": "<?xml version=\"1.0\" encoding=\"utf-8\" standalone=\"no\"?>\n<!DOCTYPE svg PUBLIC \"-//W3C//DTD SVG 1.1//EN\"\n  \"http://www.w3.org/Graphics/SVG/1.1/DTD/svg11.dtd\">\n<!-- Created with matplotlib (https://matplotlib.org/) -->\n<svg height=\"180.65625pt\" version=\"1.1\" viewBox=\"0 0 245.120313 180.65625\" width=\"245.120313pt\" xmlns=\"http://www.w3.org/2000/svg\" xmlns:xlink=\"http://www.w3.org/1999/xlink\">\n <metadata>\n  <rdf:RDF xmlns:cc=\"http://creativecommons.org/ns#\" xmlns:dc=\"http://purl.org/dc/elements/1.1/\" xmlns:rdf=\"http://www.w3.org/1999/02/22-rdf-syntax-ns#\">\n   <cc:Work>\n    <dc:type rdf:resource=\"http://purl.org/dc/dcmitype/StillImage\"/>\n    <dc:date>2022-10-27T00:33:22.311136</dc:date>\n    <dc:format>image/svg+xml</dc:format>\n    <dc:creator>\n     <cc:Agent>\n      <dc:title>Matplotlib v3.3.3, https://matplotlib.org/</dc:title>\n     </cc:Agent>\n    </dc:creator>\n   </cc:Work>\n  </rdf:RDF>\n </metadata>\n <defs>\n  <style type=\"text/css\">*{stroke-linecap:butt;stroke-linejoin:round;}</style>\n </defs>\n <g id=\"figure_1\">\n  <g id=\"patch_1\">\n   <path d=\"M 0 180.65625 \nL 245.120313 180.65625 \nL 245.120313 0 \nL 0 0 \nz\n\" style=\"fill:none;\"/>\n  </g>\n  <g id=\"axes_1\">\n   <g id=\"patch_2\">\n    <path d=\"M 42.620312 143.1 \nL 237.920313 143.1 \nL 237.920313 7.2 \nL 42.620312 7.2 \nz\n\" style=\"fill:#ffffff;\"/>\n   </g>\n   <g id=\"matplotlib.axis_1\">\n    <g id=\"xtick_1\">\n     <g id=\"line2d_1\">\n      <defs>\n       <path d=\"M 0 0 \nL 0 3.5 \n\" id=\"m22bc171d77\" style=\"stroke:#000000;stroke-width:0.8;\"/>\n      </defs>\n      <g>\n       <use style=\"stroke:#000000;stroke-width:0.8;\" x=\"88.393771\" xlink:href=\"#m22bc171d77\" y=\"143.1\"/>\n      </g>\n     </g>\n     <g id=\"text_1\">\n      <!-- −4 -->\n      <g transform=\"translate(81.022677 157.698438)scale(0.1 -0.1)\">\n       <defs>\n        <path d=\"M 10.59375 35.5 \nL 73.1875 35.5 \nL 73.1875 27.203125 \nL 10.59375 27.203125 \nz\n\" id=\"DejaVuSans-8722\"/>\n        <path d=\"M 37.796875 64.3125 \nL 12.890625 25.390625 \nL 37.796875 25.390625 \nz\nM 35.203125 72.90625 \nL 47.609375 72.90625 \nL 47.609375 25.390625 \nL 58.015625 25.390625 \nL 58.015625 17.1875 \nL 47.609375 17.1875 \nL 47.609375 0 \nL 37.796875 0 \nL 37.796875 17.1875 \nL 4.890625 17.1875 \nL 4.890625 26.703125 \nz\n\" id=\"DejaVuSans-52\"/>\n       </defs>\n       <use xlink:href=\"#DejaVuSans-8722\"/>\n       <use x=\"83.789062\" xlink:href=\"#DejaVuSans-52\"/>\n      </g>\n     </g>\n    </g>\n    <g id=\"xtick_2\">\n     <g id=\"line2d_2\">\n      <g>\n       <use style=\"stroke:#000000;stroke-width:0.8;\" x=\"149.425049\" xlink:href=\"#m22bc171d77\" y=\"143.1\"/>\n      </g>\n     </g>\n     <g id=\"text_2\">\n      <!-- −2 -->\n      <g transform=\"translate(142.053955 157.698438)scale(0.1 -0.1)\">\n       <defs>\n        <path d=\"M 19.1875 8.296875 \nL 53.609375 8.296875 \nL 53.609375 0 \nL 7.328125 0 \nL 7.328125 8.296875 \nQ 12.9375 14.109375 22.625 23.890625 \nQ 32.328125 33.6875 34.8125 36.53125 \nQ 39.546875 41.84375 41.421875 45.53125 \nQ 43.3125 49.21875 43.3125 52.78125 \nQ 43.3125 58.59375 39.234375 62.25 \nQ 35.15625 65.921875 28.609375 65.921875 \nQ 23.96875 65.921875 18.8125 64.3125 \nQ 13.671875 62.703125 7.8125 59.421875 \nL 7.8125 69.390625 \nQ 13.765625 71.78125 18.9375 73 \nQ 24.125 74.21875 28.421875 74.21875 \nQ 39.75 74.21875 46.484375 68.546875 \nQ 53.21875 62.890625 53.21875 53.421875 \nQ 53.21875 48.921875 51.53125 44.890625 \nQ 49.859375 40.875 45.40625 35.40625 \nQ 44.1875 33.984375 37.640625 27.21875 \nQ 31.109375 20.453125 19.1875 8.296875 \nz\n\" id=\"DejaVuSans-50\"/>\n       </defs>\n       <use xlink:href=\"#DejaVuSans-8722\"/>\n       <use x=\"83.789062\" xlink:href=\"#DejaVuSans-50\"/>\n      </g>\n     </g>\n    </g>\n    <g id=\"xtick_3\">\n     <g id=\"line2d_3\">\n      <g>\n       <use style=\"stroke:#000000;stroke-width:0.8;\" x=\"210.456327\" xlink:href=\"#m22bc171d77\" y=\"143.1\"/>\n      </g>\n     </g>\n     <g id=\"text_3\">\n      <!-- 0 -->\n      <g transform=\"translate(207.275077 157.698438)scale(0.1 -0.1)\">\n       <defs>\n        <path d=\"M 31.78125 66.40625 \nQ 24.171875 66.40625 20.328125 58.90625 \nQ 16.5 51.421875 16.5 36.375 \nQ 16.5 21.390625 20.328125 13.890625 \nQ 24.171875 6.390625 31.78125 6.390625 \nQ 39.453125 6.390625 43.28125 13.890625 \nQ 47.125 21.390625 47.125 36.375 \nQ 47.125 51.421875 43.28125 58.90625 \nQ 39.453125 66.40625 31.78125 66.40625 \nz\nM 31.78125 74.21875 \nQ 44.046875 74.21875 50.515625 64.515625 \nQ 56.984375 54.828125 56.984375 36.375 \nQ 56.984375 17.96875 50.515625 8.265625 \nQ 44.046875 -1.421875 31.78125 -1.421875 \nQ 19.53125 -1.421875 13.0625 8.265625 \nQ 6.59375 17.96875 6.59375 36.375 \nQ 6.59375 54.828125 13.0625 64.515625 \nQ 19.53125 74.21875 31.78125 74.21875 \nz\n\" id=\"DejaVuSans-48\"/>\n       </defs>\n       <use xlink:href=\"#DejaVuSans-48\"/>\n      </g>\n     </g>\n    </g>\n    <g id=\"text_4\">\n     <!-- x1 -->\n     <g transform=\"translate(134.129687 171.376563)scale(0.1 -0.1)\">\n      <defs>\n       <path d=\"M 54.890625 54.6875 \nL 35.109375 28.078125 \nL 55.90625 0 \nL 45.3125 0 \nL 29.390625 21.484375 \nL 13.484375 0 \nL 2.875 0 \nL 24.125 28.609375 \nL 4.6875 54.6875 \nL 15.28125 54.6875 \nL 29.78125 35.203125 \nL 44.28125 54.6875 \nz\n\" id=\"DejaVuSans-120\"/>\n       <path d=\"M 12.40625 8.296875 \nL 28.515625 8.296875 \nL 28.515625 63.921875 \nL 10.984375 60.40625 \nL 10.984375 69.390625 \nL 28.421875 72.90625 \nL 38.28125 72.90625 \nL 38.28125 8.296875 \nL 54.390625 8.296875 \nL 54.390625 0 \nL 12.40625 0 \nz\n\" id=\"DejaVuSans-49\"/>\n      </defs>\n      <use xlink:href=\"#DejaVuSans-120\"/>\n      <use x=\"59.179688\" xlink:href=\"#DejaVuSans-49\"/>\n     </g>\n    </g>\n   </g>\n   <g id=\"matplotlib.axis_2\">\n    <g id=\"ytick_1\">\n     <g id=\"line2d_4\">\n      <defs>\n       <path d=\"M 0 0 \nL -3.5 0 \n\" id=\"m3233535344\" style=\"stroke:#000000;stroke-width:0.8;\"/>\n      </defs>\n      <g>\n       <use style=\"stroke:#000000;stroke-width:0.8;\" x=\"42.620312\" xlink:href=\"#m3233535344\" y=\"143.1\"/>\n      </g>\n     </g>\n     <g id=\"text_5\">\n      <!-- −3 -->\n      <g transform=\"translate(20.878125 146.899219)scale(0.1 -0.1)\">\n       <defs>\n        <path d=\"M 40.578125 39.3125 \nQ 47.65625 37.796875 51.625 33 \nQ 55.609375 28.21875 55.609375 21.1875 \nQ 55.609375 10.40625 48.1875 4.484375 \nQ 40.765625 -1.421875 27.09375 -1.421875 \nQ 22.515625 -1.421875 17.65625 -0.515625 \nQ 12.796875 0.390625 7.625 2.203125 \nL 7.625 11.71875 \nQ 11.71875 9.328125 16.59375 8.109375 \nQ 21.484375 6.890625 26.8125 6.890625 \nQ 36.078125 6.890625 40.9375 10.546875 \nQ 45.796875 14.203125 45.796875 21.1875 \nQ 45.796875 27.640625 41.28125 31.265625 \nQ 36.765625 34.90625 28.71875 34.90625 \nL 20.21875 34.90625 \nL 20.21875 43.015625 \nL 29.109375 43.015625 \nQ 36.375 43.015625 40.234375 45.921875 \nQ 44.09375 48.828125 44.09375 54.296875 \nQ 44.09375 59.90625 40.109375 62.90625 \nQ 36.140625 65.921875 28.71875 65.921875 \nQ 24.65625 65.921875 20.015625 65.03125 \nQ 15.375 64.15625 9.8125 62.3125 \nL 9.8125 71.09375 \nQ 15.4375 72.65625 20.34375 73.4375 \nQ 25.25 74.21875 29.59375 74.21875 \nQ 40.828125 74.21875 47.359375 69.109375 \nQ 53.90625 64.015625 53.90625 55.328125 \nQ 53.90625 49.265625 50.4375 45.09375 \nQ 46.96875 40.921875 40.578125 39.3125 \nz\n\" id=\"DejaVuSans-51\"/>\n       </defs>\n       <use xlink:href=\"#DejaVuSans-8722\"/>\n       <use x=\"83.789062\" xlink:href=\"#DejaVuSans-51\"/>\n      </g>\n     </g>\n    </g>\n    <g id=\"ytick_2\">\n     <g id=\"line2d_5\">\n      <g>\n       <use style=\"stroke:#000000;stroke-width:0.8;\" x=\"42.620312\" xlink:href=\"#m3233535344\" y=\"108.253841\"/>\n      </g>\n     </g>\n     <g id=\"text_6\">\n      <!-- −2 -->\n      <g transform=\"translate(20.878125 112.05306)scale(0.1 -0.1)\">\n       <use xlink:href=\"#DejaVuSans-8722\"/>\n       <use x=\"83.789062\" xlink:href=\"#DejaVuSans-50\"/>\n      </g>\n     </g>\n    </g>\n    <g id=\"ytick_3\">\n     <g id=\"line2d_6\">\n      <g>\n       <use style=\"stroke:#000000;stroke-width:0.8;\" x=\"42.620312\" xlink:href=\"#m3233535344\" y=\"73.407682\"/>\n      </g>\n     </g>\n     <g id=\"text_7\">\n      <!-- −1 -->\n      <g transform=\"translate(20.878125 77.206901)scale(0.1 -0.1)\">\n       <use xlink:href=\"#DejaVuSans-8722\"/>\n       <use x=\"83.789062\" xlink:href=\"#DejaVuSans-49\"/>\n      </g>\n     </g>\n    </g>\n    <g id=\"ytick_4\">\n     <g id=\"line2d_7\">\n      <g>\n       <use style=\"stroke:#000000;stroke-width:0.8;\" x=\"42.620312\" xlink:href=\"#m3233535344\" y=\"38.561523\"/>\n      </g>\n     </g>\n     <g id=\"text_8\">\n      <!-- 0 -->\n      <g transform=\"translate(29.257812 42.360742)scale(0.1 -0.1)\">\n       <use xlink:href=\"#DejaVuSans-48\"/>\n      </g>\n     </g>\n    </g>\n    <g id=\"text_9\">\n     <!-- x2 -->\n     <g transform=\"translate(14.798437 81.290625)rotate(-90)scale(0.1 -0.1)\">\n      <use xlink:href=\"#DejaVuSans-120\"/>\n      <use x=\"59.179688\" xlink:href=\"#DejaVuSans-50\"/>\n     </g>\n    </g>\n   </g>\n   <g id=\"LineCollection_1\"/>\n   <g id=\"LineCollection_2\">\n    <path clip-path=\"url(#peff3c62880)\" d=\"M 237.920313 104.627982 \nL 237.38177 104.769258 \nL 234.868748 105.394692 \nL 231.817183 106.064806 \nL 228.765619 106.645572 \nL 225.714055 107.13699 \nL 222.662491 107.539057 \nL 219.610927 107.851777 \nL 216.559364 108.075147 \nL 213.5078 108.209169 \nL 210.456236 108.25384 \nL 207.404672 108.209165 \nL 204.353108 108.075138 \nL 201.301544 107.851761 \nL 198.24998 107.539036 \nL 195.198417 107.136964 \nL 192.146852 106.645542 \nL 189.095287 106.064769 \nL 186.043723 105.394647 \nL 183.530887 104.769258 \nL 182.992158 104.627932 \nL 179.940594 103.733231 \nL 176.889029 102.744349 \nL 173.837464 101.661289 \nL 172.861143 101.284641 \nL 170.7859 100.438302 \nL 167.734335 99.094234 \nL 164.998616 97.800024 \nL 164.68277 97.641549 \nL 161.631206 96.004833 \nL 158.672265 94.315408 \nL 158.579641 94.259112 \nL 155.528077 92.291985 \nL 153.383878 90.830791 \nL 152.476512 90.169809 \nL 149.424947 87.826701 \nL 148.829656 87.346174 \nL 146.373386 85.21657 \nL 144.883218 83.861557 \nL 143.321825 82.328201 \nL 141.423198 80.376941 \nL 140.270264 79.089012 \nL 138.387499 76.892324 \nL 137.218703 75.398774 \nL 135.724167 73.407707 \nL 134.167142 71.115039 \nL 133.389396 69.923091 \nL 131.355016 66.438474 \nL 131.115581 65.97367 \nL 129.618682 62.953857 \nL 128.121686 59.46924 \nL 128.06402 59.310604 \nL 126.898964 55.984624 \nL 125.90027 52.500008 \nL 125.123507 49.015392 \nL 125.012459 48.317954 \nL 124.58425 45.530777 \nL 124.263033 42.046161 \nL 124.155958 38.561545 \nL 124.263029 35.076929 \nL 124.584245 31.592313 \nL 125.012459 28.805102 \nL 125.123502 28.107697 \nL 125.90026 24.623082 \nL 126.898951 21.138466 \nL 128.06402 17.812442 \nL 128.12167 17.65385 \nL 129.618663 14.169233 \nL 131.115581 11.149376 \nL 131.354994 10.684617 \nL 133.389367 7.2 \n\" style=\"fill:none;stroke:#1f77b4;stroke-width:1.5;\"/>\n   </g>\n   <g id=\"LineCollection_3\">\n    <path clip-path=\"url(#peff3c62880)\" d=\"M 237.920313 134.578546 \nL 234.868748 135.117076 \nL 231.817183 135.592249 \nL 228.765619 136.004065 \nL 227.655983 136.130775 \nL 225.714055 136.344745 \nL 222.662491 136.619843 \nL 219.610927 136.83381 \nL 216.559364 136.986641 \nL 213.5078 137.07834 \nL 210.456236 137.108905 \nL 207.404672 137.078338 \nL 204.353108 136.986636 \nL 201.301544 136.833798 \nL 198.24998 136.619829 \nL 195.198417 136.344727 \nL 193.25668 136.130775 \nL 192.146852 136.004041 \nL 189.095287 135.592225 \nL 186.043723 135.117046 \nL 182.992158 134.578514 \nL 179.940594 133.976623 \nL 176.889029 133.311377 \nL 174.10295 132.646162 \nL 173.837464 132.580382 \nL 170.7859 131.758533 \nL 167.734335 130.870941 \nL 164.68277 129.9176 \nL 162.418852 129.16155 \nL 161.631206 128.888195 \nL 158.579641 127.76082 \nL 155.528077 126.565115 \nL 153.383878 125.676937 \nL 152.476512 125.285744 \nL 149.424947 123.899007 \nL 146.373386 122.441157 \nL 145.876758 122.192325 \nL 143.321825 120.857717 \nL 140.270264 119.189549 \nL 139.426351 118.707712 \nL 137.218703 117.39122 \nL 134.167142 115.494043 \nL 133.748428 115.2231 \nL 131.115581 113.440187 \nL 128.697488 111.738487 \nL 128.06402 111.270947 \nL 125.012459 108.933704 \nL 124.156 108.253874 \nL 121.960898 106.422119 \nL 120.047314 104.769258 \nL 118.909337 103.733195 \nL 116.308112 101.284641 \nL 115.857776 100.836514 \nL 112.903185 97.800024 \nL 112.806215 97.694327 \nL 109.801692 94.315408 \nL 109.754654 94.259096 \nL 106.976452 90.830791 \nL 106.703093 90.470202 \nL 104.403444 87.346174 \nL 103.651532 86.249054 \nL 102.061357 83.861557 \nL 100.599971 81.491897 \nL 99.931208 80.376941 \nL 98.008301 76.892324 \nL 97.54841 75.979555 \nL 96.28716 73.407707 \nL 94.741034 69.923091 \nL 94.496849 69.308008 \nL 93.387247 66.438474 \nL 92.198326 62.953857 \nL 91.445288 60.407232 \nL 91.174946 59.46924 \nL 90.325144 55.984624 \nL 89.629852 52.500008 \nL 89.089065 49.015392 \nL 88.702791 45.530777 \nL 88.471028 42.046161 \nL 88.393772 38.561545 \nL 88.471028 35.076929 \nL 88.70279 31.592313 \nL 89.089059 28.107697 \nL 89.629844 24.623082 \nL 90.325134 21.138466 \nL 91.174935 17.65385 \nL 91.445288 16.715817 \nL 92.198311 14.169233 \nL 93.387229 10.684617 \nL 94.496849 7.815026 \nL 94.741012 7.2 \n\" style=\"fill:none;stroke:#1f77b4;stroke-width:1.5;\"/>\n   </g>\n   <g id=\"LineCollection_4\">\n    <path clip-path=\"url(#peff3c62880)\" d=\"M 135.724151 143.1 \nL 134.167142 142.36169 \nL 131.115581 140.855626 \nL 128.697456 139.615387 \nL 128.06402 139.279104 \nL 125.012459 137.597933 \nL 122.442807 136.130775 \nL 121.960898 135.845621 \nL 118.909337 133.976598 \nL 116.80835 132.646162 \nL 115.857776 132.021503 \nL 112.806215 129.950462 \nL 111.679569 129.16155 \nL 109.754654 127.760808 \nL 106.976452 125.676937 \nL 106.703093 125.463528 \nL 103.651532 123.010073 \nL 102.663081 122.192325 \nL 100.599971 120.412876 \nL 98.677152 118.707712 \nL 97.54841 117.662252 \nL 94.985174 115.2231 \nL 94.496849 114.736801 \nL 91.564251 111.738487 \nL 91.445288 111.610925 \nL 88.393801 108.253874 \nL 88.393727 108.253789 \nL 85.455255 104.769258 \nL 85.342166 104.627905 \nL 82.731861 101.284641 \nL 82.290605 100.687189 \nL 80.208422 97.800024 \nL 79.239044 96.374416 \nL 77.871157 94.315408 \nL 76.187483 91.617552 \nL 75.707517 90.830791 \nL 73.718851 87.346174 \nL 73.135922 86.249076 \nL 71.895223 83.861557 \nL 70.218531 80.376941 \nL 70.084361 80.073851 \nL 68.706275 76.892324 \nL 67.328151 73.407707 \nL 67.0328 72.582299 \nL 66.101304 69.923091 \nL 65.009165 66.438474 \nL 64.045509 62.953857 \nL 63.981239 62.685701 \nL 63.226238 59.46924 \nL 62.534133 55.984624 \nL 61.967863 52.500008 \nL 61.527427 49.015392 \nL 61.212832 45.530777 \nL 61.024077 42.046161 \nL 60.961157 38.561545 \nL 61.024077 35.076929 \nL 61.212832 31.592313 \nL 61.527421 28.107697 \nL 61.967857 24.623082 \nL 62.534121 21.138466 \nL 63.226232 17.65385 \nL 63.981239 14.43734 \nL 64.045497 14.169233 \nL 65.009152 10.684617 \nL 66.10129 7.2 \n\" style=\"fill:none;stroke:#1f77b4;stroke-width:1.5;\"/>\n   </g>\n   <g id=\"LineCollection_5\">\n    <path clip-path=\"url(#peff3c62880)\" d=\"M 96.287149 143.1 \nL 94.496849 141.800619 \nL 91.564236 139.615387 \nL 91.445288 139.523644 \nL 88.393727 137.108869 \nL 87.188223 136.130775 \nL 85.342166 134.578495 \nL 83.099501 132.646162 \nL 82.290605 131.922898 \nL 79.274994 129.16155 \nL 79.239044 129.127341 \nL 76.187483 126.155165 \nL 75.707517 125.676937 \nL 73.135922 123.010086 \nL 72.364698 122.192325 \nL 70.084361 119.671494 \nL 69.23128 118.707712 \nL 67.0328 116.113553 \nL 66.29405 115.2231 \nL 63.981239 112.305694 \nL 63.540852 111.738487 \nL 60.961181 108.253874 \nL 60.929678 108.209139 \nL 58.556281 104.769258 \nL 57.878117 103.733231 \nL 56.30705 101.284641 \nL 54.826556 98.845359 \nL 54.204423 97.800024 \nL 52.249047 94.315408 \nL 51.774995 93.416108 \nL 50.438145 90.830791 \nL 48.752514 87.346174 \nL 48.723434 87.281606 \nL 47.21193 83.861557 \nL 45.785964 80.376941 \nL 45.671873 80.073894 \nL 44.496055 76.892324 \nL 43.320222 73.407707 \nL 42.620312 71.115168 \n\" style=\"fill:none;stroke:#1f77b4;stroke-width:1.5;\"/>\n   </g>\n   <g id=\"LineCollection_6\">\n    <path clip-path=\"url(#peff3c62880)\" d=\"M 67.328138 143.1 \nL 67.0328 142.834201 \nL 63.981239 140.028792 \nL 63.540834 139.615387 \nL 60.929678 137.078315 \nL 59.974168 136.130775 \nL 57.878117 133.976623 \nL 56.609178 132.646162 \nL 54.826556 130.706591 \nL 53.434114 129.16155 \nL 51.774995 127.248405 \nL 50.438145 125.676937 \nL 48.723434 123.57903 \nL 47.611206 122.192325 \nL 45.671873 119.671508 \nL 44.944002 118.707712 \nL 42.620312 115.494095 \n\" style=\"fill:none;stroke:#1f77b4;stroke-width:1.5;\"/>\n   </g>\n   <g id=\"LineCollection_7\">\n    <path clip-path=\"url(#peff3c62880)\" d=\"M 43.320214 143.1 \nL 42.620312 142.361735 \n\" style=\"fill:none;stroke:#1f77b4;stroke-width:1.5;\"/>\n   </g>\n   <g id=\"LineCollection_8\"/>\n   <g id=\"line2d_8\">\n    <path clip-path=\"url(#peff3c62880)\" d=\"M 57.878132 108.253841 \nL 86.313707 86.704765 \nL 101.573906 71.212371 \nL 115.426674 65.221844 \nL 125.407133 59.105324 \nL 131.892088 53.225664 \nL 138.525681 51.592797 \nL 145.396091 51.877242 \nL 149.883449 49.936354 \nL 155.179624 48.152629 \nL 156.877615 44.918697 \nL 161.36051 45.086004 \nL 161.901676 43.797004 \nL 166.862531 42.849847 \nL 169.162096 42.706207 \nL 170.998828 42.385761 \nL 172.84724 41.562094 \nL 173.256541 40.908846 \nL 175.716623 42.122962 \nL 176.411826 42.007226 \nL 176.895857 42.324937 \nL 177.703859 42.01351 \nL 178.145431 42.055809 \nL 178.492141 41.635833 \nL 178.751461 41.685257 \nL 179.154353 41.250839 \nL 179.58886 41.237512 \nL 180.125175 40.969243 \nL 180.339278 40.938852 \nL 181.302795 41.152136 \nL 182.671531 40.749694 \nL 182.671531 40.749694 \n\" style=\"fill:none;stroke:#ff7f0e;stroke-linecap:square;stroke-width:1.5;\"/>\n    <defs>\n     <path d=\"M 0 3 \nC 0.795609 3 1.55874 2.683901 2.12132 2.12132 \nC 2.683901 1.55874 3 0.795609 3 0 \nC 3 -0.795609 2.683901 -1.55874 2.12132 -2.12132 \nC 1.55874 -2.683901 0.795609 -3 0 -3 \nC -0.795609 -3 -1.55874 -2.683901 -2.12132 -2.12132 \nC -2.683901 -1.55874 -3 -0.795609 -3 0 \nC -3 0.795609 -2.683901 1.55874 -2.12132 2.12132 \nC -1.55874 2.683901 -0.795609 3 0 3 \nz\n\" id=\"m04cbf88dd3\" style=\"stroke:#ff7f0e;\"/>\n    </defs>\n    <g clip-path=\"url(#peff3c62880)\">\n     <use style=\"fill:#ff7f0e;stroke:#ff7f0e;\" x=\"57.878132\" xlink:href=\"#m04cbf88dd3\" y=\"108.253841\"/>\n     <use style=\"fill:#ff7f0e;stroke:#ff7f0e;\" x=\"86.313707\" xlink:href=\"#m04cbf88dd3\" y=\"86.704765\"/>\n     <use style=\"fill:#ff7f0e;stroke:#ff7f0e;\" x=\"101.573906\" xlink:href=\"#m04cbf88dd3\" y=\"71.212371\"/>\n     <use style=\"fill:#ff7f0e;stroke:#ff7f0e;\" x=\"115.426674\" xlink:href=\"#m04cbf88dd3\" y=\"65.221844\"/>\n     <use style=\"fill:#ff7f0e;stroke:#ff7f0e;\" x=\"125.407133\" xlink:href=\"#m04cbf88dd3\" y=\"59.105324\"/>\n     <use style=\"fill:#ff7f0e;stroke:#ff7f0e;\" x=\"131.892088\" xlink:href=\"#m04cbf88dd3\" y=\"53.225664\"/>\n     <use style=\"fill:#ff7f0e;stroke:#ff7f0e;\" x=\"138.525681\" xlink:href=\"#m04cbf88dd3\" y=\"51.592797\"/>\n     <use style=\"fill:#ff7f0e;stroke:#ff7f0e;\" x=\"145.396091\" xlink:href=\"#m04cbf88dd3\" y=\"51.877242\"/>\n     <use style=\"fill:#ff7f0e;stroke:#ff7f0e;\" x=\"149.883449\" xlink:href=\"#m04cbf88dd3\" y=\"49.936354\"/>\n     <use style=\"fill:#ff7f0e;stroke:#ff7f0e;\" x=\"155.179624\" xlink:href=\"#m04cbf88dd3\" y=\"48.152629\"/>\n     <use style=\"fill:#ff7f0e;stroke:#ff7f0e;\" x=\"156.877615\" xlink:href=\"#m04cbf88dd3\" y=\"44.918697\"/>\n     <use style=\"fill:#ff7f0e;stroke:#ff7f0e;\" x=\"161.36051\" xlink:href=\"#m04cbf88dd3\" y=\"45.086004\"/>\n     <use style=\"fill:#ff7f0e;stroke:#ff7f0e;\" x=\"161.901676\" xlink:href=\"#m04cbf88dd3\" y=\"43.797004\"/>\n     <use style=\"fill:#ff7f0e;stroke:#ff7f0e;\" x=\"165.128609\" xlink:href=\"#m04cbf88dd3\" y=\"43.248827\"/>\n     <use style=\"fill:#ff7f0e;stroke:#ff7f0e;\" x=\"166.862531\" xlink:href=\"#m04cbf88dd3\" y=\"42.849847\"/>\n     <use style=\"fill:#ff7f0e;stroke:#ff7f0e;\" x=\"169.162096\" xlink:href=\"#m04cbf88dd3\" y=\"42.706207\"/>\n     <use style=\"fill:#ff7f0e;stroke:#ff7f0e;\" x=\"170.998828\" xlink:href=\"#m04cbf88dd3\" y=\"42.385761\"/>\n     <use style=\"fill:#ff7f0e;stroke:#ff7f0e;\" x=\"172.84724\" xlink:href=\"#m04cbf88dd3\" y=\"41.562094\"/>\n     <use style=\"fill:#ff7f0e;stroke:#ff7f0e;\" x=\"173.256541\" xlink:href=\"#m04cbf88dd3\" y=\"40.908846\"/>\n     <use style=\"fill:#ff7f0e;stroke:#ff7f0e;\" x=\"174.444677\" xlink:href=\"#m04cbf88dd3\" y=\"41.450808\"/>\n     <use style=\"fill:#ff7f0e;stroke:#ff7f0e;\" x=\"175.716623\" xlink:href=\"#m04cbf88dd3\" y=\"42.122962\"/>\n     <use style=\"fill:#ff7f0e;stroke:#ff7f0e;\" x=\"176.411826\" xlink:href=\"#m04cbf88dd3\" y=\"42.007226\"/>\n     <use style=\"fill:#ff7f0e;stroke:#ff7f0e;\" x=\"176.895857\" xlink:href=\"#m04cbf88dd3\" y=\"42.324937\"/>\n     <use style=\"fill:#ff7f0e;stroke:#ff7f0e;\" x=\"177.703859\" xlink:href=\"#m04cbf88dd3\" y=\"42.01351\"/>\n     <use style=\"fill:#ff7f0e;stroke:#ff7f0e;\" x=\"178.145431\" xlink:href=\"#m04cbf88dd3\" y=\"42.055809\"/>\n     <use style=\"fill:#ff7f0e;stroke:#ff7f0e;\" x=\"178.492141\" xlink:href=\"#m04cbf88dd3\" y=\"41.635833\"/>\n     <use style=\"fill:#ff7f0e;stroke:#ff7f0e;\" x=\"178.751461\" xlink:href=\"#m04cbf88dd3\" y=\"41.685257\"/>\n     <use style=\"fill:#ff7f0e;stroke:#ff7f0e;\" x=\"179.154353\" xlink:href=\"#m04cbf88dd3\" y=\"41.250839\"/>\n     <use style=\"fill:#ff7f0e;stroke:#ff7f0e;\" x=\"179.58886\" xlink:href=\"#m04cbf88dd3\" y=\"41.237512\"/>\n     <use style=\"fill:#ff7f0e;stroke:#ff7f0e;\" x=\"179.897399\" xlink:href=\"#m04cbf88dd3\" y=\"41.052585\"/>\n     <use style=\"fill:#ff7f0e;stroke:#ff7f0e;\" x=\"180.125175\" xlink:href=\"#m04cbf88dd3\" y=\"40.969243\"/>\n     <use style=\"fill:#ff7f0e;stroke:#ff7f0e;\" x=\"180.339278\" xlink:href=\"#m04cbf88dd3\" y=\"40.938852\"/>\n     <use style=\"fill:#ff7f0e;stroke:#ff7f0e;\" x=\"180.595168\" xlink:href=\"#m04cbf88dd3\" y=\"41.0219\"/>\n     <use style=\"fill:#ff7f0e;stroke:#ff7f0e;\" x=\"180.645735\" xlink:href=\"#m04cbf88dd3\" y=\"41.00392\"/>\n     <use style=\"fill:#ff7f0e;stroke:#ff7f0e;\" x=\"180.815115\" xlink:href=\"#m04cbf88dd3\" y=\"40.987809\"/>\n     <use style=\"fill:#ff7f0e;stroke:#ff7f0e;\" x=\"180.874005\" xlink:href=\"#m04cbf88dd3\" y=\"41.040905\"/>\n     <use style=\"fill:#ff7f0e;stroke:#ff7f0e;\" x=\"181.016959\" xlink:href=\"#m04cbf88dd3\" y=\"41.119122\"/>\n     <use style=\"fill:#ff7f0e;stroke:#ff7f0e;\" x=\"181.302795\" xlink:href=\"#m04cbf88dd3\" y=\"41.152136\"/>\n     <use style=\"fill:#ff7f0e;stroke:#ff7f0e;\" x=\"181.458838\" xlink:href=\"#m04cbf88dd3\" y=\"41.099384\"/>\n     <use style=\"fill:#ff7f0e;stroke:#ff7f0e;\" x=\"181.511306\" xlink:href=\"#m04cbf88dd3\" y=\"41.063623\"/>\n     <use style=\"fill:#ff7f0e;stroke:#ff7f0e;\" x=\"181.667562\" xlink:href=\"#m04cbf88dd3\" y=\"40.992984\"/>\n     <use style=\"fill:#ff7f0e;stroke:#ff7f0e;\" x=\"181.741617\" xlink:href=\"#m04cbf88dd3\" y=\"40.962786\"/>\n     <use style=\"fill:#ff7f0e;stroke:#ff7f0e;\" x=\"181.792083\" xlink:href=\"#m04cbf88dd3\" y=\"41.031371\"/>\n     <use style=\"fill:#ff7f0e;stroke:#ff7f0e;\" x=\"181.950127\" xlink:href=\"#m04cbf88dd3\" y=\"41.020965\"/>\n     <use style=\"fill:#ff7f0e;stroke:#ff7f0e;\" x=\"182.078694\" xlink:href=\"#m04cbf88dd3\" y=\"40.980014\"/>\n     <use style=\"fill:#ff7f0e;stroke:#ff7f0e;\" x=\"182.130037\" xlink:href=\"#m04cbf88dd3\" y=\"40.985822\"/>\n     <use style=\"fill:#ff7f0e;stroke:#ff7f0e;\" x=\"182.141775\" xlink:href=\"#m04cbf88dd3\" y=\"40.961958\"/>\n     <use style=\"fill:#ff7f0e;stroke:#ff7f0e;\" x=\"182.173798\" xlink:href=\"#m04cbf88dd3\" y=\"40.949075\"/>\n     <use style=\"fill:#ff7f0e;stroke:#ff7f0e;\" x=\"182.217825\" xlink:href=\"#m04cbf88dd3\" y=\"40.920901\"/>\n     <use style=\"fill:#ff7f0e;stroke:#ff7f0e;\" x=\"182.257802\" xlink:href=\"#m04cbf88dd3\" y=\"40.879326\"/>\n     <use style=\"fill:#ff7f0e;stroke:#ff7f0e;\" x=\"182.325101\" xlink:href=\"#m04cbf88dd3\" y=\"40.863101\"/>\n     <use style=\"fill:#ff7f0e;stroke:#ff7f0e;\" x=\"182.33146\" xlink:href=\"#m04cbf88dd3\" y=\"40.878328\"/>\n     <use style=\"fill:#ff7f0e;stroke:#ff7f0e;\" x=\"182.377006\" xlink:href=\"#m04cbf88dd3\" y=\"40.822249\"/>\n     <use style=\"fill:#ff7f0e;stroke:#ff7f0e;\" x=\"182.409862\" xlink:href=\"#m04cbf88dd3\" y=\"40.84132\"/>\n     <use style=\"fill:#ff7f0e;stroke:#ff7f0e;\" x=\"182.435579\" xlink:href=\"#m04cbf88dd3\" y=\"40.819595\"/>\n     <use style=\"fill:#ff7f0e;stroke:#ff7f0e;\" x=\"182.468062\" xlink:href=\"#m04cbf88dd3\" y=\"40.78865\"/>\n     <use style=\"fill:#ff7f0e;stroke:#ff7f0e;\" x=\"182.496531\" xlink:href=\"#m04cbf88dd3\" y=\"40.801075\"/>\n     <use style=\"fill:#ff7f0e;stroke:#ff7f0e;\" x=\"182.494263\" xlink:href=\"#m04cbf88dd3\" y=\"40.793116\"/>\n     <use style=\"fill:#ff7f0e;stroke:#ff7f0e;\" x=\"182.507403\" xlink:href=\"#m04cbf88dd3\" y=\"40.790865\"/>\n     <use style=\"fill:#ff7f0e;stroke:#ff7f0e;\" x=\"182.526034\" xlink:href=\"#m04cbf88dd3\" y=\"40.779219\"/>\n     <use style=\"fill:#ff7f0e;stroke:#ff7f0e;\" x=\"182.537029\" xlink:href=\"#m04cbf88dd3\" y=\"40.777255\"/>\n     <use style=\"fill:#ff7f0e;stroke:#ff7f0e;\" x=\"182.550841\" xlink:href=\"#m04cbf88dd3\" y=\"40.768775\"/>\n     <use style=\"fill:#ff7f0e;stroke:#ff7f0e;\" x=\"182.570367\" xlink:href=\"#m04cbf88dd3\" y=\"40.768794\"/>\n     <use style=\"fill:#ff7f0e;stroke:#ff7f0e;\" x=\"182.578061\" xlink:href=\"#m04cbf88dd3\" y=\"40.762443\"/>\n     <use style=\"fill:#ff7f0e;stroke:#ff7f0e;\" x=\"182.581131\" xlink:href=\"#m04cbf88dd3\" y=\"40.761827\"/>\n     <use style=\"fill:#ff7f0e;stroke:#ff7f0e;\" x=\"182.597162\" xlink:href=\"#m04cbf88dd3\" y=\"40.757661\"/>\n     <use style=\"fill:#ff7f0e;stroke:#ff7f0e;\" x=\"182.604662\" xlink:href=\"#m04cbf88dd3\" y=\"40.752596\"/>\n     <use style=\"fill:#ff7f0e;stroke:#ff7f0e;\" x=\"182.608223\" xlink:href=\"#m04cbf88dd3\" y=\"40.752167\"/>\n     <use style=\"fill:#ff7f0e;stroke:#ff7f0e;\" x=\"182.614713\" xlink:href=\"#m04cbf88dd3\" y=\"40.753218\"/>\n     <use style=\"fill:#ff7f0e;stroke:#ff7f0e;\" x=\"182.618156\" xlink:href=\"#m04cbf88dd3\" y=\"40.754898\"/>\n     <use style=\"fill:#ff7f0e;stroke:#ff7f0e;\" x=\"182.625344\" xlink:href=\"#m04cbf88dd3\" y=\"40.756175\"/>\n     <use style=\"fill:#ff7f0e;stroke:#ff7f0e;\" x=\"182.627923\" xlink:href=\"#m04cbf88dd3\" y=\"40.754599\"/>\n     <use style=\"fill:#ff7f0e;stroke:#ff7f0e;\" x=\"182.629711\" xlink:href=\"#m04cbf88dd3\" y=\"40.757421\"/>\n     <use style=\"fill:#ff7f0e;stroke:#ff7f0e;\" x=\"182.634471\" xlink:href=\"#m04cbf88dd3\" y=\"40.755807\"/>\n     <use style=\"fill:#ff7f0e;stroke:#ff7f0e;\" x=\"182.64039\" xlink:href=\"#m04cbf88dd3\" y=\"40.755146\"/>\n     <use style=\"fill:#ff7f0e;stroke:#ff7f0e;\" x=\"182.641217\" xlink:href=\"#m04cbf88dd3\" y=\"40.756049\"/>\n     <use style=\"fill:#ff7f0e;stroke:#ff7f0e;\" x=\"182.644979\" xlink:href=\"#m04cbf88dd3\" y=\"40.757061\"/>\n     <use style=\"fill:#ff7f0e;stroke:#ff7f0e;\" x=\"182.647514\" xlink:href=\"#m04cbf88dd3\" y=\"40.7562\"/>\n     <use style=\"fill:#ff7f0e;stroke:#ff7f0e;\" x=\"182.649448\" xlink:href=\"#m04cbf88dd3\" y=\"40.754299\"/>\n     <use style=\"fill:#ff7f0e;stroke:#ff7f0e;\" x=\"182.652298\" xlink:href=\"#m04cbf88dd3\" y=\"40.751971\"/>\n     <use style=\"fill:#ff7f0e;stroke:#ff7f0e;\" x=\"182.65306\" xlink:href=\"#m04cbf88dd3\" y=\"40.75233\"/>\n     <use style=\"fill:#ff7f0e;stroke:#ff7f0e;\" x=\"182.655075\" xlink:href=\"#m04cbf88dd3\" y=\"40.751636\"/>\n     <use style=\"fill:#ff7f0e;stroke:#ff7f0e;\" x=\"182.656341\" xlink:href=\"#m04cbf88dd3\" y=\"40.750672\"/>\n     <use style=\"fill:#ff7f0e;stroke:#ff7f0e;\" x=\"182.657325\" xlink:href=\"#m04cbf88dd3\" y=\"40.74941\"/>\n     <use style=\"fill:#ff7f0e;stroke:#ff7f0e;\" x=\"182.659255\" xlink:href=\"#m04cbf88dd3\" y=\"40.748634\"/>\n     <use style=\"fill:#ff7f0e;stroke:#ff7f0e;\" x=\"182.660616\" xlink:href=\"#m04cbf88dd3\" y=\"40.749214\"/>\n     <use style=\"fill:#ff7f0e;stroke:#ff7f0e;\" x=\"182.66089\" xlink:href=\"#m04cbf88dd3\" y=\"40.749779\"/>\n     <use style=\"fill:#ff7f0e;stroke:#ff7f0e;\" x=\"182.662418\" xlink:href=\"#m04cbf88dd3\" y=\"40.749844\"/>\n     <use style=\"fill:#ff7f0e;stroke:#ff7f0e;\" x=\"182.662686\" xlink:href=\"#m04cbf88dd3\" y=\"40.750511\"/>\n     <use style=\"fill:#ff7f0e;stroke:#ff7f0e;\" x=\"182.66365\" xlink:href=\"#m04cbf88dd3\" y=\"40.750064\"/>\n     <use style=\"fill:#ff7f0e;stroke:#ff7f0e;\" x=\"182.664654\" xlink:href=\"#m04cbf88dd3\" y=\"40.750148\"/>\n     <use style=\"fill:#ff7f0e;stroke:#ff7f0e;\" x=\"182.665743\" xlink:href=\"#m04cbf88dd3\" y=\"40.749822\"/>\n     <use style=\"fill:#ff7f0e;stroke:#ff7f0e;\" x=\"182.666469\" xlink:href=\"#m04cbf88dd3\" y=\"40.750254\"/>\n     <use style=\"fill:#ff7f0e;stroke:#ff7f0e;\" x=\"182.666885\" xlink:href=\"#m04cbf88dd3\" y=\"40.749704\"/>\n     <use style=\"fill:#ff7f0e;stroke:#ff7f0e;\" x=\"182.667176\" xlink:href=\"#m04cbf88dd3\" y=\"40.749974\"/>\n     <use style=\"fill:#ff7f0e;stroke:#ff7f0e;\" x=\"182.667744\" xlink:href=\"#m04cbf88dd3\" y=\"40.750012\"/>\n     <use style=\"fill:#ff7f0e;stroke:#ff7f0e;\" x=\"182.668464\" xlink:href=\"#m04cbf88dd3\" y=\"40.749992\"/>\n     <use style=\"fill:#ff7f0e;stroke:#ff7f0e;\" x=\"182.668881\" xlink:href=\"#m04cbf88dd3\" y=\"40.750145\"/>\n     <use style=\"fill:#ff7f0e;stroke:#ff7f0e;\" x=\"182.669003\" xlink:href=\"#m04cbf88dd3\" y=\"40.750149\"/>\n     <use style=\"fill:#ff7f0e;stroke:#ff7f0e;\" x=\"182.669385\" xlink:href=\"#m04cbf88dd3\" y=\"40.749963\"/>\n     <use style=\"fill:#ff7f0e;stroke:#ff7f0e;\" x=\"182.669461\" xlink:href=\"#m04cbf88dd3\" y=\"40.749833\"/>\n     <use style=\"fill:#ff7f0e;stroke:#ff7f0e;\" x=\"182.669555\" xlink:href=\"#m04cbf88dd3\" y=\"40.749703\"/>\n     <use style=\"fill:#ff7f0e;stroke:#ff7f0e;\" x=\"182.669812\" xlink:href=\"#m04cbf88dd3\" y=\"40.749962\"/>\n     <use style=\"fill:#ff7f0e;stroke:#ff7f0e;\" x=\"182.669923\" xlink:href=\"#m04cbf88dd3\" y=\"40.749854\"/>\n     <use style=\"fill:#ff7f0e;stroke:#ff7f0e;\" x=\"182.669972\" xlink:href=\"#m04cbf88dd3\" y=\"40.749827\"/>\n     <use style=\"fill:#ff7f0e;stroke:#ff7f0e;\" x=\"182.670112\" xlink:href=\"#m04cbf88dd3\" y=\"40.749918\"/>\n     <use style=\"fill:#ff7f0e;stroke:#ff7f0e;\" x=\"182.670208\" xlink:href=\"#m04cbf88dd3\" y=\"40.749807\"/>\n     <use style=\"fill:#ff7f0e;stroke:#ff7f0e;\" x=\"182.670316\" xlink:href=\"#m04cbf88dd3\" y=\"40.74986\"/>\n     <use style=\"fill:#ff7f0e;stroke:#ff7f0e;\" x=\"182.670461\" xlink:href=\"#m04cbf88dd3\" y=\"40.749886\"/>\n     <use style=\"fill:#ff7f0e;stroke:#ff7f0e;\" x=\"182.670523\" xlink:href=\"#m04cbf88dd3\" y=\"40.749802\"/>\n     <use style=\"fill:#ff7f0e;stroke:#ff7f0e;\" x=\"182.670647\" xlink:href=\"#m04cbf88dd3\" y=\"40.749753\"/>\n     <use style=\"fill:#ff7f0e;stroke:#ff7f0e;\" x=\"182.67078\" xlink:href=\"#m04cbf88dd3\" y=\"40.749808\"/>\n     <use style=\"fill:#ff7f0e;stroke:#ff7f0e;\" x=\"182.670825\" xlink:href=\"#m04cbf88dd3\" y=\"40.749824\"/>\n     <use style=\"fill:#ff7f0e;stroke:#ff7f0e;\" x=\"182.670832\" xlink:href=\"#m04cbf88dd3\" y=\"40.749877\"/>\n     <use style=\"fill:#ff7f0e;stroke:#ff7f0e;\" x=\"182.670912\" xlink:href=\"#m04cbf88dd3\" y=\"40.749858\"/>\n     <use style=\"fill:#ff7f0e;stroke:#ff7f0e;\" x=\"182.67098\" xlink:href=\"#m04cbf88dd3\" y=\"40.74989\"/>\n     <use style=\"fill:#ff7f0e;stroke:#ff7f0e;\" x=\"182.671049\" xlink:href=\"#m04cbf88dd3\" y=\"40.749859\"/>\n     <use style=\"fill:#ff7f0e;stroke:#ff7f0e;\" x=\"182.6711\" xlink:href=\"#m04cbf88dd3\" y=\"40.749855\"/>\n     <use style=\"fill:#ff7f0e;stroke:#ff7f0e;\" x=\"182.671171\" xlink:href=\"#m04cbf88dd3\" y=\"40.749808\"/>\n     <use style=\"fill:#ff7f0e;stroke:#ff7f0e;\" x=\"182.671207\" xlink:href=\"#m04cbf88dd3\" y=\"40.749779\"/>\n     <use style=\"fill:#ff7f0e;stroke:#ff7f0e;\" x=\"182.67122\" xlink:href=\"#m04cbf88dd3\" y=\"40.749777\"/>\n     <use style=\"fill:#ff7f0e;stroke:#ff7f0e;\" x=\"182.671273\" xlink:href=\"#m04cbf88dd3\" y=\"40.74977\"/>\n     <use style=\"fill:#ff7f0e;stroke:#ff7f0e;\" x=\"182.671285\" xlink:href=\"#m04cbf88dd3\" y=\"40.749745\"/>\n     <use style=\"fill:#ff7f0e;stroke:#ff7f0e;\" x=\"182.671309\" xlink:href=\"#m04cbf88dd3\" y=\"40.749744\"/>\n     <use style=\"fill:#ff7f0e;stroke:#ff7f0e;\" x=\"182.671327\" xlink:href=\"#m04cbf88dd3\" y=\"40.749725\"/>\n     <use style=\"fill:#ff7f0e;stroke:#ff7f0e;\" x=\"182.671353\" xlink:href=\"#m04cbf88dd3\" y=\"40.74972\"/>\n     <use style=\"fill:#ff7f0e;stroke:#ff7f0e;\" x=\"182.671365\" xlink:href=\"#m04cbf88dd3\" y=\"40.749713\"/>\n     <use style=\"fill:#ff7f0e;stroke:#ff7f0e;\" x=\"182.671393\" xlink:href=\"#m04cbf88dd3\" y=\"40.749714\"/>\n     <use style=\"fill:#ff7f0e;stroke:#ff7f0e;\" x=\"182.671416\" xlink:href=\"#m04cbf88dd3\" y=\"40.749712\"/>\n     <use style=\"fill:#ff7f0e;stroke:#ff7f0e;\" x=\"182.671429\" xlink:href=\"#m04cbf88dd3\" y=\"40.749715\"/>\n     <use style=\"fill:#ff7f0e;stroke:#ff7f0e;\" x=\"182.671438\" xlink:href=\"#m04cbf88dd3\" y=\"40.749715\"/>\n     <use style=\"fill:#ff7f0e;stroke:#ff7f0e;\" x=\"182.671453\" xlink:href=\"#m04cbf88dd3\" y=\"40.74971\"/>\n     <use style=\"fill:#ff7f0e;stroke:#ff7f0e;\" x=\"182.671462\" xlink:href=\"#m04cbf88dd3\" y=\"40.749713\"/>\n     <use style=\"fill:#ff7f0e;stroke:#ff7f0e;\" x=\"182.671463\" xlink:href=\"#m04cbf88dd3\" y=\"40.749707\"/>\n     <use style=\"fill:#ff7f0e;stroke:#ff7f0e;\" x=\"182.671471\" xlink:href=\"#m04cbf88dd3\" y=\"40.749699\"/>\n     <use style=\"fill:#ff7f0e;stroke:#ff7f0e;\" x=\"182.671478\" xlink:href=\"#m04cbf88dd3\" y=\"40.749703\"/>\n     <use style=\"fill:#ff7f0e;stroke:#ff7f0e;\" x=\"182.671489\" xlink:href=\"#m04cbf88dd3\" y=\"40.749702\"/>\n     <use style=\"fill:#ff7f0e;stroke:#ff7f0e;\" x=\"182.671494\" xlink:href=\"#m04cbf88dd3\" y=\"40.749703\"/>\n     <use style=\"fill:#ff7f0e;stroke:#ff7f0e;\" x=\"182.671496\" xlink:href=\"#m04cbf88dd3\" y=\"40.7497\"/>\n     <use style=\"fill:#ff7f0e;stroke:#ff7f0e;\" x=\"182.671498\" xlink:href=\"#m04cbf88dd3\" y=\"40.749704\"/>\n     <use style=\"fill:#ff7f0e;stroke:#ff7f0e;\" x=\"182.671502\" xlink:href=\"#m04cbf88dd3\" y=\"40.749706\"/>\n     <use style=\"fill:#ff7f0e;stroke:#ff7f0e;\" x=\"182.671505\" xlink:href=\"#m04cbf88dd3\" y=\"40.749704\"/>\n     <use style=\"fill:#ff7f0e;stroke:#ff7f0e;\" x=\"182.671507\" xlink:href=\"#m04cbf88dd3\" y=\"40.749702\"/>\n     <use style=\"fill:#ff7f0e;stroke:#ff7f0e;\" x=\"182.671507\" xlink:href=\"#m04cbf88dd3\" y=\"40.749699\"/>\n     <use style=\"fill:#ff7f0e;stroke:#ff7f0e;\" x=\"182.671509\" xlink:href=\"#m04cbf88dd3\" y=\"40.749699\"/>\n     <use style=\"fill:#ff7f0e;stroke:#ff7f0e;\" x=\"182.671513\" xlink:href=\"#m04cbf88dd3\" y=\"40.749698\"/>\n     <use style=\"fill:#ff7f0e;stroke:#ff7f0e;\" x=\"182.671514\" xlink:href=\"#m04cbf88dd3\" y=\"40.749697\"/>\n     <use style=\"fill:#ff7f0e;stroke:#ff7f0e;\" x=\"182.671518\" xlink:href=\"#m04cbf88dd3\" y=\"40.749696\"/>\n     <use style=\"fill:#ff7f0e;stroke:#ff7f0e;\" x=\"182.671522\" xlink:href=\"#m04cbf88dd3\" y=\"40.749695\"/>\n     <use style=\"fill:#ff7f0e;stroke:#ff7f0e;\" x=\"182.671524\" xlink:href=\"#m04cbf88dd3\" y=\"40.749694\"/>\n     <use style=\"fill:#ff7f0e;stroke:#ff7f0e;\" x=\"182.671525\" xlink:href=\"#m04cbf88dd3\" y=\"40.749695\"/>\n     <use style=\"fill:#ff7f0e;stroke:#ff7f0e;\" x=\"182.671525\" xlink:href=\"#m04cbf88dd3\" y=\"40.749695\"/>\n     <use style=\"fill:#ff7f0e;stroke:#ff7f0e;\" x=\"182.671527\" xlink:href=\"#m04cbf88dd3\" y=\"40.749695\"/>\n     <use style=\"fill:#ff7f0e;stroke:#ff7f0e;\" x=\"182.671527\" xlink:href=\"#m04cbf88dd3\" y=\"40.749696\"/>\n     <use style=\"fill:#ff7f0e;stroke:#ff7f0e;\" x=\"182.671529\" xlink:href=\"#m04cbf88dd3\" y=\"40.749696\"/>\n     <use style=\"fill:#ff7f0e;stroke:#ff7f0e;\" x=\"182.671529\" xlink:href=\"#m04cbf88dd3\" y=\"40.749696\"/>\n     <use style=\"fill:#ff7f0e;stroke:#ff7f0e;\" x=\"182.671529\" xlink:href=\"#m04cbf88dd3\" y=\"40.749696\"/>\n     <use style=\"fill:#ff7f0e;stroke:#ff7f0e;\" x=\"182.671529\" xlink:href=\"#m04cbf88dd3\" y=\"40.749696\"/>\n     <use style=\"fill:#ff7f0e;stroke:#ff7f0e;\" x=\"182.671529\" xlink:href=\"#m04cbf88dd3\" y=\"40.749695\"/>\n     <use style=\"fill:#ff7f0e;stroke:#ff7f0e;\" x=\"182.671531\" xlink:href=\"#m04cbf88dd3\" y=\"40.749695\"/>\n     <use style=\"fill:#ff7f0e;stroke:#ff7f0e;\" x=\"182.671531\" xlink:href=\"#m04cbf88dd3\" y=\"40.749695\"/>\n     <use style=\"fill:#ff7f0e;stroke:#ff7f0e;\" x=\"182.671531\" xlink:href=\"#m04cbf88dd3\" y=\"40.749695\"/>\n     <use style=\"fill:#ff7f0e;stroke:#ff7f0e;\" x=\"182.671531\" xlink:href=\"#m04cbf88dd3\" y=\"40.749695\"/>\n     <use style=\"fill:#ff7f0e;stroke:#ff7f0e;\" x=\"182.671531\" xlink:href=\"#m04cbf88dd3\" y=\"40.749694\"/>\n     <use style=\"fill:#ff7f0e;stroke:#ff7f0e;\" x=\"182.671531\" xlink:href=\"#m04cbf88dd3\" y=\"40.749694\"/>\n     <use style=\"fill:#ff7f0e;stroke:#ff7f0e;\" x=\"182.671531\" xlink:href=\"#m04cbf88dd3\" y=\"40.749694\"/>\n     <use style=\"fill:#ff7f0e;stroke:#ff7f0e;\" x=\"182.671531\" xlink:href=\"#m04cbf88dd3\" y=\"40.749694\"/>\n     <use style=\"fill:#ff7f0e;stroke:#ff7f0e;\" x=\"182.671531\" xlink:href=\"#m04cbf88dd3\" y=\"40.749694\"/>\n     <use style=\"fill:#ff7f0e;stroke:#ff7f0e;\" x=\"182.671531\" xlink:href=\"#m04cbf88dd3\" y=\"40.749694\"/>\n     <use style=\"fill:#ff7f0e;stroke:#ff7f0e;\" x=\"182.671531\" xlink:href=\"#m04cbf88dd3\" y=\"40.749694\"/>\n     <use style=\"fill:#ff7f0e;stroke:#ff7f0e;\" x=\"182.671531\" xlink:href=\"#m04cbf88dd3\" y=\"40.749694\"/>\n     <use style=\"fill:#ff7f0e;stroke:#ff7f0e;\" x=\"182.671531\" xlink:href=\"#m04cbf88dd3\" y=\"40.749694\"/>\n     <use style=\"fill:#ff7f0e;stroke:#ff7f0e;\" x=\"182.671531\" xlink:href=\"#m04cbf88dd3\" y=\"40.749694\"/>\n     <use style=\"fill:#ff7f0e;stroke:#ff7f0e;\" x=\"182.671531\" xlink:href=\"#m04cbf88dd3\" y=\"40.749694\"/>\n     <use style=\"fill:#ff7f0e;stroke:#ff7f0e;\" x=\"182.671531\" xlink:href=\"#m04cbf88dd3\" y=\"40.749694\"/>\n     <use style=\"fill:#ff7f0e;stroke:#ff7f0e;\" x=\"182.671531\" xlink:href=\"#m04cbf88dd3\" y=\"40.749694\"/>\n     <use style=\"fill:#ff7f0e;stroke:#ff7f0e;\" x=\"182.671531\" xlink:href=\"#m04cbf88dd3\" y=\"40.749694\"/>\n     <use style=\"fill:#ff7f0e;stroke:#ff7f0e;\" x=\"182.671531\" xlink:href=\"#m04cbf88dd3\" y=\"40.749694\"/>\n     <use style=\"fill:#ff7f0e;stroke:#ff7f0e;\" x=\"182.671531\" xlink:href=\"#m04cbf88dd3\" y=\"40.749694\"/>\n     <use style=\"fill:#ff7f0e;stroke:#ff7f0e;\" x=\"182.671531\" xlink:href=\"#m04cbf88dd3\" y=\"40.749694\"/>\n     <use style=\"fill:#ff7f0e;stroke:#ff7f0e;\" x=\"182.671531\" xlink:href=\"#m04cbf88dd3\" y=\"40.749694\"/>\n     <use style=\"fill:#ff7f0e;stroke:#ff7f0e;\" x=\"182.671531\" xlink:href=\"#m04cbf88dd3\" y=\"40.749694\"/>\n     <use style=\"fill:#ff7f0e;stroke:#ff7f0e;\" x=\"182.671531\" xlink:href=\"#m04cbf88dd3\" y=\"40.749694\"/>\n     <use style=\"fill:#ff7f0e;stroke:#ff7f0e;\" x=\"182.671531\" xlink:href=\"#m04cbf88dd3\" y=\"40.749694\"/>\n     <use style=\"fill:#ff7f0e;stroke:#ff7f0e;\" x=\"182.671531\" xlink:href=\"#m04cbf88dd3\" y=\"40.749694\"/>\n     <use style=\"fill:#ff7f0e;stroke:#ff7f0e;\" x=\"182.671531\" xlink:href=\"#m04cbf88dd3\" y=\"40.749694\"/>\n     <use style=\"fill:#ff7f0e;stroke:#ff7f0e;\" x=\"182.671531\" xlink:href=\"#m04cbf88dd3\" y=\"40.749694\"/>\n     <use style=\"fill:#ff7f0e;stroke:#ff7f0e;\" x=\"182.671531\" xlink:href=\"#m04cbf88dd3\" y=\"40.749694\"/>\n     <use style=\"fill:#ff7f0e;stroke:#ff7f0e;\" x=\"182.671531\" xlink:href=\"#m04cbf88dd3\" y=\"40.749694\"/>\n     <use style=\"fill:#ff7f0e;stroke:#ff7f0e;\" x=\"182.671531\" xlink:href=\"#m04cbf88dd3\" y=\"40.749694\"/>\n     <use style=\"fill:#ff7f0e;stroke:#ff7f0e;\" x=\"182.671531\" xlink:href=\"#m04cbf88dd3\" y=\"40.749694\"/>\n     <use style=\"fill:#ff7f0e;stroke:#ff7f0e;\" x=\"182.671531\" xlink:href=\"#m04cbf88dd3\" y=\"40.749694\"/>\n     <use style=\"fill:#ff7f0e;stroke:#ff7f0e;\" x=\"182.671531\" xlink:href=\"#m04cbf88dd3\" y=\"40.749694\"/>\n     <use style=\"fill:#ff7f0e;stroke:#ff7f0e;\" x=\"182.671531\" xlink:href=\"#m04cbf88dd3\" y=\"40.749694\"/>\n     <use style=\"fill:#ff7f0e;stroke:#ff7f0e;\" x=\"182.671531\" xlink:href=\"#m04cbf88dd3\" y=\"40.749694\"/>\n     <use style=\"fill:#ff7f0e;stroke:#ff7f0e;\" x=\"182.671531\" xlink:href=\"#m04cbf88dd3\" y=\"40.749694\"/>\n     <use style=\"fill:#ff7f0e;stroke:#ff7f0e;\" x=\"182.671531\" xlink:href=\"#m04cbf88dd3\" y=\"40.749694\"/>\n     <use style=\"fill:#ff7f0e;stroke:#ff7f0e;\" x=\"182.671531\" xlink:href=\"#m04cbf88dd3\" y=\"40.749694\"/>\n     <use style=\"fill:#ff7f0e;stroke:#ff7f0e;\" x=\"182.671531\" xlink:href=\"#m04cbf88dd3\" y=\"40.749694\"/>\n     <use style=\"fill:#ff7f0e;stroke:#ff7f0e;\" x=\"182.671531\" xlink:href=\"#m04cbf88dd3\" y=\"40.749694\"/>\n     <use style=\"fill:#ff7f0e;stroke:#ff7f0e;\" x=\"182.671531\" xlink:href=\"#m04cbf88dd3\" y=\"40.749694\"/>\n     <use style=\"fill:#ff7f0e;stroke:#ff7f0e;\" x=\"182.671531\" xlink:href=\"#m04cbf88dd3\" y=\"40.749694\"/>\n     <use style=\"fill:#ff7f0e;stroke:#ff7f0e;\" x=\"182.671531\" xlink:href=\"#m04cbf88dd3\" y=\"40.749694\"/>\n     <use style=\"fill:#ff7f0e;stroke:#ff7f0e;\" x=\"182.671531\" xlink:href=\"#m04cbf88dd3\" y=\"40.749694\"/>\n     <use style=\"fill:#ff7f0e;stroke:#ff7f0e;\" x=\"182.671531\" xlink:href=\"#m04cbf88dd3\" y=\"40.749694\"/>\n     <use style=\"fill:#ff7f0e;stroke:#ff7f0e;\" x=\"182.671531\" xlink:href=\"#m04cbf88dd3\" y=\"40.749694\"/>\n     <use style=\"fill:#ff7f0e;stroke:#ff7f0e;\" x=\"182.671531\" xlink:href=\"#m04cbf88dd3\" y=\"40.749694\"/>\n     <use style=\"fill:#ff7f0e;stroke:#ff7f0e;\" x=\"182.671531\" xlink:href=\"#m04cbf88dd3\" y=\"40.749694\"/>\n     <use style=\"fill:#ff7f0e;stroke:#ff7f0e;\" x=\"182.671531\" xlink:href=\"#m04cbf88dd3\" y=\"40.749694\"/>\n     <use style=\"fill:#ff7f0e;stroke:#ff7f0e;\" x=\"182.671531\" xlink:href=\"#m04cbf88dd3\" y=\"40.749694\"/>\n     <use style=\"fill:#ff7f0e;stroke:#ff7f0e;\" x=\"182.671531\" xlink:href=\"#m04cbf88dd3\" y=\"40.749694\"/>\n     <use style=\"fill:#ff7f0e;stroke:#ff7f0e;\" x=\"182.671531\" xlink:href=\"#m04cbf88dd3\" y=\"40.749694\"/>\n     <use style=\"fill:#ff7f0e;stroke:#ff7f0e;\" x=\"182.671531\" xlink:href=\"#m04cbf88dd3\" y=\"40.749694\"/>\n     <use style=\"fill:#ff7f0e;stroke:#ff7f0e;\" x=\"182.671531\" xlink:href=\"#m04cbf88dd3\" y=\"40.749694\"/>\n     <use style=\"fill:#ff7f0e;stroke:#ff7f0e;\" x=\"182.671531\" xlink:href=\"#m04cbf88dd3\" y=\"40.749694\"/>\n     <use style=\"fill:#ff7f0e;stroke:#ff7f0e;\" x=\"182.671531\" xlink:href=\"#m04cbf88dd3\" y=\"40.749694\"/>\n     <use style=\"fill:#ff7f0e;stroke:#ff7f0e;\" x=\"182.671531\" xlink:href=\"#m04cbf88dd3\" y=\"40.749694\"/>\n     <use style=\"fill:#ff7f0e;stroke:#ff7f0e;\" x=\"182.671531\" xlink:href=\"#m04cbf88dd3\" y=\"40.749694\"/>\n     <use style=\"fill:#ff7f0e;stroke:#ff7f0e;\" x=\"182.671531\" xlink:href=\"#m04cbf88dd3\" y=\"40.749694\"/>\n     <use style=\"fill:#ff7f0e;stroke:#ff7f0e;\" x=\"182.671531\" xlink:href=\"#m04cbf88dd3\" y=\"40.749694\"/>\n     <use style=\"fill:#ff7f0e;stroke:#ff7f0e;\" x=\"182.671531\" xlink:href=\"#m04cbf88dd3\" y=\"40.749694\"/>\n     <use style=\"fill:#ff7f0e;stroke:#ff7f0e;\" x=\"182.671531\" xlink:href=\"#m04cbf88dd3\" y=\"40.749694\"/>\n     <use style=\"fill:#ff7f0e;stroke:#ff7f0e;\" x=\"182.671531\" xlink:href=\"#m04cbf88dd3\" y=\"40.749694\"/>\n     <use style=\"fill:#ff7f0e;stroke:#ff7f0e;\" x=\"182.671531\" xlink:href=\"#m04cbf88dd3\" y=\"40.749694\"/>\n     <use style=\"fill:#ff7f0e;stroke:#ff7f0e;\" x=\"182.671531\" xlink:href=\"#m04cbf88dd3\" y=\"40.749694\"/>\n     <use style=\"fill:#ff7f0e;stroke:#ff7f0e;\" x=\"182.671531\" xlink:href=\"#m04cbf88dd3\" y=\"40.749694\"/>\n     <use style=\"fill:#ff7f0e;stroke:#ff7f0e;\" x=\"182.671531\" xlink:href=\"#m04cbf88dd3\" y=\"40.749694\"/>\n     <use style=\"fill:#ff7f0e;stroke:#ff7f0e;\" x=\"182.671531\" xlink:href=\"#m04cbf88dd3\" y=\"40.749694\"/>\n     <use style=\"fill:#ff7f0e;stroke:#ff7f0e;\" x=\"182.671531\" xlink:href=\"#m04cbf88dd3\" y=\"40.749694\"/>\n     <use style=\"fill:#ff7f0e;stroke:#ff7f0e;\" x=\"182.671531\" xlink:href=\"#m04cbf88dd3\" y=\"40.749694\"/>\n     <use style=\"fill:#ff7f0e;stroke:#ff7f0e;\" x=\"182.671531\" xlink:href=\"#m04cbf88dd3\" y=\"40.749694\"/>\n     <use style=\"fill:#ff7f0e;stroke:#ff7f0e;\" x=\"182.671531\" xlink:href=\"#m04cbf88dd3\" y=\"40.749694\"/>\n     <use style=\"fill:#ff7f0e;stroke:#ff7f0e;\" x=\"182.671531\" xlink:href=\"#m04cbf88dd3\" y=\"40.749694\"/>\n     <use style=\"fill:#ff7f0e;stroke:#ff7f0e;\" x=\"182.671531\" xlink:href=\"#m04cbf88dd3\" y=\"40.749694\"/>\n     <use style=\"fill:#ff7f0e;stroke:#ff7f0e;\" x=\"182.671531\" xlink:href=\"#m04cbf88dd3\" y=\"40.749694\"/>\n     <use style=\"fill:#ff7f0e;stroke:#ff7f0e;\" x=\"182.671531\" xlink:href=\"#m04cbf88dd3\" y=\"40.749694\"/>\n     <use style=\"fill:#ff7f0e;stroke:#ff7f0e;\" x=\"182.671531\" xlink:href=\"#m04cbf88dd3\" y=\"40.749694\"/>\n     <use style=\"fill:#ff7f0e;stroke:#ff7f0e;\" x=\"182.671531\" xlink:href=\"#m04cbf88dd3\" y=\"40.749694\"/>\n     <use style=\"fill:#ff7f0e;stroke:#ff7f0e;\" x=\"182.671531\" xlink:href=\"#m04cbf88dd3\" y=\"40.749694\"/>\n     <use style=\"fill:#ff7f0e;stroke:#ff7f0e;\" x=\"182.671531\" xlink:href=\"#m04cbf88dd3\" y=\"40.749694\"/>\n     <use style=\"fill:#ff7f0e;stroke:#ff7f0e;\" x=\"182.671531\" xlink:href=\"#m04cbf88dd3\" y=\"40.749694\"/>\n     <use style=\"fill:#ff7f0e;stroke:#ff7f0e;\" x=\"182.671531\" xlink:href=\"#m04cbf88dd3\" y=\"40.749694\"/>\n     <use style=\"fill:#ff7f0e;stroke:#ff7f0e;\" x=\"182.671531\" xlink:href=\"#m04cbf88dd3\" y=\"40.749694\"/>\n     <use style=\"fill:#ff7f0e;stroke:#ff7f0e;\" x=\"182.671531\" xlink:href=\"#m04cbf88dd3\" y=\"40.749694\"/>\n     <use style=\"fill:#ff7f0e;stroke:#ff7f0e;\" x=\"182.671531\" xlink:href=\"#m04cbf88dd3\" y=\"40.749694\"/>\n     <use style=\"fill:#ff7f0e;stroke:#ff7f0e;\" x=\"182.671531\" xlink:href=\"#m04cbf88dd3\" y=\"40.749694\"/>\n     <use style=\"fill:#ff7f0e;stroke:#ff7f0e;\" x=\"182.671531\" xlink:href=\"#m04cbf88dd3\" y=\"40.749694\"/>\n     <use style=\"fill:#ff7f0e;stroke:#ff7f0e;\" x=\"182.671531\" xlink:href=\"#m04cbf88dd3\" y=\"40.749694\"/>\n     <use style=\"fill:#ff7f0e;stroke:#ff7f0e;\" x=\"182.671531\" xlink:href=\"#m04cbf88dd3\" y=\"40.749694\"/>\n     <use style=\"fill:#ff7f0e;stroke:#ff7f0e;\" x=\"182.671531\" xlink:href=\"#m04cbf88dd3\" y=\"40.749694\"/>\n     <use style=\"fill:#ff7f0e;stroke:#ff7f0e;\" x=\"182.671531\" xlink:href=\"#m04cbf88dd3\" y=\"40.749694\"/>\n     <use style=\"fill:#ff7f0e;stroke:#ff7f0e;\" x=\"182.671531\" xlink:href=\"#m04cbf88dd3\" y=\"40.749694\"/>\n     <use style=\"fill:#ff7f0e;stroke:#ff7f0e;\" x=\"182.671531\" xlink:href=\"#m04cbf88dd3\" y=\"40.749694\"/>\n     <use style=\"fill:#ff7f0e;stroke:#ff7f0e;\" x=\"182.671531\" xlink:href=\"#m04cbf88dd3\" y=\"40.749694\"/>\n     <use style=\"fill:#ff7f0e;stroke:#ff7f0e;\" x=\"182.671531\" xlink:href=\"#m04cbf88dd3\" y=\"40.749694\"/>\n     <use style=\"fill:#ff7f0e;stroke:#ff7f0e;\" x=\"182.671531\" xlink:href=\"#m04cbf88dd3\" y=\"40.749694\"/>\n     <use style=\"fill:#ff7f0e;stroke:#ff7f0e;\" x=\"182.671531\" xlink:href=\"#m04cbf88dd3\" y=\"40.749694\"/>\n     <use style=\"fill:#ff7f0e;stroke:#ff7f0e;\" x=\"182.671531\" xlink:href=\"#m04cbf88dd3\" y=\"40.749694\"/>\n     <use style=\"fill:#ff7f0e;stroke:#ff7f0e;\" x=\"182.671531\" xlink:href=\"#m04cbf88dd3\" y=\"40.749694\"/>\n     <use style=\"fill:#ff7f0e;stroke:#ff7f0e;\" x=\"182.671531\" xlink:href=\"#m04cbf88dd3\" y=\"40.749694\"/>\n     <use style=\"fill:#ff7f0e;stroke:#ff7f0e;\" x=\"182.671531\" xlink:href=\"#m04cbf88dd3\" y=\"40.749694\"/>\n     <use style=\"fill:#ff7f0e;stroke:#ff7f0e;\" x=\"182.671531\" xlink:href=\"#m04cbf88dd3\" y=\"40.749694\"/>\n     <use style=\"fill:#ff7f0e;stroke:#ff7f0e;\" x=\"182.671531\" xlink:href=\"#m04cbf88dd3\" y=\"40.749694\"/>\n     <use style=\"fill:#ff7f0e;stroke:#ff7f0e;\" x=\"182.671531\" xlink:href=\"#m04cbf88dd3\" y=\"40.749694\"/>\n     <use style=\"fill:#ff7f0e;stroke:#ff7f0e;\" x=\"182.671531\" xlink:href=\"#m04cbf88dd3\" y=\"40.749694\"/>\n     <use style=\"fill:#ff7f0e;stroke:#ff7f0e;\" x=\"182.671531\" xlink:href=\"#m04cbf88dd3\" y=\"40.749694\"/>\n     <use style=\"fill:#ff7f0e;stroke:#ff7f0e;\" x=\"182.671531\" xlink:href=\"#m04cbf88dd3\" y=\"40.749694\"/>\n     <use style=\"fill:#ff7f0e;stroke:#ff7f0e;\" x=\"182.671531\" xlink:href=\"#m04cbf88dd3\" y=\"40.749694\"/>\n     <use style=\"fill:#ff7f0e;stroke:#ff7f0e;\" x=\"182.671531\" xlink:href=\"#m04cbf88dd3\" y=\"40.749694\"/>\n     <use style=\"fill:#ff7f0e;stroke:#ff7f0e;\" x=\"182.671531\" xlink:href=\"#m04cbf88dd3\" y=\"40.749694\"/>\n     <use style=\"fill:#ff7f0e;stroke:#ff7f0e;\" x=\"182.671531\" xlink:href=\"#m04cbf88dd3\" y=\"40.749694\"/>\n     <use style=\"fill:#ff7f0e;stroke:#ff7f0e;\" x=\"182.671531\" xlink:href=\"#m04cbf88dd3\" y=\"40.749694\"/>\n     <use style=\"fill:#ff7f0e;stroke:#ff7f0e;\" x=\"182.671531\" xlink:href=\"#m04cbf88dd3\" y=\"40.749694\"/>\n     <use style=\"fill:#ff7f0e;stroke:#ff7f0e;\" x=\"182.671531\" xlink:href=\"#m04cbf88dd3\" y=\"40.749694\"/>\n     <use style=\"fill:#ff7f0e;stroke:#ff7f0e;\" x=\"182.671531\" xlink:href=\"#m04cbf88dd3\" y=\"40.749694\"/>\n     <use style=\"fill:#ff7f0e;stroke:#ff7f0e;\" x=\"182.671531\" xlink:href=\"#m04cbf88dd3\" y=\"40.749694\"/>\n     <use style=\"fill:#ff7f0e;stroke:#ff7f0e;\" x=\"182.671531\" xlink:href=\"#m04cbf88dd3\" y=\"40.749694\"/>\n     <use style=\"fill:#ff7f0e;stroke:#ff7f0e;\" x=\"182.671531\" xlink:href=\"#m04cbf88dd3\" y=\"40.749694\"/>\n     <use style=\"fill:#ff7f0e;stroke:#ff7f0e;\" x=\"182.671531\" xlink:href=\"#m04cbf88dd3\" y=\"40.749694\"/>\n     <use style=\"fill:#ff7f0e;stroke:#ff7f0e;\" x=\"182.671531\" xlink:href=\"#m04cbf88dd3\" y=\"40.749694\"/>\n     <use style=\"fill:#ff7f0e;stroke:#ff7f0e;\" x=\"182.671531\" xlink:href=\"#m04cbf88dd3\" y=\"40.749694\"/>\n     <use style=\"fill:#ff7f0e;stroke:#ff7f0e;\" x=\"182.671531\" xlink:href=\"#m04cbf88dd3\" y=\"40.749694\"/>\n     <use style=\"fill:#ff7f0e;stroke:#ff7f0e;\" x=\"182.671531\" xlink:href=\"#m04cbf88dd3\" y=\"40.749694\"/>\n     <use style=\"fill:#ff7f0e;stroke:#ff7f0e;\" x=\"182.671531\" xlink:href=\"#m04cbf88dd3\" y=\"40.749694\"/>\n     <use style=\"fill:#ff7f0e;stroke:#ff7f0e;\" x=\"182.671531\" xlink:href=\"#m04cbf88dd3\" y=\"40.749694\"/>\n     <use style=\"fill:#ff7f0e;stroke:#ff7f0e;\" x=\"182.671531\" xlink:href=\"#m04cbf88dd3\" y=\"40.749694\"/>\n     <use style=\"fill:#ff7f0e;stroke:#ff7f0e;\" x=\"182.671531\" xlink:href=\"#m04cbf88dd3\" y=\"40.749694\"/>\n     <use style=\"fill:#ff7f0e;stroke:#ff7f0e;\" x=\"182.671531\" xlink:href=\"#m04cbf88dd3\" y=\"40.749694\"/>\n     <use style=\"fill:#ff7f0e;stroke:#ff7f0e;\" x=\"182.671531\" xlink:href=\"#m04cbf88dd3\" y=\"40.749694\"/>\n     <use style=\"fill:#ff7f0e;stroke:#ff7f0e;\" x=\"182.671531\" xlink:href=\"#m04cbf88dd3\" y=\"40.749694\"/>\n     <use style=\"fill:#ff7f0e;stroke:#ff7f0e;\" x=\"182.671531\" xlink:href=\"#m04cbf88dd3\" y=\"40.749694\"/>\n     <use style=\"fill:#ff7f0e;stroke:#ff7f0e;\" x=\"182.671531\" xlink:href=\"#m04cbf88dd3\" y=\"40.749694\"/>\n     <use style=\"fill:#ff7f0e;stroke:#ff7f0e;\" x=\"182.671531\" xlink:href=\"#m04cbf88dd3\" y=\"40.749694\"/>\n     <use style=\"fill:#ff7f0e;stroke:#ff7f0e;\" x=\"182.671531\" xlink:href=\"#m04cbf88dd3\" y=\"40.749694\"/>\n     <use style=\"fill:#ff7f0e;stroke:#ff7f0e;\" x=\"182.671531\" xlink:href=\"#m04cbf88dd3\" y=\"40.749694\"/>\n     <use style=\"fill:#ff7f0e;stroke:#ff7f0e;\" x=\"182.671531\" xlink:href=\"#m04cbf88dd3\" y=\"40.749694\"/>\n     <use style=\"fill:#ff7f0e;stroke:#ff7f0e;\" x=\"182.671531\" xlink:href=\"#m04cbf88dd3\" y=\"40.749694\"/>\n     <use style=\"fill:#ff7f0e;stroke:#ff7f0e;\" x=\"182.671531\" xlink:href=\"#m04cbf88dd3\" y=\"40.749694\"/>\n     <use style=\"fill:#ff7f0e;stroke:#ff7f0e;\" x=\"182.671531\" xlink:href=\"#m04cbf88dd3\" y=\"40.749694\"/>\n     <use style=\"fill:#ff7f0e;stroke:#ff7f0e;\" x=\"182.671531\" xlink:href=\"#m04cbf88dd3\" y=\"40.749694\"/>\n     <use style=\"fill:#ff7f0e;stroke:#ff7f0e;\" x=\"182.671531\" xlink:href=\"#m04cbf88dd3\" y=\"40.749694\"/>\n     <use style=\"fill:#ff7f0e;stroke:#ff7f0e;\" x=\"182.671531\" xlink:href=\"#m04cbf88dd3\" y=\"40.749694\"/>\n     <use style=\"fill:#ff7f0e;stroke:#ff7f0e;\" x=\"182.671531\" xlink:href=\"#m04cbf88dd3\" y=\"40.749694\"/>\n     <use style=\"fill:#ff7f0e;stroke:#ff7f0e;\" x=\"182.671531\" xlink:href=\"#m04cbf88dd3\" y=\"40.749694\"/>\n     <use style=\"fill:#ff7f0e;stroke:#ff7f0e;\" x=\"182.671531\" xlink:href=\"#m04cbf88dd3\" y=\"40.749694\"/>\n     <use style=\"fill:#ff7f0e;stroke:#ff7f0e;\" x=\"182.671531\" xlink:href=\"#m04cbf88dd3\" y=\"40.749694\"/>\n     <use style=\"fill:#ff7f0e;stroke:#ff7f0e;\" x=\"182.671531\" xlink:href=\"#m04cbf88dd3\" y=\"40.749694\"/>\n     <use style=\"fill:#ff7f0e;stroke:#ff7f0e;\" x=\"182.671531\" xlink:href=\"#m04cbf88dd3\" y=\"40.749694\"/>\n     <use style=\"fill:#ff7f0e;stroke:#ff7f0e;\" x=\"182.671531\" xlink:href=\"#m04cbf88dd3\" y=\"40.749694\"/>\n     <use style=\"fill:#ff7f0e;stroke:#ff7f0e;\" x=\"182.671531\" xlink:href=\"#m04cbf88dd3\" y=\"40.749694\"/>\n     <use style=\"fill:#ff7f0e;stroke:#ff7f0e;\" x=\"182.671531\" xlink:href=\"#m04cbf88dd3\" y=\"40.749694\"/>\n     <use style=\"fill:#ff7f0e;stroke:#ff7f0e;\" x=\"182.671531\" xlink:href=\"#m04cbf88dd3\" y=\"40.749694\"/>\n     <use style=\"fill:#ff7f0e;stroke:#ff7f0e;\" x=\"182.671531\" xlink:href=\"#m04cbf88dd3\" y=\"40.749694\"/>\n     <use style=\"fill:#ff7f0e;stroke:#ff7f0e;\" x=\"182.671531\" xlink:href=\"#m04cbf88dd3\" y=\"40.749694\"/>\n     <use style=\"fill:#ff7f0e;stroke:#ff7f0e;\" x=\"182.671531\" xlink:href=\"#m04cbf88dd3\" y=\"40.749694\"/>\n     <use style=\"fill:#ff7f0e;stroke:#ff7f0e;\" x=\"182.671531\" xlink:href=\"#m04cbf88dd3\" y=\"40.749694\"/>\n     <use style=\"fill:#ff7f0e;stroke:#ff7f0e;\" x=\"182.671531\" xlink:href=\"#m04cbf88dd3\" y=\"40.749694\"/>\n     <use style=\"fill:#ff7f0e;stroke:#ff7f0e;\" x=\"182.671531\" xlink:href=\"#m04cbf88dd3\" y=\"40.749694\"/>\n     <use style=\"fill:#ff7f0e;stroke:#ff7f0e;\" x=\"182.671531\" xlink:href=\"#m04cbf88dd3\" y=\"40.749694\"/>\n     <use style=\"fill:#ff7f0e;stroke:#ff7f0e;\" x=\"182.671531\" xlink:href=\"#m04cbf88dd3\" y=\"40.749694\"/>\n     <use style=\"fill:#ff7f0e;stroke:#ff7f0e;\" x=\"182.671531\" xlink:href=\"#m04cbf88dd3\" y=\"40.749694\"/>\n     <use style=\"fill:#ff7f0e;stroke:#ff7f0e;\" x=\"182.671531\" xlink:href=\"#m04cbf88dd3\" y=\"40.749694\"/>\n     <use style=\"fill:#ff7f0e;stroke:#ff7f0e;\" x=\"182.671531\" xlink:href=\"#m04cbf88dd3\" y=\"40.749694\"/>\n     <use style=\"fill:#ff7f0e;stroke:#ff7f0e;\" x=\"182.671531\" xlink:href=\"#m04cbf88dd3\" y=\"40.749694\"/>\n     <use style=\"fill:#ff7f0e;stroke:#ff7f0e;\" x=\"182.671531\" xlink:href=\"#m04cbf88dd3\" y=\"40.749694\"/>\n     <use style=\"fill:#ff7f0e;stroke:#ff7f0e;\" x=\"182.671531\" xlink:href=\"#m04cbf88dd3\" y=\"40.749694\"/>\n     <use style=\"fill:#ff7f0e;stroke:#ff7f0e;\" x=\"182.671531\" xlink:href=\"#m04cbf88dd3\" y=\"40.749694\"/>\n     <use style=\"fill:#ff7f0e;stroke:#ff7f0e;\" x=\"182.671531\" xlink:href=\"#m04cbf88dd3\" y=\"40.749694\"/>\n     <use style=\"fill:#ff7f0e;stroke:#ff7f0e;\" x=\"182.671531\" xlink:href=\"#m04cbf88dd3\" y=\"40.749694\"/>\n     <use style=\"fill:#ff7f0e;stroke:#ff7f0e;\" x=\"182.671531\" xlink:href=\"#m04cbf88dd3\" y=\"40.749694\"/>\n     <use style=\"fill:#ff7f0e;stroke:#ff7f0e;\" x=\"182.671531\" xlink:href=\"#m04cbf88dd3\" y=\"40.749694\"/>\n     <use style=\"fill:#ff7f0e;stroke:#ff7f0e;\" x=\"182.671531\" xlink:href=\"#m04cbf88dd3\" y=\"40.749694\"/>\n     <use style=\"fill:#ff7f0e;stroke:#ff7f0e;\" x=\"182.671531\" xlink:href=\"#m04cbf88dd3\" y=\"40.749694\"/>\n     <use style=\"fill:#ff7f0e;stroke:#ff7f0e;\" x=\"182.671531\" xlink:href=\"#m04cbf88dd3\" y=\"40.749694\"/>\n     <use style=\"fill:#ff7f0e;stroke:#ff7f0e;\" x=\"182.671531\" xlink:href=\"#m04cbf88dd3\" y=\"40.749694\"/>\n     <use style=\"fill:#ff7f0e;stroke:#ff7f0e;\" x=\"182.671531\" xlink:href=\"#m04cbf88dd3\" y=\"40.749694\"/>\n     <use style=\"fill:#ff7f0e;stroke:#ff7f0e;\" x=\"182.671531\" xlink:href=\"#m04cbf88dd3\" y=\"40.749694\"/>\n     <use style=\"fill:#ff7f0e;stroke:#ff7f0e;\" x=\"182.671531\" xlink:href=\"#m04cbf88dd3\" y=\"40.749694\"/>\n     <use style=\"fill:#ff7f0e;stroke:#ff7f0e;\" x=\"182.671531\" xlink:href=\"#m04cbf88dd3\" y=\"40.749694\"/>\n     <use style=\"fill:#ff7f0e;stroke:#ff7f0e;\" x=\"182.671531\" xlink:href=\"#m04cbf88dd3\" y=\"40.749694\"/>\n     <use style=\"fill:#ff7f0e;stroke:#ff7f0e;\" x=\"182.671531\" xlink:href=\"#m04cbf88dd3\" y=\"40.749694\"/>\n     <use style=\"fill:#ff7f0e;stroke:#ff7f0e;\" x=\"182.671531\" xlink:href=\"#m04cbf88dd3\" y=\"40.749694\"/>\n     <use style=\"fill:#ff7f0e;stroke:#ff7f0e;\" x=\"182.671531\" xlink:href=\"#m04cbf88dd3\" y=\"40.749694\"/>\n     <use style=\"fill:#ff7f0e;stroke:#ff7f0e;\" x=\"182.671531\" xlink:href=\"#m04cbf88dd3\" y=\"40.749694\"/>\n     <use style=\"fill:#ff7f0e;stroke:#ff7f0e;\" x=\"182.671531\" xlink:href=\"#m04cbf88dd3\" y=\"40.749694\"/>\n     <use style=\"fill:#ff7f0e;stroke:#ff7f0e;\" x=\"182.671531\" xlink:href=\"#m04cbf88dd3\" y=\"40.749694\"/>\n     <use style=\"fill:#ff7f0e;stroke:#ff7f0e;\" x=\"182.671531\" xlink:href=\"#m04cbf88dd3\" y=\"40.749694\"/>\n     <use style=\"fill:#ff7f0e;stroke:#ff7f0e;\" x=\"182.671531\" xlink:href=\"#m04cbf88dd3\" y=\"40.749694\"/>\n     <use style=\"fill:#ff7f0e;stroke:#ff7f0e;\" x=\"182.671531\" xlink:href=\"#m04cbf88dd3\" y=\"40.749694\"/>\n     <use style=\"fill:#ff7f0e;stroke:#ff7f0e;\" x=\"182.671531\" xlink:href=\"#m04cbf88dd3\" y=\"40.749694\"/>\n     <use style=\"fill:#ff7f0e;stroke:#ff7f0e;\" x=\"182.671531\" xlink:href=\"#m04cbf88dd3\" y=\"40.749694\"/>\n     <use style=\"fill:#ff7f0e;stroke:#ff7f0e;\" x=\"182.671531\" xlink:href=\"#m04cbf88dd3\" y=\"40.749694\"/>\n     <use style=\"fill:#ff7f0e;stroke:#ff7f0e;\" x=\"182.671531\" xlink:href=\"#m04cbf88dd3\" y=\"40.749694\"/>\n     <use style=\"fill:#ff7f0e;stroke:#ff7f0e;\" x=\"182.671531\" xlink:href=\"#m04cbf88dd3\" y=\"40.749694\"/>\n     <use style=\"fill:#ff7f0e;stroke:#ff7f0e;\" x=\"182.671531\" xlink:href=\"#m04cbf88dd3\" y=\"40.749694\"/>\n     <use style=\"fill:#ff7f0e;stroke:#ff7f0e;\" x=\"182.671531\" xlink:href=\"#m04cbf88dd3\" y=\"40.749694\"/>\n     <use style=\"fill:#ff7f0e;stroke:#ff7f0e;\" x=\"182.671531\" xlink:href=\"#m04cbf88dd3\" y=\"40.749694\"/>\n     <use style=\"fill:#ff7f0e;stroke:#ff7f0e;\" x=\"182.671531\" xlink:href=\"#m04cbf88dd3\" y=\"40.749694\"/>\n     <use style=\"fill:#ff7f0e;stroke:#ff7f0e;\" x=\"182.671531\" xlink:href=\"#m04cbf88dd3\" y=\"40.749694\"/>\n     <use style=\"fill:#ff7f0e;stroke:#ff7f0e;\" x=\"182.671531\" xlink:href=\"#m04cbf88dd3\" y=\"40.749694\"/>\n     <use style=\"fill:#ff7f0e;stroke:#ff7f0e;\" x=\"182.671531\" xlink:href=\"#m04cbf88dd3\" y=\"40.749694\"/>\n     <use style=\"fill:#ff7f0e;stroke:#ff7f0e;\" x=\"182.671531\" xlink:href=\"#m04cbf88dd3\" y=\"40.749694\"/>\n     <use style=\"fill:#ff7f0e;stroke:#ff7f0e;\" x=\"182.671531\" xlink:href=\"#m04cbf88dd3\" y=\"40.749694\"/>\n     <use style=\"fill:#ff7f0e;stroke:#ff7f0e;\" x=\"182.671531\" xlink:href=\"#m04cbf88dd3\" y=\"40.749694\"/>\n     <use style=\"fill:#ff7f0e;stroke:#ff7f0e;\" x=\"182.671531\" xlink:href=\"#m04cbf88dd3\" y=\"40.749694\"/>\n     <use style=\"fill:#ff7f0e;stroke:#ff7f0e;\" x=\"182.671531\" xlink:href=\"#m04cbf88dd3\" y=\"40.749694\"/>\n     <use style=\"fill:#ff7f0e;stroke:#ff7f0e;\" x=\"182.671531\" xlink:href=\"#m04cbf88dd3\" y=\"40.749694\"/>\n     <use style=\"fill:#ff7f0e;stroke:#ff7f0e;\" x=\"182.671531\" xlink:href=\"#m04cbf88dd3\" y=\"40.749694\"/>\n     <use style=\"fill:#ff7f0e;stroke:#ff7f0e;\" x=\"182.671531\" xlink:href=\"#m04cbf88dd3\" y=\"40.749694\"/>\n     <use style=\"fill:#ff7f0e;stroke:#ff7f0e;\" x=\"182.671531\" xlink:href=\"#m04cbf88dd3\" y=\"40.749694\"/>\n     <use style=\"fill:#ff7f0e;stroke:#ff7f0e;\" x=\"182.671531\" xlink:href=\"#m04cbf88dd3\" y=\"40.749694\"/>\n     <use style=\"fill:#ff7f0e;stroke:#ff7f0e;\" x=\"182.671531\" xlink:href=\"#m04cbf88dd3\" y=\"40.749694\"/>\n     <use style=\"fill:#ff7f0e;stroke:#ff7f0e;\" x=\"182.671531\" xlink:href=\"#m04cbf88dd3\" y=\"40.749694\"/>\n     <use style=\"fill:#ff7f0e;stroke:#ff7f0e;\" x=\"182.671531\" xlink:href=\"#m04cbf88dd3\" y=\"40.749694\"/>\n     <use style=\"fill:#ff7f0e;stroke:#ff7f0e;\" x=\"182.671531\" xlink:href=\"#m04cbf88dd3\" y=\"40.749694\"/>\n     <use style=\"fill:#ff7f0e;stroke:#ff7f0e;\" x=\"182.671531\" xlink:href=\"#m04cbf88dd3\" y=\"40.749694\"/>\n     <use style=\"fill:#ff7f0e;stroke:#ff7f0e;\" x=\"182.671531\" xlink:href=\"#m04cbf88dd3\" y=\"40.749694\"/>\n     <use style=\"fill:#ff7f0e;stroke:#ff7f0e;\" x=\"182.671531\" xlink:href=\"#m04cbf88dd3\" y=\"40.749694\"/>\n     <use style=\"fill:#ff7f0e;stroke:#ff7f0e;\" x=\"182.671531\" xlink:href=\"#m04cbf88dd3\" y=\"40.749694\"/>\n     <use style=\"fill:#ff7f0e;stroke:#ff7f0e;\" x=\"182.671531\" xlink:href=\"#m04cbf88dd3\" y=\"40.749694\"/>\n     <use style=\"fill:#ff7f0e;stroke:#ff7f0e;\" x=\"182.671531\" xlink:href=\"#m04cbf88dd3\" y=\"40.749694\"/>\n     <use style=\"fill:#ff7f0e;stroke:#ff7f0e;\" x=\"182.671531\" xlink:href=\"#m04cbf88dd3\" y=\"40.749694\"/>\n     <use style=\"fill:#ff7f0e;stroke:#ff7f0e;\" x=\"182.671531\" xlink:href=\"#m04cbf88dd3\" y=\"40.749694\"/>\n     <use style=\"fill:#ff7f0e;stroke:#ff7f0e;\" x=\"182.671531\" xlink:href=\"#m04cbf88dd3\" y=\"40.749694\"/>\n     <use style=\"fill:#ff7f0e;stroke:#ff7f0e;\" x=\"182.671531\" xlink:href=\"#m04cbf88dd3\" y=\"40.749694\"/>\n     <use style=\"fill:#ff7f0e;stroke:#ff7f0e;\" x=\"182.671531\" xlink:href=\"#m04cbf88dd3\" y=\"40.749694\"/>\n     <use style=\"fill:#ff7f0e;stroke:#ff7f0e;\" x=\"182.671531\" xlink:href=\"#m04cbf88dd3\" y=\"40.749694\"/>\n     <use style=\"fill:#ff7f0e;stroke:#ff7f0e;\" x=\"182.671531\" xlink:href=\"#m04cbf88dd3\" y=\"40.749694\"/>\n     <use style=\"fill:#ff7f0e;stroke:#ff7f0e;\" x=\"182.671531\" xlink:href=\"#m04cbf88dd3\" y=\"40.749694\"/>\n     <use style=\"fill:#ff7f0e;stroke:#ff7f0e;\" x=\"182.671531\" xlink:href=\"#m04cbf88dd3\" y=\"40.749694\"/>\n     <use style=\"fill:#ff7f0e;stroke:#ff7f0e;\" x=\"182.671531\" xlink:href=\"#m04cbf88dd3\" y=\"40.749694\"/>\n     <use style=\"fill:#ff7f0e;stroke:#ff7f0e;\" x=\"182.671531\" xlink:href=\"#m04cbf88dd3\" y=\"40.749694\"/>\n     <use style=\"fill:#ff7f0e;stroke:#ff7f0e;\" x=\"182.671531\" xlink:href=\"#m04cbf88dd3\" y=\"40.749694\"/>\n     <use style=\"fill:#ff7f0e;stroke:#ff7f0e;\" x=\"182.671531\" xlink:href=\"#m04cbf88dd3\" y=\"40.749694\"/>\n     <use style=\"fill:#ff7f0e;stroke:#ff7f0e;\" x=\"182.671531\" xlink:href=\"#m04cbf88dd3\" y=\"40.749694\"/>\n     <use style=\"fill:#ff7f0e;stroke:#ff7f0e;\" x=\"182.671531\" xlink:href=\"#m04cbf88dd3\" y=\"40.749694\"/>\n     <use style=\"fill:#ff7f0e;stroke:#ff7f0e;\" x=\"182.671531\" xlink:href=\"#m04cbf88dd3\" y=\"40.749694\"/>\n     <use style=\"fill:#ff7f0e;stroke:#ff7f0e;\" x=\"182.671531\" xlink:href=\"#m04cbf88dd3\" y=\"40.749694\"/>\n     <use style=\"fill:#ff7f0e;stroke:#ff7f0e;\" x=\"182.671531\" xlink:href=\"#m04cbf88dd3\" y=\"40.749694\"/>\n     <use style=\"fill:#ff7f0e;stroke:#ff7f0e;\" x=\"182.671531\" xlink:href=\"#m04cbf88dd3\" y=\"40.749694\"/>\n     <use style=\"fill:#ff7f0e;stroke:#ff7f0e;\" x=\"182.671531\" xlink:href=\"#m04cbf88dd3\" y=\"40.749694\"/>\n     <use style=\"fill:#ff7f0e;stroke:#ff7f0e;\" x=\"182.671531\" xlink:href=\"#m04cbf88dd3\" y=\"40.749694\"/>\n     <use style=\"fill:#ff7f0e;stroke:#ff7f0e;\" x=\"182.671531\" xlink:href=\"#m04cbf88dd3\" y=\"40.749694\"/>\n     <use style=\"fill:#ff7f0e;stroke:#ff7f0e;\" x=\"182.671531\" xlink:href=\"#m04cbf88dd3\" y=\"40.749694\"/>\n     <use style=\"fill:#ff7f0e;stroke:#ff7f0e;\" x=\"182.671531\" xlink:href=\"#m04cbf88dd3\" y=\"40.749694\"/>\n     <use style=\"fill:#ff7f0e;stroke:#ff7f0e;\" x=\"182.671531\" xlink:href=\"#m04cbf88dd3\" y=\"40.749694\"/>\n     <use style=\"fill:#ff7f0e;stroke:#ff7f0e;\" x=\"182.671531\" xlink:href=\"#m04cbf88dd3\" y=\"40.749694\"/>\n     <use style=\"fill:#ff7f0e;stroke:#ff7f0e;\" x=\"182.671531\" xlink:href=\"#m04cbf88dd3\" y=\"40.749694\"/>\n     <use style=\"fill:#ff7f0e;stroke:#ff7f0e;\" x=\"182.671531\" xlink:href=\"#m04cbf88dd3\" y=\"40.749694\"/>\n     <use style=\"fill:#ff7f0e;stroke:#ff7f0e;\" x=\"182.671531\" xlink:href=\"#m04cbf88dd3\" y=\"40.749694\"/>\n     <use style=\"fill:#ff7f0e;stroke:#ff7f0e;\" x=\"182.671531\" xlink:href=\"#m04cbf88dd3\" y=\"40.749694\"/>\n     <use style=\"fill:#ff7f0e;stroke:#ff7f0e;\" x=\"182.671531\" xlink:href=\"#m04cbf88dd3\" y=\"40.749694\"/>\n     <use style=\"fill:#ff7f0e;stroke:#ff7f0e;\" x=\"182.671531\" xlink:href=\"#m04cbf88dd3\" y=\"40.749694\"/>\n     <use style=\"fill:#ff7f0e;stroke:#ff7f0e;\" x=\"182.671531\" xlink:href=\"#m04cbf88dd3\" y=\"40.749694\"/>\n     <use style=\"fill:#ff7f0e;stroke:#ff7f0e;\" x=\"182.671531\" xlink:href=\"#m04cbf88dd3\" y=\"40.749694\"/>\n     <use style=\"fill:#ff7f0e;stroke:#ff7f0e;\" x=\"182.671531\" xlink:href=\"#m04cbf88dd3\" y=\"40.749694\"/>\n     <use style=\"fill:#ff7f0e;stroke:#ff7f0e;\" x=\"182.671531\" xlink:href=\"#m04cbf88dd3\" y=\"40.749694\"/>\n     <use style=\"fill:#ff7f0e;stroke:#ff7f0e;\" x=\"182.671531\" xlink:href=\"#m04cbf88dd3\" y=\"40.749694\"/>\n     <use style=\"fill:#ff7f0e;stroke:#ff7f0e;\" x=\"182.671531\" xlink:href=\"#m04cbf88dd3\" y=\"40.749694\"/>\n     <use style=\"fill:#ff7f0e;stroke:#ff7f0e;\" x=\"182.671531\" xlink:href=\"#m04cbf88dd3\" y=\"40.749694\"/>\n     <use style=\"fill:#ff7f0e;stroke:#ff7f0e;\" x=\"182.671531\" xlink:href=\"#m04cbf88dd3\" y=\"40.749694\"/>\n     <use style=\"fill:#ff7f0e;stroke:#ff7f0e;\" x=\"182.671531\" xlink:href=\"#m04cbf88dd3\" y=\"40.749694\"/>\n     <use style=\"fill:#ff7f0e;stroke:#ff7f0e;\" x=\"182.671531\" xlink:href=\"#m04cbf88dd3\" y=\"40.749694\"/>\n     <use style=\"fill:#ff7f0e;stroke:#ff7f0e;\" x=\"182.671531\" xlink:href=\"#m04cbf88dd3\" y=\"40.749694\"/>\n     <use style=\"fill:#ff7f0e;stroke:#ff7f0e;\" x=\"182.671531\" xlink:href=\"#m04cbf88dd3\" y=\"40.749694\"/>\n     <use style=\"fill:#ff7f0e;stroke:#ff7f0e;\" x=\"182.671531\" xlink:href=\"#m04cbf88dd3\" y=\"40.749694\"/>\n     <use style=\"fill:#ff7f0e;stroke:#ff7f0e;\" x=\"182.671531\" xlink:href=\"#m04cbf88dd3\" y=\"40.749694\"/>\n     <use style=\"fill:#ff7f0e;stroke:#ff7f0e;\" x=\"182.671531\" xlink:href=\"#m04cbf88dd3\" y=\"40.749694\"/>\n     <use style=\"fill:#ff7f0e;stroke:#ff7f0e;\" x=\"182.671531\" xlink:href=\"#m04cbf88dd3\" y=\"40.749694\"/>\n     <use style=\"fill:#ff7f0e;stroke:#ff7f0e;\" x=\"182.671531\" xlink:href=\"#m04cbf88dd3\" y=\"40.749694\"/>\n     <use style=\"fill:#ff7f0e;stroke:#ff7f0e;\" x=\"182.671531\" xlink:href=\"#m04cbf88dd3\" y=\"40.749694\"/>\n     <use style=\"fill:#ff7f0e;stroke:#ff7f0e;\" x=\"182.671531\" xlink:href=\"#m04cbf88dd3\" y=\"40.749694\"/>\n     <use style=\"fill:#ff7f0e;stroke:#ff7f0e;\" x=\"182.671531\" xlink:href=\"#m04cbf88dd3\" y=\"40.749694\"/>\n     <use style=\"fill:#ff7f0e;stroke:#ff7f0e;\" x=\"182.671531\" xlink:href=\"#m04cbf88dd3\" y=\"40.749694\"/>\n     <use style=\"fill:#ff7f0e;stroke:#ff7f0e;\" x=\"182.671531\" xlink:href=\"#m04cbf88dd3\" y=\"40.749694\"/>\n     <use style=\"fill:#ff7f0e;stroke:#ff7f0e;\" x=\"182.671531\" xlink:href=\"#m04cbf88dd3\" y=\"40.749694\"/>\n     <use style=\"fill:#ff7f0e;stroke:#ff7f0e;\" x=\"182.671531\" xlink:href=\"#m04cbf88dd3\" y=\"40.749694\"/>\n     <use style=\"fill:#ff7f0e;stroke:#ff7f0e;\" x=\"182.671531\" xlink:href=\"#m04cbf88dd3\" y=\"40.749694\"/>\n     <use style=\"fill:#ff7f0e;stroke:#ff7f0e;\" x=\"182.671531\" xlink:href=\"#m04cbf88dd3\" y=\"40.749694\"/>\n     <use style=\"fill:#ff7f0e;stroke:#ff7f0e;\" x=\"182.671531\" xlink:href=\"#m04cbf88dd3\" y=\"40.749694\"/>\n     <use style=\"fill:#ff7f0e;stroke:#ff7f0e;\" x=\"182.671531\" xlink:href=\"#m04cbf88dd3\" y=\"40.749694\"/>\n     <use style=\"fill:#ff7f0e;stroke:#ff7f0e;\" x=\"182.671531\" xlink:href=\"#m04cbf88dd3\" y=\"40.749694\"/>\n     <use style=\"fill:#ff7f0e;stroke:#ff7f0e;\" x=\"182.671531\" xlink:href=\"#m04cbf88dd3\" y=\"40.749694\"/>\n     <use style=\"fill:#ff7f0e;stroke:#ff7f0e;\" x=\"182.671531\" xlink:href=\"#m04cbf88dd3\" y=\"40.749694\"/>\n     <use style=\"fill:#ff7f0e;stroke:#ff7f0e;\" x=\"182.671531\" xlink:href=\"#m04cbf88dd3\" y=\"40.749694\"/>\n     <use style=\"fill:#ff7f0e;stroke:#ff7f0e;\" x=\"182.671531\" xlink:href=\"#m04cbf88dd3\" y=\"40.749694\"/>\n     <use style=\"fill:#ff7f0e;stroke:#ff7f0e;\" x=\"182.671531\" xlink:href=\"#m04cbf88dd3\" y=\"40.749694\"/>\n     <use style=\"fill:#ff7f0e;stroke:#ff7f0e;\" x=\"182.671531\" xlink:href=\"#m04cbf88dd3\" y=\"40.749694\"/>\n     <use style=\"fill:#ff7f0e;stroke:#ff7f0e;\" x=\"182.671531\" xlink:href=\"#m04cbf88dd3\" y=\"40.749694\"/>\n     <use style=\"fill:#ff7f0e;stroke:#ff7f0e;\" x=\"182.671531\" xlink:href=\"#m04cbf88dd3\" y=\"40.749694\"/>\n     <use style=\"fill:#ff7f0e;stroke:#ff7f0e;\" x=\"182.671531\" xlink:href=\"#m04cbf88dd3\" y=\"40.749694\"/>\n     <use style=\"fill:#ff7f0e;stroke:#ff7f0e;\" x=\"182.671531\" xlink:href=\"#m04cbf88dd3\" y=\"40.749694\"/>\n     <use style=\"fill:#ff7f0e;stroke:#ff7f0e;\" x=\"182.671531\" xlink:href=\"#m04cbf88dd3\" y=\"40.749694\"/>\n     <use style=\"fill:#ff7f0e;stroke:#ff7f0e;\" x=\"182.671531\" xlink:href=\"#m04cbf88dd3\" y=\"40.749694\"/>\n     <use style=\"fill:#ff7f0e;stroke:#ff7f0e;\" x=\"182.671531\" xlink:href=\"#m04cbf88dd3\" y=\"40.749694\"/>\n     <use style=\"fill:#ff7f0e;stroke:#ff7f0e;\" x=\"182.671531\" xlink:href=\"#m04cbf88dd3\" y=\"40.749694\"/>\n     <use style=\"fill:#ff7f0e;stroke:#ff7f0e;\" x=\"182.671531\" xlink:href=\"#m04cbf88dd3\" y=\"40.749694\"/>\n     <use style=\"fill:#ff7f0e;stroke:#ff7f0e;\" x=\"182.671531\" xlink:href=\"#m04cbf88dd3\" y=\"40.749694\"/>\n     <use style=\"fill:#ff7f0e;stroke:#ff7f0e;\" x=\"182.671531\" xlink:href=\"#m04cbf88dd3\" y=\"40.749694\"/>\n     <use style=\"fill:#ff7f0e;stroke:#ff7f0e;\" x=\"182.671531\" xlink:href=\"#m04cbf88dd3\" y=\"40.749694\"/>\n     <use style=\"fill:#ff7f0e;stroke:#ff7f0e;\" x=\"182.671531\" xlink:href=\"#m04cbf88dd3\" y=\"40.749694\"/>\n     <use style=\"fill:#ff7f0e;stroke:#ff7f0e;\" x=\"182.671531\" xlink:href=\"#m04cbf88dd3\" y=\"40.749694\"/>\n     <use style=\"fill:#ff7f0e;stroke:#ff7f0e;\" x=\"182.671531\" xlink:href=\"#m04cbf88dd3\" y=\"40.749694\"/>\n     <use style=\"fill:#ff7f0e;stroke:#ff7f0e;\" x=\"182.671531\" xlink:href=\"#m04cbf88dd3\" y=\"40.749694\"/>\n     <use style=\"fill:#ff7f0e;stroke:#ff7f0e;\" x=\"182.671531\" xlink:href=\"#m04cbf88dd3\" y=\"40.749694\"/>\n     <use style=\"fill:#ff7f0e;stroke:#ff7f0e;\" x=\"182.671531\" xlink:href=\"#m04cbf88dd3\" y=\"40.749694\"/>\n     <use style=\"fill:#ff7f0e;stroke:#ff7f0e;\" x=\"182.671531\" xlink:href=\"#m04cbf88dd3\" y=\"40.749694\"/>\n     <use style=\"fill:#ff7f0e;stroke:#ff7f0e;\" x=\"182.671531\" xlink:href=\"#m04cbf88dd3\" y=\"40.749694\"/>\n     <use style=\"fill:#ff7f0e;stroke:#ff7f0e;\" x=\"182.671531\" xlink:href=\"#m04cbf88dd3\" y=\"40.749694\"/>\n     <use style=\"fill:#ff7f0e;stroke:#ff7f0e;\" x=\"182.671531\" xlink:href=\"#m04cbf88dd3\" y=\"40.749694\"/>\n     <use style=\"fill:#ff7f0e;stroke:#ff7f0e;\" x=\"182.671531\" xlink:href=\"#m04cbf88dd3\" y=\"40.749694\"/>\n     <use style=\"fill:#ff7f0e;stroke:#ff7f0e;\" x=\"182.671531\" xlink:href=\"#m04cbf88dd3\" y=\"40.749694\"/>\n     <use style=\"fill:#ff7f0e;stroke:#ff7f0e;\" x=\"182.671531\" xlink:href=\"#m04cbf88dd3\" y=\"40.749694\"/>\n     <use style=\"fill:#ff7f0e;stroke:#ff7f0e;\" x=\"182.671531\" xlink:href=\"#m04cbf88dd3\" y=\"40.749694\"/>\n     <use style=\"fill:#ff7f0e;stroke:#ff7f0e;\" x=\"182.671531\" xlink:href=\"#m04cbf88dd3\" y=\"40.749694\"/>\n     <use style=\"fill:#ff7f0e;stroke:#ff7f0e;\" x=\"182.671531\" xlink:href=\"#m04cbf88dd3\" y=\"40.749694\"/>\n     <use style=\"fill:#ff7f0e;stroke:#ff7f0e;\" x=\"182.671531\" xlink:href=\"#m04cbf88dd3\" y=\"40.749694\"/>\n     <use style=\"fill:#ff7f0e;stroke:#ff7f0e;\" x=\"182.671531\" xlink:href=\"#m04cbf88dd3\" y=\"40.749694\"/>\n     <use style=\"fill:#ff7f0e;stroke:#ff7f0e;\" x=\"182.671531\" xlink:href=\"#m04cbf88dd3\" y=\"40.749694\"/>\n     <use style=\"fill:#ff7f0e;stroke:#ff7f0e;\" x=\"182.671531\" xlink:href=\"#m04cbf88dd3\" y=\"40.749694\"/>\n     <use style=\"fill:#ff7f0e;stroke:#ff7f0e;\" x=\"182.671531\" xlink:href=\"#m04cbf88dd3\" y=\"40.749694\"/>\n     <use style=\"fill:#ff7f0e;stroke:#ff7f0e;\" x=\"182.671531\" xlink:href=\"#m04cbf88dd3\" y=\"40.749694\"/>\n     <use style=\"fill:#ff7f0e;stroke:#ff7f0e;\" x=\"182.671531\" xlink:href=\"#m04cbf88dd3\" y=\"40.749694\"/>\n     <use style=\"fill:#ff7f0e;stroke:#ff7f0e;\" x=\"182.671531\" xlink:href=\"#m04cbf88dd3\" y=\"40.749694\"/>\n     <use style=\"fill:#ff7f0e;stroke:#ff7f0e;\" x=\"182.671531\" xlink:href=\"#m04cbf88dd3\" y=\"40.749694\"/>\n     <use style=\"fill:#ff7f0e;stroke:#ff7f0e;\" x=\"182.671531\" xlink:href=\"#m04cbf88dd3\" y=\"40.749694\"/>\n     <use style=\"fill:#ff7f0e;stroke:#ff7f0e;\" x=\"182.671531\" xlink:href=\"#m04cbf88dd3\" y=\"40.749694\"/>\n     <use style=\"fill:#ff7f0e;stroke:#ff7f0e;\" x=\"182.671531\" xlink:href=\"#m04cbf88dd3\" y=\"40.749694\"/>\n     <use style=\"fill:#ff7f0e;stroke:#ff7f0e;\" x=\"182.671531\" xlink:href=\"#m04cbf88dd3\" y=\"40.749694\"/>\n     <use style=\"fill:#ff7f0e;stroke:#ff7f0e;\" x=\"182.671531\" xlink:href=\"#m04cbf88dd3\" y=\"40.749694\"/>\n     <use style=\"fill:#ff7f0e;stroke:#ff7f0e;\" x=\"182.671531\" xlink:href=\"#m04cbf88dd3\" y=\"40.749694\"/>\n     <use style=\"fill:#ff7f0e;stroke:#ff7f0e;\" x=\"182.671531\" xlink:href=\"#m04cbf88dd3\" y=\"40.749694\"/>\n     <use style=\"fill:#ff7f0e;stroke:#ff7f0e;\" x=\"182.671531\" xlink:href=\"#m04cbf88dd3\" y=\"40.749694\"/>\n     <use style=\"fill:#ff7f0e;stroke:#ff7f0e;\" x=\"182.671531\" xlink:href=\"#m04cbf88dd3\" y=\"40.749694\"/>\n     <use style=\"fill:#ff7f0e;stroke:#ff7f0e;\" x=\"182.671531\" xlink:href=\"#m04cbf88dd3\" y=\"40.749694\"/>\n     <use style=\"fill:#ff7f0e;stroke:#ff7f0e;\" x=\"182.671531\" xlink:href=\"#m04cbf88dd3\" y=\"40.749694\"/>\n     <use style=\"fill:#ff7f0e;stroke:#ff7f0e;\" x=\"182.671531\" xlink:href=\"#m04cbf88dd3\" y=\"40.749694\"/>\n     <use style=\"fill:#ff7f0e;stroke:#ff7f0e;\" x=\"182.671531\" xlink:href=\"#m04cbf88dd3\" y=\"40.749694\"/>\n     <use style=\"fill:#ff7f0e;stroke:#ff7f0e;\" x=\"182.671531\" xlink:href=\"#m04cbf88dd3\" y=\"40.749694\"/>\n     <use style=\"fill:#ff7f0e;stroke:#ff7f0e;\" x=\"182.671531\" xlink:href=\"#m04cbf88dd3\" y=\"40.749694\"/>\n     <use style=\"fill:#ff7f0e;stroke:#ff7f0e;\" x=\"182.671531\" xlink:href=\"#m04cbf88dd3\" y=\"40.749694\"/>\n     <use style=\"fill:#ff7f0e;stroke:#ff7f0e;\" x=\"182.671531\" xlink:href=\"#m04cbf88dd3\" y=\"40.749694\"/>\n     <use style=\"fill:#ff7f0e;stroke:#ff7f0e;\" x=\"182.671531\" xlink:href=\"#m04cbf88dd3\" y=\"40.749694\"/>\n     <use style=\"fill:#ff7f0e;stroke:#ff7f0e;\" x=\"182.671531\" xlink:href=\"#m04cbf88dd3\" y=\"40.749694\"/>\n     <use style=\"fill:#ff7f0e;stroke:#ff7f0e;\" x=\"182.671531\" xlink:href=\"#m04cbf88dd3\" y=\"40.749694\"/>\n     <use style=\"fill:#ff7f0e;stroke:#ff7f0e;\" x=\"182.671531\" xlink:href=\"#m04cbf88dd3\" y=\"40.749694\"/>\n     <use style=\"fill:#ff7f0e;stroke:#ff7f0e;\" x=\"182.671531\" xlink:href=\"#m04cbf88dd3\" y=\"40.749694\"/>\n     <use style=\"fill:#ff7f0e;stroke:#ff7f0e;\" x=\"182.671531\" xlink:href=\"#m04cbf88dd3\" y=\"40.749694\"/>\n     <use style=\"fill:#ff7f0e;stroke:#ff7f0e;\" x=\"182.671531\" xlink:href=\"#m04cbf88dd3\" y=\"40.749694\"/>\n     <use style=\"fill:#ff7f0e;stroke:#ff7f0e;\" x=\"182.671531\" xlink:href=\"#m04cbf88dd3\" y=\"40.749694\"/>\n     <use style=\"fill:#ff7f0e;stroke:#ff7f0e;\" x=\"182.671531\" xlink:href=\"#m04cbf88dd3\" y=\"40.749694\"/>\n     <use style=\"fill:#ff7f0e;stroke:#ff7f0e;\" x=\"182.671531\" xlink:href=\"#m04cbf88dd3\" y=\"40.749694\"/>\n     <use style=\"fill:#ff7f0e;stroke:#ff7f0e;\" x=\"182.671531\" xlink:href=\"#m04cbf88dd3\" y=\"40.749694\"/>\n     <use style=\"fill:#ff7f0e;stroke:#ff7f0e;\" x=\"182.671531\" xlink:href=\"#m04cbf88dd3\" y=\"40.749694\"/>\n     <use style=\"fill:#ff7f0e;stroke:#ff7f0e;\" x=\"182.671531\" xlink:href=\"#m04cbf88dd3\" y=\"40.749694\"/>\n     <use style=\"fill:#ff7f0e;stroke:#ff7f0e;\" x=\"182.671531\" xlink:href=\"#m04cbf88dd3\" y=\"40.749694\"/>\n     <use style=\"fill:#ff7f0e;stroke:#ff7f0e;\" x=\"182.671531\" xlink:href=\"#m04cbf88dd3\" y=\"40.749694\"/>\n     <use style=\"fill:#ff7f0e;stroke:#ff7f0e;\" x=\"182.671531\" xlink:href=\"#m04cbf88dd3\" y=\"40.749694\"/>\n     <use style=\"fill:#ff7f0e;stroke:#ff7f0e;\" x=\"182.671531\" xlink:href=\"#m04cbf88dd3\" y=\"40.749694\"/>\n     <use style=\"fill:#ff7f0e;stroke:#ff7f0e;\" x=\"182.671531\" xlink:href=\"#m04cbf88dd3\" y=\"40.749694\"/>\n     <use style=\"fill:#ff7f0e;stroke:#ff7f0e;\" x=\"182.671531\" xlink:href=\"#m04cbf88dd3\" y=\"40.749694\"/>\n     <use style=\"fill:#ff7f0e;stroke:#ff7f0e;\" x=\"182.671531\" xlink:href=\"#m04cbf88dd3\" y=\"40.749694\"/>\n     <use style=\"fill:#ff7f0e;stroke:#ff7f0e;\" x=\"182.671531\" xlink:href=\"#m04cbf88dd3\" y=\"40.749694\"/>\n     <use style=\"fill:#ff7f0e;stroke:#ff7f0e;\" x=\"182.671531\" xlink:href=\"#m04cbf88dd3\" y=\"40.749694\"/>\n     <use style=\"fill:#ff7f0e;stroke:#ff7f0e;\" x=\"182.671531\" xlink:href=\"#m04cbf88dd3\" y=\"40.749694\"/>\n     <use style=\"fill:#ff7f0e;stroke:#ff7f0e;\" x=\"182.671531\" xlink:href=\"#m04cbf88dd3\" y=\"40.749694\"/>\n     <use style=\"fill:#ff7f0e;stroke:#ff7f0e;\" x=\"182.671531\" xlink:href=\"#m04cbf88dd3\" y=\"40.749694\"/>\n     <use style=\"fill:#ff7f0e;stroke:#ff7f0e;\" x=\"182.671531\" xlink:href=\"#m04cbf88dd3\" y=\"40.749694\"/>\n     <use style=\"fill:#ff7f0e;stroke:#ff7f0e;\" x=\"182.671531\" xlink:href=\"#m04cbf88dd3\" y=\"40.749694\"/>\n     <use style=\"fill:#ff7f0e;stroke:#ff7f0e;\" x=\"182.671531\" xlink:href=\"#m04cbf88dd3\" y=\"40.749694\"/>\n     <use style=\"fill:#ff7f0e;stroke:#ff7f0e;\" x=\"182.671531\" xlink:href=\"#m04cbf88dd3\" y=\"40.749694\"/>\n     <use style=\"fill:#ff7f0e;stroke:#ff7f0e;\" x=\"182.671531\" xlink:href=\"#m04cbf88dd3\" y=\"40.749694\"/>\n     <use style=\"fill:#ff7f0e;stroke:#ff7f0e;\" x=\"182.671531\" xlink:href=\"#m04cbf88dd3\" y=\"40.749694\"/>\n     <use style=\"fill:#ff7f0e;stroke:#ff7f0e;\" x=\"182.671531\" xlink:href=\"#m04cbf88dd3\" y=\"40.749694\"/>\n     <use style=\"fill:#ff7f0e;stroke:#ff7f0e;\" x=\"182.671531\" xlink:href=\"#m04cbf88dd3\" y=\"40.749694\"/>\n     <use style=\"fill:#ff7f0e;stroke:#ff7f0e;\" x=\"182.671531\" xlink:href=\"#m04cbf88dd3\" y=\"40.749694\"/>\n     <use style=\"fill:#ff7f0e;stroke:#ff7f0e;\" x=\"182.671531\" xlink:href=\"#m04cbf88dd3\" y=\"40.749694\"/>\n     <use style=\"fill:#ff7f0e;stroke:#ff7f0e;\" x=\"182.671531\" xlink:href=\"#m04cbf88dd3\" y=\"40.749694\"/>\n     <use style=\"fill:#ff7f0e;stroke:#ff7f0e;\" x=\"182.671531\" xlink:href=\"#m04cbf88dd3\" y=\"40.749694\"/>\n     <use style=\"fill:#ff7f0e;stroke:#ff7f0e;\" x=\"182.671531\" xlink:href=\"#m04cbf88dd3\" y=\"40.749694\"/>\n     <use style=\"fill:#ff7f0e;stroke:#ff7f0e;\" x=\"182.671531\" xlink:href=\"#m04cbf88dd3\" y=\"40.749694\"/>\n     <use style=\"fill:#ff7f0e;stroke:#ff7f0e;\" x=\"182.671531\" xlink:href=\"#m04cbf88dd3\" y=\"40.749694\"/>\n     <use style=\"fill:#ff7f0e;stroke:#ff7f0e;\" x=\"182.671531\" xlink:href=\"#m04cbf88dd3\" y=\"40.749694\"/>\n     <use style=\"fill:#ff7f0e;stroke:#ff7f0e;\" x=\"182.671531\" xlink:href=\"#m04cbf88dd3\" y=\"40.749694\"/>\n     <use style=\"fill:#ff7f0e;stroke:#ff7f0e;\" x=\"182.671531\" xlink:href=\"#m04cbf88dd3\" y=\"40.749694\"/>\n     <use style=\"fill:#ff7f0e;stroke:#ff7f0e;\" x=\"182.671531\" xlink:href=\"#m04cbf88dd3\" y=\"40.749694\"/>\n     <use style=\"fill:#ff7f0e;stroke:#ff7f0e;\" x=\"182.671531\" xlink:href=\"#m04cbf88dd3\" y=\"40.749694\"/>\n     <use style=\"fill:#ff7f0e;stroke:#ff7f0e;\" x=\"182.671531\" xlink:href=\"#m04cbf88dd3\" y=\"40.749694\"/>\n     <use style=\"fill:#ff7f0e;stroke:#ff7f0e;\" x=\"182.671531\" xlink:href=\"#m04cbf88dd3\" y=\"40.749694\"/>\n     <use style=\"fill:#ff7f0e;stroke:#ff7f0e;\" x=\"182.671531\" xlink:href=\"#m04cbf88dd3\" y=\"40.749694\"/>\n     <use style=\"fill:#ff7f0e;stroke:#ff7f0e;\" x=\"182.671531\" xlink:href=\"#m04cbf88dd3\" y=\"40.749694\"/>\n     <use style=\"fill:#ff7f0e;stroke:#ff7f0e;\" x=\"182.671531\" xlink:href=\"#m04cbf88dd3\" y=\"40.749694\"/>\n     <use style=\"fill:#ff7f0e;stroke:#ff7f0e;\" x=\"182.671531\" xlink:href=\"#m04cbf88dd3\" y=\"40.749694\"/>\n     <use style=\"fill:#ff7f0e;stroke:#ff7f0e;\" x=\"182.671531\" xlink:href=\"#m04cbf88dd3\" y=\"40.749694\"/>\n     <use style=\"fill:#ff7f0e;stroke:#ff7f0e;\" x=\"182.671531\" xlink:href=\"#m04cbf88dd3\" y=\"40.749694\"/>\n     <use style=\"fill:#ff7f0e;stroke:#ff7f0e;\" x=\"182.671531\" xlink:href=\"#m04cbf88dd3\" y=\"40.749694\"/>\n     <use style=\"fill:#ff7f0e;stroke:#ff7f0e;\" x=\"182.671531\" xlink:href=\"#m04cbf88dd3\" y=\"40.749694\"/>\n     <use style=\"fill:#ff7f0e;stroke:#ff7f0e;\" x=\"182.671531\" xlink:href=\"#m04cbf88dd3\" y=\"40.749694\"/>\n     <use style=\"fill:#ff7f0e;stroke:#ff7f0e;\" x=\"182.671531\" xlink:href=\"#m04cbf88dd3\" y=\"40.749694\"/>\n     <use style=\"fill:#ff7f0e;stroke:#ff7f0e;\" x=\"182.671531\" xlink:href=\"#m04cbf88dd3\" y=\"40.749694\"/>\n     <use style=\"fill:#ff7f0e;stroke:#ff7f0e;\" x=\"182.671531\" xlink:href=\"#m04cbf88dd3\" y=\"40.749694\"/>\n     <use style=\"fill:#ff7f0e;stroke:#ff7f0e;\" x=\"182.671531\" xlink:href=\"#m04cbf88dd3\" y=\"40.749694\"/>\n     <use style=\"fill:#ff7f0e;stroke:#ff7f0e;\" x=\"182.671531\" xlink:href=\"#m04cbf88dd3\" y=\"40.749694\"/>\n     <use style=\"fill:#ff7f0e;stroke:#ff7f0e;\" x=\"182.671531\" xlink:href=\"#m04cbf88dd3\" y=\"40.749694\"/>\n     <use style=\"fill:#ff7f0e;stroke:#ff7f0e;\" x=\"182.671531\" xlink:href=\"#m04cbf88dd3\" y=\"40.749694\"/>\n     <use style=\"fill:#ff7f0e;stroke:#ff7f0e;\" x=\"182.671531\" xlink:href=\"#m04cbf88dd3\" y=\"40.749694\"/>\n     <use style=\"fill:#ff7f0e;stroke:#ff7f0e;\" x=\"182.671531\" xlink:href=\"#m04cbf88dd3\" y=\"40.749694\"/>\n     <use style=\"fill:#ff7f0e;stroke:#ff7f0e;\" x=\"182.671531\" xlink:href=\"#m04cbf88dd3\" y=\"40.749694\"/>\n     <use style=\"fill:#ff7f0e;stroke:#ff7f0e;\" x=\"182.671531\" xlink:href=\"#m04cbf88dd3\" y=\"40.749694\"/>\n     <use style=\"fill:#ff7f0e;stroke:#ff7f0e;\" x=\"182.671531\" xlink:href=\"#m04cbf88dd3\" y=\"40.749694\"/>\n     <use style=\"fill:#ff7f0e;stroke:#ff7f0e;\" x=\"182.671531\" xlink:href=\"#m04cbf88dd3\" y=\"40.749694\"/>\n     <use style=\"fill:#ff7f0e;stroke:#ff7f0e;\" x=\"182.671531\" xlink:href=\"#m04cbf88dd3\" y=\"40.749694\"/>\n     <use style=\"fill:#ff7f0e;stroke:#ff7f0e;\" x=\"182.671531\" xlink:href=\"#m04cbf88dd3\" y=\"40.749694\"/>\n     <use style=\"fill:#ff7f0e;stroke:#ff7f0e;\" x=\"182.671531\" xlink:href=\"#m04cbf88dd3\" y=\"40.749694\"/>\n     <use style=\"fill:#ff7f0e;stroke:#ff7f0e;\" x=\"182.671531\" xlink:href=\"#m04cbf88dd3\" y=\"40.749694\"/>\n     <use style=\"fill:#ff7f0e;stroke:#ff7f0e;\" x=\"182.671531\" xlink:href=\"#m04cbf88dd3\" y=\"40.749694\"/>\n     <use style=\"fill:#ff7f0e;stroke:#ff7f0e;\" x=\"182.671531\" xlink:href=\"#m04cbf88dd3\" y=\"40.749694\"/>\n     <use style=\"fill:#ff7f0e;stroke:#ff7f0e;\" x=\"182.671531\" xlink:href=\"#m04cbf88dd3\" y=\"40.749694\"/>\n     <use style=\"fill:#ff7f0e;stroke:#ff7f0e;\" x=\"182.671531\" xlink:href=\"#m04cbf88dd3\" y=\"40.749694\"/>\n     <use style=\"fill:#ff7f0e;stroke:#ff7f0e;\" x=\"182.671531\" xlink:href=\"#m04cbf88dd3\" y=\"40.749694\"/>\n     <use style=\"fill:#ff7f0e;stroke:#ff7f0e;\" x=\"182.671531\" xlink:href=\"#m04cbf88dd3\" y=\"40.749694\"/>\n     <use style=\"fill:#ff7f0e;stroke:#ff7f0e;\" x=\"182.671531\" xlink:href=\"#m04cbf88dd3\" y=\"40.749694\"/>\n     <use style=\"fill:#ff7f0e;stroke:#ff7f0e;\" x=\"182.671531\" xlink:href=\"#m04cbf88dd3\" y=\"40.749694\"/>\n     <use style=\"fill:#ff7f0e;stroke:#ff7f0e;\" x=\"182.671531\" xlink:href=\"#m04cbf88dd3\" y=\"40.749694\"/>\n     <use style=\"fill:#ff7f0e;stroke:#ff7f0e;\" x=\"182.671531\" xlink:href=\"#m04cbf88dd3\" y=\"40.749694\"/>\n     <use style=\"fill:#ff7f0e;stroke:#ff7f0e;\" x=\"182.671531\" xlink:href=\"#m04cbf88dd3\" y=\"40.749694\"/>\n     <use style=\"fill:#ff7f0e;stroke:#ff7f0e;\" x=\"182.671531\" xlink:href=\"#m04cbf88dd3\" y=\"40.749694\"/>\n     <use style=\"fill:#ff7f0e;stroke:#ff7f0e;\" x=\"182.671531\" xlink:href=\"#m04cbf88dd3\" y=\"40.749694\"/>\n     <use style=\"fill:#ff7f0e;stroke:#ff7f0e;\" x=\"182.671531\" xlink:href=\"#m04cbf88dd3\" y=\"40.749694\"/>\n     <use style=\"fill:#ff7f0e;stroke:#ff7f0e;\" x=\"182.671531\" xlink:href=\"#m04cbf88dd3\" y=\"40.749694\"/>\n     <use style=\"fill:#ff7f0e;stroke:#ff7f0e;\" x=\"182.671531\" xlink:href=\"#m04cbf88dd3\" y=\"40.749694\"/>\n     <use style=\"fill:#ff7f0e;stroke:#ff7f0e;\" x=\"182.671531\" xlink:href=\"#m04cbf88dd3\" y=\"40.749694\"/>\n     <use style=\"fill:#ff7f0e;stroke:#ff7f0e;\" x=\"182.671531\" xlink:href=\"#m04cbf88dd3\" y=\"40.749694\"/>\n     <use style=\"fill:#ff7f0e;stroke:#ff7f0e;\" x=\"182.671531\" xlink:href=\"#m04cbf88dd3\" y=\"40.749694\"/>\n     <use style=\"fill:#ff7f0e;stroke:#ff7f0e;\" x=\"182.671531\" xlink:href=\"#m04cbf88dd3\" y=\"40.749694\"/>\n     <use style=\"fill:#ff7f0e;stroke:#ff7f0e;\" x=\"182.671531\" xlink:href=\"#m04cbf88dd3\" y=\"40.749694\"/>\n     <use style=\"fill:#ff7f0e;stroke:#ff7f0e;\" x=\"182.671531\" xlink:href=\"#m04cbf88dd3\" y=\"40.749694\"/>\n     <use style=\"fill:#ff7f0e;stroke:#ff7f0e;\" x=\"182.671531\" xlink:href=\"#m04cbf88dd3\" y=\"40.749694\"/>\n     <use style=\"fill:#ff7f0e;stroke:#ff7f0e;\" x=\"182.671531\" xlink:href=\"#m04cbf88dd3\" y=\"40.749694\"/>\n     <use style=\"fill:#ff7f0e;stroke:#ff7f0e;\" x=\"182.671531\" xlink:href=\"#m04cbf88dd3\" y=\"40.749694\"/>\n     <use style=\"fill:#ff7f0e;stroke:#ff7f0e;\" x=\"182.671531\" xlink:href=\"#m04cbf88dd3\" y=\"40.749694\"/>\n     <use style=\"fill:#ff7f0e;stroke:#ff7f0e;\" x=\"182.671531\" xlink:href=\"#m04cbf88dd3\" y=\"40.749694\"/>\n     <use style=\"fill:#ff7f0e;stroke:#ff7f0e;\" x=\"182.671531\" xlink:href=\"#m04cbf88dd3\" y=\"40.749694\"/>\n     <use style=\"fill:#ff7f0e;stroke:#ff7f0e;\" x=\"182.671531\" xlink:href=\"#m04cbf88dd3\" y=\"40.749694\"/>\n     <use style=\"fill:#ff7f0e;stroke:#ff7f0e;\" x=\"182.671531\" xlink:href=\"#m04cbf88dd3\" y=\"40.749694\"/>\n     <use style=\"fill:#ff7f0e;stroke:#ff7f0e;\" x=\"182.671531\" xlink:href=\"#m04cbf88dd3\" y=\"40.749694\"/>\n     <use style=\"fill:#ff7f0e;stroke:#ff7f0e;\" x=\"182.671531\" xlink:href=\"#m04cbf88dd3\" y=\"40.749694\"/>\n     <use style=\"fill:#ff7f0e;stroke:#ff7f0e;\" x=\"182.671531\" xlink:href=\"#m04cbf88dd3\" y=\"40.749694\"/>\n     <use style=\"fill:#ff7f0e;stroke:#ff7f0e;\" x=\"182.671531\" xlink:href=\"#m04cbf88dd3\" y=\"40.749694\"/>\n     <use style=\"fill:#ff7f0e;stroke:#ff7f0e;\" x=\"182.671531\" xlink:href=\"#m04cbf88dd3\" y=\"40.749694\"/>\n     <use style=\"fill:#ff7f0e;stroke:#ff7f0e;\" x=\"182.671531\" xlink:href=\"#m04cbf88dd3\" y=\"40.749694\"/>\n     <use style=\"fill:#ff7f0e;stroke:#ff7f0e;\" x=\"182.671531\" xlink:href=\"#m04cbf88dd3\" y=\"40.749694\"/>\n     <use style=\"fill:#ff7f0e;stroke:#ff7f0e;\" x=\"182.671531\" xlink:href=\"#m04cbf88dd3\" y=\"40.749694\"/>\n     <use style=\"fill:#ff7f0e;stroke:#ff7f0e;\" x=\"182.671531\" xlink:href=\"#m04cbf88dd3\" y=\"40.749694\"/>\n     <use style=\"fill:#ff7f0e;stroke:#ff7f0e;\" x=\"182.671531\" xlink:href=\"#m04cbf88dd3\" y=\"40.749694\"/>\n     <use style=\"fill:#ff7f0e;stroke:#ff7f0e;\" x=\"182.671531\" xlink:href=\"#m04cbf88dd3\" y=\"40.749694\"/>\n     <use style=\"fill:#ff7f0e;stroke:#ff7f0e;\" x=\"182.671531\" xlink:href=\"#m04cbf88dd3\" y=\"40.749694\"/>\n     <use style=\"fill:#ff7f0e;stroke:#ff7f0e;\" x=\"182.671531\" xlink:href=\"#m04cbf88dd3\" y=\"40.749694\"/>\n     <use style=\"fill:#ff7f0e;stroke:#ff7f0e;\" x=\"182.671531\" xlink:href=\"#m04cbf88dd3\" y=\"40.749694\"/>\n     <use style=\"fill:#ff7f0e;stroke:#ff7f0e;\" x=\"182.671531\" xlink:href=\"#m04cbf88dd3\" y=\"40.749694\"/>\n     <use style=\"fill:#ff7f0e;stroke:#ff7f0e;\" x=\"182.671531\" xlink:href=\"#m04cbf88dd3\" y=\"40.749694\"/>\n     <use style=\"fill:#ff7f0e;stroke:#ff7f0e;\" x=\"182.671531\" xlink:href=\"#m04cbf88dd3\" y=\"40.749694\"/>\n     <use style=\"fill:#ff7f0e;stroke:#ff7f0e;\" x=\"182.671531\" xlink:href=\"#m04cbf88dd3\" y=\"40.749694\"/>\n     <use style=\"fill:#ff7f0e;stroke:#ff7f0e;\" x=\"182.671531\" xlink:href=\"#m04cbf88dd3\" y=\"40.749694\"/>\n     <use style=\"fill:#ff7f0e;stroke:#ff7f0e;\" x=\"182.671531\" xlink:href=\"#m04cbf88dd3\" y=\"40.749694\"/>\n     <use style=\"fill:#ff7f0e;stroke:#ff7f0e;\" x=\"182.671531\" xlink:href=\"#m04cbf88dd3\" y=\"40.749694\"/>\n     <use style=\"fill:#ff7f0e;stroke:#ff7f0e;\" x=\"182.671531\" xlink:href=\"#m04cbf88dd3\" y=\"40.749694\"/>\n     <use style=\"fill:#ff7f0e;stroke:#ff7f0e;\" x=\"182.671531\" xlink:href=\"#m04cbf88dd3\" y=\"40.749694\"/>\n     <use style=\"fill:#ff7f0e;stroke:#ff7f0e;\" x=\"182.671531\" xlink:href=\"#m04cbf88dd3\" y=\"40.749694\"/>\n     <use style=\"fill:#ff7f0e;stroke:#ff7f0e;\" x=\"182.671531\" xlink:href=\"#m04cbf88dd3\" y=\"40.749694\"/>\n     <use style=\"fill:#ff7f0e;stroke:#ff7f0e;\" x=\"182.671531\" xlink:href=\"#m04cbf88dd3\" y=\"40.749694\"/>\n     <use style=\"fill:#ff7f0e;stroke:#ff7f0e;\" x=\"182.671531\" xlink:href=\"#m04cbf88dd3\" y=\"40.749694\"/>\n     <use style=\"fill:#ff7f0e;stroke:#ff7f0e;\" x=\"182.671531\" xlink:href=\"#m04cbf88dd3\" y=\"40.749694\"/>\n     <use style=\"fill:#ff7f0e;stroke:#ff7f0e;\" x=\"182.671531\" xlink:href=\"#m04cbf88dd3\" y=\"40.749694\"/>\n     <use style=\"fill:#ff7f0e;stroke:#ff7f0e;\" x=\"182.671531\" xlink:href=\"#m04cbf88dd3\" y=\"40.749694\"/>\n     <use style=\"fill:#ff7f0e;stroke:#ff7f0e;\" x=\"182.671531\" xlink:href=\"#m04cbf88dd3\" y=\"40.749694\"/>\n     <use style=\"fill:#ff7f0e;stroke:#ff7f0e;\" x=\"182.671531\" xlink:href=\"#m04cbf88dd3\" y=\"40.749694\"/>\n     <use style=\"fill:#ff7f0e;stroke:#ff7f0e;\" x=\"182.671531\" xlink:href=\"#m04cbf88dd3\" y=\"40.749694\"/>\n     <use style=\"fill:#ff7f0e;stroke:#ff7f0e;\" x=\"182.671531\" xlink:href=\"#m04cbf88dd3\" y=\"40.749694\"/>\n     <use style=\"fill:#ff7f0e;stroke:#ff7f0e;\" x=\"182.671531\" xlink:href=\"#m04cbf88dd3\" y=\"40.749694\"/>\n     <use style=\"fill:#ff7f0e;stroke:#ff7f0e;\" x=\"182.671531\" xlink:href=\"#m04cbf88dd3\" y=\"40.749694\"/>\n     <use style=\"fill:#ff7f0e;stroke:#ff7f0e;\" x=\"182.671531\" xlink:href=\"#m04cbf88dd3\" y=\"40.749694\"/>\n     <use style=\"fill:#ff7f0e;stroke:#ff7f0e;\" x=\"182.671531\" xlink:href=\"#m04cbf88dd3\" y=\"40.749694\"/>\n     <use style=\"fill:#ff7f0e;stroke:#ff7f0e;\" x=\"182.671531\" xlink:href=\"#m04cbf88dd3\" y=\"40.749694\"/>\n     <use style=\"fill:#ff7f0e;stroke:#ff7f0e;\" x=\"182.671531\" xlink:href=\"#m04cbf88dd3\" y=\"40.749694\"/>\n     <use style=\"fill:#ff7f0e;stroke:#ff7f0e;\" x=\"182.671531\" xlink:href=\"#m04cbf88dd3\" y=\"40.749694\"/>\n     <use style=\"fill:#ff7f0e;stroke:#ff7f0e;\" x=\"182.671531\" xlink:href=\"#m04cbf88dd3\" y=\"40.749694\"/>\n     <use style=\"fill:#ff7f0e;stroke:#ff7f0e;\" x=\"182.671531\" xlink:href=\"#m04cbf88dd3\" y=\"40.749694\"/>\n     <use style=\"fill:#ff7f0e;stroke:#ff7f0e;\" x=\"182.671531\" xlink:href=\"#m04cbf88dd3\" y=\"40.749694\"/>\n     <use style=\"fill:#ff7f0e;stroke:#ff7f0e;\" x=\"182.671531\" xlink:href=\"#m04cbf88dd3\" y=\"40.749694\"/>\n     <use style=\"fill:#ff7f0e;stroke:#ff7f0e;\" x=\"182.671531\" xlink:href=\"#m04cbf88dd3\" y=\"40.749694\"/>\n     <use style=\"fill:#ff7f0e;stroke:#ff7f0e;\" x=\"182.671531\" xlink:href=\"#m04cbf88dd3\" y=\"40.749694\"/>\n     <use style=\"fill:#ff7f0e;stroke:#ff7f0e;\" x=\"182.671531\" xlink:href=\"#m04cbf88dd3\" y=\"40.749694\"/>\n     <use style=\"fill:#ff7f0e;stroke:#ff7f0e;\" x=\"182.671531\" xlink:href=\"#m04cbf88dd3\" y=\"40.749694\"/>\n     <use style=\"fill:#ff7f0e;stroke:#ff7f0e;\" x=\"182.671531\" xlink:href=\"#m04cbf88dd3\" y=\"40.749694\"/>\n     <use style=\"fill:#ff7f0e;stroke:#ff7f0e;\" x=\"182.671531\" xlink:href=\"#m04cbf88dd3\" y=\"40.749694\"/>\n     <use style=\"fill:#ff7f0e;stroke:#ff7f0e;\" x=\"182.671531\" xlink:href=\"#m04cbf88dd3\" y=\"40.749694\"/>\n     <use style=\"fill:#ff7f0e;stroke:#ff7f0e;\" x=\"182.671531\" xlink:href=\"#m04cbf88dd3\" y=\"40.749694\"/>\n     <use style=\"fill:#ff7f0e;stroke:#ff7f0e;\" x=\"182.671531\" xlink:href=\"#m04cbf88dd3\" y=\"40.749694\"/>\n     <use style=\"fill:#ff7f0e;stroke:#ff7f0e;\" x=\"182.671531\" xlink:href=\"#m04cbf88dd3\" y=\"40.749694\"/>\n     <use style=\"fill:#ff7f0e;stroke:#ff7f0e;\" x=\"182.671531\" xlink:href=\"#m04cbf88dd3\" y=\"40.749694\"/>\n     <use style=\"fill:#ff7f0e;stroke:#ff7f0e;\" x=\"182.671531\" xlink:href=\"#m04cbf88dd3\" y=\"40.749694\"/>\n     <use style=\"fill:#ff7f0e;stroke:#ff7f0e;\" x=\"182.671531\" xlink:href=\"#m04cbf88dd3\" y=\"40.749694\"/>\n     <use style=\"fill:#ff7f0e;stroke:#ff7f0e;\" x=\"182.671531\" xlink:href=\"#m04cbf88dd3\" y=\"40.749694\"/>\n     <use style=\"fill:#ff7f0e;stroke:#ff7f0e;\" x=\"182.671531\" xlink:href=\"#m04cbf88dd3\" y=\"40.749694\"/>\n     <use style=\"fill:#ff7f0e;stroke:#ff7f0e;\" x=\"182.671531\" xlink:href=\"#m04cbf88dd3\" y=\"40.749694\"/>\n     <use style=\"fill:#ff7f0e;stroke:#ff7f0e;\" x=\"182.671531\" xlink:href=\"#m04cbf88dd3\" y=\"40.749694\"/>\n     <use style=\"fill:#ff7f0e;stroke:#ff7f0e;\" x=\"182.671531\" xlink:href=\"#m04cbf88dd3\" y=\"40.749694\"/>\n     <use style=\"fill:#ff7f0e;stroke:#ff7f0e;\" x=\"182.671531\" xlink:href=\"#m04cbf88dd3\" y=\"40.749694\"/>\n     <use style=\"fill:#ff7f0e;stroke:#ff7f0e;\" x=\"182.671531\" xlink:href=\"#m04cbf88dd3\" y=\"40.749694\"/>\n     <use style=\"fill:#ff7f0e;stroke:#ff7f0e;\" x=\"182.671531\" xlink:href=\"#m04cbf88dd3\" y=\"40.749694\"/>\n     <use style=\"fill:#ff7f0e;stroke:#ff7f0e;\" x=\"182.671531\" xlink:href=\"#m04cbf88dd3\" y=\"40.749694\"/>\n     <use style=\"fill:#ff7f0e;stroke:#ff7f0e;\" x=\"182.671531\" xlink:href=\"#m04cbf88dd3\" y=\"40.749694\"/>\n     <use style=\"fill:#ff7f0e;stroke:#ff7f0e;\" x=\"182.671531\" xlink:href=\"#m04cbf88dd3\" y=\"40.749694\"/>\n     <use style=\"fill:#ff7f0e;stroke:#ff7f0e;\" x=\"182.671531\" xlink:href=\"#m04cbf88dd3\" y=\"40.749694\"/>\n     <use style=\"fill:#ff7f0e;stroke:#ff7f0e;\" x=\"182.671531\" xlink:href=\"#m04cbf88dd3\" y=\"40.749694\"/>\n     <use style=\"fill:#ff7f0e;stroke:#ff7f0e;\" x=\"182.671531\" xlink:href=\"#m04cbf88dd3\" y=\"40.749694\"/>\n     <use style=\"fill:#ff7f0e;stroke:#ff7f0e;\" x=\"182.671531\" xlink:href=\"#m04cbf88dd3\" y=\"40.749694\"/>\n     <use style=\"fill:#ff7f0e;stroke:#ff7f0e;\" x=\"182.671531\" xlink:href=\"#m04cbf88dd3\" y=\"40.749694\"/>\n     <use style=\"fill:#ff7f0e;stroke:#ff7f0e;\" x=\"182.671531\" xlink:href=\"#m04cbf88dd3\" y=\"40.749694\"/>\n     <use style=\"fill:#ff7f0e;stroke:#ff7f0e;\" x=\"182.671531\" xlink:href=\"#m04cbf88dd3\" y=\"40.749694\"/>\n     <use style=\"fill:#ff7f0e;stroke:#ff7f0e;\" x=\"182.671531\" xlink:href=\"#m04cbf88dd3\" y=\"40.749694\"/>\n     <use style=\"fill:#ff7f0e;stroke:#ff7f0e;\" x=\"182.671531\" xlink:href=\"#m04cbf88dd3\" y=\"40.749694\"/>\n     <use style=\"fill:#ff7f0e;stroke:#ff7f0e;\" x=\"182.671531\" xlink:href=\"#m04cbf88dd3\" y=\"40.749694\"/>\n     <use style=\"fill:#ff7f0e;stroke:#ff7f0e;\" x=\"182.671531\" xlink:href=\"#m04cbf88dd3\" y=\"40.749694\"/>\n     <use style=\"fill:#ff7f0e;stroke:#ff7f0e;\" x=\"182.671531\" xlink:href=\"#m04cbf88dd3\" y=\"40.749694\"/>\n     <use style=\"fill:#ff7f0e;stroke:#ff7f0e;\" x=\"182.671531\" xlink:href=\"#m04cbf88dd3\" y=\"40.749694\"/>\n     <use style=\"fill:#ff7f0e;stroke:#ff7f0e;\" x=\"182.671531\" xlink:href=\"#m04cbf88dd3\" y=\"40.749694\"/>\n     <use style=\"fill:#ff7f0e;stroke:#ff7f0e;\" x=\"182.671531\" xlink:href=\"#m04cbf88dd3\" y=\"40.749694\"/>\n     <use style=\"fill:#ff7f0e;stroke:#ff7f0e;\" x=\"182.671531\" xlink:href=\"#m04cbf88dd3\" y=\"40.749694\"/>\n     <use style=\"fill:#ff7f0e;stroke:#ff7f0e;\" x=\"182.671531\" xlink:href=\"#m04cbf88dd3\" y=\"40.749694\"/>\n     <use style=\"fill:#ff7f0e;stroke:#ff7f0e;\" x=\"182.671531\" xlink:href=\"#m04cbf88dd3\" y=\"40.749694\"/>\n     <use style=\"fill:#ff7f0e;stroke:#ff7f0e;\" x=\"182.671531\" xlink:href=\"#m04cbf88dd3\" y=\"40.749694\"/>\n     <use style=\"fill:#ff7f0e;stroke:#ff7f0e;\" x=\"182.671531\" xlink:href=\"#m04cbf88dd3\" y=\"40.749694\"/>\n     <use style=\"fill:#ff7f0e;stroke:#ff7f0e;\" x=\"182.671531\" xlink:href=\"#m04cbf88dd3\" y=\"40.749694\"/>\n     <use style=\"fill:#ff7f0e;stroke:#ff7f0e;\" x=\"182.671531\" xlink:href=\"#m04cbf88dd3\" y=\"40.749694\"/>\n     <use style=\"fill:#ff7f0e;stroke:#ff7f0e;\" x=\"182.671531\" xlink:href=\"#m04cbf88dd3\" y=\"40.749694\"/>\n     <use style=\"fill:#ff7f0e;stroke:#ff7f0e;\" x=\"182.671531\" xlink:href=\"#m04cbf88dd3\" y=\"40.749694\"/>\n     <use style=\"fill:#ff7f0e;stroke:#ff7f0e;\" x=\"182.671531\" xlink:href=\"#m04cbf88dd3\" y=\"40.749694\"/>\n     <use style=\"fill:#ff7f0e;stroke:#ff7f0e;\" x=\"182.671531\" xlink:href=\"#m04cbf88dd3\" y=\"40.749694\"/>\n     <use style=\"fill:#ff7f0e;stroke:#ff7f0e;\" x=\"182.671531\" xlink:href=\"#m04cbf88dd3\" y=\"40.749694\"/>\n     <use style=\"fill:#ff7f0e;stroke:#ff7f0e;\" x=\"182.671531\" xlink:href=\"#m04cbf88dd3\" y=\"40.749694\"/>\n     <use style=\"fill:#ff7f0e;stroke:#ff7f0e;\" x=\"182.671531\" xlink:href=\"#m04cbf88dd3\" y=\"40.749694\"/>\n     <use style=\"fill:#ff7f0e;stroke:#ff7f0e;\" x=\"182.671531\" xlink:href=\"#m04cbf88dd3\" y=\"40.749694\"/>\n     <use style=\"fill:#ff7f0e;stroke:#ff7f0e;\" x=\"182.671531\" xlink:href=\"#m04cbf88dd3\" y=\"40.749694\"/>\n     <use style=\"fill:#ff7f0e;stroke:#ff7f0e;\" x=\"182.671531\" xlink:href=\"#m04cbf88dd3\" y=\"40.749694\"/>\n     <use style=\"fill:#ff7f0e;stroke:#ff7f0e;\" x=\"182.671531\" xlink:href=\"#m04cbf88dd3\" y=\"40.749694\"/>\n     <use style=\"fill:#ff7f0e;stroke:#ff7f0e;\" x=\"182.671531\" xlink:href=\"#m04cbf88dd3\" y=\"40.749694\"/>\n     <use style=\"fill:#ff7f0e;stroke:#ff7f0e;\" x=\"182.671531\" xlink:href=\"#m04cbf88dd3\" y=\"40.749694\"/>\n     <use style=\"fill:#ff7f0e;stroke:#ff7f0e;\" x=\"182.671531\" xlink:href=\"#m04cbf88dd3\" y=\"40.749694\"/>\n     <use style=\"fill:#ff7f0e;stroke:#ff7f0e;\" x=\"182.671531\" xlink:href=\"#m04cbf88dd3\" y=\"40.749694\"/>\n     <use style=\"fill:#ff7f0e;stroke:#ff7f0e;\" x=\"182.671531\" xlink:href=\"#m04cbf88dd3\" y=\"40.749694\"/>\n     <use style=\"fill:#ff7f0e;stroke:#ff7f0e;\" x=\"182.671531\" xlink:href=\"#m04cbf88dd3\" y=\"40.749694\"/>\n     <use style=\"fill:#ff7f0e;stroke:#ff7f0e;\" x=\"182.671531\" xlink:href=\"#m04cbf88dd3\" y=\"40.749694\"/>\n     <use style=\"fill:#ff7f0e;stroke:#ff7f0e;\" x=\"182.671531\" xlink:href=\"#m04cbf88dd3\" y=\"40.749694\"/>\n     <use style=\"fill:#ff7f0e;stroke:#ff7f0e;\" x=\"182.671531\" xlink:href=\"#m04cbf88dd3\" y=\"40.749694\"/>\n     <use style=\"fill:#ff7f0e;stroke:#ff7f0e;\" x=\"182.671531\" xlink:href=\"#m04cbf88dd3\" y=\"40.749694\"/>\n     <use style=\"fill:#ff7f0e;stroke:#ff7f0e;\" x=\"182.671531\" xlink:href=\"#m04cbf88dd3\" y=\"40.749694\"/>\n     <use style=\"fill:#ff7f0e;stroke:#ff7f0e;\" x=\"182.671531\" xlink:href=\"#m04cbf88dd3\" y=\"40.749694\"/>\n     <use style=\"fill:#ff7f0e;stroke:#ff7f0e;\" x=\"182.671531\" xlink:href=\"#m04cbf88dd3\" y=\"40.749694\"/>\n     <use style=\"fill:#ff7f0e;stroke:#ff7f0e;\" x=\"182.671531\" xlink:href=\"#m04cbf88dd3\" y=\"40.749694\"/>\n     <use style=\"fill:#ff7f0e;stroke:#ff7f0e;\" x=\"182.671531\" xlink:href=\"#m04cbf88dd3\" y=\"40.749694\"/>\n     <use style=\"fill:#ff7f0e;stroke:#ff7f0e;\" x=\"182.671531\" xlink:href=\"#m04cbf88dd3\" y=\"40.749694\"/>\n     <use style=\"fill:#ff7f0e;stroke:#ff7f0e;\" x=\"182.671531\" xlink:href=\"#m04cbf88dd3\" y=\"40.749694\"/>\n     <use style=\"fill:#ff7f0e;stroke:#ff7f0e;\" x=\"182.671531\" xlink:href=\"#m04cbf88dd3\" y=\"40.749694\"/>\n     <use style=\"fill:#ff7f0e;stroke:#ff7f0e;\" x=\"182.671531\" xlink:href=\"#m04cbf88dd3\" y=\"40.749694\"/>\n     <use style=\"fill:#ff7f0e;stroke:#ff7f0e;\" x=\"182.671531\" xlink:href=\"#m04cbf88dd3\" y=\"40.749694\"/>\n     <use style=\"fill:#ff7f0e;stroke:#ff7f0e;\" x=\"182.671531\" xlink:href=\"#m04cbf88dd3\" y=\"40.749694\"/>\n     <use style=\"fill:#ff7f0e;stroke:#ff7f0e;\" x=\"182.671531\" xlink:href=\"#m04cbf88dd3\" y=\"40.749694\"/>\n     <use style=\"fill:#ff7f0e;stroke:#ff7f0e;\" x=\"182.671531\" xlink:href=\"#m04cbf88dd3\" y=\"40.749694\"/>\n     <use style=\"fill:#ff7f0e;stroke:#ff7f0e;\" x=\"182.671531\" xlink:href=\"#m04cbf88dd3\" y=\"40.749694\"/>\n     <use style=\"fill:#ff7f0e;stroke:#ff7f0e;\" x=\"182.671531\" xlink:href=\"#m04cbf88dd3\" y=\"40.749694\"/>\n     <use style=\"fill:#ff7f0e;stroke:#ff7f0e;\" x=\"182.671531\" xlink:href=\"#m04cbf88dd3\" y=\"40.749694\"/>\n     <use style=\"fill:#ff7f0e;stroke:#ff7f0e;\" x=\"182.671531\" xlink:href=\"#m04cbf88dd3\" y=\"40.749694\"/>\n     <use style=\"fill:#ff7f0e;stroke:#ff7f0e;\" x=\"182.671531\" xlink:href=\"#m04cbf88dd3\" y=\"40.749694\"/>\n     <use style=\"fill:#ff7f0e;stroke:#ff7f0e;\" x=\"182.671531\" xlink:href=\"#m04cbf88dd3\" y=\"40.749694\"/>\n     <use style=\"fill:#ff7f0e;stroke:#ff7f0e;\" x=\"182.671531\" xlink:href=\"#m04cbf88dd3\" y=\"40.749694\"/>\n     <use style=\"fill:#ff7f0e;stroke:#ff7f0e;\" x=\"182.671531\" xlink:href=\"#m04cbf88dd3\" y=\"40.749694\"/>\n     <use style=\"fill:#ff7f0e;stroke:#ff7f0e;\" x=\"182.671531\" xlink:href=\"#m04cbf88dd3\" y=\"40.749694\"/>\n     <use style=\"fill:#ff7f0e;stroke:#ff7f0e;\" x=\"182.671531\" xlink:href=\"#m04cbf88dd3\" y=\"40.749694\"/>\n     <use style=\"fill:#ff7f0e;stroke:#ff7f0e;\" x=\"182.671531\" xlink:href=\"#m04cbf88dd3\" y=\"40.749694\"/>\n     <use style=\"fill:#ff7f0e;stroke:#ff7f0e;\" x=\"182.671531\" xlink:href=\"#m04cbf88dd3\" y=\"40.749694\"/>\n     <use style=\"fill:#ff7f0e;stroke:#ff7f0e;\" x=\"182.671531\" xlink:href=\"#m04cbf88dd3\" y=\"40.749694\"/>\n     <use style=\"fill:#ff7f0e;stroke:#ff7f0e;\" x=\"182.671531\" xlink:href=\"#m04cbf88dd3\" y=\"40.749694\"/>\n     <use style=\"fill:#ff7f0e;stroke:#ff7f0e;\" x=\"182.671531\" xlink:href=\"#m04cbf88dd3\" y=\"40.749694\"/>\n     <use style=\"fill:#ff7f0e;stroke:#ff7f0e;\" x=\"182.671531\" xlink:href=\"#m04cbf88dd3\" y=\"40.749694\"/>\n     <use style=\"fill:#ff7f0e;stroke:#ff7f0e;\" x=\"182.671531\" xlink:href=\"#m04cbf88dd3\" y=\"40.749694\"/>\n     <use style=\"fill:#ff7f0e;stroke:#ff7f0e;\" x=\"182.671531\" xlink:href=\"#m04cbf88dd3\" y=\"40.749694\"/>\n     <use style=\"fill:#ff7f0e;stroke:#ff7f0e;\" x=\"182.671531\" xlink:href=\"#m04cbf88dd3\" y=\"40.749694\"/>\n     <use style=\"fill:#ff7f0e;stroke:#ff7f0e;\" x=\"182.671531\" xlink:href=\"#m04cbf88dd3\" y=\"40.749694\"/>\n     <use style=\"fill:#ff7f0e;stroke:#ff7f0e;\" x=\"182.671531\" xlink:href=\"#m04cbf88dd3\" y=\"40.749694\"/>\n     <use style=\"fill:#ff7f0e;stroke:#ff7f0e;\" x=\"182.671531\" xlink:href=\"#m04cbf88dd3\" y=\"40.749694\"/>\n     <use style=\"fill:#ff7f0e;stroke:#ff7f0e;\" x=\"182.671531\" xlink:href=\"#m04cbf88dd3\" y=\"40.749694\"/>\n     <use style=\"fill:#ff7f0e;stroke:#ff7f0e;\" x=\"182.671531\" xlink:href=\"#m04cbf88dd3\" y=\"40.749694\"/>\n     <use style=\"fill:#ff7f0e;stroke:#ff7f0e;\" x=\"182.671531\" xlink:href=\"#m04cbf88dd3\" y=\"40.749694\"/>\n     <use style=\"fill:#ff7f0e;stroke:#ff7f0e;\" x=\"182.671531\" xlink:href=\"#m04cbf88dd3\" y=\"40.749694\"/>\n     <use style=\"fill:#ff7f0e;stroke:#ff7f0e;\" x=\"182.671531\" xlink:href=\"#m04cbf88dd3\" y=\"40.749694\"/>\n     <use style=\"fill:#ff7f0e;stroke:#ff7f0e;\" x=\"182.671531\" xlink:href=\"#m04cbf88dd3\" y=\"40.749694\"/>\n     <use style=\"fill:#ff7f0e;stroke:#ff7f0e;\" x=\"182.671531\" xlink:href=\"#m04cbf88dd3\" y=\"40.749694\"/>\n     <use style=\"fill:#ff7f0e;stroke:#ff7f0e;\" x=\"182.671531\" xlink:href=\"#m04cbf88dd3\" y=\"40.749694\"/>\n     <use style=\"fill:#ff7f0e;stroke:#ff7f0e;\" x=\"182.671531\" xlink:href=\"#m04cbf88dd3\" y=\"40.749694\"/>\n     <use style=\"fill:#ff7f0e;stroke:#ff7f0e;\" x=\"182.671531\" xlink:href=\"#m04cbf88dd3\" y=\"40.749694\"/>\n     <use style=\"fill:#ff7f0e;stroke:#ff7f0e;\" x=\"182.671531\" xlink:href=\"#m04cbf88dd3\" y=\"40.749694\"/>\n     <use style=\"fill:#ff7f0e;stroke:#ff7f0e;\" x=\"182.671531\" xlink:href=\"#m04cbf88dd3\" y=\"40.749694\"/>\n     <use style=\"fill:#ff7f0e;stroke:#ff7f0e;\" x=\"182.671531\" xlink:href=\"#m04cbf88dd3\" y=\"40.749694\"/>\n     <use style=\"fill:#ff7f0e;stroke:#ff7f0e;\" x=\"182.671531\" xlink:href=\"#m04cbf88dd3\" y=\"40.749694\"/>\n     <use style=\"fill:#ff7f0e;stroke:#ff7f0e;\" x=\"182.671531\" xlink:href=\"#m04cbf88dd3\" y=\"40.749694\"/>\n     <use style=\"fill:#ff7f0e;stroke:#ff7f0e;\" x=\"182.671531\" xlink:href=\"#m04cbf88dd3\" y=\"40.749694\"/>\n     <use style=\"fill:#ff7f0e;stroke:#ff7f0e;\" x=\"182.671531\" xlink:href=\"#m04cbf88dd3\" y=\"40.749694\"/>\n     <use style=\"fill:#ff7f0e;stroke:#ff7f0e;\" x=\"182.671531\" xlink:href=\"#m04cbf88dd3\" y=\"40.749694\"/>\n     <use style=\"fill:#ff7f0e;stroke:#ff7f0e;\" x=\"182.671531\" xlink:href=\"#m04cbf88dd3\" y=\"40.749694\"/>\n     <use style=\"fill:#ff7f0e;stroke:#ff7f0e;\" x=\"182.671531\" xlink:href=\"#m04cbf88dd3\" y=\"40.749694\"/>\n     <use style=\"fill:#ff7f0e;stroke:#ff7f0e;\" x=\"182.671531\" xlink:href=\"#m04cbf88dd3\" y=\"40.749694\"/>\n     <use style=\"fill:#ff7f0e;stroke:#ff7f0e;\" x=\"182.671531\" xlink:href=\"#m04cbf88dd3\" y=\"40.749694\"/>\n     <use style=\"fill:#ff7f0e;stroke:#ff7f0e;\" x=\"182.671531\" xlink:href=\"#m04cbf88dd3\" y=\"40.749694\"/>\n     <use style=\"fill:#ff7f0e;stroke:#ff7f0e;\" x=\"182.671531\" xlink:href=\"#m04cbf88dd3\" y=\"40.749694\"/>\n     <use style=\"fill:#ff7f0e;stroke:#ff7f0e;\" x=\"182.671531\" xlink:href=\"#m04cbf88dd3\" y=\"40.749694\"/>\n     <use style=\"fill:#ff7f0e;stroke:#ff7f0e;\" x=\"182.671531\" xlink:href=\"#m04cbf88dd3\" y=\"40.749694\"/>\n     <use style=\"fill:#ff7f0e;stroke:#ff7f0e;\" x=\"182.671531\" xlink:href=\"#m04cbf88dd3\" y=\"40.749694\"/>\n     <use style=\"fill:#ff7f0e;stroke:#ff7f0e;\" x=\"182.671531\" xlink:href=\"#m04cbf88dd3\" y=\"40.749694\"/>\n     <use style=\"fill:#ff7f0e;stroke:#ff7f0e;\" x=\"182.671531\" xlink:href=\"#m04cbf88dd3\" y=\"40.749694\"/>\n     <use style=\"fill:#ff7f0e;stroke:#ff7f0e;\" x=\"182.671531\" xlink:href=\"#m04cbf88dd3\" y=\"40.749694\"/>\n     <use style=\"fill:#ff7f0e;stroke:#ff7f0e;\" x=\"182.671531\" xlink:href=\"#m04cbf88dd3\" y=\"40.749694\"/>\n     <use style=\"fill:#ff7f0e;stroke:#ff7f0e;\" x=\"182.671531\" xlink:href=\"#m04cbf88dd3\" y=\"40.749694\"/>\n     <use style=\"fill:#ff7f0e;stroke:#ff7f0e;\" x=\"182.671531\" xlink:href=\"#m04cbf88dd3\" y=\"40.749694\"/>\n     <use style=\"fill:#ff7f0e;stroke:#ff7f0e;\" x=\"182.671531\" xlink:href=\"#m04cbf88dd3\" y=\"40.749694\"/>\n     <use style=\"fill:#ff7f0e;stroke:#ff7f0e;\" x=\"182.671531\" xlink:href=\"#m04cbf88dd3\" y=\"40.749694\"/>\n     <use style=\"fill:#ff7f0e;stroke:#ff7f0e;\" x=\"182.671531\" xlink:href=\"#m04cbf88dd3\" y=\"40.749694\"/>\n     <use style=\"fill:#ff7f0e;stroke:#ff7f0e;\" x=\"182.671531\" xlink:href=\"#m04cbf88dd3\" y=\"40.749694\"/>\n     <use style=\"fill:#ff7f0e;stroke:#ff7f0e;\" x=\"182.671531\" xlink:href=\"#m04cbf88dd3\" y=\"40.749694\"/>\n     <use style=\"fill:#ff7f0e;stroke:#ff7f0e;\" x=\"182.671531\" xlink:href=\"#m04cbf88dd3\" y=\"40.749694\"/>\n     <use style=\"fill:#ff7f0e;stroke:#ff7f0e;\" x=\"182.671531\" xlink:href=\"#m04cbf88dd3\" y=\"40.749694\"/>\n     <use style=\"fill:#ff7f0e;stroke:#ff7f0e;\" x=\"182.671531\" xlink:href=\"#m04cbf88dd3\" y=\"40.749694\"/>\n     <use style=\"fill:#ff7f0e;stroke:#ff7f0e;\" x=\"182.671531\" xlink:href=\"#m04cbf88dd3\" y=\"40.749694\"/>\n     <use style=\"fill:#ff7f0e;stroke:#ff7f0e;\" x=\"182.671531\" xlink:href=\"#m04cbf88dd3\" y=\"40.749694\"/>\n     <use style=\"fill:#ff7f0e;stroke:#ff7f0e;\" x=\"182.671531\" xlink:href=\"#m04cbf88dd3\" y=\"40.749694\"/>\n     <use style=\"fill:#ff7f0e;stroke:#ff7f0e;\" x=\"182.671531\" xlink:href=\"#m04cbf88dd3\" y=\"40.749694\"/>\n     <use style=\"fill:#ff7f0e;stroke:#ff7f0e;\" x=\"182.671531\" xlink:href=\"#m04cbf88dd3\" y=\"40.749694\"/>\n     <use style=\"fill:#ff7f0e;stroke:#ff7f0e;\" x=\"182.671531\" xlink:href=\"#m04cbf88dd3\" y=\"40.749694\"/>\n     <use style=\"fill:#ff7f0e;stroke:#ff7f0e;\" x=\"182.671531\" xlink:href=\"#m04cbf88dd3\" y=\"40.749694\"/>\n     <use style=\"fill:#ff7f0e;stroke:#ff7f0e;\" x=\"182.671531\" xlink:href=\"#m04cbf88dd3\" y=\"40.749694\"/>\n     <use style=\"fill:#ff7f0e;stroke:#ff7f0e;\" x=\"182.671531\" xlink:href=\"#m04cbf88dd3\" y=\"40.749694\"/>\n     <use style=\"fill:#ff7f0e;stroke:#ff7f0e;\" x=\"182.671531\" xlink:href=\"#m04cbf88dd3\" y=\"40.749694\"/>\n     <use style=\"fill:#ff7f0e;stroke:#ff7f0e;\" x=\"182.671531\" xlink:href=\"#m04cbf88dd3\" y=\"40.749694\"/>\n     <use style=\"fill:#ff7f0e;stroke:#ff7f0e;\" x=\"182.671531\" xlink:href=\"#m04cbf88dd3\" y=\"40.749694\"/>\n     <use style=\"fill:#ff7f0e;stroke:#ff7f0e;\" x=\"182.671531\" xlink:href=\"#m04cbf88dd3\" y=\"40.749694\"/>\n     <use style=\"fill:#ff7f0e;stroke:#ff7f0e;\" x=\"182.671531\" xlink:href=\"#m04cbf88dd3\" y=\"40.749694\"/>\n     <use style=\"fill:#ff7f0e;stroke:#ff7f0e;\" x=\"182.671531\" xlink:href=\"#m04cbf88dd3\" y=\"40.749694\"/>\n     <use style=\"fill:#ff7f0e;stroke:#ff7f0e;\" x=\"182.671531\" xlink:href=\"#m04cbf88dd3\" y=\"40.749694\"/>\n     <use style=\"fill:#ff7f0e;stroke:#ff7f0e;\" x=\"182.671531\" xlink:href=\"#m04cbf88dd3\" y=\"40.749694\"/>\n     <use style=\"fill:#ff7f0e;stroke:#ff7f0e;\" x=\"182.671531\" xlink:href=\"#m04cbf88dd3\" y=\"40.749694\"/>\n     <use style=\"fill:#ff7f0e;stroke:#ff7f0e;\" x=\"182.671531\" xlink:href=\"#m04cbf88dd3\" y=\"40.749694\"/>\n     <use style=\"fill:#ff7f0e;stroke:#ff7f0e;\" x=\"182.671531\" xlink:href=\"#m04cbf88dd3\" y=\"40.749694\"/>\n     <use style=\"fill:#ff7f0e;stroke:#ff7f0e;\" x=\"182.671531\" xlink:href=\"#m04cbf88dd3\" y=\"40.749694\"/>\n     <use style=\"fill:#ff7f0e;stroke:#ff7f0e;\" x=\"182.671531\" xlink:href=\"#m04cbf88dd3\" y=\"40.749694\"/>\n     <use style=\"fill:#ff7f0e;stroke:#ff7f0e;\" x=\"182.671531\" xlink:href=\"#m04cbf88dd3\" y=\"40.749694\"/>\n     <use style=\"fill:#ff7f0e;stroke:#ff7f0e;\" x=\"182.671531\" xlink:href=\"#m04cbf88dd3\" y=\"40.749694\"/>\n     <use style=\"fill:#ff7f0e;stroke:#ff7f0e;\" x=\"182.671531\" xlink:href=\"#m04cbf88dd3\" y=\"40.749694\"/>\n     <use style=\"fill:#ff7f0e;stroke:#ff7f0e;\" x=\"182.671531\" xlink:href=\"#m04cbf88dd3\" y=\"40.749694\"/>\n     <use style=\"fill:#ff7f0e;stroke:#ff7f0e;\" x=\"182.671531\" xlink:href=\"#m04cbf88dd3\" y=\"40.749694\"/>\n     <use style=\"fill:#ff7f0e;stroke:#ff7f0e;\" x=\"182.671531\" xlink:href=\"#m04cbf88dd3\" y=\"40.749694\"/>\n     <use style=\"fill:#ff7f0e;stroke:#ff7f0e;\" x=\"182.671531\" xlink:href=\"#m04cbf88dd3\" y=\"40.749694\"/>\n     <use style=\"fill:#ff7f0e;stroke:#ff7f0e;\" x=\"182.671531\" xlink:href=\"#m04cbf88dd3\" y=\"40.749694\"/>\n     <use style=\"fill:#ff7f0e;stroke:#ff7f0e;\" x=\"182.671531\" xlink:href=\"#m04cbf88dd3\" y=\"40.749694\"/>\n     <use style=\"fill:#ff7f0e;stroke:#ff7f0e;\" x=\"182.671531\" xlink:href=\"#m04cbf88dd3\" y=\"40.749694\"/>\n     <use style=\"fill:#ff7f0e;stroke:#ff7f0e;\" x=\"182.671531\" xlink:href=\"#m04cbf88dd3\" y=\"40.749694\"/>\n     <use style=\"fill:#ff7f0e;stroke:#ff7f0e;\" x=\"182.671531\" xlink:href=\"#m04cbf88dd3\" y=\"40.749694\"/>\n     <use style=\"fill:#ff7f0e;stroke:#ff7f0e;\" x=\"182.671531\" xlink:href=\"#m04cbf88dd3\" y=\"40.749694\"/>\n     <use style=\"fill:#ff7f0e;stroke:#ff7f0e;\" x=\"182.671531\" xlink:href=\"#m04cbf88dd3\" y=\"40.749694\"/>\n     <use style=\"fill:#ff7f0e;stroke:#ff7f0e;\" x=\"182.671531\" xlink:href=\"#m04cbf88dd3\" y=\"40.749694\"/>\n     <use style=\"fill:#ff7f0e;stroke:#ff7f0e;\" x=\"182.671531\" xlink:href=\"#m04cbf88dd3\" y=\"40.749694\"/>\n     <use style=\"fill:#ff7f0e;stroke:#ff7f0e;\" x=\"182.671531\" xlink:href=\"#m04cbf88dd3\" y=\"40.749694\"/>\n     <use style=\"fill:#ff7f0e;stroke:#ff7f0e;\" x=\"182.671531\" xlink:href=\"#m04cbf88dd3\" y=\"40.749694\"/>\n     <use style=\"fill:#ff7f0e;stroke:#ff7f0e;\" x=\"182.671531\" xlink:href=\"#m04cbf88dd3\" y=\"40.749694\"/>\n     <use style=\"fill:#ff7f0e;stroke:#ff7f0e;\" x=\"182.671531\" xlink:href=\"#m04cbf88dd3\" y=\"40.749694\"/>\n     <use style=\"fill:#ff7f0e;stroke:#ff7f0e;\" x=\"182.671531\" xlink:href=\"#m04cbf88dd3\" y=\"40.749694\"/>\n     <use style=\"fill:#ff7f0e;stroke:#ff7f0e;\" x=\"182.671531\" xlink:href=\"#m04cbf88dd3\" y=\"40.749694\"/>\n     <use style=\"fill:#ff7f0e;stroke:#ff7f0e;\" x=\"182.671531\" xlink:href=\"#m04cbf88dd3\" y=\"40.749694\"/>\n     <use style=\"fill:#ff7f0e;stroke:#ff7f0e;\" x=\"182.671531\" xlink:href=\"#m04cbf88dd3\" y=\"40.749694\"/>\n     <use style=\"fill:#ff7f0e;stroke:#ff7f0e;\" x=\"182.671531\" xlink:href=\"#m04cbf88dd3\" y=\"40.749694\"/>\n     <use style=\"fill:#ff7f0e;stroke:#ff7f0e;\" x=\"182.671531\" xlink:href=\"#m04cbf88dd3\" y=\"40.749694\"/>\n     <use style=\"fill:#ff7f0e;stroke:#ff7f0e;\" x=\"182.671531\" xlink:href=\"#m04cbf88dd3\" y=\"40.749694\"/>\n     <use style=\"fill:#ff7f0e;stroke:#ff7f0e;\" x=\"182.671531\" xlink:href=\"#m04cbf88dd3\" y=\"40.749694\"/>\n     <use style=\"fill:#ff7f0e;stroke:#ff7f0e;\" x=\"182.671531\" xlink:href=\"#m04cbf88dd3\" y=\"40.749694\"/>\n     <use style=\"fill:#ff7f0e;stroke:#ff7f0e;\" x=\"182.671531\" xlink:href=\"#m04cbf88dd3\" y=\"40.749694\"/>\n     <use style=\"fill:#ff7f0e;stroke:#ff7f0e;\" x=\"182.671531\" xlink:href=\"#m04cbf88dd3\" y=\"40.749694\"/>\n     <use style=\"fill:#ff7f0e;stroke:#ff7f0e;\" x=\"182.671531\" xlink:href=\"#m04cbf88dd3\" y=\"40.749694\"/>\n     <use style=\"fill:#ff7f0e;stroke:#ff7f0e;\" x=\"182.671531\" xlink:href=\"#m04cbf88dd3\" y=\"40.749694\"/>\n     <use style=\"fill:#ff7f0e;stroke:#ff7f0e;\" x=\"182.671531\" xlink:href=\"#m04cbf88dd3\" y=\"40.749694\"/>\n     <use style=\"fill:#ff7f0e;stroke:#ff7f0e;\" x=\"182.671531\" xlink:href=\"#m04cbf88dd3\" y=\"40.749694\"/>\n     <use style=\"fill:#ff7f0e;stroke:#ff7f0e;\" x=\"182.671531\" xlink:href=\"#m04cbf88dd3\" y=\"40.749694\"/>\n     <use style=\"fill:#ff7f0e;stroke:#ff7f0e;\" x=\"182.671531\" xlink:href=\"#m04cbf88dd3\" y=\"40.749694\"/>\n     <use style=\"fill:#ff7f0e;stroke:#ff7f0e;\" x=\"182.671531\" xlink:href=\"#m04cbf88dd3\" y=\"40.749694\"/>\n     <use style=\"fill:#ff7f0e;stroke:#ff7f0e;\" x=\"182.671531\" xlink:href=\"#m04cbf88dd3\" y=\"40.749694\"/>\n     <use style=\"fill:#ff7f0e;stroke:#ff7f0e;\" x=\"182.671531\" xlink:href=\"#m04cbf88dd3\" y=\"40.749694\"/>\n     <use style=\"fill:#ff7f0e;stroke:#ff7f0e;\" x=\"182.671531\" xlink:href=\"#m04cbf88dd3\" y=\"40.749694\"/>\n     <use style=\"fill:#ff7f0e;stroke:#ff7f0e;\" x=\"182.671531\" xlink:href=\"#m04cbf88dd3\" y=\"40.749694\"/>\n     <use style=\"fill:#ff7f0e;stroke:#ff7f0e;\" x=\"182.671531\" xlink:href=\"#m04cbf88dd3\" y=\"40.749694\"/>\n     <use style=\"fill:#ff7f0e;stroke:#ff7f0e;\" x=\"182.671531\" xlink:href=\"#m04cbf88dd3\" y=\"40.749694\"/>\n     <use style=\"fill:#ff7f0e;stroke:#ff7f0e;\" x=\"182.671531\" xlink:href=\"#m04cbf88dd3\" y=\"40.749694\"/>\n     <use style=\"fill:#ff7f0e;stroke:#ff7f0e;\" x=\"182.671531\" xlink:href=\"#m04cbf88dd3\" y=\"40.749694\"/>\n     <use style=\"fill:#ff7f0e;stroke:#ff7f0e;\" x=\"182.671531\" xlink:href=\"#m04cbf88dd3\" y=\"40.749694\"/>\n     <use style=\"fill:#ff7f0e;stroke:#ff7f0e;\" x=\"182.671531\" xlink:href=\"#m04cbf88dd3\" y=\"40.749694\"/>\n     <use style=\"fill:#ff7f0e;stroke:#ff7f0e;\" x=\"182.671531\" xlink:href=\"#m04cbf88dd3\" y=\"40.749694\"/>\n     <use style=\"fill:#ff7f0e;stroke:#ff7f0e;\" x=\"182.671531\" xlink:href=\"#m04cbf88dd3\" y=\"40.749694\"/>\n     <use style=\"fill:#ff7f0e;stroke:#ff7f0e;\" x=\"182.671531\" xlink:href=\"#m04cbf88dd3\" y=\"40.749694\"/>\n     <use style=\"fill:#ff7f0e;stroke:#ff7f0e;\" x=\"182.671531\" xlink:href=\"#m04cbf88dd3\" y=\"40.749694\"/>\n     <use style=\"fill:#ff7f0e;stroke:#ff7f0e;\" x=\"182.671531\" xlink:href=\"#m04cbf88dd3\" y=\"40.749694\"/>\n     <use style=\"fill:#ff7f0e;stroke:#ff7f0e;\" x=\"182.671531\" xlink:href=\"#m04cbf88dd3\" y=\"40.749694\"/>\n     <use style=\"fill:#ff7f0e;stroke:#ff7f0e;\" x=\"182.671531\" xlink:href=\"#m04cbf88dd3\" y=\"40.749694\"/>\n     <use style=\"fill:#ff7f0e;stroke:#ff7f0e;\" x=\"182.671531\" xlink:href=\"#m04cbf88dd3\" y=\"40.749694\"/>\n     <use style=\"fill:#ff7f0e;stroke:#ff7f0e;\" x=\"182.671531\" xlink:href=\"#m04cbf88dd3\" y=\"40.749694\"/>\n     <use style=\"fill:#ff7f0e;stroke:#ff7f0e;\" x=\"182.671531\" xlink:href=\"#m04cbf88dd3\" y=\"40.749694\"/>\n     <use style=\"fill:#ff7f0e;stroke:#ff7f0e;\" x=\"182.671531\" xlink:href=\"#m04cbf88dd3\" y=\"40.749694\"/>\n     <use style=\"fill:#ff7f0e;stroke:#ff7f0e;\" x=\"182.671531\" xlink:href=\"#m04cbf88dd3\" y=\"40.749694\"/>\n     <use style=\"fill:#ff7f0e;stroke:#ff7f0e;\" x=\"182.671531\" xlink:href=\"#m04cbf88dd3\" y=\"40.749694\"/>\n     <use style=\"fill:#ff7f0e;stroke:#ff7f0e;\" x=\"182.671531\" xlink:href=\"#m04cbf88dd3\" y=\"40.749694\"/>\n     <use style=\"fill:#ff7f0e;stroke:#ff7f0e;\" x=\"182.671531\" xlink:href=\"#m04cbf88dd3\" y=\"40.749694\"/>\n     <use style=\"fill:#ff7f0e;stroke:#ff7f0e;\" x=\"182.671531\" xlink:href=\"#m04cbf88dd3\" y=\"40.749694\"/>\n     <use style=\"fill:#ff7f0e;stroke:#ff7f0e;\" x=\"182.671531\" xlink:href=\"#m04cbf88dd3\" y=\"40.749694\"/>\n     <use style=\"fill:#ff7f0e;stroke:#ff7f0e;\" x=\"182.671531\" xlink:href=\"#m04cbf88dd3\" y=\"40.749694\"/>\n     <use style=\"fill:#ff7f0e;stroke:#ff7f0e;\" x=\"182.671531\" xlink:href=\"#m04cbf88dd3\" y=\"40.749694\"/>\n     <use style=\"fill:#ff7f0e;stroke:#ff7f0e;\" x=\"182.671531\" xlink:href=\"#m04cbf88dd3\" y=\"40.749694\"/>\n     <use style=\"fill:#ff7f0e;stroke:#ff7f0e;\" x=\"182.671531\" xlink:href=\"#m04cbf88dd3\" y=\"40.749694\"/>\n     <use style=\"fill:#ff7f0e;stroke:#ff7f0e;\" x=\"182.671531\" xlink:href=\"#m04cbf88dd3\" y=\"40.749694\"/>\n     <use style=\"fill:#ff7f0e;stroke:#ff7f0e;\" x=\"182.671531\" xlink:href=\"#m04cbf88dd3\" y=\"40.749694\"/>\n     <use style=\"fill:#ff7f0e;stroke:#ff7f0e;\" x=\"182.671531\" xlink:href=\"#m04cbf88dd3\" y=\"40.749694\"/>\n     <use style=\"fill:#ff7f0e;stroke:#ff7f0e;\" x=\"182.671531\" xlink:href=\"#m04cbf88dd3\" y=\"40.749694\"/>\n     <use style=\"fill:#ff7f0e;stroke:#ff7f0e;\" x=\"182.671531\" xlink:href=\"#m04cbf88dd3\" y=\"40.749694\"/>\n     <use style=\"fill:#ff7f0e;stroke:#ff7f0e;\" x=\"182.671531\" xlink:href=\"#m04cbf88dd3\" y=\"40.749694\"/>\n     <use style=\"fill:#ff7f0e;stroke:#ff7f0e;\" x=\"182.671531\" xlink:href=\"#m04cbf88dd3\" y=\"40.749694\"/>\n     <use style=\"fill:#ff7f0e;stroke:#ff7f0e;\" x=\"182.671531\" xlink:href=\"#m04cbf88dd3\" y=\"40.749694\"/>\n     <use style=\"fill:#ff7f0e;stroke:#ff7f0e;\" x=\"182.671531\" xlink:href=\"#m04cbf88dd3\" y=\"40.749694\"/>\n     <use style=\"fill:#ff7f0e;stroke:#ff7f0e;\" x=\"182.671531\" xlink:href=\"#m04cbf88dd3\" y=\"40.749694\"/>\n     <use style=\"fill:#ff7f0e;stroke:#ff7f0e;\" x=\"182.671531\" xlink:href=\"#m04cbf88dd3\" y=\"40.749694\"/>\n     <use style=\"fill:#ff7f0e;stroke:#ff7f0e;\" x=\"182.671531\" xlink:href=\"#m04cbf88dd3\" y=\"40.749694\"/>\n     <use style=\"fill:#ff7f0e;stroke:#ff7f0e;\" x=\"182.671531\" xlink:href=\"#m04cbf88dd3\" y=\"40.749694\"/>\n     <use style=\"fill:#ff7f0e;stroke:#ff7f0e;\" x=\"182.671531\" xlink:href=\"#m04cbf88dd3\" y=\"40.749694\"/>\n     <use style=\"fill:#ff7f0e;stroke:#ff7f0e;\" x=\"182.671531\" xlink:href=\"#m04cbf88dd3\" y=\"40.749694\"/>\n     <use style=\"fill:#ff7f0e;stroke:#ff7f0e;\" x=\"182.671531\" xlink:href=\"#m04cbf88dd3\" y=\"40.749694\"/>\n     <use style=\"fill:#ff7f0e;stroke:#ff7f0e;\" x=\"182.671531\" xlink:href=\"#m04cbf88dd3\" y=\"40.749694\"/>\n     <use style=\"fill:#ff7f0e;stroke:#ff7f0e;\" x=\"182.671531\" xlink:href=\"#m04cbf88dd3\" y=\"40.749694\"/>\n     <use style=\"fill:#ff7f0e;stroke:#ff7f0e;\" x=\"182.671531\" xlink:href=\"#m04cbf88dd3\" y=\"40.749694\"/>\n     <use style=\"fill:#ff7f0e;stroke:#ff7f0e;\" x=\"182.671531\" xlink:href=\"#m04cbf88dd3\" y=\"40.749694\"/>\n     <use style=\"fill:#ff7f0e;stroke:#ff7f0e;\" x=\"182.671531\" xlink:href=\"#m04cbf88dd3\" y=\"40.749694\"/>\n     <use style=\"fill:#ff7f0e;stroke:#ff7f0e;\" x=\"182.671531\" xlink:href=\"#m04cbf88dd3\" y=\"40.749694\"/>\n     <use style=\"fill:#ff7f0e;stroke:#ff7f0e;\" x=\"182.671531\" xlink:href=\"#m04cbf88dd3\" y=\"40.749694\"/>\n     <use style=\"fill:#ff7f0e;stroke:#ff7f0e;\" x=\"182.671531\" xlink:href=\"#m04cbf88dd3\" y=\"40.749694\"/>\n     <use style=\"fill:#ff7f0e;stroke:#ff7f0e;\" x=\"182.671531\" xlink:href=\"#m04cbf88dd3\" y=\"40.749694\"/>\n     <use style=\"fill:#ff7f0e;stroke:#ff7f0e;\" x=\"182.671531\" xlink:href=\"#m04cbf88dd3\" y=\"40.749694\"/>\n     <use style=\"fill:#ff7f0e;stroke:#ff7f0e;\" x=\"182.671531\" xlink:href=\"#m04cbf88dd3\" y=\"40.749694\"/>\n     <use style=\"fill:#ff7f0e;stroke:#ff7f0e;\" x=\"182.671531\" xlink:href=\"#m04cbf88dd3\" y=\"40.749694\"/>\n     <use style=\"fill:#ff7f0e;stroke:#ff7f0e;\" x=\"182.671531\" xlink:href=\"#m04cbf88dd3\" y=\"40.749694\"/>\n     <use style=\"fill:#ff7f0e;stroke:#ff7f0e;\" x=\"182.671531\" xlink:href=\"#m04cbf88dd3\" y=\"40.749694\"/>\n     <use style=\"fill:#ff7f0e;stroke:#ff7f0e;\" x=\"182.671531\" xlink:href=\"#m04cbf88dd3\" y=\"40.749694\"/>\n     <use style=\"fill:#ff7f0e;stroke:#ff7f0e;\" x=\"182.671531\" xlink:href=\"#m04cbf88dd3\" y=\"40.749694\"/>\n     <use style=\"fill:#ff7f0e;stroke:#ff7f0e;\" x=\"182.671531\" xlink:href=\"#m04cbf88dd3\" y=\"40.749694\"/>\n     <use style=\"fill:#ff7f0e;stroke:#ff7f0e;\" x=\"182.671531\" xlink:href=\"#m04cbf88dd3\" y=\"40.749694\"/>\n     <use style=\"fill:#ff7f0e;stroke:#ff7f0e;\" x=\"182.671531\" xlink:href=\"#m04cbf88dd3\" y=\"40.749694\"/>\n     <use style=\"fill:#ff7f0e;stroke:#ff7f0e;\" x=\"182.671531\" xlink:href=\"#m04cbf88dd3\" y=\"40.749694\"/>\n     <use style=\"fill:#ff7f0e;stroke:#ff7f0e;\" x=\"182.671531\" xlink:href=\"#m04cbf88dd3\" y=\"40.749694\"/>\n     <use style=\"fill:#ff7f0e;stroke:#ff7f0e;\" x=\"182.671531\" xlink:href=\"#m04cbf88dd3\" y=\"40.749694\"/>\n     <use style=\"fill:#ff7f0e;stroke:#ff7f0e;\" x=\"182.671531\" xlink:href=\"#m04cbf88dd3\" y=\"40.749694\"/>\n     <use style=\"fill:#ff7f0e;stroke:#ff7f0e;\" x=\"182.671531\" xlink:href=\"#m04cbf88dd3\" y=\"40.749694\"/>\n     <use style=\"fill:#ff7f0e;stroke:#ff7f0e;\" x=\"182.671531\" xlink:href=\"#m04cbf88dd3\" y=\"40.749694\"/>\n     <use style=\"fill:#ff7f0e;stroke:#ff7f0e;\" x=\"182.671531\" xlink:href=\"#m04cbf88dd3\" y=\"40.749694\"/>\n     <use style=\"fill:#ff7f0e;stroke:#ff7f0e;\" x=\"182.671531\" xlink:href=\"#m04cbf88dd3\" y=\"40.749694\"/>\n     <use style=\"fill:#ff7f0e;stroke:#ff7f0e;\" x=\"182.671531\" xlink:href=\"#m04cbf88dd3\" y=\"40.749694\"/>\n     <use style=\"fill:#ff7f0e;stroke:#ff7f0e;\" x=\"182.671531\" xlink:href=\"#m04cbf88dd3\" y=\"40.749694\"/>\n     <use style=\"fill:#ff7f0e;stroke:#ff7f0e;\" x=\"182.671531\" xlink:href=\"#m04cbf88dd3\" y=\"40.749694\"/>\n     <use style=\"fill:#ff7f0e;stroke:#ff7f0e;\" x=\"182.671531\" xlink:href=\"#m04cbf88dd3\" y=\"40.749694\"/>\n     <use style=\"fill:#ff7f0e;stroke:#ff7f0e;\" x=\"182.671531\" xlink:href=\"#m04cbf88dd3\" y=\"40.749694\"/>\n     <use style=\"fill:#ff7f0e;stroke:#ff7f0e;\" x=\"182.671531\" xlink:href=\"#m04cbf88dd3\" y=\"40.749694\"/>\n     <use style=\"fill:#ff7f0e;stroke:#ff7f0e;\" x=\"182.671531\" xlink:href=\"#m04cbf88dd3\" y=\"40.749694\"/>\n     <use style=\"fill:#ff7f0e;stroke:#ff7f0e;\" x=\"182.671531\" xlink:href=\"#m04cbf88dd3\" y=\"40.749694\"/>\n     <use style=\"fill:#ff7f0e;stroke:#ff7f0e;\" x=\"182.671531\" xlink:href=\"#m04cbf88dd3\" y=\"40.749694\"/>\n     <use style=\"fill:#ff7f0e;stroke:#ff7f0e;\" x=\"182.671531\" xlink:href=\"#m04cbf88dd3\" y=\"40.749694\"/>\n     <use style=\"fill:#ff7f0e;stroke:#ff7f0e;\" x=\"182.671531\" xlink:href=\"#m04cbf88dd3\" y=\"40.749694\"/>\n     <use style=\"fill:#ff7f0e;stroke:#ff7f0e;\" x=\"182.671531\" xlink:href=\"#m04cbf88dd3\" y=\"40.749694\"/>\n     <use style=\"fill:#ff7f0e;stroke:#ff7f0e;\" x=\"182.671531\" xlink:href=\"#m04cbf88dd3\" y=\"40.749694\"/>\n     <use style=\"fill:#ff7f0e;stroke:#ff7f0e;\" x=\"182.671531\" xlink:href=\"#m04cbf88dd3\" y=\"40.749694\"/>\n     <use style=\"fill:#ff7f0e;stroke:#ff7f0e;\" x=\"182.671531\" xlink:href=\"#m04cbf88dd3\" y=\"40.749694\"/>\n     <use style=\"fill:#ff7f0e;stroke:#ff7f0e;\" x=\"182.671531\" xlink:href=\"#m04cbf88dd3\" y=\"40.749694\"/>\n     <use style=\"fill:#ff7f0e;stroke:#ff7f0e;\" x=\"182.671531\" xlink:href=\"#m04cbf88dd3\" y=\"40.749694\"/>\n     <use style=\"fill:#ff7f0e;stroke:#ff7f0e;\" x=\"182.671531\" xlink:href=\"#m04cbf88dd3\" y=\"40.749694\"/>\n     <use style=\"fill:#ff7f0e;stroke:#ff7f0e;\" x=\"182.671531\" xlink:href=\"#m04cbf88dd3\" y=\"40.749694\"/>\n     <use style=\"fill:#ff7f0e;stroke:#ff7f0e;\" x=\"182.671531\" xlink:href=\"#m04cbf88dd3\" y=\"40.749694\"/>\n     <use style=\"fill:#ff7f0e;stroke:#ff7f0e;\" x=\"182.671531\" xlink:href=\"#m04cbf88dd3\" y=\"40.749694\"/>\n     <use style=\"fill:#ff7f0e;stroke:#ff7f0e;\" x=\"182.671531\" xlink:href=\"#m04cbf88dd3\" y=\"40.749694\"/>\n     <use style=\"fill:#ff7f0e;stroke:#ff7f0e;\" x=\"182.671531\" xlink:href=\"#m04cbf88dd3\" y=\"40.749694\"/>\n     <use style=\"fill:#ff7f0e;stroke:#ff7f0e;\" x=\"182.671531\" xlink:href=\"#m04cbf88dd3\" y=\"40.749694\"/>\n     <use style=\"fill:#ff7f0e;stroke:#ff7f0e;\" x=\"182.671531\" xlink:href=\"#m04cbf88dd3\" y=\"40.749694\"/>\n     <use style=\"fill:#ff7f0e;stroke:#ff7f0e;\" x=\"182.671531\" xlink:href=\"#m04cbf88dd3\" y=\"40.749694\"/>\n     <use style=\"fill:#ff7f0e;stroke:#ff7f0e;\" x=\"182.671531\" xlink:href=\"#m04cbf88dd3\" y=\"40.749694\"/>\n     <use style=\"fill:#ff7f0e;stroke:#ff7f0e;\" x=\"182.671531\" xlink:href=\"#m04cbf88dd3\" y=\"40.749694\"/>\n     <use style=\"fill:#ff7f0e;stroke:#ff7f0e;\" x=\"182.671531\" xlink:href=\"#m04cbf88dd3\" y=\"40.749694\"/>\n     <use style=\"fill:#ff7f0e;stroke:#ff7f0e;\" x=\"182.671531\" xlink:href=\"#m04cbf88dd3\" y=\"40.749694\"/>\n     <use style=\"fill:#ff7f0e;stroke:#ff7f0e;\" x=\"182.671531\" xlink:href=\"#m04cbf88dd3\" y=\"40.749694\"/>\n     <use style=\"fill:#ff7f0e;stroke:#ff7f0e;\" x=\"182.671531\" xlink:href=\"#m04cbf88dd3\" y=\"40.749694\"/>\n     <use style=\"fill:#ff7f0e;stroke:#ff7f0e;\" x=\"182.671531\" xlink:href=\"#m04cbf88dd3\" y=\"40.749694\"/>\n     <use style=\"fill:#ff7f0e;stroke:#ff7f0e;\" x=\"182.671531\" xlink:href=\"#m04cbf88dd3\" y=\"40.749694\"/>\n     <use style=\"fill:#ff7f0e;stroke:#ff7f0e;\" x=\"182.671531\" xlink:href=\"#m04cbf88dd3\" y=\"40.749694\"/>\n     <use style=\"fill:#ff7f0e;stroke:#ff7f0e;\" x=\"182.671531\" xlink:href=\"#m04cbf88dd3\" y=\"40.749694\"/>\n     <use style=\"fill:#ff7f0e;stroke:#ff7f0e;\" x=\"182.671531\" xlink:href=\"#m04cbf88dd3\" y=\"40.749694\"/>\n     <use style=\"fill:#ff7f0e;stroke:#ff7f0e;\" x=\"182.671531\" xlink:href=\"#m04cbf88dd3\" y=\"40.749694\"/>\n     <use style=\"fill:#ff7f0e;stroke:#ff7f0e;\" x=\"182.671531\" xlink:href=\"#m04cbf88dd3\" y=\"40.749694\"/>\n     <use style=\"fill:#ff7f0e;stroke:#ff7f0e;\" x=\"182.671531\" xlink:href=\"#m04cbf88dd3\" y=\"40.749694\"/>\n     <use style=\"fill:#ff7f0e;stroke:#ff7f0e;\" x=\"182.671531\" xlink:href=\"#m04cbf88dd3\" y=\"40.749694\"/>\n     <use style=\"fill:#ff7f0e;stroke:#ff7f0e;\" x=\"182.671531\" xlink:href=\"#m04cbf88dd3\" y=\"40.749694\"/>\n     <use style=\"fill:#ff7f0e;stroke:#ff7f0e;\" x=\"182.671531\" xlink:href=\"#m04cbf88dd3\" y=\"40.749694\"/>\n     <use style=\"fill:#ff7f0e;stroke:#ff7f0e;\" x=\"182.671531\" xlink:href=\"#m04cbf88dd3\" y=\"40.749694\"/>\n     <use style=\"fill:#ff7f0e;stroke:#ff7f0e;\" x=\"182.671531\" xlink:href=\"#m04cbf88dd3\" y=\"40.749694\"/>\n     <use style=\"fill:#ff7f0e;stroke:#ff7f0e;\" x=\"182.671531\" xlink:href=\"#m04cbf88dd3\" y=\"40.749694\"/>\n     <use style=\"fill:#ff7f0e;stroke:#ff7f0e;\" x=\"182.671531\" xlink:href=\"#m04cbf88dd3\" y=\"40.749694\"/>\n     <use style=\"fill:#ff7f0e;stroke:#ff7f0e;\" x=\"182.671531\" xlink:href=\"#m04cbf88dd3\" y=\"40.749694\"/>\n     <use style=\"fill:#ff7f0e;stroke:#ff7f0e;\" x=\"182.671531\" xlink:href=\"#m04cbf88dd3\" y=\"40.749694\"/>\n     <use style=\"fill:#ff7f0e;stroke:#ff7f0e;\" x=\"182.671531\" xlink:href=\"#m04cbf88dd3\" y=\"40.749694\"/>\n     <use style=\"fill:#ff7f0e;stroke:#ff7f0e;\" x=\"182.671531\" xlink:href=\"#m04cbf88dd3\" y=\"40.749694\"/>\n     <use style=\"fill:#ff7f0e;stroke:#ff7f0e;\" x=\"182.671531\" xlink:href=\"#m04cbf88dd3\" y=\"40.749694\"/>\n     <use style=\"fill:#ff7f0e;stroke:#ff7f0e;\" x=\"182.671531\" xlink:href=\"#m04cbf88dd3\" y=\"40.749694\"/>\n     <use style=\"fill:#ff7f0e;stroke:#ff7f0e;\" x=\"182.671531\" xlink:href=\"#m04cbf88dd3\" y=\"40.749694\"/>\n     <use style=\"fill:#ff7f0e;stroke:#ff7f0e;\" x=\"182.671531\" xlink:href=\"#m04cbf88dd3\" y=\"40.749694\"/>\n     <use style=\"fill:#ff7f0e;stroke:#ff7f0e;\" x=\"182.671531\" xlink:href=\"#m04cbf88dd3\" y=\"40.749694\"/>\n     <use style=\"fill:#ff7f0e;stroke:#ff7f0e;\" x=\"182.671531\" xlink:href=\"#m04cbf88dd3\" y=\"40.749694\"/>\n     <use style=\"fill:#ff7f0e;stroke:#ff7f0e;\" x=\"182.671531\" xlink:href=\"#m04cbf88dd3\" y=\"40.749694\"/>\n     <use style=\"fill:#ff7f0e;stroke:#ff7f0e;\" x=\"182.671531\" xlink:href=\"#m04cbf88dd3\" y=\"40.749694\"/>\n     <use style=\"fill:#ff7f0e;stroke:#ff7f0e;\" x=\"182.671531\" xlink:href=\"#m04cbf88dd3\" y=\"40.749694\"/>\n     <use style=\"fill:#ff7f0e;stroke:#ff7f0e;\" x=\"182.671531\" xlink:href=\"#m04cbf88dd3\" y=\"40.749694\"/>\n     <use style=\"fill:#ff7f0e;stroke:#ff7f0e;\" x=\"182.671531\" xlink:href=\"#m04cbf88dd3\" y=\"40.749694\"/>\n     <use style=\"fill:#ff7f0e;stroke:#ff7f0e;\" x=\"182.671531\" xlink:href=\"#m04cbf88dd3\" y=\"40.749694\"/>\n     <use style=\"fill:#ff7f0e;stroke:#ff7f0e;\" x=\"182.671531\" xlink:href=\"#m04cbf88dd3\" y=\"40.749694\"/>\n     <use style=\"fill:#ff7f0e;stroke:#ff7f0e;\" x=\"182.671531\" xlink:href=\"#m04cbf88dd3\" y=\"40.749694\"/>\n     <use style=\"fill:#ff7f0e;stroke:#ff7f0e;\" x=\"182.671531\" xlink:href=\"#m04cbf88dd3\" y=\"40.749694\"/>\n     <use style=\"fill:#ff7f0e;stroke:#ff7f0e;\" x=\"182.671531\" xlink:href=\"#m04cbf88dd3\" y=\"40.749694\"/>\n     <use style=\"fill:#ff7f0e;stroke:#ff7f0e;\" x=\"182.671531\" xlink:href=\"#m04cbf88dd3\" y=\"40.749694\"/>\n     <use style=\"fill:#ff7f0e;stroke:#ff7f0e;\" x=\"182.671531\" xlink:href=\"#m04cbf88dd3\" y=\"40.749694\"/>\n     <use style=\"fill:#ff7f0e;stroke:#ff7f0e;\" x=\"182.671531\" xlink:href=\"#m04cbf88dd3\" y=\"40.749694\"/>\n     <use style=\"fill:#ff7f0e;stroke:#ff7f0e;\" x=\"182.671531\" xlink:href=\"#m04cbf88dd3\" y=\"40.749694\"/>\n     <use style=\"fill:#ff7f0e;stroke:#ff7f0e;\" x=\"182.671531\" xlink:href=\"#m04cbf88dd3\" y=\"40.749694\"/>\n     <use style=\"fill:#ff7f0e;stroke:#ff7f0e;\" x=\"182.671531\" xlink:href=\"#m04cbf88dd3\" y=\"40.749694\"/>\n     <use style=\"fill:#ff7f0e;stroke:#ff7f0e;\" x=\"182.671531\" xlink:href=\"#m04cbf88dd3\" y=\"40.749694\"/>\n    </g>\n   </g>\n   <g id=\"patch_3\">\n    <path d=\"M 42.620312 143.1 \nL 42.620312 7.2 \n\" style=\"fill:none;stroke:#000000;stroke-linecap:square;stroke-linejoin:miter;stroke-width:0.8;\"/>\n   </g>\n   <g id=\"patch_4\">\n    <path d=\"M 237.920313 143.1 \nL 237.920313 7.2 \n\" style=\"fill:none;stroke:#000000;stroke-linecap:square;stroke-linejoin:miter;stroke-width:0.8;\"/>\n   </g>\n   <g id=\"patch_5\">\n    <path d=\"M 42.620312 143.1 \nL 237.920313 143.1 \n\" style=\"fill:none;stroke:#000000;stroke-linecap:square;stroke-linejoin:miter;stroke-width:0.8;\"/>\n   </g>\n   <g id=\"patch_6\">\n    <path d=\"M 42.620312 7.2 \nL 237.920313 7.2 \n\" style=\"fill:none;stroke:#000000;stroke-linecap:square;stroke-linejoin:miter;stroke-width:0.8;\"/>\n   </g>\n  </g>\n </g>\n <defs>\n  <clipPath id=\"peff3c62880\">\n   <rect height=\"135.9\" width=\"195.3\" x=\"42.620312\" y=\"7.2\"/>\n  </clipPath>\n </defs>\n</svg>\n",
      "text/plain": [
       "<Figure size 252x180 with 1 Axes>"
      ]
     },
     "metadata": {
      "needs_background": "light"
     },
     "output_type": "display_data"
    }
   ],
   "source": [
    "import math\n",
    "def exponential_lr():\n",
    "    # 在函数外部定义，而在内部更新的全局变量\n",
    "    global t\n",
    "    t += 1\n",
    "    print(t,math.exp(-0.1 * t))\n",
    "    return math.exp(-0.1 * t)\n",
    "\n",
    "t = 1\n",
    "lr = exponential_lr\n",
    "d2l.show_trace_2d(f, d2l.train_2d(sgd, steps=1000, f_grad=f_grad))"
   ]
  },
  {
   "cell_type": "markdown",
   "metadata": {},
   "source": [
    "正如预期的那样，参数的方差大大减少。但是，这是以未能收敛到x=(0,0)最优解为代价的。即使经过1000个迭代步骤，我们仍然离最优解很远。事实上，该算法根本无法收敛。另一方面，如果我们使用多项式衰减，其中学习率随迭代次数的平方根倒数衰减，那么仅在50次迭代之后，收敛就会更好。"
   ]
  },
  {
   "cell_type": "code",
   "execution_count": 59,
   "metadata": {
    "ExecuteTime": {
     "end_time": "2022-10-27T09:01:27.502402Z",
     "start_time": "2022-10-27T09:01:27.348836Z"
    }
   },
   "outputs": [
    {
     "name": "stdout",
     "output_type": "stream",
     "text": [
      "epoch 50, x1: -0.019661, x2: -0.003771\n"
     ]
    },
    {
     "data": {
      "image/svg+xml": "<?xml version=\"1.0\" encoding=\"utf-8\" standalone=\"no\"?>\n<!DOCTYPE svg PUBLIC \"-//W3C//DTD SVG 1.1//EN\"\n  \"http://www.w3.org/Graphics/SVG/1.1/DTD/svg11.dtd\">\n<!-- Created with matplotlib (https://matplotlib.org/) -->\n<svg height=\"180.65625pt\" version=\"1.1\" viewBox=\"0 0 245.120313 180.65625\" width=\"245.120313pt\" xmlns=\"http://www.w3.org/2000/svg\" xmlns:xlink=\"http://www.w3.org/1999/xlink\">\n <metadata>\n  <rdf:RDF xmlns:cc=\"http://creativecommons.org/ns#\" xmlns:dc=\"http://purl.org/dc/elements/1.1/\" xmlns:rdf=\"http://www.w3.org/1999/02/22-rdf-syntax-ns#\">\n   <cc:Work>\n    <dc:type rdf:resource=\"http://purl.org/dc/dcmitype/StillImage\"/>\n    <dc:date>2022-10-27T17:01:27.470488</dc:date>\n    <dc:format>image/svg+xml</dc:format>\n    <dc:creator>\n     <cc:Agent>\n      <dc:title>Matplotlib v3.3.3, https://matplotlib.org/</dc:title>\n     </cc:Agent>\n    </dc:creator>\n   </cc:Work>\n  </rdf:RDF>\n </metadata>\n <defs>\n  <style type=\"text/css\">*{stroke-linecap:butt;stroke-linejoin:round;}</style>\n </defs>\n <g id=\"figure_1\">\n  <g id=\"patch_1\">\n   <path d=\"M 0 180.65625 \nL 245.120313 180.65625 \nL 245.120313 0 \nL 0 0 \nz\n\" style=\"fill:none;\"/>\n  </g>\n  <g id=\"axes_1\">\n   <g id=\"patch_2\">\n    <path d=\"M 42.620312 143.1 \nL 237.920313 143.1 \nL 237.920313 7.2 \nL 42.620312 7.2 \nz\n\" style=\"fill:#ffffff;\"/>\n   </g>\n   <g id=\"matplotlib.axis_1\">\n    <g id=\"xtick_1\">\n     <g id=\"line2d_1\">\n      <defs>\n       <path d=\"M 0 0 \nL 0 3.5 \n\" id=\"m3518f148c9\" style=\"stroke:#000000;stroke-width:0.8;\"/>\n      </defs>\n      <g>\n       <use style=\"stroke:#000000;stroke-width:0.8;\" x=\"88.393771\" xlink:href=\"#m3518f148c9\" y=\"143.1\"/>\n      </g>\n     </g>\n     <g id=\"text_1\">\n      <!-- −4 -->\n      <g transform=\"translate(81.022677 157.698438)scale(0.1 -0.1)\">\n       <defs>\n        <path d=\"M 10.59375 35.5 \nL 73.1875 35.5 \nL 73.1875 27.203125 \nL 10.59375 27.203125 \nz\n\" id=\"DejaVuSans-8722\"/>\n        <path d=\"M 37.796875 64.3125 \nL 12.890625 25.390625 \nL 37.796875 25.390625 \nz\nM 35.203125 72.90625 \nL 47.609375 72.90625 \nL 47.609375 25.390625 \nL 58.015625 25.390625 \nL 58.015625 17.1875 \nL 47.609375 17.1875 \nL 47.609375 0 \nL 37.796875 0 \nL 37.796875 17.1875 \nL 4.890625 17.1875 \nL 4.890625 26.703125 \nz\n\" id=\"DejaVuSans-52\"/>\n       </defs>\n       <use xlink:href=\"#DejaVuSans-8722\"/>\n       <use x=\"83.789062\" xlink:href=\"#DejaVuSans-52\"/>\n      </g>\n     </g>\n    </g>\n    <g id=\"xtick_2\">\n     <g id=\"line2d_2\">\n      <g>\n       <use style=\"stroke:#000000;stroke-width:0.8;\" x=\"149.425049\" xlink:href=\"#m3518f148c9\" y=\"143.1\"/>\n      </g>\n     </g>\n     <g id=\"text_2\">\n      <!-- −2 -->\n      <g transform=\"translate(142.053955 157.698438)scale(0.1 -0.1)\">\n       <defs>\n        <path d=\"M 19.1875 8.296875 \nL 53.609375 8.296875 \nL 53.609375 0 \nL 7.328125 0 \nL 7.328125 8.296875 \nQ 12.9375 14.109375 22.625 23.890625 \nQ 32.328125 33.6875 34.8125 36.53125 \nQ 39.546875 41.84375 41.421875 45.53125 \nQ 43.3125 49.21875 43.3125 52.78125 \nQ 43.3125 58.59375 39.234375 62.25 \nQ 35.15625 65.921875 28.609375 65.921875 \nQ 23.96875 65.921875 18.8125 64.3125 \nQ 13.671875 62.703125 7.8125 59.421875 \nL 7.8125 69.390625 \nQ 13.765625 71.78125 18.9375 73 \nQ 24.125 74.21875 28.421875 74.21875 \nQ 39.75 74.21875 46.484375 68.546875 \nQ 53.21875 62.890625 53.21875 53.421875 \nQ 53.21875 48.921875 51.53125 44.890625 \nQ 49.859375 40.875 45.40625 35.40625 \nQ 44.1875 33.984375 37.640625 27.21875 \nQ 31.109375 20.453125 19.1875 8.296875 \nz\n\" id=\"DejaVuSans-50\"/>\n       </defs>\n       <use xlink:href=\"#DejaVuSans-8722\"/>\n       <use x=\"83.789062\" xlink:href=\"#DejaVuSans-50\"/>\n      </g>\n     </g>\n    </g>\n    <g id=\"xtick_3\">\n     <g id=\"line2d_3\">\n      <g>\n       <use style=\"stroke:#000000;stroke-width:0.8;\" x=\"210.456327\" xlink:href=\"#m3518f148c9\" y=\"143.1\"/>\n      </g>\n     </g>\n     <g id=\"text_3\">\n      <!-- 0 -->\n      <g transform=\"translate(207.275077 157.698438)scale(0.1 -0.1)\">\n       <defs>\n        <path d=\"M 31.78125 66.40625 \nQ 24.171875 66.40625 20.328125 58.90625 \nQ 16.5 51.421875 16.5 36.375 \nQ 16.5 21.390625 20.328125 13.890625 \nQ 24.171875 6.390625 31.78125 6.390625 \nQ 39.453125 6.390625 43.28125 13.890625 \nQ 47.125 21.390625 47.125 36.375 \nQ 47.125 51.421875 43.28125 58.90625 \nQ 39.453125 66.40625 31.78125 66.40625 \nz\nM 31.78125 74.21875 \nQ 44.046875 74.21875 50.515625 64.515625 \nQ 56.984375 54.828125 56.984375 36.375 \nQ 56.984375 17.96875 50.515625 8.265625 \nQ 44.046875 -1.421875 31.78125 -1.421875 \nQ 19.53125 -1.421875 13.0625 8.265625 \nQ 6.59375 17.96875 6.59375 36.375 \nQ 6.59375 54.828125 13.0625 64.515625 \nQ 19.53125 74.21875 31.78125 74.21875 \nz\n\" id=\"DejaVuSans-48\"/>\n       </defs>\n       <use xlink:href=\"#DejaVuSans-48\"/>\n      </g>\n     </g>\n    </g>\n    <g id=\"text_4\">\n     <!-- x1 -->\n     <g transform=\"translate(134.129687 171.376563)scale(0.1 -0.1)\">\n      <defs>\n       <path d=\"M 54.890625 54.6875 \nL 35.109375 28.078125 \nL 55.90625 0 \nL 45.3125 0 \nL 29.390625 21.484375 \nL 13.484375 0 \nL 2.875 0 \nL 24.125 28.609375 \nL 4.6875 54.6875 \nL 15.28125 54.6875 \nL 29.78125 35.203125 \nL 44.28125 54.6875 \nz\n\" id=\"DejaVuSans-120\"/>\n       <path d=\"M 12.40625 8.296875 \nL 28.515625 8.296875 \nL 28.515625 63.921875 \nL 10.984375 60.40625 \nL 10.984375 69.390625 \nL 28.421875 72.90625 \nL 38.28125 72.90625 \nL 38.28125 8.296875 \nL 54.390625 8.296875 \nL 54.390625 0 \nL 12.40625 0 \nz\n\" id=\"DejaVuSans-49\"/>\n      </defs>\n      <use xlink:href=\"#DejaVuSans-120\"/>\n      <use x=\"59.179688\" xlink:href=\"#DejaVuSans-49\"/>\n     </g>\n    </g>\n   </g>\n   <g id=\"matplotlib.axis_2\">\n    <g id=\"ytick_1\">\n     <g id=\"line2d_4\">\n      <defs>\n       <path d=\"M 0 0 \nL -3.5 0 \n\" id=\"m2cad8a7781\" style=\"stroke:#000000;stroke-width:0.8;\"/>\n      </defs>\n      <g>\n       <use style=\"stroke:#000000;stroke-width:0.8;\" x=\"42.620312\" xlink:href=\"#m2cad8a7781\" y=\"143.1\"/>\n      </g>\n     </g>\n     <g id=\"text_5\">\n      <!-- −3 -->\n      <g transform=\"translate(20.878125 146.899219)scale(0.1 -0.1)\">\n       <defs>\n        <path d=\"M 40.578125 39.3125 \nQ 47.65625 37.796875 51.625 33 \nQ 55.609375 28.21875 55.609375 21.1875 \nQ 55.609375 10.40625 48.1875 4.484375 \nQ 40.765625 -1.421875 27.09375 -1.421875 \nQ 22.515625 -1.421875 17.65625 -0.515625 \nQ 12.796875 0.390625 7.625 2.203125 \nL 7.625 11.71875 \nQ 11.71875 9.328125 16.59375 8.109375 \nQ 21.484375 6.890625 26.8125 6.890625 \nQ 36.078125 6.890625 40.9375 10.546875 \nQ 45.796875 14.203125 45.796875 21.1875 \nQ 45.796875 27.640625 41.28125 31.265625 \nQ 36.765625 34.90625 28.71875 34.90625 \nL 20.21875 34.90625 \nL 20.21875 43.015625 \nL 29.109375 43.015625 \nQ 36.375 43.015625 40.234375 45.921875 \nQ 44.09375 48.828125 44.09375 54.296875 \nQ 44.09375 59.90625 40.109375 62.90625 \nQ 36.140625 65.921875 28.71875 65.921875 \nQ 24.65625 65.921875 20.015625 65.03125 \nQ 15.375 64.15625 9.8125 62.3125 \nL 9.8125 71.09375 \nQ 15.4375 72.65625 20.34375 73.4375 \nQ 25.25 74.21875 29.59375 74.21875 \nQ 40.828125 74.21875 47.359375 69.109375 \nQ 53.90625 64.015625 53.90625 55.328125 \nQ 53.90625 49.265625 50.4375 45.09375 \nQ 46.96875 40.921875 40.578125 39.3125 \nz\n\" id=\"DejaVuSans-51\"/>\n       </defs>\n       <use xlink:href=\"#DejaVuSans-8722\"/>\n       <use x=\"83.789062\" xlink:href=\"#DejaVuSans-51\"/>\n      </g>\n     </g>\n    </g>\n    <g id=\"ytick_2\">\n     <g id=\"line2d_5\">\n      <g>\n       <use style=\"stroke:#000000;stroke-width:0.8;\" x=\"42.620312\" xlink:href=\"#m2cad8a7781\" y=\"108.253841\"/>\n      </g>\n     </g>\n     <g id=\"text_6\">\n      <!-- −2 -->\n      <g transform=\"translate(20.878125 112.05306)scale(0.1 -0.1)\">\n       <use xlink:href=\"#DejaVuSans-8722\"/>\n       <use x=\"83.789062\" xlink:href=\"#DejaVuSans-50\"/>\n      </g>\n     </g>\n    </g>\n    <g id=\"ytick_3\">\n     <g id=\"line2d_6\">\n      <g>\n       <use style=\"stroke:#000000;stroke-width:0.8;\" x=\"42.620312\" xlink:href=\"#m2cad8a7781\" y=\"73.407682\"/>\n      </g>\n     </g>\n     <g id=\"text_7\">\n      <!-- −1 -->\n      <g transform=\"translate(20.878125 77.206901)scale(0.1 -0.1)\">\n       <use xlink:href=\"#DejaVuSans-8722\"/>\n       <use x=\"83.789062\" xlink:href=\"#DejaVuSans-49\"/>\n      </g>\n     </g>\n    </g>\n    <g id=\"ytick_4\">\n     <g id=\"line2d_7\">\n      <g>\n       <use style=\"stroke:#000000;stroke-width:0.8;\" x=\"42.620312\" xlink:href=\"#m2cad8a7781\" y=\"38.561523\"/>\n      </g>\n     </g>\n     <g id=\"text_8\">\n      <!-- 0 -->\n      <g transform=\"translate(29.257812 42.360742)scale(0.1 -0.1)\">\n       <use xlink:href=\"#DejaVuSans-48\"/>\n      </g>\n     </g>\n    </g>\n    <g id=\"text_9\">\n     <!-- x2 -->\n     <g transform=\"translate(14.798437 81.290625)rotate(-90)scale(0.1 -0.1)\">\n      <use xlink:href=\"#DejaVuSans-120\"/>\n      <use x=\"59.179688\" xlink:href=\"#DejaVuSans-50\"/>\n     </g>\n    </g>\n   </g>\n   <g id=\"LineCollection_1\"/>\n   <g id=\"LineCollection_2\">\n    <path clip-path=\"url(#p987d547112)\" d=\"M 237.920313 104.627982 \nL 237.38177 104.769258 \nL 234.868748 105.394692 \nL 231.817183 106.064806 \nL 228.765619 106.645572 \nL 225.714055 107.13699 \nL 222.662491 107.539057 \nL 219.610927 107.851777 \nL 216.559364 108.075147 \nL 213.5078 108.209169 \nL 210.456236 108.25384 \nL 207.404672 108.209165 \nL 204.353108 108.075138 \nL 201.301544 107.851761 \nL 198.24998 107.539036 \nL 195.198417 107.136964 \nL 192.146852 106.645542 \nL 189.095287 106.064769 \nL 186.043723 105.394647 \nL 183.530887 104.769258 \nL 182.992158 104.627932 \nL 179.940594 103.733231 \nL 176.889029 102.744349 \nL 173.837464 101.661289 \nL 172.861143 101.284641 \nL 170.7859 100.438302 \nL 167.734335 99.094234 \nL 164.998616 97.800024 \nL 164.68277 97.641549 \nL 161.631206 96.004833 \nL 158.672265 94.315408 \nL 158.579641 94.259112 \nL 155.528077 92.291985 \nL 153.383878 90.830791 \nL 152.476512 90.169809 \nL 149.424947 87.826701 \nL 148.829656 87.346174 \nL 146.373386 85.21657 \nL 144.883218 83.861557 \nL 143.321825 82.328201 \nL 141.423198 80.376941 \nL 140.270264 79.089012 \nL 138.387499 76.892324 \nL 137.218703 75.398774 \nL 135.724167 73.407707 \nL 134.167142 71.115039 \nL 133.389396 69.923091 \nL 131.355016 66.438474 \nL 131.115581 65.97367 \nL 129.618682 62.953857 \nL 128.121686 59.46924 \nL 128.06402 59.310604 \nL 126.898964 55.984624 \nL 125.90027 52.500008 \nL 125.123507 49.015392 \nL 125.012459 48.317954 \nL 124.58425 45.530777 \nL 124.263033 42.046161 \nL 124.155958 38.561545 \nL 124.263029 35.076929 \nL 124.584245 31.592313 \nL 125.012459 28.805102 \nL 125.123502 28.107697 \nL 125.90026 24.623082 \nL 126.898951 21.138466 \nL 128.06402 17.812442 \nL 128.12167 17.65385 \nL 129.618663 14.169233 \nL 131.115581 11.149376 \nL 131.354994 10.684617 \nL 133.389367 7.2 \n\" style=\"fill:none;stroke:#1f77b4;stroke-width:1.5;\"/>\n   </g>\n   <g id=\"LineCollection_3\">\n    <path clip-path=\"url(#p987d547112)\" d=\"M 237.920313 134.578546 \nL 234.868748 135.117076 \nL 231.817183 135.592249 \nL 228.765619 136.004065 \nL 227.655983 136.130775 \nL 225.714055 136.344745 \nL 222.662491 136.619843 \nL 219.610927 136.83381 \nL 216.559364 136.986641 \nL 213.5078 137.07834 \nL 210.456236 137.108905 \nL 207.404672 137.078338 \nL 204.353108 136.986636 \nL 201.301544 136.833798 \nL 198.24998 136.619829 \nL 195.198417 136.344727 \nL 193.25668 136.130775 \nL 192.146852 136.004041 \nL 189.095287 135.592225 \nL 186.043723 135.117046 \nL 182.992158 134.578514 \nL 179.940594 133.976623 \nL 176.889029 133.311377 \nL 174.10295 132.646162 \nL 173.837464 132.580382 \nL 170.7859 131.758533 \nL 167.734335 130.870941 \nL 164.68277 129.9176 \nL 162.418852 129.16155 \nL 161.631206 128.888195 \nL 158.579641 127.76082 \nL 155.528077 126.565115 \nL 153.383878 125.676937 \nL 152.476512 125.285744 \nL 149.424947 123.899007 \nL 146.373386 122.441157 \nL 145.876758 122.192325 \nL 143.321825 120.857717 \nL 140.270264 119.189549 \nL 139.426351 118.707712 \nL 137.218703 117.39122 \nL 134.167142 115.494043 \nL 133.748428 115.2231 \nL 131.115581 113.440187 \nL 128.697488 111.738487 \nL 128.06402 111.270947 \nL 125.012459 108.933704 \nL 124.156 108.253874 \nL 121.960898 106.422119 \nL 120.047314 104.769258 \nL 118.909337 103.733195 \nL 116.308112 101.284641 \nL 115.857776 100.836514 \nL 112.903185 97.800024 \nL 112.806215 97.694327 \nL 109.801692 94.315408 \nL 109.754654 94.259096 \nL 106.976452 90.830791 \nL 106.703093 90.470202 \nL 104.403444 87.346174 \nL 103.651532 86.249054 \nL 102.061357 83.861557 \nL 100.599971 81.491897 \nL 99.931208 80.376941 \nL 98.008301 76.892324 \nL 97.54841 75.979555 \nL 96.28716 73.407707 \nL 94.741034 69.923091 \nL 94.496849 69.308008 \nL 93.387247 66.438474 \nL 92.198326 62.953857 \nL 91.445288 60.407232 \nL 91.174946 59.46924 \nL 90.325144 55.984624 \nL 89.629852 52.500008 \nL 89.089065 49.015392 \nL 88.702791 45.530777 \nL 88.471028 42.046161 \nL 88.393772 38.561545 \nL 88.471028 35.076929 \nL 88.70279 31.592313 \nL 89.089059 28.107697 \nL 89.629844 24.623082 \nL 90.325134 21.138466 \nL 91.174935 17.65385 \nL 91.445288 16.715817 \nL 92.198311 14.169233 \nL 93.387229 10.684617 \nL 94.496849 7.815026 \nL 94.741012 7.2 \n\" style=\"fill:none;stroke:#1f77b4;stroke-width:1.5;\"/>\n   </g>\n   <g id=\"LineCollection_4\">\n    <path clip-path=\"url(#p987d547112)\" d=\"M 135.724151 143.1 \nL 134.167142 142.36169 \nL 131.115581 140.855626 \nL 128.697456 139.615387 \nL 128.06402 139.279104 \nL 125.012459 137.597933 \nL 122.442807 136.130775 \nL 121.960898 135.845621 \nL 118.909337 133.976598 \nL 116.80835 132.646162 \nL 115.857776 132.021503 \nL 112.806215 129.950462 \nL 111.679569 129.16155 \nL 109.754654 127.760808 \nL 106.976452 125.676937 \nL 106.703093 125.463528 \nL 103.651532 123.010073 \nL 102.663081 122.192325 \nL 100.599971 120.412876 \nL 98.677152 118.707712 \nL 97.54841 117.662252 \nL 94.985174 115.2231 \nL 94.496849 114.736801 \nL 91.564251 111.738487 \nL 91.445288 111.610925 \nL 88.393801 108.253874 \nL 88.393727 108.253789 \nL 85.455255 104.769258 \nL 85.342166 104.627905 \nL 82.731861 101.284641 \nL 82.290605 100.687189 \nL 80.208422 97.800024 \nL 79.239044 96.374416 \nL 77.871157 94.315408 \nL 76.187483 91.617552 \nL 75.707517 90.830791 \nL 73.718851 87.346174 \nL 73.135922 86.249076 \nL 71.895223 83.861557 \nL 70.218531 80.376941 \nL 70.084361 80.073851 \nL 68.706275 76.892324 \nL 67.328151 73.407707 \nL 67.0328 72.582299 \nL 66.101304 69.923091 \nL 65.009165 66.438474 \nL 64.045509 62.953857 \nL 63.981239 62.685701 \nL 63.226238 59.46924 \nL 62.534133 55.984624 \nL 61.967863 52.500008 \nL 61.527427 49.015392 \nL 61.212832 45.530777 \nL 61.024077 42.046161 \nL 60.961157 38.561545 \nL 61.024077 35.076929 \nL 61.212832 31.592313 \nL 61.527421 28.107697 \nL 61.967857 24.623082 \nL 62.534121 21.138466 \nL 63.226232 17.65385 \nL 63.981239 14.43734 \nL 64.045497 14.169233 \nL 65.009152 10.684617 \nL 66.10129 7.2 \n\" style=\"fill:none;stroke:#1f77b4;stroke-width:1.5;\"/>\n   </g>\n   <g id=\"LineCollection_5\">\n    <path clip-path=\"url(#p987d547112)\" d=\"M 96.287149 143.1 \nL 94.496849 141.800619 \nL 91.564236 139.615387 \nL 91.445288 139.523644 \nL 88.393727 137.108869 \nL 87.188223 136.130775 \nL 85.342166 134.578495 \nL 83.099501 132.646162 \nL 82.290605 131.922898 \nL 79.274994 129.16155 \nL 79.239044 129.127341 \nL 76.187483 126.155165 \nL 75.707517 125.676937 \nL 73.135922 123.010086 \nL 72.364698 122.192325 \nL 70.084361 119.671494 \nL 69.23128 118.707712 \nL 67.0328 116.113553 \nL 66.29405 115.2231 \nL 63.981239 112.305694 \nL 63.540852 111.738487 \nL 60.961181 108.253874 \nL 60.929678 108.209139 \nL 58.556281 104.769258 \nL 57.878117 103.733231 \nL 56.30705 101.284641 \nL 54.826556 98.845359 \nL 54.204423 97.800024 \nL 52.249047 94.315408 \nL 51.774995 93.416108 \nL 50.438145 90.830791 \nL 48.752514 87.346174 \nL 48.723434 87.281606 \nL 47.21193 83.861557 \nL 45.785964 80.376941 \nL 45.671873 80.073894 \nL 44.496055 76.892324 \nL 43.320222 73.407707 \nL 42.620312 71.115168 \n\" style=\"fill:none;stroke:#1f77b4;stroke-width:1.5;\"/>\n   </g>\n   <g id=\"LineCollection_6\">\n    <path clip-path=\"url(#p987d547112)\" d=\"M 67.328138 143.1 \nL 67.0328 142.834201 \nL 63.981239 140.028792 \nL 63.540834 139.615387 \nL 60.929678 137.078315 \nL 59.974168 136.130775 \nL 57.878117 133.976623 \nL 56.609178 132.646162 \nL 54.826556 130.706591 \nL 53.434114 129.16155 \nL 51.774995 127.248405 \nL 50.438145 125.676937 \nL 48.723434 123.57903 \nL 47.611206 122.192325 \nL 45.671873 119.671508 \nL 44.944002 118.707712 \nL 42.620312 115.494095 \n\" style=\"fill:none;stroke:#1f77b4;stroke-width:1.5;\"/>\n   </g>\n   <g id=\"LineCollection_7\">\n    <path clip-path=\"url(#p987d547112)\" d=\"M 43.320214 143.1 \nL 42.620312 142.361735 \n\" style=\"fill:none;stroke:#1f77b4;stroke-width:1.5;\"/>\n   </g>\n   <g id=\"LineCollection_8\"/>\n   <g id=\"line2d_8\">\n    <path clip-path=\"url(#p987d547112)\" d=\"M 57.878132 108.253841 \nL 86.808499 83.882697 \nL 109.406813 68.088871 \nL 124.360473 57.883863 \nL 140.015629 52.679368 \nL 151.015494 48.311383 \nL 161.859896 45.475836 \nL 170.487415 39.800991 \nL 175.041493 39.964841 \nL 177.432654 35.604366 \nL 183.258421 35.546473 \nL 181.262567 35.023155 \nL 186.131574 37.986924 \nL 189.428378 40.971293 \nL 192.621204 39.631279 \nL 194.747603 39.725716 \nL 199.673162 42.033684 \nL 202.996761 42.917801 \nL 204.382235 45.890717 \nL 204.774157 44.030081 \nL 202.777762 42.777185 \nL 205.396999 45.714843 \nL 206.127129 44.248335 \nL 205.106937 44.271374 \nL 206.061426 43.620047 \nL 208.031481 43.652949 \nL 206.714512 41.594906 \nL 204.318774 40.154699 \nL 206.970492 38.049887 \nL 208.506005 40.217098 \nL 209.650445 40.313579 \nL 209.500659 38.821475 \nL 210.186336 38.260966 \nL 211.529487 37.921724 \nL 210.10353 38.077984 \nL 209.942402 36.605258 \nL 208.866482 36.053095 \nL 210.369416 37.232021 \nL 210.866171 39.453323 \nL 209.964497 39.047245 \nL 209.836385 40.785016 \nL 209.159404 40.853179 \nL 210.08895 38.826472 \nL 209.404636 37.445305 \nL 209.428556 38.2739 \nL 207.21296 38.804913 \nL 208.136373 39.195479 \nL 209.680443 41.293022 \nL 210.53129 38.778831 \nL 210.708174 38.212312 \nL 209.856354 38.692937 \n\" style=\"fill:none;stroke:#ff7f0e;stroke-linecap:square;stroke-width:1.5;\"/>\n    <defs>\n     <path d=\"M 0 3 \nC 0.795609 3 1.55874 2.683901 2.12132 2.12132 \nC 2.683901 1.55874 3 0.795609 3 0 \nC 3 -0.795609 2.683901 -1.55874 2.12132 -2.12132 \nC 1.55874 -2.683901 0.795609 -3 0 -3 \nC -0.795609 -3 -1.55874 -2.683901 -2.12132 -2.12132 \nC -2.683901 -1.55874 -3 -0.795609 -3 0 \nC -3 0.795609 -2.683901 1.55874 -2.12132 2.12132 \nC -1.55874 2.683901 -0.795609 3 0 3 \nz\n\" id=\"mf575e281f3\" style=\"stroke:#ff7f0e;\"/>\n    </defs>\n    <g clip-path=\"url(#p987d547112)\">\n     <use style=\"fill:#ff7f0e;stroke:#ff7f0e;\" x=\"57.878132\" xlink:href=\"#mf575e281f3\" y=\"108.253841\"/>\n     <use style=\"fill:#ff7f0e;stroke:#ff7f0e;\" x=\"86.808499\" xlink:href=\"#mf575e281f3\" y=\"83.882697\"/>\n     <use style=\"fill:#ff7f0e;stroke:#ff7f0e;\" x=\"109.406813\" xlink:href=\"#mf575e281f3\" y=\"68.088871\"/>\n     <use style=\"fill:#ff7f0e;stroke:#ff7f0e;\" x=\"124.360473\" xlink:href=\"#mf575e281f3\" y=\"57.883863\"/>\n     <use style=\"fill:#ff7f0e;stroke:#ff7f0e;\" x=\"140.015629\" xlink:href=\"#mf575e281f3\" y=\"52.679368\"/>\n     <use style=\"fill:#ff7f0e;stroke:#ff7f0e;\" x=\"151.015494\" xlink:href=\"#mf575e281f3\" y=\"48.311383\"/>\n     <use style=\"fill:#ff7f0e;stroke:#ff7f0e;\" x=\"161.859896\" xlink:href=\"#mf575e281f3\" y=\"45.475836\"/>\n     <use style=\"fill:#ff7f0e;stroke:#ff7f0e;\" x=\"170.487415\" xlink:href=\"#mf575e281f3\" y=\"39.800991\"/>\n     <use style=\"fill:#ff7f0e;stroke:#ff7f0e;\" x=\"175.041493\" xlink:href=\"#mf575e281f3\" y=\"39.964841\"/>\n     <use style=\"fill:#ff7f0e;stroke:#ff7f0e;\" x=\"177.432654\" xlink:href=\"#mf575e281f3\" y=\"35.604366\"/>\n     <use style=\"fill:#ff7f0e;stroke:#ff7f0e;\" x=\"183.258421\" xlink:href=\"#mf575e281f3\" y=\"35.546473\"/>\n     <use style=\"fill:#ff7f0e;stroke:#ff7f0e;\" x=\"181.262567\" xlink:href=\"#mf575e281f3\" y=\"35.023155\"/>\n     <use style=\"fill:#ff7f0e;stroke:#ff7f0e;\" x=\"186.131574\" xlink:href=\"#mf575e281f3\" y=\"37.986924\"/>\n     <use style=\"fill:#ff7f0e;stroke:#ff7f0e;\" x=\"189.428378\" xlink:href=\"#mf575e281f3\" y=\"40.971293\"/>\n     <use style=\"fill:#ff7f0e;stroke:#ff7f0e;\" x=\"192.621204\" xlink:href=\"#mf575e281f3\" y=\"39.631279\"/>\n     <use style=\"fill:#ff7f0e;stroke:#ff7f0e;\" x=\"194.747603\" xlink:href=\"#mf575e281f3\" y=\"39.725716\"/>\n     <use style=\"fill:#ff7f0e;stroke:#ff7f0e;\" x=\"199.673162\" xlink:href=\"#mf575e281f3\" y=\"42.033684\"/>\n     <use style=\"fill:#ff7f0e;stroke:#ff7f0e;\" x=\"202.996761\" xlink:href=\"#mf575e281f3\" y=\"42.917801\"/>\n     <use style=\"fill:#ff7f0e;stroke:#ff7f0e;\" x=\"204.382235\" xlink:href=\"#mf575e281f3\" y=\"45.890717\"/>\n     <use style=\"fill:#ff7f0e;stroke:#ff7f0e;\" x=\"204.774157\" xlink:href=\"#mf575e281f3\" y=\"44.030081\"/>\n     <use style=\"fill:#ff7f0e;stroke:#ff7f0e;\" x=\"202.777762\" xlink:href=\"#mf575e281f3\" y=\"42.777185\"/>\n     <use style=\"fill:#ff7f0e;stroke:#ff7f0e;\" x=\"205.396999\" xlink:href=\"#mf575e281f3\" y=\"45.714843\"/>\n     <use style=\"fill:#ff7f0e;stroke:#ff7f0e;\" x=\"206.127129\" xlink:href=\"#mf575e281f3\" y=\"44.248335\"/>\n     <use style=\"fill:#ff7f0e;stroke:#ff7f0e;\" x=\"205.106937\" xlink:href=\"#mf575e281f3\" y=\"44.271374\"/>\n     <use style=\"fill:#ff7f0e;stroke:#ff7f0e;\" x=\"206.061426\" xlink:href=\"#mf575e281f3\" y=\"43.620047\"/>\n     <use style=\"fill:#ff7f0e;stroke:#ff7f0e;\" x=\"208.031481\" xlink:href=\"#mf575e281f3\" y=\"43.652949\"/>\n     <use style=\"fill:#ff7f0e;stroke:#ff7f0e;\" x=\"206.714512\" xlink:href=\"#mf575e281f3\" y=\"41.594906\"/>\n     <use style=\"fill:#ff7f0e;stroke:#ff7f0e;\" x=\"204.318774\" xlink:href=\"#mf575e281f3\" y=\"40.154699\"/>\n     <use style=\"fill:#ff7f0e;stroke:#ff7f0e;\" x=\"206.970492\" xlink:href=\"#mf575e281f3\" y=\"38.049887\"/>\n     <use style=\"fill:#ff7f0e;stroke:#ff7f0e;\" x=\"208.506005\" xlink:href=\"#mf575e281f3\" y=\"40.217098\"/>\n     <use style=\"fill:#ff7f0e;stroke:#ff7f0e;\" x=\"209.650445\" xlink:href=\"#mf575e281f3\" y=\"40.313579\"/>\n     <use style=\"fill:#ff7f0e;stroke:#ff7f0e;\" x=\"209.500659\" xlink:href=\"#mf575e281f3\" y=\"38.821475\"/>\n     <use style=\"fill:#ff7f0e;stroke:#ff7f0e;\" x=\"210.186336\" xlink:href=\"#mf575e281f3\" y=\"38.260966\"/>\n     <use style=\"fill:#ff7f0e;stroke:#ff7f0e;\" x=\"211.529487\" xlink:href=\"#mf575e281f3\" y=\"37.921724\"/>\n     <use style=\"fill:#ff7f0e;stroke:#ff7f0e;\" x=\"210.10353\" xlink:href=\"#mf575e281f3\" y=\"38.077984\"/>\n     <use style=\"fill:#ff7f0e;stroke:#ff7f0e;\" x=\"209.942402\" xlink:href=\"#mf575e281f3\" y=\"36.605258\"/>\n     <use style=\"fill:#ff7f0e;stroke:#ff7f0e;\" x=\"208.866482\" xlink:href=\"#mf575e281f3\" y=\"36.053095\"/>\n     <use style=\"fill:#ff7f0e;stroke:#ff7f0e;\" x=\"210.369416\" xlink:href=\"#mf575e281f3\" y=\"37.232021\"/>\n     <use style=\"fill:#ff7f0e;stroke:#ff7f0e;\" x=\"210.866171\" xlink:href=\"#mf575e281f3\" y=\"39.453323\"/>\n     <use style=\"fill:#ff7f0e;stroke:#ff7f0e;\" x=\"209.964497\" xlink:href=\"#mf575e281f3\" y=\"39.047245\"/>\n     <use style=\"fill:#ff7f0e;stroke:#ff7f0e;\" x=\"209.836385\" xlink:href=\"#mf575e281f3\" y=\"40.785016\"/>\n     <use style=\"fill:#ff7f0e;stroke:#ff7f0e;\" x=\"209.159404\" xlink:href=\"#mf575e281f3\" y=\"40.853179\"/>\n     <use style=\"fill:#ff7f0e;stroke:#ff7f0e;\" x=\"210.08895\" xlink:href=\"#mf575e281f3\" y=\"38.826472\"/>\n     <use style=\"fill:#ff7f0e;stroke:#ff7f0e;\" x=\"209.404636\" xlink:href=\"#mf575e281f3\" y=\"37.445305\"/>\n     <use style=\"fill:#ff7f0e;stroke:#ff7f0e;\" x=\"209.428556\" xlink:href=\"#mf575e281f3\" y=\"38.2739\"/>\n     <use style=\"fill:#ff7f0e;stroke:#ff7f0e;\" x=\"207.21296\" xlink:href=\"#mf575e281f3\" y=\"38.804913\"/>\n     <use style=\"fill:#ff7f0e;stroke:#ff7f0e;\" x=\"208.136373\" xlink:href=\"#mf575e281f3\" y=\"39.195479\"/>\n     <use style=\"fill:#ff7f0e;stroke:#ff7f0e;\" x=\"209.680443\" xlink:href=\"#mf575e281f3\" y=\"41.293022\"/>\n     <use style=\"fill:#ff7f0e;stroke:#ff7f0e;\" x=\"210.53129\" xlink:href=\"#mf575e281f3\" y=\"38.778831\"/>\n     <use style=\"fill:#ff7f0e;stroke:#ff7f0e;\" x=\"210.708174\" xlink:href=\"#mf575e281f3\" y=\"38.212312\"/>\n     <use style=\"fill:#ff7f0e;stroke:#ff7f0e;\" x=\"209.856354\" xlink:href=\"#mf575e281f3\" y=\"38.692937\"/>\n    </g>\n   </g>\n   <g id=\"patch_3\">\n    <path d=\"M 42.620312 143.1 \nL 42.620312 7.2 \n\" style=\"fill:none;stroke:#000000;stroke-linecap:square;stroke-linejoin:miter;stroke-width:0.8;\"/>\n   </g>\n   <g id=\"patch_4\">\n    <path d=\"M 237.920313 143.1 \nL 237.920313 7.2 \n\" style=\"fill:none;stroke:#000000;stroke-linecap:square;stroke-linejoin:miter;stroke-width:0.8;\"/>\n   </g>\n   <g id=\"patch_5\">\n    <path d=\"M 42.620312 143.1 \nL 237.920313 143.1 \n\" style=\"fill:none;stroke:#000000;stroke-linecap:square;stroke-linejoin:miter;stroke-width:0.8;\"/>\n   </g>\n   <g id=\"patch_6\">\n    <path d=\"M 42.620312 7.2 \nL 237.920313 7.2 \n\" style=\"fill:none;stroke:#000000;stroke-linecap:square;stroke-linejoin:miter;stroke-width:0.8;\"/>\n   </g>\n  </g>\n </g>\n <defs>\n  <clipPath id=\"p987d547112\">\n   <rect height=\"135.9\" width=\"195.3\" x=\"42.620312\" y=\"7.2\"/>\n  </clipPath>\n </defs>\n</svg>\n",
      "text/plain": [
       "<Figure size 252x180 with 1 Axes>"
      ]
     },
     "metadata": {
      "needs_background": "light"
     },
     "output_type": "display_data"
    }
   ],
   "source": [
    "def polynomial_lr():\n",
    "    # 在函数外部定义，而在内部更新的全局变量\n",
    "    global t\n",
    "    t += 1\n",
    "    return (1 + 0.1 * t) ** (-0.5)\n",
    "\n",
    "t = 1\n",
    "lr = polynomial_lr\n",
    "d2l.show_trace_2d(f, d2l.train_2d(sgd, steps=50, f_grad=f_grad))"
   ]
  },
  {
   "cell_type": "markdown",
   "metadata": {},
   "source": [
    "关于如何设置学习率，还有更多的选择。例如，我们可以从较小的学习率开始，然后使其迅速上涨，再让它降低，尽管这会更慢。我们甚至可以在较小和较大的学习率之间切换。这样的计划各种各样。现在，让我们专注于可以进行全面理论分析的学习率计划，即凸环境下的学习率。对于一般的非凸问题，很难获得有意义的收敛保证，因为总的来说，最大限度地减少非线性非凸问题是NP困难的。有关的研究调查，请参阅例如2015年Tibshirani的优秀讲义笔记"
   ]
  },
  {
   "cell_type": "markdown",
   "metadata": {},
   "source": [
    "#### 11.4.5. 小结\n",
    "对于凸问题，我们可以证明，对于广泛的学习率选择，随机梯度下降将收敛到最优解。\n",
    "\n",
    "对于深度学习而言，情况通常并非如此。但是，对凸问题的分析使我们能够深入了解如何进行优化，即逐步降低学习率，尽管不是太快。\n",
    "\n",
    "如果学习率太小或太大，就会出现问题。实际上，通常只有经过多次实验后才能找到合适的学习率。\n",
    "\n",
    "当训练数据集中有更多样本时，计算梯度下降的每次迭代的代价更高，因此在这些情况下，首选随机梯度下降。\n",
    "\n",
    "随机梯度下降的最优性保证在非凸情况下一般不可用，因为需要检查的局部最小值的数量可能是指数级的。"
   ]
  },
  {
   "cell_type": "code",
   "execution_count": null,
   "metadata": {},
   "outputs": [],
   "source": []
  }
 ],
 "metadata": {
  "kernelspec": {
   "display_name": "Python 3",
   "language": "python",
   "name": "python3"
  },
  "language_info": {
   "codemirror_mode": {
    "name": "ipython",
    "version": 3
   },
   "file_extension": ".py",
   "mimetype": "text/x-python",
   "name": "python",
   "nbconvert_exporter": "python",
   "pygments_lexer": "ipython3",
   "version": "3.9.5 (default, May  4 2021, 03:33:11) \n[Clang 12.0.0 (clang-1200.0.32.29)]"
  },
  "toc": {
   "base_numbering": 1,
   "nav_menu": {},
   "number_sections": false,
   "sideBar": true,
   "skip_h1_title": false,
   "title_cell": "Table of Contents",
   "title_sidebar": "Contents",
   "toc_cell": true,
   "toc_position": {
    "height": "calc(100% - 180px)",
    "left": "10px",
    "top": "150px",
    "width": "358.391px"
   },
   "toc_section_display": true,
   "toc_window_display": true
  },
  "vscode": {
   "interpreter": {
    "hash": "aee8b7b246df8f9039afb4144a1f6fd8d2ca17a180786b69acc140d282b71a49"
   }
  }
 },
 "nbformat": 4,
 "nbformat_minor": 4
}
