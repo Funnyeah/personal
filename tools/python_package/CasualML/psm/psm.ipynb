{
 "cells": [
  {
   "cell_type": "markdown",
   "metadata": {
    "toc": true
   },
   "source": [
    "<h1>Table of Contents<span class=\"tocSkip\"></span></h1>\n",
    "<div class=\"toc\"><ul class=\"toc-item\"><li><span><a href=\"#特征选择\" data-toc-modified-id=\"特征选择-1\">特征选择</a></span></li><li><span><a href=\"#数据获取\" data-toc-modified-id=\"数据获取-2\">数据获取</a></span></li><li><span><a href=\"#特征处理\" data-toc-modified-id=\"特征处理-3\">特征处理</a></span></li><li><span><a href=\"#标签处理\" data-toc-modified-id=\"标签处理-4\">标签处理</a></span></li><li><span><a href=\"#模型训练\" data-toc-modified-id=\"模型训练-5\">模型训练</a></span><ul class=\"toc-item\"><li><span><a href=\"#独占城市模型训练\" data-toc-modified-id=\"独占城市模型训练-5.1\">独占城市模型训练</a></span></li><li><span><a href=\"#竞争城市模型训练\" data-toc-modified-id=\"竞争城市模型训练-5.2\">竞争城市模型训练</a></span></li><li><span><a href=\"#交叉lr模型（单机未用）\" data-toc-modified-id=\"交叉lr模型（单机未用）-5.3\">交叉lr模型（单机未用）</a></span></li></ul></li><li><span><a href=\"#模型评估\" data-toc-modified-id=\"模型评估-6\">模型评估</a></span></li><li><span><a href=\"#参考\" data-toc-modified-id=\"参考-7\">参考</a></span></li></ul></div>"
   ]
  },
  {
   "cell_type": "code",
   "execution_count": 4,
   "metadata": {
    "ExecuteTime": {
     "end_time": "2023-05-10T02:07:08.088531Z",
     "start_time": "2023-05-10T02:07:06.679043Z"
    }
   },
   "outputs": [
    {
     "name": "stderr",
     "output_type": "stream",
     "text": [
      "/home/ai.liuxuanheng/.local/lib/python3.6/site-packages/pandas/compat/__init__.py:85: UserWarning: Could not import the lzma module. Your installed Python is incomplete. Attempting to use lzma compression will result in a RuntimeError.\n",
      "  warnings.warn(msg)\n",
      "/home/ai.liuxuanheng/.local/lib/python3.6/site-packages/pandas/compat/__init__.py:85: UserWarning: Could not import the lzma module. Your installed Python is incomplete. Attempting to use lzma compression will result in a RuntimeError.\n",
      "  warnings.warn(msg)\n"
     ]
    }
   ],
   "source": [
    "import os\n",
    "import re\n",
    "import time\n",
    "import warnings\n",
    "import pandas as pd\n",
    "import numpy as np\n",
    "from sklearn.preprocessing import LabelEncoder\n",
    "from causalml.match import NearestNeighborMatch, MatchOptimizer, create_table_one\n",
    "from causalml.propensity import ElasticNetPropensityModel\n",
    "warnings.filterwarnings('ignore')"
   ]
  },
  {
   "cell_type": "markdown",
   "metadata": {},
   "source": [
    "\n",
    "### 特征选择\n",
    "- 买卡后影响的需过滤的特征：订单、卡、收入相关特征\n",
    "- 同时影响是否买卡和gmv的特征：\n",
    "    - dws.dws_pt_user_picture_mild_summary_da： 年龄、性别、注册年份、注册月份、注册日份、注册周几、is_certified（是否实名）、province_id、city_id\n",
    "    - dim.dim_user_info_df： bank_card（是否绑银行卡）、client_type（登陆应用类型）、是否输身份证号\n",
    "    - ads.ads_it_user_picture_da： phone（是否绑手机号）、openid（是否绑微信号）、sys_ver、brand（手机系统、品牌）、active_count_180d（近180天打开应用次数）、service_type（1 免密支付 2 自动续费 null）\n",
    "    - 城市信息：竞争情况、车辆、车效"
   ]
  },
  {
   "cell_type": "markdown",
   "metadata": {},
   "source": [
    "### 数据获取"
   ]
  },
  {
   "cell_type": "code",
   "execution_count": null,
   "metadata": {},
   "outputs": [],
   "source": [
    "df = get_df_from_csv_table(query_presto(f\"\"\"\n",
    "with t1 as (\n",
    "select \n",
    " gender -- 性别,0未知,1男,2女 \n",
    ",age -- 年龄 \n",
    ",user_id -- 用户id \n",
    ",city_id -- 用户所在城市ID \n",
    ",year(register_time) y -- 注册时间 年\n",
    ",month(register_time) m -- 注册时间 月\n",
    ",day(register_time) d -- 注册时间 日\n",
    ",case mod( date_diff('day',cast('2010-02-01' as date), register_time),7)\n",
    "    when 0 then 1\n",
    "    when 1 then 2\n",
    "    when 2 then 3\n",
    "    when 3 then 4\n",
    "    when 4 then 5\n",
    "    when 5 then 6\n",
    "    when 6 then 7\n",
    "  end AS day_of_week\n",
    ",is_certified -- 是否实名认证 \n",
    ",province_id -- 用户所在省份id \n",
    ",event_day -- 日期\n",
    "from dws.dws_pt_user_picture_mild_summary_da -- 用户画像轻度汇总表表\n",
    "where 1=1 \n",
    "and event_day BETWEEN '{start}' and '{end}'  \n",
    "and order_cnt_d>0\n",
    "-- order by rand()\n",
    "-- limit 50000\n",
    "),\n",
    "t2 as (\n",
    " select \n",
    " user_id uid2-- 用户id \n",
    ",if(idcard='unknow',0,1) is_idcard -- 是否注册身份证号 \n",
    ",if(bank_card='unknow',0,1) is_bank_card -- 银行卡卡号 \n",
    ",client_type -- 用户登录类型 Android,ios,Web,Web-1:邀请好友活动,Web-2运营活动,Web-3女神活动,WxMP:微信小程序 \n",
    ",event_day e2-- 操作日期 \n",
    "from dim.dim_user_info_df -- 用户信息维度表\n",
    "where 1=1 \n",
    "and event_day BETWEEN '{start}' and '{end}'   \n",
    "-- limit 100\n",
    "),\n",
    "t3 as (\n",
    " select \n",
    " user_id uid3-- 用户id \n",
    ",mobile -- 手机号 \n",
    ",if(openid is null,0,1) is_openid -- 是否绑定微信号 \n",
    ",sys_ver -- 手机系统 \n",
    ",brand -- 品牌 \n",
    ",active_count_180d -- 近180日打开应用次数 \n",
    ",service_type -- 微信支付授权类型：1 免密支付  2 自动续费 \n",
    ",op_mode -- 运营模式：1 直营，2 代理 \n",
    ",is_open_wepay_score -- 是否开通过微信支付分 1开通过 0 未开通过 \n",
    ",event_day e3-- 日期\n",
    "from ads.ads_it_user_picture_da --  用户画像标签\n",
    "where 1=1 \n",
    "and event_day BETWEEN '{start}' and '{end}'   \n",
    "-- limit 100\n",
    " ),\n",
    " t4 as (\n",
    " select \n",
    " city_id city_id2-- 城市id \n",
    ",city_comp_type -- 城市竞争类型 \n",
    ",real_input_bike_cnt_d -- 当日实际投放车辆数 \n",
    ",useable_bike_cnt_d -- 当日可用车辆数 \n",
    ",used_bike_cnt_d -- 当日使用车辆数 \n",
    ",bike_valid_d -- 当日车效 \n",
    ",move_bike_valid_d -- 当日动车效 \n",
    ",event_day e4-- yyyyMMdd \n",
    "from ads.ads_bi_ci_bike_supply_analysis_da -- 城市经营-供给分析，city_id粒度\n",
    "where 1=1 \n",
    "and event_day BETWEEN '{start}' and '{end}'   \n",
    "-- limit 100\n",
    " )\n",
    "\n",
    "select *\n",
    "\n",
    "from t1 \n",
    "    join t2 on t1.user_id = t2.uid2 and t1.event_day=t2.e2\n",
    "    join t3 on t1.user_id = t3.uid3 and t1.event_day=t3.e3\n",
    "    join t4 on t1.city_id = t4.city_id2 and t1.event_day=t4.e4\n",
    "\n",
    "\"\"\"))"
   ]
  },
  {
   "cell_type": "code",
   "execution_count": 3,
   "metadata": {
    "ExecuteTime": {
     "end_time": "2023-05-09T06:59:58.731520Z",
     "start_time": "2023-05-09T06:59:18.275848Z"
    }
   },
   "outputs": [
    {
     "name": "stdout",
     "output_type": "stream",
     "text": [
      "(7470112, 48)\n"
     ]
    },
    {
     "data": {
      "text/html": [
       "<div>\n",
       "<style scoped>\n",
       "    .dataframe tbody tr th:only-of-type {\n",
       "        vertical-align: middle;\n",
       "    }\n",
       "\n",
       "    .dataframe tbody tr th {\n",
       "        vertical-align: top;\n",
       "    }\n",
       "\n",
       "    .dataframe thead th {\n",
       "        text-align: right;\n",
       "    }\n",
       "</style>\n",
       "<table border=\"1\" class=\"dataframe\">\n",
       "  <thead>\n",
       "    <tr style=\"text-align: right;\">\n",
       "      <th></th>\n",
       "      <th>Unnamed: 0</th>\n",
       "      <th>gender</th>\n",
       "      <th>age</th>\n",
       "      <th>user_id</th>\n",
       "      <th>city_id</th>\n",
       "      <th>y</th>\n",
       "      <th>m</th>\n",
       "      <th>d</th>\n",
       "      <th>day_of_week</th>\n",
       "      <th>is_certified</th>\n",
       "      <th>...</th>\n",
       "      <th>is_open_wepay_score</th>\n",
       "      <th>e3</th>\n",
       "      <th>city_id2</th>\n",
       "      <th>city_comp_type</th>\n",
       "      <th>real_input_bike_cnt_d</th>\n",
       "      <th>useable_bike_cnt_d</th>\n",
       "      <th>used_bike_cnt_d</th>\n",
       "      <th>bike_valid_d</th>\n",
       "      <th>move_bike_valid_d</th>\n",
       "      <th>e4</th>\n",
       "    </tr>\n",
       "  </thead>\n",
       "  <tbody>\n",
       "    <tr>\n",
       "      <th>0</th>\n",
       "      <td>0</td>\n",
       "      <td>2</td>\n",
       "      <td>49</td>\n",
       "      <td>2105688</td>\n",
       "      <td>98</td>\n",
       "      <td>2018</td>\n",
       "      <td>7</td>\n",
       "      <td>21</td>\n",
       "      <td>6</td>\n",
       "      <td>1</td>\n",
       "      <td>...</td>\n",
       "      <td>1</td>\n",
       "      <td>20230106</td>\n",
       "      <td>98</td>\n",
       "      <td>两者都有</td>\n",
       "      <td>1400.0</td>\n",
       "      <td>1395.0</td>\n",
       "      <td>737.0</td>\n",
       "      <td>1.7857</td>\n",
       "      <td>3.3921</td>\n",
       "      <td>20230106</td>\n",
       "    </tr>\n",
       "    <tr>\n",
       "      <th>1</th>\n",
       "      <td>1</td>\n",
       "      <td>2</td>\n",
       "      <td>34</td>\n",
       "      <td>2283602</td>\n",
       "      <td>98</td>\n",
       "      <td>2018</td>\n",
       "      <td>8</td>\n",
       "      <td>6</td>\n",
       "      <td>1</td>\n",
       "      <td>1</td>\n",
       "      <td>...</td>\n",
       "      <td>1</td>\n",
       "      <td>20230106</td>\n",
       "      <td>98</td>\n",
       "      <td>两者都有</td>\n",
       "      <td>1400.0</td>\n",
       "      <td>1395.0</td>\n",
       "      <td>737.0</td>\n",
       "      <td>1.7857</td>\n",
       "      <td>3.3921</td>\n",
       "      <td>20230106</td>\n",
       "    </tr>\n",
       "    <tr>\n",
       "      <th>2</th>\n",
       "      <td>2</td>\n",
       "      <td>2</td>\n",
       "      <td>22</td>\n",
       "      <td>2852363</td>\n",
       "      <td>98</td>\n",
       "      <td>2018</td>\n",
       "      <td>9</td>\n",
       "      <td>23</td>\n",
       "      <td>7</td>\n",
       "      <td>1</td>\n",
       "      <td>...</td>\n",
       "      <td>1</td>\n",
       "      <td>20230106</td>\n",
       "      <td>98</td>\n",
       "      <td>两者都有</td>\n",
       "      <td>1400.0</td>\n",
       "      <td>1395.0</td>\n",
       "      <td>737.0</td>\n",
       "      <td>1.7857</td>\n",
       "      <td>3.3921</td>\n",
       "      <td>20230106</td>\n",
       "    </tr>\n",
       "    <tr>\n",
       "      <th>3</th>\n",
       "      <td>3</td>\n",
       "      <td>1</td>\n",
       "      <td>48</td>\n",
       "      <td>54167274</td>\n",
       "      <td>98</td>\n",
       "      <td>2021</td>\n",
       "      <td>6</td>\n",
       "      <td>5</td>\n",
       "      <td>6</td>\n",
       "      <td>1</td>\n",
       "      <td>...</td>\n",
       "      <td>0</td>\n",
       "      <td>20230106</td>\n",
       "      <td>98</td>\n",
       "      <td>两者都有</td>\n",
       "      <td>1400.0</td>\n",
       "      <td>1395.0</td>\n",
       "      <td>737.0</td>\n",
       "      <td>1.7857</td>\n",
       "      <td>3.3921</td>\n",
       "      <td>20230106</td>\n",
       "    </tr>\n",
       "    <tr>\n",
       "      <th>4</th>\n",
       "      <td>4</td>\n",
       "      <td>2</td>\n",
       "      <td>48</td>\n",
       "      <td>56526458</td>\n",
       "      <td>98</td>\n",
       "      <td>2021</td>\n",
       "      <td>6</td>\n",
       "      <td>28</td>\n",
       "      <td>1</td>\n",
       "      <td>1</td>\n",
       "      <td>...</td>\n",
       "      <td>0</td>\n",
       "      <td>20230106</td>\n",
       "      <td>98</td>\n",
       "      <td>两者都有</td>\n",
       "      <td>1400.0</td>\n",
       "      <td>1395.0</td>\n",
       "      <td>737.0</td>\n",
       "      <td>1.7857</td>\n",
       "      <td>3.3921</td>\n",
       "      <td>20230106</td>\n",
       "    </tr>\n",
       "  </tbody>\n",
       "</table>\n",
       "<p>5 rows × 48 columns</p>\n",
       "</div>"
      ],
      "text/plain": [
       "   Unnamed: 0  gender  age   user_id  city_id     y  m   d  day_of_week  \\\n",
       "0           0       2   49   2105688       98  2018  7  21            6   \n",
       "1           1       2   34   2283602       98  2018  8   6            1   \n",
       "2           2       2   22   2852363       98  2018  9  23            7   \n",
       "3           3       1   48  54167274       98  2021  6   5            6   \n",
       "4           4       2   48  56526458       98  2021  6  28            1   \n",
       "\n",
       "   is_certified  ...  is_open_wepay_score        e3  city_id2 city_comp_type  \\\n",
       "0             1  ...                    1  20230106        98           两者都有   \n",
       "1             1  ...                    1  20230106        98           两者都有   \n",
       "2             1  ...                    1  20230106        98           两者都有   \n",
       "3             1  ...                    0  20230106        98           两者都有   \n",
       "4             1  ...                    0  20230106        98           两者都有   \n",
       "\n",
       "   real_input_bike_cnt_d  useable_bike_cnt_d  used_bike_cnt_d  bike_valid_d  \\\n",
       "0                 1400.0              1395.0            737.0        1.7857   \n",
       "1                 1400.0              1395.0            737.0        1.7857   \n",
       "2                 1400.0              1395.0            737.0        1.7857   \n",
       "3                 1400.0              1395.0            737.0        1.7857   \n",
       "4                 1400.0              1395.0            737.0        1.7857   \n",
       "\n",
       "   move_bike_valid_d        e4  \n",
       "0             3.3921  20230106  \n",
       "1             3.3921  20230106  \n",
       "2             3.3921  20230106  \n",
       "3             3.3921  20230106  \n",
       "4             3.3921  20230106  \n",
       "\n",
       "[5 rows x 48 columns]"
      ]
     },
     "execution_count": 3,
     "metadata": {},
     "output_type": "execute_result"
    }
   ],
   "source": [
    "user_df = pd.read_csv('user_matching_feature.csv')\n",
    "print(user_df.shape)\n",
    "user_df.head()"
   ]
  },
  {
   "cell_type": "code",
   "execution_count": 4,
   "metadata": {
    "ExecuteTime": {
     "end_time": "2023-05-09T06:59:58.739057Z",
     "start_time": "2023-05-09T06:59:58.734062Z"
    }
   },
   "outputs": [
    {
     "data": {
      "text/plain": [
       "Index(['Unnamed: 0', 'gender', 'age', 'user_id', 'city_id', 'y', 'm', 'd',\n",
       "       'day_of_week', 'is_certified', 'province_id', 'event_day', 'uid4',\n",
       "       'user_flag', 'flag_start_date', 'flag_end_date', 'arpu_start_date',\n",
       "       'arpu_end_date', 'gmv', 'buy_ride_card_amt',\n",
       "       'ride_order_should_pay_amt', 'buy_ride_card_cnt', 'order_cnt',\n",
       "       'coupon_cnt', 'e5', 'uid2', 'is_idcard', 'is_bank_card', 'client_type',\n",
       "       'e2', 'uid3', 'mobile', 'is_openid', 'sys_ver', 'brand',\n",
       "       'active_count_180d', 'service_type', 'op_mode', 'is_open_wepay_score',\n",
       "       'e3', 'city_id2', 'city_comp_type', 'real_input_bike_cnt_d',\n",
       "       'useable_bike_cnt_d', 'used_bike_cnt_d', 'bike_valid_d',\n",
       "       'move_bike_valid_d', 'e4'],\n",
       "      dtype='object')"
      ]
     },
     "execution_count": 4,
     "metadata": {},
     "output_type": "execute_result"
    }
   ],
   "source": [
    "user_df.columns"
   ]
  },
  {
   "cell_type": "markdown",
   "metadata": {},
   "source": [
    "### 特征处理"
   ]
  },
  {
   "cell_type": "code",
   "execution_count": 5,
   "metadata": {
    "ExecuteTime": {
     "end_time": "2023-05-09T07:03:13.256967Z",
     "start_time": "2023-05-09T06:59:58.741056Z"
    }
   },
   "outputs": [],
   "source": [
    "def get_sys(x):\n",
    "    try:\n",
    "        return 'ios' if re.search(r'iOS', x, re.IGNORECASE) else 'android'\n",
    "    except:\n",
    "        return 'android'\n",
    "user_df['re_sys_ver'] = user_df.sys_ver.map(lambda x:get_sys(x))\n",
    "\n",
    "user_df['re_active_count_180d']=pd.qcut(user_df.active_count_180d,30)\n",
    "\n",
    "values = {'real_input_bike_cnt_d': -1, 'useable_bike_cnt_d': -1, 'used_bike_cnt_d': -1, 'bike_valid_d': -1, 'move_bike_valid_d': -1}\n",
    "user_df.fillna(value=values,inplace=True) \n",
    "\n",
    "user_df['re_real_input_bike_cnt_d']=pd.qcut(user_df.real_input_bike_cnt_d,10)\n",
    "user_df['re_useable_bike_cnt_d']=pd.qcut(user_df.useable_bike_cnt_d,10)\n",
    "user_df['re_used_bike_cnt_d']=pd.qcut(user_df.used_bike_cnt_d,10)\n",
    "user_df['re_bike_valid_d']=pd.qcut(user_df.bike_valid_d,10)\n",
    "user_df['re_move_bike_valid_d']=pd.qcut(user_df.move_bike_valid_d,10)\n",
    "\n",
    "user_df['re_city_comp_type'] = user_df.city_comp_type.map(lambda x:1 if re.search('松果',x) else 0)\n",
    "\n",
    "\n",
    "category_needX_cols = ['age','city_id','y','province_id','client_type',\\\n",
    "                       're_sys_ver','re_active_count_180d','service_type',\\\n",
    "                      'op_mode','re_real_input_bike_cnt_d','re_useable_bike_cnt_d',\\\n",
    "                       're_used_bike_cnt_d','re_bike_valid_d','re_move_bike_valid_d']\n",
    "category_No_needX_cols = ['gender','m','d','day_of_week','is_certified',\\\n",
    "                         'is_idcard','is_bank_card','is_openid','is_open_wepay_score',\\\n",
    "                        're_city_comp_type']\n",
    "\n",
    "user_df[category_needX_cols+category_No_needX_cols]\n",
    "\n",
    "from sklearn.preprocessing import LabelEncoder\n",
    "\n",
    "for feature in category_needX_cols:\n",
    "    lbe = LabelEncoder()\n",
    "    user_df[feature] = lbe.fit_transform(user_df[feature])"
   ]
  },
  {
   "cell_type": "markdown",
   "metadata": {},
   "source": [
    "### 标签处理\n",
    "- 持卡核销>0为正例，持卡核销>0.5为正例？\n",
    "- 区分竞争和独占城市训练模型"
   ]
  },
  {
   "cell_type": "code",
   "execution_count": 6,
   "metadata": {
    "ExecuteTime": {
     "end_time": "2023-05-09T07:03:15.901261Z",
     "start_time": "2023-05-09T07:03:13.259677Z"
    }
   },
   "outputs": [],
   "source": [
    "user_df['use_card_ride_ratio'] = user_df.coupon_cnt/user_df.order_cnt\n",
    "user_df['label'] = user_df.use_card_ride_ratio.map(lambda x:1 if x>0. else 0)"
   ]
  },
  {
   "cell_type": "code",
   "execution_count": 7,
   "metadata": {
    "ExecuteTime": {
     "end_time": "2023-05-09T07:03:16.015183Z",
     "start_time": "2023-05-09T07:03:15.903499Z"
    }
   },
   "outputs": [
    {
     "data": {
      "text/plain": [
       "0    5927390\n",
       "1    1542722\n",
       "Name: label, dtype: int64"
      ]
     },
     "execution_count": 7,
     "metadata": {},
     "output_type": "execute_result"
    }
   ],
   "source": [
    "user_df.label.value_counts()"
   ]
  },
  {
   "cell_type": "code",
   "execution_count": 8,
   "metadata": {
    "ExecuteTime": {
     "end_time": "2023-05-09T07:03:30.022420Z",
     "start_time": "2023-05-09T07:03:29.892231Z"
    }
   },
   "outputs": [
    {
     "data": {
      "text/plain": [
       "0    4361335\n",
       "1    3108777\n",
       "Name: re_city_comp_type, dtype: int64"
      ]
     },
     "execution_count": 8,
     "metadata": {},
     "output_type": "execute_result"
    }
   ],
   "source": [
    "user_df.re_city_comp_type.value_counts()"
   ]
  },
  {
   "cell_type": "code",
   "execution_count": 9,
   "metadata": {
    "ExecuteTime": {
     "end_time": "2023-05-09T07:06:25.234327Z",
     "start_time": "2023-05-09T07:06:14.714089Z"
    }
   },
   "outputs": [
    {
     "data": {
      "text/plain": [
       "0    2498257\n",
       "1     610520\n",
       "Name: label, dtype: int64"
      ]
     },
     "execution_count": 9,
     "metadata": {},
     "output_type": "execute_result"
    }
   ],
   "source": [
    "# 独占城市样本\n",
    "single_df = user_df[user_df.re_city_comp_type==1]\n",
    "single_df.label.value_counts()"
   ]
  },
  {
   "cell_type": "code",
   "execution_count": 10,
   "metadata": {
    "ExecuteTime": {
     "end_time": "2023-05-09T07:06:48.790279Z",
     "start_time": "2023-05-09T07:06:46.638818Z"
    }
   },
   "outputs": [
    {
     "data": {
      "text/plain": [
       "0    3429133\n",
       "1     932202\n",
       "Name: label, dtype: int64"
      ]
     },
     "execution_count": 10,
     "metadata": {},
     "output_type": "execute_result"
    }
   ],
   "source": [
    "# 竞争城市样本\n",
    "battle_df = user_df[user_df.re_city_comp_type==0]\n",
    "battle_df.label.value_counts()"
   ]
  },
  {
   "cell_type": "markdown",
   "metadata": {},
   "source": [
    "### 模型训练\n",
    "- causalml使用带交叉验证的lr，单机训练过慢，采用普通lr"
   ]
  },
  {
   "cell_type": "code",
   "execution_count": 11,
   "metadata": {
    "ExecuteTime": {
     "end_time": "2023-05-09T07:08:37.618531Z",
     "start_time": "2023-05-09T07:08:37.614725Z"
    }
   },
   "outputs": [],
   "source": [
    "from sklearn.linear_model import LogisticRegressionCV,LogisticRegression"
   ]
  },
  {
   "cell_type": "markdown",
   "metadata": {},
   "source": [
    "#### 独占城市模型训练"
   ]
  },
  {
   "cell_type": "code",
   "execution_count": 18,
   "metadata": {
    "ExecuteTime": {
     "end_time": "2023-05-09T07:13:59.712834Z",
     "start_time": "2023-05-09T07:13:59.709162Z"
    }
   },
   "outputs": [],
   "source": [
    "# 独占\n",
    "kwargs = {\n",
    "    \"penalty\": \"elasticnet\",\n",
    "    \"solver\": \"saga\",\n",
    "    \"C\": 1.,\n",
    "    \"l1_ratio\": 1e-3,\n",
    "    \"random_state\": 42,\n",
    "}\n",
    "lr = LogisticRegression(**kwargs)"
   ]
  },
  {
   "cell_type": "code",
   "execution_count": 19,
   "metadata": {
    "ExecuteTime": {
     "end_time": "2023-05-09T07:16:35.973702Z",
     "start_time": "2023-05-09T07:16:35.342350Z"
    }
   },
   "outputs": [],
   "source": [
    "single_train_X = single_df[category_needX_cols+category_No_needX_cols]\n",
    "single_train_Y = single_df['label']"
   ]
  },
  {
   "cell_type": "code",
   "execution_count": 20,
   "metadata": {
    "ExecuteTime": {
     "end_time": "2023-05-09T07:24:34.385154Z",
     "start_time": "2023-05-09T07:16:36.772044Z"
    }
   },
   "outputs": [
    {
     "data": {
      "text/plain": [
       "LogisticRegression(l1_ratio=0.001, penalty='elasticnet', random_state=42,\n",
       "                   solver='saga')"
      ]
     },
     "execution_count": 20,
     "metadata": {},
     "output_type": "execute_result"
    }
   ],
   "source": [
    "lr.fit(single_train_X,single_train_Y)"
   ]
  },
  {
   "cell_type": "markdown",
   "metadata": {
    "ExecuteTime": {
     "end_time": "2023-07-14T07:13:53.438582Z",
     "start_time": "2023-07-14T07:13:53.433348Z"
    }
   },
   "source": [
    "- 概率预测，即倾向分"
   ]
  },
  {
   "cell_type": "code",
   "execution_count": 22,
   "metadata": {
    "ExecuteTime": {
     "end_time": "2023-05-09T07:25:39.178777Z",
     "start_time": "2023-05-09T07:25:38.215230Z"
    }
   },
   "outputs": [
    {
     "data": {
      "text/plain": [
       "array([[0.68360859, 0.31639141],\n",
       "       [0.66121132, 0.33878868],\n",
       "       [0.77676088, 0.22323912],\n",
       "       ...,\n",
       "       [0.77349984, 0.22650016],\n",
       "       [0.80130999, 0.19869001],\n",
       "       [0.75082972, 0.24917028]])"
      ]
     },
     "execution_count": 22,
     "metadata": {},
     "output_type": "execute_result"
    }
   ],
   "source": [
    "lr.predict_proba(single_train_X)"
   ]
  },
  {
   "cell_type": "code",
   "execution_count": 28,
   "metadata": {
    "ExecuteTime": {
     "end_time": "2023-05-09T07:30:59.711155Z",
     "start_time": "2023-05-09T07:30:58.626108Z"
    }
   },
   "outputs": [],
   "source": [
    "single_df['p_score'] = lr.predict_proba(single_train_X)[:,1]"
   ]
  },
  {
   "cell_type": "code",
   "execution_count": 29,
   "metadata": {
    "ExecuteTime": {
     "end_time": "2023-05-09T07:31:01.172913Z",
     "start_time": "2023-05-09T07:31:01.151147Z"
    },
    "scrolled": false
   },
   "outputs": [
    {
     "data": {
      "text/html": [
       "<div>\n",
       "<style scoped>\n",
       "    .dataframe tbody tr th:only-of-type {\n",
       "        vertical-align: middle;\n",
       "    }\n",
       "\n",
       "    .dataframe tbody tr th {\n",
       "        vertical-align: top;\n",
       "    }\n",
       "\n",
       "    .dataframe thead th {\n",
       "        text-align: right;\n",
       "    }\n",
       "</style>\n",
       "<table border=\"1\" class=\"dataframe\">\n",
       "  <thead>\n",
       "    <tr style=\"text-align: right;\">\n",
       "      <th></th>\n",
       "      <th>Unnamed: 0</th>\n",
       "      <th>gender</th>\n",
       "      <th>age</th>\n",
       "      <th>user_id</th>\n",
       "      <th>city_id</th>\n",
       "      <th>y</th>\n",
       "      <th>m</th>\n",
       "      <th>d</th>\n",
       "      <th>day_of_week</th>\n",
       "      <th>is_certified</th>\n",
       "      <th>...</th>\n",
       "      <th>re_active_count_180d</th>\n",
       "      <th>re_real_input_bike_cnt_d</th>\n",
       "      <th>re_useable_bike_cnt_d</th>\n",
       "      <th>re_used_bike_cnt_d</th>\n",
       "      <th>re_bike_valid_d</th>\n",
       "      <th>re_move_bike_valid_d</th>\n",
       "      <th>re_city_comp_type</th>\n",
       "      <th>use_card_ride_ratio</th>\n",
       "      <th>label</th>\n",
       "      <th>p_score</th>\n",
       "    </tr>\n",
       "  </thead>\n",
       "  <tbody>\n",
       "    <tr>\n",
       "      <th>5984</th>\n",
       "      <td>5984</td>\n",
       "      <td>1</td>\n",
       "      <td>25</td>\n",
       "      <td>26595960</td>\n",
       "      <td>217</td>\n",
       "      <td>3</td>\n",
       "      <td>6</td>\n",
       "      <td>3</td>\n",
       "      <td>3</td>\n",
       "      <td>1</td>\n",
       "      <td>...</td>\n",
       "      <td>14</td>\n",
       "      <td>2</td>\n",
       "      <td>2</td>\n",
       "      <td>1</td>\n",
       "      <td>0</td>\n",
       "      <td>1</td>\n",
       "      <td>1</td>\n",
       "      <td>0.0</td>\n",
       "      <td>0</td>\n",
       "      <td>0.316391</td>\n",
       "    </tr>\n",
       "    <tr>\n",
       "      <th>5985</th>\n",
       "      <td>5985</td>\n",
       "      <td>2</td>\n",
       "      <td>10</td>\n",
       "      <td>24144842</td>\n",
       "      <td>217</td>\n",
       "      <td>3</td>\n",
       "      <td>5</td>\n",
       "      <td>4</td>\n",
       "      <td>1</td>\n",
       "      <td>1</td>\n",
       "      <td>...</td>\n",
       "      <td>0</td>\n",
       "      <td>2</td>\n",
       "      <td>2</td>\n",
       "      <td>1</td>\n",
       "      <td>0</td>\n",
       "      <td>1</td>\n",
       "      <td>1</td>\n",
       "      <td>0.0</td>\n",
       "      <td>0</td>\n",
       "      <td>0.338789</td>\n",
       "    </tr>\n",
       "    <tr>\n",
       "      <th>5986</th>\n",
       "      <td>5986</td>\n",
       "      <td>2</td>\n",
       "      <td>16</td>\n",
       "      <td>24334289</td>\n",
       "      <td>217</td>\n",
       "      <td>3</td>\n",
       "      <td>5</td>\n",
       "      <td>6</td>\n",
       "      <td>3</td>\n",
       "      <td>1</td>\n",
       "      <td>...</td>\n",
       "      <td>19</td>\n",
       "      <td>2</td>\n",
       "      <td>2</td>\n",
       "      <td>1</td>\n",
       "      <td>0</td>\n",
       "      <td>1</td>\n",
       "      <td>1</td>\n",
       "      <td>0.0</td>\n",
       "      <td>0</td>\n",
       "      <td>0.223239</td>\n",
       "    </tr>\n",
       "    <tr>\n",
       "      <th>5987</th>\n",
       "      <td>5987</td>\n",
       "      <td>1</td>\n",
       "      <td>27</td>\n",
       "      <td>79090240</td>\n",
       "      <td>217</td>\n",
       "      <td>5</td>\n",
       "      <td>7</td>\n",
       "      <td>22</td>\n",
       "      <td>5</td>\n",
       "      <td>1</td>\n",
       "      <td>...</td>\n",
       "      <td>21</td>\n",
       "      <td>2</td>\n",
       "      <td>2</td>\n",
       "      <td>1</td>\n",
       "      <td>0</td>\n",
       "      <td>1</td>\n",
       "      <td>1</td>\n",
       "      <td>0.0</td>\n",
       "      <td>0</td>\n",
       "      <td>0.287421</td>\n",
       "    </tr>\n",
       "    <tr>\n",
       "      <th>5988</th>\n",
       "      <td>5988</td>\n",
       "      <td>2</td>\n",
       "      <td>18</td>\n",
       "      <td>26249232</td>\n",
       "      <td>217</td>\n",
       "      <td>3</td>\n",
       "      <td>5</td>\n",
       "      <td>30</td>\n",
       "      <td>6</td>\n",
       "      <td>1</td>\n",
       "      <td>...</td>\n",
       "      <td>11</td>\n",
       "      <td>2</td>\n",
       "      <td>2</td>\n",
       "      <td>1</td>\n",
       "      <td>0</td>\n",
       "      <td>1</td>\n",
       "      <td>1</td>\n",
       "      <td>0.0</td>\n",
       "      <td>0</td>\n",
       "      <td>0.285087</td>\n",
       "    </tr>\n",
       "  </tbody>\n",
       "</table>\n",
       "<p>5 rows × 59 columns</p>\n",
       "</div>"
      ],
      "text/plain": [
       "      Unnamed: 0  gender  age   user_id  city_id  y  m   d  day_of_week  \\\n",
       "5984        5984       1   25  26595960      217  3  6   3            3   \n",
       "5985        5985       2   10  24144842      217  3  5   4            1   \n",
       "5986        5986       2   16  24334289      217  3  5   6            3   \n",
       "5987        5987       1   27  79090240      217  5  7  22            5   \n",
       "5988        5988       2   18  26249232      217  3  5  30            6   \n",
       "\n",
       "      is_certified  ...  re_active_count_180d  re_real_input_bike_cnt_d  \\\n",
       "5984             1  ...                    14                         2   \n",
       "5985             1  ...                     0                         2   \n",
       "5986             1  ...                    19                         2   \n",
       "5987             1  ...                    21                         2   \n",
       "5988             1  ...                    11                         2   \n",
       "\n",
       "      re_useable_bike_cnt_d re_used_bike_cnt_d  re_bike_valid_d  \\\n",
       "5984                      2                  1                0   \n",
       "5985                      2                  1                0   \n",
       "5986                      2                  1                0   \n",
       "5987                      2                  1                0   \n",
       "5988                      2                  1                0   \n",
       "\n",
       "      re_move_bike_valid_d  re_city_comp_type  use_card_ride_ratio  label  \\\n",
       "5984                     1                  1                  0.0      0   \n",
       "5985                     1                  1                  0.0      0   \n",
       "5986                     1                  1                  0.0      0   \n",
       "5987                     1                  1                  0.0      0   \n",
       "5988                     1                  1                  0.0      0   \n",
       "\n",
       "       p_score  \n",
       "5984  0.316391  \n",
       "5985  0.338789  \n",
       "5986  0.223239  \n",
       "5987  0.287421  \n",
       "5988  0.285087  \n",
       "\n",
       "[5 rows x 59 columns]"
      ]
     },
     "execution_count": 29,
     "metadata": {},
     "output_type": "execute_result"
    }
   ],
   "source": [
    "single_df.head()"
   ]
  },
  {
   "cell_type": "code",
   "execution_count": 30,
   "metadata": {
    "ExecuteTime": {
     "end_time": "2023-05-09T07:31:23.916897Z",
     "start_time": "2023-05-09T07:31:23.851968Z"
    }
   },
   "outputs": [],
   "source": [
    "single_df['p_score'] = single_df['p_score'].astype('float')"
   ]
  },
  {
   "cell_type": "code",
   "execution_count": 31,
   "metadata": {
    "ExecuteTime": {
     "end_time": "2023-05-09T07:31:25.985438Z",
     "start_time": "2023-05-09T07:31:25.478634Z"
    }
   },
   "outputs": [
    {
     "data": {
      "text/plain": [
       "5984       (0.264, 0.327]\n",
       "5985       (0.327, 0.758]\n",
       "5986       (0.197, 0.225]\n",
       "5987       (0.264, 0.327]\n",
       "5988       (0.264, 0.327]\n",
       "                ...      \n",
       "7468677    (0.327, 0.758]\n",
       "7468678    (0.264, 0.327]\n",
       "7470109    (0.225, 0.264]\n",
       "7470110    (0.197, 0.225]\n",
       "7470111    (0.225, 0.264]\n",
       "Name: p_score, Length: 3108777, dtype: category\n",
       "Categories (10, interval[float64]): [(0.0324, 0.0968] < (0.0968, 0.117] < (0.117, 0.136] < (0.136, 0.155] ... (0.197, 0.225] < (0.225, 0.264] < (0.264, 0.327] < (0.327, 0.758]]"
      ]
     },
     "execution_count": 31,
     "metadata": {},
     "output_type": "execute_result"
    }
   ],
   "source": [
    "pd.qcut(single_df['p_score'],10)"
   ]
  },
  {
   "cell_type": "code",
   "execution_count": null,
   "metadata": {},
   "outputs": [],
   "source": [
    "# 写入hive\n",
    "spark_df.registerTempTable('tmptb')\n",
    "\n",
    "spark.sql(\"\"\"insert overwrite table ai.dws_smart_sales_card_user_propensity_da partition(event_day) \n",
    "select \n",
    "        user_id，age,city_id,y,province_id,client_type,\n",
    "        re_sys_ver,re_active_count_180d,service_type,\n",
    "        op_mode,re_real_input_bike_cnt_d,re_useable_bike_cnt_d,\n",
    "        re_used_bike_cnt_d,re_bike_valid_d,re_move_bike_valid_d,\n",
    "        gender,m,d,day_of_week,is_certified,\n",
    "        is_idcard,is_bank_card,is_openid,is_open_wepay_score,\n",
    "        re_city_comp_type,\n",
    "        p_score,event_day\n",
    "from \n",
    "        tmptb\n",
    "\"\"\")\n",
    "\n"
   ]
  },
  {
   "cell_type": "markdown",
   "metadata": {},
   "source": [
    "#### 竞争城市模型训练"
   ]
  },
  {
   "cell_type": "code",
   "execution_count": 43,
   "metadata": {
    "ExecuteTime": {
     "end_time": "2023-05-09T08:21:25.337939Z",
     "start_time": "2023-05-09T08:21:25.332634Z"
    }
   },
   "outputs": [],
   "source": [
    "# 竞争\n",
    "lr2 = LogisticRegression(**kwargs)"
   ]
  },
  {
   "cell_type": "code",
   "execution_count": 44,
   "metadata": {
    "ExecuteTime": {
     "end_time": "2023-05-09T08:21:31.923733Z",
     "start_time": "2023-05-09T08:21:29.578987Z"
    }
   },
   "outputs": [],
   "source": [
    "battle_train_X = battle_df[category_needX_cols+category_No_needX_cols]\n",
    "battle_train_Y = battle_df['label']"
   ]
  },
  {
   "cell_type": "code",
   "execution_count": 45,
   "metadata": {
    "ExecuteTime": {
     "end_time": "2023-05-09T08:30:54.523316Z",
     "start_time": "2023-05-09T08:21:34.691851Z"
    }
   },
   "outputs": [
    {
     "data": {
      "text/plain": [
       "LogisticRegression(l1_ratio=0.001, penalty='elasticnet', random_state=42,\n",
       "                   solver='saga')"
      ]
     },
     "execution_count": 45,
     "metadata": {},
     "output_type": "execute_result"
    }
   ],
   "source": [
    "lr2.fit(battle_train_X,battle_train_Y)"
   ]
  },
  {
   "cell_type": "code",
   "execution_count": 47,
   "metadata": {
    "ExecuteTime": {
     "end_time": "2023-05-09T08:32:47.331283Z",
     "start_time": "2023-05-09T08:32:45.731425Z"
    }
   },
   "outputs": [],
   "source": [
    "battle_df['p_score'] = lr2.predict_proba(battle_train_X)[:,1]"
   ]
  },
  {
   "cell_type": "code",
   "execution_count": 48,
   "metadata": {
    "ExecuteTime": {
     "end_time": "2023-05-09T08:33:24.212948Z",
     "start_time": "2023-05-09T08:33:23.457700Z"
    }
   },
   "outputs": [
    {
     "data": {
      "text/plain": [
       "0          (0.186, 0.202]\n",
       "1          (0.186, 0.202]\n",
       "2          (0.186, 0.202]\n",
       "3          (0.377, 0.706]\n",
       "4          (0.377, 0.706]\n",
       "                ...      \n",
       "7470104    (0.157, 0.171]\n",
       "7470105    (0.186, 0.202]\n",
       "7470106    (0.171, 0.186]\n",
       "7470107    (0.123, 0.142]\n",
       "7470108     (0.26, 0.377]\n",
       "Name: p_score, Length: 4361335, dtype: category\n",
       "Categories (10, interval[float64]): [(0.0499, 0.123] < (0.123, 0.142] < (0.142, 0.157] < (0.157, 0.171] ... (0.202, 0.223] < (0.223, 0.26] < (0.26, 0.377] < (0.377, 0.706]]"
      ]
     },
     "execution_count": 48,
     "metadata": {},
     "output_type": "execute_result"
    }
   ],
   "source": [
    "battle_df['p_score'] = battle_df['p_score'].astype('float')\n",
    "pd.qcut(battle_df['p_score'],10)"
   ]
  },
  {
   "cell_type": "code",
   "execution_count": 49,
   "metadata": {
    "ExecuteTime": {
     "end_time": "2023-05-09T08:36:18.173612Z",
     "start_time": "2023-05-09T08:34:24.696804Z"
    }
   },
   "outputs": [
    {
     "name": "stdout",
     "output_type": "stream",
     "text": [
      "(4361335, 27)\n"
     ]
    }
   ],
   "source": [
    "res2 = battle_df[['user_id']+category_needX_cols+category_No_needX_cols+['p_score','event_day']]\n",
    "print(res2.shape)\n",
    "res2.to_csv('竞争城市用户特征及倾向得分.csv')"
   ]
  },
  {
   "cell_type": "code",
   "execution_count": null,
   "metadata": {},
   "outputs": [],
   "source": []
  },
  {
   "cell_type": "markdown",
   "metadata": {},
   "source": [
    "#### 交叉lr模型（单机未用）"
   ]
  },
  {
   "cell_type": "code",
   "execution_count": null,
   "metadata": {
    "ExecuteTime": {
     "start_time": "2023-05-09T06:44:34.644Z"
    }
   },
   "outputs": [],
   "source": [
    "# 交叉lr \n",
    "train_X = user_df[category_needX_cols+category_No_needX_cols]\n",
    "train_Y = user_df['label']\n",
    "\n",
    "p_model = ElasticNetPropensityModel()\n",
    "p = p_model.fit_predict(train_X, train_Y)"
   ]
  },
  {
   "cell_type": "code",
   "execution_count": null,
   "metadata": {
    "ExecuteTime": {
     "start_time": "2023-05-09T06:44:36.897Z"
    }
   },
   "outputs": [],
   "source": [
    "# 倾向分分布\n",
    "user_df['p_score'] = p\n",
    "pd.qcut(user_df['p_score'],10)"
   ]
  },
  {
   "cell_type": "markdown",
   "metadata": {},
   "source": [
    "### 模型评估\n",
    "- 理论依据：倾向得分相同时，X的分布应该趋近一致\n",
    "- 方法：standard mean difference (SMD)\n",
    "\n",
    "$$\n",
    "SMD=\\frac{\\left(\\bar X_{1M}-\\bar X_{0M}\\right)}{\\sqrt{0.5\\cdot\\left(V_{1M}(X)+V_{0M}(X)\\right)}}\n",
    "$$"
   ]
  },
  {
   "cell_type": "code",
   "execution_count": 32,
   "metadata": {
    "ExecuteTime": {
     "end_time": "2023-05-09T07:32:39.792452Z",
     "start_time": "2023-05-09T07:32:28.015629Z"
    }
   },
   "outputs": [
    {
     "data": {
      "text/html": [
       "<div>\n",
       "<style scoped>\n",
       "    .dataframe tbody tr th:only-of-type {\n",
       "        vertical-align: middle;\n",
       "    }\n",
       "\n",
       "    .dataframe tbody tr th {\n",
       "        vertical-align: top;\n",
       "    }\n",
       "\n",
       "    .dataframe thead th {\n",
       "        text-align: right;\n",
       "    }\n",
       "</style>\n",
       "<table border=\"1\" class=\"dataframe\">\n",
       "  <thead>\n",
       "    <tr style=\"text-align: right;\">\n",
       "      <th></th>\n",
       "      <th>Control</th>\n",
       "      <th>Treatment</th>\n",
       "      <th>SMD</th>\n",
       "    </tr>\n",
       "    <tr>\n",
       "      <th>Variable</th>\n",
       "      <th></th>\n",
       "      <th></th>\n",
       "      <th></th>\n",
       "    </tr>\n",
       "  </thead>\n",
       "  <tbody>\n",
       "    <tr>\n",
       "      <th>n</th>\n",
       "      <td>2498257</td>\n",
       "      <td>610520</td>\n",
       "      <td></td>\n",
       "    </tr>\n",
       "    <tr>\n",
       "      <th>age</th>\n",
       "      <td>15.58 (11.07)</td>\n",
       "      <td>16.86 (11.11)</td>\n",
       "      <td>0.1152</td>\n",
       "    </tr>\n",
       "    <tr>\n",
       "      <th>city_id</th>\n",
       "      <td>261.84 (189.14)</td>\n",
       "      <td>249.03 (197.92)</td>\n",
       "      <td>-0.0662</td>\n",
       "    </tr>\n",
       "    <tr>\n",
       "      <th>client_type</th>\n",
       "      <td>6.52 (1.73)</td>\n",
       "      <td>6.50 (1.76)</td>\n",
       "      <td>-0.0101</td>\n",
       "    </tr>\n",
       "    <tr>\n",
       "      <th>d</th>\n",
       "      <td>15.63 (9.12)</td>\n",
       "      <td>15.86 (9.13)</td>\n",
       "      <td>0.0245</td>\n",
       "    </tr>\n",
       "    <tr>\n",
       "      <th>day_of_week</th>\n",
       "      <td>4.18 (2.03)</td>\n",
       "      <td>4.12 (2.03)</td>\n",
       "      <td>-0.0291</td>\n",
       "    </tr>\n",
       "    <tr>\n",
       "      <th>gender</th>\n",
       "      <td>1.43 (0.49)</td>\n",
       "      <td>1.39 (0.49)</td>\n",
       "      <td>-0.0712</td>\n",
       "    </tr>\n",
       "    <tr>\n",
       "      <th>is_bank_card</th>\n",
       "      <td>0.00 (0.01)</td>\n",
       "      <td>0.00 (0.01)</td>\n",
       "      <td>0.003</td>\n",
       "    </tr>\n",
       "    <tr>\n",
       "      <th>is_certified</th>\n",
       "      <td>1.00 (0.02)</td>\n",
       "      <td>1.00 (0.02)</td>\n",
       "      <td>0.001</td>\n",
       "    </tr>\n",
       "    <tr>\n",
       "      <th>is_idcard</th>\n",
       "      <td>1.00 (0.02)</td>\n",
       "      <td>1.00 (0.02)</td>\n",
       "      <td>0.001</td>\n",
       "    </tr>\n",
       "    <tr>\n",
       "      <th>is_open_wepay_score</th>\n",
       "      <td>0.88 (0.32)</td>\n",
       "      <td>0.76 (0.43)</td>\n",
       "      <td>-0.3262</td>\n",
       "    </tr>\n",
       "    <tr>\n",
       "      <th>is_openid</th>\n",
       "      <td>0.93 (0.26)</td>\n",
       "      <td>0.90 (0.30)</td>\n",
       "      <td>-0.0977</td>\n",
       "    </tr>\n",
       "    <tr>\n",
       "      <th>m</th>\n",
       "      <td>5.85 (3.45)</td>\n",
       "      <td>5.30 (3.60)</td>\n",
       "      <td>-0.1538</td>\n",
       "    </tr>\n",
       "    <tr>\n",
       "      <th>op_mode</th>\n",
       "      <td>1.13 (0.51)</td>\n",
       "      <td>1.10 (0.31)</td>\n",
       "      <td>-0.0658</td>\n",
       "    </tr>\n",
       "    <tr>\n",
       "      <th>province_id</th>\n",
       "      <td>15.80 (5.65)</td>\n",
       "      <td>15.56 (5.76)</td>\n",
       "      <td>-0.0426</td>\n",
       "    </tr>\n",
       "    <tr>\n",
       "      <th>re_active_count_180d</th>\n",
       "      <td>16.20 (8.69)</td>\n",
       "      <td>13.31 (8.43)</td>\n",
       "      <td>-0.3381</td>\n",
       "    </tr>\n",
       "    <tr>\n",
       "      <th>re_bike_valid_d</th>\n",
       "      <td>5.30 (2.91)</td>\n",
       "      <td>4.60 (2.80)</td>\n",
       "      <td>-0.2454</td>\n",
       "    </tr>\n",
       "    <tr>\n",
       "      <th>re_city_comp_type</th>\n",
       "      <td>1.00 (0.00)</td>\n",
       "      <td>1.00 (0.00)</td>\n",
       "      <td>NaN</td>\n",
       "    </tr>\n",
       "    <tr>\n",
       "      <th>re_move_bike_valid_d</th>\n",
       "      <td>5.44 (2.84)</td>\n",
       "      <td>4.82 (2.75)</td>\n",
       "      <td>-0.2201</td>\n",
       "    </tr>\n",
       "    <tr>\n",
       "      <th>re_real_input_bike_cnt_d</th>\n",
       "      <td>4.54 (2.87)</td>\n",
       "      <td>4.11 (2.78)</td>\n",
       "      <td>-0.1518</td>\n",
       "    </tr>\n",
       "    <tr>\n",
       "      <th>re_sys_ver</th>\n",
       "      <td>0.27 (0.44)</td>\n",
       "      <td>0.24 (0.42)</td>\n",
       "      <td>-0.0814</td>\n",
       "    </tr>\n",
       "    <tr>\n",
       "      <th>re_useable_bike_cnt_d</th>\n",
       "      <td>4.55 (2.86)</td>\n",
       "      <td>4.13 (2.76)</td>\n",
       "      <td>-0.1473</td>\n",
       "    </tr>\n",
       "    <tr>\n",
       "      <th>re_used_bike_cnt_d</th>\n",
       "      <td>4.85 (2.95)</td>\n",
       "      <td>4.18 (2.82)</td>\n",
       "      <td>-0.2336</td>\n",
       "    </tr>\n",
       "    <tr>\n",
       "      <th>service_type</th>\n",
       "      <td>0.14 (0.36)</td>\n",
       "      <td>0.27 (0.45)</td>\n",
       "      <td>0.3158</td>\n",
       "    </tr>\n",
       "    <tr>\n",
       "      <th>y</th>\n",
       "      <td>3.53 (1.34)</td>\n",
       "      <td>3.79 (1.49)</td>\n",
       "      <td>0.1847</td>\n",
       "    </tr>\n",
       "  </tbody>\n",
       "</table>\n",
       "</div>"
      ],
      "text/plain": [
       "                                  Control        Treatment     SMD\n",
       "Variable                                                          \n",
       "n                                 2498257           610520        \n",
       "age                         15.58 (11.07)    16.86 (11.11)  0.1152\n",
       "city_id                   261.84 (189.14)  249.03 (197.92) -0.0662\n",
       "client_type                   6.52 (1.73)      6.50 (1.76) -0.0101\n",
       "d                            15.63 (9.12)     15.86 (9.13)  0.0245\n",
       "day_of_week                   4.18 (2.03)      4.12 (2.03) -0.0291\n",
       "gender                        1.43 (0.49)      1.39 (0.49) -0.0712\n",
       "is_bank_card                  0.00 (0.01)      0.00 (0.01)   0.003\n",
       "is_certified                  1.00 (0.02)      1.00 (0.02)   0.001\n",
       "is_idcard                     1.00 (0.02)      1.00 (0.02)   0.001\n",
       "is_open_wepay_score           0.88 (0.32)      0.76 (0.43) -0.3262\n",
       "is_openid                     0.93 (0.26)      0.90 (0.30) -0.0977\n",
       "m                             5.85 (3.45)      5.30 (3.60) -0.1538\n",
       "op_mode                       1.13 (0.51)      1.10 (0.31) -0.0658\n",
       "province_id                  15.80 (5.65)     15.56 (5.76) -0.0426\n",
       "re_active_count_180d         16.20 (8.69)     13.31 (8.43) -0.3381\n",
       "re_bike_valid_d               5.30 (2.91)      4.60 (2.80) -0.2454\n",
       "re_city_comp_type             1.00 (0.00)      1.00 (0.00)     NaN\n",
       "re_move_bike_valid_d          5.44 (2.84)      4.82 (2.75) -0.2201\n",
       "re_real_input_bike_cnt_d      4.54 (2.87)      4.11 (2.78) -0.1518\n",
       "re_sys_ver                    0.27 (0.44)      0.24 (0.42) -0.0814\n",
       "re_useable_bike_cnt_d         4.55 (2.86)      4.13 (2.76) -0.1473\n",
       "re_used_bike_cnt_d            4.85 (2.95)      4.18 (2.82) -0.2336\n",
       "service_type                  0.14 (0.36)      0.27 (0.45)  0.3158\n",
       "y                             3.53 (1.34)      3.79 (1.49)  0.1847"
      ]
     },
     "execution_count": 32,
     "metadata": {},
     "output_type": "execute_result"
    }
   ],
   "source": [
    "# 匹配前\n",
    "create_table_one(data=single_df,\n",
    "                 treatment_col='label',\n",
    "                 features=category_needX_cols+category_No_needX_cols)"
   ]
  },
  {
   "cell_type": "code",
   "execution_count": 50,
   "metadata": {
    "ExecuteTime": {
     "end_time": "2023-05-09T09:36:16.758277Z",
     "start_time": "2023-05-09T08:38:55.777784Z"
    }
   },
   "outputs": [
    {
     "data": {
      "text/html": [
       "<div>\n",
       "<style scoped>\n",
       "    .dataframe tbody tr th:only-of-type {\n",
       "        vertical-align: middle;\n",
       "    }\n",
       "\n",
       "    .dataframe tbody tr th {\n",
       "        vertical-align: top;\n",
       "    }\n",
       "\n",
       "    .dataframe thead th {\n",
       "        text-align: right;\n",
       "    }\n",
       "</style>\n",
       "<table border=\"1\" class=\"dataframe\">\n",
       "  <thead>\n",
       "    <tr style=\"text-align: right;\">\n",
       "      <th></th>\n",
       "      <th>Control</th>\n",
       "      <th>Treatment</th>\n",
       "      <th>SMD</th>\n",
       "    </tr>\n",
       "    <tr>\n",
       "      <th>Variable</th>\n",
       "      <th></th>\n",
       "      <th></th>\n",
       "      <th></th>\n",
       "    </tr>\n",
       "  </thead>\n",
       "  <tbody>\n",
       "    <tr>\n",
       "      <th>n</th>\n",
       "      <td>600722</td>\n",
       "      <td>600722</td>\n",
       "      <td></td>\n",
       "    </tr>\n",
       "    <tr>\n",
       "      <th>age</th>\n",
       "      <td>16.51 (11.54)</td>\n",
       "      <td>16.78 (11.07)</td>\n",
       "      <td>0.0238</td>\n",
       "    </tr>\n",
       "    <tr>\n",
       "      <th>city_id</th>\n",
       "      <td>248.38 (183.10)</td>\n",
       "      <td>249.29 (198.28)</td>\n",
       "      <td>0.0048</td>\n",
       "    </tr>\n",
       "    <tr>\n",
       "      <th>client_type</th>\n",
       "      <td>6.50 (1.78)</td>\n",
       "      <td>6.50 (1.76)</td>\n",
       "      <td>-0.0003</td>\n",
       "    </tr>\n",
       "    <tr>\n",
       "      <th>d</th>\n",
       "      <td>15.88 (9.11)</td>\n",
       "      <td>15.84 (9.13)</td>\n",
       "      <td>-0.0036</td>\n",
       "    </tr>\n",
       "    <tr>\n",
       "      <th>day_of_week</th>\n",
       "      <td>4.12 (2.03)</td>\n",
       "      <td>4.12 (2.02)</td>\n",
       "      <td>0.0016</td>\n",
       "    </tr>\n",
       "    <tr>\n",
       "      <th>gender</th>\n",
       "      <td>1.40 (0.49)</td>\n",
       "      <td>1.39 (0.49)</td>\n",
       "      <td>-0.0071</td>\n",
       "    </tr>\n",
       "    <tr>\n",
       "      <th>is_bank_card</th>\n",
       "      <td>0.00 (0.01)</td>\n",
       "      <td>0.00 (0.01)</td>\n",
       "      <td>0.0042</td>\n",
       "    </tr>\n",
       "    <tr>\n",
       "      <th>is_certified</th>\n",
       "      <td>1.00 (0.03)</td>\n",
       "      <td>1.00 (0.02)</td>\n",
       "      <td>0.0083</td>\n",
       "    </tr>\n",
       "    <tr>\n",
       "      <th>is_idcard</th>\n",
       "      <td>1.00 (0.03)</td>\n",
       "      <td>1.00 (0.02)</td>\n",
       "      <td>0.0083</td>\n",
       "    </tr>\n",
       "    <tr>\n",
       "      <th>is_open_wepay_score</th>\n",
       "      <td>0.77 (0.42)</td>\n",
       "      <td>0.77 (0.42)</td>\n",
       "      <td>-0.0043</td>\n",
       "    </tr>\n",
       "    <tr>\n",
       "      <th>is_openid</th>\n",
       "      <td>0.90 (0.30)</td>\n",
       "      <td>0.90 (0.29)</td>\n",
       "      <td>0.0141</td>\n",
       "    </tr>\n",
       "    <tr>\n",
       "      <th>m</th>\n",
       "      <td>5.32 (3.51)</td>\n",
       "      <td>5.35 (3.59)</td>\n",
       "      <td>0.0085</td>\n",
       "    </tr>\n",
       "    <tr>\n",
       "      <th>op_mode</th>\n",
       "      <td>1.10 (0.45)</td>\n",
       "      <td>1.10 (0.31)</td>\n",
       "      <td>-0.0054</td>\n",
       "    </tr>\n",
       "    <tr>\n",
       "      <th>province_id</th>\n",
       "      <td>15.49 (6.00)</td>\n",
       "      <td>15.55 (5.74)</td>\n",
       "      <td>0.0111</td>\n",
       "    </tr>\n",
       "    <tr>\n",
       "      <th>re_active_count_180d</th>\n",
       "      <td>13.44 (8.43)</td>\n",
       "      <td>13.44 (8.43)</td>\n",
       "      <td>0</td>\n",
       "    </tr>\n",
       "    <tr>\n",
       "      <th>re_bike_valid_d</th>\n",
       "      <td>4.59 (2.98)</td>\n",
       "      <td>4.63 (2.79)</td>\n",
       "      <td>0.0133</td>\n",
       "    </tr>\n",
       "    <tr>\n",
       "      <th>re_city_comp_type</th>\n",
       "      <td>1.00 (0.00)</td>\n",
       "      <td>1.00 (0.00)</td>\n",
       "      <td>NaN</td>\n",
       "    </tr>\n",
       "    <tr>\n",
       "      <th>re_move_bike_valid_d</th>\n",
       "      <td>4.81 (2.91)</td>\n",
       "      <td>4.85 (2.74)</td>\n",
       "      <td>0.0145</td>\n",
       "    </tr>\n",
       "    <tr>\n",
       "      <th>re_real_input_bike_cnt_d</th>\n",
       "      <td>4.13 (2.83)</td>\n",
       "      <td>4.13 (2.78)</td>\n",
       "      <td>0.0019</td>\n",
       "    </tr>\n",
       "    <tr>\n",
       "      <th>re_sys_ver</th>\n",
       "      <td>0.24 (0.43)</td>\n",
       "      <td>0.24 (0.43)</td>\n",
       "      <td>-0.0052</td>\n",
       "    </tr>\n",
       "    <tr>\n",
       "      <th>re_useable_bike_cnt_d</th>\n",
       "      <td>4.15 (2.84)</td>\n",
       "      <td>4.16 (2.76)</td>\n",
       "      <td>0.0018</td>\n",
       "    </tr>\n",
       "    <tr>\n",
       "      <th>re_used_bike_cnt_d</th>\n",
       "      <td>4.19 (2.97)</td>\n",
       "      <td>4.21 (2.81)</td>\n",
       "      <td>0.0066</td>\n",
       "    </tr>\n",
       "    <tr>\n",
       "      <th>service_type</th>\n",
       "      <td>0.26 (0.45)</td>\n",
       "      <td>0.26 (0.45)</td>\n",
       "      <td>0.0073</td>\n",
       "    </tr>\n",
       "    <tr>\n",
       "      <th>y</th>\n",
       "      <td>3.80 (1.44)</td>\n",
       "      <td>3.77 (1.48)</td>\n",
       "      <td>-0.0203</td>\n",
       "    </tr>\n",
       "  </tbody>\n",
       "</table>\n",
       "</div>"
      ],
      "text/plain": [
       "                                  Control        Treatment     SMD\n",
       "Variable                                                          \n",
       "n                                  600722           600722        \n",
       "age                         16.51 (11.54)    16.78 (11.07)  0.0238\n",
       "city_id                   248.38 (183.10)  249.29 (198.28)  0.0048\n",
       "client_type                   6.50 (1.78)      6.50 (1.76) -0.0003\n",
       "d                            15.88 (9.11)     15.84 (9.13) -0.0036\n",
       "day_of_week                   4.12 (2.03)      4.12 (2.02)  0.0016\n",
       "gender                        1.40 (0.49)      1.39 (0.49) -0.0071\n",
       "is_bank_card                  0.00 (0.01)      0.00 (0.01)  0.0042\n",
       "is_certified                  1.00 (0.03)      1.00 (0.02)  0.0083\n",
       "is_idcard                     1.00 (0.03)      1.00 (0.02)  0.0083\n",
       "is_open_wepay_score           0.77 (0.42)      0.77 (0.42) -0.0043\n",
       "is_openid                     0.90 (0.30)      0.90 (0.29)  0.0141\n",
       "m                             5.32 (3.51)      5.35 (3.59)  0.0085\n",
       "op_mode                       1.10 (0.45)      1.10 (0.31) -0.0054\n",
       "province_id                  15.49 (6.00)     15.55 (5.74)  0.0111\n",
       "re_active_count_180d         13.44 (8.43)     13.44 (8.43)       0\n",
       "re_bike_valid_d               4.59 (2.98)      4.63 (2.79)  0.0133\n",
       "re_city_comp_type             1.00 (0.00)      1.00 (0.00)     NaN\n",
       "re_move_bike_valid_d          4.81 (2.91)      4.85 (2.74)  0.0145\n",
       "re_real_input_bike_cnt_d      4.13 (2.83)      4.13 (2.78)  0.0019\n",
       "re_sys_ver                    0.24 (0.43)      0.24 (0.43) -0.0052\n",
       "re_useable_bike_cnt_d         4.15 (2.84)      4.16 (2.76)  0.0018\n",
       "re_used_bike_cnt_d            4.19 (2.97)      4.21 (2.81)  0.0066\n",
       "service_type                  0.26 (0.45)      0.26 (0.45)  0.0073\n",
       "y                             3.80 (1.44)      3.77 (1.48) -0.0203"
      ]
     },
     "execution_count": 50,
     "metadata": {},
     "output_type": "execute_result"
    }
   ],
   "source": [
    "# 匹配后\n",
    "psm = NearestNeighborMatch(replace=False,\n",
    "                           ratio=1,\n",
    "                           random_state=42)\n",
    "\n",
    "user_df_matched = psm.match_by_group(data=single_df,\n",
    "                             treatment_col='label',\n",
    "                             score_cols=['p_score'],\n",
    "                             groupby_col='re_active_count_180d')\n",
    "\n",
    "create_table_one(data=user_df_matched,\n",
    "                 treatment_col='label',\n",
    "                 features=category_needX_cols+category_No_needX_cols)"
   ]
  },
  {
   "cell_type": "markdown",
   "metadata": {},
   "source": [
    "### 分层匹配"
   ]
  },
  {
   "cell_type": "code",
   "execution_count": null,
   "metadata": {},
   "outputs": [],
   "source": [
    "with matching_detail as (\n",
    "    select t1.user_id as treatment_userid,\n",
    "      t1.score as treatment_pscore,\n",
    "      t2.user_id as control_userid,\n",
    "      t2.score as control_pscore,\n",
    "      row_number() over (partition by t1.user_id order by abs(t1.score-t2.score) asc) as rn\n",
    "    from propensity_score_treatment t1\n",
    "    left join propensity_score_control t2\n",
    "      -- 分层匹配\n",
    "        on t1.gender = t2.gender and round(t1.score, 1)*10 =  round(t2.score, 1)*10\n",
    "    where abs(t1.score-t2.score) <= 0.05 -- caliper matching\n",
    ")\n",
    "select * from matching_detail where rn = 1  # rn大于1时为多邻居/radius匹配"
   ]
  },
  {
   "cell_type": "code",
   "execution_count": null,
   "metadata": {},
   "outputs": [],
   "source": [
    "#*** version='full-user-info' 用户基础数据分区，避免多表大数据量关联\n",
    "#*** 层次、竞争类型、历史骑行单量、历史gmv等字段匹配\n",
    "\n",
    "\"\"\"\n",
    "with user_t as (\n",
    "\n",
    "select \n",
    "user_id_t -- 干预组用户id \n",
    ",user_flag_t -- 干预组用户层次 \n",
    ",city_comp_type_t -- 干预组用户所在城市竞争类型,独占1，竞争0 \n",
    ",event_day_t -- 干预组用户开始观测日期 \n",
    ",score_t -- 干预组用户倾向分 \n",
    ",buy_ride_card_amt_t -- 干预组用户观测期间购卡gmv \n",
    ",ride_order_should_pay_amt_t -- 干预组用户观测期间骑行应付gmv \n",
    ",gmv_t -- 干预组用户观测期间总gmv \n",
    ",buy_ride_card_cnt_t -- 干预组用户观测期间买卡数量 \n",
    ",use_card_ride_ratio_t -- 干预组用户观测期间用骑行卡订单占比 \n",
    ",order_cnt_t -- 干预组用户观测期间订单数量 \n",
    ",coupon_cnt_t -- 干预组用户观测期间核销订单数量 \n",
    ",order_cnt_15d_t -- 干预组用户观测开始前15天订单 \n",
    ",order_cnt_30d_t -- 干预组用户观测开始前30天订单 \n",
    ",order_cnt_60d_t -- 干预组用户观测开始前60天订单 \n",
    ",order_cnt_90d_t -- 干预组用户观测开始前90天订单 \n",
    ",gmv_amt_15d_t -- 干预组用户观测开始前15天gmv \n",
    ",gmv_amt_30d_t -- 干预组用户观测开始前30天gmv \n",
    ",gmv_amt_90d_t -- 干预组用户观测开始前90天gmv \n",
    ",is_has_ride_card_t -- 干预组用户观测日期当天是否有卡 \n",
    "from ai.dws_smart_sales_card_user_matching_detail_da -- undefined  \n",
    "where 1=1 \n",
    "and version='full-user-info'\n",
    "and use_card_ride_ratio_t>0\n",
    "),\n",
    " user_c as (\n",
    "\n",
    "select \n",
    "user_id_t -- 干预组用户id \n",
    ",user_flag_t -- 干预组用户层次 \n",
    ",city_comp_type_t -- 干预组用户所在城市竞争类型,独占1，竞争0 \n",
    ",event_day_t -- 干预组用户开始观测日期 \n",
    ",score_t -- 干预组用户倾向分 \n",
    ",buy_ride_card_amt_t -- 干预组用户观测期间购卡gmv \n",
    ",ride_order_should_pay_amt_t -- 干预组用户观测期间骑行应付gmv \n",
    ",gmv_t -- 干预组用户观测期间总gmv \n",
    ",buy_ride_card_cnt_t -- 干预组用户观测期间买卡数量 \n",
    ",use_card_ride_ratio_t -- 干预组用户观测期间用骑行卡订单占比 \n",
    ",order_cnt_t -- 干预组用户观测期间订单数量 \n",
    ",coupon_cnt_t -- 干预组用户观测期间核销订单数量 \n",
    ",order_cnt_15d_t -- 干预组用户观测开始前15天订单 \n",
    ",order_cnt_30d_t -- 干预组用户观测开始前30天订单 \n",
    ",order_cnt_60d_t -- 干预组用户观测开始前60天订单 \n",
    ",order_cnt_90d_t -- 干预组用户观测开始前90天订单 \n",
    ",gmv_amt_15d_t -- 干预组用户观测开始前15天gmv \n",
    ",gmv_amt_30d_t -- 干预组用户观测开始前30天gmv \n",
    ",gmv_amt_90d_t -- 干预组用户观测开始前90天gmv \n",
    ",is_has_ride_card_t -- 干预组用户观测日期当天是否有卡 \n",
    "from ai.dws_smart_sales_card_user_matching_detail_da -- undefined  \n",
    "where 1=1 \n",
    "and version='full-user-info'\n",
    "and use_card_ride_ratio_t=0\n",
    ")\n",
    "\n",
    "insert overwrite table ai.dws_smart_sales_card_user_matching_detail_da partition(version='v5-no-churn-3d')\n",
    "select \n",
    "    user_id_t -- 干预组用户id \n",
    "    ,user_flag_t -- 干预组用户层次 \n",
    "    ,city_comp_type_t -- 干预组用户所在城市竞争类型,独占1，竞争0 \n",
    "    ,event_day_t -- 干预组用户开始观测日期 \n",
    "    ,score_t -- 干预组用户倾向分 \n",
    "    ,buy_ride_card_amt_t -- 干预组用户观测期间购卡gmv \n",
    "    ,ride_order_should_pay_amt_t -- 干预组用户观测期间骑行应付gmv \n",
    "    ,gmv_t -- 干预组用户观测期间总gmv \n",
    "    ,buy_ride_card_cnt_t -- 干预组用户观测期间买卡数量 \n",
    "    ,use_card_ride_ratio_t -- 干预组用户观测期间用骑行卡订单占比 \n",
    "    ,order_cnt_t -- 干预组用户观测期间订单数量 \n",
    "    ,coupon_cnt_t -- 干预组用户观测期间核销订单数量 \n",
    "    ,order_cnt_15d_t -- 干预组用户观测开始前15天订单 \n",
    "    ,order_cnt_30d_t -- 干预组用户观测开始前30天订单 \n",
    "    ,order_cnt_60d_t -- 干预组用户观测开始前60天订单 \n",
    "    ,order_cnt_90d_t -- 干预组用户观测开始前90天订单 \n",
    "    ,gmv_amt_15d_t -- 干预组用户观测开始前15天gmv \n",
    "    ,gmv_amt_30d_t -- 干预组用户观测开始前30天gmv \n",
    "    ,gmv_amt_90d_t -- 干预组用户观测开始前90天gmv \n",
    "    ,is_has_ride_card_t -- 干预组用户观测日期当天是否有卡 \n",
    "    \n",
    "    ,user_id_c -- 干预组用户id\n",
    "    ,user_flag_c -- 干预组用户层次\n",
    "    ,city_comp_type_c -- 干预组用户所在城市竞争类型,独占1，竞争0\n",
    "    ,event_day_c -- 干预组用户开始观测日期\n",
    "    ,score_c -- 干预组用户倾向分\n",
    "    ,buy_ride_card_amt_c -- 干预组用户观测期间购卡gmv\n",
    "    ,ride_order_should_pay_amt_c -- 干预组用户观测期间骑行应付gmv\n",
    "    ,gmv_c -- 干预组用户观测期间总gmv\n",
    "    ,buy_ride_card_cnt_c -- 干预组用户观测期间买卡数量\n",
    "    ,use_card_ride_ratio_c -- 干预组用户观测期间用骑行卡订单占比\n",
    "    ,order_cnt_c --\n",
    "    ,coupon_cnt_c\n",
    "    ,order_cnt_15d_c\n",
    "    ,order_cnt_30d_c\n",
    "    ,order_cnt_60d_c\n",
    "    ,order_cnt_90d_c\n",
    "    ,gmv_amt_15d_c\n",
    "    ,gmv_amt_30d_c\n",
    "    ,gmv_amt_90d_c\n",
    "    ,is_has_ride_card_c        \n",
    "     ,'-1' json\n",
    "from (\n",
    "        select \n",
    "        a.*\n",
    "        ,b.user_id_t  user_id_c \n",
    "        ,b.user_flag_t user_flag_c\n",
    "        ,b.city_comp_type_t city_comp_type_c\n",
    "        ,b.event_day_t event_day_c\n",
    "        ,b.score_t score_c\n",
    "        ,b.buy_ride_card_amt_t buy_ride_card_amt_c  \n",
    "        ,b.ride_order_should_pay_amt_t  ride_order_should_pay_amt_c \n",
    "        ,b.gmv_t   gmv_c\n",
    "        ,b.buy_ride_card_cnt_t  buy_ride_card_cnt_c \n",
    "        ,b.use_card_ride_ratio_t   use_card_ride_ratio_c\n",
    "        ,b.order_cnt_t  order_cnt_c\n",
    "        ,b.coupon_cnt_t  coupon_cnt_c\n",
    "        ,b.order_cnt_15d_t order_cnt_15d_c \n",
    "        ,b.order_cnt_30d_t  order_cnt_30d_c\n",
    "        ,b.order_cnt_60d_t  order_cnt_60d_c\n",
    "        ,b.order_cnt_90d_t   order_cnt_90d_c\n",
    "        ,b.gmv_amt_15d_t   gmv_amt_15d_c\n",
    "        ,b.gmv_amt_30d_t   gmv_amt_30d_c\n",
    "        ,b.gmv_amt_90d_t  gmv_amt_90d_c\n",
    "        ,b.is_has_ride_card_t  is_has_ride_card_c\n",
    "        ,row_number() over (partition by a.user_id_t order by abs(a.gmv_amt_30d_t-b.gmv_amt_30d_t) asc) as rn\n",
    "        from \n",
    "              user_t a left join user_c b  on a.user_flag_t = b.user_flag_t and a.city_comp_type_t = b.city_comp_type_t \n",
    "                             and b.order_cnt_15d_t BETWEEN a.order_cnt_30d_t-2 and a.order_cnt_15d_t+2\n",
    "                             and b.order_cnt_30d_t BETWEEN a.order_cnt_30d_t-4 and a.order_cnt_30d_t+4\n",
    "                             and b.order_cnt_60d_t BETWEEN a.order_cnt_60d_t-6 and a.order_cnt_60d_t+6\n",
    "                             and b.order_cnt_90d_t BETWEEN a.order_cnt_90d_t-8 and a.order_cnt_30d_t+8\n",
    "                             \n",
    "                             and b.gmv_amt_30d_t BETWEEN a.gmv_amt_30d_t-300 and a.gmv_amt_30d_t+300\n",
    ") \n",
    "where rn=1         \n",
    "\"\"\""
   ]
  },
  {
   "cell_type": "markdown",
   "metadata": {},
   "source": [
    "### 参考\n",
    "- https://causalml.readthedocs.io/en/latest/examples.html#propensity-score-matching\n",
    "- 笔记matching小结\n",
    "- https://mp.weixin.qq.com/s/pjgYKfFICqzvFwhHwHBNow"
   ]
  },
  {
   "cell_type": "code",
   "execution_count": null,
   "metadata": {},
   "outputs": [],
   "source": []
  }
 ],
 "metadata": {
  "kernelspec": {
   "display_name": "Python 3",
   "language": "python",
   "name": "python3"
  },
  "language_info": {
   "codemirror_mode": {
    "name": "ipython",
    "version": 3
   },
   "file_extension": ".py",
   "mimetype": "text/x-python",
   "name": "python",
   "nbconvert_exporter": "python",
   "pygments_lexer": "ipython3",
   "version": "3.6.10"
  },
  "toc": {
   "base_numbering": 1,
   "nav_menu": {},
   "number_sections": false,
   "sideBar": true,
   "skip_h1_title": false,
   "title_cell": "Table of Contents",
   "title_sidebar": "Contents",
   "toc_cell": true,
   "toc_position": {
    "height": "calc(100% - 180px)",
    "left": "10px",
    "top": "150px",
    "width": "325.817px"
   },
   "toc_section_display": true,
   "toc_window_display": true
  }
 },
 "nbformat": 4,
 "nbformat_minor": 4
}
