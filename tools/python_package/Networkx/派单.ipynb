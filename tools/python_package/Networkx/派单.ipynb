{
 "cells": [
  {
   "cell_type": "code",
   "execution_count": 2,
   "metadata": {},
   "outputs": [],
   "source": [
    "from math import radians,sin,cos,asin,sqrt\n",
    "import math\n",
    "import time\n",
    "import json\n",
    "import random\n",
    "import copy\n",
    "import traceback\n",
    "import pickle\n",
    "import requests\n",
    "import warnings\n",
    "from scipy import spatial\n",
    "import numpy as np\n",
    "import networkx as nx\n",
    "from functools import reduce\n",
    "import geojson\n",
    "from pandas.io.json import json_normalize\n",
    "from coord_convert.transform import wgs2gcj, wgs2bd, gcj2wgs, gcj2bd, bd2wgs, bd2gcj\n",
    "from ortools.constraint_solver import routing_enums_pb2\n",
    "from ortools.constraint_solver import pywrapcp\n",
    "from shapely.geometry import Polygon,Point\n",
    "warnings.filterwarnings(\"ignore\")"
   ]
  },
  {
   "cell_type": "code",
   "execution_count": 3,
   "metadata": {},
   "outputs": [],
   "source": [
    "# 基础参数\n",
    "city_id = 325\n",
    "span_id = 41\n",
    "laborId =  32746\n",
    "worker_lon = 108.83657361153455\n",
    "worker_lat = 23.22830741146853\n",
    "traceId = 'test'\n",
    "city_lon = 108.82846\n",
    "city_lat = 23.229486\n",
    "\n",
    "EARTH_RADIUS = 6371393.0\n",
    "RADIUS_SCALE = math.pi / 180.\n",
    "\n",
    "min_dispatch_num = 3 # 挪车下限\n",
    "max_dispatch_num = 5 # 挪车上限，最大可运车辆数\n",
    "station_radius = 25 # 车站半径\n",
    "static_time_threshold = 86400 # 不动车时间阈值\n",
    "\n",
    "greedy_lookahead_station_num = 2 # 选站时多2个车站，贪心的cvrp\n",
    "expect_order_num = 5 # 期望的最大满载的车辆数\n",
    "min_distance_to_station = 100 # 人车最短距离\n",
    "nearest_bike_scaler = 2 # 扩增参数，多取点车"
   ]
  },
  {
   "cell_type": "code",
   "execution_count": 4,
   "metadata": {},
   "outputs": [],
   "source": [
    "# 经纬度转平面坐标\n",
    "def get_plan_coordinate(city_lon,city_lat,point_lon,point_lat):\n",
    "\n",
    "    center_longitude = city_lon* RADIUS_SCALE\n",
    "    center_latitude = city_lat* RADIUS_SCALE\n",
    "    bike_x = point_lon * RADIUS_SCALE\n",
    "    bike_y = point_lat * RADIUS_SCALE\n",
    "\n",
    "    bike_current_lat_radius = EARTH_RADIUS * math.cos(bike_y)\n",
    "    bike_x_dist = bike_current_lat_radius * (bike_x - center_longitude)\n",
    "    bike_y_dist = EARTH_RADIUS * (bike_y - center_latitude)\n",
    "    return bike_x_dist,bike_y_dist\n",
    "\n",
    "# 距离公式\n",
    "def haversine_dis(lon1, lat1, lon2, lat2):\n",
    "\n",
    "    #将十进制转为弧度\n",
    "    lon1, lat1, lon2, lat2 = map(radians, [lon1, lat1, lon2, lat2])\n",
    "    \n",
    "    #haversine公式\n",
    "    d_lon = lon2 - lon1\n",
    "    d_lat = lat2 - lat1\n",
    "    aa = sin(d_lat/2)**2 + cos(lat1)*cos(lat2)*sin(d_lon/2)**2\n",
    "    c = 2 * asin(sqrt(aa))\n",
    "    return c*EARTH_RADIUS\n",
    "\n"
   ]
  },
  {
   "cell_type": "markdown",
   "metadata": {},
   "source": [
    "#### 获取可派车站"
   ]
  },
  {
   "cell_type": "code",
   "execution_count": 5,
   "metadata": {},
   "outputs": [
    {
     "data": {
      "text/plain": [
       "14"
      ]
     },
     "execution_count": 5,
     "metadata": {},
     "output_type": "execute_result"
    }
   ],
   "source": [
    "def get_station():\n",
    "    # 车站中心坐标\n",
    "    with open('station_point.pkl','rb') as f:\n",
    "        station_point = pickle.load(f)\n",
    "    # 车站目标量、预估流入、24h预估收益\n",
    "    with open('station_target.pkl','rb') as f:\n",
    "        station_target = pickle.load(f)\n",
    "    # 所有可用车\n",
    "    with open('bike_list_origin.pkl','rb') as f:\n",
    "        bike_list = pickle.load(f)\n",
    "\n",
    "    # print(\"车站基础信息: %s,\\n 车站中心坐标: %s\"%(station_target[0],station_point))\n",
    "\n",
    "    # 车站基础数据加工\n",
    "    station_origin = []\n",
    "    filter_station_list = [] # 白/黑名单车站\n",
    "    for obj in station_target:\n",
    "        if obj[\"station_id\"] in filter_station_list: # 过滤名单车站\n",
    "            continue\n",
    "        if obj[\"station_id\"] in station_point: # 添加有中心点的线上生效车站\n",
    "            newobj = obj\n",
    "            newobj['lon'] = float(station_point[obj[\"station_id\"]][\"lon\"])\n",
    "            newobj[\"lat\"] = float(station_point[obj[\"station_id\"]][\"lat\"])\n",
    "            newobj[\"worker_dis\"] = haversine_dis(newobj['lon'],newobj[\"lat\"],worker_lon,worker_lat) # 距工人距离(m)\n",
    "            station_origin.append(newobj)\n",
    "    # station_origin[0]\n",
    "\n",
    "    # 可根据实际业务过滤其他派单策略类型\n",
    "    # 如过滤 堆积区车站\n",
    "    # 堆积区逻辑：通过dbscan找到历史每天车辆堆积大于一定数量区域，存一个区域polygon标记易堆积区\n",
    "    # 过滤堆积区逻辑：遍历易堆积区域，判断车站坐标是否在区域内 pile_area.contains(point)？\n",
    "\n",
    "    # 过滤掉不满足最小派单车辆数的车站\n",
    "    station_filter_min_num = []\n",
    "    for obj in station_origin:\n",
    "        #初步过滤不符合要求的车站，提升性能 target  - predict_in >= min_dispatch_num\n",
    "        if obj[\"target_bike_cnt\"] - obj[\"predict_in_bike_cnt\"] >= min_dispatch_num :\n",
    "            station_filter_min_num.append(obj)\n",
    "    \n",
    "    bike_tree = spatial.KDTree([ get_plan_coordinate(city_lon,city_lat, x['longitude'],x['latitude'])  for x in bike_list])\n",
    "    #计算车站25米范围车的数量\n",
    "    if len(station_filter_min_num) > 0: # 如果过滤完还有车站数据，计算车站周围25m内车辆数\n",
    "        station_bikes = bike_tree.query_ball_point([get_plan_coordinate(city_lon,city_lat,x[\"lon\"],x[\"lat\"]) for x in station_filter_min_num],station_radius)\n",
    "        for i in range(len(station_filter_min_num)):\n",
    "            station_filter_min_num[i][\"context_bike_num\"] = len(station_bikes[i])\n",
    "            station_filter_min_num[i][\"context_bike_sns\"] = [ bike_list[idx][\"bikeSn\"] for idx in station_bikes[i]]\n",
    "            station_filter_min_num[i][\"context_bikes\"] = [ bike_list[idx] for idx in station_bikes[i]]\n",
    "    # 考虑实时周围车辆数后，通过target_revise二次过滤车站\n",
    "    final_stations = []\n",
    "    for obj in station_filter_min_num:\n",
    "        obj[\"target_revise\"] = obj[\"target_bike_cnt\"] - obj[\"predict_in_bike_cnt\"] - obj[\"context_bike_num\"]\n",
    "        if obj[\"target_revise\"] >= min_dispatch_num:\n",
    "            final_stations.append(obj)\n",
    "    len(final_stations)\n",
    "    return final_stations\n",
    "len(get_station())"
   ]
  },
  {
   "cell_type": "markdown",
   "metadata": {},
   "source": [
    "#### 获取可派不动车"
   ]
  },
  {
   "cell_type": "code",
   "execution_count": 6,
   "metadata": {},
   "outputs": [
    {
     "name": "stdout",
     "output_type": "stream",
     "text": [
      "可用车数量： 2417\n",
      "不动车数量： 650\n",
      "不在车站内的不动车数量： 649\n"
     ]
    },
    {
     "data": {
      "text/plain": [
       "{'bikeSn': '819211916',\n",
       " 'longitude': 108.844097,\n",
       " 'latitude': 23.227359,\n",
       " 'blockId': '8b4152702a4efff',\n",
       " 'attributeList': [{'key': 4, 'value': 18}],\n",
       " 'lastOrderEndTime': 1671786662000,\n",
       " 'lastMoveEndTime': 1671673025000,\n",
       " 'static_hours': 431.474686538842,\n",
       " 'to_labor_distance': 776.0017030812481}"
      ]
     },
     "execution_count": 6,
     "metadata": {},
     "output_type": "execute_result"
    }
   ],
   "source": [
    "def get_static_bike():\n",
    "     # 所有可用车\n",
    "    with open('bike_list_origin.pkl','rb') as f:\n",
    "        bike_list = pickle.load(f)\n",
    "    print('可用车数量：',len(bike_list))\n",
    "    # 获取不动车,此处为>24h不动\n",
    "    static_bike_list = []\n",
    "    for b in bike_list:\n",
    "        if b[\"static_hours\"] > static_time_threshold/3600:\n",
    "            static_bike_list.append(b)\n",
    "    print('不动车数量：',len(static_bike_list))\n",
    "    # 过滤掉已经在车站中的不动车\n",
    "    station_bikes_set = set()\n",
    "    final_stations = get_station()\n",
    "    for s in final_stations:\n",
    "        if \"context_bike_sns\" in s:\n",
    "            for sn in s[\"context_bike_sns\"]:\n",
    "                station_bikes_set.add(sn) \n",
    "    #print(\"station_bikes_set\",len(station_bikes_set),station_bikes_set)\n",
    "    filted_bike_list = []\n",
    "    for b in static_bike_list:\n",
    "        if b[\"bikeSn\"] not in station_bikes_set:\n",
    "            filted_bike_list.append(b)\n",
    "    print('不在车站内的不动车数量：',len(filted_bike_list))\n",
    "    return filted_bike_list\n",
    "get_static_bike()[0]\n"
   ]
  },
  {
   "cell_type": "markdown",
   "metadata": {},
   "source": [
    "#### 可派不动车组团"
   ]
  },
  {
   "cell_type": "code",
   "execution_count": 7,
   "metadata": {},
   "outputs": [
    {
     "name": "stdout",
     "output_type": "stream",
     "text": [
      "可用车数量： 2417\n",
      "不动车数量： 650\n",
      "不在车站内的不动车数量： 649\n",
      "车辆信息及车辆数: [{'bikeSn': '819211916', 'longitude': 108.844097, 'latitude': 23.227359, 'blockId': '8b4152702a4efff', 'attributeList': [{'key': 4, 'value': 18}], 'lastOrderEndTime': 1671786662000, 'lastMoveEndTime': 1671673025000, 'static_hours': 431.474686538842, 'to_labor_distance': 776.0017030812481}, {'bikeSn': '819327120', 'longitude': 108.812257, 'latitude': 23.215693, 'blockId': '8b415270e905fff', 'attributeList': [{'key': 4, 'value': 2}], 'lastOrderEndTime': 1673237907000, 'lastMoveEndTime': 1672992379000, 'static_hours': 28.35107542773088, 'to_labor_distance': 2853.5619388375126}] 649\n",
      "bike_pair_list : [({'bikeSn': '819211916', 'longitude': 108.844097, 'latitude': 23.227359, 'blockId': '8b4152702a4efff', 'attributeList': [{'key': 4, 'value': 18}], 'lastOrderEndTime': 1671786662000, 'lastMoveEndTime': 1671673025000, 'static_hours': 431.474686538842, 'to_labor_distance': 776.0017030812481}, {'bikeSn': '819430512', 'longitude': 108.843707, 'latitude': 23.226972, 'blockId': '8b4152702a4dfff', 'attributeList': [{'key': 4, 'value': 4}], 'lastOrderEndTime': 1672643365000, 'lastMoveEndTime': 1673071526000, 'static_hours': 74.56801987217533, 'to_labor_distance': 743.921492784681}, 58.65120339686587)]\n",
      "bike_sn_set lens: 357\n",
      "valid_cluster : [{'819335166', '819426410', '819423952', '819410746', '819412149'}, {'819410217', '819335112', '819435747', '819430540'}, {'819427702', '819427419', '819430570', '819328917', '819428104', '819411501', '819420099', '819411505', '819425221', '819410691'}]\n",
      "valid_bikes lens: 196\n",
      "new_bike_list : [{'bikeSn': '819313451', 'longitude': 108.832845, 'latitude': 23.233007, 'blockId': '8b41527030b4fff', 'attributeList': [{'key': 4, 'value': 2}], 'lastOrderEndTime': 1673234571000, 'lastMoveEndTime': 1673245566000, 'static_hours': 26.22357542773088, 'to_labor_distance': 646.7485501150749, 'cluster_id': 6}, {'bikeSn': '819313454', 'longitude': 108.816797, 'latitude': 23.221914, 'blockId': '8b415270ed2bfff', 'attributeList': [{'key': 4, 'value': 4}], 'lastOrderEndTime': 1673057707000, 'lastMoveEndTime': 1672969681000, 'static_hours': 78.40663098328643, 'to_labor_distance': 2142.3847637040603, 'cluster_id': 4}]\n"
     ]
    },
    {
     "data": {
      "text/plain": [
       "196"
      ]
     },
     "execution_count": 7,
     "metadata": {},
     "output_type": "execute_result"
    }
   ],
   "source": [
    "def get_bike_clusters():\n",
    "\n",
    "    # 超x天不动车辆\n",
    "    # with open('bike_list.pkl','rb') as f:\n",
    "    #     bike_list = pickle.load(f)\n",
    "    bike_list = get_static_bike()\n",
    "    print('车辆信息及车辆数:',bike_list[:2],len(bike_list))\n",
    "\n",
    "    # 自定义聚类参数\n",
    "    nearest_k = 6\n",
    "    top_distance_rate = 0.25\n",
    "    min_cluster_num = 4\n",
    "\n",
    "    # 车辆经纬度转平面坐标\n",
    "    bike_coor_list = [get_plan_coordinate(city_lon, city_lat, x['longitude'],x['latitude'])  for x in bike_list]\n",
    "\n",
    "    # 车辆平面坐标建KD树\n",
    "    bike_kdtree = spatial.KDTree(bike_coor_list)  \n",
    "    # 找每个坐标最近的7个车辆坐标（含自身）返回（dist,index）\n",
    "    nearest_neighbors = bike_kdtree.query(bike_coor_list,k = nearest_k +1)\n",
    "    \n",
    "    # 给每个车找最近的除自身外6个车，写list \n",
    "    # [(core_bike1,round_bike11,dis),(core_bike1,round_bike12,dis),...(core_bike1,round_bike16,dis),\n",
    "    # (core_bike2,round_bike21,dis),(core_bike1,round_bike22,dis),...(core_bike1,round_bike26,dis)...\n",
    "    # ]\n",
    "\n",
    "    bike_pair_list = []\n",
    "    for bi in range(len(bike_list)) : \n",
    "        distance_list = nearest_neighbors[0][bi]\n",
    "        index_list = nearest_neighbors[1][bi]\n",
    "        for ni in range(len(distance_list)) :\n",
    "            if bike_list[bi][\"bikeSn\"] != bike_list[index_list[ni]][\"bikeSn\"]:\n",
    "                bike_pair_list.append((bike_list[bi], bike_list[index_list[ni]], distance_list[ni]))\n",
    "    print('bike_pair_list :',bike_pair_list[:1])\n",
    "\n",
    "    # 筛选出距离最近的前25%车辆对\n",
    "    bike_pair_list.sort(key = lambda x:x[2])\n",
    "    top_list = bike_pair_list[0:int(len(bike_pair_list) * top_distance_rate)]\n",
    "\n",
    "    # 车辆按编号去重\n",
    "    bike_sn_set = set([ x[0][\"bikeSn\"] for x in top_list]).union(set([ x[1][\"bikeSn\"] for x in top_list]))\n",
    "    bike_sn_set\n",
    "    print('bike_sn_set lens:',len(bike_sn_set))\n",
    "\n",
    "    # 构图, 添加顶点，添加边\n",
    "    G = nx.Graph()\n",
    "    for sn in bike_sn_set:\n",
    "        G.add_node(sn)\n",
    "    for link in top_list:\n",
    "        G.add_edge(link[0][\"bikeSn\"], link[1][\"bikeSn\"])\n",
    "    # nx.draw(G, node_color='g',node_size=20) # 可视化\n",
    "\n",
    "    # 找连通分量\n",
    "    sub_clusters = []\n",
    "    for c in nx.connected_components(G):\n",
    "        sub_clusters.append(c)\n",
    "\n",
    "    # 过滤出最少有四辆车的连通分量\n",
    "    valid_cluster = [x for x in sub_clusters if len(x) >= min_cluster_num ]\n",
    "    print('valid_cluster :', valid_cluster[:3])\n",
    "\n",
    "    # 打一个聚类簇id\n",
    "    cluster_id_map = {}\n",
    "    for idx,c in enumerate(sub_clusters):\n",
    "        for sn in c:\n",
    "            cluster_id_map[sn] = idx\n",
    "    \n",
    "    # 上述可用车集合\n",
    "    valid_bikes = reduce(lambda x,y:x.union(y),valid_cluster)\n",
    "    print('valid_bikes lens:',len(valid_bikes))\n",
    "\n",
    "    # 车辆组团结束，至少四辆车同属一个簇，用于后续车辆分配和路径规划\n",
    "    new_bike_list = []\n",
    "    for b in bike_list:\n",
    "        if b[\"bikeSn\"] in valid_bikes:\n",
    "            b[\"cluster_id\"] = cluster_id_map.get(b[\"bikeSn\"],\"-1\")\n",
    "            new_bike_list.append(b)\n",
    "    print('new_bike_list :',new_bike_list[:2])\n",
    "    return new_bike_list\n",
    "\n",
    "len(get_bike_clusters())"
   ]
  },
  {
   "cell_type": "markdown",
   "metadata": {},
   "source": [
    "#### 选站逻辑"
   ]
  },
  {
   "cell_type": "code",
   "execution_count": 8,
   "metadata": {},
   "outputs": [
    {
     "name": "stdout",
     "output_type": "stream",
     "text": [
      "可用车数量： 2417\n",
      "不动车数量： 650\n",
      "不在车站内的不动车数量： 649\n",
      "车辆信息及车辆数: [{'bikeSn': '819211916', 'longitude': 108.844097, 'latitude': 23.227359, 'blockId': '8b4152702a4efff', 'attributeList': [{'key': 4, 'value': 18}], 'lastOrderEndTime': 1671786662000, 'lastMoveEndTime': 1671673025000, 'static_hours': 431.474686538842, 'to_labor_distance': 776.0017030812481}, {'bikeSn': '819327120', 'longitude': 108.812257, 'latitude': 23.215693, 'blockId': '8b415270e905fff', 'attributeList': [{'key': 4, 'value': 2}], 'lastOrderEndTime': 1673237907000, 'lastMoveEndTime': 1672992379000, 'static_hours': 28.35107542773088, 'to_labor_distance': 2853.5619388375126}] 649\n",
      "bike_pair_list : [({'bikeSn': '819211916', 'longitude': 108.844097, 'latitude': 23.227359, 'blockId': '8b4152702a4efff', 'attributeList': [{'key': 4, 'value': 18}], 'lastOrderEndTime': 1671786662000, 'lastMoveEndTime': 1671673025000, 'static_hours': 431.474686538842, 'to_labor_distance': 776.0017030812481}, {'bikeSn': '819430512', 'longitude': 108.843707, 'latitude': 23.226972, 'blockId': '8b4152702a4dfff', 'attributeList': [{'key': 4, 'value': 4}], 'lastOrderEndTime': 1672643365000, 'lastMoveEndTime': 1673071526000, 'static_hours': 74.56801987217533, 'to_labor_distance': 743.921492784681}, 58.65120339686587)]\n",
      "bike_sn_set lens: 357\n",
      "valid_cluster : [{'819335166', '819426410', '819423952', '819410746', '819412149'}, {'819410217', '819335112', '819435747', '819430540'}, {'819427702', '819427419', '819430570', '819328917', '819428104', '819411501', '819420099', '819411505', '819425221', '819410691'}]\n",
      "valid_bikes lens: 196\n",
      "new_bike_list : [{'bikeSn': '819313451', 'longitude': 108.832845, 'latitude': 23.233007, 'blockId': '8b41527030b4fff', 'attributeList': [{'key': 4, 'value': 2}], 'lastOrderEndTime': 1673234571000, 'lastMoveEndTime': 1673245566000, 'static_hours': 26.22357542773088, 'to_labor_distance': 646.7485501150749, 'cluster_id': 6}, {'bikeSn': '819313454', 'longitude': 108.816797, 'latitude': 23.221914, 'blockId': '8b415270ed2bfff', 'attributeList': [{'key': 4, 'value': 4}], 'lastOrderEndTime': 1673057707000, 'lastMoveEndTime': 1672969681000, 'static_hours': 78.40663098328643, 'to_labor_distance': 2142.3847637040603, 'cluster_id': 4}]\n"
     ]
    }
   ],
   "source": [
    "bike = get_bike_clusters()\n",
    "station = get_station()"
   ]
  },
  {
   "cell_type": "code",
   "execution_count": 9,
   "metadata": {},
   "outputs": [],
   "source": [
    "\n",
    "# 考虑未来5单的最大车辆数，扩增2倍保证供给充分，5*5*2\n",
    "max_dispatch_bike_num =  expect_order_num * max_dispatch_num * nearest_bike_scaler\n",
    "\n",
    "# 找出离工人最近的50辆车\n",
    "bike.sort(key = lambda x:x[\"to_labor_distance\"])\n",
    "new_bike_list = bike[:max_dispatch_bike_num]\n",
    "\n",
    "# 这些车的中心点\n",
    "center = np.mean([(b[\"longitude\"],b[\"latitude\"]) for b in bike ], axis = 0).tolist()\n",
    "\n",
    "# 按车站距车辆中心点距离排序\n",
    "for s in station:\n",
    "    s[\"bikes_center_dis\"] = haversine_dis(s['lon'],s[\"lat\"],center[0], center[1])  \n",
    "list.sort(station,key = lambda x:x['bikes_center_dis'])\n",
    "\n",
    "# 考虑未来5单，再加上保证供给多考虑的2单车站\n",
    "# 多2个车站是因为距离近的前5个车站车辆需求不一定是满载的5辆车，所以多几个，再筛选一轮\n",
    "lookup_station_list = station[:expect_order_num + greedy_lookahead_station_num ]\n",
    "# ori_sum_gap = sum([ x[\"target_revise\"] for x in  lookup_station_list[:expect_order_num ]])\n",
    "#print([ (x[\"target_gap\"],x['bikes_center_dis']) for x in  lookup_station_list])\n",
    "\n",
    "list.sort(lookup_station_list,key = lambda x:(-x[\"target_revise\"],x['bikes_center_dis']))\n",
    "lookup_station_list = lookup_station_list[:expect_order_num]\n",
    "# sum_gap = sum([ x[\"target_revise\"] for x in  lookup_station_list])\n",
    "# print(ori_sum_gap,sum_gap)\n",
    "        "
   ]
  },
  {
   "cell_type": "markdown",
   "metadata": {},
   "source": [
    "#### 选车逻辑"
   ]
  },
  {
   "cell_type": "code",
   "execution_count": 10,
   "metadata": {},
   "outputs": [],
   "source": [
    "\n",
    "# 找出距车站100m内的车辆\n",
    "bike_tree = spatial.KDTree([ get_plan_coordinate(city_lon,city_lat, x['longitude'],x['latitude'])  for x in bike])  \n",
    "station_bikes = bike_tree.query_ball_point(\n",
    "    [get_plan_coordinate(city_lon,city_lat,x[\"lon\"],x[\"lat\"]) for x in lookup_station_list], min_distance_to_station)\n",
    "station_nearest_bikes_set = set()\n",
    "for i  in range(len(station_bikes)):\n",
    "    bike_idxs = station_bikes[i]\n",
    "    for bidx in bike_idxs :\n",
    "        station_nearest_bikes_set.add(bike[bidx][\"bikeSn\"])\n",
    "# 100m内车不挪\n",
    "dispatch_bike = [b for b in bike if b[\"bikeSn\"] not in station_nearest_bikes_set]\n",
    "# 距离排序\n",
    "dispatch_bike.sort(key = lambda x:x[\"to_labor_distance\"])"
   ]
  },
  {
   "cell_type": "code",
   "execution_count": 11,
   "metadata": {},
   "outputs": [
    {
     "name": "stdout",
     "output_type": "stream",
     "text": [
      "车辆数：196，车站数: 5\n"
     ]
    }
   ],
   "source": [
    "print(\"车辆数：%s，车站数: %s\"%(len(dispatch_bike),len(lookup_station_list)))"
   ]
  },
  {
   "cell_type": "code",
   "execution_count": 12,
   "metadata": {},
   "outputs": [
    {
     "name": "stdout",
     "output_type": "stream",
     "text": [
      "5 50\n"
     ]
    }
   ],
   "source": [
    "# 根据可派车辆数，以及最大满载量，修正车站数及其所需挪入车辆数（可能车不够挪5个站的需求），及候选车辆数\n",
    "candidate_bikes= []\n",
    "move_bike_num = 0\n",
    "candidate_stations = []\n",
    "while True:      \n",
    "    remain_bike_num = len(dispatch_bike) -  move_bike_num \n",
    "    if remain_bike_num < min_dispatch_num:\n",
    "        break\n",
    "    if (len(candidate_stations) >= len(lookup_station_list)) :\n",
    "        break\n",
    "    station = lookup_station_list[len(candidate_stations)]\n",
    "    move_num = min(station[\"target_revise\"],max_dispatch_num)\n",
    "    \n",
    "    if move_num > remain_bike_num:\n",
    "        break\n",
    "        \n",
    "    station[\"move_num\"] = move_num\n",
    "    candidate_stations.append(station)\n",
    "    move_bike_num += move_num\n",
    "candidate_bikes = dispatch_bike[: max_dispatch_bike_num] # 随便选了50个车辆\n",
    "\n",
    "print(len(candidate_stations),len(candidate_bikes))"
   ]
  },
  {
   "cell_type": "code",
   "execution_count": 13,
   "metadata": {},
   "outputs": [
    {
     "name": "stdout",
     "output_type": "stream",
     "text": [
      "54\n"
     ]
    }
   ],
   "source": [
    "# 之前车辆自定义聚类搞了个id\n",
    "cluster_id_set =  set([b[\"cluster_id\"] for b in candidate_bikes if \"cluster_id\" in b])\n",
    "\n",
    "# 把挑选出的候选车的id找到，再从可派车里把相同id的加进来\n",
    "# os:这有必要吗？\n",
    "same_cluster_bikes = []\n",
    "for b in dispatch_bike:\n",
    "    if (b[\"cluster_id\"]  in cluster_id_set ) and (b not in candidate_bikes) :\n",
    "        same_cluster_bikes.append(b)\n",
    "candidate_bikes = candidate_bikes + same_cluster_bikes\n",
    "print(len(candidate_bikes))       "
   ]
  },
  {
   "cell_type": "code",
   "execution_count": 14,
   "metadata": {},
   "outputs": [],
   "source": [
    "# 先用cvrp匹配多车站和多车辆\n",
    "# 输出5个车站和每个车站对应的车辆信息及捡车次序\n",
    "from cvrp import CVRPSolver\n",
    "solver = CVRPSolver(candidate_stations,candidate_bikes)\n",
    "solution = solver.solve()"
   ]
  },
  {
   "cell_type": "code",
   "execution_count": 22,
   "metadata": {},
   "outputs": [],
   "source": [
    "# 再用tsp求以工人为出发点和5个车站的最短tsp问题\n",
    "# 输出工人遍历5个车站的先后次序,取第1个站派单\n",
    "from tsp import TSPSolver\n",
    "route_stations = [ r[\"station\"] for r in solution.get(\"routes\")]\n",
    "tsp_solver  = TSPSolver(worker_lon, worker_lat,route_stations)\n",
    "tsp_solution  = tsp_solver.solve()\n"
   ]
  },
  {
   "cell_type": "code",
   "execution_count": 26,
   "metadata": {},
   "outputs": [],
   "source": [
    "if tsp_solution != None:\n",
    "    tsp_solution = tsp_solution\n",
    "    target_station = tsp_solution[\"routes\"][0]\n",
    "    ori_bike_info_list = tsp_solution[\"routes\"][0][\"bikes\"]\n",
    "    move_num = len(ori_bike_info_list)\n"
   ]
  },
  {
   "cell_type": "code",
   "execution_count": 25,
   "metadata": {},
   "outputs": [],
   "source": [
    "resp = {\n",
    "    \"labor_id\":laborId,\n",
    "    \"city_id\":city_id,\n",
    "    \"bike_info_list\":None,\n",
    "    \"station_info_list\":None,\n",
    "    \"bike_count\":0,\n",
    "    \"trace_id\":traceId\n",
    "    }"
   ]
  },
  {
   "cell_type": "code",
   "execution_count": 27,
   "metadata": {},
   "outputs": [],
   "source": [
    "resp[\"bike_count\"] = move_num\n",
    "if target_station != None:\n",
    "    resp[\"station_info_list\"] = [ { \"station_id\":target_station[\"station_id\"],\n",
    "                \"bike_count\":move_num,\n",
    "                \"station_lat\":target_station[\"lat\"],\n",
    "                \"station_lon\":target_station[\"lon\"]}]\n",
    "\n",
    "if ori_bike_info_list != None:\n",
    "    bikes =[]\n",
    "    for bike in ori_bike_info_list:\n",
    "        dis = haversine_dis(target_station[\"lon\"],target_station[\"lat\"],bike[\"longitude\"],bike[\"latitude\"])\n",
    "        bikes.append({\n",
    "                        \"bike_sn\":bike[\"bikeSn\"],\n",
    "                \"lon\":bike[\"longitude\"],\n",
    "                \"lat\":bike[\"latitude\"],\n",
    "                \"blockId\":bike[\"blockId\"],\n",
    "                \"lastOrderEndTime\":bike[\"lastOrderEndTime\"],\n",
    "                \"lastMoveEndTime\":bike[\"lastMoveEndTime\"],\n",
    "                \"distance\": dis\n",
    "        })\n",
    "    resp[\"bike_info_list\"] = bikes"
   ]
  },
  {
   "cell_type": "code",
   "execution_count": 35,
   "metadata": {},
   "outputs": [
    {
     "data": {
      "text/plain": [
       "{'labor_id': 32746,\n",
       " 'city_id': 325,\n",
       " 'bike_info_list': [{'bike_sn': '819335577',\n",
       "   'lon': 108.824114,\n",
       "   'lat': 23.229013,\n",
       "   'blockId': '8b4152703331fff',\n",
       "   'lastOrderEndTime': 1673156437000,\n",
       "   'lastMoveEndTime': 1672462545000,\n",
       "   'distance': 593.3639085949785},\n",
       "  {'bike_sn': '819434040',\n",
       "   'lon': 108.824034,\n",
       "   'lat': 23.229035,\n",
       "   'blockId': '8b4152703304fff',\n",
       "   'lastOrderEndTime': 1673066137000,\n",
       "   'lastMoveEndTime': 1673159105000,\n",
       "   'distance': 601.8896638623978},\n",
       "  {'bike_sn': '819335194',\n",
       "   'lon': 108.824273,\n",
       "   'lat': 23.229173,\n",
       "   'blockId': '8b4152703331fff',\n",
       "   'lastOrderEndTime': 1672744469000,\n",
       "   'lastMoveEndTime': 1673158939000,\n",
       "   'distance': 584.2400848822257}],\n",
       " 'station_info_list': [{'station_id': 265203,\n",
       "   'bike_count': 3,\n",
       "   'station_lat': 23.227269525534815,\n",
       "   'station_lon': 108.82960188795103}],\n",
       " 'bike_count': 3,\n",
       " 'trace_id': 'test'}"
      ]
     },
     "execution_count": 35,
     "metadata": {},
     "output_type": "execute_result"
    }
   ],
   "source": [
    "resp"
   ]
  },
  {
   "cell_type": "markdown",
   "metadata": {},
   "source": [
    "#### 复盘os:\n",
    "- 1.获取可派车站、可派不动车这两步没啥问题\n",
    "- 2.可派不动车组团这步就开始迷惑了\n",
    "  - （1）Q:找每个车最近的6个车，再过滤掉那些离得远（后75%）的车辆对？\n",
    "  - （2）为啥不先确定离工人最近的几个站，以及近的若干车辆\n",
    "  - （3）Q:把剩下的车辆去重，建图，保留至少还有4个车的簇？\n",
    "  - （4）如果订个规则直接派的话,这一定程度能保证集中。但是过滤掉的那么多车很可能更近更合适,因为后面用了vrp,这一步没必要\n",
    "- 3.选站逻辑迷惑\n",
    "  - （1）Q:针对生成1次工单的情况，采用每次选5+2个站，找离工人最近的50辆车计算车辆中心，确定离中心最近的top5站作为候选车站,多2站确保满载？\n",
    "  - （2）1次只生成1个工单，而不是1次生成连续7个工单，这情况没必要上cvrp。直接选最近的满载站，最近的车，搞个tsp就好了（满载站保证工人不亏钱，最近站一定概率保证tsp最后一段距离最短）,其实保证距离短，可以找最近满载站和工人位置的中点，就叫质心吧，离质心最近的车辆作为候选，可以避免工人在车群和车站中间的尴尬（虽然工人离着车站和车辆都近，但是总距离是远的）\n",
    "  - （3）好像tsp不适合，因为我们是要保证检车在前，所以可以近似为确定离质心和工人最近的车辆为起点，确定质心和车站最近的车辆作为终点，找到这个起终点之前其余车辆的最短遍历路径，车辆点之间都可以到达，所以可以视为完全图， 那么Dijkstra 算法或 A* 算法即可\n",
    "  - （4）上面又想错了，没保证所有车辆都经过，还是ortools改变起终点参数控制吧\n",
    "- 4.选车逻辑：\n",
    "  - （1）过滤车站100m内车辆？限制近距离挪车这个没问题\n",
    "  - （2）根据可派车辆数，以及最大满载量，修正车站数及其所需挪入车辆数（可能车不够挪5个站的需求），得到候选车辆数\n",
    "  - （3）把候选车辆数里的簇类找出来，在可派车里找这些簇加入候选车列表？为了可能离得近\n",
    "- 5.先用cvrp匹配多车站和多车辆\n",
    "  - 输出5个车站和每个车站对应的车辆信息及捡车次序\n",
    "- 6.再用tsp求以工人为出发点和5个车站的最短tsp问题\n",
    "  - 输出工人遍历5个车站的先后次序,取第1个站派单"
   ]
  },
  {
   "cell_type": "markdown",
   "metadata": {},
   "source": [
    "#### A*最短路径算法"
   ]
  },
  {
   "cell_type": "code",
   "execution_count": 37,
   "metadata": {},
   "outputs": [
    {
     "data": {
      "image/png": "[encoded data removed]",
      "text/plain": [
       "<Figure size 432x288 with 1 Axes>"
      ]
     },
     "metadata": {
      "needs_background": "light"
     },
     "output_type": "display_data"
    }
   ],
   "source": [
    "\n",
    "\"\"\"\n",
    "1.A*算法是一种启发式搜索算法，它在 Dijkstra 算法的基础上添加了一个启发函数，用于加速搜索过程。\n",
    "\n",
    "2.A*算法有两个重要的概念：代价函数（cost function）和启发函数（heuristic function）。代价函数 f(n) 用于表示从起点到当前点的真实距离，而启发函数 h(n) 用于表示从当前点到终点的预估距离。\n",
    "\n",
    "3.openSet 和 closedSet 分别表示待搜索点和已搜索点，在循环中，我们首先取出 openSet 中 fScore 最小的点作为当前点，如果当前点为目标点，则返回结果。\n",
    "\n",
    "4.cameFrom 用于记录每个点的前驱结点，gScore 记录的是从起点到当前点的真实距离，fScore 则是 gScore 与 h(n) 的和，用于表示从起点到当前点的预估距离。\n",
    "\n",
    "5.代码中使用了一个计算预估距离的函数 heuristic_cost_estimate(a, b) 和重建路径的函数 reconstruct_path(cameFrom, current) 。预估距离的计算可以使用各种不同的方法，这里使用的是曼哈顿距离，而重建路径则是通过 cameFrom 中记录的前驱结点来进行反向遍历。\n",
    "\n",
    "这只是一个简单的 A* 算法的示例代码，实际应用中需要根据问题的具体情况来进行调整。\n",
    "\n",
    "提醒一点，A*算法需要使用优先队列来优化搜索速度，所以在python中使用heapq库来实现优先队列。\n",
    "\n",
    "\"\"\"\n",
    "import heapq\n",
    "\n",
    "def astar(graph, start, goal):\n",
    "    # 初始化数据\n",
    "    closedSet = set()\n",
    "    openSet = []\n",
    "    heapq.heappush(openSet, (0, start))\n",
    "    cameFrom = {}\n",
    "    gScore = {start: 0}\n",
    "    fScore = {start: heuristic_cost_estimate(start, goal)}\n",
    "\n",
    "    while openSet:\n",
    "        # 取出 openSet 中 fScore 最小的点\n",
    "        current = heapq.heappop(openSet)[1]\n",
    "        if current == goal:\n",
    "            return reconstruct_path(cameFrom, goal)\n",
    "        closedSet.add(current)\n",
    "\n",
    "        # 更新点之间的距离\n",
    "        for neighbor in graph[current]:\n",
    "            if neighbor in closedSet:\n",
    "                continue\n",
    "            tentative_gScore = gScore[current] + graph[current][neighbor]\n",
    "\n",
    "            if neighbor not in [i[1] for i in openSet]:\n",
    "                heapq.heappush(openSet, (tentative_gScore, neighbor))\n",
    "            elif tentative_gScore >= gScore[neighbor]:\n",
    "                continue\n",
    "\n",
    "            cameFrom[neighbor] = current\n",
    "            gScore[neighbor] = tentative_gScore\n",
    "            fScore[neighbor] = gScore[neighbor] + heuristic_cost_estimate(neighbor, goal)\n",
    "\n",
    "    return None\n",
    "\n",
    "def heuristic_cost_estimate(a, b):\n",
    "    # 预估距离计算函数，只允许朝上下左右四个方向移动，使用曼哈顿距离（本例所用），若可以任意方向移动则使用欧式距离（车辆问题可用），八个方向用对角距离\n",
    "    return abs(a[0] - b[0]) + abs(a[1] - b[1])\n",
    "\n",
    "def reconstruct_path(cameFrom, current):\n",
    "    # 通过 cameFrom 记录的前驱结点重建路径\n",
    "    total_path = [current]\n",
    "    while current in cameFrom:\n",
    "        current = cameFrom[current]\n",
    "        total_path.append(current)\n",
    "    return list(reversed(total_path))\n",
    "\n",
    "\n",
    "# 可视化\n",
    "import matplotlib.pyplot as plt \n",
    "\n",
    "# test\n",
    "graph = {(0,0):{(1,0):1,(0,1):1,(1,1):2**0.5,(2,1):5**0.5},\n",
    "         (0,1):{(0,0):1,(1,1):1}, \n",
    "         (1,0):{(1,1):1,(0,0):1,(2,0):1},\n",
    "         (1,1):{(1,0):1,(0,1):1,(0,0):2**0.5,(2,0):2**0.5},\n",
    "         (2,0):{(1,1):2**0.5},\n",
    "         (2,1):{(0,0):5**0.5},}\n",
    "start = (1,1) # 起点\n",
    "goal = (2,1) #终点\n",
    "min_path = astar(graph, start, goal)\n",
    "\n",
    "def show_min_dis(graph,min_path):\n",
    "    \n",
    "    # 顶点，边\n",
    "    node,pair = [],[]\n",
    "    for k,v in graph.items():\n",
    "        node.append(k)\n",
    "        for p in v.keys():\n",
    "            pair.append((k,p))\n",
    "    # 画点\n",
    "    plt.plot(list(zip(*node))[0],list(zip(*node))[1],'o')\n",
    "    \n",
    "    # 画边\n",
    "    tmp = []\n",
    "    for x in pair:\n",
    "        tmp.append(list(zip(*x)))\n",
    "    for x in tmp:\n",
    "        plt.plot(*x,'b')\n",
    "    \n",
    "    # 画最短路径\n",
    "    plt.plot(*list(zip(*min_path)),'r')\n",
    "    \n",
    "    plt.show()\n",
    "    \n",
    "show_min_dis(graph,min_path)"
   ]
  },
  {
   "cell_type": "markdown",
   "metadata": {},
   "source": [
    "#### 测试区"
   ]
  },
  {
   "cell_type": "code",
   "execution_count": null,
   "metadata": {},
   "outputs": [],
   "source": [
    "data = {}\n",
    "data['point'] = [[worker_lon,worker_lat]]\n",
    "\n",
    "for s in route_stations:\n",
    "    data['point'].append([ s[\"lon\"], s[\"lat\"]])\n",
    "\n",
    "distances = []\n",
    "for sp in data['point']:\n",
    "    row_list = [0]\n",
    "    for ep in data['point'][1:]:\n",
    "        row_list.append(  int(haversine_dis(sp[0], sp[1],ep[0], ep[1] )))\n",
    "    distances.append(row_list)\n",
    "distances\n",
    "        "
   ]
  }
 ],
 "metadata": {
  "kernelspec": {
   "display_name": "Python 3.8.3 ('base')",
   "language": "python",
   "name": "python3"
  },
  "language_info": {
   "codemirror_mode": {
    "name": "ipython",
    "version": 3
   },
   "file_extension": ".py",
   "mimetype": "text/x-python",
   "name": "python",
   "nbconvert_exporter": "python",
   "pygments_lexer": "ipython3",
   "version": "3.8.3"
  },
  "orig_nbformat": 4,
  "vscode": {
   "interpreter": {
    "hash": "ffcde2d150310b1e1807dcd4cef0eee1065874d43f0e760c11aa9d0ad7dd1536"
   }
  }
 },
 "nbformat": 4,
 "nbformat_minor": 2
}
