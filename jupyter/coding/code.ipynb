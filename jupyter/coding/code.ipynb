{
 "cells": [
  {
   "cell_type": "markdown",
   "metadata": {},
   "source": [
    "### 基于快排的topK问题模版"
   ]
  },
  {
   "cell_type": "code",
   "execution_count": 1,
   "metadata": {},
   "outputs": [
    {
     "name": "stdout",
     "output_type": "stream",
     "text": [
      "===快排===\n",
      "[0, 1, 2, 2, 3]\n",
      "===获得前k小的数,k=2===\n",
      "[-19, 0]\n",
      "[-19, 0, 1, 3, 2, 3]\n",
      "===获得第k小的数,k=3===\n",
      "1\n",
      "[-19, 0, 1, 3, 2, 3]\n",
      "===获得前k大的数,k=3===\n",
      "[1, 3, 3]\n",
      "[-19, 0, -2, 1, 3, 3]\n",
      "===获得第k大的数,k=3===\n",
      "1\n",
      "[-19, 0, -2, 1, 3, 3]\n",
      "===只排序前k个小的数,k=4===\n",
      "[0, 0, 0, 1, 3, 4, 5, 7, 6, 7]\n",
      "===只排序后k个大的数,k=4===\n",
      "[-7, 0, 0, 1, 0, 3, 4, 5, 6, 7]\n"
     ]
    }
   ],
   "source": [
    "def partition(nums, left, right):\n",
    "    pivot = nums[left]#初始化一个待比较数据\n",
    "    i,j = left, right\n",
    "    while(i < j):\n",
    "        while(i<j and nums[j]>=pivot): #从后往前查找，直到找到一个比pivot更小的数\n",
    "            j-=1\n",
    "        nums[i] = nums[j] #将更小的数放入左边\n",
    "        while(i<j and nums[i]<=pivot): #从前往后找，直到找到一个比pivot更大的数\n",
    "            i+=1\n",
    "        nums[j] = nums[i] #将更大的数放入右边\n",
    "    #循环结束，i与j相等\n",
    "    nums[i] = pivot #待比较数据放入最终位置 \n",
    "    return i #返回待比较数据最终位置\n",
    "\n",
    "#快速排序\n",
    "def quicksort(nums, left, right):\n",
    "    if left < right:\n",
    "        index = partition(nums, left, right)\n",
    "        quicksort(nums, left, index-1)\n",
    "        quicksort(nums, index+1, right)\n",
    "        \n",
    "print('===快排===')\n",
    "arr = [1,3,2,2,0]\n",
    "quicksort(arr, 0, len(arr)-1)\n",
    "print(arr) \n",
    "\n",
    "\n",
    "def topk_split(nums, k, left, right):\n",
    "    # 寻找下标为k的位置，找到之后停止递归，下标k实际是确定了第k+1个位置，因为下标从0开始（如k=2,找前2个小的数，那么相当于确定了第2+1个数的位置，返回nums[:k]即可）\n",
    "    #寻找到下标k的位置停止递归，使得nums数组中下标k左边是前k个小的数，index右边是后面n-k-1个大的数,k为第k+1小数字\n",
    "    if (left<right):\n",
    "        index = partition(nums, left, right)\n",
    "        if index==k:\n",
    "            return \n",
    "        elif index < k:\n",
    "            topk_split(nums, k, index+1, right)\n",
    "        else:\n",
    "            topk_split(nums, k, left, index-1)\n",
    "            \n",
    "#获得前k小的数\n",
    "def topk_smalls(nums, k):\n",
    "    topk_split(nums, k, 0, len(nums)-1)\n",
    "    return nums[:k]\n",
    "print('===获得前k小的数,k=2===')\n",
    "arr = [1,3,2,3,0,-19]\n",
    "k = 2\n",
    "print(topk_smalls(arr, k))\n",
    "print(arr)\n",
    "\n",
    "\n",
    "#获得第k小的数\n",
    "def topk_small(nums, k):\n",
    "    topk_split(nums, k, 0, len(nums)-1)\n",
    "    return nums[k] \n",
    "\n",
    "print('===获得第k小的数,k=3===')\n",
    "arr = [1,3,2,3,0,-19]\n",
    "k = 3\n",
    "print(topk_small(arr, k-1))\n",
    "print(arr)\n",
    "\n",
    "\n",
    "#获得前k大的数 \n",
    "def topk_larges(nums, k):\n",
    "    #parttion是按从小到大划分的，如果让index左边为前n-k个小的数，则index右边为前k个大的数\n",
    "    topk_split(nums, len(nums)-k, 0, len(nums)-1) #把k换成len(nums)-k\n",
    "    return nums[len(nums)-k:] \n",
    "\n",
    "print('===获得前k大的数,k=3===')\n",
    "arr = [1,3,-2,3,0,-19]\n",
    "k = 3\n",
    "print(topk_larges(arr, k))\n",
    "print(arr)\n",
    "\n",
    "#获得第k大的数 \n",
    "def topk_large(nums, k):\n",
    "    #parttion是按从小到大划分的，如果让index左边为前n-k个小的数，则index右边为前k个大的数\n",
    "    topk_split(nums, len(nums)-k, 0, len(nums)-1) #把k换成len(nums)-k\n",
    "    return nums[len(nums)-k] \n",
    "\n",
    "print('===获得第k大的数,k=3===')\n",
    "arr = [1,3,-2,3,0,-19]\n",
    "k = 3\n",
    "print(topk_large(arr, k))\n",
    "print(arr)\n",
    "\n",
    "#只排序前k个小的数\n",
    "#获得前k小的数O(n)，进行快排O(klogk)\n",
    "def topk_sort_left(nums, k):\n",
    "    topk_split(nums, k, 0, len(nums)-1) \n",
    "    topk = nums[:k]\n",
    "    quicksort(topk, 0, len(topk)-1)\n",
    "    return topk+nums[k:] #只排序前k个数字\n",
    "\n",
    "print('===只排序前k个小的数,k=4===')\n",
    "arr = [0,0,1,3,4,5,0,7,6,7]\n",
    "k = 4\n",
    "print(topk_sort_left(arr, k))\n",
    "\n",
    "#只排序后k个大的数\n",
    "#获得前n-k小的数O(n)，进行快排O(klogk)\n",
    "def topk_sort_right(nums, k):\n",
    "    topk_split(nums, len(nums)-k, 0, len(nums)-1) \n",
    "    topk = nums[len(nums)-k:]\n",
    "    quicksort(topk, 0, len(topk)-1)\n",
    "    return nums[:len(nums)-k]+topk #只排序后k个数字\n",
    "\n",
    "print('===只排序后k个大的数,k=4===')\n",
    "arr = [0,0,1,3,4,5,0,-7,6,7]\n",
    "k = 4\n",
    "print(topk_sort_right(arr, k))\n"
   ]
  },
  {
   "cell_type": "markdown",
   "metadata": {},
   "source": [
    "#### 215 数组中的第K个最大元素"
   ]
  },
  {
   "cell_type": "code",
   "execution_count": null,
   "metadata": {},
   "outputs": [],
   "source": [
    "import random\n",
    "def findKthLargest(self, nums: List[int], k: int) -> int:\n",
    "    def partition(nums,left,right):\n",
    "        pivot = nums[left]\n",
    "        l,r = left,right \n",
    "        while l<r:\n",
    "            while l<r and nums[r]>=pivot:\n",
    "                r-=1\n",
    "            nums[l]=nums[r]\n",
    "            while l<r and nums[l]<=pivot:\n",
    "                l+=1\n",
    "            nums[r] = nums[l]\n",
    "        nums[l] = pivot\n",
    "        return l \n",
    "    def randomchoice(nums,left,right): # 渐进O(n)\n",
    "        ridx = random.randint(left,right)\n",
    "        nums[left],nums[ridx] = nums[ridx],nums[left]\n",
    "        return partition(nums,left,right)\n",
    "    def topk_split(nums,left,right,k):\n",
    "        if left<right:\n",
    "            # idx = partition(nums,left,right)\n",
    "            idx = randomchoice(nums,left,right)\n",
    "            if idx==k:\n",
    "                return \n",
    "            elif idx<k:\n",
    "                topk_split(nums,idx+1,right,k)\n",
    "            else:\n",
    "                topk_split(nums,left,idx-1,k)\n",
    "    topk_split(nums,0,len(nums)-1,len(nums)-k)\n",
    "    print(nums[len(nums)-k])\n",
    "    return nums[len(nums)-k]"
   ]
  },
  {
   "cell_type": "markdown",
   "metadata": {},
   "source": [
    "### 二分搜索问题模板"
   ]
  },
  {
   "cell_type": "code",
   "execution_count": null,
   "metadata": {},
   "outputs": [],
   "source": [
    "# 数组非递减有序排列\n",
    "\n",
    "# 找目标值下标\n",
    "def findtarget(nums,target):\n",
    "    l,r = 0,len(nums)-1\n",
    "    while l<=r:\n",
    "        mid = l+(r-l)//2\n",
    "        if nums[mid]>target:\n",
    "            r = mid-1\n",
    "        elif nums[mid]<target:\n",
    "            l = mid+1\n",
    "        elif nums[mid]==target:\n",
    "            return mid\n",
    "    return -1\n",
    "\n",
    "# 找目标值左边界\n",
    "def findl(nums,target):\n",
    "    l,r = 0,len(nums)-1\n",
    "    while l<=r:\n",
    "        mid = l+(r-l)//2\n",
    "        if nums[mid]>target:\n",
    "            r = mid-1\n",
    "        elif nums[mid]<target:\n",
    "            l = mid+1\n",
    "        elif nums[mid]==target: # 找左，收缩右边界\n",
    "            r = mid -1\n",
    "    if l>=len(nums) or nums[l]!=target: # 找左，判断左是否在最右边越界\n",
    "        return -1\n",
    "    return l \n",
    "\n",
    "# 找目标值右边界\n",
    "def findr(nums,target):\n",
    "    l,r = 0,len(nums)-1\n",
    "    while l<=r:\n",
    "        mid = l+(r-l)//2\n",
    "        if nums[mid]>target:\n",
    "            r = mid-1\n",
    "        elif nums[mid]<target:\n",
    "            l = mid+1\n",
    "        elif nums[mid]==target: # 找右，收缩左边界\n",
    "            l = mid +1\n",
    "    if r<0 or nums[r]!=target:  # 找右，判断右是否在最左边越界\n",
    "        return -1\n",
    "    return r "
   ]
  },
  {
   "cell_type": "markdown",
   "metadata": {},
   "source": [
    "#### 34 在排序数组中查找元素的第一个和最后一个位置"
   ]
  },
  {
   "cell_type": "code",
   "execution_count": null,
   "metadata": {},
   "outputs": [],
   "source": [
    "class Solution:\n",
    "    def searchRange(self, nums: List[int], target: int) -> List[int]:\n",
    "        def findl(nums,target):\n",
    "            l,r = 0,len(nums)-1\n",
    "            while l<=r:\n",
    "                mid = l+(r-l)//2\n",
    "                if nums[mid]>target:\n",
    "                    r = mid-1\n",
    "                elif nums[mid]<target:\n",
    "                    l = mid+1\n",
    "                elif nums[mid]==target:\n",
    "                    r = mid -1\n",
    "            if l>=len(nums) or nums[l]!=target:\n",
    "                return -1\n",
    "            return l \n",
    "        def findr(nums,target):\n",
    "            l,r = 0,len(nums)-1\n",
    "            while l<=r:\n",
    "                mid = l+(r-l)//2\n",
    "                if nums[mid]>target:\n",
    "                    r = mid-1\n",
    "                elif nums[mid]<target:\n",
    "                    l = mid+1\n",
    "                elif nums[mid]==target:\n",
    "                    l = mid +1\n",
    "            if r<0 or nums[r]!=target:\n",
    "                return -1\n",
    "            return r \n",
    "        return [findl(nums,target),findr(nums,target)]"
   ]
  },
  {
   "cell_type": "markdown",
   "metadata": {},
   "source": [
    "#### 35 插入位置搜索"
   ]
  },
  {
   "cell_type": "code",
   "execution_count": null,
   "metadata": {},
   "outputs": [],
   "source": [
    "# 正常二分，返回左边界l即可\n",
    "\n",
    "class Solution:\n",
    "    def searchInsert(self, nums: List[int], target: int) -> int:\n",
    "        l,r = 0,len(nums)-1\n",
    "\n",
    "        while l<=r:\n",
    "            mid = l+(r-l)//2\n",
    "            if nums[mid]>target:\n",
    "                r = mid-1\n",
    "            elif nums[mid]<target:\n",
    "                l = mid+1\n",
    "            else:\n",
    "                return mid\n",
    "        return l\n",
    "\n",
    "   "
   ]
  },
  {
   "cell_type": "markdown",
   "metadata": {},
   "source": [
    "#### 153 寻找旋转排序数组的最小值"
   ]
  },
  {
   "cell_type": "code",
   "execution_count": 1,
   "metadata": {},
   "outputs": [
    {
     "data": {
      "text/plain": [
       "1"
      ]
     },
     "execution_count": 1,
     "metadata": {},
     "output_type": "execute_result"
    }
   ],
   "source": [
    "\n",
    "def findMin( nums) -> int:\n",
    "\n",
    "    l,r = 0,len(nums)-1\n",
    "    while l<=r:\n",
    "        mid = l+(r-l)//2\n",
    "        # 右边界比中间大说明断点在左侧，收缩右\n",
    "        if nums[mid]<nums[r]:\n",
    "            r = mid \n",
    "        # 其他之外收缩左\n",
    "        else:\n",
    "            l=mid+1\n",
    "    return nums[mid]\n",
    "\n",
    "nums = [3,4,5,1,2]\n",
    "findMin(nums)"
   ]
  },
  {
   "cell_type": "markdown",
   "metadata": {},
   "source": [
    "#### 搜索旋转排序数组"
   ]
  },
  {
   "cell_type": "code",
   "execution_count": null,
   "metadata": {},
   "outputs": [],
   "source": [
    "#  先用上面的找到最小值的下标，分开两数组判断target,最后右数组找到了加上刚找到前面的下标即为所求\n",
    "def search(self, nums: List[int], target: int) -> int:\n",
    "\n",
    "\n",
    "    l,r = 0,len(nums)-1\n",
    "    while l<=r:\n",
    "        mid = l+(r-l)//2\n",
    "        if nums[mid]<nums[r]:\n",
    "            r = mid \n",
    "        else:\n",
    "            l=mid+1\n",
    "    idx = mid \n",
    "    left = nums[:idx]\n",
    "    right = nums[idx:]\n",
    "    print(left,right,idx)\n",
    "\n",
    "    def binarysearch(nums,target):\n",
    "        l,r = 0,len(nums)-1\n",
    "        while l<=r:\n",
    "            mid = l+(r-l)//2\n",
    "            if nums[mid]<target:\n",
    "                l = mid+1\n",
    "            elif nums[mid]>target:\n",
    "                r =mid-1\n",
    "            else:\n",
    "                return mid \n",
    "        return -1 \n",
    "    r1 = binarysearch(left,target)\n",
    "    r2 = binarysearch(right,target)\n",
    "    if r1 !=-1:return r1 \n",
    "    if r2 !=-1:return r2+idx \n",
    "\n",
    "    return r1\n"
   ]
  },
  {
   "cell_type": "markdown",
   "metadata": {},
   "source": [
    "### 双指针问题\n",
    "#### 283 移动0"
   ]
  },
  {
   "cell_type": "code",
   "execution_count": 1,
   "metadata": {},
   "outputs": [
    {
     "data": {
      "text/plain": [
       "[1, 2, 4, 7, 0, 0]"
      ]
     },
     "execution_count": 1,
     "metadata": {},
     "output_type": "execute_result"
    }
   ],
   "source": [
    "def moveZeroes(nums) -> None:\n",
    "    \"\"\"\n",
    "    Do not return anything, modify nums in-place instead.\n",
    "    \"\"\"\n",
    "\n",
    "    l,r= 0,0\n",
    "    n=len(nums)\n",
    "\n",
    "    while r<n:\n",
    "        # 当前不为0就把它移到前面，l+1\n",
    "        if nums[r] !=0:\n",
    "            nums[r],nums[l] = nums[l],nums[r]\n",
    "            l+=1\n",
    "        # 遍历r\n",
    "        r+=1\n",
    "nums=[0,1,2,4,0,7]\n",
    "moveZeroes(nums)\n",
    "nums"
   ]
  },
  {
   "cell_type": "markdown",
   "metadata": {},
   "source": [
    "#### 11 盛最多水的容器"
   ]
  },
  {
   "cell_type": "code",
   "execution_count": 2,
   "metadata": {},
   "outputs": [
    {
     "data": {
      "text/plain": [
       "49"
      ]
     },
     "execution_count": 2,
     "metadata": {},
     "output_type": "execute_result"
    }
   ],
   "source": [
    "def maxArea( height) -> int:\n",
    "    n = len(height)\n",
    "    l,r = 0,n-1\n",
    "    res = 0\n",
    "    while l<r:\n",
    "        if height[l]>height[r]:\n",
    "            res=max(res,height[r]*(r-l))\n",
    "            r-=1\n",
    "        else:\n",
    "            res=max(res,height[l]*(r-l))\n",
    "            l+=1\n",
    "    return res\n",
    "h = [1,8,6,2,5,4,8,3,7]\n",
    "maxArea(h)"
   ]
  },
  {
   "cell_type": "markdown",
   "metadata": {},
   "source": [
    "#### 15 三数之和"
   ]
  },
  {
   "cell_type": "code",
   "execution_count": 3,
   "metadata": {},
   "outputs": [
    {
     "data": {
      "text/plain": [
       "[[-1, -1, 2], [-1, 0, 1]]"
      ]
     },
     "execution_count": 3,
     "metadata": {},
     "output_type": "execute_result"
    }
   ],
   "source": [
    "def threeSum(nums):\n",
    "    n =len(nums)\n",
    "    if n<3:return\n",
    "    nums.sort()\n",
    "    res = []\n",
    "    for i in range(n-2):\n",
    "        if nums[i]+nums[i+1]+nums[i+2]>0:break\n",
    "        if nums[i]+nums[n-1]+nums[n-2]<0:continue\n",
    "        if i>0 and nums[i]==nums[i-1]:continue\n",
    "        l,r = i+1,n-1\n",
    "        while l<r:\n",
    "            tmp = nums[i]+nums[l]+nums[r]\n",
    "            if tmp==0:\n",
    "                res.append([nums[i],nums[l],nums[r]])\n",
    "                while l+1<r and nums[l]==nums[l+1]:\n",
    "                    l+=1\n",
    "                while l<r-1 and nums[r]==nums[r-1]:\n",
    "                    r-=1\n",
    "                l+=1\n",
    "                r-=1\n",
    "            elif tmp<0:\n",
    "                l+=1\n",
    "            else:\n",
    "                r-=1\n",
    "    return res\n",
    "nums = [-1,0,1,2,-1,-4]   \n",
    "threeSum(nums)   "
   ]
  },
  {
   "cell_type": "markdown",
   "metadata": {},
   "source": [
    "### 单调栈\n",
    "#### 42 接雨水"
   ]
  },
  {
   "cell_type": "code",
   "execution_count": 4,
   "metadata": {},
   "outputs": [
    {
     "data": {
      "text/plain": [
       "9"
      ]
     },
     "execution_count": 4,
     "metadata": {},
     "output_type": "execute_result"
    }
   ],
   "source": [
    "def trap(height) -> int:\n",
    "    res= 0 \n",
    "    # 单调递减栈\n",
    "    stack =[]\n",
    "    # 遍历柱子高度列表\n",
    "    for i in range(len(height)):\n",
    "        # 栈不空且当前遍历的高度比栈最后一个高，说明能存水了\n",
    "        while stack and height[stack[-1]]<height[i]:\n",
    "            # 出栈\n",
    "            cur = stack.pop()\n",
    "            # 如果栈里没数了，说明左边没边界了，续不了水\n",
    "            if not stack:\n",
    "                break\n",
    "            # 左右边界找个矮的高- 底部的高度= 存水高度\n",
    "            h = min(height[i],height[stack[-1]])-height[cur]\n",
    "            # 右边界下标-左下标-1 = 存水宽度\n",
    "            w = i-stack[-1]-1\n",
    "            # 累计\n",
    "            res+=h*w\n",
    "        stack.append(i)\n",
    "    return res\n",
    "height = [4,2,0,3,2,5]\n",
    "trap(height)"
   ]
  },
  {
   "cell_type": "markdown",
   "metadata": {},
   "source": [
    "#### 84 柱状图中最大矩形"
   ]
  },
  {
   "cell_type": "code",
   "execution_count": 1,
   "metadata": {},
   "outputs": [
    {
     "data": {
      "text/plain": [
       "10"
      ]
     },
     "execution_count": 1,
     "metadata": {},
     "output_type": "execute_result"
    }
   ],
   "source": [
    "def largestRectangleArea( heights) -> int:\n",
    "\n",
    "    res = 0\n",
    "    stack =[]\n",
    "    heights.insert(0,0)\n",
    "    heights.append(0)\n",
    "    # 递增栈，遇到比栈里小的弹出计算最大面积\n",
    "    for i in range(len(heights)):\n",
    "        while stack and heights[stack[-1]]>heights[i]:\n",
    "            cur = stack.pop()\n",
    "            l = stack[-1]+1\n",
    "            r = i-1\n",
    "            res = max(res,(r-l+1)*heights[cur])\n",
    "        stack.append(i)\n",
    "    return res\n",
    "heights = [2,1,5,6,2,3]\n",
    "largestRectangleArea(heights)"
   ]
  },
  {
   "cell_type": "markdown",
   "metadata": {},
   "source": [
    "### 矩阵\n",
    "#### 54. 螺旋矩阵"
   ]
  },
  {
   "cell_type": "code",
   "execution_count": 9,
   "metadata": {},
   "outputs": [
    {
     "data": {
      "text/plain": [
       "[1, 2, 3, 6, 9, 8, 7, 4, 5]"
      ]
     },
     "execution_count": 9,
     "metadata": {},
     "output_type": "execute_result"
    }
   ],
   "source": [
    "def spiralOrder(matrix):\n",
    "\n",
    "    res=[]\n",
    "    while matrix:\n",
    "        res+= matrix[0]\n",
    "        matrix = list(zip(*matrix[1:]))[::-1]\n",
    "\n",
    "    return res\n",
    "matrix = [[1,2,3],[4,5,6],[7,8,9]]\n",
    "spiralOrder(matrix)"
   ]
  },
  {
   "cell_type": "markdown",
   "metadata": {},
   "source": [
    "#### 240 搜索二维矩阵"
   ]
  },
  {
   "cell_type": "code",
   "execution_count": 10,
   "metadata": {},
   "outputs": [
    {
     "data": {
      "text/plain": [
       "True"
      ]
     },
     "execution_count": 10,
     "metadata": {},
     "output_type": "execute_result"
    }
   ],
   "source": [
    "def searchMatrix(matrix, target: int) -> bool:\n",
    "    i,j = len(matrix)-1,0\n",
    "    \n",
    "    # 从左下角查找，注意指针越界条件\n",
    "    while i>=0 and j<len(matrix[0]):\n",
    "        if matrix[i][j]==target:\n",
    "            return True\n",
    "        elif matrix[i][j]<target:\n",
    "            j+=1\n",
    "        else:\n",
    "            i-=1\n",
    "    return False\n",
    "matrix = [[1,4,7,11,15],[2,5,8,12,19],[3,6,9,16,22],[10,13,14,17,24],[18,21,23,26,30]]\n",
    "target = 5\n",
    "searchMatrix(matrix,target)"
   ]
  },
  {
   "cell_type": "markdown",
   "metadata": {},
   "source": [
    "#### 48 旋转图像\n"
   ]
  },
  {
   "cell_type": "code",
   "execution_count": 15,
   "metadata": {},
   "outputs": [
    {
     "data": {
      "text/plain": [
       "[(1, 4, 7), (2, 5, 8), (3, 6, 9)]"
      ]
     },
     "execution_count": 15,
     "metadata": {},
     "output_type": "execute_result"
    }
   ],
   "source": [
    "def rotate(matrix) -> None:\n",
    "    \"\"\"\n",
    "    Do not return anything, modify matrix in-place instead.\n",
    "    \"\"\"\n",
    "\n",
    "    m = list(zip(*matrix))\n",
    "    for r in range(len(matrix)):\n",
    "        matrix[r] = m[r][::-1]"
   ]
  },
  {
   "cell_type": "markdown",
   "metadata": {},
   "source": [
    "### 技巧\n",
    "#### 136 只出现一次的元素-位运算"
   ]
  },
  {
   "cell_type": "code",
   "execution_count": 2,
   "metadata": {},
   "outputs": [
    {
     "data": {
      "text/plain": [
       "6"
      ]
     },
     "execution_count": 2,
     "metadata": {},
     "output_type": "execute_result"
    }
   ],
   "source": [
    "from functools import reduce \n",
    "nums = [1,1,2,2,6,7,7]\n",
    "reduce(lambda x,y:x^y,nums)\n",
    "# ^异或运算，同则0，异则1\n",
    "            \n",
    "            "
   ]
  },
  {
   "cell_type": "markdown",
   "metadata": {},
   "source": [
    "#### 169 多数元素-摩尔投票\n"
   ]
  },
  {
   "cell_type": "code",
   "execution_count": 4,
   "metadata": {},
   "outputs": [
    {
     "data": {
      "text/plain": [
       "2"
      ]
     },
     "execution_count": 4,
     "metadata": {},
     "output_type": "execute_result"
    }
   ],
   "source": [
    "# 初始化： 票数统计 votes = 0 ， 众数 x。\n",
    "# 循环： 遍历数组 nums 中的每个数字 num 。\n",
    "# 当 票数 votes 等于 0 ，则假设当前数字 num 是众数。\n",
    "# 当 num = x 时，票数 votes 自增 1 ；当 num != x 时，票数 votes 自减 1 。\n",
    "# 返回值： 返回 x 即可。\n",
    "\n",
    "def majorityElement( nums) -> int:\n",
    "\n",
    "    vote = 0\n",
    "\n",
    "    for i in nums:\n",
    "        if vote==0:\n",
    "            x=i \n",
    "        vote += 1 if i==x else -1\n",
    "    return x\n",
    "\n",
    "nums = [2,2,1,1,1,2,2]\n",
    "majorityElement(nums)"
   ]
  },
  {
   "cell_type": "markdown",
   "metadata": {},
   "source": [
    "#### 75 颜色分类"
   ]
  },
  {
   "cell_type": "code",
   "execution_count": 6,
   "metadata": {},
   "outputs": [
    {
     "data": {
      "text/plain": [
       "[0, 0, 1, 1, 2, 2]"
      ]
     },
     "execution_count": 6,
     "metadata": {},
     "output_type": "execute_result"
    }
   ],
   "source": [
    "def sortColors( nums) -> None:\n",
    "    \"\"\"\n",
    "    Do not return anything, modify nums in-place instead.\n",
    "    \"\"\"\n",
    "\n",
    "\n",
    "    n = len(nums)\n",
    "    if n<2:return \n",
    "\n",
    "    zero = 0\n",
    "    one = 0\n",
    "    two = n \n",
    "\n",
    "    def swap(nums,id1,id2):\n",
    "        nums[id1],nums[id2] = nums[id2],nums[id1]\n",
    "    \n",
    "\n",
    "    while one<two:\n",
    "        if nums[one]==0:\n",
    "            swap(nums,one,zero)\n",
    "            one+=1\n",
    "            zero+=1\n",
    "        elif nums[one]==1:\n",
    "            one+=1\n",
    "        else:\n",
    "            two-=1\n",
    "            swap(nums,one,two)\n",
    "nums = [2,0,2,1,1,0]   \n",
    "sortColors(nums)   \n",
    "nums   "
   ]
  },
  {
   "cell_type": "markdown",
   "metadata": {},
   "source": [
    "#### 31 下一个排列"
   ]
  },
  {
   "cell_type": "code",
   "execution_count": 19,
   "metadata": {},
   "outputs": [
    {
     "name": "stdout",
     "output_type": "stream",
     "text": [
      "[1, 2, 3]\n"
     ]
    },
    {
     "data": {
      "text/plain": [
       "[1, 3, 2]"
      ]
     },
     "execution_count": 19,
     "metadata": {},
     "output_type": "execute_result"
    }
   ],
   "source": [
    "# 设计思路： \n",
    "# 1.从数组右侧向左开始遍历，找是否存在nums[i]>nums[i-1]的情况， \n",
    "# 2.如果不存在这种nums[i]>nums[i-1]情况 ，for循环会遍历到i==0（也就是没有下一个排列），此时按题意排成有序Arrays.sort() \n",
    "# 3.如果存在，则将从下标i到nums.length()的部分排序，然后在排过序的这部分中遍历找到第一个大于nums[i-1]的数，并与nums[i-1]交换位置\n",
    "\n",
    "\n",
    "def nextPermutation( nums) -> None:\n",
    "    \"\"\"\n",
    "    Do not return anything, modify nums in-place instead.\n",
    "    \"\"\"\n",
    "    print(nums) \n",
    "    for i in range(len(nums)-1, 0, -1):\n",
    "        if nums[i] > nums[i-1]:\n",
    "            nums[i:] = sorted(nums[i:])\n",
    "            for j in range(i, len(nums)):\n",
    "                if nums[j] > nums[i-1]:\n",
    "                    nums[j], nums[i-1] = nums[i-1], nums[j]\n",
    "                    break\n",
    "            return\n",
    "    nums.sort()\n",
    "\n",
    "\n",
    "nums = [1,2,3]\n",
    "nextPermutation(nums)\n",
    "nums"
   ]
  },
  {
   "cell_type": "markdown",
   "metadata": {},
   "source": [
    "#### 287 寻找重复数"
   ]
  },
  {
   "cell_type": "code",
   "execution_count": null,
   "metadata": {},
   "outputs": [],
   "source": [
    "\n",
    "def findDuplicate(nums) -> int:\n",
    "    slow = 0\n",
    "    fast = 0\n",
    "    \n",
    "    # 使用快慢指针找到相遇点\n",
    "    while True:\n",
    "        slow = nums[slow]\n",
    "        fast = nums[nums[fast]]\n",
    "        if slow == fast:\n",
    "            break\n",
    "    \n",
    "    # 将一个指针重置为起点，然后两个指针以相同的速度移动，直到它们再次相遇\n",
    "    slow = 0\n",
    "    while slow != fast:\n",
    "        slow = nums[slow]\n",
    "        fast = nums[fast]\n",
    "    \n",
    "    return slow\n",
    "\n",
    "nums = [1,3,4,2,2]"
   ]
  },
  {
   "cell_type": "markdown",
   "metadata": {},
   "source": [
    "### 动态规划"
   ]
  },
  {
   "cell_type": "markdown",
   "metadata": {},
   "source": [
    "#### 300 最长递增子序列"
   ]
  },
  {
   "cell_type": "code",
   "execution_count": null,
   "metadata": {},
   "outputs": [],
   "source": [
    "class Solution:\n",
    "    def lengthOfLIS(self, nums: List[int]) -> int:\n",
    "        # dp[i]表示以nums[i]这个数字结尾的最长递增子序列的长度\n",
    "        # dp[3]如何由前面得到，既然递增子序列，只需找到前面比nums[3]小的数，在其dp长度上+1即可\n",
    "        # 由于比dp[i]小的数可能有多个，所以遍历取数值最大的即为dp[i]\n",
    "        dp = [1]*len(nums)\n",
    "        for i in range(len(nums)):\n",
    "            for j in range(i):  # 遍历\n",
    "                if nums[i]>nums[j]: # 比当前位置小的数\n",
    "                # 如果求非递减子序列，nums[i]>=nums[j]，加个等号即可\n",
    "                    dp[i] = max(dp[i],dp[j]+1)\n",
    "        return max(dp)"
   ]
  },
  {
   "cell_type": "markdown",
   "metadata": {},
   "source": [
    "#### 53 最大子序和（最大子数组和）"
   ]
  },
  {
   "cell_type": "code",
   "execution_count": null,
   "metadata": {},
   "outputs": [],
   "source": [
    "class Solution:\n",
    "    def maxSubArray(self, nums: List[int]) -> int:\n",
    "        # dp: 以nums[i]为结尾的最大子数组和为dp[i]\n",
    "        # dp[i-1]到dp[i]: dp[i]=max(nums[i],dp[i-1]+nums[i])\n",
    "        n = len(nums)\n",
    "        if n==0:return 0\n",
    "        dp=[0]*n # 第一个元素前没元素，dp[0]=nums[0]\n",
    "        dp[0] = nums[0]\n",
    "        for i in range(1,n):\n",
    "            dp[i] = max(nums[i],nums[i]+dp[i-1])\n",
    "        return max(dp)"
   ]
  },
  {
   "cell_type": "markdown",
   "metadata": {},
   "source": [
    "#### 1143 最长公共子序列"
   ]
  },
  {
   "cell_type": "code",
   "execution_count": 2,
   "metadata": {},
   "outputs": [
    {
     "data": {
      "text/plain": [
       "3"
      ]
     },
     "execution_count": 2,
     "metadata": {},
     "output_type": "execute_result"
    }
   ],
   "source": [
    "# 设字符串 text1,text2 的长度分别为 m+1行和 n+1列二维dp数组，dp[i][j]表示text1[0:i],text2[0:j]的最长公共子序列的长度。\n",
    "\n",
    "\n",
    "def longestCommonSubsequence(text1: str, text2: str) -> int:\n",
    "    m, n = len(text1), len(text2)\n",
    "    dp = [[0 for i in  range(n + 1)] for j in range(m + 1)]\n",
    "    \n",
    "    for i in range(1, m + 1):\n",
    "        for j in range(1, n + 1):\n",
    "            if text1[i - 1] == text2[j - 1]:\n",
    "                dp[i][j] = dp[i - 1][j - 1] + 1\n",
    "            else:\n",
    "                dp[i][j] = max(dp[i - 1][j], dp[i][j - 1])\n",
    "    \n",
    "    return dp[m][n]\n",
    "s1 =\"abcde\"\n",
    "s2 = \"ace\"\n",
    "longestCommonSubsequence(s1,s2)"
   ]
  },
  {
   "cell_type": "markdown",
   "metadata": {},
   "source": [
    "#### 最长公共子串"
   ]
  },
  {
   "cell_type": "code",
   "execution_count": 3,
   "metadata": {},
   "outputs": [
    {
     "name": "stdout",
     "output_type": "stream",
     "text": [
      "([[0, 0, 0, 0, 0, 0], [0, 1, 0, 0, 0, 0], [0, 0, 2, 0, 0, 0], [0, 0, 0, 0, 0, 0], [0, 0, 0, 1, 0, 0], [0, 0, 0, 0, 2, 0], [0, 0, 0, 0, 0, 3]], 'dfg', 3)\n"
     ]
    }
   ],
   "source": [
    "def find_lcsubstr(s1, s2):   \n",
    "    m=[[0 for i in range(len(s2)+1)]  for j in range(len(s1)+1)]  #生成0矩阵，为方便后续计算，比字符串长度多了一列  \n",
    "    mmax=0   #最长匹配的长度  \n",
    "    p=0  #最长匹配对应在s1中的最后一位  \n",
    "    for i in range(len(s1)):   # 和子序列不同，这是从初始0下标开始，如果字符相等就更新斜对角下一个位置最大值长度\n",
    "        for j in range(len(s2)):  \n",
    "            if s1[i]==s2[j]:  \n",
    "                m[i+1][j+1]=m[i][j]+1  \n",
    "                if m[i+1][j+1]>mmax:  # 匹配到连续的最大长度就更新最大值记录变量\n",
    "                    mmax=m[i+1][j+1]  \n",
    "                    p=i+1   # 最大长度所在下标1，因为[:p]取不到p\n",
    "    return m,s1[p-mmax:p],mmax   #返回最长子串及其长度  \n",
    "\n",
    "print(find_lcsubstr('abcdfg','abdfg'))"
   ]
  },
  {
   "cell_type": "markdown",
   "metadata": {},
   "source": [
    "#### 72 编辑距离"
   ]
  },
  {
   "cell_type": "code",
   "execution_count": null,
   "metadata": {},
   "outputs": [],
   "source": [
    "def minDistance(self, word1: str, word2: str) -> int:\n",
    "    m,n = len(word1),len(word2)\n",
    "    dp=[[0 for i in range(n+1)]for j in range(m+1)]\n",
    "    for i in range(1,m+1):\n",
    "        dp[i][0]=i \n",
    "    for j in range(1,n+1):\n",
    "        dp[0][j]=j \n",
    "    for i in range(1,m+1):\n",
    "        for j in range(1,n+1):\n",
    "            if word1[i-1]==word2[j-1]:\n",
    "                dp[i][j] = dp[i-1][j-1] # 相等不用加操作\n",
    "            else:\n",
    "                dp[i][j] = min(dp[i-1][j]+1,dp[i][j-1]+1,dp[i-1][j-1]+1) # 不相等则需要增删插入，多一次操作\n",
    "    return dp[m][n]"
   ]
  },
  {
   "cell_type": "markdown",
   "metadata": {},
   "source": [
    "#### 516 最长回文子序列\n"
   ]
  },
  {
   "cell_type": "code",
   "execution_count": null,
   "metadata": {},
   "outputs": [],
   "source": [
    "def longestPalindromeSubseq(self, s: str) -> int:\n",
    "    \"\"\"\n",
    "    dp[i][j] 表示s[i:j]的最长回文子序列距离\n",
    "    base:\n",
    "    i>j的话 dp[i][j]=0   即左下三角为0\n",
    "    i=j的话 dp[i][j]=1   即对角线为1\n",
    "    要想求dp[i][j],那么首先得知道比他小一个字符距离的最长序列多少,即dp[i+1][j-1](中心向外扩展的，即i+1-1,j-1+1),如果新扩展的俩字符相等，\n",
    "    那么直接加2，如果不相等，那就看单边，只往左移i,或者往右边移动j的那个dp位置，谁的值大就是谁\n",
    "\n",
    "    \"\"\"\n",
    "    n = len(s)\n",
    "    dp=[[0 for i in range(n)]for j in range(n)]\n",
    "    for i in range(n):\n",
    "        dp[i][i]=1\n",
    "    for i in range(n-2,-1,-1):\n",
    "        for j in range(i+1,n):\n",
    "            if s[i]==s[j]:\n",
    "                dp[i][j]=dp[i+1][j-1]+2\n",
    "            else:\n",
    "                dp[i][j] = max(dp[i][j-1],dp[i+1][j])\n",
    "    return dp[0][n-1]"
   ]
  },
  {
   "cell_type": "markdown",
   "metadata": {},
   "source": [
    "#### 10 正则表达式匹配"
   ]
  },
  {
   "cell_type": "code",
   "execution_count": 1,
   "metadata": {},
   "outputs": [
    {
     "data": {
      "text/plain": [
       "True"
      ]
     },
     "execution_count": 1,
     "metadata": {},
     "output_type": "execute_result"
    }
   ],
   "source": [
    "def isMatch(s: str, p: str) -> bool:\n",
    "    \"\"\"\n",
    "    初始化二维dp数组\n",
    "    dp[i][j]代表s[0:i-1]和p[0:j-1]是否匹配 \n",
    "    1.base:dp[0][0]为代表空，则为True\n",
    "    2.s为空，p不空，遍历p，如果为*则把前面的字母消除\n",
    "    3.s和p都不空\n",
    "        3.1.如果s末尾和p末尾一样，或者p末尾是点，则dp[i][j]=dp[i-1][j-1]\n",
    "        3.2.如果p末尾是*\n",
    "            3.2.1.如果s末尾和p末尾前一个一样，或者p末尾前一个是点，则a*/.*可匹配0，1，多个s末尾字符\n",
    "            3.2.2.如果不一样，用*消灭前面的字符\n",
    "        3.3.如果不一样，直接不需要操作，默认赋值都是Flase了\n",
    "\n",
    "    \"\"\"\n",
    "    dp = [[False]*(len(p)+1) for _ in range(len(s)+1)]\n",
    "    dp[0][0]=True\n",
    "\n",
    "    for j in range(1,len(p)+1):\n",
    "        if p[j-1]=='*': # p第一个不可能为*，用任意字符+* 消除\n",
    "            dp[0][j] = dp[0][j-2]\n",
    "    for i in range(1,len(s)+1):\n",
    "        for j in range(1,len(p)+1):\n",
    "            if s[i-1]==p[j-1] or p[j-1]=='.':\n",
    "                dp[i][j] = dp[i-1][j-1]\n",
    "            elif p[j-1]=='*':\n",
    "                if s[i-1]==p[j-2] or p[j-2]=='.':\n",
    "                    dp[i][j] = dp[i][j-2] or dp[i-1][j-2] or dp[i-1][j]\n",
    "                else:\n",
    "                    dp[i][j] = dp[i][j-2]\n",
    "    return dp[-1][-1]\n",
    "s = \"ab\" \n",
    "p = \".*\"\n",
    "isMatch(s,p)"
   ]
  },
  {
   "cell_type": "markdown",
   "metadata": {},
   "source": [
    "### 回文子串问题"
   ]
  },
  {
   "cell_type": "markdown",
   "metadata": {},
   "source": [
    "#### 5 最长回文子串"
   ]
  },
  {
   "cell_type": "code",
   "execution_count": null,
   "metadata": {},
   "outputs": [],
   "source": [
    "def longestPalindrome(self, s: str) -> str:\n",
    "    \"\"\"\n",
    "    从中间扩散到两边判断回文串\n",
    "    遍历0～n-1,判断以s[i]为中心的回文、判断以s[i]和s[i+1]为中心的回文，\n",
    "    小心s[i+1]越界\n",
    "    \"\"\"\n",
    "    def palindorme(s,l,r):\n",
    "        while l>=0 and r<len(s) and s[l]==s[r]:\n",
    "            l-=1\n",
    "            r+=1\n",
    "        return s[l+1:r]\n",
    "    \n",
    "    res = ''\n",
    "    for i in range(len(s)):\n",
    "        s1 = palindorme(s,i,i)\n",
    "        s2 = palindorme(s,i,i+1)\n",
    "        res = res if len(s1)<len(res) else s1 \n",
    "        res = res if len(s2)<len(res) else s2 \n",
    "    return res"
   ]
  },
  {
   "cell_type": "markdown",
   "metadata": {},
   "source": [
    "#### 647 回文子串"
   ]
  },
  {
   "cell_type": "code",
   "execution_count": null,
   "metadata": {},
   "outputs": [],
   "source": [
    "def countSubstrings(self, s: str) -> int:\n",
    "    \"\"\"\n",
    "    统计回文子串数量，\n",
    "    具有不同开始位置或结束位置的子串，即使是由相同的字符组成，也会被视作不同的子串，\n",
    "    在判断回文函数里记录回文数量即可\n",
    "    \"\"\"\n",
    "    def palindorme(s,l,r):\n",
    "        res = 0\n",
    "        while l>=0 and r<len(s) and s[l]==s[r]:\n",
    "            l-=1\n",
    "            r+=1\n",
    "            res+=1\n",
    "        return res\n",
    "    \n",
    "    result = 0\n",
    "    for i in range(len(s)):\n",
    "        result += palindorme(s,i,i)\n",
    "        result += palindorme(s,i,i+1)\n",
    "    print(result)\n",
    "    return result"
   ]
  },
  {
   "cell_type": "code",
   "execution_count": 23,
   "metadata": {},
   "outputs": [
    {
     "ename": "TypeError",
     "evalue": "__init__() takes 1 positional argument but 2 were given",
     "output_type": "error",
     "traceback": [
      "\u001b[0;31m---------------------------------------------------------------------------\u001b[0m",
      "\u001b[0;31mTypeError\u001b[0m                                 Traceback (most recent call last)",
      "Cell \u001b[0;32mIn[23], line 25\u001b[0m\n\u001b[1;32m     23\u001b[0m data \u001b[39m=\u001b[39m [\u001b[39m1\u001b[39m,\u001b[39m2\u001b[39m,\u001b[39m4\u001b[39m,\u001b[39m8\u001b[39m]\n\u001b[1;32m     24\u001b[0m l1 \u001b[39m=\u001b[39m Linklist()\n\u001b[0;32m---> 25\u001b[0m l1\u001b[39m.\u001b[39;49mcreate(data)\n\u001b[1;32m     26\u001b[0m l1\u001b[39m.\u001b[39mprintf()\n",
      "Cell \u001b[0;32mIn[23], line 10\u001b[0m, in \u001b[0;36mLinklist.create\u001b[0;34m(self, ls)\u001b[0m\n\u001b[1;32m      9\u001b[0m \u001b[39mdef\u001b[39;00m \u001b[39mcreate\u001b[39m(\u001b[39mself\u001b[39m,ls):\n\u001b[0;32m---> 10\u001b[0m     \u001b[39mself\u001b[39m\u001b[39m.\u001b[39mhead \u001b[39m=\u001b[39m Linklist(ls[\u001b[39m0\u001b[39;49m])\n\u001b[1;32m     11\u001b[0m     cur \u001b[39m=\u001b[39m \u001b[39mself\u001b[39m\u001b[39m.\u001b[39mhead\n\u001b[1;32m     12\u001b[0m     tmp \u001b[39m=\u001b[39m \u001b[39mself\u001b[39m\u001b[39m.\u001b[39mhead\n",
      "\u001b[0;31mTypeError\u001b[0m: __init__() takes 1 positional argument but 2 were given"
     ]
    }
   ],
   "source": [
    "class Node(object):\n",
    "    def __init__(self,val):\n",
    "        self.next = None\n",
    "        self.val = val\n",
    "\n",
    "class Linklist(object):\n",
    "    def __init__(self,):\n",
    "        self.head= None\n",
    "    def create(self,ls):\n",
    "        self.head = Node(ls[0])\n",
    "        cur = self.head\n",
    "        tmp = self.head\n",
    "        for h in ls[1:]:\n",
    "            cur.next = Node(h)\n",
    "            cur = cur.next\n",
    "        return tmp\n",
    "    def printf(self):\n",
    "        head = self.head\n",
    "        while head!=None:\n",
    "            print(head.val)\n",
    "            head = head.next\n",
    "# init\n",
    "data = [1,2,4,8]\n",
    "l1 = Linklist()\n",
    "l1.create(data)\n",
    "l1.printf()\n",
    "\n",
    "            \n",
    "            \n",
    "\n"
   ]
  },
  {
   "cell_type": "markdown",
   "metadata": {},
   "source": [
    "### 链表问题总结"
   ]
  },
  {
   "cell_type": "markdown",
   "metadata": {},
   "source": [
    "#### 链表初始化"
   ]
  },
  {
   "cell_type": "code",
   "execution_count": 2,
   "metadata": {},
   "outputs": [
    {
     "name": "stdout",
     "output_type": "stream",
     "text": [
      "1\n",
      "2\n",
      "4\n",
      "8\n"
     ]
    }
   ],
   "source": [
    "class LinkNode(object):\n",
    "    def __init__(self,x):\n",
    "        self.val = x\n",
    "        self.next = None\n",
    "class LinkList(object):\n",
    "    def __init__(self):\n",
    "        self.head = None\n",
    "    def create(self,data):\n",
    "        self.head = LinkNode(data[0])\n",
    "        p = self.head\n",
    "        q = self.head\n",
    "        for i in range(1,len(data)):\n",
    "            q.next = LinkNode(data[i])\n",
    "            q = q.next\n",
    "        return p\n",
    "    def printf(self):\n",
    "        head = self.head\n",
    "        while head!=None:\n",
    "            print(head.val)\n",
    "            head = head.next\n",
    "# init\n",
    "data = [1,2,4,8]\n",
    "l1 = LinkList()\n",
    "l1.create(data)\n",
    "l1.printf()"
   ]
  },
  {
   "cell_type": "markdown",
   "metadata": {},
   "source": [
    "#### 找到倒数第k个节点"
   ]
  },
  {
   "cell_type": "code",
   "execution_count": null,
   "metadata": {},
   "outputs": [],
   "source": [
    "# 倒数第k个节点\n",
    "fast = l1.head\n",
    "slow = l1.head\n",
    "k=1\n",
    "while k>0:\n",
    "    k-=1\n",
    "    fast = fast.next\n",
    "while fast!=None:\n",
    "    fast = fast.next\n",
    "    slow = slow.next\n",
    "print(slow.val)"
   ]
  },
  {
   "cell_type": "markdown",
   "metadata": {},
   "source": [
    "#### 删除链表倒数第n个节点"
   ]
  },
  {
   "cell_type": "code",
   "execution_count": 25,
   "metadata": {},
   "outputs": [
    {
     "name": "stdout",
     "output_type": "stream",
     "text": [
      "1\n",
      "2\n",
      "4\n",
      "8\n",
      "1\n",
      "2\n",
      "8\n"
     ]
    }
   ],
   "source": [
    "def removeNthFromEnd(head, n):\n",
    "    dummy = LinkNode(-1)\n",
    "    dummy.next = head\n",
    "    fast = dummy\n",
    "    slow = dummy\n",
    "    while n:\n",
    "        fast = fast.next \n",
    "        n-=1\n",
    "    while fast.next:\n",
    "        fast=fast.next\n",
    "        slow=slow.next\n",
    "    slow.next = slow.next.next\n",
    "    return dummy.next\n",
    "\n",
    "data = [1,2,4,8]\n",
    "l1 = LinkList()\n",
    "l1.create(data)\n",
    "l1.printf()\n",
    "rl1 = removeNthFromEnd(l1.head,2)\n",
    "\n",
    "while rl1:\n",
    "    print(rl1.val)\n",
    "    rl1 =rl1.next"
   ]
  },
  {
   "cell_type": "markdown",
   "metadata": {},
   "source": [
    "#### 链表中点"
   ]
  },
  {
   "cell_type": "code",
   "execution_count": 3,
   "metadata": {},
   "outputs": [
    {
     "name": "stdout",
     "output_type": "stream",
     "text": [
      "4\n"
     ]
    }
   ],
   "source": [
    "# 中点\n",
    "# 奇数为正中间，偶数中间偏右\n",
    "fast = l1.head\n",
    "slow = l1.head\n",
    "while fast !=None and fast.next!= None:\n",
    "    fast = fast.next.next\n",
    "    slow = slow.next\n",
    "print(slow.val)"
   ]
  },
  {
   "cell_type": "markdown",
   "metadata": {},
   "source": [
    "#### 反转链表"
   ]
  },
  {
   "cell_type": "code",
   "execution_count": 4,
   "metadata": {},
   "outputs": [
    {
     "name": "stdout",
     "output_type": "stream",
     "text": [
      "8\n",
      "4\n",
      "2\n",
      "1\n"
     ]
    }
   ],
   "source": [
    "# 反转\n",
    "pre = None\n",
    "head = l1.head\n",
    "while head !=None:\n",
    "    tmp = head.next\n",
    "    head.next = pre\n",
    "    pre = head\n",
    "    head = tmp\n",
    "while pre!=None:\n",
    "    print(pre.val)\n",
    "    pre = pre.next"
   ]
  },
  {
   "cell_type": "markdown",
   "metadata": {},
   "source": [
    "#### 链表是否有环"
   ]
  },
  {
   "cell_type": "code",
   "execution_count": 5,
   "metadata": {},
   "outputs": [
    {
     "name": "stdout",
     "output_type": "stream",
     "text": [
      "1\n",
      "0\n"
     ]
    }
   ],
   "source": [
    "# 初始环\n",
    "n1 = LinkNode(8)\n",
    "n2 = LinkNode(7)\n",
    "n3 = LinkNode(0)\n",
    "n4 = LinkNode(3)\n",
    "n1.next = n2\n",
    "n2.next = n3\n",
    "n3.next = n4\n",
    "n4.next = n3\n",
    "\n",
    "# 有环?\n",
    "slow = n1\n",
    "fast = n1\n",
    "while slow!=None and fast.next!=None:\n",
    "    slow = slow.next\n",
    "    fast = fast.next.next\n",
    "    if slow == fast:\n",
    "        print(1)\n",
    "        break\n",
    "print(0)\n"
   ]
  },
  {
   "cell_type": "markdown",
   "metadata": {},
   "source": [
    "#### 链表环起点"
   ]
  },
  {
   "cell_type": "code",
   "execution_count": 6,
   "metadata": {},
   "outputs": [
    {
     "name": "stdout",
     "output_type": "stream",
     "text": [
      "0\n"
     ]
    }
   ],
   "source": [
    "# 环起点\n",
    "slow = n1\n",
    "fast = n1\n",
    "while slow !=None and fast.next !=None:\n",
    "    slow = slow.next\n",
    "    fast = fast.next.next\n",
    "    if slow == fast:\n",
    "        fast = n1\n",
    "        break\n",
    "while slow!=fast:\n",
    "    slow = slow.next\n",
    "    fast = fast.next\n",
    "print(slow.val)"
   ]
  },
  {
   "cell_type": "markdown",
   "metadata": {},
   "source": [
    "#### 25 k个一组反转链表\n",
    "#### 24 两两交换链表中的节点\n"
   ]
  },
  {
   "cell_type": "code",
   "execution_count": 13,
   "metadata": {},
   "outputs": [
    {
     "name": "stdout",
     "output_type": "stream",
     "text": [
      "1\n",
      "3\n",
      "2\n",
      "6\n",
      "3\n",
      "1\n",
      "6\n",
      "2\n"
     ]
    }
   ],
   "source": [
    "a =[1,3,2,6]\n",
    "obj = LinkList()\n",
    "obj.create(a)\n",
    "obj.printf()\n",
    "\n",
    "class solution:\n",
    "    def reverse(self,head,tail):\n",
    "        pre = None\n",
    "        cur = head\n",
    "        while pre!=tail:\n",
    "            nxt = cur.next\n",
    "            cur.next = pre\n",
    "            pre = cur\n",
    "            cur = nxt\n",
    "        return tail,head\n",
    "    def reverseKgroup(self,head,k):\n",
    "        hair = LinkNode(0)\n",
    "        hair.next = head\n",
    "        pre = hair\n",
    "        \n",
    "        while head:\n",
    "            tail = pre\n",
    "            for i in range(k):\n",
    "                tail = tail.next\n",
    "                if not tail:\n",
    "                    return hair.next\n",
    "            nxt = tail.next\n",
    "            head,tail = self.reverse(head,tail)\n",
    "            pre.next = head\n",
    "            tail.next = nxt\n",
    "            pre = tail\n",
    "            head = tail.next\n",
    "        return hair.next\n",
    "    \n",
    "s = solution()\n",
    "res = s.reverseKgroup(obj.head,2)\n",
    "        \n",
    "while res:\n",
    "    print(res.val)\n",
    "    res = res.next"
   ]
  },
  {
   "cell_type": "markdown",
   "metadata": {},
   "source": [
    "#### 指定m,n区间反转链表(92 反转链表 II)"
   ]
  },
  {
   "cell_type": "code",
   "execution_count": 28,
   "metadata": {},
   "outputs": [
    {
     "name": "stdout",
     "output_type": "stream",
     "text": [
      "1\n",
      "2\n",
      "3\n",
      "4\n",
      "5\n",
      "1\n",
      "4\n",
      "3\n",
      "2\n",
      "5\n"
     ]
    }
   ],
   "source": [
    "def reverseBetween(head, left: int, right: int):\n",
    "    dummy = LinkNode(-1)\n",
    "    dummy.next = head \n",
    "    p = dummy\n",
    "    for i in range(left-1):\n",
    "        p = p.next \n",
    "    # 反转指定区间\n",
    "    m = p.next\n",
    "    n = m.next \n",
    "    for i in range(right-left):\n",
    "        temp = n.next \n",
    "        n.next = m\n",
    "        m = n \n",
    "        n = temp \n",
    "    # 注意链接顺序\n",
    "    p.next.next = n \n",
    "    p.next = m \n",
    "    return dummy.next\n",
    "\n",
    "data = [1,2,3,4,5]\n",
    "l1 = LinkList()\n",
    "l1.create(data)\n",
    "l1.printf()\n",
    "\n",
    "rb_l1 = reverseBetween(l1.head,2,4)\n",
    "while rb_l1:\n",
    "    print(rb_l1.val)\n",
    "    rb_l1 =rb_l1.next"
   ]
  },
  {
   "cell_type": "markdown",
   "metadata": {},
   "source": [
    "#### 2 两数相加"
   ]
  },
  {
   "cell_type": "code",
   "execution_count": null,
   "metadata": {},
   "outputs": [],
   "source": [
    "class Solution:\n",
    "    def addTwoNumbers(self, l1: Optional[ListNode], l2: Optional[ListNode]) -> Optional[ListNode]:\n",
    "        if not l1:  # 如果l1为空链表，直接返回l2\n",
    "            return l2\n",
    "        if not l2:  # 如果l2为空链表，直接返回l1\n",
    "            return l1\n",
    "        dummy = ListNode(-1)  # 创建一个虚拟头节点，初始值为-1\n",
    "        p = dummy  # 创建一个指针p，指向虚拟头节点，用于构建结果链表\n",
    "        carry = 0  # 初始化进位值为0\n",
    "        while l1 and l2:  # 当l1和l2都不为空时进行循环\n",
    "            p.next = ListNode((l1.val + l2.val + carry) % 10)  # 计算当前位的值，考虑进位\n",
    "            carry = (l1.val + l2.val + carry) // 10  # 计算新的进位值\n",
    "            l1 = l1.next  # 移动l1指针到下一位\n",
    "            l2 = l2.next  # 移动l2指针到下一位\n",
    "            p = p.next  # 移动p指针到刚刚创建的节点\n",
    "        while l1:  # 当l1不为空时，继续循环\n",
    "            p.next = ListNode((l1.val + carry) % 10)  # 计算当前位的值，考虑进位\n",
    "            carry = (l1.val + carry) // 10  # 计算新的进位值\n",
    "            l1 = l1.next  # 移动l1指针到下一位\n",
    "            p = p.next  # 移动p指针到刚刚创建的节点\n",
    "        while l2:  # 当l2不为空时，继续循环\n",
    "            p.next = ListNode((l2.val + carry) % 10)  # 计算当前位的值，考虑进位\n",
    "            carry = (l2.val + carry) // 10  # 计算新的进位值\n",
    "            l2 = l2.next  # 移动l2指针到下一位\n",
    "            p = p.next  # 移动p指针到刚刚创建的节点\n",
    "        if carry == 1:  # 如果最后还有进位，需要额外添加一个值为1的节点\n",
    "            p.next = ListNode(1)\n",
    "        return dummy.next  # 返回虚拟头节点的下一个节点，即结果链表的头节点\n"
   ]
  },
  {
   "cell_type": "markdown",
   "metadata": {},
   "source": [
    "### 滑动窗口模板\n",
    "#### 76 最小覆盖子串"
   ]
  },
  {
   "cell_type": "code",
   "execution_count": 5,
   "metadata": {},
   "outputs": [
    {
     "data": {
      "text/plain": [
       "'BANC'"
      ]
     },
     "execution_count": 5,
     "metadata": {},
     "output_type": "execute_result"
    }
   ],
   "source": [
    "\"\"\"\n",
    "输入：s = \"ADOBECODEBANC\", t = \"ABC\"\n",
    "输出：\"BANC\"\n",
    "\"\"\"\n",
    "def minWindow(s: str, t: str) -> str:\n",
    "    need,window = dict(),dict()\n",
    "    for i in t:\n",
    "        need[i] = 1 if i not in need else need[i]+1\n",
    "    l,r,valid = 0,0,0\n",
    "    start,lens = 0,float('inf')\n",
    "    while r<len(s):\n",
    "        c = s[r]\n",
    "        # 右移\n",
    "        r+=1\n",
    "        if need.get(c):\n",
    "            window[c] = 1 if c not in window else window[c]+1\n",
    "            if window[c]==need[c]:\n",
    "                valid+=1\n",
    "        while valid==len(need):\n",
    "            # 更新最小覆盖子串\n",
    "            if r-l<lens:\n",
    "                start = l \n",
    "                lens = r-l \n",
    "            move=s[l]\n",
    "            l+=1\n",
    "            if need.get(move):\n",
    "                if need[move]==window[move]:\n",
    "                    valid-=1\n",
    "                window[move]-=1\n",
    "    return \"\" if lens==float('inf') else s[start:start+lens]\n",
    "s = \"ADOBECODEBANC\"\n",
    "t = \"ABC\"\n",
    "minWindow(s,t)"
   ]
  },
  {
   "cell_type": "markdown",
   "metadata": {},
   "source": [
    "#### 567 字符串的排列"
   ]
  },
  {
   "cell_type": "code",
   "execution_count": 8,
   "metadata": {},
   "outputs": [
    {
     "data": {
      "text/plain": [
       "True"
      ]
     },
     "execution_count": 8,
     "metadata": {},
     "output_type": "execute_result"
    }
   ],
   "source": [
    "\"\"\"\n",
    "输入：s1 = \"ab\" s2 = \"eidbaooo\"\n",
    "输出：true\n",
    "解释：s2 包含 s1 的排列之一 (\"ba\").\n",
    "\"\"\"\n",
    "def checkInclusion( s1: str, s2: str) -> bool:\n",
    "    need,window = dict(),dict()\n",
    "    for c in s1:\n",
    "        need[c] = 1 if c not in need else need[c]+1\n",
    "    l,r = 0,0\n",
    "    valid = 0\n",
    "    while r<len(s2):\n",
    "        c = s2[r]\n",
    "        r+=1\n",
    "        if need.get(c):\n",
    "            window[c] = 1 if c not in window else window[c]+1\n",
    "            if need[c]==window[c]:\n",
    "                valid +=1\n",
    "        # 判断左侧窗口是否收敛\n",
    "        while r-l==len(s1):\n",
    "            # 判断是否找到了合法子串\n",
    "            if valid==len(need):\n",
    "                return True\n",
    "            move = s2[l]\n",
    "            l+=1\n",
    "            if need.get(move):\n",
    "                if need[move]==window[move]:\n",
    "                    valid-=1\n",
    "                window[move]-=1\n",
    "    return False\n",
    "s1 = \"ab\" \n",
    "s2 = \"eidbaooo\"\n",
    "checkInclusion(s1,s2)"
   ]
  },
  {
   "cell_type": "markdown",
   "metadata": {},
   "source": [
    "#### 438 找到所有字母异位词"
   ]
  },
  {
   "cell_type": "code",
   "execution_count": 10,
   "metadata": {},
   "outputs": [
    {
     "data": {
      "text/plain": [
       "[0, 6]"
      ]
     },
     "execution_count": 10,
     "metadata": {},
     "output_type": "execute_result"
    }
   ],
   "source": [
    "\"\"\"\n",
    "输入: s = \"cbaebabacd\", p = \"abc\"\n",
    "输出: [0,6]\n",
    "解释:\n",
    "起始索引等于 0 的子串是 \"cba\", 它是 \"abc\" 的异位词。\n",
    "起始索引等于 6 的子串是 \"bac\", 它是 \"abc\" 的异位词。\n",
    "\n",
    "\"\"\"\n",
    "# 在上一个的基础上把左边界纪录下就可\n",
    "def findAnagrams(s: str, p: str):\n",
    "    need,window = dict(),dict()\n",
    "    for c in p:\n",
    "        need[c] = 1 if c not in need else need[c]+1\n",
    "    l,r = 0,0\n",
    "    valid = 0\n",
    "    res = []\n",
    "    while r<len(s):\n",
    "        c = s[r]\n",
    "        r+=1\n",
    "        if need.get(c):\n",
    "            window[c]=1 if c not in window else window[c]+1\n",
    "            if need[c]==window[c]:\n",
    "                valid+=1\n",
    "        while r-l==len(p):\n",
    "            if valid==len(need):\n",
    "                res.append(l)\n",
    "            move = s[l]\n",
    "            l+=1\n",
    "            if need.get(move):\n",
    "                if need[move]==window[move]:\n",
    "                    valid-=1\n",
    "                window[move]-=1\n",
    "    return res\n",
    "s = \"cbaebabacd\"\n",
    "p = \"abc\"\n",
    "findAnagrams(s,p)"
   ]
  },
  {
   "cell_type": "markdown",
   "metadata": {},
   "source": [
    "#### 3 无重复字符的最长子串"
   ]
  },
  {
   "cell_type": "code",
   "execution_count": 12,
   "metadata": {},
   "outputs": [
    {
     "data": {
      "text/plain": [
       "3"
      ]
     },
     "execution_count": 12,
     "metadata": {},
     "output_type": "execute_result"
    }
   ],
   "source": [
    "\"\"\"\n",
    "输入: s = \"abcabcbb\"\n",
    "输出: 3 \n",
    "解释: 因为无重复字符的最长子串是 \"abc\"，所以其长度为 3。\n",
    "\n",
    "\"\"\"\n",
    "\n",
    "def lengthOfLongestSubstring( s: str) -> int:\n",
    "    window = dict()\n",
    "    l,r = 0,0\n",
    "    res = 0\n",
    "    while r<len(s):\n",
    "        c = s[r]\n",
    "        r+=1\n",
    "        window[c] = 1 if c not in window else window[c]+1\n",
    "        # 只要窗口里有字符数量>1就缩左1位\n",
    "        while window[c]>1:\n",
    "            m = s[l]\n",
    "            l+=1\n",
    "            window[m]-=1\n",
    "        # 更新\n",
    "        res = max(res,r-l)\n",
    "    return res\n",
    "s = \"abcabcbb\"\n",
    "lengthOfLongestSubstring(s)"
   ]
  },
  {
   "cell_type": "markdown",
   "metadata": {},
   "source": [
    "### 回溯问题"
   ]
  },
  {
   "cell_type": "markdown",
   "metadata": {},
   "source": [
    "#### 17 电话号码的字母组合"
   ]
  },
  {
   "cell_type": "code",
   "execution_count": 6,
   "metadata": {},
   "outputs": [
    {
     "data": {
      "text/plain": [
       "['ad', 'ae', 'af', 'bd', 'be', 'bf', 'cd', 'ce', 'cf']"
      ]
     },
     "execution_count": 6,
     "metadata": {},
     "output_type": "execute_result"
    }
   ],
   "source": [
    "def letterCombinations(digits: str):\n",
    "    if not digits:return []\n",
    "    dic = {'2':['a','b','c'],\n",
    "    '3':['d','e','f'],\n",
    "    '4':['g','h','i'],\n",
    "    '5':['j','k','l'],\n",
    "    '6':['m','n','o'],\n",
    "    '7':['p','q','r','s'],\n",
    "    '8':['t','u','v'],\n",
    "    '9':['w','x','y','z']\n",
    "    }\n",
    "\n",
    "    \n",
    "    def back(path,id): #  数字下标和路径\n",
    "        # 达到数字长度就加入结果\n",
    "        if id==len(digits):\n",
    "            res.append(''.join(path))\n",
    "        \n",
    "        # 没有就拿到当前数字，获取数字对应的字符列表，遍历列表添加结果，数字下标加1回溯递归\n",
    "        else:\n",
    "            di = digits[id]\n",
    "            for c in dic[di]:\n",
    "                path.append(c)\n",
    "                back(path,id+1)\n",
    "                path.pop()\n",
    "\n",
    "    res,path =[],[]\n",
    "    back(path,0)\n",
    "    return res\n",
    "letterCombinations('23')"
   ]
  },
  {
   "cell_type": "markdown",
   "metadata": {},
   "source": [
    "#### 22 括号生成"
   ]
  },
  {
   "cell_type": "code",
   "execution_count": 7,
   "metadata": {},
   "outputs": [
    {
     "data": {
      "text/plain": [
       "['((()))', '(()())', '(())()', '()(())', '()()()']"
      ]
     },
     "execution_count": 7,
     "metadata": {},
     "output_type": "execute_result"
    }
   ],
   "source": [
    "def generateParenthesis(n: int):\n",
    "\n",
    "    s = ''\n",
    "    res = []\n",
    "    def dfs(s,l,r):\n",
    "        # 都用完加入结果\n",
    "        if l==0 and r==0:\n",
    "            res.append(s)\n",
    "\n",
    "        # 左剩的比右多\n",
    "        if l>r:\n",
    "            return\n",
    "        # 用左\n",
    "        if l:\n",
    "            dfs(s+'(',l-1,r)\n",
    "        # 用右\n",
    "        if r:\n",
    "            dfs(s+')',l,r-1)\n",
    "    \n",
    "    dfs(s,n,n)\n",
    "    return res\n",
    "generateParenthesis(3)\n"
   ]
  },
  {
   "cell_type": "markdown",
   "metadata": {},
   "source": [
    "#### 46 全排列"
   ]
  },
  {
   "cell_type": "code",
   "execution_count": 4,
   "metadata": {},
   "outputs": [
    {
     "data": {
      "text/plain": [
       "[[1, 2, 3], [1, 3, 2], [2, 1, 3], [2, 3, 1], [3, 1, 2], [3, 2, 1]]"
      ]
     },
     "execution_count": 4,
     "metadata": {},
     "output_type": "execute_result"
    }
   ],
   "source": [
    "def permute(nums):\n",
    "\n",
    "    def back(path,nums):\n",
    "        if len(path)==len(nums):\n",
    "            end.append(path[:])\n",
    "        \n",
    "        for i in range(len(nums)):\n",
    "            if nums[i] not in path:\n",
    "                path.append(nums[i])\n",
    "                back(path,nums)\n",
    "                path.pop()\n",
    "    \n",
    "    path ,end = [],[]\n",
    "    back(path,nums)\n",
    "    return end\n",
    "permute([1,2,3])"
   ]
  },
  {
   "cell_type": "markdown",
   "metadata": {},
   "source": [
    "#### 47 全排列2"
   ]
  },
  {
   "cell_type": "code",
   "execution_count": 5,
   "metadata": {},
   "outputs": [
    {
     "data": {
      "text/plain": [
       "[[1, 1, 2], [1, 2, 1], [2, 1, 1]]"
      ]
     },
     "execution_count": 5,
     "metadata": {},
     "output_type": "execute_result"
    }
   ],
   "source": [
    "def permuteUnique(nums):\n",
    "\n",
    "    def back(path,nums,used):\n",
    "        if len(path)==len(nums):\n",
    "            end.append(path[:])\n",
    "        \n",
    "        for i in range(len(nums)):\n",
    "            if used[i]==1:\n",
    "                continue\n",
    "            # 两个数一致，前一个是否被用过都无所谓，任选一个0/1跳过即可\n",
    "            if i>0 and nums[i]==nums[i-1] and used[i-1]==0:\n",
    "                continue\n",
    "            path.append(nums[i])\n",
    "            used[i]=1\n",
    "            back(path,nums,used)\n",
    "            path.pop()\n",
    "            used[i]=0\n",
    "    # 记得排好序\n",
    "    nums.sort()\n",
    "    path ,end = [],[]\n",
    "    used=[0] * len(nums)\n",
    "    back(path,nums,used)\n",
    "    return end\n",
    "\n",
    "permuteUnique([1,1,2])"
   ]
  },
  {
   "cell_type": "markdown",
   "metadata": {},
   "source": [
    "#### 78 子集"
   ]
  },
  {
   "cell_type": "code",
   "execution_count": 6,
   "metadata": {},
   "outputs": [
    {
     "data": {
      "text/plain": [
       "[[], [1], [1, 2], [1, 2, 3], [1, 3], [2], [2, 3], [3]]"
      ]
     },
     "execution_count": 6,
     "metadata": {},
     "output_type": "execute_result"
    }
   ],
   "source": [
    "def subsets(nums):\n",
    "\n",
    "    def back(nums,start):\n",
    "        # 不用判断长度全都添加\n",
    "        res.append(path[:])\n",
    "        for i in range(start,len(nums)):\n",
    "            path.append(nums[i])\n",
    "            # 下标增加\n",
    "            back(nums,i+1)\n",
    "            path.pop()\n",
    "    \n",
    "    path = []\n",
    "    res = []\n",
    "    back(nums,0)\n",
    "    return res\n",
    "\n",
    "subsets([1,2,3])"
   ]
  },
  {
   "cell_type": "markdown",
   "metadata": {},
   "source": [
    "#### 77组合"
   ]
  },
  {
   "cell_type": "code",
   "execution_count": 5,
   "metadata": {},
   "outputs": [
    {
     "data": {
      "text/plain": [
       "[[1, 2], [1, 3], [1, 4], [2, 3], [2, 4], [3, 4]]"
      ]
     },
     "execution_count": 5,
     "metadata": {},
     "output_type": "execute_result"
    }
   ],
   "source": [
    "\n",
    "def combine( n: int, k: int):\n",
    "    nums = list(range(1,n+1))\n",
    "\n",
    "    def back(path,nums,start):\n",
    "        # 长度判断\n",
    "        if len(path)==k:\n",
    "            res.append(path[:])\n",
    "            return\n",
    "        for i in range(start,n): \n",
    "            # 使用判断\n",
    "            if nums[i] not in path:\n",
    "                path.append(nums[i])\n",
    "                # 下标增加判断\n",
    "                back(path,nums,i+1)\n",
    "                path.pop()\n",
    "\n",
    "    path,res=[],[]\n",
    "    back(path,nums,0)\n",
    "    return res\n",
    "\n",
    "n = 4\n",
    "k = 2\n",
    "combine(n,k)\n"
   ]
  },
  {
   "cell_type": "markdown",
   "metadata": {},
   "source": [
    "#### 39 组合总和"
   ]
  },
  {
   "cell_type": "code",
   "execution_count": 2,
   "metadata": {},
   "outputs": [
    {
     "data": {
      "text/plain": [
       "[[2, 2, 3], [7]]"
      ]
     },
     "execution_count": 2,
     "metadata": {},
     "output_type": "execute_result"
    }
   ],
   "source": [
    "def combinationSum( candidates, target: int):\n",
    "    \n",
    "    def back(path,target,candidates,start):\n",
    "        if target<0:\n",
    "            return\n",
    "        if target==0:\n",
    "            res.append(path[:])\n",
    "            return\n",
    "        \n",
    "        for i in range(start,n):\n",
    "            path.append(candidates[i])\n",
    "            target = target-candidates[i]\n",
    "            # 可重复因此需要重复多次减去每个下标为i的值，判断target是否为0\n",
    "            back(path,target,candidates,i)\n",
    "            path.pop()\n",
    "            target = target+candidates[i]\n",
    "\n",
    "    \n",
    "    path,res=[],[]\n",
    "    if not candidates:return []\n",
    "    n = len(candidates)\n",
    "    back(path,target,candidates,0)\n",
    "    return res\n",
    "\n",
    "    \n",
    "\n",
    "combinationSum([2,3,6,7],7)"
   ]
  },
  {
   "cell_type": "markdown",
   "metadata": {},
   "source": [
    "#### 79 单词搜索"
   ]
  },
  {
   "cell_type": "code",
   "execution_count": 8,
   "metadata": {},
   "outputs": [
    {
     "data": {
      "text/plain": [
       "True"
      ]
     },
     "execution_count": 8,
     "metadata": {},
     "output_type": "execute_result"
    }
   ],
   "source": [
    "def exist(board, word: str):\n",
    "    # i行j列字符 和 第k个单词字符 相等则真\n",
    "    def dfs(i,j,k):\n",
    "        if not 0<=i<len(board) or not 0<=j<len(board[0]) or board[i][j]!=word[k]:\n",
    "            return False\n",
    "        if len(word)-1==k:return True\n",
    "        # 置为空字符串表示已经使用过\n",
    "        board[i][j]=''\n",
    "        res = dfs(i+1,j,k+1) or dfs(i-1,j,k+1) or dfs(i,j+1,k+1) or dfs(i,j-1,k+1)\n",
    "        # 恢复可用\n",
    "        board[i][j]=word[k]\n",
    "        return res \n",
    "    \n",
    "    for i in range(len(board)):\n",
    "        for j in range(len(board[0])):\n",
    "            # 如果递归为真则能找到\n",
    "            if dfs(i,j,0):\n",
    "                return True\n",
    "    return False\n",
    "\n",
    "board = [[\"A\",\"B\",\"C\",\"E\"],[\"S\",\"F\",\"C\",\"S\"],[\"A\",\"D\",\"E\",\"E\"]]\n",
    "word = \"ABCCED\"\n",
    "exist(board,word)"
   ]
  },
  {
   "cell_type": "markdown",
   "metadata": {},
   "source": [
    "#### 131 分割回文串"
   ]
  },
  {
   "cell_type": "code",
   "execution_count": 9,
   "metadata": {},
   "outputs": [
    {
     "data": {
      "text/plain": [
       "[['a', 'a', 'b'], ['aa', 'b']]"
      ]
     },
     "execution_count": 9,
     "metadata": {},
     "output_type": "execute_result"
    }
   ],
   "source": [
    "def partition(s: str):\n",
    "    \n",
    "    # 遍历子串结束位置，也就是逗号的位置，从0到len(s)\n",
    "    def back(path,i):\n",
    "        # 遍历到==len(s)写入答案\n",
    "        if i==n:\n",
    "            res.append(path[:])\n",
    "        \n",
    "        # 从当前逗号位置递归，取不同长度字符串判断是否回文\n",
    "        for j in range(i,n):\n",
    "            t = s[i:j+1]\n",
    "            if t==t[::-1]:\n",
    "                path.append(t)\n",
    "                back(path,j+1)\n",
    "                path.pop()\n",
    "    \n",
    "    path =[]\n",
    "    res = []\n",
    "    n = len(s)\n",
    "    back(path,0)\n",
    "    return res\n",
    "s = \"aab\"\n",
    "partition(s)"
   ]
  },
  {
   "cell_type": "markdown",
   "metadata": {},
   "source": [
    "#### 51 N皇后"
   ]
  },
  {
   "cell_type": "code",
   "execution_count": 10,
   "metadata": {},
   "outputs": [
    {
     "data": {
      "text/plain": [
       "[['.Q..', '...Q', 'Q...', '..Q.'], ['..Q.', 'Q...', '...Q', '.Q..']]"
      ]
     },
     "execution_count": 10,
     "metadata": {},
     "output_type": "execute_result"
    }
   ],
   "source": [
    "def solveNQueens(n: int):\n",
    "    \n",
    "    def valid(r,c):\n",
    "        # 遍历0～r行的每个R\n",
    "        for R in range(r):\n",
    "            #取出每行对应的列位置\n",
    "            C = col[R]\n",
    "            # 如果斜对角相等表示皇后互相攻击到了，返回F\n",
    "            if r+c==R+C or r-c==R-C:\n",
    "                return False\n",
    "        return True\n",
    "\n",
    "\n",
    "\n",
    "    def dfs(r,s):\n",
    "        # 遍历完所有行了写入结果\n",
    "        if r==n:\n",
    "            # \n",
    "            res.append(['.'*c + 'Q'+'.'*(n-1-c) for c in col])\n",
    "            return \n",
    "        for c in s:\n",
    "            # 当前列可以\n",
    "            if valid(r,c):\n",
    "                # 行下标位置写入列\n",
    "                col[r]=c\n",
    "                # 递归下一行，去掉可用的列位置\n",
    "                dfs(r+1,s-{c})\n",
    "\n",
    "    # col列表每个下标表示对应行，表元素表示皇后的位置，初始化为0，即（下标，元素）代表（行，皇后位置）\n",
    "    col = [0]*n\n",
    "    # s集合表示可以遍历的列\n",
    "    s = set(range(n))\n",
    "    res = []\n",
    "    dfs(0,s)\n",
    "    return res\n",
    "solveNQueens(4)"
   ]
  },
  {
   "cell_type": "markdown",
   "metadata": {},
   "source": [
    "#### 200 岛屿数量\n",
    "\n",
    "针对这道题，我们只需要对矩阵进行依次遍历，如果当前grid[x][y] == \"1\",则启动DFS模式。 找到与之相连的所有1，将其置为0。搜索结束后，我们找到了一个岛屿，岛屿数量+=1。 如此循环，最终返回岛屿数量即可。\n"
   ]
  },
  {
   "cell_type": "code",
   "execution_count": 6,
   "metadata": {},
   "outputs": [
    {
     "data": {
      "text/plain": [
       "3"
      ]
     },
     "execution_count": 6,
     "metadata": {},
     "output_type": "execute_result"
    }
   ],
   "source": [
    "def numIslands(grid) -> int:\n",
    "    def dfs(grid,i,j):\n",
    "        if not 0<=i<len(grid) or not 0<=j<len(grid[0]) or grid[i][j]=='0':\n",
    "            return \n",
    "        grid[i][j]='0'\n",
    "        dfs(grid,i-1,j)\n",
    "        dfs(grid,i+1,j)\n",
    "        dfs(grid,i,j-1)\n",
    "        dfs(grid,i,j+1)\n",
    "        \n",
    "    cnt =0\n",
    "    for i in range(len(grid)):\n",
    "        for j in range(len(grid[0])):\n",
    "            if grid[i][j]=='1':\n",
    "                dfs(grid,i,j)\n",
    "                cnt+=1\n",
    "    return cnt\n",
    "grid = [\n",
    "  [\"1\",\"1\",\"0\",\"0\",\"0\"],\n",
    "  [\"1\",\"1\",\"0\",\"0\",\"0\"],\n",
    "  [\"0\",\"0\",\"1\",\"0\",\"0\"],\n",
    "  [\"0\",\"0\",\"0\",\"1\",\"1\"]\n",
    "]\n",
    "numIslands(grid)"
   ]
  },
  {
   "cell_type": "code",
   "execution_count": 8,
   "metadata": {},
   "outputs": [
    {
     "data": {
      "text/plain": [
       "[(4, 7), (5, 8), (6, 9)]"
      ]
     },
     "execution_count": 8,
     "metadata": {},
     "output_type": "execute_result"
    }
   ],
   "source": [
    "matrix = [[1,2,3],[4,5,6],[7,8,9]]\n",
    "list(zip(*matrix[1:]))"
   ]
  },
  {
   "cell_type": "markdown",
   "metadata": {},
   "source": [
    "### 二叉树\n",
    "\n",
    "- 前中后序遍历：递归法、迭代法\n",
    "- 队列迭代：层序遍历、z字遍历、二叉树最大/最小深度、二叉树右视图、翻转二叉树、对称二叉树\n",
    "- 递归回溯：二叉树的直径、二叉树的最大路径和\n",
    "- 构造二叉树：从前中序建二叉树、从中后序建二叉树\n",
    "- 二叉搜索树：验证二叉搜索树、二叉搜索树的搜索"
   ]
  },
  {
   "cell_type": "markdown",
   "metadata": {},
   "source": [
    "#### 144. 二叉树的前序遍历\n"
   ]
  },
  {
   "cell_type": "code",
   "execution_count": null,
   "metadata": {},
   "outputs": [],
   "source": [
    "\n",
    "class Solution:\n",
    "    def preorderTraversal(self, root: Optional[TreeNode]) -> List[int]:\n",
    "        \n",
    "        # 迭代法\n",
    "        # 根入栈出栈，出栈的根按右左顺序入栈，这样弹出栈时左节点才会被先记录\n",
    "        if not root:\n",
    "            return []\n",
    "        \n",
    "        stack = [root]\n",
    "        res = []\n",
    "\n",
    "        while stack:\n",
    "            cur = stack.pop()\n",
    "            res.append(cur.val)\n",
    "\n",
    "            if cur.right:\n",
    "                stack.append(cur.right)\n",
    "            if cur.left:\n",
    "                stack.append(cur.left)\n",
    "        \n",
    "        return res\n",
    "        \n",
    "        # 递归法\n",
    "        # def pre(root):\n",
    "        #     if not root:\n",
    "        #         return\n",
    "        #     res.append(root.val)\n",
    "        #     pre(root.left)\n",
    "        #     pre(root.right)\n",
    "        # res=[]\n",
    "        # pre(root)\n",
    "        # return res\n",
    "\n"
   ]
  },
  {
   "cell_type": "markdown",
   "metadata": {},
   "source": [
    "#### 94二叉树中序遍历"
   ]
  },
  {
   "cell_type": "code",
   "execution_count": null,
   "metadata": {},
   "outputs": [],
   "source": [
    "class Solution:\n",
    "    def inorderTraversal(self, root: Optional[TreeNode]) -> List[int]:\n",
    "        if not root:\n",
    "            return []\n",
    "        stack = []  # 不能提前将root结点加入stack中\n",
    "        result = []\n",
    "        cur = root\n",
    "        while cur or stack:\n",
    "            # 先迭代访问最底层的左子树结点\n",
    "            if cur:     \n",
    "                stack.append(cur)\n",
    "                cur = cur.left\t\t\n",
    "            # 到达最左结点后处理栈顶结点    \n",
    "            else:\t\t\n",
    "                cur = stack.pop()\n",
    "                result.append(cur.val)\n",
    "                # 取栈顶元素右结点\n",
    "                cur = cur.right\t\n",
    "        return result"
   ]
  },
  {
   "cell_type": "markdown",
   "metadata": {},
   "source": [
    "#### 105 从前序与中序遍历序列构造二叉树\n"
   ]
  },
  {
   "cell_type": "code",
   "execution_count": null,
   "metadata": {},
   "outputs": [],
   "source": [
    "# Definition for a binary tree node.\n",
    "# class TreeNode:\n",
    "#     def __init__(self, val=0, left=None, right=None):\n",
    "#         self.val = val\n",
    "#         self.left = left\n",
    "#         self.right = right\n",
    "class Solution:\n",
    "    def buildTree(self, preorder: List[int], inorder: List[int]) -> Optional[TreeNode]:\n",
    "        if not preorder:\n",
    "            return\n",
    "        # 找根节点\n",
    "        val = preorder[0]\n",
    "        root = TreeNode(val)\n",
    "\n",
    "        # 先中序切割，因为中序可以确定左右长度\n",
    "        index = inorder.index(val)\n",
    "        inorder_left = inorder[:index]\n",
    "        inorder_right = inorder[index+1:]\n",
    "\n",
    "        # 前序切割长度和中序保持一致\n",
    "        preorder_left = preorder[1:len(inorder_left)+1]\n",
    "        preorder_right = preorder[len(inorder_left)+1:]\n",
    "\n",
    "        # 递归调前序和中序左右子树\n",
    "        root.left = self.buildTree(preorder_left,inorder_left)\n",
    "        root.right = self.buildTree(preorder_right,inorder_right)\n",
    "\n",
    "        return root"
   ]
  },
  {
   "cell_type": "markdown",
   "metadata": {},
   "source": [
    "#### 106 从中序与后序遍历序列构造二叉树\n"
   ]
  },
  {
   "cell_type": "code",
   "execution_count": null,
   "metadata": {},
   "outputs": [],
   "source": [
    "class Solution:\n",
    "    def buildTree(self, inorder: List[int], postorder: List[int]) -> Optional[TreeNode]:\n",
    "        if not postorder:\n",
    "            return \n",
    "        # 找根节点\n",
    "        val = postorder[-1]\n",
    "        root = TreeNode(val)\n",
    "\n",
    "        # 先中序切割，因为中序可以确定左右长度\n",
    "        index = inorder.index(val)\n",
    "        inorder_left = inorder[:index]\n",
    "        inorder_right = inorder[index+1:]\n",
    "\n",
    "        # 后序切割长度和中序保持一致\n",
    "        postorder_left = postorder[:len(inorder_left)]\n",
    "        postorder_right = postorder[len(inorder_left):len(postorder)-1]\n",
    "\n",
    "        # 递归调后序和中序左右子树\n",
    "        root.left = self.buildTree(inorder_left,postorder_left)\n",
    "        root.right = self.buildTree(inorder_right,postorder_right)\n",
    "\n",
    "        return root"
   ]
  },
  {
   "cell_type": "markdown",
   "metadata": {},
   "source": [
    "#### 700.二叉搜索树的搜索"
   ]
  },
  {
   "cell_type": "code",
   "execution_count": null,
   "metadata": {},
   "outputs": [],
   "source": [
    "# 给定二叉搜索树（BST）的根节点 root 和一个整数值 val。\n",
    "\n",
    "# 你需要在 BST 中找到节点值等于 val 的节点。 返回以该节点为根的子树。 如果节点不存在，则返回 null 。 \n",
    "\n",
    "class Solution:\n",
    "    def searchBST(self, root: Optional[TreeNode], val: int) -> Optional[TreeNode]:\n",
    "        while root:\n",
    "            if val<root.val:\n",
    "                root = root.left\n",
    "            elif val>root.val:\n",
    "                root = root.right\n",
    "            else:\n",
    "                return root \n",
    "        return "
   ]
  },
  {
   "cell_type": "markdown",
   "metadata": {},
   "source": [
    "####  98 验证二叉搜索树"
   ]
  },
  {
   "cell_type": "code",
   "execution_count": null,
   "metadata": {},
   "outputs": [],
   "source": [
    "# 给你一个二叉树的根节点 root ，判断其是否是一个有效的二叉搜索树。\n",
    "\n",
    "# 有效 二叉搜索树定义如下：\n",
    "\n",
    "# 节点的左子树只包含 小于 当前节点的数。\n",
    "# 节点的右子树只包含 大于 当前节点的数。\n",
    "# 所有左子树和右子树自身必须也是二叉搜索树。 \n",
    "\n",
    "# 思路：中序遍历迭代法模版增加pre，比较当前节点（父节点）和pre前节点（左孩子）大小，左孩子>=父节点就不是二叉搜索树\n",
    "class Solution:\n",
    "    def isValidBST(self, root: Optional[TreeNode]) -> bool:\n",
    "\n",
    "        stack = []\n",
    "        cur = root\n",
    "        pre = None \n",
    "        while cur or stack:\n",
    "            if cur:\n",
    "                stack.append(cur)\n",
    "                cur = cur.left \n",
    "            else:\n",
    "                cur = stack.pop()\n",
    "                if pre and cur.val<=pre.val:\n",
    "                    return False\n",
    "                pre = cur \n",
    "                cur = cur.right \n",
    "        return True"
   ]
  },
  {
   "cell_type": "markdown",
   "metadata": {},
   "source": [
    "#### 108 将有序数组转换为二叉搜索树\n"
   ]
  },
  {
   "cell_type": "code",
   "execution_count": null,
   "metadata": {},
   "outputs": [],
   "source": [
    "# 给你一个整数数组 nums ，其中元素已经按 升序 排列，请你将其转换为一棵 高度平衡 二叉搜索树。\n",
    "\n",
    "# 高度平衡 二叉树是一棵满足「每个节点的左右两个子树的高度差的绝对值不超过 1 」的二叉树。\n",
    "\n",
    " \n",
    "class Solution:\n",
    "    def sortedArrayToBST(self, nums: List[int]) -> Optional[TreeNode]:\n",
    "\n",
    "        def st(nums,left,right):\n",
    "            if left>right:\n",
    "                return\n",
    "            \n",
    "            mid = left+(right-left)//2\n",
    "            root = TreeNode(nums[mid])\n",
    "            root.left = st(nums,left,mid-1)\n",
    "            root.right = st(nums,mid+1,right)\n",
    "            return root\n",
    "        \n",
    "        root = st(nums,0,len(nums)-1)\n",
    "        return root\n",
    "\n"
   ]
  },
  {
   "cell_type": "markdown",
   "metadata": {},
   "source": [
    "#### 235 二叉搜索树的最近公共祖先\n",
    "#### 236 二叉树的最近公共祖先\n"
   ]
  },
  {
   "cell_type": "code",
   "execution_count": null,
   "metadata": {},
   "outputs": [],
   "source": [
    "# 给定一个二叉树, 找到该树中两个指定节点的最近公共祖先。\n",
    "\n",
    "# 百度百科中最近公共祖先的定义为：“对于有根树 T 的两个节点 p、q，最近公共祖先表示为一个节点 x，\n",
    "# 满足 x 是 p、q 的祖先且 x 的深度尽可能大（一个节点也可以是它自己的祖先）。”\n",
    "\n",
    "# 这道题目刷过的同学未必真正了解这里面回溯的过程，以及结果是如何一层一层传上去的。\n",
    "# 那么我给大家归纳如下三点：\n",
    "# 求最小公共祖先，需要从底向上遍历，那么二叉树，只能通过后序遍历（即：回溯）实现从底向上的遍历方式。\n",
    "# 在回溯的过程中，必然要遍历整棵二叉树，即使已经找到结果了，依然要把其他节点遍历完，因为要使用递归函数的返回值（也就是代码中的left和right）做逻辑判断。\n",
    "# 要理解如果返回值left为空，right不为空为什么要返回right，为什么可以用返回right传给上一层结果。\n",
    "# 可以说这里每一步，都是有难度的，都需要对二叉树，递归和回溯有一定的理解。\n",
    "# 本题没有给出迭代法，因为迭代法不适合模拟回溯的过程。理解递归的解法就够了。\n",
    "\n",
    "#\n",
    "class Solution:\n",
    "    def lowestCommonAncestor(self, root: 'TreeNode', p: 'TreeNode', q: 'TreeNode') -> 'TreeNode':\n",
    "\n",
    "        if not root or root==p or root==q:\n",
    "            return root\n",
    "        \n",
    "        left = self.lowestCommonAncestor(root.left,p,q)\n",
    "        right = self.lowestCommonAncestor(root.right,p,q)\n",
    "\n",
    "        if left and right:return root\n",
    "        if not left:return right \n",
    "\n",
    "        return left"
   ]
  }
 ],
 "metadata": {
  "kernelspec": {
   "display_name": "Python 3.8.3 ('base')",
   "language": "python",
   "name": "python3"
  },
  "language_info": {
   "codemirror_mode": {
    "name": "ipython",
    "version": 3
   },
   "file_extension": ".py",
   "mimetype": "text/x-python",
   "name": "python",
   "nbconvert_exporter": "python",
   "pygments_lexer": "ipython3",
   "version": "3.9.5"
  },
  "orig_nbformat": 4,
  "vscode": {
   "interpreter": {
    "hash": "ffcde2d150310b1e1807dcd4cef0eee1065874d43f0e760c11aa9d0ad7dd1536"
   }
  }
 },
 "nbformat": 4,
 "nbformat_minor": 2
}
