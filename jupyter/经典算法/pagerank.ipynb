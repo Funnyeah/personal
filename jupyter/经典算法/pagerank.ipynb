{
 "cells": [
  {
   "cell_type": "markdown",
   "metadata": {},
   "source": [
    "### 背景\n",
    "- 资源集中化的搜索引擎：Archie、Veronica、Jughead、Gopher\n",
    "- 资源关联的搜索引擎：Yaho、LookSmart、Dmoz\n",
    "- 如今:Google创始人larry page提出的 pagerank,针对网页排名，计算网页重要性，优化搜索引擎排序 "
   ]
  },
  {
   "cell_type": "markdown",
   "metadata": {},
   "source": [
    "### 中心思想\n",
    "- 数量假设：一个网页受到其他网页入链越多，说明该网页越重要 \n",
    "- 质量假设：一个pr值高的网页指向的网页，说明被指向的网页重要"
   ]
  },
  {
   "cell_type": "markdown",
   "metadata": {},
   "source": [
    "公式: $P R(a)_{i+1}=\\sum_{i=0}^{n} \\frac{P R(T i)_{i}}{L(T i)}$\n",
    "\n",
    "$ P R(T i)$ 表示a的入链节点（指向a）的pr值\n",
    "\n",
    "$L(T i)$ 表示a的入链节点的出链数\n",
    "\n",
    "$i$ 表示循环次数,$i=0$时会初始化节点pr值，一般为1/网页数量,循环100次得到稳定值"
   ]
  },
  {
   "cell_type": "markdown",
   "metadata": {},
   "source": [
    "### 矩阵化表达\n",
    "- 迭代求解需要关注每个节点值的变化\n",
    "- 使用转移概率矩阵即马尔可夫矩阵可通过矩阵乘法快速求解\n",
    "- 转化方式例如：a,b,c,d四个节点，矩阵为列到行 也就是该节点到对应节点的转移概率，也就是说列a到行b，如果a指向b和c，那么a到b,a到c的概率都为1/2\n",
    "- 转移矩阵列和为1，因为都是表述的列节点到行节点的概率"
   ]
  },
  {
   "cell_type": "markdown",
   "metadata": {},
   "source": [
    " <img align=\"left\"  src=\"picture/pagerank/L8-W8qCMHoYBqNDYvaXCKz4sfdzO8zNyQeXvVYJ_B6U.original.fullsize.png\" width = \"300\" height = \"200\" style=\"float left\" />"
   ]
  },
  {
   "cell_type": "markdown",
   "metadata": {},
   "source": [
    "$\\mathbf{P R}(\\mathrm{a})=\\mathrm{M}^{*} \\mathbf{V}$\n",
    "\n",
    "a为列节点，M 为上述转移矩阵,V为上轮迭代的Pr值\n",
    "\n"
   ]
  },
  {
   "cell_type": "markdown",
   "metadata": {},
   "source": [
    "<img align=\"left\"  src=\"picture/pagerank/u5GMHyxlbup0Mm63Zf_Ps5dqs43_7GVXY_TjUAyO-1I.original.fullsize.png\" width = \"600\" height = \"400\" />"
   ]
  },
  {
   "cell_type": "markdown",
   "metadata": {},
   "source": [
    "### Dead Ends问题\n",
    "<img align='left' width = \"500\" height = \"300\" src=\"picture/pagerank/O4EJUhadHTjnbbokcofIy2TZ1IB4j057CQTM53UPrbg.original.fullsize.png\" />"
   ]
  },
  {
   "cell_type": "markdown",
   "metadata": {},
   "source": [
    "<img align ='left' width='500' height='300' src=\"picture/pagerank/nbJBCgtJr_AHRLGOX51RXlyDBE2Rf-FaWQcy_vl86Gw.original.fullsize.png\" />"
   ]
  },
  {
   "cell_type": "markdown",
   "metadata": {},
   "source": [
    "### 解决方法 Teleport"
   ]
  },
  {
   "cell_type": "markdown",
   "metadata": {},
   "source": [
    "<img align='left' width='500' height='300' src=\"picture/pagerank/9YMGkXdQHgmM508Y2zeV5mCP8fVtBsXHuLuxIfTif3I.original.fullsize.png\" />"
   ]
  },
  {
   "cell_type": "markdown",
   "metadata": {},
   "source": [
    "<img align='left' width='500' height='300'  src=\"picture/pagerank/6k62w_L3CH7hSqdGMB2vJdg0EEgJTEq7WT5iGSdiaBM.original.fullsize.png\" />"
   ]
  },
  {
   "cell_type": "markdown",
   "metadata": {},
   "source": [
    "这里e应该是个常数1，e/n是个常数，不然3 * 3 x 3 * 1 =3*1"
   ]
  },
  {
   "cell_type": "markdown",
   "metadata": {},
   "source": [
    "### Spider Traps 问题\n",
    "循环多次之后 自环的节点pr会归为1"
   ]
  },
  {
   "cell_type": "markdown",
   "metadata": {},
   "source": [
    "<img align='left' width='500' height='300' src=\"picture/pagerank/2QQL3Yu2vAkSFwJNsbtJMEF1AKiFj-MdPv_9dLf73Rw.original.fullsize.png\" />"
   ]
  },
  {
   "cell_type": "markdown",
   "metadata": {},
   "source": [
    "<img align='left' width='500' height='300' src=\"picture/pagerank/R9guo3rOvrcXuTftivP19XwcO0KFCFF9fYloz44Efx0.original.fullsize.png\" />"
   ]
  },
  {
   "cell_type": "markdown",
   "metadata": {},
   "source": [
    "### 解决方法Random Teleport"
   ]
  },
  {
   "cell_type": "markdown",
   "metadata": {},
   "source": [
    "<img align='left' width='500' height='300' src=\"picture/pagerank/C3uprLktcNcIwezE3w_ES_aQ-nKrj1iRvBeciC7QffU.original.fullsize.png\" />"
   ]
  },
  {
   "cell_type": "markdown",
   "metadata": {},
   "source": [
    "这个beta有点像epslion greedy 的感觉，一般设置为0.8～0.9之间"
   ]
  },
  {
   "cell_type": "markdown",
   "metadata": {
    "ExecuteTime": {
     "end_time": "2022-03-24T08:23:21.926235Z",
     "start_time": "2022-03-24T08:23:21.921743Z"
    }
   },
   "source": [
    "<img align='left' width='500' height='300' src=\"picture/pagerank/WVgCe_Y_MO5QTeC9SfvVu-4cuSfimUcS8de3Ct_R5jc.original.fullsize.png\" />"
   ]
  },
  {
   "cell_type": "markdown",
   "metadata": {},
   "source": [
    "<img align='left' width='500' height='300' src=\"picture/pagerank/VEii9USwVBJ6UFN4w2MvEBQV9y6Nb0ZR7Gmo7tQC150.original.fullsize.png\" />"
   ]
  },
  {
   "cell_type": "markdown",
   "metadata": {},
   "source": [
    "这里结尾的值加错了，不过无伤大雅"
   ]
  },
  {
   "cell_type": "code",
   "execution_count": 3,
   "metadata": {
    "ExecuteTime": {
     "end_time": "2022-03-24T08:30:13.408835Z",
     "start_time": "2022-03-24T08:30:12.926075Z"
    }
   },
   "outputs": [
    {
     "name": "stderr",
     "output_type": "stream",
     "text": [
      "/usr/local/lib/python3.6/importlib/_bootstrap.py:219: RuntimeWarning: numpy.ufunc size changed, may indicate binary incompatibility. Expected 192 from C header, got 216 from PyObject\n",
      "  return f(*args, **kwds)\n",
      "/usr/local/lib/python3.6/importlib/_bootstrap.py:219: RuntimeWarning: numpy.ufunc size changed, may indicate binary incompatibility. Expected 192 from C header, got 216 from PyObject\n",
      "  return f(*args, **kwds)\n"
     ]
    }
   ],
   "source": [
    "import networkx as nx\n",
    "import matplotlib.pyplot as plt\n",
    "import numpy as np"
   ]
  },
  {
   "cell_type": "code",
   "execution_count": 23,
   "metadata": {
    "ExecuteTime": {
     "end_time": "2022-03-24T08:39:19.418559Z",
     "start_time": "2022-03-24T08:39:19.414695Z"
    }
   },
   "outputs": [],
   "source": [
    "Graph  = nx.DiGraph()\n",
    "Graph.add_nodes_from(range(0,100))"
   ]
  },
  {
   "cell_type": "code",
   "execution_count": 24,
   "metadata": {
    "ExecuteTime": {
     "end_time": "2022-03-24T08:39:19.761299Z",
     "start_time": "2022-03-24T08:39:19.754995Z"
    }
   },
   "outputs": [],
   "source": [
    "for i in range(300):\n",
    "    j = np.random.randint(0,100)\n",
    "    k = np.random.randint(0,100)\n",
    "    Graph.add_edge(k,j)"
   ]
  },
  {
   "cell_type": "code",
   "execution_count": 25,
   "metadata": {
    "ExecuteTime": {
     "end_time": "2022-03-24T08:39:22.234275Z",
     "start_time": "2022-03-24T08:39:20.165139Z"
    }
   },
   "outputs": [
    {
     "data": {
      "image/png": "[encoded data removed]",
      "text/plain": [
       "<Figure size 432x288 with 1 Axes>"
      ]
     },
     "metadata": {},
     "output_type": "display_data"
    }
   ],
   "source": [
    "nx.draw(Graph,with_labels=True)"
   ]
  },
  {
   "cell_type": "code",
   "execution_count": 26,
   "metadata": {
    "ExecuteTime": {
     "end_time": "2022-03-24T08:39:29.418214Z",
     "start_time": "2022-03-24T08:39:29.404736Z"
    },
    "scrolled": true
   },
   "outputs": [
    {
     "data": {
      "text/plain": [
       "{0: 0.009978435284920635,\n",
       " 1: 0.010036455197619048,\n",
       " 2: 0.010035160951587303,\n",
       " 3: 0.009956786673809524,\n",
       " 4: 0.010010674007142856,\n",
       " 5: 0.010023413201587303,\n",
       " 6: 0.009957036673809525,\n",
       " 7: 0.0100324423484127,\n",
       " 8: 0.009969649590476191,\n",
       " 9: 0.010056500721428573,\n",
       " 10: 0.009965556396031746,\n",
       " 11: 0.010047354554761906,\n",
       " 12: 0.009921174939115646,\n",
       " 13: 0.009957120007142857,\n",
       " 14: 0.010089559868253968,\n",
       " 15: 0.009956899173809524,\n",
       " 16: 0.009993470673809523,\n",
       " 17: 0.01005154484047619,\n",
       " 18: 0.010007176435714287,\n",
       " 19: 0.010061576784920635,\n",
       " 20: 0.009931804888095239,\n",
       " 21: 0.009960193292857144,\n",
       " 22: 0.00994374003888889,\n",
       " 23: 0.010039904530952382,\n",
       " 24: 0.009973981673809525,\n",
       " 25: 0.009978001951587302,\n",
       " 26: 0.009981980562698414,\n",
       " 27: 0.010136147161337868,\n",
       " 28: 0.009990104451587302,\n",
       " 29: 0.009980167292857145,\n",
       " 30: 0.010201256983333334,\n",
       " 31: 0.009965817507142857,\n",
       " 32: 0.00994010834047619,\n",
       " 33: 0.009977920007142857,\n",
       " 34: 0.010054112716893424,\n",
       " 35: 0.009991147153401362,\n",
       " 36: 0.010002945840476191,\n",
       " 37: 0.00995444827244898,\n",
       " 38: 0.009961044605782312,\n",
       " 39: 0.01004080234047619,\n",
       " 40: 0.01018828747086168,\n",
       " 41: 0.009960452439115646,\n",
       " 42: 0.009980028007142856,\n",
       " 43: 0.009960105673809524,\n",
       " 44: 0.009921174939115646,\n",
       " 45: 0.01003537484047619,\n",
       " 46: 0.009954701673809524,\n",
       " 47: 0.00995955384047619,\n",
       " 48: 0.01014646411825397,\n",
       " 49: 0.010102284602380954,\n",
       " 50: 0.009981673221428572,\n",
       " 51: 0.01001031249920635,\n",
       " 52: 0.009964419007142858,\n",
       " 53: 0.00991954584047619,\n",
       " 54: 0.009968609919841269,\n",
       " 55: 0.010018427062698412,\n",
       " 56: 0.009956911673809524,\n",
       " 57: 0.009943861784920635,\n",
       " 58: 0.009931938221428571,\n",
       " 59: 0.010007195086507936,\n",
       " 60: 0.009973933261111113,\n",
       " 61: 0.009971753423809524,\n",
       " 62: 0.009957149173809524,\n",
       " 63: 0.010061991443650794,\n",
       " 64: 0.009954442716893424,\n",
       " 65: 0.010036324642063492,\n",
       " 66: 0.010199422705555555,\n",
       " 67: 0.009956958102380953,\n",
       " 68: 0.009960922340476191,\n",
       " 69: 0.009982038102380953,\n",
       " 70: 0.010031005840476191,\n",
       " 71: 0.009907001673809524,\n",
       " 72: 0.01007408500714286,\n",
       " 73: 0.010183305261111114,\n",
       " 74: 0.010110396784920636,\n",
       " 75: 0.009981606554761905,\n",
       " 76: 0.009990465562698413,\n",
       " 77: 0.009993967896031746,\n",
       " 78: 0.009999269058163266,\n",
       " 79: 0.010006894292857144,\n",
       " 80: 0.009973291396031746,\n",
       " 81: 0.009957018221428571,\n",
       " 82: 0.009974360118253967,\n",
       " 83: 0.010052651705555556,\n",
       " 84: 0.010047897411904762,\n",
       " 85: 0.009956821396031747,\n",
       " 86: 0.01002660234047619,\n",
       " 87: 0.009990409213492063,\n",
       " 88: 0.00998033634047619,\n",
       " 89: 0.010057265007142857,\n",
       " 90: 0.009956970007142858,\n",
       " 91: 0.01007235884047619,\n",
       " 92: 0.00994010834047619,\n",
       " 93: 0.009921174939115646,\n",
       " 94: 0.010046536673809524,\n",
       " 95: 0.009931894173809524,\n",
       " 96: 0.009921174939115646,\n",
       " 97: 0.009923631396031746,\n",
       " 98: 0.009990448896031746,\n",
       " 99: 0.009921174939115646}"
      ]
     },
     "execution_count": 26,
     "metadata": {},
     "output_type": "execute_result"
    }
   ],
   "source": [
    "pr = nx.pagerank(Graph,max_iter=100,alpha=0.01)\n",
    "pr"
   ]
  },
  {
   "cell_type": "code",
   "execution_count": 27,
   "metadata": {
    "ExecuteTime": {
     "end_time": "2022-03-24T08:39:36.042312Z",
     "start_time": "2022-03-24T08:39:36.033517Z"
    },
    "scrolled": true
   },
   "outputs": [
    {
     "data": {
      "text/plain": [
       "[(30, 0.010201256983333334),\n",
       " (66, 0.010199422705555555),\n",
       " (40, 0.01018828747086168),\n",
       " (73, 0.010183305261111114),\n",
       " (48, 0.01014646411825397),\n",
       " (27, 0.010136147161337868),\n",
       " (74, 0.010110396784920636),\n",
       " (49, 0.010102284602380954),\n",
       " (14, 0.010089559868253968),\n",
       " (72, 0.01007408500714286),\n",
       " (91, 0.01007235884047619),\n",
       " (63, 0.010061991443650794),\n",
       " (19, 0.010061576784920635),\n",
       " (89, 0.010057265007142857),\n",
       " (9, 0.010056500721428573),\n",
       " (34, 0.010054112716893424),\n",
       " (83, 0.010052651705555556),\n",
       " (17, 0.01005154484047619),\n",
       " (84, 0.010047897411904762),\n",
       " (11, 0.010047354554761906),\n",
       " (94, 0.010046536673809524),\n",
       " (39, 0.01004080234047619),\n",
       " (23, 0.010039904530952382),\n",
       " (1, 0.010036455197619048),\n",
       " (65, 0.010036324642063492),\n",
       " (45, 0.01003537484047619),\n",
       " (2, 0.010035160951587303),\n",
       " (7, 0.0100324423484127),\n",
       " (70, 0.010031005840476191),\n",
       " (86, 0.01002660234047619),\n",
       " (5, 0.010023413201587303),\n",
       " (55, 0.010018427062698412),\n",
       " (4, 0.010010674007142856),\n",
       " (51, 0.01001031249920635),\n",
       " (59, 0.010007195086507936),\n",
       " (18, 0.010007176435714287),\n",
       " (79, 0.010006894292857144),\n",
       " (36, 0.010002945840476191),\n",
       " (78, 0.009999269058163266),\n",
       " (77, 0.009993967896031746),\n",
       " (16, 0.009993470673809523),\n",
       " (35, 0.009991147153401362),\n",
       " (76, 0.009990465562698413),\n",
       " (98, 0.009990448896031746),\n",
       " (87, 0.009990409213492063),\n",
       " (28, 0.009990104451587302),\n",
       " (69, 0.009982038102380953),\n",
       " (26, 0.009981980562698414),\n",
       " (50, 0.009981673221428572),\n",
       " (75, 0.009981606554761905),\n",
       " (88, 0.00998033634047619),\n",
       " (29, 0.009980167292857145),\n",
       " (42, 0.009980028007142856),\n",
       " (0, 0.009978435284920635),\n",
       " (25, 0.009978001951587302),\n",
       " (33, 0.009977920007142857),\n",
       " (82, 0.009974360118253967),\n",
       " (24, 0.009973981673809525),\n",
       " (60, 0.009973933261111113),\n",
       " (80, 0.009973291396031746),\n",
       " (61, 0.009971753423809524),\n",
       " (8, 0.009969649590476191),\n",
       " (54, 0.009968609919841269),\n",
       " (31, 0.009965817507142857),\n",
       " (10, 0.009965556396031746),\n",
       " (52, 0.009964419007142858),\n",
       " (38, 0.009961044605782312),\n",
       " (68, 0.009960922340476191),\n",
       " (41, 0.009960452439115646),\n",
       " (21, 0.009960193292857144),\n",
       " (43, 0.009960105673809524),\n",
       " (47, 0.00995955384047619),\n",
       " (62, 0.009957149173809524),\n",
       " (13, 0.009957120007142857),\n",
       " (6, 0.009957036673809525),\n",
       " (81, 0.009957018221428571),\n",
       " (90, 0.009956970007142858),\n",
       " (67, 0.009956958102380953),\n",
       " (56, 0.009956911673809524),\n",
       " (15, 0.009956899173809524),\n",
       " (85, 0.009956821396031747),\n",
       " (3, 0.009956786673809524),\n",
       " (46, 0.009954701673809524),\n",
       " (37, 0.00995444827244898),\n",
       " (64, 0.009954442716893424),\n",
       " (57, 0.009943861784920635),\n",
       " (22, 0.00994374003888889),\n",
       " (32, 0.00994010834047619),\n",
       " (92, 0.00994010834047619),\n",
       " (58, 0.009931938221428571),\n",
       " (95, 0.009931894173809524),\n",
       " (20, 0.009931804888095239),\n",
       " (97, 0.009923631396031746),\n",
       " (12, 0.009921174939115646),\n",
       " (44, 0.009921174939115646),\n",
       " (93, 0.009921174939115646),\n",
       " (96, 0.009921174939115646),\n",
       " (99, 0.009921174939115646),\n",
       " (53, 0.00991954584047619),\n",
       " (71, 0.009907001673809524)]"
      ]
     },
     "execution_count": 27,
     "metadata": {},
     "output_type": "execute_result"
    }
   ],
   "source": [
    "sorted(pr.items(),key=lambda x:x[1],reverse=True)"
   ]
  },
  {
   "cell_type": "markdown",
   "metadata": {},
   "source": [
    "### 总结\n",
    "- 转移矩阵对角为1 spider traps问题\n",
    "- 转移矩阵 列和为0 dead ends问题\n",
    "- 仅仅用beta解决不了 dead ends 问题，因为不满足列和为1\n",
    "\n",
    "<img align='left' width='500' height='300' src=\"picture/pagerank/PI9bmRq3-Z3njauWl9FxfFw_hZdVDrlFUVMP1VU3DnM.original.fullsize.png\" />\n",
    "\n",
    "\n"
   ]
  },
  {
   "cell_type": "markdown",
   "metadata": {},
   "source": [
    "优点：\n",
    "- 通过网页间链接决定网页重要性，一定程度消除了人为对排序结果的影响\n",
    "- 离线计算好pr值，并非查找时计算，提升了效率\n",
    "\n",
    "缺点：\n",
    "- 存在时间旧的网站，pr值会越来越大，而新生网站pr增长慢\n",
    "- 非查询相关的特性，查询结果会偏离搜索内容\n",
    "- 通过僵尸网站或链接，人为刷pr值"
   ]
  },
  {
   "cell_type": "markdown",
   "metadata": {},
   "source": [
    "中间蓝色为僵尸网站，右边为正常网站，在正常网站上给僵尸网站打广告，链接写在评论区之类的，一堆僵尸网站又链接到目标网站，从而提升目标网站pr\n",
    "<img align='left' width='500' height='300' src=\"picture/pagerank/DCLGzXiihEmKYpbe8F3R2Z4bQlCZcLSq6am0UNkymPk.original.fullsize.png\" />"
   ]
  },
  {
   "cell_type": "markdown",
   "metadata": {},
   "source": [
    "## 幂法"
   ]
  },
  {
   "cell_type": "markdown",
   "metadata": {},
   "source": [
    "---\n",
    "PageRank的计算方法包括迭代算法、幂法、代数算法。\n",
    "\n",
    "在实际应用中许多数据都以图(graph)的形式存在，比如，互联网、社交网络都可以看作是一个图。图数据上的机器学习具有理论与应用上的重要意义。pageRank算法是图的链接分析 (link analysis)的代表性算法，属于图数据上的无监督学习方法。  \n",
    "\n",
    "pageRank算法最初作为互联网网页重要度的计算方法，1996年由page和Brin提出，并用于谷歌搜索引擎的网页排序。事实上，pageRank可以定义在任意有向图上，后来被应用到社会影响力分析、文本摘要等多个问题。  \n",
    "\n",
    "pageRank算法的基本想法是在有向图上定义一个随机游走模型，即一阶马尔可夫链，描述随机游走者沿着有向图随机访问各个结点的行为。在一定条件下，极限情况访问每个结点的概率收敛到平稳分布， 这时各个结点的平稳概率值就是其 pageRank值，表示结点的重要度。 pageRank是递归定义的，pageRank的计算可以通过迭代算法进行。"
   ]
  },
  {
   "cell_type": "code",
   "execution_count": 28,
   "metadata": {
    "ExecuteTime": {
     "end_time": "2022-03-25T11:59:29.134047Z",
     "start_time": "2022-03-25T11:59:29.118515Z"
    }
   },
   "outputs": [],
   "source": [
    "#https://gist.github.com/diogojc/1338222/84d767a68da711a154778fb1d00e772d65322187\n",
    "\n",
    "import numpy as np\n",
    "from scipy.sparse import csc_matrix\n",
    "\n",
    "\n",
    "def pageRank(G, s=.85, maxerr=.0001):\n",
    "    \"\"\"\n",
    "    Computes the pagerank for each of the n states\n",
    "    Parameters\n",
    "    ----------\n",
    "    G: matrix representing state transitions\n",
    "       Gij is a binary value representing a transition from state i to j.\n",
    "    s: probability of following a transition. 1-s probability of teleporting\n",
    "       to another state.\n",
    "    maxerr: if the sum of pageranks between iterations is bellow this we will\n",
    "            have converged.\n",
    "    \"\"\"\n",
    "    n = G.shape[0]\n",
    "\n",
    "    # transform G into markov matrix A\n",
    "    A = csc_matrix(G, dtype=np.float)\n",
    "    rsums = np.array(A.sum(1))[:, 0]\n",
    "    ri, ci = A.nonzero()\n",
    "    A.data /= rsums[ri]\n",
    "\n",
    "    # bool array of sink states\n",
    "    sink = rsums == 0\n",
    "\n",
    "    # Compute pagerank r until we converge\n",
    "    ro, r = np.zeros(n), np.ones(n)\n",
    "    while np.sum(np.abs(r - ro)) > maxerr:\n",
    "        ro = r.copy()\n",
    "        # calculate each pagerank at a time\n",
    "        for i in range(0, n):\n",
    "            # inlinks of state i\n",
    "            Ai = np.array(A[:, i].todense())[:, 0]\n",
    "            # account for sink states\n",
    "            Di = sink / float(n)\n",
    "            # account for teleportation to state i\n",
    "            Ei = np.ones(n) / float(n)\n",
    "\n",
    "            r[i] = ro.dot(Ai * s + Di * s + Ei * (1 - s))\n",
    "\n",
    "    # return normalized pagerank\n",
    "    return r / float(sum(r))"
   ]
  },
  {
   "cell_type": "code",
   "execution_count": 29,
   "metadata": {
    "ExecuteTime": {
     "end_time": "2022-03-25T11:59:30.945251Z",
     "start_time": "2022-03-25T11:59:30.358499Z"
    }
   },
   "outputs": [
    {
     "name": "stdout",
     "output_type": "stream",
     "text": [
      "[0.12727557 0.03616954 0.12221594 0.22608452 0.28934412 0.03616954\n",
      " 0.16274076]\n"
     ]
    }
   ],
   "source": [
    "# Example extracted from 'Introduction to Information Retrieval'\n",
    "G = np.array([[0,0,1,0,0,0,0],\n",
    "              [0,1,1,0,0,0,0],\n",
    "              [1,0,1,1,0,0,0],\n",
    "              [0,0,0,1,1,0,0],\n",
    "              [0,0,0,0,0,0,1],\n",
    "              [0,0,0,0,0,1,1],\n",
    "              [0,0,0,1,1,0,1]])\n",
    "print(pageRank(G,s=.86))"
   ]
  },
  {
   "cell_type": "code",
   "execution_count": 31,
   "metadata": {
    "ExecuteTime": {
     "end_time": "2022-03-25T12:05:26.622505Z",
     "start_time": "2022-03-25T12:05:26.613593Z"
    }
   },
   "outputs": [
    {
     "name": "stdout",
     "output_type": "stream",
     "text": [
      "  (0, 2)\t1.0\n",
      "  (0, 1)\t1.0\n",
      "  (0, 2)\t1.0\n",
      "  (0, 0)\t1.0\n",
      "  (0, 2)\t1.0\n",
      "  (0, 3)\t1.0\n",
      "  (0, 3)\t1.0\n",
      "  (0, 4)\t1.0\n",
      "  (0, 6)\t1.0\n",
      "  (0, 5)\t1.0\n",
      "  (0, 6)\t1.0\n",
      "  (0, 3)\t1.0\n",
      "  (0, 4)\t1.0\n",
      "  (0, 6)\t1.0\n"
     ]
    }
   ],
   "source": [
    "for i in csc_matrix(G, dtype=np.float):\n",
    "    print(i)"
   ]
  },
  {
   "cell_type": "code",
   "execution_count": 32,
   "metadata": {
    "ExecuteTime": {
     "end_time": "2022-03-25T12:07:01.436950Z",
     "start_time": "2022-03-25T12:07:01.429122Z"
    }
   },
   "outputs": [
    {
     "data": {
      "text/plain": [
       "matrix([[1.],\n",
       "        [2.],\n",
       "        [3.],\n",
       "        [2.],\n",
       "        [1.],\n",
       "        [2.],\n",
       "        [3.]])"
      ]
     },
     "execution_count": 32,
     "metadata": {},
     "output_type": "execute_result"
    }
   ],
   "source": [
    "csc_matrix(G, dtype=np.float).sum(1)"
   ]
  },
  {
   "cell_type": "code",
   "execution_count": 41,
   "metadata": {
    "ExecuteTime": {
     "end_time": "2022-03-25T12:10:31.147612Z",
     "start_time": "2022-03-25T12:10:31.139644Z"
    }
   },
   "outputs": [
    {
     "data": {
      "text/plain": [
       "array([1., 2., 3., 2., 1., 2., 3.])"
      ]
     },
     "execution_count": 41,
     "metadata": {},
     "output_type": "execute_result"
    }
   ],
   "source": [
    "np.array(csc_matrix(G, dtype=np.float).sum(1))[:,0]"
   ]
  },
  {
   "cell_type": "code",
   "execution_count": 46,
   "metadata": {
    "ExecuteTime": {
     "end_time": "2022-03-25T12:11:24.528681Z",
     "start_time": "2022-03-25T12:11:24.520802Z"
    }
   },
   "outputs": [
    {
     "data": {
      "text/plain": [
       "(array([0, 1, 1, 2, 2, 2, 3, 3, 4, 5, 5, 6, 6, 6], dtype=int32),\n",
       " array([2, 1, 2, 0, 2, 3, 3, 4, 6, 5, 6, 3, 4, 6], dtype=int32))"
      ]
     },
     "execution_count": 46,
     "metadata": {},
     "output_type": "execute_result"
    }
   ],
   "source": [
    "csc_matrix(G, dtype=np.float).nonzero()"
   ]
  },
  {
   "cell_type": "markdown",
   "metadata": {},
   "source": [
    "## 迭代法"
   ]
  },
  {
   "cell_type": "code",
   "execution_count": 45,
   "metadata": {
    "ExecuteTime": {
     "end_time": "2022-03-26T08:12:56.294701Z",
     "start_time": "2022-03-26T08:12:56.280133Z"
    }
   },
   "outputs": [
    {
     "name": "stdout",
     "output_type": "stream",
     "text": [
      "第1次迭代\n",
      "第2次迭代\n",
      "第3次迭代\n",
      "第4次迭代\n",
      "第5次迭代\n",
      "第6次迭代\n",
      "第7次迭代\n",
      "第8次迭代\n",
      "第9次迭代\n",
      "第10次迭代\n",
      "第11次迭代\n",
      "第12次迭代\n",
      "第13次迭代\n",
      "第14次迭代\n",
      "第15次迭代\n",
      "第16次迭代\n",
      "第17次迭代\n",
      "第18次迭代\n",
      "第19次迭代\n",
      "第20次迭代\n",
      "第21次迭代\n",
      "第22次迭代\n",
      "第23次迭代\n",
      "第24次迭代\n",
      "第25次迭代\n",
      "第26次迭代\n",
      "第27次迭代\n",
      "第28次迭代\n",
      "第29次迭代\n",
      "第30次迭代\n",
      "第31次迭代\n",
      "第32次迭代\n",
      "第33次迭代\n",
      "第34次迭代\n",
      "第35次迭代\n",
      "第36次迭代\n",
      "第37次迭代\n",
      "第38次迭代\n",
      "第39次迭代\n",
      "第40次迭代\n",
      "第41次迭代\n",
      "第42次迭代\n",
      "第43次迭代\n",
      "第44次迭代\n",
      "第45次迭代\n",
      "第46次迭代\n",
      "第47次迭代\n",
      "第48次迭代\n",
      "第49次迭代\n",
      "第50次迭代\n",
      "第51次迭代\n",
      "第52次迭代\n",
      "第53次迭代\n",
      "第54次迭代\n",
      "第55次迭代\n",
      "第56次迭代\n",
      "第57次迭代\n",
      "第58次迭代\n",
      "第59次迭代\n",
      "第60次迭代\n",
      "第61次迭代\n",
      "第62次迭代\n",
      "第63次迭代\n",
      "第64次迭代\n",
      "第65次迭代\n",
      "第66次迭代\n",
      "第67次迭代\n",
      "第68次迭代\n",
      "第69次迭代\n",
      "第70次迭代\n",
      "第71次迭代\n",
      "第72次迭代\n",
      "第73次迭代\n",
      "第74次迭代\n",
      "第75次迭代\n",
      "第76次迭代\n",
      "第77次迭代\n",
      "第78次迭代\n",
      "第79次迭代\n",
      "第80次迭代\n",
      "第81次迭代\n",
      "第82次迭代\n",
      "第83次迭代\n",
      "第84次迭代\n",
      "第85次迭代\n",
      "第86次迭代\n",
      "第87次迭代\n",
      "第88次迭代\n",
      "第89次迭代\n",
      "第90次迭代\n",
      "第91次迭代\n",
      "第92次迭代\n",
      "第93次迭代\n",
      "第94次迭代\n",
      "第95次迭代\n",
      "第96次迭代\n",
      "第97次迭代\n",
      "第98次迭代\n",
      "第99次迭代\n",
      "第100次迭代\n",
      "[[0.47534884]\n",
      " [0.15906977]\n",
      " [0.15906977]\n",
      " [0.20651163]]\n"
     ]
    }
   ],
   "source": [
    "import numpy as np\n",
    "p = 0.85    #引入浏览当前网页的概率为p,假设p=0.85\n",
    " \n",
    "a = np.array([[1,0,0,0],\n",
    "              [0,0,0,0],\n",
    "              [0,0,0,1],\n",
    "              [0,0.5,0.5,0]],dtype = float)  #dtype指定为float\n",
    "length=a.shape[1]  #网页数量\n",
    "#构造转移矩阵\n",
    "b = np.transpose(a)  #b为a的转置矩阵\n",
    "m = np.zeros((a.shape),dtype = float)\n",
    "for j in range(b.shape[1]):\n",
    "    #如果一个节点没有任何出链，Dead Ends\n",
    "    if b[:,j].sum()==0:\n",
    "        b[:,j]=b[:,j]+np.array([1/length]*length)    #完成初始化分配\n",
    "m = b\n",
    "\n",
    "v = np.zeros((m.shape[0],1),dtype = float)  #构造一个存放pr值得矩阵\n",
    "v = v + float(1)/m.shape[0]   #pr值初始化\n",
    "\n",
    "count=0\n",
    "ee=np.array([[1/length]*length]).reshape(length,-1)\n",
    "# 循环100次计算pageRank值\n",
    "for i in range(100):\n",
    "    #  解决spider traps问题，spider traps会导致网站权重向一个节点偏移，将转移矩阵加上打开其他网页的概率1-p\n",
    "    v = p*np.dot(m,v) + (1-p)*ee   # 广播\n",
    "    count+=1\n",
    "    print(\"第{}次迭代\".format(count))\n",
    "    \n",
    "print(v)"
   ]
  },
  {
   "cell_type": "code",
   "execution_count": 36,
   "metadata": {
    "ExecuteTime": {
     "end_time": "2022-03-26T07:55:04.829240Z",
     "start_time": "2022-03-26T07:55:04.823245Z"
    }
   },
   "outputs": [
    {
     "data": {
      "text/plain": [
       "array([[0.25],\n",
       "       [0.25],\n",
       "       [0.25],\n",
       "       [0.25]])"
      ]
     },
     "execution_count": 36,
     "metadata": {},
     "output_type": "execute_result"
    }
   ],
   "source": [
    "ee"
   ]
  },
  {
   "cell_type": "code",
   "execution_count": 37,
   "metadata": {
    "ExecuteTime": {
     "end_time": "2022-03-26T07:55:23.674229Z",
     "start_time": "2022-03-26T07:55:23.669438Z"
    }
   },
   "outputs": [
    {
     "data": {
      "text/plain": [
       "array([[1.  , 0.25, 0.  , 0.  ],\n",
       "       [0.  , 0.25, 0.  , 0.5 ],\n",
       "       [0.  , 0.25, 0.  , 0.5 ],\n",
       "       [0.  , 0.25, 1.  , 0.  ]])"
      ]
     },
     "execution_count": 37,
     "metadata": {},
     "output_type": "execute_result"
    }
   ],
   "source": [
    "m"
   ]
  },
  {
   "cell_type": "code",
   "execution_count": 40,
   "metadata": {
    "ExecuteTime": {
     "end_time": "2022-03-26T08:09:03.997085Z",
     "start_time": "2022-03-26T08:09:03.989640Z"
    }
   },
   "outputs": [
    {
     "name": "stdout",
     "output_type": "stream",
     "text": [
      "a [[1.  0.  0.  0. ]\n",
      " [0.  0.  0.  0. ]\n",
      " [0.  0.  0.  1. ]\n",
      " [0.  0.5 0.5 0. ]]\n",
      "length 4\n",
      "b [[1.  0.  0.  0. ]\n",
      " [0.  0.  0.  0.5]\n",
      " [0.  0.  0.  0.5]\n",
      " [0.  0.  1.  0. ]]\n",
      "m [[0. 0. 0. 0.]\n",
      " [0. 0. 0. 0.]\n",
      " [0. 0. 0. 0.]\n",
      " [0. 0. 0. 0.]]\n"
     ]
    }
   ],
   "source": [
    "import numpy as np\n",
    "p = 0.85    #引入浏览当前网页的概率为p,假设p=0.8\n",
    " \n",
    "a = np.array([[1,0,0,0],\n",
    "              [0,0,0,0],\n",
    "              [0,0,0,1],\n",
    "              [0,0.5,0.5,0]],dtype = float)  #dtype指定为float\n",
    "length=a.shape[1]  #网页数量\n",
    "#构造转移矩阵\n",
    "b = np.transpose(a)  #b为a的转置矩阵\n",
    "m = np.zeros((a.shape),dtype = float)\n",
    "\n",
    "print('a',a)\n",
    "print('length',length)\n",
    "print('b',b)\n",
    "print('m',m)"
   ]
  },
  {
   "cell_type": "code",
   "execution_count": 41,
   "metadata": {
    "ExecuteTime": {
     "end_time": "2022-03-26T08:09:18.396963Z",
     "start_time": "2022-03-26T08:09:18.390961Z"
    }
   },
   "outputs": [
    {
     "data": {
      "text/plain": [
       "array([[1. , 0. , 0. , 0. ],\n",
       "       [0. , 0. , 0. , 0. ],\n",
       "       [0. , 0. , 1. , 0. ],\n",
       "       [0. , 0. , 0. , 0.5]])"
      ]
     },
     "execution_count": 41,
     "metadata": {},
     "output_type": "execute_result"
    }
   ],
   "source": [
    "np.dot(a,b)"
   ]
  },
  {
   "cell_type": "code",
   "execution_count": 43,
   "metadata": {
    "ExecuteTime": {
     "end_time": "2022-03-26T08:11:20.238073Z",
     "start_time": "2022-03-26T08:11:20.233117Z"
    }
   },
   "outputs": [
    {
     "data": {
      "text/plain": [
       "array([[0.33333333],\n",
       "       [0.33333333],\n",
       "       [0.33333333],\n",
       "       [0.33333333]])"
      ]
     },
     "execution_count": 43,
     "metadata": {},
     "output_type": "execute_result"
    }
   ],
   "source": [
    "v = np.zeros((4,1))+1/3\n",
    "v"
   ]
  },
  {
   "cell_type": "code",
   "execution_count": 44,
   "metadata": {
    "ExecuteTime": {
     "end_time": "2022-03-26T08:11:34.479072Z",
     "start_time": "2022-03-26T08:11:34.473273Z"
    }
   },
   "outputs": [
    {
     "data": {
      "text/plain": [
       "array([[0.33333333],\n",
       "       [0.        ],\n",
       "       [0.33333333],\n",
       "       [0.33333333]])"
      ]
     },
     "execution_count": 44,
     "metadata": {},
     "output_type": "execute_result"
    }
   ],
   "source": [
    "np.dot(a,v)"
   ]
  },
  {
   "cell_type": "code",
   "execution_count": null,
   "metadata": {},
   "outputs": [],
   "source": []
  }
 ],
 "metadata": {
  "kernelspec": {
   "display_name": "Python 3",
   "language": "python",
   "name": "python3"
  },
  "language_info": {
   "codemirror_mode": {
    "name": "ipython",
    "version": 3
   },
   "file_extension": ".py",
   "mimetype": "text/x-python",
   "name": "python",
   "nbconvert_exporter": "python",
   "pygments_lexer": "ipython3",
   "version": "3.6.10"
  }
 },
 "nbformat": 4,
 "nbformat_minor": 4
}
