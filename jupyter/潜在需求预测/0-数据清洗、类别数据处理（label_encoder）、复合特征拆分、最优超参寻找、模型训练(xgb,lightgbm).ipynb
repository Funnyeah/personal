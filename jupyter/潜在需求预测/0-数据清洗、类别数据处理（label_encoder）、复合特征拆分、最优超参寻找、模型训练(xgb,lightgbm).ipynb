{
 "cells": [
  {
   "cell_type": "markdown",
   "metadata": {},
   "source": [
    "- 相关原始数据已无，jg_sg_df3.csv数据为特征工程好的数据\n",
    "- 数据清洗处理方式可直接看5中操作，模型预测/超参调整看下方\n",
    "- xgb：https://blog.csdn.net/qq_36535820/article/details/120507280\n",
    "- lightgbm: https://blog.csdn.net/zhong_ddbb/article/details/106244036\n",
    "- https://blog.csdn.net/weixin_39807102/article/details/81912566?spm=1001.2101.3001.6650.4&utm_medium=distribute.pc_relevant.none-task-blog-2%7Edefault%7ECTRLIST%7Edefault-4-81912566-blog-106244036.pc_relevant_multi_platform_whitelistv1&depth_1-utm_source=distribute.pc_relevant.none-task-blog-2%7Edefault%7ECTRLIST%7Edefault-4-81912566-blog-106244036.pc_relevant_multi_platform_whitelistv1&utm_relevant_index=6\n",
    "- https://blog.csdn.net/huacha__/article/details/81057150?spm=1001.2101.3001.6650.3&utm_medium=distribute.pc_relevant.none-task-blog-2%7Edefault%7ECTRLIST%7Edefault-3-81057150-blog-81912566.pc_relevant_multi_platform_whitelistv1&depth_1-utm_source=distribute.pc_relevant.none-task-blog-2%7Edefault%7ECTRLIST%7Edefault-3-81057150-blog-81912566.pc_relevant_multi_platform_whitelistv1&utm_relevant_index=6\n",
    "- https://mp.weixin.qq.com/s/XxFHmxV4_iDq8ksFuZM02w"
   ]
  },
  {
   "cell_type": "code",
   "execution_count": 1,
   "metadata": {
    "ExecuteTime": {
     "end_time": "2022-07-19T09:15:05.530705Z",
     "start_time": "2022-07-19T09:15:04.354419Z"
    }
   },
   "outputs": [],
   "source": [
    "import sys\n",
    "sys.path.append('/data/apps/modules/jupyter')\n",
    "import warnings\n",
    "warnings.filterwarnings(\"ignore\")\n",
    "import math\n",
    "import time\n",
    "import feather\n",
    "import datetime\n",
    "import numpy as np\n",
    "import pandas as pd\n",
    "pd.set_option('display.max_columns', 100)\n",
    "pd.set_option('display.max_rows', 100)\n",
    "import matplotlib.pyplot as plt\n",
    "\n",
    "import xgboost as xgb\n",
    "from xgboost import plot_importance\n",
    "from matplotlib import pyplot as plt\n",
    "from sklearn.model_selection import train_test_split\n",
    "from sklearn.metrics import mean_squared_error\n",
    "from sklearn.metrics import r2_score\n",
    "\n",
    "from helper.spark_helper import *\n",
    "from helper.presto_helper import query_presto\n",
    "from helper.csv_helper import *\n",
    "from helper.pandas_helper import *\n",
    "from helper.presto_helper import query_hive_wy"
   ]
  },
  {
   "cell_type": "markdown",
   "metadata": {},
   "source": [
    "# 用户单量统计-偏好划分"
   ]
  },
  {
   "cell_type": "code",
   "execution_count": 2,
   "metadata": {
    "ExecuteTime": {
     "end_time": "2022-07-19T09:16:19.676206Z",
     "start_time": "2022-07-19T09:15:17.526076Z"
    }
   },
   "outputs": [],
   "source": [
    "def get_user_detail_df(city_id,start_date,end_date):\n",
    "\n",
    "    d_df=get_df_from_csv_table(query_presto(f'''\n",
    "        select user_id,bike_sn,order_id,city_id,event_day\n",
    "        from dwd.dwd_bd_order_detail_da\n",
    "        where city_id={city_id} and event_day between '{start_date}' and '{end_date}'\n",
    "    '''))\n",
    "    \n",
    "    return d_df\n",
    "\n",
    "\n",
    "city_id=196\n",
    "start_date='20210207'\n",
    "end_date='20210407'\n",
    "\n",
    "#用户60天内单量统计\n",
    "user_detail_df=get_user_detail_df(city_id,start_date,end_date)\n",
    "user_statistics_df=user_detail_df.groupby('user_id').bike_sn.count().reset_index()"
   ]
  },
  {
   "cell_type": "code",
   "execution_count": 3,
   "metadata": {
    "ExecuteTime": {
     "end_time": "2022-07-19T09:16:19.698485Z",
     "start_time": "2022-07-19T09:16:19.679446Z"
    }
   },
   "outputs": [
    {
     "data": {
      "text/html": [
       "<div>\n",
       "<style scoped>\n",
       "    .dataframe tbody tr th:only-of-type {\n",
       "        vertical-align: middle;\n",
       "    }\n",
       "\n",
       "    .dataframe tbody tr th {\n",
       "        vertical-align: top;\n",
       "    }\n",
       "\n",
       "    .dataframe thead th {\n",
       "        text-align: right;\n",
       "    }\n",
       "</style>\n",
       "<table border=\"1\" class=\"dataframe\">\n",
       "  <thead>\n",
       "    <tr style=\"text-align: right;\">\n",
       "      <th></th>\n",
       "      <th>user_id</th>\n",
       "      <th>bike_sn</th>\n",
       "      <th>order_id</th>\n",
       "      <th>city_id</th>\n",
       "      <th>event_day</th>\n",
       "    </tr>\n",
       "  </thead>\n",
       "  <tbody>\n",
       "    <tr>\n",
       "      <th>0</th>\n",
       "      <td>6863630</td>\n",
       "      <td>802213676</td>\n",
       "      <td>2104053503888711745</td>\n",
       "      <td>196</td>\n",
       "      <td>20210405</td>\n",
       "    </tr>\n",
       "    <tr>\n",
       "      <th>1</th>\n",
       "      <td>8213994</td>\n",
       "      <td>812211252</td>\n",
       "      <td>2104053586633941010</td>\n",
       "      <td>196</td>\n",
       "      <td>20210405</td>\n",
       "    </tr>\n",
       "    <tr>\n",
       "      <th>2</th>\n",
       "      <td>47327905</td>\n",
       "      <td>802214945</td>\n",
       "      <td>2104050275214155800</td>\n",
       "      <td>196</td>\n",
       "      <td>20210405</td>\n",
       "    </tr>\n",
       "    <tr>\n",
       "      <th>3</th>\n",
       "      <td>6857139</td>\n",
       "      <td>802214520</td>\n",
       "      <td>2104052243382919213</td>\n",
       "      <td>196</td>\n",
       "      <td>20210405</td>\n",
       "    </tr>\n",
       "    <tr>\n",
       "      <th>4</th>\n",
       "      <td>6665877</td>\n",
       "      <td>802212064</td>\n",
       "      <td>2104052807701356624</td>\n",
       "      <td>196</td>\n",
       "      <td>20210405</td>\n",
       "    </tr>\n",
       "  </tbody>\n",
       "</table>\n",
       "</div>"
      ],
      "text/plain": [
       "    user_id    bike_sn             order_id  city_id event_day\n",
       "0   6863630  802213676  2104053503888711745      196  20210405\n",
       "1   8213994  812211252  2104053586633941010      196  20210405\n",
       "2  47327905  802214945  2104050275214155800      196  20210405\n",
       "3   6857139  802214520  2104052243382919213      196  20210405\n",
       "4   6665877  802212064  2104052807701356624      196  20210405"
      ]
     },
     "execution_count": 3,
     "metadata": {},
     "output_type": "execute_result"
    }
   ],
   "source": [
    "user_detail_df.head()"
   ]
  },
  {
   "cell_type": "code",
   "execution_count": 4,
   "metadata": {
    "ExecuteTime": {
     "end_time": "2022-07-19T09:16:19.707736Z",
     "start_time": "2022-07-19T09:16:19.700677Z"
    }
   },
   "outputs": [
    {
     "data": {
      "text/html": [
       "<div>\n",
       "<style scoped>\n",
       "    .dataframe tbody tr th:only-of-type {\n",
       "        vertical-align: middle;\n",
       "    }\n",
       "\n",
       "    .dataframe tbody tr th {\n",
       "        vertical-align: top;\n",
       "    }\n",
       "\n",
       "    .dataframe thead th {\n",
       "        text-align: right;\n",
       "    }\n",
       "</style>\n",
       "<table border=\"1\" class=\"dataframe\">\n",
       "  <thead>\n",
       "    <tr style=\"text-align: right;\">\n",
       "      <th></th>\n",
       "      <th>user_id</th>\n",
       "      <th>bike_sn</th>\n",
       "    </tr>\n",
       "  </thead>\n",
       "  <tbody>\n",
       "    <tr>\n",
       "      <th>0</th>\n",
       "      <td>1734281</td>\n",
       "      <td>1</td>\n",
       "    </tr>\n",
       "    <tr>\n",
       "      <th>1</th>\n",
       "      <td>1758254</td>\n",
       "      <td>7</td>\n",
       "    </tr>\n",
       "    <tr>\n",
       "      <th>2</th>\n",
       "      <td>1888917</td>\n",
       "      <td>3</td>\n",
       "    </tr>\n",
       "    <tr>\n",
       "      <th>3</th>\n",
       "      <td>2039255</td>\n",
       "      <td>4</td>\n",
       "    </tr>\n",
       "    <tr>\n",
       "      <th>4</th>\n",
       "      <td>2044893</td>\n",
       "      <td>9</td>\n",
       "    </tr>\n",
       "  </tbody>\n",
       "</table>\n",
       "</div>"
      ],
      "text/plain": [
       "   user_id  bike_sn\n",
       "0  1734281        1\n",
       "1  1758254        7\n",
       "2  1888917        3\n",
       "3  2039255        4\n",
       "4  2044893        9"
      ]
     },
     "execution_count": 4,
     "metadata": {},
     "output_type": "execute_result"
    }
   ],
   "source": [
    "user_statistics_df.head()"
   ]
  },
  {
   "cell_type": "code",
   "execution_count": 5,
   "metadata": {
    "ExecuteTime": {
     "end_time": "2022-07-19T09:19:17.769575Z",
     "start_time": "2022-07-19T09:19:15.574034Z"
    }
   },
   "outputs": [],
   "source": [
    "user_detail_df.to_csv('user_detail_df.csv')"
   ]
  },
  {
   "cell_type": "code",
   "execution_count": 6,
   "metadata": {
    "ExecuteTime": {
     "end_time": "2022-07-19T09:19:25.485744Z",
     "start_time": "2022-07-19T09:19:25.368497Z"
    }
   },
   "outputs": [],
   "source": [
    "user_statistics_df.to_csv('user_statistics_df.csv')"
   ]
  },
  {
   "cell_type": "markdown",
   "metadata": {},
   "source": [
    "# 用户基础特征获取-性别、年龄、手机品牌、操作系统"
   ]
  },
  {
   "cell_type": "code",
   "execution_count": 10,
   "metadata": {
    "ExecuteTime": {
     "end_time": "2022-07-19T09:26:40.120508Z",
     "start_time": "2022-07-19T09:25:55.659846Z"
    }
   },
   "outputs": [],
   "source": [
    "def get_user_picture_df(city_id_str,event_day):\n",
    "    user_picture = get_df_from_csv_table(query_presto(f'''\n",
    "        select a.user_id, a.city_id, a.gender,a.mobile,a.first_order_time,a.birthday, b.model, b.brand, b.sys_ver\n",
    "        from\n",
    "        (select user_id, city_id,birthday, gender, mobile,first_order_time\n",
    "        from dim.dim_user_info_df\n",
    "        where city_id in ({city_id_str})\n",
    "        and gender!=0\n",
    "        and birthday is not null\n",
    "        and event_day='{event_day}') a left join\n",
    "        (select user_id, model , brand, sys_ver\n",
    "        from dwd.dwd_nf_nf_user_action_da\n",
    "        where event_day='{event_day}') b on a.user_id=b.user_id\n",
    "    '''))\n",
    "\n",
    "    return user_picture\n",
    "\n",
    "city_id_str=str(city_id)\n",
    "event_day='20210407'\n",
    "user_picture_df=get_user_picture_df(city_id_str,event_day)\n",
    "user_picture_df.to_csv('user_picture_df.csv')"
   ]
  },
  {
   "cell_type": "code",
   "execution_count": 25,
   "metadata": {
    "ExecuteTime": {
     "end_time": "2022-07-19T09:33:59.405307Z",
     "start_time": "2022-07-19T09:33:57.496818Z"
    }
   },
   "outputs": [],
   "source": [
    "def get_register_span(x):\n",
    "    \"\"\"\n",
    "    用户注册时间跨度\n",
    "    \"\"\"\n",
    "    time_list=x['first_order_time'][:10].split('-')\n",
    "    time_span=datetime.date(2021,4,7)-\\\n",
    "                datetime.date(int(time_list[0]),int(time_list[1]),int(time_list[2]))\n",
    "    time_span=time_span.days+1\n",
    "    return time_span\n",
    "\n",
    "user_picture_df['age'] = user_picture_df['birthday'].map(lambda x: int(time.strftime(\"%Y\",time.localtime(time.time())))-int(x[:4])+1)\n",
    "user_picture_df['register_span']=user_picture_df.apply(get_register_span,axis=1)"
   ]
  },
  {
   "cell_type": "code",
   "execution_count": 26,
   "metadata": {
    "ExecuteTime": {
     "end_time": "2022-07-19T09:34:11.781615Z",
     "start_time": "2022-07-19T09:34:11.774721Z"
    }
   },
   "outputs": [
    {
     "name": "stdout",
     "output_type": "stream",
     "text": [
      "(40894, 2) (104872, 11)\n"
     ]
    }
   ],
   "source": [
    "print(user_statistics_df.shape,user_picture_df.shape)"
   ]
  },
  {
   "cell_type": "code",
   "execution_count": 27,
   "metadata": {
    "ExecuteTime": {
     "end_time": "2022-07-19T09:34:50.391291Z",
     "start_time": "2022-07-19T09:34:42.259140Z"
    }
   },
   "outputs": [
    {
     "data": {
      "text/plain": [
       "<AxesSubplot:>"
      ]
     },
     "execution_count": 27,
     "metadata": {},
     "output_type": "execute_result"
    },
    {
     "data": {
      "image/png": "[encoded data removed]",
      "text/plain": [
       "<Figure size 432x288 with 1 Axes>"
      ]
     },
     "metadata": {
      "needs_background": "light"
     },
     "output_type": "display_data"
    }
   ],
   "source": [
    "def split_window_func(x):\n",
    "    \"\"\"\n",
    "    用户单量分段    \n",
    "    \"\"\"\n",
    "\n",
    "    if x['order_day_avg']>1:\n",
    "        return 1\n",
    "    elif  0.5<x['order_day_avg']<=1:\n",
    "        return 2\n",
    "    elif  0.4<x['order_day_avg']<=0.5:\n",
    "        return 3\n",
    "    elif  0.3<x['order_day_avg']<=0.4:\n",
    "        return 4\n",
    "    elif  0.2<x['order_day_avg']<=0.3:\n",
    "        return 5\n",
    "    elif  0.1<x['order_day_avg']<=0.2:\n",
    "        return 6\n",
    "    elif  0<x['order_day_avg']<=0.1:\n",
    "        return 7\n",
    "    else:\n",
    "        return 8\n",
    "\n",
    "merge_df=user_picture_df.merge(user_statistics_df,on='user_id',how='left')\n",
    "merge_df['order_day_avg']=merge_df.apply(lambda x:x['bike_sn']/60 if x['register_span']>59 else x['bike_sn']/x['register_span'],axis=1)\n",
    "merge_df['window']=merge_df.apply(split_window_func,axis=1)\n",
    "merge_df['window'].value_counts().plot.bar()"
   ]
  },
  {
   "cell_type": "code",
   "execution_count": 29,
   "metadata": {
    "ExecuteTime": {
     "end_time": "2022-07-19T09:35:45.358339Z",
     "start_time": "2022-07-19T09:35:44.956219Z"
    }
   },
   "outputs": [],
   "source": [
    "def get_age_transform(x):\n",
    "    if x<20:\n",
    "        return 1\n",
    "    elif 20<=x<=24:\n",
    "        return 2\n",
    "    elif 25<=x<=29:\n",
    "        return 3\n",
    "    elif 30<=x<=34:\n",
    "        return 4\n",
    "    elif 35<=x<=39:\n",
    "        return 5\n",
    "    elif 40<=x<=44:\n",
    "        return 6\n",
    "    else:\n",
    "        return 7\n",
    "def get_brand_transform(x):\n",
    "    if x=='HUAWEI':\n",
    "        return 1\n",
    "    elif x=='OPPO':\n",
    "        return 2\n",
    "    elif x=='vivo':\n",
    "        return 3\n",
    "    elif x=='iPhone' or x=='Apple':\n",
    "        return 4\n",
    "    elif x=='HONOR':\n",
    "        return 5\n",
    "    else:\n",
    "        return 6\n",
    "\n",
    "merge_df['age_transformed']=merge_df.age.apply(get_age_transform)    \n",
    "merge_df['brand_transformed']=merge_df.brand.apply(get_brand_transform)\n",
    "\n",
    "import re\n",
    "def edit_ver(x):\n",
    "    try:\n",
    "        if type(x)==type(0.1) or type(x)==type(1):\n",
    "            return 'None'\n",
    "        elif re.match('\\d+\\..*', x):\n",
    "            return 'Android '+re.search('\\d+', x)[0]\n",
    "        elif re.match('Android \\d+\\..*', x):\n",
    "            return 'Android '+re.search('\\d+', x)[0]\n",
    "        elif re.match('Android \\d+$', x):\n",
    "            return x\n",
    "        elif re.match('iOS \\d+$', x):\n",
    "            return x\n",
    "        elif re.match('iOS\\d+\\..*', x):\n",
    "            return 'iOS '+re.search('\\d+',x)[0]\n",
    "        elif re.match('iOS \\d+\\..*', x):\n",
    "            return 'iOS '+re.search('\\d+',x)[0]\n",
    "        elif re.match('\\d+$', x):\n",
    "            return 'Android '+x\n",
    "        else:\n",
    "            return 'Other'\n",
    "    except:\n",
    "        print(type(x))\n",
    "def get_sys_ver_transform(x):\n",
    "    if x[:3]=='iOS':\n",
    "        if x.split(' ')[-1]=='14':\n",
    "            return 1\n",
    "        elif x.split(' ')[-1]=='13':\n",
    "            return 2\n",
    "        else:\n",
    "            return 7\n",
    "    elif x.split(' ')[-1]=='10':\n",
    "        return 3\n",
    "    elif x.split(' ')[-1]=='11':\n",
    "        return 4\n",
    "    elif x.split(' ')[-1]=='9':\n",
    "        return 5\n",
    "    elif x.split(' ')[-1]=='8':\n",
    "        return 6\n",
    "    else:\n",
    "        return 7\n",
    "merge_df2=merge_df\n",
    "merge_df2=merge_df2.fillna(0)\n",
    "merge_df2['sys_ver_transform1']=merge_df2.sys_ver.apply(edit_ver)  \n",
    "def get_sys_ver_transform(x):\n",
    "    try:\n",
    "        if x.split(' ')[-1]=='11':\n",
    "            return 1\n",
    "        elif x.split(' ')[-1]=='10':\n",
    "            return 2\n",
    "        elif x.split(' ')[-1]=='9':\n",
    "            return 3\n",
    "        elif x.split(' ')[-1]=='8':\n",
    "            return 4\n",
    "        else:\n",
    "            return 5\n",
    "    except:\n",
    "        print(x)\n",
    "        \n",
    "        \n",
    "merge_df2['sys_ver_transformed']=merge_df2.sys_ver_transform1.apply(get_sys_ver_transform) "
   ]
  },
  {
   "cell_type": "markdown",
   "metadata": {},
   "source": [
    "# 极光特征\n"
   ]
  },
  {
   "cell_type": "code",
   "execution_count": 30,
   "metadata": {
    "ExecuteTime": {
     "end_time": "2022-07-19T09:36:59.249659Z",
     "start_time": "2022-07-19T09:36:57.249850Z"
    },
    "scrolled": true
   },
   "outputs": [
    {
     "ename": "ValueError",
     "evalue": "invalid literal for int() with base 10: '4c9c845ab01e289351f70e42079b31ff'",
     "output_type": "error",
     "traceback": [
      "\u001b[0;31m---------------------------------------------------------------------------\u001b[0m",
      "\u001b[0;31mValueError\u001b[0m                                Traceback (most recent call last)",
      "\u001b[0;32m<ipython-input-30-5e2cdfd37567>\u001b[0m in \u001b[0;36m<module>\u001b[0;34m\u001b[0m\n\u001b[1;32m      9\u001b[0m \u001b[0mjiguang_df\u001b[0m\u001b[0;34m=\u001b[0m\u001b[0mjiguang_df\u001b[0m\u001b[0;34m[\u001b[0m\u001b[0mjiguang_df\u001b[0m\u001b[0;34m.\u001b[0m\u001b[0mquery_result\u001b[0m\u001b[0;34m==\u001b[0m\u001b[0;36m1\u001b[0m\u001b[0;34m]\u001b[0m\u001b[0;34m\u001b[0m\u001b[0;34m\u001b[0m\u001b[0m\n\u001b[1;32m     10\u001b[0m \u001b[0;34m\u001b[0m\u001b[0m\n\u001b[0;32m---> 11\u001b[0;31m \u001b[0mmerge_df2\u001b[0m\u001b[0;34m[\u001b[0m\u001b[0;34m'mobile'\u001b[0m\u001b[0;34m]\u001b[0m\u001b[0;34m=\u001b[0m\u001b[0mmerge_df2\u001b[0m\u001b[0;34m[\u001b[0m\u001b[0;34m'mobile'\u001b[0m\u001b[0;34m]\u001b[0m\u001b[0;34m.\u001b[0m\u001b[0mastype\u001b[0m\u001b[0;34m(\u001b[0m\u001b[0;34m'int'\u001b[0m\u001b[0;34m)\u001b[0m\u001b[0;34m\u001b[0m\u001b[0;34m\u001b[0m\u001b[0m\n\u001b[0m\u001b[1;32m     12\u001b[0m \u001b[0mjg_sg_df\u001b[0m\u001b[0;34m=\u001b[0m\u001b[0mpd\u001b[0m\u001b[0;34m.\u001b[0m\u001b[0mmerge\u001b[0m\u001b[0;34m(\u001b[0m\u001b[0mjiguang_df\u001b[0m\u001b[0;34m,\u001b[0m\u001b[0mmerge_df2\u001b[0m\u001b[0;34m,\u001b[0m\u001b[0mon\u001b[0m\u001b[0;34m=\u001b[0m\u001b[0;34m'mobile'\u001b[0m\u001b[0;34m,\u001b[0m\u001b[0mhow\u001b[0m\u001b[0;34m=\u001b[0m\u001b[0;34m'left'\u001b[0m\u001b[0;34m)\u001b[0m\u001b[0;34m\u001b[0m\u001b[0;34m\u001b[0m\u001b[0m\n",
      "\u001b[0;32m~/.local/lib/python3.6/site-packages/pandas/core/generic.py\u001b[0m in \u001b[0;36mastype\u001b[0;34m(self, dtype, copy, errors, **kwargs)\u001b[0m\n\u001b[1;32m   5880\u001b[0m             \u001b[0;31m# else, only a single dtype is given\u001b[0m\u001b[0;34m\u001b[0m\u001b[0;34m\u001b[0m\u001b[0;34m\u001b[0m\u001b[0m\n\u001b[1;32m   5881\u001b[0m             new_data = self._data.astype(\n\u001b[0;32m-> 5882\u001b[0;31m                 \u001b[0mdtype\u001b[0m\u001b[0;34m=\u001b[0m\u001b[0mdtype\u001b[0m\u001b[0;34m,\u001b[0m \u001b[0mcopy\u001b[0m\u001b[0;34m=\u001b[0m\u001b[0mcopy\u001b[0m\u001b[0;34m,\u001b[0m \u001b[0merrors\u001b[0m\u001b[0;34m=\u001b[0m\u001b[0merrors\u001b[0m\u001b[0;34m,\u001b[0m \u001b[0;34m**\u001b[0m\u001b[0mkwargs\u001b[0m\u001b[0;34m\u001b[0m\u001b[0;34m\u001b[0m\u001b[0m\n\u001b[0m\u001b[1;32m   5883\u001b[0m             )\n\u001b[1;32m   5884\u001b[0m             \u001b[0;32mreturn\u001b[0m \u001b[0mself\u001b[0m\u001b[0;34m.\u001b[0m\u001b[0m_constructor\u001b[0m\u001b[0;34m(\u001b[0m\u001b[0mnew_data\u001b[0m\u001b[0;34m)\u001b[0m\u001b[0;34m.\u001b[0m\u001b[0m__finalize__\u001b[0m\u001b[0;34m(\u001b[0m\u001b[0mself\u001b[0m\u001b[0;34m)\u001b[0m\u001b[0;34m\u001b[0m\u001b[0;34m\u001b[0m\u001b[0m\n",
      "\u001b[0;32m~/.local/lib/python3.6/site-packages/pandas/core/internals/managers.py\u001b[0m in \u001b[0;36mastype\u001b[0;34m(self, dtype, **kwargs)\u001b[0m\n\u001b[1;32m    579\u001b[0m \u001b[0;34m\u001b[0m\u001b[0m\n\u001b[1;32m    580\u001b[0m     \u001b[0;32mdef\u001b[0m \u001b[0mastype\u001b[0m\u001b[0;34m(\u001b[0m\u001b[0mself\u001b[0m\u001b[0;34m,\u001b[0m \u001b[0mdtype\u001b[0m\u001b[0;34m,\u001b[0m \u001b[0;34m**\u001b[0m\u001b[0mkwargs\u001b[0m\u001b[0;34m)\u001b[0m\u001b[0;34m:\u001b[0m\u001b[0;34m\u001b[0m\u001b[0;34m\u001b[0m\u001b[0m\n\u001b[0;32m--> 581\u001b[0;31m         \u001b[0;32mreturn\u001b[0m \u001b[0mself\u001b[0m\u001b[0;34m.\u001b[0m\u001b[0mapply\u001b[0m\u001b[0;34m(\u001b[0m\u001b[0;34m\"astype\"\u001b[0m\u001b[0;34m,\u001b[0m \u001b[0mdtype\u001b[0m\u001b[0;34m=\u001b[0m\u001b[0mdtype\u001b[0m\u001b[0;34m,\u001b[0m \u001b[0;34m**\u001b[0m\u001b[0mkwargs\u001b[0m\u001b[0;34m)\u001b[0m\u001b[0;34m\u001b[0m\u001b[0;34m\u001b[0m\u001b[0m\n\u001b[0m\u001b[1;32m    582\u001b[0m \u001b[0;34m\u001b[0m\u001b[0m\n\u001b[1;32m    583\u001b[0m     \u001b[0;32mdef\u001b[0m \u001b[0mconvert\u001b[0m\u001b[0;34m(\u001b[0m\u001b[0mself\u001b[0m\u001b[0;34m,\u001b[0m \u001b[0;34m**\u001b[0m\u001b[0mkwargs\u001b[0m\u001b[0;34m)\u001b[0m\u001b[0;34m:\u001b[0m\u001b[0;34m\u001b[0m\u001b[0;34m\u001b[0m\u001b[0m\n",
      "\u001b[0;32m~/.local/lib/python3.6/site-packages/pandas/core/internals/managers.py\u001b[0m in \u001b[0;36mapply\u001b[0;34m(self, f, axes, filter, do_integrity_check, consolidate, **kwargs)\u001b[0m\n\u001b[1;32m    436\u001b[0m                     \u001b[0mkwargs\u001b[0m\u001b[0;34m[\u001b[0m\u001b[0mk\u001b[0m\u001b[0;34m]\u001b[0m \u001b[0;34m=\u001b[0m \u001b[0mobj\u001b[0m\u001b[0;34m.\u001b[0m\u001b[0mreindex\u001b[0m\u001b[0;34m(\u001b[0m\u001b[0mb_items\u001b[0m\u001b[0;34m,\u001b[0m \u001b[0maxis\u001b[0m\u001b[0;34m=\u001b[0m\u001b[0maxis\u001b[0m\u001b[0;34m,\u001b[0m \u001b[0mcopy\u001b[0m\u001b[0;34m=\u001b[0m\u001b[0malign_copy\u001b[0m\u001b[0;34m)\u001b[0m\u001b[0;34m\u001b[0m\u001b[0;34m\u001b[0m\u001b[0m\n\u001b[1;32m    437\u001b[0m \u001b[0;34m\u001b[0m\u001b[0m\n\u001b[0;32m--> 438\u001b[0;31m             \u001b[0mapplied\u001b[0m \u001b[0;34m=\u001b[0m \u001b[0mgetattr\u001b[0m\u001b[0;34m(\u001b[0m\u001b[0mb\u001b[0m\u001b[0;34m,\u001b[0m \u001b[0mf\u001b[0m\u001b[0;34m)\u001b[0m\u001b[0;34m(\u001b[0m\u001b[0;34m**\u001b[0m\u001b[0mkwargs\u001b[0m\u001b[0;34m)\u001b[0m\u001b[0;34m\u001b[0m\u001b[0;34m\u001b[0m\u001b[0m\n\u001b[0m\u001b[1;32m    439\u001b[0m             \u001b[0mresult_blocks\u001b[0m \u001b[0;34m=\u001b[0m \u001b[0m_extend_blocks\u001b[0m\u001b[0;34m(\u001b[0m\u001b[0mapplied\u001b[0m\u001b[0;34m,\u001b[0m \u001b[0mresult_blocks\u001b[0m\u001b[0;34m)\u001b[0m\u001b[0;34m\u001b[0m\u001b[0;34m\u001b[0m\u001b[0m\n\u001b[1;32m    440\u001b[0m \u001b[0;34m\u001b[0m\u001b[0m\n",
      "\u001b[0;32m~/.local/lib/python3.6/site-packages/pandas/core/internals/blocks.py\u001b[0m in \u001b[0;36mastype\u001b[0;34m(self, dtype, copy, errors, values, **kwargs)\u001b[0m\n\u001b[1;32m    557\u001b[0m \u001b[0;34m\u001b[0m\u001b[0m\n\u001b[1;32m    558\u001b[0m     \u001b[0;32mdef\u001b[0m \u001b[0mastype\u001b[0m\u001b[0;34m(\u001b[0m\u001b[0mself\u001b[0m\u001b[0;34m,\u001b[0m \u001b[0mdtype\u001b[0m\u001b[0;34m,\u001b[0m \u001b[0mcopy\u001b[0m\u001b[0;34m=\u001b[0m\u001b[0;32mFalse\u001b[0m\u001b[0;34m,\u001b[0m \u001b[0merrors\u001b[0m\u001b[0;34m=\u001b[0m\u001b[0;34m\"raise\"\u001b[0m\u001b[0;34m,\u001b[0m \u001b[0mvalues\u001b[0m\u001b[0;34m=\u001b[0m\u001b[0;32mNone\u001b[0m\u001b[0;34m,\u001b[0m \u001b[0;34m**\u001b[0m\u001b[0mkwargs\u001b[0m\u001b[0;34m)\u001b[0m\u001b[0;34m:\u001b[0m\u001b[0;34m\u001b[0m\u001b[0;34m\u001b[0m\u001b[0m\n\u001b[0;32m--> 559\u001b[0;31m         \u001b[0;32mreturn\u001b[0m \u001b[0mself\u001b[0m\u001b[0;34m.\u001b[0m\u001b[0m_astype\u001b[0m\u001b[0;34m(\u001b[0m\u001b[0mdtype\u001b[0m\u001b[0;34m,\u001b[0m \u001b[0mcopy\u001b[0m\u001b[0;34m=\u001b[0m\u001b[0mcopy\u001b[0m\u001b[0;34m,\u001b[0m \u001b[0merrors\u001b[0m\u001b[0;34m=\u001b[0m\u001b[0merrors\u001b[0m\u001b[0;34m,\u001b[0m \u001b[0mvalues\u001b[0m\u001b[0;34m=\u001b[0m\u001b[0mvalues\u001b[0m\u001b[0;34m,\u001b[0m \u001b[0;34m**\u001b[0m\u001b[0mkwargs\u001b[0m\u001b[0;34m)\u001b[0m\u001b[0;34m\u001b[0m\u001b[0;34m\u001b[0m\u001b[0m\n\u001b[0m\u001b[1;32m    560\u001b[0m \u001b[0;34m\u001b[0m\u001b[0m\n\u001b[1;32m    561\u001b[0m     \u001b[0;32mdef\u001b[0m \u001b[0m_astype\u001b[0m\u001b[0;34m(\u001b[0m\u001b[0mself\u001b[0m\u001b[0;34m,\u001b[0m \u001b[0mdtype\u001b[0m\u001b[0;34m,\u001b[0m \u001b[0mcopy\u001b[0m\u001b[0;34m=\u001b[0m\u001b[0;32mFalse\u001b[0m\u001b[0;34m,\u001b[0m \u001b[0merrors\u001b[0m\u001b[0;34m=\u001b[0m\u001b[0;34m\"raise\"\u001b[0m\u001b[0;34m,\u001b[0m \u001b[0mvalues\u001b[0m\u001b[0;34m=\u001b[0m\u001b[0;32mNone\u001b[0m\u001b[0;34m,\u001b[0m \u001b[0;34m**\u001b[0m\u001b[0mkwargs\u001b[0m\u001b[0;34m)\u001b[0m\u001b[0;34m:\u001b[0m\u001b[0;34m\u001b[0m\u001b[0;34m\u001b[0m\u001b[0m\n",
      "\u001b[0;32m~/.local/lib/python3.6/site-packages/pandas/core/internals/blocks.py\u001b[0m in \u001b[0;36m_astype\u001b[0;34m(self, dtype, copy, errors, values, **kwargs)\u001b[0m\n\u001b[1;32m    641\u001b[0m                     \u001b[0;31m# _astype_nansafe works fine with 1-d only\u001b[0m\u001b[0;34m\u001b[0m\u001b[0;34m\u001b[0m\u001b[0;34m\u001b[0m\u001b[0m\n\u001b[1;32m    642\u001b[0m                     \u001b[0mvals1d\u001b[0m \u001b[0;34m=\u001b[0m \u001b[0mvalues\u001b[0m\u001b[0;34m.\u001b[0m\u001b[0mravel\u001b[0m\u001b[0;34m(\u001b[0m\u001b[0;34m)\u001b[0m\u001b[0;34m\u001b[0m\u001b[0;34m\u001b[0m\u001b[0m\n\u001b[0;32m--> 643\u001b[0;31m                     \u001b[0mvalues\u001b[0m \u001b[0;34m=\u001b[0m \u001b[0mastype_nansafe\u001b[0m\u001b[0;34m(\u001b[0m\u001b[0mvals1d\u001b[0m\u001b[0;34m,\u001b[0m \u001b[0mdtype\u001b[0m\u001b[0;34m,\u001b[0m \u001b[0mcopy\u001b[0m\u001b[0;34m=\u001b[0m\u001b[0;32mTrue\u001b[0m\u001b[0;34m,\u001b[0m \u001b[0;34m**\u001b[0m\u001b[0mkwargs\u001b[0m\u001b[0;34m)\u001b[0m\u001b[0;34m\u001b[0m\u001b[0;34m\u001b[0m\u001b[0m\n\u001b[0m\u001b[1;32m    644\u001b[0m \u001b[0;34m\u001b[0m\u001b[0m\n\u001b[1;32m    645\u001b[0m                 \u001b[0;31m# TODO(extension)\u001b[0m\u001b[0;34m\u001b[0m\u001b[0;34m\u001b[0m\u001b[0;34m\u001b[0m\u001b[0m\n",
      "\u001b[0;32m~/.local/lib/python3.6/site-packages/pandas/core/dtypes/cast.py\u001b[0m in \u001b[0;36mastype_nansafe\u001b[0;34m(arr, dtype, copy, skipna)\u001b[0m\n\u001b[1;32m    705\u001b[0m         \u001b[0;31m# work around NumPy brokenness, #1987\u001b[0m\u001b[0;34m\u001b[0m\u001b[0;34m\u001b[0m\u001b[0;34m\u001b[0m\u001b[0m\n\u001b[1;32m    706\u001b[0m         \u001b[0;32mif\u001b[0m \u001b[0mnp\u001b[0m\u001b[0;34m.\u001b[0m\u001b[0missubdtype\u001b[0m\u001b[0;34m(\u001b[0m\u001b[0mdtype\u001b[0m\u001b[0;34m.\u001b[0m\u001b[0mtype\u001b[0m\u001b[0;34m,\u001b[0m \u001b[0mnp\u001b[0m\u001b[0;34m.\u001b[0m\u001b[0minteger\u001b[0m\u001b[0;34m)\u001b[0m\u001b[0;34m:\u001b[0m\u001b[0;34m\u001b[0m\u001b[0;34m\u001b[0m\u001b[0m\n\u001b[0;32m--> 707\u001b[0;31m             \u001b[0;32mreturn\u001b[0m \u001b[0mlib\u001b[0m\u001b[0;34m.\u001b[0m\u001b[0mastype_intsafe\u001b[0m\u001b[0;34m(\u001b[0m\u001b[0marr\u001b[0m\u001b[0;34m.\u001b[0m\u001b[0mravel\u001b[0m\u001b[0;34m(\u001b[0m\u001b[0;34m)\u001b[0m\u001b[0;34m,\u001b[0m \u001b[0mdtype\u001b[0m\u001b[0;34m)\u001b[0m\u001b[0;34m.\u001b[0m\u001b[0mreshape\u001b[0m\u001b[0;34m(\u001b[0m\u001b[0marr\u001b[0m\u001b[0;34m.\u001b[0m\u001b[0mshape\u001b[0m\u001b[0;34m)\u001b[0m\u001b[0;34m\u001b[0m\u001b[0;34m\u001b[0m\u001b[0m\n\u001b[0m\u001b[1;32m    708\u001b[0m \u001b[0;34m\u001b[0m\u001b[0m\n\u001b[1;32m    709\u001b[0m         \u001b[0;31m# if we have a datetime/timedelta array of objects\u001b[0m\u001b[0;34m\u001b[0m\u001b[0;34m\u001b[0m\u001b[0;34m\u001b[0m\u001b[0m\n",
      "\u001b[0;32mpandas/_libs/lib.pyx\u001b[0m in \u001b[0;36mpandas._libs.lib.astype_intsafe\u001b[0;34m()\u001b[0m\n",
      "\u001b[0;31mValueError\u001b[0m: invalid literal for int() with base 10: '4c9c845ab01e289351f70e42079b31ff'"
     ]
    }
   ],
   "source": [
    "def edit_query_result(x):\n",
    "    if x=='查询标签成功-有标签':\n",
    "        return 1\n",
    "    else:\n",
    "        return 0\n",
    "    \n",
    "jiguang_df=pd.read_csv('iaudience.csv').rename({'imei/phone/mac/imsi':'mobile'},axis=1)\n",
    "jiguang_df['query_result']=jiguang_df.查询结果.map(edit_query_result)\n",
    "jiguang_df=jiguang_df[jiguang_df.query_result==1]\n",
    "\n",
    "merge_df2['mobile']=merge_df2['mobile'].astype('int')\n",
    "jg_sg_df=pd.merge(jiguang_df,merge_df2,on='mobile',how='left')"
   ]
  },
  {
   "cell_type": "markdown",
   "metadata": {},
   "source": [
    "# 手机号被加密导致关联失败，好在之前存了一份csv"
   ]
  },
  {
   "cell_type": "code",
   "execution_count": 37,
   "metadata": {
    "ExecuteTime": {
     "end_time": "2022-07-19T11:21:34.853624Z",
     "start_time": "2022-07-19T11:21:32.094093Z"
    }
   },
   "outputs": [],
   "source": [
    "jg_sg_df3 = pd.read_csv('jg_sg_df3.csv')"
   ]
  },
  {
   "cell_type": "code",
   "execution_count": 41,
   "metadata": {
    "ExecuteTime": {
     "end_time": "2022-07-19T11:29:12.027297Z",
     "start_time": "2022-07-19T11:29:12.006765Z"
    }
   },
   "outputs": [
    {
     "data": {
      "text/html": [
       "<div>\n",
       "<style scoped>\n",
       "    .dataframe tbody tr th:only-of-type {\n",
       "        vertical-align: middle;\n",
       "    }\n",
       "\n",
       "    .dataframe tbody tr th {\n",
       "        vertical-align: top;\n",
       "    }\n",
       "\n",
       "    .dataframe thead th {\n",
       "        text-align: right;\n",
       "    }\n",
       "</style>\n",
       "<table border=\"1\" class=\"dataframe\">\n",
       "  <thead>\n",
       "    <tr style=\"text-align: right;\">\n",
       "      <th></th>\n",
       "      <th>city_id</th>\n",
       "      <th>user_id</th>\n",
       "      <th>mobile</th>\n",
       "      <th>birthday</th>\n",
       "    </tr>\n",
       "  </thead>\n",
       "  <tbody>\n",
       "    <tr>\n",
       "      <th>0</th>\n",
       "      <td>196.0</td>\n",
       "      <td>9815458.0</td>\n",
       "      <td>18282870056</td>\n",
       "      <td>1982-08-22 00:00:00.000</td>\n",
       "    </tr>\n",
       "    <tr>\n",
       "      <th>1</th>\n",
       "      <td>196.0</td>\n",
       "      <td>20735127.0</td>\n",
       "      <td>13568652678</td>\n",
       "      <td>1974-05-02 00:00:00.000</td>\n",
       "    </tr>\n",
       "    <tr>\n",
       "      <th>2</th>\n",
       "      <td>196.0</td>\n",
       "      <td>7154820.0</td>\n",
       "      <td>13981566579</td>\n",
       "      <td>1977-04-03 00:00:00.000</td>\n",
       "    </tr>\n",
       "    <tr>\n",
       "      <th>3</th>\n",
       "      <td>196.0</td>\n",
       "      <td>20409897.0</td>\n",
       "      <td>18215741718</td>\n",
       "      <td>1998-08-14 00:00:00.000</td>\n",
       "    </tr>\n",
       "    <tr>\n",
       "      <th>4</th>\n",
       "      <td>196.0</td>\n",
       "      <td>7131516.0</td>\n",
       "      <td>13981568710</td>\n",
       "      <td>1973-04-11 00:00:00.000</td>\n",
       "    </tr>\n",
       "    <tr>\n",
       "      <th>...</th>\n",
       "      <td>...</td>\n",
       "      <td>...</td>\n",
       "      <td>...</td>\n",
       "      <td>...</td>\n",
       "    </tr>\n",
       "    <tr>\n",
       "      <th>24605</th>\n",
       "      <td>196.0</td>\n",
       "      <td>6910503.0</td>\n",
       "      <td>17608046298</td>\n",
       "      <td>1996-09-15 00:00:00.000</td>\n",
       "    </tr>\n",
       "    <tr>\n",
       "      <th>24606</th>\n",
       "      <td>196.0</td>\n",
       "      <td>9558436.0</td>\n",
       "      <td>15378407761</td>\n",
       "      <td>1996-06-11 00:00:00.000</td>\n",
       "    </tr>\n",
       "    <tr>\n",
       "      <th>24607</th>\n",
       "      <td>196.0</td>\n",
       "      <td>48166974.0</td>\n",
       "      <td>18349604777</td>\n",
       "      <td>1986-12-17 00:00:00.000</td>\n",
       "    </tr>\n",
       "    <tr>\n",
       "      <th>24608</th>\n",
       "      <td>196.0</td>\n",
       "      <td>6952912.0</td>\n",
       "      <td>18989255752</td>\n",
       "      <td>1981-12-26 00:00:00.000</td>\n",
       "    </tr>\n",
       "    <tr>\n",
       "      <th>24609</th>\n",
       "      <td>196.0</td>\n",
       "      <td>8438035.0</td>\n",
       "      <td>18481238792</td>\n",
       "      <td>1974-11-08 00:00:00.000</td>\n",
       "    </tr>\n",
       "  </tbody>\n",
       "</table>\n",
       "<p>24610 rows × 4 columns</p>\n",
       "</div>"
      ],
      "text/plain": [
       "       city_id     user_id       mobile                 birthday\n",
       "0        196.0   9815458.0  18282870056  1982-08-22 00:00:00.000\n",
       "1        196.0  20735127.0  13568652678  1974-05-02 00:00:00.000\n",
       "2        196.0   7154820.0  13981566579  1977-04-03 00:00:00.000\n",
       "3        196.0  20409897.0  18215741718  1998-08-14 00:00:00.000\n",
       "4        196.0   7131516.0  13981568710  1973-04-11 00:00:00.000\n",
       "...        ...         ...          ...                      ...\n",
       "24605    196.0   6910503.0  17608046298  1996-09-15 00:00:00.000\n",
       "24606    196.0   9558436.0  15378407761  1996-06-11 00:00:00.000\n",
       "24607    196.0  48166974.0  18349604777  1986-12-17 00:00:00.000\n",
       "24608    196.0   6952912.0  18989255752  1981-12-26 00:00:00.000\n",
       "24609    196.0   8438035.0  18481238792  1974-11-08 00:00:00.000\n",
       "\n",
       "[24610 rows x 4 columns]"
      ]
     },
     "execution_count": 41,
     "metadata": {},
     "output_type": "execute_result"
    }
   ],
   "source": [
    "jg_sg_df3[['city_id','user_id','mobile','birthday']]"
   ]
  },
  {
   "cell_type": "code",
   "execution_count": 43,
   "metadata": {
    "ExecuteTime": {
     "end_time": "2022-07-19T11:32:10.754341Z",
     "start_time": "2022-07-19T11:32:10.748082Z"
    }
   },
   "outputs": [
    {
     "data": {
      "text/plain": [
       "Index(['Unnamed: 0', 'mobile', '查询结果', 'CPL_HHM_CHILD_HC', 'CPL_INDM_GEND_S',\n",
       "       'CPL_INDM_MARRC2', 'CPL_INDM_NATI', 'CPL_INDM_AGE_C5',\n",
       "       'CPL_HHM_CHILD_CHLI', 'CID_MODEL',\n",
       "       ...\n",
       "       '数码专卖', 'big_offs', '生鲜配送', '情趣用品', '零售百货', '图书专卖', '二次元专卖', '团购特卖',\n",
       "       '捕鱼', 'pref'],\n",
       "      dtype='object', length=432)"
      ]
     },
     "execution_count": 43,
     "metadata": {},
     "output_type": "execute_result"
    }
   ],
   "source": [
    "jg_sg_df3.columns"
   ]
  },
  {
   "cell_type": "code",
   "execution_count": 44,
   "metadata": {
    "ExecuteTime": {
     "end_time": "2022-07-19T11:35:21.261404Z",
     "start_time": "2022-07-19T11:35:21.227906Z"
    }
   },
   "outputs": [],
   "source": [
    "transform_list=['CPL_INDM_EDU_LEVEL',\n",
    "              'CPL_INDM_MARRC2',\n",
    "              'FIM_FISM_INCL',\n",
    "              'FIM_FISM_CONL_CIR']\n",
    "from sklearn import preprocessing\n",
    "lbl = preprocessing.LabelEncoder()\n",
    "lis=[]\n",
    "for col in transform_list:\n",
    "    try:\n",
    "        jg_sg_df3[col+'_transformed'] = lbl.fit_transform(jg_sg_df3[col].astype('category'))\n",
    "    except:\n",
    "        lis.append(col)"
   ]
  },
  {
   "cell_type": "code",
   "execution_count": 45,
   "metadata": {
    "ExecuteTime": {
     "end_time": "2022-07-19T11:35:23.468160Z",
     "start_time": "2022-07-19T11:35:23.462653Z"
    }
   },
   "outputs": [
    {
     "data": {
      "text/plain": [
       "[]"
      ]
     },
     "execution_count": 45,
     "metadata": {},
     "output_type": "execute_result"
    }
   ],
   "source": [
    "lis"
   ]
  },
  {
   "cell_type": "code",
   "execution_count": 47,
   "metadata": {
    "ExecuteTime": {
     "end_time": "2022-07-19T11:38:22.842095Z",
     "start_time": "2022-07-19T11:38:22.806583Z"
    }
   },
   "outputs": [
    {
     "data": {
      "text/html": [
       "<div>\n",
       "<style scoped>\n",
       "    .dataframe tbody tr th:only-of-type {\n",
       "        vertical-align: middle;\n",
       "    }\n",
       "\n",
       "    .dataframe tbody tr th {\n",
       "        vertical-align: top;\n",
       "    }\n",
       "\n",
       "    .dataframe thead th {\n",
       "        text-align: right;\n",
       "    }\n",
       "</style>\n",
       "<table border=\"1\" class=\"dataframe\">\n",
       "  <thead>\n",
       "    <tr style=\"text-align: right;\">\n",
       "      <th></th>\n",
       "      <th>xxx</th>\n",
       "      <th>CPL_INDM_EDU_LEVEL</th>\n",
       "    </tr>\n",
       "  </thead>\n",
       "  <tbody>\n",
       "    <tr>\n",
       "      <th>0</th>\n",
       "      <td>3</td>\n",
       "      <td>高</td>\n",
       "    </tr>\n",
       "    <tr>\n",
       "      <th>1</th>\n",
       "      <td>0</td>\n",
       "      <td>None</td>\n",
       "    </tr>\n",
       "    <tr>\n",
       "      <th>2</th>\n",
       "      <td>1</td>\n",
       "      <td>中</td>\n",
       "    </tr>\n",
       "    <tr>\n",
       "      <th>3</th>\n",
       "      <td>3</td>\n",
       "      <td>高</td>\n",
       "    </tr>\n",
       "    <tr>\n",
       "      <th>4</th>\n",
       "      <td>2</td>\n",
       "      <td>低</td>\n",
       "    </tr>\n",
       "    <tr>\n",
       "      <th>...</th>\n",
       "      <td>...</td>\n",
       "      <td>...</td>\n",
       "    </tr>\n",
       "    <tr>\n",
       "      <th>24605</th>\n",
       "      <td>3</td>\n",
       "      <td>高</td>\n",
       "    </tr>\n",
       "    <tr>\n",
       "      <th>24606</th>\n",
       "      <td>2</td>\n",
       "      <td>低</td>\n",
       "    </tr>\n",
       "    <tr>\n",
       "      <th>24607</th>\n",
       "      <td>2</td>\n",
       "      <td>低</td>\n",
       "    </tr>\n",
       "    <tr>\n",
       "      <th>24608</th>\n",
       "      <td>2</td>\n",
       "      <td>低</td>\n",
       "    </tr>\n",
       "    <tr>\n",
       "      <th>24609</th>\n",
       "      <td>2</td>\n",
       "      <td>低</td>\n",
       "    </tr>\n",
       "  </tbody>\n",
       "</table>\n",
       "<p>24610 rows × 2 columns</p>\n",
       "</div>"
      ],
      "text/plain": [
       "       xxx CPL_INDM_EDU_LEVEL\n",
       "0        3                  高\n",
       "1        0               None\n",
       "2        1                  中\n",
       "3        3                  高\n",
       "4        2                  低\n",
       "...    ...                ...\n",
       "24605    3                  高\n",
       "24606    2                  低\n",
       "24607    2                  低\n",
       "24608    2                  低\n",
       "24609    2                  低\n",
       "\n",
       "[24610 rows x 2 columns]"
      ]
     },
     "execution_count": 47,
     "metadata": {},
     "output_type": "execute_result"
    }
   ],
   "source": [
    "jg_sg_df3['xxx'] = lbl.fit_transform(jg_sg_df3['CPL_INDM_EDU_LEVEL'].astype('category'))\n",
    "jg_sg_df3[['xxx','CPL_INDM_EDU_LEVEL']]"
   ]
  },
  {
   "cell_type": "code",
   "execution_count": 48,
   "metadata": {
    "ExecuteTime": {
     "end_time": "2022-07-19T11:41:38.271864Z",
     "start_time": "2022-07-19T11:41:38.259787Z"
    }
   },
   "outputs": [
    {
     "data": {
      "text/plain": [
       "0                  N\n",
       "1               None\n",
       "2               图书专卖\n",
       "3        N、品牌折扣、图书专卖\n",
       "4               None\n",
       "            ...     \n",
       "24605         二手闲置、N\n",
       "24606           品牌折扣\n",
       "24607    数码电脑、品牌折扣、N\n",
       "24608    数码电脑、N、品牌折扣\n",
       "24609            土特产\n",
       "Name: GBM_BHM_PURB_CONP, Length: 24610, dtype: object"
      ]
     },
     "execution_count": 48,
     "metadata": {},
     "output_type": "execute_result"
    }
   ],
   "source": [
    "jg_sg_df3['GBM_BHM_PURB_CONP']"
   ]
  },
  {
   "cell_type": "code",
   "execution_count": 52,
   "metadata": {
    "ExecuteTime": {
     "end_time": "2022-07-19T11:44:43.215944Z",
     "start_time": "2022-07-19T11:44:43.175474Z"
    }
   },
   "outputs": [],
   "source": [
    "jg_sg_df4=jg_sg_df3\n",
    "catagories_set = set()\n",
    "for row in jg_sg_df4['GBM_BHM_PURB_CONP']:\n",
    "    catagories_set |= set(row.split('、'))\n",
    "catagories_set.discard(\"\")    \n",
    "catagorijg_sg_df3.window.value_counts()es_set.discard(\"None\")\n",
    "catagories = list(catagories_set)\n",
    "catagories_df = pd.DataFrame(columns=catagories)"
   ]
  },
  {
   "cell_type": "code",
   "execution_count": 53,
   "metadata": {
    "ExecuteTime": {
     "end_time": "2022-07-19T11:44:43.689238Z",
     "start_time": "2022-07-19T11:44:43.666503Z"
    }
   },
   "outputs": [
    {
     "data": {
      "text/html": [
       "<div>\n",
       "<style scoped>\n",
       "    .dataframe tbody tr th:only-of-type {\n",
       "        vertical-align: middle;\n",
       "    }\n",
       "\n",
       "    .dataframe tbody tr th {\n",
       "        vertical-align: top;\n",
       "    }\n",
       "\n",
       "    .dataframe thead th {\n",
       "        text-align: right;\n",
       "    }\n",
       "</style>\n",
       "<table border=\"1\" class=\"dataframe\">\n",
       "  <thead>\n",
       "    <tr style=\"text-align: right;\">\n",
       "      <th></th>\n",
       "      <th>家具家电</th>\n",
       "      <th>宠物用品</th>\n",
       "      <th>返现返利</th>\n",
       "      <th>奢侈品</th>\n",
       "      <th>团购特卖</th>\n",
       "      <th>母婴玩具</th>\n",
       "      <th>婚礼筹备</th>\n",
       "      <th>批发专卖</th>\n",
       "      <th>美妆导购</th>\n",
       "      <th>购物导航</th>\n",
       "      <th>数码电脑</th>\n",
       "      <th>分期购</th>\n",
       "      <th>全球导购</th>\n",
       "      <th>酒茶专卖</th>\n",
       "      <th>收藏品</th>\n",
       "      <th>包包配饰</th>\n",
       "      <th>比价</th>\n",
       "      <th>土特产</th>\n",
       "      <th>生鲜配送</th>\n",
       "      <th>网上超市</th>\n",
       "      <th>零食专卖</th>\n",
       "      <th>卖家版</th>\n",
       "      <th>服饰专卖</th>\n",
       "      <th>宠物必备</th>\n",
       "      <th>汽车专卖</th>\n",
       "      <th>图书专卖</th>\n",
       "      <th>二手车</th>\n",
       "      <th>手工制作</th>\n",
       "      <th>海外电商</th>\n",
       "      <th>捕鱼</th>\n",
       "      <th>生鲜专卖</th>\n",
       "      <th>内衣专卖</th>\n",
       "      <th>情趣用品</th>\n",
       "      <th>虚拟商品</th>\n",
       "      <th>化妆品专卖</th>\n",
       "      <th>二手手机</th>\n",
       "      <th>二手闲置</th>\n",
       "      <th>户外运动</th>\n",
       "      <th>海淘</th>\n",
       "      <th>社交电商</th>\n",
       "      <th>免税店</th>\n",
       "      <th>返现</th>\n",
       "      <th>数码专卖</th>\n",
       "      <th>情趣专卖</th>\n",
       "      <th>折扣优惠</th>\n",
       "      <th>优惠券</th>\n",
       "      <th>电动车</th>\n",
       "      <th>美甲</th>\n",
       "      <th>返利返现</th>\n",
       "      <th>信用消费</th>\n",
       "      <th>药品补品</th>\n",
       "      <th>动漫周边</th>\n",
       "      <th>二手车交易</th>\n",
       "      <th>全球美食</th>\n",
       "      <th>批发</th>\n",
       "      <th>零售百货</th>\n",
       "      <th>拍卖</th>\n",
       "      <th>珠宝饰品</th>\n",
       "      <th>农产品</th>\n",
       "      <th>二次元专卖</th>\n",
       "      <th>电影票专卖</th>\n",
       "      <th>手工艺品</th>\n",
       "      <th>儿童用品</th>\n",
       "      <th>品牌特卖</th>\n",
       "      <th>掌上超市</th>\n",
       "      <th>品牌折扣</th>\n",
       "      <th>N</th>\n",
       "    </tr>\n",
       "  </thead>\n",
       "  <tbody>\n",
       "  </tbody>\n",
       "</table>\n",
       "</div>"
      ],
      "text/plain": [
       "Empty DataFrame\n",
       "Columns: [家具家电, 宠物用品, 返现返利, 奢侈品, 团购特卖, 母婴玩具, 婚礼筹备, 批发专卖, 美妆导购, 购物导航, 数码电脑, 分期购, 全球导购, 酒茶专卖, 收藏品, 包包配饰, 比价, 土特产, 生鲜配送, 网上超市, 零食专卖, 卖家版, 服饰专卖, 宠物必备, 汽车专卖, 图书专卖, 二手车, 手工制作, 海外电商, 捕鱼, 生鲜专卖, 内衣专卖, 情趣用品, 虚拟商品, 化妆品专卖, 二手手机, 二手闲置, 户外运动, 海淘, 社交电商, 免税店, 返现, 数码专卖, 情趣专卖, 折扣优惠, 优惠券, 电动车, 美甲, 返利返现, 信用消费, 药品补品, 动漫周边, 二手车交易, 全球美食, 批发, 零售百货, 拍卖, 珠宝饰品, 农产品, 二次元专卖, 电影票专卖, 手工艺品, 儿童用品, 品牌特卖, 掌上超市, 品牌折扣, N]\n",
       "Index: []"
      ]
     },
     "execution_count": 53,
     "metadata": {},
     "output_type": "execute_result"
    }
   ],
   "source": [
    "catagories_df"
   ]
  },
  {
   "cell_type": "code",
   "execution_count": 54,
   "metadata": {
    "ExecuteTime": {
     "end_time": "2022-07-19T11:44:45.454416Z",
     "start_time": "2022-07-19T11:44:45.428431Z"
    }
   },
   "outputs": [
    {
     "ename": "ValueError",
     "evalue": "columns overlap but no suffix specified: Index(['优惠券', '返利返现', '卖家版', '农产品', '酒茶专卖', '海外电商', '品牌特卖', '宠物用品', '珠宝饰品',\n       '家具家电', '数码电脑', 'N', '手工制作', '药品补品', '婚礼筹备', '宠物必备', '电影票专卖', '土特产',\n       '批发专卖', '掌上超市', '户外运动', '分期购', '批发', '全球导购', '美妆导购', '零食专卖', '全球美食',\n       '奢侈品', '二手车', '情趣专卖', '生鲜专卖', '美甲', '服饰专卖', '免税店', '二手闲置', '动漫周边',\n       '母婴玩具', '购物导航', '包包配饰', '海淘', '二手手机', '汽车专卖', '返现', '化妆品专卖', '比价',\n       '手工艺品', '拍卖', '返现返利', '二手车交易', '内衣专卖', '信用消费', '社交电商', '电动车', '折扣优惠',\n       '儿童用品', '收藏品', '网上超市', '虚拟商品', '数码专卖', '生鲜配送', '情趣用品', '零售百货', '图书专卖',\n       '二次元专卖', '团购特卖', '捕鱼'],\n      dtype='object')",
     "output_type": "error",
     "traceback": [
      "\u001b[0;31m---------------------------------------------------------------------------\u001b[0m",
      "\u001b[0;31mValueError\u001b[0m                                Traceback (most recent call last)",
      "\u001b[0;32m<ipython-input-54-127c0561a98e>\u001b[0m in \u001b[0;36m<module>\u001b[0;34m\u001b[0m\n\u001b[0;32m----> 1\u001b[0;31m \u001b[0mjg_sg_df5\u001b[0m\u001b[0;34m=\u001b[0m\u001b[0mjg_sg_df4\u001b[0m\u001b[0;34m.\u001b[0m\u001b[0mjoin\u001b[0m\u001b[0;34m(\u001b[0m\u001b[0mcatagories_df\u001b[0m\u001b[0;34m,\u001b[0m\u001b[0mhow\u001b[0m\u001b[0;34m=\u001b[0m\u001b[0;34m'outer'\u001b[0m\u001b[0;34m)\u001b[0m\u001b[0;34m\u001b[0m\u001b[0;34m\u001b[0m\u001b[0m\n\u001b[0m\u001b[1;32m      2\u001b[0m \u001b[0;34m\u001b[0m\u001b[0m\n\u001b[1;32m      3\u001b[0m \u001b[0;32mfor\u001b[0m \u001b[0mcol\u001b[0m \u001b[0;32min\u001b[0m \u001b[0mcatagories\u001b[0m\u001b[0;34m:\u001b[0m\u001b[0;34m\u001b[0m\u001b[0;34m\u001b[0m\u001b[0m\n\u001b[1;32m      4\u001b[0m     \u001b[0mjg_sg_df5\u001b[0m\u001b[0;34m[\u001b[0m\u001b[0mcol\u001b[0m\u001b[0;34m]\u001b[0m \u001b[0;34m=\u001b[0m \u001b[0mjg_sg_df5\u001b[0m\u001b[0;34m[\u001b[0m\u001b[0;34m'GBM_BHM_PURB_CONP'\u001b[0m\u001b[0;34m]\u001b[0m\u001b[0;34m.\u001b[0m\u001b[0mapply\u001b[0m\u001b[0;34m(\u001b[0m\u001b[0;32mlambda\u001b[0m \u001b[0mx\u001b[0m\u001b[0;34m:\u001b[0m \u001b[0;36m1\u001b[0m \u001b[0;32mif\u001b[0m \u001b[0mcol\u001b[0m \u001b[0;32min\u001b[0m \u001b[0mx\u001b[0m\u001b[0;34m.\u001b[0m\u001b[0msplit\u001b[0m\u001b[0;34m(\u001b[0m\u001b[0;34m'、'\u001b[0m\u001b[0;34m)\u001b[0m \u001b[0;32melse\u001b[0m \u001b[0;36m0\u001b[0m\u001b[0;34m)\u001b[0m\u001b[0;34m\u001b[0m\u001b[0;34m\u001b[0m\u001b[0m\n",
      "\u001b[0;32m~/.local/lib/python3.6/site-packages/pandas/core/frame.py\u001b[0m in \u001b[0;36mjoin\u001b[0;34m(self, other, on, how, lsuffix, rsuffix, sort)\u001b[0m\n\u001b[1;32m   7259\u001b[0m         \u001b[0;31m# For SparseDataFrame's benefit\u001b[0m\u001b[0;34m\u001b[0m\u001b[0;34m\u001b[0m\u001b[0;34m\u001b[0m\u001b[0m\n\u001b[1;32m   7260\u001b[0m         return self._join_compat(\n\u001b[0;32m-> 7261\u001b[0;31m             \u001b[0mother\u001b[0m\u001b[0;34m,\u001b[0m \u001b[0mon\u001b[0m\u001b[0;34m=\u001b[0m\u001b[0mon\u001b[0m\u001b[0;34m,\u001b[0m \u001b[0mhow\u001b[0m\u001b[0;34m=\u001b[0m\u001b[0mhow\u001b[0m\u001b[0;34m,\u001b[0m \u001b[0mlsuffix\u001b[0m\u001b[0;34m=\u001b[0m\u001b[0mlsuffix\u001b[0m\u001b[0;34m,\u001b[0m \u001b[0mrsuffix\u001b[0m\u001b[0;34m=\u001b[0m\u001b[0mrsuffix\u001b[0m\u001b[0;34m,\u001b[0m \u001b[0msort\u001b[0m\u001b[0;34m=\u001b[0m\u001b[0msort\u001b[0m\u001b[0;34m\u001b[0m\u001b[0;34m\u001b[0m\u001b[0m\n\u001b[0m\u001b[1;32m   7262\u001b[0m         )\n\u001b[1;32m   7263\u001b[0m \u001b[0;34m\u001b[0m\u001b[0m\n",
      "\u001b[0;32m~/.local/lib/python3.6/site-packages/pandas/core/frame.py\u001b[0m in \u001b[0;36m_join_compat\u001b[0;34m(self, other, on, how, lsuffix, rsuffix, sort)\u001b[0m\n\u001b[1;32m   7282\u001b[0m                 \u001b[0mright_index\u001b[0m\u001b[0;34m=\u001b[0m\u001b[0;32mTrue\u001b[0m\u001b[0;34m,\u001b[0m\u001b[0;34m\u001b[0m\u001b[0;34m\u001b[0m\u001b[0m\n\u001b[1;32m   7283\u001b[0m                 \u001b[0msuffixes\u001b[0m\u001b[0;34m=\u001b[0m\u001b[0;34m(\u001b[0m\u001b[0mlsuffix\u001b[0m\u001b[0;34m,\u001b[0m \u001b[0mrsuffix\u001b[0m\u001b[0;34m)\u001b[0m\u001b[0;34m,\u001b[0m\u001b[0;34m\u001b[0m\u001b[0;34m\u001b[0m\u001b[0m\n\u001b[0;32m-> 7284\u001b[0;31m                 \u001b[0msort\u001b[0m\u001b[0;34m=\u001b[0m\u001b[0msort\u001b[0m\u001b[0;34m,\u001b[0m\u001b[0;34m\u001b[0m\u001b[0;34m\u001b[0m\u001b[0m\n\u001b[0m\u001b[1;32m   7285\u001b[0m             )\n\u001b[1;32m   7286\u001b[0m         \u001b[0;32melse\u001b[0m\u001b[0;34m:\u001b[0m\u001b[0;34m\u001b[0m\u001b[0;34m\u001b[0m\u001b[0m\n",
      "\u001b[0;32m~/.local/lib/python3.6/site-packages/pandas/core/reshape/merge.py\u001b[0m in \u001b[0;36mmerge\u001b[0;34m(left, right, how, on, left_on, right_on, left_index, right_index, sort, suffixes, copy, indicator, validate)\u001b[0m\n\u001b[1;32m     81\u001b[0m         \u001b[0mvalidate\u001b[0m\u001b[0;34m=\u001b[0m\u001b[0mvalidate\u001b[0m\u001b[0;34m,\u001b[0m\u001b[0;34m\u001b[0m\u001b[0;34m\u001b[0m\u001b[0m\n\u001b[1;32m     82\u001b[0m     )\n\u001b[0;32m---> 83\u001b[0;31m     \u001b[0;32mreturn\u001b[0m \u001b[0mop\u001b[0m\u001b[0;34m.\u001b[0m\u001b[0mget_result\u001b[0m\u001b[0;34m(\u001b[0m\u001b[0;34m)\u001b[0m\u001b[0;34m\u001b[0m\u001b[0;34m\u001b[0m\u001b[0m\n\u001b[0m\u001b[1;32m     84\u001b[0m \u001b[0;34m\u001b[0m\u001b[0m\n\u001b[1;32m     85\u001b[0m \u001b[0;34m\u001b[0m\u001b[0m\n",
      "\u001b[0;32m~/.local/lib/python3.6/site-packages/pandas/core/reshape/merge.py\u001b[0m in \u001b[0;36mget_result\u001b[0;34m(self)\u001b[0m\n\u001b[1;32m    646\u001b[0m \u001b[0;34m\u001b[0m\u001b[0m\n\u001b[1;32m    647\u001b[0m         llabels, rlabels = _items_overlap_with_suffix(\n\u001b[0;32m--> 648\u001b[0;31m             \u001b[0mldata\u001b[0m\u001b[0;34m.\u001b[0m\u001b[0mitems\u001b[0m\u001b[0;34m,\u001b[0m \u001b[0mlsuf\u001b[0m\u001b[0;34m,\u001b[0m \u001b[0mrdata\u001b[0m\u001b[0;34m.\u001b[0m\u001b[0mitems\u001b[0m\u001b[0;34m,\u001b[0m \u001b[0mrsuf\u001b[0m\u001b[0;34m\u001b[0m\u001b[0;34m\u001b[0m\u001b[0m\n\u001b[0m\u001b[1;32m    649\u001b[0m         )\n\u001b[1;32m    650\u001b[0m \u001b[0;34m\u001b[0m\u001b[0m\n",
      "\u001b[0;32m~/.local/lib/python3.6/site-packages/pandas/core/reshape/merge.py\u001b[0m in \u001b[0;36m_items_overlap_with_suffix\u001b[0;34m(left, lsuffix, right, rsuffix)\u001b[0m\n\u001b[1;32m   2009\u001b[0m         raise ValueError(\n\u001b[1;32m   2010\u001b[0m             \u001b[0;34m\"columns overlap but no suffix specified: \"\u001b[0m\u001b[0;34m\u001b[0m\u001b[0;34m\u001b[0m\u001b[0m\n\u001b[0;32m-> 2011\u001b[0;31m             \u001b[0;34m\"{rename}\"\u001b[0m\u001b[0;34m.\u001b[0m\u001b[0mformat\u001b[0m\u001b[0;34m(\u001b[0m\u001b[0mrename\u001b[0m\u001b[0;34m=\u001b[0m\u001b[0mto_rename\u001b[0m\u001b[0;34m)\u001b[0m\u001b[0;34m\u001b[0m\u001b[0;34m\u001b[0m\u001b[0m\n\u001b[0m\u001b[1;32m   2012\u001b[0m         )\n\u001b[1;32m   2013\u001b[0m \u001b[0;34m\u001b[0m\u001b[0m\n",
      "\u001b[0;31mValueError\u001b[0m: columns overlap but no suffix specified: Index(['优惠券', '返利返现', '卖家版', '农产品', '酒茶专卖', '海外电商', '品牌特卖', '宠物用品', '珠宝饰品',\n       '家具家电', '数码电脑', 'N', '手工制作', '药品补品', '婚礼筹备', '宠物必备', '电影票专卖', '土特产',\n       '批发专卖', '掌上超市', '户外运动', '分期购', '批发', '全球导购', '美妆导购', '零食专卖', '全球美食',\n       '奢侈品', '二手车', '情趣专卖', '生鲜专卖', '美甲', '服饰专卖', '免税店', '二手闲置', '动漫周边',\n       '母婴玩具', '购物导航', '包包配饰', '海淘', '二手手机', '汽车专卖', '返现', '化妆品专卖', '比价',\n       '手工艺品', '拍卖', '返现返利', '二手车交易', '内衣专卖', '信用消费', '社交电商', '电动车', '折扣优惠',\n       '儿童用品', '收藏品', '网上超市', '虚拟商品', '数码专卖', '生鲜配送', '情趣用品', '零售百货', '图书专卖',\n       '二次元专卖', '团购特卖', '捕鱼'],\n      dtype='object')"
     ]
    }
   ],
   "source": [
    "jg_sg_df5=jg_sg_df4.join(catagories_df,how='outer')\n",
    "\n",
    "for col in catagories:\n",
    "    jg_sg_df5[col] = jg_sg_df5['GBM_BHM_PURB_CONP'].apply(lambda x: 1 if col in x.split('、') else 0)"
   ]
  },
  {
   "cell_type": "code",
   "execution_count": 55,
   "metadata": {
    "ExecuteTime": {
     "end_time": "2022-07-19T11:45:33.636643Z",
     "start_time": "2022-07-19T11:45:33.624238Z"
    }
   },
   "outputs": [
    {
     "data": {
      "text/html": [
       "<div>\n",
       "<style scoped>\n",
       "    .dataframe tbody tr th:only-of-type {\n",
       "        vertical-align: middle;\n",
       "    }\n",
       "\n",
       "    .dataframe tbody tr th {\n",
       "        vertical-align: top;\n",
       "    }\n",
       "\n",
       "    .dataframe thead th {\n",
       "        text-align: right;\n",
       "    }\n",
       "</style>\n",
       "<table border=\"1\" class=\"dataframe\">\n",
       "  <thead>\n",
       "    <tr style=\"text-align: right;\">\n",
       "      <th></th>\n",
       "      <th>婚礼筹备</th>\n",
       "    </tr>\n",
       "  </thead>\n",
       "  <tbody>\n",
       "    <tr>\n",
       "      <th>0</th>\n",
       "      <td>0</td>\n",
       "    </tr>\n",
       "    <tr>\n",
       "      <th>1</th>\n",
       "      <td>0</td>\n",
       "    </tr>\n",
       "    <tr>\n",
       "      <th>2</th>\n",
       "      <td>0</td>\n",
       "    </tr>\n",
       "    <tr>\n",
       "      <th>3</th>\n",
       "      <td>0</td>\n",
       "    </tr>\n",
       "    <tr>\n",
       "      <th>4</th>\n",
       "      <td>0</td>\n",
       "    </tr>\n",
       "    <tr>\n",
       "      <th>...</th>\n",
       "      <td>...</td>\n",
       "    </tr>\n",
       "    <tr>\n",
       "      <th>24605</th>\n",
       "      <td>0</td>\n",
       "    </tr>\n",
       "    <tr>\n",
       "      <th>24606</th>\n",
       "      <td>0</td>\n",
       "    </tr>\n",
       "    <tr>\n",
       "      <th>24607</th>\n",
       "      <td>0</td>\n",
       "    </tr>\n",
       "    <tr>\n",
       "      <th>24608</th>\n",
       "      <td>0</td>\n",
       "    </tr>\n",
       "    <tr>\n",
       "      <th>24609</th>\n",
       "      <td>0</td>\n",
       "    </tr>\n",
       "  </tbody>\n",
       "</table>\n",
       "<p>24610 rows × 1 columns</p>\n",
       "</div>"
      ],
      "text/plain": [
       "       婚礼筹备\n",
       "0         0\n",
       "1         0\n",
       "2         0\n",
       "3         0\n",
       "4         0\n",
       "...     ...\n",
       "24605     0\n",
       "24606     0\n",
       "24607     0\n",
       "24608     0\n",
       "24609     0\n",
       "\n",
       "[24610 rows x 1 columns]"
      ]
     },
     "execution_count": 55,
     "metadata": {},
     "output_type": "execute_result"
    }
   ],
   "source": [
    "jg_sg_df4[['婚礼筹备']]"
   ]
  },
  {
   "cell_type": "markdown",
   "metadata": {},
   "source": [
    "# 模型最终数据准备"
   ]
  },
  {
   "cell_type": "code",
   "execution_count": 56,
   "metadata": {
    "ExecuteTime": {
     "end_time": "2022-07-19T11:50:32.114542Z",
     "start_time": "2022-07-19T11:50:32.101021Z"
    }
   },
   "outputs": [
    {
     "data": {
      "text/plain": [
       "8.0    9851\n",
       "7.0    7745\n",
       "6.0    2714\n",
       "5.0    1392\n",
       "2.0    1091\n",
       "4.0     846\n",
       "3.0     509\n",
       "1.0     462\n",
       "Name: window, dtype: int64"
      ]
     },
     "execution_count": 56,
     "metadata": {},
     "output_type": "execute_result"
    }
   ],
   "source": [
    "jg_sg_df3.window.value_counts()"
   ]
  },
  {
   "cell_type": "code",
   "execution_count": 57,
   "metadata": {
    "ExecuteTime": {
     "end_time": "2022-07-19T11:50:53.957896Z",
     "start_time": "2022-07-19T11:50:53.930685Z"
    }
   },
   "outputs": [
    {
     "data": {
      "text/plain": [
       "0    17596\n",
       "1     7014\n",
       "Name: pref, dtype: int64"
      ]
     },
     "execution_count": 57,
     "metadata": {},
     "output_type": "execute_result"
    }
   ],
   "source": [
    "jg_sg_df3['pref']=jg_sg_df3.window.map(lambda x:1 if x<=6 else 0)\n",
    "jg_sg_df3['pref'].value_counts()"
   ]
  },
  {
   "cell_type": "code",
   "execution_count": 58,
   "metadata": {
    "ExecuteTime": {
     "end_time": "2022-07-19T11:51:32.000230Z",
     "start_time": "2022-07-19T11:51:31.747572Z"
    }
   },
   "outputs": [
    {
     "name": "stdout",
     "output_type": "stream",
     "text": [
      "train_df (1,0): (13.62,86.38)\n"
     ]
    },
    {
     "data": {
      "text/plain": [
       "-1    13206\n",
       " 0     9851\n",
       " 1     1553\n",
       "Name: pref1, dtype: int64"
      ]
     },
     "execution_count": 58,
     "metadata": {},
     "output_type": "execute_result"
    }
   ],
   "source": [
    "def get_pref(x):\n",
    "    if x<=2: \n",
    "        return 1\n",
    "    elif x==8: \n",
    "        return 0 \n",
    "    else:\n",
    "        return -1\n",
    "    \n",
    "jg_sg_df3['pref1']=jg_sg_df3.window.apply(get_pref)\n",
    "\n",
    "#正负样本比例\n",
    "a=jg_sg_df3[jg_sg_df3.pref1 !=-1]['pref1'].sum()*100.0/jg_sg_df3[jg_sg_df3.pref1 !=-1]['pref1'].count()\n",
    "print('train_df (1,0): ({},{})'.format(round(a,2),round(100-a,2)))\n",
    "\n",
    "jg_sg_df3['pref1'].value_counts()"
   ]
  },
  {
   "cell_type": "code",
   "execution_count": 59,
   "metadata": {
    "ExecuteTime": {
     "end_time": "2022-07-19T11:51:48.855872Z",
     "start_time": "2022-07-19T11:51:48.081060Z"
    }
   },
   "outputs": [
    {
     "name": "stdout",
     "output_type": "stream",
     "text": [
      "0    2463\n",
      "1    1553\n",
      "Name: pref1, dtype: int64\n",
      "0    9851\n",
      "1    7765\n",
      "Name: pref1, dtype: int64\n"
     ]
    }
   ],
   "source": [
    "def down_sample(df):\n",
    "    df1=df[df['pref1']==1]#正例\n",
    "    df2=df[df['pref1']==0]#负例\n",
    "    df3=df2.sample(frac=0.25)#抽负例\n",
    "    return pd.concat([df1,df3],ignore_index=True)\n",
    "\n",
    "def up_sample(df):\n",
    "    df1=df[df['pref1']==1]#正例\n",
    "    df2=df[df['pref1']==0]#负例\n",
    "    df3=pd.concat([df1,df1,df1,df1,df1],ignore_index=True)\n",
    "    return pd.concat([df2,df3],ignore_index=True)\n",
    "\n",
    "up_train_df=up_sample(jg_sg_df3)\n",
    "down_train_df=down_sample(jg_sg_df3)\n",
    "print(down_train_df['pref1'].value_counts())\n",
    "print(up_train_df['pref1'].value_counts())"
   ]
  },
  {
   "cell_type": "code",
   "execution_count": 60,
   "metadata": {
    "ExecuteTime": {
     "end_time": "2022-07-19T11:52:59.499593Z",
     "start_time": "2022-07-19T11:52:59.493245Z"
    }
   },
   "outputs": [],
   "source": [
    "col_feat=['sys_ver_transformed','brand_transformed','age_transformed','gender',\n",
    "              'SOM_OCM_CAREER_transformed',\n",
    "              'CPL_INDM_EDU_LEVEL_transformed',\n",
    "              'CPL_INDM_MARRC2_transformed',\n",
    "              'FIM_FISM_INCL_transformed',\n",
    "              'FIM_FISM_CONL_CIR_transformed',\n",
    "               'N',\n",
    "                'big_offs',\n",
    "                'APP_HOBY_SHORT_VIDEO',\n",
    "                'APP_HOBY_SUMMARY_VIDEO' ,\n",
    "                'APP_HOBY_SELF_PHOTO' ,\n",
    "                'APP_HOBY_SUNMMARY_NEWS' ,\n",
    "                'APP_HOBY_SPEED_GAME',\n",
    "                'APP_HOBY_WIFI',\n",
    "                'APP_HOBY_FOOD',\n",
    "                'APP_HOBY_RECORD',\n",
    "                'APP_HOBY_HOT_SOCIAL' ,\n",
    "                'APP_HOBY_ONLINE_STUDY' ,\n",
    "                'APP_HOBY_ZONGHE_SHOPPING' ,\n",
    "                'APP_HOBY_DISCOUNT_MARKET' ,\n",
    "                'APP_HOBY_GROUP_BUY' ,\n",
    "                'APP_HOBY_SMOTE_OFFICE',\n",
    "           \n",
    "             ]\n",
    "col_feat_old=['sys_ver_transformed','brand_transformed','age_transformed','gender',\n",
    "           \n",
    "             ]"
   ]
  },
  {
   "cell_type": "markdown",
   "metadata": {},
   "source": [
    "# 模型训练-sklearn接口"
   ]
  },
  {
   "cell_type": "code",
   "execution_count": 61,
   "metadata": {
    "ExecuteTime": {
     "end_time": "2022-07-19T11:53:01.185186Z",
     "start_time": "2022-07-19T11:53:00.192477Z"
    },
    "scrolled": true
   },
   "outputs": [
    {
     "name": "stdout",
     "output_type": "stream",
     "text": [
      "[0]\tvalidation_0-auc:0.58406\n",
      "Will train until validation_0-auc hasn't improved in 30 rounds.\n",
      "[1]\tvalidation_0-auc:0.62769\n",
      "[2]\tvalidation_0-auc:0.62576\n",
      "[3]\tvalidation_0-auc:0.61681\n",
      "[4]\tvalidation_0-auc:0.63483\n",
      "[5]\tvalidation_0-auc:0.63176\n",
      "[6]\tvalidation_0-auc:0.63032\n",
      "[7]\tvalidation_0-auc:0.63448\n",
      "[8]\tvalidation_0-auc:0.63109\n",
      "[9]\tvalidation_0-auc:0.63511\n",
      "[10]\tvalidation_0-auc:0.63251\n",
      "[11]\tvalidation_0-auc:0.63396\n",
      "[12]\tvalidation_0-auc:0.63330\n",
      "[13]\tvalidation_0-auc:0.63068\n",
      "[14]\tvalidation_0-auc:0.62869\n",
      "[15]\tvalidation_0-auc:0.62809\n",
      "[16]\tvalidation_0-auc:0.62770\n",
      "[17]\tvalidation_0-auc:0.62706\n",
      "[18]\tvalidation_0-auc:0.62688\n",
      "[19]\tvalidation_0-auc:0.62698\n",
      "[20]\tvalidation_0-auc:0.62552\n",
      "[21]\tvalidation_0-auc:0.62923\n",
      "[22]\tvalidation_0-auc:0.62946\n",
      "[23]\tvalidation_0-auc:0.62916\n",
      "[24]\tvalidation_0-auc:0.62855\n",
      "[25]\tvalidation_0-auc:0.62937\n",
      "[26]\tvalidation_0-auc:0.62946\n",
      "[27]\tvalidation_0-auc:0.62971\n",
      "[28]\tvalidation_0-auc:0.63086\n",
      "[29]\tvalidation_0-auc:0.63090\n",
      "[30]\tvalidation_0-auc:0.63118\n",
      "[31]\tvalidation_0-auc:0.63183\n",
      "[32]\tvalidation_0-auc:0.63150\n",
      "[33]\tvalidation_0-auc:0.63085\n",
      "[34]\tvalidation_0-auc:0.63081\n",
      "[35]\tvalidation_0-auc:0.62902\n",
      "[36]\tvalidation_0-auc:0.62823\n",
      "[37]\tvalidation_0-auc:0.62920\n",
      "[38]\tvalidation_0-auc:0.63038\n",
      "[39]\tvalidation_0-auc:0.63160\n",
      "Stopping. Best iteration:\n",
      "[9]\tvalidation_0-auc:0.63511\n",
      "\n",
      "Accuracy: 63.98%\n"
     ]
    }
   ],
   "source": [
    "from sklearn.model_selection import train_test_split, KFold\n",
    "from sklearn.linear_model import HuberRegressor, LinearRegression\n",
    "from sklearn.svm import SVR\n",
    "from sklearn.model_selection import GridSearchCV\n",
    "from sklearn.model_selection import learning_curve\n",
    "from sklearn.kernel_ridge import KernelRidge\n",
    "import xgboost as xgb\n",
    "from xgboost import plot_importance, XGBClassifier\n",
    "from sklearn.metrics import mean_squared_error, mean_absolute_error, accuracy_score\n",
    "def rmse(y_true, y_pred):\n",
    "    return np.sqrt(mean_squared_error(y_true, y_pred))\n",
    "\n",
    "def mape(y_true, y_pred):\n",
    "    return np.mean(np.abs((y_true - y_pred) / y_true)) * 100\n",
    "\n",
    "# temp = jg_sg_df3[jg_sg_df3.pref1 !=-1]\n",
    "# temp=up_train_df\n",
    "temp=down_train_df\n",
    "col_feat_tmp = col_feat\n",
    "\n",
    "col_ans = 'pref1'\n",
    "\n",
    "train_X,test_X,train_y,test_y =train_test_split(temp[col_feat_tmp],temp[col_ans],test_size=0.3)\n",
    "\n",
    "num_rounds = 150\n",
    "\n",
    "model = XGBClassifier(\n",
    "                    booster= 'gbtree',\n",
    "                    objective='binary:logistic',\n",
    "                    n_estimators=100,                        \n",
    "                    max_depth= 2, \n",
    "                    min_child_weight= 0,\n",
    "                    gamma= 0.20018445031538148,\n",
    "                    eta=   0.03167504749639314,\n",
    "                    seed=1000,       \n",
    "                    subsample= 0.9126042388828245,\n",
    "                    colsample_bytree=  0.6322543284811142,\n",
    "#                     scale_pos_weight=9851/462,\n",
    "                   \n",
    "                    )\n",
    "\n",
    "\n",
    "model.fit(train_X, train_y, eval_metric=[\"auc\"],eval_set=[(test_X,test_y)],early_stopping_rounds=30,verbose=True)\n",
    "\n",
    "pred = model.predict(test_X)\n",
    "pred = [round(value) for value in pred]\n",
    "\n",
    "accuracy = accuracy_score(test_y, pred)\n",
    "print(\"Accuracy: %.2f%%\" % (accuracy * 100.0))"
   ]
  },
  {
   "cell_type": "code",
   "execution_count": 66,
   "metadata": {
    "ExecuteTime": {
     "end_time": "2022-07-19T12:08:07.121143Z",
     "start_time": "2022-07-19T12:08:06.643014Z"
    }
   },
   "outputs": [
    {
     "data": {
      "text/plain": [
       "<AxesSubplot:title={'center':'Feature importance'}, xlabel='F score', ylabel='Features'>"
      ]
     },
     "execution_count": 66,
     "metadata": {},
     "output_type": "execute_result"
    },
    {
     "data": {
      "image/png": "[encoded data removed]",
      "text/plain": [
       "<Figure size 432x288 with 1 Axes>"
      ]
     },
     "metadata": {
      "needs_background": "light"
     },
     "output_type": "display_data"
    }
   ],
   "source": [
    "plot_importance(model)"
   ]
  },
  {
   "cell_type": "markdown",
   "metadata": {},
   "source": [
    "# 最优参数"
   ]
  },
  {
   "cell_type": "code",
   "execution_count": 63,
   "metadata": {
    "ExecuteTime": {
     "end_time": "2022-07-19T11:58:36.461717Z",
     "start_time": "2022-07-19T11:58:36.448913Z"
    }
   },
   "outputs": [],
   "source": [
    "from sklearn.compose import ColumnTransformer\n",
    "from sklearn.preprocessing import FunctionTransformer\n",
    "from sklearn.model_selection import cross_val_score\n",
    "from sklearn.preprocessing import OneHotEncoder\n",
    "continus_cols = ['APP_HOBY_SHORT_VIDEO',\n",
    "                'APP_HOBY_SUMMARY_VIDEO' ,\n",
    "                'APP_HOBY_SELF_PHOTO' ,\n",
    "                'APP_HOBY_SUNMMARY_NEWS' ,\n",
    "                'APP_HOBY_SPEED_GAME',\n",
    "                'APP_HOBY_WIFI',\n",
    "                'APP_HOBY_FOOD',\n",
    "                'APP_HOBY_RECORD',\n",
    "                'APP_HOBY_HOT_SOCIAL' ,\n",
    "                'APP_HOBY_ONLINE_STUDY' ,\n",
    "                'APP_HOBY_ZONGHE_SHOPPING' ,\n",
    "                'APP_HOBY_DISCOUNT_MARKET' ,\n",
    "                'APP_HOBY_GROUP_BUY' ,\n",
    "                'APP_HOBY_SMOTE_OFFICE',  \n",
    "               ]\n",
    "\n",
    "category_cols = [\"gender\", \"age_transformed\", 'sys_ver_transformed', 'brand_transformed',\n",
    "                 \"SOM_OCM_CAREER_transformed\",\n",
    "                 \"CPL_INDM_EDU_LEVEL_transformed\",\n",
    "                 \"CPL_INDM_MARRC2_transformed\",    \n",
    "                 \"FIM_FISM_INCL_transformed\", \n",
    "                 'FIM_FISM_CONL_CIR_transformed',\n",
    "                  'N',\n",
    "                 'big_offs',\n",
    "                  ]\n",
    "preprocessor = ColumnTransformer(\n",
    "                 transformers=[\n",
    "#                      (\"none\", FunctionTransformer(lambda x: x), continus_cols), \n",
    "                    (\"onehot\", OneHotEncoder(handle_unknown='ignore'), category_cols)\n",
    "                    ])\n",
    "\n",
    "# train = preprocessor.fit_transform(jg_sg_df3[category_cols])\n",
    "train_y = jg_sg_df3['pref'].tolist()"
   ]
  },
  {
   "cell_type": "code",
   "execution_count": 62,
   "metadata": {
    "ExecuteTime": {
     "end_time": "2022-07-19T11:58:25.547615Z",
     "start_time": "2022-07-19T11:58:25.537442Z"
    }
   },
   "outputs": [
    {
     "data": {
      "text/plain": [
       "0    17596\n",
       "1     7014\n",
       "Name: pref, dtype: int64"
      ]
     },
     "execution_count": 62,
     "metadata": {},
     "output_type": "execute_result"
    }
   ],
   "source": [
    "jg_sg_df3.pref.value_counts()"
   ]
  },
  {
   "cell_type": "code",
   "execution_count": 70,
   "metadata": {
    "ExecuteTime": {
     "end_time": "2022-07-19T12:22:33.787187Z",
     "start_time": "2022-07-19T12:21:42.785202Z"
    }
   },
   "outputs": [
    {
     "name": "stdout",
     "output_type": "stream",
     "text": [
      "******************************                        \n",
      "{'colsample_bytree': 0.6720943822491531, 'gamma': 0.2833000657548488, 'learning_rate': 0.025831969553763084, 'max_depth': 5, 'min_child_weight': 2, 'n_estimators': 130.0, 'subsample': 0.7032536761833335}\n",
      "roc_auc: 0.637692018547696                            \n",
      "******************************                                                   \n",
      "{'colsample_bytree': 0.6872167942457889, 'gamma': 0.10985698398405576, 'learning_rate': 0.015358251276412268, 'max_depth': 4, 'min_child_weight': 0, 'n_estimators': 110.0, 'subsample': 0.8313871378093683}\n",
      "roc_auc: 0.6423994749766415                                                      \n",
      "******************************                                                   \n",
      "{'colsample_bytree': 0.628226941831726, 'gamma': 0.11188859071935249, 'learning_rate': 0.2706206103763145, 'max_depth': 4, 'min_child_weight': 0, 'n_estimators': 120.0, 'subsample': 0.9713007113633623}\n",
      "roc_auc: 0.5867532979632184                                                     \n",
      "******************************                                                  \n",
      "{'colsample_bytree': 0.9114929801571883, 'gamma': 0.028754887940775062, 'learning_rate': 0.1250690182894812, 'max_depth': 3, 'min_child_weight': 2, 'n_estimators': 200.0, 'subsample': 0.9433940233171063}\n",
      "roc_auc: 0.6038038762985002                                                     \n",
      "******************************                                                  \n",
      "{'colsample_bytree': 0.6893173840303698, 'gamma': 0.11655833439385983, 'learning_rate': 0.2532806253613046, 'max_depth': 5, 'min_child_weight': 0, 'n_estimators': 180.0, 'subsample': 0.8248483488205567}\n",
      "roc_auc: 0.5895917257258368                                                     \n",
      "******************************                                                  \n",
      "{'colsample_bytree': 0.6385304504099353, 'gamma': 0.07149560199756914, 'learning_rate': 0.10437391616130634, 'max_depth': 5, 'min_child_weight': 2, 'n_estimators': 100.0, 'subsample': 0.8215579166626377}\n",
      "roc_auc: 0.6068734459030243                                                     \n",
      "******************************                                                  \n",
      "{'colsample_bytree': 0.6784482743853895, 'gamma': 0.21094652814122217, 'learning_rate': 0.07737853475751978, 'max_depth': 3, 'min_child_weight': 1, 'n_estimators': 140.0, 'subsample': 0.8232032858796678}\n",
      "roc_auc: 0.6243947444588321                                                     \n",
      "******************************                                                  \n",
      "{'colsample_bytree': 0.9580357843839491, 'gamma': 0.16810492481398792, 'learning_rate': 0.07235012019396285, 'max_depth': 5, 'min_child_weight': 4, 'n_estimators': 150.0, 'subsample': 0.8482266823923523}\n",
      "roc_auc: 0.6157951043207819                                                     \n",
      "******************************                                                  \n",
      "{'colsample_bytree': 0.6781815190300085, 'gamma': 0.2409365282324602, 'learning_rate': 0.06660653469878329, 'max_depth': 3, 'min_child_weight': 0, 'n_estimators': 180.0, 'subsample': 0.8263396976163236}\n",
      "roc_auc: 0.6242163566240297                                                     \n",
      "******************************                                                  \n",
      "{'colsample_bytree': 0.7659197123664003, 'gamma': 0.1089757216711062, 'learning_rate': 0.25325439514852705, 'max_depth': 4, 'min_child_weight': 2, 'n_estimators': 110.0, 'subsample': 0.6089264764574384}\n",
      "roc_auc: 0.5801075182466955                                                     \n",
      "******************************                                                   \n",
      "{'colsample_bytree': 0.9220776796974659, 'gamma': 0.051270183926970934, 'learning_rate': 0.27992808132007485, 'max_depth': 4, 'min_child_weight': 1, 'n_estimators': 160.0, 'subsample': 0.9912422861841084}\n",
      "roc_auc: 0.5807421185466686                                                      \n",
      "******************************                                                   \n",
      "{'colsample_bytree': 0.6070641421206031, 'gamma': 0.14639804050247313, 'learning_rate': 0.1506596403871605, 'max_depth': 2, 'min_child_weight': 3, 'n_estimators': 150.0, 'subsample': 0.9972689130138781}\n",
      "roc_auc: 0.6073183887095565                                                      \n",
      "******************************                                                   \n",
      "{'colsample_bytree': 0.6747178798946725, 'gamma': 0.2590271972908536, 'learning_rate': 0.23545943855142487, 'max_depth': 5, 'min_child_weight': 1, 'n_estimators': 140.0, 'subsample': 0.741168451400234}\n",
      "roc_auc: 0.5845252286023901                                                      \n",
      "******************************                                                   \n",
      "{'colsample_bytree': 0.8886288087325157, 'gamma': 0.07139359543095572, 'learning_rate': 0.20831676613809322, 'max_depth': 5, 'min_child_weight': 0, 'n_estimators': 190.0, 'subsample': 0.8956678268411462}\n",
      "roc_auc: 0.5824645904236923                                                      \n",
      "******************************                                                   \n",
      "{'colsample_bytree': 0.6776881163603874, 'gamma': 0.1609819630050365, 'learning_rate': 0.22778378243119643, 'max_depth': 5, 'min_child_weight': 1, 'n_estimators': 160.0, 'subsample': 0.7501555993226531}\n",
      "roc_auc: 0.582263115586369                                                       \n",
      "******************************                                                   \n",
      "{'colsample_bytree': 0.8684619529156636, 'gamma': 0.14895189959664473, 'learning_rate': 0.00422451544616313, 'max_depth': 2, 'min_child_weight': 4, 'n_estimators': 190.0, 'subsample': 0.7692897654974017}\n",
      "roc_auc: 0.6447017394891531                                                      \n",
      "******************************                                                   \n",
      "{'colsample_bytree': 0.8167240985906967, 'gamma': 0.24726606090635064, 'learning_rate': 0.2579228762927049, 'max_depth': 4, 'min_child_weight': 2, 'n_estimators': 160.0, 'subsample': 0.6406329085222923}\n",
      "roc_auc: 0.5781728537860421                                                      \n",
      "******************************                                                   \n",
      "{'colsample_bytree': 0.9676255947945871, 'gamma': 0.12491849849569087, 'learning_rate': 0.23144180054242908, 'max_depth': 5, 'min_child_weight': 4, 'n_estimators': 110.0, 'subsample': 0.8991076003183065}\n",
      "roc_auc: 0.5883900346648157                                                      \n",
      "******************************                                                   \n",
      "{'colsample_bytree': 0.6766646423409172, 'gamma': 0.003912442526563209, 'learning_rate': 0.16717255921796786, 'max_depth': 3, 'min_child_weight': 3, 'n_estimators': 160.0, 'subsample': 0.6150877899781556}\n",
      "roc_auc: 0.5896312402280852                                                      \n",
      "******************************                                                   \n",
      "{'colsample_bytree': 0.989358075834995, 'gamma': 0.2630934896555321, 'learning_rate': 0.2830775231525261, 'max_depth': 3, 'min_child_weight': 3, 'n_estimators': 140.0, 'subsample': 0.9873855674563485}\n",
      "roc_auc: 0.5788377633505356                                                      \n",
      "100%|██████████| 20/20 [00:50<00:00,  2.54s/trial, best loss: 0.3552982605108469]\n",
      "最佳参数\n"
     ]
    },
    {
     "ename": "NameError",
     "evalue": "name 'Eprint' is not defined",
     "output_type": "error",
     "traceback": [
      "\u001b[0;31m---------------------------------------------------------------------------\u001b[0m",
      "\u001b[0;31mNameError\u001b[0m                                 Traceback (most recent call last)",
      "\u001b[0;32m<ipython-input-70-b857a6ddc2f4>\u001b[0m in \u001b[0;36m<module>\u001b[0;34m\u001b[0m\n\u001b[1;32m     46\u001b[0m \u001b[0;34m\u001b[0m\u001b[0m\n\u001b[1;32m     47\u001b[0m \u001b[0mprint\u001b[0m\u001b[0;34m(\u001b[0m\u001b[0;34m\"最佳参数\"\u001b[0m\u001b[0;34m)\u001b[0m\u001b[0;34m\u001b[0m\u001b[0;34m\u001b[0m\u001b[0m\n\u001b[0;32m---> 48\u001b[0;31m \u001b[0mEprint\u001b[0m\u001b[0;34m(\u001b[0m\u001b[0mbest\u001b[0m\u001b[0;34m,\u001b[0m\u001b[0;34m\"roc_auc: {}\"\u001b[0m\u001b[0;34m.\u001b[0m\u001b[0mformat\u001b[0m\u001b[0;34m(\u001b[0m\u001b[0mmax\u001b[0m\u001b[0;34m(\u001b[0m\u001b[0mauc_list\u001b[0m\u001b[0;34m)\u001b[0m\u001b[0;34m)\u001b[0m\u001b[0;34m)\u001b[0m\u001b[0;34m\u001b[0m\u001b[0;34m\u001b[0m\u001b[0m\n\u001b[0m",
      "\u001b[0;31mNameError\u001b[0m: name 'Eprint' is not defined"
     ]
    }
   ],
   "source": [
    "# feat=jg_sg_df3[jg_sg_df3.pref1 != -1][category_cols+continus_cols]\n",
    "# feat_y=jg_sg_df3[jg_sg_df3.pref1 != -1]['pref1']\n",
    "# feat=up_train_df[category_cols+continus_cols]\n",
    "feat=jg_sg_df3[jg_sg_df3.pref1!=-1][category_cols+continus_cols]\n",
    "feat_y=jg_sg_df3[jg_sg_df3.pref1!=-1]['pref1']\n",
    "import hyperopt \n",
    "auc_list=[]\n",
    "def hyperopt_objective(params):\n",
    "    \n",
    "\n",
    "    model = XGBClassifier(\n",
    "        objective= 'binary:logistic',\n",
    "        max_depth=int(params['max_depth']) + 3,\n",
    "        learning_rate=params['learning_rate'],\n",
    "        n_estimators=int(params['n_estimators']),\n",
    "        min_child_weight=int(params['min_child_weight']),\n",
    "        subsample=params[\"subsample\"],\n",
    "        colsample_bytree=params[\"colsample_bytree\"],\n",
    "        gamma=params[\"gamma\"]\n",
    "\n",
    "    )\n",
    "     \n",
    "    res = np.mean(cross_val_score(model,feat, feat_y, cv=5, n_jobs=-1, scoring='roc_auc'))\n",
    "    print(\"*\" * 30)\n",
    "    print(params)\n",
    "    print(\"roc_auc: {}\".format(res))\n",
    "    auc_list.append(res)\n",
    "    return 1 - res\n",
    "params_space = {\n",
    "\n",
    "    'max_depth': hyperopt.hp.randint('max_depth', 2,6),\n",
    "    'learning_rate': hyperopt.hp.uniform('learning_rate', 1e-3, 3e-1),\n",
    "    'n_estimators': hyperopt.hp.quniform(\"n_estimators\", 100, 200, 10),\n",
    "    'min_child_weight': hyperopt.hp.randint('min_child_weight', 5),\n",
    "    'subsample': hyperopt.hp.uniform('subsample', 0.6, 1),\n",
    "    'colsample_bytree': hyperopt.hp.uniform('colsample_bytree', 0.6, 1),\n",
    "    'gamma': hyperopt.hp.uniform('gamma', 0, 0.3)\n",
    "}\n",
    "trials = hyperopt.Trials()\n",
    "best = hyperopt.fmin(\n",
    "    hyperopt_objective,\n",
    "    space=params_space,\n",
    "    algo=hyperopt.tpe.suggest,\n",
    "    max_evals=20,    #100\n",
    "    trials=trials)\n",
    "\n",
    "print(\"最佳参数\")\n",
    "Eprint(best,\"roc_auc: {}\".format(max(auc_list)))"
   ]
  },
  {
   "cell_type": "markdown",
   "metadata": {},
   "source": [
    "# 原生接口"
   ]
  },
  {
   "cell_type": "code",
   "execution_count": 69,
   "metadata": {
    "ExecuteTime": {
     "end_time": "2022-07-19T12:21:24.904808Z",
     "start_time": "2022-07-19T12:21:23.722357Z"
    }
   },
   "outputs": [
    {
     "name": "stdout",
     "output_type": "stream",
     "text": [
      "[0]\teval-auc:0.55992\ttrain-auc:0.58519\n",
      "Multiple eval metrics have been passed: 'train-auc' will be used for early stopping.\n",
      "\n",
      "Will train until train-auc hasn't improved in 20 rounds.\n",
      "[1]\teval-auc:0.59393\ttrain-auc:0.61228\n",
      "[2]\teval-auc:0.59777\ttrain-auc:0.61252\n",
      "[3]\teval-auc:0.60139\ttrain-auc:0.61392\n",
      "[4]\teval-auc:0.62338\ttrain-auc:0.64253\n",
      "[5]\teval-auc:0.62638\ttrain-auc:0.64221\n",
      "[6]\teval-auc:0.63318\ttrain-auc:0.65001\n",
      "[7]\teval-auc:0.63385\ttrain-auc:0.65144\n",
      "[8]\teval-auc:0.63411\ttrain-auc:0.65193\n",
      "[9]\teval-auc:0.63256\ttrain-auc:0.65169\n",
      "[10]\teval-auc:0.63468\ttrain-auc:0.65202\n",
      "[11]\teval-auc:0.63435\ttrain-auc:0.65191\n",
      "[12]\teval-auc:0.63487\ttrain-auc:0.65259\n",
      "[13]\teval-auc:0.63719\ttrain-auc:0.65238\n",
      "[14]\teval-auc:0.63610\ttrain-auc:0.65196\n",
      "[15]\teval-auc:0.63740\ttrain-auc:0.65270\n",
      "[16]\teval-auc:0.63828\ttrain-auc:0.65224\n",
      "[17]\teval-auc:0.63833\ttrain-auc:0.65227\n",
      "[18]\teval-auc:0.64031\ttrain-auc:0.65510\n",
      "[19]\teval-auc:0.63907\ttrain-auc:0.65557\n",
      "[20]\teval-auc:0.63792\ttrain-auc:0.65551\n",
      "[21]\teval-auc:0.63732\ttrain-auc:0.65529\n",
      "[22]\teval-auc:0.63694\ttrain-auc:0.65510\n",
      "[23]\teval-auc:0.63782\ttrain-auc:0.65641\n",
      "[24]\teval-auc:0.63792\ttrain-auc:0.65720\n",
      "[25]\teval-auc:0.63726\ttrain-auc:0.65729\n",
      "[26]\teval-auc:0.63694\ttrain-auc:0.65719\n",
      "[27]\teval-auc:0.63615\ttrain-auc:0.65712\n",
      "[28]\teval-auc:0.63611\ttrain-auc:0.65683\n",
      "[29]\teval-auc:0.63718\ttrain-auc:0.65728\n",
      "[30]\teval-auc:0.63693\ttrain-auc:0.65729\n",
      "[31]\teval-auc:0.63837\ttrain-auc:0.65733\n",
      "[32]\teval-auc:0.63828\ttrain-auc:0.65703\n",
      "[33]\teval-auc:0.63769\ttrain-auc:0.65694\n",
      "[34]\teval-auc:0.63820\ttrain-auc:0.65799\n",
      "[35]\teval-auc:0.63779\ttrain-auc:0.65834\n",
      "[36]\teval-auc:0.63743\ttrain-auc:0.65914\n",
      "[37]\teval-auc:0.63655\ttrain-auc:0.65887\n",
      "[38]\teval-auc:0.63590\ttrain-auc:0.65851\n",
      "[39]\teval-auc:0.63571\ttrain-auc:0.65788\n",
      "[40]\teval-auc:0.63560\ttrain-auc:0.65750\n",
      "[41]\teval-auc:0.63606\ttrain-auc:0.65753\n",
      "[42]\teval-auc:0.63573\ttrain-auc:0.65678\n",
      "[43]\teval-auc:0.63553\ttrain-auc:0.65647\n",
      "[44]\teval-auc:0.63680\ttrain-auc:0.65737\n",
      "[45]\teval-auc:0.63611\ttrain-auc:0.65690\n",
      "[46]\teval-auc:0.63590\ttrain-auc:0.65623\n",
      "[47]\teval-auc:0.63562\ttrain-auc:0.65746\n",
      "[48]\teval-auc:0.63597\ttrain-auc:0.65904\n",
      "[49]\teval-auc:0.63606\ttrain-auc:0.65868\n",
      "[50]\teval-auc:0.63607\ttrain-auc:0.65828\n",
      "[51]\teval-auc:0.63635\ttrain-auc:0.65874\n",
      "[52]\teval-auc:0.63684\ttrain-auc:0.66011\n",
      "[53]\teval-auc:0.63687\ttrain-auc:0.65983\n",
      "[54]\teval-auc:0.63677\ttrain-auc:0.65964\n",
      "[55]\teval-auc:0.63656\ttrain-auc:0.65954\n",
      "[56]\teval-auc:0.63768\ttrain-auc:0.65979\n",
      "[57]\teval-auc:0.63722\ttrain-auc:0.65949\n",
      "[58]\teval-auc:0.63788\ttrain-auc:0.65980\n",
      "[59]\teval-auc:0.63778\ttrain-auc:0.65953\n",
      "[60]\teval-auc:0.63820\ttrain-auc:0.65987\n",
      "[61]\teval-auc:0.63784\ttrain-auc:0.65996\n",
      "[62]\teval-auc:0.63803\ttrain-auc:0.66005\n",
      "[63]\teval-auc:0.63783\ttrain-auc:0.65989\n",
      "[64]\teval-auc:0.63825\ttrain-auc:0.66024\n",
      "[65]\teval-auc:0.63876\ttrain-auc:0.66030\n",
      "[66]\teval-auc:0.63859\ttrain-auc:0.66012\n",
      "[67]\teval-auc:0.63876\ttrain-auc:0.66083\n",
      "[68]\teval-auc:0.63850\ttrain-auc:0.66080\n",
      "[69]\teval-auc:0.63836\ttrain-auc:0.66072\n",
      "[70]\teval-auc:0.63861\ttrain-auc:0.66116\n",
      "[71]\teval-auc:0.63845\ttrain-auc:0.66100\n",
      "[72]\teval-auc:0.63844\ttrain-auc:0.66077\n",
      "[73]\teval-auc:0.63857\ttrain-auc:0.66160\n",
      "[74]\teval-auc:0.63907\ttrain-auc:0.66173\n",
      "[75]\teval-auc:0.63907\ttrain-auc:0.66211\n",
      "[76]\teval-auc:0.63873\ttrain-auc:0.66194\n",
      "[77]\teval-auc:0.63861\ttrain-auc:0.66169\n",
      "[78]\teval-auc:0.63883\ttrain-auc:0.66186\n",
      "[79]\teval-auc:0.63946\ttrain-auc:0.66201\n",
      "[80]\teval-auc:0.63933\ttrain-auc:0.66195\n",
      "[81]\teval-auc:0.63910\ttrain-auc:0.66179\n",
      "[82]\teval-auc:0.63902\ttrain-auc:0.66171\n",
      "[83]\teval-auc:0.63866\ttrain-auc:0.66178\n",
      "[84]\teval-auc:0.63898\ttrain-auc:0.66174\n",
      "[85]\teval-auc:0.63953\ttrain-auc:0.66207\n",
      "[86]\teval-auc:0.63990\ttrain-auc:0.66246\n",
      "[87]\teval-auc:0.64024\ttrain-auc:0.66325\n",
      "[88]\teval-auc:0.64043\ttrain-auc:0.66376\n",
      "[89]\teval-auc:0.64007\ttrain-auc:0.66381\n",
      "[90]\teval-auc:0.64040\ttrain-auc:0.66404\n",
      "[91]\teval-auc:0.64049\ttrain-auc:0.66395\n",
      "[92]\teval-auc:0.64038\ttrain-auc:0.66400\n",
      "[93]\teval-auc:0.64020\ttrain-auc:0.66382\n",
      "[94]\teval-auc:0.64010\ttrain-auc:0.66410\n",
      "[95]\teval-auc:0.63997\ttrain-auc:0.66446\n",
      "[96]\teval-auc:0.63988\ttrain-auc:0.66487\n",
      "[97]\teval-auc:0.63993\ttrain-auc:0.66470\n",
      "[98]\teval-auc:0.64003\ttrain-auc:0.66454\n",
      "[99]\teval-auc:0.64031\ttrain-auc:0.66465\n",
      "[100]\teval-auc:0.64057\ttrain-auc:0.66491\n",
      "[101]\teval-auc:0.64065\ttrain-auc:0.66547\n",
      "[102]\teval-auc:0.64053\ttrain-auc:0.66551\n",
      "[103]\teval-auc:0.64067\ttrain-auc:0.66609\n",
      "[104]\teval-auc:0.64045\ttrain-auc:0.66635\n",
      "[105]\teval-auc:0.64046\ttrain-auc:0.66617\n",
      "[106]\teval-auc:0.64065\ttrain-auc:0.66631\n",
      "[107]\teval-auc:0.64072\ttrain-auc:0.66620\n",
      "[108]\teval-auc:0.64078\ttrain-auc:0.66623\n",
      "[109]\teval-auc:0.64087\ttrain-auc:0.66674\n",
      "[110]\teval-auc:0.64116\ttrain-auc:0.66733\n",
      "[111]\teval-auc:0.64114\ttrain-auc:0.66785\n",
      "[112]\teval-auc:0.64124\ttrain-auc:0.66807\n",
      "[113]\teval-auc:0.64160\ttrain-auc:0.66819\n",
      "[114]\teval-auc:0.64208\ttrain-auc:0.66832\n",
      "[115]\teval-auc:0.64172\ttrain-auc:0.66819\n",
      "[116]\teval-auc:0.64168\ttrain-auc:0.66855\n",
      "[117]\teval-auc:0.64161\ttrain-auc:0.66897\n",
      "[118]\teval-auc:0.64167\ttrain-auc:0.66944\n",
      "[119]\teval-auc:0.64193\ttrain-auc:0.66985\n",
      "[120]\teval-auc:0.64237\ttrain-auc:0.67001\n",
      "[121]\teval-auc:0.64221\ttrain-auc:0.66982\n",
      "[122]\teval-auc:0.64269\ttrain-auc:0.66995\n",
      "[123]\teval-auc:0.64289\ttrain-auc:0.66980\n",
      "[124]\teval-auc:0.64274\ttrain-auc:0.66977\n",
      "[125]\teval-auc:0.64281\ttrain-auc:0.67038\n",
      "[126]\teval-auc:0.64279\ttrain-auc:0.67077\n",
      "[127]\teval-auc:0.64285\ttrain-auc:0.67096\n",
      "[128]\teval-auc:0.64270\ttrain-auc:0.67155\n",
      "[129]\teval-auc:0.64273\ttrain-auc:0.67167\n",
      "[130]\teval-auc:0.64255\ttrain-auc:0.67151\n",
      "[131]\teval-auc:0.64278\ttrain-auc:0.67171\n",
      "[132]\teval-auc:0.64223\ttrain-auc:0.67183\n",
      "[133]\teval-auc:0.64263\ttrain-auc:0.67202\n",
      "[134]\teval-auc:0.64275\ttrain-auc:0.67206\n",
      "[135]\teval-auc:0.64298\ttrain-auc:0.67227\n",
      "[136]\teval-auc:0.64323\ttrain-auc:0.67255\n",
      "[137]\teval-auc:0.64392\ttrain-auc:0.67257\n",
      "[138]\teval-auc:0.64353\ttrain-auc:0.67246\n",
      "[139]\teval-auc:0.64397\ttrain-auc:0.67303\n",
      "[140]\teval-auc:0.64438\ttrain-auc:0.67351\n",
      "[141]\teval-auc:0.64427\ttrain-auc:0.67381\n",
      "[142]\teval-auc:0.64445\ttrain-auc:0.67416\n",
      "[143]\teval-auc:0.64442\ttrain-auc:0.67404\n",
      "[144]\teval-auc:0.64432\ttrain-auc:0.67391\n",
      "[145]\teval-auc:0.64463\ttrain-auc:0.67437\n",
      "[146]\teval-auc:0.64455\ttrain-auc:0.67433\n",
      "[147]\teval-auc:0.64462\ttrain-auc:0.67461\n",
      "[148]\teval-auc:0.64495\ttrain-auc:0.67505\n",
      "[149]\teval-auc:0.64489\ttrain-auc:0.67548\n",
      "accuarcy:85.91%\n"
     ]
    },
    {
     "data": {
      "text/plain": [
       "<AxesSubplot:title={'center':'Feature importance'}, xlabel='F score', ylabel='Features'>"
      ]
     },
     "execution_count": 69,
     "metadata": {},
     "output_type": "execute_result"
    },
    {
     "data": {
      "image/png": "[encoded data removed]",
      "text/plain": [
       "<Figure size 432x288 with 1 Axes>"
      ]
     },
     "metadata": {
      "needs_background": "light"
     },
     "output_type": "display_data"
    }
   ],
   "source": [
    "from sklearn.model_selection import train_test_split, KFold\n",
    "from sklearn.linear_model import HuberRegressor, LinearRegression\n",
    "from sklearn.svm import SVR\n",
    "from sklearn.model_selection import GridSearchCV\n",
    "from sklearn.model_selection import learning_curve\n",
    "from sklearn.kernel_ridge import KernelRidge\n",
    "import xgboost as xgb\n",
    "from xgboost import plot_importance, XGBClassifier\n",
    "from sklearn.metrics import mean_squared_error, mean_absolute_error, accuracy_score\n",
    "def rmse(y_true, y_pred):\n",
    "    return np.sqrt(mean_squared_error(y_true, y_pred))\n",
    "\n",
    "def mape(y_true, y_pred):\n",
    "    return np.mean(np.abs((y_true - y_pred) / y_true)) * 100\n",
    "temp=jg_sg_df3[jg_sg_df3.pref1 != -1]\n",
    "# temp=up_train_df\n",
    "\n",
    "# temp=down_train_df\n",
    "\n",
    "col_feature = col_feat\n",
    "\n",
    "col_label = 'pref1'\n",
    "\n",
    "train_X,test_X,train_y,test_y =train_test_split(temp[col_feature],temp[col_label],test_size=0.3)\n",
    "\n",
    "params = {\n",
    "    'booster': 'gbtree',                           #使用不同的booster\n",
    "    'objective': 'binary:logistic', \n",
    "        'gamma': 0.2809160558434579,               #默认0，min_split_loss 树的叶节点进一步分区所需最小损失 [0,∞]\n",
    "    'max_depth': 2,                                #默认6 一棵树的最大深度，越大越易过拟合   [0,∞]\n",
    "#         'reg_lambda': 10,                        #默认1 L2正则项，越大模型越保守\n",
    "    'subsample':0.7383894518908453,                #默认1 训练实例的子样本比例  0.5意味着XGBoost将在树木生长之前随机采样一半的训练数据,可防止过拟合 (0,1]\n",
    "    'colsample_bytree': 0.6506463468023698,        #默认1 用于列二次采样的参数  (0,1]\n",
    "    'min_child_weight': 3,                         #默认1 子级中实例重量的最小总和（hessian）。越大算法将越保守。 [0,∞]\n",
    "    'eta': 0.021399381907086172,                  #默认0.3 学习率   [0,1]\n",
    "    'seed': 1000,\n",
    "    'nthread': 4,\n",
    "#     'scale_pos_weight':17596/7014,\n",
    "     'eval_metric':['auc'],\n",
    "}\n",
    "\n",
    "dtrain = xgb.DMatrix(train_X, train_y)\n",
    "dtest = xgb.DMatrix(test_X, test_y)\n",
    "num_rounds = 150\n",
    "model=xgb.train(params, dtrain, num_rounds, [(dtest, 'eval'), (dtrain,'train')],early_stopping_rounds=20)\n",
    "\n",
    "# 对测试集进行预测\n",
    "dtest = xgb.DMatrix(test_X)\n",
    "y_pred = model.predict(dtest)\n",
    "y_pred = [round(value) for value in y_pred]\n",
    " \n",
    "# 计算准确率\n",
    "accuracy = accuracy_score(test_y,y_pred)\n",
    "print('accuarcy:%.2f%%'%(accuracy*100))\n",
    " \n",
    "# 显示重要特征\n",
    "plot_importance(model)\n"
   ]
  },
  {
   "cell_type": "markdown",
   "metadata": {},
   "source": [
    "# lightgbm"
   ]
  },
  {
   "cell_type": "code",
   "execution_count": 67,
   "metadata": {
    "ExecuteTime": {
     "end_time": "2022-07-19T12:09:36.305240Z",
     "start_time": "2022-07-19T12:09:31.878578Z"
    }
   },
   "outputs": [
    {
     "name": "stdout",
     "output_type": "stream",
     "text": [
      "fold 1\n",
      "Training until validation scores don't improve for 60 rounds\n",
      "[5]\ttraining's auc: 0.653381\tvalid_1's auc: 0.568119\n",
      "[10]\ttraining's auc: 0.666066\tvalid_1's auc: 0.577874\n",
      "[15]\ttraining's auc: 0.674283\tvalid_1's auc: 0.580732\n",
      "[20]\ttraining's auc: 0.684004\tvalid_1's auc: 0.58221\n",
      "[25]\ttraining's auc: 0.692556\tvalid_1's auc: 0.584596\n",
      "[30]\ttraining's auc: 0.701149\tvalid_1's auc: 0.586543\n",
      "[35]\ttraining's auc: 0.707539\tvalid_1's auc: 0.586054\n",
      "[40]\ttraining's auc: 0.713427\tvalid_1's auc: 0.586298\n",
      "[45]\ttraining's auc: 0.719762\tvalid_1's auc: 0.586997\n",
      "[50]\ttraining's auc: 0.725718\tvalid_1's auc: 0.587762\n",
      "[55]\ttraining's auc: 0.732831\tvalid_1's auc: 0.587544\n",
      "[60]\ttraining's auc: 0.737875\tvalid_1's auc: 0.587689\n",
      "[65]\ttraining's auc: 0.743527\tvalid_1's auc: 0.587317\n",
      "[70]\ttraining's auc: 0.749155\tvalid_1's auc: 0.587389\n",
      "[75]\ttraining's auc: 0.754785\tvalid_1's auc: 0.586453\n",
      "[80]\ttraining's auc: 0.760318\tvalid_1's auc: 0.585809\n",
      "[85]\ttraining's auc: 0.76706\tvalid_1's auc: 0.584394\n",
      "[90]\ttraining's auc: 0.772182\tvalid_1's auc: 0.584444\n",
      "[95]\ttraining's auc: 0.776848\tvalid_1's auc: 0.584233\n",
      "[100]\ttraining's auc: 0.782653\tvalid_1's auc: 0.583804\n",
      "Did not meet early stopping. Best iteration is:\n",
      "[100]\ttraining's auc: 0.782653\tvalid_1's auc: 0.583804\n",
      "fold 2\n",
      "Training until validation scores don't improve for 60 rounds\n",
      "[5]\ttraining's auc: 0.65719\tvalid_1's auc: 0.562133\n",
      "[10]\ttraining's auc: 0.673618\tvalid_1's auc: 0.568935\n",
      "[15]\ttraining's auc: 0.677713\tvalid_1's auc: 0.57098\n",
      "[20]\ttraining's auc: 0.686563\tvalid_1's auc: 0.572475\n",
      "[25]\ttraining's auc: 0.693516\tvalid_1's auc: 0.57273\n",
      "[30]\ttraining's auc: 0.701783\tvalid_1's auc: 0.57284\n",
      "[35]\ttraining's auc: 0.706863\tvalid_1's auc: 0.571082\n",
      "[40]\ttraining's auc: 0.713105\tvalid_1's auc: 0.571656\n",
      "[45]\ttraining's auc: 0.718884\tvalid_1's auc: 0.571773\n",
      "[50]\ttraining's auc: 0.72463\tvalid_1's auc: 0.573215\n",
      "[55]\ttraining's auc: 0.731414\tvalid_1's auc: 0.574192\n",
      "[60]\ttraining's auc: 0.737122\tvalid_1's auc: 0.574192\n",
      "[65]\ttraining's auc: 0.742848\tvalid_1's auc: 0.573497\n",
      "[70]\ttraining's auc: 0.749559\tvalid_1's auc: 0.573244\n",
      "[75]\ttraining's auc: 0.756279\tvalid_1's auc: 0.57286\n",
      "[80]\ttraining's auc: 0.761794\tvalid_1's auc: 0.571198\n",
      "[85]\ttraining's auc: 0.766575\tvalid_1's auc: 0.571042\n",
      "[90]\ttraining's auc: 0.772018\tvalid_1's auc: 0.571428\n",
      "[95]\ttraining's auc: 0.776838\tvalid_1's auc: 0.571507\n",
      "[100]\ttraining's auc: 0.782099\tvalid_1's auc: 0.571653\n",
      "Did not meet early stopping. Best iteration is:\n",
      "[100]\ttraining's auc: 0.782099\tvalid_1's auc: 0.571653\n",
      "fold 3\n",
      "Training until validation scores don't improve for 60 rounds\n",
      "[5]\ttraining's auc: 0.652733\tvalid_1's auc: 0.585102\n",
      "[10]\ttraining's auc: 0.670003\tvalid_1's auc: 0.593817\n",
      "[15]\ttraining's auc: 0.678687\tvalid_1's auc: 0.595727\n",
      "[20]\ttraining's auc: 0.68669\tvalid_1's auc: 0.596676\n",
      "[25]\ttraining's auc: 0.6949\tvalid_1's auc: 0.5971\n",
      "[30]\ttraining's auc: 0.702549\tvalid_1's auc: 0.595745\n",
      "[35]\ttraining's auc: 0.709422\tvalid_1's auc: 0.595403\n",
      "[40]\ttraining's auc: 0.716923\tvalid_1's auc: 0.595676\n",
      "[45]\ttraining's auc: 0.722839\tvalid_1's auc: 0.59457\n",
      "[50]\ttraining's auc: 0.728722\tvalid_1's auc: 0.594862\n",
      "[55]\ttraining's auc: 0.735905\tvalid_1's auc: 0.595492\n",
      "[60]\ttraining's auc: 0.742131\tvalid_1's auc: 0.595377\n",
      "[65]\ttraining's auc: 0.748078\tvalid_1's auc: 0.594853\n",
      "[70]\ttraining's auc: 0.753802\tvalid_1's auc: 0.594456\n",
      "[75]\ttraining's auc: 0.760661\tvalid_1's auc: 0.593666\n",
      "[80]\ttraining's auc: 0.76696\tvalid_1's auc: 0.593121\n",
      "Early stopping, best iteration is:\n",
      "[23]\ttraining's auc: 0.690481\tvalid_1's auc: 0.598087\n",
      "fold 4\n",
      "Training until validation scores don't improve for 60 rounds\n",
      "[5]\ttraining's auc: 0.659208\tvalid_1's auc: 0.5868\n",
      "[10]\ttraining's auc: 0.668268\tvalid_1's auc: 0.586497\n",
      "[15]\ttraining's auc: 0.674869\tvalid_1's auc: 0.589349\n",
      "[20]\ttraining's auc: 0.68514\tvalid_1's auc: 0.588715\n",
      "[25]\ttraining's auc: 0.693714\tvalid_1's auc: 0.58627\n",
      "[30]\ttraining's auc: 0.701663\tvalid_1's auc: 0.58585\n",
      "[35]\ttraining's auc: 0.706528\tvalid_1's auc: 0.585476\n",
      "[40]\ttraining's auc: 0.711831\tvalid_1's auc: 0.586764\n",
      "[45]\ttraining's auc: 0.718138\tvalid_1's auc: 0.585542\n",
      "[50]\ttraining's auc: 0.723011\tvalid_1's auc: 0.585938\n",
      "[55]\ttraining's auc: 0.730459\tvalid_1's auc: 0.585511\n",
      "[60]\ttraining's auc: 0.736785\tvalid_1's auc: 0.585928\n",
      "[65]\ttraining's auc: 0.74294\tvalid_1's auc: 0.584972\n",
      "[70]\ttraining's auc: 0.749212\tvalid_1's auc: 0.58452\n",
      "[75]\ttraining's auc: 0.755139\tvalid_1's auc: 0.583302\n",
      "Early stopping, best iteration is:\n",
      "[16]\ttraining's auc: 0.677109\tvalid_1's auc: 0.590927\n",
      "fold 5\n",
      "Training until validation scores don't improve for 60 rounds\n",
      "[5]\ttraining's auc: 0.656249\tvalid_1's auc: 0.574175\n",
      "[10]\ttraining's auc: 0.667352\tvalid_1's auc: 0.575008\n",
      "[15]\ttraining's auc: 0.672582\tvalid_1's auc: 0.57863\n",
      "[20]\ttraining's auc: 0.682779\tvalid_1's auc: 0.579997\n",
      "[25]\ttraining's auc: 0.692298\tvalid_1's auc: 0.581272\n",
      "[30]\ttraining's auc: 0.700107\tvalid_1's auc: 0.581841\n",
      "[35]\ttraining's auc: 0.705855\tvalid_1's auc: 0.581666\n",
      "[40]\ttraining's auc: 0.712385\tvalid_1's auc: 0.584722\n",
      "[45]\ttraining's auc: 0.719747\tvalid_1's auc: 0.58358\n",
      "[50]\ttraining's auc: 0.726518\tvalid_1's auc: 0.583019\n",
      "[55]\ttraining's auc: 0.733321\tvalid_1's auc: 0.582145\n",
      "[60]\ttraining's auc: 0.738848\tvalid_1's auc: 0.582486\n",
      "[65]\ttraining's auc: 0.744355\tvalid_1's auc: 0.582424\n",
      "[70]\ttraining's auc: 0.750527\tvalid_1's auc: 0.582246\n",
      "[75]\ttraining's auc: 0.756847\tvalid_1's auc: 0.582034\n",
      "[80]\ttraining's auc: 0.76206\tvalid_1's auc: 0.581833\n",
      "[85]\ttraining's auc: 0.767906\tvalid_1's auc: 0.580604\n",
      "[90]\ttraining's auc: 0.773143\tvalid_1's auc: 0.579732\n",
      "[95]\ttraining's auc: 0.777722\tvalid_1's auc: 0.580132\n",
      "[100]\ttraining's auc: 0.782511\tvalid_1's auc: 0.581153\n",
      "Did not meet early stopping. Best iteration is:\n",
      "[100]\ttraining's auc: 0.782511\tvalid_1's auc: 0.581153\n"
     ]
    }
   ],
   "source": [
    "import lightgbm as lgb\n",
    "\n",
    "num_round = 100\n",
    "temp = jg_sg_df3\n",
    "# col_feat = ['brand_transformed', 'sys_ver_edited_transformed', 'gender', 'birthyear']\n",
    "col_ans = 'pref'\n",
    "\n",
    "\n",
    "params = {'num_leaves': 60, #结果对最终效果影响较大，越大值越好，太大会出现过拟合\n",
    "          'min_data_in_leaf': 50,\n",
    "          'objective': 'binary', #定义的目标函数\n",
    "          'max_depth': -1,\n",
    "          'learning_rate': 0.03,\n",
    "          \"min_sum_hessian_in_leaf\": 6,\n",
    "          \"boosting\": \"gbdt\",\n",
    "          \"feature_fraction\": 0.9,\t#提取的特征比率\n",
    "          \"bagging_freq\": 1,\n",
    "          \"bagging_fraction\": 0.8,\n",
    "          \"bagging_seed\": 11,\n",
    "          \"lambda_l1\": 0.1, #l1正则\n",
    "          # 'lambda_l2': 0.001, #l2正则\n",
    "          \"verbosity\": -1,\n",
    "          \"nthread\": 3, #线程数量，-1表示全部线程，线程越多，运行的速度越快\n",
    "          'metric': {'auc'}, #评价函数选择\n",
    "          \"random_state\": 2019,\t#随机数种子，可以防止每次运行的结果不一致\n",
    "          # 'device': 'gpu' ##如果安装的事gpu版本的lightgbm,可以加快运算\n",
    "          }\n",
    "\n",
    "folds = KFold(n_splits=5, shuffle=True, random_state=2019)\n",
    "# prob_oof = np.zeros((train_x.shape[0], ))\n",
    "# test_pred_prob = np.zeros((test.shape[0], ))\n",
    "\n",
    "\n",
    "## train and predict\n",
    "feature_importance_df = pd.DataFrame()\n",
    "for fold_, (trn_idx, val_idx) in enumerate(folds.split(temp)):\n",
    "    print(\"fold {}\".format(fold_ + 1))\n",
    "    trn_data = lgb.Dataset(temp.iloc[trn_idx][col_feat], label=temp.iloc[trn_idx][col_ans])\n",
    "    val_data = lgb.Dataset(temp.iloc[val_idx][col_feat], label=temp.iloc[val_idx][col_ans])\n",
    "\n",
    "\n",
    "    clf = lgb.train(params,\n",
    "                    trn_data,\n",
    "                    num_round,\n",
    "                    valid_sets=[trn_data, val_data],\n",
    "                    verbose_eval=5,\n",
    "                    early_stopping_rounds=60)\n",
    "    #prob_oof[val_idx] = clf.predict(train_x.iloc[val_idx], num_iteration=clf.best_iteration)\n",
    "\n",
    "#     fold_importance_df = pd.DataFrame()\n",
    "#     fold_importance_df[\"Feature\"] = features\n",
    "#     fold_importance_df[\"importance\"] = clf.feature_importance()\n",
    "#     fold_importance_df[\"fold\"] = fold_ + 1\n",
    "#     feature_importance_df = pd.concat([feature_importance_df, fold_importance_df], axis=0)\n",
    "\n",
    "    #test_pred_prob += clf.predict(test[features], num_iteration=clf.best_iteration) / folds.n_splits\n",
    "\n",
    "# threshold = 0.5\n",
    "# for pred in test_pred_prob:\n",
    "#     result = 1 if pred > threshold else 0\n",
    "    \n",
    "    "
   ]
  },
  {
   "cell_type": "code",
   "execution_count": null,
   "metadata": {},
   "outputs": [],
   "source": []
  }
 ],
 "metadata": {
  "kernelspec": {
   "display_name": "Python 3",
   "language": "python",
   "name": "python3"
  },
  "language_info": {
   "codemirror_mode": {
    "name": "ipython",
    "version": 3
   },
   "file_extension": ".py",
   "mimetype": "text/x-python",
   "name": "python",
   "nbconvert_exporter": "python",
   "pygments_lexer": "ipython3",
   "version": "3.6.10"
  }
 },
 "nbformat": 4,
 "nbformat_minor": 4
}
