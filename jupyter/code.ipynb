{
 "cells": [
  {
   "cell_type": "markdown",
   "metadata": {},
   "source": [
    "### 基于快排的topK问题模版"
   ]
  },
  {
   "cell_type": "code",
   "execution_count": 1,
   "metadata": {},
   "outputs": [
    {
     "name": "stdout",
     "output_type": "stream",
     "text": [
      "===快排===\n",
      "[0, 1, 2, 2, 3]\n",
      "===获得前k小的数,k=2===\n",
      "[-19, 0]\n",
      "[-19, 0, 1, 3, 2, 3]\n",
      "===获得第k小的数,k=3===\n",
      "1\n",
      "[-19, 0, 1, 3, 2, 3]\n",
      "===获得前k大的数,k=3===\n",
      "[1, 3, 3]\n",
      "[-19, 0, -2, 1, 3, 3]\n",
      "===获得第k大的数,k=3===\n",
      "1\n",
      "[-19, 0, -2, 1, 3, 3]\n",
      "===只排序前k个小的数,k=4===\n",
      "[0, 0, 0, 1, 3, 4, 5, 7, 6, 7]\n",
      "===只排序后k个大的数,k=4===\n",
      "[-7, 0, 0, 1, 0, 3, 4, 5, 6, 7]\n"
     ]
    }
   ],
   "source": [
    "def partition(nums, left, right):\n",
    "    pivot = nums[left]#初始化一个待比较数据\n",
    "    i,j = left, right\n",
    "    while(i < j):\n",
    "        while(i<j and nums[j]>=pivot): #从后往前查找，直到找到一个比pivot更小的数\n",
    "            j-=1\n",
    "        nums[i] = nums[j] #将更小的数放入左边\n",
    "        while(i<j and nums[i]<=pivot): #从前往后找，直到找到一个比pivot更大的数\n",
    "            i+=1\n",
    "        nums[j] = nums[i] #将更大的数放入右边\n",
    "    #循环结束，i与j相等\n",
    "    nums[i] = pivot #待比较数据放入最终位置 \n",
    "    return i #返回待比较数据最终位置\n",
    "\n",
    "#快速排序\n",
    "def quicksort(nums, left, right):\n",
    "    if left < right:\n",
    "        index = partition(nums, left, right)\n",
    "        quicksort(nums, left, index-1)\n",
    "        quicksort(nums, index+1, right)\n",
    "        \n",
    "print('===快排===')\n",
    "arr = [1,3,2,2,0]\n",
    "quicksort(arr, 0, len(arr)-1)\n",
    "print(arr) \n",
    "\n",
    "\n",
    "def topk_split(nums, k, left, right):\n",
    "    # 寻找下标为k的位置，找到之后停止递归，下标k实际是确定了第k+1个位置，因为下标从0开始（如k=2,找前2个小的数，那么相当于确定了第2+1个数的位置，返回nums[:k]即可）\n",
    "    #寻找到下标k的位置停止递归，使得nums数组中下标k左边是前k个小的数，index右边是后面n-k-1个大的数,k为第k+1小数字\n",
    "    if (left<right):\n",
    "        index = partition(nums, left, right)\n",
    "        if index==k:\n",
    "            return \n",
    "        elif index < k:\n",
    "            topk_split(nums, k, index+1, right)\n",
    "        else:\n",
    "            topk_split(nums, k, left, index-1)\n",
    "            \n",
    "#获得前k小的数\n",
    "def topk_smalls(nums, k):\n",
    "    topk_split(nums, k, 0, len(nums)-1)\n",
    "    return nums[:k]\n",
    "print('===获得前k小的数,k=2===')\n",
    "arr = [1,3,2,3,0,-19]\n",
    "k = 2\n",
    "print(topk_smalls(arr, k))\n",
    "print(arr)\n",
    "\n",
    "\n",
    "#获得第k小的数\n",
    "def topk_small(nums, k):\n",
    "    topk_split(nums, k, 0, len(nums)-1)\n",
    "    return nums[k] \n",
    "\n",
    "print('===获得第k小的数,k=3===')\n",
    "arr = [1,3,2,3,0,-19]\n",
    "k = 3\n",
    "print(topk_small(arr, k-1))\n",
    "print(arr)\n",
    "\n",
    "\n",
    "#获得前k大的数 \n",
    "def topk_larges(nums, k):\n",
    "    #parttion是按从小到大划分的，如果让index左边为前n-k个小的数，则index右边为前k个大的数\n",
    "    topk_split(nums, len(nums)-k, 0, len(nums)-1) #把k换成len(nums)-k\n",
    "    return nums[len(nums)-k:] \n",
    "\n",
    "print('===获得前k大的数,k=3===')\n",
    "arr = [1,3,-2,3,0,-19]\n",
    "k = 3\n",
    "print(topk_larges(arr, k))\n",
    "print(arr)\n",
    "\n",
    "#获得第k大的数 \n",
    "def topk_large(nums, k):\n",
    "    #parttion是按从小到大划分的，如果让index左边为前n-k个小的数，则index右边为前k个大的数\n",
    "    topk_split(nums, len(nums)-k, 0, len(nums)-1) #把k换成len(nums)-k\n",
    "    return nums[len(nums)-k] \n",
    "\n",
    "print('===获得第k大的数,k=3===')\n",
    "arr = [1,3,-2,3,0,-19]\n",
    "k = 3\n",
    "print(topk_large(arr, k))\n",
    "print(arr)\n",
    "\n",
    "#只排序前k个小的数\n",
    "#获得前k小的数O(n)，进行快排O(klogk)\n",
    "def topk_sort_left(nums, k):\n",
    "    topk_split(nums, k, 0, len(nums)-1) \n",
    "    topk = nums[:k]\n",
    "    quicksort(topk, 0, len(topk)-1)\n",
    "    return topk+nums[k:] #只排序前k个数字\n",
    "\n",
    "print('===只排序前k个小的数,k=4===')\n",
    "arr = [0,0,1,3,4,5,0,7,6,7]\n",
    "k = 4\n",
    "print(topk_sort_left(arr, k))\n",
    "\n",
    "#只排序后k个大的数\n",
    "#获得前n-k小的数O(n)，进行快排O(klogk)\n",
    "def topk_sort_right(nums, k):\n",
    "    topk_split(nums, len(nums)-k, 0, len(nums)-1) \n",
    "    topk = nums[len(nums)-k:]\n",
    "    quicksort(topk, 0, len(topk)-1)\n",
    "    return nums[:len(nums)-k]+topk #只排序后k个数字\n",
    "\n",
    "print('===只排序后k个大的数,k=4===')\n",
    "arr = [0,0,1,3,4,5,0,-7,6,7]\n",
    "k = 4\n",
    "print(topk_sort_right(arr, k))\n"
   ]
  },
  {
   "cell_type": "markdown",
   "metadata": {},
   "source": [
    "#### 215 数组中的第K个最大元素"
   ]
  },
  {
   "cell_type": "code",
   "execution_count": null,
   "metadata": {},
   "outputs": [],
   "source": [
    "import random\n",
    "def findKthLargest(self, nums: List[int], k: int) -> int:\n",
    "    def partition(nums,left,right):\n",
    "        pivot = nums[left]\n",
    "        l,r = left,right \n",
    "        while l<r:\n",
    "            while l<r and nums[r]>=pivot:\n",
    "                r-=1\n",
    "            nums[l]=nums[r]\n",
    "            while l<r and nums[l]<=pivot:\n",
    "                l+=1\n",
    "            nums[r] = nums[l]\n",
    "        nums[l] = pivot\n",
    "        return l \n",
    "    def randomchoice(nums,left,right): # 渐进O(n)\n",
    "        ridx = random.randint(left,right)\n",
    "        nums[left],nums[ridx] = nums[ridx],nums[left]\n",
    "        return partition(nums,left,right)\n",
    "    def topk_split(nums,left,right,k):\n",
    "        if left<right:\n",
    "            # idx = partition(nums,left,right)\n",
    "            idx = randomchoice(nums,left,right)\n",
    "            if idx==k:\n",
    "                return \n",
    "            elif idx<k:\n",
    "                topk_split(nums,idx+1,right,k)\n",
    "            else:\n",
    "                topk_split(nums,left,idx-1,k)\n",
    "    topk_split(nums,0,len(nums)-1,len(nums)-k)\n",
    "    print(nums[len(nums)-k])\n",
    "    return nums[len(nums)-k]"
   ]
  },
  {
   "cell_type": "markdown",
   "metadata": {},
   "source": [
    "### 二分搜索问题模板"
   ]
  },
  {
   "cell_type": "code",
   "execution_count": null,
   "metadata": {},
   "outputs": [],
   "source": [
    "# 数组非递减有序排列\n",
    "\n",
    "# 找目标值下标\n",
    "def findtarget(nums,target):\n",
    "    l,r = 0,len(nums)-1\n",
    "    while l<=r:\n",
    "        mid = l+(r-l)//2\n",
    "        if nums[mid]>target:\n",
    "            r = mid-1\n",
    "        elif nums[mid]<target:\n",
    "            l = mid+1\n",
    "        elif nums[mid]==target:\n",
    "            return mid\n",
    "    return -1\n",
    "\n",
    "# 找目标值左边界\n",
    "def findl(nums,target):\n",
    "    l,r = 0,len(nums)-1\n",
    "    while l<=r:\n",
    "        mid = l+(r-l)//2\n",
    "        if nums[mid]>target:\n",
    "            r = mid-1\n",
    "        elif nums[mid]<target:\n",
    "            l = mid+1\n",
    "        elif nums[mid]==target: # 找左，收缩右边界\n",
    "            r = mid -1\n",
    "    if l>=len(nums) or nums[l]!=target: # 找左，判断左是否在最右边越界\n",
    "        return -1\n",
    "    return l \n",
    "\n",
    "# 找目标值右边界\n",
    "def findr(nums,target):\n",
    "    l,r = 0,len(nums)-1\n",
    "    while l<=r:\n",
    "        mid = l+(r-l)//2\n",
    "        if nums[mid]>target:\n",
    "            r = mid-1\n",
    "        elif nums[mid]<target:\n",
    "            l = mid+1\n",
    "        elif nums[mid]==target: # 找右，收缩左边界\n",
    "            l = mid +1\n",
    "    if r<0 or nums[r]!=target:  # 找右，判断右是否在最左边越界\n",
    "        return -1\n",
    "    return r "
   ]
  },
  {
   "cell_type": "markdown",
   "metadata": {},
   "source": [
    "#### 34 在排序数组中查找元素的第一个和最后一个位置"
   ]
  },
  {
   "cell_type": "code",
   "execution_count": null,
   "metadata": {},
   "outputs": [],
   "source": [
    "class Solution:\n",
    "    def searchRange(self, nums: List[int], target: int) -> List[int]:\n",
    "        def findl(nums,target):\n",
    "            l,r = 0,len(nums)-1\n",
    "            while l<=r:\n",
    "                mid = l+(r-l)//2\n",
    "                if nums[mid]>target:\n",
    "                    r = mid-1\n",
    "                elif nums[mid]<target:\n",
    "                    l = mid+1\n",
    "                elif nums[mid]==target:\n",
    "                    r = mid -1\n",
    "            if l>=len(nums) or nums[l]!=target:\n",
    "                return -1\n",
    "            return l \n",
    "        def findr(nums,target):\n",
    "            l,r = 0,len(nums)-1\n",
    "            while l<=r:\n",
    "                mid = l+(r-l)//2\n",
    "                if nums[mid]>target:\n",
    "                    r = mid-1\n",
    "                elif nums[mid]<target:\n",
    "                    l = mid+1\n",
    "                elif nums[mid]==target:\n",
    "                    l = mid +1\n",
    "            if r<0 or nums[r]!=target:\n",
    "                return -1\n",
    "            return r \n",
    "        return [findl(nums,target),findr(nums,target)]"
   ]
  },
  {
   "cell_type": "markdown",
   "metadata": {},
   "source": [
    "### 动态规划"
   ]
  },
  {
   "cell_type": "markdown",
   "metadata": {},
   "source": [
    "#### 300 最长递增子序列"
   ]
  },
  {
   "cell_type": "code",
   "execution_count": null,
   "metadata": {},
   "outputs": [],
   "source": [
    "class Solution:\n",
    "    def lengthOfLIS(self, nums: List[int]) -> int:\n",
    "        # dp[i]表示以nums[i]这个数字结尾的最长递增子序列的长度\n",
    "        # dp[3]如何由前面得到，既然递增子序列，只需找到前面比nums[3]小的数，在其dp长度上+1即可\n",
    "        # 由于比dp[i]小的数可能有多个，所以遍历取数值最大的即为dp[i]\n",
    "        dp = [1]*len(nums)\n",
    "        for i in range(len(nums)):\n",
    "            for j in range(i):  # 遍历\n",
    "                if nums[i]>nums[j]: # 比当前位置小的数\n",
    "                # 如果求非递减子序列，nums[i]>=nums[j]，加个等号即可\n",
    "                    dp[i] = max(dp[i],dp[j]+1)\n",
    "        return max(dp)"
   ]
  },
  {
   "cell_type": "markdown",
   "metadata": {},
   "source": [
    "#### 53 最大子序和（最大子数组和）"
   ]
  },
  {
   "cell_type": "code",
   "execution_count": null,
   "metadata": {},
   "outputs": [],
   "source": [
    "class Solution:\n",
    "    def maxSubArray(self, nums: List[int]) -> int:\n",
    "        # dp: 以nums[i]为结尾的最大子数组和为dp[i]\n",
    "        # dp[i-1]到dp[i]: dp[i]=max(nums[i],dp[i-1]+nums[i])\n",
    "        n = len(nums)\n",
    "        if n==0:return 0\n",
    "        dp=[0]*n # 第一个元素前没元素，dp[0]=nums[0]\n",
    "        dp[0] = nums[0]\n",
    "        for i in range(1,n):\n",
    "            dp[i] = max(nums[i],nums[i]+dp[i-1])\n",
    "        return max(dp)"
   ]
  },
  {
   "cell_type": "markdown",
   "metadata": {},
   "source": [
    "#### 1143 最长公共子序列"
   ]
  },
  {
   "cell_type": "code",
   "execution_count": 2,
   "metadata": {},
   "outputs": [
    {
     "data": {
      "text/plain": [
       "3"
      ]
     },
     "execution_count": 2,
     "metadata": {},
     "output_type": "execute_result"
    }
   ],
   "source": [
    "# 设字符串 text1,text2 的长度分别为 m+1行和 n+1列二维dp数组，dp[i][j]表示text1[0:i],text2[0:j]的最长公共子序列的长度。\n",
    "\n",
    "\n",
    "def longestCommonSubsequence(text1: str, text2: str) -> int:\n",
    "    m, n = len(text1), len(text2)\n",
    "    dp = [[0 for i in  range(n + 1)] for j in range(m + 1)]\n",
    "    \n",
    "    for i in range(1, m + 1):\n",
    "        for j in range(1, n + 1):\n",
    "            if text1[i - 1] == text2[j - 1]:\n",
    "                dp[i][j] = dp[i - 1][j - 1] + 1\n",
    "            else:\n",
    "                dp[i][j] = max(dp[i - 1][j], dp[i][j - 1])\n",
    "    \n",
    "    return dp[m][n]\n",
    "s1 =\"abcde\"\n",
    "s2 = \"ace\"\n",
    "longestCommonSubsequence(s1,s2)"
   ]
  },
  {
   "cell_type": "markdown",
   "metadata": {},
   "source": [
    "#### 最长公共子串"
   ]
  },
  {
   "cell_type": "code",
   "execution_count": 3,
   "metadata": {},
   "outputs": [
    {
     "name": "stdout",
     "output_type": "stream",
     "text": [
      "([[0, 0, 0, 0, 0, 0], [0, 1, 0, 0, 0, 0], [0, 0, 2, 0, 0, 0], [0, 0, 0, 0, 0, 0], [0, 0, 0, 1, 0, 0], [0, 0, 0, 0, 2, 0], [0, 0, 0, 0, 0, 3]], 'dfg', 3)\n"
     ]
    }
   ],
   "source": [
    "def find_lcsubstr(s1, s2):   \n",
    "    m=[[0 for i in range(len(s2)+1)]  for j in range(len(s1)+1)]  #生成0矩阵，为方便后续计算，比字符串长度多了一列  \n",
    "    mmax=0   #最长匹配的长度  \n",
    "    p=0  #最长匹配对应在s1中的最后一位  \n",
    "    for i in range(len(s1)):   # 和子序列不同，这是从初始0下标开始，如果字符相等就更新斜对角下一个位置最大值长度\n",
    "        for j in range(len(s2)):  \n",
    "            if s1[i]==s2[j]:  \n",
    "                m[i+1][j+1]=m[i][j]+1  \n",
    "                if m[i+1][j+1]>mmax:  # 匹配到连续的最大长度就更新最大值记录变量\n",
    "                    mmax=m[i+1][j+1]  \n",
    "                    p=i+1   # 最大长度所在下标1，因为[:p]取不到p\n",
    "    return m,s1[p-mmax:p],mmax   #返回最长子串及其长度  \n",
    "\n",
    "print(find_lcsubstr('abcdfg','abdfg'))"
   ]
  },
  {
   "cell_type": "markdown",
   "metadata": {},
   "source": [
    "#### 72 编辑距离"
   ]
  },
  {
   "cell_type": "code",
   "execution_count": null,
   "metadata": {},
   "outputs": [],
   "source": [
    "def minDistance(self, word1: str, word2: str) -> int:\n",
    "    m,n = len(word1),len(word2)\n",
    "    dp=[[0 for i in range(n+1)]for j in range(m+1)]\n",
    "    for i in range(1,m+1):\n",
    "        dp[i][0]=i \n",
    "    for j in range(1,n+1):\n",
    "        dp[0][j]=j \n",
    "    for i in range(1,m+1):\n",
    "        for j in range(1,n+1):\n",
    "            if word1[i-1]==word2[j-1]:\n",
    "                dp[i][j] = dp[i-1][j-1] # 相等不用加操作\n",
    "            else:\n",
    "                dp[i][j] = min(dp[i-1][j]+1,dp[i][j-1]+1,dp[i-1][j-1]+1) # 不相等则需要增删插入，多一次操作\n",
    "    return dp[m][n]"
   ]
  },
  {
   "cell_type": "markdown",
   "metadata": {},
   "source": [
    "#### 516 最长回文子序列\n"
   ]
  },
  {
   "cell_type": "code",
   "execution_count": null,
   "metadata": {},
   "outputs": [],
   "source": [
    "def longestPalindromeSubseq(self, s: str) -> int:\n",
    "    \"\"\"\n",
    "    dp[i][j] 表示s[i:j]的最长回文子序列距离\n",
    "    base:\n",
    "    i>j的话 dp[i][j]=0   即左下三角为0\n",
    "    i=j的话 dp[i][j]=1   即对角线为1\n",
    "    要想求dp[i][j],那么首先得知道比他小一个字符距离的最长序列多少,即dp[i+1][j-1](中心向外扩展的，即i+1-1,j-1+1),如果新扩展的俩字符相等，\n",
    "    那么直接加2，如果不相等，那就看单边，只往左移i,或者往右边移动j的那个dp位置，谁的值大就是谁\n",
    "\n",
    "    \"\"\"\n",
    "    n = len(s)\n",
    "    dp=[[0 for i in range(n)]for j in range(n)]\n",
    "    for i in range(n):\n",
    "        dp[i][i]=1\n",
    "    for i in range(n-2,-1,-1):\n",
    "        for j in range(i+1,n):\n",
    "            if s[i]==s[j]:\n",
    "                dp[i][j]=dp[i+1][j-1]+2\n",
    "            else:\n",
    "                dp[i][j] = max(dp[i][j-1],dp[i+1][j])\n",
    "    return dp[0][n-1]"
   ]
  },
  {
   "cell_type": "markdown",
   "metadata": {},
   "source": [
    "### 回文子串问题"
   ]
  },
  {
   "cell_type": "markdown",
   "metadata": {},
   "source": [
    "#### 5 最长回文子串"
   ]
  },
  {
   "cell_type": "code",
   "execution_count": null,
   "metadata": {},
   "outputs": [],
   "source": [
    "def longestPalindrome(self, s: str) -> str:\n",
    "    \"\"\"\n",
    "    从中间扩散到两边判断回文串\n",
    "    遍历0～n-1,判断以s[i]为中心的回文、判断以s[i]和s[i+1]为中心的回文，\n",
    "    小心s[i+1]越界\n",
    "    \"\"\"\n",
    "    def palindorme(s,l,r):\n",
    "        while l>=0 and r<len(s) and s[l]==s[r]:\n",
    "            l-=1\n",
    "            r+=1\n",
    "        return s[l+1:r]\n",
    "    \n",
    "    res = ''\n",
    "    for i in range(len(s)):\n",
    "        s1 = palindorme(s,i,i)\n",
    "        s2 = palindorme(s,i,i+1)\n",
    "        res = res if len(s1)<len(res) else s1 \n",
    "        res = res if len(s2)<len(res) else s2 \n",
    "    return res"
   ]
  },
  {
   "cell_type": "markdown",
   "metadata": {},
   "source": [
    "#### 647 回文子串"
   ]
  },
  {
   "cell_type": "code",
   "execution_count": null,
   "metadata": {},
   "outputs": [],
   "source": [
    "def countSubstrings(self, s: str) -> int:\n",
    "    \"\"\"\n",
    "    统计回文子串数量，\n",
    "    具有不同开始位置或结束位置的子串，即使是由相同的字符组成，也会被视作不同的子串，\n",
    "    在判断回文函数里记录回文数量即可\n",
    "    \"\"\"\n",
    "    def palindorme(s,l,r):\n",
    "        res = 0\n",
    "        while l>=0 and r<len(s) and s[l]==s[r]:\n",
    "            l-=1\n",
    "            r+=1\n",
    "            res+=1\n",
    "        return res\n",
    "    \n",
    "    result = 0\n",
    "    for i in range(len(s)):\n",
    "        result += palindorme(s,i,i)\n",
    "        result += palindorme(s,i,i+1)\n",
    "    print(result)\n",
    "    return result"
   ]
  },
  {
   "cell_type": "markdown",
   "metadata": {},
   "source": [
    "### 链表问题总结"
   ]
  },
  {
   "cell_type": "markdown",
   "metadata": {},
   "source": [
    "#### 链表初始化"
   ]
  },
  {
   "cell_type": "code",
   "execution_count": 2,
   "metadata": {},
   "outputs": [
    {
     "name": "stdout",
     "output_type": "stream",
     "text": [
      "1\n",
      "2\n",
      "4\n",
      "8\n"
     ]
    }
   ],
   "source": [
    "class LinkNode(object):\n",
    "    def __init__(self,x):\n",
    "        self.val = x\n",
    "        self.next = None\n",
    "class LinkList(object):\n",
    "    def __init__(self):\n",
    "        self.head = None\n",
    "    def create(self,data):\n",
    "        self.head = LinkNode(data[0])\n",
    "        p = self.head\n",
    "        q = self.head\n",
    "        for i in range(1,len(data)):\n",
    "            q.next = LinkNode(data[i])\n",
    "            q = q.next\n",
    "        return p\n",
    "    def printf(self):\n",
    "        head = self.head\n",
    "        while head!=None:\n",
    "            print(head.val)\n",
    "            head = head.next\n",
    "# init\n",
    "data = [1,2,4,8]\n",
    "l1 = LinkList()\n",
    "l1.create(data)\n",
    "l1.printf()"
   ]
  },
  {
   "cell_type": "markdown",
   "metadata": {},
   "source": [
    "#### 找到倒数第k个节点"
   ]
  },
  {
   "cell_type": "code",
   "execution_count": null,
   "metadata": {},
   "outputs": [],
   "source": [
    "# 倒数第k个节点\n",
    "fast = l1.head\n",
    "slow = l1.head\n",
    "k=1\n",
    "while k>0:\n",
    "    k-=1\n",
    "    fast = fast.next\n",
    "while fast!=None:\n",
    "    fast = fast.next\n",
    "    slow = slow.next\n",
    "print(slow.val)"
   ]
  },
  {
   "cell_type": "markdown",
   "metadata": {},
   "source": [
    "#### 删除链表倒数第n个节点"
   ]
  },
  {
   "cell_type": "code",
   "execution_count": 25,
   "metadata": {},
   "outputs": [
    {
     "name": "stdout",
     "output_type": "stream",
     "text": [
      "1\n",
      "2\n",
      "4\n",
      "8\n",
      "1\n",
      "2\n",
      "8\n"
     ]
    }
   ],
   "source": [
    "def removeNthFromEnd(head, n):\n",
    "    dummy = LinkNode(-1)\n",
    "    dummy.next = head\n",
    "    fast = dummy\n",
    "    slow = dummy\n",
    "    while n:\n",
    "        fast = fast.next \n",
    "        n-=1\n",
    "    while fast.next:\n",
    "        fast=fast.next\n",
    "        slow=slow.next\n",
    "    slow.next = slow.next.next\n",
    "    return dummy.next\n",
    "\n",
    "data = [1,2,4,8]\n",
    "l1 = LinkList()\n",
    "l1.create(data)\n",
    "l1.printf()\n",
    "rl1 = removeNthFromEnd(l1.head,2)\n",
    "\n",
    "while rl1:\n",
    "    print(rl1.val)\n",
    "    rl1 =rl1.next"
   ]
  },
  {
   "cell_type": "markdown",
   "metadata": {},
   "source": [
    "#### 链表中点"
   ]
  },
  {
   "cell_type": "code",
   "execution_count": 3,
   "metadata": {},
   "outputs": [
    {
     "name": "stdout",
     "output_type": "stream",
     "text": [
      "4\n"
     ]
    }
   ],
   "source": [
    "# 中点\n",
    "# 奇数为正中间，偶数中间偏右\n",
    "fast = l1.head\n",
    "slow = l1.head\n",
    "while fast !=None and fast.next!= None:\n",
    "    fast = fast.next.next\n",
    "    slow = slow.next\n",
    "print(slow.val)"
   ]
  },
  {
   "cell_type": "markdown",
   "metadata": {},
   "source": [
    "#### 反转链表"
   ]
  },
  {
   "cell_type": "code",
   "execution_count": 4,
   "metadata": {},
   "outputs": [
    {
     "name": "stdout",
     "output_type": "stream",
     "text": [
      "8\n",
      "4\n",
      "2\n",
      "1\n"
     ]
    }
   ],
   "source": [
    "# 反转\n",
    "pre = None\n",
    "head = l1.head\n",
    "while head !=None:\n",
    "    tmp = head.next\n",
    "    head.next = pre\n",
    "    pre = head\n",
    "    head = tmp\n",
    "while pre!=None:\n",
    "    print(pre.val)\n",
    "    pre = pre.next"
   ]
  },
  {
   "cell_type": "markdown",
   "metadata": {},
   "source": [
    "#### 链表是否有环"
   ]
  },
  {
   "cell_type": "code",
   "execution_count": 5,
   "metadata": {},
   "outputs": [
    {
     "name": "stdout",
     "output_type": "stream",
     "text": [
      "1\n",
      "0\n"
     ]
    }
   ],
   "source": [
    "# 初始环\n",
    "n1 = LinkNode(8)\n",
    "n2 = LinkNode(7)\n",
    "n3 = LinkNode(0)\n",
    "n4 = LinkNode(3)\n",
    "n1.next = n2\n",
    "n2.next = n3\n",
    "n3.next = n4\n",
    "n4.next = n3\n",
    "\n",
    "# 有环?\n",
    "slow = n1\n",
    "fast = n1\n",
    "while slow!=None and fast.next!=None:\n",
    "    slow = slow.next\n",
    "    fast = fast.next.next\n",
    "    if slow == fast:\n",
    "        print(1)\n",
    "        break\n",
    "print(0)\n"
   ]
  },
  {
   "cell_type": "markdown",
   "metadata": {},
   "source": [
    "#### 链表环起点"
   ]
  },
  {
   "cell_type": "code",
   "execution_count": 6,
   "metadata": {},
   "outputs": [
    {
     "name": "stdout",
     "output_type": "stream",
     "text": [
      "0\n"
     ]
    }
   ],
   "source": [
    "# 环起点\n",
    "slow = n1\n",
    "fast = n1\n",
    "while slow !=None and fast.next !=None:\n",
    "    slow = slow.next\n",
    "    fast = fast.next.next\n",
    "    if slow == fast:\n",
    "        fast = n1\n",
    "        break\n",
    "while slow!=fast:\n",
    "    slow = slow.next\n",
    "    fast = fast.next\n",
    "print(slow.val)"
   ]
  },
  {
   "cell_type": "markdown",
   "metadata": {},
   "source": [
    "#### k个一组反转链表"
   ]
  },
  {
   "cell_type": "code",
   "execution_count": 13,
   "metadata": {},
   "outputs": [
    {
     "name": "stdout",
     "output_type": "stream",
     "text": [
      "1\n",
      "3\n",
      "2\n",
      "6\n",
      "3\n",
      "1\n",
      "6\n",
      "2\n"
     ]
    }
   ],
   "source": [
    "a =[1,3,2,6]\n",
    "obj = LinkList()\n",
    "obj.create(a)\n",
    "obj.printf()\n",
    "\n",
    "class solution:\n",
    "    def reverse(self,head,tail):\n",
    "        pre = None\n",
    "        cur = head\n",
    "        while pre!=tail:\n",
    "            nxt = cur.next\n",
    "            cur.next = pre\n",
    "            pre = cur\n",
    "            cur = nxt\n",
    "        return tail,head\n",
    "    def reverseKgroup(self,head,k):\n",
    "        hair = LinkNode(0)\n",
    "        hair.next = head\n",
    "        pre = hair\n",
    "        \n",
    "        while head:\n",
    "            tail = pre\n",
    "            for i in range(k):\n",
    "                tail = tail.next\n",
    "                if not tail:\n",
    "                    return hair.next\n",
    "            nxt = tail.next\n",
    "            head,tail = self.reverse(head,tail)\n",
    "            pre.next = head\n",
    "            tail.next = nxt\n",
    "            pre = tail\n",
    "            head = tail.next\n",
    "        return hair.next\n",
    "    \n",
    "s = solution()\n",
    "res = s.reverseKgroup(obj.head,2)\n",
    "        \n",
    "while res:\n",
    "    print(res.val)\n",
    "    res = res.next"
   ]
  },
  {
   "cell_type": "markdown",
   "metadata": {},
   "source": [
    "#### 指定m,n区间反转链表(92 反转链表 II)"
   ]
  },
  {
   "cell_type": "code",
   "execution_count": 28,
   "metadata": {},
   "outputs": [
    {
     "name": "stdout",
     "output_type": "stream",
     "text": [
      "1\n",
      "2\n",
      "3\n",
      "4\n",
      "5\n",
      "1\n",
      "4\n",
      "3\n",
      "2\n",
      "5\n"
     ]
    }
   ],
   "source": [
    "def reverseBetween(head, left: int, right: int):\n",
    "    dummy = LinkNode(-1)\n",
    "    dummy.next = head \n",
    "    p = dummy\n",
    "    for i in range(left-1):\n",
    "        p = p.next \n",
    "    # 反转指定区间\n",
    "    m = p.next\n",
    "    n = m.next \n",
    "    for i in range(right-left):\n",
    "        temp = n.next \n",
    "        n.next = m\n",
    "        m = n \n",
    "        n = temp \n",
    "    # 注意链接顺序\n",
    "    p.next.next = n \n",
    "    p.next = m \n",
    "    return dummy.next\n",
    "\n",
    "data = [1,2,3,4,5]\n",
    "l1 = LinkList()\n",
    "l1.create(data)\n",
    "l1.printf()\n",
    "\n",
    "rb_l1 = reverseBetween(l1.head,2,4)\n",
    "while rb_l1:\n",
    "    print(rb_l1.val)\n",
    "    rb_l1 =rb_l1.next"
   ]
  },
  {
   "cell_type": "markdown",
   "metadata": {},
   "source": [
    "### 滑动窗口模板\n",
    "#### 76 最小覆盖子串"
   ]
  },
  {
   "cell_type": "code",
   "execution_count": 5,
   "metadata": {},
   "outputs": [
    {
     "data": {
      "text/plain": [
       "'BANC'"
      ]
     },
     "execution_count": 5,
     "metadata": {},
     "output_type": "execute_result"
    }
   ],
   "source": [
    "\"\"\"\n",
    "输入：s = \"ADOBECODEBANC\", t = \"ABC\"\n",
    "输出：\"BANC\"\n",
    "\"\"\"\n",
    "def minWindow(s: str, t: str) -> str:\n",
    "    need,window = dict(),dict()\n",
    "    for i in t:\n",
    "        need[i] = 1 if i not in need else need[i]+1\n",
    "    l,r,valid = 0,0,0\n",
    "    start,lens = 0,float('inf')\n",
    "    while r<len(s):\n",
    "        c = s[r]\n",
    "        # 右移\n",
    "        r+=1\n",
    "        if need.get(c):\n",
    "            window[c] = 1 if c not in window else window[c]+1\n",
    "            if window[c]==need[c]:\n",
    "                valid+=1\n",
    "        while valid==len(need):\n",
    "            # 更新最小覆盖子串\n",
    "            if r-l<lens:\n",
    "                start = l \n",
    "                lens = r-l \n",
    "            move=s[l]\n",
    "            l+=1\n",
    "            if need.get(move):\n",
    "                if need[move]==window[move]:\n",
    "                    valid-=1\n",
    "                window[move]-=1\n",
    "    return \"\" if lens==float('inf') else s[start:start+lens]\n",
    "s = \"ADOBECODEBANC\"\n",
    "t = \"ABC\"\n",
    "minWindow(s,t)"
   ]
  },
  {
   "cell_type": "markdown",
   "metadata": {},
   "source": [
    "#### 567 字符串的排列"
   ]
  },
  {
   "cell_type": "code",
   "execution_count": 8,
   "metadata": {},
   "outputs": [
    {
     "data": {
      "text/plain": [
       "True"
      ]
     },
     "execution_count": 8,
     "metadata": {},
     "output_type": "execute_result"
    }
   ],
   "source": [
    "\"\"\"\n",
    "输入：s1 = \"ab\" s2 = \"eidbaooo\"\n",
    "输出：true\n",
    "解释：s2 包含 s1 的排列之一 (\"ba\").\n",
    "\"\"\"\n",
    "def checkInclusion( s1: str, s2: str) -> bool:\n",
    "    need,window = dict(),dict()\n",
    "    for c in s1:\n",
    "        need[c] = 1 if c not in need else need[c]+1\n",
    "    l,r = 0,0\n",
    "    valid = 0\n",
    "    while r<len(s2):\n",
    "        c = s2[r]\n",
    "        r+=1\n",
    "        if need.get(c):\n",
    "            window[c] = 1 if c not in window else window[c]+1\n",
    "            if need[c]==window[c]:\n",
    "                valid +=1\n",
    "        # 判断左侧窗口是否收敛\n",
    "        while r-l==len(s1):\n",
    "            # 判断是否找到了合法子串\n",
    "            if valid==len(need):\n",
    "                return True\n",
    "            move = s2[l]\n",
    "            l+=1\n",
    "            if need.get(move):\n",
    "                if need[move]==window[move]:\n",
    "                    valid-=1\n",
    "                window[move]-=1\n",
    "    return False\n",
    "s1 = \"ab\" \n",
    "s2 = \"eidbaooo\"\n",
    "checkInclusion(s1,s2)"
   ]
  },
  {
   "cell_type": "markdown",
   "metadata": {},
   "source": [
    "#### 438 找到所有字母异位词"
   ]
  },
  {
   "cell_type": "code",
   "execution_count": 10,
   "metadata": {},
   "outputs": [
    {
     "data": {
      "text/plain": [
       "[0, 6]"
      ]
     },
     "execution_count": 10,
     "metadata": {},
     "output_type": "execute_result"
    }
   ],
   "source": [
    "\"\"\"\n",
    "输入: s = \"cbaebabacd\", p = \"abc\"\n",
    "输出: [0,6]\n",
    "解释:\n",
    "起始索引等于 0 的子串是 \"cba\", 它是 \"abc\" 的异位词。\n",
    "起始索引等于 6 的子串是 \"bac\", 它是 \"abc\" 的异位词。\n",
    "\n",
    "\"\"\"\n",
    "# 在上一个的基础上把左边界纪录下就可\n",
    "def findAnagrams(s: str, p: str):\n",
    "    need,window = dict(),dict()\n",
    "    for c in p:\n",
    "        need[c] = 1 if c not in need else need[c]+1\n",
    "    l,r = 0,0\n",
    "    valid = 0\n",
    "    res = []\n",
    "    while r<len(s):\n",
    "        c = s[r]\n",
    "        r+=1\n",
    "        if need.get(c):\n",
    "            window[c]=1 if c not in window else window[c]+1\n",
    "            if need[c]==window[c]:\n",
    "                valid+=1\n",
    "        while r-l==len(p):\n",
    "            if valid==len(need):\n",
    "                res.append(l)\n",
    "            move = s[l]\n",
    "            l+=1\n",
    "            if need.get(move):\n",
    "                if need[move]==window[move]:\n",
    "                    valid-=1\n",
    "                window[move]-=1\n",
    "    return res\n",
    "s = \"cbaebabacd\"\n",
    "p = \"abc\"\n",
    "findAnagrams(s,p)"
   ]
  },
  {
   "cell_type": "markdown",
   "metadata": {},
   "source": [
    "#### 3 无重复字符的最长子串"
   ]
  },
  {
   "cell_type": "code",
   "execution_count": 12,
   "metadata": {},
   "outputs": [
    {
     "data": {
      "text/plain": [
       "3"
      ]
     },
     "execution_count": 12,
     "metadata": {},
     "output_type": "execute_result"
    }
   ],
   "source": [
    "\"\"\"\n",
    "输入: s = \"abcabcbb\"\n",
    "输出: 3 \n",
    "解释: 因为无重复字符的最长子串是 \"abc\"，所以其长度为 3。\n",
    "\n",
    "\"\"\"\n",
    "\n",
    "def lengthOfLongestSubstring( s: str) -> int:\n",
    "    window = dict()\n",
    "    l,r = 0,0\n",
    "    res = 0\n",
    "    while r<len(s):\n",
    "        c = s[r]\n",
    "        r+=1\n",
    "        window[c] = 1 if c not in window else window[c]+1\n",
    "        # 只要窗口里有字符数量>1就缩左1位\n",
    "        while window[c]>1:\n",
    "            m = s[l]\n",
    "            l+=1\n",
    "            window[m]-=1\n",
    "        # 更新\n",
    "        res = max(res,r-l)\n",
    "    return res\n",
    "s = \"abcabcbb\"\n",
    "lengthOfLongestSubstring(s)"
   ]
  },
  {
   "cell_type": "code",
   "execution_count": null,
   "metadata": {},
   "outputs": [],
   "source": []
  }
 ],
 "metadata": {
  "kernelspec": {
   "display_name": "Python 3.8.3 ('base')",
   "language": "python",
   "name": "python3"
  },
  "language_info": {
   "codemirror_mode": {
    "name": "ipython",
    "version": 3
   },
   "file_extension": ".py",
   "mimetype": "text/x-python",
   "name": "python",
   "nbconvert_exporter": "python",
   "pygments_lexer": "ipython3",
   "version": "3.8.3"
  },
  "orig_nbformat": 4,
  "vscode": {
   "interpreter": {
    "hash": "ffcde2d150310b1e1807dcd4cef0eee1065874d43f0e760c11aa9d0ad7dd1536"
   }
  }
 },
 "nbformat": 4,
 "nbformat_minor": 2
}
